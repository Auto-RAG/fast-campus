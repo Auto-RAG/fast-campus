{
 "cells": [
  {
   "metadata": {},
   "cell_type": "markdown",
   "source": "# RAG 기본 청킹 방법 실습",
   "id": "3e95515b76ff06d7"
  },
  {
   "metadata": {},
   "cell_type": "markdown",
   "source": "## 0. Basic Setting",
   "id": "6dd0f4f83d2f4e2b"
  },
  {
   "metadata": {
    "ExecuteTime": {
     "end_time": "2024-12-21T08:13:16.625008Z",
     "start_time": "2024-12-21T08:13:16.621519Z"
    }
   },
   "cell_type": "code",
   "source": [
    "import os\n",
    "\n",
    "current_dir = os.getcwd()\n",
    "root_dir = os.path.join(current_dir, '..', '..')"
   ],
   "id": "41e0781ba086be8f",
   "outputs": [],
   "execution_count": 18
  },
  {
   "metadata": {
    "ExecuteTime": {
     "end_time": "2024-12-21T08:13:16.964638Z",
     "start_time": "2024-12-21T08:13:16.946198Z"
    }
   },
   "cell_type": "code",
   "source": [
    "import nest_asyncio\n",
    "\n",
    "nest_asyncio.apply()"
   ],
   "id": "faf7067a637b4041",
   "outputs": [],
   "execution_count": 19
  },
  {
   "metadata": {
    "ExecuteTime": {
     "end_time": "2024-12-21T08:13:17.409891Z",
     "start_time": "2024-12-21T08:13:17.400462Z"
    }
   },
   "cell_type": "code",
   "source": [
    "import pandas as pd\n",
    "\n",
    "parsed_path = os.path.join(root_dir, 'autorag_project', 'parse', 'hybrid', 'parsed_result.parquet')\n",
    "parsed_result = pd.read_parquet(parsed_path)\n",
    "parsed_result"
   ],
   "id": "fb94477a1bd60f50",
   "outputs": [
    {
     "data": {
      "text/plain": [
       "                                                texts  \\\n",
       "0   # 중소벤처기업부공고제2024–300호\\n\\n# 2024년 글로벌팁스(GlobalT...   \n",
       "1   # 서류및발표평가\\n\\n# 결과에최대 5점까지 가점부여\\n\\n|가점세부항목|점수|비...   \n",
       "2   # 6 유의사항\\n\\n◈창업지원사업에신청하는창업기업은관련법령에따라 다음사항에유의하여...   \n",
       "3   ◦ 선정자는 창업진흥원이 지정한 은행계좌(사업비계좌) 개설 및 창업 사업 통합 관리...   \n",
       "4   # 창업여부 기준표\\n\\n|신청기업구분|상세구분| |창업여부|\\n|---|---|-...   \n",
       "5   # 붙임2\\n\\n|지원|제외|대상|업종|\\n|---|---|---|---|\\n|▶ ...   \n",
       "6   # 붙임3\\n\\n# 동시수행불가한글로벌창업지원사업목록\\n\\n※’24년도중소벤처기업부...   \n",
       "7   # 붙임4\\n\\n# 신산업 창업 분야\\n\\n※「중소기업창업지원법」제25조4항에따라신...   \n",
       "8   # 붙임5\\n\\n# 소재·부품·장비 및 스타트업 10대 초격차분야\\n\\n☞ 품목별 ...   \n",
       "9   # 전략분야\\n\\n# 전략품목\\n\\n|수소저장·운반용복합소재|4DFMCW라이다신호처...   \n",
       "10  # 스타트업 10대 초격차 분야\\n\\n|10대분야|세부분류(예)|\\n|---|---...   \n",
       "11  # 지원내용\\n\\n□  협약기간: 협약시작일로부터 10개월 이내\\n\\n*사업기간은 ...   \n",
       "12  # 제출서류\\n\\n|제출서류|제출방법|유의사항|\\n|---|---|---|\\n|①사...   \n",
       "13  # 5 평가및선정\\n\\n□평가절차:총2단계평가(서류 + (현장실사))를통해최종선정 ...   \n",
       "14  # 최종선정:\\n\\n서류및발표평가결과에최종가점을합산하여지원대상자선정\\n\\n- 지원규...   \n",
       "15  * 합의 하에 공동 작성한 동일‧유사 사업계획서로 선정된 경우일지라도, 공동작성자\\...   \n",
       "16  【사업계획서 작성】\\n◦ 중장기 사업수행 계획은 총사업 기간(3년)에 맞추어 작성하...   \n",
       "17  □ 선정 후 유의사항\\n◦ 동 사업에 선정된 자가 공고문 및 관련 규정에 위배되거나...   \n",
       "18  붙임1 창업기업 확인에 관한 유의사항\\n□ 창업의 범위\\n◦ 다음의 요건을 모두 충...   \n",
       "19  2 신청자격 및 요건\\n□ 신청자격\\n◦ ｢중소기업기본법｣ 제2조제1항에 따른 중소...   \n",
       "20  □ 신청 제외 대상 (사업 신청‧접수 마감일 기준)\\n① 금융기관 등으로부터 채무불...   \n",
       "21  □ 의무 및 역할\\n◦ 선정자는「중소기업창업 지원사업 운영요령」 및 「창업사업화\\n...   \n",
       "22  4 신청 및 접수\\n□ 신청 ‧ 접수 기간\\n◦ 접수기간 : 2024. 5. 7.(...   \n",
       "\n",
       "                                                 path  page  \\\n",
       "0   /Users/kimbwook/PycharmProjects/fast-campus/no...     1   \n",
       "1   /Users/kimbwook/PycharmProjects/fast-campus/no...    10   \n",
       "2   /Users/kimbwook/PycharmProjects/fast-campus/no...    11   \n",
       "3   /Users/kimbwook/PycharmProjects/fast-campus/no...    15   \n",
       "4   /Users/kimbwook/PycharmProjects/fast-campus/no...    17   \n",
       "5   /Users/kimbwook/PycharmProjects/fast-campus/no...    18   \n",
       "6   /Users/kimbwook/PycharmProjects/fast-campus/no...    19   \n",
       "7   /Users/kimbwook/PycharmProjects/fast-campus/no...    20   \n",
       "8   /Users/kimbwook/PycharmProjects/fast-campus/no...    21   \n",
       "9   /Users/kimbwook/PycharmProjects/fast-campus/no...    22   \n",
       "10  /Users/kimbwook/PycharmProjects/fast-campus/no...    23   \n",
       "11  /Users/kimbwook/PycharmProjects/fast-campus/no...     5   \n",
       "12  /Users/kimbwook/PycharmProjects/fast-campus/no...     7   \n",
       "13  /Users/kimbwook/PycharmProjects/fast-campus/no...     8   \n",
       "14  /Users/kimbwook/PycharmProjects/fast-campus/no...     9   \n",
       "15  /Users/kimbwook/PycharmProjects/fast-campus/no...    12   \n",
       "16  /Users/kimbwook/PycharmProjects/fast-campus/no...    13   \n",
       "17  /Users/kimbwook/PycharmProjects/fast-campus/no...    14   \n",
       "18  /Users/kimbwook/PycharmProjects/fast-campus/no...    16   \n",
       "19  /Users/kimbwook/PycharmProjects/fast-campus/no...     2   \n",
       "20  /Users/kimbwook/PycharmProjects/fast-campus/no...     3   \n",
       "21  /Users/kimbwook/PycharmProjects/fast-campus/no...     4   \n",
       "22  /Users/kimbwook/PycharmProjects/fast-campus/no...     6   \n",
       "\n",
       "   last_modified_datetime  \n",
       "0              2024-12-11  \n",
       "1              2024-12-11  \n",
       "2              2024-12-11  \n",
       "3              2024-12-11  \n",
       "4              2024-12-11  \n",
       "5              2024-12-11  \n",
       "6              2024-12-11  \n",
       "7              2024-12-11  \n",
       "8              2024-12-11  \n",
       "9              2024-12-11  \n",
       "10             2024-12-11  \n",
       "11             2024-12-11  \n",
       "12             2024-12-11  \n",
       "13             2024-12-11  \n",
       "14             2024-12-11  \n",
       "15             2024-12-11  \n",
       "16             2024-12-11  \n",
       "17             2024-12-11  \n",
       "18             2024-12-11  \n",
       "19             2024-12-11  \n",
       "20             2024-12-11  \n",
       "21             2024-12-11  \n",
       "22             2024-12-11  "
      ],
      "text/html": [
       "<div>\n",
       "<style scoped>\n",
       "    .dataframe tbody tr th:only-of-type {\n",
       "        vertical-align: middle;\n",
       "    }\n",
       "\n",
       "    .dataframe tbody tr th {\n",
       "        vertical-align: top;\n",
       "    }\n",
       "\n",
       "    .dataframe thead th {\n",
       "        text-align: right;\n",
       "    }\n",
       "</style>\n",
       "<table border=\"1\" class=\"dataframe\">\n",
       "  <thead>\n",
       "    <tr style=\"text-align: right;\">\n",
       "      <th></th>\n",
       "      <th>texts</th>\n",
       "      <th>path</th>\n",
       "      <th>page</th>\n",
       "      <th>last_modified_datetime</th>\n",
       "    </tr>\n",
       "  </thead>\n",
       "  <tbody>\n",
       "    <tr>\n",
       "      <th>0</th>\n",
       "      <td># 중소벤처기업부공고제2024–300호\\n\\n# 2024년 글로벌팁스(GlobalT...</td>\n",
       "      <td>/Users/kimbwook/PycharmProjects/fast-campus/no...</td>\n",
       "      <td>1</td>\n",
       "      <td>2024-12-11</td>\n",
       "    </tr>\n",
       "    <tr>\n",
       "      <th>1</th>\n",
       "      <td># 서류및발표평가\\n\\n# 결과에최대 5점까지 가점부여\\n\\n|가점세부항목|점수|비...</td>\n",
       "      <td>/Users/kimbwook/PycharmProjects/fast-campus/no...</td>\n",
       "      <td>10</td>\n",
       "      <td>2024-12-11</td>\n",
       "    </tr>\n",
       "    <tr>\n",
       "      <th>2</th>\n",
       "      <td># 6 유의사항\\n\\n◈창업지원사업에신청하는창업기업은관련법령에따라 다음사항에유의하여...</td>\n",
       "      <td>/Users/kimbwook/PycharmProjects/fast-campus/no...</td>\n",
       "      <td>11</td>\n",
       "      <td>2024-12-11</td>\n",
       "    </tr>\n",
       "    <tr>\n",
       "      <th>3</th>\n",
       "      <td>◦ 선정자는 창업진흥원이 지정한 은행계좌(사업비계좌) 개설 및 창업 사업 통합 관리...</td>\n",
       "      <td>/Users/kimbwook/PycharmProjects/fast-campus/no...</td>\n",
       "      <td>15</td>\n",
       "      <td>2024-12-11</td>\n",
       "    </tr>\n",
       "    <tr>\n",
       "      <th>4</th>\n",
       "      <td># 창업여부 기준표\\n\\n|신청기업구분|상세구분| |창업여부|\\n|---|---|-...</td>\n",
       "      <td>/Users/kimbwook/PycharmProjects/fast-campus/no...</td>\n",
       "      <td>17</td>\n",
       "      <td>2024-12-11</td>\n",
       "    </tr>\n",
       "    <tr>\n",
       "      <th>5</th>\n",
       "      <td># 붙임2\\n\\n|지원|제외|대상|업종|\\n|---|---|---|---|\\n|▶ ...</td>\n",
       "      <td>/Users/kimbwook/PycharmProjects/fast-campus/no...</td>\n",
       "      <td>18</td>\n",
       "      <td>2024-12-11</td>\n",
       "    </tr>\n",
       "    <tr>\n",
       "      <th>6</th>\n",
       "      <td># 붙임3\\n\\n# 동시수행불가한글로벌창업지원사업목록\\n\\n※’24년도중소벤처기업부...</td>\n",
       "      <td>/Users/kimbwook/PycharmProjects/fast-campus/no...</td>\n",
       "      <td>19</td>\n",
       "      <td>2024-12-11</td>\n",
       "    </tr>\n",
       "    <tr>\n",
       "      <th>7</th>\n",
       "      <td># 붙임4\\n\\n# 신산업 창업 분야\\n\\n※「중소기업창업지원법」제25조4항에따라신...</td>\n",
       "      <td>/Users/kimbwook/PycharmProjects/fast-campus/no...</td>\n",
       "      <td>20</td>\n",
       "      <td>2024-12-11</td>\n",
       "    </tr>\n",
       "    <tr>\n",
       "      <th>8</th>\n",
       "      <td># 붙임5\\n\\n# 소재·부품·장비 및 스타트업 10대 초격차분야\\n\\n☞ 품목별 ...</td>\n",
       "      <td>/Users/kimbwook/PycharmProjects/fast-campus/no...</td>\n",
       "      <td>21</td>\n",
       "      <td>2024-12-11</td>\n",
       "    </tr>\n",
       "    <tr>\n",
       "      <th>9</th>\n",
       "      <td># 전략분야\\n\\n# 전략품목\\n\\n|수소저장·운반용복합소재|4DFMCW라이다신호처...</td>\n",
       "      <td>/Users/kimbwook/PycharmProjects/fast-campus/no...</td>\n",
       "      <td>22</td>\n",
       "      <td>2024-12-11</td>\n",
       "    </tr>\n",
       "    <tr>\n",
       "      <th>10</th>\n",
       "      <td># 스타트업 10대 초격차 분야\\n\\n|10대분야|세부분류(예)|\\n|---|---...</td>\n",
       "      <td>/Users/kimbwook/PycharmProjects/fast-campus/no...</td>\n",
       "      <td>23</td>\n",
       "      <td>2024-12-11</td>\n",
       "    </tr>\n",
       "    <tr>\n",
       "      <th>11</th>\n",
       "      <td># 지원내용\\n\\n□  협약기간: 협약시작일로부터 10개월 이내\\n\\n*사업기간은 ...</td>\n",
       "      <td>/Users/kimbwook/PycharmProjects/fast-campus/no...</td>\n",
       "      <td>5</td>\n",
       "      <td>2024-12-11</td>\n",
       "    </tr>\n",
       "    <tr>\n",
       "      <th>12</th>\n",
       "      <td># 제출서류\\n\\n|제출서류|제출방법|유의사항|\\n|---|---|---|\\n|①사...</td>\n",
       "      <td>/Users/kimbwook/PycharmProjects/fast-campus/no...</td>\n",
       "      <td>7</td>\n",
       "      <td>2024-12-11</td>\n",
       "    </tr>\n",
       "    <tr>\n",
       "      <th>13</th>\n",
       "      <td># 5 평가및선정\\n\\n□평가절차:총2단계평가(서류 + (현장실사))를통해최종선정 ...</td>\n",
       "      <td>/Users/kimbwook/PycharmProjects/fast-campus/no...</td>\n",
       "      <td>8</td>\n",
       "      <td>2024-12-11</td>\n",
       "    </tr>\n",
       "    <tr>\n",
       "      <th>14</th>\n",
       "      <td># 최종선정:\\n\\n서류및발표평가결과에최종가점을합산하여지원대상자선정\\n\\n- 지원규...</td>\n",
       "      <td>/Users/kimbwook/PycharmProjects/fast-campus/no...</td>\n",
       "      <td>9</td>\n",
       "      <td>2024-12-11</td>\n",
       "    </tr>\n",
       "    <tr>\n",
       "      <th>15</th>\n",
       "      <td>* 합의 하에 공동 작성한 동일‧유사 사업계획서로 선정된 경우일지라도, 공동작성자\\...</td>\n",
       "      <td>/Users/kimbwook/PycharmProjects/fast-campus/no...</td>\n",
       "      <td>12</td>\n",
       "      <td>2024-12-11</td>\n",
       "    </tr>\n",
       "    <tr>\n",
       "      <th>16</th>\n",
       "      <td>【사업계획서 작성】\\n◦ 중장기 사업수행 계획은 총사업 기간(3년)에 맞추어 작성하...</td>\n",
       "      <td>/Users/kimbwook/PycharmProjects/fast-campus/no...</td>\n",
       "      <td>13</td>\n",
       "      <td>2024-12-11</td>\n",
       "    </tr>\n",
       "    <tr>\n",
       "      <th>17</th>\n",
       "      <td>□ 선정 후 유의사항\\n◦ 동 사업에 선정된 자가 공고문 및 관련 규정에 위배되거나...</td>\n",
       "      <td>/Users/kimbwook/PycharmProjects/fast-campus/no...</td>\n",
       "      <td>14</td>\n",
       "      <td>2024-12-11</td>\n",
       "    </tr>\n",
       "    <tr>\n",
       "      <th>18</th>\n",
       "      <td>붙임1 창업기업 확인에 관한 유의사항\\n□ 창업의 범위\\n◦ 다음의 요건을 모두 충...</td>\n",
       "      <td>/Users/kimbwook/PycharmProjects/fast-campus/no...</td>\n",
       "      <td>16</td>\n",
       "      <td>2024-12-11</td>\n",
       "    </tr>\n",
       "    <tr>\n",
       "      <th>19</th>\n",
       "      <td>2 신청자격 및 요건\\n□ 신청자격\\n◦ ｢중소기업기본법｣ 제2조제1항에 따른 중소...</td>\n",
       "      <td>/Users/kimbwook/PycharmProjects/fast-campus/no...</td>\n",
       "      <td>2</td>\n",
       "      <td>2024-12-11</td>\n",
       "    </tr>\n",
       "    <tr>\n",
       "      <th>20</th>\n",
       "      <td>□ 신청 제외 대상 (사업 신청‧접수 마감일 기준)\\n① 금융기관 등으로부터 채무불...</td>\n",
       "      <td>/Users/kimbwook/PycharmProjects/fast-campus/no...</td>\n",
       "      <td>3</td>\n",
       "      <td>2024-12-11</td>\n",
       "    </tr>\n",
       "    <tr>\n",
       "      <th>21</th>\n",
       "      <td>□ 의무 및 역할\\n◦ 선정자는「중소기업창업 지원사업 운영요령」 및 「창업사업화\\n...</td>\n",
       "      <td>/Users/kimbwook/PycharmProjects/fast-campus/no...</td>\n",
       "      <td>4</td>\n",
       "      <td>2024-12-11</td>\n",
       "    </tr>\n",
       "    <tr>\n",
       "      <th>22</th>\n",
       "      <td>4 신청 및 접수\\n□ 신청 ‧ 접수 기간\\n◦ 접수기간 : 2024. 5. 7.(...</td>\n",
       "      <td>/Users/kimbwook/PycharmProjects/fast-campus/no...</td>\n",
       "      <td>6</td>\n",
       "      <td>2024-12-11</td>\n",
       "    </tr>\n",
       "  </tbody>\n",
       "</table>\n",
       "</div>"
      ]
     },
     "execution_count": 20,
     "metadata": {},
     "output_type": "execute_result"
    }
   ],
   "execution_count": 20
  },
  {
   "metadata": {
    "ExecuteTime": {
     "end_time": "2024-12-21T08:13:18.056519Z",
     "start_time": "2024-12-21T08:13:18.053960Z"
    }
   },
   "cell_type": "code",
   "source": "texts = parsed_result[\"texts\"].tolist()",
   "id": "51a5223c20e6aa01",
   "outputs": [],
   "execution_count": 21
  },
  {
   "metadata": {},
   "cell_type": "markdown",
   "source": "### For LlamaIndex Chunk",
   "id": "eab579e588d55c58"
  },
  {
   "metadata": {
    "ExecuteTime": {
     "end_time": "2024-12-21T08:13:18.910990Z",
     "start_time": "2024-12-21T08:13:18.907714Z"
    }
   },
   "cell_type": "code",
   "source": [
    "from llama_index.core import Document\n",
    "\n",
    "documents = [Document(text=text) for text in texts]"
   ],
   "id": "42f1a829815b06b9",
   "outputs": [],
   "execution_count": 22
  },
  {
   "metadata": {},
   "cell_type": "markdown",
   "source": "## 1. Token Text Splitter",
   "id": "5a20569fb0b57bec"
  },
  {
   "metadata": {},
   "cell_type": "markdown",
   "source": "### Use LlamaIndex",
   "id": "cd445ed14c0e3b80"
  },
  {
   "metadata": {
    "ExecuteTime": {
     "end_time": "2024-12-21T07:34:29.975477Z",
     "start_time": "2024-12-21T07:34:29.790484Z"
    }
   },
   "cell_type": "code",
   "source": [
    "from llama_index.core.node_parser import TokenTextSplitter\n",
    "\n",
    "# Set chunker\n",
    "token_text = TokenTextSplitter(chunk_size=1024, chunk_overlap=0)\n",
    "\n",
    "# Get Result\n",
    "token_result = token_text.get_nodes_from_documents(documents=documents)\n",
    "token_texts = [x.text for x in token_result]"
   ],
   "id": "b97b19c1f3967582",
   "outputs": [],
   "execution_count": 6
  },
  {
   "metadata": {
    "ExecuteTime": {
     "end_time": "2024-12-21T07:34:40.652429Z",
     "start_time": "2024-12-21T07:34:40.648492Z"
    }
   },
   "cell_type": "code",
   "source": "len(token_texts)",
   "id": "108543a254132539",
   "outputs": [
    {
     "data": {
      "text/plain": [
       "28"
      ]
     },
     "execution_count": 7,
     "metadata": {},
     "output_type": "execute_result"
    }
   ],
   "execution_count": 7
  },
  {
   "metadata": {},
   "cell_type": "markdown",
   "source": "## 2. Character Splitter",
   "id": "c445bd41e6c97c06"
  },
  {
   "metadata": {},
   "cell_type": "markdown",
   "source": "### Use Langchain",
   "id": "b3a54509eae87455"
  },
  {
   "metadata": {
    "ExecuteTime": {
     "end_time": "2024-12-21T07:36:12.362162Z",
     "start_time": "2024-12-21T07:36:12.178171Z"
    }
   },
   "cell_type": "code",
   "source": [
    "from langchain.text_splitter import CharacterTextSplitter\n",
    "\n",
    "character = CharacterTextSplitter()\n",
    "character_texts = character.create_documents(texts=texts)"
   ],
   "id": "64fb9fa484313af0",
   "outputs": [],
   "execution_count": 8
  },
  {
   "metadata": {
    "ExecuteTime": {
     "end_time": "2024-12-21T07:36:12.773742Z",
     "start_time": "2024-12-21T07:36:12.770187Z"
    }
   },
   "cell_type": "code",
   "source": "len(character_texts)",
   "id": "b73ab93b63c5c8e6",
   "outputs": [
    {
     "data": {
      "text/plain": [
       "23"
      ]
     },
     "execution_count": 9,
     "metadata": {},
     "output_type": "execute_result"
    }
   ],
   "execution_count": 9
  },
  {
   "metadata": {},
   "cell_type": "markdown",
   "source": "## 3. Sentence Splitter",
   "id": "4a8708f35dc7ae01"
  },
  {
   "metadata": {
    "ExecuteTime": {
     "end_time": "2024-12-21T07:37:38.041709Z",
     "start_time": "2024-12-21T07:37:36.492798Z"
    }
   },
   "cell_type": "code",
   "source": [
    "from kiwipiepy import Kiwi\n",
    "\n",
    "kiwi = Kiwi()\n",
    "\n",
    "kiwi_result = kiwi.split_into_sents(texts[0])\n",
    "kiwi_sentences = [x.text for x in kiwi_result]"
   ],
   "id": "1bae871e4897baf2",
   "outputs": [],
   "execution_count": 10
  },
  {
   "metadata": {
    "ExecuteTime": {
     "end_time": "2024-12-21T07:38:07.937162Z",
     "start_time": "2024-12-21T07:38:07.933221Z"
    }
   },
   "cell_type": "code",
   "source": "len(kiwi_sentences)",
   "id": "37ad47610bd0ca0e",
   "outputs": [
    {
     "data": {
      "text/plain": [
       "14"
      ]
     },
     "execution_count": 11,
     "metadata": {},
     "output_type": "execute_result"
    }
   ],
   "execution_count": 11
  },
  {
   "metadata": {},
   "cell_type": "markdown",
   "source": "## 4. Sentence Window",
   "id": "10f5da556fde32da"
  },
  {
   "metadata": {},
   "cell_type": "markdown",
   "source": "### Use LlamaIndex",
   "id": "ad912a330f23f04a"
  },
  {
   "metadata": {
    "ExecuteTime": {
     "end_time": "2024-12-21T07:38:52.129861Z",
     "start_time": "2024-12-21T07:38:52.117489Z"
    }
   },
   "cell_type": "code",
   "source": [
    "from llama_index.core.node_parser import SentenceWindowNodeParser\n",
    "\n",
    "window = SentenceWindowNodeParser(window_size=5)\n",
    "\n",
    "# Get Result\n",
    "window_result = window.get_nodes_from_documents(documents=documents)\n",
    "window_texts = [x.text for x in window_result]\n",
    "window_metadata = [x.metadata for x in window_result]"
   ],
   "id": "b9d83b1851335eb0",
   "outputs": [],
   "execution_count": 12
  },
  {
   "metadata": {
    "ExecuteTime": {
     "end_time": "2024-12-21T07:38:52.933985Z",
     "start_time": "2024-12-21T07:38:52.930642Z"
    }
   },
   "cell_type": "code",
   "source": "len(window_texts)",
   "id": "41aa4bcf60e2b322",
   "outputs": [
    {
     "data": {
      "text/plain": [
       "89"
      ]
     },
     "execution_count": 13,
     "metadata": {},
     "output_type": "execute_result"
    }
   ],
   "execution_count": 13
  },
  {
   "metadata": {
    "ExecuteTime": {
     "end_time": "2024-12-21T07:38:57.340941Z",
     "start_time": "2024-12-21T07:38:57.336375Z"
    }
   },
   "cell_type": "code",
   "source": "window_metadata[0]",
   "id": "96c4e74d583eff9a",
   "outputs": [
    {
     "data": {
      "text/plain": [
       "{'window': '# 중소벤처기업부공고제2024–300호\\n\\n# 2024년 글로벌팁스(GlobalTIPS) 창업기업 모집 공고\\n\\n해외투자와 연계하여 유망 창업기업의 해외 진출 및 글로벌 기업으로의 성장을 지원하는 『2024년 글로벌팁스(GlobalTIPS)』에 참여할 창업기업을 다음과 같이 모집합니다.\\n\\n 2024년 5월 7일\\n\\n중소벤처기업부장관\\n\\n# 1 사업개요\\n\\n□ 사업목적: 미래 신성장 동력 발굴과 글로벌 선도 기업 육성 등을 위해 해외 벤처 캐피탈 등으로부터 투자받은 유망 창업기업의 글로벌 진출 활성화 도모\\n\\n□ 지원대상: 해외 VC로부터 20만 불 이상 투자를 유치하고 해외 법인 설립 희망하는 업력 7년 이내 창업기업\\n\\n*「중소기업 창업 지원법」에 따른 신산업 분야 ([붙임4] 참조) 창업기업인 경우 업력 10년 기업까지 지원 가능\\n\\n□ 지원내용: 사업화 자금 (최대 2억원, 평균 1.8억원) 현지 진출 프로그램 등\\n\\n|사업화 자금|현지 진출 프로그램|\\n|---|---|\\n|시제품 제작, 지재권 취득, 사업모델 (BM) 개선 등에 소요되는 비용 지원|실무 교육, 멘토링, 글로벌 네트워킹, 후속 투자 유치 등 주관 기관의 창업 프로그램 운영|\\n\\n□ 선정규모: 20개사 내외\\n\\n□ 협약기간: 협약 시작일로부터 10개월 이내\\n\\n* 사업기간은 총 3년으로 선정 후, 1년 단위로 협약 연장',\n",
       " 'original_text': '# 중소벤처기업부공고제2024–300호\\n\\n# 2024년 글로벌팁스(GlobalTIPS) 창업기업 모집 공고\\n\\n해외투자와 연계하여 유망 창업기업의 해외 진출 및 글로벌 기업으로의 성장을 지원하는 『2024년 글로벌팁스(GlobalTIPS)』에 참여할 창업기업을 다음과 같이 모집합니다.\\n\\n'}"
      ]
     },
     "execution_count": 14,
     "metadata": {},
     "output_type": "execute_result"
    }
   ],
   "execution_count": 14
  },
  {
   "metadata": {},
   "cell_type": "markdown",
   "source": "# Use AutoRAG",
   "id": "486099d1704b20ab"
  },
  {
   "metadata": {
    "ExecuteTime": {
     "end_time": "2024-12-21T07:43:33.230183Z",
     "start_time": "2024-12-21T07:43:28.509087Z"
    }
   },
   "cell_type": "code",
   "source": [
    "from autorag.chunker import Chunker\n",
    "\n",
    "# Set path\n",
    "parsed_path = os.path.join(root_dir, 'autorag_project', 'parse', 'hybrid', 'parsed_result.parquet')\n",
    "project_dir = os.path.join(root_dir, 'autorag_project', 'chunk', 'basic')\n",
    "\n",
    "chunker = Chunker.from_parquet(parsed_data_path=parsed_path, project_dir=project_dir)\n",
    "chunker.start_chunking(os.path.join(root_dir, 'config', 'chunk', 'basic_chunking.yaml'))"
   ],
   "id": "d9d721f06aa217ad",
   "outputs": [
    {
     "data": {
      "text/plain": [
       "\u001B[2;36m[12/21/24 16:43:30]\u001B[0m\u001B[2;36m \u001B[0m\u001B[34mINFO    \u001B[0m \u001B[1m[\u001B[0m__init__.py:\u001B[1;36m100\u001B[0m\u001B[1m]\u001B[0m >> You are using API version of AutoRAG.To use local \u001B]8;id=5736;file:///Users/kimbwook/PycharmProjects/fast-campus/venv/lib/python3.10/site-packages/autorag/__init__.py\u001B\\\u001B[2m__init__.py\u001B[0m\u001B]8;;\u001B\\\u001B[2m:\u001B[0m\u001B]8;id=609196;file:///Users/kimbwook/PycharmProjects/fast-campus/venv/lib/python3.10/site-packages/autorag/__init__.py#100\u001B\\\u001B[2m100\u001B[0m\u001B]8;;\u001B\\\n",
       "\u001B[2;36m                    \u001B[0m         version, run pip install \u001B[32m'AutoRAG\u001B[0m\u001B[32m[\u001B[0m\u001B[32mgpu\u001B[0m\u001B[32m]\u001B[0m\u001B[32m'\u001B[0m                                \u001B[2m               \u001B[0m\n"
      ],
      "text/html": [
       "<pre style=\"white-space:pre;overflow-x:auto;line-height:normal;font-family:Menlo,'DejaVu Sans Mono',consolas,'Courier New',monospace\"><span style=\"color: #7fbfbf; text-decoration-color: #7fbfbf\">[12/21/24 16:43:30] </span><span style=\"color: #000080; text-decoration-color: #000080\">INFO    </span> <span style=\"font-weight: bold\">[</span>__init__.py:<span style=\"color: #008080; text-decoration-color: #008080; font-weight: bold\">100</span><span style=\"font-weight: bold\">]</span> &gt;&gt; You are using API version of AutoRAG.To use local <a href=\"file:///Users/kimbwook/PycharmProjects/fast-campus/venv/lib/python3.10/site-packages/autorag/__init__.py\" target=\"_blank\"><span style=\"color: #7f7f7f; text-decoration-color: #7f7f7f\">__init__.py</span></a><span style=\"color: #7f7f7f; text-decoration-color: #7f7f7f\">:</span><a href=\"file:///Users/kimbwook/PycharmProjects/fast-campus/venv/lib/python3.10/site-packages/autorag/__init__.py#100\" target=\"_blank\"><span style=\"color: #7f7f7f; text-decoration-color: #7f7f7f\">100</span></a>\n",
       "<span style=\"color: #7fbfbf; text-decoration-color: #7fbfbf\">                    </span>         version, run pip install <span style=\"color: #008000; text-decoration-color: #008000\">'AutoRAG[gpu]'</span>                                <span style=\"color: #7f7f7f; text-decoration-color: #7f7f7f\">               </span>\n",
       "</pre>\n"
      ]
     },
     "metadata": {},
     "output_type": "display_data"
    },
    {
     "data": {
      "text/plain": [
       "\u001B[2;36m                   \u001B[0m\u001B[2;36m \u001B[0m\u001B[34mINFO    \u001B[0m \u001B[1m[\u001B[0m__init__.py:\u001B[1;36m128\u001B[0m\u001B[1m]\u001B[0m >> You are using API version of AutoRAG.To use local \u001B]8;id=882286;file:///Users/kimbwook/PycharmProjects/fast-campus/venv/lib/python3.10/site-packages/autorag/__init__.py\u001B\\\u001B[2m__init__.py\u001B[0m\u001B]8;;\u001B\\\u001B[2m:\u001B[0m\u001B]8;id=483136;file:///Users/kimbwook/PycharmProjects/fast-campus/venv/lib/python3.10/site-packages/autorag/__init__.py#128\u001B\\\u001B[2m128\u001B[0m\u001B]8;;\u001B\\\n",
       "\u001B[2;36m                    \u001B[0m         version, run pip install \u001B[32m'AutoRAG\u001B[0m\u001B[32m[\u001B[0m\u001B[32mgpu\u001B[0m\u001B[32m]\u001B[0m\u001B[32m'\u001B[0m                                \u001B[2m               \u001B[0m\n"
      ],
      "text/html": [
       "<pre style=\"white-space:pre;overflow-x:auto;line-height:normal;font-family:Menlo,'DejaVu Sans Mono',consolas,'Courier New',monospace\"><span style=\"color: #7fbfbf; text-decoration-color: #7fbfbf\">                    </span><span style=\"color: #000080; text-decoration-color: #000080\">INFO    </span> <span style=\"font-weight: bold\">[</span>__init__.py:<span style=\"color: #008080; text-decoration-color: #008080; font-weight: bold\">128</span><span style=\"font-weight: bold\">]</span> &gt;&gt; You are using API version of AutoRAG.To use local <a href=\"file:///Users/kimbwook/PycharmProjects/fast-campus/venv/lib/python3.10/site-packages/autorag/__init__.py\" target=\"_blank\"><span style=\"color: #7f7f7f; text-decoration-color: #7f7f7f\">__init__.py</span></a><span style=\"color: #7f7f7f; text-decoration-color: #7f7f7f\">:</span><a href=\"file:///Users/kimbwook/PycharmProjects/fast-campus/venv/lib/python3.10/site-packages/autorag/__init__.py#128\" target=\"_blank\"><span style=\"color: #7f7f7f; text-decoration-color: #7f7f7f\">128</span></a>\n",
       "<span style=\"color: #7fbfbf; text-decoration-color: #7fbfbf\">                    </span>         version, run pip install <span style=\"color: #008000; text-decoration-color: #008000\">'AutoRAG[gpu]'</span>                                <span style=\"color: #7f7f7f; text-decoration-color: #7f7f7f\">               </span>\n",
       "</pre>\n"
      ]
     },
     "metadata": {},
     "output_type": "display_data"
    },
    {
     "data": {
      "text/plain": [
       "\u001B[2;36m[12/21/24 16:43:31]\u001B[0m\u001B[2;36m \u001B[0m\u001B[34mINFO    \u001B[0m \u001B[1m[\u001B[0mchunker.py:\u001B[1;36m44\u001B[0m\u001B[1m]\u001B[0m >> Chunking Start\u001B[33m...\u001B[0m                                     \u001B]8;id=326914;file:///Users/kimbwook/PycharmProjects/fast-campus/venv/lib/python3.10/site-packages/autorag/chunker.py\u001B\\\u001B[2mchunker.py\u001B[0m\u001B]8;;\u001B\\\u001B[2m:\u001B[0m\u001B]8;id=691946;file:///Users/kimbwook/PycharmProjects/fast-campus/venv/lib/python3.10/site-packages/autorag/chunker.py#44\u001B\\\u001B[2m44\u001B[0m\u001B]8;;\u001B\\\n"
      ],
      "text/html": [
       "<pre style=\"white-space:pre;overflow-x:auto;line-height:normal;font-family:Menlo,'DejaVu Sans Mono',consolas,'Courier New',monospace\"><span style=\"color: #7fbfbf; text-decoration-color: #7fbfbf\">[12/21/24 16:43:31] </span><span style=\"color: #000080; text-decoration-color: #000080\">INFO    </span> <span style=\"font-weight: bold\">[</span>chunker.py:<span style=\"color: #008080; text-decoration-color: #008080; font-weight: bold\">44</span><span style=\"font-weight: bold\">]</span> &gt;&gt; Chunking Start<span style=\"color: #808000; text-decoration-color: #808000\">...</span>                                     <a href=\"file:///Users/kimbwook/PycharmProjects/fast-campus/venv/lib/python3.10/site-packages/autorag/chunker.py\" target=\"_blank\"><span style=\"color: #7f7f7f; text-decoration-color: #7f7f7f\">chunker.py</span></a><span style=\"color: #7f7f7f; text-decoration-color: #7f7f7f\">:</span><a href=\"file:///Users/kimbwook/PycharmProjects/fast-campus/venv/lib/python3.10/site-packages/autorag/chunker.py#44\" target=\"_blank\"><span style=\"color: #7f7f7f; text-decoration-color: #7f7f7f\">44</span></a>\n",
       "</pre>\n"
      ]
     },
     "metadata": {},
     "output_type": "display_data"
    },
    {
     "data": {
      "text/plain": [
       "\u001B[2;36m                   \u001B[0m\u001B[2;36m \u001B[0m\u001B[34mINFO    \u001B[0m \u001B[1m[\u001B[0mbase.py:\u001B[1;36m22\u001B[0m\u001B[1m]\u001B[0m >> Running chunker - llama_index_chunk module\u001B[33m...\u001B[0m               \u001B]8;id=705368;file:///Users/kimbwook/PycharmProjects/fast-campus/venv/lib/python3.10/site-packages/autorag/data/chunk/base.py\u001B\\\u001B[2mbase.py\u001B[0m\u001B]8;;\u001B\\\u001B[2m:\u001B[0m\u001B]8;id=185332;file:///Users/kimbwook/PycharmProjects/fast-campus/venv/lib/python3.10/site-packages/autorag/data/chunk/base.py#22\u001B\\\u001B[2m22\u001B[0m\u001B]8;;\u001B\\\n"
      ],
      "text/html": [
       "<pre style=\"white-space:pre;overflow-x:auto;line-height:normal;font-family:Menlo,'DejaVu Sans Mono',consolas,'Courier New',monospace\"><span style=\"color: #7fbfbf; text-decoration-color: #7fbfbf\">                    </span><span style=\"color: #000080; text-decoration-color: #000080\">INFO    </span> <span style=\"font-weight: bold\">[</span>base.py:<span style=\"color: #008080; text-decoration-color: #008080; font-weight: bold\">22</span><span style=\"font-weight: bold\">]</span> &gt;&gt; Running chunker - llama_index_chunk module<span style=\"color: #808000; text-decoration-color: #808000\">...</span>               <a href=\"file:///Users/kimbwook/PycharmProjects/fast-campus/venv/lib/python3.10/site-packages/autorag/data/chunk/base.py\" target=\"_blank\"><span style=\"color: #7f7f7f; text-decoration-color: #7f7f7f\">base.py</span></a><span style=\"color: #7f7f7f; text-decoration-color: #7f7f7f\">:</span><a href=\"file:///Users/kimbwook/PycharmProjects/fast-campus/venv/lib/python3.10/site-packages/autorag/data/chunk/base.py#22\" target=\"_blank\"><span style=\"color: #7f7f7f; text-decoration-color: #7f7f7f\">22</span></a>\n",
       "</pre>\n"
      ]
     },
     "metadata": {},
     "output_type": "display_data"
    },
    {
     "data": {
      "text/plain": [
       "\u001B[2;36m                   \u001B[0m\u001B[2;36m \u001B[0m\u001B[34mINFO    \u001B[0m \u001B[1m[\u001B[0mbase.py:\u001B[1;36m22\u001B[0m\u001B[1m]\u001B[0m >> Running chunker - llama_index_chunk module\u001B[33m...\u001B[0m               \u001B]8;id=271478;file:///Users/kimbwook/PycharmProjects/fast-campus/venv/lib/python3.10/site-packages/autorag/data/chunk/base.py\u001B\\\u001B[2mbase.py\u001B[0m\u001B]8;;\u001B\\\u001B[2m:\u001B[0m\u001B]8;id=926796;file:///Users/kimbwook/PycharmProjects/fast-campus/venv/lib/python3.10/site-packages/autorag/data/chunk/base.py#22\u001B\\\u001B[2m22\u001B[0m\u001B]8;;\u001B\\\n"
      ],
      "text/html": [
       "<pre style=\"white-space:pre;overflow-x:auto;line-height:normal;font-family:Menlo,'DejaVu Sans Mono',consolas,'Courier New',monospace\"><span style=\"color: #7fbfbf; text-decoration-color: #7fbfbf\">                    </span><span style=\"color: #000080; text-decoration-color: #000080\">INFO    </span> <span style=\"font-weight: bold\">[</span>base.py:<span style=\"color: #008080; text-decoration-color: #008080; font-weight: bold\">22</span><span style=\"font-weight: bold\">]</span> &gt;&gt; Running chunker - llama_index_chunk module<span style=\"color: #808000; text-decoration-color: #808000\">...</span>               <a href=\"file:///Users/kimbwook/PycharmProjects/fast-campus/venv/lib/python3.10/site-packages/autorag/data/chunk/base.py\" target=\"_blank\"><span style=\"color: #7f7f7f; text-decoration-color: #7f7f7f\">base.py</span></a><span style=\"color: #7f7f7f; text-decoration-color: #7f7f7f\">:</span><a href=\"file:///Users/kimbwook/PycharmProjects/fast-campus/venv/lib/python3.10/site-packages/autorag/data/chunk/base.py#22\" target=\"_blank\"><span style=\"color: #7f7f7f; text-decoration-color: #7f7f7f\">22</span></a>\n",
       "</pre>\n"
      ]
     },
     "metadata": {},
     "output_type": "display_data"
    },
    {
     "data": {
      "text/plain": [
       "\u001B[2;36m                   \u001B[0m\u001B[2;36m \u001B[0m\u001B[34mINFO    \u001B[0m \u001B[1m[\u001B[0mbase.py:\u001B[1;36m22\u001B[0m\u001B[1m]\u001B[0m >> Running chunker - llama_index_chunk module\u001B[33m...\u001B[0m               \u001B]8;id=813512;file:///Users/kimbwook/PycharmProjects/fast-campus/venv/lib/python3.10/site-packages/autorag/data/chunk/base.py\u001B\\\u001B[2mbase.py\u001B[0m\u001B]8;;\u001B\\\u001B[2m:\u001B[0m\u001B]8;id=261543;file:///Users/kimbwook/PycharmProjects/fast-campus/venv/lib/python3.10/site-packages/autorag/data/chunk/base.py#22\u001B\\\u001B[2m22\u001B[0m\u001B]8;;\u001B\\\n"
      ],
      "text/html": [
       "<pre style=\"white-space:pre;overflow-x:auto;line-height:normal;font-family:Menlo,'DejaVu Sans Mono',consolas,'Courier New',monospace\"><span style=\"color: #7fbfbf; text-decoration-color: #7fbfbf\">                    </span><span style=\"color: #000080; text-decoration-color: #000080\">INFO    </span> <span style=\"font-weight: bold\">[</span>base.py:<span style=\"color: #008080; text-decoration-color: #008080; font-weight: bold\">22</span><span style=\"font-weight: bold\">]</span> &gt;&gt; Running chunker - llama_index_chunk module<span style=\"color: #808000; text-decoration-color: #808000\">...</span>               <a href=\"file:///Users/kimbwook/PycharmProjects/fast-campus/venv/lib/python3.10/site-packages/autorag/data/chunk/base.py\" target=\"_blank\"><span style=\"color: #7f7f7f; text-decoration-color: #7f7f7f\">base.py</span></a><span style=\"color: #7f7f7f; text-decoration-color: #7f7f7f\">:</span><a href=\"file:///Users/kimbwook/PycharmProjects/fast-campus/venv/lib/python3.10/site-packages/autorag/data/chunk/base.py#22\" target=\"_blank\"><span style=\"color: #7f7f7f; text-decoration-color: #7f7f7f\">22</span></a>\n",
       "</pre>\n"
      ]
     },
     "metadata": {},
     "output_type": "display_data"
    },
    {
     "data": {
      "text/plain": [
       "\u001B[2;36m[12/21/24 16:43:33]\u001B[0m\u001B[2;36m \u001B[0m\u001B[34mINFO    \u001B[0m \u001B[1m[\u001B[0mbase.py:\u001B[1;36m22\u001B[0m\u001B[1m]\u001B[0m >> Running chunker - langchain_chunk module\u001B[33m...\u001B[0m                 \u001B]8;id=939217;file:///Users/kimbwook/PycharmProjects/fast-campus/venv/lib/python3.10/site-packages/autorag/data/chunk/base.py\u001B\\\u001B[2mbase.py\u001B[0m\u001B]8;;\u001B\\\u001B[2m:\u001B[0m\u001B]8;id=24931;file:///Users/kimbwook/PycharmProjects/fast-campus/venv/lib/python3.10/site-packages/autorag/data/chunk/base.py#22\u001B\\\u001B[2m22\u001B[0m\u001B]8;;\u001B\\\n"
      ],
      "text/html": [
       "<pre style=\"white-space:pre;overflow-x:auto;line-height:normal;font-family:Menlo,'DejaVu Sans Mono',consolas,'Courier New',monospace\"><span style=\"color: #7fbfbf; text-decoration-color: #7fbfbf\">[12/21/24 16:43:33] </span><span style=\"color: #000080; text-decoration-color: #000080\">INFO    </span> <span style=\"font-weight: bold\">[</span>base.py:<span style=\"color: #008080; text-decoration-color: #008080; font-weight: bold\">22</span><span style=\"font-weight: bold\">]</span> &gt;&gt; Running chunker - langchain_chunk module<span style=\"color: #808000; text-decoration-color: #808000\">...</span>                 <a href=\"file:///Users/kimbwook/PycharmProjects/fast-campus/venv/lib/python3.10/site-packages/autorag/data/chunk/base.py\" target=\"_blank\"><span style=\"color: #7f7f7f; text-decoration-color: #7f7f7f\">base.py</span></a><span style=\"color: #7f7f7f; text-decoration-color: #7f7f7f\">:</span><a href=\"file:///Users/kimbwook/PycharmProjects/fast-campus/venv/lib/python3.10/site-packages/autorag/data/chunk/base.py#22\" target=\"_blank\"><span style=\"color: #7f7f7f; text-decoration-color: #7f7f7f\">22</span></a>\n",
       "</pre>\n"
      ]
     },
     "metadata": {},
     "output_type": "display_data"
    },
    {
     "data": {
      "text/plain": [
       "\u001B[2;36m                   \u001B[0m\u001B[2;36m \u001B[0m\u001B[34mINFO    \u001B[0m \u001B[1m[\u001B[0mchunker.py:\u001B[1;36m51\u001B[0m\u001B[1m]\u001B[0m >> Chunking Done!                                        \u001B]8;id=365755;file:///Users/kimbwook/PycharmProjects/fast-campus/venv/lib/python3.10/site-packages/autorag/chunker.py\u001B\\\u001B[2mchunker.py\u001B[0m\u001B]8;;\u001B\\\u001B[2m:\u001B[0m\u001B]8;id=453490;file:///Users/kimbwook/PycharmProjects/fast-campus/venv/lib/python3.10/site-packages/autorag/chunker.py#51\u001B\\\u001B[2m51\u001B[0m\u001B]8;;\u001B\\\n"
      ],
      "text/html": [
       "<pre style=\"white-space:pre;overflow-x:auto;line-height:normal;font-family:Menlo,'DejaVu Sans Mono',consolas,'Courier New',monospace\"><span style=\"color: #7fbfbf; text-decoration-color: #7fbfbf\">                    </span><span style=\"color: #000080; text-decoration-color: #000080\">INFO    </span> <span style=\"font-weight: bold\">[</span>chunker.py:<span style=\"color: #008080; text-decoration-color: #008080; font-weight: bold\">51</span><span style=\"font-weight: bold\">]</span> &gt;&gt; Chunking Done!                                        <a href=\"file:///Users/kimbwook/PycharmProjects/fast-campus/venv/lib/python3.10/site-packages/autorag/chunker.py\" target=\"_blank\"><span style=\"color: #7f7f7f; text-decoration-color: #7f7f7f\">chunker.py</span></a><span style=\"color: #7f7f7f; text-decoration-color: #7f7f7f\">:</span><a href=\"file:///Users/kimbwook/PycharmProjects/fast-campus/venv/lib/python3.10/site-packages/autorag/chunker.py#51\" target=\"_blank\"><span style=\"color: #7f7f7f; text-decoration-color: #7f7f7f\">51</span></a>\n",
       "</pre>\n"
      ]
     },
     "metadata": {},
     "output_type": "display_data"
    }
   ],
   "execution_count": 15
  },
  {
   "metadata": {},
   "cell_type": "markdown",
   "source": "## Check Result",
   "id": "9c42e5ec630547e0"
  },
  {
   "metadata": {
    "ExecuteTime": {
     "end_time": "2024-12-21T07:44:22.806807Z",
     "start_time": "2024-12-21T07:44:22.799314Z"
    }
   },
   "cell_type": "code",
   "source": [
    "token_path = os.path.join(project_dir, '0.parquet')\n",
    "token_result = pd.read_parquet(token_path)"
   ],
   "id": "505bce359c6f756e",
   "outputs": [],
   "execution_count": 16
  },
  {
   "metadata": {
    "ExecuteTime": {
     "end_time": "2024-12-21T07:44:23.429934Z",
     "start_time": "2024-12-21T07:44:23.411601Z"
    }
   },
   "cell_type": "code",
   "source": "token_result",
   "id": "ea168a0b406106ba",
   "outputs": [
    {
     "data": {
      "text/plain": [
       "                                  doc_id  \\\n",
       "0   e4cbed99-18a4-4a6f-ac46-1091c3c5d984   \n",
       "1   d1b52668-7a8c-44d8-9dca-461832615f80   \n",
       "2   64356c4a-367e-4d0b-937c-f94cc6962741   \n",
       "3   c86a1744-0c76-48c9-b68d-59b4380d4192   \n",
       "4   14c8f4c7-0047-4027-9428-6254863fb0e5   \n",
       "5   49b697b6-ccfe-4936-9fe7-530893c03802   \n",
       "6   6f8663b4-2707-42b1-a2f7-6469a86bde64   \n",
       "7   5bdd3ad6-ea70-4ee2-aab1-de9367cf5dfe   \n",
       "8   3596d6a3-c75b-45ed-9686-d09aec2049f8   \n",
       "9   fcd1a9ea-5dc2-4a1e-97e3-6936dba0b396   \n",
       "10  4198062a-acf9-4dc7-96d0-aac8f8baa961   \n",
       "11  db541aea-92fd-4d7c-89db-ab976bbec6d9   \n",
       "12  c659e2ab-a1e9-4e16-a605-2b32c33cfeac   \n",
       "13  bff864a5-76a7-4b34-a4cc-da69b3358d80   \n",
       "14  1e101561-2806-4fa1-a0fb-85386b83f1ec   \n",
       "15  4900826d-f35b-4978-8918-561ff9a92393   \n",
       "16  694a112f-f12f-4bff-95c2-e0322bd257c8   \n",
       "17  1e0d61c2-0377-4327-bc02-4ba7c3d6e9df   \n",
       "18  1ca80f60-c0c6-4914-b8fd-8666d53553a1   \n",
       "19  e5a3cc25-bd1c-42f0-9a51-8de0ab804f24   \n",
       "20  b431805f-db8e-4d9a-8b01-70539e62823b   \n",
       "21  742778a2-d4da-4238-b4f3-99150fb899fc   \n",
       "22  ec8ff4b7-c8ec-4f05-aa45-8961af67a4f6   \n",
       "23  921a089a-d089-45e0-a044-bd7e52ae1faf   \n",
       "24  1f02816b-9c8d-4ca8-b771-03bf55df1d02   \n",
       "25  8c2bd74c-34b0-41b7-93e2-9133843dd6c9   \n",
       "26  25d6d0a5-6304-405e-916b-85ce087ba37a   \n",
       "27  70652da9-ad91-4a99-bab6-4565a57fd509   \n",
       "28  a2530b76-4c90-495e-92d2-9a9c8e2594b8   \n",
       "\n",
       "                                             contents  \\\n",
       "0   # 중소벤처기업부공고제2024–300호\\n\\n# 2024년 글로벌팁스(GlobalT...   \n",
       "1   # 서류및발표평가\\n\\n# 결과에최대 5점까지 가점부여\\n\\n|가점세부항목|점수|비...   \n",
       "2   # 6 유의사항\\n\\n◈창업지원사업에신청하는창업기업은관련법령에따라 다음사항에유의하여...   \n",
       "3   ◦ 선정자는 창업진흥원이 지정한 은행계좌(사업비계좌) 개설 및 창업 사업 통합 관리...   \n",
       "4   # 창업여부 기준표\\n\\n|신청기업구분|상세구분| |창업여부|\\n|---|---|-...   \n",
       "5   전부를 포괄적으로 양도하여야 함\\n\\n※ 동종의 범위: ‘한국표준산업분류(제10차)...   \n",
       "6   # 붙임2\\n\\n|지원|제외|대상|업종|\\n|---|---|---|---|\\n|▶ ...   \n",
       "7   # 붙임3\\n\\n# 동시수행불가한글로벌창업지원사업목록\\n\\n※’24년도중소벤처기업부...   \n",
       "8   # 붙임4\\n\\n# 신산업 창업 분야\\n\\n※「중소기업창업지원법」제25조4항에따라신...   \n",
       "9   # 붙임5\\n\\n# 소재·부품·장비 및 스타트업 10대 초격차분야\\n\\n☞ 품목별 ...   \n",
       "10  (14개)|반도체측정/분석/검사장치및부품|\\n| |고효율유무기하이브리드방열소재|\\n...   \n",
       "11  # 전략분야\\n\\n# 전략품목\\n\\n|수소저장·운반용복합소재|4DFMCW라이다신호처...   \n",
       "12       |스마트폰용전력증폭기|\\n| |Sub-THz급Multi-Channel레이더칩셋|   \n",
       "13  # 스타트업 10대 초격차 분야\\n\\n|10대분야|세부분류(예)|\\n|---|---...   \n",
       "14  # 지원내용\\n\\n□  협약기간: 협약시작일로부터 10개월 이내\\n\\n*사업기간은 ...   \n",
       "15  # 제출서류\\n\\n|제출서류|제출방법|유의사항|\\n|---|---|---|\\n|①사...   \n",
       "16  # 5 평가및선정\\n\\n□평가절차:총2단계평가(서류 + (현장실사))를통해최종선정 ...   \n",
       "17  # 최종선정:\\n\\n서류및발표평가결과에최종가점을합산하여지원대상자선정\\n\\n- 지원규...   \n",
       "18  * 합의 하에 공동 작성한 동일‧유사 사업계획서로 선정된 경우일지라도, 공동작성자\\...   \n",
       "19  【사업계획서 작성】\\n◦ 중장기 사업수행 계획은 총사업 기간(3년)에 맞추어 작성하...   \n",
       "20  □ 선정 후 유의사항\\n◦ 동 사업에 선정된 자가 공고문 및 관련 규정에 위배되거나...   \n",
       "21  붙임1 창업기업 확인에 관한 유의사항\\n□ 창업의 범위\\n◦ 다음의 요건을 모두 충...   \n",
       "22  법인인 기업과 그 소속 임원이\\n소유하고 있는 주식을 합산하여 계산한다.\\n5. 법...   \n",
       "23  2 신청자격 및 요건\\n□ 신청자격\\n◦ ｢중소기업기본법｣ 제2조제1항에 따른 중소...   \n",
       "24  해외펀드 운용 실적 보유\\n• 전문인력(벤처캐피탈 및 액셀러레이터 등 투자 관련 경...   \n",
       "25  □ 신청 제외 대상 (사업 신청‧접수 마감일 기준)\\n① 금융기관 등으로부터 채무불...   \n",
       "26  협약 잔여기간에 관계없이 신청 가능\\n⑤ 중소벤처기업부 창업지원사업에 참여 제한으로...   \n",
       "27  □ 의무 및 역할\\n◦ 선정자는「중소기업창업 지원사업 운영요령」 및 「창업사업화\\n...   \n",
       "28  4 신청 및 접수\\n□ 신청 ‧ 접수 기간\\n◦ 접수기간 : 2024. 5. 7.(...   \n",
       "\n",
       "                                                 path start_end_idx  \\\n",
       "0   /Users/kimbwook/PycharmProjects/fast-campus/no...      [0, 660]   \n",
       "1   /Users/kimbwook/PycharmProjects/fast-campus/no...      [0, 691]   \n",
       "2   /Users/kimbwook/PycharmProjects/fast-campus/no...      [0, 754]   \n",
       "3   /Users/kimbwook/PycharmProjects/fast-campus/no...      [0, 520]   \n",
       "4   /Users/kimbwook/PycharmProjects/fast-campus/no...      [0, 866]   \n",
       "5   /Users/kimbwook/PycharmProjects/fast-campus/no...   [847, 1168]   \n",
       "6   /Users/kimbwook/PycharmProjects/fast-campus/no...      [0, 289]   \n",
       "7   /Users/kimbwook/PycharmProjects/fast-campus/no...      [0, 327]   \n",
       "8   /Users/kimbwook/PycharmProjects/fast-campus/no...      [0, 435]   \n",
       "9   /Users/kimbwook/PycharmProjects/fast-campus/no...      [0, 814]   \n",
       "10  /Users/kimbwook/PycharmProjects/fast-campus/no...    [816, 933]   \n",
       "11  /Users/kimbwook/PycharmProjects/fast-campus/no...      [0, 883]   \n",
       "12  /Users/kimbwook/PycharmProjects/fast-campus/no...    [885, 927]   \n",
       "13  /Users/kimbwook/PycharmProjects/fast-campus/no...      [0, 428]   \n",
       "14  /Users/kimbwook/PycharmProjects/fast-campus/no...      [0, 887]   \n",
       "15  /Users/kimbwook/PycharmProjects/fast-campus/no...      [0, 796]   \n",
       "16  /Users/kimbwook/PycharmProjects/fast-campus/no...      [0, 692]   \n",
       "17  /Users/kimbwook/PycharmProjects/fast-campus/no...      [0, 620]   \n",
       "18  /Users/kimbwook/PycharmProjects/fast-campus/no...      [0, 908]   \n",
       "19  /Users/kimbwook/PycharmProjects/fast-campus/no...      [0, 769]   \n",
       "20  /Users/kimbwook/PycharmProjects/fast-campus/no...      [0, 779]   \n",
       "21  /Users/kimbwook/PycharmProjects/fast-campus/no...     [0, 1018]   \n",
       "22  /Users/kimbwook/PycharmProjects/fast-campus/no...   [995, 1487]   \n",
       "23  /Users/kimbwook/PycharmProjects/fast-campus/no...      [0, 965]   \n",
       "24  /Users/kimbwook/PycharmProjects/fast-campus/no...   [951, 1370]   \n",
       "25  /Users/kimbwook/PycharmProjects/fast-campus/no...      [0, 910]   \n",
       "26  /Users/kimbwook/PycharmProjects/fast-campus/no...   [890, 1447]   \n",
       "27  /Users/kimbwook/PycharmProjects/fast-campus/no...      [0, 729]   \n",
       "28  /Users/kimbwook/PycharmProjects/fast-campus/no...     [0, 1008]   \n",
       "\n",
       "                                             metadata  \n",
       "0   {'last_modified_datetime': '2024-12-11', 'next...  \n",
       "1   {'last_modified_datetime': '2024-12-11', 'next...  \n",
       "2   {'last_modified_datetime': '2024-12-11', 'next...  \n",
       "3   {'last_modified_datetime': '2024-12-11', 'next...  \n",
       "4   {'last_modified_datetime': '2024-12-11', 'next...  \n",
       "5   {'last_modified_datetime': '2024-12-11', 'next...  \n",
       "6   {'last_modified_datetime': '2024-12-11', 'next...  \n",
       "7   {'last_modified_datetime': '2024-12-11', 'next...  \n",
       "8   {'last_modified_datetime': '2024-12-11', 'next...  \n",
       "9   {'last_modified_datetime': '2024-12-11', 'next...  \n",
       "10  {'last_modified_datetime': '2024-12-11', 'next...  \n",
       "11  {'last_modified_datetime': '2024-12-11', 'next...  \n",
       "12  {'last_modified_datetime': '2024-12-11', 'next...  \n",
       "13  {'last_modified_datetime': '2024-12-11', 'next...  \n",
       "14  {'last_modified_datetime': '2024-12-11', 'next...  \n",
       "15  {'last_modified_datetime': '2024-12-11', 'next...  \n",
       "16  {'last_modified_datetime': '2024-12-11', 'next...  \n",
       "17  {'last_modified_datetime': '2024-12-11', 'next...  \n",
       "18  {'last_modified_datetime': '2024-12-11', 'next...  \n",
       "19  {'last_modified_datetime': '2024-12-11', 'next...  \n",
       "20  {'last_modified_datetime': '2024-12-11', 'next...  \n",
       "21  {'last_modified_datetime': '2024-12-11', 'next...  \n",
       "22  {'last_modified_datetime': '2024-12-11', 'next...  \n",
       "23  {'last_modified_datetime': '2024-12-11', 'next...  \n",
       "24  {'last_modified_datetime': '2024-12-11', 'next...  \n",
       "25  {'last_modified_datetime': '2024-12-11', 'next...  \n",
       "26  {'last_modified_datetime': '2024-12-11', 'next...  \n",
       "27  {'last_modified_datetime': '2024-12-11', 'next...  \n",
       "28  {'last_modified_datetime': '2024-12-11', 'next...  "
      ],
      "text/html": [
       "<div>\n",
       "<style scoped>\n",
       "    .dataframe tbody tr th:only-of-type {\n",
       "        vertical-align: middle;\n",
       "    }\n",
       "\n",
       "    .dataframe tbody tr th {\n",
       "        vertical-align: top;\n",
       "    }\n",
       "\n",
       "    .dataframe thead th {\n",
       "        text-align: right;\n",
       "    }\n",
       "</style>\n",
       "<table border=\"1\" class=\"dataframe\">\n",
       "  <thead>\n",
       "    <tr style=\"text-align: right;\">\n",
       "      <th></th>\n",
       "      <th>doc_id</th>\n",
       "      <th>contents</th>\n",
       "      <th>path</th>\n",
       "      <th>start_end_idx</th>\n",
       "      <th>metadata</th>\n",
       "    </tr>\n",
       "  </thead>\n",
       "  <tbody>\n",
       "    <tr>\n",
       "      <th>0</th>\n",
       "      <td>e4cbed99-18a4-4a6f-ac46-1091c3c5d984</td>\n",
       "      <td># 중소벤처기업부공고제2024–300호\\n\\n# 2024년 글로벌팁스(GlobalT...</td>\n",
       "      <td>/Users/kimbwook/PycharmProjects/fast-campus/no...</td>\n",
       "      <td>[0, 660]</td>\n",
       "      <td>{'last_modified_datetime': '2024-12-11', 'next...</td>\n",
       "    </tr>\n",
       "    <tr>\n",
       "      <th>1</th>\n",
       "      <td>d1b52668-7a8c-44d8-9dca-461832615f80</td>\n",
       "      <td># 서류및발표평가\\n\\n# 결과에최대 5점까지 가점부여\\n\\n|가점세부항목|점수|비...</td>\n",
       "      <td>/Users/kimbwook/PycharmProjects/fast-campus/no...</td>\n",
       "      <td>[0, 691]</td>\n",
       "      <td>{'last_modified_datetime': '2024-12-11', 'next...</td>\n",
       "    </tr>\n",
       "    <tr>\n",
       "      <th>2</th>\n",
       "      <td>64356c4a-367e-4d0b-937c-f94cc6962741</td>\n",
       "      <td># 6 유의사항\\n\\n◈창업지원사업에신청하는창업기업은관련법령에따라 다음사항에유의하여...</td>\n",
       "      <td>/Users/kimbwook/PycharmProjects/fast-campus/no...</td>\n",
       "      <td>[0, 754]</td>\n",
       "      <td>{'last_modified_datetime': '2024-12-11', 'next...</td>\n",
       "    </tr>\n",
       "    <tr>\n",
       "      <th>3</th>\n",
       "      <td>c86a1744-0c76-48c9-b68d-59b4380d4192</td>\n",
       "      <td>◦ 선정자는 창업진흥원이 지정한 은행계좌(사업비계좌) 개설 및 창업 사업 통합 관리...</td>\n",
       "      <td>/Users/kimbwook/PycharmProjects/fast-campus/no...</td>\n",
       "      <td>[0, 520]</td>\n",
       "      <td>{'last_modified_datetime': '2024-12-11', 'next...</td>\n",
       "    </tr>\n",
       "    <tr>\n",
       "      <th>4</th>\n",
       "      <td>14c8f4c7-0047-4027-9428-6254863fb0e5</td>\n",
       "      <td># 창업여부 기준표\\n\\n|신청기업구분|상세구분| |창업여부|\\n|---|---|-...</td>\n",
       "      <td>/Users/kimbwook/PycharmProjects/fast-campus/no...</td>\n",
       "      <td>[0, 866]</td>\n",
       "      <td>{'last_modified_datetime': '2024-12-11', 'next...</td>\n",
       "    </tr>\n",
       "    <tr>\n",
       "      <th>5</th>\n",
       "      <td>49b697b6-ccfe-4936-9fe7-530893c03802</td>\n",
       "      <td>전부를 포괄적으로 양도하여야 함\\n\\n※ 동종의 범위: ‘한국표준산업분류(제10차)...</td>\n",
       "      <td>/Users/kimbwook/PycharmProjects/fast-campus/no...</td>\n",
       "      <td>[847, 1168]</td>\n",
       "      <td>{'last_modified_datetime': '2024-12-11', 'next...</td>\n",
       "    </tr>\n",
       "    <tr>\n",
       "      <th>6</th>\n",
       "      <td>6f8663b4-2707-42b1-a2f7-6469a86bde64</td>\n",
       "      <td># 붙임2\\n\\n|지원|제외|대상|업종|\\n|---|---|---|---|\\n|▶ ...</td>\n",
       "      <td>/Users/kimbwook/PycharmProjects/fast-campus/no...</td>\n",
       "      <td>[0, 289]</td>\n",
       "      <td>{'last_modified_datetime': '2024-12-11', 'next...</td>\n",
       "    </tr>\n",
       "    <tr>\n",
       "      <th>7</th>\n",
       "      <td>5bdd3ad6-ea70-4ee2-aab1-de9367cf5dfe</td>\n",
       "      <td># 붙임3\\n\\n# 동시수행불가한글로벌창업지원사업목록\\n\\n※’24년도중소벤처기업부...</td>\n",
       "      <td>/Users/kimbwook/PycharmProjects/fast-campus/no...</td>\n",
       "      <td>[0, 327]</td>\n",
       "      <td>{'last_modified_datetime': '2024-12-11', 'next...</td>\n",
       "    </tr>\n",
       "    <tr>\n",
       "      <th>8</th>\n",
       "      <td>3596d6a3-c75b-45ed-9686-d09aec2049f8</td>\n",
       "      <td># 붙임4\\n\\n# 신산업 창업 분야\\n\\n※「중소기업창업지원법」제25조4항에따라신...</td>\n",
       "      <td>/Users/kimbwook/PycharmProjects/fast-campus/no...</td>\n",
       "      <td>[0, 435]</td>\n",
       "      <td>{'last_modified_datetime': '2024-12-11', 'next...</td>\n",
       "    </tr>\n",
       "    <tr>\n",
       "      <th>9</th>\n",
       "      <td>fcd1a9ea-5dc2-4a1e-97e3-6936dba0b396</td>\n",
       "      <td># 붙임5\\n\\n# 소재·부품·장비 및 스타트업 10대 초격차분야\\n\\n☞ 품목별 ...</td>\n",
       "      <td>/Users/kimbwook/PycharmProjects/fast-campus/no...</td>\n",
       "      <td>[0, 814]</td>\n",
       "      <td>{'last_modified_datetime': '2024-12-11', 'next...</td>\n",
       "    </tr>\n",
       "    <tr>\n",
       "      <th>10</th>\n",
       "      <td>4198062a-acf9-4dc7-96d0-aac8f8baa961</td>\n",
       "      <td>(14개)|반도체측정/분석/검사장치및부품|\\n| |고효율유무기하이브리드방열소재|\\n...</td>\n",
       "      <td>/Users/kimbwook/PycharmProjects/fast-campus/no...</td>\n",
       "      <td>[816, 933]</td>\n",
       "      <td>{'last_modified_datetime': '2024-12-11', 'next...</td>\n",
       "    </tr>\n",
       "    <tr>\n",
       "      <th>11</th>\n",
       "      <td>db541aea-92fd-4d7c-89db-ab976bbec6d9</td>\n",
       "      <td># 전략분야\\n\\n# 전략품목\\n\\n|수소저장·운반용복합소재|4DFMCW라이다신호처...</td>\n",
       "      <td>/Users/kimbwook/PycharmProjects/fast-campus/no...</td>\n",
       "      <td>[0, 883]</td>\n",
       "      <td>{'last_modified_datetime': '2024-12-11', 'next...</td>\n",
       "    </tr>\n",
       "    <tr>\n",
       "      <th>12</th>\n",
       "      <td>c659e2ab-a1e9-4e16-a605-2b32c33cfeac</td>\n",
       "      <td>|스마트폰용전력증폭기|\\n| |Sub-THz급Multi-Channel레이더칩셋|</td>\n",
       "      <td>/Users/kimbwook/PycharmProjects/fast-campus/no...</td>\n",
       "      <td>[885, 927]</td>\n",
       "      <td>{'last_modified_datetime': '2024-12-11', 'next...</td>\n",
       "    </tr>\n",
       "    <tr>\n",
       "      <th>13</th>\n",
       "      <td>bff864a5-76a7-4b34-a4cc-da69b3358d80</td>\n",
       "      <td># 스타트업 10대 초격차 분야\\n\\n|10대분야|세부분류(예)|\\n|---|---...</td>\n",
       "      <td>/Users/kimbwook/PycharmProjects/fast-campus/no...</td>\n",
       "      <td>[0, 428]</td>\n",
       "      <td>{'last_modified_datetime': '2024-12-11', 'next...</td>\n",
       "    </tr>\n",
       "    <tr>\n",
       "      <th>14</th>\n",
       "      <td>1e101561-2806-4fa1-a0fb-85386b83f1ec</td>\n",
       "      <td># 지원내용\\n\\n□  협약기간: 협약시작일로부터 10개월 이내\\n\\n*사업기간은 ...</td>\n",
       "      <td>/Users/kimbwook/PycharmProjects/fast-campus/no...</td>\n",
       "      <td>[0, 887]</td>\n",
       "      <td>{'last_modified_datetime': '2024-12-11', 'next...</td>\n",
       "    </tr>\n",
       "    <tr>\n",
       "      <th>15</th>\n",
       "      <td>4900826d-f35b-4978-8918-561ff9a92393</td>\n",
       "      <td># 제출서류\\n\\n|제출서류|제출방법|유의사항|\\n|---|---|---|\\n|①사...</td>\n",
       "      <td>/Users/kimbwook/PycharmProjects/fast-campus/no...</td>\n",
       "      <td>[0, 796]</td>\n",
       "      <td>{'last_modified_datetime': '2024-12-11', 'next...</td>\n",
       "    </tr>\n",
       "    <tr>\n",
       "      <th>16</th>\n",
       "      <td>694a112f-f12f-4bff-95c2-e0322bd257c8</td>\n",
       "      <td># 5 평가및선정\\n\\n□평가절차:총2단계평가(서류 + (현장실사))를통해최종선정 ...</td>\n",
       "      <td>/Users/kimbwook/PycharmProjects/fast-campus/no...</td>\n",
       "      <td>[0, 692]</td>\n",
       "      <td>{'last_modified_datetime': '2024-12-11', 'next...</td>\n",
       "    </tr>\n",
       "    <tr>\n",
       "      <th>17</th>\n",
       "      <td>1e0d61c2-0377-4327-bc02-4ba7c3d6e9df</td>\n",
       "      <td># 최종선정:\\n\\n서류및발표평가결과에최종가점을합산하여지원대상자선정\\n\\n- 지원규...</td>\n",
       "      <td>/Users/kimbwook/PycharmProjects/fast-campus/no...</td>\n",
       "      <td>[0, 620]</td>\n",
       "      <td>{'last_modified_datetime': '2024-12-11', 'next...</td>\n",
       "    </tr>\n",
       "    <tr>\n",
       "      <th>18</th>\n",
       "      <td>1ca80f60-c0c6-4914-b8fd-8666d53553a1</td>\n",
       "      <td>* 합의 하에 공동 작성한 동일‧유사 사업계획서로 선정된 경우일지라도, 공동작성자\\...</td>\n",
       "      <td>/Users/kimbwook/PycharmProjects/fast-campus/no...</td>\n",
       "      <td>[0, 908]</td>\n",
       "      <td>{'last_modified_datetime': '2024-12-11', 'next...</td>\n",
       "    </tr>\n",
       "    <tr>\n",
       "      <th>19</th>\n",
       "      <td>e5a3cc25-bd1c-42f0-9a51-8de0ab804f24</td>\n",
       "      <td>【사업계획서 작성】\\n◦ 중장기 사업수행 계획은 총사업 기간(3년)에 맞추어 작성하...</td>\n",
       "      <td>/Users/kimbwook/PycharmProjects/fast-campus/no...</td>\n",
       "      <td>[0, 769]</td>\n",
       "      <td>{'last_modified_datetime': '2024-12-11', 'next...</td>\n",
       "    </tr>\n",
       "    <tr>\n",
       "      <th>20</th>\n",
       "      <td>b431805f-db8e-4d9a-8b01-70539e62823b</td>\n",
       "      <td>□ 선정 후 유의사항\\n◦ 동 사업에 선정된 자가 공고문 및 관련 규정에 위배되거나...</td>\n",
       "      <td>/Users/kimbwook/PycharmProjects/fast-campus/no...</td>\n",
       "      <td>[0, 779]</td>\n",
       "      <td>{'last_modified_datetime': '2024-12-11', 'next...</td>\n",
       "    </tr>\n",
       "    <tr>\n",
       "      <th>21</th>\n",
       "      <td>742778a2-d4da-4238-b4f3-99150fb899fc</td>\n",
       "      <td>붙임1 창업기업 확인에 관한 유의사항\\n□ 창업의 범위\\n◦ 다음의 요건을 모두 충...</td>\n",
       "      <td>/Users/kimbwook/PycharmProjects/fast-campus/no...</td>\n",
       "      <td>[0, 1018]</td>\n",
       "      <td>{'last_modified_datetime': '2024-12-11', 'next...</td>\n",
       "    </tr>\n",
       "    <tr>\n",
       "      <th>22</th>\n",
       "      <td>ec8ff4b7-c8ec-4f05-aa45-8961af67a4f6</td>\n",
       "      <td>법인인 기업과 그 소속 임원이\\n소유하고 있는 주식을 합산하여 계산한다.\\n5. 법...</td>\n",
       "      <td>/Users/kimbwook/PycharmProjects/fast-campus/no...</td>\n",
       "      <td>[995, 1487]</td>\n",
       "      <td>{'last_modified_datetime': '2024-12-11', 'next...</td>\n",
       "    </tr>\n",
       "    <tr>\n",
       "      <th>23</th>\n",
       "      <td>921a089a-d089-45e0-a044-bd7e52ae1faf</td>\n",
       "      <td>2 신청자격 및 요건\\n□ 신청자격\\n◦ ｢중소기업기본법｣ 제2조제1항에 따른 중소...</td>\n",
       "      <td>/Users/kimbwook/PycharmProjects/fast-campus/no...</td>\n",
       "      <td>[0, 965]</td>\n",
       "      <td>{'last_modified_datetime': '2024-12-11', 'next...</td>\n",
       "    </tr>\n",
       "    <tr>\n",
       "      <th>24</th>\n",
       "      <td>1f02816b-9c8d-4ca8-b771-03bf55df1d02</td>\n",
       "      <td>해외펀드 운용 실적 보유\\n• 전문인력(벤처캐피탈 및 액셀러레이터 등 투자 관련 경...</td>\n",
       "      <td>/Users/kimbwook/PycharmProjects/fast-campus/no...</td>\n",
       "      <td>[951, 1370]</td>\n",
       "      <td>{'last_modified_datetime': '2024-12-11', 'next...</td>\n",
       "    </tr>\n",
       "    <tr>\n",
       "      <th>25</th>\n",
       "      <td>8c2bd74c-34b0-41b7-93e2-9133843dd6c9</td>\n",
       "      <td>□ 신청 제외 대상 (사업 신청‧접수 마감일 기준)\\n① 금융기관 등으로부터 채무불...</td>\n",
       "      <td>/Users/kimbwook/PycharmProjects/fast-campus/no...</td>\n",
       "      <td>[0, 910]</td>\n",
       "      <td>{'last_modified_datetime': '2024-12-11', 'next...</td>\n",
       "    </tr>\n",
       "    <tr>\n",
       "      <th>26</th>\n",
       "      <td>25d6d0a5-6304-405e-916b-85ce087ba37a</td>\n",
       "      <td>협약 잔여기간에 관계없이 신청 가능\\n⑤ 중소벤처기업부 창업지원사업에 참여 제한으로...</td>\n",
       "      <td>/Users/kimbwook/PycharmProjects/fast-campus/no...</td>\n",
       "      <td>[890, 1447]</td>\n",
       "      <td>{'last_modified_datetime': '2024-12-11', 'next...</td>\n",
       "    </tr>\n",
       "    <tr>\n",
       "      <th>27</th>\n",
       "      <td>70652da9-ad91-4a99-bab6-4565a57fd509</td>\n",
       "      <td>□ 의무 및 역할\\n◦ 선정자는「중소기업창업 지원사업 운영요령」 및 「창업사업화\\n...</td>\n",
       "      <td>/Users/kimbwook/PycharmProjects/fast-campus/no...</td>\n",
       "      <td>[0, 729]</td>\n",
       "      <td>{'last_modified_datetime': '2024-12-11', 'next...</td>\n",
       "    </tr>\n",
       "    <tr>\n",
       "      <th>28</th>\n",
       "      <td>a2530b76-4c90-495e-92d2-9a9c8e2594b8</td>\n",
       "      <td>4 신청 및 접수\\n□ 신청 ‧ 접수 기간\\n◦ 접수기간 : 2024. 5. 7.(...</td>\n",
       "      <td>/Users/kimbwook/PycharmProjects/fast-campus/no...</td>\n",
       "      <td>[0, 1008]</td>\n",
       "      <td>{'last_modified_datetime': '2024-12-11', 'next...</td>\n",
       "    </tr>\n",
       "  </tbody>\n",
       "</table>\n",
       "</div>"
      ]
     },
     "execution_count": 17,
     "metadata": {},
     "output_type": "execute_result"
    }
   ],
   "execution_count": 17
  },
  {
   "metadata": {},
   "cell_type": "code",
   "outputs": [],
   "execution_count": null,
   "source": "",
   "id": "a33aa13dca4766f7"
  }
 ],
 "metadata": {
  "kernelspec": {
   "display_name": "Python 3",
   "language": "python",
   "name": "python3"
  },
  "language_info": {
   "codemirror_mode": {
    "name": "ipython",
    "version": 2
   },
   "file_extension": ".py",
   "mimetype": "text/x-python",
   "name": "python",
   "nbconvert_exporter": "python",
   "pygments_lexer": "ipython2",
   "version": "2.7.6"
  }
 },
 "nbformat": 4,
 "nbformat_minor": 5
}
