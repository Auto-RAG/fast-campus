{
 "cells": [
  {
   "metadata": {},
   "cell_type": "markdown",
   "source": "# Semantic Chunking 실습",
   "id": "4cdaf550eed488a"
  },
  {
   "metadata": {},
   "cell_type": "markdown",
   "source": "## 0. Basic Setting",
   "id": "c74ec1e5b7c23783"
  },
  {
   "metadata": {
    "ExecuteTime": {
     "end_time": "2024-12-21T08:13:25.352747Z",
     "start_time": "2024-12-21T08:13:25.346478Z"
    }
   },
   "cell_type": "code",
   "source": [
    "import os\n",
    "from typing import Callable, List\n",
    "\n",
    "current_dir = os.getcwd()\n",
    "root_dir = os.path.join(current_dir, '..', '..')"
   ],
   "id": "39c2b78ffc777d42",
   "outputs": [],
   "execution_count": 1
  },
  {
   "metadata": {
    "ExecuteTime": {
     "end_time": "2024-12-21T08:13:25.750851Z",
     "start_time": "2024-12-21T08:13:25.740538Z"
    }
   },
   "cell_type": "code",
   "source": [
    "from dotenv import load_dotenv\n",
    "\n",
    "load_dotenv()"
   ],
   "id": "a67b43df7963b89",
   "outputs": [
    {
     "data": {
      "text/plain": [
       "True"
      ]
     },
     "execution_count": 2,
     "metadata": {},
     "output_type": "execute_result"
    }
   ],
   "execution_count": 2
  },
  {
   "metadata": {
    "ExecuteTime": {
     "end_time": "2024-12-21T08:13:26.174361Z",
     "start_time": "2024-12-21T08:13:26.170257Z"
    }
   },
   "cell_type": "code",
   "source": [
    "import nest_asyncio\n",
    "\n",
    "nest_asyncio.apply()"
   ],
   "id": "3409a4cbdeccf786",
   "outputs": [],
   "execution_count": 3
  },
  {
   "metadata": {
    "ExecuteTime": {
     "end_time": "2024-12-21T08:13:27.094017Z",
     "start_time": "2024-12-21T08:13:26.560648Z"
    }
   },
   "cell_type": "code",
   "source": [
    "import pandas as pd\n",
    "\n",
    "parsed_path = os.path.join(root_dir, 'autorag_project', 'parse', 'hybrid', 'pdf.parquet')\n",
    "parsed_result = pd.read_parquet(parsed_path)\n",
    "parsed_result"
   ],
   "id": "e82fc817ec956ca1",
   "outputs": [
    {
     "data": {
      "text/plain": [
       "                                                texts  \\\n",
       "0   # 중소벤처기업부공고제2024–300호\\n\\n# 2024년 글로벌팁스(GlobalT...   \n",
       "1   # 서류및발표평가\\n\\n# 결과에최대 5점까지 가점부여\\n\\n|가점세부항목|점수|비...   \n",
       "2   # 6 유의사항\\n\\n◈창업지원사업에신청하는창업기업은관련법령에따라 다음사항에유의하여...   \n",
       "3   ◦ 선정자는 창업진흥원이 지정한 은행계좌(사업비계좌) 개설 및 창업 사업 통합 관리...   \n",
       "4   # 창업여부 기준표\\n\\n|신청기업구분|상세구분| |창업여부|\\n|---|---|-...   \n",
       "5   # 붙임2\\n\\n|지원|제외|대상|업종|\\n|---|---|---|---|\\n|▶ ...   \n",
       "6   # 붙임3\\n\\n# 동시수행불가한글로벌창업지원사업목록\\n\\n※’24년도중소벤처기업부...   \n",
       "7   # 붙임4\\n\\n# 신산업 창업 분야\\n\\n※「중소기업창업지원법」제25조4항에따라신...   \n",
       "8   # 붙임5\\n\\n# 소재·부품·장비 및 스타트업 10대 초격차분야\\n\\n☞ 품목별 ...   \n",
       "9   # 전략분야\\n\\n# 전략품목\\n\\n|수소저장·운반용복합소재|4DFMCW라이다신호처...   \n",
       "10  # 스타트업 10대 초격차 분야\\n\\n|10대분야|세부분류(예)|\\n|---|---...   \n",
       "11  # 지원내용\\n\\n□  협약기간: 협약시작일로부터 10개월 이내\\n\\n*사업기간은 ...   \n",
       "12  # 제출서류\\n\\n|제출서류|제출방법|유의사항|\\n|---|---|---|\\n|①사...   \n",
       "13  # 5 평가및선정\\n\\n□평가절차:총2단계평가(서류 + (현장실사))를통해최종선정 ...   \n",
       "14  # 최종선정:\\n\\n서류및발표평가결과에최종가점을합산하여지원대상자선정\\n\\n- 지원규...   \n",
       "15  * 합의 하에 공동 작성한 동일‧유사 사업계획서로 선정된 경우일지라도, 공동작성자\\...   \n",
       "16  【사업계획서 작성】\\n◦ 중장기 사업수행 계획은 총사업 기간(3년)에 맞추어 작성하...   \n",
       "17  □ 선정 후 유의사항\\n◦ 동 사업에 선정된 자가 공고문 및 관련 규정에 위배되거나...   \n",
       "18  붙임1 창업기업 확인에 관한 유의사항\\n□ 창업의 범위\\n◦ 다음의 요건을 모두 충...   \n",
       "19  2 신청자격 및 요건\\n□ 신청자격\\n◦ ｢중소기업기본법｣ 제2조제1항에 따른 중소...   \n",
       "20  □ 신청 제외 대상 (사업 신청‧접수 마감일 기준)\\n① 금융기관 등으로부터 채무불...   \n",
       "21  □ 의무 및 역할\\n◦ 선정자는「중소기업창업 지원사업 운영요령」 및 「창업사업화\\n...   \n",
       "22  4 신청 및 접수\\n□ 신청 ‧ 접수 기간\\n◦ 접수기간 : 2024. 5. 7.(...   \n",
       "\n",
       "                                                 path  page  \\\n",
       "0   /Users/kimbwook/PycharmProjects/fast-campus/no...     1   \n",
       "1   /Users/kimbwook/PycharmProjects/fast-campus/no...    10   \n",
       "2   /Users/kimbwook/PycharmProjects/fast-campus/no...    11   \n",
       "3   /Users/kimbwook/PycharmProjects/fast-campus/no...    15   \n",
       "4   /Users/kimbwook/PycharmProjects/fast-campus/no...    17   \n",
       "5   /Users/kimbwook/PycharmProjects/fast-campus/no...    18   \n",
       "6   /Users/kimbwook/PycharmProjects/fast-campus/no...    19   \n",
       "7   /Users/kimbwook/PycharmProjects/fast-campus/no...    20   \n",
       "8   /Users/kimbwook/PycharmProjects/fast-campus/no...    21   \n",
       "9   /Users/kimbwook/PycharmProjects/fast-campus/no...    22   \n",
       "10  /Users/kimbwook/PycharmProjects/fast-campus/no...    23   \n",
       "11  /Users/kimbwook/PycharmProjects/fast-campus/no...     5   \n",
       "12  /Users/kimbwook/PycharmProjects/fast-campus/no...     7   \n",
       "13  /Users/kimbwook/PycharmProjects/fast-campus/no...     8   \n",
       "14  /Users/kimbwook/PycharmProjects/fast-campus/no...     9   \n",
       "15  /Users/kimbwook/PycharmProjects/fast-campus/no...    12   \n",
       "16  /Users/kimbwook/PycharmProjects/fast-campus/no...    13   \n",
       "17  /Users/kimbwook/PycharmProjects/fast-campus/no...    14   \n",
       "18  /Users/kimbwook/PycharmProjects/fast-campus/no...    16   \n",
       "19  /Users/kimbwook/PycharmProjects/fast-campus/no...     2   \n",
       "20  /Users/kimbwook/PycharmProjects/fast-campus/no...     3   \n",
       "21  /Users/kimbwook/PycharmProjects/fast-campus/no...     4   \n",
       "22  /Users/kimbwook/PycharmProjects/fast-campus/no...     6   \n",
       "\n",
       "   last_modified_datetime  \n",
       "0              2024-12-11  \n",
       "1              2024-12-11  \n",
       "2              2024-12-11  \n",
       "3              2024-12-11  \n",
       "4              2024-12-11  \n",
       "5              2024-12-11  \n",
       "6              2024-12-11  \n",
       "7              2024-12-11  \n",
       "8              2024-12-11  \n",
       "9              2024-12-11  \n",
       "10             2024-12-11  \n",
       "11             2024-12-11  \n",
       "12             2024-12-11  \n",
       "13             2024-12-11  \n",
       "14             2024-12-11  \n",
       "15             2024-12-11  \n",
       "16             2024-12-11  \n",
       "17             2024-12-11  \n",
       "18             2024-12-11  \n",
       "19             2024-12-11  \n",
       "20             2024-12-11  \n",
       "21             2024-12-11  \n",
       "22             2024-12-11  "
      ],
      "text/html": [
       "<div>\n",
       "<style scoped>\n",
       "    .dataframe tbody tr th:only-of-type {\n",
       "        vertical-align: middle;\n",
       "    }\n",
       "\n",
       "    .dataframe tbody tr th {\n",
       "        vertical-align: top;\n",
       "    }\n",
       "\n",
       "    .dataframe thead th {\n",
       "        text-align: right;\n",
       "    }\n",
       "</style>\n",
       "<table border=\"1\" class=\"dataframe\">\n",
       "  <thead>\n",
       "    <tr style=\"text-align: right;\">\n",
       "      <th></th>\n",
       "      <th>texts</th>\n",
       "      <th>path</th>\n",
       "      <th>page</th>\n",
       "      <th>last_modified_datetime</th>\n",
       "    </tr>\n",
       "  </thead>\n",
       "  <tbody>\n",
       "    <tr>\n",
       "      <th>0</th>\n",
       "      <td># 중소벤처기업부공고제2024–300호\\n\\n# 2024년 글로벌팁스(GlobalT...</td>\n",
       "      <td>/Users/kimbwook/PycharmProjects/fast-campus/no...</td>\n",
       "      <td>1</td>\n",
       "      <td>2024-12-11</td>\n",
       "    </tr>\n",
       "    <tr>\n",
       "      <th>1</th>\n",
       "      <td># 서류및발표평가\\n\\n# 결과에최대 5점까지 가점부여\\n\\n|가점세부항목|점수|비...</td>\n",
       "      <td>/Users/kimbwook/PycharmProjects/fast-campus/no...</td>\n",
       "      <td>10</td>\n",
       "      <td>2024-12-11</td>\n",
       "    </tr>\n",
       "    <tr>\n",
       "      <th>2</th>\n",
       "      <td># 6 유의사항\\n\\n◈창업지원사업에신청하는창업기업은관련법령에따라 다음사항에유의하여...</td>\n",
       "      <td>/Users/kimbwook/PycharmProjects/fast-campus/no...</td>\n",
       "      <td>11</td>\n",
       "      <td>2024-12-11</td>\n",
       "    </tr>\n",
       "    <tr>\n",
       "      <th>3</th>\n",
       "      <td>◦ 선정자는 창업진흥원이 지정한 은행계좌(사업비계좌) 개설 및 창업 사업 통합 관리...</td>\n",
       "      <td>/Users/kimbwook/PycharmProjects/fast-campus/no...</td>\n",
       "      <td>15</td>\n",
       "      <td>2024-12-11</td>\n",
       "    </tr>\n",
       "    <tr>\n",
       "      <th>4</th>\n",
       "      <td># 창업여부 기준표\\n\\n|신청기업구분|상세구분| |창업여부|\\n|---|---|-...</td>\n",
       "      <td>/Users/kimbwook/PycharmProjects/fast-campus/no...</td>\n",
       "      <td>17</td>\n",
       "      <td>2024-12-11</td>\n",
       "    </tr>\n",
       "    <tr>\n",
       "      <th>5</th>\n",
       "      <td># 붙임2\\n\\n|지원|제외|대상|업종|\\n|---|---|---|---|\\n|▶ ...</td>\n",
       "      <td>/Users/kimbwook/PycharmProjects/fast-campus/no...</td>\n",
       "      <td>18</td>\n",
       "      <td>2024-12-11</td>\n",
       "    </tr>\n",
       "    <tr>\n",
       "      <th>6</th>\n",
       "      <td># 붙임3\\n\\n# 동시수행불가한글로벌창업지원사업목록\\n\\n※’24년도중소벤처기업부...</td>\n",
       "      <td>/Users/kimbwook/PycharmProjects/fast-campus/no...</td>\n",
       "      <td>19</td>\n",
       "      <td>2024-12-11</td>\n",
       "    </tr>\n",
       "    <tr>\n",
       "      <th>7</th>\n",
       "      <td># 붙임4\\n\\n# 신산업 창업 분야\\n\\n※「중소기업창업지원법」제25조4항에따라신...</td>\n",
       "      <td>/Users/kimbwook/PycharmProjects/fast-campus/no...</td>\n",
       "      <td>20</td>\n",
       "      <td>2024-12-11</td>\n",
       "    </tr>\n",
       "    <tr>\n",
       "      <th>8</th>\n",
       "      <td># 붙임5\\n\\n# 소재·부품·장비 및 스타트업 10대 초격차분야\\n\\n☞ 품목별 ...</td>\n",
       "      <td>/Users/kimbwook/PycharmProjects/fast-campus/no...</td>\n",
       "      <td>21</td>\n",
       "      <td>2024-12-11</td>\n",
       "    </tr>\n",
       "    <tr>\n",
       "      <th>9</th>\n",
       "      <td># 전략분야\\n\\n# 전략품목\\n\\n|수소저장·운반용복합소재|4DFMCW라이다신호처...</td>\n",
       "      <td>/Users/kimbwook/PycharmProjects/fast-campus/no...</td>\n",
       "      <td>22</td>\n",
       "      <td>2024-12-11</td>\n",
       "    </tr>\n",
       "    <tr>\n",
       "      <th>10</th>\n",
       "      <td># 스타트업 10대 초격차 분야\\n\\n|10대분야|세부분류(예)|\\n|---|---...</td>\n",
       "      <td>/Users/kimbwook/PycharmProjects/fast-campus/no...</td>\n",
       "      <td>23</td>\n",
       "      <td>2024-12-11</td>\n",
       "    </tr>\n",
       "    <tr>\n",
       "      <th>11</th>\n",
       "      <td># 지원내용\\n\\n□  협약기간: 협약시작일로부터 10개월 이내\\n\\n*사업기간은 ...</td>\n",
       "      <td>/Users/kimbwook/PycharmProjects/fast-campus/no...</td>\n",
       "      <td>5</td>\n",
       "      <td>2024-12-11</td>\n",
       "    </tr>\n",
       "    <tr>\n",
       "      <th>12</th>\n",
       "      <td># 제출서류\\n\\n|제출서류|제출방법|유의사항|\\n|---|---|---|\\n|①사...</td>\n",
       "      <td>/Users/kimbwook/PycharmProjects/fast-campus/no...</td>\n",
       "      <td>7</td>\n",
       "      <td>2024-12-11</td>\n",
       "    </tr>\n",
       "    <tr>\n",
       "      <th>13</th>\n",
       "      <td># 5 평가및선정\\n\\n□평가절차:총2단계평가(서류 + (현장실사))를통해최종선정 ...</td>\n",
       "      <td>/Users/kimbwook/PycharmProjects/fast-campus/no...</td>\n",
       "      <td>8</td>\n",
       "      <td>2024-12-11</td>\n",
       "    </tr>\n",
       "    <tr>\n",
       "      <th>14</th>\n",
       "      <td># 최종선정:\\n\\n서류및발표평가결과에최종가점을합산하여지원대상자선정\\n\\n- 지원규...</td>\n",
       "      <td>/Users/kimbwook/PycharmProjects/fast-campus/no...</td>\n",
       "      <td>9</td>\n",
       "      <td>2024-12-11</td>\n",
       "    </tr>\n",
       "    <tr>\n",
       "      <th>15</th>\n",
       "      <td>* 합의 하에 공동 작성한 동일‧유사 사업계획서로 선정된 경우일지라도, 공동작성자\\...</td>\n",
       "      <td>/Users/kimbwook/PycharmProjects/fast-campus/no...</td>\n",
       "      <td>12</td>\n",
       "      <td>2024-12-11</td>\n",
       "    </tr>\n",
       "    <tr>\n",
       "      <th>16</th>\n",
       "      <td>【사업계획서 작성】\\n◦ 중장기 사업수행 계획은 총사업 기간(3년)에 맞추어 작성하...</td>\n",
       "      <td>/Users/kimbwook/PycharmProjects/fast-campus/no...</td>\n",
       "      <td>13</td>\n",
       "      <td>2024-12-11</td>\n",
       "    </tr>\n",
       "    <tr>\n",
       "      <th>17</th>\n",
       "      <td>□ 선정 후 유의사항\\n◦ 동 사업에 선정된 자가 공고문 및 관련 규정에 위배되거나...</td>\n",
       "      <td>/Users/kimbwook/PycharmProjects/fast-campus/no...</td>\n",
       "      <td>14</td>\n",
       "      <td>2024-12-11</td>\n",
       "    </tr>\n",
       "    <tr>\n",
       "      <th>18</th>\n",
       "      <td>붙임1 창업기업 확인에 관한 유의사항\\n□ 창업의 범위\\n◦ 다음의 요건을 모두 충...</td>\n",
       "      <td>/Users/kimbwook/PycharmProjects/fast-campus/no...</td>\n",
       "      <td>16</td>\n",
       "      <td>2024-12-11</td>\n",
       "    </tr>\n",
       "    <tr>\n",
       "      <th>19</th>\n",
       "      <td>2 신청자격 및 요건\\n□ 신청자격\\n◦ ｢중소기업기본법｣ 제2조제1항에 따른 중소...</td>\n",
       "      <td>/Users/kimbwook/PycharmProjects/fast-campus/no...</td>\n",
       "      <td>2</td>\n",
       "      <td>2024-12-11</td>\n",
       "    </tr>\n",
       "    <tr>\n",
       "      <th>20</th>\n",
       "      <td>□ 신청 제외 대상 (사업 신청‧접수 마감일 기준)\\n① 금융기관 등으로부터 채무불...</td>\n",
       "      <td>/Users/kimbwook/PycharmProjects/fast-campus/no...</td>\n",
       "      <td>3</td>\n",
       "      <td>2024-12-11</td>\n",
       "    </tr>\n",
       "    <tr>\n",
       "      <th>21</th>\n",
       "      <td>□ 의무 및 역할\\n◦ 선정자는「중소기업창업 지원사업 운영요령」 및 「창업사업화\\n...</td>\n",
       "      <td>/Users/kimbwook/PycharmProjects/fast-campus/no...</td>\n",
       "      <td>4</td>\n",
       "      <td>2024-12-11</td>\n",
       "    </tr>\n",
       "    <tr>\n",
       "      <th>22</th>\n",
       "      <td>4 신청 및 접수\\n□ 신청 ‧ 접수 기간\\n◦ 접수기간 : 2024. 5. 7.(...</td>\n",
       "      <td>/Users/kimbwook/PycharmProjects/fast-campus/no...</td>\n",
       "      <td>6</td>\n",
       "      <td>2024-12-11</td>\n",
       "    </tr>\n",
       "  </tbody>\n",
       "</table>\n",
       "</div>"
      ]
     },
     "execution_count": 4,
     "metadata": {},
     "output_type": "execute_result"
    }
   ],
   "execution_count": 4
  },
  {
   "metadata": {
    "ExecuteTime": {
     "end_time": "2024-12-21T08:13:27.137700Z",
     "start_time": "2024-12-21T08:13:27.134972Z"
    }
   },
   "cell_type": "code",
   "source": "texts = parsed_result[\"texts\"].tolist()",
   "id": "f48bc86b12bd27a8",
   "outputs": [],
   "execution_count": 5
  },
  {
   "metadata": {},
   "cell_type": "markdown",
   "source": "### For LlamaIndex Chunk",
   "id": "ff553c11057d1892"
  },
  {
   "metadata": {
    "ExecuteTime": {
     "end_time": "2024-12-21T08:13:29.917061Z",
     "start_time": "2024-12-21T08:13:28.040612Z"
    }
   },
   "cell_type": "code",
   "source": [
    "from llama_index.core import Document\n",
    "\n",
    "documents = [Document(text=texts[0])]"
   ],
   "id": "70fe75b552b8d5fa",
   "outputs": [],
   "execution_count": 6
  },
  {
   "metadata": {
    "ExecuteTime": {
     "end_time": "2024-12-21T08:13:29.924945Z",
     "start_time": "2024-12-21T08:13:29.921542Z"
    }
   },
   "cell_type": "code",
   "source": [
    "def split_by_sentence_kiwi() -> Callable[[str], List[str]]:\n",
    "\tfrom kiwipiepy import Kiwi\n",
    "\tkiwi = Kiwi()\n",
    "\n",
    "\tdef split(text: str) -> List[str]:\n",
    "\t\tkiwi_result = kiwi.split_into_sents(text)\n",
    "\t\tsentences = list(map(lambda x: x.text, kiwi_result))\n",
    "\n",
    "\t\treturn sentences\n",
    "\n",
    "\treturn split"
   ],
   "id": "b86d24f97b731ffe",
   "outputs": [],
   "execution_count": 7
  },
  {
   "metadata": {
    "ExecuteTime": {
     "end_time": "2024-12-21T08:13:33.038208Z",
     "start_time": "2024-12-21T08:13:29.935201Z"
    }
   },
   "cell_type": "code",
   "source": [
    "from llama_index.core.node_parser import SemanticSplitterNodeParser\n",
    "from llama_index.embeddings.openai import OpenAIEmbedding\n",
    "# from llama_index.embeddings.upstage import UpstageEmbedding\n",
    "\n",
    "embed_model = OpenAIEmbedding()\n",
    "# upstage = UpstageEmbedding()\n",
    "\n",
    "semantic = SemanticSplitterNodeParser(sentence_splitter=split_by_sentence_kiwi(), embed_model=embed_model, breakpoint_percentile_threshold=95)\n",
    "\n",
    "semantic_result = semantic.get_nodes_from_documents(documents=documents)\n",
    "semantic_texts = [x.text for x in semantic_result]"
   ],
   "id": "8e952eddcc26a598",
   "outputs": [],
   "execution_count": 8
  },
  {
   "metadata": {
    "ExecuteTime": {
     "end_time": "2024-12-21T08:16:36.113093Z",
     "start_time": "2024-12-21T08:16:36.109082Z"
    }
   },
   "cell_type": "code",
   "source": "len(semantic_texts)",
   "id": "7014319f1285bf9f",
   "outputs": [
    {
     "data": {
      "text/plain": [
       "2"
      ]
     },
     "execution_count": 12,
     "metadata": {},
     "output_type": "execute_result"
    }
   ],
   "execution_count": 12
  },
  {
   "metadata": {
    "ExecuteTime": {
     "end_time": "2024-12-21T08:16:36.665669Z",
     "start_time": "2024-12-21T08:16:36.662872Z"
    }
   },
   "cell_type": "code",
   "source": "print(semantic_texts[0])",
   "id": "8e8246c75b5b8da8",
   "outputs": [
    {
     "name": "stdout",
     "output_type": "stream",
     "text": [
      "# 중소벤처기업부공고제2024–300호# 2024년 글로벌팁스(GlobalTIPS) 창업기업 모집 공고해외투자와 연계하여 유망 창업기업의 해외 진출 및 글로벌 기업으로의 성장을 지원하는 『2024년 글로벌팁스(GlobalTIPS)』에 참여할 창업기업을 다음과 같이 모집합니다.2024년 5월 7일중소벤처기업부장관# 1 사업개요□ 사업목적: 미래 신성장 동력 발굴과 글로벌 선도 기업 육성 등을 위해 해외 벤처 캐피탈 등으로부터 투자받은 유망 창업기업의 글로벌 진출 활성화 도모□ 지원대상: 해외 VC로부터 20만 불 이상 투자를 유치하고 해외 법인 설립 희망하는 업력 7년 이내 창업기업*「중소기업 창업 지원법」에 따른 신산업 분야 ([붙임4] 참조) 창업기업인 경우 업력 10년 기업까지 지원 가능□ 지원내용: 사업화 자금 (최대 2억원, 평균 1.8억원) 현지 진출 프로그램 등|사업화 자금|현지 진출 프로그램|\n",
      "|---|---|\n",
      "|시제품 제작, 지재권 취득, 사업모델 (BM) 개선 등에 소요되는 비용 지원|실무 교육, 멘토링, 글로벌 네트워킹, 후속 투자 유치 등 주관 기관의 창업 프로그램 운영|□ 선정규모: 20개사 내외\n"
     ]
    }
   ],
   "execution_count": 13
  },
  {
   "metadata": {
    "ExecuteTime": {
     "end_time": "2024-12-21T08:16:37.331441Z",
     "start_time": "2024-12-21T08:16:37.328623Z"
    }
   },
   "cell_type": "code",
   "source": "print(semantic_texts[1])",
   "id": "c0f00b1a040e73fa",
   "outputs": [
    {
     "name": "stdout",
     "output_type": "stream",
     "text": [
      "□ 협약기간: 협약 시작일로부터 10개월 이내* 사업기간은 총 3년으로 선정 후, 1년 단위로 협약 연장\n"
     ]
    }
   ],
   "execution_count": 14
  },
  {
   "metadata": {},
   "cell_type": "markdown",
   "source": "# Use AutoRAG",
   "id": "f7084994a6fe9850"
  },
  {
   "metadata": {
    "ExecuteTime": {
     "end_time": "2024-12-21T08:19:37.117009Z",
     "start_time": "2024-12-21T08:19:12.743668Z"
    }
   },
   "cell_type": "code",
   "source": [
    "from autorag.chunker import Chunker\n",
    "\n",
    "# Set path\n",
    "parsed_path = os.path.join(root_dir, 'autorag_project', 'parse', 'hybrid', 'parsed_result.parquet')\n",
    "project_dir = os.path.join(root_dir, 'autorag_project', 'chunk', 'semantic')\n",
    "\n",
    "chunker = Chunker.from_parquet(parsed_data_path=parsed_path, project_dir=project_dir)\n",
    "chunker.start_chunking(os.path.join(root_dir, 'config', 'chunk', 'semantic_chunking.yaml'))"
   ],
   "id": "f18a76be44bc427a",
   "outputs": [
    {
     "data": {
      "text/plain": [
       "\u001B[2;36m[12/21/24 17:19:14]\u001B[0m\u001B[2;36m \u001B[0m\u001B[34mINFO    \u001B[0m \u001B[1m[\u001B[0m__init__.py:\u001B[1;36m100\u001B[0m\u001B[1m]\u001B[0m >> You are using API version of AutoRAG.To use local \u001B]8;id=736285;file:///Users/kimbwook/PycharmProjects/fast-campus/venv/lib/python3.10/site-packages/autorag/__init__.py\u001B\\\u001B[2m__init__.py\u001B[0m\u001B]8;;\u001B\\\u001B[2m:\u001B[0m\u001B]8;id=524002;file:///Users/kimbwook/PycharmProjects/fast-campus/venv/lib/python3.10/site-packages/autorag/__init__.py#100\u001B\\\u001B[2m100\u001B[0m\u001B]8;;\u001B\\\n",
       "\u001B[2;36m                    \u001B[0m         version, run pip install \u001B[32m'AutoRAG\u001B[0m\u001B[32m[\u001B[0m\u001B[32mgpu\u001B[0m\u001B[32m]\u001B[0m\u001B[32m'\u001B[0m                                \u001B[2m               \u001B[0m\n"
      ],
      "text/html": [
       "<pre style=\"white-space:pre;overflow-x:auto;line-height:normal;font-family:Menlo,'DejaVu Sans Mono',consolas,'Courier New',monospace\"><span style=\"color: #7fbfbf; text-decoration-color: #7fbfbf\">[12/21/24 17:19:14] </span><span style=\"color: #000080; text-decoration-color: #000080\">INFO    </span> <span style=\"font-weight: bold\">[</span>__init__.py:<span style=\"color: #008080; text-decoration-color: #008080; font-weight: bold\">100</span><span style=\"font-weight: bold\">]</span> &gt;&gt; You are using API version of AutoRAG.To use local <a href=\"file:///Users/kimbwook/PycharmProjects/fast-campus/venv/lib/python3.10/site-packages/autorag/__init__.py\" target=\"_blank\"><span style=\"color: #7f7f7f; text-decoration-color: #7f7f7f\">__init__.py</span></a><span style=\"color: #7f7f7f; text-decoration-color: #7f7f7f\">:</span><a href=\"file:///Users/kimbwook/PycharmProjects/fast-campus/venv/lib/python3.10/site-packages/autorag/__init__.py#100\" target=\"_blank\"><span style=\"color: #7f7f7f; text-decoration-color: #7f7f7f\">100</span></a>\n",
       "<span style=\"color: #7fbfbf; text-decoration-color: #7fbfbf\">                    </span>         version, run pip install <span style=\"color: #008000; text-decoration-color: #008000\">'AutoRAG[gpu]'</span>                                <span style=\"color: #7f7f7f; text-decoration-color: #7f7f7f\">               </span>\n",
       "</pre>\n"
      ]
     },
     "metadata": {},
     "output_type": "display_data"
    },
    {
     "data": {
      "text/plain": [
       "\u001B[2;36m                   \u001B[0m\u001B[2;36m \u001B[0m\u001B[34mINFO    \u001B[0m \u001B[1m[\u001B[0m__init__.py:\u001B[1;36m128\u001B[0m\u001B[1m]\u001B[0m >> You are using API version of AutoRAG.To use local \u001B]8;id=976235;file:///Users/kimbwook/PycharmProjects/fast-campus/venv/lib/python3.10/site-packages/autorag/__init__.py\u001B\\\u001B[2m__init__.py\u001B[0m\u001B]8;;\u001B\\\u001B[2m:\u001B[0m\u001B]8;id=77651;file:///Users/kimbwook/PycharmProjects/fast-campus/venv/lib/python3.10/site-packages/autorag/__init__.py#128\u001B\\\u001B[2m128\u001B[0m\u001B]8;;\u001B\\\n",
       "\u001B[2;36m                    \u001B[0m         version, run pip install \u001B[32m'AutoRAG\u001B[0m\u001B[32m[\u001B[0m\u001B[32mgpu\u001B[0m\u001B[32m]\u001B[0m\u001B[32m'\u001B[0m                                \u001B[2m               \u001B[0m\n"
      ],
      "text/html": [
       "<pre style=\"white-space:pre;overflow-x:auto;line-height:normal;font-family:Menlo,'DejaVu Sans Mono',consolas,'Courier New',monospace\"><span style=\"color: #7fbfbf; text-decoration-color: #7fbfbf\">                    </span><span style=\"color: #000080; text-decoration-color: #000080\">INFO    </span> <span style=\"font-weight: bold\">[</span>__init__.py:<span style=\"color: #008080; text-decoration-color: #008080; font-weight: bold\">128</span><span style=\"font-weight: bold\">]</span> &gt;&gt; You are using API version of AutoRAG.To use local <a href=\"file:///Users/kimbwook/PycharmProjects/fast-campus/venv/lib/python3.10/site-packages/autorag/__init__.py\" target=\"_blank\"><span style=\"color: #7f7f7f; text-decoration-color: #7f7f7f\">__init__.py</span></a><span style=\"color: #7f7f7f; text-decoration-color: #7f7f7f\">:</span><a href=\"file:///Users/kimbwook/PycharmProjects/fast-campus/venv/lib/python3.10/site-packages/autorag/__init__.py#128\" target=\"_blank\"><span style=\"color: #7f7f7f; text-decoration-color: #7f7f7f\">128</span></a>\n",
       "<span style=\"color: #7fbfbf; text-decoration-color: #7fbfbf\">                    </span>         version, run pip install <span style=\"color: #008000; text-decoration-color: #008000\">'AutoRAG[gpu]'</span>                                <span style=\"color: #7f7f7f; text-decoration-color: #7f7f7f\">               </span>\n",
       "</pre>\n"
      ]
     },
     "metadata": {},
     "output_type": "display_data"
    },
    {
     "data": {
      "text/plain": [
       "\u001B[2;36m[12/21/24 17:19:15]\u001B[0m\u001B[2;36m \u001B[0m\u001B[34mINFO    \u001B[0m \u001B[1m[\u001B[0mchunker.py:\u001B[1;36m44\u001B[0m\u001B[1m]\u001B[0m >> Chunking Start\u001B[33m...\u001B[0m                                     \u001B]8;id=115071;file:///Users/kimbwook/PycharmProjects/fast-campus/venv/lib/python3.10/site-packages/autorag/chunker.py\u001B\\\u001B[2mchunker.py\u001B[0m\u001B]8;;\u001B\\\u001B[2m:\u001B[0m\u001B]8;id=722543;file:///Users/kimbwook/PycharmProjects/fast-campus/venv/lib/python3.10/site-packages/autorag/chunker.py#44\u001B\\\u001B[2m44\u001B[0m\u001B]8;;\u001B\\\n"
      ],
      "text/html": [
       "<pre style=\"white-space:pre;overflow-x:auto;line-height:normal;font-family:Menlo,'DejaVu Sans Mono',consolas,'Courier New',monospace\"><span style=\"color: #7fbfbf; text-decoration-color: #7fbfbf\">[12/21/24 17:19:15] </span><span style=\"color: #000080; text-decoration-color: #000080\">INFO    </span> <span style=\"font-weight: bold\">[</span>chunker.py:<span style=\"color: #008080; text-decoration-color: #008080; font-weight: bold\">44</span><span style=\"font-weight: bold\">]</span> &gt;&gt; Chunking Start<span style=\"color: #808000; text-decoration-color: #808000\">...</span>                                     <a href=\"file:///Users/kimbwook/PycharmProjects/fast-campus/venv/lib/python3.10/site-packages/autorag/chunker.py\" target=\"_blank\"><span style=\"color: #7f7f7f; text-decoration-color: #7f7f7f\">chunker.py</span></a><span style=\"color: #7f7f7f; text-decoration-color: #7f7f7f\">:</span><a href=\"file:///Users/kimbwook/PycharmProjects/fast-campus/venv/lib/python3.10/site-packages/autorag/chunker.py#44\" target=\"_blank\"><span style=\"color: #7f7f7f; text-decoration-color: #7f7f7f\">44</span></a>\n",
       "</pre>\n"
      ]
     },
     "metadata": {},
     "output_type": "display_data"
    },
    {
     "data": {
      "text/plain": [
       "\u001B[2;36m                   \u001B[0m\u001B[2;36m \u001B[0m\u001B[34mINFO    \u001B[0m \u001B[1m[\u001B[0mbase.py:\u001B[1;36m22\u001B[0m\u001B[1m]\u001B[0m >> Running chunker - llama_index_chunk module\u001B[33m...\u001B[0m               \u001B]8;id=132384;file:///Users/kimbwook/PycharmProjects/fast-campus/venv/lib/python3.10/site-packages/autorag/data/chunk/base.py\u001B\\\u001B[2mbase.py\u001B[0m\u001B]8;;\u001B\\\u001B[2m:\u001B[0m\u001B]8;id=653192;file:///Users/kimbwook/PycharmProjects/fast-campus/venv/lib/python3.10/site-packages/autorag/data/chunk/base.py#22\u001B\\\u001B[2m22\u001B[0m\u001B]8;;\u001B\\\n"
      ],
      "text/html": [
       "<pre style=\"white-space:pre;overflow-x:auto;line-height:normal;font-family:Menlo,'DejaVu Sans Mono',consolas,'Courier New',monospace\"><span style=\"color: #7fbfbf; text-decoration-color: #7fbfbf\">                    </span><span style=\"color: #000080; text-decoration-color: #000080\">INFO    </span> <span style=\"font-weight: bold\">[</span>base.py:<span style=\"color: #008080; text-decoration-color: #008080; font-weight: bold\">22</span><span style=\"font-weight: bold\">]</span> &gt;&gt; Running chunker - llama_index_chunk module<span style=\"color: #808000; text-decoration-color: #808000\">...</span>               <a href=\"file:///Users/kimbwook/PycharmProjects/fast-campus/venv/lib/python3.10/site-packages/autorag/data/chunk/base.py\" target=\"_blank\"><span style=\"color: #7f7f7f; text-decoration-color: #7f7f7f\">base.py</span></a><span style=\"color: #7f7f7f; text-decoration-color: #7f7f7f\">:</span><a href=\"file:///Users/kimbwook/PycharmProjects/fast-campus/venv/lib/python3.10/site-packages/autorag/data/chunk/base.py#22\" target=\"_blank\"><span style=\"color: #7f7f7f; text-decoration-color: #7f7f7f\">22</span></a>\n",
       "</pre>\n"
      ]
     },
     "metadata": {},
     "output_type": "display_data"
    },
    {
     "data": {
      "text/plain": [
       "\u001B[2;36m[12/21/24 17:19:17]\u001B[0m\u001B[2;36m \u001B[0m\u001B[34mINFO    \u001B[0m \u001B[1m[\u001B[0m_client.py:\u001B[1;36m1026\u001B[0m\u001B[1m]\u001B[0m >> HTTP Request: \u001B[1;33mPOST\u001B[0m                                \u001B]8;id=744547;file:///Users/kimbwook/PycharmProjects/fast-campus/venv/lib/python3.10/site-packages/httpx/_client.py\u001B\\\u001B[2m_client.py\u001B[0m\u001B]8;;\u001B\\\u001B[2m:\u001B[0m\u001B]8;id=756763;file:///Users/kimbwook/PycharmProjects/fast-campus/venv/lib/python3.10/site-packages/httpx/_client.py#1026\u001B\\\u001B[2m1026\u001B[0m\u001B]8;;\u001B\\\n",
       "\u001B[2;36m                    \u001B[0m         \u001B[4;94mhttps://api.openai.com/v1/embeddings\u001B[0m \u001B[32m\"HTTP/1.1 200 OK\"\u001B[0m                 \u001B[2m               \u001B[0m\n"
      ],
      "text/html": [
       "<pre style=\"white-space:pre;overflow-x:auto;line-height:normal;font-family:Menlo,'DejaVu Sans Mono',consolas,'Courier New',monospace\"><span style=\"color: #7fbfbf; text-decoration-color: #7fbfbf\">[12/21/24 17:19:17] </span><span style=\"color: #000080; text-decoration-color: #000080\">INFO    </span> <span style=\"font-weight: bold\">[</span>_client.py:<span style=\"color: #008080; text-decoration-color: #008080; font-weight: bold\">1026</span><span style=\"font-weight: bold\">]</span> &gt;&gt; HTTP Request: <span style=\"color: #808000; text-decoration-color: #808000; font-weight: bold\">POST</span>                                <a href=\"file:///Users/kimbwook/PycharmProjects/fast-campus/venv/lib/python3.10/site-packages/httpx/_client.py\" target=\"_blank\"><span style=\"color: #7f7f7f; text-decoration-color: #7f7f7f\">_client.py</span></a><span style=\"color: #7f7f7f; text-decoration-color: #7f7f7f\">:</span><a href=\"file:///Users/kimbwook/PycharmProjects/fast-campus/venv/lib/python3.10/site-packages/httpx/_client.py#1026\" target=\"_blank\"><span style=\"color: #7f7f7f; text-decoration-color: #7f7f7f\">1026</span></a>\n",
       "<span style=\"color: #7fbfbf; text-decoration-color: #7fbfbf\">                    </span>         <span style=\"color: #0000ff; text-decoration-color: #0000ff; text-decoration: underline\">https://api.openai.com/v1/embeddings</span> <span style=\"color: #008000; text-decoration-color: #008000\">\"HTTP/1.1 200 OK\"</span>                 <span style=\"color: #7f7f7f; text-decoration-color: #7f7f7f\">               </span>\n",
       "</pre>\n"
      ]
     },
     "metadata": {},
     "output_type": "display_data"
    },
    {
     "data": {
      "text/plain": [
       "\u001B[2;36m[12/21/24 17:19:18]\u001B[0m\u001B[2;36m \u001B[0m\u001B[34mINFO    \u001B[0m \u001B[1m[\u001B[0m_client.py:\u001B[1;36m1026\u001B[0m\u001B[1m]\u001B[0m >> HTTP Request: \u001B[1;33mPOST\u001B[0m                                \u001B]8;id=104475;file:///Users/kimbwook/PycharmProjects/fast-campus/venv/lib/python3.10/site-packages/httpx/_client.py\u001B\\\u001B[2m_client.py\u001B[0m\u001B]8;;\u001B\\\u001B[2m:\u001B[0m\u001B]8;id=300700;file:///Users/kimbwook/PycharmProjects/fast-campus/venv/lib/python3.10/site-packages/httpx/_client.py#1026\u001B\\\u001B[2m1026\u001B[0m\u001B]8;;\u001B\\\n",
       "\u001B[2;36m                    \u001B[0m         \u001B[4;94mhttps://api.openai.com/v1/embeddings\u001B[0m \u001B[32m\"HTTP/1.1 200 OK\"\u001B[0m                 \u001B[2m               \u001B[0m\n"
      ],
      "text/html": [
       "<pre style=\"white-space:pre;overflow-x:auto;line-height:normal;font-family:Menlo,'DejaVu Sans Mono',consolas,'Courier New',monospace\"><span style=\"color: #7fbfbf; text-decoration-color: #7fbfbf\">[12/21/24 17:19:18] </span><span style=\"color: #000080; text-decoration-color: #000080\">INFO    </span> <span style=\"font-weight: bold\">[</span>_client.py:<span style=\"color: #008080; text-decoration-color: #008080; font-weight: bold\">1026</span><span style=\"font-weight: bold\">]</span> &gt;&gt; HTTP Request: <span style=\"color: #808000; text-decoration-color: #808000; font-weight: bold\">POST</span>                                <a href=\"file:///Users/kimbwook/PycharmProjects/fast-campus/venv/lib/python3.10/site-packages/httpx/_client.py\" target=\"_blank\"><span style=\"color: #7f7f7f; text-decoration-color: #7f7f7f\">_client.py</span></a><span style=\"color: #7f7f7f; text-decoration-color: #7f7f7f\">:</span><a href=\"file:///Users/kimbwook/PycharmProjects/fast-campus/venv/lib/python3.10/site-packages/httpx/_client.py#1026\" target=\"_blank\"><span style=\"color: #7f7f7f; text-decoration-color: #7f7f7f\">1026</span></a>\n",
       "<span style=\"color: #7fbfbf; text-decoration-color: #7fbfbf\">                    </span>         <span style=\"color: #0000ff; text-decoration-color: #0000ff; text-decoration: underline\">https://api.openai.com/v1/embeddings</span> <span style=\"color: #008000; text-decoration-color: #008000\">\"HTTP/1.1 200 OK\"</span>                 <span style=\"color: #7f7f7f; text-decoration-color: #7f7f7f\">               </span>\n",
       "</pre>\n"
      ]
     },
     "metadata": {},
     "output_type": "display_data"
    },
    {
     "data": {
      "text/plain": [
       "\u001B[2;36m[12/21/24 17:19:19]\u001B[0m\u001B[2;36m \u001B[0m\u001B[34mINFO    \u001B[0m \u001B[1m[\u001B[0m_client.py:\u001B[1;36m1026\u001B[0m\u001B[1m]\u001B[0m >> HTTP Request: \u001B[1;33mPOST\u001B[0m                                \u001B]8;id=966712;file:///Users/kimbwook/PycharmProjects/fast-campus/venv/lib/python3.10/site-packages/httpx/_client.py\u001B\\\u001B[2m_client.py\u001B[0m\u001B]8;;\u001B\\\u001B[2m:\u001B[0m\u001B]8;id=511193;file:///Users/kimbwook/PycharmProjects/fast-campus/venv/lib/python3.10/site-packages/httpx/_client.py#1026\u001B\\\u001B[2m1026\u001B[0m\u001B]8;;\u001B\\\n",
       "\u001B[2;36m                    \u001B[0m         \u001B[4;94mhttps://api.openai.com/v1/embeddings\u001B[0m \u001B[32m\"HTTP/1.1 200 OK\"\u001B[0m                 \u001B[2m               \u001B[0m\n"
      ],
      "text/html": [
       "<pre style=\"white-space:pre;overflow-x:auto;line-height:normal;font-family:Menlo,'DejaVu Sans Mono',consolas,'Courier New',monospace\"><span style=\"color: #7fbfbf; text-decoration-color: #7fbfbf\">[12/21/24 17:19:19] </span><span style=\"color: #000080; text-decoration-color: #000080\">INFO    </span> <span style=\"font-weight: bold\">[</span>_client.py:<span style=\"color: #008080; text-decoration-color: #008080; font-weight: bold\">1026</span><span style=\"font-weight: bold\">]</span> &gt;&gt; HTTP Request: <span style=\"color: #808000; text-decoration-color: #808000; font-weight: bold\">POST</span>                                <a href=\"file:///Users/kimbwook/PycharmProjects/fast-campus/venv/lib/python3.10/site-packages/httpx/_client.py\" target=\"_blank\"><span style=\"color: #7f7f7f; text-decoration-color: #7f7f7f\">_client.py</span></a><span style=\"color: #7f7f7f; text-decoration-color: #7f7f7f\">:</span><a href=\"file:///Users/kimbwook/PycharmProjects/fast-campus/venv/lib/python3.10/site-packages/httpx/_client.py#1026\" target=\"_blank\"><span style=\"color: #7f7f7f; text-decoration-color: #7f7f7f\">1026</span></a>\n",
       "<span style=\"color: #7fbfbf; text-decoration-color: #7fbfbf\">                    </span>         <span style=\"color: #0000ff; text-decoration-color: #0000ff; text-decoration: underline\">https://api.openai.com/v1/embeddings</span> <span style=\"color: #008000; text-decoration-color: #008000\">\"HTTP/1.1 200 OK\"</span>                 <span style=\"color: #7f7f7f; text-decoration-color: #7f7f7f\">               </span>\n",
       "</pre>\n"
      ]
     },
     "metadata": {},
     "output_type": "display_data"
    },
    {
     "data": {
      "text/plain": [
       "\u001B[2;36m[12/21/24 17:19:20]\u001B[0m\u001B[2;36m \u001B[0m\u001B[34mINFO    \u001B[0m \u001B[1m[\u001B[0m_client.py:\u001B[1;36m1026\u001B[0m\u001B[1m]\u001B[0m >> HTTP Request: \u001B[1;33mPOST\u001B[0m                                \u001B]8;id=694871;file:///Users/kimbwook/PycharmProjects/fast-campus/venv/lib/python3.10/site-packages/httpx/_client.py\u001B\\\u001B[2m_client.py\u001B[0m\u001B]8;;\u001B\\\u001B[2m:\u001B[0m\u001B]8;id=668326;file:///Users/kimbwook/PycharmProjects/fast-campus/venv/lib/python3.10/site-packages/httpx/_client.py#1026\u001B\\\u001B[2m1026\u001B[0m\u001B]8;;\u001B\\\n",
       "\u001B[2;36m                    \u001B[0m         \u001B[4;94mhttps://api.openai.com/v1/embeddings\u001B[0m \u001B[32m\"HTTP/1.1 200 OK\"\u001B[0m                 \u001B[2m               \u001B[0m\n"
      ],
      "text/html": [
       "<pre style=\"white-space:pre;overflow-x:auto;line-height:normal;font-family:Menlo,'DejaVu Sans Mono',consolas,'Courier New',monospace\"><span style=\"color: #7fbfbf; text-decoration-color: #7fbfbf\">[12/21/24 17:19:20] </span><span style=\"color: #000080; text-decoration-color: #000080\">INFO    </span> <span style=\"font-weight: bold\">[</span>_client.py:<span style=\"color: #008080; text-decoration-color: #008080; font-weight: bold\">1026</span><span style=\"font-weight: bold\">]</span> &gt;&gt; HTTP Request: <span style=\"color: #808000; text-decoration-color: #808000; font-weight: bold\">POST</span>                                <a href=\"file:///Users/kimbwook/PycharmProjects/fast-campus/venv/lib/python3.10/site-packages/httpx/_client.py\" target=\"_blank\"><span style=\"color: #7f7f7f; text-decoration-color: #7f7f7f\">_client.py</span></a><span style=\"color: #7f7f7f; text-decoration-color: #7f7f7f\">:</span><a href=\"file:///Users/kimbwook/PycharmProjects/fast-campus/venv/lib/python3.10/site-packages/httpx/_client.py#1026\" target=\"_blank\"><span style=\"color: #7f7f7f; text-decoration-color: #7f7f7f\">1026</span></a>\n",
       "<span style=\"color: #7fbfbf; text-decoration-color: #7fbfbf\">                    </span>         <span style=\"color: #0000ff; text-decoration-color: #0000ff; text-decoration: underline\">https://api.openai.com/v1/embeddings</span> <span style=\"color: #008000; text-decoration-color: #008000\">\"HTTP/1.1 200 OK\"</span>                 <span style=\"color: #7f7f7f; text-decoration-color: #7f7f7f\">               </span>\n",
       "</pre>\n"
      ]
     },
     "metadata": {},
     "output_type": "display_data"
    },
    {
     "data": {
      "text/plain": [
       "\u001B[2;36m[12/21/24 17:19:21]\u001B[0m\u001B[2;36m \u001B[0m\u001B[34mINFO    \u001B[0m \u001B[1m[\u001B[0m_client.py:\u001B[1;36m1026\u001B[0m\u001B[1m]\u001B[0m >> HTTP Request: \u001B[1;33mPOST\u001B[0m                                \u001B]8;id=415499;file:///Users/kimbwook/PycharmProjects/fast-campus/venv/lib/python3.10/site-packages/httpx/_client.py\u001B\\\u001B[2m_client.py\u001B[0m\u001B]8;;\u001B\\\u001B[2m:\u001B[0m\u001B]8;id=478045;file:///Users/kimbwook/PycharmProjects/fast-campus/venv/lib/python3.10/site-packages/httpx/_client.py#1026\u001B\\\u001B[2m1026\u001B[0m\u001B]8;;\u001B\\\n",
       "\u001B[2;36m                    \u001B[0m         \u001B[4;94mhttps://api.openai.com/v1/embeddings\u001B[0m \u001B[32m\"HTTP/1.1 200 OK\"\u001B[0m                 \u001B[2m               \u001B[0m\n"
      ],
      "text/html": [
       "<pre style=\"white-space:pre;overflow-x:auto;line-height:normal;font-family:Menlo,'DejaVu Sans Mono',consolas,'Courier New',monospace\"><span style=\"color: #7fbfbf; text-decoration-color: #7fbfbf\">[12/21/24 17:19:21] </span><span style=\"color: #000080; text-decoration-color: #000080\">INFO    </span> <span style=\"font-weight: bold\">[</span>_client.py:<span style=\"color: #008080; text-decoration-color: #008080; font-weight: bold\">1026</span><span style=\"font-weight: bold\">]</span> &gt;&gt; HTTP Request: <span style=\"color: #808000; text-decoration-color: #808000; font-weight: bold\">POST</span>                                <a href=\"file:///Users/kimbwook/PycharmProjects/fast-campus/venv/lib/python3.10/site-packages/httpx/_client.py\" target=\"_blank\"><span style=\"color: #7f7f7f; text-decoration-color: #7f7f7f\">_client.py</span></a><span style=\"color: #7f7f7f; text-decoration-color: #7f7f7f\">:</span><a href=\"file:///Users/kimbwook/PycharmProjects/fast-campus/venv/lib/python3.10/site-packages/httpx/_client.py#1026\" target=\"_blank\"><span style=\"color: #7f7f7f; text-decoration-color: #7f7f7f\">1026</span></a>\n",
       "<span style=\"color: #7fbfbf; text-decoration-color: #7fbfbf\">                    </span>         <span style=\"color: #0000ff; text-decoration-color: #0000ff; text-decoration: underline\">https://api.openai.com/v1/embeddings</span> <span style=\"color: #008000; text-decoration-color: #008000\">\"HTTP/1.1 200 OK\"</span>                 <span style=\"color: #7f7f7f; text-decoration-color: #7f7f7f\">               </span>\n",
       "</pre>\n"
      ]
     },
     "metadata": {},
     "output_type": "display_data"
    },
    {
     "data": {
      "text/plain": [
       "\u001B[2;36m[12/21/24 17:19:22]\u001B[0m\u001B[2;36m \u001B[0m\u001B[34mINFO    \u001B[0m \u001B[1m[\u001B[0m_client.py:\u001B[1;36m1026\u001B[0m\u001B[1m]\u001B[0m >> HTTP Request: \u001B[1;33mPOST\u001B[0m                                \u001B]8;id=239491;file:///Users/kimbwook/PycharmProjects/fast-campus/venv/lib/python3.10/site-packages/httpx/_client.py\u001B\\\u001B[2m_client.py\u001B[0m\u001B]8;;\u001B\\\u001B[2m:\u001B[0m\u001B]8;id=144223;file:///Users/kimbwook/PycharmProjects/fast-campus/venv/lib/python3.10/site-packages/httpx/_client.py#1026\u001B\\\u001B[2m1026\u001B[0m\u001B]8;;\u001B\\\n",
       "\u001B[2;36m                    \u001B[0m         \u001B[4;94mhttps://api.openai.com/v1/embeddings\u001B[0m \u001B[32m\"HTTP/1.1 200 OK\"\u001B[0m                 \u001B[2m               \u001B[0m\n"
      ],
      "text/html": [
       "<pre style=\"white-space:pre;overflow-x:auto;line-height:normal;font-family:Menlo,'DejaVu Sans Mono',consolas,'Courier New',monospace\"><span style=\"color: #7fbfbf; text-decoration-color: #7fbfbf\">[12/21/24 17:19:22] </span><span style=\"color: #000080; text-decoration-color: #000080\">INFO    </span> <span style=\"font-weight: bold\">[</span>_client.py:<span style=\"color: #008080; text-decoration-color: #008080; font-weight: bold\">1026</span><span style=\"font-weight: bold\">]</span> &gt;&gt; HTTP Request: <span style=\"color: #808000; text-decoration-color: #808000; font-weight: bold\">POST</span>                                <a href=\"file:///Users/kimbwook/PycharmProjects/fast-campus/venv/lib/python3.10/site-packages/httpx/_client.py\" target=\"_blank\"><span style=\"color: #7f7f7f; text-decoration-color: #7f7f7f\">_client.py</span></a><span style=\"color: #7f7f7f; text-decoration-color: #7f7f7f\">:</span><a href=\"file:///Users/kimbwook/PycharmProjects/fast-campus/venv/lib/python3.10/site-packages/httpx/_client.py#1026\" target=\"_blank\"><span style=\"color: #7f7f7f; text-decoration-color: #7f7f7f\">1026</span></a>\n",
       "<span style=\"color: #7fbfbf; text-decoration-color: #7fbfbf\">                    </span>         <span style=\"color: #0000ff; text-decoration-color: #0000ff; text-decoration: underline\">https://api.openai.com/v1/embeddings</span> <span style=\"color: #008000; text-decoration-color: #008000\">\"HTTP/1.1 200 OK\"</span>                 <span style=\"color: #7f7f7f; text-decoration-color: #7f7f7f\">               </span>\n",
       "</pre>\n"
      ]
     },
     "metadata": {},
     "output_type": "display_data"
    },
    {
     "data": {
      "text/plain": [
       "\u001B[2;36m[12/21/24 17:19:23]\u001B[0m\u001B[2;36m \u001B[0m\u001B[34mINFO    \u001B[0m \u001B[1m[\u001B[0m_client.py:\u001B[1;36m1026\u001B[0m\u001B[1m]\u001B[0m >> HTTP Request: \u001B[1;33mPOST\u001B[0m                                \u001B]8;id=779214;file:///Users/kimbwook/PycharmProjects/fast-campus/venv/lib/python3.10/site-packages/httpx/_client.py\u001B\\\u001B[2m_client.py\u001B[0m\u001B]8;;\u001B\\\u001B[2m:\u001B[0m\u001B]8;id=881905;file:///Users/kimbwook/PycharmProjects/fast-campus/venv/lib/python3.10/site-packages/httpx/_client.py#1026\u001B\\\u001B[2m1026\u001B[0m\u001B]8;;\u001B\\\n",
       "\u001B[2;36m                    \u001B[0m         \u001B[4;94mhttps://api.openai.com/v1/embeddings\u001B[0m \u001B[32m\"HTTP/1.1 200 OK\"\u001B[0m                 \u001B[2m               \u001B[0m\n"
      ],
      "text/html": [
       "<pre style=\"white-space:pre;overflow-x:auto;line-height:normal;font-family:Menlo,'DejaVu Sans Mono',consolas,'Courier New',monospace\"><span style=\"color: #7fbfbf; text-decoration-color: #7fbfbf\">[12/21/24 17:19:23] </span><span style=\"color: #000080; text-decoration-color: #000080\">INFO    </span> <span style=\"font-weight: bold\">[</span>_client.py:<span style=\"color: #008080; text-decoration-color: #008080; font-weight: bold\">1026</span><span style=\"font-weight: bold\">]</span> &gt;&gt; HTTP Request: <span style=\"color: #808000; text-decoration-color: #808000; font-weight: bold\">POST</span>                                <a href=\"file:///Users/kimbwook/PycharmProjects/fast-campus/venv/lib/python3.10/site-packages/httpx/_client.py\" target=\"_blank\"><span style=\"color: #7f7f7f; text-decoration-color: #7f7f7f\">_client.py</span></a><span style=\"color: #7f7f7f; text-decoration-color: #7f7f7f\">:</span><a href=\"file:///Users/kimbwook/PycharmProjects/fast-campus/venv/lib/python3.10/site-packages/httpx/_client.py#1026\" target=\"_blank\"><span style=\"color: #7f7f7f; text-decoration-color: #7f7f7f\">1026</span></a>\n",
       "<span style=\"color: #7fbfbf; text-decoration-color: #7fbfbf\">                    </span>         <span style=\"color: #0000ff; text-decoration-color: #0000ff; text-decoration: underline\">https://api.openai.com/v1/embeddings</span> <span style=\"color: #008000; text-decoration-color: #008000\">\"HTTP/1.1 200 OK\"</span>                 <span style=\"color: #7f7f7f; text-decoration-color: #7f7f7f\">               </span>\n",
       "</pre>\n"
      ]
     },
     "metadata": {},
     "output_type": "display_data"
    },
    {
     "data": {
      "text/plain": [
       "\u001B[2;36m[12/21/24 17:19:24]\u001B[0m\u001B[2;36m \u001B[0m\u001B[34mINFO    \u001B[0m \u001B[1m[\u001B[0m_client.py:\u001B[1;36m1026\u001B[0m\u001B[1m]\u001B[0m >> HTTP Request: \u001B[1;33mPOST\u001B[0m                                \u001B]8;id=446004;file:///Users/kimbwook/PycharmProjects/fast-campus/venv/lib/python3.10/site-packages/httpx/_client.py\u001B\\\u001B[2m_client.py\u001B[0m\u001B]8;;\u001B\\\u001B[2m:\u001B[0m\u001B]8;id=82353;file:///Users/kimbwook/PycharmProjects/fast-campus/venv/lib/python3.10/site-packages/httpx/_client.py#1026\u001B\\\u001B[2m1026\u001B[0m\u001B]8;;\u001B\\\n",
       "\u001B[2;36m                    \u001B[0m         \u001B[4;94mhttps://api.openai.com/v1/embeddings\u001B[0m \u001B[32m\"HTTP/1.1 200 OK\"\u001B[0m                 \u001B[2m               \u001B[0m\n"
      ],
      "text/html": [
       "<pre style=\"white-space:pre;overflow-x:auto;line-height:normal;font-family:Menlo,'DejaVu Sans Mono',consolas,'Courier New',monospace\"><span style=\"color: #7fbfbf; text-decoration-color: #7fbfbf\">[12/21/24 17:19:24] </span><span style=\"color: #000080; text-decoration-color: #000080\">INFO    </span> <span style=\"font-weight: bold\">[</span>_client.py:<span style=\"color: #008080; text-decoration-color: #008080; font-weight: bold\">1026</span><span style=\"font-weight: bold\">]</span> &gt;&gt; HTTP Request: <span style=\"color: #808000; text-decoration-color: #808000; font-weight: bold\">POST</span>                                <a href=\"file:///Users/kimbwook/PycharmProjects/fast-campus/venv/lib/python3.10/site-packages/httpx/_client.py\" target=\"_blank\"><span style=\"color: #7f7f7f; text-decoration-color: #7f7f7f\">_client.py</span></a><span style=\"color: #7f7f7f; text-decoration-color: #7f7f7f\">:</span><a href=\"file:///Users/kimbwook/PycharmProjects/fast-campus/venv/lib/python3.10/site-packages/httpx/_client.py#1026\" target=\"_blank\"><span style=\"color: #7f7f7f; text-decoration-color: #7f7f7f\">1026</span></a>\n",
       "<span style=\"color: #7fbfbf; text-decoration-color: #7fbfbf\">                    </span>         <span style=\"color: #0000ff; text-decoration-color: #0000ff; text-decoration: underline\">https://api.openai.com/v1/embeddings</span> <span style=\"color: #008000; text-decoration-color: #008000\">\"HTTP/1.1 200 OK\"</span>                 <span style=\"color: #7f7f7f; text-decoration-color: #7f7f7f\">               </span>\n",
       "</pre>\n"
      ]
     },
     "metadata": {},
     "output_type": "display_data"
    },
    {
     "data": {
      "text/plain": [
       "\u001B[2;36m[12/21/24 17:19:25]\u001B[0m\u001B[2;36m \u001B[0m\u001B[34mINFO    \u001B[0m \u001B[1m[\u001B[0m_client.py:\u001B[1;36m1026\u001B[0m\u001B[1m]\u001B[0m >> HTTP Request: \u001B[1;33mPOST\u001B[0m                                \u001B]8;id=403943;file:///Users/kimbwook/PycharmProjects/fast-campus/venv/lib/python3.10/site-packages/httpx/_client.py\u001B\\\u001B[2m_client.py\u001B[0m\u001B]8;;\u001B\\\u001B[2m:\u001B[0m\u001B]8;id=627997;file:///Users/kimbwook/PycharmProjects/fast-campus/venv/lib/python3.10/site-packages/httpx/_client.py#1026\u001B\\\u001B[2m1026\u001B[0m\u001B]8;;\u001B\\\n",
       "\u001B[2;36m                    \u001B[0m         \u001B[4;94mhttps://api.openai.com/v1/embeddings\u001B[0m \u001B[32m\"HTTP/1.1 200 OK\"\u001B[0m                 \u001B[2m               \u001B[0m\n"
      ],
      "text/html": [
       "<pre style=\"white-space:pre;overflow-x:auto;line-height:normal;font-family:Menlo,'DejaVu Sans Mono',consolas,'Courier New',monospace\"><span style=\"color: #7fbfbf; text-decoration-color: #7fbfbf\">[12/21/24 17:19:25] </span><span style=\"color: #000080; text-decoration-color: #000080\">INFO    </span> <span style=\"font-weight: bold\">[</span>_client.py:<span style=\"color: #008080; text-decoration-color: #008080; font-weight: bold\">1026</span><span style=\"font-weight: bold\">]</span> &gt;&gt; HTTP Request: <span style=\"color: #808000; text-decoration-color: #808000; font-weight: bold\">POST</span>                                <a href=\"file:///Users/kimbwook/PycharmProjects/fast-campus/venv/lib/python3.10/site-packages/httpx/_client.py\" target=\"_blank\"><span style=\"color: #7f7f7f; text-decoration-color: #7f7f7f\">_client.py</span></a><span style=\"color: #7f7f7f; text-decoration-color: #7f7f7f\">:</span><a href=\"file:///Users/kimbwook/PycharmProjects/fast-campus/venv/lib/python3.10/site-packages/httpx/_client.py#1026\" target=\"_blank\"><span style=\"color: #7f7f7f; text-decoration-color: #7f7f7f\">1026</span></a>\n",
       "<span style=\"color: #7fbfbf; text-decoration-color: #7fbfbf\">                    </span>         <span style=\"color: #0000ff; text-decoration-color: #0000ff; text-decoration: underline\">https://api.openai.com/v1/embeddings</span> <span style=\"color: #008000; text-decoration-color: #008000\">\"HTTP/1.1 200 OK\"</span>                 <span style=\"color: #7f7f7f; text-decoration-color: #7f7f7f\">               </span>\n",
       "</pre>\n"
      ]
     },
     "metadata": {},
     "output_type": "display_data"
    },
    {
     "data": {
      "text/plain": [
       "\u001B[2;36m                   \u001B[0m\u001B[2;36m \u001B[0m\u001B[34mINFO    \u001B[0m \u001B[1m[\u001B[0m_client.py:\u001B[1;36m1026\u001B[0m\u001B[1m]\u001B[0m >> HTTP Request: \u001B[1;33mPOST\u001B[0m                                \u001B]8;id=41430;file:///Users/kimbwook/PycharmProjects/fast-campus/venv/lib/python3.10/site-packages/httpx/_client.py\u001B\\\u001B[2m_client.py\u001B[0m\u001B]8;;\u001B\\\u001B[2m:\u001B[0m\u001B]8;id=249354;file:///Users/kimbwook/PycharmProjects/fast-campus/venv/lib/python3.10/site-packages/httpx/_client.py#1026\u001B\\\u001B[2m1026\u001B[0m\u001B]8;;\u001B\\\n",
       "\u001B[2;36m                    \u001B[0m         \u001B[4;94mhttps://api.openai.com/v1/embeddings\u001B[0m \u001B[32m\"HTTP/1.1 200 OK\"\u001B[0m                 \u001B[2m               \u001B[0m\n"
      ],
      "text/html": [
       "<pre style=\"white-space:pre;overflow-x:auto;line-height:normal;font-family:Menlo,'DejaVu Sans Mono',consolas,'Courier New',monospace\"><span style=\"color: #7fbfbf; text-decoration-color: #7fbfbf\">                    </span><span style=\"color: #000080; text-decoration-color: #000080\">INFO    </span> <span style=\"font-weight: bold\">[</span>_client.py:<span style=\"color: #008080; text-decoration-color: #008080; font-weight: bold\">1026</span><span style=\"font-weight: bold\">]</span> &gt;&gt; HTTP Request: <span style=\"color: #808000; text-decoration-color: #808000; font-weight: bold\">POST</span>                                <a href=\"file:///Users/kimbwook/PycharmProjects/fast-campus/venv/lib/python3.10/site-packages/httpx/_client.py\" target=\"_blank\"><span style=\"color: #7f7f7f; text-decoration-color: #7f7f7f\">_client.py</span></a><span style=\"color: #7f7f7f; text-decoration-color: #7f7f7f\">:</span><a href=\"file:///Users/kimbwook/PycharmProjects/fast-campus/venv/lib/python3.10/site-packages/httpx/_client.py#1026\" target=\"_blank\"><span style=\"color: #7f7f7f; text-decoration-color: #7f7f7f\">1026</span></a>\n",
       "<span style=\"color: #7fbfbf; text-decoration-color: #7fbfbf\">                    </span>         <span style=\"color: #0000ff; text-decoration-color: #0000ff; text-decoration: underline\">https://api.openai.com/v1/embeddings</span> <span style=\"color: #008000; text-decoration-color: #008000\">\"HTTP/1.1 200 OK\"</span>                 <span style=\"color: #7f7f7f; text-decoration-color: #7f7f7f\">               </span>\n",
       "</pre>\n"
      ]
     },
     "metadata": {},
     "output_type": "display_data"
    },
    {
     "data": {
      "text/plain": [
       "\u001B[2;36m[12/21/24 17:19:26]\u001B[0m\u001B[2;36m \u001B[0m\u001B[34mINFO    \u001B[0m \u001B[1m[\u001B[0m_client.py:\u001B[1;36m1026\u001B[0m\u001B[1m]\u001B[0m >> HTTP Request: \u001B[1;33mPOST\u001B[0m                                \u001B]8;id=202218;file:///Users/kimbwook/PycharmProjects/fast-campus/venv/lib/python3.10/site-packages/httpx/_client.py\u001B\\\u001B[2m_client.py\u001B[0m\u001B]8;;\u001B\\\u001B[2m:\u001B[0m\u001B]8;id=702173;file:///Users/kimbwook/PycharmProjects/fast-campus/venv/lib/python3.10/site-packages/httpx/_client.py#1026\u001B\\\u001B[2m1026\u001B[0m\u001B]8;;\u001B\\\n",
       "\u001B[2;36m                    \u001B[0m         \u001B[4;94mhttps://api.openai.com/v1/embeddings\u001B[0m \u001B[32m\"HTTP/1.1 200 OK\"\u001B[0m                 \u001B[2m               \u001B[0m\n"
      ],
      "text/html": [
       "<pre style=\"white-space:pre;overflow-x:auto;line-height:normal;font-family:Menlo,'DejaVu Sans Mono',consolas,'Courier New',monospace\"><span style=\"color: #7fbfbf; text-decoration-color: #7fbfbf\">[12/21/24 17:19:26] </span><span style=\"color: #000080; text-decoration-color: #000080\">INFO    </span> <span style=\"font-weight: bold\">[</span>_client.py:<span style=\"color: #008080; text-decoration-color: #008080; font-weight: bold\">1026</span><span style=\"font-weight: bold\">]</span> &gt;&gt; HTTP Request: <span style=\"color: #808000; text-decoration-color: #808000; font-weight: bold\">POST</span>                                <a href=\"file:///Users/kimbwook/PycharmProjects/fast-campus/venv/lib/python3.10/site-packages/httpx/_client.py\" target=\"_blank\"><span style=\"color: #7f7f7f; text-decoration-color: #7f7f7f\">_client.py</span></a><span style=\"color: #7f7f7f; text-decoration-color: #7f7f7f\">:</span><a href=\"file:///Users/kimbwook/PycharmProjects/fast-campus/venv/lib/python3.10/site-packages/httpx/_client.py#1026\" target=\"_blank\"><span style=\"color: #7f7f7f; text-decoration-color: #7f7f7f\">1026</span></a>\n",
       "<span style=\"color: #7fbfbf; text-decoration-color: #7fbfbf\">                    </span>         <span style=\"color: #0000ff; text-decoration-color: #0000ff; text-decoration: underline\">https://api.openai.com/v1/embeddings</span> <span style=\"color: #008000; text-decoration-color: #008000\">\"HTTP/1.1 200 OK\"</span>                 <span style=\"color: #7f7f7f; text-decoration-color: #7f7f7f\">               </span>\n",
       "</pre>\n"
      ]
     },
     "metadata": {},
     "output_type": "display_data"
    },
    {
     "data": {
      "text/plain": [
       "\u001B[2;36m                   \u001B[0m\u001B[2;36m \u001B[0m\u001B[34mINFO    \u001B[0m \u001B[1m[\u001B[0m_client.py:\u001B[1;36m1026\u001B[0m\u001B[1m]\u001B[0m >> HTTP Request: \u001B[1;33mPOST\u001B[0m                                \u001B]8;id=797795;file:///Users/kimbwook/PycharmProjects/fast-campus/venv/lib/python3.10/site-packages/httpx/_client.py\u001B\\\u001B[2m_client.py\u001B[0m\u001B]8;;\u001B\\\u001B[2m:\u001B[0m\u001B]8;id=415034;file:///Users/kimbwook/PycharmProjects/fast-campus/venv/lib/python3.10/site-packages/httpx/_client.py#1026\u001B\\\u001B[2m1026\u001B[0m\u001B]8;;\u001B\\\n",
       "\u001B[2;36m                    \u001B[0m         \u001B[4;94mhttps://api.openai.com/v1/embeddings\u001B[0m \u001B[32m\"HTTP/1.1 200 OK\"\u001B[0m                 \u001B[2m               \u001B[0m\n"
      ],
      "text/html": [
       "<pre style=\"white-space:pre;overflow-x:auto;line-height:normal;font-family:Menlo,'DejaVu Sans Mono',consolas,'Courier New',monospace\"><span style=\"color: #7fbfbf; text-decoration-color: #7fbfbf\">                    </span><span style=\"color: #000080; text-decoration-color: #000080\">INFO    </span> <span style=\"font-weight: bold\">[</span>_client.py:<span style=\"color: #008080; text-decoration-color: #008080; font-weight: bold\">1026</span><span style=\"font-weight: bold\">]</span> &gt;&gt; HTTP Request: <span style=\"color: #808000; text-decoration-color: #808000; font-weight: bold\">POST</span>                                <a href=\"file:///Users/kimbwook/PycharmProjects/fast-campus/venv/lib/python3.10/site-packages/httpx/_client.py\" target=\"_blank\"><span style=\"color: #7f7f7f; text-decoration-color: #7f7f7f\">_client.py</span></a><span style=\"color: #7f7f7f; text-decoration-color: #7f7f7f\">:</span><a href=\"file:///Users/kimbwook/PycharmProjects/fast-campus/venv/lib/python3.10/site-packages/httpx/_client.py#1026\" target=\"_blank\"><span style=\"color: #7f7f7f; text-decoration-color: #7f7f7f\">1026</span></a>\n",
       "<span style=\"color: #7fbfbf; text-decoration-color: #7fbfbf\">                    </span>         <span style=\"color: #0000ff; text-decoration-color: #0000ff; text-decoration: underline\">https://api.openai.com/v1/embeddings</span> <span style=\"color: #008000; text-decoration-color: #008000\">\"HTTP/1.1 200 OK\"</span>                 <span style=\"color: #7f7f7f; text-decoration-color: #7f7f7f\">               </span>\n",
       "</pre>\n"
      ]
     },
     "metadata": {},
     "output_type": "display_data"
    },
    {
     "data": {
      "text/plain": [
       "\u001B[2;36m[12/21/24 17:19:28]\u001B[0m\u001B[2;36m \u001B[0m\u001B[34mINFO    \u001B[0m \u001B[1m[\u001B[0m_client.py:\u001B[1;36m1026\u001B[0m\u001B[1m]\u001B[0m >> HTTP Request: \u001B[1;33mPOST\u001B[0m                                \u001B]8;id=883124;file:///Users/kimbwook/PycharmProjects/fast-campus/venv/lib/python3.10/site-packages/httpx/_client.py\u001B\\\u001B[2m_client.py\u001B[0m\u001B]8;;\u001B\\\u001B[2m:\u001B[0m\u001B]8;id=783789;file:///Users/kimbwook/PycharmProjects/fast-campus/venv/lib/python3.10/site-packages/httpx/_client.py#1026\u001B\\\u001B[2m1026\u001B[0m\u001B]8;;\u001B\\\n",
       "\u001B[2;36m                    \u001B[0m         \u001B[4;94mhttps://api.openai.com/v1/embeddings\u001B[0m \u001B[32m\"HTTP/1.1 200 OK\"\u001B[0m                 \u001B[2m               \u001B[0m\n"
      ],
      "text/html": [
       "<pre style=\"white-space:pre;overflow-x:auto;line-height:normal;font-family:Menlo,'DejaVu Sans Mono',consolas,'Courier New',monospace\"><span style=\"color: #7fbfbf; text-decoration-color: #7fbfbf\">[12/21/24 17:19:28] </span><span style=\"color: #000080; text-decoration-color: #000080\">INFO    </span> <span style=\"font-weight: bold\">[</span>_client.py:<span style=\"color: #008080; text-decoration-color: #008080; font-weight: bold\">1026</span><span style=\"font-weight: bold\">]</span> &gt;&gt; HTTP Request: <span style=\"color: #808000; text-decoration-color: #808000; font-weight: bold\">POST</span>                                <a href=\"file:///Users/kimbwook/PycharmProjects/fast-campus/venv/lib/python3.10/site-packages/httpx/_client.py\" target=\"_blank\"><span style=\"color: #7f7f7f; text-decoration-color: #7f7f7f\">_client.py</span></a><span style=\"color: #7f7f7f; text-decoration-color: #7f7f7f\">:</span><a href=\"file:///Users/kimbwook/PycharmProjects/fast-campus/venv/lib/python3.10/site-packages/httpx/_client.py#1026\" target=\"_blank\"><span style=\"color: #7f7f7f; text-decoration-color: #7f7f7f\">1026</span></a>\n",
       "<span style=\"color: #7fbfbf; text-decoration-color: #7fbfbf\">                    </span>         <span style=\"color: #0000ff; text-decoration-color: #0000ff; text-decoration: underline\">https://api.openai.com/v1/embeddings</span> <span style=\"color: #008000; text-decoration-color: #008000\">\"HTTP/1.1 200 OK\"</span>                 <span style=\"color: #7f7f7f; text-decoration-color: #7f7f7f\">               </span>\n",
       "</pre>\n"
      ]
     },
     "metadata": {},
     "output_type": "display_data"
    },
    {
     "data": {
      "text/plain": [
       "\u001B[2;36m[12/21/24 17:19:29]\u001B[0m\u001B[2;36m \u001B[0m\u001B[34mINFO    \u001B[0m \u001B[1m[\u001B[0m_client.py:\u001B[1;36m1026\u001B[0m\u001B[1m]\u001B[0m >> HTTP Request: \u001B[1;33mPOST\u001B[0m                                \u001B]8;id=998564;file:///Users/kimbwook/PycharmProjects/fast-campus/venv/lib/python3.10/site-packages/httpx/_client.py\u001B\\\u001B[2m_client.py\u001B[0m\u001B]8;;\u001B\\\u001B[2m:\u001B[0m\u001B]8;id=837561;file:///Users/kimbwook/PycharmProjects/fast-campus/venv/lib/python3.10/site-packages/httpx/_client.py#1026\u001B\\\u001B[2m1026\u001B[0m\u001B]8;;\u001B\\\n",
       "\u001B[2;36m                    \u001B[0m         \u001B[4;94mhttps://api.openai.com/v1/embeddings\u001B[0m \u001B[32m\"HTTP/1.1 200 OK\"\u001B[0m                 \u001B[2m               \u001B[0m\n"
      ],
      "text/html": [
       "<pre style=\"white-space:pre;overflow-x:auto;line-height:normal;font-family:Menlo,'DejaVu Sans Mono',consolas,'Courier New',monospace\"><span style=\"color: #7fbfbf; text-decoration-color: #7fbfbf\">[12/21/24 17:19:29] </span><span style=\"color: #000080; text-decoration-color: #000080\">INFO    </span> <span style=\"font-weight: bold\">[</span>_client.py:<span style=\"color: #008080; text-decoration-color: #008080; font-weight: bold\">1026</span><span style=\"font-weight: bold\">]</span> &gt;&gt; HTTP Request: <span style=\"color: #808000; text-decoration-color: #808000; font-weight: bold\">POST</span>                                <a href=\"file:///Users/kimbwook/PycharmProjects/fast-campus/venv/lib/python3.10/site-packages/httpx/_client.py\" target=\"_blank\"><span style=\"color: #7f7f7f; text-decoration-color: #7f7f7f\">_client.py</span></a><span style=\"color: #7f7f7f; text-decoration-color: #7f7f7f\">:</span><a href=\"file:///Users/kimbwook/PycharmProjects/fast-campus/venv/lib/python3.10/site-packages/httpx/_client.py#1026\" target=\"_blank\"><span style=\"color: #7f7f7f; text-decoration-color: #7f7f7f\">1026</span></a>\n",
       "<span style=\"color: #7fbfbf; text-decoration-color: #7fbfbf\">                    </span>         <span style=\"color: #0000ff; text-decoration-color: #0000ff; text-decoration: underline\">https://api.openai.com/v1/embeddings</span> <span style=\"color: #008000; text-decoration-color: #008000\">\"HTTP/1.1 200 OK\"</span>                 <span style=\"color: #7f7f7f; text-decoration-color: #7f7f7f\">               </span>\n",
       "</pre>\n"
      ]
     },
     "metadata": {},
     "output_type": "display_data"
    },
    {
     "data": {
      "text/plain": [
       "\u001B[2;36m[12/21/24 17:19:31]\u001B[0m\u001B[2;36m \u001B[0m\u001B[34mINFO    \u001B[0m \u001B[1m[\u001B[0m_client.py:\u001B[1;36m1026\u001B[0m\u001B[1m]\u001B[0m >> HTTP Request: \u001B[1;33mPOST\u001B[0m                                \u001B]8;id=970252;file:///Users/kimbwook/PycharmProjects/fast-campus/venv/lib/python3.10/site-packages/httpx/_client.py\u001B\\\u001B[2m_client.py\u001B[0m\u001B]8;;\u001B\\\u001B[2m:\u001B[0m\u001B]8;id=793104;file:///Users/kimbwook/PycharmProjects/fast-campus/venv/lib/python3.10/site-packages/httpx/_client.py#1026\u001B\\\u001B[2m1026\u001B[0m\u001B]8;;\u001B\\\n",
       "\u001B[2;36m                    \u001B[0m         \u001B[4;94mhttps://api.openai.com/v1/embeddings\u001B[0m \u001B[32m\"HTTP/1.1 200 OK\"\u001B[0m                 \u001B[2m               \u001B[0m\n"
      ],
      "text/html": [
       "<pre style=\"white-space:pre;overflow-x:auto;line-height:normal;font-family:Menlo,'DejaVu Sans Mono',consolas,'Courier New',monospace\"><span style=\"color: #7fbfbf; text-decoration-color: #7fbfbf\">[12/21/24 17:19:31] </span><span style=\"color: #000080; text-decoration-color: #000080\">INFO    </span> <span style=\"font-weight: bold\">[</span>_client.py:<span style=\"color: #008080; text-decoration-color: #008080; font-weight: bold\">1026</span><span style=\"font-weight: bold\">]</span> &gt;&gt; HTTP Request: <span style=\"color: #808000; text-decoration-color: #808000; font-weight: bold\">POST</span>                                <a href=\"file:///Users/kimbwook/PycharmProjects/fast-campus/venv/lib/python3.10/site-packages/httpx/_client.py\" target=\"_blank\"><span style=\"color: #7f7f7f; text-decoration-color: #7f7f7f\">_client.py</span></a><span style=\"color: #7f7f7f; text-decoration-color: #7f7f7f\">:</span><a href=\"file:///Users/kimbwook/PycharmProjects/fast-campus/venv/lib/python3.10/site-packages/httpx/_client.py#1026\" target=\"_blank\"><span style=\"color: #7f7f7f; text-decoration-color: #7f7f7f\">1026</span></a>\n",
       "<span style=\"color: #7fbfbf; text-decoration-color: #7fbfbf\">                    </span>         <span style=\"color: #0000ff; text-decoration-color: #0000ff; text-decoration: underline\">https://api.openai.com/v1/embeddings</span> <span style=\"color: #008000; text-decoration-color: #008000\">\"HTTP/1.1 200 OK\"</span>                 <span style=\"color: #7f7f7f; text-decoration-color: #7f7f7f\">               </span>\n",
       "</pre>\n"
      ]
     },
     "metadata": {},
     "output_type": "display_data"
    },
    {
     "data": {
      "text/plain": [
       "\u001B[2;36m                   \u001B[0m\u001B[2;36m \u001B[0m\u001B[34mINFO    \u001B[0m \u001B[1m[\u001B[0m_client.py:\u001B[1;36m1026\u001B[0m\u001B[1m]\u001B[0m >> HTTP Request: \u001B[1;33mPOST\u001B[0m                                \u001B]8;id=921425;file:///Users/kimbwook/PycharmProjects/fast-campus/venv/lib/python3.10/site-packages/httpx/_client.py\u001B\\\u001B[2m_client.py\u001B[0m\u001B]8;;\u001B\\\u001B[2m:\u001B[0m\u001B]8;id=677871;file:///Users/kimbwook/PycharmProjects/fast-campus/venv/lib/python3.10/site-packages/httpx/_client.py#1026\u001B\\\u001B[2m1026\u001B[0m\u001B]8;;\u001B\\\n",
       "\u001B[2;36m                    \u001B[0m         \u001B[4;94mhttps://api.openai.com/v1/embeddings\u001B[0m \u001B[32m\"HTTP/1.1 200 OK\"\u001B[0m                 \u001B[2m               \u001B[0m\n"
      ],
      "text/html": [
       "<pre style=\"white-space:pre;overflow-x:auto;line-height:normal;font-family:Menlo,'DejaVu Sans Mono',consolas,'Courier New',monospace\"><span style=\"color: #7fbfbf; text-decoration-color: #7fbfbf\">                    </span><span style=\"color: #000080; text-decoration-color: #000080\">INFO    </span> <span style=\"font-weight: bold\">[</span>_client.py:<span style=\"color: #008080; text-decoration-color: #008080; font-weight: bold\">1026</span><span style=\"font-weight: bold\">]</span> &gt;&gt; HTTP Request: <span style=\"color: #808000; text-decoration-color: #808000; font-weight: bold\">POST</span>                                <a href=\"file:///Users/kimbwook/PycharmProjects/fast-campus/venv/lib/python3.10/site-packages/httpx/_client.py\" target=\"_blank\"><span style=\"color: #7f7f7f; text-decoration-color: #7f7f7f\">_client.py</span></a><span style=\"color: #7f7f7f; text-decoration-color: #7f7f7f\">:</span><a href=\"file:///Users/kimbwook/PycharmProjects/fast-campus/venv/lib/python3.10/site-packages/httpx/_client.py#1026\" target=\"_blank\"><span style=\"color: #7f7f7f; text-decoration-color: #7f7f7f\">1026</span></a>\n",
       "<span style=\"color: #7fbfbf; text-decoration-color: #7fbfbf\">                    </span>         <span style=\"color: #0000ff; text-decoration-color: #0000ff; text-decoration: underline\">https://api.openai.com/v1/embeddings</span> <span style=\"color: #008000; text-decoration-color: #008000\">\"HTTP/1.1 200 OK\"</span>                 <span style=\"color: #7f7f7f; text-decoration-color: #7f7f7f\">               </span>\n",
       "</pre>\n"
      ]
     },
     "metadata": {},
     "output_type": "display_data"
    },
    {
     "data": {
      "text/plain": [
       "\u001B[2;36m[12/21/24 17:19:32]\u001B[0m\u001B[2;36m \u001B[0m\u001B[34mINFO    \u001B[0m \u001B[1m[\u001B[0m_client.py:\u001B[1;36m1026\u001B[0m\u001B[1m]\u001B[0m >> HTTP Request: \u001B[1;33mPOST\u001B[0m                                \u001B]8;id=546148;file:///Users/kimbwook/PycharmProjects/fast-campus/venv/lib/python3.10/site-packages/httpx/_client.py\u001B\\\u001B[2m_client.py\u001B[0m\u001B]8;;\u001B\\\u001B[2m:\u001B[0m\u001B]8;id=343880;file:///Users/kimbwook/PycharmProjects/fast-campus/venv/lib/python3.10/site-packages/httpx/_client.py#1026\u001B\\\u001B[2m1026\u001B[0m\u001B]8;;\u001B\\\n",
       "\u001B[2;36m                    \u001B[0m         \u001B[4;94mhttps://api.openai.com/v1/embeddings\u001B[0m \u001B[32m\"HTTP/1.1 200 OK\"\u001B[0m                 \u001B[2m               \u001B[0m\n"
      ],
      "text/html": [
       "<pre style=\"white-space:pre;overflow-x:auto;line-height:normal;font-family:Menlo,'DejaVu Sans Mono',consolas,'Courier New',monospace\"><span style=\"color: #7fbfbf; text-decoration-color: #7fbfbf\">[12/21/24 17:19:32] </span><span style=\"color: #000080; text-decoration-color: #000080\">INFO    </span> <span style=\"font-weight: bold\">[</span>_client.py:<span style=\"color: #008080; text-decoration-color: #008080; font-weight: bold\">1026</span><span style=\"font-weight: bold\">]</span> &gt;&gt; HTTP Request: <span style=\"color: #808000; text-decoration-color: #808000; font-weight: bold\">POST</span>                                <a href=\"file:///Users/kimbwook/PycharmProjects/fast-campus/venv/lib/python3.10/site-packages/httpx/_client.py\" target=\"_blank\"><span style=\"color: #7f7f7f; text-decoration-color: #7f7f7f\">_client.py</span></a><span style=\"color: #7f7f7f; text-decoration-color: #7f7f7f\">:</span><a href=\"file:///Users/kimbwook/PycharmProjects/fast-campus/venv/lib/python3.10/site-packages/httpx/_client.py#1026\" target=\"_blank\"><span style=\"color: #7f7f7f; text-decoration-color: #7f7f7f\">1026</span></a>\n",
       "<span style=\"color: #7fbfbf; text-decoration-color: #7fbfbf\">                    </span>         <span style=\"color: #0000ff; text-decoration-color: #0000ff; text-decoration: underline\">https://api.openai.com/v1/embeddings</span> <span style=\"color: #008000; text-decoration-color: #008000\">\"HTTP/1.1 200 OK\"</span>                 <span style=\"color: #7f7f7f; text-decoration-color: #7f7f7f\">               </span>\n",
       "</pre>\n"
      ]
     },
     "metadata": {},
     "output_type": "display_data"
    },
    {
     "data": {
      "text/plain": [
       "\u001B[2;36m[12/21/24 17:19:33]\u001B[0m\u001B[2;36m \u001B[0m\u001B[34mINFO    \u001B[0m \u001B[1m[\u001B[0m_client.py:\u001B[1;36m1026\u001B[0m\u001B[1m]\u001B[0m >> HTTP Request: \u001B[1;33mPOST\u001B[0m                                \u001B]8;id=428480;file:///Users/kimbwook/PycharmProjects/fast-campus/venv/lib/python3.10/site-packages/httpx/_client.py\u001B\\\u001B[2m_client.py\u001B[0m\u001B]8;;\u001B\\\u001B[2m:\u001B[0m\u001B]8;id=968448;file:///Users/kimbwook/PycharmProjects/fast-campus/venv/lib/python3.10/site-packages/httpx/_client.py#1026\u001B\\\u001B[2m1026\u001B[0m\u001B]8;;\u001B\\\n",
       "\u001B[2;36m                    \u001B[0m         \u001B[4;94mhttps://api.openai.com/v1/embeddings\u001B[0m \u001B[32m\"HTTP/1.1 200 OK\"\u001B[0m                 \u001B[2m               \u001B[0m\n"
      ],
      "text/html": [
       "<pre style=\"white-space:pre;overflow-x:auto;line-height:normal;font-family:Menlo,'DejaVu Sans Mono',consolas,'Courier New',monospace\"><span style=\"color: #7fbfbf; text-decoration-color: #7fbfbf\">[12/21/24 17:19:33] </span><span style=\"color: #000080; text-decoration-color: #000080\">INFO    </span> <span style=\"font-weight: bold\">[</span>_client.py:<span style=\"color: #008080; text-decoration-color: #008080; font-weight: bold\">1026</span><span style=\"font-weight: bold\">]</span> &gt;&gt; HTTP Request: <span style=\"color: #808000; text-decoration-color: #808000; font-weight: bold\">POST</span>                                <a href=\"file:///Users/kimbwook/PycharmProjects/fast-campus/venv/lib/python3.10/site-packages/httpx/_client.py\" target=\"_blank\"><span style=\"color: #7f7f7f; text-decoration-color: #7f7f7f\">_client.py</span></a><span style=\"color: #7f7f7f; text-decoration-color: #7f7f7f\">:</span><a href=\"file:///Users/kimbwook/PycharmProjects/fast-campus/venv/lib/python3.10/site-packages/httpx/_client.py#1026\" target=\"_blank\"><span style=\"color: #7f7f7f; text-decoration-color: #7f7f7f\">1026</span></a>\n",
       "<span style=\"color: #7fbfbf; text-decoration-color: #7fbfbf\">                    </span>         <span style=\"color: #0000ff; text-decoration-color: #0000ff; text-decoration: underline\">https://api.openai.com/v1/embeddings</span> <span style=\"color: #008000; text-decoration-color: #008000\">\"HTTP/1.1 200 OK\"</span>                 <span style=\"color: #7f7f7f; text-decoration-color: #7f7f7f\">               </span>\n",
       "</pre>\n"
      ]
     },
     "metadata": {},
     "output_type": "display_data"
    },
    {
     "data": {
      "text/plain": [
       "\u001B[2;36m[12/21/24 17:19:34]\u001B[0m\u001B[2;36m \u001B[0m\u001B[34mINFO    \u001B[0m \u001B[1m[\u001B[0m_client.py:\u001B[1;36m1026\u001B[0m\u001B[1m]\u001B[0m >> HTTP Request: \u001B[1;33mPOST\u001B[0m                                \u001B]8;id=431134;file:///Users/kimbwook/PycharmProjects/fast-campus/venv/lib/python3.10/site-packages/httpx/_client.py\u001B\\\u001B[2m_client.py\u001B[0m\u001B]8;;\u001B\\\u001B[2m:\u001B[0m\u001B]8;id=653528;file:///Users/kimbwook/PycharmProjects/fast-campus/venv/lib/python3.10/site-packages/httpx/_client.py#1026\u001B\\\u001B[2m1026\u001B[0m\u001B]8;;\u001B\\\n",
       "\u001B[2;36m                    \u001B[0m         \u001B[4;94mhttps://api.openai.com/v1/embeddings\u001B[0m \u001B[32m\"HTTP/1.1 200 OK\"\u001B[0m                 \u001B[2m               \u001B[0m\n"
      ],
      "text/html": [
       "<pre style=\"white-space:pre;overflow-x:auto;line-height:normal;font-family:Menlo,'DejaVu Sans Mono',consolas,'Courier New',monospace\"><span style=\"color: #7fbfbf; text-decoration-color: #7fbfbf\">[12/21/24 17:19:34] </span><span style=\"color: #000080; text-decoration-color: #000080\">INFO    </span> <span style=\"font-weight: bold\">[</span>_client.py:<span style=\"color: #008080; text-decoration-color: #008080; font-weight: bold\">1026</span><span style=\"font-weight: bold\">]</span> &gt;&gt; HTTP Request: <span style=\"color: #808000; text-decoration-color: #808000; font-weight: bold\">POST</span>                                <a href=\"file:///Users/kimbwook/PycharmProjects/fast-campus/venv/lib/python3.10/site-packages/httpx/_client.py\" target=\"_blank\"><span style=\"color: #7f7f7f; text-decoration-color: #7f7f7f\">_client.py</span></a><span style=\"color: #7f7f7f; text-decoration-color: #7f7f7f\">:</span><a href=\"file:///Users/kimbwook/PycharmProjects/fast-campus/venv/lib/python3.10/site-packages/httpx/_client.py#1026\" target=\"_blank\"><span style=\"color: #7f7f7f; text-decoration-color: #7f7f7f\">1026</span></a>\n",
       "<span style=\"color: #7fbfbf; text-decoration-color: #7fbfbf\">                    </span>         <span style=\"color: #0000ff; text-decoration-color: #0000ff; text-decoration: underline\">https://api.openai.com/v1/embeddings</span> <span style=\"color: #008000; text-decoration-color: #008000\">\"HTTP/1.1 200 OK\"</span>                 <span style=\"color: #7f7f7f; text-decoration-color: #7f7f7f\">               </span>\n",
       "</pre>\n"
      ]
     },
     "metadata": {},
     "output_type": "display_data"
    },
    {
     "data": {
      "text/plain": [
       "\u001B[2;36m                   \u001B[0m\u001B[2;36m \u001B[0m\u001B[34mINFO    \u001B[0m \u001B[1m[\u001B[0m_client.py:\u001B[1;36m1026\u001B[0m\u001B[1m]\u001B[0m >> HTTP Request: \u001B[1;33mPOST\u001B[0m                                \u001B]8;id=193279;file:///Users/kimbwook/PycharmProjects/fast-campus/venv/lib/python3.10/site-packages/httpx/_client.py\u001B\\\u001B[2m_client.py\u001B[0m\u001B]8;;\u001B\\\u001B[2m:\u001B[0m\u001B]8;id=869093;file:///Users/kimbwook/PycharmProjects/fast-campus/venv/lib/python3.10/site-packages/httpx/_client.py#1026\u001B\\\u001B[2m1026\u001B[0m\u001B]8;;\u001B\\\n",
       "\u001B[2;36m                    \u001B[0m         \u001B[4;94mhttps://api.openai.com/v1/embeddings\u001B[0m \u001B[32m\"HTTP/1.1 200 OK\"\u001B[0m                 \u001B[2m               \u001B[0m\n"
      ],
      "text/html": [
       "<pre style=\"white-space:pre;overflow-x:auto;line-height:normal;font-family:Menlo,'DejaVu Sans Mono',consolas,'Courier New',monospace\"><span style=\"color: #7fbfbf; text-decoration-color: #7fbfbf\">                    </span><span style=\"color: #000080; text-decoration-color: #000080\">INFO    </span> <span style=\"font-weight: bold\">[</span>_client.py:<span style=\"color: #008080; text-decoration-color: #008080; font-weight: bold\">1026</span><span style=\"font-weight: bold\">]</span> &gt;&gt; HTTP Request: <span style=\"color: #808000; text-decoration-color: #808000; font-weight: bold\">POST</span>                                <a href=\"file:///Users/kimbwook/PycharmProjects/fast-campus/venv/lib/python3.10/site-packages/httpx/_client.py\" target=\"_blank\"><span style=\"color: #7f7f7f; text-decoration-color: #7f7f7f\">_client.py</span></a><span style=\"color: #7f7f7f; text-decoration-color: #7f7f7f\">:</span><a href=\"file:///Users/kimbwook/PycharmProjects/fast-campus/venv/lib/python3.10/site-packages/httpx/_client.py#1026\" target=\"_blank\"><span style=\"color: #7f7f7f; text-decoration-color: #7f7f7f\">1026</span></a>\n",
       "<span style=\"color: #7fbfbf; text-decoration-color: #7fbfbf\">                    </span>         <span style=\"color: #0000ff; text-decoration-color: #0000ff; text-decoration: underline\">https://api.openai.com/v1/embeddings</span> <span style=\"color: #008000; text-decoration-color: #008000\">\"HTTP/1.1 200 OK\"</span>                 <span style=\"color: #7f7f7f; text-decoration-color: #7f7f7f\">               </span>\n",
       "</pre>\n"
      ]
     },
     "metadata": {},
     "output_type": "display_data"
    },
    {
     "data": {
      "text/plain": [
       "\u001B[2;36m[12/21/24 17:19:35]\u001B[0m\u001B[2;36m \u001B[0m\u001B[34mINFO    \u001B[0m \u001B[1m[\u001B[0m_client.py:\u001B[1;36m1026\u001B[0m\u001B[1m]\u001B[0m >> HTTP Request: \u001B[1;33mPOST\u001B[0m                                \u001B]8;id=77163;file:///Users/kimbwook/PycharmProjects/fast-campus/venv/lib/python3.10/site-packages/httpx/_client.py\u001B\\\u001B[2m_client.py\u001B[0m\u001B]8;;\u001B\\\u001B[2m:\u001B[0m\u001B]8;id=126854;file:///Users/kimbwook/PycharmProjects/fast-campus/venv/lib/python3.10/site-packages/httpx/_client.py#1026\u001B\\\u001B[2m1026\u001B[0m\u001B]8;;\u001B\\\n",
       "\u001B[2;36m                    \u001B[0m         \u001B[4;94mhttps://api.openai.com/v1/embeddings\u001B[0m \u001B[32m\"HTTP/1.1 200 OK\"\u001B[0m                 \u001B[2m               \u001B[0m\n"
      ],
      "text/html": [
       "<pre style=\"white-space:pre;overflow-x:auto;line-height:normal;font-family:Menlo,'DejaVu Sans Mono',consolas,'Courier New',monospace\"><span style=\"color: #7fbfbf; text-decoration-color: #7fbfbf\">[12/21/24 17:19:35] </span><span style=\"color: #000080; text-decoration-color: #000080\">INFO    </span> <span style=\"font-weight: bold\">[</span>_client.py:<span style=\"color: #008080; text-decoration-color: #008080; font-weight: bold\">1026</span><span style=\"font-weight: bold\">]</span> &gt;&gt; HTTP Request: <span style=\"color: #808000; text-decoration-color: #808000; font-weight: bold\">POST</span>                                <a href=\"file:///Users/kimbwook/PycharmProjects/fast-campus/venv/lib/python3.10/site-packages/httpx/_client.py\" target=\"_blank\"><span style=\"color: #7f7f7f; text-decoration-color: #7f7f7f\">_client.py</span></a><span style=\"color: #7f7f7f; text-decoration-color: #7f7f7f\">:</span><a href=\"file:///Users/kimbwook/PycharmProjects/fast-campus/venv/lib/python3.10/site-packages/httpx/_client.py#1026\" target=\"_blank\"><span style=\"color: #7f7f7f; text-decoration-color: #7f7f7f\">1026</span></a>\n",
       "<span style=\"color: #7fbfbf; text-decoration-color: #7fbfbf\">                    </span>         <span style=\"color: #0000ff; text-decoration-color: #0000ff; text-decoration: underline\">https://api.openai.com/v1/embeddings</span> <span style=\"color: #008000; text-decoration-color: #008000\">\"HTTP/1.1 200 OK\"</span>                 <span style=\"color: #7f7f7f; text-decoration-color: #7f7f7f\">               </span>\n",
       "</pre>\n"
      ]
     },
     "metadata": {},
     "output_type": "display_data"
    },
    {
     "data": {
      "text/plain": [
       "\u001B[2;36m[12/21/24 17:19:36]\u001B[0m\u001B[2;36m \u001B[0m\u001B[34mINFO    \u001B[0m \u001B[1m[\u001B[0m_client.py:\u001B[1;36m1026\u001B[0m\u001B[1m]\u001B[0m >> HTTP Request: \u001B[1;33mPOST\u001B[0m                                \u001B]8;id=837838;file:///Users/kimbwook/PycharmProjects/fast-campus/venv/lib/python3.10/site-packages/httpx/_client.py\u001B\\\u001B[2m_client.py\u001B[0m\u001B]8;;\u001B\\\u001B[2m:\u001B[0m\u001B]8;id=485406;file:///Users/kimbwook/PycharmProjects/fast-campus/venv/lib/python3.10/site-packages/httpx/_client.py#1026\u001B\\\u001B[2m1026\u001B[0m\u001B]8;;\u001B\\\n",
       "\u001B[2;36m                    \u001B[0m         \u001B[4;94mhttps://api.openai.com/v1/embeddings\u001B[0m \u001B[32m\"HTTP/1.1 200 OK\"\u001B[0m                 \u001B[2m               \u001B[0m\n"
      ],
      "text/html": [
       "<pre style=\"white-space:pre;overflow-x:auto;line-height:normal;font-family:Menlo,'DejaVu Sans Mono',consolas,'Courier New',monospace\"><span style=\"color: #7fbfbf; text-decoration-color: #7fbfbf\">[12/21/24 17:19:36] </span><span style=\"color: #000080; text-decoration-color: #000080\">INFO    </span> <span style=\"font-weight: bold\">[</span>_client.py:<span style=\"color: #008080; text-decoration-color: #008080; font-weight: bold\">1026</span><span style=\"font-weight: bold\">]</span> &gt;&gt; HTTP Request: <span style=\"color: #808000; text-decoration-color: #808000; font-weight: bold\">POST</span>                                <a href=\"file:///Users/kimbwook/PycharmProjects/fast-campus/venv/lib/python3.10/site-packages/httpx/_client.py\" target=\"_blank\"><span style=\"color: #7f7f7f; text-decoration-color: #7f7f7f\">_client.py</span></a><span style=\"color: #7f7f7f; text-decoration-color: #7f7f7f\">:</span><a href=\"file:///Users/kimbwook/PycharmProjects/fast-campus/venv/lib/python3.10/site-packages/httpx/_client.py#1026\" target=\"_blank\"><span style=\"color: #7f7f7f; text-decoration-color: #7f7f7f\">1026</span></a>\n",
       "<span style=\"color: #7fbfbf; text-decoration-color: #7fbfbf\">                    </span>         <span style=\"color: #0000ff; text-decoration-color: #0000ff; text-decoration: underline\">https://api.openai.com/v1/embeddings</span> <span style=\"color: #008000; text-decoration-color: #008000\">\"HTTP/1.1 200 OK\"</span>                 <span style=\"color: #7f7f7f; text-decoration-color: #7f7f7f\">               </span>\n",
       "</pre>\n"
      ]
     },
     "metadata": {},
     "output_type": "display_data"
    },
    {
     "data": {
      "text/plain": [
       "\u001B[2;36m[12/21/24 17:19:37]\u001B[0m\u001B[2;36m \u001B[0m\u001B[34mINFO    \u001B[0m \u001B[1m[\u001B[0m_client.py:\u001B[1;36m1026\u001B[0m\u001B[1m]\u001B[0m >> HTTP Request: \u001B[1;33mPOST\u001B[0m                                \u001B]8;id=185313;file:///Users/kimbwook/PycharmProjects/fast-campus/venv/lib/python3.10/site-packages/httpx/_client.py\u001B\\\u001B[2m_client.py\u001B[0m\u001B]8;;\u001B\\\u001B[2m:\u001B[0m\u001B]8;id=244587;file:///Users/kimbwook/PycharmProjects/fast-campus/venv/lib/python3.10/site-packages/httpx/_client.py#1026\u001B\\\u001B[2m1026\u001B[0m\u001B]8;;\u001B\\\n",
       "\u001B[2;36m                    \u001B[0m         \u001B[4;94mhttps://api.openai.com/v1/embeddings\u001B[0m \u001B[32m\"HTTP/1.1 200 OK\"\u001B[0m                 \u001B[2m               \u001B[0m\n"
      ],
      "text/html": [
       "<pre style=\"white-space:pre;overflow-x:auto;line-height:normal;font-family:Menlo,'DejaVu Sans Mono',consolas,'Courier New',monospace\"><span style=\"color: #7fbfbf; text-decoration-color: #7fbfbf\">[12/21/24 17:19:37] </span><span style=\"color: #000080; text-decoration-color: #000080\">INFO    </span> <span style=\"font-weight: bold\">[</span>_client.py:<span style=\"color: #008080; text-decoration-color: #008080; font-weight: bold\">1026</span><span style=\"font-weight: bold\">]</span> &gt;&gt; HTTP Request: <span style=\"color: #808000; text-decoration-color: #808000; font-weight: bold\">POST</span>                                <a href=\"file:///Users/kimbwook/PycharmProjects/fast-campus/venv/lib/python3.10/site-packages/httpx/_client.py\" target=\"_blank\"><span style=\"color: #7f7f7f; text-decoration-color: #7f7f7f\">_client.py</span></a><span style=\"color: #7f7f7f; text-decoration-color: #7f7f7f\">:</span><a href=\"file:///Users/kimbwook/PycharmProjects/fast-campus/venv/lib/python3.10/site-packages/httpx/_client.py#1026\" target=\"_blank\"><span style=\"color: #7f7f7f; text-decoration-color: #7f7f7f\">1026</span></a>\n",
       "<span style=\"color: #7fbfbf; text-decoration-color: #7fbfbf\">                    </span>         <span style=\"color: #0000ff; text-decoration-color: #0000ff; text-decoration: underline\">https://api.openai.com/v1/embeddings</span> <span style=\"color: #008000; text-decoration-color: #008000\">\"HTTP/1.1 200 OK\"</span>                 <span style=\"color: #7f7f7f; text-decoration-color: #7f7f7f\">               </span>\n",
       "</pre>\n"
      ]
     },
     "metadata": {},
     "output_type": "display_data"
    },
    {
     "data": {
      "text/plain": [
       "\u001B[2;36m                   \u001B[0m\u001B[2;36m \u001B[0m\u001B[34mINFO    \u001B[0m \u001B[1m[\u001B[0mchunker.py:\u001B[1;36m51\u001B[0m\u001B[1m]\u001B[0m >> Chunking Done!                                        \u001B]8;id=217391;file:///Users/kimbwook/PycharmProjects/fast-campus/venv/lib/python3.10/site-packages/autorag/chunker.py\u001B\\\u001B[2mchunker.py\u001B[0m\u001B]8;;\u001B\\\u001B[2m:\u001B[0m\u001B]8;id=826857;file:///Users/kimbwook/PycharmProjects/fast-campus/venv/lib/python3.10/site-packages/autorag/chunker.py#51\u001B\\\u001B[2m51\u001B[0m\u001B]8;;\u001B\\\n"
      ],
      "text/html": [
       "<pre style=\"white-space:pre;overflow-x:auto;line-height:normal;font-family:Menlo,'DejaVu Sans Mono',consolas,'Courier New',monospace\"><span style=\"color: #7fbfbf; text-decoration-color: #7fbfbf\">                    </span><span style=\"color: #000080; text-decoration-color: #000080\">INFO    </span> <span style=\"font-weight: bold\">[</span>chunker.py:<span style=\"color: #008080; text-decoration-color: #008080; font-weight: bold\">51</span><span style=\"font-weight: bold\">]</span> &gt;&gt; Chunking Done!                                        <a href=\"file:///Users/kimbwook/PycharmProjects/fast-campus/venv/lib/python3.10/site-packages/autorag/chunker.py\" target=\"_blank\"><span style=\"color: #7f7f7f; text-decoration-color: #7f7f7f\">chunker.py</span></a><span style=\"color: #7f7f7f; text-decoration-color: #7f7f7f\">:</span><a href=\"file:///Users/kimbwook/PycharmProjects/fast-campus/venv/lib/python3.10/site-packages/autorag/chunker.py#51\" target=\"_blank\"><span style=\"color: #7f7f7f; text-decoration-color: #7f7f7f\">51</span></a>\n",
       "</pre>\n"
      ]
     },
     "metadata": {},
     "output_type": "display_data"
    }
   ],
   "execution_count": 15
  },
  {
   "metadata": {},
   "cell_type": "markdown",
   "source": "# Check Result",
   "id": "3eed8d7a5e6605cf"
  },
  {
   "metadata": {
    "ExecuteTime": {
     "end_time": "2024-12-21T08:19:57.260447Z",
     "start_time": "2024-12-21T08:19:57.253493Z"
    }
   },
   "cell_type": "code",
   "source": [
    "result_path = os.path.join(project_dir, '0.parquet')\n",
    "df = pd.read_parquet(result_path)"
   ],
   "id": "597f0f6cc87b3b4f",
   "outputs": [],
   "execution_count": 16
  },
  {
   "metadata": {
    "ExecuteTime": {
     "end_time": "2024-12-21T08:19:57.857834Z",
     "start_time": "2024-12-21T08:19:57.835028Z"
    }
   },
   "cell_type": "code",
   "source": "df",
   "id": "f858bfddf88176ce",
   "outputs": [
    {
     "data": {
      "text/plain": [
       "                                  doc_id  \\\n",
       "0   123d0aa2-a64b-4762-9ad4-bb63f6493202   \n",
       "1   9dede19f-a14a-486c-9837-9dfc6078e07e   \n",
       "2   b543688b-4a53-4c11-bb60-91e5e3936ea2   \n",
       "3   e6814521-f114-4457-8cb6-09cefe636639   \n",
       "4   68a82427-02af-430e-9b96-03498f306321   \n",
       "5   19e87e69-82be-4c39-b23b-7648dee012a7   \n",
       "6   777e3067-0173-4629-ba6b-e202cdca11a7   \n",
       "7   0a2605ef-8890-490b-99f3-06e6b43c9577   \n",
       "8   b51fda8b-a3ab-4ab3-a76a-a1f1a44b01b2   \n",
       "9   be654777-4519-4f47-ab20-f8e5a997c4e5   \n",
       "10  37e082a1-79d6-4368-aff4-d17bd7fbdb17   \n",
       "11  a42e5d9c-8a22-4363-8fe0-ce943db2f189   \n",
       "12  c6b97d19-15b5-41a0-b566-7440588abc30   \n",
       "13  72c4d377-66c0-48dc-ad46-47cf1bf860e6   \n",
       "14  9b738e6a-a01e-4b36-9e35-555f8d63773b   \n",
       "15  0ec81b92-e2bb-4df7-b6a1-35ec32552253   \n",
       "16  226fc7b7-d4d7-455f-811b-3dd8ac44542a   \n",
       "17  ef328a87-469a-465b-8020-b418537103d7   \n",
       "18  87ddbabe-8d62-4074-9a20-e0fa003de379   \n",
       "19  1e3a07e7-dd80-4d75-853f-b102facd9a29   \n",
       "20  077c9e48-15a1-4f10-9a5c-fc015707d160   \n",
       "21  dd885838-7715-4535-8a7b-2fb4ab165a7e   \n",
       "22  9066a3ca-2a6c-44ef-8e89-2bc999fe0c0e   \n",
       "23  351d7ffd-acd2-436e-8279-804db294d51e   \n",
       "24  108c63c3-7a0c-4718-b2ca-7f1eca57a075   \n",
       "25  11f01894-6c05-4a1b-8455-6877f58f492f   \n",
       "26  4b738758-032b-44da-b2fe-86f285edc0a9   \n",
       "27  852751fc-ef90-4c30-8d88-baacf261f15b   \n",
       "28  50771921-bddb-4b8c-a0ab-ec13b06e9aec   \n",
       "29  7b79da60-9e36-426b-ae17-99cf7445f9f2   \n",
       "30  7cf4bbd0-72e1-4a39-b4f6-228350df2124   \n",
       "31  7819d97a-bfd9-4c3d-b7be-7648bfa19ff1   \n",
       "32  9ff1d391-d2fb-4145-bf0c-6a57604a0892   \n",
       "33  b32f1d8f-312e-4d9d-9015-b09fe728f4e2   \n",
       "34  c5de80e7-19be-47a1-b599-da20ebc590ae   \n",
       "35  74627d5d-e4ad-4d99-867e-e812b8515dd5   \n",
       "36  86d680b8-8208-45e3-ba54-a5b0586b9abd   \n",
       "37  d27e2d01-83ad-45ef-a27f-0a7daa16ad7c   \n",
       "38  f4192967-8036-45c8-b6fb-b594b2745e88   \n",
       "39  49d90782-762b-4e9b-b594-7340765d37c2   \n",
       "40  35001478-5415-4952-a21c-2d29b602345e   \n",
       "41  2bb037c0-6387-4edb-890c-b464355016d7   \n",
       "42  07c14cda-76ba-4826-89f3-70681827ff2f   \n",
       "43  df82d888-9bf7-48d7-8b86-73f5b2ec8db2   \n",
       "44  31ee237a-afa2-4182-9ad7-57dbdf188302   \n",
       "\n",
       "                                             contents  \\\n",
       "0   # 중소벤처기업부공고제2024–300호# 2024년 글로벌팁스(GlobalTIPS)...   \n",
       "1   □ 협약기간: 협약 시작일로부터 10개월 이내* 사업기간은 총 3년으로 선정 후, ...   \n",
       "2   # 서류및발표평가# 결과에최대 5점까지 가점부여|가점세부항목|점수|비고|\\n|---...   \n",
       "3   ※세부일정은대내‧외사정에의해변경될수있음|공고|창업기업신청‧접수|요건검토및선정평가|\\...   \n",
       "4   # 6 유의사항◈창업지원사업에신청하는창업기업은관련법령에따라 다음사항에유의하여야합니다...   \n",
       "5   □신청시유의사항# 【창업기업대표자】- 동사업신청은해당창업기업의대표자가하여야하며,동사...   \n",
       "6   ◦ 선정자는 창업진흥원이 지정한 은행계좌(사업비계좌) 개설 및 창업 사업 통합 관리...   \n",
       "7   7 사업신청문의□ 문의처◦ (시스템문의) 국번없이 1357◦ (사업문의) 주관기관 ...   \n",
       "8   # 창업여부 기준표|신청기업구분|상세구분| |창업여부|\\n|---|---|---|-...   \n",
       "9   |이종|창업| |※ 포괄양수도계약에 의한 법인전환: 양도기업(기존개인사업자) 개시일...   \n",
       "10                                               # 붙임   \n",
       "11  2|지원|제외|대상|업종|\\n|---|---|---|---|\\n|▶ 중소기업창업지원...   \n",
       "12                                               # 붙임   \n",
       "13  3# 동시수행불가한글로벌창업지원사업목록※’24년도중소벤처기업부및타중앙정부·공공기관의...   \n",
       "14  # 붙임4# 신산업 창업 분야※「중소기업창업지원법」제25조4항에따라신산업창업분야인창...   \n",
       "15  27개 신산업 창업 분야|인공지능|스마트제조|드론·개인이동수단|\\n|---|---|...   \n",
       "16                                               # 붙임   \n",
       "17  5# 소재·부품·장비 및 스타트업 10대 초격차분야☞ 품목별 시장 및 기술환경 등 ...   \n",
       "18                                             # 전략분야   \n",
       "19  # 전략품목|수소저장·운반용복합소재|4DFMCW라이다신호처리소프트웨어|\\n|---|...   \n",
       "20  # 스타트업 10대 초격차 분야|10대분야|세부분류(예)|\\n|---|---|\\n|...   \n",
       "21       *상기내역은 ‘2024년 중소기업 기술 로드맵’ 개편내용에 따라 변경될 수 있음   \n",
       "22  # 지원내용□  협약기간: 협약시작일로부터 10개월 이내*사업기간은 총 3년으로 선...   \n",
       "23  • 글로벌 투자자 등이 참여하는 밋업 데이, IR 개최 등 해외 후속 투자 유치 기...   \n",
       "24  # 제출서류|제출서류|제출방법|유의사항|\\n|---|---|---|\\n|①사업신청서...   \n",
       "25  1. ①팁스성공기업 ,시드포함)(프리\\n2. ②글로벌지원사업(글로벌액셀러레이팅,글로...   \n",
       "26  # 5 평가및선정□평가절차:총2단계평가(서류 + (현장실사))를통해최종선정 발표*선...   \n",
       "27  평가방법1. 요건검토: 창업기업의 신청자격 및 가점사항, 해외VC요건 및 투자유치금...   \n",
       "28  # 최종선정:서류및발표평가결과에최종가점을합산하여지원대상자선정- 지원규모내에서최종지원...   \n",
       "29  평가지표◦창업기업의문제인식,현지화가능성,글로벌성장전략,팀(기업)구성등보유역량등을종합...   \n",
       "30  * 합의 하에 공동 작성한 동일‧유사 사업계획서로 선정된 경우일지라도, 공동작성자\\...   \n",
       "31  공동대표 또는 각자대표로 구성된 창업기업의 경우 대표 중 한 명\\n으로 회원가입 및...   \n",
       "32  【사업계획서 작성】\\n◦ 중장기 사업수행 계획은 총사업 기간(3년)에 맞추어 작성하...   \n",
       "33  신청자격 관련 증빙서류 미제출 등의 사유로 인한 신청자격 확인\\n불가 시 평가대상에...   \n",
       "34  □ 선정 후 유의사항\\n◦ 동 사업에 선정된 자가 공고문 및 관련 규정에 위배되거나...   \n",
       "35                                               14 -   \n",
       "36  붙임1 창업기업 확인에 관한 유의사항\\n□ 창업의 범위\\n◦ 다음의 요건을 모두 충...   \n",
       "37                                               16 -   \n",
       "38  2 신청자격 및 요건\\n□ 신청자격\\n◦ ｢중소기업기본법｣ 제2조제1항에 따른 중소...   \n",
       "39  본점과 지점이 있는 경우 본점 사업자로만 신청 가능하며, 중복 신청한 경우 본점을 ...   \n",
       "40  □ 신청 제외 대상 (사업 신청‧접수 마감일 기준)\\n① 금융기관 등으로부터 채무불...   \n",
       "41  □ 의무 및 역할\\n◦ 선정자는「중소기업창업 지원사업 운영요령」 및 「창업사업화\\n...   \n",
       "42                                                4 -   \n",
       "43  4 신청 및 접수\\n□ 신청 ‧ 접수 기간\\n◦ 접수기간 : 2024. 5. 7.(...   \n",
       "44  서울신용평가정보(SCI)에 실명(개명)정보가 등록되어 있지 않아 실명 확인이\\n불가...   \n",
       "\n",
       "                                                 path start_end_idx  \\\n",
       "0   /Users/kimbwook/PycharmProjects/fast-campus/no...        [0, 0]   \n",
       "1   /Users/kimbwook/PycharmProjects/fast-campus/no...        [0, 0]   \n",
       "2   /Users/kimbwook/PycharmProjects/fast-campus/no...        [0, 0]   \n",
       "3   /Users/kimbwook/PycharmProjects/fast-campus/no...        [0, 0]   \n",
       "4   /Users/kimbwook/PycharmProjects/fast-campus/no...        [0, 0]   \n",
       "5   /Users/kimbwook/PycharmProjects/fast-campus/no...        [0, 0]   \n",
       "6   /Users/kimbwook/PycharmProjects/fast-campus/no...        [0, 0]   \n",
       "7   /Users/kimbwook/PycharmProjects/fast-campus/no...        [0, 0]   \n",
       "8   /Users/kimbwook/PycharmProjects/fast-campus/no...        [0, 0]   \n",
       "9   /Users/kimbwook/PycharmProjects/fast-campus/no...        [0, 0]   \n",
       "10  /Users/kimbwook/PycharmProjects/fast-campus/no...        [0, 3]   \n",
       "11  /Users/kimbwook/PycharmProjects/fast-campus/no...        [0, 0]   \n",
       "12  /Users/kimbwook/PycharmProjects/fast-campus/no...        [0, 3]   \n",
       "13  /Users/kimbwook/PycharmProjects/fast-campus/no...        [0, 0]   \n",
       "14  /Users/kimbwook/PycharmProjects/fast-campus/no...        [0, 0]   \n",
       "15  /Users/kimbwook/PycharmProjects/fast-campus/no...        [0, 0]   \n",
       "16  /Users/kimbwook/PycharmProjects/fast-campus/no...        [0, 3]   \n",
       "17  /Users/kimbwook/PycharmProjects/fast-campus/no...        [0, 0]   \n",
       "18  /Users/kimbwook/PycharmProjects/fast-campus/no...        [0, 5]   \n",
       "19  /Users/kimbwook/PycharmProjects/fast-campus/no...        [0, 0]   \n",
       "20  /Users/kimbwook/PycharmProjects/fast-campus/no...        [0, 0]   \n",
       "21  /Users/kimbwook/PycharmProjects/fast-campus/no...    [385, 428]   \n",
       "22  /Users/kimbwook/PycharmProjects/fast-campus/no...        [0, 0]   \n",
       "23  /Users/kimbwook/PycharmProjects/fast-campus/no...    [838, 887]   \n",
       "24  /Users/kimbwook/PycharmProjects/fast-campus/no...        [0, 0]   \n",
       "25  /Users/kimbwook/PycharmProjects/fast-campus/no...        [0, 0]   \n",
       "26  /Users/kimbwook/PycharmProjects/fast-campus/no...        [0, 0]   \n",
       "27  /Users/kimbwook/PycharmProjects/fast-campus/no...        [0, 0]   \n",
       "28  /Users/kimbwook/PycharmProjects/fast-campus/no...        [0, 0]   \n",
       "29  /Users/kimbwook/PycharmProjects/fast-campus/no...        [0, 0]   \n",
       "30  /Users/kimbwook/PycharmProjects/fast-campus/no...        [0, 0]   \n",
       "31  /Users/kimbwook/PycharmProjects/fast-campus/no...    [518, 908]   \n",
       "32  /Users/kimbwook/PycharmProjects/fast-campus/no...        [0, 0]   \n",
       "33  /Users/kimbwook/PycharmProjects/fast-campus/no...        [0, 0]   \n",
       "34  /Users/kimbwook/PycharmProjects/fast-campus/no...        [0, 0]   \n",
       "35  /Users/kimbwook/PycharmProjects/fast-campus/no...    [776, 779]   \n",
       "36  /Users/kimbwook/PycharmProjects/fast-campus/no...        [0, 0]   \n",
       "37  /Users/kimbwook/PycharmProjects/fast-campus/no...  [1484, 1487]   \n",
       "38  /Users/kimbwook/PycharmProjects/fast-campus/no...        [0, 0]   \n",
       "39  /Users/kimbwook/PycharmProjects/fast-campus/no...   [760, 1370]   \n",
       "40  /Users/kimbwook/PycharmProjects/fast-campus/no...        [0, 0]   \n",
       "41  /Users/kimbwook/PycharmProjects/fast-campus/no...        [0, 0]   \n",
       "42  /Users/kimbwook/PycharmProjects/fast-campus/no...    [727, 729]   \n",
       "43  /Users/kimbwook/PycharmProjects/fast-campus/no...        [0, 0]   \n",
       "44  /Users/kimbwook/PycharmProjects/fast-campus/no...   [919, 1008]   \n",
       "\n",
       "                                             metadata  \n",
       "0   {'last_modified_datetime': '2024-12-11', 'next...  \n",
       "1   {'last_modified_datetime': '2024-12-11', 'next...  \n",
       "2   {'last_modified_datetime': '2024-12-11', 'next...  \n",
       "3   {'last_modified_datetime': '2024-12-11', 'next...  \n",
       "4   {'last_modified_datetime': '2024-12-11', 'next...  \n",
       "5   {'last_modified_datetime': '2024-12-11', 'next...  \n",
       "6   {'last_modified_datetime': '2024-12-11', 'next...  \n",
       "7   {'last_modified_datetime': '2024-12-11', 'next...  \n",
       "8   {'last_modified_datetime': '2024-12-11', 'next...  \n",
       "9   {'last_modified_datetime': '2024-12-11', 'next...  \n",
       "10  {'last_modified_datetime': '2024-12-11', 'next...  \n",
       "11  {'last_modified_datetime': '2024-12-11', 'next...  \n",
       "12  {'last_modified_datetime': '2024-12-11', 'next...  \n",
       "13  {'last_modified_datetime': '2024-12-11', 'next...  \n",
       "14  {'last_modified_datetime': '2024-12-11', 'next...  \n",
       "15  {'last_modified_datetime': '2024-12-11', 'next...  \n",
       "16  {'last_modified_datetime': '2024-12-11', 'next...  \n",
       "17  {'last_modified_datetime': '2024-12-11', 'next...  \n",
       "18  {'last_modified_datetime': '2024-12-11', 'next...  \n",
       "19  {'last_modified_datetime': '2024-12-11', 'next...  \n",
       "20  {'last_modified_datetime': '2024-12-11', 'next...  \n",
       "21  {'last_modified_datetime': '2024-12-11', 'next...  \n",
       "22  {'last_modified_datetime': '2024-12-11', 'next...  \n",
       "23  {'last_modified_datetime': '2024-12-11', 'next...  \n",
       "24  {'last_modified_datetime': '2024-12-11', 'next...  \n",
       "25  {'last_modified_datetime': '2024-12-11', 'next...  \n",
       "26  {'last_modified_datetime': '2024-12-11', 'next...  \n",
       "27  {'last_modified_datetime': '2024-12-11', 'next...  \n",
       "28  {'last_modified_datetime': '2024-12-11', 'next...  \n",
       "29  {'last_modified_datetime': '2024-12-11', 'next...  \n",
       "30  {'last_modified_datetime': '2024-12-11', 'next...  \n",
       "31  {'last_modified_datetime': '2024-12-11', 'next...  \n",
       "32  {'last_modified_datetime': '2024-12-11', 'next...  \n",
       "33  {'last_modified_datetime': '2024-12-11', 'next...  \n",
       "34  {'last_modified_datetime': '2024-12-11', 'next...  \n",
       "35  {'last_modified_datetime': '2024-12-11', 'next...  \n",
       "36  {'last_modified_datetime': '2024-12-11', 'next...  \n",
       "37  {'last_modified_datetime': '2024-12-11', 'next...  \n",
       "38  {'last_modified_datetime': '2024-12-11', 'next...  \n",
       "39  {'last_modified_datetime': '2024-12-11', 'next...  \n",
       "40  {'last_modified_datetime': '2024-12-11', 'next...  \n",
       "41  {'last_modified_datetime': '2024-12-11', 'next...  \n",
       "42  {'last_modified_datetime': '2024-12-11', 'next...  \n",
       "43  {'last_modified_datetime': '2024-12-11', 'next...  \n",
       "44  {'last_modified_datetime': '2024-12-11', 'next...  "
      ],
      "text/html": [
       "<div>\n",
       "<style scoped>\n",
       "    .dataframe tbody tr th:only-of-type {\n",
       "        vertical-align: middle;\n",
       "    }\n",
       "\n",
       "    .dataframe tbody tr th {\n",
       "        vertical-align: top;\n",
       "    }\n",
       "\n",
       "    .dataframe thead th {\n",
       "        text-align: right;\n",
       "    }\n",
       "</style>\n",
       "<table border=\"1\" class=\"dataframe\">\n",
       "  <thead>\n",
       "    <tr style=\"text-align: right;\">\n",
       "      <th></th>\n",
       "      <th>doc_id</th>\n",
       "      <th>contents</th>\n",
       "      <th>path</th>\n",
       "      <th>start_end_idx</th>\n",
       "      <th>metadata</th>\n",
       "    </tr>\n",
       "  </thead>\n",
       "  <tbody>\n",
       "    <tr>\n",
       "      <th>0</th>\n",
       "      <td>123d0aa2-a64b-4762-9ad4-bb63f6493202</td>\n",
       "      <td># 중소벤처기업부공고제2024–300호# 2024년 글로벌팁스(GlobalTIPS)...</td>\n",
       "      <td>/Users/kimbwook/PycharmProjects/fast-campus/no...</td>\n",
       "      <td>[0, 0]</td>\n",
       "      <td>{'last_modified_datetime': '2024-12-11', 'next...</td>\n",
       "    </tr>\n",
       "    <tr>\n",
       "      <th>1</th>\n",
       "      <td>9dede19f-a14a-486c-9837-9dfc6078e07e</td>\n",
       "      <td>□ 협약기간: 협약 시작일로부터 10개월 이내* 사업기간은 총 3년으로 선정 후, ...</td>\n",
       "      <td>/Users/kimbwook/PycharmProjects/fast-campus/no...</td>\n",
       "      <td>[0, 0]</td>\n",
       "      <td>{'last_modified_datetime': '2024-12-11', 'next...</td>\n",
       "    </tr>\n",
       "    <tr>\n",
       "      <th>2</th>\n",
       "      <td>b543688b-4a53-4c11-bb60-91e5e3936ea2</td>\n",
       "      <td># 서류및발표평가# 결과에최대 5점까지 가점부여|가점세부항목|점수|비고|\\n|---...</td>\n",
       "      <td>/Users/kimbwook/PycharmProjects/fast-campus/no...</td>\n",
       "      <td>[0, 0]</td>\n",
       "      <td>{'last_modified_datetime': '2024-12-11', 'next...</td>\n",
       "    </tr>\n",
       "    <tr>\n",
       "      <th>3</th>\n",
       "      <td>e6814521-f114-4457-8cb6-09cefe636639</td>\n",
       "      <td>※세부일정은대내‧외사정에의해변경될수있음|공고|창업기업신청‧접수|요건검토및선정평가|\\...</td>\n",
       "      <td>/Users/kimbwook/PycharmProjects/fast-campus/no...</td>\n",
       "      <td>[0, 0]</td>\n",
       "      <td>{'last_modified_datetime': '2024-12-11', 'next...</td>\n",
       "    </tr>\n",
       "    <tr>\n",
       "      <th>4</th>\n",
       "      <td>68a82427-02af-430e-9b96-03498f306321</td>\n",
       "      <td># 6 유의사항◈창업지원사업에신청하는창업기업은관련법령에따라 다음사항에유의하여야합니다...</td>\n",
       "      <td>/Users/kimbwook/PycharmProjects/fast-campus/no...</td>\n",
       "      <td>[0, 0]</td>\n",
       "      <td>{'last_modified_datetime': '2024-12-11', 'next...</td>\n",
       "    </tr>\n",
       "    <tr>\n",
       "      <th>5</th>\n",
       "      <td>19e87e69-82be-4c39-b23b-7648dee012a7</td>\n",
       "      <td>□신청시유의사항# 【창업기업대표자】- 동사업신청은해당창업기업의대표자가하여야하며,동사...</td>\n",
       "      <td>/Users/kimbwook/PycharmProjects/fast-campus/no...</td>\n",
       "      <td>[0, 0]</td>\n",
       "      <td>{'last_modified_datetime': '2024-12-11', 'next...</td>\n",
       "    </tr>\n",
       "    <tr>\n",
       "      <th>6</th>\n",
       "      <td>777e3067-0173-4629-ba6b-e202cdca11a7</td>\n",
       "      <td>◦ 선정자는 창업진흥원이 지정한 은행계좌(사업비계좌) 개설 및 창업 사업 통합 관리...</td>\n",
       "      <td>/Users/kimbwook/PycharmProjects/fast-campus/no...</td>\n",
       "      <td>[0, 0]</td>\n",
       "      <td>{'last_modified_datetime': '2024-12-11', 'next...</td>\n",
       "    </tr>\n",
       "    <tr>\n",
       "      <th>7</th>\n",
       "      <td>0a2605ef-8890-490b-99f3-06e6b43c9577</td>\n",
       "      <td>7 사업신청문의□ 문의처◦ (시스템문의) 국번없이 1357◦ (사업문의) 주관기관 ...</td>\n",
       "      <td>/Users/kimbwook/PycharmProjects/fast-campus/no...</td>\n",
       "      <td>[0, 0]</td>\n",
       "      <td>{'last_modified_datetime': '2024-12-11', 'next...</td>\n",
       "    </tr>\n",
       "    <tr>\n",
       "      <th>8</th>\n",
       "      <td>b51fda8b-a3ab-4ab3-a76a-a1f1a44b01b2</td>\n",
       "      <td># 창업여부 기준표|신청기업구분|상세구분| |창업여부|\\n|---|---|---|-...</td>\n",
       "      <td>/Users/kimbwook/PycharmProjects/fast-campus/no...</td>\n",
       "      <td>[0, 0]</td>\n",
       "      <td>{'last_modified_datetime': '2024-12-11', 'next...</td>\n",
       "    </tr>\n",
       "    <tr>\n",
       "      <th>9</th>\n",
       "      <td>be654777-4519-4f47-ab20-f8e5a997c4e5</td>\n",
       "      <td>|이종|창업| |※ 포괄양수도계약에 의한 법인전환: 양도기업(기존개인사업자) 개시일...</td>\n",
       "      <td>/Users/kimbwook/PycharmProjects/fast-campus/no...</td>\n",
       "      <td>[0, 0]</td>\n",
       "      <td>{'last_modified_datetime': '2024-12-11', 'next...</td>\n",
       "    </tr>\n",
       "    <tr>\n",
       "      <th>10</th>\n",
       "      <td>37e082a1-79d6-4368-aff4-d17bd7fbdb17</td>\n",
       "      <td># 붙임</td>\n",
       "      <td>/Users/kimbwook/PycharmProjects/fast-campus/no...</td>\n",
       "      <td>[0, 3]</td>\n",
       "      <td>{'last_modified_datetime': '2024-12-11', 'next...</td>\n",
       "    </tr>\n",
       "    <tr>\n",
       "      <th>11</th>\n",
       "      <td>a42e5d9c-8a22-4363-8fe0-ce943db2f189</td>\n",
       "      <td>2|지원|제외|대상|업종|\\n|---|---|---|---|\\n|▶ 중소기업창업지원...</td>\n",
       "      <td>/Users/kimbwook/PycharmProjects/fast-campus/no...</td>\n",
       "      <td>[0, 0]</td>\n",
       "      <td>{'last_modified_datetime': '2024-12-11', 'next...</td>\n",
       "    </tr>\n",
       "    <tr>\n",
       "      <th>12</th>\n",
       "      <td>c6b97d19-15b5-41a0-b566-7440588abc30</td>\n",
       "      <td># 붙임</td>\n",
       "      <td>/Users/kimbwook/PycharmProjects/fast-campus/no...</td>\n",
       "      <td>[0, 3]</td>\n",
       "      <td>{'last_modified_datetime': '2024-12-11', 'next...</td>\n",
       "    </tr>\n",
       "    <tr>\n",
       "      <th>13</th>\n",
       "      <td>72c4d377-66c0-48dc-ad46-47cf1bf860e6</td>\n",
       "      <td>3# 동시수행불가한글로벌창업지원사업목록※’24년도중소벤처기업부및타중앙정부·공공기관의...</td>\n",
       "      <td>/Users/kimbwook/PycharmProjects/fast-campus/no...</td>\n",
       "      <td>[0, 0]</td>\n",
       "      <td>{'last_modified_datetime': '2024-12-11', 'next...</td>\n",
       "    </tr>\n",
       "    <tr>\n",
       "      <th>14</th>\n",
       "      <td>9b738e6a-a01e-4b36-9e35-555f8d63773b</td>\n",
       "      <td># 붙임4# 신산업 창업 분야※「중소기업창업지원법」제25조4항에따라신산업창업분야인창...</td>\n",
       "      <td>/Users/kimbwook/PycharmProjects/fast-campus/no...</td>\n",
       "      <td>[0, 0]</td>\n",
       "      <td>{'last_modified_datetime': '2024-12-11', 'next...</td>\n",
       "    </tr>\n",
       "    <tr>\n",
       "      <th>15</th>\n",
       "      <td>0ec81b92-e2bb-4df7-b6a1-35ec32552253</td>\n",
       "      <td>27개 신산업 창업 분야|인공지능|스마트제조|드론·개인이동수단|\\n|---|---|...</td>\n",
       "      <td>/Users/kimbwook/PycharmProjects/fast-campus/no...</td>\n",
       "      <td>[0, 0]</td>\n",
       "      <td>{'last_modified_datetime': '2024-12-11', 'next...</td>\n",
       "    </tr>\n",
       "    <tr>\n",
       "      <th>16</th>\n",
       "      <td>226fc7b7-d4d7-455f-811b-3dd8ac44542a</td>\n",
       "      <td># 붙임</td>\n",
       "      <td>/Users/kimbwook/PycharmProjects/fast-campus/no...</td>\n",
       "      <td>[0, 3]</td>\n",
       "      <td>{'last_modified_datetime': '2024-12-11', 'next...</td>\n",
       "    </tr>\n",
       "    <tr>\n",
       "      <th>17</th>\n",
       "      <td>ef328a87-469a-465b-8020-b418537103d7</td>\n",
       "      <td>5# 소재·부품·장비 및 스타트업 10대 초격차분야☞ 품목별 시장 및 기술환경 등 ...</td>\n",
       "      <td>/Users/kimbwook/PycharmProjects/fast-campus/no...</td>\n",
       "      <td>[0, 0]</td>\n",
       "      <td>{'last_modified_datetime': '2024-12-11', 'next...</td>\n",
       "    </tr>\n",
       "    <tr>\n",
       "      <th>18</th>\n",
       "      <td>87ddbabe-8d62-4074-9a20-e0fa003de379</td>\n",
       "      <td># 전략분야</td>\n",
       "      <td>/Users/kimbwook/PycharmProjects/fast-campus/no...</td>\n",
       "      <td>[0, 5]</td>\n",
       "      <td>{'last_modified_datetime': '2024-12-11', 'next...</td>\n",
       "    </tr>\n",
       "    <tr>\n",
       "      <th>19</th>\n",
       "      <td>1e3a07e7-dd80-4d75-853f-b102facd9a29</td>\n",
       "      <td># 전략품목|수소저장·운반용복합소재|4DFMCW라이다신호처리소프트웨어|\\n|---|...</td>\n",
       "      <td>/Users/kimbwook/PycharmProjects/fast-campus/no...</td>\n",
       "      <td>[0, 0]</td>\n",
       "      <td>{'last_modified_datetime': '2024-12-11', 'next...</td>\n",
       "    </tr>\n",
       "    <tr>\n",
       "      <th>20</th>\n",
       "      <td>077c9e48-15a1-4f10-9a5c-fc015707d160</td>\n",
       "      <td># 스타트업 10대 초격차 분야|10대분야|세부분류(예)|\\n|---|---|\\n|...</td>\n",
       "      <td>/Users/kimbwook/PycharmProjects/fast-campus/no...</td>\n",
       "      <td>[0, 0]</td>\n",
       "      <td>{'last_modified_datetime': '2024-12-11', 'next...</td>\n",
       "    </tr>\n",
       "    <tr>\n",
       "      <th>21</th>\n",
       "      <td>dd885838-7715-4535-8a7b-2fb4ab165a7e</td>\n",
       "      <td>*상기내역은 ‘2024년 중소기업 기술 로드맵’ 개편내용에 따라 변경될 수 있음</td>\n",
       "      <td>/Users/kimbwook/PycharmProjects/fast-campus/no...</td>\n",
       "      <td>[385, 428]</td>\n",
       "      <td>{'last_modified_datetime': '2024-12-11', 'next...</td>\n",
       "    </tr>\n",
       "    <tr>\n",
       "      <th>22</th>\n",
       "      <td>9066a3ca-2a6c-44ef-8e89-2bc999fe0c0e</td>\n",
       "      <td># 지원내용□  협약기간: 협약시작일로부터 10개월 이내*사업기간은 총 3년으로 선...</td>\n",
       "      <td>/Users/kimbwook/PycharmProjects/fast-campus/no...</td>\n",
       "      <td>[0, 0]</td>\n",
       "      <td>{'last_modified_datetime': '2024-12-11', 'next...</td>\n",
       "    </tr>\n",
       "    <tr>\n",
       "      <th>23</th>\n",
       "      <td>351d7ffd-acd2-436e-8279-804db294d51e</td>\n",
       "      <td>• 글로벌 투자자 등이 참여하는 밋업 데이, IR 개최 등 해외 후속 투자 유치 기...</td>\n",
       "      <td>/Users/kimbwook/PycharmProjects/fast-campus/no...</td>\n",
       "      <td>[838, 887]</td>\n",
       "      <td>{'last_modified_datetime': '2024-12-11', 'next...</td>\n",
       "    </tr>\n",
       "    <tr>\n",
       "      <th>24</th>\n",
       "      <td>108c63c3-7a0c-4718-b2ca-7f1eca57a075</td>\n",
       "      <td># 제출서류|제출서류|제출방법|유의사항|\\n|---|---|---|\\n|①사업신청서...</td>\n",
       "      <td>/Users/kimbwook/PycharmProjects/fast-campus/no...</td>\n",
       "      <td>[0, 0]</td>\n",
       "      <td>{'last_modified_datetime': '2024-12-11', 'next...</td>\n",
       "    </tr>\n",
       "    <tr>\n",
       "      <th>25</th>\n",
       "      <td>11f01894-6c05-4a1b-8455-6877f58f492f</td>\n",
       "      <td>1. ①팁스성공기업 ,시드포함)(프리\\n2. ②글로벌지원사업(글로벌액셀러레이팅,글로...</td>\n",
       "      <td>/Users/kimbwook/PycharmProjects/fast-campus/no...</td>\n",
       "      <td>[0, 0]</td>\n",
       "      <td>{'last_modified_datetime': '2024-12-11', 'next...</td>\n",
       "    </tr>\n",
       "    <tr>\n",
       "      <th>26</th>\n",
       "      <td>4b738758-032b-44da-b2fe-86f285edc0a9</td>\n",
       "      <td># 5 평가및선정□평가절차:총2단계평가(서류 + (현장실사))를통해최종선정 발표*선...</td>\n",
       "      <td>/Users/kimbwook/PycharmProjects/fast-campus/no...</td>\n",
       "      <td>[0, 0]</td>\n",
       "      <td>{'last_modified_datetime': '2024-12-11', 'next...</td>\n",
       "    </tr>\n",
       "    <tr>\n",
       "      <th>27</th>\n",
       "      <td>852751fc-ef90-4c30-8d88-baacf261f15b</td>\n",
       "      <td>평가방법1. 요건검토: 창업기업의 신청자격 및 가점사항, 해외VC요건 및 투자유치금...</td>\n",
       "      <td>/Users/kimbwook/PycharmProjects/fast-campus/no...</td>\n",
       "      <td>[0, 0]</td>\n",
       "      <td>{'last_modified_datetime': '2024-12-11', 'next...</td>\n",
       "    </tr>\n",
       "    <tr>\n",
       "      <th>28</th>\n",
       "      <td>50771921-bddb-4b8c-a0ab-ec13b06e9aec</td>\n",
       "      <td># 최종선정:서류및발표평가결과에최종가점을합산하여지원대상자선정- 지원규모내에서최종지원...</td>\n",
       "      <td>/Users/kimbwook/PycharmProjects/fast-campus/no...</td>\n",
       "      <td>[0, 0]</td>\n",
       "      <td>{'last_modified_datetime': '2024-12-11', 'next...</td>\n",
       "    </tr>\n",
       "    <tr>\n",
       "      <th>29</th>\n",
       "      <td>7b79da60-9e36-426b-ae17-99cf7445f9f2</td>\n",
       "      <td>평가지표◦창업기업의문제인식,현지화가능성,글로벌성장전략,팀(기업)구성등보유역량등을종합...</td>\n",
       "      <td>/Users/kimbwook/PycharmProjects/fast-campus/no...</td>\n",
       "      <td>[0, 0]</td>\n",
       "      <td>{'last_modified_datetime': '2024-12-11', 'next...</td>\n",
       "    </tr>\n",
       "    <tr>\n",
       "      <th>30</th>\n",
       "      <td>7cf4bbd0-72e1-4a39-b4f6-228350df2124</td>\n",
       "      <td>* 합의 하에 공동 작성한 동일‧유사 사업계획서로 선정된 경우일지라도, 공동작성자\\...</td>\n",
       "      <td>/Users/kimbwook/PycharmProjects/fast-campus/no...</td>\n",
       "      <td>[0, 0]</td>\n",
       "      <td>{'last_modified_datetime': '2024-12-11', 'next...</td>\n",
       "    </tr>\n",
       "    <tr>\n",
       "      <th>31</th>\n",
       "      <td>7819d97a-bfd9-4c3d-b7be-7648bfa19ff1</td>\n",
       "      <td>공동대표 또는 각자대표로 구성된 창업기업의 경우 대표 중 한 명\\n으로 회원가입 및...</td>\n",
       "      <td>/Users/kimbwook/PycharmProjects/fast-campus/no...</td>\n",
       "      <td>[518, 908]</td>\n",
       "      <td>{'last_modified_datetime': '2024-12-11', 'next...</td>\n",
       "    </tr>\n",
       "    <tr>\n",
       "      <th>32</th>\n",
       "      <td>9ff1d391-d2fb-4145-bf0c-6a57604a0892</td>\n",
       "      <td>【사업계획서 작성】\\n◦ 중장기 사업수행 계획은 총사업 기간(3년)에 맞추어 작성하...</td>\n",
       "      <td>/Users/kimbwook/PycharmProjects/fast-campus/no...</td>\n",
       "      <td>[0, 0]</td>\n",
       "      <td>{'last_modified_datetime': '2024-12-11', 'next...</td>\n",
       "    </tr>\n",
       "    <tr>\n",
       "      <th>33</th>\n",
       "      <td>b32f1d8f-312e-4d9d-9015-b09fe728f4e2</td>\n",
       "      <td>신청자격 관련 증빙서류 미제출 등의 사유로 인한 신청자격 확인\\n불가 시 평가대상에...</td>\n",
       "      <td>/Users/kimbwook/PycharmProjects/fast-campus/no...</td>\n",
       "      <td>[0, 0]</td>\n",
       "      <td>{'last_modified_datetime': '2024-12-11', 'next...</td>\n",
       "    </tr>\n",
       "    <tr>\n",
       "      <th>34</th>\n",
       "      <td>c5de80e7-19be-47a1-b599-da20ebc590ae</td>\n",
       "      <td>□ 선정 후 유의사항\\n◦ 동 사업에 선정된 자가 공고문 및 관련 규정에 위배되거나...</td>\n",
       "      <td>/Users/kimbwook/PycharmProjects/fast-campus/no...</td>\n",
       "      <td>[0, 0]</td>\n",
       "      <td>{'last_modified_datetime': '2024-12-11', 'next...</td>\n",
       "    </tr>\n",
       "    <tr>\n",
       "      <th>35</th>\n",
       "      <td>74627d5d-e4ad-4d99-867e-e812b8515dd5</td>\n",
       "      <td>14 -</td>\n",
       "      <td>/Users/kimbwook/PycharmProjects/fast-campus/no...</td>\n",
       "      <td>[776, 779]</td>\n",
       "      <td>{'last_modified_datetime': '2024-12-11', 'next...</td>\n",
       "    </tr>\n",
       "    <tr>\n",
       "      <th>36</th>\n",
       "      <td>86d680b8-8208-45e3-ba54-a5b0586b9abd</td>\n",
       "      <td>붙임1 창업기업 확인에 관한 유의사항\\n□ 창업의 범위\\n◦ 다음의 요건을 모두 충...</td>\n",
       "      <td>/Users/kimbwook/PycharmProjects/fast-campus/no...</td>\n",
       "      <td>[0, 0]</td>\n",
       "      <td>{'last_modified_datetime': '2024-12-11', 'next...</td>\n",
       "    </tr>\n",
       "    <tr>\n",
       "      <th>37</th>\n",
       "      <td>d27e2d01-83ad-45ef-a27f-0a7daa16ad7c</td>\n",
       "      <td>16 -</td>\n",
       "      <td>/Users/kimbwook/PycharmProjects/fast-campus/no...</td>\n",
       "      <td>[1484, 1487]</td>\n",
       "      <td>{'last_modified_datetime': '2024-12-11', 'next...</td>\n",
       "    </tr>\n",
       "    <tr>\n",
       "      <th>38</th>\n",
       "      <td>f4192967-8036-45c8-b6fb-b594b2745e88</td>\n",
       "      <td>2 신청자격 및 요건\\n□ 신청자격\\n◦ ｢중소기업기본법｣ 제2조제1항에 따른 중소...</td>\n",
       "      <td>/Users/kimbwook/PycharmProjects/fast-campus/no...</td>\n",
       "      <td>[0, 0]</td>\n",
       "      <td>{'last_modified_datetime': '2024-12-11', 'next...</td>\n",
       "    </tr>\n",
       "    <tr>\n",
       "      <th>39</th>\n",
       "      <td>49d90782-762b-4e9b-b594-7340765d37c2</td>\n",
       "      <td>본점과 지점이 있는 경우 본점 사업자로만 신청 가능하며, 중복 신청한 경우 본점을 ...</td>\n",
       "      <td>/Users/kimbwook/PycharmProjects/fast-campus/no...</td>\n",
       "      <td>[760, 1370]</td>\n",
       "      <td>{'last_modified_datetime': '2024-12-11', 'next...</td>\n",
       "    </tr>\n",
       "    <tr>\n",
       "      <th>40</th>\n",
       "      <td>35001478-5415-4952-a21c-2d29b602345e</td>\n",
       "      <td>□ 신청 제외 대상 (사업 신청‧접수 마감일 기준)\\n① 금융기관 등으로부터 채무불...</td>\n",
       "      <td>/Users/kimbwook/PycharmProjects/fast-campus/no...</td>\n",
       "      <td>[0, 0]</td>\n",
       "      <td>{'last_modified_datetime': '2024-12-11', 'next...</td>\n",
       "    </tr>\n",
       "    <tr>\n",
       "      <th>41</th>\n",
       "      <td>2bb037c0-6387-4edb-890c-b464355016d7</td>\n",
       "      <td>□ 의무 및 역할\\n◦ 선정자는「중소기업창업 지원사업 운영요령」 및 「창업사업화\\n...</td>\n",
       "      <td>/Users/kimbwook/PycharmProjects/fast-campus/no...</td>\n",
       "      <td>[0, 0]</td>\n",
       "      <td>{'last_modified_datetime': '2024-12-11', 'next...</td>\n",
       "    </tr>\n",
       "    <tr>\n",
       "      <th>42</th>\n",
       "      <td>07c14cda-76ba-4826-89f3-70681827ff2f</td>\n",
       "      <td>4 -</td>\n",
       "      <td>/Users/kimbwook/PycharmProjects/fast-campus/no...</td>\n",
       "      <td>[727, 729]</td>\n",
       "      <td>{'last_modified_datetime': '2024-12-11', 'next...</td>\n",
       "    </tr>\n",
       "    <tr>\n",
       "      <th>43</th>\n",
       "      <td>df82d888-9bf7-48d7-8b86-73f5b2ec8db2</td>\n",
       "      <td>4 신청 및 접수\\n□ 신청 ‧ 접수 기간\\n◦ 접수기간 : 2024. 5. 7.(...</td>\n",
       "      <td>/Users/kimbwook/PycharmProjects/fast-campus/no...</td>\n",
       "      <td>[0, 0]</td>\n",
       "      <td>{'last_modified_datetime': '2024-12-11', 'next...</td>\n",
       "    </tr>\n",
       "    <tr>\n",
       "      <th>44</th>\n",
       "      <td>31ee237a-afa2-4182-9ad7-57dbdf188302</td>\n",
       "      <td>서울신용평가정보(SCI)에 실명(개명)정보가 등록되어 있지 않아 실명 확인이\\n불가...</td>\n",
       "      <td>/Users/kimbwook/PycharmProjects/fast-campus/no...</td>\n",
       "      <td>[919, 1008]</td>\n",
       "      <td>{'last_modified_datetime': '2024-12-11', 'next...</td>\n",
       "    </tr>\n",
       "  </tbody>\n",
       "</table>\n",
       "</div>"
      ]
     },
     "execution_count": 17,
     "metadata": {},
     "output_type": "execute_result"
    }
   ],
   "execution_count": 17
  },
  {
   "metadata": {},
   "cell_type": "code",
   "outputs": [],
   "execution_count": null,
   "source": "",
   "id": "7ff4bff538aef065"
  }
 ],
 "metadata": {
  "kernelspec": {
   "display_name": "Python 3",
   "language": "python",
   "name": "python3"
  },
  "language_info": {
   "codemirror_mode": {
    "name": "ipython",
    "version": 2
   },
   "file_extension": ".py",
   "mimetype": "text/x-python",
   "name": "python",
   "nbconvert_exporter": "python",
   "pygments_lexer": "ipython2",
   "version": "2.7.6"
  }
 },
 "nbformat": 4,
 "nbformat_minor": 5
}
