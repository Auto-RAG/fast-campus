{
 "cells": [
  {
   "cell_type": "code",
   "id": "initial_id",
   "metadata": {
    "collapsed": true,
    "ExecuteTime": {
     "end_time": "2025-01-15T05:40:13.361226Z",
     "start_time": "2025-01-15T05:40:09.658181Z"
    }
   },
   "source": [
    "import autorag\n",
    "import pandas as pd"
   ],
   "outputs": [
    {
     "data": {
      "text/plain": [
       "\u001B[2;36m[01/15/25 14:40:13]\u001B[0m\u001B[2;36m \u001B[0m\u001B[34mINFO    \u001B[0m \u001B[1m[\u001B[0m__init__.py:\u001B[1;36m100\u001B[0m\u001B[1m]\u001B[0m >> You are using API version of AutoRAG.To use local \u001B]8;id=179046;file:///Users/jeffrey/PycharmProjects/fast-campus/venv/lib/python3.10/site-packages/autorag/__init__.py\u001B\\\u001B[2m__init__.py\u001B[0m\u001B]8;;\u001B\\\u001B[2m:\u001B[0m\u001B]8;id=823564;file:///Users/jeffrey/PycharmProjects/fast-campus/venv/lib/python3.10/site-packages/autorag/__init__.py#100\u001B\\\u001B[2m100\u001B[0m\u001B]8;;\u001B\\\n",
       "\u001B[2;36m                    \u001B[0m         version, run pip install \u001B[32m'AutoRAG\u001B[0m\u001B[32m[\u001B[0m\u001B[32mgpu\u001B[0m\u001B[32m]\u001B[0m\u001B[32m'\u001B[0m                                \u001B[2m               \u001B[0m\n"
      ],
      "text/html": [
       "<pre style=\"white-space:pre;overflow-x:auto;line-height:normal;font-family:Menlo,'DejaVu Sans Mono',consolas,'Courier New',monospace\"><span style=\"color: #7fbfbf; text-decoration-color: #7fbfbf\">[01/15/25 14:40:13] </span><span style=\"color: #000080; text-decoration-color: #000080\">INFO    </span> <span style=\"font-weight: bold\">[</span>__init__.py:<span style=\"color: #008080; text-decoration-color: #008080; font-weight: bold\">100</span><span style=\"font-weight: bold\">]</span> &gt;&gt; You are using API version of AutoRAG.To use local <a href=\"file:///Users/jeffrey/PycharmProjects/fast-campus/venv/lib/python3.10/site-packages/autorag/__init__.py\" target=\"_blank\"><span style=\"color: #7f7f7f; text-decoration-color: #7f7f7f\">__init__.py</span></a><span style=\"color: #7f7f7f; text-decoration-color: #7f7f7f\">:</span><a href=\"file:///Users/jeffrey/PycharmProjects/fast-campus/venv/lib/python3.10/site-packages/autorag/__init__.py#100\" target=\"_blank\"><span style=\"color: #7f7f7f; text-decoration-color: #7f7f7f\">100</span></a>\n",
       "<span style=\"color: #7fbfbf; text-decoration-color: #7fbfbf\">                    </span>         version, run pip install <span style=\"color: #008000; text-decoration-color: #008000\">'AutoRAG[gpu]'</span>                                <span style=\"color: #7f7f7f; text-decoration-color: #7f7f7f\">               </span>\n",
       "</pre>\n"
      ]
     },
     "metadata": {},
     "output_type": "display_data"
    },
    {
     "data": {
      "text/plain": [
       "\u001B[2;36m                   \u001B[0m\u001B[2;36m \u001B[0m\u001B[34mINFO    \u001B[0m \u001B[1m[\u001B[0m__init__.py:\u001B[1;36m128\u001B[0m\u001B[1m]\u001B[0m >> You are using API version of AutoRAG.To use local \u001B]8;id=927774;file:///Users/jeffrey/PycharmProjects/fast-campus/venv/lib/python3.10/site-packages/autorag/__init__.py\u001B\\\u001B[2m__init__.py\u001B[0m\u001B]8;;\u001B\\\u001B[2m:\u001B[0m\u001B]8;id=77193;file:///Users/jeffrey/PycharmProjects/fast-campus/venv/lib/python3.10/site-packages/autorag/__init__.py#128\u001B\\\u001B[2m128\u001B[0m\u001B]8;;\u001B\\\n",
       "\u001B[2;36m                    \u001B[0m         version, run pip install \u001B[32m'AutoRAG\u001B[0m\u001B[32m[\u001B[0m\u001B[32mgpu\u001B[0m\u001B[32m]\u001B[0m\u001B[32m'\u001B[0m                                \u001B[2m               \u001B[0m\n"
      ],
      "text/html": [
       "<pre style=\"white-space:pre;overflow-x:auto;line-height:normal;font-family:Menlo,'DejaVu Sans Mono',consolas,'Courier New',monospace\"><span style=\"color: #7fbfbf; text-decoration-color: #7fbfbf\">                    </span><span style=\"color: #000080; text-decoration-color: #000080\">INFO    </span> <span style=\"font-weight: bold\">[</span>__init__.py:<span style=\"color: #008080; text-decoration-color: #008080; font-weight: bold\">128</span><span style=\"font-weight: bold\">]</span> &gt;&gt; You are using API version of AutoRAG.To use local <a href=\"file:///Users/jeffrey/PycharmProjects/fast-campus/venv/lib/python3.10/site-packages/autorag/__init__.py\" target=\"_blank\"><span style=\"color: #7f7f7f; text-decoration-color: #7f7f7f\">__init__.py</span></a><span style=\"color: #7f7f7f; text-decoration-color: #7f7f7f\">:</span><a href=\"file:///Users/jeffrey/PycharmProjects/fast-campus/venv/lib/python3.10/site-packages/autorag/__init__.py#128\" target=\"_blank\"><span style=\"color: #7f7f7f; text-decoration-color: #7f7f7f\">128</span></a>\n",
       "<span style=\"color: #7fbfbf; text-decoration-color: #7fbfbf\">                    </span>         version, run pip install <span style=\"color: #008000; text-decoration-color: #008000\">'AutoRAG[gpu]'</span>                                <span style=\"color: #7f7f7f; text-decoration-color: #7f7f7f\">               </span>\n",
       "</pre>\n"
      ]
     },
     "metadata": {},
     "output_type": "display_data"
    }
   ],
   "execution_count": 1
  },
  {
   "metadata": {
    "ExecuteTime": {
     "end_time": "2025-01-15T05:40:15.410404Z",
     "start_time": "2025-01-15T05:40:15.407135Z"
    }
   },
   "cell_type": "code",
   "source": [
    "import nest_asyncio\n",
    "\n",
    "nest_asyncio.apply()"
   ],
   "id": "d030371f8e29ab5c",
   "outputs": [],
   "execution_count": 2
  },
  {
   "metadata": {
    "ExecuteTime": {
     "end_time": "2025-01-15T05:40:25.336424Z",
     "start_time": "2025-01-15T05:40:25.329915Z"
    }
   },
   "cell_type": "code",
   "source": [
    "from dotenv import load_dotenv\n",
    "\n",
    "load_dotenv()"
   ],
   "id": "d8f90e7f84f38319",
   "outputs": [
    {
     "data": {
      "text/plain": [
       "True"
      ]
     },
     "execution_count": 3,
     "metadata": {},
     "output_type": "execute_result"
    }
   ],
   "execution_count": 3
  },
  {
   "metadata": {
    "ExecuteTime": {
     "end_time": "2025-01-15T06:06:38.308917Z",
     "start_time": "2025-01-15T06:06:38.302643Z"
    }
   },
   "cell_type": "code",
   "source": [
    "import pandas as pd\n",
    "import os\n",
    "import pathlib\n",
    "\n",
    "root_dir = pathlib.PurePath(os.path.dirname(os.getcwd())).parent\n",
    "data_dir = os.path.join(root_dir, 'data')"
   ],
   "id": "bc38f701779fc1b5",
   "outputs": [],
   "execution_count": 4
  },
  {
   "metadata": {},
   "cell_type": "markdown",
   "source": "# AutoRAG를 이용한 G-Eval 평가",
   "id": "1b0bc161a1ff1513"
  },
  {
   "metadata": {
    "ExecuteTime": {
     "end_time": "2025-01-15T06:18:08.874071Z",
     "start_time": "2025-01-15T06:18:08.869115Z"
    }
   },
   "cell_type": "code",
   "source": [
    "# 먼저 AutoRAG에서 최적화가 완료되어, 마지막 Generation 평가만 앞둔 데이터셋을 가장하여 로드하겠습니다.\n",
    "df = pd.read_parquet(os.path.join(data_dir, 'evaluation', 'qa', 'qa_after_prompt_maker.parquet'))"
   ],
   "id": "138a224b35a9f77f",
   "outputs": [],
   "execution_count": 19
  },
  {
   "metadata": {
    "ExecuteTime": {
     "end_time": "2025-01-15T06:18:09.582720Z",
     "start_time": "2025-01-15T06:18:09.568963Z"
    }
   },
   "cell_type": "code",
   "source": "df.head()",
   "id": "c977b8bd2bbf75c5",
   "outputs": [
    {
     "data": {
      "text/plain": [
       "                                    qid  \\\n",
       "0  ec0c2280-9e54-4f6a-ad1a-56fea42d135e   \n",
       "1  32a73a5d-57b3-4fec-9b2c-924eef16ee02   \n",
       "2  76e58068-1054-4447-bc2e-65b2d979c4d5   \n",
       "3  def11ba1-78e7-4741-80ef-f9d947fd576e   \n",
       "4  d93d7f40-cef2-4877-866e-8e54501e1c39   \n",
       "\n",
       "                                    query  \\\n",
       "0       뉴진스가 데뷔 후 몇 개월 만에 도쿄돔에서 공연을 했습니까?   \n",
       "1      뉴진스가 도쿄돔에서 공연을 한 시점은 데뷔 후 몇 개월입니까?   \n",
       "2  뉴진스는 일본 도쿄돔에서 팬미팅 '버니즈 캠프'를 언제 개최했습니까?   \n",
       "3  뉴진스는 일본 도쿄돔에서 팬미팅 '버니즈 캠프'를 언제 개최했습니까?   \n",
       "4              뉴진스의 도쿄돔 공연에서 몇 곡을 공연했습니까?   \n",
       "\n",
       "                               retrieval_gt  \\\n",
       "0  [[71492e0b-50a8-4bfb-8c9d-6a2ff427fc5a]]   \n",
       "1  [[ae30d25f-943e-4a39-9d28-e7e51611a610]]   \n",
       "2  [[e2bfffd2-2384-4eae-b266-d98c5892a301]]   \n",
       "3  [[d35d8977-3ade-4c43-80a7-db166a1954db]]   \n",
       "4  [[1c1ab88b-a641-42e0-b48d-c00c6cd425fc]]   \n",
       "\n",
       "                                       generation_gt  \\\n",
       "0         [뉴진스는 데뷔 23개월 만에 도쿄돔에서 공연을 했습니다., 23개월 만에]   \n",
       "1         [뉴진스가 도쿄돔에서 공연을 한 시점은 데뷔 후 23개월입니다., 23개월]   \n",
       "2  [뉴진스는 일본 도쿄돔에서 팬미팅 '버니즈 캠프'를 26일과 27일에 개최했습니다....   \n",
       "3  [The provided text does not contain informatio...   \n",
       "4                [뉴진스는 도쿄돔 공연에서 총 22곡을 공연했습니다., 22곡]   \n",
       "\n",
       "                                    queries  \\\n",
       "0       [뉴진스가 데뷔 후 몇 개월 만에 도쿄돔에서 공연을 했습니까?]   \n",
       "1      [뉴진스가 도쿄돔에서 공연을 한 시점은 데뷔 후 몇 개월입니까?]   \n",
       "2  [뉴진스는 일본 도쿄돔에서 팬미팅 '버니즈 캠프'를 언제 개최했습니까?]   \n",
       "3  [뉴진스는 일본 도쿄돔에서 팬미팅 '버니즈 캠프'를 언제 개최했습니까?]   \n",
       "4              [뉴진스의 도쿄돔 공연에서 몇 곡을 공연했습니까?]   \n",
       "\n",
       "                                  retrieved_contents  \\\n",
       "0  [파일 제목: [현장] 데뷔 23개월 만에 도쿄돔 달군 뉴진스, 월드투어 기대감 키...   \n",
       "1  [파일 제목: [현장] 데뷔 23개월 만에 도쿄돔 달군 뉴진스, 월드투어 기대감 키...   \n",
       "2  [파일 제목: [현장] 데뷔 23개월 만에 도쿄돔 달군 뉴진스, 월드투어 기대감 키...   \n",
       "3  [파일 제목: [현장] 데뷔 23개월 만에 도쿄돔 달군 뉴진스, 월드투어 기대감 키...   \n",
       "4  [파일 제목: [현장] 데뷔 23개월 만에 도쿄돔 달군 뉴진스, 월드투어 기대감 키...   \n",
       "\n",
       "                                       retrieved_ids  \\\n",
       "0  [068b8cb8-611d-4838-bfd7-403af9003b61, e2bfffd...   \n",
       "1  [e2bfffd2-2384-4eae-b266-d98c5892a301, 068b8cb...   \n",
       "2  [e2bfffd2-2384-4eae-b266-d98c5892a301, 063b69b...   \n",
       "3  [e2bfffd2-2384-4eae-b266-d98c5892a301, 063b69b...   \n",
       "4  [1c1ab88b-a641-42e0-b48d-c00c6cd425fc, e2bfffd...   \n",
       "\n",
       "                                     retrieve_scores  retrieval_f1  \\\n",
       "0  [14.79356829419634, 12.205198861234598, 10.807...           0.0   \n",
       "1  [14.442687515565346, 13.954902875800917, 12.50...           0.0   \n",
       "2  [15.497493300020322, 15.310706007336684, 14.49...           0.5   \n",
       "3  [15.497493300020322, 15.310706007336684, 14.49...           0.0   \n",
       "4  [14.663931356093451, 12.872650531476994, 12.59...           0.5   \n",
       "\n",
       "   retrieval_ndcg  retrieval_map  \\\n",
       "0             0.0            0.0   \n",
       "1             0.0            0.0   \n",
       "2             1.0            1.0   \n",
       "3             0.0            0.0   \n",
       "4             1.0            1.0   \n",
       "\n",
       "                                             prompts  prompt_maker_rouge  \\\n",
       "0  단락을 읽고 질문에 답하세요. 답할때 단계별로 천천히 고심하여 답변하세요. 반드시 ...                 0.0   \n",
       "1  단락을 읽고 질문에 답하세요. 답할때 단계별로 천천히 고심하여 답변하세요. 반드시 ...                 1.0   \n",
       "2  단락을 읽고 질문에 답하세요. 답할때 단계별로 천천히 고심하여 답변하세요. 반드시 ...                 1.0   \n",
       "3  단락을 읽고 질문에 답하세요. 답할때 단계별로 천천히 고심하여 답변하세요. 반드시 ...                 0.0   \n",
       "4  단락을 읽고 질문에 답하세요. 답할때 단계별로 천천히 고심하여 답변하세요. 반드시 ...                 1.0   \n",
       "\n",
       "   prompt_maker_sem_score  \n",
       "0                0.966844  \n",
       "1                1.000000  \n",
       "2                0.997347  \n",
       "3                0.814326  \n",
       "4                0.999999  "
      ],
      "text/html": [
       "<div>\n",
       "<style scoped>\n",
       "    .dataframe tbody tr th:only-of-type {\n",
       "        vertical-align: middle;\n",
       "    }\n",
       "\n",
       "    .dataframe tbody tr th {\n",
       "        vertical-align: top;\n",
       "    }\n",
       "\n",
       "    .dataframe thead th {\n",
       "        text-align: right;\n",
       "    }\n",
       "</style>\n",
       "<table border=\"1\" class=\"dataframe\">\n",
       "  <thead>\n",
       "    <tr style=\"text-align: right;\">\n",
       "      <th></th>\n",
       "      <th>qid</th>\n",
       "      <th>query</th>\n",
       "      <th>retrieval_gt</th>\n",
       "      <th>generation_gt</th>\n",
       "      <th>queries</th>\n",
       "      <th>retrieved_contents</th>\n",
       "      <th>retrieved_ids</th>\n",
       "      <th>retrieve_scores</th>\n",
       "      <th>retrieval_f1</th>\n",
       "      <th>retrieval_ndcg</th>\n",
       "      <th>retrieval_map</th>\n",
       "      <th>prompts</th>\n",
       "      <th>prompt_maker_rouge</th>\n",
       "      <th>prompt_maker_sem_score</th>\n",
       "    </tr>\n",
       "  </thead>\n",
       "  <tbody>\n",
       "    <tr>\n",
       "      <th>0</th>\n",
       "      <td>ec0c2280-9e54-4f6a-ad1a-56fea42d135e</td>\n",
       "      <td>뉴진스가 데뷔 후 몇 개월 만에 도쿄돔에서 공연을 했습니까?</td>\n",
       "      <td>[[71492e0b-50a8-4bfb-8c9d-6a2ff427fc5a]]</td>\n",
       "      <td>[뉴진스는 데뷔 23개월 만에 도쿄돔에서 공연을 했습니다., 23개월 만에]</td>\n",
       "      <td>[뉴진스가 데뷔 후 몇 개월 만에 도쿄돔에서 공연을 했습니까?]</td>\n",
       "      <td>[파일 제목: [현장] 데뷔 23개월 만에 도쿄돔 달군 뉴진스, 월드투어 기대감 키...</td>\n",
       "      <td>[068b8cb8-611d-4838-bfd7-403af9003b61, e2bfffd...</td>\n",
       "      <td>[14.79356829419634, 12.205198861234598, 10.807...</td>\n",
       "      <td>0.0</td>\n",
       "      <td>0.0</td>\n",
       "      <td>0.0</td>\n",
       "      <td>단락을 읽고 질문에 답하세요. 답할때 단계별로 천천히 고심하여 답변하세요. 반드시 ...</td>\n",
       "      <td>0.0</td>\n",
       "      <td>0.966844</td>\n",
       "    </tr>\n",
       "    <tr>\n",
       "      <th>1</th>\n",
       "      <td>32a73a5d-57b3-4fec-9b2c-924eef16ee02</td>\n",
       "      <td>뉴진스가 도쿄돔에서 공연을 한 시점은 데뷔 후 몇 개월입니까?</td>\n",
       "      <td>[[ae30d25f-943e-4a39-9d28-e7e51611a610]]</td>\n",
       "      <td>[뉴진스가 도쿄돔에서 공연을 한 시점은 데뷔 후 23개월입니다., 23개월]</td>\n",
       "      <td>[뉴진스가 도쿄돔에서 공연을 한 시점은 데뷔 후 몇 개월입니까?]</td>\n",
       "      <td>[파일 제목: [현장] 데뷔 23개월 만에 도쿄돔 달군 뉴진스, 월드투어 기대감 키...</td>\n",
       "      <td>[e2bfffd2-2384-4eae-b266-d98c5892a301, 068b8cb...</td>\n",
       "      <td>[14.442687515565346, 13.954902875800917, 12.50...</td>\n",
       "      <td>0.0</td>\n",
       "      <td>0.0</td>\n",
       "      <td>0.0</td>\n",
       "      <td>단락을 읽고 질문에 답하세요. 답할때 단계별로 천천히 고심하여 답변하세요. 반드시 ...</td>\n",
       "      <td>1.0</td>\n",
       "      <td>1.000000</td>\n",
       "    </tr>\n",
       "    <tr>\n",
       "      <th>2</th>\n",
       "      <td>76e58068-1054-4447-bc2e-65b2d979c4d5</td>\n",
       "      <td>뉴진스는 일본 도쿄돔에서 팬미팅 '버니즈 캠프'를 언제 개최했습니까?</td>\n",
       "      <td>[[e2bfffd2-2384-4eae-b266-d98c5892a301]]</td>\n",
       "      <td>[뉴진스는 일본 도쿄돔에서 팬미팅 '버니즈 캠프'를 26일과 27일에 개최했습니다....</td>\n",
       "      <td>[뉴진스는 일본 도쿄돔에서 팬미팅 '버니즈 캠프'를 언제 개최했습니까?]</td>\n",
       "      <td>[파일 제목: [현장] 데뷔 23개월 만에 도쿄돔 달군 뉴진스, 월드투어 기대감 키...</td>\n",
       "      <td>[e2bfffd2-2384-4eae-b266-d98c5892a301, 063b69b...</td>\n",
       "      <td>[15.497493300020322, 15.310706007336684, 14.49...</td>\n",
       "      <td>0.5</td>\n",
       "      <td>1.0</td>\n",
       "      <td>1.0</td>\n",
       "      <td>단락을 읽고 질문에 답하세요. 답할때 단계별로 천천히 고심하여 답변하세요. 반드시 ...</td>\n",
       "      <td>1.0</td>\n",
       "      <td>0.997347</td>\n",
       "    </tr>\n",
       "    <tr>\n",
       "      <th>3</th>\n",
       "      <td>def11ba1-78e7-4741-80ef-f9d947fd576e</td>\n",
       "      <td>뉴진스는 일본 도쿄돔에서 팬미팅 '버니즈 캠프'를 언제 개최했습니까?</td>\n",
       "      <td>[[d35d8977-3ade-4c43-80a7-db166a1954db]]</td>\n",
       "      <td>[The provided text does not contain informatio...</td>\n",
       "      <td>[뉴진스는 일본 도쿄돔에서 팬미팅 '버니즈 캠프'를 언제 개최했습니까?]</td>\n",
       "      <td>[파일 제목: [현장] 데뷔 23개월 만에 도쿄돔 달군 뉴진스, 월드투어 기대감 키...</td>\n",
       "      <td>[e2bfffd2-2384-4eae-b266-d98c5892a301, 063b69b...</td>\n",
       "      <td>[15.497493300020322, 15.310706007336684, 14.49...</td>\n",
       "      <td>0.0</td>\n",
       "      <td>0.0</td>\n",
       "      <td>0.0</td>\n",
       "      <td>단락을 읽고 질문에 답하세요. 답할때 단계별로 천천히 고심하여 답변하세요. 반드시 ...</td>\n",
       "      <td>0.0</td>\n",
       "      <td>0.814326</td>\n",
       "    </tr>\n",
       "    <tr>\n",
       "      <th>4</th>\n",
       "      <td>d93d7f40-cef2-4877-866e-8e54501e1c39</td>\n",
       "      <td>뉴진스의 도쿄돔 공연에서 몇 곡을 공연했습니까?</td>\n",
       "      <td>[[1c1ab88b-a641-42e0-b48d-c00c6cd425fc]]</td>\n",
       "      <td>[뉴진스는 도쿄돔 공연에서 총 22곡을 공연했습니다., 22곡]</td>\n",
       "      <td>[뉴진스의 도쿄돔 공연에서 몇 곡을 공연했습니까?]</td>\n",
       "      <td>[파일 제목: [현장] 데뷔 23개월 만에 도쿄돔 달군 뉴진스, 월드투어 기대감 키...</td>\n",
       "      <td>[1c1ab88b-a641-42e0-b48d-c00c6cd425fc, e2bfffd...</td>\n",
       "      <td>[14.663931356093451, 12.872650531476994, 12.59...</td>\n",
       "      <td>0.5</td>\n",
       "      <td>1.0</td>\n",
       "      <td>1.0</td>\n",
       "      <td>단락을 읽고 질문에 답하세요. 답할때 단계별로 천천히 고심하여 답변하세요. 반드시 ...</td>\n",
       "      <td>1.0</td>\n",
       "      <td>0.999999</td>\n",
       "    </tr>\n",
       "  </tbody>\n",
       "</table>\n",
       "</div>"
      ]
     },
     "execution_count": 20,
     "metadata": {},
     "output_type": "execute_result"
    }
   ],
   "execution_count": 20
  },
  {
   "metadata": {
    "ExecuteTime": {
     "end_time": "2025-01-15T06:18:11.395638Z",
     "start_time": "2025-01-15T06:18:11.392162Z"
    }
   },
   "cell_type": "code",
   "source": "df.shape",
   "id": "c3ac4077ff01d0ee",
   "outputs": [
    {
     "data": {
      "text/plain": [
       "(20, 14)"
      ]
     },
     "execution_count": 21,
     "metadata": {},
     "output_type": "execute_result"
    }
   ],
   "execution_count": 21
  },
  {
   "metadata": {
    "ExecuteTime": {
     "end_time": "2025-01-15T06:12:04.874115Z",
     "start_time": "2025-01-15T06:12:04.870230Z"
    }
   },
   "cell_type": "code",
   "source": [
    "# YAML 파일의 경로를 지정합니다.\n",
    "g_eval_yaml_path = os.path.join(root_dir, 'config', 'evaluation', 'qa', 'g_eval.yaml')"
   ],
   "id": "df3b30cd6038188a",
   "outputs": [],
   "execution_count": 12
  },
  {
   "metadata": {},
   "cell_type": "code",
   "source": [
    "# AutoRAG를 이용해 평가를 수행합니다.\n",
    "from autorag.evaluator import Evaluator\n",
    "\n",
    "evaluator = Evaluator(qa_data_path=os.path.join(data_dir, 'evaluation', 'qa', 'qa_after_prompt_maker.parquet'),\n",
    "\t\t\t\t\t  corpus_data_path=os.path.join(data_dir, 'evaluation', 'qa', 'corpus.parquet'),\n",
    "\t\t\t\t\t  project_dir=os.path.join(root_dir, 'autorag_project', 'evaluation', 'qa'))\n",
    "evaluator.start_trial(g_eval_yaml_path)"
   ],
   "id": "7a5a8e4ce892fa6d",
   "outputs": [],
   "execution_count": null
  },
  {
   "metadata": {
    "ExecuteTime": {
     "end_time": "2025-01-15T06:21:08.670173Z",
     "start_time": "2025-01-15T06:21:08.664893Z"
    }
   },
   "cell_type": "code",
   "source": "result_df = pd.read_parquet(os.path.join(root_dir, 'autorag_project', 'evaluation', 'qa', '0', 'post_retrieve_node_line', 'generator', 'best_0.parquet'))",
   "id": "dcb508d19073f8f",
   "outputs": [],
   "execution_count": 28
  },
  {
   "metadata": {
    "ExecuteTime": {
     "end_time": "2025-01-15T06:29:55.635804Z",
     "start_time": "2025-01-15T06:29:55.633251Z"
    }
   },
   "cell_type": "code",
   "source": [
    "def print_qgp(df, idx: int):\n",
    "\tprint(\n",
    "\t\tf\"Query : {df.iloc[idx]['query']}\\n\\nGround Truth: {df.iloc[idx]['generation_gt'][0]}\\n\\nPredicted: {df.iloc[idx]['generated_texts']}\\n\\nG-Eval: {df.iloc[idx]['g_eval']}\")"
   ],
   "id": "4b18a23fde2764e9",
   "outputs": [],
   "execution_count": 36
  },
  {
   "metadata": {
    "ExecuteTime": {
     "end_time": "2025-01-15T06:29:55.965594Z",
     "start_time": "2025-01-15T06:29:55.961518Z"
    }
   },
   "cell_type": "code",
   "source": "print_qgp(result_df, 0)",
   "id": "e3150bd2e1ee60cd",
   "outputs": [
    {
     "name": "stdout",
     "output_type": "stream",
     "text": [
      "Query : 뉴진스가 데뷔 후 몇 개월 만에 도쿄돔에서 공연을 했습니까?\n",
      "\n",
      "Ground Truth: 뉴진스는 데뷔 23개월 만에 도쿄돔에서 공연을 했습니다.\n",
      "\n",
      "Predicted: 뉴진스는 데뷔 23개월 만에 도쿄돔에서 공연을 했습니다. 내용에 따르면, 뉴진스는 일본 이외 아티스트 중에서 데뷔 후 최단 기간인 1년 11개월 만에 도쿄돔에 입성한 기록을 세웠습니다. 따라서 뉴진스의 도쿄돔 공연은 데뷔한 지 약 23개월 후에 이루어진 것입니다.\n",
      "\n",
      "G-Eval: 2.0\n"
     ]
    }
   ],
   "execution_count": 37
  },
  {
   "metadata": {
    "ExecuteTime": {
     "end_time": "2025-01-15T06:30:05.792057Z",
     "start_time": "2025-01-15T06:30:05.789011Z"
    }
   },
   "cell_type": "code",
   "source": "print_qgp(result_df, 1)",
   "id": "ae38a75091eb419c",
   "outputs": [
    {
     "name": "stdout",
     "output_type": "stream",
     "text": [
      "Query : 뉴진스가 도쿄돔에서 공연을 한 시점은 데뷔 후 몇 개월입니까?\n",
      "\n",
      "Ground Truth: 뉴진스가 도쿄돔에서 공연을 한 시점은 데뷔 후 23개월입니다.\n",
      "\n",
      "Predicted: 뉴진스가 도쿄돔에서 공연을 한 시점은 데뷔 후 23개월입니다. 단락에서 \"뉴진스는 일본 이외 아티스트 중 데뷔 후 최단 기간인 1년 11개월 만에 도쿄돔에 입성하는 기록을 썼다\"라고 언급하고 있으므로, 이는 23개월이 되는 시점에서의 공연임을 나타냅니다.\n",
      "\n",
      "G-Eval: 2.0\n"
     ]
    }
   ],
   "execution_count": 38
  },
  {
   "metadata": {
    "ExecuteTime": {
     "end_time": "2025-01-15T06:30:52.011908Z",
     "start_time": "2025-01-15T06:30:52.009762Z"
    }
   },
   "cell_type": "code",
   "source": "print_qgp(result_df, 10)",
   "id": "57555988a0889e88",
   "outputs": [
    {
     "name": "stdout",
     "output_type": "stream",
     "text": [
      "Query : 뉴진스가 일본 도쿄돔에서 팬미팅 '버니즈 캠프' 공연을 펼친 날짜는 언제입니까?\n",
      "\n",
      "Ground Truth: 뉴진스가 일본 도쿄돔에서 팬미팅 '버니즈 캠프' 공연을 펼친 날짜는 26일과 27일입니다.\n",
      "\n",
      "Predicted: 뉴진스가 일본 도쿄돔에서 팬미팅 '버니즈 캠프' 공연을 펼친 날짜는 26일과 27일입니다.\n",
      "\n",
      "G-Eval: 3.0\n"
     ]
    }
   ],
   "execution_count": 43
  },
  {
   "metadata": {
    "ExecuteTime": {
     "end_time": "2025-01-15T06:31:02.130633Z",
     "start_time": "2025-01-15T06:31:02.128189Z"
    }
   },
   "cell_type": "code",
   "source": "print_qgp(result_df, 3)",
   "id": "4dc6494572b61095",
   "outputs": [
    {
     "name": "stdout",
     "output_type": "stream",
     "text": [
      "Query : 뉴진스는 일본 도쿄돔에서 팬미팅 '버니즈 캠프'를 언제 개최했습니까?\n",
      "\n",
      "Ground Truth: The provided text does not contain information about the specific date when NewJeans held their fan meeting 'Bunnies Camp' at the Tokyo Dome.\n",
      "\n",
      "Predicted: 뉴진스는 일본 도쿄돔에서 팬미팅 '버니즈 캠프'를 26일과 27일에 개최했습니다.\n",
      "\n",
      "G-Eval: 1.0\n"
     ]
    }
   ],
   "execution_count": 44
  },
  {
   "metadata": {},
   "cell_type": "markdown",
   "source": "## RAGAS 사용하기",
   "id": "9d346a4c272774f2"
  },
  {
   "metadata": {
    "ExecuteTime": {
     "end_time": "2025-01-15T06:44:34.144507Z",
     "start_time": "2025-01-15T06:44:34.141527Z"
    }
   },
   "cell_type": "code",
   "source": [
    "from autorag.utils import fetch_contents\n",
    "import itertools\n",
    "from ragas import EvaluationDataset, SingleTurnSample, evaluate\n",
    "\n",
    "\n",
    "# 먼저 AutoRAG의 데이터를 RAGAS로 변환합니다.\n",
    "def autorag_to_ragas(autorag_df: pd.DataFrame, corpus_df: pd.DataFrame) -> EvaluationDataset:\n",
    "\tautorag_df[\"retrieval_gt_contents\"] = autorag_df[\"retrieval_gt\"].apply(\n",
    "\t\t\tlambda x: fetch_contents(corpus_df, x)\n",
    "\t\t)\n",
    "\tsamples = []\n",
    "\tfor idx, row in autorag_df.iterrows():\n",
    "\t\tsamples.append(SingleTurnSample(\n",
    "\t\t\tuser_input=row['query'],\n",
    "\t\t\tretrieved_contexts=row['retrieved_contents'],\n",
    "\t\t\treference_contexts=list(itertools.chain.from_iterable(\n",
    "\t\t\t\trow['retrieval_gt_contents'])),\n",
    "\t\t\tresponse=row['generated_texts'],\n",
    "\t\t\treference=row['generation_gt'][0],\n",
    "\t\t))\n",
    "\treturn EvaluationDataset(samples)"
   ],
   "id": "b3a8d581b97f8f83",
   "outputs": [],
   "execution_count": 52
  },
  {
   "metadata": {
    "ExecuteTime": {
     "end_time": "2025-01-15T06:44:34.856255Z",
     "start_time": "2025-01-15T06:44:34.831191Z"
    }
   },
   "cell_type": "code",
   "source": [
    "corpus_df = pd.read_parquet(os.path.join(data_dir, 'evaluation', 'qa', 'corpus.parquet'))\n",
    "ragas_dataset = autorag_to_ragas(result_df, corpus_df)"
   ],
   "id": "c10bc90ab660c82c",
   "outputs": [],
   "execution_count": 53
  },
  {
   "metadata": {
    "ExecuteTime": {
     "end_time": "2025-01-15T06:47:38.568177Z",
     "start_time": "2025-01-15T06:47:38.565276Z"
    }
   },
   "cell_type": "code",
   "source": [
    "print(\"Features in dataset:\", ragas_dataset.features())\n",
    "print(\"Total samples in dataset:\", len(ragas_dataset))"
   ],
   "id": "96b52709cacea177",
   "outputs": [
    {
     "name": "stdout",
     "output_type": "stream",
     "text": [
      "Features in dataset: ['user_input', 'retrieved_contexts', 'reference_contexts', 'response', 'reference']\n",
      "Total samples in dataset: 20\n"
     ]
    }
   ],
   "execution_count": 54
  },
  {
   "metadata": {
    "ExecuteTime": {
     "end_time": "2025-01-15T06:49:23.981137Z",
     "start_time": "2025-01-15T06:49:23.958934Z"
    }
   },
   "cell_type": "code",
   "source": [
    "from ragas.llms import LangchainLLMWrapper\n",
    "from langchain_openai import ChatOpenAI\n",
    "ragas_llm = LangchainLLMWrapper(ChatOpenAI(model=\"gpt-4o\"))"
   ],
   "id": "c7cc86188f484fbd",
   "outputs": [],
   "execution_count": 56
  },
  {
   "metadata": {},
   "cell_type": "code",
   "source": [
    "from ragas.metrics import Faithfulness, NoiseSensitivity\n",
    "from ragas import evaluate\n",
    "result = evaluate(ragas_dataset, metrics=[Faithfulness(\n",
    "\tname=\"Faithfulness\",\n",
    "\tllm=ragas_llm,\n",
    "), NoiseSensitivity(\n",
    "\tname=\"NoiseSensitivity\",\n",
    "\tllm=ragas_llm,\n",
    ")])"
   ],
   "id": "ec51a8b0e72188d3",
   "outputs": [],
   "execution_count": null
  },
  {
   "metadata": {
    "ExecuteTime": {
     "end_time": "2025-01-15T06:51:26.223601Z",
     "start_time": "2025-01-15T06:51:26.218211Z"
    }
   },
   "cell_type": "code",
   "source": "result",
   "id": "9c6096bf235ed4e",
   "outputs": [
    {
     "data": {
      "text/plain": [
       "{'Faithfulness': 0.8958, 'NoiseSensitivity_relevant': 0.3875}"
      ]
     },
     "execution_count": 59,
     "metadata": {},
     "output_type": "execute_result"
    }
   ],
   "execution_count": 59
  },
  {
   "metadata": {},
   "cell_type": "markdown",
   "source": "## DeepEval 사용하기",
   "id": "14e92a7893bdb6f3"
  },
  {
   "metadata": {
    "ExecuteTime": {
     "end_time": "2025-01-15T06:57:53.956761Z",
     "start_time": "2025-01-15T06:57:53.951431Z"
    }
   },
   "cell_type": "code",
   "source": [
    "from autorag.utils.util import to_list\n",
    "from autorag.utils import fetch_contents\n",
    "import itertools\n",
    "from deepeval.dataset import EvaluationDataset\n",
    "from deepeval.test_case import LLMTestCase\n",
    "\n",
    "def autorag_to_deepeval(autorag_df: pd.DataFrame, corpus_df: pd.DataFrame) -> EvaluationDataset:\n",
    "\tautorag_df[\"retrieval_gt_contents\"] = autorag_df[\"retrieval_gt\"].apply(\n",
    "\t\t\tlambda x: fetch_contents(corpus_df, x)\n",
    "\t\t)\n",
    "\tsamples = []\n",
    "\tfor idx, row in autorag_df.iterrows():\n",
    "\t\tsamples.append(LLMTestCase(\n",
    "\t\t\tinput=row['query'],\n",
    "\t\t\tactual_output=row['generated_texts'],\n",
    "\t\t\texpected_output=row['generation_gt'][0],\n",
    "\t\t\tcontext=to_list(list(itertools.chain.from_iterable(row['retrieval_gt_contents']))),\n",
    "\t\t\tretrieval_context=to_list(row['retrieved_contents']),\n",
    "\t\t))\n",
    "\treturn EvaluationDataset(test_cases=samples)"
   ],
   "id": "2cf73df0979b5f61",
   "outputs": [],
   "execution_count": 67
  },
  {
   "metadata": {
    "ExecuteTime": {
     "end_time": "2025-01-15T06:57:54.734666Z",
     "start_time": "2025-01-15T06:57:54.703183Z"
    }
   },
   "cell_type": "code",
   "source": [
    "corpus_df = pd.read_parquet(os.path.join(data_dir, 'evaluation', 'qa', 'corpus.parquet'))\n",
    "deepeval_dataset = autorag_to_deepeval(result_df, corpus_df)"
   ],
   "id": "a94a44462f349b70",
   "outputs": [],
   "execution_count": 68
  },
  {
   "metadata": {},
   "cell_type": "code",
   "source": [
    "from deepeval import evaluate\n",
    "from deepeval.metrics import FaithfulnessMetric, AnswerRelevancyMetric\n",
    "\n",
    "result_deepeval = evaluate(deepeval_dataset, metrics=[FaithfulnessMetric(), AnswerRelevancyMetric()])"
   ],
   "id": "89458182f380a9db",
   "outputs": [],
   "execution_count": null
  },
  {
   "metadata": {
    "ExecuteTime": {
     "end_time": "2025-01-15T07:05:25.870925Z",
     "start_time": "2025-01-15T07:05:25.865954Z"
    }
   },
   "cell_type": "code",
   "source": "result_deepeval.test_results[0].metrics_data[0].score",
   "id": "b9b96e7c333aa39e",
   "outputs": [
    {
     "data": {
      "text/plain": [
       "1.0"
      ]
     },
     "execution_count": 79,
     "metadata": {},
     "output_type": "execute_result"
    }
   ],
   "execution_count": 79
  },
  {
   "metadata": {
    "ExecuteTime": {
     "end_time": "2025-01-15T07:05:32.634469Z",
     "start_time": "2025-01-15T07:05:32.631260Z"
    }
   },
   "cell_type": "code",
   "source": "result_deepeval.test_results[0].metrics_data[1].score",
   "id": "7cdb76e36a3f0f08",
   "outputs": [
    {
     "data": {
      "text/plain": [
       "1.0"
      ]
     },
     "execution_count": 80,
     "metadata": {},
     "output_type": "execute_result"
    }
   ],
   "execution_count": 80
  },
  {
   "metadata": {},
   "cell_type": "code",
   "outputs": [],
   "execution_count": null,
   "source": "",
   "id": "9ded4bec374cdf7a"
  }
 ],
 "metadata": {
  "kernelspec": {
   "display_name": "Python 3",
   "language": "python",
   "name": "python3"
  },
  "language_info": {
   "codemirror_mode": {
    "name": "ipython",
    "version": 2
   },
   "file_extension": ".py",
   "mimetype": "text/x-python",
   "name": "python",
   "nbconvert_exporter": "python",
   "pygments_lexer": "ipython2",
   "version": "2.7.6"
  }
 },
 "nbformat": 4,
 "nbformat_minor": 5
}
