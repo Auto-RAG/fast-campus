{
 "cells": [
  {
   "cell_type": "code",
   "id": "initial_id",
   "metadata": {
    "collapsed": true,
    "ExecuteTime": {
     "end_time": "2025-01-15T07:10:24.282833Z",
     "start_time": "2025-01-15T07:10:24.272767Z"
    }
   },
   "source": [
    "import tempfile\n",
    "import uuid\n",
    "\n",
    "from dotenv import load_dotenv\n",
    "\n",
    "load_dotenv()"
   ],
   "outputs": [
    {
     "data": {
      "text/plain": [
       "True"
      ]
     },
     "execution_count": 1,
     "metadata": {},
     "output_type": "execute_result"
    }
   ],
   "execution_count": 1
  },
  {
   "metadata": {
    "ExecuteTime": {
     "end_time": "2025-01-15T07:10:35.038126Z",
     "start_time": "2025-01-15T07:10:35.034923Z"
    }
   },
   "cell_type": "code",
   "source": [
    "import nest_asyncio\n",
    "\n",
    "nest_asyncio.apply()"
   ],
   "id": "975ff764baec1e8e",
   "outputs": [],
   "execution_count": 2
  },
  {
   "metadata": {
    "ExecuteTime": {
     "end_time": "2025-01-15T07:48:09.396104Z",
     "start_time": "2025-01-15T07:48:09.388658Z"
    }
   },
   "cell_type": "code",
   "source": [
    "import pandas as pd\n",
    "import os\n",
    "import pathlib\n",
    "\n",
    "root_dir = pathlib.PurePath(os.path.dirname(os.getcwd())).parent\n",
    "data_dir = os.path.join(root_dir, 'data')"
   ],
   "id": "fdc011205f642f93",
   "outputs": [],
   "execution_count": 10
  },
  {
   "metadata": {},
   "cell_type": "markdown",
   "source": [
    "# 요약 태스크 평가\n",
    "\n",
    "## 데이터 제작\n",
    "\n",
    "먼저, [BillSum](https://huggingface.co/datasets/FiscalNote/billsum) 데이터를 사용하여 평가를 준비합니다. AutoRAG를 통해 LLM 요약 생성은 물론 LLM의 성능 평가까지 진행하도록 합시다. "
   ],
   "id": "9e9c93b4d52e5e6c"
  },
  {
   "metadata": {
    "ExecuteTime": {
     "end_time": "2025-01-15T07:11:47.621776Z",
     "start_time": "2025-01-15T07:11:11.548237Z"
    }
   },
   "cell_type": "code",
   "source": [
    "from datasets import load_dataset\n",
    "\n",
    "ds = load_dataset(\"FiscalNote/billsum\")\n",
    "original_df = ds[\"train\"].to_pandas().sample(20)"
   ],
   "id": "9e7ab418155a8286",
   "outputs": [
    {
     "data": {
      "text/plain": [
       "README.md:   0%|          | 0.00/7.27k [00:00<?, ?B/s]"
      ],
      "application/vnd.jupyter.widget-view+json": {
       "version_major": 2,
       "version_minor": 0,
       "model_id": "10a95aac6c954a0ba9a9fe1d820d7828"
      }
     },
     "metadata": {},
     "output_type": "display_data"
    },
    {
     "data": {
      "text/plain": [
       "train-00000-of-00001.parquet:   0%|          | 0.00/91.8M [00:00<?, ?B/s]"
      ],
      "application/vnd.jupyter.widget-view+json": {
       "version_major": 2,
       "version_minor": 0,
       "model_id": "0326a33e71b64e63aea9bb240f9962a9"
      }
     },
     "metadata": {},
     "output_type": "display_data"
    },
    {
     "data": {
      "text/plain": [
       "test-00000-of-00001.parquet:   0%|          | 0.00/15.8M [00:00<?, ?B/s]"
      ],
      "application/vnd.jupyter.widget-view+json": {
       "version_major": 2,
       "version_minor": 0,
       "model_id": "98951ac3159c4cbcb67e24365dc7131d"
      }
     },
     "metadata": {},
     "output_type": "display_data"
    },
    {
     "data": {
      "text/plain": [
       "ca_test-00000-of-00001.parquet:   0%|          | 0.00/6.12M [00:00<?, ?B/s]"
      ],
      "application/vnd.jupyter.widget-view+json": {
       "version_major": 2,
       "version_minor": 0,
       "model_id": "ca2d8c077f66447dad5fd01f4ddb1f06"
      }
     },
     "metadata": {},
     "output_type": "display_data"
    },
    {
     "data": {
      "text/plain": [
       "Generating train split:   0%|          | 0/18949 [00:00<?, ? examples/s]"
      ],
      "application/vnd.jupyter.widget-view+json": {
       "version_major": 2,
       "version_minor": 0,
       "model_id": "0fe33bbf51124d7a9e680e3696a43814"
      }
     },
     "metadata": {},
     "output_type": "display_data"
    },
    {
     "data": {
      "text/plain": [
       "Generating test split:   0%|          | 0/3269 [00:00<?, ? examples/s]"
      ],
      "application/vnd.jupyter.widget-view+json": {
       "version_major": 2,
       "version_minor": 0,
       "model_id": "a29a537280af4e5381c7a85373e2a502"
      }
     },
     "metadata": {},
     "output_type": "display_data"
    },
    {
     "data": {
      "text/plain": [
       "Generating ca_test split:   0%|          | 0/1237 [00:00<?, ? examples/s]"
      ],
      "application/vnd.jupyter.widget-view+json": {
       "version_major": 2,
       "version_minor": 0,
       "model_id": "aca88f2b75da44ffb275582789d59128"
      }
     },
     "metadata": {},
     "output_type": "display_data"
    }
   ],
   "execution_count": 3
  },
  {
   "metadata": {
    "ExecuteTime": {
     "end_time": "2025-01-15T07:12:17.499481Z",
     "start_time": "2025-01-15T07:12:17.492173Z"
    }
   },
   "cell_type": "code",
   "source": [
    "original_df.reset_index(drop=True, inplace=True)\n",
    "original_df.head()"
   ],
   "id": "349c89d7e5745f6c",
   "outputs": [
    {
     "data": {
      "text/plain": [
       "                                                text  \\\n",
       "0  SECTION 1. SHORT TITLE.\\n\\n    This Act may be...   \n",
       "1  SECTION 1. SHORT TITLE.\\n\\n    This Act may be...   \n",
       "2  SECTION 1. SHORT TITLE.\\n\\n    This Act may be...   \n",
       "3  s on the Budget.--Section \\n301(a) of the Cong...   \n",
       "4  SECTION 1. SHORT TITLE.\\n\\n    This Act may be...   \n",
       "\n",
       "                                             summary  \\\n",
       "0  Deceptive Practices and Voter Intimidation Pre...   \n",
       "1  Drill Responsibly in Leased Lands Act of 2008 ...   \n",
       "2  Determination of Russia-Iran Weapons Transfer ...   \n",
       "3  Amends the Congressional Budget Act of 1974 to...   \n",
       "4  Disabled Veterans Tax Termination Act - Amends...   \n",
       "\n",
       "                                               title  \n",
       "0  A bill to prohibit deceptive practices in Fede...  \n",
       "1  To amend the Naval Petroleum Reserves Producti...  \n",
       "2  Determination of Russia-Iran Weapons Transfer ...  \n",
       "3  Strengthen Social Security and Medicare Act of...  \n",
       "4  To amend title 10, United States Code, to perm...  "
      ],
      "text/html": [
       "<div>\n",
       "<style scoped>\n",
       "    .dataframe tbody tr th:only-of-type {\n",
       "        vertical-align: middle;\n",
       "    }\n",
       "\n",
       "    .dataframe tbody tr th {\n",
       "        vertical-align: top;\n",
       "    }\n",
       "\n",
       "    .dataframe thead th {\n",
       "        text-align: right;\n",
       "    }\n",
       "</style>\n",
       "<table border=\"1\" class=\"dataframe\">\n",
       "  <thead>\n",
       "    <tr style=\"text-align: right;\">\n",
       "      <th></th>\n",
       "      <th>text</th>\n",
       "      <th>summary</th>\n",
       "      <th>title</th>\n",
       "    </tr>\n",
       "  </thead>\n",
       "  <tbody>\n",
       "    <tr>\n",
       "      <th>0</th>\n",
       "      <td>SECTION 1. SHORT TITLE.\\n\\n    This Act may be...</td>\n",
       "      <td>Deceptive Practices and Voter Intimidation Pre...</td>\n",
       "      <td>A bill to prohibit deceptive practices in Fede...</td>\n",
       "    </tr>\n",
       "    <tr>\n",
       "      <th>1</th>\n",
       "      <td>SECTION 1. SHORT TITLE.\\n\\n    This Act may be...</td>\n",
       "      <td>Drill Responsibly in Leased Lands Act of 2008 ...</td>\n",
       "      <td>To amend the Naval Petroleum Reserves Producti...</td>\n",
       "    </tr>\n",
       "    <tr>\n",
       "      <th>2</th>\n",
       "      <td>SECTION 1. SHORT TITLE.\\n\\n    This Act may be...</td>\n",
       "      <td>Determination of Russia-Iran Weapons Transfer ...</td>\n",
       "      <td>Determination of Russia-Iran Weapons Transfer ...</td>\n",
       "    </tr>\n",
       "    <tr>\n",
       "      <th>3</th>\n",
       "      <td>s on the Budget.--Section \\n301(a) of the Cong...</td>\n",
       "      <td>Amends the Congressional Budget Act of 1974 to...</td>\n",
       "      <td>Strengthen Social Security and Medicare Act of...</td>\n",
       "    </tr>\n",
       "    <tr>\n",
       "      <th>4</th>\n",
       "      <td>SECTION 1. SHORT TITLE.\\n\\n    This Act may be...</td>\n",
       "      <td>Disabled Veterans Tax Termination Act - Amends...</td>\n",
       "      <td>To amend title 10, United States Code, to perm...</td>\n",
       "    </tr>\n",
       "  </tbody>\n",
       "</table>\n",
       "</div>"
      ]
     },
     "execution_count": 5,
     "metadata": {},
     "output_type": "execute_result"
    }
   ],
   "execution_count": 5
  },
  {
   "metadata": {
    "ExecuteTime": {
     "end_time": "2025-01-15T07:31:24.837016Z",
     "start_time": "2025-01-15T07:31:24.832497Z"
    }
   },
   "cell_type": "code",
   "source": [
    "import pandas as pd\n",
    "from uuid import uuid4\n",
    "\n",
    "# AutoRAG 데이터로 변환합니다.\n",
    "autorag_dicts = []\n",
    "for i, row in original_df.iterrows():\n",
    "\tautorag_dicts.append({\n",
    "\t\t'qid': str(uuid4()),\n",
    "        'query': 'Summarize the following document.',\n",
    "\t\t'retrieval_gt': [[]],\n",
    "\t\t'generation_gt': [row['summary']],\n",
    "\t\t'retrieved_contents': [row['text']],\n",
    "\t\t'retrieved_ids': [],\n",
    "\t\t'retrieve_scores': [],\n",
    "\t})\n",
    "autorag_df = pd.DataFrame(autorag_dicts)"
   ],
   "id": "c914b9778acddd10",
   "outputs": [],
   "execution_count": 7
  },
  {
   "metadata": {
    "ExecuteTime": {
     "end_time": "2025-01-15T07:31:32.827869Z",
     "start_time": "2025-01-15T07:31:32.814601Z"
    }
   },
   "cell_type": "code",
   "source": "autorag_df.head()",
   "id": "a3e85fbb1f8626a4",
   "outputs": [
    {
     "data": {
      "text/plain": [
       "                                    qid                              query  \\\n",
       "0  ee7495f5-3149-4cd6-a12c-e81578387900  Summarize the following document.   \n",
       "1  2a11d3cd-b1e0-46f1-8fc1-408cab3d7247  Summarize the following document.   \n",
       "2  57a1b948-e243-41da-8a74-b75c5ff08655  Summarize the following document.   \n",
       "3  bd5d22c9-5a16-4b85-878a-6cef82b15b22  Summarize the following document.   \n",
       "4  f495fe57-9d32-46fc-a46a-c7cea6575f53  Summarize the following document.   \n",
       "\n",
       "  retrieval_gt                                      generation_gt  \\\n",
       "0         [[]]  [Deceptive Practices and Voter Intimidation Pr...   \n",
       "1         [[]]  [Drill Responsibly in Leased Lands Act of 2008...   \n",
       "2         [[]]  [Determination of Russia-Iran Weapons Transfer...   \n",
       "3         [[]]  [Amends the Congressional Budget Act of 1974 t...   \n",
       "4         [[]]  [Disabled Veterans Tax Termination Act - Amend...   \n",
       "\n",
       "                                  retrieved_contents retrieved_ids  \\\n",
       "0  [SECTION 1. SHORT TITLE.\\n\\n    This Act may b...            []   \n",
       "1  [SECTION 1. SHORT TITLE.\\n\\n    This Act may b...            []   \n",
       "2  [SECTION 1. SHORT TITLE.\\n\\n    This Act may b...            []   \n",
       "3  [s on the Budget.--Section \\n301(a) of the Con...            []   \n",
       "4  [SECTION 1. SHORT TITLE.\\n\\n    This Act may b...            []   \n",
       "\n",
       "  retrieve_scores  \n",
       "0              []  \n",
       "1              []  \n",
       "2              []  \n",
       "3              []  \n",
       "4              []  "
      ],
      "text/html": [
       "<div>\n",
       "<style scoped>\n",
       "    .dataframe tbody tr th:only-of-type {\n",
       "        vertical-align: middle;\n",
       "    }\n",
       "\n",
       "    .dataframe tbody tr th {\n",
       "        vertical-align: top;\n",
       "    }\n",
       "\n",
       "    .dataframe thead th {\n",
       "        text-align: right;\n",
       "    }\n",
       "</style>\n",
       "<table border=\"1\" class=\"dataframe\">\n",
       "  <thead>\n",
       "    <tr style=\"text-align: right;\">\n",
       "      <th></th>\n",
       "      <th>qid</th>\n",
       "      <th>query</th>\n",
       "      <th>retrieval_gt</th>\n",
       "      <th>generation_gt</th>\n",
       "      <th>retrieved_contents</th>\n",
       "      <th>retrieved_ids</th>\n",
       "      <th>retrieve_scores</th>\n",
       "    </tr>\n",
       "  </thead>\n",
       "  <tbody>\n",
       "    <tr>\n",
       "      <th>0</th>\n",
       "      <td>ee7495f5-3149-4cd6-a12c-e81578387900</td>\n",
       "      <td>Summarize the following document.</td>\n",
       "      <td>[[]]</td>\n",
       "      <td>[Deceptive Practices and Voter Intimidation Pr...</td>\n",
       "      <td>[SECTION 1. SHORT TITLE.\\n\\n    This Act may b...</td>\n",
       "      <td>[]</td>\n",
       "      <td>[]</td>\n",
       "    </tr>\n",
       "    <tr>\n",
       "      <th>1</th>\n",
       "      <td>2a11d3cd-b1e0-46f1-8fc1-408cab3d7247</td>\n",
       "      <td>Summarize the following document.</td>\n",
       "      <td>[[]]</td>\n",
       "      <td>[Drill Responsibly in Leased Lands Act of 2008...</td>\n",
       "      <td>[SECTION 1. SHORT TITLE.\\n\\n    This Act may b...</td>\n",
       "      <td>[]</td>\n",
       "      <td>[]</td>\n",
       "    </tr>\n",
       "    <tr>\n",
       "      <th>2</th>\n",
       "      <td>57a1b948-e243-41da-8a74-b75c5ff08655</td>\n",
       "      <td>Summarize the following document.</td>\n",
       "      <td>[[]]</td>\n",
       "      <td>[Determination of Russia-Iran Weapons Transfer...</td>\n",
       "      <td>[SECTION 1. SHORT TITLE.\\n\\n    This Act may b...</td>\n",
       "      <td>[]</td>\n",
       "      <td>[]</td>\n",
       "    </tr>\n",
       "    <tr>\n",
       "      <th>3</th>\n",
       "      <td>bd5d22c9-5a16-4b85-878a-6cef82b15b22</td>\n",
       "      <td>Summarize the following document.</td>\n",
       "      <td>[[]]</td>\n",
       "      <td>[Amends the Congressional Budget Act of 1974 t...</td>\n",
       "      <td>[s on the Budget.--Section \\n301(a) of the Con...</td>\n",
       "      <td>[]</td>\n",
       "      <td>[]</td>\n",
       "    </tr>\n",
       "    <tr>\n",
       "      <th>4</th>\n",
       "      <td>f495fe57-9d32-46fc-a46a-c7cea6575f53</td>\n",
       "      <td>Summarize the following document.</td>\n",
       "      <td>[[]]</td>\n",
       "      <td>[Disabled Veterans Tax Termination Act - Amend...</td>\n",
       "      <td>[SECTION 1. SHORT TITLE.\\n\\n    This Act may b...</td>\n",
       "      <td>[]</td>\n",
       "      <td>[]</td>\n",
       "    </tr>\n",
       "  </tbody>\n",
       "</table>\n",
       "</div>"
      ]
     },
     "execution_count": 8,
     "metadata": {},
     "output_type": "execute_result"
    }
   ],
   "execution_count": 8
  },
  {
   "metadata": {
    "ExecuteTime": {
     "end_time": "2025-01-15T07:52:55.733113Z",
     "start_time": "2025-01-15T07:52:55.728517Z"
    }
   },
   "cell_type": "code",
   "source": [
    "from datetime import datetime\n",
    "\n",
    "empty_corpus_df = pd.DataFrame([{\n",
    "\t'doc_id': 'empty',\n",
    "\t'contents': 'empty',\n",
    "\t'metadata': {'last_modified_datetime': datetime.now()} \n",
    "}], columns=['doc_id', 'contents', 'metadata'])"
   ],
   "id": "189357449fced3e",
   "outputs": [],
   "execution_count": 19
  },
  {
   "metadata": {
    "ExecuteTime": {
     "end_time": "2025-01-15T07:52:57.548204Z",
     "start_time": "2025-01-15T07:52:57.544638Z"
    }
   },
   "cell_type": "code",
   "source": "yaml_path = os.path.join(root_dir, 'config', 'evaluation', 'summary', 'config.yaml')",
   "id": "253f9662a18d2560",
   "outputs": [],
   "execution_count": 20
  },
  {
   "metadata": {},
   "cell_type": "code",
   "source": [
    "from autorag.evaluator import Evaluator\n",
    "import tempfile\n",
    "\n",
    "with tempfile.NamedTemporaryFile(suffix='.parquet') as qa_path:\n",
    "\twith tempfile.NamedTemporaryFile(suffix='.parquet') as corpus_path:\n",
    "\t\tautorag_df.to_parquet(qa_path.name)\n",
    "\t\tempty_corpus_df.to_parquet(corpus_path.name)\n",
    "\t\tevaluator = Evaluator(qa_data_path=qa_path.name, \n",
    "\t\t\t\t\t\t\t  corpus_data_path=corpus_path.name, \n",
    "\t\t\t\t\t\t\t  project_dir=os.path.join(root_dir, 'autorag_project', 'evaluation', 'summary'))\n",
    "\t\tevaluator.start_trial(yaml_path, skip_validation=True)"
   ],
   "id": "91c2134cafda018a",
   "outputs": [],
   "execution_count": null
  },
  {
   "metadata": {},
   "cell_type": "markdown",
   "source": "## 결과 확인",
   "id": "9cd665ad67f1709c"
  },
  {
   "metadata": {
    "ExecuteTime": {
     "end_time": "2025-01-15T07:56:48.106758Z",
     "start_time": "2025-01-15T07:56:48.090360Z"
    }
   },
   "cell_type": "code",
   "source": "result_df = pd.read_parquet(os.path.join(root_dir, 'autorag_project', 'evaluation', 'summary', '0', 'node_line', 'generator', 'best_0.parquet'))",
   "id": "9c842683348e545a",
   "outputs": [],
   "execution_count": 27
  },
  {
   "metadata": {
    "ExecuteTime": {
     "end_time": "2025-01-15T07:56:53.218211Z",
     "start_time": "2025-01-15T07:56:53.195788Z"
    }
   },
   "cell_type": "code",
   "source": "result_df.head()",
   "id": "3d6036597168be71",
   "outputs": [
    {
     "data": {
      "text/plain": [
       "                                    qid                              query  \\\n",
       "0  ee7495f5-3149-4cd6-a12c-e81578387900  Summarize the following document.   \n",
       "1  2a11d3cd-b1e0-46f1-8fc1-408cab3d7247  Summarize the following document.   \n",
       "2  57a1b948-e243-41da-8a74-b75c5ff08655  Summarize the following document.   \n",
       "3  bd5d22c9-5a16-4b85-878a-6cef82b15b22  Summarize the following document.   \n",
       "4  f495fe57-9d32-46fc-a46a-c7cea6575f53  Summarize the following document.   \n",
       "\n",
       "  retrieval_gt                                      generation_gt  \\\n",
       "0         [[]]  [Deceptive Practices and Voter Intimidation Pr...   \n",
       "1         [[]]  [Drill Responsibly in Leased Lands Act of 2008...   \n",
       "2         [[]]  [Determination of Russia-Iran Weapons Transfer...   \n",
       "3         [[]]  [Amends the Congressional Budget Act of 1974 t...   \n",
       "4         [[]]  [Disabled Veterans Tax Termination Act - Amend...   \n",
       "\n",
       "                                  retrieved_contents retrieved_ids  \\\n",
       "0  [SECTION 1. SHORT TITLE.\\n\\n    This Act may b...            []   \n",
       "1  [SECTION 1. SHORT TITLE.\\n\\n    This Act may b...            []   \n",
       "2  [SECTION 1. SHORT TITLE.\\n\\n    This Act may b...            []   \n",
       "3  [s on the Budget.--Section \\n301(a) of the Con...            []   \n",
       "4  [SECTION 1. SHORT TITLE.\\n\\n    This Act may b...            []   \n",
       "\n",
       "  retrieve_scores                                            prompts  \\\n",
       "0              []  Summarize the following Context.\\nSummarize th...   \n",
       "1              []  Summarize the following Context.\\nSummarize th...   \n",
       "2              []  Summarize the following Context.\\nSummarize th...   \n",
       "3              []  Summarize the following Context.\\nSummarize th...   \n",
       "4              []  Summarize the following Context.\\nSummarize th...   \n",
       "\n",
       "                                     generated_texts  \\\n",
       "0  The \"Deceptive Practices and Voter Intimidatio...   \n",
       "1  The \"Drill Responsibly in Leased Lands Act of ...   \n",
       "2  The \"Determination of Russia-Iran Weapons Tran...   \n",
       "3  The document outlines amendments to the Congre...   \n",
       "4  The \"Disabled Veterans Tax Termination Act\" co...   \n",
       "\n",
       "                                    generated_tokens  \\\n",
       "0  [976, 392, 1923, 953, 585, 93703, 326, 631, 87...   \n",
       "1  [976, 392, 5822, 492, 36777, 8800, 306, 2018, ...   \n",
       "2  [976, 392, 130588, 3273, 328, 19420, 31893, 87...   \n",
       "3  [976, 3213, 74737, 84324, 316, 290, 101581, 39...   \n",
       "4  [976, 392, 33579, 56708, 18489, 12167, 3273, 5...   \n",
       "\n",
       "                                 generated_log_probs     rouge  sem_score  \n",
       "0  [-1.6643718e-05, -0.062359765, 0.0, 0.0, 0.0, ...  0.243560   0.961812  \n",
       "1  [-1.8193366e-05, -0.023069482, 0.0, 0.0, 0.0, ...  0.321138   0.961793  \n",
       "2  [-4.406056e-05, -0.07463003, -3.1281633e-07, 0...  0.256881   0.952403  \n",
       "3  [-0.0052344752, -0.0027878843, -0.23834187, -0...  0.228571   0.922384  \n",
       "4  [-9.436451e-05, -0.5263896, -1.9361265e-07, -7...  0.294314   0.959486  "
      ],
      "text/html": [
       "<div>\n",
       "<style scoped>\n",
       "    .dataframe tbody tr th:only-of-type {\n",
       "        vertical-align: middle;\n",
       "    }\n",
       "\n",
       "    .dataframe tbody tr th {\n",
       "        vertical-align: top;\n",
       "    }\n",
       "\n",
       "    .dataframe thead th {\n",
       "        text-align: right;\n",
       "    }\n",
       "</style>\n",
       "<table border=\"1\" class=\"dataframe\">\n",
       "  <thead>\n",
       "    <tr style=\"text-align: right;\">\n",
       "      <th></th>\n",
       "      <th>qid</th>\n",
       "      <th>query</th>\n",
       "      <th>retrieval_gt</th>\n",
       "      <th>generation_gt</th>\n",
       "      <th>retrieved_contents</th>\n",
       "      <th>retrieved_ids</th>\n",
       "      <th>retrieve_scores</th>\n",
       "      <th>prompts</th>\n",
       "      <th>generated_texts</th>\n",
       "      <th>generated_tokens</th>\n",
       "      <th>generated_log_probs</th>\n",
       "      <th>rouge</th>\n",
       "      <th>sem_score</th>\n",
       "    </tr>\n",
       "  </thead>\n",
       "  <tbody>\n",
       "    <tr>\n",
       "      <th>0</th>\n",
       "      <td>ee7495f5-3149-4cd6-a12c-e81578387900</td>\n",
       "      <td>Summarize the following document.</td>\n",
       "      <td>[[]]</td>\n",
       "      <td>[Deceptive Practices and Voter Intimidation Pr...</td>\n",
       "      <td>[SECTION 1. SHORT TITLE.\\n\\n    This Act may b...</td>\n",
       "      <td>[]</td>\n",
       "      <td>[]</td>\n",
       "      <td>Summarize the following Context.\\nSummarize th...</td>\n",
       "      <td>The \"Deceptive Practices and Voter Intimidatio...</td>\n",
       "      <td>[976, 392, 1923, 953, 585, 93703, 326, 631, 87...</td>\n",
       "      <td>[-1.6643718e-05, -0.062359765, 0.0, 0.0, 0.0, ...</td>\n",
       "      <td>0.243560</td>\n",
       "      <td>0.961812</td>\n",
       "    </tr>\n",
       "    <tr>\n",
       "      <th>1</th>\n",
       "      <td>2a11d3cd-b1e0-46f1-8fc1-408cab3d7247</td>\n",
       "      <td>Summarize the following document.</td>\n",
       "      <td>[[]]</td>\n",
       "      <td>[Drill Responsibly in Leased Lands Act of 2008...</td>\n",
       "      <td>[SECTION 1. SHORT TITLE.\\n\\n    This Act may b...</td>\n",
       "      <td>[]</td>\n",
       "      <td>[]</td>\n",
       "      <td>Summarize the following Context.\\nSummarize th...</td>\n",
       "      <td>The \"Drill Responsibly in Leased Lands Act of ...</td>\n",
       "      <td>[976, 392, 5822, 492, 36777, 8800, 306, 2018, ...</td>\n",
       "      <td>[-1.8193366e-05, -0.023069482, 0.0, 0.0, 0.0, ...</td>\n",
       "      <td>0.321138</td>\n",
       "      <td>0.961793</td>\n",
       "    </tr>\n",
       "    <tr>\n",
       "      <th>2</th>\n",
       "      <td>57a1b948-e243-41da-8a74-b75c5ff08655</td>\n",
       "      <td>Summarize the following document.</td>\n",
       "      <td>[[]]</td>\n",
       "      <td>[Determination of Russia-Iran Weapons Transfer...</td>\n",
       "      <td>[SECTION 1. SHORT TITLE.\\n\\n    This Act may b...</td>\n",
       "      <td>[]</td>\n",
       "      <td>[]</td>\n",
       "      <td>Summarize the following Context.\\nSummarize th...</td>\n",
       "      <td>The \"Determination of Russia-Iran Weapons Tran...</td>\n",
       "      <td>[976, 392, 130588, 3273, 328, 19420, 31893, 87...</td>\n",
       "      <td>[-4.406056e-05, -0.07463003, -3.1281633e-07, 0...</td>\n",
       "      <td>0.256881</td>\n",
       "      <td>0.952403</td>\n",
       "    </tr>\n",
       "    <tr>\n",
       "      <th>3</th>\n",
       "      <td>bd5d22c9-5a16-4b85-878a-6cef82b15b22</td>\n",
       "      <td>Summarize the following document.</td>\n",
       "      <td>[[]]</td>\n",
       "      <td>[Amends the Congressional Budget Act of 1974 t...</td>\n",
       "      <td>[s on the Budget.--Section \\n301(a) of the Con...</td>\n",
       "      <td>[]</td>\n",
       "      <td>[]</td>\n",
       "      <td>Summarize the following Context.\\nSummarize th...</td>\n",
       "      <td>The document outlines amendments to the Congre...</td>\n",
       "      <td>[976, 3213, 74737, 84324, 316, 290, 101581, 39...</td>\n",
       "      <td>[-0.0052344752, -0.0027878843, -0.23834187, -0...</td>\n",
       "      <td>0.228571</td>\n",
       "      <td>0.922384</td>\n",
       "    </tr>\n",
       "    <tr>\n",
       "      <th>4</th>\n",
       "      <td>f495fe57-9d32-46fc-a46a-c7cea6575f53</td>\n",
       "      <td>Summarize the following document.</td>\n",
       "      <td>[[]]</td>\n",
       "      <td>[Disabled Veterans Tax Termination Act - Amend...</td>\n",
       "      <td>[SECTION 1. SHORT TITLE.\\n\\n    This Act may b...</td>\n",
       "      <td>[]</td>\n",
       "      <td>[]</td>\n",
       "      <td>Summarize the following Context.\\nSummarize th...</td>\n",
       "      <td>The \"Disabled Veterans Tax Termination Act\" co...</td>\n",
       "      <td>[976, 392, 33579, 56708, 18489, 12167, 3273, 5...</td>\n",
       "      <td>[-9.436451e-05, -0.5263896, -1.9361265e-07, -7...</td>\n",
       "      <td>0.294314</td>\n",
       "      <td>0.959486</td>\n",
       "    </tr>\n",
       "  </tbody>\n",
       "</table>\n",
       "</div>"
      ]
     },
     "execution_count": 28,
     "metadata": {},
     "output_type": "execute_result"
    }
   ],
   "execution_count": 28
  },
  {
   "metadata": {
    "ExecuteTime": {
     "end_time": "2025-01-15T07:58:48.112070Z",
     "start_time": "2025-01-15T07:58:48.106416Z"
    }
   },
   "cell_type": "code",
   "source": [
    "def print_summary_result(df, idx: int):\n",
    "\tprint(\n",
    "\t\tf\"Original Content : {df.iloc[idx]['retrieved_contents'][0]}\\n\\nGround Truth Summary: {df.iloc[idx]['generation_gt'][0]}\\n\\nPredicted Summary: {df.iloc[idx]['generated_texts']}\\n\\nRouge: {df.iloc[idx]['rouge']}\\n\\nSem Score: {df.iloc[idx]['sem_score']}\")"
   ],
   "id": "869da7b5df05ca86",
   "outputs": [],
   "execution_count": 29
  },
  {
   "metadata": {
    "ExecuteTime": {
     "end_time": "2025-01-15T07:58:55.380474Z",
     "start_time": "2025-01-15T07:58:55.377428Z"
    }
   },
   "cell_type": "code",
   "source": "print_summary_result(result_df, 0)",
   "id": "f0e1bcadfc662958",
   "outputs": [
    {
     "name": "stdout",
     "output_type": "stream",
     "text": [
      "Original Content : SECTION 1. SHORT TITLE.\n",
      "\n",
      "    This Act may be cited as the ``Deceptive Practices and Voter \n",
      "Intimidation Prevention Act of 2006''.\n",
      "\n",
      "SEC. 2. DECEPTIVE PRACTICES IN ELECTIONS.\n",
      "\n",
      "    (a) Civil Action.--\n",
      "            (1) In general.--Subsection (b) of section 2004 of the \n",
      "        Revised Statutes (42 U.S.C. 1971(b)) is amended--\n",
      "                    (A) by striking ``No person'' and inserting the \n",
      "                following:\n",
      "            ``(1) No person''; and\n",
      "                    (B) by inserting at the end the following new \n",
      "                paragraph:\n",
      "            ``(2) No person, whether acting under color of law or \n",
      "        otherwise, shall knowingly deceive any other person regarding--\n",
      "                    ``(A) the time, place, or manner of conducting a \n",
      "                general, primary, run-off, or special election for the \n",
      "                office of President, Vice President, presidential \n",
      "                elector, Member of the Senate, Member of the House of \n",
      "                Representatives, or Delegate or Commissioner from a \n",
      "                territory or possession;\n",
      "                    ``(B) the qualifications for or restrictions on \n",
      "                voter eligibility for any election described in \n",
      "                subparagraph (A);\n",
      "                    ``(C) the political party affiliation of any \n",
      "                candidate running in any election described in \n",
      "                subparagraph (A); or\n",
      "                    ``(D) the sponsor, endorser, or originator of any \n",
      "                electronic, written, or telephonic communication, or \n",
      "                any other public communication (as defined under \n",
      "                section 301(22) of the Federal Election Campaign Act of \n",
      "                1971 (2 U.S.C. 431(22))), that promotes, supports, \n",
      "                attacks, or opposes a clearly identified candidate in \n",
      "                any election described in subparagraph (A).''.\n",
      "            (2) Private right of action.--\n",
      "                    (A) In general.--Subsection (c) of section 2004 of \n",
      "                the Revised Statutes (42 U.S.C. 1971(c)) is amended--\n",
      "                            (i) by striking ``Whenever any person'' and \n",
      "                        inserting the following:\n",
      "            ``(1) Whenever any person''; and\n",
      "                            (ii) by adding at the end the following new \n",
      "                        paragraph:\n",
      "            ``(2) Any person aggrieved by a violation of subsection \n",
      "        (b)(2) may institute a civil action or other proper proceeding \n",
      "        for preventive relief, including an application in a United \n",
      "        States district court for a permanent or temporary injunction, \n",
      "        restraining order, or other order.''.\n",
      "                    (B) Conforming amendments.--\n",
      "                            (i) Subsection (e) of section 2004 of the \n",
      "                        Revised Statutes (42 U.S.C. 1971(e)) is amended \n",
      "                        by striking ``subsection (c)'' and inserting \n",
      "                        ``subsection (c)(1)''.\n",
      "                            (ii) Subsection (g) of section 2004 of the \n",
      "                        Revised Statutes (42 U.S.C. 1971(g)) is amended \n",
      "                        by striking ``subsection (c)'' and inserting \n",
      "                        ``subsection (c)(1)''.\n",
      "    (b) Criminal Penalty.--Section 594 of title 18, United States Code, \n",
      "is amended--\n",
      "            (1) by striking ``Whoever'' and inserting the following:\n",
      "    ``(a) Intimidation.--Whoever'';\n",
      "            (2) by inserting ``by any means, including by means of \n",
      "        written, electronic, or telephonic communications,'' after \n",
      "        ``any other person''; and\n",
      "            (3) by adding at the end the following:\n",
      "    ``(b) Deceptive Acts.--\n",
      "            ``(1) Prohibition.--\n",
      "                    ``(A) In general.--It shall be unlawful for any \n",
      "                person to knowingly deceive another person regarding--\n",
      "                            ``(i) the time, place, or manner of an \n",
      "                        election described in subparagraph (B), or the \n",
      "                        qualifications for or restrictions on voter \n",
      "                        eligibility for any such election, with the \n",
      "                        intent to prevent such person from exercising \n",
      "                        the right to vote in such election;\n",
      "                            ``(ii) the political party affiliation of \n",
      "                        any candidate running in any election described \n",
      "                        in subparagraph (B);\n",
      "                            ``(iii) the sponsor, endorser, or \n",
      "                        originator of any electronic, written, or \n",
      "                        telephonic communication, or any other public \n",
      "                        communication (as defined under section 301(22) \n",
      "                        of the Federal Election Campaign Act of 1971 (2 \n",
      "                        U.S.C. 431(22))), that promotes, supports, \n",
      "                        attacks, or opposes a clearly identified \n",
      "                        candidate in any election described in \n",
      "                        subparagraph (B).\n",
      "                    ``(B) Election.--An election described in this \n",
      "                subparagraph is any general, primary, run-off, or \n",
      "                special election for the office of President, Vice \n",
      "                President, presidential elector, Member of the Senate, \n",
      "                Member of the House of Representatives, Delegate of the \n",
      "                District of Columbia, or Resident Commissioner.\n",
      "            ``(2) Penalty.--Any person who violates paragraph (1) shall \n",
      "        be fined not more than $100,000, imprisoned not more than 1 \n",
      "        year, or both.''.\n",
      "    (c) Effective Date.--The amendments made by this section shall take \n",
      "effect on the date of the enactment of this Act.\n",
      "\n",
      "SEC. 3. REPORTING FALSE ELECTION INFORMATION.\n",
      "\n",
      "    (a) In General.--Any person may report to the Assistant Attorney \n",
      "General of the Civil Rights Division of the Department of Justice, or \n",
      "the designee of such Assistant Attorney General, any act of deception \n",
      "regarding--\n",
      "            (1) the time, place, or manner of conducting a general, \n",
      "        primary, run-off, or special election for Federal office;\n",
      "            (2) the qualifications for or restrictions on voter \n",
      "        eligibility for any general, primary, run-off, or special \n",
      "        election for Federal office;\n",
      "            (3) the political party affiliation of any candidate in any \n",
      "        general, primary, run-off, or special election for Federal \n",
      "        office; or\n",
      "            (4) the sponsor, endorser, or originator of any electronic, \n",
      "        written, or telephonic communication, or any other public \n",
      "        communication (as defined under section 301(22) of the Federal \n",
      "        Election Campaign Act of 1971 (2 U.S.C. 431(22))), that \n",
      "        promotes, supports, attacks, or opposes a clearly identified \n",
      "        candidate in any general, primary, run-off, or special election \n",
      "        for Federal office.\n",
      "    (b) Corrective Action.--\n",
      "            (1) In general.--Except as provided in paragraph (2), not \n",
      "        later than 48 hours after receiving a report under subsection \n",
      "        (a), the Assistant Attorney General shall investigate such \n",
      "        report and, if the Assistant Attorney General determines that \n",
      "        an act of deception described in subsection (a) occurred, \n",
      "        shall--\n",
      "                    (A) undertake all effective measures necessary to \n",
      "                provide correct information to voters affected by the \n",
      "                deception, and\n",
      "                    (B) refer the matter to the appropriate Federal and \n",
      "                State authorities for criminal prosecution.\n",
      "            (2) Reports within 72 hours of an election.--If a report \n",
      "        under subsection (a) is received within 72 hours before the \n",
      "        election described in such subsection, the Assistant Attorney \n",
      "        General shall immediately investigate such report and, if the \n",
      "        Assistant Attorney General determines that an act of deception \n",
      "        described in subsection (a) occurred, shall immediately \n",
      "        undertake all effective measures necessary to provide correct \n",
      "        information to voters affected by the deception.\n",
      "            (3) Regulations.--\n",
      "                    (A) In general.--The Attorney General shall \n",
      "                promulgate regulations regarding the methods and means \n",
      "                of corrective actions to be taken under paragraphs (1) \n",
      "                and (2). Such regulations shall be developed in \n",
      "                consultation with the Election Assistance Commission, \n",
      "                civil rights organizations, voting rights groups, State \n",
      "                election officials, voter protection groups, and other \n",
      "                interested community organizations.\n",
      "                    (B) Study.--\n",
      "                            (i) In general.--The Attorney General, in \n",
      "                        consultation with the Federal Communications \n",
      "                        Commission and the Election Assistance \n",
      "                        Commission, shall conduct a study on the \n",
      "                        feasibility of providing the corrective \n",
      "                        information under paragraphs (1) and (2) \n",
      "                        through public service announcements, the \n",
      "                        emergency alert system, or other forms of \n",
      "                        public broadcast.\n",
      "                            (ii) Report.--Not later than 180 days after \n",
      "                        the date of the enactment of this Act, the \n",
      "                        Attorney General shall submit to Congress a \n",
      "                        report detailing the results of the study \n",
      "                        conducted under clause (i).\n",
      "    (c) Reports to Congress.--\n",
      "            (1) In general.--Not later than 90 days after any primary, \n",
      "        general, or run-off election for Federal office, the Attorney \n",
      "        General shall submit to the appropriate committees of Congress \n",
      "        a report compiling and detailing any allegations of deceptive \n",
      "        practices submitted pursuant to subsection (a) and relating to \n",
      "        such election.\n",
      "            (2) Contents.--\n",
      "                    (A) In general.--Each report submitted under \n",
      "                paragraph (1) shall include--\n",
      "                            (i) detailed information on specific \n",
      "                        allegations of deceptive tactics;\n",
      "                            (ii) any corrective actions taken in \n",
      "                        response to such allegations;\n",
      "                            (iii) the effectiveness of any such \n",
      "                        corrective actions;\n",
      "                            (iv) any suit instituted under section \n",
      "                        2004(b)(2) of the Revised Statutes (42 U.S.C. \n",
      "                        1971(b)(2)) in connection with such \n",
      "                        allegations;\n",
      "                            (v) statistical compilations of how many \n",
      "                        allegations were made and of what type;\n",
      "                            (vi) the geographic locations of and the \n",
      "                        populations affected by the alleged deceptive \n",
      "                        information; and\n",
      "                            (vii) the status of the investigations of \n",
      "                        such allegations.\n",
      "                    (B) Exception.--The Attorney General may withhold \n",
      "                any information that the Attorney General determines \n",
      "                would unduly interfere with an on-going investigation.\n",
      "            (3) Report made public.--The Attorney General shall make \n",
      "        the report required under paragraph (1) publicly available \n",
      "        through the Internet and other appropriate means.\n",
      "    (d) Federal Office.--For purposes of this section, the term \n",
      "``Federal office'' means the office of President, Vice President, \n",
      "presidential elector, Member of the Senate, Member of the House of \n",
      "Representatives, or Delegate or Commissioner from a territory or \n",
      "possession of the United States.\n",
      "    (e) Authorization of Appropriations.--There are authorized to be \n",
      "appropriated to the Attorney General such sums as may be necessary to \n",
      "carry out this section.\n",
      "\n",
      "Ground Truth Summary: Deceptive Practices and Voter Intimidation Prevention Act of 2006 - Amends the Revised Statutes and federal criminal law to prohibit any person, whether acting under color of law or otherwise, from knowingly deceiving any other person regarding: (1) the time, place, or manner of conducting any federal election; (2) the qualifications for or restrictions on voter eligibility for any such election; (3) the political party affiliation of any candidate running in any such election; or (4) the sponsor, endorser, or originator of any public communication that promotes, supports, attacks, or opposes a clearly identified candidate in any such election. Creates a private right of action for any person aggrieved by a violation of such prohibition.\n",
      "\n",
      "Prescribes a criminal penalty for such deceptive acts.\n",
      "\n",
      "Authorizes any person to report a deceptive act to the Assistant Attorney General (AAG) of the Civil Rights Division of the Department of Justice (or a designee).\n",
      "\n",
      "Requires the AAG to investigate such a report within 48 hours after its receipt and provide correct information to the voters if it is determined that an act of deception occurred.\n",
      "\n",
      "Requires an immediate investigation if such a report is received within 72 hours before an election. Directs the AAG, in such an instance, to undertake immediately all effective measures necessary to provide correct information to voters affected by the deception.\n",
      "\n",
      "Directs the Attorney General to study the feasibility of providing such corrective information through public service announcements, the emergency alert system, or other forms of public broadcast.\n",
      "\n",
      "Predicted Summary: The \"Deceptive Practices and Voter Intimidation Prevention Act of 2006\" aims to address deceptive practices in elections by prohibiting individuals from intentionally misleading voters regarding election details, such as the time and place of voting, voter eligibility, and candidate affiliations. The Act allows for civil actions by aggrieved individuals and imposes criminal penalties for violations, including fines and imprisonment.\n",
      "\n",
      "Key provisions include:\n",
      "1. **Civil Actions**: Individuals can seek legal remedies for deceptive practices affecting elections.\n",
      "2. **Criminal Penalties**: Violators can face fines up to $100,000 and imprisonment for up to one year.\n",
      "3. **Reporting Mechanism**: Citizens can report deceptive acts to the Department of Justice, which is required to investigate such claims and take corrective actions promptly.\n",
      "4. **Congressional Reporting**: The Attorney General must report to Congress on any allegations of deceptive practices after elections, detailing investigations and responses.\n",
      "\n",
      "The Act emphasizes protecting voters' rights and ensuring fair electoral processes by establishing accountability for deceptive behaviors. It calls for measures to provide correct information to voters and mandates cooperation with various organizations to improve the enforcement of election integrity.\n",
      "\n",
      "Rouge: 0.24355971896955503\n",
      "\n",
      "Sem Score: 0.9618116388262523\n"
     ]
    }
   ],
   "execution_count": 30
  },
  {
   "metadata": {
    "ExecuteTime": {
     "end_time": "2025-01-15T07:59:09.967549Z",
     "start_time": "2025-01-15T07:59:09.964933Z"
    }
   },
   "cell_type": "code",
   "source": "print_summary_result(result_df, 1)",
   "id": "700251454fbe33e8",
   "outputs": [
    {
     "name": "stdout",
     "output_type": "stream",
     "text": [
      "Original Content : SECTION 1. SHORT TITLE.\n",
      "\n",
      "    This Act may be cited as the ``Drill Responsibly in Leased Lands \n",
      "Act of 2008''.\n",
      "\n",
      "SEC. 2. NATIONAL PETROLEUM RESERVE IN ALASKA: LEASE SALES.\n",
      "\n",
      "    Section 107(a) of the Naval Petroleum Reserves Production Act of \n",
      "1976 is amended to read as follows:\n",
      "    ``(a) In General.--The Secretary shall conduct an expeditious \n",
      "environmentally responsible program of competitive leasing of oil and \n",
      "gas in the National Petroleum Reserve in Alaska in accordance with this \n",
      "Act. Such program shall include no fewer than one lease sale in the \n",
      "Reserve each year during the period 2009 through 2013.''.\n",
      "\n",
      "SEC. 3. NATIONAL PETROLEUM RESERVE IN ALASKA: PIPELINE CONSTRUCTION.\n",
      "\n",
      "    The Secretary of Transportation shall facilitate, in an \n",
      "environmentally responsible manner and in coordination with the \n",
      "Secretary of the Interior, the construction of pipelines necessary to \n",
      "transport oil and gas from or through the National Petroleum Reserve in \n",
      "Alaska to existing transportation or processing infrastructure on the \n",
      "North Slope of Alaska.\n",
      "\n",
      "SEC. 4. ALASKA NATURAL GAS PIPELINE PROJECT FACILITATION.\n",
      "\n",
      "    (a) Findings.--The Congress finds the following:\n",
      "            (1) Over 35 trillion cubic feet of natural gas reserves \n",
      "        have been discovered on Federal and State lands currently open \n",
      "        to oil and gas leasing on the North Slope of Alaska.\n",
      "            (2) These gas supplies could make a significant \n",
      "        contribution to meeting the energy needs of the United States, \n",
      "        but the lack of a natural gas transportation system has \n",
      "        prevented these gas reserves from reaching markets in the lower \n",
      "        48 States.\n",
      "    (b) Facilitation by President.--The President shall, pursuant to \n",
      "the Alaska Natural Gas Pipeline Act (division C of Public Law 108-324; \n",
      "15 U.S.C. 720 et seq.) and other applicable law, coordinate with \n",
      "producers of oil and natural gas on the North Slope of Alaska, Federal \n",
      "agencies, the State of Alaska, Canadian authorities, and other \n",
      "interested persons in order to facilitate construction of a natural gas \n",
      "pipeline from Alaska to United States markets as expeditiously as \n",
      "possible.\n",
      "\n",
      "SEC. 5. PROJECT LABOR AGREEMENTS AND OTHER PIPELINE REQUIREMENTS.\n",
      "\n",
      "    (a) Project Labor Agreements.--The President, as a term and \n",
      "condition of any permit required under Federal law for the pipelines \n",
      "referred to in section 3 and section 4, and in recognizing the \n",
      "Government's interest in labor stability and in the ability of \n",
      "construction labor and management to meet the particular needs and \n",
      "conditions of such pipelines to be developed under such permits and the \n",
      "special concerns of the holders of such permits, shall require that the \n",
      "operators of such pipelines and their agents and contractors negotiate \n",
      "to obtain a project labor agreement for the employment of laborers and \n",
      "mechanics on production, maintenance, and construction for such \n",
      "pipelines.\n",
      "    (b) Pipeline Maintenance.--The Secretary of Transportation shall \n",
      "require every pipeline operator authorized to transport oil and gas \n",
      "produced under Federal oil and gas leases in Alaska through the Trans-\n",
      "Alaska Pipeline, any pipeline constructed pursuant to section 3 or 4 of \n",
      "this Act, or any other federally approved pipeline transporting oil and \n",
      "gas from the North Slope of Alaska, to certify to the Secretary of \n",
      "Transportation annually that such pipeline is being fully maintained \n",
      "and operated in an efficient manner. The Secretary of Transportation \n",
      "shall assess appropriate civil penalties for violations of this \n",
      "requirement in the same manner as civil penalties are assessed for \n",
      "violations under section 60122(a)(1) of title 49, United States Code.\n",
      "\n",
      "SEC. 6. BAN ON EXPORT OF ALASKAN OIL.\n",
      "\n",
      "    (a) Repeal of Provision Authorizing Exports.--Section 28(s) of the \n",
      "Mineral Leasing Act (30 U.S.C. 185(s)) is repealed.\n",
      "    (b) Reimposition of Prohibition on Crude Oil Exports.--Upon the \n",
      "effective date of this Act, subsection (d) of section 7 of the Export \n",
      "Administration Act of 1979 (50 U.S.C. App. 2406(d)), shall be \n",
      "effective, and any other provision of that Act (including sections 11 \n",
      "and 12) shall be effective to the extent necessary to carry out such \n",
      "section 7(d), notwithstanding section 20 of that Act or any other \n",
      "provision of law that would otherwise allow exports of oil to which \n",
      "such section 7(d) applies.\n",
      "\n",
      "SEC. 7. ISSUANCE OF NEW LEASES.\n",
      "\n",
      "    (a) In General.--After the date of the issuance of regulations \n",
      "under subsection (b), the Secretary of the Interior shall not issue to \n",
      "a person any new lease that authorizes the exploration for or \n",
      "production of oil or natural gas, under section 17 of the Mineral \n",
      "Leasing Act (33 U.S.C. 226), the Mineral Leasing Act for Acquired Lands \n",
      "Act (30 U.S.C. 351 et seq.), the Outer Continental Shelf Lands Act (43 \n",
      "U.S.C. 1331 et seq.), or any other law authorizing the issuance of oil \n",
      "and gas leases on Federal lands or submerged lands, unless--\n",
      "            (1) the person certifies for each existing lease under such \n",
      "        Acts for the production of oil or gas with respect to which the \n",
      "        person is a lessee, that the person is diligently developing \n",
      "        the Federal lands that are subject to the lease in order to \n",
      "        produce oil or natural gas or is producing oil or natural gas \n",
      "        from such land; or\n",
      "            (2) the person has relinquished all ownership interest in \n",
      "        all Federal oil and gas leases under which oil and gas is not \n",
      "        being diligently developed.\n",
      "    (b) Diligent Development.--The Secretary shall issue regulations \n",
      "within 180 days after the date of enactment of this Act that establish \n",
      "what constitutes ``diligently developing'' for purposes of this Act.\n",
      "    (c) Failure To Comply With Requirements.--Any person who fails to \n",
      "comply with the requirements of this section or any regulation or order \n",
      "issued to implement this section shall be liable for a civil penalty \n",
      "under section 109 of the Federal Oil and Gas Royalty Management Act of \n",
      "1982 (30 U.S.C. 1719).\n",
      "    (d) Lessee Defined.--In this section the term ``lessee''--\n",
      "            (1) includes any person or other entity that controls, is \n",
      "        controlled by, or is in or under common control with, a lessee; \n",
      "        and\n",
      "            (2) does not include any person who does not hold more than \n",
      "        a minority ownership interest in a lease under an Act referred \n",
      "        to in subsection (a) authorizing the exploration for or \n",
      "        production of oil or natural gas.\n",
      "\n",
      "SEC. 8. FAIR RETURN ON PRODUCTION OF FEDERAL OIL AND GAS RESOURCES.\n",
      "\n",
      "    (a) Royalty Payments.--The Secretary of the Interior shall take all \n",
      "steps necessary to ensure that lessees under leases for exploration, \n",
      "development, and production of oil and natural gas on Federal lands, \n",
      "including leases under the Mineral Leasing Act (30 U.S.C. 181 et seq.), \n",
      "the Mineral Leasing Act for Acquired Lands (30 U.S.C. 351 et seq.), the \n",
      "Outer Continental Shelf Lands Act (30 U.S.C. 1331 et seq.), and all \n",
      "other mineral leasing laws, are making prompt, transparent, and \n",
      "accurate royalty payments under such leases.\n",
      "    (b) Recommendations for Legislative Action.--In order to facilitate \n",
      "implementation of subsection (a), the Secretary of the Interior shall, \n",
      "within 180 days after the date of the enactment of this Act and in \n",
      "consultation with the affected States, prepare and transmit to Congress \n",
      "recommendations for legislative action to improve the accurate \n",
      "collection of Federal oil and gas royalties.\n",
      "\n",
      "Ground Truth Summary: Drill Responsibly in Leased Lands Act of 2008 - Amends the Naval Petroleum Reserves Production Act of 1976 to direct the Secretary of the Interior to conduct an oil and gas competitive leasing program in the National Petroleum Reserve, Alaska, that includes at least one lease sale each year during the period 2009 through 2013.\n",
      "\n",
      "Instructs the Secretary of Transportation to: (1) facilitate pipeline construction to transport oil and gas from or through the National Petroleum Reserve in Alaska to existing transportation or processing infrastructure on the North Slope of Alaska; and (2) require certain authorized pipeline operators to certify annually that the pipeline is being fully maintained and operated in an efficient manner.\n",
      "\n",
      "Directs the President to coordinate with oil and natural gas producers on the North Slope of Alaska, and other specified entities, to expedite construction of a natural gas pipeline from Alaska to U.S. markets.\n",
      "\n",
      "Amends the Mineral Leasing Act to repeal provisions authorizing the export of Alaskan North Slope oil.\n",
      "\n",
      "Amends the Export Administration Act of 1979 to reimpose the prohibition against crude oil exports.\n",
      "\n",
      "Prohibits the Secretary of the Interior from authorizing any new lease for exploration or production of oil or natural gas unless the lessee: (1) certifies for each existing lease that the lessee has diligently developed the pertinent federal lands in order to produce oil or natural gas, or is producing oil or natural gas from them; or (2) has relinquished all federal oil and gas leases that are not being diligently developed.\n",
      "\n",
      "Instructs the Secretary to ensure that lessees under leases for exploration, development, and production of oil and natural gas on federal lands make prompt, transparent, and accurate royalty payments.\n",
      "\n",
      "Predicted Summary: The \"Drill Responsibly in Leased Lands Act of 2008\" mandates environmentally responsible oil and gas leasing and infrastructure development in the National Petroleum Reserve in Alaska. Key provisions include:\n",
      "\n",
      "1. **Lease Sales**: The Secretary must conduct at least one lease sale annually from 2009 to 2013.\n",
      "2. **Pipeline Construction**: The Secretary of Transportation will facilitate the construction of necessary pipelines for oil and gas transport, ensuring environmental responsibility.\n",
      "3. **Natural Gas Pipeline**: The President is tasked with coordinating efforts to construct a natural gas pipeline from Alaska to U.S. markets, capitalizing on substantial gas reserves.\n",
      "4. **Project Labor Agreements**: Pipeline operators must negotiate project labor agreements to ensure labor stability and efficiency in maintenance and construction.\n",
      "5. **Export Ban**: The act repeals prior provisions allowing the export of Alaskan oil and re-establishes prohibitions on crude oil exports.\n",
      "6. **New Leases Requirements**: New leases for exploration/production will only be issued if the applicant is actively developing existing leases or has relinquished non-active leases.\n",
      "7. **Fair Return on Production**: The Secretary of the Interior will ensure prompt and accurate royalty payments from lessees and propose legislative improvements for royalty collection.\n",
      "\n",
      "Overall, the Act emphasizes sustainable development and management of Alaska's petroleum resources while regulating lease issuance and maintenance compliance.\n",
      "\n",
      "Rouge: 0.3211382113821138\n",
      "\n",
      "Sem Score: 0.9617930628986658\n"
     ]
    }
   ],
   "execution_count": 31
  },
  {
   "metadata": {
    "ExecuteTime": {
     "end_time": "2025-01-15T07:59:42.160220Z",
     "start_time": "2025-01-15T07:59:42.154878Z"
    }
   },
   "cell_type": "code",
   "source": "summary_df = pd.read_csv(os.path.join(root_dir, 'autorag_project', 'evaluation', 'summary', '0', 'node_line', 'generator', 'summary.csv'))",
   "id": "41d121ddd9ec26a4",
   "outputs": [],
   "execution_count": 32
  },
  {
   "metadata": {
    "ExecuteTime": {
     "end_time": "2025-01-15T07:59:49.374537Z",
     "start_time": "2025-01-15T07:59:49.369840Z"
    }
   },
   "cell_type": "code",
   "source": "summary_df",
   "id": "d3be45008c302018",
   "outputs": [
    {
     "data": {
      "text/plain": [
       "    filename module_name                                      module_params  \\\n",
       "0  0.parquet   OpenAILLM  {'llm': 'gpt-4o-mini', 'temperature': 1.0, 'ba...   \n",
       "\n",
       "   execution_time  average_output_token     rouge  sem_score  is_best  \n",
       "0        0.817463                 249.2  0.249982   0.947394     True  "
      ],
      "text/html": [
       "<div>\n",
       "<style scoped>\n",
       "    .dataframe tbody tr th:only-of-type {\n",
       "        vertical-align: middle;\n",
       "    }\n",
       "\n",
       "    .dataframe tbody tr th {\n",
       "        vertical-align: top;\n",
       "    }\n",
       "\n",
       "    .dataframe thead th {\n",
       "        text-align: right;\n",
       "    }\n",
       "</style>\n",
       "<table border=\"1\" class=\"dataframe\">\n",
       "  <thead>\n",
       "    <tr style=\"text-align: right;\">\n",
       "      <th></th>\n",
       "      <th>filename</th>\n",
       "      <th>module_name</th>\n",
       "      <th>module_params</th>\n",
       "      <th>execution_time</th>\n",
       "      <th>average_output_token</th>\n",
       "      <th>rouge</th>\n",
       "      <th>sem_score</th>\n",
       "      <th>is_best</th>\n",
       "    </tr>\n",
       "  </thead>\n",
       "  <tbody>\n",
       "    <tr>\n",
       "      <th>0</th>\n",
       "      <td>0.parquet</td>\n",
       "      <td>OpenAILLM</td>\n",
       "      <td>{'llm': 'gpt-4o-mini', 'temperature': 1.0, 'ba...</td>\n",
       "      <td>0.817463</td>\n",
       "      <td>249.2</td>\n",
       "      <td>0.249982</td>\n",
       "      <td>0.947394</td>\n",
       "      <td>True</td>\n",
       "    </tr>\n",
       "  </tbody>\n",
       "</table>\n",
       "</div>"
      ]
     },
     "execution_count": 34,
     "metadata": {},
     "output_type": "execute_result"
    }
   ],
   "execution_count": 34
  },
  {
   "metadata": {},
   "cell_type": "markdown",
   "source": "## RAGAS 사용 (RAGAS Summarization Conciseness Score)",
   "id": "39b1d8ea8defde7e"
  },
  {
   "metadata": {
    "ExecuteTime": {
     "end_time": "2025-01-15T08:02:56.866643Z",
     "start_time": "2025-01-15T08:02:56.861155Z"
    }
   },
   "cell_type": "code",
   "source": [
    "from ragas import EvaluationDataset, SingleTurnSample, evaluate\n",
    "\n",
    "\n",
    "# 먼저 AutoRAG의 데이터를 RAGAS로 변환합니다.\n",
    "def autorag_to_ragas(autorag_df: pd.DataFrame, corpus_df: pd.DataFrame) -> EvaluationDataset:\n",
    "\tsamples = []\n",
    "\tfor idx, row in autorag_df.iterrows():\n",
    "\t\tsamples.append(SingleTurnSample(\n",
    "\t\t\treference_contexts=row['retrieved_contents'],\n",
    "\t\t\tresponse=row['generated_texts'],\n",
    "\t\t\treference=row['generation_gt'][0],\n",
    "\t\t))\n",
    "\treturn EvaluationDataset(samples)\n",
    "ragas_dataset = autorag_to_ragas(result_df, empty_corpus_df)"
   ],
   "id": "1f78c70fec3aadeb",
   "outputs": [],
   "execution_count": 37
  },
  {
   "metadata": {
    "ExecuteTime": {
     "end_time": "2025-01-15T08:02:26.577305Z",
     "start_time": "2025-01-15T08:02:26.555211Z"
    }
   },
   "cell_type": "code",
   "source": [
    "from ragas.llms import LangchainLLMWrapper\n",
    "from langchain_openai import ChatOpenAI\n",
    "ragas_llm = LangchainLLMWrapper(ChatOpenAI(model=\"gpt-4o\"))"
   ],
   "id": "1ecdbdcd1875986b",
   "outputs": [],
   "execution_count": 36
  },
  {
   "metadata": {},
   "cell_type": "code",
   "source": [
    "from ragas.metrics import SummarizationScore\n",
    "\n",
    "result = evaluate(ragas_dataset, metrics=[SummarizationScore()], llm=ragas_llm)"
   ],
   "id": "26d452679e20cf4b",
   "outputs": [],
   "execution_count": null
  },
  {
   "metadata": {
    "ExecuteTime": {
     "end_time": "2025-01-15T08:04:43.459332Z",
     "start_time": "2025-01-15T08:04:43.454270Z"
    }
   },
   "cell_type": "code",
   "source": "result",
   "id": "bce9ddeda9495be6",
   "outputs": [
    {
     "data": {
      "text/plain": [
       "{'summary_score': 0.5652}"
      ]
     },
     "execution_count": 40,
     "metadata": {},
     "output_type": "execute_result"
    }
   ],
   "execution_count": 40
  },
  {
   "metadata": {},
   "cell_type": "code",
   "outputs": [],
   "execution_count": null,
   "source": "",
   "id": "527502458c6993ac"
  }
 ],
 "metadata": {
  "kernelspec": {
   "display_name": "Python 3",
   "language": "python",
   "name": "python3"
  },
  "language_info": {
   "codemirror_mode": {
    "name": "ipython",
    "version": 2
   },
   "file_extension": ".py",
   "mimetype": "text/x-python",
   "name": "python",
   "nbconvert_exporter": "python",
   "pygments_lexer": "ipython2",
   "version": "2.7.6"
  }
 },
 "nbformat": 4,
 "nbformat_minor": 5
}
