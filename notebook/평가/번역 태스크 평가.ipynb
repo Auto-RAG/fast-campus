{
 "cells": [
  {
   "cell_type": "code",
   "id": "initial_id",
   "metadata": {
    "collapsed": true,
    "ExecuteTime": {
     "end_time": "2025-01-15T08:07:34.593555Z",
     "start_time": "2025-01-15T08:07:34.587779Z"
    }
   },
   "source": [
    "import nest_asyncio\n",
    "\n",
    "nest_asyncio.apply()"
   ],
   "outputs": [],
   "execution_count": 1
  },
  {
   "metadata": {
    "ExecuteTime": {
     "end_time": "2025-01-15T08:07:37.071253Z",
     "start_time": "2025-01-15T08:07:37.062892Z"
    }
   },
   "cell_type": "code",
   "source": [
    "from dotenv import load_dotenv\n",
    "\n",
    "load_dotenv()"
   ],
   "id": "83cbc24b0558b469",
   "outputs": [
    {
     "data": {
      "text/plain": [
       "True"
      ]
     },
     "execution_count": 2,
     "metadata": {},
     "output_type": "execute_result"
    }
   ],
   "execution_count": 2
  },
  {
   "metadata": {
    "ExecuteTime": {
     "end_time": "2025-01-15T08:07:41.907879Z",
     "start_time": "2025-01-15T08:07:41.457267Z"
    }
   },
   "cell_type": "code",
   "source": [
    "import pandas as pd\n",
    "import os\n",
    "import pathlib\n",
    "\n",
    "root_dir = pathlib.PurePath(os.path.dirname(os.getcwd())).parent\n",
    "data_dir = os.path.join(root_dir, 'data')"
   ],
   "id": "400c2c70423534e7",
   "outputs": [],
   "execution_count": 3
  },
  {
   "metadata": {
    "ExecuteTime": {
     "end_time": "2025-01-15T08:17:41.217915Z",
     "start_time": "2025-01-15T08:17:39.439153Z"
    }
   },
   "cell_type": "code",
   "source": "%pip install bert_score",
   "id": "4fca4c26a8ae7e12",
   "outputs": [
    {
     "name": "stdout",
     "output_type": "stream",
     "text": [
      "Collecting bert_score\r\n",
      "  Using cached bert_score-0.3.13-py3-none-any.whl.metadata (15 kB)\r\n",
      "Requirement already satisfied: torch>=1.0.0 in /Users/jeffrey/PycharmProjects/fast-campus/venv/lib/python3.10/site-packages (from bert_score) (2.5.1)\r\n",
      "Requirement already satisfied: pandas>=1.0.1 in /Users/jeffrey/PycharmProjects/fast-campus/venv/lib/python3.10/site-packages (from bert_score) (2.2.3)\r\n",
      "Requirement already satisfied: transformers>=3.0.0 in /Users/jeffrey/PycharmProjects/fast-campus/venv/lib/python3.10/site-packages (from bert_score) (4.44.2)\r\n",
      "Requirement already satisfied: numpy in /Users/jeffrey/PycharmProjects/fast-campus/venv/lib/python3.10/site-packages (from bert_score) (1.26.4)\r\n",
      "Requirement already satisfied: requests in /Users/jeffrey/PycharmProjects/fast-campus/venv/lib/python3.10/site-packages (from bert_score) (2.32.3)\r\n",
      "Requirement already satisfied: tqdm>=4.31.1 in /Users/jeffrey/PycharmProjects/fast-campus/venv/lib/python3.10/site-packages (from bert_score) (4.67.1)\r\n",
      "Requirement already satisfied: matplotlib in /Users/jeffrey/PycharmProjects/fast-campus/venv/lib/python3.10/site-packages (from bert_score) (3.10.0)\r\n",
      "Requirement already satisfied: packaging>=20.9 in /Users/jeffrey/PycharmProjects/fast-campus/venv/lib/python3.10/site-packages (from bert_score) (24.2)\r\n",
      "Requirement already satisfied: python-dateutil>=2.8.2 in /Users/jeffrey/PycharmProjects/fast-campus/venv/lib/python3.10/site-packages (from pandas>=1.0.1->bert_score) (2.8.2)\r\n",
      "Requirement already satisfied: pytz>=2020.1 in /Users/jeffrey/PycharmProjects/fast-campus/venv/lib/python3.10/site-packages (from pandas>=1.0.1->bert_score) (2024.2)\r\n",
      "Requirement already satisfied: tzdata>=2022.7 in /Users/jeffrey/PycharmProjects/fast-campus/venv/lib/python3.10/site-packages (from pandas>=1.0.1->bert_score) (2024.2)\r\n",
      "Requirement already satisfied: filelock in /Users/jeffrey/PycharmProjects/fast-campus/venv/lib/python3.10/site-packages (from torch>=1.0.0->bert_score) (3.16.1)\r\n",
      "Requirement already satisfied: typing-extensions>=4.8.0 in /Users/jeffrey/PycharmProjects/fast-campus/venv/lib/python3.10/site-packages (from torch>=1.0.0->bert_score) (4.12.2)\r\n",
      "Requirement already satisfied: networkx in /Users/jeffrey/PycharmProjects/fast-campus/venv/lib/python3.10/site-packages (from torch>=1.0.0->bert_score) (3.4.2)\r\n",
      "Requirement already satisfied: jinja2 in /Users/jeffrey/PycharmProjects/fast-campus/venv/lib/python3.10/site-packages (from torch>=1.0.0->bert_score) (3.1.5)\r\n",
      "Requirement already satisfied: fsspec in /Users/jeffrey/PycharmProjects/fast-campus/venv/lib/python3.10/site-packages (from torch>=1.0.0->bert_score) (2024.9.0)\r\n",
      "Requirement already satisfied: sympy==1.13.1 in /Users/jeffrey/PycharmProjects/fast-campus/venv/lib/python3.10/site-packages (from torch>=1.0.0->bert_score) (1.13.1)\r\n",
      "Requirement already satisfied: mpmath<1.4,>=1.1.0 in /Users/jeffrey/PycharmProjects/fast-campus/venv/lib/python3.10/site-packages (from sympy==1.13.1->torch>=1.0.0->bert_score) (1.3.0)\r\n",
      "Requirement already satisfied: huggingface-hub<1.0,>=0.23.2 in /Users/jeffrey/PycharmProjects/fast-campus/venv/lib/python3.10/site-packages (from transformers>=3.0.0->bert_score) (0.27.1)\r\n",
      "Requirement already satisfied: pyyaml>=5.1 in /Users/jeffrey/PycharmProjects/fast-campus/venv/lib/python3.10/site-packages (from transformers>=3.0.0->bert_score) (6.0.2)\r\n",
      "Requirement already satisfied: regex!=2019.12.17 in /Users/jeffrey/PycharmProjects/fast-campus/venv/lib/python3.10/site-packages (from transformers>=3.0.0->bert_score) (2024.11.6)\r\n",
      "Requirement already satisfied: safetensors>=0.4.1 in /Users/jeffrey/PycharmProjects/fast-campus/venv/lib/python3.10/site-packages (from transformers>=3.0.0->bert_score) (0.5.2)\r\n",
      "Requirement already satisfied: tokenizers<0.20,>=0.19 in /Users/jeffrey/PycharmProjects/fast-campus/venv/lib/python3.10/site-packages (from transformers>=3.0.0->bert_score) (0.19.1)\r\n",
      "Requirement already satisfied: contourpy>=1.0.1 in /Users/jeffrey/PycharmProjects/fast-campus/venv/lib/python3.10/site-packages (from matplotlib->bert_score) (1.3.1)\r\n",
      "Requirement already satisfied: cycler>=0.10 in /Users/jeffrey/PycharmProjects/fast-campus/venv/lib/python3.10/site-packages (from matplotlib->bert_score) (0.12.1)\r\n",
      "Requirement already satisfied: fonttools>=4.22.0 in /Users/jeffrey/PycharmProjects/fast-campus/venv/lib/python3.10/site-packages (from matplotlib->bert_score) (4.55.3)\r\n",
      "Requirement already satisfied: kiwisolver>=1.3.1 in /Users/jeffrey/PycharmProjects/fast-campus/venv/lib/python3.10/site-packages (from matplotlib->bert_score) (1.4.8)\r\n",
      "Requirement already satisfied: pillow>=8 in /Users/jeffrey/PycharmProjects/fast-campus/venv/lib/python3.10/site-packages (from matplotlib->bert_score) (11.1.0)\r\n",
      "Requirement already satisfied: pyparsing>=2.3.1 in /Users/jeffrey/PycharmProjects/fast-campus/venv/lib/python3.10/site-packages (from matplotlib->bert_score) (3.2.1)\r\n",
      "Requirement already satisfied: charset-normalizer<4,>=2 in /Users/jeffrey/PycharmProjects/fast-campus/venv/lib/python3.10/site-packages (from requests->bert_score) (3.4.1)\r\n",
      "Requirement already satisfied: idna<4,>=2.5 in /Users/jeffrey/PycharmProjects/fast-campus/venv/lib/python3.10/site-packages (from requests->bert_score) (3.10)\r\n",
      "Requirement already satisfied: urllib3<3,>=1.21.1 in /Users/jeffrey/PycharmProjects/fast-campus/venv/lib/python3.10/site-packages (from requests->bert_score) (2.3.0)\r\n",
      "Requirement already satisfied: certifi>=2017.4.17 in /Users/jeffrey/PycharmProjects/fast-campus/venv/lib/python3.10/site-packages (from requests->bert_score) (2024.12.14)\r\n",
      "Requirement already satisfied: six>=1.5 in /Users/jeffrey/PycharmProjects/fast-campus/venv/lib/python3.10/site-packages (from python-dateutil>=2.8.2->pandas>=1.0.1->bert_score) (1.17.0)\r\n",
      "Requirement already satisfied: MarkupSafe>=2.0 in /Users/jeffrey/PycharmProjects/fast-campus/venv/lib/python3.10/site-packages (from jinja2->torch>=1.0.0->bert_score) (2.1.5)\r\n",
      "Using cached bert_score-0.3.13-py3-none-any.whl (61 kB)\r\n",
      "Installing collected packages: bert_score\r\n",
      "Successfully installed bert_score-0.3.13\r\n",
      "\r\n",
      "\u001B[1m[\u001B[0m\u001B[34;49mnotice\u001B[0m\u001B[1;39;49m]\u001B[0m\u001B[39;49m A new release of pip is available: \u001B[0m\u001B[31;49m24.2\u001B[0m\u001B[39;49m -> \u001B[0m\u001B[32;49m24.3.1\u001B[0m\r\n",
      "\u001B[1m[\u001B[0m\u001B[34;49mnotice\u001B[0m\u001B[1;39;49m]\u001B[0m\u001B[39;49m To update, run: \u001B[0m\u001B[32;49mpip install --upgrade pip\u001B[0m\r\n",
      "Note: you may need to restart the kernel to use updated packages.\n"
     ]
    }
   ],
   "execution_count": 18
  },
  {
   "metadata": {},
   "cell_type": "markdown",
   "source": [
    "# 번역 태스크 평가\n",
    "\n",
    "## 데이터 제작\n",
    "\n",
    "먼저, [opus_books](https://huggingface.co/datasets/Helsinki-NLP/opus_books) 데이터셋을 사용하여 번역 태스크 평가 데이터를 제작합니다."
   ],
   "id": "58a0ed7ff602ea32"
  },
  {
   "metadata": {
    "ExecuteTime": {
     "end_time": "2025-01-15T08:12:19.592228Z",
     "start_time": "2025-01-15T08:12:16.960141Z"
    }
   },
   "cell_type": "code",
   "source": [
    "from datasets import load_dataset\n",
    "\n",
    "ds = load_dataset(\"Helsinki-NLP/opus_books\", \"de-en\") # 독일어 => 영어\n",
    "original_df = ds[\"train\"].to_pandas().sample(20).reset_index(drop=True)"
   ],
   "id": "c466ed6a35e7e10b",
   "outputs": [],
   "execution_count": 7
  },
  {
   "metadata": {
    "ExecuteTime": {
     "end_time": "2025-01-15T08:12:49.748526Z",
     "start_time": "2025-01-15T08:12:49.742924Z"
    }
   },
   "cell_type": "code",
   "source": [
    "original_df['de'] = original_df['translation'].apply(lambda x: x['de'])\n",
    "original_df['en'] = original_df['translation'].apply(lambda x: x['en'])"
   ],
   "id": "ed0a285ed9149d3a",
   "outputs": [],
   "execution_count": 9
  },
  {
   "metadata": {
    "ExecuteTime": {
     "end_time": "2025-01-15T08:12:54.465635Z",
     "start_time": "2025-01-15T08:12:54.457066Z"
    }
   },
   "cell_type": "code",
   "source": "original_df.head()",
   "id": "72a5c6c73cfc62a3",
   "outputs": [
    {
     "data": {
      "text/plain": [
       "      id                                        translation  \\\n",
       "0  12831  {'de': '»Sie sind wohl aus Hinterpommern?« fra...   \n",
       "1  33046  {'de': 'Kann gesät werden?« fragte er nach kur...   \n",
       "2  50130  {'de': ',,Na, ich sag' dir, Tom, wo du so 'n b...   \n",
       "3  37699  {'de': 'Aber das war ein wahres Glück; denn St...   \n",
       "4  32847  {'de': '›Somit‹, sagte Alexei Alexandrowitsch ...   \n",
       "\n",
       "                                                  de  \\\n",
       "0  »Sie sind wohl aus Hinterpommern?« fragte die ...   \n",
       "1  Kann gesät werden?« fragte er nach kurzem Stil...   \n",
       "2  ,,Na, ich sag' dir, Tom, wo du so 'n blaues Li...   \n",
       "3  Aber das war ein wahres Glück; denn Stepan Ark...   \n",
       "4  ›Somit‹, sagte Alexei Alexandrowitsch zu sich ...   \n",
       "\n",
       "                                                  en  \n",
       "0  \"Where were you brought up?\" asked the daughte...  \n",
       "1  'Well, can we begin sowing?' he asked after a ...  \n",
       "2  \"Well, where you see one of them blue lights f...  \n",
       "3  However, that was all for the best, for Oblons...  \n",
       "4  'Well then,' thought he, 'the question of her ...  "
      ],
      "text/html": [
       "<div>\n",
       "<style scoped>\n",
       "    .dataframe tbody tr th:only-of-type {\n",
       "        vertical-align: middle;\n",
       "    }\n",
       "\n",
       "    .dataframe tbody tr th {\n",
       "        vertical-align: top;\n",
       "    }\n",
       "\n",
       "    .dataframe thead th {\n",
       "        text-align: right;\n",
       "    }\n",
       "</style>\n",
       "<table border=\"1\" class=\"dataframe\">\n",
       "  <thead>\n",
       "    <tr style=\"text-align: right;\">\n",
       "      <th></th>\n",
       "      <th>id</th>\n",
       "      <th>translation</th>\n",
       "      <th>de</th>\n",
       "      <th>en</th>\n",
       "    </tr>\n",
       "  </thead>\n",
       "  <tbody>\n",
       "    <tr>\n",
       "      <th>0</th>\n",
       "      <td>12831</td>\n",
       "      <td>{'de': '»Sie sind wohl aus Hinterpommern?« fra...</td>\n",
       "      <td>»Sie sind wohl aus Hinterpommern?« fragte die ...</td>\n",
       "      <td>\"Where were you brought up?\" asked the daughte...</td>\n",
       "    </tr>\n",
       "    <tr>\n",
       "      <th>1</th>\n",
       "      <td>33046</td>\n",
       "      <td>{'de': 'Kann gesät werden?« fragte er nach kur...</td>\n",
       "      <td>Kann gesät werden?« fragte er nach kurzem Stil...</td>\n",
       "      <td>'Well, can we begin sowing?' he asked after a ...</td>\n",
       "    </tr>\n",
       "    <tr>\n",
       "      <th>2</th>\n",
       "      <td>50130</td>\n",
       "      <td>{'de': ',,Na, ich sag' dir, Tom, wo du so 'n b...</td>\n",
       "      <td>,,Na, ich sag' dir, Tom, wo du so 'n blaues Li...</td>\n",
       "      <td>\"Well, where you see one of them blue lights f...</td>\n",
       "    </tr>\n",
       "    <tr>\n",
       "      <th>3</th>\n",
       "      <td>37699</td>\n",
       "      <td>{'de': 'Aber das war ein wahres Glück; denn St...</td>\n",
       "      <td>Aber das war ein wahres Glück; denn Stepan Ark...</td>\n",
       "      <td>However, that was all for the best, for Oblons...</td>\n",
       "    </tr>\n",
       "    <tr>\n",
       "      <th>4</th>\n",
       "      <td>32847</td>\n",
       "      <td>{'de': '›Somit‹, sagte Alexei Alexandrowitsch ...</td>\n",
       "      <td>›Somit‹, sagte Alexei Alexandrowitsch zu sich ...</td>\n",
       "      <td>'Well then,' thought he, 'the question of her ...</td>\n",
       "    </tr>\n",
       "  </tbody>\n",
       "</table>\n",
       "</div>"
      ]
     },
     "execution_count": 10,
     "metadata": {},
     "output_type": "execute_result"
    }
   ],
   "execution_count": 10
  },
  {
   "metadata": {
    "ExecuteTime": {
     "end_time": "2025-01-15T08:13:38.830343Z",
     "start_time": "2025-01-15T08:13:38.792712Z"
    }
   },
   "cell_type": "code",
   "source": [
    "import pandas as pd\n",
    "from uuid import uuid4\n",
    "\n",
    "# AutoRAG 데이터로 변환합니다.\n",
    "autorag_dicts = []\n",
    "for i, row in original_df.iterrows():\n",
    "\tautorag_dicts.append({\n",
    "\t\t'qid': str(uuid4()),\n",
    "        'query': 'Translate the following text into English.',\n",
    "\t\t'retrieval_gt': [[]],\n",
    "\t\t'generation_gt': [row['en']],\n",
    "\t\t'retrieved_contents': [row['de']],\n",
    "\t\t'retrieved_ids': [],\n",
    "\t\t'retrieve_scores': [],\n",
    "\t})\n",
    "autorag_df = pd.DataFrame(autorag_dicts)"
   ],
   "id": "cab849907fbffcfa",
   "outputs": [],
   "execution_count": 11
  },
  {
   "metadata": {
    "ExecuteTime": {
     "end_time": "2025-01-15T08:13:41.932060Z",
     "start_time": "2025-01-15T08:13:41.923162Z"
    }
   },
   "cell_type": "code",
   "source": "autorag_df.head()",
   "id": "11387b5e60f78ad6",
   "outputs": [
    {
     "data": {
      "text/plain": [
       "                                    qid  \\\n",
       "0  1f342c71-9097-4664-81eb-cc24ee1a58fa   \n",
       "1  dc7cf7f4-0716-415a-a8a2-25a7cb9c7b03   \n",
       "2  5be0b526-dbe2-4891-a531-9d66f4e4ecbc   \n",
       "3  50a4eaa7-73c4-4636-8cf5-ecd1d005ea4b   \n",
       "4  b9967527-973d-4da0-bafa-2b46c12a29a7   \n",
       "\n",
       "                                        query retrieval_gt  \\\n",
       "0  Translate the following text into English.         [[]]   \n",
       "1  Translate the following text into English.         [[]]   \n",
       "2  Translate the following text into English.         [[]]   \n",
       "3  Translate the following text into English.         [[]]   \n",
       "4  Translate the following text into English.         [[]]   \n",
       "\n",
       "                                       generation_gt  \\\n",
       "0  [\"Where were you brought up?\" asked the daught...   \n",
       "1  ['Well, can we begin sowing?' he asked after a...   \n",
       "2  [\"Well, where you see one of them blue lights ...   \n",
       "3  [However, that was all for the best, for Oblon...   \n",
       "4  ['Well then,' thought he, 'the question of her...   \n",
       "\n",
       "                                  retrieved_contents retrieved_ids  \\\n",
       "0  [»Sie sind wohl aus Hinterpommern?« fragte die...            []   \n",
       "1  [Kann gesät werden?« fragte er nach kurzem Sti...            []   \n",
       "2  [,,Na, ich sag' dir, Tom, wo du so 'n blaues L...            []   \n",
       "3  [Aber das war ein wahres Glück; denn Stepan Ar...            []   \n",
       "4  [›Somit‹, sagte Alexei Alexandrowitsch zu sich...            []   \n",
       "\n",
       "  retrieve_scores  \n",
       "0              []  \n",
       "1              []  \n",
       "2              []  \n",
       "3              []  \n",
       "4              []  "
      ],
      "text/html": [
       "<div>\n",
       "<style scoped>\n",
       "    .dataframe tbody tr th:only-of-type {\n",
       "        vertical-align: middle;\n",
       "    }\n",
       "\n",
       "    .dataframe tbody tr th {\n",
       "        vertical-align: top;\n",
       "    }\n",
       "\n",
       "    .dataframe thead th {\n",
       "        text-align: right;\n",
       "    }\n",
       "</style>\n",
       "<table border=\"1\" class=\"dataframe\">\n",
       "  <thead>\n",
       "    <tr style=\"text-align: right;\">\n",
       "      <th></th>\n",
       "      <th>qid</th>\n",
       "      <th>query</th>\n",
       "      <th>retrieval_gt</th>\n",
       "      <th>generation_gt</th>\n",
       "      <th>retrieved_contents</th>\n",
       "      <th>retrieved_ids</th>\n",
       "      <th>retrieve_scores</th>\n",
       "    </tr>\n",
       "  </thead>\n",
       "  <tbody>\n",
       "    <tr>\n",
       "      <th>0</th>\n",
       "      <td>1f342c71-9097-4664-81eb-cc24ee1a58fa</td>\n",
       "      <td>Translate the following text into English.</td>\n",
       "      <td>[[]]</td>\n",
       "      <td>[\"Where were you brought up?\" asked the daught...</td>\n",
       "      <td>[»Sie sind wohl aus Hinterpommern?« fragte die...</td>\n",
       "      <td>[]</td>\n",
       "      <td>[]</td>\n",
       "    </tr>\n",
       "    <tr>\n",
       "      <th>1</th>\n",
       "      <td>dc7cf7f4-0716-415a-a8a2-25a7cb9c7b03</td>\n",
       "      <td>Translate the following text into English.</td>\n",
       "      <td>[[]]</td>\n",
       "      <td>['Well, can we begin sowing?' he asked after a...</td>\n",
       "      <td>[Kann gesät werden?« fragte er nach kurzem Sti...</td>\n",
       "      <td>[]</td>\n",
       "      <td>[]</td>\n",
       "    </tr>\n",
       "    <tr>\n",
       "      <th>2</th>\n",
       "      <td>5be0b526-dbe2-4891-a531-9d66f4e4ecbc</td>\n",
       "      <td>Translate the following text into English.</td>\n",
       "      <td>[[]]</td>\n",
       "      <td>[\"Well, where you see one of them blue lights ...</td>\n",
       "      <td>[,,Na, ich sag' dir, Tom, wo du so 'n blaues L...</td>\n",
       "      <td>[]</td>\n",
       "      <td>[]</td>\n",
       "    </tr>\n",
       "    <tr>\n",
       "      <th>3</th>\n",
       "      <td>50a4eaa7-73c4-4636-8cf5-ecd1d005ea4b</td>\n",
       "      <td>Translate the following text into English.</td>\n",
       "      <td>[[]]</td>\n",
       "      <td>[However, that was all for the best, for Oblon...</td>\n",
       "      <td>[Aber das war ein wahres Glück; denn Stepan Ar...</td>\n",
       "      <td>[]</td>\n",
       "      <td>[]</td>\n",
       "    </tr>\n",
       "    <tr>\n",
       "      <th>4</th>\n",
       "      <td>b9967527-973d-4da0-bafa-2b46c12a29a7</td>\n",
       "      <td>Translate the following text into English.</td>\n",
       "      <td>[[]]</td>\n",
       "      <td>['Well then,' thought he, 'the question of her...</td>\n",
       "      <td>[›Somit‹, sagte Alexei Alexandrowitsch zu sich...</td>\n",
       "      <td>[]</td>\n",
       "      <td>[]</td>\n",
       "    </tr>\n",
       "  </tbody>\n",
       "</table>\n",
       "</div>"
      ]
     },
     "execution_count": 12,
     "metadata": {},
     "output_type": "execute_result"
    }
   ],
   "execution_count": 12
  },
  {
   "metadata": {
    "ExecuteTime": {
     "end_time": "2025-01-15T08:13:59.782528Z",
     "start_time": "2025-01-15T08:13:59.780170Z"
    }
   },
   "cell_type": "code",
   "source": [
    "from datetime import datetime\n",
    "\n",
    "empty_corpus_df = pd.DataFrame([{\n",
    "\t'doc_id': 'empty',\n",
    "\t'contents': 'empty',\n",
    "\t'metadata': {'last_modified_datetime': datetime.now()} \n",
    "}], columns=['doc_id', 'contents', 'metadata'])"
   ],
   "id": "7989574892db280b",
   "outputs": [],
   "execution_count": 13
  },
  {
   "metadata": {
    "ExecuteTime": {
     "end_time": "2025-01-15T08:16:34.699601Z",
     "start_time": "2025-01-15T08:16:34.696144Z"
    }
   },
   "cell_type": "code",
   "source": "yaml_path = os.path.join(root_dir, 'config', 'evaluation', 'translate', 'config.yaml')",
   "id": "141999562e25c34f",
   "outputs": [],
   "execution_count": 16
  },
  {
   "metadata": {},
   "cell_type": "code",
   "source": [
    "from autorag.evaluator import Evaluator\n",
    "import tempfile\n",
    "\n",
    "with tempfile.NamedTemporaryFile(suffix='.parquet') as qa_path:\n",
    "\twith tempfile.NamedTemporaryFile(suffix='.parquet') as corpus_path:\n",
    "\t\tautorag_df.to_parquet(qa_path.name)\n",
    "\t\tempty_corpus_df.to_parquet(corpus_path.name)\n",
    "\t\tevaluator = Evaluator(qa_data_path=qa_path.name,\n",
    "\t\t\t\t\t\t\t  corpus_data_path=corpus_path.name,\n",
    "\t\t\t\t\t\t\t  project_dir=os.path.join(root_dir, 'autorag_project', 'evaluation', 'translate'))\n",
    "\t\tevaluator.start_trial(yaml_path, skip_validation=True)"
   ],
   "id": "763b7a8954ca05a",
   "outputs": [],
   "execution_count": null
  },
  {
   "metadata": {},
   "cell_type": "markdown",
   "source": "## 결과 확인",
   "id": "198aaad36017a665"
  },
  {
   "metadata": {
    "ExecuteTime": {
     "end_time": "2025-01-15T08:18:34.073795Z",
     "start_time": "2025-01-15T08:18:34.053919Z"
    }
   },
   "cell_type": "code",
   "source": "result_df = pd.read_parquet(os.path.join(root_dir, 'autorag_project', 'evaluation', 'translate', '0', 'node_line', 'generator', 'best_0.parquet'))",
   "id": "164ca01747bb9ae2",
   "outputs": [],
   "execution_count": 20
  },
  {
   "metadata": {
    "ExecuteTime": {
     "end_time": "2025-01-15T08:18:38.568350Z",
     "start_time": "2025-01-15T08:18:38.546082Z"
    }
   },
   "cell_type": "code",
   "source": "result_df.head()",
   "id": "1bc3483f4092772e",
   "outputs": [
    {
     "data": {
      "text/plain": [
       "                                    qid  \\\n",
       "0  1f342c71-9097-4664-81eb-cc24ee1a58fa   \n",
       "1  dc7cf7f4-0716-415a-a8a2-25a7cb9c7b03   \n",
       "2  5be0b526-dbe2-4891-a531-9d66f4e4ecbc   \n",
       "3  50a4eaa7-73c4-4636-8cf5-ecd1d005ea4b   \n",
       "4  b9967527-973d-4da0-bafa-2b46c12a29a7   \n",
       "\n",
       "                                        query retrieval_gt  \\\n",
       "0  Translate the following text into English.         [[]]   \n",
       "1  Translate the following text into English.         [[]]   \n",
       "2  Translate the following text into English.         [[]]   \n",
       "3  Translate the following text into English.         [[]]   \n",
       "4  Translate the following text into English.         [[]]   \n",
       "\n",
       "                                       generation_gt  \\\n",
       "0  [\"Where were you brought up?\" asked the daught...   \n",
       "1  ['Well, can we begin sowing?' he asked after a...   \n",
       "2  [\"Well, where you see one of them blue lights ...   \n",
       "3  [However, that was all for the best, for Oblon...   \n",
       "4  ['Well then,' thought he, 'the question of her...   \n",
       "\n",
       "                                  retrieved_contents retrieved_ids  \\\n",
       "0  [»Sie sind wohl aus Hinterpommern?« fragte die...            []   \n",
       "1  [Kann gesät werden?« fragte er nach kurzem Sti...            []   \n",
       "2  [,,Na, ich sag' dir, Tom, wo du so 'n blaues L...            []   \n",
       "3  [Aber das war ein wahres Glück; denn Stepan Ar...            []   \n",
       "4  [›Somit‹, sagte Alexei Alexandrowitsch zu sich...            []   \n",
       "\n",
       "  retrieve_scores                                            prompts  \\\n",
       "0              []  Translate the following text into English. \\n ...   \n",
       "1              []  Translate the following text into English. \\n ...   \n",
       "2              []  Translate the following text into English. \\n ...   \n",
       "3              []  Translate the following text into English. \\n ...   \n",
       "4              []  Translate the following text into English. \\n ...   \n",
       "\n",
       "                                     generated_texts  \\\n",
       "0  \"They are probably from Hinterpommern?\" asked ...   \n",
       "1  \"Can it be sown?\" he asked after a brief silence.   \n",
       "2  \"Well, I'll tell you, Tom, where you see such ...   \n",
       "3  But that was a true stroke of luck; for Stepan...   \n",
       "4  \"Thus,\" said Alexei Alexandrovich to himself, ...   \n",
       "\n",
       "                                    generated_tokens  \\\n",
       "0  [139002, 553, 7038, 591, 59801, 88410, 79406, ...   \n",
       "1  [1, 8475, 480, 413, 265, 940, 16842, 501, 7747...   \n",
       "2  [1, 16936, 11, 17291, 5485, 481, 11, 11838, 11...   \n",
       "3  [7943, 484, 673, 261, 1343, 20112, 328, 12751,...   \n",
       "4  [1, 84787, 3532, 2059, 12734, 17432, 52159, 23...   \n",
       "\n",
       "                                 generated_log_probs       bleu    meteor  \\\n",
       "0  [-0.21484652, -0.39739433, -0.3023416, -2.3392...   8.840994  0.264838   \n",
       "1  [-0.021347981, -4.310693e-05, -0.030859487, 0....  19.674980  0.535714   \n",
       "2  [-0.02312109, -9.8536635e-05, 0.0, -0.8082196,...  19.059633  0.575534   \n",
       "3  [-0.02039835, -0.025665293, -3.0545007e-06, -0...  14.535768  0.464085   \n",
       "4  [-0.42983776, -0.08217332, -3.3451433e-05, -0....  12.180839  0.408726   \n",
       "\n",
       "   bert_score  sem_score  \n",
       "0    0.872279   0.875736  \n",
       "1    0.945938   0.948707  \n",
       "2    0.917599   0.932155  \n",
       "3    0.911697   0.915011  \n",
       "4    0.921092   0.902360  "
      ],
      "text/html": [
       "<div>\n",
       "<style scoped>\n",
       "    .dataframe tbody tr th:only-of-type {\n",
       "        vertical-align: middle;\n",
       "    }\n",
       "\n",
       "    .dataframe tbody tr th {\n",
       "        vertical-align: top;\n",
       "    }\n",
       "\n",
       "    .dataframe thead th {\n",
       "        text-align: right;\n",
       "    }\n",
       "</style>\n",
       "<table border=\"1\" class=\"dataframe\">\n",
       "  <thead>\n",
       "    <tr style=\"text-align: right;\">\n",
       "      <th></th>\n",
       "      <th>qid</th>\n",
       "      <th>query</th>\n",
       "      <th>retrieval_gt</th>\n",
       "      <th>generation_gt</th>\n",
       "      <th>retrieved_contents</th>\n",
       "      <th>retrieved_ids</th>\n",
       "      <th>retrieve_scores</th>\n",
       "      <th>prompts</th>\n",
       "      <th>generated_texts</th>\n",
       "      <th>generated_tokens</th>\n",
       "      <th>generated_log_probs</th>\n",
       "      <th>bleu</th>\n",
       "      <th>meteor</th>\n",
       "      <th>bert_score</th>\n",
       "      <th>sem_score</th>\n",
       "    </tr>\n",
       "  </thead>\n",
       "  <tbody>\n",
       "    <tr>\n",
       "      <th>0</th>\n",
       "      <td>1f342c71-9097-4664-81eb-cc24ee1a58fa</td>\n",
       "      <td>Translate the following text into English.</td>\n",
       "      <td>[[]]</td>\n",
       "      <td>[\"Where were you brought up?\" asked the daught...</td>\n",
       "      <td>[»Sie sind wohl aus Hinterpommern?« fragte die...</td>\n",
       "      <td>[]</td>\n",
       "      <td>[]</td>\n",
       "      <td>Translate the following text into English. \\n ...</td>\n",
       "      <td>\"They are probably from Hinterpommern?\" asked ...</td>\n",
       "      <td>[139002, 553, 7038, 591, 59801, 88410, 79406, ...</td>\n",
       "      <td>[-0.21484652, -0.39739433, -0.3023416, -2.3392...</td>\n",
       "      <td>8.840994</td>\n",
       "      <td>0.264838</td>\n",
       "      <td>0.872279</td>\n",
       "      <td>0.875736</td>\n",
       "    </tr>\n",
       "    <tr>\n",
       "      <th>1</th>\n",
       "      <td>dc7cf7f4-0716-415a-a8a2-25a7cb9c7b03</td>\n",
       "      <td>Translate the following text into English.</td>\n",
       "      <td>[[]]</td>\n",
       "      <td>['Well, can we begin sowing?' he asked after a...</td>\n",
       "      <td>[Kann gesät werden?« fragte er nach kurzem Sti...</td>\n",
       "      <td>[]</td>\n",
       "      <td>[]</td>\n",
       "      <td>Translate the following text into English. \\n ...</td>\n",
       "      <td>\"Can it be sown?\" he asked after a brief silence.</td>\n",
       "      <td>[1, 8475, 480, 413, 265, 940, 16842, 501, 7747...</td>\n",
       "      <td>[-0.021347981, -4.310693e-05, -0.030859487, 0....</td>\n",
       "      <td>19.674980</td>\n",
       "      <td>0.535714</td>\n",
       "      <td>0.945938</td>\n",
       "      <td>0.948707</td>\n",
       "    </tr>\n",
       "    <tr>\n",
       "      <th>2</th>\n",
       "      <td>5be0b526-dbe2-4891-a531-9d66f4e4ecbc</td>\n",
       "      <td>Translate the following text into English.</td>\n",
       "      <td>[[]]</td>\n",
       "      <td>[\"Well, where you see one of them blue lights ...</td>\n",
       "      <td>[,,Na, ich sag' dir, Tom, wo du so 'n blaues L...</td>\n",
       "      <td>[]</td>\n",
       "      <td>[]</td>\n",
       "      <td>Translate the following text into English. \\n ...</td>\n",
       "      <td>\"Well, I'll tell you, Tom, where you see such ...</td>\n",
       "      <td>[1, 16936, 11, 17291, 5485, 481, 11, 11838, 11...</td>\n",
       "      <td>[-0.02312109, -9.8536635e-05, 0.0, -0.8082196,...</td>\n",
       "      <td>19.059633</td>\n",
       "      <td>0.575534</td>\n",
       "      <td>0.917599</td>\n",
       "      <td>0.932155</td>\n",
       "    </tr>\n",
       "    <tr>\n",
       "      <th>3</th>\n",
       "      <td>50a4eaa7-73c4-4636-8cf5-ecd1d005ea4b</td>\n",
       "      <td>Translate the following text into English.</td>\n",
       "      <td>[[]]</td>\n",
       "      <td>[However, that was all for the best, for Oblon...</td>\n",
       "      <td>[Aber das war ein wahres Glück; denn Stepan Ar...</td>\n",
       "      <td>[]</td>\n",
       "      <td>[]</td>\n",
       "      <td>Translate the following text into English. \\n ...</td>\n",
       "      <td>But that was a true stroke of luck; for Stepan...</td>\n",
       "      <td>[7943, 484, 673, 261, 1343, 20112, 328, 12751,...</td>\n",
       "      <td>[-0.02039835, -0.025665293, -3.0545007e-06, -0...</td>\n",
       "      <td>14.535768</td>\n",
       "      <td>0.464085</td>\n",
       "      <td>0.911697</td>\n",
       "      <td>0.915011</td>\n",
       "    </tr>\n",
       "    <tr>\n",
       "      <th>4</th>\n",
       "      <td>b9967527-973d-4da0-bafa-2b46c12a29a7</td>\n",
       "      <td>Translate the following text into English.</td>\n",
       "      <td>[[]]</td>\n",
       "      <td>['Well then,' thought he, 'the question of her...</td>\n",
       "      <td>[›Somit‹, sagte Alexei Alexandrowitsch zu sich...</td>\n",
       "      <td>[]</td>\n",
       "      <td>[]</td>\n",
       "      <td>Translate the following text into English. \\n ...</td>\n",
       "      <td>\"Thus,\" said Alexei Alexandrovich to himself, ...</td>\n",
       "      <td>[1, 84787, 3532, 2059, 12734, 17432, 52159, 23...</td>\n",
       "      <td>[-0.42983776, -0.08217332, -3.3451433e-05, -0....</td>\n",
       "      <td>12.180839</td>\n",
       "      <td>0.408726</td>\n",
       "      <td>0.921092</td>\n",
       "      <td>0.902360</td>\n",
       "    </tr>\n",
       "  </tbody>\n",
       "</table>\n",
       "</div>"
      ]
     },
     "execution_count": 21,
     "metadata": {},
     "output_type": "execute_result"
    }
   ],
   "execution_count": 21
  },
  {
   "metadata": {
    "ExecuteTime": {
     "end_time": "2025-01-15T08:19:59.111780Z",
     "start_time": "2025-01-15T08:19:59.107933Z"
    }
   },
   "cell_type": "code",
   "source": [
    "def print_translate_result(df, idx: int):\n",
    "\tprint(\n",
    "\t\tf\"Original Content : {df.iloc[idx]['retrieved_contents'][0]}\\n\\nGround Truth : {df.iloc[idx]['generation_gt'][0]}\\n\\nPredicted Translation: {df.iloc[idx]['generated_texts']}\\n\\nBLEU: {df.iloc[idx]['bleu']}\\n\\nMETEOR: {df.iloc[idx]['meteor']}\\n\\nBert Score: {df.iloc[idx]['bert_score']}\\n\\nSem Score: {df.iloc[idx]['sem_score']}\")"
   ],
   "id": "8b9eb3edd23f9a7e",
   "outputs": [],
   "execution_count": 23
  },
  {
   "metadata": {
    "ExecuteTime": {
     "end_time": "2025-01-15T08:20:07.256309Z",
     "start_time": "2025-01-15T08:20:07.253517Z"
    }
   },
   "cell_type": "code",
   "source": "print_translate_result(result_df, 0)",
   "id": "e66cf8527fa0ec3b",
   "outputs": [
    {
     "name": "stdout",
     "output_type": "stream",
     "text": [
      "Original Content : »Sie sind wohl aus Hinterpommern?« fragte die junge Frau so impertinent, daß sich die alte Frau die Frage nicht verkneifen konnte, ob sie sich damit selber verteidigen wolle.\n",
      "\n",
      "Ground Truth : \"Where were you brought up?\" asked the daughter-in-law, with so impertinent a look that Madame Bovary asked her if she were not perhaps defending her own case.\n",
      "\n",
      "Predicted Translation: \"They are probably from Hinterpommern?\" asked the young woman so impertinently that the older woman couldn't help but wonder whether she was trying to defend herself with that question.\n",
      "\n",
      "BLEU: 8.840994001530047\n",
      "\n",
      "METEOR: 0.26483781918564525\n",
      "\n",
      "Bert Score: 0.8722787499427795\n",
      "\n",
      "Sem Score: 0.8757357058500955\n"
     ]
    }
   ],
   "execution_count": 24
  },
  {
   "metadata": {
    "ExecuteTime": {
     "end_time": "2025-01-15T08:20:23.762494Z",
     "start_time": "2025-01-15T08:20:23.759817Z"
    }
   },
   "cell_type": "code",
   "source": "print_translate_result(result_df, 1)",
   "id": "2b3c2ca280e4abdb",
   "outputs": [
    {
     "name": "stdout",
     "output_type": "stream",
     "text": [
      "Original Content : Kann gesät werden?« fragte er nach kurzem Stillschweigen.\n",
      "\n",
      "Ground Truth : 'Well, can we begin sowing?' he asked after a pause.\n",
      "\n",
      "Predicted Translation: \"Can it be sown?\" he asked after a brief silence.\n",
      "\n",
      "BLEU: 19.67497981115564\n",
      "\n",
      "METEOR: 0.5357142857142857\n",
      "\n",
      "Bert Score: 0.9459381699562073\n",
      "\n",
      "Sem Score: 0.948706626672618\n"
     ]
    }
   ],
   "execution_count": 25
  },
  {
   "metadata": {
    "ExecuteTime": {
     "end_time": "2025-01-15T08:20:34.073352Z",
     "start_time": "2025-01-15T08:20:34.069416Z"
    }
   },
   "cell_type": "code",
   "source": "print_translate_result(result_df, 2)",
   "id": "81ed5e64be64ea3a",
   "outputs": [
    {
     "name": "stdout",
     "output_type": "stream",
     "text": [
      "Original Content : ,,Na, ich sag' dir, Tom, wo du so 'n blaues Licht siehst, kannst du sicher sein, daß da 'n Geist dahinter steckt. 's ist doch mal so bekannt.\n",
      "\n",
      "Ground Truth : \"Well, where you see one of them blue lights flickering around, Tom, you can bet there's a ghost mighty close behind it. It stands to reason.\n",
      "\n",
      "Predicted Translation: \"Well, I'll tell you, Tom, where you see such a blue light, you can be sure that there's a spirit behind it. It's well known.\"\n",
      "\n",
      "BLEU: 19.05963299154425\n",
      "\n",
      "METEOR: 0.5755342118978483\n",
      "\n",
      "Bert Score: 0.9175985455513\n",
      "\n",
      "Sem Score: 0.9321554958164447\n"
     ]
    }
   ],
   "execution_count": 26
  },
  {
   "metadata": {
    "ExecuteTime": {
     "end_time": "2025-01-15T08:20:54.278611Z",
     "start_time": "2025-01-15T08:20:54.271272Z"
    }
   },
   "cell_type": "code",
   "source": "summary_df = pd.read_csv(os.path.join(root_dir, 'autorag_project', 'evaluation', 'translate', '0', 'node_line', 'generator', 'summary.csv'))",
   "id": "70205af44fc58b6a",
   "outputs": [],
   "execution_count": 27
  },
  {
   "metadata": {
    "ExecuteTime": {
     "end_time": "2025-01-15T08:20:57.179597Z",
     "start_time": "2025-01-15T08:20:57.172674Z"
    }
   },
   "cell_type": "code",
   "source": "summary_df",
   "id": "35cb981c38fe40e",
   "outputs": [
    {
     "data": {
      "text/plain": [
       "    filename module_name                                      module_params  \\\n",
       "0  0.parquet   OpenAILLM  {'llm': 'gpt-4o-mini', 'temperature': 1.0, 'ba...   \n",
       "\n",
       "   execution_time  average_output_token       bleu    meteor  bert_score  \\\n",
       "0        0.164339                  23.1  15.548133  0.423367    0.903976   \n",
       "\n",
       "   sem_score  is_best  \n",
       "0   0.897078     True  "
      ],
      "text/html": [
       "<div>\n",
       "<style scoped>\n",
       "    .dataframe tbody tr th:only-of-type {\n",
       "        vertical-align: middle;\n",
       "    }\n",
       "\n",
       "    .dataframe tbody tr th {\n",
       "        vertical-align: top;\n",
       "    }\n",
       "\n",
       "    .dataframe thead th {\n",
       "        text-align: right;\n",
       "    }\n",
       "</style>\n",
       "<table border=\"1\" class=\"dataframe\">\n",
       "  <thead>\n",
       "    <tr style=\"text-align: right;\">\n",
       "      <th></th>\n",
       "      <th>filename</th>\n",
       "      <th>module_name</th>\n",
       "      <th>module_params</th>\n",
       "      <th>execution_time</th>\n",
       "      <th>average_output_token</th>\n",
       "      <th>bleu</th>\n",
       "      <th>meteor</th>\n",
       "      <th>bert_score</th>\n",
       "      <th>sem_score</th>\n",
       "      <th>is_best</th>\n",
       "    </tr>\n",
       "  </thead>\n",
       "  <tbody>\n",
       "    <tr>\n",
       "      <th>0</th>\n",
       "      <td>0.parquet</td>\n",
       "      <td>OpenAILLM</td>\n",
       "      <td>{'llm': 'gpt-4o-mini', 'temperature': 1.0, 'ba...</td>\n",
       "      <td>0.164339</td>\n",
       "      <td>23.1</td>\n",
       "      <td>15.548133</td>\n",
       "      <td>0.423367</td>\n",
       "      <td>0.903976</td>\n",
       "      <td>0.897078</td>\n",
       "      <td>True</td>\n",
       "    </tr>\n",
       "  </tbody>\n",
       "</table>\n",
       "</div>"
      ]
     },
     "execution_count": 28,
     "metadata": {},
     "output_type": "execute_result"
    }
   ],
   "execution_count": 28
  },
  {
   "metadata": {},
   "cell_type": "code",
   "outputs": [],
   "execution_count": null,
   "source": "",
   "id": "413d63e708a13812"
  }
 ],
 "metadata": {
  "kernelspec": {
   "display_name": "Python 3",
   "language": "python",
   "name": "python3"
  },
  "language_info": {
   "codemirror_mode": {
    "name": "ipython",
    "version": 2
   },
   "file_extension": ".py",
   "mimetype": "text/x-python",
   "name": "python",
   "nbconvert_exporter": "python",
   "pygments_lexer": "ipython2",
   "version": "2.7.6"
  }
 },
 "nbformat": 4,
 "nbformat_minor": 5
}
