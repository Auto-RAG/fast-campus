{
 "cells": [
  {
   "cell_type": "code",
   "id": "initial_id",
   "metadata": {
    "collapsed": true,
    "ExecuteTime": {
     "end_time": "2025-01-15T15:16:46.068925Z",
     "start_time": "2025-01-15T15:16:46.059265Z"
    }
   },
   "source": [
    "from dotenv import load_dotenv\n",
    "\n",
    "load_dotenv()"
   ],
   "outputs": [
    {
     "data": {
      "text/plain": [
       "True"
      ]
     },
     "execution_count": 1,
     "metadata": {},
     "output_type": "execute_result"
    }
   ],
   "execution_count": 1
  },
  {
   "metadata": {
    "ExecuteTime": {
     "end_time": "2025-01-15T15:30:17.029146Z",
     "start_time": "2025-01-15T15:30:17.026325Z"
    }
   },
   "cell_type": "code",
   "source": [
    "import nest_asyncio\n",
    "\n",
    "nest_asyncio.apply()"
   ],
   "id": "d512a80bb3e2804f",
   "outputs": [],
   "execution_count": 19
  },
  {
   "metadata": {
    "ExecuteTime": {
     "end_time": "2025-01-15T15:16:52.180223Z",
     "start_time": "2025-01-15T15:16:49.761778Z"
    }
   },
   "cell_type": "code",
   "source": [
    "import pandas as pd\n",
    "import os\n",
    "import pathlib\n",
    "\n",
    "root_dir = pathlib.PurePath(os.path.dirname(os.getcwd())).parent\n",
    "data_dir = os.path.join(root_dir, 'data')"
   ],
   "id": "b652d0e4a14f24a0",
   "outputs": [],
   "execution_count": 3
  },
  {
   "metadata": {},
   "cell_type": "markdown",
   "source": [
    "# 대화 데이터 평가\n",
    "## 데이터 제작\n",
    "\n",
    "먼저, [DSTC11-Track5](https://github.com/alexa/dstc11-track5) 데이터을 DeepEval용 대화 데이터로 변환합니다."
   ],
   "id": "4540580c971ff375"
  },
  {
   "metadata": {
    "ExecuteTime": {
     "end_time": "2025-01-15T15:22:01.372158Z",
     "start_time": "2025-01-15T15:21:57.891091Z"
    }
   },
   "cell_type": "code",
   "source": [
    "from datasets import load_dataset\n",
    "\n",
    "ds = load_dataset(\"NomaDamas/DSTC-11-Track-5\", \"default\")\n",
    "ds_df = ds[\"train\"].to_pandas()\n",
    "original_df = ds_df.loc[ds_df['target'] == True].sample(20).reset_index(drop=True)"
   ],
   "id": "9daa6c175278c64e",
   "outputs": [],
   "execution_count": 7
  },
  {
   "metadata": {
    "ExecuteTime": {
     "end_time": "2025-01-15T15:22:02.246872Z",
     "start_time": "2025-01-15T15:22:02.230578Z"
    }
   },
   "cell_type": "code",
   "source": "original_df.head()",
   "id": "59a8ae651c3aa5ca",
   "outputs": [
    {
     "data": {
      "text/plain": [
       "                                                 log  target  \\\n",
       "0  [{'speaker': 'U', 'text': 'Can you help me fin...    True   \n",
       "1  [{'speaker': 'U', 'text': 'I need a 4 star hot...    True   \n",
       "2  [{'speaker': 'U', 'text': 'I'm looking for a t...    True   \n",
       "3  [{'speaker': 'U', 'text': 'Hi I am looking to ...    True   \n",
       "4  [{'speaker': 'U', 'text': 'A moderately priced...    True   \n",
       "\n",
       "                                           knowledge  \\\n",
       "0  [{'doc_id': 7, 'doc_type': 'faq', 'domain': 'r...   \n",
       "1  [{'doc_id': 1, 'doc_type': 'review', 'domain':...   \n",
       "2  [{'doc_id': 8, 'doc_type': 'review', 'domain':...   \n",
       "3  [{'doc_id': 1, 'doc_type': 'review', 'domain':...   \n",
       "4  [{'doc_id': 1, 'doc_type': 'review', 'domain':...   \n",
       "\n",
       "                                            response  \n",
       "0  Yes, the patio for outdoor eating is really ni...  \n",
       "1  The Autumn House has pretty bad reviews about ...  \n",
       "2  Hamilton Lodge offers clean rooms for their gu...  \n",
       "3  Although one reviewer found the staff attentiv...  \n",
       "4  Yes, those that have previously dined at the C...  "
      ],
      "text/html": [
       "<div>\n",
       "<style scoped>\n",
       "    .dataframe tbody tr th:only-of-type {\n",
       "        vertical-align: middle;\n",
       "    }\n",
       "\n",
       "    .dataframe tbody tr th {\n",
       "        vertical-align: top;\n",
       "    }\n",
       "\n",
       "    .dataframe thead th {\n",
       "        text-align: right;\n",
       "    }\n",
       "</style>\n",
       "<table border=\"1\" class=\"dataframe\">\n",
       "  <thead>\n",
       "    <tr style=\"text-align: right;\">\n",
       "      <th></th>\n",
       "      <th>log</th>\n",
       "      <th>target</th>\n",
       "      <th>knowledge</th>\n",
       "      <th>response</th>\n",
       "    </tr>\n",
       "  </thead>\n",
       "  <tbody>\n",
       "    <tr>\n",
       "      <th>0</th>\n",
       "      <td>[{'speaker': 'U', 'text': 'Can you help me fin...</td>\n",
       "      <td>True</td>\n",
       "      <td>[{'doc_id': 7, 'doc_type': 'faq', 'domain': 'r...</td>\n",
       "      <td>Yes, the patio for outdoor eating is really ni...</td>\n",
       "    </tr>\n",
       "    <tr>\n",
       "      <th>1</th>\n",
       "      <td>[{'speaker': 'U', 'text': 'I need a 4 star hot...</td>\n",
       "      <td>True</td>\n",
       "      <td>[{'doc_id': 1, 'doc_type': 'review', 'domain':...</td>\n",
       "      <td>The Autumn House has pretty bad reviews about ...</td>\n",
       "    </tr>\n",
       "    <tr>\n",
       "      <th>2</th>\n",
       "      <td>[{'speaker': 'U', 'text': 'I'm looking for a t...</td>\n",
       "      <td>True</td>\n",
       "      <td>[{'doc_id': 8, 'doc_type': 'review', 'domain':...</td>\n",
       "      <td>Hamilton Lodge offers clean rooms for their gu...</td>\n",
       "    </tr>\n",
       "    <tr>\n",
       "      <th>3</th>\n",
       "      <td>[{'speaker': 'U', 'text': 'Hi I am looking to ...</td>\n",
       "      <td>True</td>\n",
       "      <td>[{'doc_id': 1, 'doc_type': 'review', 'domain':...</td>\n",
       "      <td>Although one reviewer found the staff attentiv...</td>\n",
       "    </tr>\n",
       "    <tr>\n",
       "      <th>4</th>\n",
       "      <td>[{'speaker': 'U', 'text': 'A moderately priced...</td>\n",
       "      <td>True</td>\n",
       "      <td>[{'doc_id': 1, 'doc_type': 'review', 'domain':...</td>\n",
       "      <td>Yes, those that have previously dined at the C...</td>\n",
       "    </tr>\n",
       "  </tbody>\n",
       "</table>\n",
       "</div>"
      ]
     },
     "execution_count": 8,
     "metadata": {},
     "output_type": "execute_result"
    }
   ],
   "execution_count": 8
  },
  {
   "metadata": {
    "ExecuteTime": {
     "end_time": "2025-01-15T15:22:11.878222Z",
     "start_time": "2025-01-15T15:22:11.872429Z"
    }
   },
   "cell_type": "code",
   "source": "original_df.iloc[0]['log']",
   "id": "176f7ac428d36f8f",
   "outputs": [
    {
     "data": {
      "text/plain": [
       "array([{'speaker': 'U', 'text': 'Can you help me find a restaurant that serves African food with a moderate price range please'},\n",
       "       {'speaker': 'S', 'text': \"I am sorry, there aren't any options available. May I ask if there is another type of restaurant you would be interested in?\"},\n",
       "       {'speaker': 'U', 'text': 'Yes how about Asian food in the same price range?'},\n",
       "       {'speaker': 'S', 'text': 'Yes I have the Yippee Noodle Bar in the center of town on King street in the moderate price range. They serve Asian cuisine. Is there anything else I can do for you?'},\n",
       "       {'speaker': 'U', 'text': 'Yeah, are they situated in a nice part of town that provides a nice outdoor eating experience?'}],\n",
       "      dtype=object)"
      ]
     },
     "execution_count": 9,
     "metadata": {},
     "output_type": "execute_result"
    }
   ],
   "execution_count": 9
  },
  {
   "metadata": {
    "ExecuteTime": {
     "end_time": "2025-01-15T15:22:21.271805Z",
     "start_time": "2025-01-15T15:22:21.268795Z"
    }
   },
   "cell_type": "code",
   "source": "original_df.iloc[0]['response']",
   "id": "5cd81edde54fd044",
   "outputs": [
    {
     "data": {
      "text/plain": [
       "'Yes, the patio for outdoor eating is really nice, especially in the fall. Do you want to make a reservation?'"
      ]
     },
     "execution_count": 10,
     "metadata": {},
     "output_type": "execute_result"
    }
   ],
   "execution_count": 10
  },
  {
   "metadata": {},
   "cell_type": "markdown",
   "source": "`ConversationalTestCase` 인스턴스를 여러개 만들겠습니다.",
   "id": "a5835d64d5ef4dde"
  },
  {
   "metadata": {
    "ExecuteTime": {
     "end_time": "2025-01-15T15:29:52.693178Z",
     "start_time": "2025-01-15T15:29:52.661579Z"
    }
   },
   "cell_type": "code",
   "source": [
    "from deepeval.test_case import LLMTestCase, ConversationalTestCase\n",
    "\n",
    "conversation_test_cases = []\n",
    "for idx, row in original_df.iterrows():\n",
    "\tturns = []\n",
    "\tfull_dialog = row[\"log\"]\n",
    "\tfor i in range(len(full_dialog) - 1):\n",
    "\t\tturns.append(LLMTestCase(input=full_dialog[i], actual_output=full_dialog[i + 1]))\n",
    "\tturns.append(LLMTestCase(input=full_dialog[-1], actual_output=row[\"response\"]))\n",
    "\tconversation_test_cases.append(ConversationalTestCase(turns=turns, \n",
    "\t\t\t\t\t\t\t\t\t\t\t\t\t\t  chatbot_role=\"Chatbot is a helpful assistant to find a great hotel.\",))"
   ],
   "id": "390698c7855f768c",
   "outputs": [],
   "execution_count": 17
  },
  {
   "metadata": {},
   "cell_type": "markdown",
   "source": [
    "### Role Adherence\n",
    "\n",
    "사용을 위해서는 반드시 `chatbot_role`을 지정해야 합니다."
   ],
   "id": "6cb5d69ad8b6a002"
  },
  {
   "metadata": {
    "ExecuteTime": {
     "end_time": "2025-01-15T15:30:00.051618Z",
     "start_time": "2025-01-15T15:29:54.636644Z"
    }
   },
   "cell_type": "code",
   "source": [
    "from deepeval.metrics import RoleAdherenceMetric\n",
    "\n",
    "metric = RoleAdherenceMetric()\n",
    "\n",
    "metric.measure(conversation_test_cases[0])\n",
    "print(metric.score)\n",
    "print(metric.reason)"
   ],
   "id": "88f08856153055da",
   "outputs": [
    {
     "data": {
      "text/plain": [
       "Output()"
      ],
      "application/vnd.jupyter.widget-view+json": {
       "version_major": 2,
       "version_minor": 0,
       "model_id": "c2fcc579ea774d59a8a28b17f7a9ab42"
      }
     },
     "metadata": {},
     "output_type": "display_data"
    },
    {
     "data": {
      "text/plain": [
       "Event loop is already running. Applying nest_asyncio patch to allow async execution...\n"
      ],
      "text/html": [
       "<pre style=\"white-space:pre;overflow-x:auto;line-height:normal;font-family:Menlo,'DejaVu Sans Mono',consolas,'Courier New',monospace\">Event loop is already running. Applying nest_asyncio patch to allow async execution...\n",
       "</pre>\n"
      ]
     },
     "metadata": {},
     "output_type": "display_data"
    },
    {
     "data": {
      "text/plain": [],
      "text/html": [
       "<pre style=\"white-space:pre;overflow-x:auto;line-height:normal;font-family:Menlo,'DejaVu Sans Mono',consolas,'Courier New',monospace\"></pre>\n"
      ]
     },
     "metadata": {},
     "output_type": "display_data"
    },
    {
     "name": "stdout",
     "output_type": "stream",
     "text": [
      "0.4\n",
      "The score is 0.4 because the LLM chatbot responses are out of character for a role that assists users in finding a great hotel. For instance, in turn #1, the chatbot says, 'I am sorry, there aren't any options available. May I ask if there is another type of restaurant you would be interested in?' which is not relevant to hotel finding. In turn #3, the chatbot provides a suggestion for a restaurant, 'Yes I have the Yippee Noodle Bar in the center of town on King street in the moderate price range. They serve Asian cuisine. Is there anything else I can do for you?' which again deviates from its role. Furthermore, in turn #5, 'Yes, the patio for outdoor eating is really nice, especially in the fall. Do you want to make a reservation?' focuses on restaurant reservations instead of hotel recommendations. These deviations not only affect the relevance of the conversation but also the chatbot's adherence to the role of providing hotel suggestions.\n"
     ]
    }
   ],
   "execution_count": 18
  },
  {
   "metadata": {},
   "cell_type": "markdown",
   "source": "### Conversation Relevancy",
   "id": "ed2fdb11e6cee18e"
  },
  {
   "metadata": {
    "ExecuteTime": {
     "end_time": "2025-01-15T15:31:14.396035Z",
     "start_time": "2025-01-15T15:31:09.132782Z"
    }
   },
   "cell_type": "code",
   "source": [
    "from deepeval.metrics import ConversationRelevancyMetric\n",
    "\n",
    "metric = ConversationRelevancyMetric()\n",
    "\n",
    "metric.measure(conversation_test_cases[0])\n",
    "print(metric.score)\n",
    "print(metric.reason)"
   ],
   "id": "d3c1b4b8bea060a2",
   "outputs": [
    {
     "data": {
      "text/plain": [
       "Output()"
      ],
      "application/vnd.jupyter.widget-view+json": {
       "version_major": 2,
       "version_minor": 0,
       "model_id": "c3fbb46d1e414545ab97e1e3f346f28c"
      }
     },
     "metadata": {},
     "output_type": "display_data"
    },
    {
     "data": {
      "text/plain": [
       "Event loop is already running. Applying nest_asyncio patch to allow async execution...\n"
      ],
      "text/html": [
       "<pre style=\"white-space:pre;overflow-x:auto;line-height:normal;font-family:Menlo,'DejaVu Sans Mono',consolas,'Courier New',monospace\">Event loop is already running. Applying nest_asyncio patch to allow async execution...\n",
       "</pre>\n"
      ]
     },
     "metadata": {},
     "output_type": "display_data"
    },
    {
     "data": {
      "text/plain": [],
      "text/html": [
       "<pre style=\"white-space:pre;overflow-x:auto;line-height:normal;font-family:Menlo,'DejaVu Sans Mono',consolas,'Courier New',monospace\"></pre>\n"
      ]
     },
     "metadata": {},
     "output_type": "display_data"
    },
    {
     "name": "stdout",
     "output_type": "stream",
     "text": [
      "1.0\n",
      "The score is 1.0 because there are no irrelevancies found in the messages, indicating that all 'actual_output' responses are perfectly relevant to their respective 'inputs'.\n"
     ]
    }
   ],
   "execution_count": 20
  },
  {
   "metadata": {},
   "cell_type": "markdown",
   "source": "### Knowledge Retention",
   "id": "6c949115843d6c95"
  },
  {
   "metadata": {
    "ExecuteTime": {
     "end_time": "2025-01-15T15:32:12.026206Z",
     "start_time": "2025-01-15T15:31:58.105070Z"
    }
   },
   "cell_type": "code",
   "source": [
    "from deepeval.metrics import KnowledgeRetentionMetric\n",
    "\n",
    "metric = KnowledgeRetentionMetric()\n",
    "\n",
    "metric.measure(conversation_test_cases[0])\n",
    "print(metric.score)\n",
    "print(metric.reason)"
   ],
   "id": "a970b79434eff13d",
   "outputs": [
    {
     "data": {
      "text/plain": [
       "Output()"
      ],
      "application/vnd.jupyter.widget-view+json": {
       "version_major": 2,
       "version_minor": 0,
       "model_id": "7d22cae046d446179712f5e42e5e0ee0"
      }
     },
     "metadata": {},
     "output_type": "display_data"
    },
    {
     "data": {
      "text/plain": [
       "Event loop is already running. Applying nest_asyncio patch to allow async execution...\n"
      ],
      "text/html": [
       "<pre style=\"white-space:pre;overflow-x:auto;line-height:normal;font-family:Menlo,'DejaVu Sans Mono',consolas,'Courier New',monospace\">Event loop is already running. Applying nest_asyncio patch to allow async execution...\n",
       "</pre>\n"
      ]
     },
     "metadata": {},
     "output_type": "display_data"
    },
    {
     "data": {
      "text/plain": [],
      "text/html": [
       "<pre style=\"white-space:pre;overflow-x:auto;line-height:normal;font-family:Menlo,'DejaVu Sans Mono',consolas,'Courier New',monospace\"></pre>\n"
      ]
     },
     "metadata": {},
     "output_type": "display_data"
    },
    {
     "name": "stdout",
     "output_type": "stream",
     "text": [
      "1.0\n",
      "The score is 1.00 because there are no attritions indicating forgetfulness or inconsistencies, suggesting perfect retention.\n"
     ]
    }
   ],
   "execution_count": 21
  },
  {
   "metadata": {},
   "cell_type": "markdown",
   "source": "### Conversation Completeness",
   "id": "c7592296b1cef9ac"
  },
  {
   "metadata": {
    "ExecuteTime": {
     "end_time": "2025-01-15T15:32:36.985Z",
     "start_time": "2025-01-15T15:32:32.001150Z"
    }
   },
   "cell_type": "code",
   "source": [
    "from deepeval.metrics import ConversationCompletenessMetric\n",
    "\n",
    "metric = ConversationCompletenessMetric()\n",
    "\n",
    "metric.measure(conversation_test_cases[0])\n",
    "print(metric.score)\n",
    "print(metric.reason)"
   ],
   "id": "682ede95a1e72b92",
   "outputs": [
    {
     "data": {
      "text/plain": [
       "Output()"
      ],
      "application/vnd.jupyter.widget-view+json": {
       "version_major": 2,
       "version_minor": 0,
       "model_id": "d6513b41ed864fae9f3488932710bbff"
      }
     },
     "metadata": {},
     "output_type": "display_data"
    },
    {
     "data": {
      "text/plain": [
       "Event loop is already running. Applying nest_asyncio patch to allow async execution...\n"
      ],
      "text/html": [
       "<pre style=\"white-space:pre;overflow-x:auto;line-height:normal;font-family:Menlo,'DejaVu Sans Mono',consolas,'Courier New',monospace\">Event loop is already running. Applying nest_asyncio patch to allow async execution...\n",
       "</pre>\n"
      ]
     },
     "metadata": {},
     "output_type": "display_data"
    },
    {
     "data": {
      "text/plain": [],
      "text/html": [
       "<pre style=\"white-space:pre;overflow-x:auto;line-height:normal;font-family:Menlo,'DejaVu Sans Mono',consolas,'Courier New',monospace\"></pre>\n"
      ]
     },
     "metadata": {},
     "output_type": "display_data"
    },
    {
     "name": "stdout",
     "output_type": "stream",
     "text": [
      "1.0\n",
      "The score is 1.0 because the LLM response fully satisfies the user intention by providing information on a restaurant that serves either African or Asian food, falls within a moderate price range, and offers a nice outdoor eating experience, without any incompleteness reported.\n"
     ]
    }
   ],
   "execution_count": 22
  },
  {
   "metadata": {},
   "cell_type": "code",
   "outputs": [],
   "execution_count": null,
   "source": "",
   "id": "7d8dc88e6e3a0880"
  }
 ],
 "metadata": {
  "kernelspec": {
   "display_name": "Python 3",
   "language": "python",
   "name": "python3"
  },
  "language_info": {
   "codemirror_mode": {
    "name": "ipython",
    "version": 2
   },
   "file_extension": ".py",
   "mimetype": "text/x-python",
   "name": "python",
   "nbconvert_exporter": "python",
   "pygments_lexer": "ipython2",
   "version": "2.7.6"
  }
 },
 "nbformat": 4,
 "nbformat_minor": 5
}
