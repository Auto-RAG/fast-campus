{
 "cells": [
  {
   "metadata": {},
   "cell_type": "markdown",
   "source": "## Setting",
   "id": "8505af727d09dc85"
  },
  {
   "metadata": {
    "ExecuteTime": {
     "end_time": "2025-01-14T04:58:53.094141Z",
     "start_time": "2025-01-14T04:58:52.394721Z"
    }
   },
   "cell_type": "code",
   "source": [
    "import os\n",
    "\n",
    "import pandas as pd\n",
    "\n",
    "current_dir = os.getcwd()\n",
    "root_dir = os.path.join(current_dir, '..')\n",
    "data_dir = os.path.join(root_dir, 'data', 'retrieval')"
   ],
   "id": "6a520edd4c7f2df1",
   "outputs": [],
   "execution_count": 1
  },
  {
   "metadata": {
    "ExecuteTime": {
     "end_time": "2025-01-14T04:59:05.139492Z",
     "start_time": "2025-01-14T04:59:05.135224Z"
    }
   },
   "cell_type": "code",
   "source": [
    "import nest_asyncio\n",
    "\n",
    "nest_asyncio.apply()"
   ],
   "id": "4643018bce34c69b",
   "outputs": [],
   "execution_count": 2
  },
  {
   "metadata": {
    "ExecuteTime": {
     "end_time": "2025-01-14T04:59:19.594313Z",
     "start_time": "2025-01-14T04:59:19.583103Z"
    }
   },
   "cell_type": "code",
   "source": [
    "from dotenv import load_dotenv\n",
    "\n",
    "load_dotenv()\n",
    "\n",
    "# import os\n",
    "\n",
    "# os.environ[\"OPENAI_API_KEY\"] = \"...\""
   ],
   "id": "5664ac78d4f6f461",
   "outputs": [
    {
     "data": {
      "text/plain": [
       "True"
      ]
     },
     "execution_count": 3,
     "metadata": {},
     "output_type": "execute_result"
    }
   ],
   "execution_count": 3
  },
  {
   "metadata": {},
   "cell_type": "markdown",
   "source": "## Set Data",
   "id": "f8e4a11dc75231eb"
  },
  {
   "metadata": {},
   "cell_type": "markdown",
   "source": "### 1. Get Corpus",
   "id": "4e8d14dafb539dd4"
  },
  {
   "metadata": {
    "ExecuteTime": {
     "end_time": "2025-01-14T05:09:03.980780Z",
     "start_time": "2025-01-14T05:09:03.977645Z"
    }
   },
   "cell_type": "code",
   "source": "corpus_dir = os.path.join(data_dir, 'corpus.parquet')",
   "id": "659f310ef9c05ab0",
   "outputs": [],
   "execution_count": 5
  },
  {
   "metadata": {},
   "cell_type": "markdown",
   "source": "### 2. Get QA",
   "id": "875e9d1d158b3901"
  },
  {
   "metadata": {},
   "cell_type": "code",
   "outputs": [],
   "execution_count": null,
   "source": "qa_dir = os.path.join(data_dir, 'qa.parquet')",
   "id": "ca33364583ddba09"
  },
  {
   "metadata": {},
   "cell_type": "markdown",
   "source": "### 3. Get YAML",
   "id": "5b2192a17715bd4b"
  },
  {
   "metadata": {
    "ExecuteTime": {
     "end_time": "2025-01-14T05:09:38.115898Z",
     "start_time": "2025-01-14T05:09:38.112172Z"
    }
   },
   "cell_type": "code",
   "source": "config_dir = os.path.join(root_dir, 'autorag_project', 'config', 'retrieval', 'retrieval.yaml')",
   "id": "d46cfc2f6834147f",
   "outputs": [],
   "execution_count": 6
  },
  {
   "metadata": {},
   "cell_type": "markdown",
   "source": "## Run AutoRAG",
   "id": "c03568b8ae5bb836"
  },
  {
   "metadata": {},
   "cell_type": "code",
   "outputs": [],
   "execution_count": null,
   "source": [
    "from autorag.evaluator import Evaluator\n",
    "\n",
    "project_dir = os.path.join(root_dir, 'autorag_project', 'retrieval')\n",
    "\n",
    "evaluator = Evaluator(\n",
    "    qa_data_path=qa_dir, \n",
    "    corpus_data_path=corpus_dir,\n",
    "    project_dir=project_dir,\n",
    ")\n",
    "evaluator.start_trial(config_dir)"
   ],
   "id": "5dd22644cd394584"
  },
  {
   "metadata": {},
   "cell_type": "markdown",
   "source": "## 결과 해석",
   "id": "f1f01f302d621f4e"
  },
  {
   "metadata": {},
   "cell_type": "code",
   "outputs": [],
   "execution_count": null,
   "source": "",
   "id": "a077724d13b5ee60"
  }
 ],
 "metadata": {
  "kernelspec": {
   "display_name": "Python 3",
   "language": "python",
   "name": "python3"
  },
  "language_info": {
   "codemirror_mode": {
    "name": "ipython",
    "version": 2
   },
   "file_extension": ".py",
   "mimetype": "text/x-python",
   "name": "python",
   "nbconvert_exporter": "python",
   "pygments_lexer": "ipython2",
   "version": "2.7.6"
  }
 },
 "nbformat": 4,
 "nbformat_minor": 5
}
