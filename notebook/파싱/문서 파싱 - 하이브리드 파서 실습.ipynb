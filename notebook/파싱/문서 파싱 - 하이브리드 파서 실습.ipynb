{
 "cells": [
  {
   "metadata": {},
   "cell_type": "markdown",
   "source": "# Table Hybrid Parse with AutoRAG",
   "id": "e7e406132dadf741"
  },
  {
   "metadata": {},
   "cell_type": "markdown",
   "source": "### Set Environment variables",
   "id": "99a0ad69229b99da"
  },
  {
   "metadata": {
    "ExecuteTime": {
     "end_time": "2024-12-21T07:14:18.946127Z",
     "start_time": "2024-12-21T07:14:18.515315Z"
    }
   },
   "cell_type": "code",
   "source": [
    "import pandas as pd\n",
    "from dotenv import load_dotenv\n",
    "\n",
    "load_dotenv()"
   ],
   "id": "74ce380b6d3aa357",
   "outputs": [
    {
     "data": {
      "text/plain": [
       "True"
      ]
     },
     "execution_count": 1,
     "metadata": {},
     "output_type": "execute_result"
    }
   ],
   "execution_count": 1
  },
  {
   "metadata": {
    "ExecuteTime": {
     "end_time": "2024-12-21T07:14:23.428781Z",
     "start_time": "2024-12-21T07:14:23.424820Z"
    }
   },
   "cell_type": "code",
   "source": [
    "import nest_asyncio\n",
    "\n",
    "nest_asyncio.apply()"
   ],
   "id": "45acd38eabb8a1aa",
   "outputs": [],
   "execution_count": 2
  },
  {
   "metadata": {
    "ExecuteTime": {
     "end_time": "2024-12-21T07:14:42.178679Z",
     "start_time": "2024-12-21T07:14:42.175310Z"
    }
   },
   "cell_type": "code",
   "source": [
    "import os\n",
    "\n",
    "current_dir = os.getcwd()\n",
    "root_dir = os.path.join(current_dir, '..', '..')\n",
    "data_dir = os.path.join(root_dir, 'data', 'parse_single')\n",
    "glob_path = os.path.join(data_dir, '*')"
   ],
   "id": "c6089d44559f2ff3",
   "outputs": [],
   "execution_count": 3
  },
  {
   "metadata": {
    "ExecuteTime": {
     "end_time": "2024-12-21T07:15:03.397Z",
     "start_time": "2024-12-21T07:14:59.172098Z"
    }
   },
   "cell_type": "code",
   "source": [
    "from autorag.parser import Parser\n",
    "\n",
    "project_dir = os.path.join(root_dir, 'autorag_project', 'parse', 'hybrid')\n",
    "parser = Parser(data_path_glob=glob_path, project_dir=project_dir)"
   ],
   "id": "539910469f602bf7",
   "outputs": [
    {
     "data": {
      "text/plain": [
       "\u001B[2;36m[12/21/24 16:15:03]\u001B[0m\u001B[2;36m \u001B[0m\u001B[34mINFO    \u001B[0m \u001B[1m[\u001B[0m__init__.py:\u001B[1;36m100\u001B[0m\u001B[1m]\u001B[0m >> You are using API version of AutoRAG.To use local \u001B]8;id=795477;file:///Users/kimbwook/PycharmProjects/fast-campus/venv/lib/python3.10/site-packages/autorag/__init__.py\u001B\\\u001B[2m__init__.py\u001B[0m\u001B]8;;\u001B\\\u001B[2m:\u001B[0m\u001B]8;id=81104;file:///Users/kimbwook/PycharmProjects/fast-campus/venv/lib/python3.10/site-packages/autorag/__init__.py#100\u001B\\\u001B[2m100\u001B[0m\u001B]8;;\u001B\\\n",
       "\u001B[2;36m                    \u001B[0m         version, run pip install \u001B[32m'AutoRAG\u001B[0m\u001B[32m[\u001B[0m\u001B[32mgpu\u001B[0m\u001B[32m]\u001B[0m\u001B[32m'\u001B[0m                                \u001B[2m               \u001B[0m\n"
      ],
      "text/html": [
       "<pre style=\"white-space:pre;overflow-x:auto;line-height:normal;font-family:Menlo,'DejaVu Sans Mono',consolas,'Courier New',monospace\"><span style=\"color: #7fbfbf; text-decoration-color: #7fbfbf\">[12/21/24 16:15:03] </span><span style=\"color: #000080; text-decoration-color: #000080\">INFO    </span> <span style=\"font-weight: bold\">[</span>__init__.py:<span style=\"color: #008080; text-decoration-color: #008080; font-weight: bold\">100</span><span style=\"font-weight: bold\">]</span> &gt;&gt; You are using API version of AutoRAG.To use local <a href=\"file:///Users/kimbwook/PycharmProjects/fast-campus/venv/lib/python3.10/site-packages/autorag/__init__.py\" target=\"_blank\"><span style=\"color: #7f7f7f; text-decoration-color: #7f7f7f\">__init__.py</span></a><span style=\"color: #7f7f7f; text-decoration-color: #7f7f7f\">:</span><a href=\"file:///Users/kimbwook/PycharmProjects/fast-campus/venv/lib/python3.10/site-packages/autorag/__init__.py#100\" target=\"_blank\"><span style=\"color: #7f7f7f; text-decoration-color: #7f7f7f\">100</span></a>\n",
       "<span style=\"color: #7fbfbf; text-decoration-color: #7fbfbf\">                    </span>         version, run pip install <span style=\"color: #008000; text-decoration-color: #008000\">'AutoRAG[gpu]'</span>                                <span style=\"color: #7f7f7f; text-decoration-color: #7f7f7f\">               </span>\n",
       "</pre>\n"
      ]
     },
     "metadata": {},
     "output_type": "display_data"
    },
    {
     "data": {
      "text/plain": [
       "\u001B[2;36m                   \u001B[0m\u001B[2;36m \u001B[0m\u001B[34mINFO    \u001B[0m \u001B[1m[\u001B[0m__init__.py:\u001B[1;36m128\u001B[0m\u001B[1m]\u001B[0m >> You are using API version of AutoRAG.To use local \u001B]8;id=917164;file:///Users/kimbwook/PycharmProjects/fast-campus/venv/lib/python3.10/site-packages/autorag/__init__.py\u001B\\\u001B[2m__init__.py\u001B[0m\u001B]8;;\u001B\\\u001B[2m:\u001B[0m\u001B]8;id=444762;file:///Users/kimbwook/PycharmProjects/fast-campus/venv/lib/python3.10/site-packages/autorag/__init__.py#128\u001B\\\u001B[2m128\u001B[0m\u001B]8;;\u001B\\\n",
       "\u001B[2;36m                    \u001B[0m         version, run pip install \u001B[32m'AutoRAG\u001B[0m\u001B[32m[\u001B[0m\u001B[32mgpu\u001B[0m\u001B[32m]\u001B[0m\u001B[32m'\u001B[0m                                \u001B[2m               \u001B[0m\n"
      ],
      "text/html": [
       "<pre style=\"white-space:pre;overflow-x:auto;line-height:normal;font-family:Menlo,'DejaVu Sans Mono',consolas,'Courier New',monospace\"><span style=\"color: #7fbfbf; text-decoration-color: #7fbfbf\">                    </span><span style=\"color: #000080; text-decoration-color: #000080\">INFO    </span> <span style=\"font-weight: bold\">[</span>__init__.py:<span style=\"color: #008080; text-decoration-color: #008080; font-weight: bold\">128</span><span style=\"font-weight: bold\">]</span> &gt;&gt; You are using API version of AutoRAG.To use local <a href=\"file:///Users/kimbwook/PycharmProjects/fast-campus/venv/lib/python3.10/site-packages/autorag/__init__.py\" target=\"_blank\"><span style=\"color: #7f7f7f; text-decoration-color: #7f7f7f\">__init__.py</span></a><span style=\"color: #7f7f7f; text-decoration-color: #7f7f7f\">:</span><a href=\"file:///Users/kimbwook/PycharmProjects/fast-campus/venv/lib/python3.10/site-packages/autorag/__init__.py#128\" target=\"_blank\"><span style=\"color: #7f7f7f; text-decoration-color: #7f7f7f\">128</span></a>\n",
       "<span style=\"color: #7fbfbf; text-decoration-color: #7fbfbf\">                    </span>         version, run pip install <span style=\"color: #008000; text-decoration-color: #008000\">'AutoRAG[gpu]'</span>                                <span style=\"color: #7f7f7f; text-decoration-color: #7f7f7f\">               </span>\n",
       "</pre>\n"
      ]
     },
     "metadata": {},
     "output_type": "display_data"
    }
   ],
   "execution_count": 4
  },
  {
   "metadata": {},
   "cell_type": "markdown",
   "source": [
    "- 표가 있는 경우: LlamaParse\n",
    "\n",
    "- 표가 없는 페이지: PDFPlumber\n",
    "\n",
    "+ Page 별로 나누기: PDFPlumber\n",
    "+ Table Detection: PyPDF2"
   ],
   "id": "6de257bc65204d61"
  },
  {
   "metadata": {
    "ExecuteTime": {
     "end_time": "2024-12-21T07:20:22.891788Z",
     "start_time": "2024-12-21T07:19:16.470327Z"
    }
   },
   "cell_type": "code",
   "source": [
    "yaml_path = os.path.join(root_dir, 'config', 'parse', 'hybrid_parse.yaml')\n",
    "parser.start_parsing(yaml_path)"
   ],
   "id": "fd18b3faf3f44a77",
   "outputs": [
    {
     "data": {
      "text/plain": [
       "\u001B[2;36m[12/21/24 16:19:16]\u001B[0m\u001B[2;36m \u001B[0m\u001B[34mINFO    \u001B[0m \u001B[1m[\u001B[0mparser.py:\u001B[1;36m29\u001B[0m\u001B[1m]\u001B[0m >> Parsing Start\u001B[33m...\u001B[0m                                        \u001B]8;id=682834;file:///Users/kimbwook/PycharmProjects/fast-campus/venv/lib/python3.10/site-packages/autorag/parser.py\u001B\\\u001B[2mparser.py\u001B[0m\u001B]8;;\u001B\\\u001B[2m:\u001B[0m\u001B]8;id=437967;file:///Users/kimbwook/PycharmProjects/fast-campus/venv/lib/python3.10/site-packages/autorag/parser.py#29\u001B\\\u001B[2m29\u001B[0m\u001B]8;;\u001B\\\n"
      ],
      "text/html": [
       "<pre style=\"white-space:pre;overflow-x:auto;line-height:normal;font-family:Menlo,'DejaVu Sans Mono',consolas,'Courier New',monospace\"><span style=\"color: #7fbfbf; text-decoration-color: #7fbfbf\">[12/21/24 16:19:16] </span><span style=\"color: #000080; text-decoration-color: #000080\">INFO    </span> <span style=\"font-weight: bold\">[</span>parser.py:<span style=\"color: #008080; text-decoration-color: #008080; font-weight: bold\">29</span><span style=\"font-weight: bold\">]</span> &gt;&gt; Parsing Start<span style=\"color: #808000; text-decoration-color: #808000\">...</span>                                        <a href=\"file:///Users/kimbwook/PycharmProjects/fast-campus/venv/lib/python3.10/site-packages/autorag/parser.py\" target=\"_blank\"><span style=\"color: #7f7f7f; text-decoration-color: #7f7f7f\">parser.py</span></a><span style=\"color: #7f7f7f; text-decoration-color: #7f7f7f\">:</span><a href=\"file:///Users/kimbwook/PycharmProjects/fast-campus/venv/lib/python3.10/site-packages/autorag/parser.py#29\" target=\"_blank\"><span style=\"color: #7f7f7f; text-decoration-color: #7f7f7f\">29</span></a>\n",
       "</pre>\n"
      ]
     },
     "metadata": {},
     "output_type": "display_data"
    },
    {
     "data": {
      "text/plain": [
       "\u001B[2;36m                   \u001B[0m\u001B[2;36m \u001B[0m\u001B[34mINFO    \u001B[0m \u001B[1m[\u001B[0mbase.py:\u001B[1;36m23\u001B[0m\u001B[1m]\u001B[0m >> Running parser - table_hybrid_parse module\u001B[33m...\u001B[0m               \u001B]8;id=857583;file:///Users/kimbwook/PycharmProjects/fast-campus/venv/lib/python3.10/site-packages/autorag/data/parse/base.py\u001B\\\u001B[2mbase.py\u001B[0m\u001B]8;;\u001B\\\u001B[2m:\u001B[0m\u001B]8;id=203062;file:///Users/kimbwook/PycharmProjects/fast-campus/venv/lib/python3.10/site-packages/autorag/data/parse/base.py#23\u001B\\\u001B[2m23\u001B[0m\u001B]8;;\u001B\\\n"
      ],
      "text/html": [
       "<pre style=\"white-space:pre;overflow-x:auto;line-height:normal;font-family:Menlo,'DejaVu Sans Mono',consolas,'Courier New',monospace\"><span style=\"color: #7fbfbf; text-decoration-color: #7fbfbf\">                    </span><span style=\"color: #000080; text-decoration-color: #000080\">INFO    </span> <span style=\"font-weight: bold\">[</span>base.py:<span style=\"color: #008080; text-decoration-color: #008080; font-weight: bold\">23</span><span style=\"font-weight: bold\">]</span> &gt;&gt; Running parser - table_hybrid_parse module<span style=\"color: #808000; text-decoration-color: #808000\">...</span>               <a href=\"file:///Users/kimbwook/PycharmProjects/fast-campus/venv/lib/python3.10/site-packages/autorag/data/parse/base.py\" target=\"_blank\"><span style=\"color: #7f7f7f; text-decoration-color: #7f7f7f\">base.py</span></a><span style=\"color: #7f7f7f; text-decoration-color: #7f7f7f\">:</span><a href=\"file:///Users/kimbwook/PycharmProjects/fast-campus/venv/lib/python3.10/site-packages/autorag/data/parse/base.py#23\" target=\"_blank\"><span style=\"color: #7f7f7f; text-decoration-color: #7f7f7f\">23</span></a>\n",
       "</pre>\n"
      ]
     },
     "metadata": {},
     "output_type": "display_data"
    },
    {
     "data": {
      "text/plain": [
       "\u001B[2;36m[12/21/24 16:19:29]\u001B[0m\u001B[2;36m \u001B[0m\u001B[34mINFO    \u001B[0m \u001B[1m[\u001B[0m_client.py:\u001B[1;36m1773\u001B[0m\u001B[1m]\u001B[0m >> HTTP Request: \u001B[1;33mPOST\u001B[0m                                \u001B]8;id=388456;file:///Users/kimbwook/PycharmProjects/fast-campus/venv/lib/python3.10/site-packages/httpx/_client.py\u001B\\\u001B[2m_client.py\u001B[0m\u001B]8;;\u001B\\\u001B[2m:\u001B[0m\u001B]8;id=843106;file:///Users/kimbwook/PycharmProjects/fast-campus/venv/lib/python3.10/site-packages/httpx/_client.py#1773\u001B\\\u001B[2m1773\u001B[0m\u001B]8;;\u001B\\\n",
       "\u001B[2;36m                    \u001B[0m         \u001B[4;94mhttps://api.cloud.llamaindex.ai/api/parsing/upload\u001B[0m \u001B[32m\"HTTP/1.1 200 OK\"\u001B[0m   \u001B[2m               \u001B[0m\n"
      ],
      "text/html": [
       "<pre style=\"white-space:pre;overflow-x:auto;line-height:normal;font-family:Menlo,'DejaVu Sans Mono',consolas,'Courier New',monospace\"><span style=\"color: #7fbfbf; text-decoration-color: #7fbfbf\">[12/21/24 16:19:29] </span><span style=\"color: #000080; text-decoration-color: #000080\">INFO    </span> <span style=\"font-weight: bold\">[</span>_client.py:<span style=\"color: #008080; text-decoration-color: #008080; font-weight: bold\">1773</span><span style=\"font-weight: bold\">]</span> &gt;&gt; HTTP Request: <span style=\"color: #808000; text-decoration-color: #808000; font-weight: bold\">POST</span>                                <a href=\"file:///Users/kimbwook/PycharmProjects/fast-campus/venv/lib/python3.10/site-packages/httpx/_client.py\" target=\"_blank\"><span style=\"color: #7f7f7f; text-decoration-color: #7f7f7f\">_client.py</span></a><span style=\"color: #7f7f7f; text-decoration-color: #7f7f7f\">:</span><a href=\"file:///Users/kimbwook/PycharmProjects/fast-campus/venv/lib/python3.10/site-packages/httpx/_client.py#1773\" target=\"_blank\"><span style=\"color: #7f7f7f; text-decoration-color: #7f7f7f\">1773</span></a>\n",
       "<span style=\"color: #7fbfbf; text-decoration-color: #7fbfbf\">                    </span>         <span style=\"color: #0000ff; text-decoration-color: #0000ff; text-decoration: underline\">https://api.cloud.llamaindex.ai/api/parsing/upload</span> <span style=\"color: #008000; text-decoration-color: #008000\">\"HTTP/1.1 200 OK\"</span>   <span style=\"color: #7f7f7f; text-decoration-color: #7f7f7f\">               </span>\n",
       "</pre>\n"
      ]
     },
     "metadata": {},
     "output_type": "display_data"
    },
    {
     "name": "stdout",
     "output_type": "stream",
     "text": [
      "Started parsing the file under job_id bef76ef8-e309-40bd-8b4e-ad3ceff2d9ee\n"
     ]
    },
    {
     "data": {
      "text/plain": [
       "\u001B[2;36m                   \u001B[0m\u001B[2;36m \u001B[0m\u001B[34mINFO    \u001B[0m \u001B[1m[\u001B[0m_client.py:\u001B[1;36m1773\u001B[0m\u001B[1m]\u001B[0m >> HTTP Request: \u001B[1;33mPOST\u001B[0m                                \u001B]8;id=469850;file:///Users/kimbwook/PycharmProjects/fast-campus/venv/lib/python3.10/site-packages/httpx/_client.py\u001B\\\u001B[2m_client.py\u001B[0m\u001B]8;;\u001B\\\u001B[2m:\u001B[0m\u001B]8;id=701409;file:///Users/kimbwook/PycharmProjects/fast-campus/venv/lib/python3.10/site-packages/httpx/_client.py#1773\u001B\\\u001B[2m1773\u001B[0m\u001B]8;;\u001B\\\n",
       "\u001B[2;36m                    \u001B[0m         \u001B[4;94mhttps://api.cloud.llamaindex.ai/api/parsing/upload\u001B[0m \u001B[32m\"HTTP/1.1 200 OK\"\u001B[0m   \u001B[2m               \u001B[0m\n"
      ],
      "text/html": [
       "<pre style=\"white-space:pre;overflow-x:auto;line-height:normal;font-family:Menlo,'DejaVu Sans Mono',consolas,'Courier New',monospace\"><span style=\"color: #7fbfbf; text-decoration-color: #7fbfbf\">                    </span><span style=\"color: #000080; text-decoration-color: #000080\">INFO    </span> <span style=\"font-weight: bold\">[</span>_client.py:<span style=\"color: #008080; text-decoration-color: #008080; font-weight: bold\">1773</span><span style=\"font-weight: bold\">]</span> &gt;&gt; HTTP Request: <span style=\"color: #808000; text-decoration-color: #808000; font-weight: bold\">POST</span>                                <a href=\"file:///Users/kimbwook/PycharmProjects/fast-campus/venv/lib/python3.10/site-packages/httpx/_client.py\" target=\"_blank\"><span style=\"color: #7f7f7f; text-decoration-color: #7f7f7f\">_client.py</span></a><span style=\"color: #7f7f7f; text-decoration-color: #7f7f7f\">:</span><a href=\"file:///Users/kimbwook/PycharmProjects/fast-campus/venv/lib/python3.10/site-packages/httpx/_client.py#1773\" target=\"_blank\"><span style=\"color: #7f7f7f; text-decoration-color: #7f7f7f\">1773</span></a>\n",
       "<span style=\"color: #7fbfbf; text-decoration-color: #7fbfbf\">                    </span>         <span style=\"color: #0000ff; text-decoration-color: #0000ff; text-decoration: underline\">https://api.cloud.llamaindex.ai/api/parsing/upload</span> <span style=\"color: #008000; text-decoration-color: #008000\">\"HTTP/1.1 200 OK\"</span>   <span style=\"color: #7f7f7f; text-decoration-color: #7f7f7f\">               </span>\n",
       "</pre>\n"
      ]
     },
     "metadata": {},
     "output_type": "display_data"
    },
    {
     "name": "stdout",
     "output_type": "stream",
     "text": [
      "Started parsing the file under job_id 75471825-60cd-42a0-b34d-b1c240f96dfb\n"
     ]
    },
    {
     "data": {
      "text/plain": [
       "\u001B[2;36m                   \u001B[0m\u001B[2;36m \u001B[0m\u001B[34mINFO    \u001B[0m \u001B[1m[\u001B[0m_client.py:\u001B[1;36m1773\u001B[0m\u001B[1m]\u001B[0m >> HTTP Request: \u001B[1;33mPOST\u001B[0m                                \u001B]8;id=983741;file:///Users/kimbwook/PycharmProjects/fast-campus/venv/lib/python3.10/site-packages/httpx/_client.py\u001B\\\u001B[2m_client.py\u001B[0m\u001B]8;;\u001B\\\u001B[2m:\u001B[0m\u001B]8;id=626641;file:///Users/kimbwook/PycharmProjects/fast-campus/venv/lib/python3.10/site-packages/httpx/_client.py#1773\u001B\\\u001B[2m1773\u001B[0m\u001B]8;;\u001B\\\n",
       "\u001B[2;36m                    \u001B[0m         \u001B[4;94mhttps://api.cloud.llamaindex.ai/api/parsing/upload\u001B[0m \u001B[32m\"HTTP/1.1 200 OK\"\u001B[0m   \u001B[2m               \u001B[0m\n"
      ],
      "text/html": [
       "<pre style=\"white-space:pre;overflow-x:auto;line-height:normal;font-family:Menlo,'DejaVu Sans Mono',consolas,'Courier New',monospace\"><span style=\"color: #7fbfbf; text-decoration-color: #7fbfbf\">                    </span><span style=\"color: #000080; text-decoration-color: #000080\">INFO    </span> <span style=\"font-weight: bold\">[</span>_client.py:<span style=\"color: #008080; text-decoration-color: #008080; font-weight: bold\">1773</span><span style=\"font-weight: bold\">]</span> &gt;&gt; HTTP Request: <span style=\"color: #808000; text-decoration-color: #808000; font-weight: bold\">POST</span>                                <a href=\"file:///Users/kimbwook/PycharmProjects/fast-campus/venv/lib/python3.10/site-packages/httpx/_client.py\" target=\"_blank\"><span style=\"color: #7f7f7f; text-decoration-color: #7f7f7f\">_client.py</span></a><span style=\"color: #7f7f7f; text-decoration-color: #7f7f7f\">:</span><a href=\"file:///Users/kimbwook/PycharmProjects/fast-campus/venv/lib/python3.10/site-packages/httpx/_client.py#1773\" target=\"_blank\"><span style=\"color: #7f7f7f; text-decoration-color: #7f7f7f\">1773</span></a>\n",
       "<span style=\"color: #7fbfbf; text-decoration-color: #7fbfbf\">                    </span>         <span style=\"color: #0000ff; text-decoration-color: #0000ff; text-decoration: underline\">https://api.cloud.llamaindex.ai/api/parsing/upload</span> <span style=\"color: #008000; text-decoration-color: #008000\">\"HTTP/1.1 200 OK\"</span>   <span style=\"color: #7f7f7f; text-decoration-color: #7f7f7f\">               </span>\n",
       "</pre>\n"
      ]
     },
     "metadata": {},
     "output_type": "display_data"
    },
    {
     "name": "stdout",
     "output_type": "stream",
     "text": [
      "Started parsing the file under job_id 40f8157f-cc8b-4629-b57e-7deb3d35d2c8\n"
     ]
    },
    {
     "data": {
      "text/plain": [
       "\u001B[2;36m[12/21/24 16:19:30]\u001B[0m\u001B[2;36m \u001B[0m\u001B[34mINFO    \u001B[0m \u001B[1m[\u001B[0m_client.py:\u001B[1;36m1773\u001B[0m\u001B[1m]\u001B[0m >> HTTP Request: \u001B[1;33mPOST\u001B[0m                                \u001B]8;id=484725;file:///Users/kimbwook/PycharmProjects/fast-campus/venv/lib/python3.10/site-packages/httpx/_client.py\u001B\\\u001B[2m_client.py\u001B[0m\u001B]8;;\u001B\\\u001B[2m:\u001B[0m\u001B]8;id=584084;file:///Users/kimbwook/PycharmProjects/fast-campus/venv/lib/python3.10/site-packages/httpx/_client.py#1773\u001B\\\u001B[2m1773\u001B[0m\u001B]8;;\u001B\\\n",
       "\u001B[2;36m                    \u001B[0m         \u001B[4;94mhttps://api.cloud.llamaindex.ai/api/parsing/upload\u001B[0m \u001B[32m\"HTTP/1.1 200 OK\"\u001B[0m   \u001B[2m               \u001B[0m\n"
      ],
      "text/html": [
       "<pre style=\"white-space:pre;overflow-x:auto;line-height:normal;font-family:Menlo,'DejaVu Sans Mono',consolas,'Courier New',monospace\"><span style=\"color: #7fbfbf; text-decoration-color: #7fbfbf\">[12/21/24 16:19:30] </span><span style=\"color: #000080; text-decoration-color: #000080\">INFO    </span> <span style=\"font-weight: bold\">[</span>_client.py:<span style=\"color: #008080; text-decoration-color: #008080; font-weight: bold\">1773</span><span style=\"font-weight: bold\">]</span> &gt;&gt; HTTP Request: <span style=\"color: #808000; text-decoration-color: #808000; font-weight: bold\">POST</span>                                <a href=\"file:///Users/kimbwook/PycharmProjects/fast-campus/venv/lib/python3.10/site-packages/httpx/_client.py\" target=\"_blank\"><span style=\"color: #7f7f7f; text-decoration-color: #7f7f7f\">_client.py</span></a><span style=\"color: #7f7f7f; text-decoration-color: #7f7f7f\">:</span><a href=\"file:///Users/kimbwook/PycharmProjects/fast-campus/venv/lib/python3.10/site-packages/httpx/_client.py#1773\" target=\"_blank\"><span style=\"color: #7f7f7f; text-decoration-color: #7f7f7f\">1773</span></a>\n",
       "<span style=\"color: #7fbfbf; text-decoration-color: #7fbfbf\">                    </span>         <span style=\"color: #0000ff; text-decoration-color: #0000ff; text-decoration: underline\">https://api.cloud.llamaindex.ai/api/parsing/upload</span> <span style=\"color: #008000; text-decoration-color: #008000\">\"HTTP/1.1 200 OK\"</span>   <span style=\"color: #7f7f7f; text-decoration-color: #7f7f7f\">               </span>\n",
       "</pre>\n"
      ]
     },
     "metadata": {},
     "output_type": "display_data"
    },
    {
     "name": "stdout",
     "output_type": "stream",
     "text": [
      "Started parsing the file under job_id 3bc6e83d-0f9a-4a08-93b4-f30fbd99d127\n"
     ]
    },
    {
     "data": {
      "text/plain": [
       "\u001B[2;36m                   \u001B[0m\u001B[2;36m \u001B[0m\u001B[34mINFO    \u001B[0m \u001B[1m[\u001B[0m_client.py:\u001B[1;36m1773\u001B[0m\u001B[1m]\u001B[0m >> HTTP Request: \u001B[1;33mPOST\u001B[0m                                \u001B]8;id=734048;file:///Users/kimbwook/PycharmProjects/fast-campus/venv/lib/python3.10/site-packages/httpx/_client.py\u001B\\\u001B[2m_client.py\u001B[0m\u001B]8;;\u001B\\\u001B[2m:\u001B[0m\u001B]8;id=138605;file:///Users/kimbwook/PycharmProjects/fast-campus/venv/lib/python3.10/site-packages/httpx/_client.py#1773\u001B\\\u001B[2m1773\u001B[0m\u001B]8;;\u001B\\\n",
       "\u001B[2;36m                    \u001B[0m         \u001B[4;94mhttps://api.cloud.llamaindex.ai/api/parsing/upload\u001B[0m \u001B[32m\"HTTP/1.1 200 OK\"\u001B[0m   \u001B[2m               \u001B[0m\n"
      ],
      "text/html": [
       "<pre style=\"white-space:pre;overflow-x:auto;line-height:normal;font-family:Menlo,'DejaVu Sans Mono',consolas,'Courier New',monospace\"><span style=\"color: #7fbfbf; text-decoration-color: #7fbfbf\">                    </span><span style=\"color: #000080; text-decoration-color: #000080\">INFO    </span> <span style=\"font-weight: bold\">[</span>_client.py:<span style=\"color: #008080; text-decoration-color: #008080; font-weight: bold\">1773</span><span style=\"font-weight: bold\">]</span> &gt;&gt; HTTP Request: <span style=\"color: #808000; text-decoration-color: #808000; font-weight: bold\">POST</span>                                <a href=\"file:///Users/kimbwook/PycharmProjects/fast-campus/venv/lib/python3.10/site-packages/httpx/_client.py\" target=\"_blank\"><span style=\"color: #7f7f7f; text-decoration-color: #7f7f7f\">_client.py</span></a><span style=\"color: #7f7f7f; text-decoration-color: #7f7f7f\">:</span><a href=\"file:///Users/kimbwook/PycharmProjects/fast-campus/venv/lib/python3.10/site-packages/httpx/_client.py#1773\" target=\"_blank\"><span style=\"color: #7f7f7f; text-decoration-color: #7f7f7f\">1773</span></a>\n",
       "<span style=\"color: #7fbfbf; text-decoration-color: #7fbfbf\">                    </span>         <span style=\"color: #0000ff; text-decoration-color: #0000ff; text-decoration: underline\">https://api.cloud.llamaindex.ai/api/parsing/upload</span> <span style=\"color: #008000; text-decoration-color: #008000\">\"HTTP/1.1 200 OK\"</span>   <span style=\"color: #7f7f7f; text-decoration-color: #7f7f7f\">               </span>\n",
       "</pre>\n"
      ]
     },
     "metadata": {},
     "output_type": "display_data"
    },
    {
     "name": "stdout",
     "output_type": "stream",
     "text": [
      "Started parsing the file under job_id 2b1bc2f9-1862-41b5-8d6c-e92953b0754b\n"
     ]
    },
    {
     "data": {
      "text/plain": [
       "\u001B[2;36m                   \u001B[0m\u001B[2;36m \u001B[0m\u001B[34mINFO    \u001B[0m \u001B[1m[\u001B[0m_client.py:\u001B[1;36m1773\u001B[0m\u001B[1m]\u001B[0m >> HTTP Request: \u001B[1;33mPOST\u001B[0m                                \u001B]8;id=205909;file:///Users/kimbwook/PycharmProjects/fast-campus/venv/lib/python3.10/site-packages/httpx/_client.py\u001B\\\u001B[2m_client.py\u001B[0m\u001B]8;;\u001B\\\u001B[2m:\u001B[0m\u001B]8;id=731374;file:///Users/kimbwook/PycharmProjects/fast-campus/venv/lib/python3.10/site-packages/httpx/_client.py#1773\u001B\\\u001B[2m1773\u001B[0m\u001B]8;;\u001B\\\n",
       "\u001B[2;36m                    \u001B[0m         \u001B[4;94mhttps://api.cloud.llamaindex.ai/api/parsing/upload\u001B[0m \u001B[32m\"HTTP/1.1 200 OK\"\u001B[0m   \u001B[2m               \u001B[0m\n"
      ],
      "text/html": [
       "<pre style=\"white-space:pre;overflow-x:auto;line-height:normal;font-family:Menlo,'DejaVu Sans Mono',consolas,'Courier New',monospace\"><span style=\"color: #7fbfbf; text-decoration-color: #7fbfbf\">                    </span><span style=\"color: #000080; text-decoration-color: #000080\">INFO    </span> <span style=\"font-weight: bold\">[</span>_client.py:<span style=\"color: #008080; text-decoration-color: #008080; font-weight: bold\">1773</span><span style=\"font-weight: bold\">]</span> &gt;&gt; HTTP Request: <span style=\"color: #808000; text-decoration-color: #808000; font-weight: bold\">POST</span>                                <a href=\"file:///Users/kimbwook/PycharmProjects/fast-campus/venv/lib/python3.10/site-packages/httpx/_client.py\" target=\"_blank\"><span style=\"color: #7f7f7f; text-decoration-color: #7f7f7f\">_client.py</span></a><span style=\"color: #7f7f7f; text-decoration-color: #7f7f7f\">:</span><a href=\"file:///Users/kimbwook/PycharmProjects/fast-campus/venv/lib/python3.10/site-packages/httpx/_client.py#1773\" target=\"_blank\"><span style=\"color: #7f7f7f; text-decoration-color: #7f7f7f\">1773</span></a>\n",
       "<span style=\"color: #7fbfbf; text-decoration-color: #7fbfbf\">                    </span>         <span style=\"color: #0000ff; text-decoration-color: #0000ff; text-decoration: underline\">https://api.cloud.llamaindex.ai/api/parsing/upload</span> <span style=\"color: #008000; text-decoration-color: #008000\">\"HTTP/1.1 200 OK\"</span>   <span style=\"color: #7f7f7f; text-decoration-color: #7f7f7f\">               </span>\n",
       "</pre>\n"
      ]
     },
     "metadata": {},
     "output_type": "display_data"
    },
    {
     "name": "stdout",
     "output_type": "stream",
     "text": [
      "Started parsing the file under job_id 63360f54-f940-4901-bf92-04ad1dd47ca0\n"
     ]
    },
    {
     "data": {
      "text/plain": [
       "\u001B[2;36m                   \u001B[0m\u001B[2;36m \u001B[0m\u001B[34mINFO    \u001B[0m \u001B[1m[\u001B[0m_client.py:\u001B[1;36m1773\u001B[0m\u001B[1m]\u001B[0m >> HTTP Request: \u001B[1;33mPOST\u001B[0m                                \u001B]8;id=663268;file:///Users/kimbwook/PycharmProjects/fast-campus/venv/lib/python3.10/site-packages/httpx/_client.py\u001B\\\u001B[2m_client.py\u001B[0m\u001B]8;;\u001B\\\u001B[2m:\u001B[0m\u001B]8;id=924476;file:///Users/kimbwook/PycharmProjects/fast-campus/venv/lib/python3.10/site-packages/httpx/_client.py#1773\u001B\\\u001B[2m1773\u001B[0m\u001B]8;;\u001B\\\n",
       "\u001B[2;36m                    \u001B[0m         \u001B[4;94mhttps://api.cloud.llamaindex.ai/api/parsing/upload\u001B[0m \u001B[32m\"HTTP/1.1 200 OK\"\u001B[0m   \u001B[2m               \u001B[0m\n"
      ],
      "text/html": [
       "<pre style=\"white-space:pre;overflow-x:auto;line-height:normal;font-family:Menlo,'DejaVu Sans Mono',consolas,'Courier New',monospace\"><span style=\"color: #7fbfbf; text-decoration-color: #7fbfbf\">                    </span><span style=\"color: #000080; text-decoration-color: #000080\">INFO    </span> <span style=\"font-weight: bold\">[</span>_client.py:<span style=\"color: #008080; text-decoration-color: #008080; font-weight: bold\">1773</span><span style=\"font-weight: bold\">]</span> &gt;&gt; HTTP Request: <span style=\"color: #808000; text-decoration-color: #808000; font-weight: bold\">POST</span>                                <a href=\"file:///Users/kimbwook/PycharmProjects/fast-campus/venv/lib/python3.10/site-packages/httpx/_client.py\" target=\"_blank\"><span style=\"color: #7f7f7f; text-decoration-color: #7f7f7f\">_client.py</span></a><span style=\"color: #7f7f7f; text-decoration-color: #7f7f7f\">:</span><a href=\"file:///Users/kimbwook/PycharmProjects/fast-campus/venv/lib/python3.10/site-packages/httpx/_client.py#1773\" target=\"_blank\"><span style=\"color: #7f7f7f; text-decoration-color: #7f7f7f\">1773</span></a>\n",
       "<span style=\"color: #7fbfbf; text-decoration-color: #7fbfbf\">                    </span>         <span style=\"color: #0000ff; text-decoration-color: #0000ff; text-decoration: underline\">https://api.cloud.llamaindex.ai/api/parsing/upload</span> <span style=\"color: #008000; text-decoration-color: #008000\">\"HTTP/1.1 200 OK\"</span>   <span style=\"color: #7f7f7f; text-decoration-color: #7f7f7f\">               </span>\n",
       "</pre>\n"
      ]
     },
     "metadata": {},
     "output_type": "display_data"
    },
    {
     "name": "stdout",
     "output_type": "stream",
     "text": [
      "Started parsing the file under job_id de767d33-547e-4518-b836-5ce93eb56fc3\n"
     ]
    },
    {
     "data": {
      "text/plain": [
       "\u001B[2;36m                   \u001B[0m\u001B[2;36m \u001B[0m\u001B[34mINFO    \u001B[0m \u001B[1m[\u001B[0m_client.py:\u001B[1;36m1773\u001B[0m\u001B[1m]\u001B[0m >> HTTP Request: \u001B[1;33mPOST\u001B[0m                                \u001B]8;id=447433;file:///Users/kimbwook/PycharmProjects/fast-campus/venv/lib/python3.10/site-packages/httpx/_client.py\u001B\\\u001B[2m_client.py\u001B[0m\u001B]8;;\u001B\\\u001B[2m:\u001B[0m\u001B]8;id=253369;file:///Users/kimbwook/PycharmProjects/fast-campus/venv/lib/python3.10/site-packages/httpx/_client.py#1773\u001B\\\u001B[2m1773\u001B[0m\u001B]8;;\u001B\\\n",
       "\u001B[2;36m                    \u001B[0m         \u001B[4;94mhttps://api.cloud.llamaindex.ai/api/parsing/upload\u001B[0m \u001B[32m\"HTTP/1.1 200 OK\"\u001B[0m   \u001B[2m               \u001B[0m\n"
      ],
      "text/html": [
       "<pre style=\"white-space:pre;overflow-x:auto;line-height:normal;font-family:Menlo,'DejaVu Sans Mono',consolas,'Courier New',monospace\"><span style=\"color: #7fbfbf; text-decoration-color: #7fbfbf\">                    </span><span style=\"color: #000080; text-decoration-color: #000080\">INFO    </span> <span style=\"font-weight: bold\">[</span>_client.py:<span style=\"color: #008080; text-decoration-color: #008080; font-weight: bold\">1773</span><span style=\"font-weight: bold\">]</span> &gt;&gt; HTTP Request: <span style=\"color: #808000; text-decoration-color: #808000; font-weight: bold\">POST</span>                                <a href=\"file:///Users/kimbwook/PycharmProjects/fast-campus/venv/lib/python3.10/site-packages/httpx/_client.py\" target=\"_blank\"><span style=\"color: #7f7f7f; text-decoration-color: #7f7f7f\">_client.py</span></a><span style=\"color: #7f7f7f; text-decoration-color: #7f7f7f\">:</span><a href=\"file:///Users/kimbwook/PycharmProjects/fast-campus/venv/lib/python3.10/site-packages/httpx/_client.py#1773\" target=\"_blank\"><span style=\"color: #7f7f7f; text-decoration-color: #7f7f7f\">1773</span></a>\n",
       "<span style=\"color: #7fbfbf; text-decoration-color: #7fbfbf\">                    </span>         <span style=\"color: #0000ff; text-decoration-color: #0000ff; text-decoration: underline\">https://api.cloud.llamaindex.ai/api/parsing/upload</span> <span style=\"color: #008000; text-decoration-color: #008000\">\"HTTP/1.1 200 OK\"</span>   <span style=\"color: #7f7f7f; text-decoration-color: #7f7f7f\">               </span>\n",
       "</pre>\n"
      ]
     },
     "metadata": {},
     "output_type": "display_data"
    },
    {
     "name": "stdout",
     "output_type": "stream",
     "text": [
      "Started parsing the file under job_id 42e204d1-4fd0-42bc-91a9-3aa68af5a739\n"
     ]
    },
    {
     "data": {
      "text/plain": [
       "\u001B[2;36m[12/21/24 16:19:31]\u001B[0m\u001B[2;36m \u001B[0m\u001B[34mINFO    \u001B[0m \u001B[1m[\u001B[0m_client.py:\u001B[1;36m1773\u001B[0m\u001B[1m]\u001B[0m >> HTTP Request: \u001B[1;33mGET\u001B[0m                                 \u001B]8;id=337623;file:///Users/kimbwook/PycharmProjects/fast-campus/venv/lib/python3.10/site-packages/httpx/_client.py\u001B\\\u001B[2m_client.py\u001B[0m\u001B]8;;\u001B\\\u001B[2m:\u001B[0m\u001B]8;id=170504;file:///Users/kimbwook/PycharmProjects/fast-campus/venv/lib/python3.10/site-packages/httpx/_client.py#1773\u001B\\\u001B[2m1773\u001B[0m\u001B]8;;\u001B\\\n",
       "\u001B[2;36m                    \u001B[0m         \u001B[4;94mhttps://api.cloud.llamaindex.ai/api/parsing/job/75471825-60cd-42a0-b34\u001B[0m \u001B[2m               \u001B[0m\n",
       "\u001B[2;36m                    \u001B[0m         \u001B[4;94md-b1c240f96dfb\u001B[0m \u001B[32m\"HTTP/1.1 200 OK\"\u001B[0m                                       \u001B[2m               \u001B[0m\n"
      ],
      "text/html": [
       "<pre style=\"white-space:pre;overflow-x:auto;line-height:normal;font-family:Menlo,'DejaVu Sans Mono',consolas,'Courier New',monospace\"><span style=\"color: #7fbfbf; text-decoration-color: #7fbfbf\">[12/21/24 16:19:31] </span><span style=\"color: #000080; text-decoration-color: #000080\">INFO    </span> <span style=\"font-weight: bold\">[</span>_client.py:<span style=\"color: #008080; text-decoration-color: #008080; font-weight: bold\">1773</span><span style=\"font-weight: bold\">]</span> &gt;&gt; HTTP Request: <span style=\"color: #808000; text-decoration-color: #808000; font-weight: bold\">GET</span>                                 <a href=\"file:///Users/kimbwook/PycharmProjects/fast-campus/venv/lib/python3.10/site-packages/httpx/_client.py\" target=\"_blank\"><span style=\"color: #7f7f7f; text-decoration-color: #7f7f7f\">_client.py</span></a><span style=\"color: #7f7f7f; text-decoration-color: #7f7f7f\">:</span><a href=\"file:///Users/kimbwook/PycharmProjects/fast-campus/venv/lib/python3.10/site-packages/httpx/_client.py#1773\" target=\"_blank\"><span style=\"color: #7f7f7f; text-decoration-color: #7f7f7f\">1773</span></a>\n",
       "<span style=\"color: #7fbfbf; text-decoration-color: #7fbfbf\">                    </span>         <span style=\"color: #0000ff; text-decoration-color: #0000ff; text-decoration: underline\">https://api.cloud.llamaindex.ai/api/parsing/job/75471825-60cd-42a0-b34</span> <span style=\"color: #7f7f7f; text-decoration-color: #7f7f7f\">               </span>\n",
       "<span style=\"color: #7fbfbf; text-decoration-color: #7fbfbf\">                    </span>         <span style=\"color: #0000ff; text-decoration-color: #0000ff; text-decoration: underline\">d-b1c240f96dfb</span> <span style=\"color: #008000; text-decoration-color: #008000\">\"HTTP/1.1 200 OK\"</span>                                       <span style=\"color: #7f7f7f; text-decoration-color: #7f7f7f\">               </span>\n",
       "</pre>\n"
      ]
     },
     "metadata": {},
     "output_type": "display_data"
    },
    {
     "data": {
      "text/plain": [
       "\u001B[2;36m                   \u001B[0m\u001B[2;36m \u001B[0m\u001B[34mINFO    \u001B[0m \u001B[1m[\u001B[0m_client.py:\u001B[1;36m1773\u001B[0m\u001B[1m]\u001B[0m >> HTTP Request: \u001B[1;33mGET\u001B[0m                                 \u001B]8;id=610008;file:///Users/kimbwook/PycharmProjects/fast-campus/venv/lib/python3.10/site-packages/httpx/_client.py\u001B\\\u001B[2m_client.py\u001B[0m\u001B]8;;\u001B\\\u001B[2m:\u001B[0m\u001B]8;id=963555;file:///Users/kimbwook/PycharmProjects/fast-campus/venv/lib/python3.10/site-packages/httpx/_client.py#1773\u001B\\\u001B[2m1773\u001B[0m\u001B]8;;\u001B\\\n",
       "\u001B[2;36m                    \u001B[0m         \u001B[4;94mhttps://api.cloud.llamaindex.ai/api/parsing/job/40f8157f-cc8b-4629-b57\u001B[0m \u001B[2m               \u001B[0m\n",
       "\u001B[2;36m                    \u001B[0m         \u001B[4;94me-7deb3d35d2c8\u001B[0m \u001B[32m\"HTTP/1.1 200 OK\"\u001B[0m                                       \u001B[2m               \u001B[0m\n"
      ],
      "text/html": [
       "<pre style=\"white-space:pre;overflow-x:auto;line-height:normal;font-family:Menlo,'DejaVu Sans Mono',consolas,'Courier New',monospace\"><span style=\"color: #7fbfbf; text-decoration-color: #7fbfbf\">                    </span><span style=\"color: #000080; text-decoration-color: #000080\">INFO    </span> <span style=\"font-weight: bold\">[</span>_client.py:<span style=\"color: #008080; text-decoration-color: #008080; font-weight: bold\">1773</span><span style=\"font-weight: bold\">]</span> &gt;&gt; HTTP Request: <span style=\"color: #808000; text-decoration-color: #808000; font-weight: bold\">GET</span>                                 <a href=\"file:///Users/kimbwook/PycharmProjects/fast-campus/venv/lib/python3.10/site-packages/httpx/_client.py\" target=\"_blank\"><span style=\"color: #7f7f7f; text-decoration-color: #7f7f7f\">_client.py</span></a><span style=\"color: #7f7f7f; text-decoration-color: #7f7f7f\">:</span><a href=\"file:///Users/kimbwook/PycharmProjects/fast-campus/venv/lib/python3.10/site-packages/httpx/_client.py#1773\" target=\"_blank\"><span style=\"color: #7f7f7f; text-decoration-color: #7f7f7f\">1773</span></a>\n",
       "<span style=\"color: #7fbfbf; text-decoration-color: #7fbfbf\">                    </span>         <span style=\"color: #0000ff; text-decoration-color: #0000ff; text-decoration: underline\">https://api.cloud.llamaindex.ai/api/parsing/job/40f8157f-cc8b-4629-b57</span> <span style=\"color: #7f7f7f; text-decoration-color: #7f7f7f\">               </span>\n",
       "<span style=\"color: #7fbfbf; text-decoration-color: #7fbfbf\">                    </span>         <span style=\"color: #0000ff; text-decoration-color: #0000ff; text-decoration: underline\">e-7deb3d35d2c8</span> <span style=\"color: #008000; text-decoration-color: #008000\">\"HTTP/1.1 200 OK\"</span>                                       <span style=\"color: #7f7f7f; text-decoration-color: #7f7f7f\">               </span>\n",
       "</pre>\n"
      ]
     },
     "metadata": {},
     "output_type": "display_data"
    },
    {
     "data": {
      "text/plain": [
       "\u001B[2;36m                   \u001B[0m\u001B[2;36m \u001B[0m\u001B[34mINFO    \u001B[0m \u001B[1m[\u001B[0m_client.py:\u001B[1;36m1773\u001B[0m\u001B[1m]\u001B[0m >> HTTP Request: \u001B[1;33mGET\u001B[0m                                 \u001B]8;id=886524;file:///Users/kimbwook/PycharmProjects/fast-campus/venv/lib/python3.10/site-packages/httpx/_client.py\u001B\\\u001B[2m_client.py\u001B[0m\u001B]8;;\u001B\\\u001B[2m:\u001B[0m\u001B]8;id=799776;file:///Users/kimbwook/PycharmProjects/fast-campus/venv/lib/python3.10/site-packages/httpx/_client.py#1773\u001B\\\u001B[2m1773\u001B[0m\u001B]8;;\u001B\\\n",
       "\u001B[2;36m                    \u001B[0m         \u001B[4;94mhttps://api.cloud.llamaindex.ai/api/parsing/job/bef76ef8-e309-40bd-8b4\u001B[0m \u001B[2m               \u001B[0m\n",
       "\u001B[2;36m                    \u001B[0m         \u001B[4;94me-ad3ceff2d9ee\u001B[0m \u001B[32m\"HTTP/1.1 200 OK\"\u001B[0m                                       \u001B[2m               \u001B[0m\n"
      ],
      "text/html": [
       "<pre style=\"white-space:pre;overflow-x:auto;line-height:normal;font-family:Menlo,'DejaVu Sans Mono',consolas,'Courier New',monospace\"><span style=\"color: #7fbfbf; text-decoration-color: #7fbfbf\">                    </span><span style=\"color: #000080; text-decoration-color: #000080\">INFO    </span> <span style=\"font-weight: bold\">[</span>_client.py:<span style=\"color: #008080; text-decoration-color: #008080; font-weight: bold\">1773</span><span style=\"font-weight: bold\">]</span> &gt;&gt; HTTP Request: <span style=\"color: #808000; text-decoration-color: #808000; font-weight: bold\">GET</span>                                 <a href=\"file:///Users/kimbwook/PycharmProjects/fast-campus/venv/lib/python3.10/site-packages/httpx/_client.py\" target=\"_blank\"><span style=\"color: #7f7f7f; text-decoration-color: #7f7f7f\">_client.py</span></a><span style=\"color: #7f7f7f; text-decoration-color: #7f7f7f\">:</span><a href=\"file:///Users/kimbwook/PycharmProjects/fast-campus/venv/lib/python3.10/site-packages/httpx/_client.py#1773\" target=\"_blank\"><span style=\"color: #7f7f7f; text-decoration-color: #7f7f7f\">1773</span></a>\n",
       "<span style=\"color: #7fbfbf; text-decoration-color: #7fbfbf\">                    </span>         <span style=\"color: #0000ff; text-decoration-color: #0000ff; text-decoration: underline\">https://api.cloud.llamaindex.ai/api/parsing/job/bef76ef8-e309-40bd-8b4</span> <span style=\"color: #7f7f7f; text-decoration-color: #7f7f7f\">               </span>\n",
       "<span style=\"color: #7fbfbf; text-decoration-color: #7fbfbf\">                    </span>         <span style=\"color: #0000ff; text-decoration-color: #0000ff; text-decoration: underline\">e-ad3ceff2d9ee</span> <span style=\"color: #008000; text-decoration-color: #008000\">\"HTTP/1.1 200 OK\"</span>                                       <span style=\"color: #7f7f7f; text-decoration-color: #7f7f7f\">               </span>\n",
       "</pre>\n"
      ]
     },
     "metadata": {},
     "output_type": "display_data"
    },
    {
     "data": {
      "text/plain": [
       "\u001B[2;36m                   \u001B[0m\u001B[2;36m \u001B[0m\u001B[34mINFO    \u001B[0m \u001B[1m[\u001B[0m_client.py:\u001B[1;36m1773\u001B[0m\u001B[1m]\u001B[0m >> HTTP Request: \u001B[1;33mGET\u001B[0m                                 \u001B]8;id=430049;file:///Users/kimbwook/PycharmProjects/fast-campus/venv/lib/python3.10/site-packages/httpx/_client.py\u001B\\\u001B[2m_client.py\u001B[0m\u001B]8;;\u001B\\\u001B[2m:\u001B[0m\u001B]8;id=509277;file:///Users/kimbwook/PycharmProjects/fast-campus/venv/lib/python3.10/site-packages/httpx/_client.py#1773\u001B\\\u001B[2m1773\u001B[0m\u001B]8;;\u001B\\\n",
       "\u001B[2;36m                    \u001B[0m         \u001B[4;94mhttps://api.cloud.llamaindex.ai/api/parsing/job/3bc6e83d-0f9a-4a08-93b\u001B[0m \u001B[2m               \u001B[0m\n",
       "\u001B[2;36m                    \u001B[0m         \u001B[4;94m4-f30fbd99d127\u001B[0m \u001B[32m\"HTTP/1.1 200 OK\"\u001B[0m                                       \u001B[2m               \u001B[0m\n"
      ],
      "text/html": [
       "<pre style=\"white-space:pre;overflow-x:auto;line-height:normal;font-family:Menlo,'DejaVu Sans Mono',consolas,'Courier New',monospace\"><span style=\"color: #7fbfbf; text-decoration-color: #7fbfbf\">                    </span><span style=\"color: #000080; text-decoration-color: #000080\">INFO    </span> <span style=\"font-weight: bold\">[</span>_client.py:<span style=\"color: #008080; text-decoration-color: #008080; font-weight: bold\">1773</span><span style=\"font-weight: bold\">]</span> &gt;&gt; HTTP Request: <span style=\"color: #808000; text-decoration-color: #808000; font-weight: bold\">GET</span>                                 <a href=\"file:///Users/kimbwook/PycharmProjects/fast-campus/venv/lib/python3.10/site-packages/httpx/_client.py\" target=\"_blank\"><span style=\"color: #7f7f7f; text-decoration-color: #7f7f7f\">_client.py</span></a><span style=\"color: #7f7f7f; text-decoration-color: #7f7f7f\">:</span><a href=\"file:///Users/kimbwook/PycharmProjects/fast-campus/venv/lib/python3.10/site-packages/httpx/_client.py#1773\" target=\"_blank\"><span style=\"color: #7f7f7f; text-decoration-color: #7f7f7f\">1773</span></a>\n",
       "<span style=\"color: #7fbfbf; text-decoration-color: #7fbfbf\">                    </span>         <span style=\"color: #0000ff; text-decoration-color: #0000ff; text-decoration: underline\">https://api.cloud.llamaindex.ai/api/parsing/job/3bc6e83d-0f9a-4a08-93b</span> <span style=\"color: #7f7f7f; text-decoration-color: #7f7f7f\">               </span>\n",
       "<span style=\"color: #7fbfbf; text-decoration-color: #7fbfbf\">                    </span>         <span style=\"color: #0000ff; text-decoration-color: #0000ff; text-decoration: underline\">4-f30fbd99d127</span> <span style=\"color: #008000; text-decoration-color: #008000\">\"HTTP/1.1 200 OK\"</span>                                       <span style=\"color: #7f7f7f; text-decoration-color: #7f7f7f\">               </span>\n",
       "</pre>\n"
      ]
     },
     "metadata": {},
     "output_type": "display_data"
    },
    {
     "data": {
      "text/plain": [
       "\u001B[2;36m                   \u001B[0m\u001B[2;36m \u001B[0m\u001B[34mINFO    \u001B[0m \u001B[1m[\u001B[0m_client.py:\u001B[1;36m1773\u001B[0m\u001B[1m]\u001B[0m >> HTTP Request: \u001B[1;33mGET\u001B[0m                                 \u001B]8;id=861861;file:///Users/kimbwook/PycharmProjects/fast-campus/venv/lib/python3.10/site-packages/httpx/_client.py\u001B\\\u001B[2m_client.py\u001B[0m\u001B]8;;\u001B\\\u001B[2m:\u001B[0m\u001B]8;id=429817;file:///Users/kimbwook/PycharmProjects/fast-campus/venv/lib/python3.10/site-packages/httpx/_client.py#1773\u001B\\\u001B[2m1773\u001B[0m\u001B]8;;\u001B\\\n",
       "\u001B[2;36m                    \u001B[0m         \u001B[4;94mhttps://api.cloud.llamaindex.ai/api/parsing/job/2b1bc2f9-1862-41b5-8d6\u001B[0m \u001B[2m               \u001B[0m\n",
       "\u001B[2;36m                    \u001B[0m         \u001B[4;94mc-e92953b0754b\u001B[0m \u001B[32m\"HTTP/1.1 200 OK\"\u001B[0m                                       \u001B[2m               \u001B[0m\n"
      ],
      "text/html": [
       "<pre style=\"white-space:pre;overflow-x:auto;line-height:normal;font-family:Menlo,'DejaVu Sans Mono',consolas,'Courier New',monospace\"><span style=\"color: #7fbfbf; text-decoration-color: #7fbfbf\">                    </span><span style=\"color: #000080; text-decoration-color: #000080\">INFO    </span> <span style=\"font-weight: bold\">[</span>_client.py:<span style=\"color: #008080; text-decoration-color: #008080; font-weight: bold\">1773</span><span style=\"font-weight: bold\">]</span> &gt;&gt; HTTP Request: <span style=\"color: #808000; text-decoration-color: #808000; font-weight: bold\">GET</span>                                 <a href=\"file:///Users/kimbwook/PycharmProjects/fast-campus/venv/lib/python3.10/site-packages/httpx/_client.py\" target=\"_blank\"><span style=\"color: #7f7f7f; text-decoration-color: #7f7f7f\">_client.py</span></a><span style=\"color: #7f7f7f; text-decoration-color: #7f7f7f\">:</span><a href=\"file:///Users/kimbwook/PycharmProjects/fast-campus/venv/lib/python3.10/site-packages/httpx/_client.py#1773\" target=\"_blank\"><span style=\"color: #7f7f7f; text-decoration-color: #7f7f7f\">1773</span></a>\n",
       "<span style=\"color: #7fbfbf; text-decoration-color: #7fbfbf\">                    </span>         <span style=\"color: #0000ff; text-decoration-color: #0000ff; text-decoration: underline\">https://api.cloud.llamaindex.ai/api/parsing/job/2b1bc2f9-1862-41b5-8d6</span> <span style=\"color: #7f7f7f; text-decoration-color: #7f7f7f\">               </span>\n",
       "<span style=\"color: #7fbfbf; text-decoration-color: #7fbfbf\">                    </span>         <span style=\"color: #0000ff; text-decoration-color: #0000ff; text-decoration: underline\">c-e92953b0754b</span> <span style=\"color: #008000; text-decoration-color: #008000\">\"HTTP/1.1 200 OK\"</span>                                       <span style=\"color: #7f7f7f; text-decoration-color: #7f7f7f\">               </span>\n",
       "</pre>\n"
      ]
     },
     "metadata": {},
     "output_type": "display_data"
    },
    {
     "data": {
      "text/plain": [
       "\u001B[2;36m                   \u001B[0m\u001B[2;36m \u001B[0m\u001B[34mINFO    \u001B[0m \u001B[1m[\u001B[0m_client.py:\u001B[1;36m1773\u001B[0m\u001B[1m]\u001B[0m >> HTTP Request: \u001B[1;33mGET\u001B[0m                                 \u001B]8;id=216212;file:///Users/kimbwook/PycharmProjects/fast-campus/venv/lib/python3.10/site-packages/httpx/_client.py\u001B\\\u001B[2m_client.py\u001B[0m\u001B]8;;\u001B\\\u001B[2m:\u001B[0m\u001B]8;id=108645;file:///Users/kimbwook/PycharmProjects/fast-campus/venv/lib/python3.10/site-packages/httpx/_client.py#1773\u001B\\\u001B[2m1773\u001B[0m\u001B]8;;\u001B\\\n",
       "\u001B[2;36m                    \u001B[0m         \u001B[4;94mhttps://api.cloud.llamaindex.ai/api/parsing/job/63360f54-f940-4901-bf9\u001B[0m \u001B[2m               \u001B[0m\n",
       "\u001B[2;36m                    \u001B[0m         \u001B[4;94m2-04ad1dd47ca0\u001B[0m \u001B[32m\"HTTP/1.1 200 OK\"\u001B[0m                                       \u001B[2m               \u001B[0m\n"
      ],
      "text/html": [
       "<pre style=\"white-space:pre;overflow-x:auto;line-height:normal;font-family:Menlo,'DejaVu Sans Mono',consolas,'Courier New',monospace\"><span style=\"color: #7fbfbf; text-decoration-color: #7fbfbf\">                    </span><span style=\"color: #000080; text-decoration-color: #000080\">INFO    </span> <span style=\"font-weight: bold\">[</span>_client.py:<span style=\"color: #008080; text-decoration-color: #008080; font-weight: bold\">1773</span><span style=\"font-weight: bold\">]</span> &gt;&gt; HTTP Request: <span style=\"color: #808000; text-decoration-color: #808000; font-weight: bold\">GET</span>                                 <a href=\"file:///Users/kimbwook/PycharmProjects/fast-campus/venv/lib/python3.10/site-packages/httpx/_client.py\" target=\"_blank\"><span style=\"color: #7f7f7f; text-decoration-color: #7f7f7f\">_client.py</span></a><span style=\"color: #7f7f7f; text-decoration-color: #7f7f7f\">:</span><a href=\"file:///Users/kimbwook/PycharmProjects/fast-campus/venv/lib/python3.10/site-packages/httpx/_client.py#1773\" target=\"_blank\"><span style=\"color: #7f7f7f; text-decoration-color: #7f7f7f\">1773</span></a>\n",
       "<span style=\"color: #7fbfbf; text-decoration-color: #7fbfbf\">                    </span>         <span style=\"color: #0000ff; text-decoration-color: #0000ff; text-decoration: underline\">https://api.cloud.llamaindex.ai/api/parsing/job/63360f54-f940-4901-bf9</span> <span style=\"color: #7f7f7f; text-decoration-color: #7f7f7f\">               </span>\n",
       "<span style=\"color: #7fbfbf; text-decoration-color: #7fbfbf\">                    </span>         <span style=\"color: #0000ff; text-decoration-color: #0000ff; text-decoration: underline\">2-04ad1dd47ca0</span> <span style=\"color: #008000; text-decoration-color: #008000\">\"HTTP/1.1 200 OK\"</span>                                       <span style=\"color: #7f7f7f; text-decoration-color: #7f7f7f\">               </span>\n",
       "</pre>\n"
      ]
     },
     "metadata": {},
     "output_type": "display_data"
    },
    {
     "data": {
      "text/plain": [
       "\u001B[2;36m                   \u001B[0m\u001B[2;36m \u001B[0m\u001B[34mINFO    \u001B[0m \u001B[1m[\u001B[0m_client.py:\u001B[1;36m1773\u001B[0m\u001B[1m]\u001B[0m >> HTTP Request: \u001B[1;33mGET\u001B[0m                                 \u001B]8;id=264771;file:///Users/kimbwook/PycharmProjects/fast-campus/venv/lib/python3.10/site-packages/httpx/_client.py\u001B\\\u001B[2m_client.py\u001B[0m\u001B]8;;\u001B\\\u001B[2m:\u001B[0m\u001B]8;id=368289;file:///Users/kimbwook/PycharmProjects/fast-campus/venv/lib/python3.10/site-packages/httpx/_client.py#1773\u001B\\\u001B[2m1773\u001B[0m\u001B]8;;\u001B\\\n",
       "\u001B[2;36m                    \u001B[0m         \u001B[4;94mhttps://api.cloud.llamaindex.ai/api/parsing/job/de767d33-547e-4518-b83\u001B[0m \u001B[2m               \u001B[0m\n",
       "\u001B[2;36m                    \u001B[0m         \u001B[4;94m6-5ce93eb56fc3\u001B[0m \u001B[32m\"HTTP/1.1 200 OK\"\u001B[0m                                       \u001B[2m               \u001B[0m\n"
      ],
      "text/html": [
       "<pre style=\"white-space:pre;overflow-x:auto;line-height:normal;font-family:Menlo,'DejaVu Sans Mono',consolas,'Courier New',monospace\"><span style=\"color: #7fbfbf; text-decoration-color: #7fbfbf\">                    </span><span style=\"color: #000080; text-decoration-color: #000080\">INFO    </span> <span style=\"font-weight: bold\">[</span>_client.py:<span style=\"color: #008080; text-decoration-color: #008080; font-weight: bold\">1773</span><span style=\"font-weight: bold\">]</span> &gt;&gt; HTTP Request: <span style=\"color: #808000; text-decoration-color: #808000; font-weight: bold\">GET</span>                                 <a href=\"file:///Users/kimbwook/PycharmProjects/fast-campus/venv/lib/python3.10/site-packages/httpx/_client.py\" target=\"_blank\"><span style=\"color: #7f7f7f; text-decoration-color: #7f7f7f\">_client.py</span></a><span style=\"color: #7f7f7f; text-decoration-color: #7f7f7f\">:</span><a href=\"file:///Users/kimbwook/PycharmProjects/fast-campus/venv/lib/python3.10/site-packages/httpx/_client.py#1773\" target=\"_blank\"><span style=\"color: #7f7f7f; text-decoration-color: #7f7f7f\">1773</span></a>\n",
       "<span style=\"color: #7fbfbf; text-decoration-color: #7fbfbf\">                    </span>         <span style=\"color: #0000ff; text-decoration-color: #0000ff; text-decoration: underline\">https://api.cloud.llamaindex.ai/api/parsing/job/de767d33-547e-4518-b83</span> <span style=\"color: #7f7f7f; text-decoration-color: #7f7f7f\">               </span>\n",
       "<span style=\"color: #7fbfbf; text-decoration-color: #7fbfbf\">                    </span>         <span style=\"color: #0000ff; text-decoration-color: #0000ff; text-decoration: underline\">6-5ce93eb56fc3</span> <span style=\"color: #008000; text-decoration-color: #008000\">\"HTTP/1.1 200 OK\"</span>                                       <span style=\"color: #7f7f7f; text-decoration-color: #7f7f7f\">               </span>\n",
       "</pre>\n"
      ]
     },
     "metadata": {},
     "output_type": "display_data"
    },
    {
     "data": {
      "text/plain": [
       "\u001B[2;36m[12/21/24 16:19:32]\u001B[0m\u001B[2;36m \u001B[0m\u001B[34mINFO    \u001B[0m \u001B[1m[\u001B[0m_client.py:\u001B[1;36m1773\u001B[0m\u001B[1m]\u001B[0m >> HTTP Request: \u001B[1;33mGET\u001B[0m                                 \u001B]8;id=561222;file:///Users/kimbwook/PycharmProjects/fast-campus/venv/lib/python3.10/site-packages/httpx/_client.py\u001B\\\u001B[2m_client.py\u001B[0m\u001B]8;;\u001B\\\u001B[2m:\u001B[0m\u001B]8;id=979425;file:///Users/kimbwook/PycharmProjects/fast-campus/venv/lib/python3.10/site-packages/httpx/_client.py#1773\u001B\\\u001B[2m1773\u001B[0m\u001B]8;;\u001B\\\n",
       "\u001B[2;36m                    \u001B[0m         \u001B[4;94mhttps://api.cloud.llamaindex.ai/api/parsing/job/42e204d1-4fd0-42bc-91a\u001B[0m \u001B[2m               \u001B[0m\n",
       "\u001B[2;36m                    \u001B[0m         \u001B[4;94m9-3aa68af5a739\u001B[0m \u001B[32m\"HTTP/1.1 200 OK\"\u001B[0m                                       \u001B[2m               \u001B[0m\n"
      ],
      "text/html": [
       "<pre style=\"white-space:pre;overflow-x:auto;line-height:normal;font-family:Menlo,'DejaVu Sans Mono',consolas,'Courier New',monospace\"><span style=\"color: #7fbfbf; text-decoration-color: #7fbfbf\">[12/21/24 16:19:32] </span><span style=\"color: #000080; text-decoration-color: #000080\">INFO    </span> <span style=\"font-weight: bold\">[</span>_client.py:<span style=\"color: #008080; text-decoration-color: #008080; font-weight: bold\">1773</span><span style=\"font-weight: bold\">]</span> &gt;&gt; HTTP Request: <span style=\"color: #808000; text-decoration-color: #808000; font-weight: bold\">GET</span>                                 <a href=\"file:///Users/kimbwook/PycharmProjects/fast-campus/venv/lib/python3.10/site-packages/httpx/_client.py\" target=\"_blank\"><span style=\"color: #7f7f7f; text-decoration-color: #7f7f7f\">_client.py</span></a><span style=\"color: #7f7f7f; text-decoration-color: #7f7f7f\">:</span><a href=\"file:///Users/kimbwook/PycharmProjects/fast-campus/venv/lib/python3.10/site-packages/httpx/_client.py#1773\" target=\"_blank\"><span style=\"color: #7f7f7f; text-decoration-color: #7f7f7f\">1773</span></a>\n",
       "<span style=\"color: #7fbfbf; text-decoration-color: #7fbfbf\">                    </span>         <span style=\"color: #0000ff; text-decoration-color: #0000ff; text-decoration: underline\">https://api.cloud.llamaindex.ai/api/parsing/job/42e204d1-4fd0-42bc-91a</span> <span style=\"color: #7f7f7f; text-decoration-color: #7f7f7f\">               </span>\n",
       "<span style=\"color: #7fbfbf; text-decoration-color: #7fbfbf\">                    </span>         <span style=\"color: #0000ff; text-decoration-color: #0000ff; text-decoration: underline\">9-3aa68af5a739</span> <span style=\"color: #008000; text-decoration-color: #008000\">\"HTTP/1.1 200 OK\"</span>                                       <span style=\"color: #7f7f7f; text-decoration-color: #7f7f7f\">               </span>\n",
       "</pre>\n"
      ]
     },
     "metadata": {},
     "output_type": "display_data"
    },
    {
     "data": {
      "text/plain": [
       "\u001B[2;36m[12/21/24 16:19:34]\u001B[0m\u001B[2;36m \u001B[0m\u001B[34mINFO    \u001B[0m \u001B[1m[\u001B[0m_client.py:\u001B[1;36m1773\u001B[0m\u001B[1m]\u001B[0m >> HTTP Request: \u001B[1;33mGET\u001B[0m                                 \u001B]8;id=792565;file:///Users/kimbwook/PycharmProjects/fast-campus/venv/lib/python3.10/site-packages/httpx/_client.py\u001B\\\u001B[2m_client.py\u001B[0m\u001B]8;;\u001B\\\u001B[2m:\u001B[0m\u001B]8;id=808908;file:///Users/kimbwook/PycharmProjects/fast-campus/venv/lib/python3.10/site-packages/httpx/_client.py#1773\u001B\\\u001B[2m1773\u001B[0m\u001B]8;;\u001B\\\n",
       "\u001B[2;36m                    \u001B[0m         \u001B[4;94mhttps://api.cloud.llamaindex.ai/api/parsing/job/40f8157f-cc8b-4629-b57\u001B[0m \u001B[2m               \u001B[0m\n",
       "\u001B[2;36m                    \u001B[0m         \u001B[4;94me-7deb3d35d2c8\u001B[0m \u001B[32m\"HTTP/1.1 200 OK\"\u001B[0m                                       \u001B[2m               \u001B[0m\n"
      ],
      "text/html": [
       "<pre style=\"white-space:pre;overflow-x:auto;line-height:normal;font-family:Menlo,'DejaVu Sans Mono',consolas,'Courier New',monospace\"><span style=\"color: #7fbfbf; text-decoration-color: #7fbfbf\">[12/21/24 16:19:34] </span><span style=\"color: #000080; text-decoration-color: #000080\">INFO    </span> <span style=\"font-weight: bold\">[</span>_client.py:<span style=\"color: #008080; text-decoration-color: #008080; font-weight: bold\">1773</span><span style=\"font-weight: bold\">]</span> &gt;&gt; HTTP Request: <span style=\"color: #808000; text-decoration-color: #808000; font-weight: bold\">GET</span>                                 <a href=\"file:///Users/kimbwook/PycharmProjects/fast-campus/venv/lib/python3.10/site-packages/httpx/_client.py\" target=\"_blank\"><span style=\"color: #7f7f7f; text-decoration-color: #7f7f7f\">_client.py</span></a><span style=\"color: #7f7f7f; text-decoration-color: #7f7f7f\">:</span><a href=\"file:///Users/kimbwook/PycharmProjects/fast-campus/venv/lib/python3.10/site-packages/httpx/_client.py#1773\" target=\"_blank\"><span style=\"color: #7f7f7f; text-decoration-color: #7f7f7f\">1773</span></a>\n",
       "<span style=\"color: #7fbfbf; text-decoration-color: #7fbfbf\">                    </span>         <span style=\"color: #0000ff; text-decoration-color: #0000ff; text-decoration: underline\">https://api.cloud.llamaindex.ai/api/parsing/job/40f8157f-cc8b-4629-b57</span> <span style=\"color: #7f7f7f; text-decoration-color: #7f7f7f\">               </span>\n",
       "<span style=\"color: #7fbfbf; text-decoration-color: #7fbfbf\">                    </span>         <span style=\"color: #0000ff; text-decoration-color: #0000ff; text-decoration: underline\">e-7deb3d35d2c8</span> <span style=\"color: #008000; text-decoration-color: #008000\">\"HTTP/1.1 200 OK\"</span>                                       <span style=\"color: #7f7f7f; text-decoration-color: #7f7f7f\">               </span>\n",
       "</pre>\n"
      ]
     },
     "metadata": {},
     "output_type": "display_data"
    },
    {
     "data": {
      "text/plain": [
       "\u001B[2;36m                   \u001B[0m\u001B[2;36m \u001B[0m\u001B[34mINFO    \u001B[0m \u001B[1m[\u001B[0m_client.py:\u001B[1;36m1773\u001B[0m\u001B[1m]\u001B[0m >> HTTP Request: \u001B[1;33mGET\u001B[0m                                 \u001B]8;id=746827;file:///Users/kimbwook/PycharmProjects/fast-campus/venv/lib/python3.10/site-packages/httpx/_client.py\u001B\\\u001B[2m_client.py\u001B[0m\u001B]8;;\u001B\\\u001B[2m:\u001B[0m\u001B]8;id=350318;file:///Users/kimbwook/PycharmProjects/fast-campus/venv/lib/python3.10/site-packages/httpx/_client.py#1773\u001B\\\u001B[2m1773\u001B[0m\u001B]8;;\u001B\\\n",
       "\u001B[2;36m                    \u001B[0m         \u001B[4;94mhttps://api.cloud.llamaindex.ai/api/parsing/job/75471825-60cd-42a0-b34\u001B[0m \u001B[2m               \u001B[0m\n",
       "\u001B[2;36m                    \u001B[0m         \u001B[4;94md-b1c240f96dfb\u001B[0m \u001B[32m\"HTTP/1.1 200 OK\"\u001B[0m                                       \u001B[2m               \u001B[0m\n"
      ],
      "text/html": [
       "<pre style=\"white-space:pre;overflow-x:auto;line-height:normal;font-family:Menlo,'DejaVu Sans Mono',consolas,'Courier New',monospace\"><span style=\"color: #7fbfbf; text-decoration-color: #7fbfbf\">                    </span><span style=\"color: #000080; text-decoration-color: #000080\">INFO    </span> <span style=\"font-weight: bold\">[</span>_client.py:<span style=\"color: #008080; text-decoration-color: #008080; font-weight: bold\">1773</span><span style=\"font-weight: bold\">]</span> &gt;&gt; HTTP Request: <span style=\"color: #808000; text-decoration-color: #808000; font-weight: bold\">GET</span>                                 <a href=\"file:///Users/kimbwook/PycharmProjects/fast-campus/venv/lib/python3.10/site-packages/httpx/_client.py\" target=\"_blank\"><span style=\"color: #7f7f7f; text-decoration-color: #7f7f7f\">_client.py</span></a><span style=\"color: #7f7f7f; text-decoration-color: #7f7f7f\">:</span><a href=\"file:///Users/kimbwook/PycharmProjects/fast-campus/venv/lib/python3.10/site-packages/httpx/_client.py#1773\" target=\"_blank\"><span style=\"color: #7f7f7f; text-decoration-color: #7f7f7f\">1773</span></a>\n",
       "<span style=\"color: #7fbfbf; text-decoration-color: #7fbfbf\">                    </span>         <span style=\"color: #0000ff; text-decoration-color: #0000ff; text-decoration: underline\">https://api.cloud.llamaindex.ai/api/parsing/job/75471825-60cd-42a0-b34</span> <span style=\"color: #7f7f7f; text-decoration-color: #7f7f7f\">               </span>\n",
       "<span style=\"color: #7fbfbf; text-decoration-color: #7fbfbf\">                    </span>         <span style=\"color: #0000ff; text-decoration-color: #0000ff; text-decoration: underline\">d-b1c240f96dfb</span> <span style=\"color: #008000; text-decoration-color: #008000\">\"HTTP/1.1 200 OK\"</span>                                       <span style=\"color: #7f7f7f; text-decoration-color: #7f7f7f\">               </span>\n",
       "</pre>\n"
      ]
     },
     "metadata": {},
     "output_type": "display_data"
    },
    {
     "data": {
      "text/plain": [
       "\u001B[2;36m                   \u001B[0m\u001B[2;36m \u001B[0m\u001B[34mINFO    \u001B[0m \u001B[1m[\u001B[0m_client.py:\u001B[1;36m1773\u001B[0m\u001B[1m]\u001B[0m >> HTTP Request: \u001B[1;33mGET\u001B[0m                                 \u001B]8;id=298685;file:///Users/kimbwook/PycharmProjects/fast-campus/venv/lib/python3.10/site-packages/httpx/_client.py\u001B\\\u001B[2m_client.py\u001B[0m\u001B]8;;\u001B\\\u001B[2m:\u001B[0m\u001B]8;id=980954;file:///Users/kimbwook/PycharmProjects/fast-campus/venv/lib/python3.10/site-packages/httpx/_client.py#1773\u001B\\\u001B[2m1773\u001B[0m\u001B]8;;\u001B\\\n",
       "\u001B[2;36m                    \u001B[0m         \u001B[4;94mhttps://api.cloud.llamaindex.ai/api/parsing/job/bef76ef8-e309-40bd-8b4\u001B[0m \u001B[2m               \u001B[0m\n",
       "\u001B[2;36m                    \u001B[0m         \u001B[4;94me-ad3ceff2d9ee\u001B[0m \u001B[32m\"HTTP/1.1 200 OK\"\u001B[0m                                       \u001B[2m               \u001B[0m\n"
      ],
      "text/html": [
       "<pre style=\"white-space:pre;overflow-x:auto;line-height:normal;font-family:Menlo,'DejaVu Sans Mono',consolas,'Courier New',monospace\"><span style=\"color: #7fbfbf; text-decoration-color: #7fbfbf\">                    </span><span style=\"color: #000080; text-decoration-color: #000080\">INFO    </span> <span style=\"font-weight: bold\">[</span>_client.py:<span style=\"color: #008080; text-decoration-color: #008080; font-weight: bold\">1773</span><span style=\"font-weight: bold\">]</span> &gt;&gt; HTTP Request: <span style=\"color: #808000; text-decoration-color: #808000; font-weight: bold\">GET</span>                                 <a href=\"file:///Users/kimbwook/PycharmProjects/fast-campus/venv/lib/python3.10/site-packages/httpx/_client.py\" target=\"_blank\"><span style=\"color: #7f7f7f; text-decoration-color: #7f7f7f\">_client.py</span></a><span style=\"color: #7f7f7f; text-decoration-color: #7f7f7f\">:</span><a href=\"file:///Users/kimbwook/PycharmProjects/fast-campus/venv/lib/python3.10/site-packages/httpx/_client.py#1773\" target=\"_blank\"><span style=\"color: #7f7f7f; text-decoration-color: #7f7f7f\">1773</span></a>\n",
       "<span style=\"color: #7fbfbf; text-decoration-color: #7fbfbf\">                    </span>         <span style=\"color: #0000ff; text-decoration-color: #0000ff; text-decoration: underline\">https://api.cloud.llamaindex.ai/api/parsing/job/bef76ef8-e309-40bd-8b4</span> <span style=\"color: #7f7f7f; text-decoration-color: #7f7f7f\">               </span>\n",
       "<span style=\"color: #7fbfbf; text-decoration-color: #7fbfbf\">                    </span>         <span style=\"color: #0000ff; text-decoration-color: #0000ff; text-decoration: underline\">e-ad3ceff2d9ee</span> <span style=\"color: #008000; text-decoration-color: #008000\">\"HTTP/1.1 200 OK\"</span>                                       <span style=\"color: #7f7f7f; text-decoration-color: #7f7f7f\">               </span>\n",
       "</pre>\n"
      ]
     },
     "metadata": {},
     "output_type": "display_data"
    },
    {
     "data": {
      "text/plain": [
       "\u001B[2;36m                   \u001B[0m\u001B[2;36m \u001B[0m\u001B[34mINFO    \u001B[0m \u001B[1m[\u001B[0m_client.py:\u001B[1;36m1773\u001B[0m\u001B[1m]\u001B[0m >> HTTP Request: \u001B[1;33mGET\u001B[0m                                 \u001B]8;id=325973;file:///Users/kimbwook/PycharmProjects/fast-campus/venv/lib/python3.10/site-packages/httpx/_client.py\u001B\\\u001B[2m_client.py\u001B[0m\u001B]8;;\u001B\\\u001B[2m:\u001B[0m\u001B]8;id=671221;file:///Users/kimbwook/PycharmProjects/fast-campus/venv/lib/python3.10/site-packages/httpx/_client.py#1773\u001B\\\u001B[2m1773\u001B[0m\u001B]8;;\u001B\\\n",
       "\u001B[2;36m                    \u001B[0m         \u001B[4;94mhttps://api.cloud.llamaindex.ai/api/parsing/job/3bc6e83d-0f9a-4a08-93b\u001B[0m \u001B[2m               \u001B[0m\n",
       "\u001B[2;36m                    \u001B[0m         \u001B[4;94m4-f30fbd99d127\u001B[0m \u001B[32m\"HTTP/1.1 200 OK\"\u001B[0m                                       \u001B[2m               \u001B[0m\n"
      ],
      "text/html": [
       "<pre style=\"white-space:pre;overflow-x:auto;line-height:normal;font-family:Menlo,'DejaVu Sans Mono',consolas,'Courier New',monospace\"><span style=\"color: #7fbfbf; text-decoration-color: #7fbfbf\">                    </span><span style=\"color: #000080; text-decoration-color: #000080\">INFO    </span> <span style=\"font-weight: bold\">[</span>_client.py:<span style=\"color: #008080; text-decoration-color: #008080; font-weight: bold\">1773</span><span style=\"font-weight: bold\">]</span> &gt;&gt; HTTP Request: <span style=\"color: #808000; text-decoration-color: #808000; font-weight: bold\">GET</span>                                 <a href=\"file:///Users/kimbwook/PycharmProjects/fast-campus/venv/lib/python3.10/site-packages/httpx/_client.py\" target=\"_blank\"><span style=\"color: #7f7f7f; text-decoration-color: #7f7f7f\">_client.py</span></a><span style=\"color: #7f7f7f; text-decoration-color: #7f7f7f\">:</span><a href=\"file:///Users/kimbwook/PycharmProjects/fast-campus/venv/lib/python3.10/site-packages/httpx/_client.py#1773\" target=\"_blank\"><span style=\"color: #7f7f7f; text-decoration-color: #7f7f7f\">1773</span></a>\n",
       "<span style=\"color: #7fbfbf; text-decoration-color: #7fbfbf\">                    </span>         <span style=\"color: #0000ff; text-decoration-color: #0000ff; text-decoration: underline\">https://api.cloud.llamaindex.ai/api/parsing/job/3bc6e83d-0f9a-4a08-93b</span> <span style=\"color: #7f7f7f; text-decoration-color: #7f7f7f\">               </span>\n",
       "<span style=\"color: #7fbfbf; text-decoration-color: #7fbfbf\">                    </span>         <span style=\"color: #0000ff; text-decoration-color: #0000ff; text-decoration: underline\">4-f30fbd99d127</span> <span style=\"color: #008000; text-decoration-color: #008000\">\"HTTP/1.1 200 OK\"</span>                                       <span style=\"color: #7f7f7f; text-decoration-color: #7f7f7f\">               </span>\n",
       "</pre>\n"
      ]
     },
     "metadata": {},
     "output_type": "display_data"
    },
    {
     "data": {
      "text/plain": [
       "\u001B[2;36m                   \u001B[0m\u001B[2;36m \u001B[0m\u001B[34mINFO    \u001B[0m \u001B[1m[\u001B[0m_client.py:\u001B[1;36m1773\u001B[0m\u001B[1m]\u001B[0m >> HTTP Request: \u001B[1;33mGET\u001B[0m                                 \u001B]8;id=841627;file:///Users/kimbwook/PycharmProjects/fast-campus/venv/lib/python3.10/site-packages/httpx/_client.py\u001B\\\u001B[2m_client.py\u001B[0m\u001B]8;;\u001B\\\u001B[2m:\u001B[0m\u001B]8;id=285336;file:///Users/kimbwook/PycharmProjects/fast-campus/venv/lib/python3.10/site-packages/httpx/_client.py#1773\u001B\\\u001B[2m1773\u001B[0m\u001B]8;;\u001B\\\n",
       "\u001B[2;36m                    \u001B[0m         \u001B[4;94mhttps://api.cloud.llamaindex.ai/api/parsing/job/2b1bc2f9-1862-41b5-8d6\u001B[0m \u001B[2m               \u001B[0m\n",
       "\u001B[2;36m                    \u001B[0m         \u001B[4;94mc-e92953b0754b\u001B[0m \u001B[32m\"HTTP/1.1 200 OK\"\u001B[0m                                       \u001B[2m               \u001B[0m\n"
      ],
      "text/html": [
       "<pre style=\"white-space:pre;overflow-x:auto;line-height:normal;font-family:Menlo,'DejaVu Sans Mono',consolas,'Courier New',monospace\"><span style=\"color: #7fbfbf; text-decoration-color: #7fbfbf\">                    </span><span style=\"color: #000080; text-decoration-color: #000080\">INFO    </span> <span style=\"font-weight: bold\">[</span>_client.py:<span style=\"color: #008080; text-decoration-color: #008080; font-weight: bold\">1773</span><span style=\"font-weight: bold\">]</span> &gt;&gt; HTTP Request: <span style=\"color: #808000; text-decoration-color: #808000; font-weight: bold\">GET</span>                                 <a href=\"file:///Users/kimbwook/PycharmProjects/fast-campus/venv/lib/python3.10/site-packages/httpx/_client.py\" target=\"_blank\"><span style=\"color: #7f7f7f; text-decoration-color: #7f7f7f\">_client.py</span></a><span style=\"color: #7f7f7f; text-decoration-color: #7f7f7f\">:</span><a href=\"file:///Users/kimbwook/PycharmProjects/fast-campus/venv/lib/python3.10/site-packages/httpx/_client.py#1773\" target=\"_blank\"><span style=\"color: #7f7f7f; text-decoration-color: #7f7f7f\">1773</span></a>\n",
       "<span style=\"color: #7fbfbf; text-decoration-color: #7fbfbf\">                    </span>         <span style=\"color: #0000ff; text-decoration-color: #0000ff; text-decoration: underline\">https://api.cloud.llamaindex.ai/api/parsing/job/2b1bc2f9-1862-41b5-8d6</span> <span style=\"color: #7f7f7f; text-decoration-color: #7f7f7f\">               </span>\n",
       "<span style=\"color: #7fbfbf; text-decoration-color: #7fbfbf\">                    </span>         <span style=\"color: #0000ff; text-decoration-color: #0000ff; text-decoration: underline\">c-e92953b0754b</span> <span style=\"color: #008000; text-decoration-color: #008000\">\"HTTP/1.1 200 OK\"</span>                                       <span style=\"color: #7f7f7f; text-decoration-color: #7f7f7f\">               </span>\n",
       "</pre>\n"
      ]
     },
     "metadata": {},
     "output_type": "display_data"
    },
    {
     "data": {
      "text/plain": [
       "\u001B[2;36m                   \u001B[0m\u001B[2;36m \u001B[0m\u001B[34mINFO    \u001B[0m \u001B[1m[\u001B[0m_client.py:\u001B[1;36m1773\u001B[0m\u001B[1m]\u001B[0m >> HTTP Request: \u001B[1;33mGET\u001B[0m                                 \u001B]8;id=605539;file:///Users/kimbwook/PycharmProjects/fast-campus/venv/lib/python3.10/site-packages/httpx/_client.py\u001B\\\u001B[2m_client.py\u001B[0m\u001B]8;;\u001B\\\u001B[2m:\u001B[0m\u001B]8;id=59221;file:///Users/kimbwook/PycharmProjects/fast-campus/venv/lib/python3.10/site-packages/httpx/_client.py#1773\u001B\\\u001B[2m1773\u001B[0m\u001B]8;;\u001B\\\n",
       "\u001B[2;36m                    \u001B[0m         \u001B[4;94mhttps://api.cloud.llamaindex.ai/api/parsing/job/de767d33-547e-4518-b83\u001B[0m \u001B[2m               \u001B[0m\n",
       "\u001B[2;36m                    \u001B[0m         \u001B[4;94m6-5ce93eb56fc3\u001B[0m \u001B[32m\"HTTP/1.1 200 OK\"\u001B[0m                                       \u001B[2m               \u001B[0m\n"
      ],
      "text/html": [
       "<pre style=\"white-space:pre;overflow-x:auto;line-height:normal;font-family:Menlo,'DejaVu Sans Mono',consolas,'Courier New',monospace\"><span style=\"color: #7fbfbf; text-decoration-color: #7fbfbf\">                    </span><span style=\"color: #000080; text-decoration-color: #000080\">INFO    </span> <span style=\"font-weight: bold\">[</span>_client.py:<span style=\"color: #008080; text-decoration-color: #008080; font-weight: bold\">1773</span><span style=\"font-weight: bold\">]</span> &gt;&gt; HTTP Request: <span style=\"color: #808000; text-decoration-color: #808000; font-weight: bold\">GET</span>                                 <a href=\"file:///Users/kimbwook/PycharmProjects/fast-campus/venv/lib/python3.10/site-packages/httpx/_client.py\" target=\"_blank\"><span style=\"color: #7f7f7f; text-decoration-color: #7f7f7f\">_client.py</span></a><span style=\"color: #7f7f7f; text-decoration-color: #7f7f7f\">:</span><a href=\"file:///Users/kimbwook/PycharmProjects/fast-campus/venv/lib/python3.10/site-packages/httpx/_client.py#1773\" target=\"_blank\"><span style=\"color: #7f7f7f; text-decoration-color: #7f7f7f\">1773</span></a>\n",
       "<span style=\"color: #7fbfbf; text-decoration-color: #7fbfbf\">                    </span>         <span style=\"color: #0000ff; text-decoration-color: #0000ff; text-decoration: underline\">https://api.cloud.llamaindex.ai/api/parsing/job/de767d33-547e-4518-b83</span> <span style=\"color: #7f7f7f; text-decoration-color: #7f7f7f\">               </span>\n",
       "<span style=\"color: #7fbfbf; text-decoration-color: #7fbfbf\">                    </span>         <span style=\"color: #0000ff; text-decoration-color: #0000ff; text-decoration: underline\">6-5ce93eb56fc3</span> <span style=\"color: #008000; text-decoration-color: #008000\">\"HTTP/1.1 200 OK\"</span>                                       <span style=\"color: #7f7f7f; text-decoration-color: #7f7f7f\">               </span>\n",
       "</pre>\n"
      ]
     },
     "metadata": {},
     "output_type": "display_data"
    },
    {
     "data": {
      "text/plain": [
       "\u001B[2;36m                   \u001B[0m\u001B[2;36m \u001B[0m\u001B[34mINFO    \u001B[0m \u001B[1m[\u001B[0m_client.py:\u001B[1;36m1773\u001B[0m\u001B[1m]\u001B[0m >> HTTP Request: \u001B[1;33mGET\u001B[0m                                 \u001B]8;id=775283;file:///Users/kimbwook/PycharmProjects/fast-campus/venv/lib/python3.10/site-packages/httpx/_client.py\u001B\\\u001B[2m_client.py\u001B[0m\u001B]8;;\u001B\\\u001B[2m:\u001B[0m\u001B]8;id=751991;file:///Users/kimbwook/PycharmProjects/fast-campus/venv/lib/python3.10/site-packages/httpx/_client.py#1773\u001B\\\u001B[2m1773\u001B[0m\u001B]8;;\u001B\\\n",
       "\u001B[2;36m                    \u001B[0m         \u001B[4;94mhttps://api.cloud.llamaindex.ai/api/parsing/job/63360f54-f940-4901-bf9\u001B[0m \u001B[2m               \u001B[0m\n",
       "\u001B[2;36m                    \u001B[0m         \u001B[4;94m2-04ad1dd47ca0\u001B[0m \u001B[32m\"HTTP/1.1 200 OK\"\u001B[0m                                       \u001B[2m               \u001B[0m\n"
      ],
      "text/html": [
       "<pre style=\"white-space:pre;overflow-x:auto;line-height:normal;font-family:Menlo,'DejaVu Sans Mono',consolas,'Courier New',monospace\"><span style=\"color: #7fbfbf; text-decoration-color: #7fbfbf\">                    </span><span style=\"color: #000080; text-decoration-color: #000080\">INFO    </span> <span style=\"font-weight: bold\">[</span>_client.py:<span style=\"color: #008080; text-decoration-color: #008080; font-weight: bold\">1773</span><span style=\"font-weight: bold\">]</span> &gt;&gt; HTTP Request: <span style=\"color: #808000; text-decoration-color: #808000; font-weight: bold\">GET</span>                                 <a href=\"file:///Users/kimbwook/PycharmProjects/fast-campus/venv/lib/python3.10/site-packages/httpx/_client.py\" target=\"_blank\"><span style=\"color: #7f7f7f; text-decoration-color: #7f7f7f\">_client.py</span></a><span style=\"color: #7f7f7f; text-decoration-color: #7f7f7f\">:</span><a href=\"file:///Users/kimbwook/PycharmProjects/fast-campus/venv/lib/python3.10/site-packages/httpx/_client.py#1773\" target=\"_blank\"><span style=\"color: #7f7f7f; text-decoration-color: #7f7f7f\">1773</span></a>\n",
       "<span style=\"color: #7fbfbf; text-decoration-color: #7fbfbf\">                    </span>         <span style=\"color: #0000ff; text-decoration-color: #0000ff; text-decoration: underline\">https://api.cloud.llamaindex.ai/api/parsing/job/63360f54-f940-4901-bf9</span> <span style=\"color: #7f7f7f; text-decoration-color: #7f7f7f\">               </span>\n",
       "<span style=\"color: #7fbfbf; text-decoration-color: #7fbfbf\">                    </span>         <span style=\"color: #0000ff; text-decoration-color: #0000ff; text-decoration: underline\">2-04ad1dd47ca0</span> <span style=\"color: #008000; text-decoration-color: #008000\">\"HTTP/1.1 200 OK\"</span>                                       <span style=\"color: #7f7f7f; text-decoration-color: #7f7f7f\">               </span>\n",
       "</pre>\n"
      ]
     },
     "metadata": {},
     "output_type": "display_data"
    },
    {
     "data": {
      "text/plain": [
       "\u001B[2;36m[12/21/24 16:19:35]\u001B[0m\u001B[2;36m \u001B[0m\u001B[34mINFO    \u001B[0m \u001B[1m[\u001B[0m_client.py:\u001B[1;36m1773\u001B[0m\u001B[1m]\u001B[0m >> HTTP Request: \u001B[1;33mGET\u001B[0m                                 \u001B]8;id=311903;file:///Users/kimbwook/PycharmProjects/fast-campus/venv/lib/python3.10/site-packages/httpx/_client.py\u001B\\\u001B[2m_client.py\u001B[0m\u001B]8;;\u001B\\\u001B[2m:\u001B[0m\u001B]8;id=562193;file:///Users/kimbwook/PycharmProjects/fast-campus/venv/lib/python3.10/site-packages/httpx/_client.py#1773\u001B\\\u001B[2m1773\u001B[0m\u001B]8;;\u001B\\\n",
       "\u001B[2;36m                    \u001B[0m         \u001B[4;94mhttps://api.cloud.llamaindex.ai/api/parsing/job/42e204d1-4fd0-42bc-91a\u001B[0m \u001B[2m               \u001B[0m\n",
       "\u001B[2;36m                    \u001B[0m         \u001B[4;94m9-3aa68af5a739\u001B[0m \u001B[32m\"HTTP/1.1 200 OK\"\u001B[0m                                       \u001B[2m               \u001B[0m\n"
      ],
      "text/html": [
       "<pre style=\"white-space:pre;overflow-x:auto;line-height:normal;font-family:Menlo,'DejaVu Sans Mono',consolas,'Courier New',monospace\"><span style=\"color: #7fbfbf; text-decoration-color: #7fbfbf\">[12/21/24 16:19:35] </span><span style=\"color: #000080; text-decoration-color: #000080\">INFO    </span> <span style=\"font-weight: bold\">[</span>_client.py:<span style=\"color: #008080; text-decoration-color: #008080; font-weight: bold\">1773</span><span style=\"font-weight: bold\">]</span> &gt;&gt; HTTP Request: <span style=\"color: #808000; text-decoration-color: #808000; font-weight: bold\">GET</span>                                 <a href=\"file:///Users/kimbwook/PycharmProjects/fast-campus/venv/lib/python3.10/site-packages/httpx/_client.py\" target=\"_blank\"><span style=\"color: #7f7f7f; text-decoration-color: #7f7f7f\">_client.py</span></a><span style=\"color: #7f7f7f; text-decoration-color: #7f7f7f\">:</span><a href=\"file:///Users/kimbwook/PycharmProjects/fast-campus/venv/lib/python3.10/site-packages/httpx/_client.py#1773\" target=\"_blank\"><span style=\"color: #7f7f7f; text-decoration-color: #7f7f7f\">1773</span></a>\n",
       "<span style=\"color: #7fbfbf; text-decoration-color: #7fbfbf\">                    </span>         <span style=\"color: #0000ff; text-decoration-color: #0000ff; text-decoration: underline\">https://api.cloud.llamaindex.ai/api/parsing/job/42e204d1-4fd0-42bc-91a</span> <span style=\"color: #7f7f7f; text-decoration-color: #7f7f7f\">               </span>\n",
       "<span style=\"color: #7fbfbf; text-decoration-color: #7fbfbf\">                    </span>         <span style=\"color: #0000ff; text-decoration-color: #0000ff; text-decoration: underline\">9-3aa68af5a739</span> <span style=\"color: #008000; text-decoration-color: #008000\">\"HTTP/1.1 200 OK\"</span>                                       <span style=\"color: #7f7f7f; text-decoration-color: #7f7f7f\">               </span>\n",
       "</pre>\n"
      ]
     },
     "metadata": {},
     "output_type": "display_data"
    },
    {
     "data": {
      "text/plain": [
       "\u001B[2;36m[12/21/24 16:19:37]\u001B[0m\u001B[2;36m \u001B[0m\u001B[34mINFO    \u001B[0m \u001B[1m[\u001B[0m_client.py:\u001B[1;36m1773\u001B[0m\u001B[1m]\u001B[0m >> HTTP Request: \u001B[1;33mGET\u001B[0m                                 \u001B]8;id=627417;file:///Users/kimbwook/PycharmProjects/fast-campus/venv/lib/python3.10/site-packages/httpx/_client.py\u001B\\\u001B[2m_client.py\u001B[0m\u001B]8;;\u001B\\\u001B[2m:\u001B[0m\u001B]8;id=124050;file:///Users/kimbwook/PycharmProjects/fast-campus/venv/lib/python3.10/site-packages/httpx/_client.py#1773\u001B\\\u001B[2m1773\u001B[0m\u001B]8;;\u001B\\\n",
       "\u001B[2;36m                    \u001B[0m         \u001B[4;94mhttps://api.cloud.llamaindex.ai/api/parsing/job/75471825-60cd-42a0-b34\u001B[0m \u001B[2m               \u001B[0m\n",
       "\u001B[2;36m                    \u001B[0m         \u001B[4;94md-b1c240f96dfb\u001B[0m \u001B[32m\"HTTP/1.1 200 OK\"\u001B[0m                                       \u001B[2m               \u001B[0m\n"
      ],
      "text/html": [
       "<pre style=\"white-space:pre;overflow-x:auto;line-height:normal;font-family:Menlo,'DejaVu Sans Mono',consolas,'Courier New',monospace\"><span style=\"color: #7fbfbf; text-decoration-color: #7fbfbf\">[12/21/24 16:19:37] </span><span style=\"color: #000080; text-decoration-color: #000080\">INFO    </span> <span style=\"font-weight: bold\">[</span>_client.py:<span style=\"color: #008080; text-decoration-color: #008080; font-weight: bold\">1773</span><span style=\"font-weight: bold\">]</span> &gt;&gt; HTTP Request: <span style=\"color: #808000; text-decoration-color: #808000; font-weight: bold\">GET</span>                                 <a href=\"file:///Users/kimbwook/PycharmProjects/fast-campus/venv/lib/python3.10/site-packages/httpx/_client.py\" target=\"_blank\"><span style=\"color: #7f7f7f; text-decoration-color: #7f7f7f\">_client.py</span></a><span style=\"color: #7f7f7f; text-decoration-color: #7f7f7f\">:</span><a href=\"file:///Users/kimbwook/PycharmProjects/fast-campus/venv/lib/python3.10/site-packages/httpx/_client.py#1773\" target=\"_blank\"><span style=\"color: #7f7f7f; text-decoration-color: #7f7f7f\">1773</span></a>\n",
       "<span style=\"color: #7fbfbf; text-decoration-color: #7fbfbf\">                    </span>         <span style=\"color: #0000ff; text-decoration-color: #0000ff; text-decoration: underline\">https://api.cloud.llamaindex.ai/api/parsing/job/75471825-60cd-42a0-b34</span> <span style=\"color: #7f7f7f; text-decoration-color: #7f7f7f\">               </span>\n",
       "<span style=\"color: #7fbfbf; text-decoration-color: #7fbfbf\">                    </span>         <span style=\"color: #0000ff; text-decoration-color: #0000ff; text-decoration: underline\">d-b1c240f96dfb</span> <span style=\"color: #008000; text-decoration-color: #008000\">\"HTTP/1.1 200 OK\"</span>                                       <span style=\"color: #7f7f7f; text-decoration-color: #7f7f7f\">               </span>\n",
       "</pre>\n"
      ]
     },
     "metadata": {},
     "output_type": "display_data"
    },
    {
     "data": {
      "text/plain": [
       "\u001B[2;36m                   \u001B[0m\u001B[2;36m \u001B[0m\u001B[34mINFO    \u001B[0m \u001B[1m[\u001B[0m_client.py:\u001B[1;36m1773\u001B[0m\u001B[1m]\u001B[0m >> HTTP Request: \u001B[1;33mGET\u001B[0m                                 \u001B]8;id=759249;file:///Users/kimbwook/PycharmProjects/fast-campus/venv/lib/python3.10/site-packages/httpx/_client.py\u001B\\\u001B[2m_client.py\u001B[0m\u001B]8;;\u001B\\\u001B[2m:\u001B[0m\u001B]8;id=452232;file:///Users/kimbwook/PycharmProjects/fast-campus/venv/lib/python3.10/site-packages/httpx/_client.py#1773\u001B\\\u001B[2m1773\u001B[0m\u001B]8;;\u001B\\\n",
       "\u001B[2;36m                    \u001B[0m         \u001B[4;94mhttps://api.cloud.llamaindex.ai/api/parsing/job/40f8157f-cc8b-4629-b57\u001B[0m \u001B[2m               \u001B[0m\n",
       "\u001B[2;36m                    \u001B[0m         \u001B[4;94me-7deb3d35d2c8\u001B[0m \u001B[32m\"HTTP/1.1 200 OK\"\u001B[0m                                       \u001B[2m               \u001B[0m\n"
      ],
      "text/html": [
       "<pre style=\"white-space:pre;overflow-x:auto;line-height:normal;font-family:Menlo,'DejaVu Sans Mono',consolas,'Courier New',monospace\"><span style=\"color: #7fbfbf; text-decoration-color: #7fbfbf\">                    </span><span style=\"color: #000080; text-decoration-color: #000080\">INFO    </span> <span style=\"font-weight: bold\">[</span>_client.py:<span style=\"color: #008080; text-decoration-color: #008080; font-weight: bold\">1773</span><span style=\"font-weight: bold\">]</span> &gt;&gt; HTTP Request: <span style=\"color: #808000; text-decoration-color: #808000; font-weight: bold\">GET</span>                                 <a href=\"file:///Users/kimbwook/PycharmProjects/fast-campus/venv/lib/python3.10/site-packages/httpx/_client.py\" target=\"_blank\"><span style=\"color: #7f7f7f; text-decoration-color: #7f7f7f\">_client.py</span></a><span style=\"color: #7f7f7f; text-decoration-color: #7f7f7f\">:</span><a href=\"file:///Users/kimbwook/PycharmProjects/fast-campus/venv/lib/python3.10/site-packages/httpx/_client.py#1773\" target=\"_blank\"><span style=\"color: #7f7f7f; text-decoration-color: #7f7f7f\">1773</span></a>\n",
       "<span style=\"color: #7fbfbf; text-decoration-color: #7fbfbf\">                    </span>         <span style=\"color: #0000ff; text-decoration-color: #0000ff; text-decoration: underline\">https://api.cloud.llamaindex.ai/api/parsing/job/40f8157f-cc8b-4629-b57</span> <span style=\"color: #7f7f7f; text-decoration-color: #7f7f7f\">               </span>\n",
       "<span style=\"color: #7fbfbf; text-decoration-color: #7fbfbf\">                    </span>         <span style=\"color: #0000ff; text-decoration-color: #0000ff; text-decoration: underline\">e-7deb3d35d2c8</span> <span style=\"color: #008000; text-decoration-color: #008000\">\"HTTP/1.1 200 OK\"</span>                                       <span style=\"color: #7f7f7f; text-decoration-color: #7f7f7f\">               </span>\n",
       "</pre>\n"
      ]
     },
     "metadata": {},
     "output_type": "display_data"
    },
    {
     "data": {
      "text/plain": [
       "\u001B[2;36m                   \u001B[0m\u001B[2;36m \u001B[0m\u001B[34mINFO    \u001B[0m \u001B[1m[\u001B[0m_client.py:\u001B[1;36m1773\u001B[0m\u001B[1m]\u001B[0m >> HTTP Request: \u001B[1;33mGET\u001B[0m                                 \u001B]8;id=489916;file:///Users/kimbwook/PycharmProjects/fast-campus/venv/lib/python3.10/site-packages/httpx/_client.py\u001B\\\u001B[2m_client.py\u001B[0m\u001B]8;;\u001B\\\u001B[2m:\u001B[0m\u001B]8;id=293790;file:///Users/kimbwook/PycharmProjects/fast-campus/venv/lib/python3.10/site-packages/httpx/_client.py#1773\u001B\\\u001B[2m1773\u001B[0m\u001B]8;;\u001B\\\n",
       "\u001B[2;36m                    \u001B[0m         \u001B[4;94mhttps://api.cloud.llamaindex.ai/api/parsing/job/bef76ef8-e309-40bd-8b4\u001B[0m \u001B[2m               \u001B[0m\n",
       "\u001B[2;36m                    \u001B[0m         \u001B[4;94me-ad3ceff2d9ee\u001B[0m \u001B[32m\"HTTP/1.1 200 OK\"\u001B[0m                                       \u001B[2m               \u001B[0m\n"
      ],
      "text/html": [
       "<pre style=\"white-space:pre;overflow-x:auto;line-height:normal;font-family:Menlo,'DejaVu Sans Mono',consolas,'Courier New',monospace\"><span style=\"color: #7fbfbf; text-decoration-color: #7fbfbf\">                    </span><span style=\"color: #000080; text-decoration-color: #000080\">INFO    </span> <span style=\"font-weight: bold\">[</span>_client.py:<span style=\"color: #008080; text-decoration-color: #008080; font-weight: bold\">1773</span><span style=\"font-weight: bold\">]</span> &gt;&gt; HTTP Request: <span style=\"color: #808000; text-decoration-color: #808000; font-weight: bold\">GET</span>                                 <a href=\"file:///Users/kimbwook/PycharmProjects/fast-campus/venv/lib/python3.10/site-packages/httpx/_client.py\" target=\"_blank\"><span style=\"color: #7f7f7f; text-decoration-color: #7f7f7f\">_client.py</span></a><span style=\"color: #7f7f7f; text-decoration-color: #7f7f7f\">:</span><a href=\"file:///Users/kimbwook/PycharmProjects/fast-campus/venv/lib/python3.10/site-packages/httpx/_client.py#1773\" target=\"_blank\"><span style=\"color: #7f7f7f; text-decoration-color: #7f7f7f\">1773</span></a>\n",
       "<span style=\"color: #7fbfbf; text-decoration-color: #7fbfbf\">                    </span>         <span style=\"color: #0000ff; text-decoration-color: #0000ff; text-decoration: underline\">https://api.cloud.llamaindex.ai/api/parsing/job/bef76ef8-e309-40bd-8b4</span> <span style=\"color: #7f7f7f; text-decoration-color: #7f7f7f\">               </span>\n",
       "<span style=\"color: #7fbfbf; text-decoration-color: #7fbfbf\">                    </span>         <span style=\"color: #0000ff; text-decoration-color: #0000ff; text-decoration: underline\">e-ad3ceff2d9ee</span> <span style=\"color: #008000; text-decoration-color: #008000\">\"HTTP/1.1 200 OK\"</span>                                       <span style=\"color: #7f7f7f; text-decoration-color: #7f7f7f\">               </span>\n",
       "</pre>\n"
      ]
     },
     "metadata": {},
     "output_type": "display_data"
    },
    {
     "data": {
      "text/plain": [
       "\u001B[2;36m                   \u001B[0m\u001B[2;36m \u001B[0m\u001B[34mINFO    \u001B[0m \u001B[1m[\u001B[0m_client.py:\u001B[1;36m1773\u001B[0m\u001B[1m]\u001B[0m >> HTTP Request: \u001B[1;33mGET\u001B[0m                                 \u001B]8;id=998727;file:///Users/kimbwook/PycharmProjects/fast-campus/venv/lib/python3.10/site-packages/httpx/_client.py\u001B\\\u001B[2m_client.py\u001B[0m\u001B]8;;\u001B\\\u001B[2m:\u001B[0m\u001B]8;id=223538;file:///Users/kimbwook/PycharmProjects/fast-campus/venv/lib/python3.10/site-packages/httpx/_client.py#1773\u001B\\\u001B[2m1773\u001B[0m\u001B]8;;\u001B\\\n",
       "\u001B[2;36m                    \u001B[0m         \u001B[4;94mhttps://api.cloud.llamaindex.ai/api/parsing/job/3bc6e83d-0f9a-4a08-93b\u001B[0m \u001B[2m               \u001B[0m\n",
       "\u001B[2;36m                    \u001B[0m         \u001B[4;94m4-f30fbd99d127\u001B[0m \u001B[32m\"HTTP/1.1 200 OK\"\u001B[0m                                       \u001B[2m               \u001B[0m\n"
      ],
      "text/html": [
       "<pre style=\"white-space:pre;overflow-x:auto;line-height:normal;font-family:Menlo,'DejaVu Sans Mono',consolas,'Courier New',monospace\"><span style=\"color: #7fbfbf; text-decoration-color: #7fbfbf\">                    </span><span style=\"color: #000080; text-decoration-color: #000080\">INFO    </span> <span style=\"font-weight: bold\">[</span>_client.py:<span style=\"color: #008080; text-decoration-color: #008080; font-weight: bold\">1773</span><span style=\"font-weight: bold\">]</span> &gt;&gt; HTTP Request: <span style=\"color: #808000; text-decoration-color: #808000; font-weight: bold\">GET</span>                                 <a href=\"file:///Users/kimbwook/PycharmProjects/fast-campus/venv/lib/python3.10/site-packages/httpx/_client.py\" target=\"_blank\"><span style=\"color: #7f7f7f; text-decoration-color: #7f7f7f\">_client.py</span></a><span style=\"color: #7f7f7f; text-decoration-color: #7f7f7f\">:</span><a href=\"file:///Users/kimbwook/PycharmProjects/fast-campus/venv/lib/python3.10/site-packages/httpx/_client.py#1773\" target=\"_blank\"><span style=\"color: #7f7f7f; text-decoration-color: #7f7f7f\">1773</span></a>\n",
       "<span style=\"color: #7fbfbf; text-decoration-color: #7fbfbf\">                    </span>         <span style=\"color: #0000ff; text-decoration-color: #0000ff; text-decoration: underline\">https://api.cloud.llamaindex.ai/api/parsing/job/3bc6e83d-0f9a-4a08-93b</span> <span style=\"color: #7f7f7f; text-decoration-color: #7f7f7f\">               </span>\n",
       "<span style=\"color: #7fbfbf; text-decoration-color: #7fbfbf\">                    </span>         <span style=\"color: #0000ff; text-decoration-color: #0000ff; text-decoration: underline\">4-f30fbd99d127</span> <span style=\"color: #008000; text-decoration-color: #008000\">\"HTTP/1.1 200 OK\"</span>                                       <span style=\"color: #7f7f7f; text-decoration-color: #7f7f7f\">               </span>\n",
       "</pre>\n"
      ]
     },
     "metadata": {},
     "output_type": "display_data"
    },
    {
     "data": {
      "text/plain": [
       "\u001B[2;36m                   \u001B[0m\u001B[2;36m \u001B[0m\u001B[34mINFO    \u001B[0m \u001B[1m[\u001B[0m_client.py:\u001B[1;36m1773\u001B[0m\u001B[1m]\u001B[0m >> HTTP Request: \u001B[1;33mGET\u001B[0m                                 \u001B]8;id=564232;file:///Users/kimbwook/PycharmProjects/fast-campus/venv/lib/python3.10/site-packages/httpx/_client.py\u001B\\\u001B[2m_client.py\u001B[0m\u001B]8;;\u001B\\\u001B[2m:\u001B[0m\u001B]8;id=390224;file:///Users/kimbwook/PycharmProjects/fast-campus/venv/lib/python3.10/site-packages/httpx/_client.py#1773\u001B\\\u001B[2m1773\u001B[0m\u001B]8;;\u001B\\\n",
       "\u001B[2;36m                    \u001B[0m         \u001B[4;94mhttps://api.cloud.llamaindex.ai/api/parsing/job/de767d33-547e-4518-b83\u001B[0m \u001B[2m               \u001B[0m\n",
       "\u001B[2;36m                    \u001B[0m         \u001B[4;94m6-5ce93eb56fc3\u001B[0m \u001B[32m\"HTTP/1.1 200 OK\"\u001B[0m                                       \u001B[2m               \u001B[0m\n"
      ],
      "text/html": [
       "<pre style=\"white-space:pre;overflow-x:auto;line-height:normal;font-family:Menlo,'DejaVu Sans Mono',consolas,'Courier New',monospace\"><span style=\"color: #7fbfbf; text-decoration-color: #7fbfbf\">                    </span><span style=\"color: #000080; text-decoration-color: #000080\">INFO    </span> <span style=\"font-weight: bold\">[</span>_client.py:<span style=\"color: #008080; text-decoration-color: #008080; font-weight: bold\">1773</span><span style=\"font-weight: bold\">]</span> &gt;&gt; HTTP Request: <span style=\"color: #808000; text-decoration-color: #808000; font-weight: bold\">GET</span>                                 <a href=\"file:///Users/kimbwook/PycharmProjects/fast-campus/venv/lib/python3.10/site-packages/httpx/_client.py\" target=\"_blank\"><span style=\"color: #7f7f7f; text-decoration-color: #7f7f7f\">_client.py</span></a><span style=\"color: #7f7f7f; text-decoration-color: #7f7f7f\">:</span><a href=\"file:///Users/kimbwook/PycharmProjects/fast-campus/venv/lib/python3.10/site-packages/httpx/_client.py#1773\" target=\"_blank\"><span style=\"color: #7f7f7f; text-decoration-color: #7f7f7f\">1773</span></a>\n",
       "<span style=\"color: #7fbfbf; text-decoration-color: #7fbfbf\">                    </span>         <span style=\"color: #0000ff; text-decoration-color: #0000ff; text-decoration: underline\">https://api.cloud.llamaindex.ai/api/parsing/job/de767d33-547e-4518-b83</span> <span style=\"color: #7f7f7f; text-decoration-color: #7f7f7f\">               </span>\n",
       "<span style=\"color: #7fbfbf; text-decoration-color: #7fbfbf\">                    </span>         <span style=\"color: #0000ff; text-decoration-color: #0000ff; text-decoration: underline\">6-5ce93eb56fc3</span> <span style=\"color: #008000; text-decoration-color: #008000\">\"HTTP/1.1 200 OK\"</span>                                       <span style=\"color: #7f7f7f; text-decoration-color: #7f7f7f\">               </span>\n",
       "</pre>\n"
      ]
     },
     "metadata": {},
     "output_type": "display_data"
    },
    {
     "data": {
      "text/plain": [
       "\u001B[2;36m                   \u001B[0m\u001B[2;36m \u001B[0m\u001B[34mINFO    \u001B[0m \u001B[1m[\u001B[0m_client.py:\u001B[1;36m1773\u001B[0m\u001B[1m]\u001B[0m >> HTTP Request: \u001B[1;33mGET\u001B[0m                                 \u001B]8;id=925526;file:///Users/kimbwook/PycharmProjects/fast-campus/venv/lib/python3.10/site-packages/httpx/_client.py\u001B\\\u001B[2m_client.py\u001B[0m\u001B]8;;\u001B\\\u001B[2m:\u001B[0m\u001B]8;id=962079;file:///Users/kimbwook/PycharmProjects/fast-campus/venv/lib/python3.10/site-packages/httpx/_client.py#1773\u001B\\\u001B[2m1773\u001B[0m\u001B]8;;\u001B\\\n",
       "\u001B[2;36m                    \u001B[0m         \u001B[4;94mhttps://api.cloud.llamaindex.ai/api/parsing/job/2b1bc2f9-1862-41b5-8d6\u001B[0m \u001B[2m               \u001B[0m\n",
       "\u001B[2;36m                    \u001B[0m         \u001B[4;94mc-e92953b0754b\u001B[0m \u001B[32m\"HTTP/1.1 200 OK\"\u001B[0m                                       \u001B[2m               \u001B[0m\n"
      ],
      "text/html": [
       "<pre style=\"white-space:pre;overflow-x:auto;line-height:normal;font-family:Menlo,'DejaVu Sans Mono',consolas,'Courier New',monospace\"><span style=\"color: #7fbfbf; text-decoration-color: #7fbfbf\">                    </span><span style=\"color: #000080; text-decoration-color: #000080\">INFO    </span> <span style=\"font-weight: bold\">[</span>_client.py:<span style=\"color: #008080; text-decoration-color: #008080; font-weight: bold\">1773</span><span style=\"font-weight: bold\">]</span> &gt;&gt; HTTP Request: <span style=\"color: #808000; text-decoration-color: #808000; font-weight: bold\">GET</span>                                 <a href=\"file:///Users/kimbwook/PycharmProjects/fast-campus/venv/lib/python3.10/site-packages/httpx/_client.py\" target=\"_blank\"><span style=\"color: #7f7f7f; text-decoration-color: #7f7f7f\">_client.py</span></a><span style=\"color: #7f7f7f; text-decoration-color: #7f7f7f\">:</span><a href=\"file:///Users/kimbwook/PycharmProjects/fast-campus/venv/lib/python3.10/site-packages/httpx/_client.py#1773\" target=\"_blank\"><span style=\"color: #7f7f7f; text-decoration-color: #7f7f7f\">1773</span></a>\n",
       "<span style=\"color: #7fbfbf; text-decoration-color: #7fbfbf\">                    </span>         <span style=\"color: #0000ff; text-decoration-color: #0000ff; text-decoration: underline\">https://api.cloud.llamaindex.ai/api/parsing/job/2b1bc2f9-1862-41b5-8d6</span> <span style=\"color: #7f7f7f; text-decoration-color: #7f7f7f\">               </span>\n",
       "<span style=\"color: #7fbfbf; text-decoration-color: #7fbfbf\">                    </span>         <span style=\"color: #0000ff; text-decoration-color: #0000ff; text-decoration: underline\">c-e92953b0754b</span> <span style=\"color: #008000; text-decoration-color: #008000\">\"HTTP/1.1 200 OK\"</span>                                       <span style=\"color: #7f7f7f; text-decoration-color: #7f7f7f\">               </span>\n",
       "</pre>\n"
      ]
     },
     "metadata": {},
     "output_type": "display_data"
    },
    {
     "data": {
      "text/plain": [
       "\u001B[2;36m                   \u001B[0m\u001B[2;36m \u001B[0m\u001B[34mINFO    \u001B[0m \u001B[1m[\u001B[0m_client.py:\u001B[1;36m1773\u001B[0m\u001B[1m]\u001B[0m >> HTTP Request: \u001B[1;33mGET\u001B[0m                                 \u001B]8;id=938580;file:///Users/kimbwook/PycharmProjects/fast-campus/venv/lib/python3.10/site-packages/httpx/_client.py\u001B\\\u001B[2m_client.py\u001B[0m\u001B]8;;\u001B\\\u001B[2m:\u001B[0m\u001B]8;id=368004;file:///Users/kimbwook/PycharmProjects/fast-campus/venv/lib/python3.10/site-packages/httpx/_client.py#1773\u001B\\\u001B[2m1773\u001B[0m\u001B]8;;\u001B\\\n",
       "\u001B[2;36m                    \u001B[0m         \u001B[4;94mhttps://api.cloud.llamaindex.ai/api/parsing/job/bef76ef8-e309-40bd-8b4\u001B[0m \u001B[2m               \u001B[0m\n",
       "\u001B[2;36m                    \u001B[0m         \u001B[4;94me-ad3ceff2d9ee/result/markdown\u001B[0m \u001B[32m\"HTTP/1.1 200 OK\"\u001B[0m                       \u001B[2m               \u001B[0m\n"
      ],
      "text/html": [
       "<pre style=\"white-space:pre;overflow-x:auto;line-height:normal;font-family:Menlo,'DejaVu Sans Mono',consolas,'Courier New',monospace\"><span style=\"color: #7fbfbf; text-decoration-color: #7fbfbf\">                    </span><span style=\"color: #000080; text-decoration-color: #000080\">INFO    </span> <span style=\"font-weight: bold\">[</span>_client.py:<span style=\"color: #008080; text-decoration-color: #008080; font-weight: bold\">1773</span><span style=\"font-weight: bold\">]</span> &gt;&gt; HTTP Request: <span style=\"color: #808000; text-decoration-color: #808000; font-weight: bold\">GET</span>                                 <a href=\"file:///Users/kimbwook/PycharmProjects/fast-campus/venv/lib/python3.10/site-packages/httpx/_client.py\" target=\"_blank\"><span style=\"color: #7f7f7f; text-decoration-color: #7f7f7f\">_client.py</span></a><span style=\"color: #7f7f7f; text-decoration-color: #7f7f7f\">:</span><a href=\"file:///Users/kimbwook/PycharmProjects/fast-campus/venv/lib/python3.10/site-packages/httpx/_client.py#1773\" target=\"_blank\"><span style=\"color: #7f7f7f; text-decoration-color: #7f7f7f\">1773</span></a>\n",
       "<span style=\"color: #7fbfbf; text-decoration-color: #7fbfbf\">                    </span>         <span style=\"color: #0000ff; text-decoration-color: #0000ff; text-decoration: underline\">https://api.cloud.llamaindex.ai/api/parsing/job/bef76ef8-e309-40bd-8b4</span> <span style=\"color: #7f7f7f; text-decoration-color: #7f7f7f\">               </span>\n",
       "<span style=\"color: #7fbfbf; text-decoration-color: #7fbfbf\">                    </span>         <span style=\"color: #0000ff; text-decoration-color: #0000ff; text-decoration: underline\">e-ad3ceff2d9ee/result/markdown</span> <span style=\"color: #008000; text-decoration-color: #008000\">\"HTTP/1.1 200 OK\"</span>                       <span style=\"color: #7f7f7f; text-decoration-color: #7f7f7f\">               </span>\n",
       "</pre>\n"
      ]
     },
     "metadata": {},
     "output_type": "display_data"
    },
    {
     "data": {
      "text/plain": [
       "\u001B[2;36m                   \u001B[0m\u001B[2;36m \u001B[0m\u001B[34mINFO    \u001B[0m \u001B[1m[\u001B[0m_client.py:\u001B[1;36m1773\u001B[0m\u001B[1m]\u001B[0m >> HTTP Request: \u001B[1;33mGET\u001B[0m                                 \u001B]8;id=320302;file:///Users/kimbwook/PycharmProjects/fast-campus/venv/lib/python3.10/site-packages/httpx/_client.py\u001B\\\u001B[2m_client.py\u001B[0m\u001B]8;;\u001B\\\u001B[2m:\u001B[0m\u001B]8;id=654494;file:///Users/kimbwook/PycharmProjects/fast-campus/venv/lib/python3.10/site-packages/httpx/_client.py#1773\u001B\\\u001B[2m1773\u001B[0m\u001B]8;;\u001B\\\n",
       "\u001B[2;36m                    \u001B[0m         \u001B[4;94mhttps://api.cloud.llamaindex.ai/api/parsing/job/63360f54-f940-4901-bf9\u001B[0m \u001B[2m               \u001B[0m\n",
       "\u001B[2;36m                    \u001B[0m         \u001B[4;94m2-04ad1dd47ca0\u001B[0m \u001B[32m\"HTTP/1.1 200 OK\"\u001B[0m                                       \u001B[2m               \u001B[0m\n"
      ],
      "text/html": [
       "<pre style=\"white-space:pre;overflow-x:auto;line-height:normal;font-family:Menlo,'DejaVu Sans Mono',consolas,'Courier New',monospace\"><span style=\"color: #7fbfbf; text-decoration-color: #7fbfbf\">                    </span><span style=\"color: #000080; text-decoration-color: #000080\">INFO    </span> <span style=\"font-weight: bold\">[</span>_client.py:<span style=\"color: #008080; text-decoration-color: #008080; font-weight: bold\">1773</span><span style=\"font-weight: bold\">]</span> &gt;&gt; HTTP Request: <span style=\"color: #808000; text-decoration-color: #808000; font-weight: bold\">GET</span>                                 <a href=\"file:///Users/kimbwook/PycharmProjects/fast-campus/venv/lib/python3.10/site-packages/httpx/_client.py\" target=\"_blank\"><span style=\"color: #7f7f7f; text-decoration-color: #7f7f7f\">_client.py</span></a><span style=\"color: #7f7f7f; text-decoration-color: #7f7f7f\">:</span><a href=\"file:///Users/kimbwook/PycharmProjects/fast-campus/venv/lib/python3.10/site-packages/httpx/_client.py#1773\" target=\"_blank\"><span style=\"color: #7f7f7f; text-decoration-color: #7f7f7f\">1773</span></a>\n",
       "<span style=\"color: #7fbfbf; text-decoration-color: #7fbfbf\">                    </span>         <span style=\"color: #0000ff; text-decoration-color: #0000ff; text-decoration: underline\">https://api.cloud.llamaindex.ai/api/parsing/job/63360f54-f940-4901-bf9</span> <span style=\"color: #7f7f7f; text-decoration-color: #7f7f7f\">               </span>\n",
       "<span style=\"color: #7fbfbf; text-decoration-color: #7fbfbf\">                    </span>         <span style=\"color: #0000ff; text-decoration-color: #0000ff; text-decoration: underline\">2-04ad1dd47ca0</span> <span style=\"color: #008000; text-decoration-color: #008000\">\"HTTP/1.1 200 OK\"</span>                                       <span style=\"color: #7f7f7f; text-decoration-color: #7f7f7f\">               </span>\n",
       "</pre>\n"
      ]
     },
     "metadata": {},
     "output_type": "display_data"
    },
    {
     "data": {
      "text/plain": [
       "\u001B[2;36m                   \u001B[0m\u001B[2;36m \u001B[0m\u001B[34mINFO    \u001B[0m \u001B[1m[\u001B[0m_client.py:\u001B[1;36m1773\u001B[0m\u001B[1m]\u001B[0m >> HTTP Request: \u001B[1;33mGET\u001B[0m                                 \u001B]8;id=586350;file:///Users/kimbwook/PycharmProjects/fast-campus/venv/lib/python3.10/site-packages/httpx/_client.py\u001B\\\u001B[2m_client.py\u001B[0m\u001B]8;;\u001B\\\u001B[2m:\u001B[0m\u001B]8;id=873648;file:///Users/kimbwook/PycharmProjects/fast-campus/venv/lib/python3.10/site-packages/httpx/_client.py#1773\u001B\\\u001B[2m1773\u001B[0m\u001B]8;;\u001B\\\n",
       "\u001B[2;36m                    \u001B[0m         \u001B[4;94mhttps://api.cloud.llamaindex.ai/api/parsing/job/42e204d1-4fd0-42bc-91a\u001B[0m \u001B[2m               \u001B[0m\n",
       "\u001B[2;36m                    \u001B[0m         \u001B[4;94m9-3aa68af5a739\u001B[0m \u001B[32m\"HTTP/1.1 200 OK\"\u001B[0m                                       \u001B[2m               \u001B[0m\n"
      ],
      "text/html": [
       "<pre style=\"white-space:pre;overflow-x:auto;line-height:normal;font-family:Menlo,'DejaVu Sans Mono',consolas,'Courier New',monospace\"><span style=\"color: #7fbfbf; text-decoration-color: #7fbfbf\">                    </span><span style=\"color: #000080; text-decoration-color: #000080\">INFO    </span> <span style=\"font-weight: bold\">[</span>_client.py:<span style=\"color: #008080; text-decoration-color: #008080; font-weight: bold\">1773</span><span style=\"font-weight: bold\">]</span> &gt;&gt; HTTP Request: <span style=\"color: #808000; text-decoration-color: #808000; font-weight: bold\">GET</span>                                 <a href=\"file:///Users/kimbwook/PycharmProjects/fast-campus/venv/lib/python3.10/site-packages/httpx/_client.py\" target=\"_blank\"><span style=\"color: #7f7f7f; text-decoration-color: #7f7f7f\">_client.py</span></a><span style=\"color: #7f7f7f; text-decoration-color: #7f7f7f\">:</span><a href=\"file:///Users/kimbwook/PycharmProjects/fast-campus/venv/lib/python3.10/site-packages/httpx/_client.py#1773\" target=\"_blank\"><span style=\"color: #7f7f7f; text-decoration-color: #7f7f7f\">1773</span></a>\n",
       "<span style=\"color: #7fbfbf; text-decoration-color: #7fbfbf\">                    </span>         <span style=\"color: #0000ff; text-decoration-color: #0000ff; text-decoration: underline\">https://api.cloud.llamaindex.ai/api/parsing/job/42e204d1-4fd0-42bc-91a</span> <span style=\"color: #7f7f7f; text-decoration-color: #7f7f7f\">               </span>\n",
       "<span style=\"color: #7fbfbf; text-decoration-color: #7fbfbf\">                    </span>         <span style=\"color: #0000ff; text-decoration-color: #0000ff; text-decoration: underline\">9-3aa68af5a739</span> <span style=\"color: #008000; text-decoration-color: #008000\">\"HTTP/1.1 200 OK\"</span>                                       <span style=\"color: #7f7f7f; text-decoration-color: #7f7f7f\">               </span>\n",
       "</pre>\n"
      ]
     },
     "metadata": {},
     "output_type": "display_data"
    },
    {
     "data": {
      "text/plain": [
       "\u001B[2;36m[12/21/24 16:19:39]\u001B[0m\u001B[2;36m \u001B[0m\u001B[34mINFO    \u001B[0m \u001B[1m[\u001B[0m_client.py:\u001B[1;36m1773\u001B[0m\u001B[1m]\u001B[0m >> HTTP Request: \u001B[1;33mGET\u001B[0m                                 \u001B]8;id=662096;file:///Users/kimbwook/PycharmProjects/fast-campus/venv/lib/python3.10/site-packages/httpx/_client.py\u001B\\\u001B[2m_client.py\u001B[0m\u001B]8;;\u001B\\\u001B[2m:\u001B[0m\u001B]8;id=539594;file:///Users/kimbwook/PycharmProjects/fast-campus/venv/lib/python3.10/site-packages/httpx/_client.py#1773\u001B\\\u001B[2m1773\u001B[0m\u001B]8;;\u001B\\\n",
       "\u001B[2;36m                    \u001B[0m         \u001B[4;94mhttps://api.cloud.llamaindex.ai/api/parsing/job/75471825-60cd-42a0-b34\u001B[0m \u001B[2m               \u001B[0m\n",
       "\u001B[2;36m                    \u001B[0m         \u001B[4;94md-b1c240f96dfb\u001B[0m \u001B[32m\"HTTP/1.1 200 OK\"\u001B[0m                                       \u001B[2m               \u001B[0m\n"
      ],
      "text/html": [
       "<pre style=\"white-space:pre;overflow-x:auto;line-height:normal;font-family:Menlo,'DejaVu Sans Mono',consolas,'Courier New',monospace\"><span style=\"color: #7fbfbf; text-decoration-color: #7fbfbf\">[12/21/24 16:19:39] </span><span style=\"color: #000080; text-decoration-color: #000080\">INFO    </span> <span style=\"font-weight: bold\">[</span>_client.py:<span style=\"color: #008080; text-decoration-color: #008080; font-weight: bold\">1773</span><span style=\"font-weight: bold\">]</span> &gt;&gt; HTTP Request: <span style=\"color: #808000; text-decoration-color: #808000; font-weight: bold\">GET</span>                                 <a href=\"file:///Users/kimbwook/PycharmProjects/fast-campus/venv/lib/python3.10/site-packages/httpx/_client.py\" target=\"_blank\"><span style=\"color: #7f7f7f; text-decoration-color: #7f7f7f\">_client.py</span></a><span style=\"color: #7f7f7f; text-decoration-color: #7f7f7f\">:</span><a href=\"file:///Users/kimbwook/PycharmProjects/fast-campus/venv/lib/python3.10/site-packages/httpx/_client.py#1773\" target=\"_blank\"><span style=\"color: #7f7f7f; text-decoration-color: #7f7f7f\">1773</span></a>\n",
       "<span style=\"color: #7fbfbf; text-decoration-color: #7fbfbf\">                    </span>         <span style=\"color: #0000ff; text-decoration-color: #0000ff; text-decoration: underline\">https://api.cloud.llamaindex.ai/api/parsing/job/75471825-60cd-42a0-b34</span> <span style=\"color: #7f7f7f; text-decoration-color: #7f7f7f\">               </span>\n",
       "<span style=\"color: #7fbfbf; text-decoration-color: #7fbfbf\">                    </span>         <span style=\"color: #0000ff; text-decoration-color: #0000ff; text-decoration: underline\">d-b1c240f96dfb</span> <span style=\"color: #008000; text-decoration-color: #008000\">\"HTTP/1.1 200 OK\"</span>                                       <span style=\"color: #7f7f7f; text-decoration-color: #7f7f7f\">               </span>\n",
       "</pre>\n"
      ]
     },
     "metadata": {},
     "output_type": "display_data"
    },
    {
     "data": {
      "text/plain": [
       "\u001B[2;36m                   \u001B[0m\u001B[2;36m \u001B[0m\u001B[34mINFO    \u001B[0m \u001B[1m[\u001B[0m_client.py:\u001B[1;36m1773\u001B[0m\u001B[1m]\u001B[0m >> HTTP Request: \u001B[1;33mGET\u001B[0m                                 \u001B]8;id=544141;file:///Users/kimbwook/PycharmProjects/fast-campus/venv/lib/python3.10/site-packages/httpx/_client.py\u001B\\\u001B[2m_client.py\u001B[0m\u001B]8;;\u001B\\\u001B[2m:\u001B[0m\u001B]8;id=856767;file:///Users/kimbwook/PycharmProjects/fast-campus/venv/lib/python3.10/site-packages/httpx/_client.py#1773\u001B\\\u001B[2m1773\u001B[0m\u001B]8;;\u001B\\\n",
       "\u001B[2;36m                    \u001B[0m         \u001B[4;94mhttps://api.cloud.llamaindex.ai/api/parsing/job/40f8157f-cc8b-4629-b57\u001B[0m \u001B[2m               \u001B[0m\n",
       "\u001B[2;36m                    \u001B[0m         \u001B[4;94me-7deb3d35d2c8\u001B[0m \u001B[32m\"HTTP/1.1 200 OK\"\u001B[0m                                       \u001B[2m               \u001B[0m\n"
      ],
      "text/html": [
       "<pre style=\"white-space:pre;overflow-x:auto;line-height:normal;font-family:Menlo,'DejaVu Sans Mono',consolas,'Courier New',monospace\"><span style=\"color: #7fbfbf; text-decoration-color: #7fbfbf\">                    </span><span style=\"color: #000080; text-decoration-color: #000080\">INFO    </span> <span style=\"font-weight: bold\">[</span>_client.py:<span style=\"color: #008080; text-decoration-color: #008080; font-weight: bold\">1773</span><span style=\"font-weight: bold\">]</span> &gt;&gt; HTTP Request: <span style=\"color: #808000; text-decoration-color: #808000; font-weight: bold\">GET</span>                                 <a href=\"file:///Users/kimbwook/PycharmProjects/fast-campus/venv/lib/python3.10/site-packages/httpx/_client.py\" target=\"_blank\"><span style=\"color: #7f7f7f; text-decoration-color: #7f7f7f\">_client.py</span></a><span style=\"color: #7f7f7f; text-decoration-color: #7f7f7f\">:</span><a href=\"file:///Users/kimbwook/PycharmProjects/fast-campus/venv/lib/python3.10/site-packages/httpx/_client.py#1773\" target=\"_blank\"><span style=\"color: #7f7f7f; text-decoration-color: #7f7f7f\">1773</span></a>\n",
       "<span style=\"color: #7fbfbf; text-decoration-color: #7fbfbf\">                    </span>         <span style=\"color: #0000ff; text-decoration-color: #0000ff; text-decoration: underline\">https://api.cloud.llamaindex.ai/api/parsing/job/40f8157f-cc8b-4629-b57</span> <span style=\"color: #7f7f7f; text-decoration-color: #7f7f7f\">               </span>\n",
       "<span style=\"color: #7fbfbf; text-decoration-color: #7fbfbf\">                    </span>         <span style=\"color: #0000ff; text-decoration-color: #0000ff; text-decoration: underline\">e-7deb3d35d2c8</span> <span style=\"color: #008000; text-decoration-color: #008000\">\"HTTP/1.1 200 OK\"</span>                                       <span style=\"color: #7f7f7f; text-decoration-color: #7f7f7f\">               </span>\n",
       "</pre>\n"
      ]
     },
     "metadata": {},
     "output_type": "display_data"
    },
    {
     "data": {
      "text/plain": [
       "\u001B[2;36m                   \u001B[0m\u001B[2;36m \u001B[0m\u001B[34mINFO    \u001B[0m \u001B[1m[\u001B[0m_client.py:\u001B[1;36m1773\u001B[0m\u001B[1m]\u001B[0m >> HTTP Request: \u001B[1;33mGET\u001B[0m                                 \u001B]8;id=378387;file:///Users/kimbwook/PycharmProjects/fast-campus/venv/lib/python3.10/site-packages/httpx/_client.py\u001B\\\u001B[2m_client.py\u001B[0m\u001B]8;;\u001B\\\u001B[2m:\u001B[0m\u001B]8;id=580473;file:///Users/kimbwook/PycharmProjects/fast-campus/venv/lib/python3.10/site-packages/httpx/_client.py#1773\u001B\\\u001B[2m1773\u001B[0m\u001B]8;;\u001B\\\n",
       "\u001B[2;36m                    \u001B[0m         \u001B[4;94mhttps://api.cloud.llamaindex.ai/api/parsing/job/3bc6e83d-0f9a-4a08-93b\u001B[0m \u001B[2m               \u001B[0m\n",
       "\u001B[2;36m                    \u001B[0m         \u001B[4;94m4-f30fbd99d127\u001B[0m \u001B[32m\"HTTP/1.1 200 OK\"\u001B[0m                                       \u001B[2m               \u001B[0m\n"
      ],
      "text/html": [
       "<pre style=\"white-space:pre;overflow-x:auto;line-height:normal;font-family:Menlo,'DejaVu Sans Mono',consolas,'Courier New',monospace\"><span style=\"color: #7fbfbf; text-decoration-color: #7fbfbf\">                    </span><span style=\"color: #000080; text-decoration-color: #000080\">INFO    </span> <span style=\"font-weight: bold\">[</span>_client.py:<span style=\"color: #008080; text-decoration-color: #008080; font-weight: bold\">1773</span><span style=\"font-weight: bold\">]</span> &gt;&gt; HTTP Request: <span style=\"color: #808000; text-decoration-color: #808000; font-weight: bold\">GET</span>                                 <a href=\"file:///Users/kimbwook/PycharmProjects/fast-campus/venv/lib/python3.10/site-packages/httpx/_client.py\" target=\"_blank\"><span style=\"color: #7f7f7f; text-decoration-color: #7f7f7f\">_client.py</span></a><span style=\"color: #7f7f7f; text-decoration-color: #7f7f7f\">:</span><a href=\"file:///Users/kimbwook/PycharmProjects/fast-campus/venv/lib/python3.10/site-packages/httpx/_client.py#1773\" target=\"_blank\"><span style=\"color: #7f7f7f; text-decoration-color: #7f7f7f\">1773</span></a>\n",
       "<span style=\"color: #7fbfbf; text-decoration-color: #7fbfbf\">                    </span>         <span style=\"color: #0000ff; text-decoration-color: #0000ff; text-decoration: underline\">https://api.cloud.llamaindex.ai/api/parsing/job/3bc6e83d-0f9a-4a08-93b</span> <span style=\"color: #7f7f7f; text-decoration-color: #7f7f7f\">               </span>\n",
       "<span style=\"color: #7fbfbf; text-decoration-color: #7fbfbf\">                    </span>         <span style=\"color: #0000ff; text-decoration-color: #0000ff; text-decoration: underline\">4-f30fbd99d127</span> <span style=\"color: #008000; text-decoration-color: #008000\">\"HTTP/1.1 200 OK\"</span>                                       <span style=\"color: #7f7f7f; text-decoration-color: #7f7f7f\">               </span>\n",
       "</pre>\n"
      ]
     },
     "metadata": {},
     "output_type": "display_data"
    },
    {
     "data": {
      "text/plain": [
       "\u001B[2;36m[12/21/24 16:19:40]\u001B[0m\u001B[2;36m \u001B[0m\u001B[34mINFO    \u001B[0m \u001B[1m[\u001B[0m_client.py:\u001B[1;36m1773\u001B[0m\u001B[1m]\u001B[0m >> HTTP Request: \u001B[1;33mGET\u001B[0m                                 \u001B]8;id=330701;file:///Users/kimbwook/PycharmProjects/fast-campus/venv/lib/python3.10/site-packages/httpx/_client.py\u001B\\\u001B[2m_client.py\u001B[0m\u001B]8;;\u001B\\\u001B[2m:\u001B[0m\u001B]8;id=24430;file:///Users/kimbwook/PycharmProjects/fast-campus/venv/lib/python3.10/site-packages/httpx/_client.py#1773\u001B\\\u001B[2m1773\u001B[0m\u001B]8;;\u001B\\\n",
       "\u001B[2;36m                    \u001B[0m         \u001B[4;94mhttps://api.cloud.llamaindex.ai/api/parsing/job/75471825-60cd-42a0-b34\u001B[0m \u001B[2m               \u001B[0m\n",
       "\u001B[2;36m                    \u001B[0m         \u001B[4;94md-b1c240f96dfb/result/markdown\u001B[0m \u001B[32m\"HTTP/1.1 200 OK\"\u001B[0m                       \u001B[2m               \u001B[0m\n"
      ],
      "text/html": [
       "<pre style=\"white-space:pre;overflow-x:auto;line-height:normal;font-family:Menlo,'DejaVu Sans Mono',consolas,'Courier New',monospace\"><span style=\"color: #7fbfbf; text-decoration-color: #7fbfbf\">[12/21/24 16:19:40] </span><span style=\"color: #000080; text-decoration-color: #000080\">INFO    </span> <span style=\"font-weight: bold\">[</span>_client.py:<span style=\"color: #008080; text-decoration-color: #008080; font-weight: bold\">1773</span><span style=\"font-weight: bold\">]</span> &gt;&gt; HTTP Request: <span style=\"color: #808000; text-decoration-color: #808000; font-weight: bold\">GET</span>                                 <a href=\"file:///Users/kimbwook/PycharmProjects/fast-campus/venv/lib/python3.10/site-packages/httpx/_client.py\" target=\"_blank\"><span style=\"color: #7f7f7f; text-decoration-color: #7f7f7f\">_client.py</span></a><span style=\"color: #7f7f7f; text-decoration-color: #7f7f7f\">:</span><a href=\"file:///Users/kimbwook/PycharmProjects/fast-campus/venv/lib/python3.10/site-packages/httpx/_client.py#1773\" target=\"_blank\"><span style=\"color: #7f7f7f; text-decoration-color: #7f7f7f\">1773</span></a>\n",
       "<span style=\"color: #7fbfbf; text-decoration-color: #7fbfbf\">                    </span>         <span style=\"color: #0000ff; text-decoration-color: #0000ff; text-decoration: underline\">https://api.cloud.llamaindex.ai/api/parsing/job/75471825-60cd-42a0-b34</span> <span style=\"color: #7f7f7f; text-decoration-color: #7f7f7f\">               </span>\n",
       "<span style=\"color: #7fbfbf; text-decoration-color: #7fbfbf\">                    </span>         <span style=\"color: #0000ff; text-decoration-color: #0000ff; text-decoration: underline\">d-b1c240f96dfb/result/markdown</span> <span style=\"color: #008000; text-decoration-color: #008000\">\"HTTP/1.1 200 OK\"</span>                       <span style=\"color: #7f7f7f; text-decoration-color: #7f7f7f\">               </span>\n",
       "</pre>\n"
      ]
     },
     "metadata": {},
     "output_type": "display_data"
    },
    {
     "data": {
      "text/plain": [
       "\u001B[2;36m                   \u001B[0m\u001B[2;36m \u001B[0m\u001B[34mINFO    \u001B[0m \u001B[1m[\u001B[0m_client.py:\u001B[1;36m1773\u001B[0m\u001B[1m]\u001B[0m >> HTTP Request: \u001B[1;33mGET\u001B[0m                                 \u001B]8;id=834737;file:///Users/kimbwook/PycharmProjects/fast-campus/venv/lib/python3.10/site-packages/httpx/_client.py\u001B\\\u001B[2m_client.py\u001B[0m\u001B]8;;\u001B\\\u001B[2m:\u001B[0m\u001B]8;id=152798;file:///Users/kimbwook/PycharmProjects/fast-campus/venv/lib/python3.10/site-packages/httpx/_client.py#1773\u001B\\\u001B[2m1773\u001B[0m\u001B]8;;\u001B\\\n",
       "\u001B[2;36m                    \u001B[0m         \u001B[4;94mhttps://api.cloud.llamaindex.ai/api/parsing/job/de767d33-547e-4518-b83\u001B[0m \u001B[2m               \u001B[0m\n",
       "\u001B[2;36m                    \u001B[0m         \u001B[4;94m6-5ce93eb56fc3\u001B[0m \u001B[32m\"HTTP/1.1 200 OK\"\u001B[0m                                       \u001B[2m               \u001B[0m\n"
      ],
      "text/html": [
       "<pre style=\"white-space:pre;overflow-x:auto;line-height:normal;font-family:Menlo,'DejaVu Sans Mono',consolas,'Courier New',monospace\"><span style=\"color: #7fbfbf; text-decoration-color: #7fbfbf\">                    </span><span style=\"color: #000080; text-decoration-color: #000080\">INFO    </span> <span style=\"font-weight: bold\">[</span>_client.py:<span style=\"color: #008080; text-decoration-color: #008080; font-weight: bold\">1773</span><span style=\"font-weight: bold\">]</span> &gt;&gt; HTTP Request: <span style=\"color: #808000; text-decoration-color: #808000; font-weight: bold\">GET</span>                                 <a href=\"file:///Users/kimbwook/PycharmProjects/fast-campus/venv/lib/python3.10/site-packages/httpx/_client.py\" target=\"_blank\"><span style=\"color: #7f7f7f; text-decoration-color: #7f7f7f\">_client.py</span></a><span style=\"color: #7f7f7f; text-decoration-color: #7f7f7f\">:</span><a href=\"file:///Users/kimbwook/PycharmProjects/fast-campus/venv/lib/python3.10/site-packages/httpx/_client.py#1773\" target=\"_blank\"><span style=\"color: #7f7f7f; text-decoration-color: #7f7f7f\">1773</span></a>\n",
       "<span style=\"color: #7fbfbf; text-decoration-color: #7fbfbf\">                    </span>         <span style=\"color: #0000ff; text-decoration-color: #0000ff; text-decoration: underline\">https://api.cloud.llamaindex.ai/api/parsing/job/de767d33-547e-4518-b83</span> <span style=\"color: #7f7f7f; text-decoration-color: #7f7f7f\">               </span>\n",
       "<span style=\"color: #7fbfbf; text-decoration-color: #7fbfbf\">                    </span>         <span style=\"color: #0000ff; text-decoration-color: #0000ff; text-decoration: underline\">6-5ce93eb56fc3</span> <span style=\"color: #008000; text-decoration-color: #008000\">\"HTTP/1.1 200 OK\"</span>                                       <span style=\"color: #7f7f7f; text-decoration-color: #7f7f7f\">               </span>\n",
       "</pre>\n"
      ]
     },
     "metadata": {},
     "output_type": "display_data"
    },
    {
     "data": {
      "text/plain": [
       "\u001B[2;36m                   \u001B[0m\u001B[2;36m \u001B[0m\u001B[34mINFO    \u001B[0m \u001B[1m[\u001B[0m_client.py:\u001B[1;36m1773\u001B[0m\u001B[1m]\u001B[0m >> HTTP Request: \u001B[1;33mGET\u001B[0m                                 \u001B]8;id=366904;file:///Users/kimbwook/PycharmProjects/fast-campus/venv/lib/python3.10/site-packages/httpx/_client.py\u001B\\\u001B[2m_client.py\u001B[0m\u001B]8;;\u001B\\\u001B[2m:\u001B[0m\u001B]8;id=116932;file:///Users/kimbwook/PycharmProjects/fast-campus/venv/lib/python3.10/site-packages/httpx/_client.py#1773\u001B\\\u001B[2m1773\u001B[0m\u001B]8;;\u001B\\\n",
       "\u001B[2;36m                    \u001B[0m         \u001B[4;94mhttps://api.cloud.llamaindex.ai/api/parsing/job/2b1bc2f9-1862-41b5-8d6\u001B[0m \u001B[2m               \u001B[0m\n",
       "\u001B[2;36m                    \u001B[0m         \u001B[4;94mc-e92953b0754b\u001B[0m \u001B[32m\"HTTP/1.1 200 OK\"\u001B[0m                                       \u001B[2m               \u001B[0m\n"
      ],
      "text/html": [
       "<pre style=\"white-space:pre;overflow-x:auto;line-height:normal;font-family:Menlo,'DejaVu Sans Mono',consolas,'Courier New',monospace\"><span style=\"color: #7fbfbf; text-decoration-color: #7fbfbf\">                    </span><span style=\"color: #000080; text-decoration-color: #000080\">INFO    </span> <span style=\"font-weight: bold\">[</span>_client.py:<span style=\"color: #008080; text-decoration-color: #008080; font-weight: bold\">1773</span><span style=\"font-weight: bold\">]</span> &gt;&gt; HTTP Request: <span style=\"color: #808000; text-decoration-color: #808000; font-weight: bold\">GET</span>                                 <a href=\"file:///Users/kimbwook/PycharmProjects/fast-campus/venv/lib/python3.10/site-packages/httpx/_client.py\" target=\"_blank\"><span style=\"color: #7f7f7f; text-decoration-color: #7f7f7f\">_client.py</span></a><span style=\"color: #7f7f7f; text-decoration-color: #7f7f7f\">:</span><a href=\"file:///Users/kimbwook/PycharmProjects/fast-campus/venv/lib/python3.10/site-packages/httpx/_client.py#1773\" target=\"_blank\"><span style=\"color: #7f7f7f; text-decoration-color: #7f7f7f\">1773</span></a>\n",
       "<span style=\"color: #7fbfbf; text-decoration-color: #7fbfbf\">                    </span>         <span style=\"color: #0000ff; text-decoration-color: #0000ff; text-decoration: underline\">https://api.cloud.llamaindex.ai/api/parsing/job/2b1bc2f9-1862-41b5-8d6</span> <span style=\"color: #7f7f7f; text-decoration-color: #7f7f7f\">               </span>\n",
       "<span style=\"color: #7fbfbf; text-decoration-color: #7fbfbf\">                    </span>         <span style=\"color: #0000ff; text-decoration-color: #0000ff; text-decoration: underline\">c-e92953b0754b</span> <span style=\"color: #008000; text-decoration-color: #008000\">\"HTTP/1.1 200 OK\"</span>                                       <span style=\"color: #7f7f7f; text-decoration-color: #7f7f7f\">               </span>\n",
       "</pre>\n"
      ]
     },
     "metadata": {},
     "output_type": "display_data"
    },
    {
     "data": {
      "text/plain": [
       "\u001B[2;36m                   \u001B[0m\u001B[2;36m \u001B[0m\u001B[34mINFO    \u001B[0m \u001B[1m[\u001B[0m_client.py:\u001B[1;36m1773\u001B[0m\u001B[1m]\u001B[0m >> HTTP Request: \u001B[1;33mGET\u001B[0m                                 \u001B]8;id=89455;file:///Users/kimbwook/PycharmProjects/fast-campus/venv/lib/python3.10/site-packages/httpx/_client.py\u001B\\\u001B[2m_client.py\u001B[0m\u001B]8;;\u001B\\\u001B[2m:\u001B[0m\u001B]8;id=761329;file:///Users/kimbwook/PycharmProjects/fast-campus/venv/lib/python3.10/site-packages/httpx/_client.py#1773\u001B\\\u001B[2m1773\u001B[0m\u001B]8;;\u001B\\\n",
       "\u001B[2;36m                    \u001B[0m         \u001B[4;94mhttps://api.cloud.llamaindex.ai/api/parsing/job/63360f54-f940-4901-bf9\u001B[0m \u001B[2m               \u001B[0m\n",
       "\u001B[2;36m                    \u001B[0m         \u001B[4;94m2-04ad1dd47ca0\u001B[0m \u001B[32m\"HTTP/1.1 200 OK\"\u001B[0m                                       \u001B[2m               \u001B[0m\n"
      ],
      "text/html": [
       "<pre style=\"white-space:pre;overflow-x:auto;line-height:normal;font-family:Menlo,'DejaVu Sans Mono',consolas,'Courier New',monospace\"><span style=\"color: #7fbfbf; text-decoration-color: #7fbfbf\">                    </span><span style=\"color: #000080; text-decoration-color: #000080\">INFO    </span> <span style=\"font-weight: bold\">[</span>_client.py:<span style=\"color: #008080; text-decoration-color: #008080; font-weight: bold\">1773</span><span style=\"font-weight: bold\">]</span> &gt;&gt; HTTP Request: <span style=\"color: #808000; text-decoration-color: #808000; font-weight: bold\">GET</span>                                 <a href=\"file:///Users/kimbwook/PycharmProjects/fast-campus/venv/lib/python3.10/site-packages/httpx/_client.py\" target=\"_blank\"><span style=\"color: #7f7f7f; text-decoration-color: #7f7f7f\">_client.py</span></a><span style=\"color: #7f7f7f; text-decoration-color: #7f7f7f\">:</span><a href=\"file:///Users/kimbwook/PycharmProjects/fast-campus/venv/lib/python3.10/site-packages/httpx/_client.py#1773\" target=\"_blank\"><span style=\"color: #7f7f7f; text-decoration-color: #7f7f7f\">1773</span></a>\n",
       "<span style=\"color: #7fbfbf; text-decoration-color: #7fbfbf\">                    </span>         <span style=\"color: #0000ff; text-decoration-color: #0000ff; text-decoration: underline\">https://api.cloud.llamaindex.ai/api/parsing/job/63360f54-f940-4901-bf9</span> <span style=\"color: #7f7f7f; text-decoration-color: #7f7f7f\">               </span>\n",
       "<span style=\"color: #7fbfbf; text-decoration-color: #7fbfbf\">                    </span>         <span style=\"color: #0000ff; text-decoration-color: #0000ff; text-decoration: underline\">2-04ad1dd47ca0</span> <span style=\"color: #008000; text-decoration-color: #008000\">\"HTTP/1.1 200 OK\"</span>                                       <span style=\"color: #7f7f7f; text-decoration-color: #7f7f7f\">               </span>\n",
       "</pre>\n"
      ]
     },
     "metadata": {},
     "output_type": "display_data"
    },
    {
     "data": {
      "text/plain": [
       "\u001B[2;36m                   \u001B[0m\u001B[2;36m \u001B[0m\u001B[34mINFO    \u001B[0m \u001B[1m[\u001B[0m_client.py:\u001B[1;36m1773\u001B[0m\u001B[1m]\u001B[0m >> HTTP Request: \u001B[1;33mGET\u001B[0m                                 \u001B]8;id=902317;file:///Users/kimbwook/PycharmProjects/fast-campus/venv/lib/python3.10/site-packages/httpx/_client.py\u001B\\\u001B[2m_client.py\u001B[0m\u001B]8;;\u001B\\\u001B[2m:\u001B[0m\u001B]8;id=466508;file:///Users/kimbwook/PycharmProjects/fast-campus/venv/lib/python3.10/site-packages/httpx/_client.py#1773\u001B\\\u001B[2m1773\u001B[0m\u001B]8;;\u001B\\\n",
       "\u001B[2;36m                    \u001B[0m         \u001B[4;94mhttps://api.cloud.llamaindex.ai/api/parsing/job/42e204d1-4fd0-42bc-91a\u001B[0m \u001B[2m               \u001B[0m\n",
       "\u001B[2;36m                    \u001B[0m         \u001B[4;94m9-3aa68af5a739\u001B[0m \u001B[32m\"HTTP/1.1 200 OK\"\u001B[0m                                       \u001B[2m               \u001B[0m\n"
      ],
      "text/html": [
       "<pre style=\"white-space:pre;overflow-x:auto;line-height:normal;font-family:Menlo,'DejaVu Sans Mono',consolas,'Courier New',monospace\"><span style=\"color: #7fbfbf; text-decoration-color: #7fbfbf\">                    </span><span style=\"color: #000080; text-decoration-color: #000080\">INFO    </span> <span style=\"font-weight: bold\">[</span>_client.py:<span style=\"color: #008080; text-decoration-color: #008080; font-weight: bold\">1773</span><span style=\"font-weight: bold\">]</span> &gt;&gt; HTTP Request: <span style=\"color: #808000; text-decoration-color: #808000; font-weight: bold\">GET</span>                                 <a href=\"file:///Users/kimbwook/PycharmProjects/fast-campus/venv/lib/python3.10/site-packages/httpx/_client.py\" target=\"_blank\"><span style=\"color: #7f7f7f; text-decoration-color: #7f7f7f\">_client.py</span></a><span style=\"color: #7f7f7f; text-decoration-color: #7f7f7f\">:</span><a href=\"file:///Users/kimbwook/PycharmProjects/fast-campus/venv/lib/python3.10/site-packages/httpx/_client.py#1773\" target=\"_blank\"><span style=\"color: #7f7f7f; text-decoration-color: #7f7f7f\">1773</span></a>\n",
       "<span style=\"color: #7fbfbf; text-decoration-color: #7fbfbf\">                    </span>         <span style=\"color: #0000ff; text-decoration-color: #0000ff; text-decoration: underline\">https://api.cloud.llamaindex.ai/api/parsing/job/42e204d1-4fd0-42bc-91a</span> <span style=\"color: #7f7f7f; text-decoration-color: #7f7f7f\">               </span>\n",
       "<span style=\"color: #7fbfbf; text-decoration-color: #7fbfbf\">                    </span>         <span style=\"color: #0000ff; text-decoration-color: #0000ff; text-decoration: underline\">9-3aa68af5a739</span> <span style=\"color: #008000; text-decoration-color: #008000\">\"HTTP/1.1 200 OK\"</span>                                       <span style=\"color: #7f7f7f; text-decoration-color: #7f7f7f\">               </span>\n",
       "</pre>\n"
      ]
     },
     "metadata": {},
     "output_type": "display_data"
    },
    {
     "data": {
      "text/plain": [
       "\u001B[2;36m                   \u001B[0m\u001B[2;36m \u001B[0m\u001B[34mINFO    \u001B[0m \u001B[1m[\u001B[0m_client.py:\u001B[1;36m1773\u001B[0m\u001B[1m]\u001B[0m >> HTTP Request: \u001B[1;33mGET\u001B[0m                                 \u001B]8;id=856487;file:///Users/kimbwook/PycharmProjects/fast-campus/venv/lib/python3.10/site-packages/httpx/_client.py\u001B\\\u001B[2m_client.py\u001B[0m\u001B]8;;\u001B\\\u001B[2m:\u001B[0m\u001B]8;id=492719;file:///Users/kimbwook/PycharmProjects/fast-campus/venv/lib/python3.10/site-packages/httpx/_client.py#1773\u001B\\\u001B[2m1773\u001B[0m\u001B]8;;\u001B\\\n",
       "\u001B[2;36m                    \u001B[0m         \u001B[4;94mhttps://api.cloud.llamaindex.ai/api/parsing/job/2b1bc2f9-1862-41b5-8d6\u001B[0m \u001B[2m               \u001B[0m\n",
       "\u001B[2;36m                    \u001B[0m         \u001B[4;94mc-e92953b0754b/result/markdown\u001B[0m \u001B[32m\"HTTP/1.1 200 OK\"\u001B[0m                       \u001B[2m               \u001B[0m\n"
      ],
      "text/html": [
       "<pre style=\"white-space:pre;overflow-x:auto;line-height:normal;font-family:Menlo,'DejaVu Sans Mono',consolas,'Courier New',monospace\"><span style=\"color: #7fbfbf; text-decoration-color: #7fbfbf\">                    </span><span style=\"color: #000080; text-decoration-color: #000080\">INFO    </span> <span style=\"font-weight: bold\">[</span>_client.py:<span style=\"color: #008080; text-decoration-color: #008080; font-weight: bold\">1773</span><span style=\"font-weight: bold\">]</span> &gt;&gt; HTTP Request: <span style=\"color: #808000; text-decoration-color: #808000; font-weight: bold\">GET</span>                                 <a href=\"file:///Users/kimbwook/PycharmProjects/fast-campus/venv/lib/python3.10/site-packages/httpx/_client.py\" target=\"_blank\"><span style=\"color: #7f7f7f; text-decoration-color: #7f7f7f\">_client.py</span></a><span style=\"color: #7f7f7f; text-decoration-color: #7f7f7f\">:</span><a href=\"file:///Users/kimbwook/PycharmProjects/fast-campus/venv/lib/python3.10/site-packages/httpx/_client.py#1773\" target=\"_blank\"><span style=\"color: #7f7f7f; text-decoration-color: #7f7f7f\">1773</span></a>\n",
       "<span style=\"color: #7fbfbf; text-decoration-color: #7fbfbf\">                    </span>         <span style=\"color: #0000ff; text-decoration-color: #0000ff; text-decoration: underline\">https://api.cloud.llamaindex.ai/api/parsing/job/2b1bc2f9-1862-41b5-8d6</span> <span style=\"color: #7f7f7f; text-decoration-color: #7f7f7f\">               </span>\n",
       "<span style=\"color: #7fbfbf; text-decoration-color: #7fbfbf\">                    </span>         <span style=\"color: #0000ff; text-decoration-color: #0000ff; text-decoration: underline\">c-e92953b0754b/result/markdown</span> <span style=\"color: #008000; text-decoration-color: #008000\">\"HTTP/1.1 200 OK\"</span>                       <span style=\"color: #7f7f7f; text-decoration-color: #7f7f7f\">               </span>\n",
       "</pre>\n"
      ]
     },
     "metadata": {},
     "output_type": "display_data"
    },
    {
     "data": {
      "text/plain": [
       "\u001B[2;36m                   \u001B[0m\u001B[2;36m \u001B[0m\u001B[34mINFO    \u001B[0m \u001B[1m[\u001B[0m_client.py:\u001B[1;36m1773\u001B[0m\u001B[1m]\u001B[0m >> HTTP Request: \u001B[1;33mGET\u001B[0m                                 \u001B]8;id=126906;file:///Users/kimbwook/PycharmProjects/fast-campus/venv/lib/python3.10/site-packages/httpx/_client.py\u001B\\\u001B[2m_client.py\u001B[0m\u001B]8;;\u001B\\\u001B[2m:\u001B[0m\u001B]8;id=878739;file:///Users/kimbwook/PycharmProjects/fast-campus/venv/lib/python3.10/site-packages/httpx/_client.py#1773\u001B\\\u001B[2m1773\u001B[0m\u001B]8;;\u001B\\\n",
       "\u001B[2;36m                    \u001B[0m         \u001B[4;94mhttps://api.cloud.llamaindex.ai/api/parsing/job/63360f54-f940-4901-bf9\u001B[0m \u001B[2m               \u001B[0m\n",
       "\u001B[2;36m                    \u001B[0m         \u001B[4;94m2-04ad1dd47ca0/result/markdown\u001B[0m \u001B[32m\"HTTP/1.1 200 OK\"\u001B[0m                       \u001B[2m               \u001B[0m\n"
      ],
      "text/html": [
       "<pre style=\"white-space:pre;overflow-x:auto;line-height:normal;font-family:Menlo,'DejaVu Sans Mono',consolas,'Courier New',monospace\"><span style=\"color: #7fbfbf; text-decoration-color: #7fbfbf\">                    </span><span style=\"color: #000080; text-decoration-color: #000080\">INFO    </span> <span style=\"font-weight: bold\">[</span>_client.py:<span style=\"color: #008080; text-decoration-color: #008080; font-weight: bold\">1773</span><span style=\"font-weight: bold\">]</span> &gt;&gt; HTTP Request: <span style=\"color: #808000; text-decoration-color: #808000; font-weight: bold\">GET</span>                                 <a href=\"file:///Users/kimbwook/PycharmProjects/fast-campus/venv/lib/python3.10/site-packages/httpx/_client.py\" target=\"_blank\"><span style=\"color: #7f7f7f; text-decoration-color: #7f7f7f\">_client.py</span></a><span style=\"color: #7f7f7f; text-decoration-color: #7f7f7f\">:</span><a href=\"file:///Users/kimbwook/PycharmProjects/fast-campus/venv/lib/python3.10/site-packages/httpx/_client.py#1773\" target=\"_blank\"><span style=\"color: #7f7f7f; text-decoration-color: #7f7f7f\">1773</span></a>\n",
       "<span style=\"color: #7fbfbf; text-decoration-color: #7fbfbf\">                    </span>         <span style=\"color: #0000ff; text-decoration-color: #0000ff; text-decoration: underline\">https://api.cloud.llamaindex.ai/api/parsing/job/63360f54-f940-4901-bf9</span> <span style=\"color: #7f7f7f; text-decoration-color: #7f7f7f\">               </span>\n",
       "<span style=\"color: #7fbfbf; text-decoration-color: #7fbfbf\">                    </span>         <span style=\"color: #0000ff; text-decoration-color: #0000ff; text-decoration: underline\">2-04ad1dd47ca0/result/markdown</span> <span style=\"color: #008000; text-decoration-color: #008000\">\"HTTP/1.1 200 OK\"</span>                       <span style=\"color: #7f7f7f; text-decoration-color: #7f7f7f\">               </span>\n",
       "</pre>\n"
      ]
     },
     "metadata": {},
     "output_type": "display_data"
    },
    {
     "data": {
      "text/plain": [
       "\u001B[2;36m[12/21/24 16:19:42]\u001B[0m\u001B[2;36m \u001B[0m\u001B[34mINFO    \u001B[0m \u001B[1m[\u001B[0m_client.py:\u001B[1;36m1773\u001B[0m\u001B[1m]\u001B[0m >> HTTP Request: \u001B[1;33mGET\u001B[0m                                 \u001B]8;id=955254;file:///Users/kimbwook/PycharmProjects/fast-campus/venv/lib/python3.10/site-packages/httpx/_client.py\u001B\\\u001B[2m_client.py\u001B[0m\u001B]8;;\u001B\\\u001B[2m:\u001B[0m\u001B]8;id=494524;file:///Users/kimbwook/PycharmProjects/fast-campus/venv/lib/python3.10/site-packages/httpx/_client.py#1773\u001B\\\u001B[2m1773\u001B[0m\u001B]8;;\u001B\\\n",
       "\u001B[2;36m                    \u001B[0m         \u001B[4;94mhttps://api.cloud.llamaindex.ai/api/parsing/job/40f8157f-cc8b-4629-b57\u001B[0m \u001B[2m               \u001B[0m\n",
       "\u001B[2;36m                    \u001B[0m         \u001B[4;94me-7deb3d35d2c8\u001B[0m \u001B[32m\"HTTP/1.1 200 OK\"\u001B[0m                                       \u001B[2m               \u001B[0m\n"
      ],
      "text/html": [
       "<pre style=\"white-space:pre;overflow-x:auto;line-height:normal;font-family:Menlo,'DejaVu Sans Mono',consolas,'Courier New',monospace\"><span style=\"color: #7fbfbf; text-decoration-color: #7fbfbf\">[12/21/24 16:19:42] </span><span style=\"color: #000080; text-decoration-color: #000080\">INFO    </span> <span style=\"font-weight: bold\">[</span>_client.py:<span style=\"color: #008080; text-decoration-color: #008080; font-weight: bold\">1773</span><span style=\"font-weight: bold\">]</span> &gt;&gt; HTTP Request: <span style=\"color: #808000; text-decoration-color: #808000; font-weight: bold\">GET</span>                                 <a href=\"file:///Users/kimbwook/PycharmProjects/fast-campus/venv/lib/python3.10/site-packages/httpx/_client.py\" target=\"_blank\"><span style=\"color: #7f7f7f; text-decoration-color: #7f7f7f\">_client.py</span></a><span style=\"color: #7f7f7f; text-decoration-color: #7f7f7f\">:</span><a href=\"file:///Users/kimbwook/PycharmProjects/fast-campus/venv/lib/python3.10/site-packages/httpx/_client.py#1773\" target=\"_blank\"><span style=\"color: #7f7f7f; text-decoration-color: #7f7f7f\">1773</span></a>\n",
       "<span style=\"color: #7fbfbf; text-decoration-color: #7fbfbf\">                    </span>         <span style=\"color: #0000ff; text-decoration-color: #0000ff; text-decoration: underline\">https://api.cloud.llamaindex.ai/api/parsing/job/40f8157f-cc8b-4629-b57</span> <span style=\"color: #7f7f7f; text-decoration-color: #7f7f7f\">               </span>\n",
       "<span style=\"color: #7fbfbf; text-decoration-color: #7fbfbf\">                    </span>         <span style=\"color: #0000ff; text-decoration-color: #0000ff; text-decoration: underline\">e-7deb3d35d2c8</span> <span style=\"color: #008000; text-decoration-color: #008000\">\"HTTP/1.1 200 OK\"</span>                                       <span style=\"color: #7f7f7f; text-decoration-color: #7f7f7f\">               </span>\n",
       "</pre>\n"
      ]
     },
     "metadata": {},
     "output_type": "display_data"
    },
    {
     "data": {
      "text/plain": [
       "\u001B[2;36m                   \u001B[0m\u001B[2;36m \u001B[0m\u001B[34mINFO    \u001B[0m \u001B[1m[\u001B[0m_client.py:\u001B[1;36m1773\u001B[0m\u001B[1m]\u001B[0m >> HTTP Request: \u001B[1;33mGET\u001B[0m                                 \u001B]8;id=485508;file:///Users/kimbwook/PycharmProjects/fast-campus/venv/lib/python3.10/site-packages/httpx/_client.py\u001B\\\u001B[2m_client.py\u001B[0m\u001B]8;;\u001B\\\u001B[2m:\u001B[0m\u001B]8;id=61783;file:///Users/kimbwook/PycharmProjects/fast-campus/venv/lib/python3.10/site-packages/httpx/_client.py#1773\u001B\\\u001B[2m1773\u001B[0m\u001B]8;;\u001B\\\n",
       "\u001B[2;36m                    \u001B[0m         \u001B[4;94mhttps://api.cloud.llamaindex.ai/api/parsing/job/3bc6e83d-0f9a-4a08-93b\u001B[0m \u001B[2m               \u001B[0m\n",
       "\u001B[2;36m                    \u001B[0m         \u001B[4;94m4-f30fbd99d127\u001B[0m \u001B[32m\"HTTP/1.1 200 OK\"\u001B[0m                                       \u001B[2m               \u001B[0m\n"
      ],
      "text/html": [
       "<pre style=\"white-space:pre;overflow-x:auto;line-height:normal;font-family:Menlo,'DejaVu Sans Mono',consolas,'Courier New',monospace\"><span style=\"color: #7fbfbf; text-decoration-color: #7fbfbf\">                    </span><span style=\"color: #000080; text-decoration-color: #000080\">INFO    </span> <span style=\"font-weight: bold\">[</span>_client.py:<span style=\"color: #008080; text-decoration-color: #008080; font-weight: bold\">1773</span><span style=\"font-weight: bold\">]</span> &gt;&gt; HTTP Request: <span style=\"color: #808000; text-decoration-color: #808000; font-weight: bold\">GET</span>                                 <a href=\"file:///Users/kimbwook/PycharmProjects/fast-campus/venv/lib/python3.10/site-packages/httpx/_client.py\" target=\"_blank\"><span style=\"color: #7f7f7f; text-decoration-color: #7f7f7f\">_client.py</span></a><span style=\"color: #7f7f7f; text-decoration-color: #7f7f7f\">:</span><a href=\"file:///Users/kimbwook/PycharmProjects/fast-campus/venv/lib/python3.10/site-packages/httpx/_client.py#1773\" target=\"_blank\"><span style=\"color: #7f7f7f; text-decoration-color: #7f7f7f\">1773</span></a>\n",
       "<span style=\"color: #7fbfbf; text-decoration-color: #7fbfbf\">                    </span>         <span style=\"color: #0000ff; text-decoration-color: #0000ff; text-decoration: underline\">https://api.cloud.llamaindex.ai/api/parsing/job/3bc6e83d-0f9a-4a08-93b</span> <span style=\"color: #7f7f7f; text-decoration-color: #7f7f7f\">               </span>\n",
       "<span style=\"color: #7fbfbf; text-decoration-color: #7fbfbf\">                    </span>         <span style=\"color: #0000ff; text-decoration-color: #0000ff; text-decoration: underline\">4-f30fbd99d127</span> <span style=\"color: #008000; text-decoration-color: #008000\">\"HTTP/1.1 200 OK\"</span>                                       <span style=\"color: #7f7f7f; text-decoration-color: #7f7f7f\">               </span>\n",
       "</pre>\n"
      ]
     },
     "metadata": {},
     "output_type": "display_data"
    },
    {
     "data": {
      "text/plain": [
       "\u001B[2;36m[12/21/24 16:19:43]\u001B[0m\u001B[2;36m \u001B[0m\u001B[34mINFO    \u001B[0m \u001B[1m[\u001B[0m_client.py:\u001B[1;36m1773\u001B[0m\u001B[1m]\u001B[0m >> HTTP Request: \u001B[1;33mGET\u001B[0m                                 \u001B]8;id=943747;file:///Users/kimbwook/PycharmProjects/fast-campus/venv/lib/python3.10/site-packages/httpx/_client.py\u001B\\\u001B[2m_client.py\u001B[0m\u001B]8;;\u001B\\\u001B[2m:\u001B[0m\u001B]8;id=169973;file:///Users/kimbwook/PycharmProjects/fast-campus/venv/lib/python3.10/site-packages/httpx/_client.py#1773\u001B\\\u001B[2m1773\u001B[0m\u001B]8;;\u001B\\\n",
       "\u001B[2;36m                    \u001B[0m         \u001B[4;94mhttps://api.cloud.llamaindex.ai/api/parsing/job/de767d33-547e-4518-b83\u001B[0m \u001B[2m               \u001B[0m\n",
       "\u001B[2;36m                    \u001B[0m         \u001B[4;94m6-5ce93eb56fc3\u001B[0m \u001B[32m\"HTTP/1.1 200 OK\"\u001B[0m                                       \u001B[2m               \u001B[0m\n"
      ],
      "text/html": [
       "<pre style=\"white-space:pre;overflow-x:auto;line-height:normal;font-family:Menlo,'DejaVu Sans Mono',consolas,'Courier New',monospace\"><span style=\"color: #7fbfbf; text-decoration-color: #7fbfbf\">[12/21/24 16:19:43] </span><span style=\"color: #000080; text-decoration-color: #000080\">INFO    </span> <span style=\"font-weight: bold\">[</span>_client.py:<span style=\"color: #008080; text-decoration-color: #008080; font-weight: bold\">1773</span><span style=\"font-weight: bold\">]</span> &gt;&gt; HTTP Request: <span style=\"color: #808000; text-decoration-color: #808000; font-weight: bold\">GET</span>                                 <a href=\"file:///Users/kimbwook/PycharmProjects/fast-campus/venv/lib/python3.10/site-packages/httpx/_client.py\" target=\"_blank\"><span style=\"color: #7f7f7f; text-decoration-color: #7f7f7f\">_client.py</span></a><span style=\"color: #7f7f7f; text-decoration-color: #7f7f7f\">:</span><a href=\"file:///Users/kimbwook/PycharmProjects/fast-campus/venv/lib/python3.10/site-packages/httpx/_client.py#1773\" target=\"_blank\"><span style=\"color: #7f7f7f; text-decoration-color: #7f7f7f\">1773</span></a>\n",
       "<span style=\"color: #7fbfbf; text-decoration-color: #7fbfbf\">                    </span>         <span style=\"color: #0000ff; text-decoration-color: #0000ff; text-decoration: underline\">https://api.cloud.llamaindex.ai/api/parsing/job/de767d33-547e-4518-b83</span> <span style=\"color: #7f7f7f; text-decoration-color: #7f7f7f\">               </span>\n",
       "<span style=\"color: #7fbfbf; text-decoration-color: #7fbfbf\">                    </span>         <span style=\"color: #0000ff; text-decoration-color: #0000ff; text-decoration: underline\">6-5ce93eb56fc3</span> <span style=\"color: #008000; text-decoration-color: #008000\">\"HTTP/1.1 200 OK\"</span>                                       <span style=\"color: #7f7f7f; text-decoration-color: #7f7f7f\">               </span>\n",
       "</pre>\n"
      ]
     },
     "metadata": {},
     "output_type": "display_data"
    },
    {
     "data": {
      "text/plain": [
       "\u001B[2;36m                   \u001B[0m\u001B[2;36m \u001B[0m\u001B[34mINFO    \u001B[0m \u001B[1m[\u001B[0m_client.py:\u001B[1;36m1773\u001B[0m\u001B[1m]\u001B[0m >> HTTP Request: \u001B[1;33mGET\u001B[0m                                 \u001B]8;id=642990;file:///Users/kimbwook/PycharmProjects/fast-campus/venv/lib/python3.10/site-packages/httpx/_client.py\u001B\\\u001B[2m_client.py\u001B[0m\u001B]8;;\u001B\\\u001B[2m:\u001B[0m\u001B]8;id=183386;file:///Users/kimbwook/PycharmProjects/fast-campus/venv/lib/python3.10/site-packages/httpx/_client.py#1773\u001B\\\u001B[2m1773\u001B[0m\u001B]8;;\u001B\\\n",
       "\u001B[2;36m                    \u001B[0m         \u001B[4;94mhttps://api.cloud.llamaindex.ai/api/parsing/job/42e204d1-4fd0-42bc-91a\u001B[0m \u001B[2m               \u001B[0m\n",
       "\u001B[2;36m                    \u001B[0m         \u001B[4;94m9-3aa68af5a739\u001B[0m \u001B[32m\"HTTP/1.1 200 OK\"\u001B[0m                                       \u001B[2m               \u001B[0m\n"
      ],
      "text/html": [
       "<pre style=\"white-space:pre;overflow-x:auto;line-height:normal;font-family:Menlo,'DejaVu Sans Mono',consolas,'Courier New',monospace\"><span style=\"color: #7fbfbf; text-decoration-color: #7fbfbf\">                    </span><span style=\"color: #000080; text-decoration-color: #000080\">INFO    </span> <span style=\"font-weight: bold\">[</span>_client.py:<span style=\"color: #008080; text-decoration-color: #008080; font-weight: bold\">1773</span><span style=\"font-weight: bold\">]</span> &gt;&gt; HTTP Request: <span style=\"color: #808000; text-decoration-color: #808000; font-weight: bold\">GET</span>                                 <a href=\"file:///Users/kimbwook/PycharmProjects/fast-campus/venv/lib/python3.10/site-packages/httpx/_client.py\" target=\"_blank\"><span style=\"color: #7f7f7f; text-decoration-color: #7f7f7f\">_client.py</span></a><span style=\"color: #7f7f7f; text-decoration-color: #7f7f7f\">:</span><a href=\"file:///Users/kimbwook/PycharmProjects/fast-campus/venv/lib/python3.10/site-packages/httpx/_client.py#1773\" target=\"_blank\"><span style=\"color: #7f7f7f; text-decoration-color: #7f7f7f\">1773</span></a>\n",
       "<span style=\"color: #7fbfbf; text-decoration-color: #7fbfbf\">                    </span>         <span style=\"color: #0000ff; text-decoration-color: #0000ff; text-decoration: underline\">https://api.cloud.llamaindex.ai/api/parsing/job/42e204d1-4fd0-42bc-91a</span> <span style=\"color: #7f7f7f; text-decoration-color: #7f7f7f\">               </span>\n",
       "<span style=\"color: #7fbfbf; text-decoration-color: #7fbfbf\">                    </span>         <span style=\"color: #0000ff; text-decoration-color: #0000ff; text-decoration: underline\">9-3aa68af5a739</span> <span style=\"color: #008000; text-decoration-color: #008000\">\"HTTP/1.1 200 OK\"</span>                                       <span style=\"color: #7f7f7f; text-decoration-color: #7f7f7f\">               </span>\n",
       "</pre>\n"
      ]
     },
     "metadata": {},
     "output_type": "display_data"
    },
    {
     "data": {
      "text/plain": [
       "\u001B[2;36m                   \u001B[0m\u001B[2;36m \u001B[0m\u001B[34mINFO    \u001B[0m \u001B[1m[\u001B[0m_client.py:\u001B[1;36m1773\u001B[0m\u001B[1m]\u001B[0m >> HTTP Request: \u001B[1;33mGET\u001B[0m                                 \u001B]8;id=271058;file:///Users/kimbwook/PycharmProjects/fast-campus/venv/lib/python3.10/site-packages/httpx/_client.py\u001B\\\u001B[2m_client.py\u001B[0m\u001B]8;;\u001B\\\u001B[2m:\u001B[0m\u001B]8;id=865059;file:///Users/kimbwook/PycharmProjects/fast-campus/venv/lib/python3.10/site-packages/httpx/_client.py#1773\u001B\\\u001B[2m1773\u001B[0m\u001B]8;;\u001B\\\n",
       "\u001B[2;36m                    \u001B[0m         \u001B[4;94mhttps://api.cloud.llamaindex.ai/api/parsing/job/42e204d1-4fd0-42bc-91a\u001B[0m \u001B[2m               \u001B[0m\n",
       "\u001B[2;36m                    \u001B[0m         \u001B[4;94m9-3aa68af5a739/result/markdown\u001B[0m \u001B[32m\"HTTP/1.1 200 OK\"\u001B[0m                       \u001B[2m               \u001B[0m\n"
      ],
      "text/html": [
       "<pre style=\"white-space:pre;overflow-x:auto;line-height:normal;font-family:Menlo,'DejaVu Sans Mono',consolas,'Courier New',monospace\"><span style=\"color: #7fbfbf; text-decoration-color: #7fbfbf\">                    </span><span style=\"color: #000080; text-decoration-color: #000080\">INFO    </span> <span style=\"font-weight: bold\">[</span>_client.py:<span style=\"color: #008080; text-decoration-color: #008080; font-weight: bold\">1773</span><span style=\"font-weight: bold\">]</span> &gt;&gt; HTTP Request: <span style=\"color: #808000; text-decoration-color: #808000; font-weight: bold\">GET</span>                                 <a href=\"file:///Users/kimbwook/PycharmProjects/fast-campus/venv/lib/python3.10/site-packages/httpx/_client.py\" target=\"_blank\"><span style=\"color: #7f7f7f; text-decoration-color: #7f7f7f\">_client.py</span></a><span style=\"color: #7f7f7f; text-decoration-color: #7f7f7f\">:</span><a href=\"file:///Users/kimbwook/PycharmProjects/fast-campus/venv/lib/python3.10/site-packages/httpx/_client.py#1773\" target=\"_blank\"><span style=\"color: #7f7f7f; text-decoration-color: #7f7f7f\">1773</span></a>\n",
       "<span style=\"color: #7fbfbf; text-decoration-color: #7fbfbf\">                    </span>         <span style=\"color: #0000ff; text-decoration-color: #0000ff; text-decoration: underline\">https://api.cloud.llamaindex.ai/api/parsing/job/42e204d1-4fd0-42bc-91a</span> <span style=\"color: #7f7f7f; text-decoration-color: #7f7f7f\">               </span>\n",
       "<span style=\"color: #7fbfbf; text-decoration-color: #7fbfbf\">                    </span>         <span style=\"color: #0000ff; text-decoration-color: #0000ff; text-decoration: underline\">9-3aa68af5a739/result/markdown</span> <span style=\"color: #008000; text-decoration-color: #008000\">\"HTTP/1.1 200 OK\"</span>                       <span style=\"color: #7f7f7f; text-decoration-color: #7f7f7f\">               </span>\n",
       "</pre>\n"
      ]
     },
     "metadata": {},
     "output_type": "display_data"
    },
    {
     "data": {
      "text/plain": [
       "\u001B[2;36m[12/21/24 16:19:45]\u001B[0m\u001B[2;36m \u001B[0m\u001B[34mINFO    \u001B[0m \u001B[1m[\u001B[0m_client.py:\u001B[1;36m1773\u001B[0m\u001B[1m]\u001B[0m >> HTTP Request: \u001B[1;33mGET\u001B[0m                                 \u001B]8;id=374295;file:///Users/kimbwook/PycharmProjects/fast-campus/venv/lib/python3.10/site-packages/httpx/_client.py\u001B\\\u001B[2m_client.py\u001B[0m\u001B]8;;\u001B\\\u001B[2m:\u001B[0m\u001B]8;id=80102;file:///Users/kimbwook/PycharmProjects/fast-campus/venv/lib/python3.10/site-packages/httpx/_client.py#1773\u001B\\\u001B[2m1773\u001B[0m\u001B]8;;\u001B\\\n",
       "\u001B[2;36m                    \u001B[0m         \u001B[4;94mhttps://api.cloud.llamaindex.ai/api/parsing/job/40f8157f-cc8b-4629-b57\u001B[0m \u001B[2m               \u001B[0m\n",
       "\u001B[2;36m                    \u001B[0m         \u001B[4;94me-7deb3d35d2c8\u001B[0m \u001B[32m\"HTTP/1.1 200 OK\"\u001B[0m                                       \u001B[2m               \u001B[0m\n"
      ],
      "text/html": [
       "<pre style=\"white-space:pre;overflow-x:auto;line-height:normal;font-family:Menlo,'DejaVu Sans Mono',consolas,'Courier New',monospace\"><span style=\"color: #7fbfbf; text-decoration-color: #7fbfbf\">[12/21/24 16:19:45] </span><span style=\"color: #000080; text-decoration-color: #000080\">INFO    </span> <span style=\"font-weight: bold\">[</span>_client.py:<span style=\"color: #008080; text-decoration-color: #008080; font-weight: bold\">1773</span><span style=\"font-weight: bold\">]</span> &gt;&gt; HTTP Request: <span style=\"color: #808000; text-decoration-color: #808000; font-weight: bold\">GET</span>                                 <a href=\"file:///Users/kimbwook/PycharmProjects/fast-campus/venv/lib/python3.10/site-packages/httpx/_client.py\" target=\"_blank\"><span style=\"color: #7f7f7f; text-decoration-color: #7f7f7f\">_client.py</span></a><span style=\"color: #7f7f7f; text-decoration-color: #7f7f7f\">:</span><a href=\"file:///Users/kimbwook/PycharmProjects/fast-campus/venv/lib/python3.10/site-packages/httpx/_client.py#1773\" target=\"_blank\"><span style=\"color: #7f7f7f; text-decoration-color: #7f7f7f\">1773</span></a>\n",
       "<span style=\"color: #7fbfbf; text-decoration-color: #7fbfbf\">                    </span>         <span style=\"color: #0000ff; text-decoration-color: #0000ff; text-decoration: underline\">https://api.cloud.llamaindex.ai/api/parsing/job/40f8157f-cc8b-4629-b57</span> <span style=\"color: #7f7f7f; text-decoration-color: #7f7f7f\">               </span>\n",
       "<span style=\"color: #7fbfbf; text-decoration-color: #7fbfbf\">                    </span>         <span style=\"color: #0000ff; text-decoration-color: #0000ff; text-decoration: underline\">e-7deb3d35d2c8</span> <span style=\"color: #008000; text-decoration-color: #008000\">\"HTTP/1.1 200 OK\"</span>                                       <span style=\"color: #7f7f7f; text-decoration-color: #7f7f7f\">               </span>\n",
       "</pre>\n"
      ]
     },
     "metadata": {},
     "output_type": "display_data"
    },
    {
     "data": {
      "text/plain": [
       "\u001B[2;36m                   \u001B[0m\u001B[2;36m \u001B[0m\u001B[34mINFO    \u001B[0m \u001B[1m[\u001B[0m_client.py:\u001B[1;36m1773\u001B[0m\u001B[1m]\u001B[0m >> HTTP Request: \u001B[1;33mGET\u001B[0m                                 \u001B]8;id=497458;file:///Users/kimbwook/PycharmProjects/fast-campus/venv/lib/python3.10/site-packages/httpx/_client.py\u001B\\\u001B[2m_client.py\u001B[0m\u001B]8;;\u001B\\\u001B[2m:\u001B[0m\u001B]8;id=670475;file:///Users/kimbwook/PycharmProjects/fast-campus/venv/lib/python3.10/site-packages/httpx/_client.py#1773\u001B\\\u001B[2m1773\u001B[0m\u001B]8;;\u001B\\\n",
       "\u001B[2;36m                    \u001B[0m         \u001B[4;94mhttps://api.cloud.llamaindex.ai/api/parsing/job/3bc6e83d-0f9a-4a08-93b\u001B[0m \u001B[2m               \u001B[0m\n",
       "\u001B[2;36m                    \u001B[0m         \u001B[4;94m4-f30fbd99d127\u001B[0m \u001B[32m\"HTTP/1.1 200 OK\"\u001B[0m                                       \u001B[2m               \u001B[0m\n"
      ],
      "text/html": [
       "<pre style=\"white-space:pre;overflow-x:auto;line-height:normal;font-family:Menlo,'DejaVu Sans Mono',consolas,'Courier New',monospace\"><span style=\"color: #7fbfbf; text-decoration-color: #7fbfbf\">                    </span><span style=\"color: #000080; text-decoration-color: #000080\">INFO    </span> <span style=\"font-weight: bold\">[</span>_client.py:<span style=\"color: #008080; text-decoration-color: #008080; font-weight: bold\">1773</span><span style=\"font-weight: bold\">]</span> &gt;&gt; HTTP Request: <span style=\"color: #808000; text-decoration-color: #808000; font-weight: bold\">GET</span>                                 <a href=\"file:///Users/kimbwook/PycharmProjects/fast-campus/venv/lib/python3.10/site-packages/httpx/_client.py\" target=\"_blank\"><span style=\"color: #7f7f7f; text-decoration-color: #7f7f7f\">_client.py</span></a><span style=\"color: #7f7f7f; text-decoration-color: #7f7f7f\">:</span><a href=\"file:///Users/kimbwook/PycharmProjects/fast-campus/venv/lib/python3.10/site-packages/httpx/_client.py#1773\" target=\"_blank\"><span style=\"color: #7f7f7f; text-decoration-color: #7f7f7f\">1773</span></a>\n",
       "<span style=\"color: #7fbfbf; text-decoration-color: #7fbfbf\">                    </span>         <span style=\"color: #0000ff; text-decoration-color: #0000ff; text-decoration: underline\">https://api.cloud.llamaindex.ai/api/parsing/job/3bc6e83d-0f9a-4a08-93b</span> <span style=\"color: #7f7f7f; text-decoration-color: #7f7f7f\">               </span>\n",
       "<span style=\"color: #7fbfbf; text-decoration-color: #7fbfbf\">                    </span>         <span style=\"color: #0000ff; text-decoration-color: #0000ff; text-decoration: underline\">4-f30fbd99d127</span> <span style=\"color: #008000; text-decoration-color: #008000\">\"HTTP/1.1 200 OK\"</span>                                       <span style=\"color: #7f7f7f; text-decoration-color: #7f7f7f\">               </span>\n",
       "</pre>\n"
      ]
     },
     "metadata": {},
     "output_type": "display_data"
    },
    {
     "data": {
      "text/plain": [
       "\u001B[2;36m                   \u001B[0m\u001B[2;36m \u001B[0m\u001B[34mINFO    \u001B[0m \u001B[1m[\u001B[0m_client.py:\u001B[1;36m1773\u001B[0m\u001B[1m]\u001B[0m >> HTTP Request: \u001B[1;33mGET\u001B[0m                                 \u001B]8;id=321980;file:///Users/kimbwook/PycharmProjects/fast-campus/venv/lib/python3.10/site-packages/httpx/_client.py\u001B\\\u001B[2m_client.py\u001B[0m\u001B]8;;\u001B\\\u001B[2m:\u001B[0m\u001B]8;id=197541;file:///Users/kimbwook/PycharmProjects/fast-campus/venv/lib/python3.10/site-packages/httpx/_client.py#1773\u001B\\\u001B[2m1773\u001B[0m\u001B]8;;\u001B\\\n",
       "\u001B[2;36m                    \u001B[0m         \u001B[4;94mhttps://api.cloud.llamaindex.ai/api/parsing/job/de767d33-547e-4518-b83\u001B[0m \u001B[2m               \u001B[0m\n",
       "\u001B[2;36m                    \u001B[0m         \u001B[4;94m6-5ce93eb56fc3\u001B[0m \u001B[32m\"HTTP/1.1 200 OK\"\u001B[0m                                       \u001B[2m               \u001B[0m\n"
      ],
      "text/html": [
       "<pre style=\"white-space:pre;overflow-x:auto;line-height:normal;font-family:Menlo,'DejaVu Sans Mono',consolas,'Courier New',monospace\"><span style=\"color: #7fbfbf; text-decoration-color: #7fbfbf\">                    </span><span style=\"color: #000080; text-decoration-color: #000080\">INFO    </span> <span style=\"font-weight: bold\">[</span>_client.py:<span style=\"color: #008080; text-decoration-color: #008080; font-weight: bold\">1773</span><span style=\"font-weight: bold\">]</span> &gt;&gt; HTTP Request: <span style=\"color: #808000; text-decoration-color: #808000; font-weight: bold\">GET</span>                                 <a href=\"file:///Users/kimbwook/PycharmProjects/fast-campus/venv/lib/python3.10/site-packages/httpx/_client.py\" target=\"_blank\"><span style=\"color: #7f7f7f; text-decoration-color: #7f7f7f\">_client.py</span></a><span style=\"color: #7f7f7f; text-decoration-color: #7f7f7f\">:</span><a href=\"file:///Users/kimbwook/PycharmProjects/fast-campus/venv/lib/python3.10/site-packages/httpx/_client.py#1773\" target=\"_blank\"><span style=\"color: #7f7f7f; text-decoration-color: #7f7f7f\">1773</span></a>\n",
       "<span style=\"color: #7fbfbf; text-decoration-color: #7fbfbf\">                    </span>         <span style=\"color: #0000ff; text-decoration-color: #0000ff; text-decoration: underline\">https://api.cloud.llamaindex.ai/api/parsing/job/de767d33-547e-4518-b83</span> <span style=\"color: #7f7f7f; text-decoration-color: #7f7f7f\">               </span>\n",
       "<span style=\"color: #7fbfbf; text-decoration-color: #7fbfbf\">                    </span>         <span style=\"color: #0000ff; text-decoration-color: #0000ff; text-decoration: underline\">6-5ce93eb56fc3</span> <span style=\"color: #008000; text-decoration-color: #008000\">\"HTTP/1.1 200 OK\"</span>                                       <span style=\"color: #7f7f7f; text-decoration-color: #7f7f7f\">               </span>\n",
       "</pre>\n"
      ]
     },
     "metadata": {},
     "output_type": "display_data"
    },
    {
     "data": {
      "text/plain": [
       "\u001B[2;36m[12/21/24 16:19:48]\u001B[0m\u001B[2;36m \u001B[0m\u001B[34mINFO    \u001B[0m \u001B[1m[\u001B[0m_client.py:\u001B[1;36m1773\u001B[0m\u001B[1m]\u001B[0m >> HTTP Request: \u001B[1;33mGET\u001B[0m                                 \u001B]8;id=604890;file:///Users/kimbwook/PycharmProjects/fast-campus/venv/lib/python3.10/site-packages/httpx/_client.py\u001B\\\u001B[2m_client.py\u001B[0m\u001B]8;;\u001B\\\u001B[2m:\u001B[0m\u001B]8;id=26398;file:///Users/kimbwook/PycharmProjects/fast-campus/venv/lib/python3.10/site-packages/httpx/_client.py#1773\u001B\\\u001B[2m1773\u001B[0m\u001B]8;;\u001B\\\n",
       "\u001B[2;36m                    \u001B[0m         \u001B[4;94mhttps://api.cloud.llamaindex.ai/api/parsing/job/40f8157f-cc8b-4629-b57\u001B[0m \u001B[2m               \u001B[0m\n",
       "\u001B[2;36m                    \u001B[0m         \u001B[4;94me-7deb3d35d2c8\u001B[0m \u001B[32m\"HTTP/1.1 200 OK\"\u001B[0m                                       \u001B[2m               \u001B[0m\n"
      ],
      "text/html": [
       "<pre style=\"white-space:pre;overflow-x:auto;line-height:normal;font-family:Menlo,'DejaVu Sans Mono',consolas,'Courier New',monospace\"><span style=\"color: #7fbfbf; text-decoration-color: #7fbfbf\">[12/21/24 16:19:48] </span><span style=\"color: #000080; text-decoration-color: #000080\">INFO    </span> <span style=\"font-weight: bold\">[</span>_client.py:<span style=\"color: #008080; text-decoration-color: #008080; font-weight: bold\">1773</span><span style=\"font-weight: bold\">]</span> &gt;&gt; HTTP Request: <span style=\"color: #808000; text-decoration-color: #808000; font-weight: bold\">GET</span>                                 <a href=\"file:///Users/kimbwook/PycharmProjects/fast-campus/venv/lib/python3.10/site-packages/httpx/_client.py\" target=\"_blank\"><span style=\"color: #7f7f7f; text-decoration-color: #7f7f7f\">_client.py</span></a><span style=\"color: #7f7f7f; text-decoration-color: #7f7f7f\">:</span><a href=\"file:///Users/kimbwook/PycharmProjects/fast-campus/venv/lib/python3.10/site-packages/httpx/_client.py#1773\" target=\"_blank\"><span style=\"color: #7f7f7f; text-decoration-color: #7f7f7f\">1773</span></a>\n",
       "<span style=\"color: #7fbfbf; text-decoration-color: #7fbfbf\">                    </span>         <span style=\"color: #0000ff; text-decoration-color: #0000ff; text-decoration: underline\">https://api.cloud.llamaindex.ai/api/parsing/job/40f8157f-cc8b-4629-b57</span> <span style=\"color: #7f7f7f; text-decoration-color: #7f7f7f\">               </span>\n",
       "<span style=\"color: #7fbfbf; text-decoration-color: #7fbfbf\">                    </span>         <span style=\"color: #0000ff; text-decoration-color: #0000ff; text-decoration: underline\">e-7deb3d35d2c8</span> <span style=\"color: #008000; text-decoration-color: #008000\">\"HTTP/1.1 200 OK\"</span>                                       <span style=\"color: #7f7f7f; text-decoration-color: #7f7f7f\">               </span>\n",
       "</pre>\n"
      ]
     },
     "metadata": {},
     "output_type": "display_data"
    },
    {
     "data": {
      "text/plain": [
       "\u001B[2;36m                   \u001B[0m\u001B[2;36m \u001B[0m\u001B[34mINFO    \u001B[0m \u001B[1m[\u001B[0m_client.py:\u001B[1;36m1773\u001B[0m\u001B[1m]\u001B[0m >> HTTP Request: \u001B[1;33mGET\u001B[0m                                 \u001B]8;id=313348;file:///Users/kimbwook/PycharmProjects/fast-campus/venv/lib/python3.10/site-packages/httpx/_client.py\u001B\\\u001B[2m_client.py\u001B[0m\u001B]8;;\u001B\\\u001B[2m:\u001B[0m\u001B]8;id=83563;file:///Users/kimbwook/PycharmProjects/fast-campus/venv/lib/python3.10/site-packages/httpx/_client.py#1773\u001B\\\u001B[2m1773\u001B[0m\u001B]8;;\u001B\\\n",
       "\u001B[2;36m                    \u001B[0m         \u001B[4;94mhttps://api.cloud.llamaindex.ai/api/parsing/job/3bc6e83d-0f9a-4a08-93b\u001B[0m \u001B[2m               \u001B[0m\n",
       "\u001B[2;36m                    \u001B[0m         \u001B[4;94m4-f30fbd99d127\u001B[0m \u001B[32m\"HTTP/1.1 200 OK\"\u001B[0m                                       \u001B[2m               \u001B[0m\n"
      ],
      "text/html": [
       "<pre style=\"white-space:pre;overflow-x:auto;line-height:normal;font-family:Menlo,'DejaVu Sans Mono',consolas,'Courier New',monospace\"><span style=\"color: #7fbfbf; text-decoration-color: #7fbfbf\">                    </span><span style=\"color: #000080; text-decoration-color: #000080\">INFO    </span> <span style=\"font-weight: bold\">[</span>_client.py:<span style=\"color: #008080; text-decoration-color: #008080; font-weight: bold\">1773</span><span style=\"font-weight: bold\">]</span> &gt;&gt; HTTP Request: <span style=\"color: #808000; text-decoration-color: #808000; font-weight: bold\">GET</span>                                 <a href=\"file:///Users/kimbwook/PycharmProjects/fast-campus/venv/lib/python3.10/site-packages/httpx/_client.py\" target=\"_blank\"><span style=\"color: #7f7f7f; text-decoration-color: #7f7f7f\">_client.py</span></a><span style=\"color: #7f7f7f; text-decoration-color: #7f7f7f\">:</span><a href=\"file:///Users/kimbwook/PycharmProjects/fast-campus/venv/lib/python3.10/site-packages/httpx/_client.py#1773\" target=\"_blank\"><span style=\"color: #7f7f7f; text-decoration-color: #7f7f7f\">1773</span></a>\n",
       "<span style=\"color: #7fbfbf; text-decoration-color: #7fbfbf\">                    </span>         <span style=\"color: #0000ff; text-decoration-color: #0000ff; text-decoration: underline\">https://api.cloud.llamaindex.ai/api/parsing/job/3bc6e83d-0f9a-4a08-93b</span> <span style=\"color: #7f7f7f; text-decoration-color: #7f7f7f\">               </span>\n",
       "<span style=\"color: #7fbfbf; text-decoration-color: #7fbfbf\">                    </span>         <span style=\"color: #0000ff; text-decoration-color: #0000ff; text-decoration: underline\">4-f30fbd99d127</span> <span style=\"color: #008000; text-decoration-color: #008000\">\"HTTP/1.1 200 OK\"</span>                                       <span style=\"color: #7f7f7f; text-decoration-color: #7f7f7f\">               </span>\n",
       "</pre>\n"
      ]
     },
     "metadata": {},
     "output_type": "display_data"
    },
    {
     "data": {
      "text/plain": [
       "\u001B[2;36m                   \u001B[0m\u001B[2;36m \u001B[0m\u001B[34mINFO    \u001B[0m \u001B[1m[\u001B[0m_client.py:\u001B[1;36m1773\u001B[0m\u001B[1m]\u001B[0m >> HTTP Request: \u001B[1;33mGET\u001B[0m                                 \u001B]8;id=954597;file:///Users/kimbwook/PycharmProjects/fast-campus/venv/lib/python3.10/site-packages/httpx/_client.py\u001B\\\u001B[2m_client.py\u001B[0m\u001B]8;;\u001B\\\u001B[2m:\u001B[0m\u001B]8;id=264620;file:///Users/kimbwook/PycharmProjects/fast-campus/venv/lib/python3.10/site-packages/httpx/_client.py#1773\u001B\\\u001B[2m1773\u001B[0m\u001B]8;;\u001B\\\n",
       "\u001B[2;36m                    \u001B[0m         \u001B[4;94mhttps://api.cloud.llamaindex.ai/api/parsing/job/de767d33-547e-4518-b83\u001B[0m \u001B[2m               \u001B[0m\n",
       "\u001B[2;36m                    \u001B[0m         \u001B[4;94m6-5ce93eb56fc3\u001B[0m \u001B[32m\"HTTP/1.1 200 OK\"\u001B[0m                                       \u001B[2m               \u001B[0m\n"
      ],
      "text/html": [
       "<pre style=\"white-space:pre;overflow-x:auto;line-height:normal;font-family:Menlo,'DejaVu Sans Mono',consolas,'Courier New',monospace\"><span style=\"color: #7fbfbf; text-decoration-color: #7fbfbf\">                    </span><span style=\"color: #000080; text-decoration-color: #000080\">INFO    </span> <span style=\"font-weight: bold\">[</span>_client.py:<span style=\"color: #008080; text-decoration-color: #008080; font-weight: bold\">1773</span><span style=\"font-weight: bold\">]</span> &gt;&gt; HTTP Request: <span style=\"color: #808000; text-decoration-color: #808000; font-weight: bold\">GET</span>                                 <a href=\"file:///Users/kimbwook/PycharmProjects/fast-campus/venv/lib/python3.10/site-packages/httpx/_client.py\" target=\"_blank\"><span style=\"color: #7f7f7f; text-decoration-color: #7f7f7f\">_client.py</span></a><span style=\"color: #7f7f7f; text-decoration-color: #7f7f7f\">:</span><a href=\"file:///Users/kimbwook/PycharmProjects/fast-campus/venv/lib/python3.10/site-packages/httpx/_client.py#1773\" target=\"_blank\"><span style=\"color: #7f7f7f; text-decoration-color: #7f7f7f\">1773</span></a>\n",
       "<span style=\"color: #7fbfbf; text-decoration-color: #7fbfbf\">                    </span>         <span style=\"color: #0000ff; text-decoration-color: #0000ff; text-decoration: underline\">https://api.cloud.llamaindex.ai/api/parsing/job/de767d33-547e-4518-b83</span> <span style=\"color: #7f7f7f; text-decoration-color: #7f7f7f\">               </span>\n",
       "<span style=\"color: #7fbfbf; text-decoration-color: #7fbfbf\">                    </span>         <span style=\"color: #0000ff; text-decoration-color: #0000ff; text-decoration: underline\">6-5ce93eb56fc3</span> <span style=\"color: #008000; text-decoration-color: #008000\">\"HTTP/1.1 200 OK\"</span>                                       <span style=\"color: #7f7f7f; text-decoration-color: #7f7f7f\">               </span>\n",
       "</pre>\n"
      ]
     },
     "metadata": {},
     "output_type": "display_data"
    },
    {
     "data": {
      "text/plain": [
       "\u001B[2;36m                   \u001B[0m\u001B[2;36m \u001B[0m\u001B[34mINFO    \u001B[0m \u001B[1m[\u001B[0m_client.py:\u001B[1;36m1773\u001B[0m\u001B[1m]\u001B[0m >> HTTP Request: \u001B[1;33mGET\u001B[0m                                 \u001B]8;id=55694;file:///Users/kimbwook/PycharmProjects/fast-campus/venv/lib/python3.10/site-packages/httpx/_client.py\u001B\\\u001B[2m_client.py\u001B[0m\u001B]8;;\u001B\\\u001B[2m:\u001B[0m\u001B]8;id=414880;file:///Users/kimbwook/PycharmProjects/fast-campus/venv/lib/python3.10/site-packages/httpx/_client.py#1773\u001B\\\u001B[2m1773\u001B[0m\u001B]8;;\u001B\\\n",
       "\u001B[2;36m                    \u001B[0m         \u001B[4;94mhttps://api.cloud.llamaindex.ai/api/parsing/job/40f8157f-cc8b-4629-b57\u001B[0m \u001B[2m               \u001B[0m\n",
       "\u001B[2;36m                    \u001B[0m         \u001B[4;94me-7deb3d35d2c8/result/markdown\u001B[0m \u001B[32m\"HTTP/1.1 200 OK\"\u001B[0m                       \u001B[2m               \u001B[0m\n"
      ],
      "text/html": [
       "<pre style=\"white-space:pre;overflow-x:auto;line-height:normal;font-family:Menlo,'DejaVu Sans Mono',consolas,'Courier New',monospace\"><span style=\"color: #7fbfbf; text-decoration-color: #7fbfbf\">                    </span><span style=\"color: #000080; text-decoration-color: #000080\">INFO    </span> <span style=\"font-weight: bold\">[</span>_client.py:<span style=\"color: #008080; text-decoration-color: #008080; font-weight: bold\">1773</span><span style=\"font-weight: bold\">]</span> &gt;&gt; HTTP Request: <span style=\"color: #808000; text-decoration-color: #808000; font-weight: bold\">GET</span>                                 <a href=\"file:///Users/kimbwook/PycharmProjects/fast-campus/venv/lib/python3.10/site-packages/httpx/_client.py\" target=\"_blank\"><span style=\"color: #7f7f7f; text-decoration-color: #7f7f7f\">_client.py</span></a><span style=\"color: #7f7f7f; text-decoration-color: #7f7f7f\">:</span><a href=\"file:///Users/kimbwook/PycharmProjects/fast-campus/venv/lib/python3.10/site-packages/httpx/_client.py#1773\" target=\"_blank\"><span style=\"color: #7f7f7f; text-decoration-color: #7f7f7f\">1773</span></a>\n",
       "<span style=\"color: #7fbfbf; text-decoration-color: #7fbfbf\">                    </span>         <span style=\"color: #0000ff; text-decoration-color: #0000ff; text-decoration: underline\">https://api.cloud.llamaindex.ai/api/parsing/job/40f8157f-cc8b-4629-b57</span> <span style=\"color: #7f7f7f; text-decoration-color: #7f7f7f\">               </span>\n",
       "<span style=\"color: #7fbfbf; text-decoration-color: #7fbfbf\">                    </span>         <span style=\"color: #0000ff; text-decoration-color: #0000ff; text-decoration: underline\">e-7deb3d35d2c8/result/markdown</span> <span style=\"color: #008000; text-decoration-color: #008000\">\"HTTP/1.1 200 OK\"</span>                       <span style=\"color: #7f7f7f; text-decoration-color: #7f7f7f\">               </span>\n",
       "</pre>\n"
      ]
     },
     "metadata": {},
     "output_type": "display_data"
    },
    {
     "data": {
      "text/plain": [
       "\u001B[2;36m                   \u001B[0m\u001B[2;36m \u001B[0m\u001B[34mINFO    \u001B[0m \u001B[1m[\u001B[0m_client.py:\u001B[1;36m1773\u001B[0m\u001B[1m]\u001B[0m >> HTTP Request: \u001B[1;33mGET\u001B[0m                                 \u001B]8;id=718702;file:///Users/kimbwook/PycharmProjects/fast-campus/venv/lib/python3.10/site-packages/httpx/_client.py\u001B\\\u001B[2m_client.py\u001B[0m\u001B]8;;\u001B\\\u001B[2m:\u001B[0m\u001B]8;id=493776;file:///Users/kimbwook/PycharmProjects/fast-campus/venv/lib/python3.10/site-packages/httpx/_client.py#1773\u001B\\\u001B[2m1773\u001B[0m\u001B]8;;\u001B\\\n",
       "\u001B[2;36m                    \u001B[0m         \u001B[4;94mhttps://api.cloud.llamaindex.ai/api/parsing/job/3bc6e83d-0f9a-4a08-93b\u001B[0m \u001B[2m               \u001B[0m\n",
       "\u001B[2;36m                    \u001B[0m         \u001B[4;94m4-f30fbd99d127/result/markdown\u001B[0m \u001B[32m\"HTTP/1.1 200 OK\"\u001B[0m                       \u001B[2m               \u001B[0m\n"
      ],
      "text/html": [
       "<pre style=\"white-space:pre;overflow-x:auto;line-height:normal;font-family:Menlo,'DejaVu Sans Mono',consolas,'Courier New',monospace\"><span style=\"color: #7fbfbf; text-decoration-color: #7fbfbf\">                    </span><span style=\"color: #000080; text-decoration-color: #000080\">INFO    </span> <span style=\"font-weight: bold\">[</span>_client.py:<span style=\"color: #008080; text-decoration-color: #008080; font-weight: bold\">1773</span><span style=\"font-weight: bold\">]</span> &gt;&gt; HTTP Request: <span style=\"color: #808000; text-decoration-color: #808000; font-weight: bold\">GET</span>                                 <a href=\"file:///Users/kimbwook/PycharmProjects/fast-campus/venv/lib/python3.10/site-packages/httpx/_client.py\" target=\"_blank\"><span style=\"color: #7f7f7f; text-decoration-color: #7f7f7f\">_client.py</span></a><span style=\"color: #7f7f7f; text-decoration-color: #7f7f7f\">:</span><a href=\"file:///Users/kimbwook/PycharmProjects/fast-campus/venv/lib/python3.10/site-packages/httpx/_client.py#1773\" target=\"_blank\"><span style=\"color: #7f7f7f; text-decoration-color: #7f7f7f\">1773</span></a>\n",
       "<span style=\"color: #7fbfbf; text-decoration-color: #7fbfbf\">                    </span>         <span style=\"color: #0000ff; text-decoration-color: #0000ff; text-decoration: underline\">https://api.cloud.llamaindex.ai/api/parsing/job/3bc6e83d-0f9a-4a08-93b</span> <span style=\"color: #7f7f7f; text-decoration-color: #7f7f7f\">               </span>\n",
       "<span style=\"color: #7fbfbf; text-decoration-color: #7fbfbf\">                    </span>         <span style=\"color: #0000ff; text-decoration-color: #0000ff; text-decoration: underline\">4-f30fbd99d127/result/markdown</span> <span style=\"color: #008000; text-decoration-color: #008000\">\"HTTP/1.1 200 OK\"</span>                       <span style=\"color: #7f7f7f; text-decoration-color: #7f7f7f\">               </span>\n",
       "</pre>\n"
      ]
     },
     "metadata": {},
     "output_type": "display_data"
    },
    {
     "data": {
      "text/plain": [
       "\u001B[2;36m[12/21/24 16:19:51]\u001B[0m\u001B[2;36m \u001B[0m\u001B[34mINFO    \u001B[0m \u001B[1m[\u001B[0m_client.py:\u001B[1;36m1773\u001B[0m\u001B[1m]\u001B[0m >> HTTP Request: \u001B[1;33mGET\u001B[0m                                 \u001B]8;id=753274;file:///Users/kimbwook/PycharmProjects/fast-campus/venv/lib/python3.10/site-packages/httpx/_client.py\u001B\\\u001B[2m_client.py\u001B[0m\u001B]8;;\u001B\\\u001B[2m:\u001B[0m\u001B]8;id=763593;file:///Users/kimbwook/PycharmProjects/fast-campus/venv/lib/python3.10/site-packages/httpx/_client.py#1773\u001B\\\u001B[2m1773\u001B[0m\u001B]8;;\u001B\\\n",
       "\u001B[2;36m                    \u001B[0m         \u001B[4;94mhttps://api.cloud.llamaindex.ai/api/parsing/job/de767d33-547e-4518-b83\u001B[0m \u001B[2m               \u001B[0m\n",
       "\u001B[2;36m                    \u001B[0m         \u001B[4;94m6-5ce93eb56fc3\u001B[0m \u001B[32m\"HTTP/1.1 200 OK\"\u001B[0m                                       \u001B[2m               \u001B[0m\n"
      ],
      "text/html": [
       "<pre style=\"white-space:pre;overflow-x:auto;line-height:normal;font-family:Menlo,'DejaVu Sans Mono',consolas,'Courier New',monospace\"><span style=\"color: #7fbfbf; text-decoration-color: #7fbfbf\">[12/21/24 16:19:51] </span><span style=\"color: #000080; text-decoration-color: #000080\">INFO    </span> <span style=\"font-weight: bold\">[</span>_client.py:<span style=\"color: #008080; text-decoration-color: #008080; font-weight: bold\">1773</span><span style=\"font-weight: bold\">]</span> &gt;&gt; HTTP Request: <span style=\"color: #808000; text-decoration-color: #808000; font-weight: bold\">GET</span>                                 <a href=\"file:///Users/kimbwook/PycharmProjects/fast-campus/venv/lib/python3.10/site-packages/httpx/_client.py\" target=\"_blank\"><span style=\"color: #7f7f7f; text-decoration-color: #7f7f7f\">_client.py</span></a><span style=\"color: #7f7f7f; text-decoration-color: #7f7f7f\">:</span><a href=\"file:///Users/kimbwook/PycharmProjects/fast-campus/venv/lib/python3.10/site-packages/httpx/_client.py#1773\" target=\"_blank\"><span style=\"color: #7f7f7f; text-decoration-color: #7f7f7f\">1773</span></a>\n",
       "<span style=\"color: #7fbfbf; text-decoration-color: #7fbfbf\">                    </span>         <span style=\"color: #0000ff; text-decoration-color: #0000ff; text-decoration: underline\">https://api.cloud.llamaindex.ai/api/parsing/job/de767d33-547e-4518-b83</span> <span style=\"color: #7f7f7f; text-decoration-color: #7f7f7f\">               </span>\n",
       "<span style=\"color: #7fbfbf; text-decoration-color: #7fbfbf\">                    </span>         <span style=\"color: #0000ff; text-decoration-color: #0000ff; text-decoration: underline\">6-5ce93eb56fc3</span> <span style=\"color: #008000; text-decoration-color: #008000\">\"HTTP/1.1 200 OK\"</span>                                       <span style=\"color: #7f7f7f; text-decoration-color: #7f7f7f\">               </span>\n",
       "</pre>\n"
      ]
     },
     "metadata": {},
     "output_type": "display_data"
    },
    {
     "data": {
      "text/plain": [
       "\u001B[2;36m                   \u001B[0m\u001B[2;36m \u001B[0m\u001B[34mINFO    \u001B[0m \u001B[1m[\u001B[0m_client.py:\u001B[1;36m1773\u001B[0m\u001B[1m]\u001B[0m >> HTTP Request: \u001B[1;33mGET\u001B[0m                                 \u001B]8;id=1495;file:///Users/kimbwook/PycharmProjects/fast-campus/venv/lib/python3.10/site-packages/httpx/_client.py\u001B\\\u001B[2m_client.py\u001B[0m\u001B]8;;\u001B\\\u001B[2m:\u001B[0m\u001B]8;id=898307;file:///Users/kimbwook/PycharmProjects/fast-campus/venv/lib/python3.10/site-packages/httpx/_client.py#1773\u001B\\\u001B[2m1773\u001B[0m\u001B]8;;\u001B\\\n",
       "\u001B[2;36m                    \u001B[0m         \u001B[4;94mhttps://api.cloud.llamaindex.ai/api/parsing/job/de767d33-547e-4518-b83\u001B[0m \u001B[2m               \u001B[0m\n",
       "\u001B[2;36m                    \u001B[0m         \u001B[4;94m6-5ce93eb56fc3/result/markdown\u001B[0m \u001B[32m\"HTTP/1.1 200 OK\"\u001B[0m                       \u001B[2m               \u001B[0m\n"
      ],
      "text/html": [
       "<pre style=\"white-space:pre;overflow-x:auto;line-height:normal;font-family:Menlo,'DejaVu Sans Mono',consolas,'Courier New',monospace\"><span style=\"color: #7fbfbf; text-decoration-color: #7fbfbf\">                    </span><span style=\"color: #000080; text-decoration-color: #000080\">INFO    </span> <span style=\"font-weight: bold\">[</span>_client.py:<span style=\"color: #008080; text-decoration-color: #008080; font-weight: bold\">1773</span><span style=\"font-weight: bold\">]</span> &gt;&gt; HTTP Request: <span style=\"color: #808000; text-decoration-color: #808000; font-weight: bold\">GET</span>                                 <a href=\"file:///Users/kimbwook/PycharmProjects/fast-campus/venv/lib/python3.10/site-packages/httpx/_client.py\" target=\"_blank\"><span style=\"color: #7f7f7f; text-decoration-color: #7f7f7f\">_client.py</span></a><span style=\"color: #7f7f7f; text-decoration-color: #7f7f7f\">:</span><a href=\"file:///Users/kimbwook/PycharmProjects/fast-campus/venv/lib/python3.10/site-packages/httpx/_client.py#1773\" target=\"_blank\"><span style=\"color: #7f7f7f; text-decoration-color: #7f7f7f\">1773</span></a>\n",
       "<span style=\"color: #7fbfbf; text-decoration-color: #7fbfbf\">                    </span>         <span style=\"color: #0000ff; text-decoration-color: #0000ff; text-decoration: underline\">https://api.cloud.llamaindex.ai/api/parsing/job/de767d33-547e-4518-b83</span> <span style=\"color: #7f7f7f; text-decoration-color: #7f7f7f\">               </span>\n",
       "<span style=\"color: #7fbfbf; text-decoration-color: #7fbfbf\">                    </span>         <span style=\"color: #0000ff; text-decoration-color: #0000ff; text-decoration: underline\">6-5ce93eb56fc3/result/markdown</span> <span style=\"color: #008000; text-decoration-color: #008000\">\"HTTP/1.1 200 OK\"</span>                       <span style=\"color: #7f7f7f; text-decoration-color: #7f7f7f\">               </span>\n",
       "</pre>\n"
      ]
     },
     "metadata": {},
     "output_type": "display_data"
    },
    {
     "data": {
      "text/plain": [
       "\u001B[2;36m[12/21/24 16:19:53]\u001B[0m\u001B[2;36m \u001B[0m\u001B[34mINFO    \u001B[0m \u001B[1m[\u001B[0m_client.py:\u001B[1;36m1773\u001B[0m\u001B[1m]\u001B[0m >> HTTP Request: \u001B[1;33mPOST\u001B[0m                                \u001B]8;id=267623;file:///Users/kimbwook/PycharmProjects/fast-campus/venv/lib/python3.10/site-packages/httpx/_client.py\u001B\\\u001B[2m_client.py\u001B[0m\u001B]8;;\u001B\\\u001B[2m:\u001B[0m\u001B]8;id=365014;file:///Users/kimbwook/PycharmProjects/fast-campus/venv/lib/python3.10/site-packages/httpx/_client.py#1773\u001B\\\u001B[2m1773\u001B[0m\u001B]8;;\u001B\\\n",
       "\u001B[2;36m                    \u001B[0m         \u001B[4;94mhttps://api.cloud.llamaindex.ai/api/parsing/upload\u001B[0m \u001B[32m\"HTTP/1.1 200 OK\"\u001B[0m   \u001B[2m               \u001B[0m\n"
      ],
      "text/html": [
       "<pre style=\"white-space:pre;overflow-x:auto;line-height:normal;font-family:Menlo,'DejaVu Sans Mono',consolas,'Courier New',monospace\"><span style=\"color: #7fbfbf; text-decoration-color: #7fbfbf\">[12/21/24 16:19:53] </span><span style=\"color: #000080; text-decoration-color: #000080\">INFO    </span> <span style=\"font-weight: bold\">[</span>_client.py:<span style=\"color: #008080; text-decoration-color: #008080; font-weight: bold\">1773</span><span style=\"font-weight: bold\">]</span> &gt;&gt; HTTP Request: <span style=\"color: #808000; text-decoration-color: #808000; font-weight: bold\">POST</span>                                <a href=\"file:///Users/kimbwook/PycharmProjects/fast-campus/venv/lib/python3.10/site-packages/httpx/_client.py\" target=\"_blank\"><span style=\"color: #7f7f7f; text-decoration-color: #7f7f7f\">_client.py</span></a><span style=\"color: #7f7f7f; text-decoration-color: #7f7f7f\">:</span><a href=\"file:///Users/kimbwook/PycharmProjects/fast-campus/venv/lib/python3.10/site-packages/httpx/_client.py#1773\" target=\"_blank\"><span style=\"color: #7f7f7f; text-decoration-color: #7f7f7f\">1773</span></a>\n",
       "<span style=\"color: #7fbfbf; text-decoration-color: #7fbfbf\">                    </span>         <span style=\"color: #0000ff; text-decoration-color: #0000ff; text-decoration: underline\">https://api.cloud.llamaindex.ai/api/parsing/upload</span> <span style=\"color: #008000; text-decoration-color: #008000\">\"HTTP/1.1 200 OK\"</span>   <span style=\"color: #7f7f7f; text-decoration-color: #7f7f7f\">               </span>\n",
       "</pre>\n"
      ]
     },
     "metadata": {},
     "output_type": "display_data"
    },
    {
     "name": "stdout",
     "output_type": "stream",
     "text": [
      "Started parsing the file under job_id 000c0e45-75e7-481e-9eb9-fe7153688325\n"
     ]
    },
    {
     "data": {
      "text/plain": [
       "\u001B[2;36m                   \u001B[0m\u001B[2;36m \u001B[0m\u001B[34mINFO    \u001B[0m \u001B[1m[\u001B[0m_client.py:\u001B[1;36m1773\u001B[0m\u001B[1m]\u001B[0m >> HTTP Request: \u001B[1;33mPOST\u001B[0m                                \u001B]8;id=132086;file:///Users/kimbwook/PycharmProjects/fast-campus/venv/lib/python3.10/site-packages/httpx/_client.py\u001B\\\u001B[2m_client.py\u001B[0m\u001B]8;;\u001B\\\u001B[2m:\u001B[0m\u001B]8;id=900938;file:///Users/kimbwook/PycharmProjects/fast-campus/venv/lib/python3.10/site-packages/httpx/_client.py#1773\u001B\\\u001B[2m1773\u001B[0m\u001B]8;;\u001B\\\n",
       "\u001B[2;36m                    \u001B[0m         \u001B[4;94mhttps://api.cloud.llamaindex.ai/api/parsing/upload\u001B[0m \u001B[32m\"HTTP/1.1 200 OK\"\u001B[0m   \u001B[2m               \u001B[0m\n"
      ],
      "text/html": [
       "<pre style=\"white-space:pre;overflow-x:auto;line-height:normal;font-family:Menlo,'DejaVu Sans Mono',consolas,'Courier New',monospace\"><span style=\"color: #7fbfbf; text-decoration-color: #7fbfbf\">                    </span><span style=\"color: #000080; text-decoration-color: #000080\">INFO    </span> <span style=\"font-weight: bold\">[</span>_client.py:<span style=\"color: #008080; text-decoration-color: #008080; font-weight: bold\">1773</span><span style=\"font-weight: bold\">]</span> &gt;&gt; HTTP Request: <span style=\"color: #808000; text-decoration-color: #808000; font-weight: bold\">POST</span>                                <a href=\"file:///Users/kimbwook/PycharmProjects/fast-campus/venv/lib/python3.10/site-packages/httpx/_client.py\" target=\"_blank\"><span style=\"color: #7f7f7f; text-decoration-color: #7f7f7f\">_client.py</span></a><span style=\"color: #7f7f7f; text-decoration-color: #7f7f7f\">:</span><a href=\"file:///Users/kimbwook/PycharmProjects/fast-campus/venv/lib/python3.10/site-packages/httpx/_client.py#1773\" target=\"_blank\"><span style=\"color: #7f7f7f; text-decoration-color: #7f7f7f\">1773</span></a>\n",
       "<span style=\"color: #7fbfbf; text-decoration-color: #7fbfbf\">                    </span>         <span style=\"color: #0000ff; text-decoration-color: #0000ff; text-decoration: underline\">https://api.cloud.llamaindex.ai/api/parsing/upload</span> <span style=\"color: #008000; text-decoration-color: #008000\">\"HTTP/1.1 200 OK\"</span>   <span style=\"color: #7f7f7f; text-decoration-color: #7f7f7f\">               </span>\n",
       "</pre>\n"
      ]
     },
     "metadata": {},
     "output_type": "display_data"
    },
    {
     "name": "stdout",
     "output_type": "stream",
     "text": [
      "Started parsing the file under job_id 6ec29869-6062-464e-9cd7-0a7593504b0f\n"
     ]
    },
    {
     "data": {
      "text/plain": [
       "\u001B[2;36m                   \u001B[0m\u001B[2;36m \u001B[0m\u001B[34mINFO    \u001B[0m \u001B[1m[\u001B[0m_client.py:\u001B[1;36m1773\u001B[0m\u001B[1m]\u001B[0m >> HTTP Request: \u001B[1;33mPOST\u001B[0m                                \u001B]8;id=411172;file:///Users/kimbwook/PycharmProjects/fast-campus/venv/lib/python3.10/site-packages/httpx/_client.py\u001B\\\u001B[2m_client.py\u001B[0m\u001B]8;;\u001B\\\u001B[2m:\u001B[0m\u001B]8;id=390814;file:///Users/kimbwook/PycharmProjects/fast-campus/venv/lib/python3.10/site-packages/httpx/_client.py#1773\u001B\\\u001B[2m1773\u001B[0m\u001B]8;;\u001B\\\n",
       "\u001B[2;36m                    \u001B[0m         \u001B[4;94mhttps://api.cloud.llamaindex.ai/api/parsing/upload\u001B[0m \u001B[32m\"HTTP/1.1 200 OK\"\u001B[0m   \u001B[2m               \u001B[0m\n"
      ],
      "text/html": [
       "<pre style=\"white-space:pre;overflow-x:auto;line-height:normal;font-family:Menlo,'DejaVu Sans Mono',consolas,'Courier New',monospace\"><span style=\"color: #7fbfbf; text-decoration-color: #7fbfbf\">                    </span><span style=\"color: #000080; text-decoration-color: #000080\">INFO    </span> <span style=\"font-weight: bold\">[</span>_client.py:<span style=\"color: #008080; text-decoration-color: #008080; font-weight: bold\">1773</span><span style=\"font-weight: bold\">]</span> &gt;&gt; HTTP Request: <span style=\"color: #808000; text-decoration-color: #808000; font-weight: bold\">POST</span>                                <a href=\"file:///Users/kimbwook/PycharmProjects/fast-campus/venv/lib/python3.10/site-packages/httpx/_client.py\" target=\"_blank\"><span style=\"color: #7f7f7f; text-decoration-color: #7f7f7f\">_client.py</span></a><span style=\"color: #7f7f7f; text-decoration-color: #7f7f7f\">:</span><a href=\"file:///Users/kimbwook/PycharmProjects/fast-campus/venv/lib/python3.10/site-packages/httpx/_client.py#1773\" target=\"_blank\"><span style=\"color: #7f7f7f; text-decoration-color: #7f7f7f\">1773</span></a>\n",
       "<span style=\"color: #7fbfbf; text-decoration-color: #7fbfbf\">                    </span>         <span style=\"color: #0000ff; text-decoration-color: #0000ff; text-decoration: underline\">https://api.cloud.llamaindex.ai/api/parsing/upload</span> <span style=\"color: #008000; text-decoration-color: #008000\">\"HTTP/1.1 200 OK\"</span>   <span style=\"color: #7f7f7f; text-decoration-color: #7f7f7f\">               </span>\n",
       "</pre>\n"
      ]
     },
     "metadata": {},
     "output_type": "display_data"
    },
    {
     "data": {
      "text/plain": [
       "\u001B[2;36m                   \u001B[0m\u001B[2;36m \u001B[0m\u001B[34mINFO    \u001B[0m \u001B[1m[\u001B[0m_client.py:\u001B[1;36m1773\u001B[0m\u001B[1m]\u001B[0m >> HTTP Request: \u001B[1;33mPOST\u001B[0m                                \u001B]8;id=298412;file:///Users/kimbwook/PycharmProjects/fast-campus/venv/lib/python3.10/site-packages/httpx/_client.py\u001B\\\u001B[2m_client.py\u001B[0m\u001B]8;;\u001B\\\u001B[2m:\u001B[0m\u001B]8;id=996308;file:///Users/kimbwook/PycharmProjects/fast-campus/venv/lib/python3.10/site-packages/httpx/_client.py#1773\u001B\\\u001B[2m1773\u001B[0m\u001B]8;;\u001B\\\n",
       "\u001B[2;36m                    \u001B[0m         \u001B[4;94mhttps://api.cloud.llamaindex.ai/api/parsing/upload\u001B[0m \u001B[32m\"HTTP/1.1 200 OK\"\u001B[0m   \u001B[2m               \u001B[0m\n"
      ],
      "text/html": [
       "<pre style=\"white-space:pre;overflow-x:auto;line-height:normal;font-family:Menlo,'DejaVu Sans Mono',consolas,'Courier New',monospace\"><span style=\"color: #7fbfbf; text-decoration-color: #7fbfbf\">                    </span><span style=\"color: #000080; text-decoration-color: #000080\">INFO    </span> <span style=\"font-weight: bold\">[</span>_client.py:<span style=\"color: #008080; text-decoration-color: #008080; font-weight: bold\">1773</span><span style=\"font-weight: bold\">]</span> &gt;&gt; HTTP Request: <span style=\"color: #808000; text-decoration-color: #808000; font-weight: bold\">POST</span>                                <a href=\"file:///Users/kimbwook/PycharmProjects/fast-campus/venv/lib/python3.10/site-packages/httpx/_client.py\" target=\"_blank\"><span style=\"color: #7f7f7f; text-decoration-color: #7f7f7f\">_client.py</span></a><span style=\"color: #7f7f7f; text-decoration-color: #7f7f7f\">:</span><a href=\"file:///Users/kimbwook/PycharmProjects/fast-campus/venv/lib/python3.10/site-packages/httpx/_client.py#1773\" target=\"_blank\"><span style=\"color: #7f7f7f; text-decoration-color: #7f7f7f\">1773</span></a>\n",
       "<span style=\"color: #7fbfbf; text-decoration-color: #7fbfbf\">                    </span>         <span style=\"color: #0000ff; text-decoration-color: #0000ff; text-decoration: underline\">https://api.cloud.llamaindex.ai/api/parsing/upload</span> <span style=\"color: #008000; text-decoration-color: #008000\">\"HTTP/1.1 200 OK\"</span>   <span style=\"color: #7f7f7f; text-decoration-color: #7f7f7f\">               </span>\n",
       "</pre>\n"
      ]
     },
     "metadata": {},
     "output_type": "display_data"
    },
    {
     "name": "stdout",
     "output_type": "stream",
     "text": [
      "Started parsing the file under job_id f65ca0b7-019d-45e0-9de9-327e49d455c9\n",
      "Started parsing the file under job_id 62b035fa-fecb-4fb3-b88f-48c45f050929\n"
     ]
    },
    {
     "data": {
      "text/plain": [
       "\u001B[2;36m                   \u001B[0m\u001B[2;36m \u001B[0m\u001B[34mINFO    \u001B[0m \u001B[1m[\u001B[0m_client.py:\u001B[1;36m1773\u001B[0m\u001B[1m]\u001B[0m >> HTTP Request: \u001B[1;33mPOST\u001B[0m                                \u001B]8;id=448817;file:///Users/kimbwook/PycharmProjects/fast-campus/venv/lib/python3.10/site-packages/httpx/_client.py\u001B\\\u001B[2m_client.py\u001B[0m\u001B]8;;\u001B\\\u001B[2m:\u001B[0m\u001B]8;id=71690;file:///Users/kimbwook/PycharmProjects/fast-campus/venv/lib/python3.10/site-packages/httpx/_client.py#1773\u001B\\\u001B[2m1773\u001B[0m\u001B]8;;\u001B\\\n",
       "\u001B[2;36m                    \u001B[0m         \u001B[4;94mhttps://api.cloud.llamaindex.ai/api/parsing/upload\u001B[0m \u001B[32m\"HTTP/1.1 200 OK\"\u001B[0m   \u001B[2m               \u001B[0m\n"
      ],
      "text/html": [
       "<pre style=\"white-space:pre;overflow-x:auto;line-height:normal;font-family:Menlo,'DejaVu Sans Mono',consolas,'Courier New',monospace\"><span style=\"color: #7fbfbf; text-decoration-color: #7fbfbf\">                    </span><span style=\"color: #000080; text-decoration-color: #000080\">INFO    </span> <span style=\"font-weight: bold\">[</span>_client.py:<span style=\"color: #008080; text-decoration-color: #008080; font-weight: bold\">1773</span><span style=\"font-weight: bold\">]</span> &gt;&gt; HTTP Request: <span style=\"color: #808000; text-decoration-color: #808000; font-weight: bold\">POST</span>                                <a href=\"file:///Users/kimbwook/PycharmProjects/fast-campus/venv/lib/python3.10/site-packages/httpx/_client.py\" target=\"_blank\"><span style=\"color: #7f7f7f; text-decoration-color: #7f7f7f\">_client.py</span></a><span style=\"color: #7f7f7f; text-decoration-color: #7f7f7f\">:</span><a href=\"file:///Users/kimbwook/PycharmProjects/fast-campus/venv/lib/python3.10/site-packages/httpx/_client.py#1773\" target=\"_blank\"><span style=\"color: #7f7f7f; text-decoration-color: #7f7f7f\">1773</span></a>\n",
       "<span style=\"color: #7fbfbf; text-decoration-color: #7fbfbf\">                    </span>         <span style=\"color: #0000ff; text-decoration-color: #0000ff; text-decoration: underline\">https://api.cloud.llamaindex.ai/api/parsing/upload</span> <span style=\"color: #008000; text-decoration-color: #008000\">\"HTTP/1.1 200 OK\"</span>   <span style=\"color: #7f7f7f; text-decoration-color: #7f7f7f\">               </span>\n",
       "</pre>\n"
      ]
     },
     "metadata": {},
     "output_type": "display_data"
    },
    {
     "name": "stdout",
     "output_type": "stream",
     "text": [
      "Started parsing the file under job_id 0cdb4641-8b32-4273-a798-1b5289df70a4\n"
     ]
    },
    {
     "data": {
      "text/plain": [
       "\u001B[2;36m                   \u001B[0m\u001B[2;36m \u001B[0m\u001B[34mINFO    \u001B[0m \u001B[1m[\u001B[0m_client.py:\u001B[1;36m1773\u001B[0m\u001B[1m]\u001B[0m >> HTTP Request: \u001B[1;33mPOST\u001B[0m                                \u001B]8;id=150474;file:///Users/kimbwook/PycharmProjects/fast-campus/venv/lib/python3.10/site-packages/httpx/_client.py\u001B\\\u001B[2m_client.py\u001B[0m\u001B]8;;\u001B\\\u001B[2m:\u001B[0m\u001B]8;id=511584;file:///Users/kimbwook/PycharmProjects/fast-campus/venv/lib/python3.10/site-packages/httpx/_client.py#1773\u001B\\\u001B[2m1773\u001B[0m\u001B]8;;\u001B\\\n",
       "\u001B[2;36m                    \u001B[0m         \u001B[4;94mhttps://api.cloud.llamaindex.ai/api/parsing/upload\u001B[0m \u001B[32m\"HTTP/1.1 200 OK\"\u001B[0m   \u001B[2m               \u001B[0m\n"
      ],
      "text/html": [
       "<pre style=\"white-space:pre;overflow-x:auto;line-height:normal;font-family:Menlo,'DejaVu Sans Mono',consolas,'Courier New',monospace\"><span style=\"color: #7fbfbf; text-decoration-color: #7fbfbf\">                    </span><span style=\"color: #000080; text-decoration-color: #000080\">INFO    </span> <span style=\"font-weight: bold\">[</span>_client.py:<span style=\"color: #008080; text-decoration-color: #008080; font-weight: bold\">1773</span><span style=\"font-weight: bold\">]</span> &gt;&gt; HTTP Request: <span style=\"color: #808000; text-decoration-color: #808000; font-weight: bold\">POST</span>                                <a href=\"file:///Users/kimbwook/PycharmProjects/fast-campus/venv/lib/python3.10/site-packages/httpx/_client.py\" target=\"_blank\"><span style=\"color: #7f7f7f; text-decoration-color: #7f7f7f\">_client.py</span></a><span style=\"color: #7f7f7f; text-decoration-color: #7f7f7f\">:</span><a href=\"file:///Users/kimbwook/PycharmProjects/fast-campus/venv/lib/python3.10/site-packages/httpx/_client.py#1773\" target=\"_blank\"><span style=\"color: #7f7f7f; text-decoration-color: #7f7f7f\">1773</span></a>\n",
       "<span style=\"color: #7fbfbf; text-decoration-color: #7fbfbf\">                    </span>         <span style=\"color: #0000ff; text-decoration-color: #0000ff; text-decoration: underline\">https://api.cloud.llamaindex.ai/api/parsing/upload</span> <span style=\"color: #008000; text-decoration-color: #008000\">\"HTTP/1.1 200 OK\"</span>   <span style=\"color: #7f7f7f; text-decoration-color: #7f7f7f\">               </span>\n",
       "</pre>\n"
      ]
     },
     "metadata": {},
     "output_type": "display_data"
    },
    {
     "name": "stdout",
     "output_type": "stream",
     "text": [
      "Started parsing the file under job_id a3256f64-4b99-489c-8fc0-20e98cbfd184\n"
     ]
    },
    {
     "data": {
      "text/plain": [
       "\u001B[2;36m                   \u001B[0m\u001B[2;36m \u001B[0m\u001B[34mINFO    \u001B[0m \u001B[1m[\u001B[0m_client.py:\u001B[1;36m1773\u001B[0m\u001B[1m]\u001B[0m >> HTTP Request: \u001B[1;33mPOST\u001B[0m                                \u001B]8;id=452435;file:///Users/kimbwook/PycharmProjects/fast-campus/venv/lib/python3.10/site-packages/httpx/_client.py\u001B\\\u001B[2m_client.py\u001B[0m\u001B]8;;\u001B\\\u001B[2m:\u001B[0m\u001B]8;id=901077;file:///Users/kimbwook/PycharmProjects/fast-campus/venv/lib/python3.10/site-packages/httpx/_client.py#1773\u001B\\\u001B[2m1773\u001B[0m\u001B]8;;\u001B\\\n",
       "\u001B[2;36m                    \u001B[0m         \u001B[4;94mhttps://api.cloud.llamaindex.ai/api/parsing/upload\u001B[0m \u001B[32m\"HTTP/1.1 200 OK\"\u001B[0m   \u001B[2m               \u001B[0m\n"
      ],
      "text/html": [
       "<pre style=\"white-space:pre;overflow-x:auto;line-height:normal;font-family:Menlo,'DejaVu Sans Mono',consolas,'Courier New',monospace\"><span style=\"color: #7fbfbf; text-decoration-color: #7fbfbf\">                    </span><span style=\"color: #000080; text-decoration-color: #000080\">INFO    </span> <span style=\"font-weight: bold\">[</span>_client.py:<span style=\"color: #008080; text-decoration-color: #008080; font-weight: bold\">1773</span><span style=\"font-weight: bold\">]</span> &gt;&gt; HTTP Request: <span style=\"color: #808000; text-decoration-color: #808000; font-weight: bold\">POST</span>                                <a href=\"file:///Users/kimbwook/PycharmProjects/fast-campus/venv/lib/python3.10/site-packages/httpx/_client.py\" target=\"_blank\"><span style=\"color: #7f7f7f; text-decoration-color: #7f7f7f\">_client.py</span></a><span style=\"color: #7f7f7f; text-decoration-color: #7f7f7f\">:</span><a href=\"file:///Users/kimbwook/PycharmProjects/fast-campus/venv/lib/python3.10/site-packages/httpx/_client.py#1773\" target=\"_blank\"><span style=\"color: #7f7f7f; text-decoration-color: #7f7f7f\">1773</span></a>\n",
       "<span style=\"color: #7fbfbf; text-decoration-color: #7fbfbf\">                    </span>         <span style=\"color: #0000ff; text-decoration-color: #0000ff; text-decoration: underline\">https://api.cloud.llamaindex.ai/api/parsing/upload</span> <span style=\"color: #008000; text-decoration-color: #008000\">\"HTTP/1.1 200 OK\"</span>   <span style=\"color: #7f7f7f; text-decoration-color: #7f7f7f\">               </span>\n",
       "</pre>\n"
      ]
     },
     "metadata": {},
     "output_type": "display_data"
    },
    {
     "name": "stdout",
     "output_type": "stream",
     "text": [
      "Started parsing the file under job_id cd595c93-9a88-475b-a5a4-39c94a0fcc99\n"
     ]
    },
    {
     "data": {
      "text/plain": [
       "\u001B[2;36m[12/21/24 16:19:55]\u001B[0m\u001B[2;36m \u001B[0m\u001B[34mINFO    \u001B[0m \u001B[1m[\u001B[0m_client.py:\u001B[1;36m1773\u001B[0m\u001B[1m]\u001B[0m >> HTTP Request: \u001B[1;33mGET\u001B[0m                                 \u001B]8;id=780198;file:///Users/kimbwook/PycharmProjects/fast-campus/venv/lib/python3.10/site-packages/httpx/_client.py\u001B\\\u001B[2m_client.py\u001B[0m\u001B]8;;\u001B\\\u001B[2m:\u001B[0m\u001B]8;id=647834;file:///Users/kimbwook/PycharmProjects/fast-campus/venv/lib/python3.10/site-packages/httpx/_client.py#1773\u001B\\\u001B[2m1773\u001B[0m\u001B]8;;\u001B\\\n",
       "\u001B[2;36m                    \u001B[0m         \u001B[4;94mhttps://api.cloud.llamaindex.ai/api/parsing/job/6ec29869-6062-464e-9cd\u001B[0m \u001B[2m               \u001B[0m\n",
       "\u001B[2;36m                    \u001B[0m         \u001B[4;94m7-0a7593504b0f\u001B[0m \u001B[32m\"HTTP/1.1 200 OK\"\u001B[0m                                       \u001B[2m               \u001B[0m\n"
      ],
      "text/html": [
       "<pre style=\"white-space:pre;overflow-x:auto;line-height:normal;font-family:Menlo,'DejaVu Sans Mono',consolas,'Courier New',monospace\"><span style=\"color: #7fbfbf; text-decoration-color: #7fbfbf\">[12/21/24 16:19:55] </span><span style=\"color: #000080; text-decoration-color: #000080\">INFO    </span> <span style=\"font-weight: bold\">[</span>_client.py:<span style=\"color: #008080; text-decoration-color: #008080; font-weight: bold\">1773</span><span style=\"font-weight: bold\">]</span> &gt;&gt; HTTP Request: <span style=\"color: #808000; text-decoration-color: #808000; font-weight: bold\">GET</span>                                 <a href=\"file:///Users/kimbwook/PycharmProjects/fast-campus/venv/lib/python3.10/site-packages/httpx/_client.py\" target=\"_blank\"><span style=\"color: #7f7f7f; text-decoration-color: #7f7f7f\">_client.py</span></a><span style=\"color: #7f7f7f; text-decoration-color: #7f7f7f\">:</span><a href=\"file:///Users/kimbwook/PycharmProjects/fast-campus/venv/lib/python3.10/site-packages/httpx/_client.py#1773\" target=\"_blank\"><span style=\"color: #7f7f7f; text-decoration-color: #7f7f7f\">1773</span></a>\n",
       "<span style=\"color: #7fbfbf; text-decoration-color: #7fbfbf\">                    </span>         <span style=\"color: #0000ff; text-decoration-color: #0000ff; text-decoration: underline\">https://api.cloud.llamaindex.ai/api/parsing/job/6ec29869-6062-464e-9cd</span> <span style=\"color: #7f7f7f; text-decoration-color: #7f7f7f\">               </span>\n",
       "<span style=\"color: #7fbfbf; text-decoration-color: #7fbfbf\">                    </span>         <span style=\"color: #0000ff; text-decoration-color: #0000ff; text-decoration: underline\">7-0a7593504b0f</span> <span style=\"color: #008000; text-decoration-color: #008000\">\"HTTP/1.1 200 OK\"</span>                                       <span style=\"color: #7f7f7f; text-decoration-color: #7f7f7f\">               </span>\n",
       "</pre>\n"
      ]
     },
     "metadata": {},
     "output_type": "display_data"
    },
    {
     "data": {
      "text/plain": [
       "\u001B[2;36m                   \u001B[0m\u001B[2;36m \u001B[0m\u001B[34mINFO    \u001B[0m \u001B[1m[\u001B[0m_client.py:\u001B[1;36m1773\u001B[0m\u001B[1m]\u001B[0m >> HTTP Request: \u001B[1;33mGET\u001B[0m                                 \u001B]8;id=533387;file:///Users/kimbwook/PycharmProjects/fast-campus/venv/lib/python3.10/site-packages/httpx/_client.py\u001B\\\u001B[2m_client.py\u001B[0m\u001B]8;;\u001B\\\u001B[2m:\u001B[0m\u001B]8;id=902585;file:///Users/kimbwook/PycharmProjects/fast-campus/venv/lib/python3.10/site-packages/httpx/_client.py#1773\u001B\\\u001B[2m1773\u001B[0m\u001B]8;;\u001B\\\n",
       "\u001B[2;36m                    \u001B[0m         \u001B[4;94mhttps://api.cloud.llamaindex.ai/api/parsing/job/000c0e45-75e7-481e-9eb\u001B[0m \u001B[2m               \u001B[0m\n",
       "\u001B[2;36m                    \u001B[0m         \u001B[4;94m9-fe7153688325\u001B[0m \u001B[32m\"HTTP/1.1 200 OK\"\u001B[0m                                       \u001B[2m               \u001B[0m\n"
      ],
      "text/html": [
       "<pre style=\"white-space:pre;overflow-x:auto;line-height:normal;font-family:Menlo,'DejaVu Sans Mono',consolas,'Courier New',monospace\"><span style=\"color: #7fbfbf; text-decoration-color: #7fbfbf\">                    </span><span style=\"color: #000080; text-decoration-color: #000080\">INFO    </span> <span style=\"font-weight: bold\">[</span>_client.py:<span style=\"color: #008080; text-decoration-color: #008080; font-weight: bold\">1773</span><span style=\"font-weight: bold\">]</span> &gt;&gt; HTTP Request: <span style=\"color: #808000; text-decoration-color: #808000; font-weight: bold\">GET</span>                                 <a href=\"file:///Users/kimbwook/PycharmProjects/fast-campus/venv/lib/python3.10/site-packages/httpx/_client.py\" target=\"_blank\"><span style=\"color: #7f7f7f; text-decoration-color: #7f7f7f\">_client.py</span></a><span style=\"color: #7f7f7f; text-decoration-color: #7f7f7f\">:</span><a href=\"file:///Users/kimbwook/PycharmProjects/fast-campus/venv/lib/python3.10/site-packages/httpx/_client.py#1773\" target=\"_blank\"><span style=\"color: #7f7f7f; text-decoration-color: #7f7f7f\">1773</span></a>\n",
       "<span style=\"color: #7fbfbf; text-decoration-color: #7fbfbf\">                    </span>         <span style=\"color: #0000ff; text-decoration-color: #0000ff; text-decoration: underline\">https://api.cloud.llamaindex.ai/api/parsing/job/000c0e45-75e7-481e-9eb</span> <span style=\"color: #7f7f7f; text-decoration-color: #7f7f7f\">               </span>\n",
       "<span style=\"color: #7fbfbf; text-decoration-color: #7fbfbf\">                    </span>         <span style=\"color: #0000ff; text-decoration-color: #0000ff; text-decoration: underline\">9-fe7153688325</span> <span style=\"color: #008000; text-decoration-color: #008000\">\"HTTP/1.1 200 OK\"</span>                                       <span style=\"color: #7f7f7f; text-decoration-color: #7f7f7f\">               </span>\n",
       "</pre>\n"
      ]
     },
     "metadata": {},
     "output_type": "display_data"
    },
    {
     "data": {
      "text/plain": [
       "\u001B[2;36m                   \u001B[0m\u001B[2;36m \u001B[0m\u001B[34mINFO    \u001B[0m \u001B[1m[\u001B[0m_client.py:\u001B[1;36m1773\u001B[0m\u001B[1m]\u001B[0m >> HTTP Request: \u001B[1;33mGET\u001B[0m                                 \u001B]8;id=835514;file:///Users/kimbwook/PycharmProjects/fast-campus/venv/lib/python3.10/site-packages/httpx/_client.py\u001B\\\u001B[2m_client.py\u001B[0m\u001B]8;;\u001B\\\u001B[2m:\u001B[0m\u001B]8;id=417756;file:///Users/kimbwook/PycharmProjects/fast-campus/venv/lib/python3.10/site-packages/httpx/_client.py#1773\u001B\\\u001B[2m1773\u001B[0m\u001B]8;;\u001B\\\n",
       "\u001B[2;36m                    \u001B[0m         \u001B[4;94mhttps://api.cloud.llamaindex.ai/api/parsing/job/0cdb4641-8b32-4273-a79\u001B[0m \u001B[2m               \u001B[0m\n",
       "\u001B[2;36m                    \u001B[0m         \u001B[4;94m8-1b5289df70a4\u001B[0m \u001B[32m\"HTTP/1.1 200 OK\"\u001B[0m                                       \u001B[2m               \u001B[0m\n"
      ],
      "text/html": [
       "<pre style=\"white-space:pre;overflow-x:auto;line-height:normal;font-family:Menlo,'DejaVu Sans Mono',consolas,'Courier New',monospace\"><span style=\"color: #7fbfbf; text-decoration-color: #7fbfbf\">                    </span><span style=\"color: #000080; text-decoration-color: #000080\">INFO    </span> <span style=\"font-weight: bold\">[</span>_client.py:<span style=\"color: #008080; text-decoration-color: #008080; font-weight: bold\">1773</span><span style=\"font-weight: bold\">]</span> &gt;&gt; HTTP Request: <span style=\"color: #808000; text-decoration-color: #808000; font-weight: bold\">GET</span>                                 <a href=\"file:///Users/kimbwook/PycharmProjects/fast-campus/venv/lib/python3.10/site-packages/httpx/_client.py\" target=\"_blank\"><span style=\"color: #7f7f7f; text-decoration-color: #7f7f7f\">_client.py</span></a><span style=\"color: #7f7f7f; text-decoration-color: #7f7f7f\">:</span><a href=\"file:///Users/kimbwook/PycharmProjects/fast-campus/venv/lib/python3.10/site-packages/httpx/_client.py#1773\" target=\"_blank\"><span style=\"color: #7f7f7f; text-decoration-color: #7f7f7f\">1773</span></a>\n",
       "<span style=\"color: #7fbfbf; text-decoration-color: #7fbfbf\">                    </span>         <span style=\"color: #0000ff; text-decoration-color: #0000ff; text-decoration: underline\">https://api.cloud.llamaindex.ai/api/parsing/job/0cdb4641-8b32-4273-a79</span> <span style=\"color: #7f7f7f; text-decoration-color: #7f7f7f\">               </span>\n",
       "<span style=\"color: #7fbfbf; text-decoration-color: #7fbfbf\">                    </span>         <span style=\"color: #0000ff; text-decoration-color: #0000ff; text-decoration: underline\">8-1b5289df70a4</span> <span style=\"color: #008000; text-decoration-color: #008000\">\"HTTP/1.1 200 OK\"</span>                                       <span style=\"color: #7f7f7f; text-decoration-color: #7f7f7f\">               </span>\n",
       "</pre>\n"
      ]
     },
     "metadata": {},
     "output_type": "display_data"
    },
    {
     "data": {
      "text/plain": [
       "\u001B[2;36m                   \u001B[0m\u001B[2;36m \u001B[0m\u001B[34mINFO    \u001B[0m \u001B[1m[\u001B[0m_client.py:\u001B[1;36m1773\u001B[0m\u001B[1m]\u001B[0m >> HTTP Request: \u001B[1;33mGET\u001B[0m                                 \u001B]8;id=311090;file:///Users/kimbwook/PycharmProjects/fast-campus/venv/lib/python3.10/site-packages/httpx/_client.py\u001B\\\u001B[2m_client.py\u001B[0m\u001B]8;;\u001B\\\u001B[2m:\u001B[0m\u001B]8;id=300876;file:///Users/kimbwook/PycharmProjects/fast-campus/venv/lib/python3.10/site-packages/httpx/_client.py#1773\u001B\\\u001B[2m1773\u001B[0m\u001B]8;;\u001B\\\n",
       "\u001B[2;36m                    \u001B[0m         \u001B[4;94mhttps://api.cloud.llamaindex.ai/api/parsing/job/62b035fa-fecb-4fb3-b88\u001B[0m \u001B[2m               \u001B[0m\n",
       "\u001B[2;36m                    \u001B[0m         \u001B[4;94mf-48c45f050929\u001B[0m \u001B[32m\"HTTP/1.1 200 OK\"\u001B[0m                                       \u001B[2m               \u001B[0m\n"
      ],
      "text/html": [
       "<pre style=\"white-space:pre;overflow-x:auto;line-height:normal;font-family:Menlo,'DejaVu Sans Mono',consolas,'Courier New',monospace\"><span style=\"color: #7fbfbf; text-decoration-color: #7fbfbf\">                    </span><span style=\"color: #000080; text-decoration-color: #000080\">INFO    </span> <span style=\"font-weight: bold\">[</span>_client.py:<span style=\"color: #008080; text-decoration-color: #008080; font-weight: bold\">1773</span><span style=\"font-weight: bold\">]</span> &gt;&gt; HTTP Request: <span style=\"color: #808000; text-decoration-color: #808000; font-weight: bold\">GET</span>                                 <a href=\"file:///Users/kimbwook/PycharmProjects/fast-campus/venv/lib/python3.10/site-packages/httpx/_client.py\" target=\"_blank\"><span style=\"color: #7f7f7f; text-decoration-color: #7f7f7f\">_client.py</span></a><span style=\"color: #7f7f7f; text-decoration-color: #7f7f7f\">:</span><a href=\"file:///Users/kimbwook/PycharmProjects/fast-campus/venv/lib/python3.10/site-packages/httpx/_client.py#1773\" target=\"_blank\"><span style=\"color: #7f7f7f; text-decoration-color: #7f7f7f\">1773</span></a>\n",
       "<span style=\"color: #7fbfbf; text-decoration-color: #7fbfbf\">                    </span>         <span style=\"color: #0000ff; text-decoration-color: #0000ff; text-decoration: underline\">https://api.cloud.llamaindex.ai/api/parsing/job/62b035fa-fecb-4fb3-b88</span> <span style=\"color: #7f7f7f; text-decoration-color: #7f7f7f\">               </span>\n",
       "<span style=\"color: #7fbfbf; text-decoration-color: #7fbfbf\">                    </span>         <span style=\"color: #0000ff; text-decoration-color: #0000ff; text-decoration: underline\">f-48c45f050929</span> <span style=\"color: #008000; text-decoration-color: #008000\">\"HTTP/1.1 200 OK\"</span>                                       <span style=\"color: #7f7f7f; text-decoration-color: #7f7f7f\">               </span>\n",
       "</pre>\n"
      ]
     },
     "metadata": {},
     "output_type": "display_data"
    },
    {
     "data": {
      "text/plain": [
       "\u001B[2;36m                   \u001B[0m\u001B[2;36m \u001B[0m\u001B[34mINFO    \u001B[0m \u001B[1m[\u001B[0m_client.py:\u001B[1;36m1773\u001B[0m\u001B[1m]\u001B[0m >> HTTP Request: \u001B[1;33mGET\u001B[0m                                 \u001B]8;id=453702;file:///Users/kimbwook/PycharmProjects/fast-campus/venv/lib/python3.10/site-packages/httpx/_client.py\u001B\\\u001B[2m_client.py\u001B[0m\u001B]8;;\u001B\\\u001B[2m:\u001B[0m\u001B]8;id=906910;file:///Users/kimbwook/PycharmProjects/fast-campus/venv/lib/python3.10/site-packages/httpx/_client.py#1773\u001B\\\u001B[2m1773\u001B[0m\u001B]8;;\u001B\\\n",
       "\u001B[2;36m                    \u001B[0m         \u001B[4;94mhttps://api.cloud.llamaindex.ai/api/parsing/job/f65ca0b7-019d-45e0-9de\u001B[0m \u001B[2m               \u001B[0m\n",
       "\u001B[2;36m                    \u001B[0m         \u001B[4;94m9-327e49d455c9\u001B[0m \u001B[32m\"HTTP/1.1 200 OK\"\u001B[0m                                       \u001B[2m               \u001B[0m\n"
      ],
      "text/html": [
       "<pre style=\"white-space:pre;overflow-x:auto;line-height:normal;font-family:Menlo,'DejaVu Sans Mono',consolas,'Courier New',monospace\"><span style=\"color: #7fbfbf; text-decoration-color: #7fbfbf\">                    </span><span style=\"color: #000080; text-decoration-color: #000080\">INFO    </span> <span style=\"font-weight: bold\">[</span>_client.py:<span style=\"color: #008080; text-decoration-color: #008080; font-weight: bold\">1773</span><span style=\"font-weight: bold\">]</span> &gt;&gt; HTTP Request: <span style=\"color: #808000; text-decoration-color: #808000; font-weight: bold\">GET</span>                                 <a href=\"file:///Users/kimbwook/PycharmProjects/fast-campus/venv/lib/python3.10/site-packages/httpx/_client.py\" target=\"_blank\"><span style=\"color: #7f7f7f; text-decoration-color: #7f7f7f\">_client.py</span></a><span style=\"color: #7f7f7f; text-decoration-color: #7f7f7f\">:</span><a href=\"file:///Users/kimbwook/PycharmProjects/fast-campus/venv/lib/python3.10/site-packages/httpx/_client.py#1773\" target=\"_blank\"><span style=\"color: #7f7f7f; text-decoration-color: #7f7f7f\">1773</span></a>\n",
       "<span style=\"color: #7fbfbf; text-decoration-color: #7fbfbf\">                    </span>         <span style=\"color: #0000ff; text-decoration-color: #0000ff; text-decoration: underline\">https://api.cloud.llamaindex.ai/api/parsing/job/f65ca0b7-019d-45e0-9de</span> <span style=\"color: #7f7f7f; text-decoration-color: #7f7f7f\">               </span>\n",
       "<span style=\"color: #7fbfbf; text-decoration-color: #7fbfbf\">                    </span>         <span style=\"color: #0000ff; text-decoration-color: #0000ff; text-decoration: underline\">9-327e49d455c9</span> <span style=\"color: #008000; text-decoration-color: #008000\">\"HTTP/1.1 200 OK\"</span>                                       <span style=\"color: #7f7f7f; text-decoration-color: #7f7f7f\">               </span>\n",
       "</pre>\n"
      ]
     },
     "metadata": {},
     "output_type": "display_data"
    },
    {
     "data": {
      "text/plain": [
       "\u001B[2;36m                   \u001B[0m\u001B[2;36m \u001B[0m\u001B[34mINFO    \u001B[0m \u001B[1m[\u001B[0m_client.py:\u001B[1;36m1773\u001B[0m\u001B[1m]\u001B[0m >> HTTP Request: \u001B[1;33mGET\u001B[0m                                 \u001B]8;id=134732;file:///Users/kimbwook/PycharmProjects/fast-campus/venv/lib/python3.10/site-packages/httpx/_client.py\u001B\\\u001B[2m_client.py\u001B[0m\u001B]8;;\u001B\\\u001B[2m:\u001B[0m\u001B]8;id=722543;file:///Users/kimbwook/PycharmProjects/fast-campus/venv/lib/python3.10/site-packages/httpx/_client.py#1773\u001B\\\u001B[2m1773\u001B[0m\u001B]8;;\u001B\\\n",
       "\u001B[2;36m                    \u001B[0m         \u001B[4;94mhttps://api.cloud.llamaindex.ai/api/parsing/job/a3256f64-4b99-489c-8fc\u001B[0m \u001B[2m               \u001B[0m\n",
       "\u001B[2;36m                    \u001B[0m         \u001B[4;94m0-20e98cbfd184\u001B[0m \u001B[32m\"HTTP/1.1 200 OK\"\u001B[0m                                       \u001B[2m               \u001B[0m\n"
      ],
      "text/html": [
       "<pre style=\"white-space:pre;overflow-x:auto;line-height:normal;font-family:Menlo,'DejaVu Sans Mono',consolas,'Courier New',monospace\"><span style=\"color: #7fbfbf; text-decoration-color: #7fbfbf\">                    </span><span style=\"color: #000080; text-decoration-color: #000080\">INFO    </span> <span style=\"font-weight: bold\">[</span>_client.py:<span style=\"color: #008080; text-decoration-color: #008080; font-weight: bold\">1773</span><span style=\"font-weight: bold\">]</span> &gt;&gt; HTTP Request: <span style=\"color: #808000; text-decoration-color: #808000; font-weight: bold\">GET</span>                                 <a href=\"file:///Users/kimbwook/PycharmProjects/fast-campus/venv/lib/python3.10/site-packages/httpx/_client.py\" target=\"_blank\"><span style=\"color: #7f7f7f; text-decoration-color: #7f7f7f\">_client.py</span></a><span style=\"color: #7f7f7f; text-decoration-color: #7f7f7f\">:</span><a href=\"file:///Users/kimbwook/PycharmProjects/fast-campus/venv/lib/python3.10/site-packages/httpx/_client.py#1773\" target=\"_blank\"><span style=\"color: #7f7f7f; text-decoration-color: #7f7f7f\">1773</span></a>\n",
       "<span style=\"color: #7fbfbf; text-decoration-color: #7fbfbf\">                    </span>         <span style=\"color: #0000ff; text-decoration-color: #0000ff; text-decoration: underline\">https://api.cloud.llamaindex.ai/api/parsing/job/a3256f64-4b99-489c-8fc</span> <span style=\"color: #7f7f7f; text-decoration-color: #7f7f7f\">               </span>\n",
       "<span style=\"color: #7fbfbf; text-decoration-color: #7fbfbf\">                    </span>         <span style=\"color: #0000ff; text-decoration-color: #0000ff; text-decoration: underline\">0-20e98cbfd184</span> <span style=\"color: #008000; text-decoration-color: #008000\">\"HTTP/1.1 200 OK\"</span>                                       <span style=\"color: #7f7f7f; text-decoration-color: #7f7f7f\">               </span>\n",
       "</pre>\n"
      ]
     },
     "metadata": {},
     "output_type": "display_data"
    },
    {
     "data": {
      "text/plain": [
       "\u001B[2;36m                   \u001B[0m\u001B[2;36m \u001B[0m\u001B[34mINFO    \u001B[0m \u001B[1m[\u001B[0m_client.py:\u001B[1;36m1773\u001B[0m\u001B[1m]\u001B[0m >> HTTP Request: \u001B[1;33mGET\u001B[0m                                 \u001B]8;id=188206;file:///Users/kimbwook/PycharmProjects/fast-campus/venv/lib/python3.10/site-packages/httpx/_client.py\u001B\\\u001B[2m_client.py\u001B[0m\u001B]8;;\u001B\\\u001B[2m:\u001B[0m\u001B]8;id=294966;file:///Users/kimbwook/PycharmProjects/fast-campus/venv/lib/python3.10/site-packages/httpx/_client.py#1773\u001B\\\u001B[2m1773\u001B[0m\u001B]8;;\u001B\\\n",
       "\u001B[2;36m                    \u001B[0m         \u001B[4;94mhttps://api.cloud.llamaindex.ai/api/parsing/job/cd595c93-9a88-475b-a5a\u001B[0m \u001B[2m               \u001B[0m\n",
       "\u001B[2;36m                    \u001B[0m         \u001B[4;94m4-39c94a0fcc99\u001B[0m \u001B[32m\"HTTP/1.1 200 OK\"\u001B[0m                                       \u001B[2m               \u001B[0m\n"
      ],
      "text/html": [
       "<pre style=\"white-space:pre;overflow-x:auto;line-height:normal;font-family:Menlo,'DejaVu Sans Mono',consolas,'Courier New',monospace\"><span style=\"color: #7fbfbf; text-decoration-color: #7fbfbf\">                    </span><span style=\"color: #000080; text-decoration-color: #000080\">INFO    </span> <span style=\"font-weight: bold\">[</span>_client.py:<span style=\"color: #008080; text-decoration-color: #008080; font-weight: bold\">1773</span><span style=\"font-weight: bold\">]</span> &gt;&gt; HTTP Request: <span style=\"color: #808000; text-decoration-color: #808000; font-weight: bold\">GET</span>                                 <a href=\"file:///Users/kimbwook/PycharmProjects/fast-campus/venv/lib/python3.10/site-packages/httpx/_client.py\" target=\"_blank\"><span style=\"color: #7f7f7f; text-decoration-color: #7f7f7f\">_client.py</span></a><span style=\"color: #7f7f7f; text-decoration-color: #7f7f7f\">:</span><a href=\"file:///Users/kimbwook/PycharmProjects/fast-campus/venv/lib/python3.10/site-packages/httpx/_client.py#1773\" target=\"_blank\"><span style=\"color: #7f7f7f; text-decoration-color: #7f7f7f\">1773</span></a>\n",
       "<span style=\"color: #7fbfbf; text-decoration-color: #7fbfbf\">                    </span>         <span style=\"color: #0000ff; text-decoration-color: #0000ff; text-decoration: underline\">https://api.cloud.llamaindex.ai/api/parsing/job/cd595c93-9a88-475b-a5a</span> <span style=\"color: #7f7f7f; text-decoration-color: #7f7f7f\">               </span>\n",
       "<span style=\"color: #7fbfbf; text-decoration-color: #7fbfbf\">                    </span>         <span style=\"color: #0000ff; text-decoration-color: #0000ff; text-decoration: underline\">4-39c94a0fcc99</span> <span style=\"color: #008000; text-decoration-color: #008000\">\"HTTP/1.1 200 OK\"</span>                                       <span style=\"color: #7f7f7f; text-decoration-color: #7f7f7f\">               </span>\n",
       "</pre>\n"
      ]
     },
     "metadata": {},
     "output_type": "display_data"
    },
    {
     "data": {
      "text/plain": [
       "\u001B[2;36m[12/21/24 16:19:58]\u001B[0m\u001B[2;36m \u001B[0m\u001B[34mINFO    \u001B[0m \u001B[1m[\u001B[0m_client.py:\u001B[1;36m1773\u001B[0m\u001B[1m]\u001B[0m >> HTTP Request: \u001B[1;33mGET\u001B[0m                                 \u001B]8;id=542194;file:///Users/kimbwook/PycharmProjects/fast-campus/venv/lib/python3.10/site-packages/httpx/_client.py\u001B\\\u001B[2m_client.py\u001B[0m\u001B]8;;\u001B\\\u001B[2m:\u001B[0m\u001B]8;id=539965;file:///Users/kimbwook/PycharmProjects/fast-campus/venv/lib/python3.10/site-packages/httpx/_client.py#1773\u001B\\\u001B[2m1773\u001B[0m\u001B]8;;\u001B\\\n",
       "\u001B[2;36m                    \u001B[0m         \u001B[4;94mhttps://api.cloud.llamaindex.ai/api/parsing/job/6ec29869-6062-464e-9cd\u001B[0m \u001B[2m               \u001B[0m\n",
       "\u001B[2;36m                    \u001B[0m         \u001B[4;94m7-0a7593504b0f\u001B[0m \u001B[32m\"HTTP/1.1 200 OK\"\u001B[0m                                       \u001B[2m               \u001B[0m\n"
      ],
      "text/html": [
       "<pre style=\"white-space:pre;overflow-x:auto;line-height:normal;font-family:Menlo,'DejaVu Sans Mono',consolas,'Courier New',monospace\"><span style=\"color: #7fbfbf; text-decoration-color: #7fbfbf\">[12/21/24 16:19:58] </span><span style=\"color: #000080; text-decoration-color: #000080\">INFO    </span> <span style=\"font-weight: bold\">[</span>_client.py:<span style=\"color: #008080; text-decoration-color: #008080; font-weight: bold\">1773</span><span style=\"font-weight: bold\">]</span> &gt;&gt; HTTP Request: <span style=\"color: #808000; text-decoration-color: #808000; font-weight: bold\">GET</span>                                 <a href=\"file:///Users/kimbwook/PycharmProjects/fast-campus/venv/lib/python3.10/site-packages/httpx/_client.py\" target=\"_blank\"><span style=\"color: #7f7f7f; text-decoration-color: #7f7f7f\">_client.py</span></a><span style=\"color: #7f7f7f; text-decoration-color: #7f7f7f\">:</span><a href=\"file:///Users/kimbwook/PycharmProjects/fast-campus/venv/lib/python3.10/site-packages/httpx/_client.py#1773\" target=\"_blank\"><span style=\"color: #7f7f7f; text-decoration-color: #7f7f7f\">1773</span></a>\n",
       "<span style=\"color: #7fbfbf; text-decoration-color: #7fbfbf\">                    </span>         <span style=\"color: #0000ff; text-decoration-color: #0000ff; text-decoration: underline\">https://api.cloud.llamaindex.ai/api/parsing/job/6ec29869-6062-464e-9cd</span> <span style=\"color: #7f7f7f; text-decoration-color: #7f7f7f\">               </span>\n",
       "<span style=\"color: #7fbfbf; text-decoration-color: #7fbfbf\">                    </span>         <span style=\"color: #0000ff; text-decoration-color: #0000ff; text-decoration: underline\">7-0a7593504b0f</span> <span style=\"color: #008000; text-decoration-color: #008000\">\"HTTP/1.1 200 OK\"</span>                                       <span style=\"color: #7f7f7f; text-decoration-color: #7f7f7f\">               </span>\n",
       "</pre>\n"
      ]
     },
     "metadata": {},
     "output_type": "display_data"
    },
    {
     "data": {
      "text/plain": [
       "\u001B[2;36m                   \u001B[0m\u001B[2;36m \u001B[0m\u001B[34mINFO    \u001B[0m \u001B[1m[\u001B[0m_client.py:\u001B[1;36m1773\u001B[0m\u001B[1m]\u001B[0m >> HTTP Request: \u001B[1;33mGET\u001B[0m                                 \u001B]8;id=621727;file:///Users/kimbwook/PycharmProjects/fast-campus/venv/lib/python3.10/site-packages/httpx/_client.py\u001B\\\u001B[2m_client.py\u001B[0m\u001B]8;;\u001B\\\u001B[2m:\u001B[0m\u001B]8;id=754690;file:///Users/kimbwook/PycharmProjects/fast-campus/venv/lib/python3.10/site-packages/httpx/_client.py#1773\u001B\\\u001B[2m1773\u001B[0m\u001B]8;;\u001B\\\n",
       "\u001B[2;36m                    \u001B[0m         \u001B[4;94mhttps://api.cloud.llamaindex.ai/api/parsing/job/000c0e45-75e7-481e-9eb\u001B[0m \u001B[2m               \u001B[0m\n",
       "\u001B[2;36m                    \u001B[0m         \u001B[4;94m9-fe7153688325\u001B[0m \u001B[32m\"HTTP/1.1 200 OK\"\u001B[0m                                       \u001B[2m               \u001B[0m\n"
      ],
      "text/html": [
       "<pre style=\"white-space:pre;overflow-x:auto;line-height:normal;font-family:Menlo,'DejaVu Sans Mono',consolas,'Courier New',monospace\"><span style=\"color: #7fbfbf; text-decoration-color: #7fbfbf\">                    </span><span style=\"color: #000080; text-decoration-color: #000080\">INFO    </span> <span style=\"font-weight: bold\">[</span>_client.py:<span style=\"color: #008080; text-decoration-color: #008080; font-weight: bold\">1773</span><span style=\"font-weight: bold\">]</span> &gt;&gt; HTTP Request: <span style=\"color: #808000; text-decoration-color: #808000; font-weight: bold\">GET</span>                                 <a href=\"file:///Users/kimbwook/PycharmProjects/fast-campus/venv/lib/python3.10/site-packages/httpx/_client.py\" target=\"_blank\"><span style=\"color: #7f7f7f; text-decoration-color: #7f7f7f\">_client.py</span></a><span style=\"color: #7f7f7f; text-decoration-color: #7f7f7f\">:</span><a href=\"file:///Users/kimbwook/PycharmProjects/fast-campus/venv/lib/python3.10/site-packages/httpx/_client.py#1773\" target=\"_blank\"><span style=\"color: #7f7f7f; text-decoration-color: #7f7f7f\">1773</span></a>\n",
       "<span style=\"color: #7fbfbf; text-decoration-color: #7fbfbf\">                    </span>         <span style=\"color: #0000ff; text-decoration-color: #0000ff; text-decoration: underline\">https://api.cloud.llamaindex.ai/api/parsing/job/000c0e45-75e7-481e-9eb</span> <span style=\"color: #7f7f7f; text-decoration-color: #7f7f7f\">               </span>\n",
       "<span style=\"color: #7fbfbf; text-decoration-color: #7fbfbf\">                    </span>         <span style=\"color: #0000ff; text-decoration-color: #0000ff; text-decoration: underline\">9-fe7153688325</span> <span style=\"color: #008000; text-decoration-color: #008000\">\"HTTP/1.1 200 OK\"</span>                                       <span style=\"color: #7f7f7f; text-decoration-color: #7f7f7f\">               </span>\n",
       "</pre>\n"
      ]
     },
     "metadata": {},
     "output_type": "display_data"
    },
    {
     "data": {
      "text/plain": [
       "\u001B[2;36m                   \u001B[0m\u001B[2;36m \u001B[0m\u001B[34mINFO    \u001B[0m \u001B[1m[\u001B[0m_client.py:\u001B[1;36m1773\u001B[0m\u001B[1m]\u001B[0m >> HTTP Request: \u001B[1;33mGET\u001B[0m                                 \u001B]8;id=394081;file:///Users/kimbwook/PycharmProjects/fast-campus/venv/lib/python3.10/site-packages/httpx/_client.py\u001B\\\u001B[2m_client.py\u001B[0m\u001B]8;;\u001B\\\u001B[2m:\u001B[0m\u001B]8;id=591469;file:///Users/kimbwook/PycharmProjects/fast-campus/venv/lib/python3.10/site-packages/httpx/_client.py#1773\u001B\\\u001B[2m1773\u001B[0m\u001B]8;;\u001B\\\n",
       "\u001B[2;36m                    \u001B[0m         \u001B[4;94mhttps://api.cloud.llamaindex.ai/api/parsing/job/0cdb4641-8b32-4273-a79\u001B[0m \u001B[2m               \u001B[0m\n",
       "\u001B[2;36m                    \u001B[0m         \u001B[4;94m8-1b5289df70a4\u001B[0m \u001B[32m\"HTTP/1.1 200 OK\"\u001B[0m                                       \u001B[2m               \u001B[0m\n"
      ],
      "text/html": [
       "<pre style=\"white-space:pre;overflow-x:auto;line-height:normal;font-family:Menlo,'DejaVu Sans Mono',consolas,'Courier New',monospace\"><span style=\"color: #7fbfbf; text-decoration-color: #7fbfbf\">                    </span><span style=\"color: #000080; text-decoration-color: #000080\">INFO    </span> <span style=\"font-weight: bold\">[</span>_client.py:<span style=\"color: #008080; text-decoration-color: #008080; font-weight: bold\">1773</span><span style=\"font-weight: bold\">]</span> &gt;&gt; HTTP Request: <span style=\"color: #808000; text-decoration-color: #808000; font-weight: bold\">GET</span>                                 <a href=\"file:///Users/kimbwook/PycharmProjects/fast-campus/venv/lib/python3.10/site-packages/httpx/_client.py\" target=\"_blank\"><span style=\"color: #7f7f7f; text-decoration-color: #7f7f7f\">_client.py</span></a><span style=\"color: #7f7f7f; text-decoration-color: #7f7f7f\">:</span><a href=\"file:///Users/kimbwook/PycharmProjects/fast-campus/venv/lib/python3.10/site-packages/httpx/_client.py#1773\" target=\"_blank\"><span style=\"color: #7f7f7f; text-decoration-color: #7f7f7f\">1773</span></a>\n",
       "<span style=\"color: #7fbfbf; text-decoration-color: #7fbfbf\">                    </span>         <span style=\"color: #0000ff; text-decoration-color: #0000ff; text-decoration: underline\">https://api.cloud.llamaindex.ai/api/parsing/job/0cdb4641-8b32-4273-a79</span> <span style=\"color: #7f7f7f; text-decoration-color: #7f7f7f\">               </span>\n",
       "<span style=\"color: #7fbfbf; text-decoration-color: #7fbfbf\">                    </span>         <span style=\"color: #0000ff; text-decoration-color: #0000ff; text-decoration: underline\">8-1b5289df70a4</span> <span style=\"color: #008000; text-decoration-color: #008000\">\"HTTP/1.1 200 OK\"</span>                                       <span style=\"color: #7f7f7f; text-decoration-color: #7f7f7f\">               </span>\n",
       "</pre>\n"
      ]
     },
     "metadata": {},
     "output_type": "display_data"
    },
    {
     "data": {
      "text/plain": [
       "\u001B[2;36m                   \u001B[0m\u001B[2;36m \u001B[0m\u001B[34mINFO    \u001B[0m \u001B[1m[\u001B[0m_client.py:\u001B[1;36m1773\u001B[0m\u001B[1m]\u001B[0m >> HTTP Request: \u001B[1;33mGET\u001B[0m                                 \u001B]8;id=670256;file:///Users/kimbwook/PycharmProjects/fast-campus/venv/lib/python3.10/site-packages/httpx/_client.py\u001B\\\u001B[2m_client.py\u001B[0m\u001B]8;;\u001B\\\u001B[2m:\u001B[0m\u001B]8;id=218992;file:///Users/kimbwook/PycharmProjects/fast-campus/venv/lib/python3.10/site-packages/httpx/_client.py#1773\u001B\\\u001B[2m1773\u001B[0m\u001B]8;;\u001B\\\n",
       "\u001B[2;36m                    \u001B[0m         \u001B[4;94mhttps://api.cloud.llamaindex.ai/api/parsing/job/62b035fa-fecb-4fb3-b88\u001B[0m \u001B[2m               \u001B[0m\n",
       "\u001B[2;36m                    \u001B[0m         \u001B[4;94mf-48c45f050929\u001B[0m \u001B[32m\"HTTP/1.1 200 OK\"\u001B[0m                                       \u001B[2m               \u001B[0m\n"
      ],
      "text/html": [
       "<pre style=\"white-space:pre;overflow-x:auto;line-height:normal;font-family:Menlo,'DejaVu Sans Mono',consolas,'Courier New',monospace\"><span style=\"color: #7fbfbf; text-decoration-color: #7fbfbf\">                    </span><span style=\"color: #000080; text-decoration-color: #000080\">INFO    </span> <span style=\"font-weight: bold\">[</span>_client.py:<span style=\"color: #008080; text-decoration-color: #008080; font-weight: bold\">1773</span><span style=\"font-weight: bold\">]</span> &gt;&gt; HTTP Request: <span style=\"color: #808000; text-decoration-color: #808000; font-weight: bold\">GET</span>                                 <a href=\"file:///Users/kimbwook/PycharmProjects/fast-campus/venv/lib/python3.10/site-packages/httpx/_client.py\" target=\"_blank\"><span style=\"color: #7f7f7f; text-decoration-color: #7f7f7f\">_client.py</span></a><span style=\"color: #7f7f7f; text-decoration-color: #7f7f7f\">:</span><a href=\"file:///Users/kimbwook/PycharmProjects/fast-campus/venv/lib/python3.10/site-packages/httpx/_client.py#1773\" target=\"_blank\"><span style=\"color: #7f7f7f; text-decoration-color: #7f7f7f\">1773</span></a>\n",
       "<span style=\"color: #7fbfbf; text-decoration-color: #7fbfbf\">                    </span>         <span style=\"color: #0000ff; text-decoration-color: #0000ff; text-decoration: underline\">https://api.cloud.llamaindex.ai/api/parsing/job/62b035fa-fecb-4fb3-b88</span> <span style=\"color: #7f7f7f; text-decoration-color: #7f7f7f\">               </span>\n",
       "<span style=\"color: #7fbfbf; text-decoration-color: #7fbfbf\">                    </span>         <span style=\"color: #0000ff; text-decoration-color: #0000ff; text-decoration: underline\">f-48c45f050929</span> <span style=\"color: #008000; text-decoration-color: #008000\">\"HTTP/1.1 200 OK\"</span>                                       <span style=\"color: #7f7f7f; text-decoration-color: #7f7f7f\">               </span>\n",
       "</pre>\n"
      ]
     },
     "metadata": {},
     "output_type": "display_data"
    },
    {
     "data": {
      "text/plain": [
       "\u001B[2;36m                   \u001B[0m\u001B[2;36m \u001B[0m\u001B[34mINFO    \u001B[0m \u001B[1m[\u001B[0m_client.py:\u001B[1;36m1773\u001B[0m\u001B[1m]\u001B[0m >> HTTP Request: \u001B[1;33mGET\u001B[0m                                 \u001B]8;id=864837;file:///Users/kimbwook/PycharmProjects/fast-campus/venv/lib/python3.10/site-packages/httpx/_client.py\u001B\\\u001B[2m_client.py\u001B[0m\u001B]8;;\u001B\\\u001B[2m:\u001B[0m\u001B]8;id=566567;file:///Users/kimbwook/PycharmProjects/fast-campus/venv/lib/python3.10/site-packages/httpx/_client.py#1773\u001B\\\u001B[2m1773\u001B[0m\u001B]8;;\u001B\\\n",
       "\u001B[2;36m                    \u001B[0m         \u001B[4;94mhttps://api.cloud.llamaindex.ai/api/parsing/job/f65ca0b7-019d-45e0-9de\u001B[0m \u001B[2m               \u001B[0m\n",
       "\u001B[2;36m                    \u001B[0m         \u001B[4;94m9-327e49d455c9\u001B[0m \u001B[32m\"HTTP/1.1 200 OK\"\u001B[0m                                       \u001B[2m               \u001B[0m\n"
      ],
      "text/html": [
       "<pre style=\"white-space:pre;overflow-x:auto;line-height:normal;font-family:Menlo,'DejaVu Sans Mono',consolas,'Courier New',monospace\"><span style=\"color: #7fbfbf; text-decoration-color: #7fbfbf\">                    </span><span style=\"color: #000080; text-decoration-color: #000080\">INFO    </span> <span style=\"font-weight: bold\">[</span>_client.py:<span style=\"color: #008080; text-decoration-color: #008080; font-weight: bold\">1773</span><span style=\"font-weight: bold\">]</span> &gt;&gt; HTTP Request: <span style=\"color: #808000; text-decoration-color: #808000; font-weight: bold\">GET</span>                                 <a href=\"file:///Users/kimbwook/PycharmProjects/fast-campus/venv/lib/python3.10/site-packages/httpx/_client.py\" target=\"_blank\"><span style=\"color: #7f7f7f; text-decoration-color: #7f7f7f\">_client.py</span></a><span style=\"color: #7f7f7f; text-decoration-color: #7f7f7f\">:</span><a href=\"file:///Users/kimbwook/PycharmProjects/fast-campus/venv/lib/python3.10/site-packages/httpx/_client.py#1773\" target=\"_blank\"><span style=\"color: #7f7f7f; text-decoration-color: #7f7f7f\">1773</span></a>\n",
       "<span style=\"color: #7fbfbf; text-decoration-color: #7fbfbf\">                    </span>         <span style=\"color: #0000ff; text-decoration-color: #0000ff; text-decoration: underline\">https://api.cloud.llamaindex.ai/api/parsing/job/f65ca0b7-019d-45e0-9de</span> <span style=\"color: #7f7f7f; text-decoration-color: #7f7f7f\">               </span>\n",
       "<span style=\"color: #7fbfbf; text-decoration-color: #7fbfbf\">                    </span>         <span style=\"color: #0000ff; text-decoration-color: #0000ff; text-decoration: underline\">9-327e49d455c9</span> <span style=\"color: #008000; text-decoration-color: #008000\">\"HTTP/1.1 200 OK\"</span>                                       <span style=\"color: #7f7f7f; text-decoration-color: #7f7f7f\">               </span>\n",
       "</pre>\n"
      ]
     },
     "metadata": {},
     "output_type": "display_data"
    },
    {
     "data": {
      "text/plain": [
       "\u001B[2;36m                   \u001B[0m\u001B[2;36m \u001B[0m\u001B[34mINFO    \u001B[0m \u001B[1m[\u001B[0m_client.py:\u001B[1;36m1773\u001B[0m\u001B[1m]\u001B[0m >> HTTP Request: \u001B[1;33mGET\u001B[0m                                 \u001B]8;id=150147;file:///Users/kimbwook/PycharmProjects/fast-campus/venv/lib/python3.10/site-packages/httpx/_client.py\u001B\\\u001B[2m_client.py\u001B[0m\u001B]8;;\u001B\\\u001B[2m:\u001B[0m\u001B]8;id=431767;file:///Users/kimbwook/PycharmProjects/fast-campus/venv/lib/python3.10/site-packages/httpx/_client.py#1773\u001B\\\u001B[2m1773\u001B[0m\u001B]8;;\u001B\\\n",
       "\u001B[2;36m                    \u001B[0m         \u001B[4;94mhttps://api.cloud.llamaindex.ai/api/parsing/job/a3256f64-4b99-489c-8fc\u001B[0m \u001B[2m               \u001B[0m\n",
       "\u001B[2;36m                    \u001B[0m         \u001B[4;94m0-20e98cbfd184\u001B[0m \u001B[32m\"HTTP/1.1 200 OK\"\u001B[0m                                       \u001B[2m               \u001B[0m\n"
      ],
      "text/html": [
       "<pre style=\"white-space:pre;overflow-x:auto;line-height:normal;font-family:Menlo,'DejaVu Sans Mono',consolas,'Courier New',monospace\"><span style=\"color: #7fbfbf; text-decoration-color: #7fbfbf\">                    </span><span style=\"color: #000080; text-decoration-color: #000080\">INFO    </span> <span style=\"font-weight: bold\">[</span>_client.py:<span style=\"color: #008080; text-decoration-color: #008080; font-weight: bold\">1773</span><span style=\"font-weight: bold\">]</span> &gt;&gt; HTTP Request: <span style=\"color: #808000; text-decoration-color: #808000; font-weight: bold\">GET</span>                                 <a href=\"file:///Users/kimbwook/PycharmProjects/fast-campus/venv/lib/python3.10/site-packages/httpx/_client.py\" target=\"_blank\"><span style=\"color: #7f7f7f; text-decoration-color: #7f7f7f\">_client.py</span></a><span style=\"color: #7f7f7f; text-decoration-color: #7f7f7f\">:</span><a href=\"file:///Users/kimbwook/PycharmProjects/fast-campus/venv/lib/python3.10/site-packages/httpx/_client.py#1773\" target=\"_blank\"><span style=\"color: #7f7f7f; text-decoration-color: #7f7f7f\">1773</span></a>\n",
       "<span style=\"color: #7fbfbf; text-decoration-color: #7fbfbf\">                    </span>         <span style=\"color: #0000ff; text-decoration-color: #0000ff; text-decoration: underline\">https://api.cloud.llamaindex.ai/api/parsing/job/a3256f64-4b99-489c-8fc</span> <span style=\"color: #7f7f7f; text-decoration-color: #7f7f7f\">               </span>\n",
       "<span style=\"color: #7fbfbf; text-decoration-color: #7fbfbf\">                    </span>         <span style=\"color: #0000ff; text-decoration-color: #0000ff; text-decoration: underline\">0-20e98cbfd184</span> <span style=\"color: #008000; text-decoration-color: #008000\">\"HTTP/1.1 200 OK\"</span>                                       <span style=\"color: #7f7f7f; text-decoration-color: #7f7f7f\">               </span>\n",
       "</pre>\n"
      ]
     },
     "metadata": {},
     "output_type": "display_data"
    },
    {
     "data": {
      "text/plain": [
       "\u001B[2;36m                   \u001B[0m\u001B[2;36m \u001B[0m\u001B[34mINFO    \u001B[0m \u001B[1m[\u001B[0m_client.py:\u001B[1;36m1773\u001B[0m\u001B[1m]\u001B[0m >> HTTP Request: \u001B[1;33mGET\u001B[0m                                 \u001B]8;id=193203;file:///Users/kimbwook/PycharmProjects/fast-campus/venv/lib/python3.10/site-packages/httpx/_client.py\u001B\\\u001B[2m_client.py\u001B[0m\u001B]8;;\u001B\\\u001B[2m:\u001B[0m\u001B]8;id=515064;file:///Users/kimbwook/PycharmProjects/fast-campus/venv/lib/python3.10/site-packages/httpx/_client.py#1773\u001B\\\u001B[2m1773\u001B[0m\u001B]8;;\u001B\\\n",
       "\u001B[2;36m                    \u001B[0m         \u001B[4;94mhttps://api.cloud.llamaindex.ai/api/parsing/job/cd595c93-9a88-475b-a5a\u001B[0m \u001B[2m               \u001B[0m\n",
       "\u001B[2;36m                    \u001B[0m         \u001B[4;94m4-39c94a0fcc99\u001B[0m \u001B[32m\"HTTP/1.1 200 OK\"\u001B[0m                                       \u001B[2m               \u001B[0m\n"
      ],
      "text/html": [
       "<pre style=\"white-space:pre;overflow-x:auto;line-height:normal;font-family:Menlo,'DejaVu Sans Mono',consolas,'Courier New',monospace\"><span style=\"color: #7fbfbf; text-decoration-color: #7fbfbf\">                    </span><span style=\"color: #000080; text-decoration-color: #000080\">INFO    </span> <span style=\"font-weight: bold\">[</span>_client.py:<span style=\"color: #008080; text-decoration-color: #008080; font-weight: bold\">1773</span><span style=\"font-weight: bold\">]</span> &gt;&gt; HTTP Request: <span style=\"color: #808000; text-decoration-color: #808000; font-weight: bold\">GET</span>                                 <a href=\"file:///Users/kimbwook/PycharmProjects/fast-campus/venv/lib/python3.10/site-packages/httpx/_client.py\" target=\"_blank\"><span style=\"color: #7f7f7f; text-decoration-color: #7f7f7f\">_client.py</span></a><span style=\"color: #7f7f7f; text-decoration-color: #7f7f7f\">:</span><a href=\"file:///Users/kimbwook/PycharmProjects/fast-campus/venv/lib/python3.10/site-packages/httpx/_client.py#1773\" target=\"_blank\"><span style=\"color: #7f7f7f; text-decoration-color: #7f7f7f\">1773</span></a>\n",
       "<span style=\"color: #7fbfbf; text-decoration-color: #7fbfbf\">                    </span>         <span style=\"color: #0000ff; text-decoration-color: #0000ff; text-decoration: underline\">https://api.cloud.llamaindex.ai/api/parsing/job/cd595c93-9a88-475b-a5a</span> <span style=\"color: #7f7f7f; text-decoration-color: #7f7f7f\">               </span>\n",
       "<span style=\"color: #7fbfbf; text-decoration-color: #7fbfbf\">                    </span>         <span style=\"color: #0000ff; text-decoration-color: #0000ff; text-decoration: underline\">4-39c94a0fcc99</span> <span style=\"color: #008000; text-decoration-color: #008000\">\"HTTP/1.1 200 OK\"</span>                                       <span style=\"color: #7f7f7f; text-decoration-color: #7f7f7f\">               </span>\n",
       "</pre>\n"
      ]
     },
     "metadata": {},
     "output_type": "display_data"
    },
    {
     "data": {
      "text/plain": [
       "\u001B[2;36m[12/21/24 16:20:00]\u001B[0m\u001B[2;36m \u001B[0m\u001B[34mINFO    \u001B[0m \u001B[1m[\u001B[0m_client.py:\u001B[1;36m1773\u001B[0m\u001B[1m]\u001B[0m >> HTTP Request: \u001B[1;33mGET\u001B[0m                                 \u001B]8;id=605629;file:///Users/kimbwook/PycharmProjects/fast-campus/venv/lib/python3.10/site-packages/httpx/_client.py\u001B\\\u001B[2m_client.py\u001B[0m\u001B]8;;\u001B\\\u001B[2m:\u001B[0m\u001B]8;id=942487;file:///Users/kimbwook/PycharmProjects/fast-campus/venv/lib/python3.10/site-packages/httpx/_client.py#1773\u001B\\\u001B[2m1773\u001B[0m\u001B]8;;\u001B\\\n",
       "\u001B[2;36m                    \u001B[0m         \u001B[4;94mhttps://api.cloud.llamaindex.ai/api/parsing/job/000c0e45-75e7-481e-9eb\u001B[0m \u001B[2m               \u001B[0m\n",
       "\u001B[2;36m                    \u001B[0m         \u001B[4;94m9-fe7153688325\u001B[0m \u001B[32m\"HTTP/1.1 200 OK\"\u001B[0m                                       \u001B[2m               \u001B[0m\n"
      ],
      "text/html": [
       "<pre style=\"white-space:pre;overflow-x:auto;line-height:normal;font-family:Menlo,'DejaVu Sans Mono',consolas,'Courier New',monospace\"><span style=\"color: #7fbfbf; text-decoration-color: #7fbfbf\">[12/21/24 16:20:00] </span><span style=\"color: #000080; text-decoration-color: #000080\">INFO    </span> <span style=\"font-weight: bold\">[</span>_client.py:<span style=\"color: #008080; text-decoration-color: #008080; font-weight: bold\">1773</span><span style=\"font-weight: bold\">]</span> &gt;&gt; HTTP Request: <span style=\"color: #808000; text-decoration-color: #808000; font-weight: bold\">GET</span>                                 <a href=\"file:///Users/kimbwook/PycharmProjects/fast-campus/venv/lib/python3.10/site-packages/httpx/_client.py\" target=\"_blank\"><span style=\"color: #7f7f7f; text-decoration-color: #7f7f7f\">_client.py</span></a><span style=\"color: #7f7f7f; text-decoration-color: #7f7f7f\">:</span><a href=\"file:///Users/kimbwook/PycharmProjects/fast-campus/venv/lib/python3.10/site-packages/httpx/_client.py#1773\" target=\"_blank\"><span style=\"color: #7f7f7f; text-decoration-color: #7f7f7f\">1773</span></a>\n",
       "<span style=\"color: #7fbfbf; text-decoration-color: #7fbfbf\">                    </span>         <span style=\"color: #0000ff; text-decoration-color: #0000ff; text-decoration: underline\">https://api.cloud.llamaindex.ai/api/parsing/job/000c0e45-75e7-481e-9eb</span> <span style=\"color: #7f7f7f; text-decoration-color: #7f7f7f\">               </span>\n",
       "<span style=\"color: #7fbfbf; text-decoration-color: #7fbfbf\">                    </span>         <span style=\"color: #0000ff; text-decoration-color: #0000ff; text-decoration: underline\">9-fe7153688325</span> <span style=\"color: #008000; text-decoration-color: #008000\">\"HTTP/1.1 200 OK\"</span>                                       <span style=\"color: #7f7f7f; text-decoration-color: #7f7f7f\">               </span>\n",
       "</pre>\n"
      ]
     },
     "metadata": {},
     "output_type": "display_data"
    },
    {
     "data": {
      "text/plain": [
       "\u001B[2;36m                   \u001B[0m\u001B[2;36m \u001B[0m\u001B[34mINFO    \u001B[0m \u001B[1m[\u001B[0m_client.py:\u001B[1;36m1773\u001B[0m\u001B[1m]\u001B[0m >> HTTP Request: \u001B[1;33mGET\u001B[0m                                 \u001B]8;id=232235;file:///Users/kimbwook/PycharmProjects/fast-campus/venv/lib/python3.10/site-packages/httpx/_client.py\u001B\\\u001B[2m_client.py\u001B[0m\u001B]8;;\u001B\\\u001B[2m:\u001B[0m\u001B]8;id=386807;file:///Users/kimbwook/PycharmProjects/fast-campus/venv/lib/python3.10/site-packages/httpx/_client.py#1773\u001B\\\u001B[2m1773\u001B[0m\u001B]8;;\u001B\\\n",
       "\u001B[2;36m                    \u001B[0m         \u001B[4;94mhttps://api.cloud.llamaindex.ai/api/parsing/job/6ec29869-6062-464e-9cd\u001B[0m \u001B[2m               \u001B[0m\n",
       "\u001B[2;36m                    \u001B[0m         \u001B[4;94m7-0a7593504b0f\u001B[0m \u001B[32m\"HTTP/1.1 200 OK\"\u001B[0m                                       \u001B[2m               \u001B[0m\n"
      ],
      "text/html": [
       "<pre style=\"white-space:pre;overflow-x:auto;line-height:normal;font-family:Menlo,'DejaVu Sans Mono',consolas,'Courier New',monospace\"><span style=\"color: #7fbfbf; text-decoration-color: #7fbfbf\">                    </span><span style=\"color: #000080; text-decoration-color: #000080\">INFO    </span> <span style=\"font-weight: bold\">[</span>_client.py:<span style=\"color: #008080; text-decoration-color: #008080; font-weight: bold\">1773</span><span style=\"font-weight: bold\">]</span> &gt;&gt; HTTP Request: <span style=\"color: #808000; text-decoration-color: #808000; font-weight: bold\">GET</span>                                 <a href=\"file:///Users/kimbwook/PycharmProjects/fast-campus/venv/lib/python3.10/site-packages/httpx/_client.py\" target=\"_blank\"><span style=\"color: #7f7f7f; text-decoration-color: #7f7f7f\">_client.py</span></a><span style=\"color: #7f7f7f; text-decoration-color: #7f7f7f\">:</span><a href=\"file:///Users/kimbwook/PycharmProjects/fast-campus/venv/lib/python3.10/site-packages/httpx/_client.py#1773\" target=\"_blank\"><span style=\"color: #7f7f7f; text-decoration-color: #7f7f7f\">1773</span></a>\n",
       "<span style=\"color: #7fbfbf; text-decoration-color: #7fbfbf\">                    </span>         <span style=\"color: #0000ff; text-decoration-color: #0000ff; text-decoration: underline\">https://api.cloud.llamaindex.ai/api/parsing/job/6ec29869-6062-464e-9cd</span> <span style=\"color: #7f7f7f; text-decoration-color: #7f7f7f\">               </span>\n",
       "<span style=\"color: #7fbfbf; text-decoration-color: #7fbfbf\">                    </span>         <span style=\"color: #0000ff; text-decoration-color: #0000ff; text-decoration: underline\">7-0a7593504b0f</span> <span style=\"color: #008000; text-decoration-color: #008000\">\"HTTP/1.1 200 OK\"</span>                                       <span style=\"color: #7f7f7f; text-decoration-color: #7f7f7f\">               </span>\n",
       "</pre>\n"
      ]
     },
     "metadata": {},
     "output_type": "display_data"
    },
    {
     "data": {
      "text/plain": [
       "\u001B[2;36m[12/21/24 16:20:01]\u001B[0m\u001B[2;36m \u001B[0m\u001B[34mINFO    \u001B[0m \u001B[1m[\u001B[0m_client.py:\u001B[1;36m1773\u001B[0m\u001B[1m]\u001B[0m >> HTTP Request: \u001B[1;33mGET\u001B[0m                                 \u001B]8;id=397043;file:///Users/kimbwook/PycharmProjects/fast-campus/venv/lib/python3.10/site-packages/httpx/_client.py\u001B\\\u001B[2m_client.py\u001B[0m\u001B]8;;\u001B\\\u001B[2m:\u001B[0m\u001B]8;id=909227;file:///Users/kimbwook/PycharmProjects/fast-campus/venv/lib/python3.10/site-packages/httpx/_client.py#1773\u001B\\\u001B[2m1773\u001B[0m\u001B]8;;\u001B\\\n",
       "\u001B[2;36m                    \u001B[0m         \u001B[4;94mhttps://api.cloud.llamaindex.ai/api/parsing/job/f65ca0b7-019d-45e0-9de\u001B[0m \u001B[2m               \u001B[0m\n",
       "\u001B[2;36m                    \u001B[0m         \u001B[4;94m9-327e49d455c9\u001B[0m \u001B[32m\"HTTP/1.1 200 OK\"\u001B[0m                                       \u001B[2m               \u001B[0m\n"
      ],
      "text/html": [
       "<pre style=\"white-space:pre;overflow-x:auto;line-height:normal;font-family:Menlo,'DejaVu Sans Mono',consolas,'Courier New',monospace\"><span style=\"color: #7fbfbf; text-decoration-color: #7fbfbf\">[12/21/24 16:20:01] </span><span style=\"color: #000080; text-decoration-color: #000080\">INFO    </span> <span style=\"font-weight: bold\">[</span>_client.py:<span style=\"color: #008080; text-decoration-color: #008080; font-weight: bold\">1773</span><span style=\"font-weight: bold\">]</span> &gt;&gt; HTTP Request: <span style=\"color: #808000; text-decoration-color: #808000; font-weight: bold\">GET</span>                                 <a href=\"file:///Users/kimbwook/PycharmProjects/fast-campus/venv/lib/python3.10/site-packages/httpx/_client.py\" target=\"_blank\"><span style=\"color: #7f7f7f; text-decoration-color: #7f7f7f\">_client.py</span></a><span style=\"color: #7f7f7f; text-decoration-color: #7f7f7f\">:</span><a href=\"file:///Users/kimbwook/PycharmProjects/fast-campus/venv/lib/python3.10/site-packages/httpx/_client.py#1773\" target=\"_blank\"><span style=\"color: #7f7f7f; text-decoration-color: #7f7f7f\">1773</span></a>\n",
       "<span style=\"color: #7fbfbf; text-decoration-color: #7fbfbf\">                    </span>         <span style=\"color: #0000ff; text-decoration-color: #0000ff; text-decoration: underline\">https://api.cloud.llamaindex.ai/api/parsing/job/f65ca0b7-019d-45e0-9de</span> <span style=\"color: #7f7f7f; text-decoration-color: #7f7f7f\">               </span>\n",
       "<span style=\"color: #7fbfbf; text-decoration-color: #7fbfbf\">                    </span>         <span style=\"color: #0000ff; text-decoration-color: #0000ff; text-decoration: underline\">9-327e49d455c9</span> <span style=\"color: #008000; text-decoration-color: #008000\">\"HTTP/1.1 200 OK\"</span>                                       <span style=\"color: #7f7f7f; text-decoration-color: #7f7f7f\">               </span>\n",
       "</pre>\n"
      ]
     },
     "metadata": {},
     "output_type": "display_data"
    },
    {
     "data": {
      "text/plain": [
       "\u001B[2;36m                   \u001B[0m\u001B[2;36m \u001B[0m\u001B[34mINFO    \u001B[0m \u001B[1m[\u001B[0m_client.py:\u001B[1;36m1773\u001B[0m\u001B[1m]\u001B[0m >> HTTP Request: \u001B[1;33mGET\u001B[0m                                 \u001B]8;id=306657;file:///Users/kimbwook/PycharmProjects/fast-campus/venv/lib/python3.10/site-packages/httpx/_client.py\u001B\\\u001B[2m_client.py\u001B[0m\u001B]8;;\u001B\\\u001B[2m:\u001B[0m\u001B]8;id=885885;file:///Users/kimbwook/PycharmProjects/fast-campus/venv/lib/python3.10/site-packages/httpx/_client.py#1773\u001B\\\u001B[2m1773\u001B[0m\u001B]8;;\u001B\\\n",
       "\u001B[2;36m                    \u001B[0m         \u001B[4;94mhttps://api.cloud.llamaindex.ai/api/parsing/job/a3256f64-4b99-489c-8fc\u001B[0m \u001B[2m               \u001B[0m\n",
       "\u001B[2;36m                    \u001B[0m         \u001B[4;94m0-20e98cbfd184\u001B[0m \u001B[32m\"HTTP/1.1 200 OK\"\u001B[0m                                       \u001B[2m               \u001B[0m\n"
      ],
      "text/html": [
       "<pre style=\"white-space:pre;overflow-x:auto;line-height:normal;font-family:Menlo,'DejaVu Sans Mono',consolas,'Courier New',monospace\"><span style=\"color: #7fbfbf; text-decoration-color: #7fbfbf\">                    </span><span style=\"color: #000080; text-decoration-color: #000080\">INFO    </span> <span style=\"font-weight: bold\">[</span>_client.py:<span style=\"color: #008080; text-decoration-color: #008080; font-weight: bold\">1773</span><span style=\"font-weight: bold\">]</span> &gt;&gt; HTTP Request: <span style=\"color: #808000; text-decoration-color: #808000; font-weight: bold\">GET</span>                                 <a href=\"file:///Users/kimbwook/PycharmProjects/fast-campus/venv/lib/python3.10/site-packages/httpx/_client.py\" target=\"_blank\"><span style=\"color: #7f7f7f; text-decoration-color: #7f7f7f\">_client.py</span></a><span style=\"color: #7f7f7f; text-decoration-color: #7f7f7f\">:</span><a href=\"file:///Users/kimbwook/PycharmProjects/fast-campus/venv/lib/python3.10/site-packages/httpx/_client.py#1773\" target=\"_blank\"><span style=\"color: #7f7f7f; text-decoration-color: #7f7f7f\">1773</span></a>\n",
       "<span style=\"color: #7fbfbf; text-decoration-color: #7fbfbf\">                    </span>         <span style=\"color: #0000ff; text-decoration-color: #0000ff; text-decoration: underline\">https://api.cloud.llamaindex.ai/api/parsing/job/a3256f64-4b99-489c-8fc</span> <span style=\"color: #7f7f7f; text-decoration-color: #7f7f7f\">               </span>\n",
       "<span style=\"color: #7fbfbf; text-decoration-color: #7fbfbf\">                    </span>         <span style=\"color: #0000ff; text-decoration-color: #0000ff; text-decoration: underline\">0-20e98cbfd184</span> <span style=\"color: #008000; text-decoration-color: #008000\">\"HTTP/1.1 200 OK\"</span>                                       <span style=\"color: #7f7f7f; text-decoration-color: #7f7f7f\">               </span>\n",
       "</pre>\n"
      ]
     },
     "metadata": {},
     "output_type": "display_data"
    },
    {
     "data": {
      "text/plain": [
       "\u001B[2;36m                   \u001B[0m\u001B[2;36m \u001B[0m\u001B[34mINFO    \u001B[0m \u001B[1m[\u001B[0m_client.py:\u001B[1;36m1773\u001B[0m\u001B[1m]\u001B[0m >> HTTP Request: \u001B[1;33mGET\u001B[0m                                 \u001B]8;id=423061;file:///Users/kimbwook/PycharmProjects/fast-campus/venv/lib/python3.10/site-packages/httpx/_client.py\u001B\\\u001B[2m_client.py\u001B[0m\u001B]8;;\u001B\\\u001B[2m:\u001B[0m\u001B]8;id=255103;file:///Users/kimbwook/PycharmProjects/fast-campus/venv/lib/python3.10/site-packages/httpx/_client.py#1773\u001B\\\u001B[2m1773\u001B[0m\u001B]8;;\u001B\\\n",
       "\u001B[2;36m                    \u001B[0m         \u001B[4;94mhttps://api.cloud.llamaindex.ai/api/parsing/job/62b035fa-fecb-4fb3-b88\u001B[0m \u001B[2m               \u001B[0m\n",
       "\u001B[2;36m                    \u001B[0m         \u001B[4;94mf-48c45f050929\u001B[0m \u001B[32m\"HTTP/1.1 200 OK\"\u001B[0m                                       \u001B[2m               \u001B[0m\n"
      ],
      "text/html": [
       "<pre style=\"white-space:pre;overflow-x:auto;line-height:normal;font-family:Menlo,'DejaVu Sans Mono',consolas,'Courier New',monospace\"><span style=\"color: #7fbfbf; text-decoration-color: #7fbfbf\">                    </span><span style=\"color: #000080; text-decoration-color: #000080\">INFO    </span> <span style=\"font-weight: bold\">[</span>_client.py:<span style=\"color: #008080; text-decoration-color: #008080; font-weight: bold\">1773</span><span style=\"font-weight: bold\">]</span> &gt;&gt; HTTP Request: <span style=\"color: #808000; text-decoration-color: #808000; font-weight: bold\">GET</span>                                 <a href=\"file:///Users/kimbwook/PycharmProjects/fast-campus/venv/lib/python3.10/site-packages/httpx/_client.py\" target=\"_blank\"><span style=\"color: #7f7f7f; text-decoration-color: #7f7f7f\">_client.py</span></a><span style=\"color: #7f7f7f; text-decoration-color: #7f7f7f\">:</span><a href=\"file:///Users/kimbwook/PycharmProjects/fast-campus/venv/lib/python3.10/site-packages/httpx/_client.py#1773\" target=\"_blank\"><span style=\"color: #7f7f7f; text-decoration-color: #7f7f7f\">1773</span></a>\n",
       "<span style=\"color: #7fbfbf; text-decoration-color: #7fbfbf\">                    </span>         <span style=\"color: #0000ff; text-decoration-color: #0000ff; text-decoration: underline\">https://api.cloud.llamaindex.ai/api/parsing/job/62b035fa-fecb-4fb3-b88</span> <span style=\"color: #7f7f7f; text-decoration-color: #7f7f7f\">               </span>\n",
       "<span style=\"color: #7fbfbf; text-decoration-color: #7fbfbf\">                    </span>         <span style=\"color: #0000ff; text-decoration-color: #0000ff; text-decoration: underline\">f-48c45f050929</span> <span style=\"color: #008000; text-decoration-color: #008000\">\"HTTP/1.1 200 OK\"</span>                                       <span style=\"color: #7f7f7f; text-decoration-color: #7f7f7f\">               </span>\n",
       "</pre>\n"
      ]
     },
     "metadata": {},
     "output_type": "display_data"
    },
    {
     "data": {
      "text/plain": [
       "\u001B[2;36m                   \u001B[0m\u001B[2;36m \u001B[0m\u001B[34mINFO    \u001B[0m \u001B[1m[\u001B[0m_client.py:\u001B[1;36m1773\u001B[0m\u001B[1m]\u001B[0m >> HTTP Request: \u001B[1;33mGET\u001B[0m                                 \u001B]8;id=937495;file:///Users/kimbwook/PycharmProjects/fast-campus/venv/lib/python3.10/site-packages/httpx/_client.py\u001B\\\u001B[2m_client.py\u001B[0m\u001B]8;;\u001B\\\u001B[2m:\u001B[0m\u001B]8;id=305883;file:///Users/kimbwook/PycharmProjects/fast-campus/venv/lib/python3.10/site-packages/httpx/_client.py#1773\u001B\\\u001B[2m1773\u001B[0m\u001B]8;;\u001B\\\n",
       "\u001B[2;36m                    \u001B[0m         \u001B[4;94mhttps://api.cloud.llamaindex.ai/api/parsing/job/0cdb4641-8b32-4273-a79\u001B[0m \u001B[2m               \u001B[0m\n",
       "\u001B[2;36m                    \u001B[0m         \u001B[4;94m8-1b5289df70a4\u001B[0m \u001B[32m\"HTTP/1.1 200 OK\"\u001B[0m                                       \u001B[2m               \u001B[0m\n"
      ],
      "text/html": [
       "<pre style=\"white-space:pre;overflow-x:auto;line-height:normal;font-family:Menlo,'DejaVu Sans Mono',consolas,'Courier New',monospace\"><span style=\"color: #7fbfbf; text-decoration-color: #7fbfbf\">                    </span><span style=\"color: #000080; text-decoration-color: #000080\">INFO    </span> <span style=\"font-weight: bold\">[</span>_client.py:<span style=\"color: #008080; text-decoration-color: #008080; font-weight: bold\">1773</span><span style=\"font-weight: bold\">]</span> &gt;&gt; HTTP Request: <span style=\"color: #808000; text-decoration-color: #808000; font-weight: bold\">GET</span>                                 <a href=\"file:///Users/kimbwook/PycharmProjects/fast-campus/venv/lib/python3.10/site-packages/httpx/_client.py\" target=\"_blank\"><span style=\"color: #7f7f7f; text-decoration-color: #7f7f7f\">_client.py</span></a><span style=\"color: #7f7f7f; text-decoration-color: #7f7f7f\">:</span><a href=\"file:///Users/kimbwook/PycharmProjects/fast-campus/venv/lib/python3.10/site-packages/httpx/_client.py#1773\" target=\"_blank\"><span style=\"color: #7f7f7f; text-decoration-color: #7f7f7f\">1773</span></a>\n",
       "<span style=\"color: #7fbfbf; text-decoration-color: #7fbfbf\">                    </span>         <span style=\"color: #0000ff; text-decoration-color: #0000ff; text-decoration: underline\">https://api.cloud.llamaindex.ai/api/parsing/job/0cdb4641-8b32-4273-a79</span> <span style=\"color: #7f7f7f; text-decoration-color: #7f7f7f\">               </span>\n",
       "<span style=\"color: #7fbfbf; text-decoration-color: #7fbfbf\">                    </span>         <span style=\"color: #0000ff; text-decoration-color: #0000ff; text-decoration: underline\">8-1b5289df70a4</span> <span style=\"color: #008000; text-decoration-color: #008000\">\"HTTP/1.1 200 OK\"</span>                                       <span style=\"color: #7f7f7f; text-decoration-color: #7f7f7f\">               </span>\n",
       "</pre>\n"
      ]
     },
     "metadata": {},
     "output_type": "display_data"
    },
    {
     "data": {
      "text/plain": [
       "\u001B[2;36m                   \u001B[0m\u001B[2;36m \u001B[0m\u001B[34mINFO    \u001B[0m \u001B[1m[\u001B[0m_client.py:\u001B[1;36m1773\u001B[0m\u001B[1m]\u001B[0m >> HTTP Request: \u001B[1;33mGET\u001B[0m                                 \u001B]8;id=192807;file:///Users/kimbwook/PycharmProjects/fast-campus/venv/lib/python3.10/site-packages/httpx/_client.py\u001B\\\u001B[2m_client.py\u001B[0m\u001B]8;;\u001B\\\u001B[2m:\u001B[0m\u001B]8;id=191621;file:///Users/kimbwook/PycharmProjects/fast-campus/venv/lib/python3.10/site-packages/httpx/_client.py#1773\u001B\\\u001B[2m1773\u001B[0m\u001B]8;;\u001B\\\n",
       "\u001B[2;36m                    \u001B[0m         \u001B[4;94mhttps://api.cloud.llamaindex.ai/api/parsing/job/cd595c93-9a88-475b-a5a\u001B[0m \u001B[2m               \u001B[0m\n",
       "\u001B[2;36m                    \u001B[0m         \u001B[4;94m4-39c94a0fcc99\u001B[0m \u001B[32m\"HTTP/1.1 200 OK\"\u001B[0m                                       \u001B[2m               \u001B[0m\n"
      ],
      "text/html": [
       "<pre style=\"white-space:pre;overflow-x:auto;line-height:normal;font-family:Menlo,'DejaVu Sans Mono',consolas,'Courier New',monospace\"><span style=\"color: #7fbfbf; text-decoration-color: #7fbfbf\">                    </span><span style=\"color: #000080; text-decoration-color: #000080\">INFO    </span> <span style=\"font-weight: bold\">[</span>_client.py:<span style=\"color: #008080; text-decoration-color: #008080; font-weight: bold\">1773</span><span style=\"font-weight: bold\">]</span> &gt;&gt; HTTP Request: <span style=\"color: #808000; text-decoration-color: #808000; font-weight: bold\">GET</span>                                 <a href=\"file:///Users/kimbwook/PycharmProjects/fast-campus/venv/lib/python3.10/site-packages/httpx/_client.py\" target=\"_blank\"><span style=\"color: #7f7f7f; text-decoration-color: #7f7f7f\">_client.py</span></a><span style=\"color: #7f7f7f; text-decoration-color: #7f7f7f\">:</span><a href=\"file:///Users/kimbwook/PycharmProjects/fast-campus/venv/lib/python3.10/site-packages/httpx/_client.py#1773\" target=\"_blank\"><span style=\"color: #7f7f7f; text-decoration-color: #7f7f7f\">1773</span></a>\n",
       "<span style=\"color: #7fbfbf; text-decoration-color: #7fbfbf\">                    </span>         <span style=\"color: #0000ff; text-decoration-color: #0000ff; text-decoration: underline\">https://api.cloud.llamaindex.ai/api/parsing/job/cd595c93-9a88-475b-a5a</span> <span style=\"color: #7f7f7f; text-decoration-color: #7f7f7f\">               </span>\n",
       "<span style=\"color: #7fbfbf; text-decoration-color: #7fbfbf\">                    </span>         <span style=\"color: #0000ff; text-decoration-color: #0000ff; text-decoration: underline\">4-39c94a0fcc99</span> <span style=\"color: #008000; text-decoration-color: #008000\">\"HTTP/1.1 200 OK\"</span>                                       <span style=\"color: #7f7f7f; text-decoration-color: #7f7f7f\">               </span>\n",
       "</pre>\n"
      ]
     },
     "metadata": {},
     "output_type": "display_data"
    },
    {
     "data": {
      "text/plain": [
       "\u001B[2;36m[12/21/24 16:20:03]\u001B[0m\u001B[2;36m \u001B[0m\u001B[34mINFO    \u001B[0m \u001B[1m[\u001B[0m_client.py:\u001B[1;36m1773\u001B[0m\u001B[1m]\u001B[0m >> HTTP Request: \u001B[1;33mGET\u001B[0m                                 \u001B]8;id=63375;file:///Users/kimbwook/PycharmProjects/fast-campus/venv/lib/python3.10/site-packages/httpx/_client.py\u001B\\\u001B[2m_client.py\u001B[0m\u001B]8;;\u001B\\\u001B[2m:\u001B[0m\u001B]8;id=942401;file:///Users/kimbwook/PycharmProjects/fast-campus/venv/lib/python3.10/site-packages/httpx/_client.py#1773\u001B\\\u001B[2m1773\u001B[0m\u001B]8;;\u001B\\\n",
       "\u001B[2;36m                    \u001B[0m         \u001B[4;94mhttps://api.cloud.llamaindex.ai/api/parsing/job/6ec29869-6062-464e-9cd\u001B[0m \u001B[2m               \u001B[0m\n",
       "\u001B[2;36m                    \u001B[0m         \u001B[4;94m7-0a7593504b0f\u001B[0m \u001B[32m\"HTTP/1.1 200 OK\"\u001B[0m                                       \u001B[2m               \u001B[0m\n"
      ],
      "text/html": [
       "<pre style=\"white-space:pre;overflow-x:auto;line-height:normal;font-family:Menlo,'DejaVu Sans Mono',consolas,'Courier New',monospace\"><span style=\"color: #7fbfbf; text-decoration-color: #7fbfbf\">[12/21/24 16:20:03] </span><span style=\"color: #000080; text-decoration-color: #000080\">INFO    </span> <span style=\"font-weight: bold\">[</span>_client.py:<span style=\"color: #008080; text-decoration-color: #008080; font-weight: bold\">1773</span><span style=\"font-weight: bold\">]</span> &gt;&gt; HTTP Request: <span style=\"color: #808000; text-decoration-color: #808000; font-weight: bold\">GET</span>                                 <a href=\"file:///Users/kimbwook/PycharmProjects/fast-campus/venv/lib/python3.10/site-packages/httpx/_client.py\" target=\"_blank\"><span style=\"color: #7f7f7f; text-decoration-color: #7f7f7f\">_client.py</span></a><span style=\"color: #7f7f7f; text-decoration-color: #7f7f7f\">:</span><a href=\"file:///Users/kimbwook/PycharmProjects/fast-campus/venv/lib/python3.10/site-packages/httpx/_client.py#1773\" target=\"_blank\"><span style=\"color: #7f7f7f; text-decoration-color: #7f7f7f\">1773</span></a>\n",
       "<span style=\"color: #7fbfbf; text-decoration-color: #7fbfbf\">                    </span>         <span style=\"color: #0000ff; text-decoration-color: #0000ff; text-decoration: underline\">https://api.cloud.llamaindex.ai/api/parsing/job/6ec29869-6062-464e-9cd</span> <span style=\"color: #7f7f7f; text-decoration-color: #7f7f7f\">               </span>\n",
       "<span style=\"color: #7fbfbf; text-decoration-color: #7fbfbf\">                    </span>         <span style=\"color: #0000ff; text-decoration-color: #0000ff; text-decoration: underline\">7-0a7593504b0f</span> <span style=\"color: #008000; text-decoration-color: #008000\">\"HTTP/1.1 200 OK\"</span>                                       <span style=\"color: #7f7f7f; text-decoration-color: #7f7f7f\">               </span>\n",
       "</pre>\n"
      ]
     },
     "metadata": {},
     "output_type": "display_data"
    },
    {
     "data": {
      "text/plain": [
       "\u001B[2;36m                   \u001B[0m\u001B[2;36m \u001B[0m\u001B[34mINFO    \u001B[0m \u001B[1m[\u001B[0m_client.py:\u001B[1;36m1773\u001B[0m\u001B[1m]\u001B[0m >> HTTP Request: \u001B[1;33mGET\u001B[0m                                 \u001B]8;id=413476;file:///Users/kimbwook/PycharmProjects/fast-campus/venv/lib/python3.10/site-packages/httpx/_client.py\u001B\\\u001B[2m_client.py\u001B[0m\u001B]8;;\u001B\\\u001B[2m:\u001B[0m\u001B]8;id=899384;file:///Users/kimbwook/PycharmProjects/fast-campus/venv/lib/python3.10/site-packages/httpx/_client.py#1773\u001B\\\u001B[2m1773\u001B[0m\u001B]8;;\u001B\\\n",
       "\u001B[2;36m                    \u001B[0m         \u001B[4;94mhttps://api.cloud.llamaindex.ai/api/parsing/job/000c0e45-75e7-481e-9eb\u001B[0m \u001B[2m               \u001B[0m\n",
       "\u001B[2;36m                    \u001B[0m         \u001B[4;94m9-fe7153688325\u001B[0m \u001B[32m\"HTTP/1.1 200 OK\"\u001B[0m                                       \u001B[2m               \u001B[0m\n"
      ],
      "text/html": [
       "<pre style=\"white-space:pre;overflow-x:auto;line-height:normal;font-family:Menlo,'DejaVu Sans Mono',consolas,'Courier New',monospace\"><span style=\"color: #7fbfbf; text-decoration-color: #7fbfbf\">                    </span><span style=\"color: #000080; text-decoration-color: #000080\">INFO    </span> <span style=\"font-weight: bold\">[</span>_client.py:<span style=\"color: #008080; text-decoration-color: #008080; font-weight: bold\">1773</span><span style=\"font-weight: bold\">]</span> &gt;&gt; HTTP Request: <span style=\"color: #808000; text-decoration-color: #808000; font-weight: bold\">GET</span>                                 <a href=\"file:///Users/kimbwook/PycharmProjects/fast-campus/venv/lib/python3.10/site-packages/httpx/_client.py\" target=\"_blank\"><span style=\"color: #7f7f7f; text-decoration-color: #7f7f7f\">_client.py</span></a><span style=\"color: #7f7f7f; text-decoration-color: #7f7f7f\">:</span><a href=\"file:///Users/kimbwook/PycharmProjects/fast-campus/venv/lib/python3.10/site-packages/httpx/_client.py#1773\" target=\"_blank\"><span style=\"color: #7f7f7f; text-decoration-color: #7f7f7f\">1773</span></a>\n",
       "<span style=\"color: #7fbfbf; text-decoration-color: #7fbfbf\">                    </span>         <span style=\"color: #0000ff; text-decoration-color: #0000ff; text-decoration: underline\">https://api.cloud.llamaindex.ai/api/parsing/job/000c0e45-75e7-481e-9eb</span> <span style=\"color: #7f7f7f; text-decoration-color: #7f7f7f\">               </span>\n",
       "<span style=\"color: #7fbfbf; text-decoration-color: #7fbfbf\">                    </span>         <span style=\"color: #0000ff; text-decoration-color: #0000ff; text-decoration: underline\">9-fe7153688325</span> <span style=\"color: #008000; text-decoration-color: #008000\">\"HTTP/1.1 200 OK\"</span>                                       <span style=\"color: #7f7f7f; text-decoration-color: #7f7f7f\">               </span>\n",
       "</pre>\n"
      ]
     },
     "metadata": {},
     "output_type": "display_data"
    },
    {
     "data": {
      "text/plain": [
       "\u001B[2;36m                   \u001B[0m\u001B[2;36m \u001B[0m\u001B[34mINFO    \u001B[0m \u001B[1m[\u001B[0m_client.py:\u001B[1;36m1773\u001B[0m\u001B[1m]\u001B[0m >> HTTP Request: \u001B[1;33mGET\u001B[0m                                 \u001B]8;id=376759;file:///Users/kimbwook/PycharmProjects/fast-campus/venv/lib/python3.10/site-packages/httpx/_client.py\u001B\\\u001B[2m_client.py\u001B[0m\u001B]8;;\u001B\\\u001B[2m:\u001B[0m\u001B]8;id=800866;file:///Users/kimbwook/PycharmProjects/fast-campus/venv/lib/python3.10/site-packages/httpx/_client.py#1773\u001B\\\u001B[2m1773\u001B[0m\u001B]8;;\u001B\\\n",
       "\u001B[2;36m                    \u001B[0m         \u001B[4;94mhttps://api.cloud.llamaindex.ai/api/parsing/job/cd595c93-9a88-475b-a5a\u001B[0m \u001B[2m               \u001B[0m\n",
       "\u001B[2;36m                    \u001B[0m         \u001B[4;94m4-39c94a0fcc99\u001B[0m \u001B[32m\"HTTP/1.1 200 OK\"\u001B[0m                                       \u001B[2m               \u001B[0m\n"
      ],
      "text/html": [
       "<pre style=\"white-space:pre;overflow-x:auto;line-height:normal;font-family:Menlo,'DejaVu Sans Mono',consolas,'Courier New',monospace\"><span style=\"color: #7fbfbf; text-decoration-color: #7fbfbf\">                    </span><span style=\"color: #000080; text-decoration-color: #000080\">INFO    </span> <span style=\"font-weight: bold\">[</span>_client.py:<span style=\"color: #008080; text-decoration-color: #008080; font-weight: bold\">1773</span><span style=\"font-weight: bold\">]</span> &gt;&gt; HTTP Request: <span style=\"color: #808000; text-decoration-color: #808000; font-weight: bold\">GET</span>                                 <a href=\"file:///Users/kimbwook/PycharmProjects/fast-campus/venv/lib/python3.10/site-packages/httpx/_client.py\" target=\"_blank\"><span style=\"color: #7f7f7f; text-decoration-color: #7f7f7f\">_client.py</span></a><span style=\"color: #7f7f7f; text-decoration-color: #7f7f7f\">:</span><a href=\"file:///Users/kimbwook/PycharmProjects/fast-campus/venv/lib/python3.10/site-packages/httpx/_client.py#1773\" target=\"_blank\"><span style=\"color: #7f7f7f; text-decoration-color: #7f7f7f\">1773</span></a>\n",
       "<span style=\"color: #7fbfbf; text-decoration-color: #7fbfbf\">                    </span>         <span style=\"color: #0000ff; text-decoration-color: #0000ff; text-decoration: underline\">https://api.cloud.llamaindex.ai/api/parsing/job/cd595c93-9a88-475b-a5a</span> <span style=\"color: #7f7f7f; text-decoration-color: #7f7f7f\">               </span>\n",
       "<span style=\"color: #7fbfbf; text-decoration-color: #7fbfbf\">                    </span>         <span style=\"color: #0000ff; text-decoration-color: #0000ff; text-decoration: underline\">4-39c94a0fcc99</span> <span style=\"color: #008000; text-decoration-color: #008000\">\"HTTP/1.1 200 OK\"</span>                                       <span style=\"color: #7f7f7f; text-decoration-color: #7f7f7f\">               </span>\n",
       "</pre>\n"
      ]
     },
     "metadata": {},
     "output_type": "display_data"
    },
    {
     "data": {
      "text/plain": [
       "\u001B[2;36m                   \u001B[0m\u001B[2;36m \u001B[0m\u001B[34mINFO    \u001B[0m \u001B[1m[\u001B[0m_client.py:\u001B[1;36m1773\u001B[0m\u001B[1m]\u001B[0m >> HTTP Request: \u001B[1;33mGET\u001B[0m                                 \u001B]8;id=718486;file:///Users/kimbwook/PycharmProjects/fast-campus/venv/lib/python3.10/site-packages/httpx/_client.py\u001B\\\u001B[2m_client.py\u001B[0m\u001B]8;;\u001B\\\u001B[2m:\u001B[0m\u001B]8;id=307347;file:///Users/kimbwook/PycharmProjects/fast-campus/venv/lib/python3.10/site-packages/httpx/_client.py#1773\u001B\\\u001B[2m1773\u001B[0m\u001B]8;;\u001B\\\n",
       "\u001B[2;36m                    \u001B[0m         \u001B[4;94mhttps://api.cloud.llamaindex.ai/api/parsing/job/f65ca0b7-019d-45e0-9de\u001B[0m \u001B[2m               \u001B[0m\n",
       "\u001B[2;36m                    \u001B[0m         \u001B[4;94m9-327e49d455c9\u001B[0m \u001B[32m\"HTTP/1.1 200 OK\"\u001B[0m                                       \u001B[2m               \u001B[0m\n"
      ],
      "text/html": [
       "<pre style=\"white-space:pre;overflow-x:auto;line-height:normal;font-family:Menlo,'DejaVu Sans Mono',consolas,'Courier New',monospace\"><span style=\"color: #7fbfbf; text-decoration-color: #7fbfbf\">                    </span><span style=\"color: #000080; text-decoration-color: #000080\">INFO    </span> <span style=\"font-weight: bold\">[</span>_client.py:<span style=\"color: #008080; text-decoration-color: #008080; font-weight: bold\">1773</span><span style=\"font-weight: bold\">]</span> &gt;&gt; HTTP Request: <span style=\"color: #808000; text-decoration-color: #808000; font-weight: bold\">GET</span>                                 <a href=\"file:///Users/kimbwook/PycharmProjects/fast-campus/venv/lib/python3.10/site-packages/httpx/_client.py\" target=\"_blank\"><span style=\"color: #7f7f7f; text-decoration-color: #7f7f7f\">_client.py</span></a><span style=\"color: #7f7f7f; text-decoration-color: #7f7f7f\">:</span><a href=\"file:///Users/kimbwook/PycharmProjects/fast-campus/venv/lib/python3.10/site-packages/httpx/_client.py#1773\" target=\"_blank\"><span style=\"color: #7f7f7f; text-decoration-color: #7f7f7f\">1773</span></a>\n",
       "<span style=\"color: #7fbfbf; text-decoration-color: #7fbfbf\">                    </span>         <span style=\"color: #0000ff; text-decoration-color: #0000ff; text-decoration: underline\">https://api.cloud.llamaindex.ai/api/parsing/job/f65ca0b7-019d-45e0-9de</span> <span style=\"color: #7f7f7f; text-decoration-color: #7f7f7f\">               </span>\n",
       "<span style=\"color: #7fbfbf; text-decoration-color: #7fbfbf\">                    </span>         <span style=\"color: #0000ff; text-decoration-color: #0000ff; text-decoration: underline\">9-327e49d455c9</span> <span style=\"color: #008000; text-decoration-color: #008000\">\"HTTP/1.1 200 OK\"</span>                                       <span style=\"color: #7f7f7f; text-decoration-color: #7f7f7f\">               </span>\n",
       "</pre>\n"
      ]
     },
     "metadata": {},
     "output_type": "display_data"
    },
    {
     "data": {
      "text/plain": [
       "\u001B[2;36m                   \u001B[0m\u001B[2;36m \u001B[0m\u001B[34mINFO    \u001B[0m \u001B[1m[\u001B[0m_client.py:\u001B[1;36m1773\u001B[0m\u001B[1m]\u001B[0m >> HTTP Request: \u001B[1;33mGET\u001B[0m                                 \u001B]8;id=539802;file:///Users/kimbwook/PycharmProjects/fast-campus/venv/lib/python3.10/site-packages/httpx/_client.py\u001B\\\u001B[2m_client.py\u001B[0m\u001B]8;;\u001B\\\u001B[2m:\u001B[0m\u001B]8;id=492582;file:///Users/kimbwook/PycharmProjects/fast-campus/venv/lib/python3.10/site-packages/httpx/_client.py#1773\u001B\\\u001B[2m1773\u001B[0m\u001B]8;;\u001B\\\n",
       "\u001B[2;36m                    \u001B[0m         \u001B[4;94mhttps://api.cloud.llamaindex.ai/api/parsing/job/0cdb4641-8b32-4273-a79\u001B[0m \u001B[2m               \u001B[0m\n",
       "\u001B[2;36m                    \u001B[0m         \u001B[4;94m8-1b5289df70a4\u001B[0m \u001B[32m\"HTTP/1.1 200 OK\"\u001B[0m                                       \u001B[2m               \u001B[0m\n"
      ],
      "text/html": [
       "<pre style=\"white-space:pre;overflow-x:auto;line-height:normal;font-family:Menlo,'DejaVu Sans Mono',consolas,'Courier New',monospace\"><span style=\"color: #7fbfbf; text-decoration-color: #7fbfbf\">                    </span><span style=\"color: #000080; text-decoration-color: #000080\">INFO    </span> <span style=\"font-weight: bold\">[</span>_client.py:<span style=\"color: #008080; text-decoration-color: #008080; font-weight: bold\">1773</span><span style=\"font-weight: bold\">]</span> &gt;&gt; HTTP Request: <span style=\"color: #808000; text-decoration-color: #808000; font-weight: bold\">GET</span>                                 <a href=\"file:///Users/kimbwook/PycharmProjects/fast-campus/venv/lib/python3.10/site-packages/httpx/_client.py\" target=\"_blank\"><span style=\"color: #7f7f7f; text-decoration-color: #7f7f7f\">_client.py</span></a><span style=\"color: #7f7f7f; text-decoration-color: #7f7f7f\">:</span><a href=\"file:///Users/kimbwook/PycharmProjects/fast-campus/venv/lib/python3.10/site-packages/httpx/_client.py#1773\" target=\"_blank\"><span style=\"color: #7f7f7f; text-decoration-color: #7f7f7f\">1773</span></a>\n",
       "<span style=\"color: #7fbfbf; text-decoration-color: #7fbfbf\">                    </span>         <span style=\"color: #0000ff; text-decoration-color: #0000ff; text-decoration: underline\">https://api.cloud.llamaindex.ai/api/parsing/job/0cdb4641-8b32-4273-a79</span> <span style=\"color: #7f7f7f; text-decoration-color: #7f7f7f\">               </span>\n",
       "<span style=\"color: #7fbfbf; text-decoration-color: #7fbfbf\">                    </span>         <span style=\"color: #0000ff; text-decoration-color: #0000ff; text-decoration: underline\">8-1b5289df70a4</span> <span style=\"color: #008000; text-decoration-color: #008000\">\"HTTP/1.1 200 OK\"</span>                                       <span style=\"color: #7f7f7f; text-decoration-color: #7f7f7f\">               </span>\n",
       "</pre>\n"
      ]
     },
     "metadata": {},
     "output_type": "display_data"
    },
    {
     "data": {
      "text/plain": [
       "\u001B[2;36m[12/21/24 16:20:04]\u001B[0m\u001B[2;36m \u001B[0m\u001B[34mINFO    \u001B[0m \u001B[1m[\u001B[0m_client.py:\u001B[1;36m1773\u001B[0m\u001B[1m]\u001B[0m >> HTTP Request: \u001B[1;33mGET\u001B[0m                                 \u001B]8;id=551530;file:///Users/kimbwook/PycharmProjects/fast-campus/venv/lib/python3.10/site-packages/httpx/_client.py\u001B\\\u001B[2m_client.py\u001B[0m\u001B]8;;\u001B\\\u001B[2m:\u001B[0m\u001B]8;id=877875;file:///Users/kimbwook/PycharmProjects/fast-campus/venv/lib/python3.10/site-packages/httpx/_client.py#1773\u001B\\\u001B[2m1773\u001B[0m\u001B]8;;\u001B\\\n",
       "\u001B[2;36m                    \u001B[0m         \u001B[4;94mhttps://api.cloud.llamaindex.ai/api/parsing/job/a3256f64-4b99-489c-8fc\u001B[0m \u001B[2m               \u001B[0m\n",
       "\u001B[2;36m                    \u001B[0m         \u001B[4;94m0-20e98cbfd184\u001B[0m \u001B[32m\"HTTP/1.1 200 OK\"\u001B[0m                                       \u001B[2m               \u001B[0m\n"
      ],
      "text/html": [
       "<pre style=\"white-space:pre;overflow-x:auto;line-height:normal;font-family:Menlo,'DejaVu Sans Mono',consolas,'Courier New',monospace\"><span style=\"color: #7fbfbf; text-decoration-color: #7fbfbf\">[12/21/24 16:20:04] </span><span style=\"color: #000080; text-decoration-color: #000080\">INFO    </span> <span style=\"font-weight: bold\">[</span>_client.py:<span style=\"color: #008080; text-decoration-color: #008080; font-weight: bold\">1773</span><span style=\"font-weight: bold\">]</span> &gt;&gt; HTTP Request: <span style=\"color: #808000; text-decoration-color: #808000; font-weight: bold\">GET</span>                                 <a href=\"file:///Users/kimbwook/PycharmProjects/fast-campus/venv/lib/python3.10/site-packages/httpx/_client.py\" target=\"_blank\"><span style=\"color: #7f7f7f; text-decoration-color: #7f7f7f\">_client.py</span></a><span style=\"color: #7f7f7f; text-decoration-color: #7f7f7f\">:</span><a href=\"file:///Users/kimbwook/PycharmProjects/fast-campus/venv/lib/python3.10/site-packages/httpx/_client.py#1773\" target=\"_blank\"><span style=\"color: #7f7f7f; text-decoration-color: #7f7f7f\">1773</span></a>\n",
       "<span style=\"color: #7fbfbf; text-decoration-color: #7fbfbf\">                    </span>         <span style=\"color: #0000ff; text-decoration-color: #0000ff; text-decoration: underline\">https://api.cloud.llamaindex.ai/api/parsing/job/a3256f64-4b99-489c-8fc</span> <span style=\"color: #7f7f7f; text-decoration-color: #7f7f7f\">               </span>\n",
       "<span style=\"color: #7fbfbf; text-decoration-color: #7fbfbf\">                    </span>         <span style=\"color: #0000ff; text-decoration-color: #0000ff; text-decoration: underline\">0-20e98cbfd184</span> <span style=\"color: #008000; text-decoration-color: #008000\">\"HTTP/1.1 200 OK\"</span>                                       <span style=\"color: #7f7f7f; text-decoration-color: #7f7f7f\">               </span>\n",
       "</pre>\n"
      ]
     },
     "metadata": {},
     "output_type": "display_data"
    },
    {
     "data": {
      "text/plain": [
       "\u001B[2;36m                   \u001B[0m\u001B[2;36m \u001B[0m\u001B[34mINFO    \u001B[0m \u001B[1m[\u001B[0m_client.py:\u001B[1;36m1773\u001B[0m\u001B[1m]\u001B[0m >> HTTP Request: \u001B[1;33mGET\u001B[0m                                 \u001B]8;id=823839;file:///Users/kimbwook/PycharmProjects/fast-campus/venv/lib/python3.10/site-packages/httpx/_client.py\u001B\\\u001B[2m_client.py\u001B[0m\u001B]8;;\u001B\\\u001B[2m:\u001B[0m\u001B]8;id=525012;file:///Users/kimbwook/PycharmProjects/fast-campus/venv/lib/python3.10/site-packages/httpx/_client.py#1773\u001B\\\u001B[2m1773\u001B[0m\u001B]8;;\u001B\\\n",
       "\u001B[2;36m                    \u001B[0m         \u001B[4;94mhttps://api.cloud.llamaindex.ai/api/parsing/job/62b035fa-fecb-4fb3-b88\u001B[0m \u001B[2m               \u001B[0m\n",
       "\u001B[2;36m                    \u001B[0m         \u001B[4;94mf-48c45f050929\u001B[0m \u001B[32m\"HTTP/1.1 200 OK\"\u001B[0m                                       \u001B[2m               \u001B[0m\n"
      ],
      "text/html": [
       "<pre style=\"white-space:pre;overflow-x:auto;line-height:normal;font-family:Menlo,'DejaVu Sans Mono',consolas,'Courier New',monospace\"><span style=\"color: #7fbfbf; text-decoration-color: #7fbfbf\">                    </span><span style=\"color: #000080; text-decoration-color: #000080\">INFO    </span> <span style=\"font-weight: bold\">[</span>_client.py:<span style=\"color: #008080; text-decoration-color: #008080; font-weight: bold\">1773</span><span style=\"font-weight: bold\">]</span> &gt;&gt; HTTP Request: <span style=\"color: #808000; text-decoration-color: #808000; font-weight: bold\">GET</span>                                 <a href=\"file:///Users/kimbwook/PycharmProjects/fast-campus/venv/lib/python3.10/site-packages/httpx/_client.py\" target=\"_blank\"><span style=\"color: #7f7f7f; text-decoration-color: #7f7f7f\">_client.py</span></a><span style=\"color: #7f7f7f; text-decoration-color: #7f7f7f\">:</span><a href=\"file:///Users/kimbwook/PycharmProjects/fast-campus/venv/lib/python3.10/site-packages/httpx/_client.py#1773\" target=\"_blank\"><span style=\"color: #7f7f7f; text-decoration-color: #7f7f7f\">1773</span></a>\n",
       "<span style=\"color: #7fbfbf; text-decoration-color: #7fbfbf\">                    </span>         <span style=\"color: #0000ff; text-decoration-color: #0000ff; text-decoration: underline\">https://api.cloud.llamaindex.ai/api/parsing/job/62b035fa-fecb-4fb3-b88</span> <span style=\"color: #7f7f7f; text-decoration-color: #7f7f7f\">               </span>\n",
       "<span style=\"color: #7fbfbf; text-decoration-color: #7fbfbf\">                    </span>         <span style=\"color: #0000ff; text-decoration-color: #0000ff; text-decoration: underline\">f-48c45f050929</span> <span style=\"color: #008000; text-decoration-color: #008000\">\"HTTP/1.1 200 OK\"</span>                                       <span style=\"color: #7f7f7f; text-decoration-color: #7f7f7f\">               </span>\n",
       "</pre>\n"
      ]
     },
     "metadata": {},
     "output_type": "display_data"
    },
    {
     "data": {
      "text/plain": [
       "\u001B[2;36m[12/21/24 16:20:06]\u001B[0m\u001B[2;36m \u001B[0m\u001B[34mINFO    \u001B[0m \u001B[1m[\u001B[0m_client.py:\u001B[1;36m1773\u001B[0m\u001B[1m]\u001B[0m >> HTTP Request: \u001B[1;33mGET\u001B[0m                                 \u001B]8;id=803683;file:///Users/kimbwook/PycharmProjects/fast-campus/venv/lib/python3.10/site-packages/httpx/_client.py\u001B\\\u001B[2m_client.py\u001B[0m\u001B]8;;\u001B\\\u001B[2m:\u001B[0m\u001B]8;id=951071;file:///Users/kimbwook/PycharmProjects/fast-campus/venv/lib/python3.10/site-packages/httpx/_client.py#1773\u001B\\\u001B[2m1773\u001B[0m\u001B]8;;\u001B\\\n",
       "\u001B[2;36m                    \u001B[0m         \u001B[4;94mhttps://api.cloud.llamaindex.ai/api/parsing/job/6ec29869-6062-464e-9cd\u001B[0m \u001B[2m               \u001B[0m\n",
       "\u001B[2;36m                    \u001B[0m         \u001B[4;94m7-0a7593504b0f\u001B[0m \u001B[32m\"HTTP/1.1 200 OK\"\u001B[0m                                       \u001B[2m               \u001B[0m\n"
      ],
      "text/html": [
       "<pre style=\"white-space:pre;overflow-x:auto;line-height:normal;font-family:Menlo,'DejaVu Sans Mono',consolas,'Courier New',monospace\"><span style=\"color: #7fbfbf; text-decoration-color: #7fbfbf\">[12/21/24 16:20:06] </span><span style=\"color: #000080; text-decoration-color: #000080\">INFO    </span> <span style=\"font-weight: bold\">[</span>_client.py:<span style=\"color: #008080; text-decoration-color: #008080; font-weight: bold\">1773</span><span style=\"font-weight: bold\">]</span> &gt;&gt; HTTP Request: <span style=\"color: #808000; text-decoration-color: #808000; font-weight: bold\">GET</span>                                 <a href=\"file:///Users/kimbwook/PycharmProjects/fast-campus/venv/lib/python3.10/site-packages/httpx/_client.py\" target=\"_blank\"><span style=\"color: #7f7f7f; text-decoration-color: #7f7f7f\">_client.py</span></a><span style=\"color: #7f7f7f; text-decoration-color: #7f7f7f\">:</span><a href=\"file:///Users/kimbwook/PycharmProjects/fast-campus/venv/lib/python3.10/site-packages/httpx/_client.py#1773\" target=\"_blank\"><span style=\"color: #7f7f7f; text-decoration-color: #7f7f7f\">1773</span></a>\n",
       "<span style=\"color: #7fbfbf; text-decoration-color: #7fbfbf\">                    </span>         <span style=\"color: #0000ff; text-decoration-color: #0000ff; text-decoration: underline\">https://api.cloud.llamaindex.ai/api/parsing/job/6ec29869-6062-464e-9cd</span> <span style=\"color: #7f7f7f; text-decoration-color: #7f7f7f\">               </span>\n",
       "<span style=\"color: #7fbfbf; text-decoration-color: #7fbfbf\">                    </span>         <span style=\"color: #0000ff; text-decoration-color: #0000ff; text-decoration: underline\">7-0a7593504b0f</span> <span style=\"color: #008000; text-decoration-color: #008000\">\"HTTP/1.1 200 OK\"</span>                                       <span style=\"color: #7f7f7f; text-decoration-color: #7f7f7f\">               </span>\n",
       "</pre>\n"
      ]
     },
     "metadata": {},
     "output_type": "display_data"
    },
    {
     "data": {
      "text/plain": [
       "\u001B[2;36m                   \u001B[0m\u001B[2;36m \u001B[0m\u001B[34mINFO    \u001B[0m \u001B[1m[\u001B[0m_client.py:\u001B[1;36m1773\u001B[0m\u001B[1m]\u001B[0m >> HTTP Request: \u001B[1;33mGET\u001B[0m                                 \u001B]8;id=447195;file:///Users/kimbwook/PycharmProjects/fast-campus/venv/lib/python3.10/site-packages/httpx/_client.py\u001B\\\u001B[2m_client.py\u001B[0m\u001B]8;;\u001B\\\u001B[2m:\u001B[0m\u001B]8;id=149369;file:///Users/kimbwook/PycharmProjects/fast-campus/venv/lib/python3.10/site-packages/httpx/_client.py#1773\u001B\\\u001B[2m1773\u001B[0m\u001B]8;;\u001B\\\n",
       "\u001B[2;36m                    \u001B[0m         \u001B[4;94mhttps://api.cloud.llamaindex.ai/api/parsing/job/000c0e45-75e7-481e-9eb\u001B[0m \u001B[2m               \u001B[0m\n",
       "\u001B[2;36m                    \u001B[0m         \u001B[4;94m9-fe7153688325\u001B[0m \u001B[32m\"HTTP/1.1 200 OK\"\u001B[0m                                       \u001B[2m               \u001B[0m\n"
      ],
      "text/html": [
       "<pre style=\"white-space:pre;overflow-x:auto;line-height:normal;font-family:Menlo,'DejaVu Sans Mono',consolas,'Courier New',monospace\"><span style=\"color: #7fbfbf; text-decoration-color: #7fbfbf\">                    </span><span style=\"color: #000080; text-decoration-color: #000080\">INFO    </span> <span style=\"font-weight: bold\">[</span>_client.py:<span style=\"color: #008080; text-decoration-color: #008080; font-weight: bold\">1773</span><span style=\"font-weight: bold\">]</span> &gt;&gt; HTTP Request: <span style=\"color: #808000; text-decoration-color: #808000; font-weight: bold\">GET</span>                                 <a href=\"file:///Users/kimbwook/PycharmProjects/fast-campus/venv/lib/python3.10/site-packages/httpx/_client.py\" target=\"_blank\"><span style=\"color: #7f7f7f; text-decoration-color: #7f7f7f\">_client.py</span></a><span style=\"color: #7f7f7f; text-decoration-color: #7f7f7f\">:</span><a href=\"file:///Users/kimbwook/PycharmProjects/fast-campus/venv/lib/python3.10/site-packages/httpx/_client.py#1773\" target=\"_blank\"><span style=\"color: #7f7f7f; text-decoration-color: #7f7f7f\">1773</span></a>\n",
       "<span style=\"color: #7fbfbf; text-decoration-color: #7fbfbf\">                    </span>         <span style=\"color: #0000ff; text-decoration-color: #0000ff; text-decoration: underline\">https://api.cloud.llamaindex.ai/api/parsing/job/000c0e45-75e7-481e-9eb</span> <span style=\"color: #7f7f7f; text-decoration-color: #7f7f7f\">               </span>\n",
       "<span style=\"color: #7fbfbf; text-decoration-color: #7fbfbf\">                    </span>         <span style=\"color: #0000ff; text-decoration-color: #0000ff; text-decoration: underline\">9-fe7153688325</span> <span style=\"color: #008000; text-decoration-color: #008000\">\"HTTP/1.1 200 OK\"</span>                                       <span style=\"color: #7f7f7f; text-decoration-color: #7f7f7f\">               </span>\n",
       "</pre>\n"
      ]
     },
     "metadata": {},
     "output_type": "display_data"
    },
    {
     "data": {
      "text/plain": [
       "\u001B[2;36m                   \u001B[0m\u001B[2;36m \u001B[0m\u001B[34mINFO    \u001B[0m \u001B[1m[\u001B[0m_client.py:\u001B[1;36m1773\u001B[0m\u001B[1m]\u001B[0m >> HTTP Request: \u001B[1;33mGET\u001B[0m                                 \u001B]8;id=341555;file:///Users/kimbwook/PycharmProjects/fast-campus/venv/lib/python3.10/site-packages/httpx/_client.py\u001B\\\u001B[2m_client.py\u001B[0m\u001B]8;;\u001B\\\u001B[2m:\u001B[0m\u001B]8;id=385491;file:///Users/kimbwook/PycharmProjects/fast-campus/venv/lib/python3.10/site-packages/httpx/_client.py#1773\u001B\\\u001B[2m1773\u001B[0m\u001B]8;;\u001B\\\n",
       "\u001B[2;36m                    \u001B[0m         \u001B[4;94mhttps://api.cloud.llamaindex.ai/api/parsing/job/f65ca0b7-019d-45e0-9de\u001B[0m \u001B[2m               \u001B[0m\n",
       "\u001B[2;36m                    \u001B[0m         \u001B[4;94m9-327e49d455c9\u001B[0m \u001B[32m\"HTTP/1.1 200 OK\"\u001B[0m                                       \u001B[2m               \u001B[0m\n"
      ],
      "text/html": [
       "<pre style=\"white-space:pre;overflow-x:auto;line-height:normal;font-family:Menlo,'DejaVu Sans Mono',consolas,'Courier New',monospace\"><span style=\"color: #7fbfbf; text-decoration-color: #7fbfbf\">                    </span><span style=\"color: #000080; text-decoration-color: #000080\">INFO    </span> <span style=\"font-weight: bold\">[</span>_client.py:<span style=\"color: #008080; text-decoration-color: #008080; font-weight: bold\">1773</span><span style=\"font-weight: bold\">]</span> &gt;&gt; HTTP Request: <span style=\"color: #808000; text-decoration-color: #808000; font-weight: bold\">GET</span>                                 <a href=\"file:///Users/kimbwook/PycharmProjects/fast-campus/venv/lib/python3.10/site-packages/httpx/_client.py\" target=\"_blank\"><span style=\"color: #7f7f7f; text-decoration-color: #7f7f7f\">_client.py</span></a><span style=\"color: #7f7f7f; text-decoration-color: #7f7f7f\">:</span><a href=\"file:///Users/kimbwook/PycharmProjects/fast-campus/venv/lib/python3.10/site-packages/httpx/_client.py#1773\" target=\"_blank\"><span style=\"color: #7f7f7f; text-decoration-color: #7f7f7f\">1773</span></a>\n",
       "<span style=\"color: #7fbfbf; text-decoration-color: #7fbfbf\">                    </span>         <span style=\"color: #0000ff; text-decoration-color: #0000ff; text-decoration: underline\">https://api.cloud.llamaindex.ai/api/parsing/job/f65ca0b7-019d-45e0-9de</span> <span style=\"color: #7f7f7f; text-decoration-color: #7f7f7f\">               </span>\n",
       "<span style=\"color: #7fbfbf; text-decoration-color: #7fbfbf\">                    </span>         <span style=\"color: #0000ff; text-decoration-color: #0000ff; text-decoration: underline\">9-327e49d455c9</span> <span style=\"color: #008000; text-decoration-color: #008000\">\"HTTP/1.1 200 OK\"</span>                                       <span style=\"color: #7f7f7f; text-decoration-color: #7f7f7f\">               </span>\n",
       "</pre>\n"
      ]
     },
     "metadata": {},
     "output_type": "display_data"
    },
    {
     "data": {
      "text/plain": [
       "\u001B[2;36m                   \u001B[0m\u001B[2;36m \u001B[0m\u001B[34mINFO    \u001B[0m \u001B[1m[\u001B[0m_client.py:\u001B[1;36m1773\u001B[0m\u001B[1m]\u001B[0m >> HTTP Request: \u001B[1;33mGET\u001B[0m                                 \u001B]8;id=483593;file:///Users/kimbwook/PycharmProjects/fast-campus/venv/lib/python3.10/site-packages/httpx/_client.py\u001B\\\u001B[2m_client.py\u001B[0m\u001B]8;;\u001B\\\u001B[2m:\u001B[0m\u001B]8;id=732801;file:///Users/kimbwook/PycharmProjects/fast-campus/venv/lib/python3.10/site-packages/httpx/_client.py#1773\u001B\\\u001B[2m1773\u001B[0m\u001B]8;;\u001B\\\n",
       "\u001B[2;36m                    \u001B[0m         \u001B[4;94mhttps://api.cloud.llamaindex.ai/api/parsing/job/0cdb4641-8b32-4273-a79\u001B[0m \u001B[2m               \u001B[0m\n",
       "\u001B[2;36m                    \u001B[0m         \u001B[4;94m8-1b5289df70a4\u001B[0m \u001B[32m\"HTTP/1.1 200 OK\"\u001B[0m                                       \u001B[2m               \u001B[0m\n"
      ],
      "text/html": [
       "<pre style=\"white-space:pre;overflow-x:auto;line-height:normal;font-family:Menlo,'DejaVu Sans Mono',consolas,'Courier New',monospace\"><span style=\"color: #7fbfbf; text-decoration-color: #7fbfbf\">                    </span><span style=\"color: #000080; text-decoration-color: #000080\">INFO    </span> <span style=\"font-weight: bold\">[</span>_client.py:<span style=\"color: #008080; text-decoration-color: #008080; font-weight: bold\">1773</span><span style=\"font-weight: bold\">]</span> &gt;&gt; HTTP Request: <span style=\"color: #808000; text-decoration-color: #808000; font-weight: bold\">GET</span>                                 <a href=\"file:///Users/kimbwook/PycharmProjects/fast-campus/venv/lib/python3.10/site-packages/httpx/_client.py\" target=\"_blank\"><span style=\"color: #7f7f7f; text-decoration-color: #7f7f7f\">_client.py</span></a><span style=\"color: #7f7f7f; text-decoration-color: #7f7f7f\">:</span><a href=\"file:///Users/kimbwook/PycharmProjects/fast-campus/venv/lib/python3.10/site-packages/httpx/_client.py#1773\" target=\"_blank\"><span style=\"color: #7f7f7f; text-decoration-color: #7f7f7f\">1773</span></a>\n",
       "<span style=\"color: #7fbfbf; text-decoration-color: #7fbfbf\">                    </span>         <span style=\"color: #0000ff; text-decoration-color: #0000ff; text-decoration: underline\">https://api.cloud.llamaindex.ai/api/parsing/job/0cdb4641-8b32-4273-a79</span> <span style=\"color: #7f7f7f; text-decoration-color: #7f7f7f\">               </span>\n",
       "<span style=\"color: #7fbfbf; text-decoration-color: #7fbfbf\">                    </span>         <span style=\"color: #0000ff; text-decoration-color: #0000ff; text-decoration: underline\">8-1b5289df70a4</span> <span style=\"color: #008000; text-decoration-color: #008000\">\"HTTP/1.1 200 OK\"</span>                                       <span style=\"color: #7f7f7f; text-decoration-color: #7f7f7f\">               </span>\n",
       "</pre>\n"
      ]
     },
     "metadata": {},
     "output_type": "display_data"
    },
    {
     "data": {
      "text/plain": [
       "\u001B[2;36m                   \u001B[0m\u001B[2;36m \u001B[0m\u001B[34mINFO    \u001B[0m \u001B[1m[\u001B[0m_client.py:\u001B[1;36m1773\u001B[0m\u001B[1m]\u001B[0m >> HTTP Request: \u001B[1;33mGET\u001B[0m                                 \u001B]8;id=542859;file:///Users/kimbwook/PycharmProjects/fast-campus/venv/lib/python3.10/site-packages/httpx/_client.py\u001B\\\u001B[2m_client.py\u001B[0m\u001B]8;;\u001B\\\u001B[2m:\u001B[0m\u001B]8;id=31023;file:///Users/kimbwook/PycharmProjects/fast-campus/venv/lib/python3.10/site-packages/httpx/_client.py#1773\u001B\\\u001B[2m1773\u001B[0m\u001B]8;;\u001B\\\n",
       "\u001B[2;36m                    \u001B[0m         \u001B[4;94mhttps://api.cloud.llamaindex.ai/api/parsing/job/cd595c93-9a88-475b-a5a\u001B[0m \u001B[2m               \u001B[0m\n",
       "\u001B[2;36m                    \u001B[0m         \u001B[4;94m4-39c94a0fcc99\u001B[0m \u001B[32m\"HTTP/1.1 200 OK\"\u001B[0m                                       \u001B[2m               \u001B[0m\n"
      ],
      "text/html": [
       "<pre style=\"white-space:pre;overflow-x:auto;line-height:normal;font-family:Menlo,'DejaVu Sans Mono',consolas,'Courier New',monospace\"><span style=\"color: #7fbfbf; text-decoration-color: #7fbfbf\">                    </span><span style=\"color: #000080; text-decoration-color: #000080\">INFO    </span> <span style=\"font-weight: bold\">[</span>_client.py:<span style=\"color: #008080; text-decoration-color: #008080; font-weight: bold\">1773</span><span style=\"font-weight: bold\">]</span> &gt;&gt; HTTP Request: <span style=\"color: #808000; text-decoration-color: #808000; font-weight: bold\">GET</span>                                 <a href=\"file:///Users/kimbwook/PycharmProjects/fast-campus/venv/lib/python3.10/site-packages/httpx/_client.py\" target=\"_blank\"><span style=\"color: #7f7f7f; text-decoration-color: #7f7f7f\">_client.py</span></a><span style=\"color: #7f7f7f; text-decoration-color: #7f7f7f\">:</span><a href=\"file:///Users/kimbwook/PycharmProjects/fast-campus/venv/lib/python3.10/site-packages/httpx/_client.py#1773\" target=\"_blank\"><span style=\"color: #7f7f7f; text-decoration-color: #7f7f7f\">1773</span></a>\n",
       "<span style=\"color: #7fbfbf; text-decoration-color: #7fbfbf\">                    </span>         <span style=\"color: #0000ff; text-decoration-color: #0000ff; text-decoration: underline\">https://api.cloud.llamaindex.ai/api/parsing/job/cd595c93-9a88-475b-a5a</span> <span style=\"color: #7f7f7f; text-decoration-color: #7f7f7f\">               </span>\n",
       "<span style=\"color: #7fbfbf; text-decoration-color: #7fbfbf\">                    </span>         <span style=\"color: #0000ff; text-decoration-color: #0000ff; text-decoration: underline\">4-39c94a0fcc99</span> <span style=\"color: #008000; text-decoration-color: #008000\">\"HTTP/1.1 200 OK\"</span>                                       <span style=\"color: #7f7f7f; text-decoration-color: #7f7f7f\">               </span>\n",
       "</pre>\n"
      ]
     },
     "metadata": {},
     "output_type": "display_data"
    },
    {
     "data": {
      "text/plain": [
       "\u001B[2;36m                   \u001B[0m\u001B[2;36m \u001B[0m\u001B[34mINFO    \u001B[0m \u001B[1m[\u001B[0m_client.py:\u001B[1;36m1773\u001B[0m\u001B[1m]\u001B[0m >> HTTP Request: \u001B[1;33mGET\u001B[0m                                 \u001B]8;id=193189;file:///Users/kimbwook/PycharmProjects/fast-campus/venv/lib/python3.10/site-packages/httpx/_client.py\u001B\\\u001B[2m_client.py\u001B[0m\u001B]8;;\u001B\\\u001B[2m:\u001B[0m\u001B]8;id=87744;file:///Users/kimbwook/PycharmProjects/fast-campus/venv/lib/python3.10/site-packages/httpx/_client.py#1773\u001B\\\u001B[2m1773\u001B[0m\u001B]8;;\u001B\\\n",
       "\u001B[2;36m                    \u001B[0m         \u001B[4;94mhttps://api.cloud.llamaindex.ai/api/parsing/job/62b035fa-fecb-4fb3-b88\u001B[0m \u001B[2m               \u001B[0m\n",
       "\u001B[2;36m                    \u001B[0m         \u001B[4;94mf-48c45f050929\u001B[0m \u001B[32m\"HTTP/1.1 200 OK\"\u001B[0m                                       \u001B[2m               \u001B[0m\n"
      ],
      "text/html": [
       "<pre style=\"white-space:pre;overflow-x:auto;line-height:normal;font-family:Menlo,'DejaVu Sans Mono',consolas,'Courier New',monospace\"><span style=\"color: #7fbfbf; text-decoration-color: #7fbfbf\">                    </span><span style=\"color: #000080; text-decoration-color: #000080\">INFO    </span> <span style=\"font-weight: bold\">[</span>_client.py:<span style=\"color: #008080; text-decoration-color: #008080; font-weight: bold\">1773</span><span style=\"font-weight: bold\">]</span> &gt;&gt; HTTP Request: <span style=\"color: #808000; text-decoration-color: #808000; font-weight: bold\">GET</span>                                 <a href=\"file:///Users/kimbwook/PycharmProjects/fast-campus/venv/lib/python3.10/site-packages/httpx/_client.py\" target=\"_blank\"><span style=\"color: #7f7f7f; text-decoration-color: #7f7f7f\">_client.py</span></a><span style=\"color: #7f7f7f; text-decoration-color: #7f7f7f\">:</span><a href=\"file:///Users/kimbwook/PycharmProjects/fast-campus/venv/lib/python3.10/site-packages/httpx/_client.py#1773\" target=\"_blank\"><span style=\"color: #7f7f7f; text-decoration-color: #7f7f7f\">1773</span></a>\n",
       "<span style=\"color: #7fbfbf; text-decoration-color: #7fbfbf\">                    </span>         <span style=\"color: #0000ff; text-decoration-color: #0000ff; text-decoration: underline\">https://api.cloud.llamaindex.ai/api/parsing/job/62b035fa-fecb-4fb3-b88</span> <span style=\"color: #7f7f7f; text-decoration-color: #7f7f7f\">               </span>\n",
       "<span style=\"color: #7fbfbf; text-decoration-color: #7fbfbf\">                    </span>         <span style=\"color: #0000ff; text-decoration-color: #0000ff; text-decoration: underline\">f-48c45f050929</span> <span style=\"color: #008000; text-decoration-color: #008000\">\"HTTP/1.1 200 OK\"</span>                                       <span style=\"color: #7f7f7f; text-decoration-color: #7f7f7f\">               </span>\n",
       "</pre>\n"
      ]
     },
     "metadata": {},
     "output_type": "display_data"
    },
    {
     "data": {
      "text/plain": [
       "\u001B[2;36m                   \u001B[0m\u001B[2;36m \u001B[0m\u001B[34mINFO    \u001B[0m \u001B[1m[\u001B[0m_client.py:\u001B[1;36m1773\u001B[0m\u001B[1m]\u001B[0m >> HTTP Request: \u001B[1;33mGET\u001B[0m                                 \u001B]8;id=540059;file:///Users/kimbwook/PycharmProjects/fast-campus/venv/lib/python3.10/site-packages/httpx/_client.py\u001B\\\u001B[2m_client.py\u001B[0m\u001B]8;;\u001B\\\u001B[2m:\u001B[0m\u001B]8;id=256899;file:///Users/kimbwook/PycharmProjects/fast-campus/venv/lib/python3.10/site-packages/httpx/_client.py#1773\u001B\\\u001B[2m1773\u001B[0m\u001B]8;;\u001B\\\n",
       "\u001B[2;36m                    \u001B[0m         \u001B[4;94mhttps://api.cloud.llamaindex.ai/api/parsing/job/a3256f64-4b99-489c-8fc\u001B[0m \u001B[2m               \u001B[0m\n",
       "\u001B[2;36m                    \u001B[0m         \u001B[4;94m0-20e98cbfd184\u001B[0m \u001B[32m\"HTTP/1.1 200 OK\"\u001B[0m                                       \u001B[2m               \u001B[0m\n"
      ],
      "text/html": [
       "<pre style=\"white-space:pre;overflow-x:auto;line-height:normal;font-family:Menlo,'DejaVu Sans Mono',consolas,'Courier New',monospace\"><span style=\"color: #7fbfbf; text-decoration-color: #7fbfbf\">                    </span><span style=\"color: #000080; text-decoration-color: #000080\">INFO    </span> <span style=\"font-weight: bold\">[</span>_client.py:<span style=\"color: #008080; text-decoration-color: #008080; font-weight: bold\">1773</span><span style=\"font-weight: bold\">]</span> &gt;&gt; HTTP Request: <span style=\"color: #808000; text-decoration-color: #808000; font-weight: bold\">GET</span>                                 <a href=\"file:///Users/kimbwook/PycharmProjects/fast-campus/venv/lib/python3.10/site-packages/httpx/_client.py\" target=\"_blank\"><span style=\"color: #7f7f7f; text-decoration-color: #7f7f7f\">_client.py</span></a><span style=\"color: #7f7f7f; text-decoration-color: #7f7f7f\">:</span><a href=\"file:///Users/kimbwook/PycharmProjects/fast-campus/venv/lib/python3.10/site-packages/httpx/_client.py#1773\" target=\"_blank\"><span style=\"color: #7f7f7f; text-decoration-color: #7f7f7f\">1773</span></a>\n",
       "<span style=\"color: #7fbfbf; text-decoration-color: #7fbfbf\">                    </span>         <span style=\"color: #0000ff; text-decoration-color: #0000ff; text-decoration: underline\">https://api.cloud.llamaindex.ai/api/parsing/job/a3256f64-4b99-489c-8fc</span> <span style=\"color: #7f7f7f; text-decoration-color: #7f7f7f\">               </span>\n",
       "<span style=\"color: #7fbfbf; text-decoration-color: #7fbfbf\">                    </span>         <span style=\"color: #0000ff; text-decoration-color: #0000ff; text-decoration: underline\">0-20e98cbfd184</span> <span style=\"color: #008000; text-decoration-color: #008000\">\"HTTP/1.1 200 OK\"</span>                                       <span style=\"color: #7f7f7f; text-decoration-color: #7f7f7f\">               </span>\n",
       "</pre>\n"
      ]
     },
     "metadata": {},
     "output_type": "display_data"
    },
    {
     "data": {
      "text/plain": [
       "\u001B[2;36m[12/21/24 16:20:07]\u001B[0m\u001B[2;36m \u001B[0m\u001B[34mINFO    \u001B[0m \u001B[1m[\u001B[0m_client.py:\u001B[1;36m1773\u001B[0m\u001B[1m]\u001B[0m >> HTTP Request: \u001B[1;33mGET\u001B[0m                                 \u001B]8;id=443647;file:///Users/kimbwook/PycharmProjects/fast-campus/venv/lib/python3.10/site-packages/httpx/_client.py\u001B\\\u001B[2m_client.py\u001B[0m\u001B]8;;\u001B\\\u001B[2m:\u001B[0m\u001B]8;id=998374;file:///Users/kimbwook/PycharmProjects/fast-campus/venv/lib/python3.10/site-packages/httpx/_client.py#1773\u001B\\\u001B[2m1773\u001B[0m\u001B]8;;\u001B\\\n",
       "\u001B[2;36m                    \u001B[0m         \u001B[4;94mhttps://api.cloud.llamaindex.ai/api/parsing/job/a3256f64-4b99-489c-8fc\u001B[0m \u001B[2m               \u001B[0m\n",
       "\u001B[2;36m                    \u001B[0m         \u001B[4;94m0-20e98cbfd184/result/markdown\u001B[0m \u001B[32m\"HTTP/1.1 200 OK\"\u001B[0m                       \u001B[2m               \u001B[0m\n"
      ],
      "text/html": [
       "<pre style=\"white-space:pre;overflow-x:auto;line-height:normal;font-family:Menlo,'DejaVu Sans Mono',consolas,'Courier New',monospace\"><span style=\"color: #7fbfbf; text-decoration-color: #7fbfbf\">[12/21/24 16:20:07] </span><span style=\"color: #000080; text-decoration-color: #000080\">INFO    </span> <span style=\"font-weight: bold\">[</span>_client.py:<span style=\"color: #008080; text-decoration-color: #008080; font-weight: bold\">1773</span><span style=\"font-weight: bold\">]</span> &gt;&gt; HTTP Request: <span style=\"color: #808000; text-decoration-color: #808000; font-weight: bold\">GET</span>                                 <a href=\"file:///Users/kimbwook/PycharmProjects/fast-campus/venv/lib/python3.10/site-packages/httpx/_client.py\" target=\"_blank\"><span style=\"color: #7f7f7f; text-decoration-color: #7f7f7f\">_client.py</span></a><span style=\"color: #7f7f7f; text-decoration-color: #7f7f7f\">:</span><a href=\"file:///Users/kimbwook/PycharmProjects/fast-campus/venv/lib/python3.10/site-packages/httpx/_client.py#1773\" target=\"_blank\"><span style=\"color: #7f7f7f; text-decoration-color: #7f7f7f\">1773</span></a>\n",
       "<span style=\"color: #7fbfbf; text-decoration-color: #7fbfbf\">                    </span>         <span style=\"color: #0000ff; text-decoration-color: #0000ff; text-decoration: underline\">https://api.cloud.llamaindex.ai/api/parsing/job/a3256f64-4b99-489c-8fc</span> <span style=\"color: #7f7f7f; text-decoration-color: #7f7f7f\">               </span>\n",
       "<span style=\"color: #7fbfbf; text-decoration-color: #7fbfbf\">                    </span>         <span style=\"color: #0000ff; text-decoration-color: #0000ff; text-decoration: underline\">0-20e98cbfd184/result/markdown</span> <span style=\"color: #008000; text-decoration-color: #008000\">\"HTTP/1.1 200 OK\"</span>                       <span style=\"color: #7f7f7f; text-decoration-color: #7f7f7f\">               </span>\n",
       "</pre>\n"
      ]
     },
     "metadata": {},
     "output_type": "display_data"
    },
    {
     "data": {
      "text/plain": [
       "\u001B[2;36m[12/21/24 16:20:09]\u001B[0m\u001B[2;36m \u001B[0m\u001B[34mINFO    \u001B[0m \u001B[1m[\u001B[0m_client.py:\u001B[1;36m1773\u001B[0m\u001B[1m]\u001B[0m >> HTTP Request: \u001B[1;33mGET\u001B[0m                                 \u001B]8;id=884424;file:///Users/kimbwook/PycharmProjects/fast-campus/venv/lib/python3.10/site-packages/httpx/_client.py\u001B\\\u001B[2m_client.py\u001B[0m\u001B]8;;\u001B\\\u001B[2m:\u001B[0m\u001B]8;id=437180;file:///Users/kimbwook/PycharmProjects/fast-campus/venv/lib/python3.10/site-packages/httpx/_client.py#1773\u001B\\\u001B[2m1773\u001B[0m\u001B]8;;\u001B\\\n",
       "\u001B[2;36m                    \u001B[0m         \u001B[4;94mhttps://api.cloud.llamaindex.ai/api/parsing/job/6ec29869-6062-464e-9cd\u001B[0m \u001B[2m               \u001B[0m\n",
       "\u001B[2;36m                    \u001B[0m         \u001B[4;94m7-0a7593504b0f\u001B[0m \u001B[32m\"HTTP/1.1 200 OK\"\u001B[0m                                       \u001B[2m               \u001B[0m\n"
      ],
      "text/html": [
       "<pre style=\"white-space:pre;overflow-x:auto;line-height:normal;font-family:Menlo,'DejaVu Sans Mono',consolas,'Courier New',monospace\"><span style=\"color: #7fbfbf; text-decoration-color: #7fbfbf\">[12/21/24 16:20:09] </span><span style=\"color: #000080; text-decoration-color: #000080\">INFO    </span> <span style=\"font-weight: bold\">[</span>_client.py:<span style=\"color: #008080; text-decoration-color: #008080; font-weight: bold\">1773</span><span style=\"font-weight: bold\">]</span> &gt;&gt; HTTP Request: <span style=\"color: #808000; text-decoration-color: #808000; font-weight: bold\">GET</span>                                 <a href=\"file:///Users/kimbwook/PycharmProjects/fast-campus/venv/lib/python3.10/site-packages/httpx/_client.py\" target=\"_blank\"><span style=\"color: #7f7f7f; text-decoration-color: #7f7f7f\">_client.py</span></a><span style=\"color: #7f7f7f; text-decoration-color: #7f7f7f\">:</span><a href=\"file:///Users/kimbwook/PycharmProjects/fast-campus/venv/lib/python3.10/site-packages/httpx/_client.py#1773\" target=\"_blank\"><span style=\"color: #7f7f7f; text-decoration-color: #7f7f7f\">1773</span></a>\n",
       "<span style=\"color: #7fbfbf; text-decoration-color: #7fbfbf\">                    </span>         <span style=\"color: #0000ff; text-decoration-color: #0000ff; text-decoration: underline\">https://api.cloud.llamaindex.ai/api/parsing/job/6ec29869-6062-464e-9cd</span> <span style=\"color: #7f7f7f; text-decoration-color: #7f7f7f\">               </span>\n",
       "<span style=\"color: #7fbfbf; text-decoration-color: #7fbfbf\">                    </span>         <span style=\"color: #0000ff; text-decoration-color: #0000ff; text-decoration: underline\">7-0a7593504b0f</span> <span style=\"color: #008000; text-decoration-color: #008000\">\"HTTP/1.1 200 OK\"</span>                                       <span style=\"color: #7f7f7f; text-decoration-color: #7f7f7f\">               </span>\n",
       "</pre>\n"
      ]
     },
     "metadata": {},
     "output_type": "display_data"
    },
    {
     "data": {
      "text/plain": [
       "\u001B[2;36m                   \u001B[0m\u001B[2;36m \u001B[0m\u001B[34mINFO    \u001B[0m \u001B[1m[\u001B[0m_client.py:\u001B[1;36m1773\u001B[0m\u001B[1m]\u001B[0m >> HTTP Request: \u001B[1;33mGET\u001B[0m                                 \u001B]8;id=202463;file:///Users/kimbwook/PycharmProjects/fast-campus/venv/lib/python3.10/site-packages/httpx/_client.py\u001B\\\u001B[2m_client.py\u001B[0m\u001B]8;;\u001B\\\u001B[2m:\u001B[0m\u001B]8;id=104683;file:///Users/kimbwook/PycharmProjects/fast-campus/venv/lib/python3.10/site-packages/httpx/_client.py#1773\u001B\\\u001B[2m1773\u001B[0m\u001B]8;;\u001B\\\n",
       "\u001B[2;36m                    \u001B[0m         \u001B[4;94mhttps://api.cloud.llamaindex.ai/api/parsing/job/000c0e45-75e7-481e-9eb\u001B[0m \u001B[2m               \u001B[0m\n",
       "\u001B[2;36m                    \u001B[0m         \u001B[4;94m9-fe7153688325\u001B[0m \u001B[32m\"HTTP/1.1 200 OK\"\u001B[0m                                       \u001B[2m               \u001B[0m\n"
      ],
      "text/html": [
       "<pre style=\"white-space:pre;overflow-x:auto;line-height:normal;font-family:Menlo,'DejaVu Sans Mono',consolas,'Courier New',monospace\"><span style=\"color: #7fbfbf; text-decoration-color: #7fbfbf\">                    </span><span style=\"color: #000080; text-decoration-color: #000080\">INFO    </span> <span style=\"font-weight: bold\">[</span>_client.py:<span style=\"color: #008080; text-decoration-color: #008080; font-weight: bold\">1773</span><span style=\"font-weight: bold\">]</span> &gt;&gt; HTTP Request: <span style=\"color: #808000; text-decoration-color: #808000; font-weight: bold\">GET</span>                                 <a href=\"file:///Users/kimbwook/PycharmProjects/fast-campus/venv/lib/python3.10/site-packages/httpx/_client.py\" target=\"_blank\"><span style=\"color: #7f7f7f; text-decoration-color: #7f7f7f\">_client.py</span></a><span style=\"color: #7f7f7f; text-decoration-color: #7f7f7f\">:</span><a href=\"file:///Users/kimbwook/PycharmProjects/fast-campus/venv/lib/python3.10/site-packages/httpx/_client.py#1773\" target=\"_blank\"><span style=\"color: #7f7f7f; text-decoration-color: #7f7f7f\">1773</span></a>\n",
       "<span style=\"color: #7fbfbf; text-decoration-color: #7fbfbf\">                    </span>         <span style=\"color: #0000ff; text-decoration-color: #0000ff; text-decoration: underline\">https://api.cloud.llamaindex.ai/api/parsing/job/000c0e45-75e7-481e-9eb</span> <span style=\"color: #7f7f7f; text-decoration-color: #7f7f7f\">               </span>\n",
       "<span style=\"color: #7fbfbf; text-decoration-color: #7fbfbf\">                    </span>         <span style=\"color: #0000ff; text-decoration-color: #0000ff; text-decoration: underline\">9-fe7153688325</span> <span style=\"color: #008000; text-decoration-color: #008000\">\"HTTP/1.1 200 OK\"</span>                                       <span style=\"color: #7f7f7f; text-decoration-color: #7f7f7f\">               </span>\n",
       "</pre>\n"
      ]
     },
     "metadata": {},
     "output_type": "display_data"
    },
    {
     "data": {
      "text/plain": [
       "\u001B[2;36m                   \u001B[0m\u001B[2;36m \u001B[0m\u001B[34mINFO    \u001B[0m \u001B[1m[\u001B[0m_client.py:\u001B[1;36m1773\u001B[0m\u001B[1m]\u001B[0m >> HTTP Request: \u001B[1;33mGET\u001B[0m                                 \u001B]8;id=792582;file:///Users/kimbwook/PycharmProjects/fast-campus/venv/lib/python3.10/site-packages/httpx/_client.py\u001B\\\u001B[2m_client.py\u001B[0m\u001B]8;;\u001B\\\u001B[2m:\u001B[0m\u001B]8;id=502648;file:///Users/kimbwook/PycharmProjects/fast-campus/venv/lib/python3.10/site-packages/httpx/_client.py#1773\u001B\\\u001B[2m1773\u001B[0m\u001B]8;;\u001B\\\n",
       "\u001B[2;36m                    \u001B[0m         \u001B[4;94mhttps://api.cloud.llamaindex.ai/api/parsing/job/62b035fa-fecb-4fb3-b88\u001B[0m \u001B[2m               \u001B[0m\n",
       "\u001B[2;36m                    \u001B[0m         \u001B[4;94mf-48c45f050929\u001B[0m \u001B[32m\"HTTP/1.1 200 OK\"\u001B[0m                                       \u001B[2m               \u001B[0m\n"
      ],
      "text/html": [
       "<pre style=\"white-space:pre;overflow-x:auto;line-height:normal;font-family:Menlo,'DejaVu Sans Mono',consolas,'Courier New',monospace\"><span style=\"color: #7fbfbf; text-decoration-color: #7fbfbf\">                    </span><span style=\"color: #000080; text-decoration-color: #000080\">INFO    </span> <span style=\"font-weight: bold\">[</span>_client.py:<span style=\"color: #008080; text-decoration-color: #008080; font-weight: bold\">1773</span><span style=\"font-weight: bold\">]</span> &gt;&gt; HTTP Request: <span style=\"color: #808000; text-decoration-color: #808000; font-weight: bold\">GET</span>                                 <a href=\"file:///Users/kimbwook/PycharmProjects/fast-campus/venv/lib/python3.10/site-packages/httpx/_client.py\" target=\"_blank\"><span style=\"color: #7f7f7f; text-decoration-color: #7f7f7f\">_client.py</span></a><span style=\"color: #7f7f7f; text-decoration-color: #7f7f7f\">:</span><a href=\"file:///Users/kimbwook/PycharmProjects/fast-campus/venv/lib/python3.10/site-packages/httpx/_client.py#1773\" target=\"_blank\"><span style=\"color: #7f7f7f; text-decoration-color: #7f7f7f\">1773</span></a>\n",
       "<span style=\"color: #7fbfbf; text-decoration-color: #7fbfbf\">                    </span>         <span style=\"color: #0000ff; text-decoration-color: #0000ff; text-decoration: underline\">https://api.cloud.llamaindex.ai/api/parsing/job/62b035fa-fecb-4fb3-b88</span> <span style=\"color: #7f7f7f; text-decoration-color: #7f7f7f\">               </span>\n",
       "<span style=\"color: #7fbfbf; text-decoration-color: #7fbfbf\">                    </span>         <span style=\"color: #0000ff; text-decoration-color: #0000ff; text-decoration: underline\">f-48c45f050929</span> <span style=\"color: #008000; text-decoration-color: #008000\">\"HTTP/1.1 200 OK\"</span>                                       <span style=\"color: #7f7f7f; text-decoration-color: #7f7f7f\">               </span>\n",
       "</pre>\n"
      ]
     },
     "metadata": {},
     "output_type": "display_data"
    },
    {
     "data": {
      "text/plain": [
       "\u001B[2;36m                   \u001B[0m\u001B[2;36m \u001B[0m\u001B[34mINFO    \u001B[0m \u001B[1m[\u001B[0m_client.py:\u001B[1;36m1773\u001B[0m\u001B[1m]\u001B[0m >> HTTP Request: \u001B[1;33mGET\u001B[0m                                 \u001B]8;id=712120;file:///Users/kimbwook/PycharmProjects/fast-campus/venv/lib/python3.10/site-packages/httpx/_client.py\u001B\\\u001B[2m_client.py\u001B[0m\u001B]8;;\u001B\\\u001B[2m:\u001B[0m\u001B]8;id=737600;file:///Users/kimbwook/PycharmProjects/fast-campus/venv/lib/python3.10/site-packages/httpx/_client.py#1773\u001B\\\u001B[2m1773\u001B[0m\u001B]8;;\u001B\\\n",
       "\u001B[2;36m                    \u001B[0m         \u001B[4;94mhttps://api.cloud.llamaindex.ai/api/parsing/job/cd595c93-9a88-475b-a5a\u001B[0m \u001B[2m               \u001B[0m\n",
       "\u001B[2;36m                    \u001B[0m         \u001B[4;94m4-39c94a0fcc99\u001B[0m \u001B[32m\"HTTP/1.1 200 OK\"\u001B[0m                                       \u001B[2m               \u001B[0m\n"
      ],
      "text/html": [
       "<pre style=\"white-space:pre;overflow-x:auto;line-height:normal;font-family:Menlo,'DejaVu Sans Mono',consolas,'Courier New',monospace\"><span style=\"color: #7fbfbf; text-decoration-color: #7fbfbf\">                    </span><span style=\"color: #000080; text-decoration-color: #000080\">INFO    </span> <span style=\"font-weight: bold\">[</span>_client.py:<span style=\"color: #008080; text-decoration-color: #008080; font-weight: bold\">1773</span><span style=\"font-weight: bold\">]</span> &gt;&gt; HTTP Request: <span style=\"color: #808000; text-decoration-color: #808000; font-weight: bold\">GET</span>                                 <a href=\"file:///Users/kimbwook/PycharmProjects/fast-campus/venv/lib/python3.10/site-packages/httpx/_client.py\" target=\"_blank\"><span style=\"color: #7f7f7f; text-decoration-color: #7f7f7f\">_client.py</span></a><span style=\"color: #7f7f7f; text-decoration-color: #7f7f7f\">:</span><a href=\"file:///Users/kimbwook/PycharmProjects/fast-campus/venv/lib/python3.10/site-packages/httpx/_client.py#1773\" target=\"_blank\"><span style=\"color: #7f7f7f; text-decoration-color: #7f7f7f\">1773</span></a>\n",
       "<span style=\"color: #7fbfbf; text-decoration-color: #7fbfbf\">                    </span>         <span style=\"color: #0000ff; text-decoration-color: #0000ff; text-decoration: underline\">https://api.cloud.llamaindex.ai/api/parsing/job/cd595c93-9a88-475b-a5a</span> <span style=\"color: #7f7f7f; text-decoration-color: #7f7f7f\">               </span>\n",
       "<span style=\"color: #7fbfbf; text-decoration-color: #7fbfbf\">                    </span>         <span style=\"color: #0000ff; text-decoration-color: #0000ff; text-decoration: underline\">4-39c94a0fcc99</span> <span style=\"color: #008000; text-decoration-color: #008000\">\"HTTP/1.1 200 OK\"</span>                                       <span style=\"color: #7f7f7f; text-decoration-color: #7f7f7f\">               </span>\n",
       "</pre>\n"
      ]
     },
     "metadata": {},
     "output_type": "display_data"
    },
    {
     "data": {
      "text/plain": [
       "\u001B[2;36m                   \u001B[0m\u001B[2;36m \u001B[0m\u001B[34mINFO    \u001B[0m \u001B[1m[\u001B[0m_client.py:\u001B[1;36m1773\u001B[0m\u001B[1m]\u001B[0m >> HTTP Request: \u001B[1;33mGET\u001B[0m                                 \u001B]8;id=302865;file:///Users/kimbwook/PycharmProjects/fast-campus/venv/lib/python3.10/site-packages/httpx/_client.py\u001B\\\u001B[2m_client.py\u001B[0m\u001B]8;;\u001B\\\u001B[2m:\u001B[0m\u001B]8;id=398771;file:///Users/kimbwook/PycharmProjects/fast-campus/venv/lib/python3.10/site-packages/httpx/_client.py#1773\u001B\\\u001B[2m1773\u001B[0m\u001B]8;;\u001B\\\n",
       "\u001B[2;36m                    \u001B[0m         \u001B[4;94mhttps://api.cloud.llamaindex.ai/api/parsing/job/0cdb4641-8b32-4273-a79\u001B[0m \u001B[2m               \u001B[0m\n",
       "\u001B[2;36m                    \u001B[0m         \u001B[4;94m8-1b5289df70a4\u001B[0m \u001B[32m\"HTTP/1.1 200 OK\"\u001B[0m                                       \u001B[2m               \u001B[0m\n"
      ],
      "text/html": [
       "<pre style=\"white-space:pre;overflow-x:auto;line-height:normal;font-family:Menlo,'DejaVu Sans Mono',consolas,'Courier New',monospace\"><span style=\"color: #7fbfbf; text-decoration-color: #7fbfbf\">                    </span><span style=\"color: #000080; text-decoration-color: #000080\">INFO    </span> <span style=\"font-weight: bold\">[</span>_client.py:<span style=\"color: #008080; text-decoration-color: #008080; font-weight: bold\">1773</span><span style=\"font-weight: bold\">]</span> &gt;&gt; HTTP Request: <span style=\"color: #808000; text-decoration-color: #808000; font-weight: bold\">GET</span>                                 <a href=\"file:///Users/kimbwook/PycharmProjects/fast-campus/venv/lib/python3.10/site-packages/httpx/_client.py\" target=\"_blank\"><span style=\"color: #7f7f7f; text-decoration-color: #7f7f7f\">_client.py</span></a><span style=\"color: #7f7f7f; text-decoration-color: #7f7f7f\">:</span><a href=\"file:///Users/kimbwook/PycharmProjects/fast-campus/venv/lib/python3.10/site-packages/httpx/_client.py#1773\" target=\"_blank\"><span style=\"color: #7f7f7f; text-decoration-color: #7f7f7f\">1773</span></a>\n",
       "<span style=\"color: #7fbfbf; text-decoration-color: #7fbfbf\">                    </span>         <span style=\"color: #0000ff; text-decoration-color: #0000ff; text-decoration: underline\">https://api.cloud.llamaindex.ai/api/parsing/job/0cdb4641-8b32-4273-a79</span> <span style=\"color: #7f7f7f; text-decoration-color: #7f7f7f\">               </span>\n",
       "<span style=\"color: #7fbfbf; text-decoration-color: #7fbfbf\">                    </span>         <span style=\"color: #0000ff; text-decoration-color: #0000ff; text-decoration: underline\">8-1b5289df70a4</span> <span style=\"color: #008000; text-decoration-color: #008000\">\"HTTP/1.1 200 OK\"</span>                                       <span style=\"color: #7f7f7f; text-decoration-color: #7f7f7f\">               </span>\n",
       "</pre>\n"
      ]
     },
     "metadata": {},
     "output_type": "display_data"
    },
    {
     "data": {
      "text/plain": [
       "\u001B[2;36m                   \u001B[0m\u001B[2;36m \u001B[0m\u001B[34mINFO    \u001B[0m \u001B[1m[\u001B[0m_client.py:\u001B[1;36m1773\u001B[0m\u001B[1m]\u001B[0m >> HTTP Request: \u001B[1;33mGET\u001B[0m                                 \u001B]8;id=802377;file:///Users/kimbwook/PycharmProjects/fast-campus/venv/lib/python3.10/site-packages/httpx/_client.py\u001B\\\u001B[2m_client.py\u001B[0m\u001B]8;;\u001B\\\u001B[2m:\u001B[0m\u001B]8;id=981538;file:///Users/kimbwook/PycharmProjects/fast-campus/venv/lib/python3.10/site-packages/httpx/_client.py#1773\u001B\\\u001B[2m1773\u001B[0m\u001B]8;;\u001B\\\n",
       "\u001B[2;36m                    \u001B[0m         \u001B[4;94mhttps://api.cloud.llamaindex.ai/api/parsing/job/f65ca0b7-019d-45e0-9de\u001B[0m \u001B[2m               \u001B[0m\n",
       "\u001B[2;36m                    \u001B[0m         \u001B[4;94m9-327e49d455c9\u001B[0m \u001B[32m\"HTTP/1.1 200 OK\"\u001B[0m                                       \u001B[2m               \u001B[0m\n"
      ],
      "text/html": [
       "<pre style=\"white-space:pre;overflow-x:auto;line-height:normal;font-family:Menlo,'DejaVu Sans Mono',consolas,'Courier New',monospace\"><span style=\"color: #7fbfbf; text-decoration-color: #7fbfbf\">                    </span><span style=\"color: #000080; text-decoration-color: #000080\">INFO    </span> <span style=\"font-weight: bold\">[</span>_client.py:<span style=\"color: #008080; text-decoration-color: #008080; font-weight: bold\">1773</span><span style=\"font-weight: bold\">]</span> &gt;&gt; HTTP Request: <span style=\"color: #808000; text-decoration-color: #808000; font-weight: bold\">GET</span>                                 <a href=\"file:///Users/kimbwook/PycharmProjects/fast-campus/venv/lib/python3.10/site-packages/httpx/_client.py\" target=\"_blank\"><span style=\"color: #7f7f7f; text-decoration-color: #7f7f7f\">_client.py</span></a><span style=\"color: #7f7f7f; text-decoration-color: #7f7f7f\">:</span><a href=\"file:///Users/kimbwook/PycharmProjects/fast-campus/venv/lib/python3.10/site-packages/httpx/_client.py#1773\" target=\"_blank\"><span style=\"color: #7f7f7f; text-decoration-color: #7f7f7f\">1773</span></a>\n",
       "<span style=\"color: #7fbfbf; text-decoration-color: #7fbfbf\">                    </span>         <span style=\"color: #0000ff; text-decoration-color: #0000ff; text-decoration: underline\">https://api.cloud.llamaindex.ai/api/parsing/job/f65ca0b7-019d-45e0-9de</span> <span style=\"color: #7f7f7f; text-decoration-color: #7f7f7f\">               </span>\n",
       "<span style=\"color: #7fbfbf; text-decoration-color: #7fbfbf\">                    </span>         <span style=\"color: #0000ff; text-decoration-color: #0000ff; text-decoration: underline\">9-327e49d455c9</span> <span style=\"color: #008000; text-decoration-color: #008000\">\"HTTP/1.1 200 OK\"</span>                                       <span style=\"color: #7f7f7f; text-decoration-color: #7f7f7f\">               </span>\n",
       "</pre>\n"
      ]
     },
     "metadata": {},
     "output_type": "display_data"
    },
    {
     "data": {
      "text/plain": [
       "\u001B[2;36m                   \u001B[0m\u001B[2;36m \u001B[0m\u001B[34mINFO    \u001B[0m \u001B[1m[\u001B[0m_client.py:\u001B[1;36m1773\u001B[0m\u001B[1m]\u001B[0m >> HTTP Request: \u001B[1;33mGET\u001B[0m                                 \u001B]8;id=383423;file:///Users/kimbwook/PycharmProjects/fast-campus/venv/lib/python3.10/site-packages/httpx/_client.py\u001B\\\u001B[2m_client.py\u001B[0m\u001B]8;;\u001B\\\u001B[2m:\u001B[0m\u001B]8;id=546080;file:///Users/kimbwook/PycharmProjects/fast-campus/venv/lib/python3.10/site-packages/httpx/_client.py#1773\u001B\\\u001B[2m1773\u001B[0m\u001B]8;;\u001B\\\n",
       "\u001B[2;36m                    \u001B[0m         \u001B[4;94mhttps://api.cloud.llamaindex.ai/api/parsing/job/000c0e45-75e7-481e-9eb\u001B[0m \u001B[2m               \u001B[0m\n",
       "\u001B[2;36m                    \u001B[0m         \u001B[4;94m9-fe7153688325/result/markdown\u001B[0m \u001B[32m\"HTTP/1.1 200 OK\"\u001B[0m                       \u001B[2m               \u001B[0m\n"
      ],
      "text/html": [
       "<pre style=\"white-space:pre;overflow-x:auto;line-height:normal;font-family:Menlo,'DejaVu Sans Mono',consolas,'Courier New',monospace\"><span style=\"color: #7fbfbf; text-decoration-color: #7fbfbf\">                    </span><span style=\"color: #000080; text-decoration-color: #000080\">INFO    </span> <span style=\"font-weight: bold\">[</span>_client.py:<span style=\"color: #008080; text-decoration-color: #008080; font-weight: bold\">1773</span><span style=\"font-weight: bold\">]</span> &gt;&gt; HTTP Request: <span style=\"color: #808000; text-decoration-color: #808000; font-weight: bold\">GET</span>                                 <a href=\"file:///Users/kimbwook/PycharmProjects/fast-campus/venv/lib/python3.10/site-packages/httpx/_client.py\" target=\"_blank\"><span style=\"color: #7f7f7f; text-decoration-color: #7f7f7f\">_client.py</span></a><span style=\"color: #7f7f7f; text-decoration-color: #7f7f7f\">:</span><a href=\"file:///Users/kimbwook/PycharmProjects/fast-campus/venv/lib/python3.10/site-packages/httpx/_client.py#1773\" target=\"_blank\"><span style=\"color: #7f7f7f; text-decoration-color: #7f7f7f\">1773</span></a>\n",
       "<span style=\"color: #7fbfbf; text-decoration-color: #7fbfbf\">                    </span>         <span style=\"color: #0000ff; text-decoration-color: #0000ff; text-decoration: underline\">https://api.cloud.llamaindex.ai/api/parsing/job/000c0e45-75e7-481e-9eb</span> <span style=\"color: #7f7f7f; text-decoration-color: #7f7f7f\">               </span>\n",
       "<span style=\"color: #7fbfbf; text-decoration-color: #7fbfbf\">                    </span>         <span style=\"color: #0000ff; text-decoration-color: #0000ff; text-decoration: underline\">9-fe7153688325/result/markdown</span> <span style=\"color: #008000; text-decoration-color: #008000\">\"HTTP/1.1 200 OK\"</span>                       <span style=\"color: #7f7f7f; text-decoration-color: #7f7f7f\">               </span>\n",
       "</pre>\n"
      ]
     },
     "metadata": {},
     "output_type": "display_data"
    },
    {
     "data": {
      "text/plain": [
       "\u001B[2;36m                   \u001B[0m\u001B[2;36m \u001B[0m\u001B[34mINFO    \u001B[0m \u001B[1m[\u001B[0m_client.py:\u001B[1;36m1773\u001B[0m\u001B[1m]\u001B[0m >> HTTP Request: \u001B[1;33mGET\u001B[0m                                 \u001B]8;id=485085;file:///Users/kimbwook/PycharmProjects/fast-campus/venv/lib/python3.10/site-packages/httpx/_client.py\u001B\\\u001B[2m_client.py\u001B[0m\u001B]8;;\u001B\\\u001B[2m:\u001B[0m\u001B]8;id=502681;file:///Users/kimbwook/PycharmProjects/fast-campus/venv/lib/python3.10/site-packages/httpx/_client.py#1773\u001B\\\u001B[2m1773\u001B[0m\u001B]8;;\u001B\\\n",
       "\u001B[2;36m                    \u001B[0m         \u001B[4;94mhttps://api.cloud.llamaindex.ai/api/parsing/job/cd595c93-9a88-475b-a5a\u001B[0m \u001B[2m               \u001B[0m\n",
       "\u001B[2;36m                    \u001B[0m         \u001B[4;94m4-39c94a0fcc99/result/markdown\u001B[0m \u001B[32m\"HTTP/1.1 200 OK\"\u001B[0m                       \u001B[2m               \u001B[0m\n"
      ],
      "text/html": [
       "<pre style=\"white-space:pre;overflow-x:auto;line-height:normal;font-family:Menlo,'DejaVu Sans Mono',consolas,'Courier New',monospace\"><span style=\"color: #7fbfbf; text-decoration-color: #7fbfbf\">                    </span><span style=\"color: #000080; text-decoration-color: #000080\">INFO    </span> <span style=\"font-weight: bold\">[</span>_client.py:<span style=\"color: #008080; text-decoration-color: #008080; font-weight: bold\">1773</span><span style=\"font-weight: bold\">]</span> &gt;&gt; HTTP Request: <span style=\"color: #808000; text-decoration-color: #808000; font-weight: bold\">GET</span>                                 <a href=\"file:///Users/kimbwook/PycharmProjects/fast-campus/venv/lib/python3.10/site-packages/httpx/_client.py\" target=\"_blank\"><span style=\"color: #7f7f7f; text-decoration-color: #7f7f7f\">_client.py</span></a><span style=\"color: #7f7f7f; text-decoration-color: #7f7f7f\">:</span><a href=\"file:///Users/kimbwook/PycharmProjects/fast-campus/venv/lib/python3.10/site-packages/httpx/_client.py#1773\" target=\"_blank\"><span style=\"color: #7f7f7f; text-decoration-color: #7f7f7f\">1773</span></a>\n",
       "<span style=\"color: #7fbfbf; text-decoration-color: #7fbfbf\">                    </span>         <span style=\"color: #0000ff; text-decoration-color: #0000ff; text-decoration: underline\">https://api.cloud.llamaindex.ai/api/parsing/job/cd595c93-9a88-475b-a5a</span> <span style=\"color: #7f7f7f; text-decoration-color: #7f7f7f\">               </span>\n",
       "<span style=\"color: #7fbfbf; text-decoration-color: #7fbfbf\">                    </span>         <span style=\"color: #0000ff; text-decoration-color: #0000ff; text-decoration: underline\">4-39c94a0fcc99/result/markdown</span> <span style=\"color: #008000; text-decoration-color: #008000\">\"HTTP/1.1 200 OK\"</span>                       <span style=\"color: #7f7f7f; text-decoration-color: #7f7f7f\">               </span>\n",
       "</pre>\n"
      ]
     },
     "metadata": {},
     "output_type": "display_data"
    },
    {
     "data": {
      "text/plain": [
       "\u001B[2;36m                   \u001B[0m\u001B[2;36m \u001B[0m\u001B[34mINFO    \u001B[0m \u001B[1m[\u001B[0m_client.py:\u001B[1;36m1773\u001B[0m\u001B[1m]\u001B[0m >> HTTP Request: \u001B[1;33mGET\u001B[0m                                 \u001B]8;id=15782;file:///Users/kimbwook/PycharmProjects/fast-campus/venv/lib/python3.10/site-packages/httpx/_client.py\u001B\\\u001B[2m_client.py\u001B[0m\u001B]8;;\u001B\\\u001B[2m:\u001B[0m\u001B]8;id=120833;file:///Users/kimbwook/PycharmProjects/fast-campus/venv/lib/python3.10/site-packages/httpx/_client.py#1773\u001B\\\u001B[2m1773\u001B[0m\u001B]8;;\u001B\\\n",
       "\u001B[2;36m                    \u001B[0m         \u001B[4;94mhttps://api.cloud.llamaindex.ai/api/parsing/job/0cdb4641-8b32-4273-a79\u001B[0m \u001B[2m               \u001B[0m\n",
       "\u001B[2;36m                    \u001B[0m         \u001B[4;94m8-1b5289df70a4/result/markdown\u001B[0m \u001B[32m\"HTTP/1.1 200 OK\"\u001B[0m                       \u001B[2m               \u001B[0m\n"
      ],
      "text/html": [
       "<pre style=\"white-space:pre;overflow-x:auto;line-height:normal;font-family:Menlo,'DejaVu Sans Mono',consolas,'Courier New',monospace\"><span style=\"color: #7fbfbf; text-decoration-color: #7fbfbf\">                    </span><span style=\"color: #000080; text-decoration-color: #000080\">INFO    </span> <span style=\"font-weight: bold\">[</span>_client.py:<span style=\"color: #008080; text-decoration-color: #008080; font-weight: bold\">1773</span><span style=\"font-weight: bold\">]</span> &gt;&gt; HTTP Request: <span style=\"color: #808000; text-decoration-color: #808000; font-weight: bold\">GET</span>                                 <a href=\"file:///Users/kimbwook/PycharmProjects/fast-campus/venv/lib/python3.10/site-packages/httpx/_client.py\" target=\"_blank\"><span style=\"color: #7f7f7f; text-decoration-color: #7f7f7f\">_client.py</span></a><span style=\"color: #7f7f7f; text-decoration-color: #7f7f7f\">:</span><a href=\"file:///Users/kimbwook/PycharmProjects/fast-campus/venv/lib/python3.10/site-packages/httpx/_client.py#1773\" target=\"_blank\"><span style=\"color: #7f7f7f; text-decoration-color: #7f7f7f\">1773</span></a>\n",
       "<span style=\"color: #7fbfbf; text-decoration-color: #7fbfbf\">                    </span>         <span style=\"color: #0000ff; text-decoration-color: #0000ff; text-decoration: underline\">https://api.cloud.llamaindex.ai/api/parsing/job/0cdb4641-8b32-4273-a79</span> <span style=\"color: #7f7f7f; text-decoration-color: #7f7f7f\">               </span>\n",
       "<span style=\"color: #7fbfbf; text-decoration-color: #7fbfbf\">                    </span>         <span style=\"color: #0000ff; text-decoration-color: #0000ff; text-decoration: underline\">8-1b5289df70a4/result/markdown</span> <span style=\"color: #008000; text-decoration-color: #008000\">\"HTTP/1.1 200 OK\"</span>                       <span style=\"color: #7f7f7f; text-decoration-color: #7f7f7f\">               </span>\n",
       "</pre>\n"
      ]
     },
     "metadata": {},
     "output_type": "display_data"
    },
    {
     "data": {
      "text/plain": [
       "\u001B[2;36m                   \u001B[0m\u001B[2;36m \u001B[0m\u001B[34mINFO    \u001B[0m \u001B[1m[\u001B[0m_client.py:\u001B[1;36m1773\u001B[0m\u001B[1m]\u001B[0m >> HTTP Request: \u001B[1;33mGET\u001B[0m                                 \u001B]8;id=129828;file:///Users/kimbwook/PycharmProjects/fast-campus/venv/lib/python3.10/site-packages/httpx/_client.py\u001B\\\u001B[2m_client.py\u001B[0m\u001B]8;;\u001B\\\u001B[2m:\u001B[0m\u001B]8;id=501044;file:///Users/kimbwook/PycharmProjects/fast-campus/venv/lib/python3.10/site-packages/httpx/_client.py#1773\u001B\\\u001B[2m1773\u001B[0m\u001B]8;;\u001B\\\n",
       "\u001B[2;36m                    \u001B[0m         \u001B[4;94mhttps://api.cloud.llamaindex.ai/api/parsing/job/f65ca0b7-019d-45e0-9de\u001B[0m \u001B[2m               \u001B[0m\n",
       "\u001B[2;36m                    \u001B[0m         \u001B[4;94m9-327e49d455c9/result/markdown\u001B[0m \u001B[32m\"HTTP/1.1 200 OK\"\u001B[0m                       \u001B[2m               \u001B[0m\n"
      ],
      "text/html": [
       "<pre style=\"white-space:pre;overflow-x:auto;line-height:normal;font-family:Menlo,'DejaVu Sans Mono',consolas,'Courier New',monospace\"><span style=\"color: #7fbfbf; text-decoration-color: #7fbfbf\">                    </span><span style=\"color: #000080; text-decoration-color: #000080\">INFO    </span> <span style=\"font-weight: bold\">[</span>_client.py:<span style=\"color: #008080; text-decoration-color: #008080; font-weight: bold\">1773</span><span style=\"font-weight: bold\">]</span> &gt;&gt; HTTP Request: <span style=\"color: #808000; text-decoration-color: #808000; font-weight: bold\">GET</span>                                 <a href=\"file:///Users/kimbwook/PycharmProjects/fast-campus/venv/lib/python3.10/site-packages/httpx/_client.py\" target=\"_blank\"><span style=\"color: #7f7f7f; text-decoration-color: #7f7f7f\">_client.py</span></a><span style=\"color: #7f7f7f; text-decoration-color: #7f7f7f\">:</span><a href=\"file:///Users/kimbwook/PycharmProjects/fast-campus/venv/lib/python3.10/site-packages/httpx/_client.py#1773\" target=\"_blank\"><span style=\"color: #7f7f7f; text-decoration-color: #7f7f7f\">1773</span></a>\n",
       "<span style=\"color: #7fbfbf; text-decoration-color: #7fbfbf\">                    </span>         <span style=\"color: #0000ff; text-decoration-color: #0000ff; text-decoration: underline\">https://api.cloud.llamaindex.ai/api/parsing/job/f65ca0b7-019d-45e0-9de</span> <span style=\"color: #7f7f7f; text-decoration-color: #7f7f7f\">               </span>\n",
       "<span style=\"color: #7fbfbf; text-decoration-color: #7fbfbf\">                    </span>         <span style=\"color: #0000ff; text-decoration-color: #0000ff; text-decoration: underline\">9-327e49d455c9/result/markdown</span> <span style=\"color: #008000; text-decoration-color: #008000\">\"HTTP/1.1 200 OK\"</span>                       <span style=\"color: #7f7f7f; text-decoration-color: #7f7f7f\">               </span>\n",
       "</pre>\n"
      ]
     },
     "metadata": {},
     "output_type": "display_data"
    },
    {
     "data": {
      "text/plain": [
       "\u001B[2;36m[12/21/24 16:20:12]\u001B[0m\u001B[2;36m \u001B[0m\u001B[34mINFO    \u001B[0m \u001B[1m[\u001B[0m_client.py:\u001B[1;36m1773\u001B[0m\u001B[1m]\u001B[0m >> HTTP Request: \u001B[1;33mGET\u001B[0m                                 \u001B]8;id=617600;file:///Users/kimbwook/PycharmProjects/fast-campus/venv/lib/python3.10/site-packages/httpx/_client.py\u001B\\\u001B[2m_client.py\u001B[0m\u001B]8;;\u001B\\\u001B[2m:\u001B[0m\u001B]8;id=413265;file:///Users/kimbwook/PycharmProjects/fast-campus/venv/lib/python3.10/site-packages/httpx/_client.py#1773\u001B\\\u001B[2m1773\u001B[0m\u001B]8;;\u001B\\\n",
       "\u001B[2;36m                    \u001B[0m         \u001B[4;94mhttps://api.cloud.llamaindex.ai/api/parsing/job/6ec29869-6062-464e-9cd\u001B[0m \u001B[2m               \u001B[0m\n",
       "\u001B[2;36m                    \u001B[0m         \u001B[4;94m7-0a7593504b0f\u001B[0m \u001B[32m\"HTTP/1.1 200 OK\"\u001B[0m                                       \u001B[2m               \u001B[0m\n"
      ],
      "text/html": [
       "<pre style=\"white-space:pre;overflow-x:auto;line-height:normal;font-family:Menlo,'DejaVu Sans Mono',consolas,'Courier New',monospace\"><span style=\"color: #7fbfbf; text-decoration-color: #7fbfbf\">[12/21/24 16:20:12] </span><span style=\"color: #000080; text-decoration-color: #000080\">INFO    </span> <span style=\"font-weight: bold\">[</span>_client.py:<span style=\"color: #008080; text-decoration-color: #008080; font-weight: bold\">1773</span><span style=\"font-weight: bold\">]</span> &gt;&gt; HTTP Request: <span style=\"color: #808000; text-decoration-color: #808000; font-weight: bold\">GET</span>                                 <a href=\"file:///Users/kimbwook/PycharmProjects/fast-campus/venv/lib/python3.10/site-packages/httpx/_client.py\" target=\"_blank\"><span style=\"color: #7f7f7f; text-decoration-color: #7f7f7f\">_client.py</span></a><span style=\"color: #7f7f7f; text-decoration-color: #7f7f7f\">:</span><a href=\"file:///Users/kimbwook/PycharmProjects/fast-campus/venv/lib/python3.10/site-packages/httpx/_client.py#1773\" target=\"_blank\"><span style=\"color: #7f7f7f; text-decoration-color: #7f7f7f\">1773</span></a>\n",
       "<span style=\"color: #7fbfbf; text-decoration-color: #7fbfbf\">                    </span>         <span style=\"color: #0000ff; text-decoration-color: #0000ff; text-decoration: underline\">https://api.cloud.llamaindex.ai/api/parsing/job/6ec29869-6062-464e-9cd</span> <span style=\"color: #7f7f7f; text-decoration-color: #7f7f7f\">               </span>\n",
       "<span style=\"color: #7fbfbf; text-decoration-color: #7fbfbf\">                    </span>         <span style=\"color: #0000ff; text-decoration-color: #0000ff; text-decoration: underline\">7-0a7593504b0f</span> <span style=\"color: #008000; text-decoration-color: #008000\">\"HTTP/1.1 200 OK\"</span>                                       <span style=\"color: #7f7f7f; text-decoration-color: #7f7f7f\">               </span>\n",
       "</pre>\n"
      ]
     },
     "metadata": {},
     "output_type": "display_data"
    },
    {
     "data": {
      "text/plain": [
       "\u001B[2;36m                   \u001B[0m\u001B[2;36m \u001B[0m\u001B[34mINFO    \u001B[0m \u001B[1m[\u001B[0m_client.py:\u001B[1;36m1773\u001B[0m\u001B[1m]\u001B[0m >> HTTP Request: \u001B[1;33mGET\u001B[0m                                 \u001B]8;id=226843;file:///Users/kimbwook/PycharmProjects/fast-campus/venv/lib/python3.10/site-packages/httpx/_client.py\u001B\\\u001B[2m_client.py\u001B[0m\u001B]8;;\u001B\\\u001B[2m:\u001B[0m\u001B]8;id=597456;file:///Users/kimbwook/PycharmProjects/fast-campus/venv/lib/python3.10/site-packages/httpx/_client.py#1773\u001B\\\u001B[2m1773\u001B[0m\u001B]8;;\u001B\\\n",
       "\u001B[2;36m                    \u001B[0m         \u001B[4;94mhttps://api.cloud.llamaindex.ai/api/parsing/job/62b035fa-fecb-4fb3-b88\u001B[0m \u001B[2m               \u001B[0m\n",
       "\u001B[2;36m                    \u001B[0m         \u001B[4;94mf-48c45f050929\u001B[0m \u001B[32m\"HTTP/1.1 200 OK\"\u001B[0m                                       \u001B[2m               \u001B[0m\n"
      ],
      "text/html": [
       "<pre style=\"white-space:pre;overflow-x:auto;line-height:normal;font-family:Menlo,'DejaVu Sans Mono',consolas,'Courier New',monospace\"><span style=\"color: #7fbfbf; text-decoration-color: #7fbfbf\">                    </span><span style=\"color: #000080; text-decoration-color: #000080\">INFO    </span> <span style=\"font-weight: bold\">[</span>_client.py:<span style=\"color: #008080; text-decoration-color: #008080; font-weight: bold\">1773</span><span style=\"font-weight: bold\">]</span> &gt;&gt; HTTP Request: <span style=\"color: #808000; text-decoration-color: #808000; font-weight: bold\">GET</span>                                 <a href=\"file:///Users/kimbwook/PycharmProjects/fast-campus/venv/lib/python3.10/site-packages/httpx/_client.py\" target=\"_blank\"><span style=\"color: #7f7f7f; text-decoration-color: #7f7f7f\">_client.py</span></a><span style=\"color: #7f7f7f; text-decoration-color: #7f7f7f\">:</span><a href=\"file:///Users/kimbwook/PycharmProjects/fast-campus/venv/lib/python3.10/site-packages/httpx/_client.py#1773\" target=\"_blank\"><span style=\"color: #7f7f7f; text-decoration-color: #7f7f7f\">1773</span></a>\n",
       "<span style=\"color: #7fbfbf; text-decoration-color: #7fbfbf\">                    </span>         <span style=\"color: #0000ff; text-decoration-color: #0000ff; text-decoration: underline\">https://api.cloud.llamaindex.ai/api/parsing/job/62b035fa-fecb-4fb3-b88</span> <span style=\"color: #7f7f7f; text-decoration-color: #7f7f7f\">               </span>\n",
       "<span style=\"color: #7fbfbf; text-decoration-color: #7fbfbf\">                    </span>         <span style=\"color: #0000ff; text-decoration-color: #0000ff; text-decoration: underline\">f-48c45f050929</span> <span style=\"color: #008000; text-decoration-color: #008000\">\"HTTP/1.1 200 OK\"</span>                                       <span style=\"color: #7f7f7f; text-decoration-color: #7f7f7f\">               </span>\n",
       "</pre>\n"
      ]
     },
     "metadata": {},
     "output_type": "display_data"
    },
    {
     "data": {
      "text/plain": [
       "\u001B[2;36m[12/21/24 16:20:14]\u001B[0m\u001B[2;36m \u001B[0m\u001B[34mINFO    \u001B[0m \u001B[1m[\u001B[0m_client.py:\u001B[1;36m1773\u001B[0m\u001B[1m]\u001B[0m >> HTTP Request: \u001B[1;33mGET\u001B[0m                                 \u001B]8;id=772890;file:///Users/kimbwook/PycharmProjects/fast-campus/venv/lib/python3.10/site-packages/httpx/_client.py\u001B\\\u001B[2m_client.py\u001B[0m\u001B]8;;\u001B\\\u001B[2m:\u001B[0m\u001B]8;id=942320;file:///Users/kimbwook/PycharmProjects/fast-campus/venv/lib/python3.10/site-packages/httpx/_client.py#1773\u001B\\\u001B[2m1773\u001B[0m\u001B]8;;\u001B\\\n",
       "\u001B[2;36m                    \u001B[0m         \u001B[4;94mhttps://api.cloud.llamaindex.ai/api/parsing/job/6ec29869-6062-464e-9cd\u001B[0m \u001B[2m               \u001B[0m\n",
       "\u001B[2;36m                    \u001B[0m         \u001B[4;94m7-0a7593504b0f\u001B[0m \u001B[32m\"HTTP/1.1 200 OK\"\u001B[0m                                       \u001B[2m               \u001B[0m\n"
      ],
      "text/html": [
       "<pre style=\"white-space:pre;overflow-x:auto;line-height:normal;font-family:Menlo,'DejaVu Sans Mono',consolas,'Courier New',monospace\"><span style=\"color: #7fbfbf; text-decoration-color: #7fbfbf\">[12/21/24 16:20:14] </span><span style=\"color: #000080; text-decoration-color: #000080\">INFO    </span> <span style=\"font-weight: bold\">[</span>_client.py:<span style=\"color: #008080; text-decoration-color: #008080; font-weight: bold\">1773</span><span style=\"font-weight: bold\">]</span> &gt;&gt; HTTP Request: <span style=\"color: #808000; text-decoration-color: #808000; font-weight: bold\">GET</span>                                 <a href=\"file:///Users/kimbwook/PycharmProjects/fast-campus/venv/lib/python3.10/site-packages/httpx/_client.py\" target=\"_blank\"><span style=\"color: #7f7f7f; text-decoration-color: #7f7f7f\">_client.py</span></a><span style=\"color: #7f7f7f; text-decoration-color: #7f7f7f\">:</span><a href=\"file:///Users/kimbwook/PycharmProjects/fast-campus/venv/lib/python3.10/site-packages/httpx/_client.py#1773\" target=\"_blank\"><span style=\"color: #7f7f7f; text-decoration-color: #7f7f7f\">1773</span></a>\n",
       "<span style=\"color: #7fbfbf; text-decoration-color: #7fbfbf\">                    </span>         <span style=\"color: #0000ff; text-decoration-color: #0000ff; text-decoration: underline\">https://api.cloud.llamaindex.ai/api/parsing/job/6ec29869-6062-464e-9cd</span> <span style=\"color: #7f7f7f; text-decoration-color: #7f7f7f\">               </span>\n",
       "<span style=\"color: #7fbfbf; text-decoration-color: #7fbfbf\">                    </span>         <span style=\"color: #0000ff; text-decoration-color: #0000ff; text-decoration: underline\">7-0a7593504b0f</span> <span style=\"color: #008000; text-decoration-color: #008000\">\"HTTP/1.1 200 OK\"</span>                                       <span style=\"color: #7f7f7f; text-decoration-color: #7f7f7f\">               </span>\n",
       "</pre>\n"
      ]
     },
     "metadata": {},
     "output_type": "display_data"
    },
    {
     "data": {
      "text/plain": [
       "\u001B[2;36m[12/21/24 16:20:15]\u001B[0m\u001B[2;36m \u001B[0m\u001B[34mINFO    \u001B[0m \u001B[1m[\u001B[0m_client.py:\u001B[1;36m1773\u001B[0m\u001B[1m]\u001B[0m >> HTTP Request: \u001B[1;33mGET\u001B[0m                                 \u001B]8;id=522994;file:///Users/kimbwook/PycharmProjects/fast-campus/venv/lib/python3.10/site-packages/httpx/_client.py\u001B\\\u001B[2m_client.py\u001B[0m\u001B]8;;\u001B\\\u001B[2m:\u001B[0m\u001B]8;id=794755;file:///Users/kimbwook/PycharmProjects/fast-campus/venv/lib/python3.10/site-packages/httpx/_client.py#1773\u001B\\\u001B[2m1773\u001B[0m\u001B]8;;\u001B\\\n",
       "\u001B[2;36m                    \u001B[0m         \u001B[4;94mhttps://api.cloud.llamaindex.ai/api/parsing/job/62b035fa-fecb-4fb3-b88\u001B[0m \u001B[2m               \u001B[0m\n",
       "\u001B[2;36m                    \u001B[0m         \u001B[4;94mf-48c45f050929\u001B[0m \u001B[32m\"HTTP/1.1 200 OK\"\u001B[0m                                       \u001B[2m               \u001B[0m\n"
      ],
      "text/html": [
       "<pre style=\"white-space:pre;overflow-x:auto;line-height:normal;font-family:Menlo,'DejaVu Sans Mono',consolas,'Courier New',monospace\"><span style=\"color: #7fbfbf; text-decoration-color: #7fbfbf\">[12/21/24 16:20:15] </span><span style=\"color: #000080; text-decoration-color: #000080\">INFO    </span> <span style=\"font-weight: bold\">[</span>_client.py:<span style=\"color: #008080; text-decoration-color: #008080; font-weight: bold\">1773</span><span style=\"font-weight: bold\">]</span> &gt;&gt; HTTP Request: <span style=\"color: #808000; text-decoration-color: #808000; font-weight: bold\">GET</span>                                 <a href=\"file:///Users/kimbwook/PycharmProjects/fast-campus/venv/lib/python3.10/site-packages/httpx/_client.py\" target=\"_blank\"><span style=\"color: #7f7f7f; text-decoration-color: #7f7f7f\">_client.py</span></a><span style=\"color: #7f7f7f; text-decoration-color: #7f7f7f\">:</span><a href=\"file:///Users/kimbwook/PycharmProjects/fast-campus/venv/lib/python3.10/site-packages/httpx/_client.py#1773\" target=\"_blank\"><span style=\"color: #7f7f7f; text-decoration-color: #7f7f7f\">1773</span></a>\n",
       "<span style=\"color: #7fbfbf; text-decoration-color: #7fbfbf\">                    </span>         <span style=\"color: #0000ff; text-decoration-color: #0000ff; text-decoration: underline\">https://api.cloud.llamaindex.ai/api/parsing/job/62b035fa-fecb-4fb3-b88</span> <span style=\"color: #7f7f7f; text-decoration-color: #7f7f7f\">               </span>\n",
       "<span style=\"color: #7fbfbf; text-decoration-color: #7fbfbf\">                    </span>         <span style=\"color: #0000ff; text-decoration-color: #0000ff; text-decoration: underline\">f-48c45f050929</span> <span style=\"color: #008000; text-decoration-color: #008000\">\"HTTP/1.1 200 OK\"</span>                                       <span style=\"color: #7f7f7f; text-decoration-color: #7f7f7f\">               </span>\n",
       "</pre>\n"
      ]
     },
     "metadata": {},
     "output_type": "display_data"
    },
    {
     "data": {
      "text/plain": [
       "\u001B[2;36m                   \u001B[0m\u001B[2;36m \u001B[0m\u001B[34mINFO    \u001B[0m \u001B[1m[\u001B[0m_client.py:\u001B[1;36m1773\u001B[0m\u001B[1m]\u001B[0m >> HTTP Request: \u001B[1;33mGET\u001B[0m                                 \u001B]8;id=384643;file:///Users/kimbwook/PycharmProjects/fast-campus/venv/lib/python3.10/site-packages/httpx/_client.py\u001B\\\u001B[2m_client.py\u001B[0m\u001B]8;;\u001B\\\u001B[2m:\u001B[0m\u001B]8;id=553480;file:///Users/kimbwook/PycharmProjects/fast-campus/venv/lib/python3.10/site-packages/httpx/_client.py#1773\u001B\\\u001B[2m1773\u001B[0m\u001B]8;;\u001B\\\n",
       "\u001B[2;36m                    \u001B[0m         \u001B[4;94mhttps://api.cloud.llamaindex.ai/api/parsing/job/6ec29869-6062-464e-9cd\u001B[0m \u001B[2m               \u001B[0m\n",
       "\u001B[2;36m                    \u001B[0m         \u001B[4;94m7-0a7593504b0f/result/markdown\u001B[0m \u001B[32m\"HTTP/1.1 200 OK\"\u001B[0m                       \u001B[2m               \u001B[0m\n"
      ],
      "text/html": [
       "<pre style=\"white-space:pre;overflow-x:auto;line-height:normal;font-family:Menlo,'DejaVu Sans Mono',consolas,'Courier New',monospace\"><span style=\"color: #7fbfbf; text-decoration-color: #7fbfbf\">                    </span><span style=\"color: #000080; text-decoration-color: #000080\">INFO    </span> <span style=\"font-weight: bold\">[</span>_client.py:<span style=\"color: #008080; text-decoration-color: #008080; font-weight: bold\">1773</span><span style=\"font-weight: bold\">]</span> &gt;&gt; HTTP Request: <span style=\"color: #808000; text-decoration-color: #808000; font-weight: bold\">GET</span>                                 <a href=\"file:///Users/kimbwook/PycharmProjects/fast-campus/venv/lib/python3.10/site-packages/httpx/_client.py\" target=\"_blank\"><span style=\"color: #7f7f7f; text-decoration-color: #7f7f7f\">_client.py</span></a><span style=\"color: #7f7f7f; text-decoration-color: #7f7f7f\">:</span><a href=\"file:///Users/kimbwook/PycharmProjects/fast-campus/venv/lib/python3.10/site-packages/httpx/_client.py#1773\" target=\"_blank\"><span style=\"color: #7f7f7f; text-decoration-color: #7f7f7f\">1773</span></a>\n",
       "<span style=\"color: #7fbfbf; text-decoration-color: #7fbfbf\">                    </span>         <span style=\"color: #0000ff; text-decoration-color: #0000ff; text-decoration: underline\">https://api.cloud.llamaindex.ai/api/parsing/job/6ec29869-6062-464e-9cd</span> <span style=\"color: #7f7f7f; text-decoration-color: #7f7f7f\">               </span>\n",
       "<span style=\"color: #7fbfbf; text-decoration-color: #7fbfbf\">                    </span>         <span style=\"color: #0000ff; text-decoration-color: #0000ff; text-decoration: underline\">7-0a7593504b0f/result/markdown</span> <span style=\"color: #008000; text-decoration-color: #008000\">\"HTTP/1.1 200 OK\"</span>                       <span style=\"color: #7f7f7f; text-decoration-color: #7f7f7f\">               </span>\n",
       "</pre>\n"
      ]
     },
     "metadata": {},
     "output_type": "display_data"
    },
    {
     "data": {
      "text/plain": [
       "\u001B[2;36m                   \u001B[0m\u001B[2;36m \u001B[0m\u001B[34mINFO    \u001B[0m \u001B[1m[\u001B[0m_client.py:\u001B[1;36m1773\u001B[0m\u001B[1m]\u001B[0m >> HTTP Request: \u001B[1;33mGET\u001B[0m                                 \u001B]8;id=720607;file:///Users/kimbwook/PycharmProjects/fast-campus/venv/lib/python3.10/site-packages/httpx/_client.py\u001B\\\u001B[2m_client.py\u001B[0m\u001B]8;;\u001B\\\u001B[2m:\u001B[0m\u001B]8;id=775553;file:///Users/kimbwook/PycharmProjects/fast-campus/venv/lib/python3.10/site-packages/httpx/_client.py#1773\u001B\\\u001B[2m1773\u001B[0m\u001B]8;;\u001B\\\n",
       "\u001B[2;36m                    \u001B[0m         \u001B[4;94mhttps://api.cloud.llamaindex.ai/api/parsing/job/62b035fa-fecb-4fb3-b88\u001B[0m \u001B[2m               \u001B[0m\n",
       "\u001B[2;36m                    \u001B[0m         \u001B[4;94mf-48c45f050929/result/markdown\u001B[0m \u001B[32m\"HTTP/1.1 200 OK\"\u001B[0m                       \u001B[2m               \u001B[0m\n"
      ],
      "text/html": [
       "<pre style=\"white-space:pre;overflow-x:auto;line-height:normal;font-family:Menlo,'DejaVu Sans Mono',consolas,'Courier New',monospace\"><span style=\"color: #7fbfbf; text-decoration-color: #7fbfbf\">                    </span><span style=\"color: #000080; text-decoration-color: #000080\">INFO    </span> <span style=\"font-weight: bold\">[</span>_client.py:<span style=\"color: #008080; text-decoration-color: #008080; font-weight: bold\">1773</span><span style=\"font-weight: bold\">]</span> &gt;&gt; HTTP Request: <span style=\"color: #808000; text-decoration-color: #808000; font-weight: bold\">GET</span>                                 <a href=\"file:///Users/kimbwook/PycharmProjects/fast-campus/venv/lib/python3.10/site-packages/httpx/_client.py\" target=\"_blank\"><span style=\"color: #7f7f7f; text-decoration-color: #7f7f7f\">_client.py</span></a><span style=\"color: #7f7f7f; text-decoration-color: #7f7f7f\">:</span><a href=\"file:///Users/kimbwook/PycharmProjects/fast-campus/venv/lib/python3.10/site-packages/httpx/_client.py#1773\" target=\"_blank\"><span style=\"color: #7f7f7f; text-decoration-color: #7f7f7f\">1773</span></a>\n",
       "<span style=\"color: #7fbfbf; text-decoration-color: #7fbfbf\">                    </span>         <span style=\"color: #0000ff; text-decoration-color: #0000ff; text-decoration: underline\">https://api.cloud.llamaindex.ai/api/parsing/job/62b035fa-fecb-4fb3-b88</span> <span style=\"color: #7f7f7f; text-decoration-color: #7f7f7f\">               </span>\n",
       "<span style=\"color: #7fbfbf; text-decoration-color: #7fbfbf\">                    </span>         <span style=\"color: #0000ff; text-decoration-color: #0000ff; text-decoration: underline\">f-48c45f050929/result/markdown</span> <span style=\"color: #008000; text-decoration-color: #008000\">\"HTTP/1.1 200 OK\"</span>                       <span style=\"color: #7f7f7f; text-decoration-color: #7f7f7f\">               </span>\n",
       "</pre>\n"
      ]
     },
     "metadata": {},
     "output_type": "display_data"
    },
    {
     "name": "stdout",
     "output_type": "stream",
     "text": [
      "\u001B[2;36m[12/21/24 16:20:21]\u001B[0m\u001B[2;36m \u001B[0m\u001B[34mINFO    \u001B[0m \u001B[1m[\u001B[0m__init__.py:\u001B[1;36m100\u001B[0m\u001B[1m]\u001B[0m >> You are using  \u001B]8;id=334743;file:///Users/kimbwook/PycharmProjects/fast-campus/venv/lib/python3.10/site-packages/autorag/__init__.py\u001B\\\u001B[2m__init__.py\u001B[0m\u001B]8;;\u001B\\\u001B[2m:\u001B[0m\u001B]8;id=659688;file:///Users/kimbwook/PycharmProjects/fast-campus/venv/lib/python3.10/site-packages/autorag/__init__.py#100\u001B\\\u001B[2m100\u001B[0m\u001B]8;;\u001B\\\n",
      "\u001B[2;36m                    \u001B[0m         API version of AutoRAG.To use local \u001B[2m               \u001B[0m\n",
      "\u001B[2;36m                    \u001B[0m         version, run pip install            \u001B[2m               \u001B[0m\n",
      "\u001B[2;36m                    \u001B[0m         \u001B[32m'AutoRAG\u001B[0m\u001B[32m[\u001B[0m\u001B[32mgpu\u001B[0m\u001B[32m]\u001B[0m\u001B[32m'\u001B[0m                      \u001B[2m               \u001B[0m\n",
      "\u001B[2;36m[12/21/24 16:20:21]\u001B[0m\u001B[2;36m \u001B[0m\u001B[34mINFO    \u001B[0m \u001B[1m[\u001B[0m__init__.py:\u001B[1;36m100\u001B[0m\u001B[1m]\u001B[0m >> You are using  \u001B]8;id=96013;file:///Users/kimbwook/PycharmProjects/fast-campus/venv/lib/python3.10/site-packages/autorag/__init__.py\u001B\\\u001B[2m__init__.py\u001B[0m\u001B]8;;\u001B\\\u001B[2m:\u001B[0m\u001B]8;id=994922;file:///Users/kimbwook/PycharmProjects/fast-campus/venv/lib/python3.10/site-packages/autorag/__init__.py#100\u001B\\\u001B[2m100\u001B[0m\u001B]8;;\u001B\\\n",
      "\u001B[2;36m                    \u001B[0m         API version of AutoRAG.To use local \u001B[2m               \u001B[0m\n",
      "\u001B[2;36m                    \u001B[0m         version, run pip install            \u001B[2m               \u001B[0m\n",
      "\u001B[2;36m                    \u001B[0m         \u001B[32m'AutoRAG\u001B[0m\u001B[32m[\u001B[0m\u001B[32mgpu\u001B[0m\u001B[32m]\u001B[0m\u001B[32m'\u001B[0m                      \u001B[2m               \u001B[0m\n",
      "\u001B[2;36m[12/21/24 16:20:21]\u001B[0m\u001B[2;36m \u001B[0m\u001B[34mINFO    \u001B[0m \u001B[1m[\u001B[0m__init__.py:\u001B[1;36m100\u001B[0m\u001B[1m]\u001B[0m >> You are using  \u001B]8;id=346760;file:///Users/kimbwook/PycharmProjects/fast-campus/venv/lib/python3.10/site-packages/autorag/__init__.py\u001B\\\u001B[2m__init__.py\u001B[0m\u001B]8;;\u001B\\\u001B[2m:\u001B[0m\u001B]8;id=139548;file:///Users/kimbwook/PycharmProjects/fast-campus/venv/lib/python3.10/site-packages/autorag/__init__.py#100\u001B\\\u001B[2m100\u001B[0m\u001B]8;;\u001B\\\n",
      "\u001B[2;36m                    \u001B[0m         API version of AutoRAG.To use local \u001B[2m               \u001B[0m\n",
      "\u001B[2;36m                    \u001B[0m         version, run pip install            \u001B[2m               \u001B[0m\n",
      "\u001B[2;36m                    \u001B[0m         \u001B[32m'AutoRAG\u001B[0m\u001B[32m[\u001B[0m\u001B[32mgpu\u001B[0m\u001B[32m]\u001B[0m\u001B[32m'\u001B[0m                      \u001B[2m               \u001B[0m\n",
      "\u001B[2;36m[12/21/24 16:20:21]\u001B[0m\u001B[2;36m \u001B[0m\u001B[34mINFO    \u001B[0m \u001B[1m[\u001B[0m__init__.py:\u001B[1;36m100\u001B[0m\u001B[1m]\u001B[0m >> You are using  \u001B]8;id=776865;file:///Users/kimbwook/PycharmProjects/fast-campus/venv/lib/python3.10/site-packages/autorag/__init__.py\u001B\\\u001B[2m__init__.py\u001B[0m\u001B]8;;\u001B\\\u001B[2m:\u001B[0m\u001B]8;id=222428;file:///Users/kimbwook/PycharmProjects/fast-campus/venv/lib/python3.10/site-packages/autorag/__init__.py#100\u001B\\\u001B[2m100\u001B[0m\u001B]8;;\u001B\\\n",
      "\u001B[2;36m                    \u001B[0m         API version of AutoRAG.To use local \u001B[2m               \u001B[0m\n",
      "\u001B[2;36m                    \u001B[0m         version, run pip install            \u001B[2m               \u001B[0m\n",
      "\u001B[2;36m                    \u001B[0m         \u001B[32m'AutoRAG\u001B[0m\u001B[32m[\u001B[0m\u001B[32mgpu\u001B[0m\u001B[32m]\u001B[0m\u001B[32m'\u001B[0m                      \u001B[2m               \u001B[0m\n",
      "\u001B[2;36m[12/21/24 16:20:21]\u001B[0m\u001B[2;36m \u001B[0m\u001B[34mINFO    \u001B[0m \u001B[1m[\u001B[0m__init__.py:\u001B[1;36m100\u001B[0m\u001B[1m]\u001B[0m >> You are using  \u001B]8;id=718900;file:///Users/kimbwook/PycharmProjects/fast-campus/venv/lib/python3.10/site-packages/autorag/__init__.py\u001B\\\u001B[2m__init__.py\u001B[0m\u001B]8;;\u001B\\\u001B[2m:\u001B[0m\u001B]8;id=200012;file:///Users/kimbwook/PycharmProjects/fast-campus/venv/lib/python3.10/site-packages/autorag/__init__.py#100\u001B\\\u001B[2m100\u001B[0m\u001B]8;;\u001B\\\n",
      "\u001B[2;36m                    \u001B[0m         API version of AutoRAG.To use local \u001B[2m               \u001B[0m\n",
      "\u001B[2;36m                    \u001B[0m         version, run pip install            \u001B[2m               \u001B[0m\n",
      "\u001B[2;36m                    \u001B[0m         \u001B[32m'AutoRAG\u001B[0m\u001B[32m[\u001B[0m\u001B[32mgpu\u001B[0m\u001B[32m]\u001B[0m\u001B[32m'\u001B[0m                      \u001B[2m               \u001B[0m\n",
      "\u001B[2;36m[12/21/24 16:20:21]\u001B[0m\u001B[2;36m \u001B[0m\u001B[34mINFO    \u001B[0m \u001B[1m[\u001B[0m__init__.py:\u001B[1;36m100\u001B[0m\u001B[1m]\u001B[0m >> You are using  \u001B]8;id=689913;file:///Users/kimbwook/PycharmProjects/fast-campus/venv/lib/python3.10/site-packages/autorag/__init__.py\u001B\\\u001B[2m__init__.py\u001B[0m\u001B]8;;\u001B\\\u001B[2m:\u001B[0m\u001B]8;id=469781;file:///Users/kimbwook/PycharmProjects/fast-campus/venv/lib/python3.10/site-packages/autorag/__init__.py#100\u001B\\\u001B[2m100\u001B[0m\u001B]8;;\u001B\\\n",
      "\u001B[2;36m                    \u001B[0m         API version of AutoRAG.To use local \u001B[2m               \u001B[0m\n",
      "\u001B[2;36m                    \u001B[0m         version, run pip install            \u001B[2m               \u001B[0m\n",
      "\u001B[2;36m                    \u001B[0m         \u001B[32m'AutoRAG\u001B[0m\u001B[32m[\u001B[0m\u001B[32mgpu\u001B[0m\u001B[32m]\u001B[0m\u001B[32m'\u001B[0m                      \u001B[2m               \u001B[0m\n",
      "\u001B[2;36m[12/21/24 16:20:21]\u001B[0m\u001B[2;36m \u001B[0m\u001B[34mINFO    \u001B[0m \u001B[1m[\u001B[0m__init__.py:\u001B[1;36m100\u001B[0m\u001B[1m]\u001B[0m >> You are using  \u001B]8;id=848475;file:///Users/kimbwook/PycharmProjects/fast-campus/venv/lib/python3.10/site-packages/autorag/__init__.py\u001B\\\u001B[2m__init__.py\u001B[0m\u001B]8;;\u001B\\\u001B[2m:\u001B[0m\u001B]8;id=856704;file:///Users/kimbwook/PycharmProjects/fast-campus/venv/lib/python3.10/site-packages/autorag/__init__.py#100\u001B\\\u001B[2m100\u001B[0m\u001B]8;;\u001B\\\n",
      "\u001B[2;36m                    \u001B[0m         API version of AutoRAG.To use local \u001B[2m               \u001B[0m\n",
      "\u001B[2;36m                    \u001B[0m         version, run pip install            \u001B[2m               \u001B[0m\n",
      "\u001B[2;36m                    \u001B[0m         \u001B[32m'AutoRAG\u001B[0m\u001B[32m[\u001B[0m\u001B[32mgpu\u001B[0m\u001B[32m]\u001B[0m\u001B[32m'\u001B[0m                      \u001B[2m               \u001B[0m\n",
      "\u001B[2;36m[12/21/24 16:20:21]\u001B[0m\u001B[2;36m \u001B[0m\u001B[34mINFO    \u001B[0m \u001B[1m[\u001B[0m__init__.py:\u001B[1;36m100\u001B[0m\u001B[1m]\u001B[0m >> You are using  \u001B]8;id=608818;file:///Users/kimbwook/PycharmProjects/fast-campus/venv/lib/python3.10/site-packages/autorag/__init__.py\u001B\\\u001B[2m__init__.py\u001B[0m\u001B]8;;\u001B\\\u001B[2m:\u001B[0m\u001B]8;id=679247;file:///Users/kimbwook/PycharmProjects/fast-campus/venv/lib/python3.10/site-packages/autorag/__init__.py#100\u001B\\\u001B[2m100\u001B[0m\u001B]8;;\u001B\\\n",
      "\u001B[2;36m                    \u001B[0m         API version of AutoRAG.To use local \u001B[2m               \u001B[0m\n",
      "\u001B[2;36m                    \u001B[0m         version, run pip install            \u001B[2m               \u001B[0m\n",
      "\u001B[2;36m                    \u001B[0m         \u001B[32m'AutoRAG\u001B[0m\u001B[32m[\u001B[0m\u001B[32mgpu\u001B[0m\u001B[32m]\u001B[0m\u001B[32m'\u001B[0m                      \u001B[2m               \u001B[0m\n",
      "\u001B[2;36m                   \u001B[0m\u001B[2;36m \u001B[0m\u001B[34mINFO    \u001B[0m \u001B[1m[\u001B[0m__init__.py:\u001B[1;36m128\u001B[0m\u001B[1m]\u001B[0m >> You are using  \u001B]8;id=873907;file:///Users/kimbwook/PycharmProjects/fast-campus/venv/lib/python3.10/site-packages/autorag/__init__.py\u001B\\\u001B[2m__init__.py\u001B[0m\u001B]8;;\u001B\\\u001B[2m:\u001B[0m\u001B]8;id=331550;file:///Users/kimbwook/PycharmProjects/fast-campus/venv/lib/python3.10/site-packages/autorag/__init__.py#128\u001B\\\u001B[2m128\u001B[0m\u001B]8;;\u001B\\\n",
      "\u001B[2;36m                    \u001B[0m         API version of AutoRAG.To use local \u001B[2m               \u001B[0m\n",
      "\u001B[2;36m                    \u001B[0m         version, run pip install            \u001B[2m               \u001B[0m\n",
      "\u001B[2;36m                    \u001B[0m         \u001B[32m'AutoRAG\u001B[0m\u001B[32m[\u001B[0m\u001B[32mgpu\u001B[0m\u001B[32m]\u001B[0m\u001B[32m'\u001B[0m                      \u001B[2m               \u001B[0m\n",
      "\u001B[2;36m                   \u001B[0m\u001B[2;36m \u001B[0m\u001B[34mINFO    \u001B[0m \u001B[1m[\u001B[0m__init__.py:\u001B[1;36m128\u001B[0m\u001B[1m]\u001B[0m >> You are using  \u001B]8;id=837597;file:///Users/kimbwook/PycharmProjects/fast-campus/venv/lib/python3.10/site-packages/autorag/__init__.py\u001B\\\u001B[2m__init__.py\u001B[0m\u001B]8;;\u001B\\\u001B[2m:\u001B[0m\u001B]8;id=906078;file:///Users/kimbwook/PycharmProjects/fast-campus/venv/lib/python3.10/site-packages/autorag/__init__.py#128\u001B\\\u001B[2m128\u001B[0m\u001B]8;;\u001B\\\n",
      "\u001B[2;36m                    \u001B[0m         API version of AutoRAG.To use local \u001B[2m               \u001B[0m\n",
      "\u001B[2;36m                    \u001B[0m         version, run pip install            \u001B[2m               \u001B[0m\n",
      "\u001B[2;36m                    \u001B[0m         \u001B[32m'AutoRAG\u001B[0m\u001B[32m[\u001B[0m\u001B[32mgpu\u001B[0m\u001B[32m]\u001B[0m\u001B[32m'\u001B[0m                      \u001B[2m               \u001B[0m\n",
      "\u001B[2;36m                   \u001B[0m\u001B[2;36m \u001B[0m\u001B[34mINFO    \u001B[0m \u001B[1m[\u001B[0m__init__.py:\u001B[1;36m128\u001B[0m\u001B[1m]\u001B[0m >> You are using  \u001B]8;id=419061;file:///Users/kimbwook/PycharmProjects/fast-campus/venv/lib/python3.10/site-packages/autorag/__init__.py\u001B\\\u001B[2m__init__.py\u001B[0m\u001B]8;;\u001B\\\u001B[2m:\u001B[0m\u001B]8;id=621002;file:///Users/kimbwook/PycharmProjects/fast-campus/venv/lib/python3.10/site-packages/autorag/__init__.py#128\u001B\\\u001B[2m128\u001B[0m\u001B]8;;\u001B\\\n",
      "\u001B[2;36m                    \u001B[0m         API version of AutoRAG.To use local \u001B[2m               \u001B[0m\n",
      "\u001B[2;36m                    \u001B[0m         version, run pip install            \u001B[2m               \u001B[0m\n",
      "\u001B[2;36m                    \u001B[0m         \u001B[32m'AutoRAG\u001B[0m\u001B[32m[\u001B[0m\u001B[32mgpu\u001B[0m\u001B[32m]\u001B[0m\u001B[32m'\u001B[0m                      \u001B[2m               \u001B[0m\n",
      "\u001B[2;36m                   \u001B[0m\u001B[2;36m \u001B[0m\u001B[34mINFO    \u001B[0m \u001B[1m[\u001B[0m__init__.py:\u001B[1;36m128\u001B[0m\u001B[1m]\u001B[0m >> You are using  \u001B]8;id=140275;file:///Users/kimbwook/PycharmProjects/fast-campus/venv/lib/python3.10/site-packages/autorag/__init__.py\u001B\\\u001B[2m__init__.py\u001B[0m\u001B]8;;\u001B\\\u001B[2m:\u001B[0m\u001B]8;id=942184;file:///Users/kimbwook/PycharmProjects/fast-campus/venv/lib/python3.10/site-packages/autorag/__init__.py#128\u001B\\\u001B[2m128\u001B[0m\u001B]8;;\u001B\\\n",
      "\u001B[2;36m                    \u001B[0m         API version of AutoRAG.To use local \u001B[2m               \u001B[0m\n",
      "\u001B[2;36m                    \u001B[0m         version, run pip install            \u001B[2m               \u001B[0m\n",
      "\u001B[2;36m                    \u001B[0m         \u001B[32m'AutoRAG\u001B[0m\u001B[32m[\u001B[0m\u001B[32mgpu\u001B[0m\u001B[32m]\u001B[0m\u001B[32m'\u001B[0m                      \u001B[2m               \u001B[0m\n",
      "\u001B[2;36m                   \u001B[0m\u001B[2;36m \u001B[0m\u001B[34mINFO    \u001B[0m \u001B[1m[\u001B[0m__init__.py:\u001B[1;36m128\u001B[0m\u001B[1m]\u001B[0m >> You are using  \u001B]8;id=555796;file:///Users/kimbwook/PycharmProjects/fast-campus/venv/lib/python3.10/site-packages/autorag/__init__.py\u001B\\\u001B[2m__init__.py\u001B[0m\u001B]8;;\u001B\\\u001B[2m:\u001B[0m\u001B]8;id=30454;file:///Users/kimbwook/PycharmProjects/fast-campus/venv/lib/python3.10/site-packages/autorag/__init__.py#128\u001B\\\u001B[2m128\u001B[0m\u001B]8;;\u001B\\\n",
      "\u001B[2;36m                    \u001B[0m         API version of AutoRAG.To use local \u001B[2m               \u001B[0m\n",
      "\u001B[2;36m                    \u001B[0m         version, run pip install            \u001B[2m               \u001B[0m\n",
      "\u001B[2;36m                    \u001B[0m         \u001B[32m'AutoRAG\u001B[0m\u001B[32m[\u001B[0m\u001B[32mgpu\u001B[0m\u001B[32m]\u001B[0m\u001B[32m'\u001B[0m                      \u001B[2m               \u001B[0m\n",
      "\u001B[2;36m                   \u001B[0m\u001B[2;36m \u001B[0m\u001B[34mINFO    \u001B[0m \u001B[1m[\u001B[0m__init__.py:\u001B[1;36m128\u001B[0m\u001B[1m]\u001B[0m >> You are using  \u001B]8;id=259750;file:///Users/kimbwook/PycharmProjects/fast-campus/venv/lib/python3.10/site-packages/autorag/__init__.py\u001B\\\u001B[2m__init__.py\u001B[0m\u001B]8;;\u001B\\\u001B[2m:\u001B[0m\u001B]8;id=454833;file:///Users/kimbwook/PycharmProjects/fast-campus/venv/lib/python3.10/site-packages/autorag/__init__.py#128\u001B\\\u001B[2m128\u001B[0m\u001B]8;;\u001B\\\n",
      "\u001B[2;36m                    \u001B[0m         API version of AutoRAG.To use local \u001B[2m               \u001B[0m\n",
      "\u001B[2;36m                    \u001B[0m         version, run pip install            \u001B[2m               \u001B[0m\n",
      "\u001B[2;36m                    \u001B[0m         \u001B[32m'AutoRAG\u001B[0m\u001B[32m[\u001B[0m\u001B[32mgpu\u001B[0m\u001B[32m]\u001B[0m\u001B[32m'\u001B[0m                      \u001B[2m               \u001B[0m\n",
      "\u001B[2;36m                   \u001B[0m\u001B[2;36m \u001B[0m\u001B[34mINFO    \u001B[0m \u001B[1m[\u001B[0m__init__.py:\u001B[1;36m128\u001B[0m\u001B[1m]\u001B[0m >> You are using  \u001B]8;id=451358;file:///Users/kimbwook/PycharmProjects/fast-campus/venv/lib/python3.10/site-packages/autorag/__init__.py\u001B\\\u001B[2m__init__.py\u001B[0m\u001B]8;;\u001B\\\u001B[2m:\u001B[0m\u001B]8;id=309433;file:///Users/kimbwook/PycharmProjects/fast-campus/venv/lib/python3.10/site-packages/autorag/__init__.py#128\u001B\\\u001B[2m128\u001B[0m\u001B]8;;\u001B\\\n",
      "\u001B[2;36m                    \u001B[0m         API version of AutoRAG.To use local \u001B[2m               \u001B[0m\n",
      "\u001B[2;36m                    \u001B[0m         version, run pip install            \u001B[2m               \u001B[0m\n",
      "\u001B[2;36m                    \u001B[0m         \u001B[32m'AutoRAG\u001B[0m\u001B[32m[\u001B[0m\u001B[32mgpu\u001B[0m\u001B[32m]\u001B[0m\u001B[32m'\u001B[0m                      \u001B[2m               \u001B[0m\n",
      "\u001B[2;36m                   \u001B[0m\u001B[2;36m \u001B[0m\u001B[34mINFO    \u001B[0m \u001B[1m[\u001B[0m__init__.py:\u001B[1;36m128\u001B[0m\u001B[1m]\u001B[0m >> You are using  \u001B]8;id=579853;file:///Users/kimbwook/PycharmProjects/fast-campus/venv/lib/python3.10/site-packages/autorag/__init__.py\u001B\\\u001B[2m__init__.py\u001B[0m\u001B]8;;\u001B\\\u001B[2m:\u001B[0m\u001B]8;id=402563;file:///Users/kimbwook/PycharmProjects/fast-campus/venv/lib/python3.10/site-packages/autorag/__init__.py#128\u001B\\\u001B[2m128\u001B[0m\u001B]8;;\u001B\\\n",
      "\u001B[2;36m                    \u001B[0m         API version of AutoRAG.To use local \u001B[2m               \u001B[0m\n",
      "\u001B[2;36m                    \u001B[0m         version, run pip install            \u001B[2m               \u001B[0m\n",
      "\u001B[2;36m                    \u001B[0m         \u001B[32m'AutoRAG\u001B[0m\u001B[32m[\u001B[0m\u001B[32mgpu\u001B[0m\u001B[32m]\u001B[0m\u001B[32m'\u001B[0m                      \u001B[2m               \u001B[0m\n"
     ]
    },
    {
     "data": {
      "text/plain": [
       "\u001B[2;36m[12/21/24 16:20:22]\u001B[0m\u001B[2;36m \u001B[0m\u001B[34mINFO    \u001B[0m \u001B[1m[\u001B[0mparser.py:\u001B[1;36m37\u001B[0m\u001B[1m]\u001B[0m >> Parsing Done!                                           \u001B]8;id=988100;file:///Users/kimbwook/PycharmProjects/fast-campus/venv/lib/python3.10/site-packages/autorag/parser.py\u001B\\\u001B[2mparser.py\u001B[0m\u001B]8;;\u001B\\\u001B[2m:\u001B[0m\u001B]8;id=176567;file:///Users/kimbwook/PycharmProjects/fast-campus/venv/lib/python3.10/site-packages/autorag/parser.py#37\u001B\\\u001B[2m37\u001B[0m\u001B]8;;\u001B\\\n"
      ],
      "text/html": [
       "<pre style=\"white-space:pre;overflow-x:auto;line-height:normal;font-family:Menlo,'DejaVu Sans Mono',consolas,'Courier New',monospace\"><span style=\"color: #7fbfbf; text-decoration-color: #7fbfbf\">[12/21/24 16:20:22] </span><span style=\"color: #000080; text-decoration-color: #000080\">INFO    </span> <span style=\"font-weight: bold\">[</span>parser.py:<span style=\"color: #008080; text-decoration-color: #008080; font-weight: bold\">37</span><span style=\"font-weight: bold\">]</span> &gt;&gt; Parsing Done!                                           <a href=\"file:///Users/kimbwook/PycharmProjects/fast-campus/venv/lib/python3.10/site-packages/autorag/parser.py\" target=\"_blank\"><span style=\"color: #7f7f7f; text-decoration-color: #7f7f7f\">parser.py</span></a><span style=\"color: #7f7f7f; text-decoration-color: #7f7f7f\">:</span><a href=\"file:///Users/kimbwook/PycharmProjects/fast-campus/venv/lib/python3.10/site-packages/autorag/parser.py#37\" target=\"_blank\"><span style=\"color: #7f7f7f; text-decoration-color: #7f7f7f\">37</span></a>\n",
       "</pre>\n"
      ]
     },
     "metadata": {},
     "output_type": "display_data"
    }
   ],
   "execution_count": 5
  },
  {
   "metadata": {},
   "cell_type": "markdown",
   "source": "# Check Result",
   "id": "cb9d1b82b3108bf5"
  },
  {
   "metadata": {
    "ExecuteTime": {
     "end_time": "2024-12-21T07:21:11.368489Z",
     "start_time": "2024-12-21T07:21:11.357139Z"
    }
   },
   "cell_type": "code",
   "source": [
    "df = pd.read_parquet(os.path.join(project_dir, 'parsed_result.parquet'))\n",
    "df"
   ],
   "id": "3785a56af29b669f",
   "outputs": [
    {
     "data": {
      "text/plain": [
       "                                                texts  \\\n",
       "0   # 중소벤처기업부공고제2024–300호\\n\\n# 2024년 글로벌팁스(GlobalT...   \n",
       "1   # 서류및발표평가\\n\\n# 결과에최대 5점까지 가점부여\\n\\n|가점세부항목|점수|비...   \n",
       "2   # 6 유의사항\\n\\n◈창업지원사업에신청하는창업기업은관련법령에따라 다음사항에유의하여...   \n",
       "3   ◦ 선정자는 창업진흥원이 지정한 은행계좌(사업비계좌) 개설 및 창업 사업 통합 관리...   \n",
       "4   # 창업여부 기준표\\n\\n|신청기업구분|상세구분| |창업여부|\\n|---|---|-...   \n",
       "5   # 붙임2\\n\\n|지원|제외|대상|업종|\\n|---|---|---|---|\\n|▶ ...   \n",
       "6   # 붙임3\\n\\n# 동시수행불가한글로벌창업지원사업목록\\n\\n※’24년도중소벤처기업부...   \n",
       "7   # 붙임4\\n\\n# 신산업 창업 분야\\n\\n※「중소기업창업지원법」제25조4항에따라신...   \n",
       "8   # 붙임5\\n\\n# 소재·부품·장비 및 스타트업 10대 초격차분야\\n\\n☞ 품목별 ...   \n",
       "9   # 전략분야\\n\\n# 전략품목\\n\\n|수소저장·운반용복합소재|4DFMCW라이다신호처...   \n",
       "10  # 스타트업 10대 초격차 분야\\n\\n|10대분야|세부분류(예)|\\n|---|---...   \n",
       "11  # 지원내용\\n\\n□  협약기간: 협약시작일로부터 10개월 이내\\n\\n*사업기간은 ...   \n",
       "12  # 제출서류\\n\\n|제출서류|제출방법|유의사항|\\n|---|---|---|\\n|①사...   \n",
       "13  # 5 평가및선정\\n\\n□평가절차:총2단계평가(서류 + (현장실사))를통해최종선정 ...   \n",
       "14  # 최종선정:\\n\\n서류및발표평가결과에최종가점을합산하여지원대상자선정\\n\\n- 지원규...   \n",
       "15  * 합의 하에 공동 작성한 동일‧유사 사업계획서로 선정된 경우일지라도, 공동작성자\\...   \n",
       "16  【사업계획서 작성】\\n◦ 중장기 사업수행 계획은 총사업 기간(3년)에 맞추어 작성하...   \n",
       "17  □ 선정 후 유의사항\\n◦ 동 사업에 선정된 자가 공고문 및 관련 규정에 위배되거나...   \n",
       "18  붙임1 창업기업 확인에 관한 유의사항\\n□ 창업의 범위\\n◦ 다음의 요건을 모두 충...   \n",
       "19  2 신청자격 및 요건\\n□ 신청자격\\n◦ ｢중소기업기본법｣ 제2조제1항에 따른 중소...   \n",
       "20  □ 신청 제외 대상 (사업 신청‧접수 마감일 기준)\\n① 금융기관 등으로부터 채무불...   \n",
       "21  □ 의무 및 역할\\n◦ 선정자는「중소기업창업 지원사업 운영요령」 및 「창업사업화\\n...   \n",
       "22  4 신청 및 접수\\n□ 신청 ‧ 접수 기간\\n◦ 접수기간 : 2024. 5. 7.(...   \n",
       "\n",
       "                                                 path  page  \\\n",
       "0   /Users/kimbwook/PycharmProjects/fast-campus/no...     1   \n",
       "1   /Users/kimbwook/PycharmProjects/fast-campus/no...    10   \n",
       "2   /Users/kimbwook/PycharmProjects/fast-campus/no...    11   \n",
       "3   /Users/kimbwook/PycharmProjects/fast-campus/no...    15   \n",
       "4   /Users/kimbwook/PycharmProjects/fast-campus/no...    17   \n",
       "5   /Users/kimbwook/PycharmProjects/fast-campus/no...    18   \n",
       "6   /Users/kimbwook/PycharmProjects/fast-campus/no...    19   \n",
       "7   /Users/kimbwook/PycharmProjects/fast-campus/no...    20   \n",
       "8   /Users/kimbwook/PycharmProjects/fast-campus/no...    21   \n",
       "9   /Users/kimbwook/PycharmProjects/fast-campus/no...    22   \n",
       "10  /Users/kimbwook/PycharmProjects/fast-campus/no...    23   \n",
       "11  /Users/kimbwook/PycharmProjects/fast-campus/no...     5   \n",
       "12  /Users/kimbwook/PycharmProjects/fast-campus/no...     7   \n",
       "13  /Users/kimbwook/PycharmProjects/fast-campus/no...     8   \n",
       "14  /Users/kimbwook/PycharmProjects/fast-campus/no...     9   \n",
       "15  /Users/kimbwook/PycharmProjects/fast-campus/no...    12   \n",
       "16  /Users/kimbwook/PycharmProjects/fast-campus/no...    13   \n",
       "17  /Users/kimbwook/PycharmProjects/fast-campus/no...    14   \n",
       "18  /Users/kimbwook/PycharmProjects/fast-campus/no...    16   \n",
       "19  /Users/kimbwook/PycharmProjects/fast-campus/no...     2   \n",
       "20  /Users/kimbwook/PycharmProjects/fast-campus/no...     3   \n",
       "21  /Users/kimbwook/PycharmProjects/fast-campus/no...     4   \n",
       "22  /Users/kimbwook/PycharmProjects/fast-campus/no...     6   \n",
       "\n",
       "   last_modified_datetime  \n",
       "0              2024-12-11  \n",
       "1              2024-12-11  \n",
       "2              2024-12-11  \n",
       "3              2024-12-11  \n",
       "4              2024-12-11  \n",
       "5              2024-12-11  \n",
       "6              2024-12-11  \n",
       "7              2024-12-11  \n",
       "8              2024-12-11  \n",
       "9              2024-12-11  \n",
       "10             2024-12-11  \n",
       "11             2024-12-11  \n",
       "12             2024-12-11  \n",
       "13             2024-12-11  \n",
       "14             2024-12-11  \n",
       "15             2024-12-11  \n",
       "16             2024-12-11  \n",
       "17             2024-12-11  \n",
       "18             2024-12-11  \n",
       "19             2024-12-11  \n",
       "20             2024-12-11  \n",
       "21             2024-12-11  \n",
       "22             2024-12-11  "
      ],
      "text/html": [
       "<div>\n",
       "<style scoped>\n",
       "    .dataframe tbody tr th:only-of-type {\n",
       "        vertical-align: middle;\n",
       "    }\n",
       "\n",
       "    .dataframe tbody tr th {\n",
       "        vertical-align: top;\n",
       "    }\n",
       "\n",
       "    .dataframe thead th {\n",
       "        text-align: right;\n",
       "    }\n",
       "</style>\n",
       "<table border=\"1\" class=\"dataframe\">\n",
       "  <thead>\n",
       "    <tr style=\"text-align: right;\">\n",
       "      <th></th>\n",
       "      <th>texts</th>\n",
       "      <th>path</th>\n",
       "      <th>page</th>\n",
       "      <th>last_modified_datetime</th>\n",
       "    </tr>\n",
       "  </thead>\n",
       "  <tbody>\n",
       "    <tr>\n",
       "      <th>0</th>\n",
       "      <td># 중소벤처기업부공고제2024–300호\\n\\n# 2024년 글로벌팁스(GlobalT...</td>\n",
       "      <td>/Users/kimbwook/PycharmProjects/fast-campus/no...</td>\n",
       "      <td>1</td>\n",
       "      <td>2024-12-11</td>\n",
       "    </tr>\n",
       "    <tr>\n",
       "      <th>1</th>\n",
       "      <td># 서류및발표평가\\n\\n# 결과에최대 5점까지 가점부여\\n\\n|가점세부항목|점수|비...</td>\n",
       "      <td>/Users/kimbwook/PycharmProjects/fast-campus/no...</td>\n",
       "      <td>10</td>\n",
       "      <td>2024-12-11</td>\n",
       "    </tr>\n",
       "    <tr>\n",
       "      <th>2</th>\n",
       "      <td># 6 유의사항\\n\\n◈창업지원사업에신청하는창업기업은관련법령에따라 다음사항에유의하여...</td>\n",
       "      <td>/Users/kimbwook/PycharmProjects/fast-campus/no...</td>\n",
       "      <td>11</td>\n",
       "      <td>2024-12-11</td>\n",
       "    </tr>\n",
       "    <tr>\n",
       "      <th>3</th>\n",
       "      <td>◦ 선정자는 창업진흥원이 지정한 은행계좌(사업비계좌) 개설 및 창업 사업 통합 관리...</td>\n",
       "      <td>/Users/kimbwook/PycharmProjects/fast-campus/no...</td>\n",
       "      <td>15</td>\n",
       "      <td>2024-12-11</td>\n",
       "    </tr>\n",
       "    <tr>\n",
       "      <th>4</th>\n",
       "      <td># 창업여부 기준표\\n\\n|신청기업구분|상세구분| |창업여부|\\n|---|---|-...</td>\n",
       "      <td>/Users/kimbwook/PycharmProjects/fast-campus/no...</td>\n",
       "      <td>17</td>\n",
       "      <td>2024-12-11</td>\n",
       "    </tr>\n",
       "    <tr>\n",
       "      <th>5</th>\n",
       "      <td># 붙임2\\n\\n|지원|제외|대상|업종|\\n|---|---|---|---|\\n|▶ ...</td>\n",
       "      <td>/Users/kimbwook/PycharmProjects/fast-campus/no...</td>\n",
       "      <td>18</td>\n",
       "      <td>2024-12-11</td>\n",
       "    </tr>\n",
       "    <tr>\n",
       "      <th>6</th>\n",
       "      <td># 붙임3\\n\\n# 동시수행불가한글로벌창업지원사업목록\\n\\n※’24년도중소벤처기업부...</td>\n",
       "      <td>/Users/kimbwook/PycharmProjects/fast-campus/no...</td>\n",
       "      <td>19</td>\n",
       "      <td>2024-12-11</td>\n",
       "    </tr>\n",
       "    <tr>\n",
       "      <th>7</th>\n",
       "      <td># 붙임4\\n\\n# 신산업 창업 분야\\n\\n※「중소기업창업지원법」제25조4항에따라신...</td>\n",
       "      <td>/Users/kimbwook/PycharmProjects/fast-campus/no...</td>\n",
       "      <td>20</td>\n",
       "      <td>2024-12-11</td>\n",
       "    </tr>\n",
       "    <tr>\n",
       "      <th>8</th>\n",
       "      <td># 붙임5\\n\\n# 소재·부품·장비 및 스타트업 10대 초격차분야\\n\\n☞ 품목별 ...</td>\n",
       "      <td>/Users/kimbwook/PycharmProjects/fast-campus/no...</td>\n",
       "      <td>21</td>\n",
       "      <td>2024-12-11</td>\n",
       "    </tr>\n",
       "    <tr>\n",
       "      <th>9</th>\n",
       "      <td># 전략분야\\n\\n# 전략품목\\n\\n|수소저장·운반용복합소재|4DFMCW라이다신호처...</td>\n",
       "      <td>/Users/kimbwook/PycharmProjects/fast-campus/no...</td>\n",
       "      <td>22</td>\n",
       "      <td>2024-12-11</td>\n",
       "    </tr>\n",
       "    <tr>\n",
       "      <th>10</th>\n",
       "      <td># 스타트업 10대 초격차 분야\\n\\n|10대분야|세부분류(예)|\\n|---|---...</td>\n",
       "      <td>/Users/kimbwook/PycharmProjects/fast-campus/no...</td>\n",
       "      <td>23</td>\n",
       "      <td>2024-12-11</td>\n",
       "    </tr>\n",
       "    <tr>\n",
       "      <th>11</th>\n",
       "      <td># 지원내용\\n\\n□  협약기간: 협약시작일로부터 10개월 이내\\n\\n*사업기간은 ...</td>\n",
       "      <td>/Users/kimbwook/PycharmProjects/fast-campus/no...</td>\n",
       "      <td>5</td>\n",
       "      <td>2024-12-11</td>\n",
       "    </tr>\n",
       "    <tr>\n",
       "      <th>12</th>\n",
       "      <td># 제출서류\\n\\n|제출서류|제출방법|유의사항|\\n|---|---|---|\\n|①사...</td>\n",
       "      <td>/Users/kimbwook/PycharmProjects/fast-campus/no...</td>\n",
       "      <td>7</td>\n",
       "      <td>2024-12-11</td>\n",
       "    </tr>\n",
       "    <tr>\n",
       "      <th>13</th>\n",
       "      <td># 5 평가및선정\\n\\n□평가절차:총2단계평가(서류 + (현장실사))를통해최종선정 ...</td>\n",
       "      <td>/Users/kimbwook/PycharmProjects/fast-campus/no...</td>\n",
       "      <td>8</td>\n",
       "      <td>2024-12-11</td>\n",
       "    </tr>\n",
       "    <tr>\n",
       "      <th>14</th>\n",
       "      <td># 최종선정:\\n\\n서류및발표평가결과에최종가점을합산하여지원대상자선정\\n\\n- 지원규...</td>\n",
       "      <td>/Users/kimbwook/PycharmProjects/fast-campus/no...</td>\n",
       "      <td>9</td>\n",
       "      <td>2024-12-11</td>\n",
       "    </tr>\n",
       "    <tr>\n",
       "      <th>15</th>\n",
       "      <td>* 합의 하에 공동 작성한 동일‧유사 사업계획서로 선정된 경우일지라도, 공동작성자\\...</td>\n",
       "      <td>/Users/kimbwook/PycharmProjects/fast-campus/no...</td>\n",
       "      <td>12</td>\n",
       "      <td>2024-12-11</td>\n",
       "    </tr>\n",
       "    <tr>\n",
       "      <th>16</th>\n",
       "      <td>【사업계획서 작성】\\n◦ 중장기 사업수행 계획은 총사업 기간(3년)에 맞추어 작성하...</td>\n",
       "      <td>/Users/kimbwook/PycharmProjects/fast-campus/no...</td>\n",
       "      <td>13</td>\n",
       "      <td>2024-12-11</td>\n",
       "    </tr>\n",
       "    <tr>\n",
       "      <th>17</th>\n",
       "      <td>□ 선정 후 유의사항\\n◦ 동 사업에 선정된 자가 공고문 및 관련 규정에 위배되거나...</td>\n",
       "      <td>/Users/kimbwook/PycharmProjects/fast-campus/no...</td>\n",
       "      <td>14</td>\n",
       "      <td>2024-12-11</td>\n",
       "    </tr>\n",
       "    <tr>\n",
       "      <th>18</th>\n",
       "      <td>붙임1 창업기업 확인에 관한 유의사항\\n□ 창업의 범위\\n◦ 다음의 요건을 모두 충...</td>\n",
       "      <td>/Users/kimbwook/PycharmProjects/fast-campus/no...</td>\n",
       "      <td>16</td>\n",
       "      <td>2024-12-11</td>\n",
       "    </tr>\n",
       "    <tr>\n",
       "      <th>19</th>\n",
       "      <td>2 신청자격 및 요건\\n□ 신청자격\\n◦ ｢중소기업기본법｣ 제2조제1항에 따른 중소...</td>\n",
       "      <td>/Users/kimbwook/PycharmProjects/fast-campus/no...</td>\n",
       "      <td>2</td>\n",
       "      <td>2024-12-11</td>\n",
       "    </tr>\n",
       "    <tr>\n",
       "      <th>20</th>\n",
       "      <td>□ 신청 제외 대상 (사업 신청‧접수 마감일 기준)\\n① 금융기관 등으로부터 채무불...</td>\n",
       "      <td>/Users/kimbwook/PycharmProjects/fast-campus/no...</td>\n",
       "      <td>3</td>\n",
       "      <td>2024-12-11</td>\n",
       "    </tr>\n",
       "    <tr>\n",
       "      <th>21</th>\n",
       "      <td>□ 의무 및 역할\\n◦ 선정자는「중소기업창업 지원사업 운영요령」 및 「창업사업화\\n...</td>\n",
       "      <td>/Users/kimbwook/PycharmProjects/fast-campus/no...</td>\n",
       "      <td>4</td>\n",
       "      <td>2024-12-11</td>\n",
       "    </tr>\n",
       "    <tr>\n",
       "      <th>22</th>\n",
       "      <td>4 신청 및 접수\\n□ 신청 ‧ 접수 기간\\n◦ 접수기간 : 2024. 5. 7.(...</td>\n",
       "      <td>/Users/kimbwook/PycharmProjects/fast-campus/no...</td>\n",
       "      <td>6</td>\n",
       "      <td>2024-12-11</td>\n",
       "    </tr>\n",
       "  </tbody>\n",
       "</table>\n",
       "</div>"
      ]
     },
     "execution_count": 6,
     "metadata": {},
     "output_type": "execute_result"
    }
   ],
   "execution_count": 6
  },
  {
   "metadata": {
    "ExecuteTime": {
     "end_time": "2024-12-21T07:22:47.588318Z",
     "start_time": "2024-12-21T07:22:47.583724Z"
    }
   },
   "cell_type": "code",
   "source": "print(df.loc[df['page'] == 5, 'texts'].tolist()[0])",
   "id": "c2a335fafd4f0491",
   "outputs": [
    {
     "name": "stdout",
     "output_type": "stream",
     "text": [
      "# 지원내용\n",
      "\n",
      "□  협약기간: 협약시작일로부터 10개월 이내\n",
      "\n",
      "*사업기간은 총 3년으로 선정 후, 1년 단위로 협약 연장\n",
      "\n",
      "□ 지원내용: 사업화 자금 및 글로벌 현지 진출 프로그램 등\n",
      "\n",
      "|구분|지원세부내용|\n",
      "|---|---|\n",
      "|• 시제품 제작, 지재권 취득, 사업모델(BM) 개선 등에 소요되는 사업화 자금 최대 2억원(평균 1.8억원) 지원|*선정 평가 결과에 따라 사업화 자금(정부 지원 사업비) 차등 지원|\n",
      "\n",
      "# 총사업비 구성 및 예시 (정부 지원 사업비 1억 8,900만원인 경우)\n",
      "\n",
      "| |총사업비(예시)|정부지원사업비|창업기업 자기부담 사업비| |\n",
      "|---|---|---|---|---|\n",
      "|사업화 자금|100%|70% 이하|10% 이상|20% 이하|\n",
      "| |2.7억원|1억 8,900만원|2,700만원|5,400만원|\n",
      "\n",
      "*총사업비 = 정부 지원 사업비 70% 이하 자기 부담 사업비 30% 이상 +\n",
      "\n",
      "**자기 부담 사업비(30% 이상): 현금 10% 이상 + 현물 20% 이하\n",
      "\n",
      "***현물은 창업 기업 대표자 본인 및 사업화 수행에 직접 참여하는 고용 인력의 인건비, 사무실 임차료, 보유 기자재 등으로 부담\n",
      "\n",
      "# 현지 진출 관련 실무 교육 및 멘토링, 글로벌 네트워킹 등\n",
      "\n",
      "|프로그램(예시)|지원내용|\n",
      "|---|---|\n",
      "|현지 진출 실무 교육|• 진출 국가별 창업 트렌드 및 진출 전략, 글로벌 VC의 투자 동향, IR 피칭 스킬 등 교육|\n",
      "|창업 선배 기업 멘토링|• 현지 진출 선배 기업 특강 및 상담 등을 통한 경험을 공유하고, 1:1 멘토링 추진|\n",
      "|글로벌 네트워킹|• 현지 진출 기업 및 협업 파트너와 만남의 장을 마련하여 정보 교류 및 협업 방안 모색|\n",
      "\n",
      "# 후속 투자 유치\n",
      "\n",
      "• 글로벌 투자자 등이 참여하는 밋업 데이, IR 개최 등 해외 후속 투자 유치 기회 제공\n"
     ]
    }
   ],
   "execution_count": 7
  },
  {
   "metadata": {},
   "cell_type": "code",
   "outputs": [],
   "execution_count": null,
   "source": "",
   "id": "202b0fbd94b1957"
  }
 ],
 "metadata": {
  "kernelspec": {
   "display_name": "Python 3",
   "language": "python",
   "name": "python3"
  },
  "language_info": {
   "codemirror_mode": {
    "name": "ipython",
    "version": 2
   },
   "file_extension": ".py",
   "mimetype": "text/x-python",
   "name": "python",
   "nbconvert_exporter": "python",
   "pygments_lexer": "ipython2",
   "version": "2.7.6"
  }
 },
 "nbformat": 4,
 "nbformat_minor": 5
}
