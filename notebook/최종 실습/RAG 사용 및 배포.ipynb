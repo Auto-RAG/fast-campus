{
 "cells": [
  {
   "metadata": {},
   "cell_type": "markdown",
   "source": "# 최적화된 RAG 사용 및 배포",
   "id": "407fc6b447d07670"
  },
  {
   "cell_type": "code",
   "id": "initial_id",
   "metadata": {
    "collapsed": true,
    "ExecuteTime": {
     "end_time": "2025-01-31T03:17:56.489058Z",
     "start_time": "2025-01-31T03:17:55.882573Z"
    }
   },
   "source": [
    "import pandas as pd\n",
    "import os\n",
    "import pathlib\n",
    "\n",
    "root_dir = pathlib.PurePath(os.path.dirname(os.getcwd())).parent\n",
    "data_dir = os.path.join(root_dir, 'data', 'final')"
   ],
   "outputs": [],
   "execution_count": 1
  },
  {
   "metadata": {
    "ExecuteTime": {
     "end_time": "2025-01-31T03:17:58.686655Z",
     "start_time": "2025-01-31T03:17:58.683143Z"
    }
   },
   "cell_type": "code",
   "source": [
    "import nest_asyncio\n",
    "\n",
    "nest_asyncio.apply()"
   ],
   "id": "6a6a301c1d44c8e9",
   "outputs": [],
   "execution_count": 2
  },
  {
   "metadata": {
    "ExecuteTime": {
     "end_time": "2025-01-31T03:18:04.390288Z",
     "start_time": "2025-01-31T03:18:04.379982Z"
    }
   },
   "cell_type": "code",
   "source": [
    "from dotenv import load_dotenv\n",
    "\n",
    "load_dotenv()\n",
    "\n",
    "# import os\n",
    "\n",
    "# os.environ[\"OPENAI_API_KEY\"] = \"...\""
   ],
   "id": "fb0329c247701694",
   "outputs": [
    {
     "data": {
      "text/plain": [
       "True"
      ]
     },
     "execution_count": 3,
     "metadata": {},
     "output_type": "execute_result"
    }
   ],
   "execution_count": 3
  },
  {
   "metadata": {},
   "cell_type": "markdown",
   "source": [
    "## 최적화된 폴더 설정\n",
    "\n",
    "최적화가 완료된 RAG 디렉토리의 경로를 찾아야 합니다."
   ],
   "id": "2d00565640e53e06"
  },
  {
   "metadata": {
    "ExecuteTime": {
     "end_time": "2025-01-31T03:27:51.027945Z",
     "start_time": "2025-01-31T03:27:51.024830Z"
    }
   },
   "cell_type": "code",
   "source": [
    "# 아래 trial_dir의 경로를 당신의 RAG trial 폴더 경로로 수정하세요.\n",
    "# 아래는 예시입니다.\n",
    "trial_dir = os.path.join(root_dir, 'autorag_project', 'evaluation', 'optimization_sample', '0')"
   ],
   "id": "dc639559384be6aa",
   "outputs": [],
   "execution_count": 4
  },
  {
   "metadata": {},
   "cell_type": "markdown",
   "source": "## 최적화된 RAG 대시보드 조회",
   "id": "33692ef28cdb377e"
  },
  {
   "metadata": {},
   "cell_type": "code",
   "source": [
    "from autorag import dashboard\n",
    "dashboard.run(trial_dir)"
   ],
   "id": "bb6be7193e49cf00",
   "outputs": [],
   "execution_count": null
  },
  {
   "metadata": {},
   "cell_type": "markdown",
   "source": "## 최적화된 RAG 사용",
   "id": "57a1ddc068af57aa"
  },
  {
   "metadata": {
    "ExecuteTime": {
     "end_time": "2025-01-31T08:29:34.951633Z",
     "start_time": "2025-01-31T08:29:27.081873Z"
    }
   },
   "cell_type": "code",
   "source": [
    "from autorag.deploy import Runner\n",
    "\n",
    "runner = Runner.from_trial_folder(trial_dir)\n",
    "runner.run('What is your name?')"
   ],
   "id": "a0539be27a27f564",
   "outputs": [
    {
     "data": {
      "text/plain": [
       "\u001B[2;36m[01/31/25 17:29:29]\u001B[0m\u001B[2;36m \u001B[0m\u001B[34mINFO    \u001B[0m \u001B[1m[\u001B[0m_client.py:\u001B[1;36m1026\u001B[0m\u001B[1m]\u001B[0m >> HTTP Request: \u001B[1;33mGET\u001B[0m                                 \u001B]8;id=246387;file:///Users/jeffrey/PycharmProjects/fast-campus/venv/lib/python3.10/site-packages/httpx/_client.py\u001B\\\u001B[2m_client.py\u001B[0m\u001B]8;;\u001B\\\u001B[2m:\u001B[0m\u001B]8;id=285843;file:///Users/jeffrey/PycharmProjects/fast-campus/venv/lib/python3.10/site-packages/httpx/_client.py#1026\u001B\\\u001B[2m1026\u001B[0m\u001B]8;;\u001B\\\n",
       "\u001B[2;36m                    \u001B[0m         \u001B[4;94mhttps://api.gradio.app/gradio-messaging/en\u001B[0m \u001B[32m\"HTTP/1.1 200 OK\"\u001B[0m           \u001B[2m               \u001B[0m\n"
      ],
      "text/html": [
       "<pre style=\"white-space:pre;overflow-x:auto;line-height:normal;font-family:Menlo,'DejaVu Sans Mono',consolas,'Courier New',monospace\"><span style=\"color: #7fbfbf; text-decoration-color: #7fbfbf\">[01/31/25 17:29:29] </span><span style=\"color: #000080; text-decoration-color: #000080\">INFO    </span> <span style=\"font-weight: bold\">[</span>_client.py:<span style=\"color: #008080; text-decoration-color: #008080; font-weight: bold\">1026</span><span style=\"font-weight: bold\">]</span> &gt;&gt; HTTP Request: <span style=\"color: #808000; text-decoration-color: #808000; font-weight: bold\">GET</span>                                 <a href=\"file:///Users/jeffrey/PycharmProjects/fast-campus/venv/lib/python3.10/site-packages/httpx/_client.py\" target=\"_blank\"><span style=\"color: #7f7f7f; text-decoration-color: #7f7f7f\">_client.py</span></a><span style=\"color: #7f7f7f; text-decoration-color: #7f7f7f\">:</span><a href=\"file:///Users/jeffrey/PycharmProjects/fast-campus/venv/lib/python3.10/site-packages/httpx/_client.py#1026\" target=\"_blank\"><span style=\"color: #7f7f7f; text-decoration-color: #7f7f7f\">1026</span></a>\n",
       "<span style=\"color: #7fbfbf; text-decoration-color: #7fbfbf\">                    </span>         <span style=\"color: #0000ff; text-decoration-color: #0000ff; text-decoration: underline\">https://api.gradio.app/gradio-messaging/en</span> <span style=\"color: #008000; text-decoration-color: #008000\">\"HTTP/1.1 200 OK\"</span>           <span style=\"color: #7f7f7f; text-decoration-color: #7f7f7f\">               </span>\n",
       "</pre>\n"
      ]
     },
     "metadata": {},
     "output_type": "display_data"
    },
    {
     "data": {
      "text/plain": [
       "\u001B[2;36m                   \u001B[0m\u001B[2;36m \u001B[0m\u001B[34mINFO    \u001B[0m \u001B[1m[\u001B[0mbase.py:\u001B[1;36m17\u001B[0m\u001B[1m]\u001B[0m >> Initialize query expansion node - PassQueryExpansion        \u001B]8;id=2346;file:///Users/jeffrey/PycharmProjects/fast-campus/venv/lib/python3.10/site-packages/autorag/nodes/queryexpansion/base.py\u001B\\\u001B[2mbase.py\u001B[0m\u001B]8;;\u001B\\\u001B[2m:\u001B[0m\u001B]8;id=266710;file:///Users/jeffrey/PycharmProjects/fast-campus/venv/lib/python3.10/site-packages/autorag/nodes/queryexpansion/base.py#17\u001B\\\u001B[2m17\u001B[0m\u001B]8;;\u001B\\\n",
       "\u001B[2;36m                    \u001B[0m         module\u001B[33m...\u001B[0m                                                                   \u001B[2m          \u001B[0m\n"
      ],
      "text/html": [
       "<pre style=\"white-space:pre;overflow-x:auto;line-height:normal;font-family:Menlo,'DejaVu Sans Mono',consolas,'Courier New',monospace\"><span style=\"color: #7fbfbf; text-decoration-color: #7fbfbf\">                    </span><span style=\"color: #000080; text-decoration-color: #000080\">INFO    </span> <span style=\"font-weight: bold\">[</span>base.py:<span style=\"color: #008080; text-decoration-color: #008080; font-weight: bold\">17</span><span style=\"font-weight: bold\">]</span> &gt;&gt; Initialize query expansion node - PassQueryExpansion        <a href=\"file:///Users/jeffrey/PycharmProjects/fast-campus/venv/lib/python3.10/site-packages/autorag/nodes/queryexpansion/base.py\" target=\"_blank\"><span style=\"color: #7f7f7f; text-decoration-color: #7f7f7f\">base.py</span></a><span style=\"color: #7f7f7f; text-decoration-color: #7f7f7f\">:</span><a href=\"file:///Users/jeffrey/PycharmProjects/fast-campus/venv/lib/python3.10/site-packages/autorag/nodes/queryexpansion/base.py#17\" target=\"_blank\"><span style=\"color: #7f7f7f; text-decoration-color: #7f7f7f\">17</span></a>\n",
       "<span style=\"color: #7fbfbf; text-decoration-color: #7fbfbf\">                    </span>         module<span style=\"color: #808000; text-decoration-color: #808000\">...</span>                                                                   <span style=\"color: #7f7f7f; text-decoration-color: #7f7f7f\">          </span>\n",
       "</pre>\n"
      ]
     },
     "metadata": {},
     "output_type": "display_data"
    },
    {
     "data": {
      "text/plain": [
       "\u001B[2;36m                   \u001B[0m\u001B[2;36m \u001B[0m\u001B[34mINFO    \u001B[0m \u001B[1m[\u001B[0mbase.py:\u001B[1;36m19\u001B[0m\u001B[1m]\u001B[0m >> Initialize generator node - LlamaIndexLLM                   \u001B]8;id=493833;file:///Users/jeffrey/PycharmProjects/fast-campus/venv/lib/python3.10/site-packages/autorag/nodes/generator/base.py\u001B\\\u001B[2mbase.py\u001B[0m\u001B]8;;\u001B\\\u001B[2m:\u001B[0m\u001B]8;id=947763;file:///Users/jeffrey/PycharmProjects/fast-campus/venv/lib/python3.10/site-packages/autorag/nodes/generator/base.py#19\u001B\\\u001B[2m19\u001B[0m\u001B]8;;\u001B\\\n"
      ],
      "text/html": [
       "<pre style=\"white-space:pre;overflow-x:auto;line-height:normal;font-family:Menlo,'DejaVu Sans Mono',consolas,'Courier New',monospace\"><span style=\"color: #7fbfbf; text-decoration-color: #7fbfbf\">                    </span><span style=\"color: #000080; text-decoration-color: #000080\">INFO    </span> <span style=\"font-weight: bold\">[</span>base.py:<span style=\"color: #008080; text-decoration-color: #008080; font-weight: bold\">19</span><span style=\"font-weight: bold\">]</span> &gt;&gt; Initialize generator node - LlamaIndexLLM                   <a href=\"file:///Users/jeffrey/PycharmProjects/fast-campus/venv/lib/python3.10/site-packages/autorag/nodes/generator/base.py\" target=\"_blank\"><span style=\"color: #7f7f7f; text-decoration-color: #7f7f7f\">base.py</span></a><span style=\"color: #7f7f7f; text-decoration-color: #7f7f7f\">:</span><a href=\"file:///Users/jeffrey/PycharmProjects/fast-campus/venv/lib/python3.10/site-packages/autorag/nodes/generator/base.py#19\" target=\"_blank\"><span style=\"color: #7f7f7f; text-decoration-color: #7f7f7f\">19</span></a>\n",
       "</pre>\n"
      ]
     },
     "metadata": {},
     "output_type": "display_data"
    },
    {
     "data": {
      "text/plain": [
       "\u001B[2;36m[01/31/25 17:29:30]\u001B[0m\u001B[2;36m \u001B[0m\u001B[34mINFO    \u001B[0m \u001B[1m[\u001B[0mbase.py:\u001B[1;36m18\u001B[0m\u001B[1m]\u001B[0m >> Initialize retrieval node - BM25                            \u001B]8;id=803166;file:///Users/jeffrey/PycharmProjects/fast-campus/venv/lib/python3.10/site-packages/autorag/nodes/retrieval/base.py\u001B\\\u001B[2mbase.py\u001B[0m\u001B]8;;\u001B\\\u001B[2m:\u001B[0m\u001B]8;id=864665;file:///Users/jeffrey/PycharmProjects/fast-campus/venv/lib/python3.10/site-packages/autorag/nodes/retrieval/base.py#18\u001B\\\u001B[2m18\u001B[0m\u001B]8;;\u001B\\\n"
      ],
      "text/html": [
       "<pre style=\"white-space:pre;overflow-x:auto;line-height:normal;font-family:Menlo,'DejaVu Sans Mono',consolas,'Courier New',monospace\"><span style=\"color: #7fbfbf; text-decoration-color: #7fbfbf\">[01/31/25 17:29:30] </span><span style=\"color: #000080; text-decoration-color: #000080\">INFO    </span> <span style=\"font-weight: bold\">[</span>base.py:<span style=\"color: #008080; text-decoration-color: #008080; font-weight: bold\">18</span><span style=\"font-weight: bold\">]</span> &gt;&gt; Initialize retrieval node - BM25                            <a href=\"file:///Users/jeffrey/PycharmProjects/fast-campus/venv/lib/python3.10/site-packages/autorag/nodes/retrieval/base.py\" target=\"_blank\"><span style=\"color: #7f7f7f; text-decoration-color: #7f7f7f\">base.py</span></a><span style=\"color: #7f7f7f; text-decoration-color: #7f7f7f\">:</span><a href=\"file:///Users/jeffrey/PycharmProjects/fast-campus/venv/lib/python3.10/site-packages/autorag/nodes/retrieval/base.py#18\" target=\"_blank\"><span style=\"color: #7f7f7f; text-decoration-color: #7f7f7f\">18</span></a>\n",
       "</pre>\n"
      ]
     },
     "metadata": {},
     "output_type": "display_data"
    },
    {
     "data": {
      "text/plain": [
       "\u001B[2;36m                   \u001B[0m\u001B[2;36m \u001B[0m\u001B[34mINFO    \u001B[0m \u001B[1m[\u001B[0mbase.py:\u001B[1;36m16\u001B[0m\u001B[1m]\u001B[0m >> Initialize passage reranker node - PassReranker module\u001B[33m...\u001B[0m   \u001B]8;id=843068;file:///Users/jeffrey/PycharmProjects/fast-campus/venv/lib/python3.10/site-packages/autorag/nodes/passagereranker/base.py\u001B\\\u001B[2mbase.py\u001B[0m\u001B]8;;\u001B\\\u001B[2m:\u001B[0m\u001B]8;id=691331;file:///Users/jeffrey/PycharmProjects/fast-campus/venv/lib/python3.10/site-packages/autorag/nodes/passagereranker/base.py#16\u001B\\\u001B[2m16\u001B[0m\u001B]8;;\u001B\\\n"
      ],
      "text/html": [
       "<pre style=\"white-space:pre;overflow-x:auto;line-height:normal;font-family:Menlo,'DejaVu Sans Mono',consolas,'Courier New',monospace\"><span style=\"color: #7fbfbf; text-decoration-color: #7fbfbf\">                    </span><span style=\"color: #000080; text-decoration-color: #000080\">INFO    </span> <span style=\"font-weight: bold\">[</span>base.py:<span style=\"color: #008080; text-decoration-color: #008080; font-weight: bold\">16</span><span style=\"font-weight: bold\">]</span> &gt;&gt; Initialize passage reranker node - PassReranker module<span style=\"color: #808000; text-decoration-color: #808000\">...</span>   <a href=\"file:///Users/jeffrey/PycharmProjects/fast-campus/venv/lib/python3.10/site-packages/autorag/nodes/passagereranker/base.py\" target=\"_blank\"><span style=\"color: #7f7f7f; text-decoration-color: #7f7f7f\">base.py</span></a><span style=\"color: #7f7f7f; text-decoration-color: #7f7f7f\">:</span><a href=\"file:///Users/jeffrey/PycharmProjects/fast-campus/venv/lib/python3.10/site-packages/autorag/nodes/passagereranker/base.py#16\" target=\"_blank\"><span style=\"color: #7f7f7f; text-decoration-color: #7f7f7f\">16</span></a>\n",
       "</pre>\n"
      ]
     },
     "metadata": {},
     "output_type": "display_data"
    },
    {
     "data": {
      "text/plain": [
       "\u001B[2;36m                   \u001B[0m\u001B[2;36m \u001B[0m\u001B[34mINFO    \u001B[0m \u001B[1m[\u001B[0mbase.py:\u001B[1;36m16\u001B[0m\u001B[1m]\u001B[0m >> Initialize passage filter node - PercentileCutoff           \u001B]8;id=255078;file:///Users/jeffrey/PycharmProjects/fast-campus/venv/lib/python3.10/site-packages/autorag/nodes/passagefilter/base.py\u001B\\\u001B[2mbase.py\u001B[0m\u001B]8;;\u001B\\\u001B[2m:\u001B[0m\u001B]8;id=10;file:///Users/jeffrey/PycharmProjects/fast-campus/venv/lib/python3.10/site-packages/autorag/nodes/passagefilter/base.py#16\u001B\\\u001B[2m16\u001B[0m\u001B]8;;\u001B\\\n"
      ],
      "text/html": [
       "<pre style=\"white-space:pre;overflow-x:auto;line-height:normal;font-family:Menlo,'DejaVu Sans Mono',consolas,'Courier New',monospace\"><span style=\"color: #7fbfbf; text-decoration-color: #7fbfbf\">                    </span><span style=\"color: #000080; text-decoration-color: #000080\">INFO    </span> <span style=\"font-weight: bold\">[</span>base.py:<span style=\"color: #008080; text-decoration-color: #008080; font-weight: bold\">16</span><span style=\"font-weight: bold\">]</span> &gt;&gt; Initialize passage filter node - PercentileCutoff           <a href=\"file:///Users/jeffrey/PycharmProjects/fast-campus/venv/lib/python3.10/site-packages/autorag/nodes/passagefilter/base.py\" target=\"_blank\"><span style=\"color: #7f7f7f; text-decoration-color: #7f7f7f\">base.py</span></a><span style=\"color: #7f7f7f; text-decoration-color: #7f7f7f\">:</span><a href=\"file:///Users/jeffrey/PycharmProjects/fast-campus/venv/lib/python3.10/site-packages/autorag/nodes/passagefilter/base.py#16\" target=\"_blank\"><span style=\"color: #7f7f7f; text-decoration-color: #7f7f7f\">16</span></a>\n",
       "</pre>\n"
      ]
     },
     "metadata": {},
     "output_type": "display_data"
    },
    {
     "data": {
      "text/plain": [
       "\u001B[2;36m                   \u001B[0m\u001B[2;36m \u001B[0m\u001B[34mINFO    \u001B[0m \u001B[1m[\u001B[0mbase.py:\u001B[1;36m15\u001B[0m\u001B[1m]\u001B[0m >> Initialize prompt maker node - LongContextReorder module\u001B[33m...\u001B[0m \u001B]8;id=822137;file:///Users/jeffrey/PycharmProjects/fast-campus/venv/lib/python3.10/site-packages/autorag/nodes/promptmaker/base.py\u001B\\\u001B[2mbase.py\u001B[0m\u001B]8;;\u001B\\\u001B[2m:\u001B[0m\u001B]8;id=834068;file:///Users/jeffrey/PycharmProjects/fast-campus/venv/lib/python3.10/site-packages/autorag/nodes/promptmaker/base.py#15\u001B\\\u001B[2m15\u001B[0m\u001B]8;;\u001B\\\n"
      ],
      "text/html": [
       "<pre style=\"white-space:pre;overflow-x:auto;line-height:normal;font-family:Menlo,'DejaVu Sans Mono',consolas,'Courier New',monospace\"><span style=\"color: #7fbfbf; text-decoration-color: #7fbfbf\">                    </span><span style=\"color: #000080; text-decoration-color: #000080\">INFO    </span> <span style=\"font-weight: bold\">[</span>base.py:<span style=\"color: #008080; text-decoration-color: #008080; font-weight: bold\">15</span><span style=\"font-weight: bold\">]</span> &gt;&gt; Initialize prompt maker node - LongContextReorder module<span style=\"color: #808000; text-decoration-color: #808000\">...</span> <a href=\"file:///Users/jeffrey/PycharmProjects/fast-campus/venv/lib/python3.10/site-packages/autorag/nodes/promptmaker/base.py\" target=\"_blank\"><span style=\"color: #7f7f7f; text-decoration-color: #7f7f7f\">base.py</span></a><span style=\"color: #7f7f7f; text-decoration-color: #7f7f7f\">:</span><a href=\"file:///Users/jeffrey/PycharmProjects/fast-campus/venv/lib/python3.10/site-packages/autorag/nodes/promptmaker/base.py#15\" target=\"_blank\"><span style=\"color: #7f7f7f; text-decoration-color: #7f7f7f\">15</span></a>\n",
       "</pre>\n"
      ]
     },
     "metadata": {},
     "output_type": "display_data"
    },
    {
     "data": {
      "text/plain": [
       "\u001B[2;36m                   \u001B[0m\u001B[2;36m \u001B[0m\u001B[34mINFO    \u001B[0m \u001B[1m[\u001B[0mbase.py:\u001B[1;36m19\u001B[0m\u001B[1m]\u001B[0m >> Initialize generator node - OpenAILLM                       \u001B]8;id=338595;file:///Users/jeffrey/PycharmProjects/fast-campus/venv/lib/python3.10/site-packages/autorag/nodes/generator/base.py\u001B\\\u001B[2mbase.py\u001B[0m\u001B]8;;\u001B\\\u001B[2m:\u001B[0m\u001B]8;id=514333;file:///Users/jeffrey/PycharmProjects/fast-campus/venv/lib/python3.10/site-packages/autorag/nodes/generator/base.py#19\u001B\\\u001B[2m19\u001B[0m\u001B]8;;\u001B\\\n"
      ],
      "text/html": [
       "<pre style=\"white-space:pre;overflow-x:auto;line-height:normal;font-family:Menlo,'DejaVu Sans Mono',consolas,'Courier New',monospace\"><span style=\"color: #7fbfbf; text-decoration-color: #7fbfbf\">                    </span><span style=\"color: #000080; text-decoration-color: #000080\">INFO    </span> <span style=\"font-weight: bold\">[</span>base.py:<span style=\"color: #008080; text-decoration-color: #008080; font-weight: bold\">19</span><span style=\"font-weight: bold\">]</span> &gt;&gt; Initialize generator node - OpenAILLM                       <a href=\"file:///Users/jeffrey/PycharmProjects/fast-campus/venv/lib/python3.10/site-packages/autorag/nodes/generator/base.py\" target=\"_blank\"><span style=\"color: #7f7f7f; text-decoration-color: #7f7f7f\">base.py</span></a><span style=\"color: #7f7f7f; text-decoration-color: #7f7f7f\">:</span><a href=\"file:///Users/jeffrey/PycharmProjects/fast-campus/venv/lib/python3.10/site-packages/autorag/nodes/generator/base.py#19\" target=\"_blank\"><span style=\"color: #7f7f7f; text-decoration-color: #7f7f7f\">19</span></a>\n",
       "</pre>\n"
      ]
     },
     "metadata": {},
     "output_type": "display_data"
    },
    {
     "data": {
      "text/plain": [
       "\u001B[2;36m                   \u001B[0m\u001B[2;36m \u001B[0m\u001B[34mINFO    \u001B[0m \u001B[1m[\u001B[0mbase.py:\u001B[1;36m31\u001B[0m\u001B[1m]\u001B[0m >> Running retrieval node - BM25 module\u001B[33m...\u001B[0m                     \u001B]8;id=346389;file:///Users/jeffrey/PycharmProjects/fast-campus/venv/lib/python3.10/site-packages/autorag/nodes/retrieval/base.py\u001B\\\u001B[2mbase.py\u001B[0m\u001B]8;;\u001B\\\u001B[2m:\u001B[0m\u001B]8;id=811192;file:///Users/jeffrey/PycharmProjects/fast-campus/venv/lib/python3.10/site-packages/autorag/nodes/retrieval/base.py#31\u001B\\\u001B[2m31\u001B[0m\u001B]8;;\u001B\\\n"
      ],
      "text/html": [
       "<pre style=\"white-space:pre;overflow-x:auto;line-height:normal;font-family:Menlo,'DejaVu Sans Mono',consolas,'Courier New',monospace\"><span style=\"color: #7fbfbf; text-decoration-color: #7fbfbf\">                    </span><span style=\"color: #000080; text-decoration-color: #000080\">INFO    </span> <span style=\"font-weight: bold\">[</span>base.py:<span style=\"color: #008080; text-decoration-color: #008080; font-weight: bold\">31</span><span style=\"font-weight: bold\">]</span> &gt;&gt; Running retrieval node - BM25 module<span style=\"color: #808000; text-decoration-color: #808000\">...</span>                     <a href=\"file:///Users/jeffrey/PycharmProjects/fast-campus/venv/lib/python3.10/site-packages/autorag/nodes/retrieval/base.py\" target=\"_blank\"><span style=\"color: #7f7f7f; text-decoration-color: #7f7f7f\">base.py</span></a><span style=\"color: #7f7f7f; text-decoration-color: #7f7f7f\">:</span><a href=\"file:///Users/jeffrey/PycharmProjects/fast-campus/venv/lib/python3.10/site-packages/autorag/nodes/retrieval/base.py#31\" target=\"_blank\"><span style=\"color: #7f7f7f; text-decoration-color: #7f7f7f\">31</span></a>\n",
       "</pre>\n"
      ]
     },
     "metadata": {},
     "output_type": "display_data"
    },
    {
     "data": {
      "text/plain": [
       "\u001B[2;36m[01/31/25 17:29:32]\u001B[0m\u001B[2;36m \u001B[0m\u001B[34mINFO    \u001B[0m \u001B[1m[\u001B[0mbase.py:\u001B[1;36m26\u001B[0m\u001B[1m]\u001B[0m >> Running passage reranker node - PassReranker module\u001B[33m...\u001B[0m      \u001B]8;id=959450;file:///Users/jeffrey/PycharmProjects/fast-campus/venv/lib/python3.10/site-packages/autorag/nodes/passagereranker/base.py\u001B\\\u001B[2mbase.py\u001B[0m\u001B]8;;\u001B\\\u001B[2m:\u001B[0m\u001B]8;id=644559;file:///Users/jeffrey/PycharmProjects/fast-campus/venv/lib/python3.10/site-packages/autorag/nodes/passagereranker/base.py#26\u001B\\\u001B[2m26\u001B[0m\u001B]8;;\u001B\\\n"
      ],
      "text/html": [
       "<pre style=\"white-space:pre;overflow-x:auto;line-height:normal;font-family:Menlo,'DejaVu Sans Mono',consolas,'Courier New',monospace\"><span style=\"color: #7fbfbf; text-decoration-color: #7fbfbf\">[01/31/25 17:29:32] </span><span style=\"color: #000080; text-decoration-color: #000080\">INFO    </span> <span style=\"font-weight: bold\">[</span>base.py:<span style=\"color: #008080; text-decoration-color: #008080; font-weight: bold\">26</span><span style=\"font-weight: bold\">]</span> &gt;&gt; Running passage reranker node - PassReranker module<span style=\"color: #808000; text-decoration-color: #808000\">...</span>      <a href=\"file:///Users/jeffrey/PycharmProjects/fast-campus/venv/lib/python3.10/site-packages/autorag/nodes/passagereranker/base.py\" target=\"_blank\"><span style=\"color: #7f7f7f; text-decoration-color: #7f7f7f\">base.py</span></a><span style=\"color: #7f7f7f; text-decoration-color: #7f7f7f\">:</span><a href=\"file:///Users/jeffrey/PycharmProjects/fast-campus/venv/lib/python3.10/site-packages/autorag/nodes/passagereranker/base.py#26\" target=\"_blank\"><span style=\"color: #7f7f7f; text-decoration-color: #7f7f7f\">26</span></a>\n",
       "</pre>\n"
      ]
     },
     "metadata": {},
     "output_type": "display_data"
    },
    {
     "data": {
      "text/plain": [
       "\u001B[2;36m                   \u001B[0m\u001B[2;36m \u001B[0m\u001B[34mINFO    \u001B[0m \u001B[1m[\u001B[0mbase.py:\u001B[1;36m22\u001B[0m\u001B[1m]\u001B[0m >> Running passage filter node - PercentileCutoff module\u001B[33m...\u001B[0m    \u001B]8;id=647587;file:///Users/jeffrey/PycharmProjects/fast-campus/venv/lib/python3.10/site-packages/autorag/nodes/passagefilter/base.py\u001B\\\u001B[2mbase.py\u001B[0m\u001B]8;;\u001B\\\u001B[2m:\u001B[0m\u001B]8;id=567789;file:///Users/jeffrey/PycharmProjects/fast-campus/venv/lib/python3.10/site-packages/autorag/nodes/passagefilter/base.py#22\u001B\\\u001B[2m22\u001B[0m\u001B]8;;\u001B\\\n"
      ],
      "text/html": [
       "<pre style=\"white-space:pre;overflow-x:auto;line-height:normal;font-family:Menlo,'DejaVu Sans Mono',consolas,'Courier New',monospace\"><span style=\"color: #7fbfbf; text-decoration-color: #7fbfbf\">                    </span><span style=\"color: #000080; text-decoration-color: #000080\">INFO    </span> <span style=\"font-weight: bold\">[</span>base.py:<span style=\"color: #008080; text-decoration-color: #008080; font-weight: bold\">22</span><span style=\"font-weight: bold\">]</span> &gt;&gt; Running passage filter node - PercentileCutoff module<span style=\"color: #808000; text-decoration-color: #808000\">...</span>    <a href=\"file:///Users/jeffrey/PycharmProjects/fast-campus/venv/lib/python3.10/site-packages/autorag/nodes/passagefilter/base.py\" target=\"_blank\"><span style=\"color: #7f7f7f; text-decoration-color: #7f7f7f\">base.py</span></a><span style=\"color: #7f7f7f; text-decoration-color: #7f7f7f\">:</span><a href=\"file:///Users/jeffrey/PycharmProjects/fast-campus/venv/lib/python3.10/site-packages/autorag/nodes/passagefilter/base.py#22\" target=\"_blank\"><span style=\"color: #7f7f7f; text-decoration-color: #7f7f7f\">22</span></a>\n",
       "</pre>\n"
      ]
     },
     "metadata": {},
     "output_type": "display_data"
    },
    {
     "data": {
      "text/plain": [
       "\u001B[2;36m                   \u001B[0m\u001B[2;36m \u001B[0m\u001B[34mINFO    \u001B[0m \u001B[1m[\u001B[0mbase.py:\u001B[1;36m23\u001B[0m\u001B[1m]\u001B[0m >> Running prompt maker node - LongContextReorder module\u001B[33m...\u001B[0m    \u001B]8;id=217470;file:///Users/jeffrey/PycharmProjects/fast-campus/venv/lib/python3.10/site-packages/autorag/nodes/promptmaker/base.py\u001B\\\u001B[2mbase.py\u001B[0m\u001B]8;;\u001B\\\u001B[2m:\u001B[0m\u001B]8;id=677290;file:///Users/jeffrey/PycharmProjects/fast-campus/venv/lib/python3.10/site-packages/autorag/nodes/promptmaker/base.py#23\u001B\\\u001B[2m23\u001B[0m\u001B]8;;\u001B\\\n"
      ],
      "text/html": [
       "<pre style=\"white-space:pre;overflow-x:auto;line-height:normal;font-family:Menlo,'DejaVu Sans Mono',consolas,'Courier New',monospace\"><span style=\"color: #7fbfbf; text-decoration-color: #7fbfbf\">                    </span><span style=\"color: #000080; text-decoration-color: #000080\">INFO    </span> <span style=\"font-weight: bold\">[</span>base.py:<span style=\"color: #008080; text-decoration-color: #008080; font-weight: bold\">23</span><span style=\"font-weight: bold\">]</span> &gt;&gt; Running prompt maker node - LongContextReorder module<span style=\"color: #808000; text-decoration-color: #808000\">...</span>    <a href=\"file:///Users/jeffrey/PycharmProjects/fast-campus/venv/lib/python3.10/site-packages/autorag/nodes/promptmaker/base.py\" target=\"_blank\"><span style=\"color: #7f7f7f; text-decoration-color: #7f7f7f\">base.py</span></a><span style=\"color: #7f7f7f; text-decoration-color: #7f7f7f\">:</span><a href=\"file:///Users/jeffrey/PycharmProjects/fast-campus/venv/lib/python3.10/site-packages/autorag/nodes/promptmaker/base.py#23\" target=\"_blank\"><span style=\"color: #7f7f7f; text-decoration-color: #7f7f7f\">23</span></a>\n",
       "</pre>\n"
      ]
     },
     "metadata": {},
     "output_type": "display_data"
    },
    {
     "data": {
      "text/plain": [
       "\u001B[2;36m                   \u001B[0m\u001B[2;36m \u001B[0m\u001B[34mINFO    \u001B[0m \u001B[1m[\u001B[0mbase.py:\u001B[1;36m26\u001B[0m\u001B[1m]\u001B[0m >> Running generator node - OpenAILLM module\u001B[33m...\u001B[0m                \u001B]8;id=492324;file:///Users/jeffrey/PycharmProjects/fast-campus/venv/lib/python3.10/site-packages/autorag/nodes/generator/base.py\u001B\\\u001B[2mbase.py\u001B[0m\u001B]8;;\u001B\\\u001B[2m:\u001B[0m\u001B]8;id=479010;file:///Users/jeffrey/PycharmProjects/fast-campus/venv/lib/python3.10/site-packages/autorag/nodes/generator/base.py#26\u001B\\\u001B[2m26\u001B[0m\u001B]8;;\u001B\\\n"
      ],
      "text/html": [
       "<pre style=\"white-space:pre;overflow-x:auto;line-height:normal;font-family:Menlo,'DejaVu Sans Mono',consolas,'Courier New',monospace\"><span style=\"color: #7fbfbf; text-decoration-color: #7fbfbf\">                    </span><span style=\"color: #000080; text-decoration-color: #000080\">INFO    </span> <span style=\"font-weight: bold\">[</span>base.py:<span style=\"color: #008080; text-decoration-color: #008080; font-weight: bold\">26</span><span style=\"font-weight: bold\">]</span> &gt;&gt; Running generator node - OpenAILLM module<span style=\"color: #808000; text-decoration-color: #808000\">...</span>                <a href=\"file:///Users/jeffrey/PycharmProjects/fast-campus/venv/lib/python3.10/site-packages/autorag/nodes/generator/base.py\" target=\"_blank\"><span style=\"color: #7f7f7f; text-decoration-color: #7f7f7f\">base.py</span></a><span style=\"color: #7f7f7f; text-decoration-color: #7f7f7f\">:</span><a href=\"file:///Users/jeffrey/PycharmProjects/fast-campus/venv/lib/python3.10/site-packages/autorag/nodes/generator/base.py#26\" target=\"_blank\"><span style=\"color: #7f7f7f; text-decoration-color: #7f7f7f\">26</span></a>\n",
       "</pre>\n"
      ]
     },
     "metadata": {},
     "output_type": "display_data"
    },
    {
     "data": {
      "text/plain": [
       "\u001B[2;36m[01/31/25 17:29:34]\u001B[0m\u001B[2;36m \u001B[0m\u001B[34mINFO    \u001B[0m \u001B[1m[\u001B[0m_client.py:\u001B[1;36m1773\u001B[0m\u001B[1m]\u001B[0m >> HTTP Request: \u001B[1;33mPOST\u001B[0m                                \u001B]8;id=362366;file:///Users/jeffrey/PycharmProjects/fast-campus/venv/lib/python3.10/site-packages/httpx/_client.py\u001B\\\u001B[2m_client.py\u001B[0m\u001B]8;;\u001B\\\u001B[2m:\u001B[0m\u001B]8;id=783765;file:///Users/jeffrey/PycharmProjects/fast-campus/venv/lib/python3.10/site-packages/httpx/_client.py#1773\u001B\\\u001B[2m1773\u001B[0m\u001B]8;;\u001B\\\n",
       "\u001B[2;36m                    \u001B[0m         \u001B[4;94mhttps://api.openai.com/v1/chat/completions\u001B[0m \u001B[32m\"HTTP/1.1 200 OK\"\u001B[0m           \u001B[2m               \u001B[0m\n"
      ],
      "text/html": [
       "<pre style=\"white-space:pre;overflow-x:auto;line-height:normal;font-family:Menlo,'DejaVu Sans Mono',consolas,'Courier New',monospace\"><span style=\"color: #7fbfbf; text-decoration-color: #7fbfbf\">[01/31/25 17:29:34] </span><span style=\"color: #000080; text-decoration-color: #000080\">INFO    </span> <span style=\"font-weight: bold\">[</span>_client.py:<span style=\"color: #008080; text-decoration-color: #008080; font-weight: bold\">1773</span><span style=\"font-weight: bold\">]</span> &gt;&gt; HTTP Request: <span style=\"color: #808000; text-decoration-color: #808000; font-weight: bold\">POST</span>                                <a href=\"file:///Users/jeffrey/PycharmProjects/fast-campus/venv/lib/python3.10/site-packages/httpx/_client.py\" target=\"_blank\"><span style=\"color: #7f7f7f; text-decoration-color: #7f7f7f\">_client.py</span></a><span style=\"color: #7f7f7f; text-decoration-color: #7f7f7f\">:</span><a href=\"file:///Users/jeffrey/PycharmProjects/fast-campus/venv/lib/python3.10/site-packages/httpx/_client.py#1773\" target=\"_blank\"><span style=\"color: #7f7f7f; text-decoration-color: #7f7f7f\">1773</span></a>\n",
       "<span style=\"color: #7fbfbf; text-decoration-color: #7fbfbf\">                    </span>         <span style=\"color: #0000ff; text-decoration-color: #0000ff; text-decoration: underline\">https://api.openai.com/v1/chat/completions</span> <span style=\"color: #008000; text-decoration-color: #008000\">\"HTTP/1.1 200 OK\"</span>           <span style=\"color: #7f7f7f; text-decoration-color: #7f7f7f\">               </span>\n",
       "</pre>\n"
      ]
     },
     "metadata": {},
     "output_type": "display_data"
    },
    {
     "data": {
      "text/plain": [
       "'The paragraph provided does not mention a specific name to answer the question \"What is your name?\" The content is focused on e-commerce solutions and the services provided by Skelter Labs and Bespin Global.'"
      ]
     },
     "execution_count": 6,
     "metadata": {},
     "output_type": "execute_result"
    }
   ],
   "execution_count": 6
  },
  {
   "metadata": {},
   "cell_type": "markdown",
   "source": [
    "### API 서버 실행\n",
    "\n",
    "API 서버를 통해 RAG를 API 형태로 사용할 수 있습니다. 더불어, stream도 지원합니다."
   ],
   "id": "4f05702b4df391a"
  },
  {
   "metadata": {
    "ExecuteTime": {
     "end_time": "2025-01-31T08:38:49.201832Z",
     "start_time": "2025-01-31T08:32:15.199130Z"
    }
   },
   "cell_type": "code",
   "source": [
    "from autorag.deploy import ApiRunner\n",
    "\n",
    "runner = ApiRunner.from_trial_folder(trial_dir)\n",
    "runner.run_api_server()"
   ],
   "id": "37e2eaac85d63b6f",
   "outputs": [
    {
     "data": {
      "text/plain": [
       "\u001B[2;36m[01/31/25 17:32:15]\u001B[0m\u001B[2;36m \u001B[0m\u001B[34mINFO    \u001B[0m \u001B[1m[\u001B[0mbase.py:\u001B[1;36m17\u001B[0m\u001B[1m]\u001B[0m >> Initialize query expansion node - PassQueryExpansion        \u001B]8;id=573279;file:///Users/jeffrey/PycharmProjects/fast-campus/venv/lib/python3.10/site-packages/autorag/nodes/queryexpansion/base.py\u001B\\\u001B[2mbase.py\u001B[0m\u001B]8;;\u001B\\\u001B[2m:\u001B[0m\u001B]8;id=89406;file:///Users/jeffrey/PycharmProjects/fast-campus/venv/lib/python3.10/site-packages/autorag/nodes/queryexpansion/base.py#17\u001B\\\u001B[2m17\u001B[0m\u001B]8;;\u001B\\\n",
       "\u001B[2;36m                    \u001B[0m         module\u001B[33m...\u001B[0m                                                                   \u001B[2m          \u001B[0m\n"
      ],
      "text/html": [
       "<pre style=\"white-space:pre;overflow-x:auto;line-height:normal;font-family:Menlo,'DejaVu Sans Mono',consolas,'Courier New',monospace\"><span style=\"color: #7fbfbf; text-decoration-color: #7fbfbf\">[01/31/25 17:32:15] </span><span style=\"color: #000080; text-decoration-color: #000080\">INFO    </span> <span style=\"font-weight: bold\">[</span>base.py:<span style=\"color: #008080; text-decoration-color: #008080; font-weight: bold\">17</span><span style=\"font-weight: bold\">]</span> &gt;&gt; Initialize query expansion node - PassQueryExpansion        <a href=\"file:///Users/jeffrey/PycharmProjects/fast-campus/venv/lib/python3.10/site-packages/autorag/nodes/queryexpansion/base.py\" target=\"_blank\"><span style=\"color: #7f7f7f; text-decoration-color: #7f7f7f\">base.py</span></a><span style=\"color: #7f7f7f; text-decoration-color: #7f7f7f\">:</span><a href=\"file:///Users/jeffrey/PycharmProjects/fast-campus/venv/lib/python3.10/site-packages/autorag/nodes/queryexpansion/base.py#17\" target=\"_blank\"><span style=\"color: #7f7f7f; text-decoration-color: #7f7f7f\">17</span></a>\n",
       "<span style=\"color: #7fbfbf; text-decoration-color: #7fbfbf\">                    </span>         module<span style=\"color: #808000; text-decoration-color: #808000\">...</span>                                                                   <span style=\"color: #7f7f7f; text-decoration-color: #7f7f7f\">          </span>\n",
       "</pre>\n"
      ]
     },
     "metadata": {},
     "output_type": "display_data"
    },
    {
     "data": {
      "text/plain": [
       "\u001B[2;36m                   \u001B[0m\u001B[2;36m \u001B[0m\u001B[34mINFO    \u001B[0m \u001B[1m[\u001B[0mbase.py:\u001B[1;36m19\u001B[0m\u001B[1m]\u001B[0m >> Initialize generator node - LlamaIndexLLM                   \u001B]8;id=847565;file:///Users/jeffrey/PycharmProjects/fast-campus/venv/lib/python3.10/site-packages/autorag/nodes/generator/base.py\u001B\\\u001B[2mbase.py\u001B[0m\u001B]8;;\u001B\\\u001B[2m:\u001B[0m\u001B]8;id=177131;file:///Users/jeffrey/PycharmProjects/fast-campus/venv/lib/python3.10/site-packages/autorag/nodes/generator/base.py#19\u001B\\\u001B[2m19\u001B[0m\u001B]8;;\u001B\\\n"
      ],
      "text/html": [
       "<pre style=\"white-space:pre;overflow-x:auto;line-height:normal;font-family:Menlo,'DejaVu Sans Mono',consolas,'Courier New',monospace\"><span style=\"color: #7fbfbf; text-decoration-color: #7fbfbf\">                    </span><span style=\"color: #000080; text-decoration-color: #000080\">INFO    </span> <span style=\"font-weight: bold\">[</span>base.py:<span style=\"color: #008080; text-decoration-color: #008080; font-weight: bold\">19</span><span style=\"font-weight: bold\">]</span> &gt;&gt; Initialize generator node - LlamaIndexLLM                   <a href=\"file:///Users/jeffrey/PycharmProjects/fast-campus/venv/lib/python3.10/site-packages/autorag/nodes/generator/base.py\" target=\"_blank\"><span style=\"color: #7f7f7f; text-decoration-color: #7f7f7f\">base.py</span></a><span style=\"color: #7f7f7f; text-decoration-color: #7f7f7f\">:</span><a href=\"file:///Users/jeffrey/PycharmProjects/fast-campus/venv/lib/python3.10/site-packages/autorag/nodes/generator/base.py#19\" target=\"_blank\"><span style=\"color: #7f7f7f; text-decoration-color: #7f7f7f\">19</span></a>\n",
       "</pre>\n"
      ]
     },
     "metadata": {},
     "output_type": "display_data"
    },
    {
     "data": {
      "text/plain": [
       "\u001B[2;36m                   \u001B[0m\u001B[2;36m \u001B[0m\u001B[34mINFO    \u001B[0m \u001B[1m[\u001B[0mbase.py:\u001B[1;36m18\u001B[0m\u001B[1m]\u001B[0m >> Initialize retrieval node - BM25                            \u001B]8;id=854043;file:///Users/jeffrey/PycharmProjects/fast-campus/venv/lib/python3.10/site-packages/autorag/nodes/retrieval/base.py\u001B\\\u001B[2mbase.py\u001B[0m\u001B]8;;\u001B\\\u001B[2m:\u001B[0m\u001B]8;id=73014;file:///Users/jeffrey/PycharmProjects/fast-campus/venv/lib/python3.10/site-packages/autorag/nodes/retrieval/base.py#18\u001B\\\u001B[2m18\u001B[0m\u001B]8;;\u001B\\\n"
      ],
      "text/html": [
       "<pre style=\"white-space:pre;overflow-x:auto;line-height:normal;font-family:Menlo,'DejaVu Sans Mono',consolas,'Courier New',monospace\"><span style=\"color: #7fbfbf; text-decoration-color: #7fbfbf\">                    </span><span style=\"color: #000080; text-decoration-color: #000080\">INFO    </span> <span style=\"font-weight: bold\">[</span>base.py:<span style=\"color: #008080; text-decoration-color: #008080; font-weight: bold\">18</span><span style=\"font-weight: bold\">]</span> &gt;&gt; Initialize retrieval node - BM25                            <a href=\"file:///Users/jeffrey/PycharmProjects/fast-campus/venv/lib/python3.10/site-packages/autorag/nodes/retrieval/base.py\" target=\"_blank\"><span style=\"color: #7f7f7f; text-decoration-color: #7f7f7f\">base.py</span></a><span style=\"color: #7f7f7f; text-decoration-color: #7f7f7f\">:</span><a href=\"file:///Users/jeffrey/PycharmProjects/fast-campus/venv/lib/python3.10/site-packages/autorag/nodes/retrieval/base.py#18\" target=\"_blank\"><span style=\"color: #7f7f7f; text-decoration-color: #7f7f7f\">18</span></a>\n",
       "</pre>\n"
      ]
     },
     "metadata": {},
     "output_type": "display_data"
    },
    {
     "data": {
      "text/plain": [
       "\u001B[2;36m                   \u001B[0m\u001B[2;36m \u001B[0m\u001B[34mINFO    \u001B[0m \u001B[1m[\u001B[0mbase.py:\u001B[1;36m16\u001B[0m\u001B[1m]\u001B[0m >> Initialize passage reranker node - PassReranker module\u001B[33m...\u001B[0m   \u001B]8;id=463274;file:///Users/jeffrey/PycharmProjects/fast-campus/venv/lib/python3.10/site-packages/autorag/nodes/passagereranker/base.py\u001B\\\u001B[2mbase.py\u001B[0m\u001B]8;;\u001B\\\u001B[2m:\u001B[0m\u001B]8;id=993171;file:///Users/jeffrey/PycharmProjects/fast-campus/venv/lib/python3.10/site-packages/autorag/nodes/passagereranker/base.py#16\u001B\\\u001B[2m16\u001B[0m\u001B]8;;\u001B\\\n"
      ],
      "text/html": [
       "<pre style=\"white-space:pre;overflow-x:auto;line-height:normal;font-family:Menlo,'DejaVu Sans Mono',consolas,'Courier New',monospace\"><span style=\"color: #7fbfbf; text-decoration-color: #7fbfbf\">                    </span><span style=\"color: #000080; text-decoration-color: #000080\">INFO    </span> <span style=\"font-weight: bold\">[</span>base.py:<span style=\"color: #008080; text-decoration-color: #008080; font-weight: bold\">16</span><span style=\"font-weight: bold\">]</span> &gt;&gt; Initialize passage reranker node - PassReranker module<span style=\"color: #808000; text-decoration-color: #808000\">...</span>   <a href=\"file:///Users/jeffrey/PycharmProjects/fast-campus/venv/lib/python3.10/site-packages/autorag/nodes/passagereranker/base.py\" target=\"_blank\"><span style=\"color: #7f7f7f; text-decoration-color: #7f7f7f\">base.py</span></a><span style=\"color: #7f7f7f; text-decoration-color: #7f7f7f\">:</span><a href=\"file:///Users/jeffrey/PycharmProjects/fast-campus/venv/lib/python3.10/site-packages/autorag/nodes/passagereranker/base.py#16\" target=\"_blank\"><span style=\"color: #7f7f7f; text-decoration-color: #7f7f7f\">16</span></a>\n",
       "</pre>\n"
      ]
     },
     "metadata": {},
     "output_type": "display_data"
    },
    {
     "data": {
      "text/plain": [
       "\u001B[2;36m                   \u001B[0m\u001B[2;36m \u001B[0m\u001B[34mINFO    \u001B[0m \u001B[1m[\u001B[0mbase.py:\u001B[1;36m16\u001B[0m\u001B[1m]\u001B[0m >> Initialize passage filter node - PercentileCutoff           \u001B]8;id=202609;file:///Users/jeffrey/PycharmProjects/fast-campus/venv/lib/python3.10/site-packages/autorag/nodes/passagefilter/base.py\u001B\\\u001B[2mbase.py\u001B[0m\u001B]8;;\u001B\\\u001B[2m:\u001B[0m\u001B]8;id=890798;file:///Users/jeffrey/PycharmProjects/fast-campus/venv/lib/python3.10/site-packages/autorag/nodes/passagefilter/base.py#16\u001B\\\u001B[2m16\u001B[0m\u001B]8;;\u001B\\\n"
      ],
      "text/html": [
       "<pre style=\"white-space:pre;overflow-x:auto;line-height:normal;font-family:Menlo,'DejaVu Sans Mono',consolas,'Courier New',monospace\"><span style=\"color: #7fbfbf; text-decoration-color: #7fbfbf\">                    </span><span style=\"color: #000080; text-decoration-color: #000080\">INFO    </span> <span style=\"font-weight: bold\">[</span>base.py:<span style=\"color: #008080; text-decoration-color: #008080; font-weight: bold\">16</span><span style=\"font-weight: bold\">]</span> &gt;&gt; Initialize passage filter node - PercentileCutoff           <a href=\"file:///Users/jeffrey/PycharmProjects/fast-campus/venv/lib/python3.10/site-packages/autorag/nodes/passagefilter/base.py\" target=\"_blank\"><span style=\"color: #7f7f7f; text-decoration-color: #7f7f7f\">base.py</span></a><span style=\"color: #7f7f7f; text-decoration-color: #7f7f7f\">:</span><a href=\"file:///Users/jeffrey/PycharmProjects/fast-campus/venv/lib/python3.10/site-packages/autorag/nodes/passagefilter/base.py#16\" target=\"_blank\"><span style=\"color: #7f7f7f; text-decoration-color: #7f7f7f\">16</span></a>\n",
       "</pre>\n"
      ]
     },
     "metadata": {},
     "output_type": "display_data"
    },
    {
     "data": {
      "text/plain": [
       "\u001B[2;36m                   \u001B[0m\u001B[2;36m \u001B[0m\u001B[34mINFO    \u001B[0m \u001B[1m[\u001B[0mbase.py:\u001B[1;36m15\u001B[0m\u001B[1m]\u001B[0m >> Initialize prompt maker node - LongContextReorder module\u001B[33m...\u001B[0m \u001B]8;id=848277;file:///Users/jeffrey/PycharmProjects/fast-campus/venv/lib/python3.10/site-packages/autorag/nodes/promptmaker/base.py\u001B\\\u001B[2mbase.py\u001B[0m\u001B]8;;\u001B\\\u001B[2m:\u001B[0m\u001B]8;id=678575;file:///Users/jeffrey/PycharmProjects/fast-campus/venv/lib/python3.10/site-packages/autorag/nodes/promptmaker/base.py#15\u001B\\\u001B[2m15\u001B[0m\u001B]8;;\u001B\\\n"
      ],
      "text/html": [
       "<pre style=\"white-space:pre;overflow-x:auto;line-height:normal;font-family:Menlo,'DejaVu Sans Mono',consolas,'Courier New',monospace\"><span style=\"color: #7fbfbf; text-decoration-color: #7fbfbf\">                    </span><span style=\"color: #000080; text-decoration-color: #000080\">INFO    </span> <span style=\"font-weight: bold\">[</span>base.py:<span style=\"color: #008080; text-decoration-color: #008080; font-weight: bold\">15</span><span style=\"font-weight: bold\">]</span> &gt;&gt; Initialize prompt maker node - LongContextReorder module<span style=\"color: #808000; text-decoration-color: #808000\">...</span> <a href=\"file:///Users/jeffrey/PycharmProjects/fast-campus/venv/lib/python3.10/site-packages/autorag/nodes/promptmaker/base.py\" target=\"_blank\"><span style=\"color: #7f7f7f; text-decoration-color: #7f7f7f\">base.py</span></a><span style=\"color: #7f7f7f; text-decoration-color: #7f7f7f\">:</span><a href=\"file:///Users/jeffrey/PycharmProjects/fast-campus/venv/lib/python3.10/site-packages/autorag/nodes/promptmaker/base.py#15\" target=\"_blank\"><span style=\"color: #7f7f7f; text-decoration-color: #7f7f7f\">15</span></a>\n",
       "</pre>\n"
      ]
     },
     "metadata": {},
     "output_type": "display_data"
    },
    {
     "data": {
      "text/plain": [
       "\u001B[2;36m                   \u001B[0m\u001B[2;36m \u001B[0m\u001B[34mINFO    \u001B[0m \u001B[1m[\u001B[0mbase.py:\u001B[1;36m19\u001B[0m\u001B[1m]\u001B[0m >> Initialize generator node - OpenAILLM                       \u001B]8;id=333722;file:///Users/jeffrey/PycharmProjects/fast-campus/venv/lib/python3.10/site-packages/autorag/nodes/generator/base.py\u001B\\\u001B[2mbase.py\u001B[0m\u001B]8;;\u001B\\\u001B[2m:\u001B[0m\u001B]8;id=490775;file:///Users/jeffrey/PycharmProjects/fast-campus/venv/lib/python3.10/site-packages/autorag/nodes/generator/base.py#19\u001B\\\u001B[2m19\u001B[0m\u001B]8;;\u001B\\\n"
      ],
      "text/html": [
       "<pre style=\"white-space:pre;overflow-x:auto;line-height:normal;font-family:Menlo,'DejaVu Sans Mono',consolas,'Courier New',monospace\"><span style=\"color: #7fbfbf; text-decoration-color: #7fbfbf\">                    </span><span style=\"color: #000080; text-decoration-color: #000080\">INFO    </span> <span style=\"font-weight: bold\">[</span>base.py:<span style=\"color: #008080; text-decoration-color: #008080; font-weight: bold\">19</span><span style=\"font-weight: bold\">]</span> &gt;&gt; Initialize generator node - OpenAILLM                       <a href=\"file:///Users/jeffrey/PycharmProjects/fast-campus/venv/lib/python3.10/site-packages/autorag/nodes/generator/base.py\" target=\"_blank\"><span style=\"color: #7f7f7f; text-decoration-color: #7f7f7f\">base.py</span></a><span style=\"color: #7f7f7f; text-decoration-color: #7f7f7f\">:</span><a href=\"file:///Users/jeffrey/PycharmProjects/fast-campus/venv/lib/python3.10/site-packages/autorag/nodes/generator/base.py#19\" target=\"_blank\"><span style=\"color: #7f7f7f; text-decoration-color: #7f7f7f\">19</span></a>\n",
       "</pre>\n"
      ]
     },
     "metadata": {},
     "output_type": "display_data"
    },
    {
     "data": {
      "text/plain": [
       "\u001B[2;36m                   \u001B[0m\u001B[2;36m \u001B[0m\u001B[34mINFO    \u001B[0m \u001B[1m[\u001B[0mbase.py:\u001B[1;36m23\u001B[0m\u001B[1m]\u001B[0m >> Deleting generator module - OpenAILLM                       \u001B]8;id=673859;file:///Users/jeffrey/PycharmProjects/fast-campus/venv/lib/python3.10/site-packages/autorag/nodes/generator/base.py\u001B\\\u001B[2mbase.py\u001B[0m\u001B]8;;\u001B\\\u001B[2m:\u001B[0m\u001B]8;id=547931;file:///Users/jeffrey/PycharmProjects/fast-campus/venv/lib/python3.10/site-packages/autorag/nodes/generator/base.py#23\u001B\\\u001B[2m23\u001B[0m\u001B]8;;\u001B\\\n"
      ],
      "text/html": [
       "<pre style=\"white-space:pre;overflow-x:auto;line-height:normal;font-family:Menlo,'DejaVu Sans Mono',consolas,'Courier New',monospace\"><span style=\"color: #7fbfbf; text-decoration-color: #7fbfbf\">                    </span><span style=\"color: #000080; text-decoration-color: #000080\">INFO    </span> <span style=\"font-weight: bold\">[</span>base.py:<span style=\"color: #008080; text-decoration-color: #008080; font-weight: bold\">23</span><span style=\"font-weight: bold\">]</span> &gt;&gt; Deleting generator module - OpenAILLM                       <a href=\"file:///Users/jeffrey/PycharmProjects/fast-campus/venv/lib/python3.10/site-packages/autorag/nodes/generator/base.py\" target=\"_blank\"><span style=\"color: #7f7f7f; text-decoration-color: #7f7f7f\">base.py</span></a><span style=\"color: #7f7f7f; text-decoration-color: #7f7f7f\">:</span><a href=\"file:///Users/jeffrey/PycharmProjects/fast-campus/venv/lib/python3.10/site-packages/autorag/nodes/generator/base.py#23\" target=\"_blank\"><span style=\"color: #7f7f7f; text-decoration-color: #7f7f7f\">23</span></a>\n",
       "</pre>\n"
      ]
     },
     "metadata": {},
     "output_type": "display_data"
    },
    {
     "data": {
      "text/plain": [
       "\u001B[2;36m                   \u001B[0m\u001B[2;36m \u001B[0m\u001B[34mINFO    \u001B[0m \u001B[1m[\u001B[0mbase.py:\u001B[1;36m20\u001B[0m\u001B[1m]\u001B[0m >> Prompt maker node - LongContextReorder module is deleted.   \u001B]8;id=83962;file:///Users/jeffrey/PycharmProjects/fast-campus/venv/lib/python3.10/site-packages/autorag/nodes/promptmaker/base.py\u001B\\\u001B[2mbase.py\u001B[0m\u001B]8;;\u001B\\\u001B[2m:\u001B[0m\u001B]8;id=560001;file:///Users/jeffrey/PycharmProjects/fast-campus/venv/lib/python3.10/site-packages/autorag/nodes/promptmaker/base.py#20\u001B\\\u001B[2m20\u001B[0m\u001B]8;;\u001B\\\n"
      ],
      "text/html": [
       "<pre style=\"white-space:pre;overflow-x:auto;line-height:normal;font-family:Menlo,'DejaVu Sans Mono',consolas,'Courier New',monospace\"><span style=\"color: #7fbfbf; text-decoration-color: #7fbfbf\">                    </span><span style=\"color: #000080; text-decoration-color: #000080\">INFO    </span> <span style=\"font-weight: bold\">[</span>base.py:<span style=\"color: #008080; text-decoration-color: #008080; font-weight: bold\">20</span><span style=\"font-weight: bold\">]</span> &gt;&gt; Prompt maker node - LongContextReorder module is deleted.   <a href=\"file:///Users/jeffrey/PycharmProjects/fast-campus/venv/lib/python3.10/site-packages/autorag/nodes/promptmaker/base.py\" target=\"_blank\"><span style=\"color: #7f7f7f; text-decoration-color: #7f7f7f\">base.py</span></a><span style=\"color: #7f7f7f; text-decoration-color: #7f7f7f\">:</span><a href=\"file:///Users/jeffrey/PycharmProjects/fast-campus/venv/lib/python3.10/site-packages/autorag/nodes/promptmaker/base.py#20\" target=\"_blank\"><span style=\"color: #7f7f7f; text-decoration-color: #7f7f7f\">20</span></a>\n",
       "</pre>\n"
      ]
     },
     "metadata": {},
     "output_type": "display_data"
    },
    {
     "data": {
      "text/plain": [
       "\u001B[2;36m                   \u001B[0m\u001B[2;36m \u001B[0m\u001B[34mINFO    \u001B[0m \u001B[1m[\u001B[0mbase.py:\u001B[1;36m19\u001B[0m\u001B[1m]\u001B[0m >> Prompt maker node - PercentileCutoff module is deleted.     \u001B]8;id=646351;file:///Users/jeffrey/PycharmProjects/fast-campus/venv/lib/python3.10/site-packages/autorag/nodes/passagefilter/base.py\u001B\\\u001B[2mbase.py\u001B[0m\u001B]8;;\u001B\\\u001B[2m:\u001B[0m\u001B]8;id=149299;file:///Users/jeffrey/PycharmProjects/fast-campus/venv/lib/python3.10/site-packages/autorag/nodes/passagefilter/base.py#19\u001B\\\u001B[2m19\u001B[0m\u001B]8;;\u001B\\\n"
      ],
      "text/html": [
       "<pre style=\"white-space:pre;overflow-x:auto;line-height:normal;font-family:Menlo,'DejaVu Sans Mono',consolas,'Courier New',monospace\"><span style=\"color: #7fbfbf; text-decoration-color: #7fbfbf\">                    </span><span style=\"color: #000080; text-decoration-color: #000080\">INFO    </span> <span style=\"font-weight: bold\">[</span>base.py:<span style=\"color: #008080; text-decoration-color: #008080; font-weight: bold\">19</span><span style=\"font-weight: bold\">]</span> &gt;&gt; Prompt maker node - PercentileCutoff module is deleted.     <a href=\"file:///Users/jeffrey/PycharmProjects/fast-campus/venv/lib/python3.10/site-packages/autorag/nodes/passagefilter/base.py\" target=\"_blank\"><span style=\"color: #7f7f7f; text-decoration-color: #7f7f7f\">base.py</span></a><span style=\"color: #7f7f7f; text-decoration-color: #7f7f7f\">:</span><a href=\"file:///Users/jeffrey/PycharmProjects/fast-campus/venv/lib/python3.10/site-packages/autorag/nodes/passagefilter/base.py#19\" target=\"_blank\"><span style=\"color: #7f7f7f; text-decoration-color: #7f7f7f\">19</span></a>\n",
       "</pre>\n"
      ]
     },
     "metadata": {},
     "output_type": "display_data"
    },
    {
     "data": {
      "text/plain": [
       "\u001B[2;36m                   \u001B[0m\u001B[2;36m \u001B[0m\u001B[34mINFO    \u001B[0m \u001B[1m[\u001B[0mbase.py:\u001B[1;36m21\u001B[0m\u001B[1m]\u001B[0m >> Deleting passage reranker node - PassReranker module\u001B[33m...\u001B[0m     \u001B]8;id=158020;file:///Users/jeffrey/PycharmProjects/fast-campus/venv/lib/python3.10/site-packages/autorag/nodes/passagereranker/base.py\u001B\\\u001B[2mbase.py\u001B[0m\u001B]8;;\u001B\\\u001B[2m:\u001B[0m\u001B]8;id=809680;file:///Users/jeffrey/PycharmProjects/fast-campus/venv/lib/python3.10/site-packages/autorag/nodes/passagereranker/base.py#21\u001B\\\u001B[2m21\u001B[0m\u001B]8;;\u001B\\\n"
      ],
      "text/html": [
       "<pre style=\"white-space:pre;overflow-x:auto;line-height:normal;font-family:Menlo,'DejaVu Sans Mono',consolas,'Courier New',monospace\"><span style=\"color: #7fbfbf; text-decoration-color: #7fbfbf\">                    </span><span style=\"color: #000080; text-decoration-color: #000080\">INFO    </span> <span style=\"font-weight: bold\">[</span>base.py:<span style=\"color: #008080; text-decoration-color: #008080; font-weight: bold\">21</span><span style=\"font-weight: bold\">]</span> &gt;&gt; Deleting passage reranker node - PassReranker module<span style=\"color: #808000; text-decoration-color: #808000\">...</span>     <a href=\"file:///Users/jeffrey/PycharmProjects/fast-campus/venv/lib/python3.10/site-packages/autorag/nodes/passagereranker/base.py\" target=\"_blank\"><span style=\"color: #7f7f7f; text-decoration-color: #7f7f7f\">base.py</span></a><span style=\"color: #7f7f7f; text-decoration-color: #7f7f7f\">:</span><a href=\"file:///Users/jeffrey/PycharmProjects/fast-campus/venv/lib/python3.10/site-packages/autorag/nodes/passagereranker/base.py#21\" target=\"_blank\"><span style=\"color: #7f7f7f; text-decoration-color: #7f7f7f\">21</span></a>\n",
       "</pre>\n"
      ]
     },
     "metadata": {},
     "output_type": "display_data"
    },
    {
     "data": {
      "text/plain": [
       "\u001B[2;36m                   \u001B[0m\u001B[2;36m \u001B[0m\u001B[34mINFO    \u001B[0m \u001B[1m[\u001B[0mbase.py:\u001B[1;36m28\u001B[0m\u001B[1m]\u001B[0m >> Deleting retrieval node - BM25 module\u001B[33m...\u001B[0m                    \u001B]8;id=66462;file:///Users/jeffrey/PycharmProjects/fast-campus/venv/lib/python3.10/site-packages/autorag/nodes/retrieval/base.py\u001B\\\u001B[2mbase.py\u001B[0m\u001B]8;;\u001B\\\u001B[2m:\u001B[0m\u001B]8;id=286721;file:///Users/jeffrey/PycharmProjects/fast-campus/venv/lib/python3.10/site-packages/autorag/nodes/retrieval/base.py#28\u001B\\\u001B[2m28\u001B[0m\u001B]8;;\u001B\\\n"
      ],
      "text/html": [
       "<pre style=\"white-space:pre;overflow-x:auto;line-height:normal;font-family:Menlo,'DejaVu Sans Mono',consolas,'Courier New',monospace\"><span style=\"color: #7fbfbf; text-decoration-color: #7fbfbf\">                    </span><span style=\"color: #000080; text-decoration-color: #000080\">INFO    </span> <span style=\"font-weight: bold\">[</span>base.py:<span style=\"color: #008080; text-decoration-color: #008080; font-weight: bold\">28</span><span style=\"font-weight: bold\">]</span> &gt;&gt; Deleting retrieval node - BM25 module<span style=\"color: #808000; text-decoration-color: #808000\">...</span>                    <a href=\"file:///Users/jeffrey/PycharmProjects/fast-campus/venv/lib/python3.10/site-packages/autorag/nodes/retrieval/base.py\" target=\"_blank\"><span style=\"color: #7f7f7f; text-decoration-color: #7f7f7f\">base.py</span></a><span style=\"color: #7f7f7f; text-decoration-color: #7f7f7f\">:</span><a href=\"file:///Users/jeffrey/PycharmProjects/fast-campus/venv/lib/python3.10/site-packages/autorag/nodes/retrieval/base.py#28\" target=\"_blank\"><span style=\"color: #7f7f7f; text-decoration-color: #7f7f7f\">28</span></a>\n",
       "</pre>\n"
      ]
     },
     "metadata": {},
     "output_type": "display_data"
    },
    {
     "data": {
      "text/plain": [
       "\u001B[2;36m                   \u001B[0m\u001B[2;36m \u001B[0m\u001B[34mINFO    \u001B[0m \u001B[1m[\u001B[0mbase.py:\u001B[1;36m23\u001B[0m\u001B[1m]\u001B[0m >> Deleting generator module - LlamaIndexLLM                   \u001B]8;id=91499;file:///Users/jeffrey/PycharmProjects/fast-campus/venv/lib/python3.10/site-packages/autorag/nodes/generator/base.py\u001B\\\u001B[2mbase.py\u001B[0m\u001B]8;;\u001B\\\u001B[2m:\u001B[0m\u001B]8;id=466170;file:///Users/jeffrey/PycharmProjects/fast-campus/venv/lib/python3.10/site-packages/autorag/nodes/generator/base.py#23\u001B\\\u001B[2m23\u001B[0m\u001B]8;;\u001B\\\n"
      ],
      "text/html": [
       "<pre style=\"white-space:pre;overflow-x:auto;line-height:normal;font-family:Menlo,'DejaVu Sans Mono',consolas,'Courier New',monospace\"><span style=\"color: #7fbfbf; text-decoration-color: #7fbfbf\">                    </span><span style=\"color: #000080; text-decoration-color: #000080\">INFO    </span> <span style=\"font-weight: bold\">[</span>base.py:<span style=\"color: #008080; text-decoration-color: #008080; font-weight: bold\">23</span><span style=\"font-weight: bold\">]</span> &gt;&gt; Deleting generator module - LlamaIndexLLM                   <a href=\"file:///Users/jeffrey/PycharmProjects/fast-campus/venv/lib/python3.10/site-packages/autorag/nodes/generator/base.py\" target=\"_blank\"><span style=\"color: #7f7f7f; text-decoration-color: #7f7f7f\">base.py</span></a><span style=\"color: #7f7f7f; text-decoration-color: #7f7f7f\">:</span><a href=\"file:///Users/jeffrey/PycharmProjects/fast-campus/venv/lib/python3.10/site-packages/autorag/nodes/generator/base.py#23\" target=\"_blank\"><span style=\"color: #7f7f7f; text-decoration-color: #7f7f7f\">23</span></a>\n",
       "</pre>\n"
      ]
     },
     "metadata": {},
     "output_type": "display_data"
    },
    {
     "data": {
      "text/plain": [
       "\u001B[2;36m                   \u001B[0m\u001B[2;36m \u001B[0m\u001B[34mINFO    \u001B[0m \u001B[1m[\u001B[0mbase.py:\u001B[1;36m26\u001B[0m\u001B[1m]\u001B[0m >> Delete query expansion node - PassQueryExpansion module\u001B[33m...\u001B[0m  \u001B]8;id=130585;file:///Users/jeffrey/PycharmProjects/fast-campus/venv/lib/python3.10/site-packages/autorag/nodes/queryexpansion/base.py\u001B\\\u001B[2mbase.py\u001B[0m\u001B]8;;\u001B\\\u001B[2m:\u001B[0m\u001B]8;id=825373;file:///Users/jeffrey/PycharmProjects/fast-campus/venv/lib/python3.10/site-packages/autorag/nodes/queryexpansion/base.py#26\u001B\\\u001B[2m26\u001B[0m\u001B]8;;\u001B\\\n"
      ],
      "text/html": [
       "<pre style=\"white-space:pre;overflow-x:auto;line-height:normal;font-family:Menlo,'DejaVu Sans Mono',consolas,'Courier New',monospace\"><span style=\"color: #7fbfbf; text-decoration-color: #7fbfbf\">                    </span><span style=\"color: #000080; text-decoration-color: #000080\">INFO    </span> <span style=\"font-weight: bold\">[</span>base.py:<span style=\"color: #008080; text-decoration-color: #008080; font-weight: bold\">26</span><span style=\"font-weight: bold\">]</span> &gt;&gt; Delete query expansion node - PassQueryExpansion module<span style=\"color: #808000; text-decoration-color: #808000\">...</span>  <a href=\"file:///Users/jeffrey/PycharmProjects/fast-campus/venv/lib/python3.10/site-packages/autorag/nodes/queryexpansion/base.py\" target=\"_blank\"><span style=\"color: #7f7f7f; text-decoration-color: #7f7f7f\">base.py</span></a><span style=\"color: #7f7f7f; text-decoration-color: #7f7f7f\">:</span><a href=\"file:///Users/jeffrey/PycharmProjects/fast-campus/venv/lib/python3.10/site-packages/autorag/nodes/queryexpansion/base.py#26\" target=\"_blank\"><span style=\"color: #7f7f7f; text-decoration-color: #7f7f7f\">26</span></a>\n",
       "</pre>\n"
      ]
     },
     "metadata": {},
     "output_type": "display_data"
    },
    {
     "data": {
      "text/plain": [
       "\u001B[2;36m                   \u001B[0m\u001B[2;36m \u001B[0m\u001B[34mINFO    \u001B[0m \u001B[1m[\u001B[0mapi.py:\u001B[1;36m255\u001B[0m\u001B[1m]\u001B[0m >> Run api server at \u001B[1;92m0.0.0.0\u001B[0m:\u001B[1;36m8000\u001B[0m                              \u001B]8;id=161379;file:///Users/jeffrey/PycharmProjects/fast-campus/venv/lib/python3.10/site-packages/autorag/deploy/api.py\u001B\\\u001B[2mapi.py\u001B[0m\u001B]8;;\u001B\\\u001B[2m:\u001B[0m\u001B]8;id=599847;file:///Users/jeffrey/PycharmProjects/fast-campus/venv/lib/python3.10/site-packages/autorag/deploy/api.py#255\u001B\\\u001B[2m255\u001B[0m\u001B]8;;\u001B\\\n"
      ],
      "text/html": [
       "<pre style=\"white-space:pre;overflow-x:auto;line-height:normal;font-family:Menlo,'DejaVu Sans Mono',consolas,'Courier New',monospace\"><span style=\"color: #7fbfbf; text-decoration-color: #7fbfbf\">                    </span><span style=\"color: #000080; text-decoration-color: #000080\">INFO    </span> <span style=\"font-weight: bold\">[</span>api.py:<span style=\"color: #008080; text-decoration-color: #008080; font-weight: bold\">255</span><span style=\"font-weight: bold\">]</span> &gt;&gt; Run api server at <span style=\"color: #00ff00; text-decoration-color: #00ff00; font-weight: bold\">0.0.0.0</span>:<span style=\"color: #008080; text-decoration-color: #008080; font-weight: bold\">8000</span>                              <a href=\"file:///Users/jeffrey/PycharmProjects/fast-campus/venv/lib/python3.10/site-packages/autorag/deploy/api.py\" target=\"_blank\"><span style=\"color: #7f7f7f; text-decoration-color: #7f7f7f\">api.py</span></a><span style=\"color: #7f7f7f; text-decoration-color: #7f7f7f\">:</span><a href=\"file:///Users/jeffrey/PycharmProjects/fast-campus/venv/lib/python3.10/site-packages/autorag/deploy/api.py#255\" target=\"_blank\"><span style=\"color: #7f7f7f; text-decoration-color: #7f7f7f\">255</span></a>\n",
       "</pre>\n"
      ]
     },
     "metadata": {},
     "output_type": "display_data"
    },
    {
     "data": {
      "text/plain": [
       "\u001B[2;36m                   \u001B[0m\u001B[2;36m \u001B[0m\u001B[34mINFO    \u001B[0m \u001B[1m[\u001B[0mngrok.py:\u001B[1;36m349\u001B[0m\u001B[1m]\u001B[0m >> Opening tunnel named:                                   \u001B]8;id=72501;file:///Users/jeffrey/PycharmProjects/fast-campus/venv/lib/python3.10/site-packages/pyngrok/ngrok.py\u001B\\\u001B[2mngrok.py\u001B[0m\u001B]8;;\u001B\\\u001B[2m:\u001B[0m\u001B]8;id=917129;file:///Users/jeffrey/PycharmProjects/fast-campus/venv/lib/python3.10/site-packages/pyngrok/ngrok.py#349\u001B\\\u001B[2m349\u001B[0m\u001B]8;;\u001B\\\n",
       "\u001B[2;36m                    \u001B[0m         http-\u001B[1;36m8000\u001B[0m-\u001B[93mc50f113e-21ee-4b4b-87c0-4e0bbfc47200\u001B[0m                            \u001B[2m            \u001B[0m\n"
      ],
      "text/html": [
       "<pre style=\"white-space:pre;overflow-x:auto;line-height:normal;font-family:Menlo,'DejaVu Sans Mono',consolas,'Courier New',monospace\"><span style=\"color: #7fbfbf; text-decoration-color: #7fbfbf\">                    </span><span style=\"color: #000080; text-decoration-color: #000080\">INFO    </span> <span style=\"font-weight: bold\">[</span>ngrok.py:<span style=\"color: #008080; text-decoration-color: #008080; font-weight: bold\">349</span><span style=\"font-weight: bold\">]</span> &gt;&gt; Opening tunnel named:                                   <a href=\"file:///Users/jeffrey/PycharmProjects/fast-campus/venv/lib/python3.10/site-packages/pyngrok/ngrok.py\" target=\"_blank\"><span style=\"color: #7f7f7f; text-decoration-color: #7f7f7f\">ngrok.py</span></a><span style=\"color: #7f7f7f; text-decoration-color: #7f7f7f\">:</span><a href=\"file:///Users/jeffrey/PycharmProjects/fast-campus/venv/lib/python3.10/site-packages/pyngrok/ngrok.py#349\" target=\"_blank\"><span style=\"color: #7f7f7f; text-decoration-color: #7f7f7f\">349</span></a>\n",
       "<span style=\"color: #7fbfbf; text-decoration-color: #7fbfbf\">                    </span>         http-<span style=\"color: #008080; text-decoration-color: #008080; font-weight: bold\">8000</span>-<span style=\"color: #ffff00; text-decoration-color: #ffff00\">c50f113e-21ee-4b4b-87c0-4e0bbfc47200</span>                            <span style=\"color: #7f7f7f; text-decoration-color: #7f7f7f\">            </span>\n",
       "</pre>\n"
      ]
     },
     "metadata": {},
     "output_type": "display_data"
    },
    {
     "data": {
      "text/plain": [
       "\u001B[2;36m                   \u001B[0m\u001B[2;36m \u001B[0m\u001B[34mINFO    \u001B[0m \u001B[1m[\u001B[0mprocess.py:\u001B[1;36m99\u001B[0m\u001B[1m]\u001B[0m >> \u001B[33mt\u001B[0m=\u001B[1;36m2025\u001B[0m-\u001B[1;36m01\u001B[0m-31T\u001B[1;92m17:32:15\u001B[0m+\u001B[1;36m0900\u001B[0m \u001B[33mlvl\u001B[0m=\u001B[35minfo\u001B[0m \u001B[33mmsg\u001B[0m=\u001B[32m\"no\u001B[0m\u001B[32m \u001B[0m          \u001B]8;id=925425;file:///Users/jeffrey/PycharmProjects/fast-campus/venv/lib/python3.10/site-packages/pyngrok/process.py\u001B\\\u001B[2mprocess.py\u001B[0m\u001B]8;;\u001B\\\u001B[2m:\u001B[0m\u001B]8;id=894536;file:///Users/jeffrey/PycharmProjects/fast-campus/venv/lib/python3.10/site-packages/pyngrok/process.py#99\u001B\\\u001B[2m99\u001B[0m\u001B]8;;\u001B\\\n",
       "\u001B[2;36m                    \u001B[0m         \u001B[32mconfiguration paths supplied\"\u001B[0m                                            \u001B[2m             \u001B[0m\n"
      ],
      "text/html": [
       "<pre style=\"white-space:pre;overflow-x:auto;line-height:normal;font-family:Menlo,'DejaVu Sans Mono',consolas,'Courier New',monospace\"><span style=\"color: #7fbfbf; text-decoration-color: #7fbfbf\">                    </span><span style=\"color: #000080; text-decoration-color: #000080\">INFO    </span> <span style=\"font-weight: bold\">[</span>process.py:<span style=\"color: #008080; text-decoration-color: #008080; font-weight: bold\">99</span><span style=\"font-weight: bold\">]</span> &gt;&gt; <span style=\"color: #808000; text-decoration-color: #808000\">t</span>=<span style=\"color: #008080; text-decoration-color: #008080; font-weight: bold\">2025</span>-<span style=\"color: #008080; text-decoration-color: #008080; font-weight: bold\">01</span>-31T<span style=\"color: #00ff00; text-decoration-color: #00ff00; font-weight: bold\">17:32:15</span>+<span style=\"color: #008080; text-decoration-color: #008080; font-weight: bold\">0900</span> <span style=\"color: #808000; text-decoration-color: #808000\">lvl</span>=<span style=\"color: #800080; text-decoration-color: #800080\">info</span> <span style=\"color: #808000; text-decoration-color: #808000\">msg</span>=<span style=\"color: #008000; text-decoration-color: #008000\">\"no </span>          <a href=\"file:///Users/jeffrey/PycharmProjects/fast-campus/venv/lib/python3.10/site-packages/pyngrok/process.py\" target=\"_blank\"><span style=\"color: #7f7f7f; text-decoration-color: #7f7f7f\">process.py</span></a><span style=\"color: #7f7f7f; text-decoration-color: #7f7f7f\">:</span><a href=\"file:///Users/jeffrey/PycharmProjects/fast-campus/venv/lib/python3.10/site-packages/pyngrok/process.py#99\" target=\"_blank\"><span style=\"color: #7f7f7f; text-decoration-color: #7f7f7f\">99</span></a>\n",
       "<span style=\"color: #7fbfbf; text-decoration-color: #7fbfbf\">                    </span>         <span style=\"color: #008000; text-decoration-color: #008000\">configuration paths supplied\"</span>                                            <span style=\"color: #7f7f7f; text-decoration-color: #7f7f7f\">             </span>\n",
       "</pre>\n"
      ]
     },
     "metadata": {},
     "output_type": "display_data"
    },
    {
     "data": {
      "text/plain": [
       "\u001B[2;36m                   \u001B[0m\u001B[2;36m \u001B[0m\u001B[34mINFO    \u001B[0m \u001B[1m[\u001B[0mprocess.py:\u001B[1;36m99\u001B[0m\u001B[1m]\u001B[0m >> \u001B[33mt\u001B[0m=\u001B[1;36m2025\u001B[0m-\u001B[1;36m01\u001B[0m-31T\u001B[1;92m17:32:15\u001B[0m+\u001B[1;36m0900\u001B[0m \u001B[33mlvl\u001B[0m=\u001B[35minfo\u001B[0m \u001B[33mmsg\u001B[0m=\u001B[32m\"using\u001B[0m\u001B[32m \u001B[0m       \u001B]8;id=138640;file:///Users/jeffrey/PycharmProjects/fast-campus/venv/lib/python3.10/site-packages/pyngrok/process.py\u001B\\\u001B[2mprocess.py\u001B[0m\u001B]8;;\u001B\\\u001B[2m:\u001B[0m\u001B]8;id=60631;file:///Users/jeffrey/PycharmProjects/fast-campus/venv/lib/python3.10/site-packages/pyngrok/process.py#99\u001B\\\u001B[2m99\u001B[0m\u001B]8;;\u001B\\\n",
       "\u001B[2;36m                    \u001B[0m         \u001B[32mconfiguration at default config path\"\u001B[0m                                    \u001B[2m             \u001B[0m\n",
       "\u001B[2;36m                    \u001B[0m         \u001B[33mpath\u001B[0m=\u001B[32m\"/Users/jeffrey/Library/Application Support/ngrok/ngrok.yml\"\u001B[0m        \u001B[2m             \u001B[0m\n"
      ],
      "text/html": [
       "<pre style=\"white-space:pre;overflow-x:auto;line-height:normal;font-family:Menlo,'DejaVu Sans Mono',consolas,'Courier New',monospace\"><span style=\"color: #7fbfbf; text-decoration-color: #7fbfbf\">                    </span><span style=\"color: #000080; text-decoration-color: #000080\">INFO    </span> <span style=\"font-weight: bold\">[</span>process.py:<span style=\"color: #008080; text-decoration-color: #008080; font-weight: bold\">99</span><span style=\"font-weight: bold\">]</span> &gt;&gt; <span style=\"color: #808000; text-decoration-color: #808000\">t</span>=<span style=\"color: #008080; text-decoration-color: #008080; font-weight: bold\">2025</span>-<span style=\"color: #008080; text-decoration-color: #008080; font-weight: bold\">01</span>-31T<span style=\"color: #00ff00; text-decoration-color: #00ff00; font-weight: bold\">17:32:15</span>+<span style=\"color: #008080; text-decoration-color: #008080; font-weight: bold\">0900</span> <span style=\"color: #808000; text-decoration-color: #808000\">lvl</span>=<span style=\"color: #800080; text-decoration-color: #800080\">info</span> <span style=\"color: #808000; text-decoration-color: #808000\">msg</span>=<span style=\"color: #008000; text-decoration-color: #008000\">\"using </span>       <a href=\"file:///Users/jeffrey/PycharmProjects/fast-campus/venv/lib/python3.10/site-packages/pyngrok/process.py\" target=\"_blank\"><span style=\"color: #7f7f7f; text-decoration-color: #7f7f7f\">process.py</span></a><span style=\"color: #7f7f7f; text-decoration-color: #7f7f7f\">:</span><a href=\"file:///Users/jeffrey/PycharmProjects/fast-campus/venv/lib/python3.10/site-packages/pyngrok/process.py#99\" target=\"_blank\"><span style=\"color: #7f7f7f; text-decoration-color: #7f7f7f\">99</span></a>\n",
       "<span style=\"color: #7fbfbf; text-decoration-color: #7fbfbf\">                    </span>         <span style=\"color: #008000; text-decoration-color: #008000\">configuration at default config path\"</span>                                    <span style=\"color: #7f7f7f; text-decoration-color: #7f7f7f\">             </span>\n",
       "<span style=\"color: #7fbfbf; text-decoration-color: #7fbfbf\">                    </span>         <span style=\"color: #808000; text-decoration-color: #808000\">path</span>=<span style=\"color: #008000; text-decoration-color: #008000\">\"/Users/jeffrey/Library/Application Support/ngrok/ngrok.yml\"</span>        <span style=\"color: #7f7f7f; text-decoration-color: #7f7f7f\">             </span>\n",
       "</pre>\n"
      ]
     },
     "metadata": {},
     "output_type": "display_data"
    },
    {
     "data": {
      "text/plain": [
       "\u001B[2;36m                   \u001B[0m\u001B[2;36m \u001B[0m\u001B[34mINFO    \u001B[0m \u001B[1m[\u001B[0mprocess.py:\u001B[1;36m99\u001B[0m\u001B[1m]\u001B[0m >> \u001B[33mt\u001B[0m=\u001B[1;36m2025\u001B[0m-\u001B[1;36m01\u001B[0m-31T\u001B[1;92m17:32:15\u001B[0m+\u001B[1;36m0900\u001B[0m \u001B[33mlvl\u001B[0m=\u001B[35minfo\u001B[0m \u001B[33mmsg\u001B[0m=\u001B[32m\"open\u001B[0m\u001B[32m config \u001B[0m \u001B]8;id=911456;file:///Users/jeffrey/PycharmProjects/fast-campus/venv/lib/python3.10/site-packages/pyngrok/process.py\u001B\\\u001B[2mprocess.py\u001B[0m\u001B]8;;\u001B\\\u001B[2m:\u001B[0m\u001B]8;id=785772;file:///Users/jeffrey/PycharmProjects/fast-campus/venv/lib/python3.10/site-packages/pyngrok/process.py#99\u001B\\\u001B[2m99\u001B[0m\u001B]8;;\u001B\\\n",
       "\u001B[2;36m                    \u001B[0m         \u001B[32mfile\"\u001B[0m \u001B[33mpath\u001B[0m=\u001B[32m\"/Users/jeffrey/Library/Application Support/ngrok/ngrok.yml\"\u001B[0m  \u001B[2m             \u001B[0m\n",
       "\u001B[2;36m                    \u001B[0m         \u001B[33merr\u001B[0m=\u001B[35mnil\u001B[0m                                                                  \u001B[2m             \u001B[0m\n"
      ],
      "text/html": [
       "<pre style=\"white-space:pre;overflow-x:auto;line-height:normal;font-family:Menlo,'DejaVu Sans Mono',consolas,'Courier New',monospace\"><span style=\"color: #7fbfbf; text-decoration-color: #7fbfbf\">                    </span><span style=\"color: #000080; text-decoration-color: #000080\">INFO    </span> <span style=\"font-weight: bold\">[</span>process.py:<span style=\"color: #008080; text-decoration-color: #008080; font-weight: bold\">99</span><span style=\"font-weight: bold\">]</span> &gt;&gt; <span style=\"color: #808000; text-decoration-color: #808000\">t</span>=<span style=\"color: #008080; text-decoration-color: #008080; font-weight: bold\">2025</span>-<span style=\"color: #008080; text-decoration-color: #008080; font-weight: bold\">01</span>-31T<span style=\"color: #00ff00; text-decoration-color: #00ff00; font-weight: bold\">17:32:15</span>+<span style=\"color: #008080; text-decoration-color: #008080; font-weight: bold\">0900</span> <span style=\"color: #808000; text-decoration-color: #808000\">lvl</span>=<span style=\"color: #800080; text-decoration-color: #800080\">info</span> <span style=\"color: #808000; text-decoration-color: #808000\">msg</span>=<span style=\"color: #008000; text-decoration-color: #008000\">\"open config </span> <a href=\"file:///Users/jeffrey/PycharmProjects/fast-campus/venv/lib/python3.10/site-packages/pyngrok/process.py\" target=\"_blank\"><span style=\"color: #7f7f7f; text-decoration-color: #7f7f7f\">process.py</span></a><span style=\"color: #7f7f7f; text-decoration-color: #7f7f7f\">:</span><a href=\"file:///Users/jeffrey/PycharmProjects/fast-campus/venv/lib/python3.10/site-packages/pyngrok/process.py#99\" target=\"_blank\"><span style=\"color: #7f7f7f; text-decoration-color: #7f7f7f\">99</span></a>\n",
       "<span style=\"color: #7fbfbf; text-decoration-color: #7fbfbf\">                    </span>         <span style=\"color: #008000; text-decoration-color: #008000\">file\"</span> <span style=\"color: #808000; text-decoration-color: #808000\">path</span>=<span style=\"color: #008000; text-decoration-color: #008000\">\"/Users/jeffrey/Library/Application Support/ngrok/ngrok.yml\"</span>  <span style=\"color: #7f7f7f; text-decoration-color: #7f7f7f\">             </span>\n",
       "<span style=\"color: #7fbfbf; text-decoration-color: #7fbfbf\">                    </span>         <span style=\"color: #808000; text-decoration-color: #808000\">err</span>=<span style=\"color: #800080; text-decoration-color: #800080\">nil</span>                                                                  <span style=\"color: #7f7f7f; text-decoration-color: #7f7f7f\">             </span>\n",
       "</pre>\n"
      ]
     },
     "metadata": {},
     "output_type": "display_data"
    },
    {
     "data": {
      "text/plain": [
       "\u001B[2;36m                   \u001B[0m\u001B[2;36m \u001B[0m\u001B[34mINFO    \u001B[0m \u001B[1m[\u001B[0mprocess.py:\u001B[1;36m99\u001B[0m\u001B[1m]\u001B[0m >> \u001B[33mt\u001B[0m=\u001B[1;36m2025\u001B[0m-\u001B[1;36m01\u001B[0m-31T\u001B[1;92m17:32:15\u001B[0m+\u001B[1;36m0900\u001B[0m \u001B[33mlvl\u001B[0m=\u001B[35minfo\u001B[0m \u001B[33mmsg\u001B[0m=\u001B[32m\"starting\u001B[0m\u001B[32m web\u001B[0m \u001B]8;id=92880;file:///Users/jeffrey/PycharmProjects/fast-campus/venv/lib/python3.10/site-packages/pyngrok/process.py\u001B\\\u001B[2mprocess.py\u001B[0m\u001B]8;;\u001B\\\u001B[2m:\u001B[0m\u001B]8;id=607464;file:///Users/jeffrey/PycharmProjects/fast-campus/venv/lib/python3.10/site-packages/pyngrok/process.py#99\u001B\\\u001B[2m99\u001B[0m\u001B]8;;\u001B\\\n",
       "\u001B[2;36m                    \u001B[0m         \u001B[32mservice\"\u001B[0m \u001B[33mobj\u001B[0m=\u001B[35mweb\u001B[0m \u001B[33maddr\u001B[0m=\u001B[1;92m127\u001B[0m\u001B[1;92m.0.0.1\u001B[0m:\u001B[1;36m4040\u001B[0m \u001B[33mallow_hosts\u001B[0m=\u001B[1m[\u001B[0m\u001B[1m]\u001B[0m                      \u001B[2m             \u001B[0m\n"
      ],
      "text/html": [
       "<pre style=\"white-space:pre;overflow-x:auto;line-height:normal;font-family:Menlo,'DejaVu Sans Mono',consolas,'Courier New',monospace\"><span style=\"color: #7fbfbf; text-decoration-color: #7fbfbf\">                    </span><span style=\"color: #000080; text-decoration-color: #000080\">INFO    </span> <span style=\"font-weight: bold\">[</span>process.py:<span style=\"color: #008080; text-decoration-color: #008080; font-weight: bold\">99</span><span style=\"font-weight: bold\">]</span> &gt;&gt; <span style=\"color: #808000; text-decoration-color: #808000\">t</span>=<span style=\"color: #008080; text-decoration-color: #008080; font-weight: bold\">2025</span>-<span style=\"color: #008080; text-decoration-color: #008080; font-weight: bold\">01</span>-31T<span style=\"color: #00ff00; text-decoration-color: #00ff00; font-weight: bold\">17:32:15</span>+<span style=\"color: #008080; text-decoration-color: #008080; font-weight: bold\">0900</span> <span style=\"color: #808000; text-decoration-color: #808000\">lvl</span>=<span style=\"color: #800080; text-decoration-color: #800080\">info</span> <span style=\"color: #808000; text-decoration-color: #808000\">msg</span>=<span style=\"color: #008000; text-decoration-color: #008000\">\"starting web</span> <a href=\"file:///Users/jeffrey/PycharmProjects/fast-campus/venv/lib/python3.10/site-packages/pyngrok/process.py\" target=\"_blank\"><span style=\"color: #7f7f7f; text-decoration-color: #7f7f7f\">process.py</span></a><span style=\"color: #7f7f7f; text-decoration-color: #7f7f7f\">:</span><a href=\"file:///Users/jeffrey/PycharmProjects/fast-campus/venv/lib/python3.10/site-packages/pyngrok/process.py#99\" target=\"_blank\"><span style=\"color: #7f7f7f; text-decoration-color: #7f7f7f\">99</span></a>\n",
       "<span style=\"color: #7fbfbf; text-decoration-color: #7fbfbf\">                    </span>         <span style=\"color: #008000; text-decoration-color: #008000\">service\"</span> <span style=\"color: #808000; text-decoration-color: #808000\">obj</span>=<span style=\"color: #800080; text-decoration-color: #800080\">web</span> <span style=\"color: #808000; text-decoration-color: #808000\">addr</span>=<span style=\"color: #00ff00; text-decoration-color: #00ff00; font-weight: bold\">127</span><span style=\"color: #00ff00; text-decoration-color: #00ff00; font-weight: bold\">.0.0.1</span>:<span style=\"color: #008080; text-decoration-color: #008080; font-weight: bold\">4040</span> <span style=\"color: #808000; text-decoration-color: #808000\">allow_hosts</span>=<span style=\"font-weight: bold\">[]</span>                      <span style=\"color: #7f7f7f; text-decoration-color: #7f7f7f\">             </span>\n",
       "</pre>\n"
      ]
     },
     "metadata": {},
     "output_type": "display_data"
    },
    {
     "data": {
      "text/plain": [
       "\u001B[2;36m                   \u001B[0m\u001B[2;36m \u001B[0m\u001B[34mINFO    \u001B[0m \u001B[1m[\u001B[0mprocess.py:\u001B[1;36m99\u001B[0m\u001B[1m]\u001B[0m >> \u001B[33mt\u001B[0m=\u001B[1;36m2025\u001B[0m-\u001B[1;36m01\u001B[0m-31T\u001B[1;92m17:32:15\u001B[0m+\u001B[1;36m0900\u001B[0m \u001B[33mlvl\u001B[0m=\u001B[35minfo\u001B[0m \u001B[33mmsg\u001B[0m=\u001B[32m\"client\u001B[0m\u001B[32m \u001B[0m      \u001B]8;id=457892;file:///Users/jeffrey/PycharmProjects/fast-campus/venv/lib/python3.10/site-packages/pyngrok/process.py\u001B\\\u001B[2mprocess.py\u001B[0m\u001B]8;;\u001B\\\u001B[2m:\u001B[0m\u001B]8;id=542487;file:///Users/jeffrey/PycharmProjects/fast-campus/venv/lib/python3.10/site-packages/pyngrok/process.py#99\u001B\\\u001B[2m99\u001B[0m\u001B]8;;\u001B\\\n",
       "\u001B[2;36m                    \u001B[0m         \u001B[32msession established\"\u001B[0m \u001B[33mobj\u001B[0m=\u001B[35mtunnels\u001B[0m.session                                 \u001B[2m             \u001B[0m\n"
      ],
      "text/html": [
       "<pre style=\"white-space:pre;overflow-x:auto;line-height:normal;font-family:Menlo,'DejaVu Sans Mono',consolas,'Courier New',monospace\"><span style=\"color: #7fbfbf; text-decoration-color: #7fbfbf\">                    </span><span style=\"color: #000080; text-decoration-color: #000080\">INFO    </span> <span style=\"font-weight: bold\">[</span>process.py:<span style=\"color: #008080; text-decoration-color: #008080; font-weight: bold\">99</span><span style=\"font-weight: bold\">]</span> &gt;&gt; <span style=\"color: #808000; text-decoration-color: #808000\">t</span>=<span style=\"color: #008080; text-decoration-color: #008080; font-weight: bold\">2025</span>-<span style=\"color: #008080; text-decoration-color: #008080; font-weight: bold\">01</span>-31T<span style=\"color: #00ff00; text-decoration-color: #00ff00; font-weight: bold\">17:32:15</span>+<span style=\"color: #008080; text-decoration-color: #008080; font-weight: bold\">0900</span> <span style=\"color: #808000; text-decoration-color: #808000\">lvl</span>=<span style=\"color: #800080; text-decoration-color: #800080\">info</span> <span style=\"color: #808000; text-decoration-color: #808000\">msg</span>=<span style=\"color: #008000; text-decoration-color: #008000\">\"client </span>      <a href=\"file:///Users/jeffrey/PycharmProjects/fast-campus/venv/lib/python3.10/site-packages/pyngrok/process.py\" target=\"_blank\"><span style=\"color: #7f7f7f; text-decoration-color: #7f7f7f\">process.py</span></a><span style=\"color: #7f7f7f; text-decoration-color: #7f7f7f\">:</span><a href=\"file:///Users/jeffrey/PycharmProjects/fast-campus/venv/lib/python3.10/site-packages/pyngrok/process.py#99\" target=\"_blank\"><span style=\"color: #7f7f7f; text-decoration-color: #7f7f7f\">99</span></a>\n",
       "<span style=\"color: #7fbfbf; text-decoration-color: #7fbfbf\">                    </span>         <span style=\"color: #008000; text-decoration-color: #008000\">session established\"</span> <span style=\"color: #808000; text-decoration-color: #808000\">obj</span>=<span style=\"color: #800080; text-decoration-color: #800080\">tunnels</span>.session                                 <span style=\"color: #7f7f7f; text-decoration-color: #7f7f7f\">             </span>\n",
       "</pre>\n"
      ]
     },
     "metadata": {},
     "output_type": "display_data"
    },
    {
     "data": {
      "text/plain": [
       "\u001B[2;36m                   \u001B[0m\u001B[2;36m \u001B[0m\u001B[34mINFO    \u001B[0m \u001B[1m[\u001B[0mprocess.py:\u001B[1;36m99\u001B[0m\u001B[1m]\u001B[0m >> \u001B[33mt\u001B[0m=\u001B[1;36m2025\u001B[0m-\u001B[1;36m01\u001B[0m-31T\u001B[1;92m17:32:15\u001B[0m+\u001B[1;36m0900\u001B[0m \u001B[33mlvl\u001B[0m=\u001B[35minfo\u001B[0m \u001B[33mmsg\u001B[0m=\u001B[32m\"tunnel\u001B[0m\u001B[32m \u001B[0m      \u001B]8;id=106696;file:///Users/jeffrey/PycharmProjects/fast-campus/venv/lib/python3.10/site-packages/pyngrok/process.py\u001B\\\u001B[2mprocess.py\u001B[0m\u001B]8;;\u001B\\\u001B[2m:\u001B[0m\u001B]8;id=424441;file:///Users/jeffrey/PycharmProjects/fast-campus/venv/lib/python3.10/site-packages/pyngrok/process.py#99\u001B\\\u001B[2m99\u001B[0m\u001B]8;;\u001B\\\n",
       "\u001B[2;36m                    \u001B[0m         \u001B[32msession started\"\u001B[0m \u001B[33mobj\u001B[0m=\u001B[35mtunnels\u001B[0m.session                                     \u001B[2m             \u001B[0m\n"
      ],
      "text/html": [
       "<pre style=\"white-space:pre;overflow-x:auto;line-height:normal;font-family:Menlo,'DejaVu Sans Mono',consolas,'Courier New',monospace\"><span style=\"color: #7fbfbf; text-decoration-color: #7fbfbf\">                    </span><span style=\"color: #000080; text-decoration-color: #000080\">INFO    </span> <span style=\"font-weight: bold\">[</span>process.py:<span style=\"color: #008080; text-decoration-color: #008080; font-weight: bold\">99</span><span style=\"font-weight: bold\">]</span> &gt;&gt; <span style=\"color: #808000; text-decoration-color: #808000\">t</span>=<span style=\"color: #008080; text-decoration-color: #008080; font-weight: bold\">2025</span>-<span style=\"color: #008080; text-decoration-color: #008080; font-weight: bold\">01</span>-31T<span style=\"color: #00ff00; text-decoration-color: #00ff00; font-weight: bold\">17:32:15</span>+<span style=\"color: #008080; text-decoration-color: #008080; font-weight: bold\">0900</span> <span style=\"color: #808000; text-decoration-color: #808000\">lvl</span>=<span style=\"color: #800080; text-decoration-color: #800080\">info</span> <span style=\"color: #808000; text-decoration-color: #808000\">msg</span>=<span style=\"color: #008000; text-decoration-color: #008000\">\"tunnel </span>      <a href=\"file:///Users/jeffrey/PycharmProjects/fast-campus/venv/lib/python3.10/site-packages/pyngrok/process.py\" target=\"_blank\"><span style=\"color: #7f7f7f; text-decoration-color: #7f7f7f\">process.py</span></a><span style=\"color: #7f7f7f; text-decoration-color: #7f7f7f\">:</span><a href=\"file:///Users/jeffrey/PycharmProjects/fast-campus/venv/lib/python3.10/site-packages/pyngrok/process.py#99\" target=\"_blank\"><span style=\"color: #7f7f7f; text-decoration-color: #7f7f7f\">99</span></a>\n",
       "<span style=\"color: #7fbfbf; text-decoration-color: #7fbfbf\">                    </span>         <span style=\"color: #008000; text-decoration-color: #008000\">session started\"</span> <span style=\"color: #808000; text-decoration-color: #808000\">obj</span>=<span style=\"color: #800080; text-decoration-color: #800080\">tunnels</span>.session                                     <span style=\"color: #7f7f7f; text-decoration-color: #7f7f7f\">             </span>\n",
       "</pre>\n"
      ]
     },
     "metadata": {},
     "output_type": "display_data"
    },
    {
     "data": {
      "text/plain": [
       "\u001B[2;36m                   \u001B[0m\u001B[2;36m \u001B[0m\u001B[34mINFO    \u001B[0m \u001B[1m[\u001B[0mprocess.py:\u001B[1;36m99\u001B[0m\u001B[1m]\u001B[0m >> \u001B[33mt\u001B[0m=\u001B[1;36m2025\u001B[0m-\u001B[1;36m01\u001B[0m-31T\u001B[1;92m17:32:15\u001B[0m+\u001B[1;36m0900\u001B[0m \u001B[33mlvl\u001B[0m=\u001B[35minfo\u001B[0m \u001B[33mmsg\u001B[0m=\u001B[35mstart\u001B[0m         \u001B]8;id=65171;file:///Users/jeffrey/PycharmProjects/fast-campus/venv/lib/python3.10/site-packages/pyngrok/process.py\u001B\\\u001B[2mprocess.py\u001B[0m\u001B]8;;\u001B\\\u001B[2m:\u001B[0m\u001B]8;id=33785;file:///Users/jeffrey/PycharmProjects/fast-campus/venv/lib/python3.10/site-packages/pyngrok/process.py#99\u001B\\\u001B[2m99\u001B[0m\u001B]8;;\u001B\\\n",
       "\u001B[2;36m                    \u001B[0m         \u001B[33mpg\u001B[0m=\u001B[35m/api/\u001B[0m\u001B[95mtunnels\u001B[0m \u001B[33mid\u001B[0m=\u001B[35md4fb2f08d6ea0998\u001B[0m                                      \u001B[2m             \u001B[0m\n"
      ],
      "text/html": [
       "<pre style=\"white-space:pre;overflow-x:auto;line-height:normal;font-family:Menlo,'DejaVu Sans Mono',consolas,'Courier New',monospace\"><span style=\"color: #7fbfbf; text-decoration-color: #7fbfbf\">                    </span><span style=\"color: #000080; text-decoration-color: #000080\">INFO    </span> <span style=\"font-weight: bold\">[</span>process.py:<span style=\"color: #008080; text-decoration-color: #008080; font-weight: bold\">99</span><span style=\"font-weight: bold\">]</span> &gt;&gt; <span style=\"color: #808000; text-decoration-color: #808000\">t</span>=<span style=\"color: #008080; text-decoration-color: #008080; font-weight: bold\">2025</span>-<span style=\"color: #008080; text-decoration-color: #008080; font-weight: bold\">01</span>-31T<span style=\"color: #00ff00; text-decoration-color: #00ff00; font-weight: bold\">17:32:15</span>+<span style=\"color: #008080; text-decoration-color: #008080; font-weight: bold\">0900</span> <span style=\"color: #808000; text-decoration-color: #808000\">lvl</span>=<span style=\"color: #800080; text-decoration-color: #800080\">info</span> <span style=\"color: #808000; text-decoration-color: #808000\">msg</span>=<span style=\"color: #800080; text-decoration-color: #800080\">start</span>         <a href=\"file:///Users/jeffrey/PycharmProjects/fast-campus/venv/lib/python3.10/site-packages/pyngrok/process.py\" target=\"_blank\"><span style=\"color: #7f7f7f; text-decoration-color: #7f7f7f\">process.py</span></a><span style=\"color: #7f7f7f; text-decoration-color: #7f7f7f\">:</span><a href=\"file:///Users/jeffrey/PycharmProjects/fast-campus/venv/lib/python3.10/site-packages/pyngrok/process.py#99\" target=\"_blank\"><span style=\"color: #7f7f7f; text-decoration-color: #7f7f7f\">99</span></a>\n",
       "<span style=\"color: #7fbfbf; text-decoration-color: #7fbfbf\">                    </span>         <span style=\"color: #808000; text-decoration-color: #808000\">pg</span>=<span style=\"color: #800080; text-decoration-color: #800080\">/api/</span><span style=\"color: #ff00ff; text-decoration-color: #ff00ff\">tunnels</span> <span style=\"color: #808000; text-decoration-color: #808000\">id</span>=<span style=\"color: #800080; text-decoration-color: #800080\">d4fb2f08d6ea0998</span>                                      <span style=\"color: #7f7f7f; text-decoration-color: #7f7f7f\">             </span>\n",
       "</pre>\n"
      ]
     },
     "metadata": {},
     "output_type": "display_data"
    },
    {
     "data": {
      "text/plain": [
       "\u001B[2;36m                   \u001B[0m\u001B[2;36m \u001B[0m\u001B[34mINFO    \u001B[0m \u001B[1m[\u001B[0mprocess.py:\u001B[1;36m99\u001B[0m\u001B[1m]\u001B[0m >> \u001B[33mt\u001B[0m=\u001B[1;36m2025\u001B[0m-\u001B[1;36m01\u001B[0m-31T\u001B[1;92m17:32:15\u001B[0m+\u001B[1;36m0900\u001B[0m \u001B[33mlvl\u001B[0m=\u001B[35minfo\u001B[0m \u001B[33mmsg\u001B[0m=\u001B[35mend\u001B[0m           \u001B]8;id=528332;file:///Users/jeffrey/PycharmProjects/fast-campus/venv/lib/python3.10/site-packages/pyngrok/process.py\u001B\\\u001B[2mprocess.py\u001B[0m\u001B]8;;\u001B\\\u001B[2m:\u001B[0m\u001B]8;id=913060;file:///Users/jeffrey/PycharmProjects/fast-campus/venv/lib/python3.10/site-packages/pyngrok/process.py#99\u001B\\\u001B[2m99\u001B[0m\u001B]8;;\u001B\\\n",
       "\u001B[2;36m                    \u001B[0m         \u001B[33mpg\u001B[0m=\u001B[35m/api/\u001B[0m\u001B[95mtunnels\u001B[0m \u001B[33mid\u001B[0m=\u001B[35md4fb2f08d6ea0998\u001B[0m \u001B[33mstatus\u001B[0m=\u001B[1;36m200\u001B[0m \u001B[33mdur\u001B[0m=\u001B[1;36m107\u001B[0m\u001B[1;36m.\u001B[0m791µs             \u001B[2m             \u001B[0m\n"
      ],
      "text/html": [
       "<pre style=\"white-space:pre;overflow-x:auto;line-height:normal;font-family:Menlo,'DejaVu Sans Mono',consolas,'Courier New',monospace\"><span style=\"color: #7fbfbf; text-decoration-color: #7fbfbf\">                    </span><span style=\"color: #000080; text-decoration-color: #000080\">INFO    </span> <span style=\"font-weight: bold\">[</span>process.py:<span style=\"color: #008080; text-decoration-color: #008080; font-weight: bold\">99</span><span style=\"font-weight: bold\">]</span> &gt;&gt; <span style=\"color: #808000; text-decoration-color: #808000\">t</span>=<span style=\"color: #008080; text-decoration-color: #008080; font-weight: bold\">2025</span>-<span style=\"color: #008080; text-decoration-color: #008080; font-weight: bold\">01</span>-31T<span style=\"color: #00ff00; text-decoration-color: #00ff00; font-weight: bold\">17:32:15</span>+<span style=\"color: #008080; text-decoration-color: #008080; font-weight: bold\">0900</span> <span style=\"color: #808000; text-decoration-color: #808000\">lvl</span>=<span style=\"color: #800080; text-decoration-color: #800080\">info</span> <span style=\"color: #808000; text-decoration-color: #808000\">msg</span>=<span style=\"color: #800080; text-decoration-color: #800080\">end</span>           <a href=\"file:///Users/jeffrey/PycharmProjects/fast-campus/venv/lib/python3.10/site-packages/pyngrok/process.py\" target=\"_blank\"><span style=\"color: #7f7f7f; text-decoration-color: #7f7f7f\">process.py</span></a><span style=\"color: #7f7f7f; text-decoration-color: #7f7f7f\">:</span><a href=\"file:///Users/jeffrey/PycharmProjects/fast-campus/venv/lib/python3.10/site-packages/pyngrok/process.py#99\" target=\"_blank\"><span style=\"color: #7f7f7f; text-decoration-color: #7f7f7f\">99</span></a>\n",
       "<span style=\"color: #7fbfbf; text-decoration-color: #7fbfbf\">                    </span>         <span style=\"color: #808000; text-decoration-color: #808000\">pg</span>=<span style=\"color: #800080; text-decoration-color: #800080\">/api/</span><span style=\"color: #ff00ff; text-decoration-color: #ff00ff\">tunnels</span> <span style=\"color: #808000; text-decoration-color: #808000\">id</span>=<span style=\"color: #800080; text-decoration-color: #800080\">d4fb2f08d6ea0998</span> <span style=\"color: #808000; text-decoration-color: #808000\">status</span>=<span style=\"color: #008080; text-decoration-color: #008080; font-weight: bold\">200</span> <span style=\"color: #808000; text-decoration-color: #808000\">dur</span>=<span style=\"color: #008080; text-decoration-color: #008080; font-weight: bold\">107.</span>791µs             <span style=\"color: #7f7f7f; text-decoration-color: #7f7f7f\">             </span>\n",
       "</pre>\n"
      ]
     },
     "metadata": {},
     "output_type": "display_data"
    },
    {
     "data": {
      "text/plain": [
       "\u001B[2;36m                   \u001B[0m\u001B[2;36m \u001B[0m\u001B[34mINFO    \u001B[0m \u001B[1m[\u001B[0mprocess.py:\u001B[1;36m99\u001B[0m\u001B[1m]\u001B[0m >> \u001B[33mt\u001B[0m=\u001B[1;36m2025\u001B[0m-\u001B[1;36m01\u001B[0m-31T\u001B[1;92m17:32:15\u001B[0m+\u001B[1;36m0900\u001B[0m \u001B[33mlvl\u001B[0m=\u001B[35minfo\u001B[0m \u001B[33mmsg\u001B[0m=\u001B[35mstart\u001B[0m         \u001B]8;id=420386;file:///Users/jeffrey/PycharmProjects/fast-campus/venv/lib/python3.10/site-packages/pyngrok/process.py\u001B\\\u001B[2mprocess.py\u001B[0m\u001B]8;;\u001B\\\u001B[2m:\u001B[0m\u001B]8;id=43835;file:///Users/jeffrey/PycharmProjects/fast-campus/venv/lib/python3.10/site-packages/pyngrok/process.py#99\u001B\\\u001B[2m99\u001B[0m\u001B]8;;\u001B\\\n",
       "\u001B[2;36m                    \u001B[0m         \u001B[33mpg\u001B[0m=\u001B[35m/api/\u001B[0m\u001B[95mtunnels\u001B[0m \u001B[33mid\u001B[0m=\u001B[35m3f9f7008b17a1abe\u001B[0m                                      \u001B[2m             \u001B[0m\n"
      ],
      "text/html": [
       "<pre style=\"white-space:pre;overflow-x:auto;line-height:normal;font-family:Menlo,'DejaVu Sans Mono',consolas,'Courier New',monospace\"><span style=\"color: #7fbfbf; text-decoration-color: #7fbfbf\">                    </span><span style=\"color: #000080; text-decoration-color: #000080\">INFO    </span> <span style=\"font-weight: bold\">[</span>process.py:<span style=\"color: #008080; text-decoration-color: #008080; font-weight: bold\">99</span><span style=\"font-weight: bold\">]</span> &gt;&gt; <span style=\"color: #808000; text-decoration-color: #808000\">t</span>=<span style=\"color: #008080; text-decoration-color: #008080; font-weight: bold\">2025</span>-<span style=\"color: #008080; text-decoration-color: #008080; font-weight: bold\">01</span>-31T<span style=\"color: #00ff00; text-decoration-color: #00ff00; font-weight: bold\">17:32:15</span>+<span style=\"color: #008080; text-decoration-color: #008080; font-weight: bold\">0900</span> <span style=\"color: #808000; text-decoration-color: #808000\">lvl</span>=<span style=\"color: #800080; text-decoration-color: #800080\">info</span> <span style=\"color: #808000; text-decoration-color: #808000\">msg</span>=<span style=\"color: #800080; text-decoration-color: #800080\">start</span>         <a href=\"file:///Users/jeffrey/PycharmProjects/fast-campus/venv/lib/python3.10/site-packages/pyngrok/process.py\" target=\"_blank\"><span style=\"color: #7f7f7f; text-decoration-color: #7f7f7f\">process.py</span></a><span style=\"color: #7f7f7f; text-decoration-color: #7f7f7f\">:</span><a href=\"file:///Users/jeffrey/PycharmProjects/fast-campus/venv/lib/python3.10/site-packages/pyngrok/process.py#99\" target=\"_blank\"><span style=\"color: #7f7f7f; text-decoration-color: #7f7f7f\">99</span></a>\n",
       "<span style=\"color: #7fbfbf; text-decoration-color: #7fbfbf\">                    </span>         <span style=\"color: #808000; text-decoration-color: #808000\">pg</span>=<span style=\"color: #800080; text-decoration-color: #800080\">/api/</span><span style=\"color: #ff00ff; text-decoration-color: #ff00ff\">tunnels</span> <span style=\"color: #808000; text-decoration-color: #808000\">id</span>=<span style=\"color: #800080; text-decoration-color: #800080\">3f9f7008b17a1abe</span>                                      <span style=\"color: #7f7f7f; text-decoration-color: #7f7f7f\">             </span>\n",
       "</pre>\n"
      ]
     },
     "metadata": {},
     "output_type": "display_data"
    },
    {
     "data": {
      "text/plain": [
       "\u001B[2;36m                   \u001B[0m\u001B[2;36m \u001B[0m\u001B[34mINFO    \u001B[0m \u001B[1m[\u001B[0mprocess.py:\u001B[1;36m99\u001B[0m\u001B[1m]\u001B[0m >> \u001B[33mt\u001B[0m=\u001B[1;36m2025\u001B[0m-\u001B[1;36m01\u001B[0m-31T\u001B[1;92m17:32:15\u001B[0m+\u001B[1;36m0900\u001B[0m \u001B[33mlvl\u001B[0m=\u001B[35minfo\u001B[0m \u001B[33mmsg\u001B[0m=\u001B[35mend\u001B[0m           \u001B]8;id=885324;file:///Users/jeffrey/PycharmProjects/fast-campus/venv/lib/python3.10/site-packages/pyngrok/process.py\u001B\\\u001B[2mprocess.py\u001B[0m\u001B]8;;\u001B\\\u001B[2m:\u001B[0m\u001B]8;id=730930;file:///Users/jeffrey/PycharmProjects/fast-campus/venv/lib/python3.10/site-packages/pyngrok/process.py#99\u001B\\\u001B[2m99\u001B[0m\u001B]8;;\u001B\\\n",
       "\u001B[2;36m                    \u001B[0m         \u001B[33mpg\u001B[0m=\u001B[35m/api/\u001B[0m\u001B[95mtunnels\u001B[0m \u001B[33mid\u001B[0m=\u001B[35m3f9f7008b17a1abe\u001B[0m \u001B[33mstatus\u001B[0m=\u001B[1;36m200\u001B[0m \u001B[33mdur\u001B[0m=\u001B[1;36m30\u001B[0m\u001B[1;36m.\u001B[0m917µs              \u001B[2m             \u001B[0m\n"
      ],
      "text/html": [
       "<pre style=\"white-space:pre;overflow-x:auto;line-height:normal;font-family:Menlo,'DejaVu Sans Mono',consolas,'Courier New',monospace\"><span style=\"color: #7fbfbf; text-decoration-color: #7fbfbf\">                    </span><span style=\"color: #000080; text-decoration-color: #000080\">INFO    </span> <span style=\"font-weight: bold\">[</span>process.py:<span style=\"color: #008080; text-decoration-color: #008080; font-weight: bold\">99</span><span style=\"font-weight: bold\">]</span> &gt;&gt; <span style=\"color: #808000; text-decoration-color: #808000\">t</span>=<span style=\"color: #008080; text-decoration-color: #008080; font-weight: bold\">2025</span>-<span style=\"color: #008080; text-decoration-color: #008080; font-weight: bold\">01</span>-31T<span style=\"color: #00ff00; text-decoration-color: #00ff00; font-weight: bold\">17:32:15</span>+<span style=\"color: #008080; text-decoration-color: #008080; font-weight: bold\">0900</span> <span style=\"color: #808000; text-decoration-color: #808000\">lvl</span>=<span style=\"color: #800080; text-decoration-color: #800080\">info</span> <span style=\"color: #808000; text-decoration-color: #808000\">msg</span>=<span style=\"color: #800080; text-decoration-color: #800080\">end</span>           <a href=\"file:///Users/jeffrey/PycharmProjects/fast-campus/venv/lib/python3.10/site-packages/pyngrok/process.py\" target=\"_blank\"><span style=\"color: #7f7f7f; text-decoration-color: #7f7f7f\">process.py</span></a><span style=\"color: #7f7f7f; text-decoration-color: #7f7f7f\">:</span><a href=\"file:///Users/jeffrey/PycharmProjects/fast-campus/venv/lib/python3.10/site-packages/pyngrok/process.py#99\" target=\"_blank\"><span style=\"color: #7f7f7f; text-decoration-color: #7f7f7f\">99</span></a>\n",
       "<span style=\"color: #7fbfbf; text-decoration-color: #7fbfbf\">                    </span>         <span style=\"color: #808000; text-decoration-color: #808000\">pg</span>=<span style=\"color: #800080; text-decoration-color: #800080\">/api/</span><span style=\"color: #ff00ff; text-decoration-color: #ff00ff\">tunnels</span> <span style=\"color: #808000; text-decoration-color: #808000\">id</span>=<span style=\"color: #800080; text-decoration-color: #800080\">3f9f7008b17a1abe</span> <span style=\"color: #808000; text-decoration-color: #808000\">status</span>=<span style=\"color: #008080; text-decoration-color: #008080; font-weight: bold\">200</span> <span style=\"color: #808000; text-decoration-color: #808000\">dur</span>=<span style=\"color: #008080; text-decoration-color: #008080; font-weight: bold\">30.</span>917µs              <span style=\"color: #7f7f7f; text-decoration-color: #7f7f7f\">             </span>\n",
       "</pre>\n"
      ]
     },
     "metadata": {},
     "output_type": "display_data"
    },
    {
     "data": {
      "text/plain": [
       "\u001B[2;36m                   \u001B[0m\u001B[2;36m \u001B[0m\u001B[34mINFO    \u001B[0m \u001B[1m[\u001B[0mprocess.py:\u001B[1;36m99\u001B[0m\u001B[1m]\u001B[0m >> \u001B[33mt\u001B[0m=\u001B[1;36m2025\u001B[0m-\u001B[1;36m01\u001B[0m-31T\u001B[1;92m17:32:15\u001B[0m+\u001B[1;36m0900\u001B[0m \u001B[33mlvl\u001B[0m=\u001B[35minfo\u001B[0m \u001B[33mmsg\u001B[0m=\u001B[35mstart\u001B[0m         \u001B]8;id=848186;file:///Users/jeffrey/PycharmProjects/fast-campus/venv/lib/python3.10/site-packages/pyngrok/process.py\u001B\\\u001B[2mprocess.py\u001B[0m\u001B]8;;\u001B\\\u001B[2m:\u001B[0m\u001B]8;id=350681;file:///Users/jeffrey/PycharmProjects/fast-campus/venv/lib/python3.10/site-packages/pyngrok/process.py#99\u001B\\\u001B[2m99\u001B[0m\u001B]8;;\u001B\\\n",
       "\u001B[2;36m                    \u001B[0m         \u001B[33mpg\u001B[0m=\u001B[35m/api/\u001B[0m\u001B[95mtunnels\u001B[0m \u001B[33mid\u001B[0m=\u001B[35m77b1a82553d64e7f\u001B[0m                                      \u001B[2m             \u001B[0m\n"
      ],
      "text/html": [
       "<pre style=\"white-space:pre;overflow-x:auto;line-height:normal;font-family:Menlo,'DejaVu Sans Mono',consolas,'Courier New',monospace\"><span style=\"color: #7fbfbf; text-decoration-color: #7fbfbf\">                    </span><span style=\"color: #000080; text-decoration-color: #000080\">INFO    </span> <span style=\"font-weight: bold\">[</span>process.py:<span style=\"color: #008080; text-decoration-color: #008080; font-weight: bold\">99</span><span style=\"font-weight: bold\">]</span> &gt;&gt; <span style=\"color: #808000; text-decoration-color: #808000\">t</span>=<span style=\"color: #008080; text-decoration-color: #008080; font-weight: bold\">2025</span>-<span style=\"color: #008080; text-decoration-color: #008080; font-weight: bold\">01</span>-31T<span style=\"color: #00ff00; text-decoration-color: #00ff00; font-weight: bold\">17:32:15</span>+<span style=\"color: #008080; text-decoration-color: #008080; font-weight: bold\">0900</span> <span style=\"color: #808000; text-decoration-color: #808000\">lvl</span>=<span style=\"color: #800080; text-decoration-color: #800080\">info</span> <span style=\"color: #808000; text-decoration-color: #808000\">msg</span>=<span style=\"color: #800080; text-decoration-color: #800080\">start</span>         <a href=\"file:///Users/jeffrey/PycharmProjects/fast-campus/venv/lib/python3.10/site-packages/pyngrok/process.py\" target=\"_blank\"><span style=\"color: #7f7f7f; text-decoration-color: #7f7f7f\">process.py</span></a><span style=\"color: #7f7f7f; text-decoration-color: #7f7f7f\">:</span><a href=\"file:///Users/jeffrey/PycharmProjects/fast-campus/venv/lib/python3.10/site-packages/pyngrok/process.py#99\" target=\"_blank\"><span style=\"color: #7f7f7f; text-decoration-color: #7f7f7f\">99</span></a>\n",
       "<span style=\"color: #7fbfbf; text-decoration-color: #7fbfbf\">                    </span>         <span style=\"color: #808000; text-decoration-color: #808000\">pg</span>=<span style=\"color: #800080; text-decoration-color: #800080\">/api/</span><span style=\"color: #ff00ff; text-decoration-color: #ff00ff\">tunnels</span> <span style=\"color: #808000; text-decoration-color: #808000\">id</span>=<span style=\"color: #800080; text-decoration-color: #800080\">77b1a82553d64e7f</span>                                      <span style=\"color: #7f7f7f; text-decoration-color: #7f7f7f\">             </span>\n",
       "</pre>\n"
      ]
     },
     "metadata": {},
     "output_type": "display_data"
    },
    {
     "data": {
      "text/plain": [
       "\u001B[2;36m                   \u001B[0m\u001B[2;36m \u001B[0m\u001B[34mINFO    \u001B[0m \u001B[1m[\u001B[0mprocess.py:\u001B[1;36m99\u001B[0m\u001B[1m]\u001B[0m >> \u001B[33mt\u001B[0m=\u001B[1;36m2025\u001B[0m-\u001B[1;36m01\u001B[0m-31T\u001B[1;92m17:32:15\u001B[0m+\u001B[1;36m0900\u001B[0m \u001B[33mlvl\u001B[0m=\u001B[35minfo\u001B[0m \u001B[33mmsg\u001B[0m=\u001B[32m\"started\u001B[0m\u001B[32m \u001B[0m     \u001B]8;id=741513;file:///Users/jeffrey/PycharmProjects/fast-campus/venv/lib/python3.10/site-packages/pyngrok/process.py\u001B\\\u001B[2mprocess.py\u001B[0m\u001B]8;;\u001B\\\u001B[2m:\u001B[0m\u001B]8;id=713413;file:///Users/jeffrey/PycharmProjects/fast-campus/venv/lib/python3.10/site-packages/pyngrok/process.py#99\u001B\\\u001B[2m99\u001B[0m\u001B]8;;\u001B\\\n",
       "\u001B[2;36m                    \u001B[0m         \u001B[32mtunnel\"\u001B[0m \u001B[33mobj\u001B[0m=\u001B[35mtunnels\u001B[0m \u001B[33mname\u001B[0m=\u001B[35mhttp\u001B[0m-\u001B[1;36m8000\u001B[0m-\u001B[93mc50f113e-21ee-4b4b-87c0-4e0bbfc47200\u001B[0m  \u001B[2m             \u001B[0m\n",
       "\u001B[2;36m                    \u001B[0m         \u001B[33maddr\u001B[0m=\u001B[4;94mhttp\u001B[0m\u001B[4;94m://localhost:8000\u001B[0m \u001B[33murl\u001B[0m=\u001B[4;94mhttps\u001B[0m\u001B[4;94m://0d6c-112-144-35-72.ngrok-free.app\u001B[0m \u001B[2m             \u001B[0m\n"
      ],
      "text/html": [
       "<pre style=\"white-space:pre;overflow-x:auto;line-height:normal;font-family:Menlo,'DejaVu Sans Mono',consolas,'Courier New',monospace\"><span style=\"color: #7fbfbf; text-decoration-color: #7fbfbf\">                    </span><span style=\"color: #000080; text-decoration-color: #000080\">INFO    </span> <span style=\"font-weight: bold\">[</span>process.py:<span style=\"color: #008080; text-decoration-color: #008080; font-weight: bold\">99</span><span style=\"font-weight: bold\">]</span> &gt;&gt; <span style=\"color: #808000; text-decoration-color: #808000\">t</span>=<span style=\"color: #008080; text-decoration-color: #008080; font-weight: bold\">2025</span>-<span style=\"color: #008080; text-decoration-color: #008080; font-weight: bold\">01</span>-31T<span style=\"color: #00ff00; text-decoration-color: #00ff00; font-weight: bold\">17:32:15</span>+<span style=\"color: #008080; text-decoration-color: #008080; font-weight: bold\">0900</span> <span style=\"color: #808000; text-decoration-color: #808000\">lvl</span>=<span style=\"color: #800080; text-decoration-color: #800080\">info</span> <span style=\"color: #808000; text-decoration-color: #808000\">msg</span>=<span style=\"color: #008000; text-decoration-color: #008000\">\"started </span>     <a href=\"file:///Users/jeffrey/PycharmProjects/fast-campus/venv/lib/python3.10/site-packages/pyngrok/process.py\" target=\"_blank\"><span style=\"color: #7f7f7f; text-decoration-color: #7f7f7f\">process.py</span></a><span style=\"color: #7f7f7f; text-decoration-color: #7f7f7f\">:</span><a href=\"file:///Users/jeffrey/PycharmProjects/fast-campus/venv/lib/python3.10/site-packages/pyngrok/process.py#99\" target=\"_blank\"><span style=\"color: #7f7f7f; text-decoration-color: #7f7f7f\">99</span></a>\n",
       "<span style=\"color: #7fbfbf; text-decoration-color: #7fbfbf\">                    </span>         <span style=\"color: #008000; text-decoration-color: #008000\">tunnel\"</span> <span style=\"color: #808000; text-decoration-color: #808000\">obj</span>=<span style=\"color: #800080; text-decoration-color: #800080\">tunnels</span> <span style=\"color: #808000; text-decoration-color: #808000\">name</span>=<span style=\"color: #800080; text-decoration-color: #800080\">http</span>-<span style=\"color: #008080; text-decoration-color: #008080; font-weight: bold\">8000</span>-<span style=\"color: #ffff00; text-decoration-color: #ffff00\">c50f113e-21ee-4b4b-87c0-4e0bbfc47200</span>  <span style=\"color: #7f7f7f; text-decoration-color: #7f7f7f\">             </span>\n",
       "<span style=\"color: #7fbfbf; text-decoration-color: #7fbfbf\">                    </span>         <span style=\"color: #808000; text-decoration-color: #808000\">addr</span>=<span style=\"color: #0000ff; text-decoration-color: #0000ff; text-decoration: underline\">http://localhost:8000</span> <span style=\"color: #808000; text-decoration-color: #808000\">url</span>=<span style=\"color: #0000ff; text-decoration-color: #0000ff; text-decoration: underline\">https://0d6c-112-144-35-72.ngrok-free.app</span> <span style=\"color: #7f7f7f; text-decoration-color: #7f7f7f\">             </span>\n",
       "</pre>\n"
      ]
     },
     "metadata": {},
     "output_type": "display_data"
    },
    {
     "data": {
      "text/plain": [
       "\u001B[2;36m                   \u001B[0m\u001B[2;36m \u001B[0m\u001B[34mINFO    \u001B[0m \u001B[1m[\u001B[0mapi.py:\u001B[1;36m261\u001B[0m\u001B[1m]\u001B[0m >> Public API URL: \u001B[4;94mhttps://0d6c-112-144-35-72.ngrok-free.app\u001B[0m   \u001B]8;id=175421;file:///Users/jeffrey/PycharmProjects/fast-campus/venv/lib/python3.10/site-packages/autorag/deploy/api.py\u001B\\\u001B[2mapi.py\u001B[0m\u001B]8;;\u001B\\\u001B[2m:\u001B[0m\u001B]8;id=71151;file:///Users/jeffrey/PycharmProjects/fast-campus/venv/lib/python3.10/site-packages/autorag/deploy/api.py#261\u001B\\\u001B[2m261\u001B[0m\u001B]8;;\u001B\\\n"
      ],
      "text/html": [
       "<pre style=\"white-space:pre;overflow-x:auto;line-height:normal;font-family:Menlo,'DejaVu Sans Mono',consolas,'Courier New',monospace\"><span style=\"color: #7fbfbf; text-decoration-color: #7fbfbf\">                    </span><span style=\"color: #000080; text-decoration-color: #000080\">INFO    </span> <span style=\"font-weight: bold\">[</span>api.py:<span style=\"color: #008080; text-decoration-color: #008080; font-weight: bold\">261</span><span style=\"font-weight: bold\">]</span> &gt;&gt; Public API URL: <span style=\"color: #0000ff; text-decoration-color: #0000ff; text-decoration: underline\">https://0d6c-112-144-35-72.ngrok-free.app</span>   <a href=\"file:///Users/jeffrey/PycharmProjects/fast-campus/venv/lib/python3.10/site-packages/autorag/deploy/api.py\" target=\"_blank\"><span style=\"color: #7f7f7f; text-decoration-color: #7f7f7f\">api.py</span></a><span style=\"color: #7f7f7f; text-decoration-color: #7f7f7f\">:</span><a href=\"file:///Users/jeffrey/PycharmProjects/fast-campus/venv/lib/python3.10/site-packages/autorag/deploy/api.py#261\" target=\"_blank\"><span style=\"color: #7f7f7f; text-decoration-color: #7f7f7f\">261</span></a>\n",
       "</pre>\n"
      ]
     },
     "metadata": {},
     "output_type": "display_data"
    },
    {
     "name": "stdout",
     "output_type": "stream",
     "text": [
      " * Serving Quart app 'autorag.deploy.api'\n",
      " * Debug mode: False\n",
      " * Please use an ASGI server (e.g. Hypercorn) directly in production\n",
      " * Running on http://0.0.0.0:8000 (CTRL + C to quit)\n"
     ]
    },
    {
     "data": {
      "text/plain": [
       "\u001B[2;36m                   \u001B[0m\u001B[2;36m \u001B[0m\u001B[34mINFO    \u001B[0m \u001B[1m[\u001B[0mprocess.py:\u001B[1;36m99\u001B[0m\u001B[1m]\u001B[0m >> \u001B[33mt\u001B[0m=\u001B[1;36m2025\u001B[0m-\u001B[1;36m01\u001B[0m-31T\u001B[1;92m17:32:15\u001B[0m+\u001B[1;36m0900\u001B[0m \u001B[33mlvl\u001B[0m=\u001B[35minfo\u001B[0m \u001B[33mmsg\u001B[0m=\u001B[35mend\u001B[0m           \u001B]8;id=703727;file:///Users/jeffrey/PycharmProjects/fast-campus/venv/lib/python3.10/site-packages/pyngrok/process.py\u001B\\\u001B[2mprocess.py\u001B[0m\u001B]8;;\u001B\\\u001B[2m:\u001B[0m\u001B]8;id=834637;file:///Users/jeffrey/PycharmProjects/fast-campus/venv/lib/python3.10/site-packages/pyngrok/process.py#99\u001B\\\u001B[2m99\u001B[0m\u001B]8;;\u001B\\\n",
       "\u001B[2;36m                    \u001B[0m         \u001B[33mpg\u001B[0m=\u001B[35m/api/\u001B[0m\u001B[95mtunnels\u001B[0m \u001B[33mid\u001B[0m=\u001B[35m77b1a82553d64e7f\u001B[0m \u001B[33mstatus\u001B[0m=\u001B[1;36m201\u001B[0m \u001B[33mdur\u001B[0m=\u001B[1;36m81\u001B[0m\u001B[1;36m.\u001B[0m638083ms           \u001B[2m             \u001B[0m\n"
      ],
      "text/html": [
       "<pre style=\"white-space:pre;overflow-x:auto;line-height:normal;font-family:Menlo,'DejaVu Sans Mono',consolas,'Courier New',monospace\"><span style=\"color: #7fbfbf; text-decoration-color: #7fbfbf\">                    </span><span style=\"color: #000080; text-decoration-color: #000080\">INFO    </span> <span style=\"font-weight: bold\">[</span>process.py:<span style=\"color: #008080; text-decoration-color: #008080; font-weight: bold\">99</span><span style=\"font-weight: bold\">]</span> &gt;&gt; <span style=\"color: #808000; text-decoration-color: #808000\">t</span>=<span style=\"color: #008080; text-decoration-color: #008080; font-weight: bold\">2025</span>-<span style=\"color: #008080; text-decoration-color: #008080; font-weight: bold\">01</span>-31T<span style=\"color: #00ff00; text-decoration-color: #00ff00; font-weight: bold\">17:32:15</span>+<span style=\"color: #008080; text-decoration-color: #008080; font-weight: bold\">0900</span> <span style=\"color: #808000; text-decoration-color: #808000\">lvl</span>=<span style=\"color: #800080; text-decoration-color: #800080\">info</span> <span style=\"color: #808000; text-decoration-color: #808000\">msg</span>=<span style=\"color: #800080; text-decoration-color: #800080\">end</span>           <a href=\"file:///Users/jeffrey/PycharmProjects/fast-campus/venv/lib/python3.10/site-packages/pyngrok/process.py\" target=\"_blank\"><span style=\"color: #7f7f7f; text-decoration-color: #7f7f7f\">process.py</span></a><span style=\"color: #7f7f7f; text-decoration-color: #7f7f7f\">:</span><a href=\"file:///Users/jeffrey/PycharmProjects/fast-campus/venv/lib/python3.10/site-packages/pyngrok/process.py#99\" target=\"_blank\"><span style=\"color: #7f7f7f; text-decoration-color: #7f7f7f\">99</span></a>\n",
       "<span style=\"color: #7fbfbf; text-decoration-color: #7fbfbf\">                    </span>         <span style=\"color: #808000; text-decoration-color: #808000\">pg</span>=<span style=\"color: #800080; text-decoration-color: #800080\">/api/</span><span style=\"color: #ff00ff; text-decoration-color: #ff00ff\">tunnels</span> <span style=\"color: #808000; text-decoration-color: #808000\">id</span>=<span style=\"color: #800080; text-decoration-color: #800080\">77b1a82553d64e7f</span> <span style=\"color: #808000; text-decoration-color: #808000\">status</span>=<span style=\"color: #008080; text-decoration-color: #008080; font-weight: bold\">201</span> <span style=\"color: #808000; text-decoration-color: #808000\">dur</span>=<span style=\"color: #008080; text-decoration-color: #008080; font-weight: bold\">81.</span>638083ms           <span style=\"color: #7f7f7f; text-decoration-color: #7f7f7f\">             </span>\n",
       "</pre>\n"
      ]
     },
     "metadata": {},
     "output_type": "display_data"
    },
    {
     "name": "stderr",
     "output_type": "stream",
     "text": [
      "[2025-01-31 17:32:16 +0900] [36700] [INFO] Running on http://0.0.0.0:8000 (CTRL + C to quit)\n"
     ]
    },
    {
     "data": {
      "text/plain": [
       "\u001B[2;36m[01/31/25 17:32:16]\u001B[0m\u001B[2;36m \u001B[0m\u001B[34mINFO    \u001B[0m \u001B[1m[\u001B[0mlogging.py:\u001B[1;36m106\u001B[0m\u001B[1m]\u001B[0m >> Running on \u001B[4;94mhttp://0.0.0.0:8000\u001B[0m \u001B[1m(\u001B[0mCTRL + C to quit\u001B[1m)\u001B[0m   \u001B]8;id=675665;file:///Users/jeffrey/PycharmProjects/fast-campus/venv/lib/python3.10/site-packages/hypercorn/logging.py\u001B\\\u001B[2mlogging.py\u001B[0m\u001B]8;;\u001B\\\u001B[2m:\u001B[0m\u001B]8;id=80609;file:///Users/jeffrey/PycharmProjects/fast-campus/venv/lib/python3.10/site-packages/hypercorn/logging.py#106\u001B\\\u001B[2m106\u001B[0m\u001B]8;;\u001B\\\n"
      ],
      "text/html": [
       "<pre style=\"white-space:pre;overflow-x:auto;line-height:normal;font-family:Menlo,'DejaVu Sans Mono',consolas,'Courier New',monospace\"><span style=\"color: #7fbfbf; text-decoration-color: #7fbfbf\">[01/31/25 17:32:16] </span><span style=\"color: #000080; text-decoration-color: #000080\">INFO    </span> <span style=\"font-weight: bold\">[</span>logging.py:<span style=\"color: #008080; text-decoration-color: #008080; font-weight: bold\">106</span><span style=\"font-weight: bold\">]</span> &gt;&gt; Running on <span style=\"color: #0000ff; text-decoration-color: #0000ff; text-decoration: underline\">http://0.0.0.0:8000</span> <span style=\"font-weight: bold\">(</span>CTRL + C to quit<span style=\"font-weight: bold\">)</span>   <a href=\"file:///Users/jeffrey/PycharmProjects/fast-campus/venv/lib/python3.10/site-packages/hypercorn/logging.py\" target=\"_blank\"><span style=\"color: #7f7f7f; text-decoration-color: #7f7f7f\">logging.py</span></a><span style=\"color: #7f7f7f; text-decoration-color: #7f7f7f\">:</span><a href=\"file:///Users/jeffrey/PycharmProjects/fast-campus/venv/lib/python3.10/site-packages/hypercorn/logging.py#106\" target=\"_blank\"><span style=\"color: #7f7f7f; text-decoration-color: #7f7f7f\">106</span></a>\n",
       "</pre>\n"
      ]
     },
     "metadata": {},
     "output_type": "display_data"
    },
    {
     "data": {
      "text/plain": [
       "\u001B[2;36m                   \u001B[0m\u001B[2;36m \u001B[0m\u001B[34mINFO    \u001B[0m \u001B[1m[\u001B[0mprocess.py:\u001B[1;36m99\u001B[0m\u001B[1m]\u001B[0m >> \u001B[33mt\u001B[0m=\u001B[1;36m2025\u001B[0m-\u001B[1;36m01\u001B[0m-31T\u001B[1;92m17:32:16\u001B[0m+\u001B[1;36m0900\u001B[0m \u001B[33mlvl\u001B[0m=\u001B[35minfo\u001B[0m \u001B[33mmsg\u001B[0m=\u001B[32m\"update\u001B[0m\u001B[32m \u001B[0m      \u001B]8;id=244725;file:///Users/jeffrey/PycharmProjects/fast-campus/venv/lib/python3.10/site-packages/pyngrok/process.py\u001B\\\u001B[2mprocess.py\u001B[0m\u001B]8;;\u001B\\\u001B[2m:\u001B[0m\u001B]8;id=949980;file:///Users/jeffrey/PycharmProjects/fast-campus/venv/lib/python3.10/site-packages/pyngrok/process.py#99\u001B\\\u001B[2m99\u001B[0m\u001B]8;;\u001B\\\n",
       "\u001B[2;36m                    \u001B[0m         \u001B[32mavailable\"\u001B[0m \u001B[33mobj\u001B[0m=\u001B[35mupdater\u001B[0m                                                   \u001B[2m             \u001B[0m\n"
      ],
      "text/html": [
       "<pre style=\"white-space:pre;overflow-x:auto;line-height:normal;font-family:Menlo,'DejaVu Sans Mono',consolas,'Courier New',monospace\"><span style=\"color: #7fbfbf; text-decoration-color: #7fbfbf\">                    </span><span style=\"color: #000080; text-decoration-color: #000080\">INFO    </span> <span style=\"font-weight: bold\">[</span>process.py:<span style=\"color: #008080; text-decoration-color: #008080; font-weight: bold\">99</span><span style=\"font-weight: bold\">]</span> &gt;&gt; <span style=\"color: #808000; text-decoration-color: #808000\">t</span>=<span style=\"color: #008080; text-decoration-color: #008080; font-weight: bold\">2025</span>-<span style=\"color: #008080; text-decoration-color: #008080; font-weight: bold\">01</span>-31T<span style=\"color: #00ff00; text-decoration-color: #00ff00; font-weight: bold\">17:32:16</span>+<span style=\"color: #008080; text-decoration-color: #008080; font-weight: bold\">0900</span> <span style=\"color: #808000; text-decoration-color: #808000\">lvl</span>=<span style=\"color: #800080; text-decoration-color: #800080\">info</span> <span style=\"color: #808000; text-decoration-color: #808000\">msg</span>=<span style=\"color: #008000; text-decoration-color: #008000\">\"update </span>      <a href=\"file:///Users/jeffrey/PycharmProjects/fast-campus/venv/lib/python3.10/site-packages/pyngrok/process.py\" target=\"_blank\"><span style=\"color: #7f7f7f; text-decoration-color: #7f7f7f\">process.py</span></a><span style=\"color: #7f7f7f; text-decoration-color: #7f7f7f\">:</span><a href=\"file:///Users/jeffrey/PycharmProjects/fast-campus/venv/lib/python3.10/site-packages/pyngrok/process.py#99\" target=\"_blank\"><span style=\"color: #7f7f7f; text-decoration-color: #7f7f7f\">99</span></a>\n",
       "<span style=\"color: #7fbfbf; text-decoration-color: #7fbfbf\">                    </span>         <span style=\"color: #008000; text-decoration-color: #008000\">available\"</span> <span style=\"color: #808000; text-decoration-color: #808000\">obj</span>=<span style=\"color: #800080; text-decoration-color: #800080\">updater</span>                                                   <span style=\"color: #7f7f7f; text-decoration-color: #7f7f7f\">             </span>\n",
       "</pre>\n"
      ]
     },
     "metadata": {},
     "output_type": "display_data"
    },
    {
     "data": {
      "text/plain": [
       "\u001B[2;36m[01/31/25 17:38:48]\u001B[0m\u001B[2;36m \u001B[0m\u001B[34mINFO    \u001B[0m \u001B[1m[\u001B[0mprocess.py:\u001B[1;36m99\u001B[0m\u001B[1m]\u001B[0m >> \u001B[33mt\u001B[0m=\u001B[1;36m2025\u001B[0m-\u001B[1;36m01\u001B[0m-31T\u001B[1;92m17:38:48\u001B[0m+\u001B[1;36m0900\u001B[0m \u001B[33mlvl\u001B[0m=\u001B[35minfo\u001B[0m \u001B[33mmsg\u001B[0m=\u001B[32m\"received\u001B[0m\u001B[32m \u001B[0m    \u001B]8;id=493799;file:///Users/jeffrey/PycharmProjects/fast-campus/venv/lib/python3.10/site-packages/pyngrok/process.py\u001B\\\u001B[2mprocess.py\u001B[0m\u001B]8;;\u001B\\\u001B[2m:\u001B[0m\u001B]8;id=428373;file:///Users/jeffrey/PycharmProjects/fast-campus/venv/lib/python3.10/site-packages/pyngrok/process.py#99\u001B\\\u001B[2m99\u001B[0m\u001B]8;;\u001B\\\n",
       "\u001B[2;36m                    \u001B[0m         \u001B[32mstop request\"\u001B[0m \u001B[33mobj\u001B[0m=\u001B[35mapp\u001B[0m \u001B[33mstopReq\u001B[0m=\u001B[32m\"\u001B[0m\u001B[32m{\u001B[0m\u001B[32merr:\u001B[0m\u001B[32m<\u001B[0m\u001B[32mnil\u001B[0m\u001B[32m>\u001B[0m\u001B[32m restart:false\u001B[0m\u001B[32m}\u001B[0m\u001B[32m\"\u001B[0m                \u001B[2m             \u001B[0m\n"
      ],
      "text/html": [
       "<pre style=\"white-space:pre;overflow-x:auto;line-height:normal;font-family:Menlo,'DejaVu Sans Mono',consolas,'Courier New',monospace\"><span style=\"color: #7fbfbf; text-decoration-color: #7fbfbf\">[01/31/25 17:38:48] </span><span style=\"color: #000080; text-decoration-color: #000080\">INFO    </span> <span style=\"font-weight: bold\">[</span>process.py:<span style=\"color: #008080; text-decoration-color: #008080; font-weight: bold\">99</span><span style=\"font-weight: bold\">]</span> &gt;&gt; <span style=\"color: #808000; text-decoration-color: #808000\">t</span>=<span style=\"color: #008080; text-decoration-color: #008080; font-weight: bold\">2025</span>-<span style=\"color: #008080; text-decoration-color: #008080; font-weight: bold\">01</span>-31T<span style=\"color: #00ff00; text-decoration-color: #00ff00; font-weight: bold\">17:38:48</span>+<span style=\"color: #008080; text-decoration-color: #008080; font-weight: bold\">0900</span> <span style=\"color: #808000; text-decoration-color: #808000\">lvl</span>=<span style=\"color: #800080; text-decoration-color: #800080\">info</span> <span style=\"color: #808000; text-decoration-color: #808000\">msg</span>=<span style=\"color: #008000; text-decoration-color: #008000\">\"received </span>    <a href=\"file:///Users/jeffrey/PycharmProjects/fast-campus/venv/lib/python3.10/site-packages/pyngrok/process.py\" target=\"_blank\"><span style=\"color: #7f7f7f; text-decoration-color: #7f7f7f\">process.py</span></a><span style=\"color: #7f7f7f; text-decoration-color: #7f7f7f\">:</span><a href=\"file:///Users/jeffrey/PycharmProjects/fast-campus/venv/lib/python3.10/site-packages/pyngrok/process.py#99\" target=\"_blank\"><span style=\"color: #7f7f7f; text-decoration-color: #7f7f7f\">99</span></a>\n",
       "<span style=\"color: #7fbfbf; text-decoration-color: #7fbfbf\">                    </span>         <span style=\"color: #008000; text-decoration-color: #008000\">stop request\"</span> <span style=\"color: #808000; text-decoration-color: #808000\">obj</span>=<span style=\"color: #800080; text-decoration-color: #800080\">app</span> <span style=\"color: #808000; text-decoration-color: #808000\">stopReq</span>=<span style=\"color: #008000; text-decoration-color: #008000\">\"{err:&lt;nil&gt; restart:false}\"</span>                <span style=\"color: #7f7f7f; text-decoration-color: #7f7f7f\">             </span>\n",
       "</pre>\n"
      ]
     },
     "metadata": {},
     "output_type": "display_data"
    }
   ],
   "execution_count": 7
  },
  {
   "metadata": {},
   "cell_type": "markdown",
   "source": [
    "아래 코드를 사용하여 python 환경에서 API 서버를 작동할 수 있습니다.\n",
    "하나의 Jupyter notebook에서 실행할 수 없으니, 다른 python interpreter에서 실행해주세요."
   ],
   "id": "239ffa63d5ba7008"
  },
  {
   "metadata": {
    "ExecuteTime": {
     "end_time": "2025-01-31T08:39:28.340377Z",
     "start_time": "2025-01-31T08:39:28.333937Z"
    }
   },
   "cell_type": "code",
   "source": [
    "from autorag.utils.util import decode_multiple_json_from_bytes\n",
    "import requests\n",
    "\n",
    "BASE_URL = \"http://0.0.0.0:8000\"\n",
    "\n",
    "def stream_query(query, result_column=\"generated_texts\"):\n",
    "    url = f\"{BASE_URL}/v1/stream\"\n",
    "    payload = {\n",
    "        \"query\": query,\n",
    "        \"result_column\": result_column\n",
    "    }\n",
    "    with requests.Session() as session:\n",
    "      response = session.post(url, json=payload, stream=True)\n",
    "      retrieved_passages = [] # This will store retrieved passages\n",
    "\n",
    "      # Check if the request was successful\n",
    "      if response.status_code == 200:\n",
    "          # Process the streaming response\n",
    "          for i, chunk in enumerate(response.iter_content(chunk_size=None)):\n",
    "              if chunk:\n",
    "                  data_list = decode_multiple_json_from_bytes(chunk)\n",
    "                  for data in data_list:\n",
    "                      if data[\"type\"] == \"retrieved_passage\":\n",
    "                          retrieved_passages.append(data[\"retrieved_passage\"])\n",
    "                      else:\n",
    "                          print(data[\"generated_text\"], end=\"\") # Stream the generated texts\n",
    "      else:\n",
    "          print(f\"Request failed with status code: {response.status_code}\")\n",
    "          print(f\"Response content: {response.text}\")"
   ],
   "id": "a06c93f57ed4c615",
   "outputs": [],
   "execution_count": 8
  },
  {
   "metadata": {},
   "cell_type": "code",
   "source": "stream_query(\"What is your name?\")",
   "id": "ab57d476dd8564e0",
   "outputs": [],
   "execution_count": null
  },
  {
   "metadata": {},
   "cell_type": "markdown",
   "source": "### Streamlit 실행",
   "id": "1a661473d080b514"
  },
  {
   "metadata": {},
   "cell_type": "code",
   "source": [
    "import subprocess\n",
    "\n",
    "subprocess.run([\"autorag\", \"run_web\", \"--trial_path\", trial_dir])"
   ],
   "id": "22798247a9616ba6",
   "outputs": [],
   "execution_count": null
  },
  {
   "metadata": {},
   "cell_type": "markdown",
   "source": [
    "## 추가 : Kotaemon에서 실행\n",
    "\n",
    "https://velog.io/@autorag/AutoRAG-%EC%B1%84%ED%8C%85-%EC%9D%B8%ED%84%B0%ED%8E%98%EC%9D%B4%EC%8A%A4-%EB%B0%B0%ED%8F%AC-%EA%B0%80%EC%9D%B4%EB%93%9C-AutoRAG-Kotaemon-fly.io"
   ],
   "id": "761e8ca530cf6bec"
  },
  {
   "metadata": {},
   "cell_type": "code",
   "outputs": [],
   "execution_count": null,
   "source": "",
   "id": "f113754229a402f9"
  }
 ],
 "metadata": {
  "kernelspec": {
   "display_name": "Python 3",
   "language": "python",
   "name": "python3"
  },
  "language_info": {
   "codemirror_mode": {
    "name": "ipython",
    "version": 2
   },
   "file_extension": ".py",
   "mimetype": "text/x-python",
   "name": "python",
   "nbconvert_exporter": "python",
   "pygments_lexer": "ipython2",
   "version": "2.7.6"
  }
 },
 "nbformat": 4,
 "nbformat_minor": 5
}
