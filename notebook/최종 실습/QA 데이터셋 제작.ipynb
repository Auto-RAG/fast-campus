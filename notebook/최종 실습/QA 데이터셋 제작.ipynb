{
 "cells": [
  {
   "metadata": {
    "ExecuteTime": {
     "end_time": "2025-01-30T04:33:48.736315Z",
     "start_time": "2025-01-30T04:33:46.280387Z"
    }
   },
   "cell_type": "code",
   "source": "import pandas as pd",
   "id": "587c86a47c4a444d",
   "outputs": [],
   "execution_count": 2
  },
  {
   "metadata": {
    "ExecuteTime": {
     "end_time": "2025-01-30T04:33:48.752673Z",
     "start_time": "2025-01-30T04:33:48.749084Z"
    }
   },
   "cell_type": "code",
   "source": [
    "import nest_asyncio\n",
    "\n",
    "nest_asyncio.apply()"
   ],
   "id": "788da9d1b297212f",
   "outputs": [],
   "execution_count": 3
  },
  {
   "metadata": {
    "ExecuteTime": {
     "end_time": "2025-01-30T04:33:48.762063Z",
     "start_time": "2025-01-30T04:33:48.759468Z"
    }
   },
   "cell_type": "code",
   "source": [
    "import os\n",
    "import pathlib\n",
    "\n",
    "root_dir = pathlib.PurePath(os.path.dirname(os.getcwd())).parent\n",
    "data_dir = os.path.join(root_dir, 'data')"
   ],
   "id": "cb647d3cb7d7d614",
   "outputs": [],
   "execution_count": 4
  },
  {
   "metadata": {
    "ExecuteTime": {
     "end_time": "2025-01-30T04:40:18.919193Z",
     "start_time": "2025-01-30T04:40:18.910690Z"
    }
   },
   "cell_type": "code",
   "source": [
    "from dotenv import load_dotenv\n",
    "\n",
    "load_dotenv()\n",
    "\n",
    "# import os\n",
    "\n",
    "# os.environ[\"OPENAI_API_KEY\"] = \"...\""
   ],
   "id": "3923ab4f324b2eb0",
   "outputs": [
    {
     "data": {
      "text/plain": [
       "True"
      ]
     },
     "execution_count": 7,
     "metadata": {},
     "output_type": "execute_result"
    }
   ],
   "execution_count": 7
  },
  {
   "metadata": {},
   "cell_type": "markdown",
   "source": [
    "# 1. LLM 기반 질의 생성\n",
    "\n",
    "이번 실습에서는 QA 데이터 셋을 만들어보겠습니다.\n",
    "\n",
    "먼저 LLM 기반 질의 생성을 통해 15개의 QA 데이터 셋을 만들어보겠습니다."
   ],
   "id": "372366185dc0770b"
  },
  {
   "metadata": {},
   "cell_type": "markdown",
   "source": "####  Corpus 파일 불러오기",
   "id": "7d8883cee563b68e"
  },
  {
   "metadata": {
    "ExecuteTime": {
     "end_time": "2025-01-30T04:33:49.763118Z",
     "start_time": "2025-01-30T04:33:49.393117Z"
    }
   },
   "cell_type": "code",
   "source": [
    "corpus_dir = os.path.join(root_dir, 'autorag_project', 'final', 'chunk', '0.parquet')\n",
    "corpus = pd.read_parquet(corpus_dir)\n",
    "corpus"
   ],
   "id": "27a6179c2016df53",
   "outputs": [
    {
     "data": {
      "text/plain": [
       "                                   doc_id  \\\n",
       "0    c7036095-887a-4082-885e-14209c68cb0f   \n",
       "1    fc96bdca-c580-4f27-ab43-dfbcdbda99fb   \n",
       "2    18e02344-dc14-4924-b38c-9573bd437fcb   \n",
       "3    fd7ba604-3428-4b9b-8dea-8565b394cb34   \n",
       "4    ef1e83f5-7a4d-419b-b469-f4c4eb53b101   \n",
       "..                                    ...   \n",
       "856  bb36c5db-a016-404f-ad42-2e2c1eab11e4   \n",
       "857  167952f2-5c16-461c-b139-f7b7d8cf9f40   \n",
       "858  621dcf2e-3fdd-4b8e-8514-b94353524da3   \n",
       "859  006c3812-75b3-4d24-a703-fa261cd59417   \n",
       "860  e6e6332e-a897-4c8a-973c-a0be0753bdfd   \n",
       "\n",
       "                                              contents  \\\n",
       "0    <h1 id='0' style='font-size:18px'>2024년 KBO 규약...   \n",
       "1    고용할 수 있음</td></tr><tr><td>제44조 [선수계약의 승인]</td>...   \n",
       "2    <h1 id='0' style='font-size:20px'>제4장 연 고 권</h...   \n",
       "3    히어로즈</td><td>서울특별시</td></tr><tr><td>NC 다이노스</t...   \n",
       "4    <table id='0' style='font-size:14px'><tr><td>구...   \n",
       "..                                                 ...   \n",
       "856  그림 8. 정식경기 \\r\\n<예1>\\r\\n이닝 1 2 3 4 5 6 7 8 9 \\r...   \n",
       "857         갑 1 0 0 1 0 0 1 |3\\r\\n을 0 0 1 0 0 0 0+∝ |1   \n",
       "858  그림 9. 정식경기\\r\\n<예8>\\r\\n이닝 1 2 3 4 5 6 7 8 9 \\r\\...   \n",
       "859  3-2 승 \\r\\n<예14>\\r\\n이닝 1 2 3 4 5 6 7 8 9 \\r\\n갑 ...   \n",
       "860  그림 10. 투구자세 \\r\\n(본문 5.07(a) 참조) \\r\\n와인드업 포지션(오...   \n",
       "\n",
       "                                                  path start_end_idx  \\\n",
       "0    /Users/kimbwook/PycharmProjects/fast-campus/no...      [0, 575]   \n",
       "1    /Users/kimbwook/PycharmProjects/fast-campus/no...   [546, 1071]   \n",
       "2    /Users/kimbwook/PycharmProjects/fast-campus/no...      [0, 619]   \n",
       "3    /Users/kimbwook/PycharmProjects/fast-campus/no...   [621, 1277]   \n",
       "4    /Users/kimbwook/PycharmProjects/fast-campus/no...      [0, 516]   \n",
       "..                                                 ...           ...   \n",
       "856  /Users/kimbwook/PycharmProjects/fast-campus/no...      [0, 438]   \n",
       "857  /Users/kimbwook/PycharmProjects/fast-campus/no...    [416, 455]   \n",
       "858  /Users/kimbwook/PycharmProjects/fast-campus/no...      [0, 447]   \n",
       "859  /Users/kimbwook/PycharmProjects/fast-campus/no...    [429, 526]   \n",
       "860  /Users/kimbwook/PycharmProjects/fast-campus/no...       [0, 64]   \n",
       "\n",
       "                                              metadata  \n",
       "0    {'last_modified_datetime': '2025-01-27', 'next...  \n",
       "1    {'last_modified_datetime': '2025-01-27', 'next...  \n",
       "2    {'last_modified_datetime': '2025-01-27', 'next...  \n",
       "3    {'last_modified_datetime': '2025-01-27', 'next...  \n",
       "4    {'last_modified_datetime': '2025-01-27', 'next...  \n",
       "..                                                 ...  \n",
       "856  {'last_modified_datetime': '2025-01-27', 'next...  \n",
       "857  {'last_modified_datetime': '2025-01-27', 'next...  \n",
       "858  {'last_modified_datetime': '2025-01-27', 'next...  \n",
       "859  {'last_modified_datetime': '2025-01-27', 'next...  \n",
       "860  {'last_modified_datetime': '2025-01-27', 'next...  \n",
       "\n",
       "[861 rows x 5 columns]"
      ],
      "text/html": [
       "<div>\n",
       "<style scoped>\n",
       "    .dataframe tbody tr th:only-of-type {\n",
       "        vertical-align: middle;\n",
       "    }\n",
       "\n",
       "    .dataframe tbody tr th {\n",
       "        vertical-align: top;\n",
       "    }\n",
       "\n",
       "    .dataframe thead th {\n",
       "        text-align: right;\n",
       "    }\n",
       "</style>\n",
       "<table border=\"1\" class=\"dataframe\">\n",
       "  <thead>\n",
       "    <tr style=\"text-align: right;\">\n",
       "      <th></th>\n",
       "      <th>doc_id</th>\n",
       "      <th>contents</th>\n",
       "      <th>path</th>\n",
       "      <th>start_end_idx</th>\n",
       "      <th>metadata</th>\n",
       "    </tr>\n",
       "  </thead>\n",
       "  <tbody>\n",
       "    <tr>\n",
       "      <th>0</th>\n",
       "      <td>c7036095-887a-4082-885e-14209c68cb0f</td>\n",
       "      <td>&lt;h1 id='0' style='font-size:18px'&gt;2024년 KBO 규약...</td>\n",
       "      <td>/Users/kimbwook/PycharmProjects/fast-campus/no...</td>\n",
       "      <td>[0, 575]</td>\n",
       "      <td>{'last_modified_datetime': '2025-01-27', 'next...</td>\n",
       "    </tr>\n",
       "    <tr>\n",
       "      <th>1</th>\n",
       "      <td>fc96bdca-c580-4f27-ab43-dfbcdbda99fb</td>\n",
       "      <td>고용할 수 있음&lt;/td&gt;&lt;/tr&gt;&lt;tr&gt;&lt;td&gt;제44조 [선수계약의 승인]&lt;/td&gt;...</td>\n",
       "      <td>/Users/kimbwook/PycharmProjects/fast-campus/no...</td>\n",
       "      <td>[546, 1071]</td>\n",
       "      <td>{'last_modified_datetime': '2025-01-27', 'next...</td>\n",
       "    </tr>\n",
       "    <tr>\n",
       "      <th>2</th>\n",
       "      <td>18e02344-dc14-4924-b38c-9573bd437fcb</td>\n",
       "      <td>&lt;h1 id='0' style='font-size:20px'&gt;제4장 연 고 권&lt;/h...</td>\n",
       "      <td>/Users/kimbwook/PycharmProjects/fast-campus/no...</td>\n",
       "      <td>[0, 619]</td>\n",
       "      <td>{'last_modified_datetime': '2025-01-27', 'next...</td>\n",
       "    </tr>\n",
       "    <tr>\n",
       "      <th>3</th>\n",
       "      <td>fd7ba604-3428-4b9b-8dea-8565b394cb34</td>\n",
       "      <td>히어로즈&lt;/td&gt;&lt;td&gt;서울특별시&lt;/td&gt;&lt;/tr&gt;&lt;tr&gt;&lt;td&gt;NC 다이노스&lt;/t...</td>\n",
       "      <td>/Users/kimbwook/PycharmProjects/fast-campus/no...</td>\n",
       "      <td>[621, 1277]</td>\n",
       "      <td>{'last_modified_datetime': '2025-01-27', 'next...</td>\n",
       "    </tr>\n",
       "    <tr>\n",
       "      <th>4</th>\n",
       "      <td>ef1e83f5-7a4d-419b-b469-f4c4eb53b101</td>\n",
       "      <td>&lt;table id='0' style='font-size:14px'&gt;&lt;tr&gt;&lt;td&gt;구...</td>\n",
       "      <td>/Users/kimbwook/PycharmProjects/fast-campus/no...</td>\n",
       "      <td>[0, 516]</td>\n",
       "      <td>{'last_modified_datetime': '2025-01-27', 'next...</td>\n",
       "    </tr>\n",
       "    <tr>\n",
       "      <th>...</th>\n",
       "      <td>...</td>\n",
       "      <td>...</td>\n",
       "      <td>...</td>\n",
       "      <td>...</td>\n",
       "      <td>...</td>\n",
       "    </tr>\n",
       "    <tr>\n",
       "      <th>856</th>\n",
       "      <td>bb36c5db-a016-404f-ad42-2e2c1eab11e4</td>\n",
       "      <td>그림 8. 정식경기 \\r\\n&lt;예1&gt;\\r\\n이닝 1 2 3 4 5 6 7 8 9 \\r...</td>\n",
       "      <td>/Users/kimbwook/PycharmProjects/fast-campus/no...</td>\n",
       "      <td>[0, 438]</td>\n",
       "      <td>{'last_modified_datetime': '2025-01-27', 'next...</td>\n",
       "    </tr>\n",
       "    <tr>\n",
       "      <th>857</th>\n",
       "      <td>167952f2-5c16-461c-b139-f7b7d8cf9f40</td>\n",
       "      <td>갑 1 0 0 1 0 0 1 |3\\r\\n을 0 0 1 0 0 0 0+∝ |1</td>\n",
       "      <td>/Users/kimbwook/PycharmProjects/fast-campus/no...</td>\n",
       "      <td>[416, 455]</td>\n",
       "      <td>{'last_modified_datetime': '2025-01-27', 'next...</td>\n",
       "    </tr>\n",
       "    <tr>\n",
       "      <th>858</th>\n",
       "      <td>621dcf2e-3fdd-4b8e-8514-b94353524da3</td>\n",
       "      <td>그림 9. 정식경기\\r\\n&lt;예8&gt;\\r\\n이닝 1 2 3 4 5 6 7 8 9 \\r\\...</td>\n",
       "      <td>/Users/kimbwook/PycharmProjects/fast-campus/no...</td>\n",
       "      <td>[0, 447]</td>\n",
       "      <td>{'last_modified_datetime': '2025-01-27', 'next...</td>\n",
       "    </tr>\n",
       "    <tr>\n",
       "      <th>859</th>\n",
       "      <td>006c3812-75b3-4d24-a703-fa261cd59417</td>\n",
       "      <td>3-2 승 \\r\\n&lt;예14&gt;\\r\\n이닝 1 2 3 4 5 6 7 8 9 \\r\\n갑 ...</td>\n",
       "      <td>/Users/kimbwook/PycharmProjects/fast-campus/no...</td>\n",
       "      <td>[429, 526]</td>\n",
       "      <td>{'last_modified_datetime': '2025-01-27', 'next...</td>\n",
       "    </tr>\n",
       "    <tr>\n",
       "      <th>860</th>\n",
       "      <td>e6e6332e-a897-4c8a-973c-a0be0753bdfd</td>\n",
       "      <td>그림 10. 투구자세 \\r\\n(본문 5.07(a) 참조) \\r\\n와인드업 포지션(오...</td>\n",
       "      <td>/Users/kimbwook/PycharmProjects/fast-campus/no...</td>\n",
       "      <td>[0, 64]</td>\n",
       "      <td>{'last_modified_datetime': '2025-01-27', 'next...</td>\n",
       "    </tr>\n",
       "  </tbody>\n",
       "</table>\n",
       "<p>861 rows × 5 columns</p>\n",
       "</div>"
      ]
     },
     "execution_count": 5,
     "metadata": {},
     "output_type": "execute_result"
    }
   ],
   "execution_count": 5
  },
  {
   "metadata": {},
   "cell_type": "markdown",
   "source": "#### Run QA Creation",
   "id": "192c90af6b550f7b"
  },
  {
   "metadata": {
    "ExecuteTime": {
     "end_time": "2025-01-30T04:41:53.606821Z",
     "start_time": "2025-01-30T04:41:53.602076Z"
    }
   },
   "cell_type": "code",
   "source": [
    "from autorag.data.qa.schema import Corpus\n",
    "from llama_index.llms.openai import OpenAI\n",
    "\n",
    "from autorag.data.qa.filter.dontknow import dontknow_filter_rule_based\n",
    "from autorag.data.qa.generation_gt.llama_index_gen_gt import (\n",
    "    make_basic_gen_gt,\n",
    "    make_concise_gen_gt,\n",
    ")\n",
    "from autorag.data.qa.query.llama_gen_query import factoid_query_gen\n",
    "from autorag.data.qa.sample import random_single_hop\n",
    "\n",
    "llm = OpenAI()  # model = \"gpt-3.5-turbo\"\n",
    "initial_corpus = Corpus(corpus)"
   ],
   "id": "d486957459f5ced9",
   "outputs": [],
   "execution_count": 11
  },
  {
   "metadata": {
    "ExecuteTime": {
     "end_time": "2025-01-30T04:42:08.454294Z",
     "start_time": "2025-01-30T04:41:55.304608Z"
    }
   },
   "cell_type": "code",
   "source": [
    "initial_qa = (\n",
    "    initial_corpus.sample(random_single_hop, n=15) # sample only three\n",
    "    .map(\n",
    "        lambda df: df.reset_index(drop=True),\n",
    "    )\n",
    "    .make_retrieval_gt_contents()\n",
    "    .batch_apply(\n",
    "        factoid_query_gen,  # query generation\n",
    "        llm=llm,\n",
    "\t\tlang='ko',\n",
    "    )\n",
    "    .batch_apply(\n",
    "        make_basic_gen_gt,  # answer generation (basic)\n",
    "        llm=llm,\n",
    "\t\tlang='ko',\n",
    "    )\n",
    "    .batch_apply(\n",
    "        make_concise_gen_gt,  # answer generation (concise)\n",
    "        llm=llm,\n",
    "\t\tlang='ko',\n",
    "    )\n",
    "    .filter(\n",
    "        dontknow_filter_rule_based,  # filter don't know\n",
    "        lang=\"ko\",\n",
    "    )\n",
    ")"
   ],
   "id": "54c7eaf5ba7736d3",
   "outputs": [
    {
     "data": {
      "text/plain": [
       "\u001B[2;36m[01/30/25 13:41:57]\u001B[0m\u001B[2;36m \u001B[0m\u001B[34mINFO    \u001B[0m \u001B[1m[\u001B[0m_client.py:\u001B[1;36m1773\u001B[0m\u001B[1m]\u001B[0m >> HTTP Request: \u001B[1;33mPOST\u001B[0m                                \u001B]8;id=104390;file:///Users/kimbwook/PycharmProjects/fast-campus/venv/lib/python3.10/site-packages/httpx/_client.py\u001B\\\u001B[2m_client.py\u001B[0m\u001B]8;;\u001B\\\u001B[2m:\u001B[0m\u001B]8;id=54340;file:///Users/kimbwook/PycharmProjects/fast-campus/venv/lib/python3.10/site-packages/httpx/_client.py#1773\u001B\\\u001B[2m1773\u001B[0m\u001B]8;;\u001B\\\n",
       "\u001B[2;36m                    \u001B[0m         \u001B[4;94mhttps://api.openai.com/v1/chat/completions\u001B[0m \u001B[32m\"HTTP/1.1 200 OK\"\u001B[0m           \u001B[2m               \u001B[0m\n"
      ],
      "text/html": [
       "<pre style=\"white-space:pre;overflow-x:auto;line-height:normal;font-family:Menlo,'DejaVu Sans Mono',consolas,'Courier New',monospace\"><span style=\"color: #7fbfbf; text-decoration-color: #7fbfbf\">[01/30/25 13:41:57] </span><span style=\"color: #000080; text-decoration-color: #000080\">INFO    </span> <span style=\"font-weight: bold\">[</span>_client.py:<span style=\"color: #008080; text-decoration-color: #008080; font-weight: bold\">1773</span><span style=\"font-weight: bold\">]</span> &gt;&gt; HTTP Request: <span style=\"color: #808000; text-decoration-color: #808000; font-weight: bold\">POST</span>                                <a href=\"file:///Users/kimbwook/PycharmProjects/fast-campus/venv/lib/python3.10/site-packages/httpx/_client.py\" target=\"_blank\"><span style=\"color: #7f7f7f; text-decoration-color: #7f7f7f\">_client.py</span></a><span style=\"color: #7f7f7f; text-decoration-color: #7f7f7f\">:</span><a href=\"file:///Users/kimbwook/PycharmProjects/fast-campus/venv/lib/python3.10/site-packages/httpx/_client.py#1773\" target=\"_blank\"><span style=\"color: #7f7f7f; text-decoration-color: #7f7f7f\">1773</span></a>\n",
       "<span style=\"color: #7fbfbf; text-decoration-color: #7fbfbf\">                    </span>         <span style=\"color: #0000ff; text-decoration-color: #0000ff; text-decoration: underline\">https://api.openai.com/v1/chat/completions</span> <span style=\"color: #008000; text-decoration-color: #008000\">\"HTTP/1.1 200 OK\"</span>           <span style=\"color: #7f7f7f; text-decoration-color: #7f7f7f\">               </span>\n",
       "</pre>\n"
      ]
     },
     "metadata": {},
     "output_type": "display_data"
    },
    {
     "data": {
      "text/plain": [
       "\u001B[2;36m                   \u001B[0m\u001B[2;36m \u001B[0m\u001B[34mINFO    \u001B[0m \u001B[1m[\u001B[0m_client.py:\u001B[1;36m1773\u001B[0m\u001B[1m]\u001B[0m >> HTTP Request: \u001B[1;33mPOST\u001B[0m                                \u001B]8;id=407218;file:///Users/kimbwook/PycharmProjects/fast-campus/venv/lib/python3.10/site-packages/httpx/_client.py\u001B\\\u001B[2m_client.py\u001B[0m\u001B]8;;\u001B\\\u001B[2m:\u001B[0m\u001B]8;id=39631;file:///Users/kimbwook/PycharmProjects/fast-campus/venv/lib/python3.10/site-packages/httpx/_client.py#1773\u001B\\\u001B[2m1773\u001B[0m\u001B]8;;\u001B\\\n",
       "\u001B[2;36m                    \u001B[0m         \u001B[4;94mhttps://api.openai.com/v1/chat/completions\u001B[0m \u001B[32m\"HTTP/1.1 200 OK\"\u001B[0m           \u001B[2m               \u001B[0m\n"
      ],
      "text/html": [
       "<pre style=\"white-space:pre;overflow-x:auto;line-height:normal;font-family:Menlo,'DejaVu Sans Mono',consolas,'Courier New',monospace\"><span style=\"color: #7fbfbf; text-decoration-color: #7fbfbf\">                    </span><span style=\"color: #000080; text-decoration-color: #000080\">INFO    </span> <span style=\"font-weight: bold\">[</span>_client.py:<span style=\"color: #008080; text-decoration-color: #008080; font-weight: bold\">1773</span><span style=\"font-weight: bold\">]</span> &gt;&gt; HTTP Request: <span style=\"color: #808000; text-decoration-color: #808000; font-weight: bold\">POST</span>                                <a href=\"file:///Users/kimbwook/PycharmProjects/fast-campus/venv/lib/python3.10/site-packages/httpx/_client.py\" target=\"_blank\"><span style=\"color: #7f7f7f; text-decoration-color: #7f7f7f\">_client.py</span></a><span style=\"color: #7f7f7f; text-decoration-color: #7f7f7f\">:</span><a href=\"file:///Users/kimbwook/PycharmProjects/fast-campus/venv/lib/python3.10/site-packages/httpx/_client.py#1773\" target=\"_blank\"><span style=\"color: #7f7f7f; text-decoration-color: #7f7f7f\">1773</span></a>\n",
       "<span style=\"color: #7fbfbf; text-decoration-color: #7fbfbf\">                    </span>         <span style=\"color: #0000ff; text-decoration-color: #0000ff; text-decoration: underline\">https://api.openai.com/v1/chat/completions</span> <span style=\"color: #008000; text-decoration-color: #008000\">\"HTTP/1.1 200 OK\"</span>           <span style=\"color: #7f7f7f; text-decoration-color: #7f7f7f\">               </span>\n",
       "</pre>\n"
      ]
     },
     "metadata": {},
     "output_type": "display_data"
    },
    {
     "data": {
      "text/plain": [
       "\u001B[2;36m                   \u001B[0m\u001B[2;36m \u001B[0m\u001B[34mINFO    \u001B[0m \u001B[1m[\u001B[0m_client.py:\u001B[1;36m1773\u001B[0m\u001B[1m]\u001B[0m >> HTTP Request: \u001B[1;33mPOST\u001B[0m                                \u001B]8;id=113183;file:///Users/kimbwook/PycharmProjects/fast-campus/venv/lib/python3.10/site-packages/httpx/_client.py\u001B\\\u001B[2m_client.py\u001B[0m\u001B]8;;\u001B\\\u001B[2m:\u001B[0m\u001B]8;id=876790;file:///Users/kimbwook/PycharmProjects/fast-campus/venv/lib/python3.10/site-packages/httpx/_client.py#1773\u001B\\\u001B[2m1773\u001B[0m\u001B]8;;\u001B\\\n",
       "\u001B[2;36m                    \u001B[0m         \u001B[4;94mhttps://api.openai.com/v1/chat/completions\u001B[0m \u001B[32m\"HTTP/1.1 200 OK\"\u001B[0m           \u001B[2m               \u001B[0m\n"
      ],
      "text/html": [
       "<pre style=\"white-space:pre;overflow-x:auto;line-height:normal;font-family:Menlo,'DejaVu Sans Mono',consolas,'Courier New',monospace\"><span style=\"color: #7fbfbf; text-decoration-color: #7fbfbf\">                    </span><span style=\"color: #000080; text-decoration-color: #000080\">INFO    </span> <span style=\"font-weight: bold\">[</span>_client.py:<span style=\"color: #008080; text-decoration-color: #008080; font-weight: bold\">1773</span><span style=\"font-weight: bold\">]</span> &gt;&gt; HTTP Request: <span style=\"color: #808000; text-decoration-color: #808000; font-weight: bold\">POST</span>                                <a href=\"file:///Users/kimbwook/PycharmProjects/fast-campus/venv/lib/python3.10/site-packages/httpx/_client.py\" target=\"_blank\"><span style=\"color: #7f7f7f; text-decoration-color: #7f7f7f\">_client.py</span></a><span style=\"color: #7f7f7f; text-decoration-color: #7f7f7f\">:</span><a href=\"file:///Users/kimbwook/PycharmProjects/fast-campus/venv/lib/python3.10/site-packages/httpx/_client.py#1773\" target=\"_blank\"><span style=\"color: #7f7f7f; text-decoration-color: #7f7f7f\">1773</span></a>\n",
       "<span style=\"color: #7fbfbf; text-decoration-color: #7fbfbf\">                    </span>         <span style=\"color: #0000ff; text-decoration-color: #0000ff; text-decoration: underline\">https://api.openai.com/v1/chat/completions</span> <span style=\"color: #008000; text-decoration-color: #008000\">\"HTTP/1.1 200 OK\"</span>           <span style=\"color: #7f7f7f; text-decoration-color: #7f7f7f\">               </span>\n",
       "</pre>\n"
      ]
     },
     "metadata": {},
     "output_type": "display_data"
    },
    {
     "data": {
      "text/plain": [
       "\u001B[2;36m                   \u001B[0m\u001B[2;36m \u001B[0m\u001B[34mINFO    \u001B[0m \u001B[1m[\u001B[0m_client.py:\u001B[1;36m1773\u001B[0m\u001B[1m]\u001B[0m >> HTTP Request: \u001B[1;33mPOST\u001B[0m                                \u001B]8;id=821425;file:///Users/kimbwook/PycharmProjects/fast-campus/venv/lib/python3.10/site-packages/httpx/_client.py\u001B\\\u001B[2m_client.py\u001B[0m\u001B]8;;\u001B\\\u001B[2m:\u001B[0m\u001B]8;id=554018;file:///Users/kimbwook/PycharmProjects/fast-campus/venv/lib/python3.10/site-packages/httpx/_client.py#1773\u001B\\\u001B[2m1773\u001B[0m\u001B]8;;\u001B\\\n",
       "\u001B[2;36m                    \u001B[0m         \u001B[4;94mhttps://api.openai.com/v1/chat/completions\u001B[0m \u001B[32m\"HTTP/1.1 200 OK\"\u001B[0m           \u001B[2m               \u001B[0m\n"
      ],
      "text/html": [
       "<pre style=\"white-space:pre;overflow-x:auto;line-height:normal;font-family:Menlo,'DejaVu Sans Mono',consolas,'Courier New',monospace\"><span style=\"color: #7fbfbf; text-decoration-color: #7fbfbf\">                    </span><span style=\"color: #000080; text-decoration-color: #000080\">INFO    </span> <span style=\"font-weight: bold\">[</span>_client.py:<span style=\"color: #008080; text-decoration-color: #008080; font-weight: bold\">1773</span><span style=\"font-weight: bold\">]</span> &gt;&gt; HTTP Request: <span style=\"color: #808000; text-decoration-color: #808000; font-weight: bold\">POST</span>                                <a href=\"file:///Users/kimbwook/PycharmProjects/fast-campus/venv/lib/python3.10/site-packages/httpx/_client.py\" target=\"_blank\"><span style=\"color: #7f7f7f; text-decoration-color: #7f7f7f\">_client.py</span></a><span style=\"color: #7f7f7f; text-decoration-color: #7f7f7f\">:</span><a href=\"file:///Users/kimbwook/PycharmProjects/fast-campus/venv/lib/python3.10/site-packages/httpx/_client.py#1773\" target=\"_blank\"><span style=\"color: #7f7f7f; text-decoration-color: #7f7f7f\">1773</span></a>\n",
       "<span style=\"color: #7fbfbf; text-decoration-color: #7fbfbf\">                    </span>         <span style=\"color: #0000ff; text-decoration-color: #0000ff; text-decoration: underline\">https://api.openai.com/v1/chat/completions</span> <span style=\"color: #008000; text-decoration-color: #008000\">\"HTTP/1.1 200 OK\"</span>           <span style=\"color: #7f7f7f; text-decoration-color: #7f7f7f\">               </span>\n",
       "</pre>\n"
      ]
     },
     "metadata": {},
     "output_type": "display_data"
    },
    {
     "data": {
      "text/plain": [
       "\u001B[2;36m                   \u001B[0m\u001B[2;36m \u001B[0m\u001B[34mINFO    \u001B[0m \u001B[1m[\u001B[0m_client.py:\u001B[1;36m1773\u001B[0m\u001B[1m]\u001B[0m >> HTTP Request: \u001B[1;33mPOST\u001B[0m                                \u001B]8;id=52032;file:///Users/kimbwook/PycharmProjects/fast-campus/venv/lib/python3.10/site-packages/httpx/_client.py\u001B\\\u001B[2m_client.py\u001B[0m\u001B]8;;\u001B\\\u001B[2m:\u001B[0m\u001B]8;id=479813;file:///Users/kimbwook/PycharmProjects/fast-campus/venv/lib/python3.10/site-packages/httpx/_client.py#1773\u001B\\\u001B[2m1773\u001B[0m\u001B]8;;\u001B\\\n",
       "\u001B[2;36m                    \u001B[0m         \u001B[4;94mhttps://api.openai.com/v1/chat/completions\u001B[0m \u001B[32m\"HTTP/1.1 200 OK\"\u001B[0m           \u001B[2m               \u001B[0m\n"
      ],
      "text/html": [
       "<pre style=\"white-space:pre;overflow-x:auto;line-height:normal;font-family:Menlo,'DejaVu Sans Mono',consolas,'Courier New',monospace\"><span style=\"color: #7fbfbf; text-decoration-color: #7fbfbf\">                    </span><span style=\"color: #000080; text-decoration-color: #000080\">INFO    </span> <span style=\"font-weight: bold\">[</span>_client.py:<span style=\"color: #008080; text-decoration-color: #008080; font-weight: bold\">1773</span><span style=\"font-weight: bold\">]</span> &gt;&gt; HTTP Request: <span style=\"color: #808000; text-decoration-color: #808000; font-weight: bold\">POST</span>                                <a href=\"file:///Users/kimbwook/PycharmProjects/fast-campus/venv/lib/python3.10/site-packages/httpx/_client.py\" target=\"_blank\"><span style=\"color: #7f7f7f; text-decoration-color: #7f7f7f\">_client.py</span></a><span style=\"color: #7f7f7f; text-decoration-color: #7f7f7f\">:</span><a href=\"file:///Users/kimbwook/PycharmProjects/fast-campus/venv/lib/python3.10/site-packages/httpx/_client.py#1773\" target=\"_blank\"><span style=\"color: #7f7f7f; text-decoration-color: #7f7f7f\">1773</span></a>\n",
       "<span style=\"color: #7fbfbf; text-decoration-color: #7fbfbf\">                    </span>         <span style=\"color: #0000ff; text-decoration-color: #0000ff; text-decoration: underline\">https://api.openai.com/v1/chat/completions</span> <span style=\"color: #008000; text-decoration-color: #008000\">\"HTTP/1.1 200 OK\"</span>           <span style=\"color: #7f7f7f; text-decoration-color: #7f7f7f\">               </span>\n",
       "</pre>\n"
      ]
     },
     "metadata": {},
     "output_type": "display_data"
    },
    {
     "data": {
      "text/plain": [
       "\u001B[2;36m                   \u001B[0m\u001B[2;36m \u001B[0m\u001B[34mINFO    \u001B[0m \u001B[1m[\u001B[0m_client.py:\u001B[1;36m1773\u001B[0m\u001B[1m]\u001B[0m >> HTTP Request: \u001B[1;33mPOST\u001B[0m                                \u001B]8;id=115922;file:///Users/kimbwook/PycharmProjects/fast-campus/venv/lib/python3.10/site-packages/httpx/_client.py\u001B\\\u001B[2m_client.py\u001B[0m\u001B]8;;\u001B\\\u001B[2m:\u001B[0m\u001B]8;id=438427;file:///Users/kimbwook/PycharmProjects/fast-campus/venv/lib/python3.10/site-packages/httpx/_client.py#1773\u001B\\\u001B[2m1773\u001B[0m\u001B]8;;\u001B\\\n",
       "\u001B[2;36m                    \u001B[0m         \u001B[4;94mhttps://api.openai.com/v1/chat/completions\u001B[0m \u001B[32m\"HTTP/1.1 200 OK\"\u001B[0m           \u001B[2m               \u001B[0m\n"
      ],
      "text/html": [
       "<pre style=\"white-space:pre;overflow-x:auto;line-height:normal;font-family:Menlo,'DejaVu Sans Mono',consolas,'Courier New',monospace\"><span style=\"color: #7fbfbf; text-decoration-color: #7fbfbf\">                    </span><span style=\"color: #000080; text-decoration-color: #000080\">INFO    </span> <span style=\"font-weight: bold\">[</span>_client.py:<span style=\"color: #008080; text-decoration-color: #008080; font-weight: bold\">1773</span><span style=\"font-weight: bold\">]</span> &gt;&gt; HTTP Request: <span style=\"color: #808000; text-decoration-color: #808000; font-weight: bold\">POST</span>                                <a href=\"file:///Users/kimbwook/PycharmProjects/fast-campus/venv/lib/python3.10/site-packages/httpx/_client.py\" target=\"_blank\"><span style=\"color: #7f7f7f; text-decoration-color: #7f7f7f\">_client.py</span></a><span style=\"color: #7f7f7f; text-decoration-color: #7f7f7f\">:</span><a href=\"file:///Users/kimbwook/PycharmProjects/fast-campus/venv/lib/python3.10/site-packages/httpx/_client.py#1773\" target=\"_blank\"><span style=\"color: #7f7f7f; text-decoration-color: #7f7f7f\">1773</span></a>\n",
       "<span style=\"color: #7fbfbf; text-decoration-color: #7fbfbf\">                    </span>         <span style=\"color: #0000ff; text-decoration-color: #0000ff; text-decoration: underline\">https://api.openai.com/v1/chat/completions</span> <span style=\"color: #008000; text-decoration-color: #008000\">\"HTTP/1.1 200 OK\"</span>           <span style=\"color: #7f7f7f; text-decoration-color: #7f7f7f\">               </span>\n",
       "</pre>\n"
      ]
     },
     "metadata": {},
     "output_type": "display_data"
    },
    {
     "data": {
      "text/plain": [
       "\u001B[2;36m                   \u001B[0m\u001B[2;36m \u001B[0m\u001B[34mINFO    \u001B[0m \u001B[1m[\u001B[0m_client.py:\u001B[1;36m1773\u001B[0m\u001B[1m]\u001B[0m >> HTTP Request: \u001B[1;33mPOST\u001B[0m                                \u001B]8;id=748013;file:///Users/kimbwook/PycharmProjects/fast-campus/venv/lib/python3.10/site-packages/httpx/_client.py\u001B\\\u001B[2m_client.py\u001B[0m\u001B]8;;\u001B\\\u001B[2m:\u001B[0m\u001B]8;id=369820;file:///Users/kimbwook/PycharmProjects/fast-campus/venv/lib/python3.10/site-packages/httpx/_client.py#1773\u001B\\\u001B[2m1773\u001B[0m\u001B]8;;\u001B\\\n",
       "\u001B[2;36m                    \u001B[0m         \u001B[4;94mhttps://api.openai.com/v1/chat/completions\u001B[0m \u001B[32m\"HTTP/1.1 200 OK\"\u001B[0m           \u001B[2m               \u001B[0m\n"
      ],
      "text/html": [
       "<pre style=\"white-space:pre;overflow-x:auto;line-height:normal;font-family:Menlo,'DejaVu Sans Mono',consolas,'Courier New',monospace\"><span style=\"color: #7fbfbf; text-decoration-color: #7fbfbf\">                    </span><span style=\"color: #000080; text-decoration-color: #000080\">INFO    </span> <span style=\"font-weight: bold\">[</span>_client.py:<span style=\"color: #008080; text-decoration-color: #008080; font-weight: bold\">1773</span><span style=\"font-weight: bold\">]</span> &gt;&gt; HTTP Request: <span style=\"color: #808000; text-decoration-color: #808000; font-weight: bold\">POST</span>                                <a href=\"file:///Users/kimbwook/PycharmProjects/fast-campus/venv/lib/python3.10/site-packages/httpx/_client.py\" target=\"_blank\"><span style=\"color: #7f7f7f; text-decoration-color: #7f7f7f\">_client.py</span></a><span style=\"color: #7f7f7f; text-decoration-color: #7f7f7f\">:</span><a href=\"file:///Users/kimbwook/PycharmProjects/fast-campus/venv/lib/python3.10/site-packages/httpx/_client.py#1773\" target=\"_blank\"><span style=\"color: #7f7f7f; text-decoration-color: #7f7f7f\">1773</span></a>\n",
       "<span style=\"color: #7fbfbf; text-decoration-color: #7fbfbf\">                    </span>         <span style=\"color: #0000ff; text-decoration-color: #0000ff; text-decoration: underline\">https://api.openai.com/v1/chat/completions</span> <span style=\"color: #008000; text-decoration-color: #008000\">\"HTTP/1.1 200 OK\"</span>           <span style=\"color: #7f7f7f; text-decoration-color: #7f7f7f\">               </span>\n",
       "</pre>\n"
      ]
     },
     "metadata": {},
     "output_type": "display_data"
    },
    {
     "data": {
      "text/plain": [
       "\u001B[2;36m                   \u001B[0m\u001B[2;36m \u001B[0m\u001B[34mINFO    \u001B[0m \u001B[1m[\u001B[0m_client.py:\u001B[1;36m1773\u001B[0m\u001B[1m]\u001B[0m >> HTTP Request: \u001B[1;33mPOST\u001B[0m                                \u001B]8;id=556692;file:///Users/kimbwook/PycharmProjects/fast-campus/venv/lib/python3.10/site-packages/httpx/_client.py\u001B\\\u001B[2m_client.py\u001B[0m\u001B]8;;\u001B\\\u001B[2m:\u001B[0m\u001B]8;id=525105;file:///Users/kimbwook/PycharmProjects/fast-campus/venv/lib/python3.10/site-packages/httpx/_client.py#1773\u001B\\\u001B[2m1773\u001B[0m\u001B]8;;\u001B\\\n",
       "\u001B[2;36m                    \u001B[0m         \u001B[4;94mhttps://api.openai.com/v1/chat/completions\u001B[0m \u001B[32m\"HTTP/1.1 200 OK\"\u001B[0m           \u001B[2m               \u001B[0m\n"
      ],
      "text/html": [
       "<pre style=\"white-space:pre;overflow-x:auto;line-height:normal;font-family:Menlo,'DejaVu Sans Mono',consolas,'Courier New',monospace\"><span style=\"color: #7fbfbf; text-decoration-color: #7fbfbf\">                    </span><span style=\"color: #000080; text-decoration-color: #000080\">INFO    </span> <span style=\"font-weight: bold\">[</span>_client.py:<span style=\"color: #008080; text-decoration-color: #008080; font-weight: bold\">1773</span><span style=\"font-weight: bold\">]</span> &gt;&gt; HTTP Request: <span style=\"color: #808000; text-decoration-color: #808000; font-weight: bold\">POST</span>                                <a href=\"file:///Users/kimbwook/PycharmProjects/fast-campus/venv/lib/python3.10/site-packages/httpx/_client.py\" target=\"_blank\"><span style=\"color: #7f7f7f; text-decoration-color: #7f7f7f\">_client.py</span></a><span style=\"color: #7f7f7f; text-decoration-color: #7f7f7f\">:</span><a href=\"file:///Users/kimbwook/PycharmProjects/fast-campus/venv/lib/python3.10/site-packages/httpx/_client.py#1773\" target=\"_blank\"><span style=\"color: #7f7f7f; text-decoration-color: #7f7f7f\">1773</span></a>\n",
       "<span style=\"color: #7fbfbf; text-decoration-color: #7fbfbf\">                    </span>         <span style=\"color: #0000ff; text-decoration-color: #0000ff; text-decoration: underline\">https://api.openai.com/v1/chat/completions</span> <span style=\"color: #008000; text-decoration-color: #008000\">\"HTTP/1.1 200 OK\"</span>           <span style=\"color: #7f7f7f; text-decoration-color: #7f7f7f\">               </span>\n",
       "</pre>\n"
      ]
     },
     "metadata": {},
     "output_type": "display_data"
    },
    {
     "data": {
      "text/plain": [
       "\u001B[2;36m                   \u001B[0m\u001B[2;36m \u001B[0m\u001B[34mINFO    \u001B[0m \u001B[1m[\u001B[0m_client.py:\u001B[1;36m1773\u001B[0m\u001B[1m]\u001B[0m >> HTTP Request: \u001B[1;33mPOST\u001B[0m                                \u001B]8;id=593104;file:///Users/kimbwook/PycharmProjects/fast-campus/venv/lib/python3.10/site-packages/httpx/_client.py\u001B\\\u001B[2m_client.py\u001B[0m\u001B]8;;\u001B\\\u001B[2m:\u001B[0m\u001B]8;id=887229;file:///Users/kimbwook/PycharmProjects/fast-campus/venv/lib/python3.10/site-packages/httpx/_client.py#1773\u001B\\\u001B[2m1773\u001B[0m\u001B]8;;\u001B\\\n",
       "\u001B[2;36m                    \u001B[0m         \u001B[4;94mhttps://api.openai.com/v1/chat/completions\u001B[0m \u001B[32m\"HTTP/1.1 200 OK\"\u001B[0m           \u001B[2m               \u001B[0m\n"
      ],
      "text/html": [
       "<pre style=\"white-space:pre;overflow-x:auto;line-height:normal;font-family:Menlo,'DejaVu Sans Mono',consolas,'Courier New',monospace\"><span style=\"color: #7fbfbf; text-decoration-color: #7fbfbf\">                    </span><span style=\"color: #000080; text-decoration-color: #000080\">INFO    </span> <span style=\"font-weight: bold\">[</span>_client.py:<span style=\"color: #008080; text-decoration-color: #008080; font-weight: bold\">1773</span><span style=\"font-weight: bold\">]</span> &gt;&gt; HTTP Request: <span style=\"color: #808000; text-decoration-color: #808000; font-weight: bold\">POST</span>                                <a href=\"file:///Users/kimbwook/PycharmProjects/fast-campus/venv/lib/python3.10/site-packages/httpx/_client.py\" target=\"_blank\"><span style=\"color: #7f7f7f; text-decoration-color: #7f7f7f\">_client.py</span></a><span style=\"color: #7f7f7f; text-decoration-color: #7f7f7f\">:</span><a href=\"file:///Users/kimbwook/PycharmProjects/fast-campus/venv/lib/python3.10/site-packages/httpx/_client.py#1773\" target=\"_blank\"><span style=\"color: #7f7f7f; text-decoration-color: #7f7f7f\">1773</span></a>\n",
       "<span style=\"color: #7fbfbf; text-decoration-color: #7fbfbf\">                    </span>         <span style=\"color: #0000ff; text-decoration-color: #0000ff; text-decoration: underline\">https://api.openai.com/v1/chat/completions</span> <span style=\"color: #008000; text-decoration-color: #008000\">\"HTTP/1.1 200 OK\"</span>           <span style=\"color: #7f7f7f; text-decoration-color: #7f7f7f\">               </span>\n",
       "</pre>\n"
      ]
     },
     "metadata": {},
     "output_type": "display_data"
    },
    {
     "data": {
      "text/plain": [
       "\u001B[2;36m                   \u001B[0m\u001B[2;36m \u001B[0m\u001B[34mINFO    \u001B[0m \u001B[1m[\u001B[0m_client.py:\u001B[1;36m1773\u001B[0m\u001B[1m]\u001B[0m >> HTTP Request: \u001B[1;33mPOST\u001B[0m                                \u001B]8;id=443567;file:///Users/kimbwook/PycharmProjects/fast-campus/venv/lib/python3.10/site-packages/httpx/_client.py\u001B\\\u001B[2m_client.py\u001B[0m\u001B]8;;\u001B\\\u001B[2m:\u001B[0m\u001B]8;id=859863;file:///Users/kimbwook/PycharmProjects/fast-campus/venv/lib/python3.10/site-packages/httpx/_client.py#1773\u001B\\\u001B[2m1773\u001B[0m\u001B]8;;\u001B\\\n",
       "\u001B[2;36m                    \u001B[0m         \u001B[4;94mhttps://api.openai.com/v1/chat/completions\u001B[0m \u001B[32m\"HTTP/1.1 200 OK\"\u001B[0m           \u001B[2m               \u001B[0m\n"
      ],
      "text/html": [
       "<pre style=\"white-space:pre;overflow-x:auto;line-height:normal;font-family:Menlo,'DejaVu Sans Mono',consolas,'Courier New',monospace\"><span style=\"color: #7fbfbf; text-decoration-color: #7fbfbf\">                    </span><span style=\"color: #000080; text-decoration-color: #000080\">INFO    </span> <span style=\"font-weight: bold\">[</span>_client.py:<span style=\"color: #008080; text-decoration-color: #008080; font-weight: bold\">1773</span><span style=\"font-weight: bold\">]</span> &gt;&gt; HTTP Request: <span style=\"color: #808000; text-decoration-color: #808000; font-weight: bold\">POST</span>                                <a href=\"file:///Users/kimbwook/PycharmProjects/fast-campus/venv/lib/python3.10/site-packages/httpx/_client.py\" target=\"_blank\"><span style=\"color: #7f7f7f; text-decoration-color: #7f7f7f\">_client.py</span></a><span style=\"color: #7f7f7f; text-decoration-color: #7f7f7f\">:</span><a href=\"file:///Users/kimbwook/PycharmProjects/fast-campus/venv/lib/python3.10/site-packages/httpx/_client.py#1773\" target=\"_blank\"><span style=\"color: #7f7f7f; text-decoration-color: #7f7f7f\">1773</span></a>\n",
       "<span style=\"color: #7fbfbf; text-decoration-color: #7fbfbf\">                    </span>         <span style=\"color: #0000ff; text-decoration-color: #0000ff; text-decoration: underline\">https://api.openai.com/v1/chat/completions</span> <span style=\"color: #008000; text-decoration-color: #008000\">\"HTTP/1.1 200 OK\"</span>           <span style=\"color: #7f7f7f; text-decoration-color: #7f7f7f\">               </span>\n",
       "</pre>\n"
      ]
     },
     "metadata": {},
     "output_type": "display_data"
    },
    {
     "data": {
      "text/plain": [
       "\u001B[2;36m                   \u001B[0m\u001B[2;36m \u001B[0m\u001B[34mINFO    \u001B[0m \u001B[1m[\u001B[0m_client.py:\u001B[1;36m1773\u001B[0m\u001B[1m]\u001B[0m >> HTTP Request: \u001B[1;33mPOST\u001B[0m                                \u001B]8;id=11869;file:///Users/kimbwook/PycharmProjects/fast-campus/venv/lib/python3.10/site-packages/httpx/_client.py\u001B\\\u001B[2m_client.py\u001B[0m\u001B]8;;\u001B\\\u001B[2m:\u001B[0m\u001B]8;id=969654;file:///Users/kimbwook/PycharmProjects/fast-campus/venv/lib/python3.10/site-packages/httpx/_client.py#1773\u001B\\\u001B[2m1773\u001B[0m\u001B]8;;\u001B\\\n",
       "\u001B[2;36m                    \u001B[0m         \u001B[4;94mhttps://api.openai.com/v1/chat/completions\u001B[0m \u001B[32m\"HTTP/1.1 200 OK\"\u001B[0m           \u001B[2m               \u001B[0m\n"
      ],
      "text/html": [
       "<pre style=\"white-space:pre;overflow-x:auto;line-height:normal;font-family:Menlo,'DejaVu Sans Mono',consolas,'Courier New',monospace\"><span style=\"color: #7fbfbf; text-decoration-color: #7fbfbf\">                    </span><span style=\"color: #000080; text-decoration-color: #000080\">INFO    </span> <span style=\"font-weight: bold\">[</span>_client.py:<span style=\"color: #008080; text-decoration-color: #008080; font-weight: bold\">1773</span><span style=\"font-weight: bold\">]</span> &gt;&gt; HTTP Request: <span style=\"color: #808000; text-decoration-color: #808000; font-weight: bold\">POST</span>                                <a href=\"file:///Users/kimbwook/PycharmProjects/fast-campus/venv/lib/python3.10/site-packages/httpx/_client.py\" target=\"_blank\"><span style=\"color: #7f7f7f; text-decoration-color: #7f7f7f\">_client.py</span></a><span style=\"color: #7f7f7f; text-decoration-color: #7f7f7f\">:</span><a href=\"file:///Users/kimbwook/PycharmProjects/fast-campus/venv/lib/python3.10/site-packages/httpx/_client.py#1773\" target=\"_blank\"><span style=\"color: #7f7f7f; text-decoration-color: #7f7f7f\">1773</span></a>\n",
       "<span style=\"color: #7fbfbf; text-decoration-color: #7fbfbf\">                    </span>         <span style=\"color: #0000ff; text-decoration-color: #0000ff; text-decoration: underline\">https://api.openai.com/v1/chat/completions</span> <span style=\"color: #008000; text-decoration-color: #008000\">\"HTTP/1.1 200 OK\"</span>           <span style=\"color: #7f7f7f; text-decoration-color: #7f7f7f\">               </span>\n",
       "</pre>\n"
      ]
     },
     "metadata": {},
     "output_type": "display_data"
    },
    {
     "data": {
      "text/plain": [
       "\u001B[2;36m                   \u001B[0m\u001B[2;36m \u001B[0m\u001B[34mINFO    \u001B[0m \u001B[1m[\u001B[0m_client.py:\u001B[1;36m1773\u001B[0m\u001B[1m]\u001B[0m >> HTTP Request: \u001B[1;33mPOST\u001B[0m                                \u001B]8;id=569893;file:///Users/kimbwook/PycharmProjects/fast-campus/venv/lib/python3.10/site-packages/httpx/_client.py\u001B\\\u001B[2m_client.py\u001B[0m\u001B]8;;\u001B\\\u001B[2m:\u001B[0m\u001B]8;id=730105;file:///Users/kimbwook/PycharmProjects/fast-campus/venv/lib/python3.10/site-packages/httpx/_client.py#1773\u001B\\\u001B[2m1773\u001B[0m\u001B]8;;\u001B\\\n",
       "\u001B[2;36m                    \u001B[0m         \u001B[4;94mhttps://api.openai.com/v1/chat/completions\u001B[0m \u001B[32m\"HTTP/1.1 200 OK\"\u001B[0m           \u001B[2m               \u001B[0m\n"
      ],
      "text/html": [
       "<pre style=\"white-space:pre;overflow-x:auto;line-height:normal;font-family:Menlo,'DejaVu Sans Mono',consolas,'Courier New',monospace\"><span style=\"color: #7fbfbf; text-decoration-color: #7fbfbf\">                    </span><span style=\"color: #000080; text-decoration-color: #000080\">INFO    </span> <span style=\"font-weight: bold\">[</span>_client.py:<span style=\"color: #008080; text-decoration-color: #008080; font-weight: bold\">1773</span><span style=\"font-weight: bold\">]</span> &gt;&gt; HTTP Request: <span style=\"color: #808000; text-decoration-color: #808000; font-weight: bold\">POST</span>                                <a href=\"file:///Users/kimbwook/PycharmProjects/fast-campus/venv/lib/python3.10/site-packages/httpx/_client.py\" target=\"_blank\"><span style=\"color: #7f7f7f; text-decoration-color: #7f7f7f\">_client.py</span></a><span style=\"color: #7f7f7f; text-decoration-color: #7f7f7f\">:</span><a href=\"file:///Users/kimbwook/PycharmProjects/fast-campus/venv/lib/python3.10/site-packages/httpx/_client.py#1773\" target=\"_blank\"><span style=\"color: #7f7f7f; text-decoration-color: #7f7f7f\">1773</span></a>\n",
       "<span style=\"color: #7fbfbf; text-decoration-color: #7fbfbf\">                    </span>         <span style=\"color: #0000ff; text-decoration-color: #0000ff; text-decoration: underline\">https://api.openai.com/v1/chat/completions</span> <span style=\"color: #008000; text-decoration-color: #008000\">\"HTTP/1.1 200 OK\"</span>           <span style=\"color: #7f7f7f; text-decoration-color: #7f7f7f\">               </span>\n",
       "</pre>\n"
      ]
     },
     "metadata": {},
     "output_type": "display_data"
    },
    {
     "data": {
      "text/plain": [
       "\u001B[2;36m                   \u001B[0m\u001B[2;36m \u001B[0m\u001B[34mINFO    \u001B[0m \u001B[1m[\u001B[0m_client.py:\u001B[1;36m1773\u001B[0m\u001B[1m]\u001B[0m >> HTTP Request: \u001B[1;33mPOST\u001B[0m                                \u001B]8;id=705462;file:///Users/kimbwook/PycharmProjects/fast-campus/venv/lib/python3.10/site-packages/httpx/_client.py\u001B\\\u001B[2m_client.py\u001B[0m\u001B]8;;\u001B\\\u001B[2m:\u001B[0m\u001B]8;id=321767;file:///Users/kimbwook/PycharmProjects/fast-campus/venv/lib/python3.10/site-packages/httpx/_client.py#1773\u001B\\\u001B[2m1773\u001B[0m\u001B]8;;\u001B\\\n",
       "\u001B[2;36m                    \u001B[0m         \u001B[4;94mhttps://api.openai.com/v1/chat/completions\u001B[0m \u001B[32m\"HTTP/1.1 200 OK\"\u001B[0m           \u001B[2m               \u001B[0m\n"
      ],
      "text/html": [
       "<pre style=\"white-space:pre;overflow-x:auto;line-height:normal;font-family:Menlo,'DejaVu Sans Mono',consolas,'Courier New',monospace\"><span style=\"color: #7fbfbf; text-decoration-color: #7fbfbf\">                    </span><span style=\"color: #000080; text-decoration-color: #000080\">INFO    </span> <span style=\"font-weight: bold\">[</span>_client.py:<span style=\"color: #008080; text-decoration-color: #008080; font-weight: bold\">1773</span><span style=\"font-weight: bold\">]</span> &gt;&gt; HTTP Request: <span style=\"color: #808000; text-decoration-color: #808000; font-weight: bold\">POST</span>                                <a href=\"file:///Users/kimbwook/PycharmProjects/fast-campus/venv/lib/python3.10/site-packages/httpx/_client.py\" target=\"_blank\"><span style=\"color: #7f7f7f; text-decoration-color: #7f7f7f\">_client.py</span></a><span style=\"color: #7f7f7f; text-decoration-color: #7f7f7f\">:</span><a href=\"file:///Users/kimbwook/PycharmProjects/fast-campus/venv/lib/python3.10/site-packages/httpx/_client.py#1773\" target=\"_blank\"><span style=\"color: #7f7f7f; text-decoration-color: #7f7f7f\">1773</span></a>\n",
       "<span style=\"color: #7fbfbf; text-decoration-color: #7fbfbf\">                    </span>         <span style=\"color: #0000ff; text-decoration-color: #0000ff; text-decoration: underline\">https://api.openai.com/v1/chat/completions</span> <span style=\"color: #008000; text-decoration-color: #008000\">\"HTTP/1.1 200 OK\"</span>           <span style=\"color: #7f7f7f; text-decoration-color: #7f7f7f\">               </span>\n",
       "</pre>\n"
      ]
     },
     "metadata": {},
     "output_type": "display_data"
    },
    {
     "data": {
      "text/plain": [
       "\u001B[2;36m                   \u001B[0m\u001B[2;36m \u001B[0m\u001B[34mINFO    \u001B[0m \u001B[1m[\u001B[0m_client.py:\u001B[1;36m1773\u001B[0m\u001B[1m]\u001B[0m >> HTTP Request: \u001B[1;33mPOST\u001B[0m                                \u001B]8;id=339542;file:///Users/kimbwook/PycharmProjects/fast-campus/venv/lib/python3.10/site-packages/httpx/_client.py\u001B\\\u001B[2m_client.py\u001B[0m\u001B]8;;\u001B\\\u001B[2m:\u001B[0m\u001B]8;id=570673;file:///Users/kimbwook/PycharmProjects/fast-campus/venv/lib/python3.10/site-packages/httpx/_client.py#1773\u001B\\\u001B[2m1773\u001B[0m\u001B]8;;\u001B\\\n",
       "\u001B[2;36m                    \u001B[0m         \u001B[4;94mhttps://api.openai.com/v1/chat/completions\u001B[0m \u001B[32m\"HTTP/1.1 200 OK\"\u001B[0m           \u001B[2m               \u001B[0m\n"
      ],
      "text/html": [
       "<pre style=\"white-space:pre;overflow-x:auto;line-height:normal;font-family:Menlo,'DejaVu Sans Mono',consolas,'Courier New',monospace\"><span style=\"color: #7fbfbf; text-decoration-color: #7fbfbf\">                    </span><span style=\"color: #000080; text-decoration-color: #000080\">INFO    </span> <span style=\"font-weight: bold\">[</span>_client.py:<span style=\"color: #008080; text-decoration-color: #008080; font-weight: bold\">1773</span><span style=\"font-weight: bold\">]</span> &gt;&gt; HTTP Request: <span style=\"color: #808000; text-decoration-color: #808000; font-weight: bold\">POST</span>                                <a href=\"file:///Users/kimbwook/PycharmProjects/fast-campus/venv/lib/python3.10/site-packages/httpx/_client.py\" target=\"_blank\"><span style=\"color: #7f7f7f; text-decoration-color: #7f7f7f\">_client.py</span></a><span style=\"color: #7f7f7f; text-decoration-color: #7f7f7f\">:</span><a href=\"file:///Users/kimbwook/PycharmProjects/fast-campus/venv/lib/python3.10/site-packages/httpx/_client.py#1773\" target=\"_blank\"><span style=\"color: #7f7f7f; text-decoration-color: #7f7f7f\">1773</span></a>\n",
       "<span style=\"color: #7fbfbf; text-decoration-color: #7fbfbf\">                    </span>         <span style=\"color: #0000ff; text-decoration-color: #0000ff; text-decoration: underline\">https://api.openai.com/v1/chat/completions</span> <span style=\"color: #008000; text-decoration-color: #008000\">\"HTTP/1.1 200 OK\"</span>           <span style=\"color: #7f7f7f; text-decoration-color: #7f7f7f\">               </span>\n",
       "</pre>\n"
      ]
     },
     "metadata": {},
     "output_type": "display_data"
    },
    {
     "data": {
      "text/plain": [
       "\u001B[2;36m[01/30/25 13:42:00]\u001B[0m\u001B[2;36m \u001B[0m\u001B[34mINFO    \u001B[0m \u001B[1m[\u001B[0m_client.py:\u001B[1;36m1773\u001B[0m\u001B[1m]\u001B[0m >> HTTP Request: \u001B[1;33mPOST\u001B[0m                                \u001B]8;id=31334;file:///Users/kimbwook/PycharmProjects/fast-campus/venv/lib/python3.10/site-packages/httpx/_client.py\u001B\\\u001B[2m_client.py\u001B[0m\u001B]8;;\u001B\\\u001B[2m:\u001B[0m\u001B]8;id=718251;file:///Users/kimbwook/PycharmProjects/fast-campus/venv/lib/python3.10/site-packages/httpx/_client.py#1773\u001B\\\u001B[2m1773\u001B[0m\u001B]8;;\u001B\\\n",
       "\u001B[2;36m                    \u001B[0m         \u001B[4;94mhttps://api.openai.com/v1/chat/completions\u001B[0m \u001B[32m\"HTTP/1.1 200 OK\"\u001B[0m           \u001B[2m               \u001B[0m\n"
      ],
      "text/html": [
       "<pre style=\"white-space:pre;overflow-x:auto;line-height:normal;font-family:Menlo,'DejaVu Sans Mono',consolas,'Courier New',monospace\"><span style=\"color: #7fbfbf; text-decoration-color: #7fbfbf\">[01/30/25 13:42:00] </span><span style=\"color: #000080; text-decoration-color: #000080\">INFO    </span> <span style=\"font-weight: bold\">[</span>_client.py:<span style=\"color: #008080; text-decoration-color: #008080; font-weight: bold\">1773</span><span style=\"font-weight: bold\">]</span> &gt;&gt; HTTP Request: <span style=\"color: #808000; text-decoration-color: #808000; font-weight: bold\">POST</span>                                <a href=\"file:///Users/kimbwook/PycharmProjects/fast-campus/venv/lib/python3.10/site-packages/httpx/_client.py\" target=\"_blank\"><span style=\"color: #7f7f7f; text-decoration-color: #7f7f7f\">_client.py</span></a><span style=\"color: #7f7f7f; text-decoration-color: #7f7f7f\">:</span><a href=\"file:///Users/kimbwook/PycharmProjects/fast-campus/venv/lib/python3.10/site-packages/httpx/_client.py#1773\" target=\"_blank\"><span style=\"color: #7f7f7f; text-decoration-color: #7f7f7f\">1773</span></a>\n",
       "<span style=\"color: #7fbfbf; text-decoration-color: #7fbfbf\">                    </span>         <span style=\"color: #0000ff; text-decoration-color: #0000ff; text-decoration: underline\">https://api.openai.com/v1/chat/completions</span> <span style=\"color: #008000; text-decoration-color: #008000\">\"HTTP/1.1 200 OK\"</span>           <span style=\"color: #7f7f7f; text-decoration-color: #7f7f7f\">               </span>\n",
       "</pre>\n"
      ]
     },
     "metadata": {},
     "output_type": "display_data"
    },
    {
     "data": {
      "text/plain": [
       "\u001B[2;36m[01/30/25 13:42:01]\u001B[0m\u001B[2;36m \u001B[0m\u001B[34mINFO    \u001B[0m \u001B[1m[\u001B[0m_client.py:\u001B[1;36m1773\u001B[0m\u001B[1m]\u001B[0m >> HTTP Request: \u001B[1;33mPOST\u001B[0m                                \u001B]8;id=760245;file:///Users/kimbwook/PycharmProjects/fast-campus/venv/lib/python3.10/site-packages/httpx/_client.py\u001B\\\u001B[2m_client.py\u001B[0m\u001B]8;;\u001B\\\u001B[2m:\u001B[0m\u001B]8;id=540350;file:///Users/kimbwook/PycharmProjects/fast-campus/venv/lib/python3.10/site-packages/httpx/_client.py#1773\u001B\\\u001B[2m1773\u001B[0m\u001B]8;;\u001B\\\n",
       "\u001B[2;36m                    \u001B[0m         \u001B[4;94mhttps://api.openai.com/v1/chat/completions\u001B[0m \u001B[32m\"HTTP/1.1 200 OK\"\u001B[0m           \u001B[2m               \u001B[0m\n"
      ],
      "text/html": [
       "<pre style=\"white-space:pre;overflow-x:auto;line-height:normal;font-family:Menlo,'DejaVu Sans Mono',consolas,'Courier New',monospace\"><span style=\"color: #7fbfbf; text-decoration-color: #7fbfbf\">[01/30/25 13:42:01] </span><span style=\"color: #000080; text-decoration-color: #000080\">INFO    </span> <span style=\"font-weight: bold\">[</span>_client.py:<span style=\"color: #008080; text-decoration-color: #008080; font-weight: bold\">1773</span><span style=\"font-weight: bold\">]</span> &gt;&gt; HTTP Request: <span style=\"color: #808000; text-decoration-color: #808000; font-weight: bold\">POST</span>                                <a href=\"file:///Users/kimbwook/PycharmProjects/fast-campus/venv/lib/python3.10/site-packages/httpx/_client.py\" target=\"_blank\"><span style=\"color: #7f7f7f; text-decoration-color: #7f7f7f\">_client.py</span></a><span style=\"color: #7f7f7f; text-decoration-color: #7f7f7f\">:</span><a href=\"file:///Users/kimbwook/PycharmProjects/fast-campus/venv/lib/python3.10/site-packages/httpx/_client.py#1773\" target=\"_blank\"><span style=\"color: #7f7f7f; text-decoration-color: #7f7f7f\">1773</span></a>\n",
       "<span style=\"color: #7fbfbf; text-decoration-color: #7fbfbf\">                    </span>         <span style=\"color: #0000ff; text-decoration-color: #0000ff; text-decoration: underline\">https://api.openai.com/v1/chat/completions</span> <span style=\"color: #008000; text-decoration-color: #008000\">\"HTTP/1.1 200 OK\"</span>           <span style=\"color: #7f7f7f; text-decoration-color: #7f7f7f\">               </span>\n",
       "</pre>\n"
      ]
     },
     "metadata": {},
     "output_type": "display_data"
    },
    {
     "data": {
      "text/plain": [
       "\u001B[2;36m                   \u001B[0m\u001B[2;36m \u001B[0m\u001B[34mINFO    \u001B[0m \u001B[1m[\u001B[0m_client.py:\u001B[1;36m1773\u001B[0m\u001B[1m]\u001B[0m >> HTTP Request: \u001B[1;33mPOST\u001B[0m                                \u001B]8;id=65577;file:///Users/kimbwook/PycharmProjects/fast-campus/venv/lib/python3.10/site-packages/httpx/_client.py\u001B\\\u001B[2m_client.py\u001B[0m\u001B]8;;\u001B\\\u001B[2m:\u001B[0m\u001B]8;id=234945;file:///Users/kimbwook/PycharmProjects/fast-campus/venv/lib/python3.10/site-packages/httpx/_client.py#1773\u001B\\\u001B[2m1773\u001B[0m\u001B]8;;\u001B\\\n",
       "\u001B[2;36m                    \u001B[0m         \u001B[4;94mhttps://api.openai.com/v1/chat/completions\u001B[0m \u001B[32m\"HTTP/1.1 200 OK\"\u001B[0m           \u001B[2m               \u001B[0m\n"
      ],
      "text/html": [
       "<pre style=\"white-space:pre;overflow-x:auto;line-height:normal;font-family:Menlo,'DejaVu Sans Mono',consolas,'Courier New',monospace\"><span style=\"color: #7fbfbf; text-decoration-color: #7fbfbf\">                    </span><span style=\"color: #000080; text-decoration-color: #000080\">INFO    </span> <span style=\"font-weight: bold\">[</span>_client.py:<span style=\"color: #008080; text-decoration-color: #008080; font-weight: bold\">1773</span><span style=\"font-weight: bold\">]</span> &gt;&gt; HTTP Request: <span style=\"color: #808000; text-decoration-color: #808000; font-weight: bold\">POST</span>                                <a href=\"file:///Users/kimbwook/PycharmProjects/fast-campus/venv/lib/python3.10/site-packages/httpx/_client.py\" target=\"_blank\"><span style=\"color: #7f7f7f; text-decoration-color: #7f7f7f\">_client.py</span></a><span style=\"color: #7f7f7f; text-decoration-color: #7f7f7f\">:</span><a href=\"file:///Users/kimbwook/PycharmProjects/fast-campus/venv/lib/python3.10/site-packages/httpx/_client.py#1773\" target=\"_blank\"><span style=\"color: #7f7f7f; text-decoration-color: #7f7f7f\">1773</span></a>\n",
       "<span style=\"color: #7fbfbf; text-decoration-color: #7fbfbf\">                    </span>         <span style=\"color: #0000ff; text-decoration-color: #0000ff; text-decoration: underline\">https://api.openai.com/v1/chat/completions</span> <span style=\"color: #008000; text-decoration-color: #008000\">\"HTTP/1.1 200 OK\"</span>           <span style=\"color: #7f7f7f; text-decoration-color: #7f7f7f\">               </span>\n",
       "</pre>\n"
      ]
     },
     "metadata": {},
     "output_type": "display_data"
    },
    {
     "data": {
      "text/plain": [
       "\u001B[2;36m                   \u001B[0m\u001B[2;36m \u001B[0m\u001B[34mINFO    \u001B[0m \u001B[1m[\u001B[0m_client.py:\u001B[1;36m1773\u001B[0m\u001B[1m]\u001B[0m >> HTTP Request: \u001B[1;33mPOST\u001B[0m                                \u001B]8;id=253802;file:///Users/kimbwook/PycharmProjects/fast-campus/venv/lib/python3.10/site-packages/httpx/_client.py\u001B\\\u001B[2m_client.py\u001B[0m\u001B]8;;\u001B\\\u001B[2m:\u001B[0m\u001B]8;id=99724;file:///Users/kimbwook/PycharmProjects/fast-campus/venv/lib/python3.10/site-packages/httpx/_client.py#1773\u001B\\\u001B[2m1773\u001B[0m\u001B]8;;\u001B\\\n",
       "\u001B[2;36m                    \u001B[0m         \u001B[4;94mhttps://api.openai.com/v1/chat/completions\u001B[0m \u001B[32m\"HTTP/1.1 200 OK\"\u001B[0m           \u001B[2m               \u001B[0m\n"
      ],
      "text/html": [
       "<pre style=\"white-space:pre;overflow-x:auto;line-height:normal;font-family:Menlo,'DejaVu Sans Mono',consolas,'Courier New',monospace\"><span style=\"color: #7fbfbf; text-decoration-color: #7fbfbf\">                    </span><span style=\"color: #000080; text-decoration-color: #000080\">INFO    </span> <span style=\"font-weight: bold\">[</span>_client.py:<span style=\"color: #008080; text-decoration-color: #008080; font-weight: bold\">1773</span><span style=\"font-weight: bold\">]</span> &gt;&gt; HTTP Request: <span style=\"color: #808000; text-decoration-color: #808000; font-weight: bold\">POST</span>                                <a href=\"file:///Users/kimbwook/PycharmProjects/fast-campus/venv/lib/python3.10/site-packages/httpx/_client.py\" target=\"_blank\"><span style=\"color: #7f7f7f; text-decoration-color: #7f7f7f\">_client.py</span></a><span style=\"color: #7f7f7f; text-decoration-color: #7f7f7f\">:</span><a href=\"file:///Users/kimbwook/PycharmProjects/fast-campus/venv/lib/python3.10/site-packages/httpx/_client.py#1773\" target=\"_blank\"><span style=\"color: #7f7f7f; text-decoration-color: #7f7f7f\">1773</span></a>\n",
       "<span style=\"color: #7fbfbf; text-decoration-color: #7fbfbf\">                    </span>         <span style=\"color: #0000ff; text-decoration-color: #0000ff; text-decoration: underline\">https://api.openai.com/v1/chat/completions</span> <span style=\"color: #008000; text-decoration-color: #008000\">\"HTTP/1.1 200 OK\"</span>           <span style=\"color: #7f7f7f; text-decoration-color: #7f7f7f\">               </span>\n",
       "</pre>\n"
      ]
     },
     "metadata": {},
     "output_type": "display_data"
    },
    {
     "data": {
      "text/plain": [
       "\u001B[2;36m[01/30/25 13:42:02]\u001B[0m\u001B[2;36m \u001B[0m\u001B[34mINFO    \u001B[0m \u001B[1m[\u001B[0m_client.py:\u001B[1;36m1773\u001B[0m\u001B[1m]\u001B[0m >> HTTP Request: \u001B[1;33mPOST\u001B[0m                                \u001B]8;id=531618;file:///Users/kimbwook/PycharmProjects/fast-campus/venv/lib/python3.10/site-packages/httpx/_client.py\u001B\\\u001B[2m_client.py\u001B[0m\u001B]8;;\u001B\\\u001B[2m:\u001B[0m\u001B]8;id=323853;file:///Users/kimbwook/PycharmProjects/fast-campus/venv/lib/python3.10/site-packages/httpx/_client.py#1773\u001B\\\u001B[2m1773\u001B[0m\u001B]8;;\u001B\\\n",
       "\u001B[2;36m                    \u001B[0m         \u001B[4;94mhttps://api.openai.com/v1/chat/completions\u001B[0m \u001B[32m\"HTTP/1.1 200 OK\"\u001B[0m           \u001B[2m               \u001B[0m\n"
      ],
      "text/html": [
       "<pre style=\"white-space:pre;overflow-x:auto;line-height:normal;font-family:Menlo,'DejaVu Sans Mono',consolas,'Courier New',monospace\"><span style=\"color: #7fbfbf; text-decoration-color: #7fbfbf\">[01/30/25 13:42:02] </span><span style=\"color: #000080; text-decoration-color: #000080\">INFO    </span> <span style=\"font-weight: bold\">[</span>_client.py:<span style=\"color: #008080; text-decoration-color: #008080; font-weight: bold\">1773</span><span style=\"font-weight: bold\">]</span> &gt;&gt; HTTP Request: <span style=\"color: #808000; text-decoration-color: #808000; font-weight: bold\">POST</span>                                <a href=\"file:///Users/kimbwook/PycharmProjects/fast-campus/venv/lib/python3.10/site-packages/httpx/_client.py\" target=\"_blank\"><span style=\"color: #7f7f7f; text-decoration-color: #7f7f7f\">_client.py</span></a><span style=\"color: #7f7f7f; text-decoration-color: #7f7f7f\">:</span><a href=\"file:///Users/kimbwook/PycharmProjects/fast-campus/venv/lib/python3.10/site-packages/httpx/_client.py#1773\" target=\"_blank\"><span style=\"color: #7f7f7f; text-decoration-color: #7f7f7f\">1773</span></a>\n",
       "<span style=\"color: #7fbfbf; text-decoration-color: #7fbfbf\">                    </span>         <span style=\"color: #0000ff; text-decoration-color: #0000ff; text-decoration: underline\">https://api.openai.com/v1/chat/completions</span> <span style=\"color: #008000; text-decoration-color: #008000\">\"HTTP/1.1 200 OK\"</span>           <span style=\"color: #7f7f7f; text-decoration-color: #7f7f7f\">               </span>\n",
       "</pre>\n"
      ]
     },
     "metadata": {},
     "output_type": "display_data"
    },
    {
     "data": {
      "text/plain": [
       "\u001B[2;36m                   \u001B[0m\u001B[2;36m \u001B[0m\u001B[34mINFO    \u001B[0m \u001B[1m[\u001B[0m_client.py:\u001B[1;36m1773\u001B[0m\u001B[1m]\u001B[0m >> HTTP Request: \u001B[1;33mPOST\u001B[0m                                \u001B]8;id=741506;file:///Users/kimbwook/PycharmProjects/fast-campus/venv/lib/python3.10/site-packages/httpx/_client.py\u001B\\\u001B[2m_client.py\u001B[0m\u001B]8;;\u001B\\\u001B[2m:\u001B[0m\u001B]8;id=708239;file:///Users/kimbwook/PycharmProjects/fast-campus/venv/lib/python3.10/site-packages/httpx/_client.py#1773\u001B\\\u001B[2m1773\u001B[0m\u001B]8;;\u001B\\\n",
       "\u001B[2;36m                    \u001B[0m         \u001B[4;94mhttps://api.openai.com/v1/chat/completions\u001B[0m \u001B[32m\"HTTP/1.1 200 OK\"\u001B[0m           \u001B[2m               \u001B[0m\n"
      ],
      "text/html": [
       "<pre style=\"white-space:pre;overflow-x:auto;line-height:normal;font-family:Menlo,'DejaVu Sans Mono',consolas,'Courier New',monospace\"><span style=\"color: #7fbfbf; text-decoration-color: #7fbfbf\">                    </span><span style=\"color: #000080; text-decoration-color: #000080\">INFO    </span> <span style=\"font-weight: bold\">[</span>_client.py:<span style=\"color: #008080; text-decoration-color: #008080; font-weight: bold\">1773</span><span style=\"font-weight: bold\">]</span> &gt;&gt; HTTP Request: <span style=\"color: #808000; text-decoration-color: #808000; font-weight: bold\">POST</span>                                <a href=\"file:///Users/kimbwook/PycharmProjects/fast-campus/venv/lib/python3.10/site-packages/httpx/_client.py\" target=\"_blank\"><span style=\"color: #7f7f7f; text-decoration-color: #7f7f7f\">_client.py</span></a><span style=\"color: #7f7f7f; text-decoration-color: #7f7f7f\">:</span><a href=\"file:///Users/kimbwook/PycharmProjects/fast-campus/venv/lib/python3.10/site-packages/httpx/_client.py#1773\" target=\"_blank\"><span style=\"color: #7f7f7f; text-decoration-color: #7f7f7f\">1773</span></a>\n",
       "<span style=\"color: #7fbfbf; text-decoration-color: #7fbfbf\">                    </span>         <span style=\"color: #0000ff; text-decoration-color: #0000ff; text-decoration: underline\">https://api.openai.com/v1/chat/completions</span> <span style=\"color: #008000; text-decoration-color: #008000\">\"HTTP/1.1 200 OK\"</span>           <span style=\"color: #7f7f7f; text-decoration-color: #7f7f7f\">               </span>\n",
       "</pre>\n"
      ]
     },
     "metadata": {},
     "output_type": "display_data"
    },
    {
     "data": {
      "text/plain": [
       "\u001B[2;36m                   \u001B[0m\u001B[2;36m \u001B[0m\u001B[34mINFO    \u001B[0m \u001B[1m[\u001B[0m_client.py:\u001B[1;36m1773\u001B[0m\u001B[1m]\u001B[0m >> HTTP Request: \u001B[1;33mPOST\u001B[0m                                \u001B]8;id=852864;file:///Users/kimbwook/PycharmProjects/fast-campus/venv/lib/python3.10/site-packages/httpx/_client.py\u001B\\\u001B[2m_client.py\u001B[0m\u001B]8;;\u001B\\\u001B[2m:\u001B[0m\u001B]8;id=365001;file:///Users/kimbwook/PycharmProjects/fast-campus/venv/lib/python3.10/site-packages/httpx/_client.py#1773\u001B\\\u001B[2m1773\u001B[0m\u001B]8;;\u001B\\\n",
       "\u001B[2;36m                    \u001B[0m         \u001B[4;94mhttps://api.openai.com/v1/chat/completions\u001B[0m \u001B[32m\"HTTP/1.1 200 OK\"\u001B[0m           \u001B[2m               \u001B[0m\n"
      ],
      "text/html": [
       "<pre style=\"white-space:pre;overflow-x:auto;line-height:normal;font-family:Menlo,'DejaVu Sans Mono',consolas,'Courier New',monospace\"><span style=\"color: #7fbfbf; text-decoration-color: #7fbfbf\">                    </span><span style=\"color: #000080; text-decoration-color: #000080\">INFO    </span> <span style=\"font-weight: bold\">[</span>_client.py:<span style=\"color: #008080; text-decoration-color: #008080; font-weight: bold\">1773</span><span style=\"font-weight: bold\">]</span> &gt;&gt; HTTP Request: <span style=\"color: #808000; text-decoration-color: #808000; font-weight: bold\">POST</span>                                <a href=\"file:///Users/kimbwook/PycharmProjects/fast-campus/venv/lib/python3.10/site-packages/httpx/_client.py\" target=\"_blank\"><span style=\"color: #7f7f7f; text-decoration-color: #7f7f7f\">_client.py</span></a><span style=\"color: #7f7f7f; text-decoration-color: #7f7f7f\">:</span><a href=\"file:///Users/kimbwook/PycharmProjects/fast-campus/venv/lib/python3.10/site-packages/httpx/_client.py#1773\" target=\"_blank\"><span style=\"color: #7f7f7f; text-decoration-color: #7f7f7f\">1773</span></a>\n",
       "<span style=\"color: #7fbfbf; text-decoration-color: #7fbfbf\">                    </span>         <span style=\"color: #0000ff; text-decoration-color: #0000ff; text-decoration: underline\">https://api.openai.com/v1/chat/completions</span> <span style=\"color: #008000; text-decoration-color: #008000\">\"HTTP/1.1 200 OK\"</span>           <span style=\"color: #7f7f7f; text-decoration-color: #7f7f7f\">               </span>\n",
       "</pre>\n"
      ]
     },
     "metadata": {},
     "output_type": "display_data"
    },
    {
     "data": {
      "text/plain": [
       "\u001B[2;36m                   \u001B[0m\u001B[2;36m \u001B[0m\u001B[34mINFO    \u001B[0m \u001B[1m[\u001B[0m_client.py:\u001B[1;36m1773\u001B[0m\u001B[1m]\u001B[0m >> HTTP Request: \u001B[1;33mPOST\u001B[0m                                \u001B]8;id=511308;file:///Users/kimbwook/PycharmProjects/fast-campus/venv/lib/python3.10/site-packages/httpx/_client.py\u001B\\\u001B[2m_client.py\u001B[0m\u001B]8;;\u001B\\\u001B[2m:\u001B[0m\u001B]8;id=866561;file:///Users/kimbwook/PycharmProjects/fast-campus/venv/lib/python3.10/site-packages/httpx/_client.py#1773\u001B\\\u001B[2m1773\u001B[0m\u001B]8;;\u001B\\\n",
       "\u001B[2;36m                    \u001B[0m         \u001B[4;94mhttps://api.openai.com/v1/chat/completions\u001B[0m \u001B[32m\"HTTP/1.1 200 OK\"\u001B[0m           \u001B[2m               \u001B[0m\n"
      ],
      "text/html": [
       "<pre style=\"white-space:pre;overflow-x:auto;line-height:normal;font-family:Menlo,'DejaVu Sans Mono',consolas,'Courier New',monospace\"><span style=\"color: #7fbfbf; text-decoration-color: #7fbfbf\">                    </span><span style=\"color: #000080; text-decoration-color: #000080\">INFO    </span> <span style=\"font-weight: bold\">[</span>_client.py:<span style=\"color: #008080; text-decoration-color: #008080; font-weight: bold\">1773</span><span style=\"font-weight: bold\">]</span> &gt;&gt; HTTP Request: <span style=\"color: #808000; text-decoration-color: #808000; font-weight: bold\">POST</span>                                <a href=\"file:///Users/kimbwook/PycharmProjects/fast-campus/venv/lib/python3.10/site-packages/httpx/_client.py\" target=\"_blank\"><span style=\"color: #7f7f7f; text-decoration-color: #7f7f7f\">_client.py</span></a><span style=\"color: #7f7f7f; text-decoration-color: #7f7f7f\">:</span><a href=\"file:///Users/kimbwook/PycharmProjects/fast-campus/venv/lib/python3.10/site-packages/httpx/_client.py#1773\" target=\"_blank\"><span style=\"color: #7f7f7f; text-decoration-color: #7f7f7f\">1773</span></a>\n",
       "<span style=\"color: #7fbfbf; text-decoration-color: #7fbfbf\">                    </span>         <span style=\"color: #0000ff; text-decoration-color: #0000ff; text-decoration: underline\">https://api.openai.com/v1/chat/completions</span> <span style=\"color: #008000; text-decoration-color: #008000\">\"HTTP/1.1 200 OK\"</span>           <span style=\"color: #7f7f7f; text-decoration-color: #7f7f7f\">               </span>\n",
       "</pre>\n"
      ]
     },
     "metadata": {},
     "output_type": "display_data"
    },
    {
     "data": {
      "text/plain": [
       "\u001B[2;36m                   \u001B[0m\u001B[2;36m \u001B[0m\u001B[34mINFO    \u001B[0m \u001B[1m[\u001B[0m_client.py:\u001B[1;36m1773\u001B[0m\u001B[1m]\u001B[0m >> HTTP Request: \u001B[1;33mPOST\u001B[0m                                \u001B]8;id=258678;file:///Users/kimbwook/PycharmProjects/fast-campus/venv/lib/python3.10/site-packages/httpx/_client.py\u001B\\\u001B[2m_client.py\u001B[0m\u001B]8;;\u001B\\\u001B[2m:\u001B[0m\u001B]8;id=88438;file:///Users/kimbwook/PycharmProjects/fast-campus/venv/lib/python3.10/site-packages/httpx/_client.py#1773\u001B\\\u001B[2m1773\u001B[0m\u001B]8;;\u001B\\\n",
       "\u001B[2;36m                    \u001B[0m         \u001B[4;94mhttps://api.openai.com/v1/chat/completions\u001B[0m \u001B[32m\"HTTP/1.1 200 OK\"\u001B[0m           \u001B[2m               \u001B[0m\n"
      ],
      "text/html": [
       "<pre style=\"white-space:pre;overflow-x:auto;line-height:normal;font-family:Menlo,'DejaVu Sans Mono',consolas,'Courier New',monospace\"><span style=\"color: #7fbfbf; text-decoration-color: #7fbfbf\">                    </span><span style=\"color: #000080; text-decoration-color: #000080\">INFO    </span> <span style=\"font-weight: bold\">[</span>_client.py:<span style=\"color: #008080; text-decoration-color: #008080; font-weight: bold\">1773</span><span style=\"font-weight: bold\">]</span> &gt;&gt; HTTP Request: <span style=\"color: #808000; text-decoration-color: #808000; font-weight: bold\">POST</span>                                <a href=\"file:///Users/kimbwook/PycharmProjects/fast-campus/venv/lib/python3.10/site-packages/httpx/_client.py\" target=\"_blank\"><span style=\"color: #7f7f7f; text-decoration-color: #7f7f7f\">_client.py</span></a><span style=\"color: #7f7f7f; text-decoration-color: #7f7f7f\">:</span><a href=\"file:///Users/kimbwook/PycharmProjects/fast-campus/venv/lib/python3.10/site-packages/httpx/_client.py#1773\" target=\"_blank\"><span style=\"color: #7f7f7f; text-decoration-color: #7f7f7f\">1773</span></a>\n",
       "<span style=\"color: #7fbfbf; text-decoration-color: #7fbfbf\">                    </span>         <span style=\"color: #0000ff; text-decoration-color: #0000ff; text-decoration: underline\">https://api.openai.com/v1/chat/completions</span> <span style=\"color: #008000; text-decoration-color: #008000\">\"HTTP/1.1 200 OK\"</span>           <span style=\"color: #7f7f7f; text-decoration-color: #7f7f7f\">               </span>\n",
       "</pre>\n"
      ]
     },
     "metadata": {},
     "output_type": "display_data"
    },
    {
     "data": {
      "text/plain": [
       "\u001B[2;36m                   \u001B[0m\u001B[2;36m \u001B[0m\u001B[34mINFO    \u001B[0m \u001B[1m[\u001B[0m_client.py:\u001B[1;36m1773\u001B[0m\u001B[1m]\u001B[0m >> HTTP Request: \u001B[1;33mPOST\u001B[0m                                \u001B]8;id=725507;file:///Users/kimbwook/PycharmProjects/fast-campus/venv/lib/python3.10/site-packages/httpx/_client.py\u001B\\\u001B[2m_client.py\u001B[0m\u001B]8;;\u001B\\\u001B[2m:\u001B[0m\u001B]8;id=980229;file:///Users/kimbwook/PycharmProjects/fast-campus/venv/lib/python3.10/site-packages/httpx/_client.py#1773\u001B\\\u001B[2m1773\u001B[0m\u001B]8;;\u001B\\\n",
       "\u001B[2;36m                    \u001B[0m         \u001B[4;94mhttps://api.openai.com/v1/chat/completions\u001B[0m \u001B[32m\"HTTP/1.1 200 OK\"\u001B[0m           \u001B[2m               \u001B[0m\n"
      ],
      "text/html": [
       "<pre style=\"white-space:pre;overflow-x:auto;line-height:normal;font-family:Menlo,'DejaVu Sans Mono',consolas,'Courier New',monospace\"><span style=\"color: #7fbfbf; text-decoration-color: #7fbfbf\">                    </span><span style=\"color: #000080; text-decoration-color: #000080\">INFO    </span> <span style=\"font-weight: bold\">[</span>_client.py:<span style=\"color: #008080; text-decoration-color: #008080; font-weight: bold\">1773</span><span style=\"font-weight: bold\">]</span> &gt;&gt; HTTP Request: <span style=\"color: #808000; text-decoration-color: #808000; font-weight: bold\">POST</span>                                <a href=\"file:///Users/kimbwook/PycharmProjects/fast-campus/venv/lib/python3.10/site-packages/httpx/_client.py\" target=\"_blank\"><span style=\"color: #7f7f7f; text-decoration-color: #7f7f7f\">_client.py</span></a><span style=\"color: #7f7f7f; text-decoration-color: #7f7f7f\">:</span><a href=\"file:///Users/kimbwook/PycharmProjects/fast-campus/venv/lib/python3.10/site-packages/httpx/_client.py#1773\" target=\"_blank\"><span style=\"color: #7f7f7f; text-decoration-color: #7f7f7f\">1773</span></a>\n",
       "<span style=\"color: #7fbfbf; text-decoration-color: #7fbfbf\">                    </span>         <span style=\"color: #0000ff; text-decoration-color: #0000ff; text-decoration: underline\">https://api.openai.com/v1/chat/completions</span> <span style=\"color: #008000; text-decoration-color: #008000\">\"HTTP/1.1 200 OK\"</span>           <span style=\"color: #7f7f7f; text-decoration-color: #7f7f7f\">               </span>\n",
       "</pre>\n"
      ]
     },
     "metadata": {},
     "output_type": "display_data"
    },
    {
     "data": {
      "text/plain": [
       "\u001B[2;36m                   \u001B[0m\u001B[2;36m \u001B[0m\u001B[34mINFO    \u001B[0m \u001B[1m[\u001B[0m_client.py:\u001B[1;36m1773\u001B[0m\u001B[1m]\u001B[0m >> HTTP Request: \u001B[1;33mPOST\u001B[0m                                \u001B]8;id=411093;file:///Users/kimbwook/PycharmProjects/fast-campus/venv/lib/python3.10/site-packages/httpx/_client.py\u001B\\\u001B[2m_client.py\u001B[0m\u001B]8;;\u001B\\\u001B[2m:\u001B[0m\u001B]8;id=641703;file:///Users/kimbwook/PycharmProjects/fast-campus/venv/lib/python3.10/site-packages/httpx/_client.py#1773\u001B\\\u001B[2m1773\u001B[0m\u001B]8;;\u001B\\\n",
       "\u001B[2;36m                    \u001B[0m         \u001B[4;94mhttps://api.openai.com/v1/chat/completions\u001B[0m \u001B[32m\"HTTP/1.1 200 OK\"\u001B[0m           \u001B[2m               \u001B[0m\n"
      ],
      "text/html": [
       "<pre style=\"white-space:pre;overflow-x:auto;line-height:normal;font-family:Menlo,'DejaVu Sans Mono',consolas,'Courier New',monospace\"><span style=\"color: #7fbfbf; text-decoration-color: #7fbfbf\">                    </span><span style=\"color: #000080; text-decoration-color: #000080\">INFO    </span> <span style=\"font-weight: bold\">[</span>_client.py:<span style=\"color: #008080; text-decoration-color: #008080; font-weight: bold\">1773</span><span style=\"font-weight: bold\">]</span> &gt;&gt; HTTP Request: <span style=\"color: #808000; text-decoration-color: #808000; font-weight: bold\">POST</span>                                <a href=\"file:///Users/kimbwook/PycharmProjects/fast-campus/venv/lib/python3.10/site-packages/httpx/_client.py\" target=\"_blank\"><span style=\"color: #7f7f7f; text-decoration-color: #7f7f7f\">_client.py</span></a><span style=\"color: #7f7f7f; text-decoration-color: #7f7f7f\">:</span><a href=\"file:///Users/kimbwook/PycharmProjects/fast-campus/venv/lib/python3.10/site-packages/httpx/_client.py#1773\" target=\"_blank\"><span style=\"color: #7f7f7f; text-decoration-color: #7f7f7f\">1773</span></a>\n",
       "<span style=\"color: #7fbfbf; text-decoration-color: #7fbfbf\">                    </span>         <span style=\"color: #0000ff; text-decoration-color: #0000ff; text-decoration: underline\">https://api.openai.com/v1/chat/completions</span> <span style=\"color: #008000; text-decoration-color: #008000\">\"HTTP/1.1 200 OK\"</span>           <span style=\"color: #7f7f7f; text-decoration-color: #7f7f7f\">               </span>\n",
       "</pre>\n"
      ]
     },
     "metadata": {},
     "output_type": "display_data"
    },
    {
     "data": {
      "text/plain": [
       "\u001B[2;36m                   \u001B[0m\u001B[2;36m \u001B[0m\u001B[34mINFO    \u001B[0m \u001B[1m[\u001B[0m_client.py:\u001B[1;36m1773\u001B[0m\u001B[1m]\u001B[0m >> HTTP Request: \u001B[1;33mPOST\u001B[0m                                \u001B]8;id=376650;file:///Users/kimbwook/PycharmProjects/fast-campus/venv/lib/python3.10/site-packages/httpx/_client.py\u001B\\\u001B[2m_client.py\u001B[0m\u001B]8;;\u001B\\\u001B[2m:\u001B[0m\u001B]8;id=798519;file:///Users/kimbwook/PycharmProjects/fast-campus/venv/lib/python3.10/site-packages/httpx/_client.py#1773\u001B\\\u001B[2m1773\u001B[0m\u001B]8;;\u001B\\\n",
       "\u001B[2;36m                    \u001B[0m         \u001B[4;94mhttps://api.openai.com/v1/chat/completions\u001B[0m \u001B[32m\"HTTP/1.1 200 OK\"\u001B[0m           \u001B[2m               \u001B[0m\n"
      ],
      "text/html": [
       "<pre style=\"white-space:pre;overflow-x:auto;line-height:normal;font-family:Menlo,'DejaVu Sans Mono',consolas,'Courier New',monospace\"><span style=\"color: #7fbfbf; text-decoration-color: #7fbfbf\">                    </span><span style=\"color: #000080; text-decoration-color: #000080\">INFO    </span> <span style=\"font-weight: bold\">[</span>_client.py:<span style=\"color: #008080; text-decoration-color: #008080; font-weight: bold\">1773</span><span style=\"font-weight: bold\">]</span> &gt;&gt; HTTP Request: <span style=\"color: #808000; text-decoration-color: #808000; font-weight: bold\">POST</span>                                <a href=\"file:///Users/kimbwook/PycharmProjects/fast-campus/venv/lib/python3.10/site-packages/httpx/_client.py\" target=\"_blank\"><span style=\"color: #7f7f7f; text-decoration-color: #7f7f7f\">_client.py</span></a><span style=\"color: #7f7f7f; text-decoration-color: #7f7f7f\">:</span><a href=\"file:///Users/kimbwook/PycharmProjects/fast-campus/venv/lib/python3.10/site-packages/httpx/_client.py#1773\" target=\"_blank\"><span style=\"color: #7f7f7f; text-decoration-color: #7f7f7f\">1773</span></a>\n",
       "<span style=\"color: #7fbfbf; text-decoration-color: #7fbfbf\">                    </span>         <span style=\"color: #0000ff; text-decoration-color: #0000ff; text-decoration: underline\">https://api.openai.com/v1/chat/completions</span> <span style=\"color: #008000; text-decoration-color: #008000\">\"HTTP/1.1 200 OK\"</span>           <span style=\"color: #7f7f7f; text-decoration-color: #7f7f7f\">               </span>\n",
       "</pre>\n"
      ]
     },
     "metadata": {},
     "output_type": "display_data"
    },
    {
     "data": {
      "text/plain": [
       "\u001B[2;36m                   \u001B[0m\u001B[2;36m \u001B[0m\u001B[34mINFO    \u001B[0m \u001B[1m[\u001B[0m_client.py:\u001B[1;36m1773\u001B[0m\u001B[1m]\u001B[0m >> HTTP Request: \u001B[1;33mPOST\u001B[0m                                \u001B]8;id=313938;file:///Users/kimbwook/PycharmProjects/fast-campus/venv/lib/python3.10/site-packages/httpx/_client.py\u001B\\\u001B[2m_client.py\u001B[0m\u001B]8;;\u001B\\\u001B[2m:\u001B[0m\u001B]8;id=753490;file:///Users/kimbwook/PycharmProjects/fast-campus/venv/lib/python3.10/site-packages/httpx/_client.py#1773\u001B\\\u001B[2m1773\u001B[0m\u001B]8;;\u001B\\\n",
       "\u001B[2;36m                    \u001B[0m         \u001B[4;94mhttps://api.openai.com/v1/chat/completions\u001B[0m \u001B[32m\"HTTP/1.1 200 OK\"\u001B[0m           \u001B[2m               \u001B[0m\n"
      ],
      "text/html": [
       "<pre style=\"white-space:pre;overflow-x:auto;line-height:normal;font-family:Menlo,'DejaVu Sans Mono',consolas,'Courier New',monospace\"><span style=\"color: #7fbfbf; text-decoration-color: #7fbfbf\">                    </span><span style=\"color: #000080; text-decoration-color: #000080\">INFO    </span> <span style=\"font-weight: bold\">[</span>_client.py:<span style=\"color: #008080; text-decoration-color: #008080; font-weight: bold\">1773</span><span style=\"font-weight: bold\">]</span> &gt;&gt; HTTP Request: <span style=\"color: #808000; text-decoration-color: #808000; font-weight: bold\">POST</span>                                <a href=\"file:///Users/kimbwook/PycharmProjects/fast-campus/venv/lib/python3.10/site-packages/httpx/_client.py\" target=\"_blank\"><span style=\"color: #7f7f7f; text-decoration-color: #7f7f7f\">_client.py</span></a><span style=\"color: #7f7f7f; text-decoration-color: #7f7f7f\">:</span><a href=\"file:///Users/kimbwook/PycharmProjects/fast-campus/venv/lib/python3.10/site-packages/httpx/_client.py#1773\" target=\"_blank\"><span style=\"color: #7f7f7f; text-decoration-color: #7f7f7f\">1773</span></a>\n",
       "<span style=\"color: #7fbfbf; text-decoration-color: #7fbfbf\">                    </span>         <span style=\"color: #0000ff; text-decoration-color: #0000ff; text-decoration: underline\">https://api.openai.com/v1/chat/completions</span> <span style=\"color: #008000; text-decoration-color: #008000\">\"HTTP/1.1 200 OK\"</span>           <span style=\"color: #7f7f7f; text-decoration-color: #7f7f7f\">               </span>\n",
       "</pre>\n"
      ]
     },
     "metadata": {},
     "output_type": "display_data"
    },
    {
     "data": {
      "text/plain": [
       "\u001B[2;36m                   \u001B[0m\u001B[2;36m \u001B[0m\u001B[34mINFO    \u001B[0m \u001B[1m[\u001B[0m_client.py:\u001B[1;36m1773\u001B[0m\u001B[1m]\u001B[0m >> HTTP Request: \u001B[1;33mPOST\u001B[0m                                \u001B]8;id=269259;file:///Users/kimbwook/PycharmProjects/fast-campus/venv/lib/python3.10/site-packages/httpx/_client.py\u001B\\\u001B[2m_client.py\u001B[0m\u001B]8;;\u001B\\\u001B[2m:\u001B[0m\u001B]8;id=234854;file:///Users/kimbwook/PycharmProjects/fast-campus/venv/lib/python3.10/site-packages/httpx/_client.py#1773\u001B\\\u001B[2m1773\u001B[0m\u001B]8;;\u001B\\\n",
       "\u001B[2;36m                    \u001B[0m         \u001B[4;94mhttps://api.openai.com/v1/chat/completions\u001B[0m \u001B[32m\"HTTP/1.1 200 OK\"\u001B[0m           \u001B[2m               \u001B[0m\n"
      ],
      "text/html": [
       "<pre style=\"white-space:pre;overflow-x:auto;line-height:normal;font-family:Menlo,'DejaVu Sans Mono',consolas,'Courier New',monospace\"><span style=\"color: #7fbfbf; text-decoration-color: #7fbfbf\">                    </span><span style=\"color: #000080; text-decoration-color: #000080\">INFO    </span> <span style=\"font-weight: bold\">[</span>_client.py:<span style=\"color: #008080; text-decoration-color: #008080; font-weight: bold\">1773</span><span style=\"font-weight: bold\">]</span> &gt;&gt; HTTP Request: <span style=\"color: #808000; text-decoration-color: #808000; font-weight: bold\">POST</span>                                <a href=\"file:///Users/kimbwook/PycharmProjects/fast-campus/venv/lib/python3.10/site-packages/httpx/_client.py\" target=\"_blank\"><span style=\"color: #7f7f7f; text-decoration-color: #7f7f7f\">_client.py</span></a><span style=\"color: #7f7f7f; text-decoration-color: #7f7f7f\">:</span><a href=\"file:///Users/kimbwook/PycharmProjects/fast-campus/venv/lib/python3.10/site-packages/httpx/_client.py#1773\" target=\"_blank\"><span style=\"color: #7f7f7f; text-decoration-color: #7f7f7f\">1773</span></a>\n",
       "<span style=\"color: #7fbfbf; text-decoration-color: #7fbfbf\">                    </span>         <span style=\"color: #0000ff; text-decoration-color: #0000ff; text-decoration: underline\">https://api.openai.com/v1/chat/completions</span> <span style=\"color: #008000; text-decoration-color: #008000\">\"HTTP/1.1 200 OK\"</span>           <span style=\"color: #7f7f7f; text-decoration-color: #7f7f7f\">               </span>\n",
       "</pre>\n"
      ]
     },
     "metadata": {},
     "output_type": "display_data"
    },
    {
     "data": {
      "text/plain": [
       "\u001B[2;36m[01/30/25 13:42:03]\u001B[0m\u001B[2;36m \u001B[0m\u001B[34mINFO    \u001B[0m \u001B[1m[\u001B[0m_client.py:\u001B[1;36m1773\u001B[0m\u001B[1m]\u001B[0m >> HTTP Request: \u001B[1;33mPOST\u001B[0m                                \u001B]8;id=837889;file:///Users/kimbwook/PycharmProjects/fast-campus/venv/lib/python3.10/site-packages/httpx/_client.py\u001B\\\u001B[2m_client.py\u001B[0m\u001B]8;;\u001B\\\u001B[2m:\u001B[0m\u001B]8;id=970179;file:///Users/kimbwook/PycharmProjects/fast-campus/venv/lib/python3.10/site-packages/httpx/_client.py#1773\u001B\\\u001B[2m1773\u001B[0m\u001B]8;;\u001B\\\n",
       "\u001B[2;36m                    \u001B[0m         \u001B[4;94mhttps://api.openai.com/v1/chat/completions\u001B[0m \u001B[32m\"HTTP/1.1 200 OK\"\u001B[0m           \u001B[2m               \u001B[0m\n"
      ],
      "text/html": [
       "<pre style=\"white-space:pre;overflow-x:auto;line-height:normal;font-family:Menlo,'DejaVu Sans Mono',consolas,'Courier New',monospace\"><span style=\"color: #7fbfbf; text-decoration-color: #7fbfbf\">[01/30/25 13:42:03] </span><span style=\"color: #000080; text-decoration-color: #000080\">INFO    </span> <span style=\"font-weight: bold\">[</span>_client.py:<span style=\"color: #008080; text-decoration-color: #008080; font-weight: bold\">1773</span><span style=\"font-weight: bold\">]</span> &gt;&gt; HTTP Request: <span style=\"color: #808000; text-decoration-color: #808000; font-weight: bold\">POST</span>                                <a href=\"file:///Users/kimbwook/PycharmProjects/fast-campus/venv/lib/python3.10/site-packages/httpx/_client.py\" target=\"_blank\"><span style=\"color: #7f7f7f; text-decoration-color: #7f7f7f\">_client.py</span></a><span style=\"color: #7f7f7f; text-decoration-color: #7f7f7f\">:</span><a href=\"file:///Users/kimbwook/PycharmProjects/fast-campus/venv/lib/python3.10/site-packages/httpx/_client.py#1773\" target=\"_blank\"><span style=\"color: #7f7f7f; text-decoration-color: #7f7f7f\">1773</span></a>\n",
       "<span style=\"color: #7fbfbf; text-decoration-color: #7fbfbf\">                    </span>         <span style=\"color: #0000ff; text-decoration-color: #0000ff; text-decoration: underline\">https://api.openai.com/v1/chat/completions</span> <span style=\"color: #008000; text-decoration-color: #008000\">\"HTTP/1.1 200 OK\"</span>           <span style=\"color: #7f7f7f; text-decoration-color: #7f7f7f\">               </span>\n",
       "</pre>\n"
      ]
     },
     "metadata": {},
     "output_type": "display_data"
    },
    {
     "data": {
      "text/plain": [
       "\u001B[2;36m                   \u001B[0m\u001B[2;36m \u001B[0m\u001B[34mINFO    \u001B[0m \u001B[1m[\u001B[0m_client.py:\u001B[1;36m1773\u001B[0m\u001B[1m]\u001B[0m >> HTTP Request: \u001B[1;33mPOST\u001B[0m                                \u001B]8;id=478284;file:///Users/kimbwook/PycharmProjects/fast-campus/venv/lib/python3.10/site-packages/httpx/_client.py\u001B\\\u001B[2m_client.py\u001B[0m\u001B]8;;\u001B\\\u001B[2m:\u001B[0m\u001B]8;id=602445;file:///Users/kimbwook/PycharmProjects/fast-campus/venv/lib/python3.10/site-packages/httpx/_client.py#1773\u001B\\\u001B[2m1773\u001B[0m\u001B]8;;\u001B\\\n",
       "\u001B[2;36m                    \u001B[0m         \u001B[4;94mhttps://api.openai.com/v1/chat/completions\u001B[0m \u001B[32m\"HTTP/1.1 200 OK\"\u001B[0m           \u001B[2m               \u001B[0m\n"
      ],
      "text/html": [
       "<pre style=\"white-space:pre;overflow-x:auto;line-height:normal;font-family:Menlo,'DejaVu Sans Mono',consolas,'Courier New',monospace\"><span style=\"color: #7fbfbf; text-decoration-color: #7fbfbf\">                    </span><span style=\"color: #000080; text-decoration-color: #000080\">INFO    </span> <span style=\"font-weight: bold\">[</span>_client.py:<span style=\"color: #008080; text-decoration-color: #008080; font-weight: bold\">1773</span><span style=\"font-weight: bold\">]</span> &gt;&gt; HTTP Request: <span style=\"color: #808000; text-decoration-color: #808000; font-weight: bold\">POST</span>                                <a href=\"file:///Users/kimbwook/PycharmProjects/fast-campus/venv/lib/python3.10/site-packages/httpx/_client.py\" target=\"_blank\"><span style=\"color: #7f7f7f; text-decoration-color: #7f7f7f\">_client.py</span></a><span style=\"color: #7f7f7f; text-decoration-color: #7f7f7f\">:</span><a href=\"file:///Users/kimbwook/PycharmProjects/fast-campus/venv/lib/python3.10/site-packages/httpx/_client.py#1773\" target=\"_blank\"><span style=\"color: #7f7f7f; text-decoration-color: #7f7f7f\">1773</span></a>\n",
       "<span style=\"color: #7fbfbf; text-decoration-color: #7fbfbf\">                    </span>         <span style=\"color: #0000ff; text-decoration-color: #0000ff; text-decoration: underline\">https://api.openai.com/v1/chat/completions</span> <span style=\"color: #008000; text-decoration-color: #008000\">\"HTTP/1.1 200 OK\"</span>           <span style=\"color: #7f7f7f; text-decoration-color: #7f7f7f\">               </span>\n",
       "</pre>\n"
      ]
     },
     "metadata": {},
     "output_type": "display_data"
    },
    {
     "data": {
      "text/plain": [
       "\u001B[2;36m[01/30/25 13:42:04]\u001B[0m\u001B[2;36m \u001B[0m\u001B[34mINFO    \u001B[0m \u001B[1m[\u001B[0m_client.py:\u001B[1;36m1773\u001B[0m\u001B[1m]\u001B[0m >> HTTP Request: \u001B[1;33mPOST\u001B[0m                                \u001B]8;id=401963;file:///Users/kimbwook/PycharmProjects/fast-campus/venv/lib/python3.10/site-packages/httpx/_client.py\u001B\\\u001B[2m_client.py\u001B[0m\u001B]8;;\u001B\\\u001B[2m:\u001B[0m\u001B]8;id=439544;file:///Users/kimbwook/PycharmProjects/fast-campus/venv/lib/python3.10/site-packages/httpx/_client.py#1773\u001B\\\u001B[2m1773\u001B[0m\u001B]8;;\u001B\\\n",
       "\u001B[2;36m                    \u001B[0m         \u001B[4;94mhttps://api.openai.com/v1/chat/completions\u001B[0m \u001B[32m\"HTTP/1.1 200 OK\"\u001B[0m           \u001B[2m               \u001B[0m\n"
      ],
      "text/html": [
       "<pre style=\"white-space:pre;overflow-x:auto;line-height:normal;font-family:Menlo,'DejaVu Sans Mono',consolas,'Courier New',monospace\"><span style=\"color: #7fbfbf; text-decoration-color: #7fbfbf\">[01/30/25 13:42:04] </span><span style=\"color: #000080; text-decoration-color: #000080\">INFO    </span> <span style=\"font-weight: bold\">[</span>_client.py:<span style=\"color: #008080; text-decoration-color: #008080; font-weight: bold\">1773</span><span style=\"font-weight: bold\">]</span> &gt;&gt; HTTP Request: <span style=\"color: #808000; text-decoration-color: #808000; font-weight: bold\">POST</span>                                <a href=\"file:///Users/kimbwook/PycharmProjects/fast-campus/venv/lib/python3.10/site-packages/httpx/_client.py\" target=\"_blank\"><span style=\"color: #7f7f7f; text-decoration-color: #7f7f7f\">_client.py</span></a><span style=\"color: #7f7f7f; text-decoration-color: #7f7f7f\">:</span><a href=\"file:///Users/kimbwook/PycharmProjects/fast-campus/venv/lib/python3.10/site-packages/httpx/_client.py#1773\" target=\"_blank\"><span style=\"color: #7f7f7f; text-decoration-color: #7f7f7f\">1773</span></a>\n",
       "<span style=\"color: #7fbfbf; text-decoration-color: #7fbfbf\">                    </span>         <span style=\"color: #0000ff; text-decoration-color: #0000ff; text-decoration: underline\">https://api.openai.com/v1/chat/completions</span> <span style=\"color: #008000; text-decoration-color: #008000\">\"HTTP/1.1 200 OK\"</span>           <span style=\"color: #7f7f7f; text-decoration-color: #7f7f7f\">               </span>\n",
       "</pre>\n"
      ]
     },
     "metadata": {},
     "output_type": "display_data"
    },
    {
     "data": {
      "text/plain": [
       "\u001B[2;36m                   \u001B[0m\u001B[2;36m \u001B[0m\u001B[34mINFO    \u001B[0m \u001B[1m[\u001B[0m_client.py:\u001B[1;36m1773\u001B[0m\u001B[1m]\u001B[0m >> HTTP Request: \u001B[1;33mPOST\u001B[0m                                \u001B]8;id=948257;file:///Users/kimbwook/PycharmProjects/fast-campus/venv/lib/python3.10/site-packages/httpx/_client.py\u001B\\\u001B[2m_client.py\u001B[0m\u001B]8;;\u001B\\\u001B[2m:\u001B[0m\u001B]8;id=224625;file:///Users/kimbwook/PycharmProjects/fast-campus/venv/lib/python3.10/site-packages/httpx/_client.py#1773\u001B\\\u001B[2m1773\u001B[0m\u001B]8;;\u001B\\\n",
       "\u001B[2;36m                    \u001B[0m         \u001B[4;94mhttps://api.openai.com/v1/chat/completions\u001B[0m \u001B[32m\"HTTP/1.1 200 OK\"\u001B[0m           \u001B[2m               \u001B[0m\n"
      ],
      "text/html": [
       "<pre style=\"white-space:pre;overflow-x:auto;line-height:normal;font-family:Menlo,'DejaVu Sans Mono',consolas,'Courier New',monospace\"><span style=\"color: #7fbfbf; text-decoration-color: #7fbfbf\">                    </span><span style=\"color: #000080; text-decoration-color: #000080\">INFO    </span> <span style=\"font-weight: bold\">[</span>_client.py:<span style=\"color: #008080; text-decoration-color: #008080; font-weight: bold\">1773</span><span style=\"font-weight: bold\">]</span> &gt;&gt; HTTP Request: <span style=\"color: #808000; text-decoration-color: #808000; font-weight: bold\">POST</span>                                <a href=\"file:///Users/kimbwook/PycharmProjects/fast-campus/venv/lib/python3.10/site-packages/httpx/_client.py\" target=\"_blank\"><span style=\"color: #7f7f7f; text-decoration-color: #7f7f7f\">_client.py</span></a><span style=\"color: #7f7f7f; text-decoration-color: #7f7f7f\">:</span><a href=\"file:///Users/kimbwook/PycharmProjects/fast-campus/venv/lib/python3.10/site-packages/httpx/_client.py#1773\" target=\"_blank\"><span style=\"color: #7f7f7f; text-decoration-color: #7f7f7f\">1773</span></a>\n",
       "<span style=\"color: #7fbfbf; text-decoration-color: #7fbfbf\">                    </span>         <span style=\"color: #0000ff; text-decoration-color: #0000ff; text-decoration: underline\">https://api.openai.com/v1/chat/completions</span> <span style=\"color: #008000; text-decoration-color: #008000\">\"HTTP/1.1 200 OK\"</span>           <span style=\"color: #7f7f7f; text-decoration-color: #7f7f7f\">               </span>\n",
       "</pre>\n"
      ]
     },
     "metadata": {},
     "output_type": "display_data"
    },
    {
     "data": {
      "text/plain": [
       "\u001B[2;36m                   \u001B[0m\u001B[2;36m \u001B[0m\u001B[34mINFO    \u001B[0m \u001B[1m[\u001B[0m_client.py:\u001B[1;36m1773\u001B[0m\u001B[1m]\u001B[0m >> HTTP Request: \u001B[1;33mPOST\u001B[0m                                \u001B]8;id=320065;file:///Users/kimbwook/PycharmProjects/fast-campus/venv/lib/python3.10/site-packages/httpx/_client.py\u001B\\\u001B[2m_client.py\u001B[0m\u001B]8;;\u001B\\\u001B[2m:\u001B[0m\u001B]8;id=906743;file:///Users/kimbwook/PycharmProjects/fast-campus/venv/lib/python3.10/site-packages/httpx/_client.py#1773\u001B\\\u001B[2m1773\u001B[0m\u001B]8;;\u001B\\\n",
       "\u001B[2;36m                    \u001B[0m         \u001B[4;94mhttps://api.openai.com/v1/chat/completions\u001B[0m \u001B[32m\"HTTP/1.1 200 OK\"\u001B[0m           \u001B[2m               \u001B[0m\n"
      ],
      "text/html": [
       "<pre style=\"white-space:pre;overflow-x:auto;line-height:normal;font-family:Menlo,'DejaVu Sans Mono',consolas,'Courier New',monospace\"><span style=\"color: #7fbfbf; text-decoration-color: #7fbfbf\">                    </span><span style=\"color: #000080; text-decoration-color: #000080\">INFO    </span> <span style=\"font-weight: bold\">[</span>_client.py:<span style=\"color: #008080; text-decoration-color: #008080; font-weight: bold\">1773</span><span style=\"font-weight: bold\">]</span> &gt;&gt; HTTP Request: <span style=\"color: #808000; text-decoration-color: #808000; font-weight: bold\">POST</span>                                <a href=\"file:///Users/kimbwook/PycharmProjects/fast-campus/venv/lib/python3.10/site-packages/httpx/_client.py\" target=\"_blank\"><span style=\"color: #7f7f7f; text-decoration-color: #7f7f7f\">_client.py</span></a><span style=\"color: #7f7f7f; text-decoration-color: #7f7f7f\">:</span><a href=\"file:///Users/kimbwook/PycharmProjects/fast-campus/venv/lib/python3.10/site-packages/httpx/_client.py#1773\" target=\"_blank\"><span style=\"color: #7f7f7f; text-decoration-color: #7f7f7f\">1773</span></a>\n",
       "<span style=\"color: #7fbfbf; text-decoration-color: #7fbfbf\">                    </span>         <span style=\"color: #0000ff; text-decoration-color: #0000ff; text-decoration: underline\">https://api.openai.com/v1/chat/completions</span> <span style=\"color: #008000; text-decoration-color: #008000\">\"HTTP/1.1 200 OK\"</span>           <span style=\"color: #7f7f7f; text-decoration-color: #7f7f7f\">               </span>\n",
       "</pre>\n"
      ]
     },
     "metadata": {},
     "output_type": "display_data"
    },
    {
     "data": {
      "text/plain": [
       "\u001B[2;36m                   \u001B[0m\u001B[2;36m \u001B[0m\u001B[34mINFO    \u001B[0m \u001B[1m[\u001B[0m_client.py:\u001B[1;36m1773\u001B[0m\u001B[1m]\u001B[0m >> HTTP Request: \u001B[1;33mPOST\u001B[0m                                \u001B]8;id=30419;file:///Users/kimbwook/PycharmProjects/fast-campus/venv/lib/python3.10/site-packages/httpx/_client.py\u001B\\\u001B[2m_client.py\u001B[0m\u001B]8;;\u001B\\\u001B[2m:\u001B[0m\u001B]8;id=130985;file:///Users/kimbwook/PycharmProjects/fast-campus/venv/lib/python3.10/site-packages/httpx/_client.py#1773\u001B\\\u001B[2m1773\u001B[0m\u001B]8;;\u001B\\\n",
       "\u001B[2;36m                    \u001B[0m         \u001B[4;94mhttps://api.openai.com/v1/chat/completions\u001B[0m \u001B[32m\"HTTP/1.1 200 OK\"\u001B[0m           \u001B[2m               \u001B[0m\n"
      ],
      "text/html": [
       "<pre style=\"white-space:pre;overflow-x:auto;line-height:normal;font-family:Menlo,'DejaVu Sans Mono',consolas,'Courier New',monospace\"><span style=\"color: #7fbfbf; text-decoration-color: #7fbfbf\">                    </span><span style=\"color: #000080; text-decoration-color: #000080\">INFO    </span> <span style=\"font-weight: bold\">[</span>_client.py:<span style=\"color: #008080; text-decoration-color: #008080; font-weight: bold\">1773</span><span style=\"font-weight: bold\">]</span> &gt;&gt; HTTP Request: <span style=\"color: #808000; text-decoration-color: #808000; font-weight: bold\">POST</span>                                <a href=\"file:///Users/kimbwook/PycharmProjects/fast-campus/venv/lib/python3.10/site-packages/httpx/_client.py\" target=\"_blank\"><span style=\"color: #7f7f7f; text-decoration-color: #7f7f7f\">_client.py</span></a><span style=\"color: #7f7f7f; text-decoration-color: #7f7f7f\">:</span><a href=\"file:///Users/kimbwook/PycharmProjects/fast-campus/venv/lib/python3.10/site-packages/httpx/_client.py#1773\" target=\"_blank\"><span style=\"color: #7f7f7f; text-decoration-color: #7f7f7f\">1773</span></a>\n",
       "<span style=\"color: #7fbfbf; text-decoration-color: #7fbfbf\">                    </span>         <span style=\"color: #0000ff; text-decoration-color: #0000ff; text-decoration: underline\">https://api.openai.com/v1/chat/completions</span> <span style=\"color: #008000; text-decoration-color: #008000\">\"HTTP/1.1 200 OK\"</span>           <span style=\"color: #7f7f7f; text-decoration-color: #7f7f7f\">               </span>\n",
       "</pre>\n"
      ]
     },
     "metadata": {},
     "output_type": "display_data"
    },
    {
     "data": {
      "text/plain": [
       "\u001B[2;36m                   \u001B[0m\u001B[2;36m \u001B[0m\u001B[34mINFO    \u001B[0m \u001B[1m[\u001B[0m_client.py:\u001B[1;36m1773\u001B[0m\u001B[1m]\u001B[0m >> HTTP Request: \u001B[1;33mPOST\u001B[0m                                \u001B]8;id=557366;file:///Users/kimbwook/PycharmProjects/fast-campus/venv/lib/python3.10/site-packages/httpx/_client.py\u001B\\\u001B[2m_client.py\u001B[0m\u001B]8;;\u001B\\\u001B[2m:\u001B[0m\u001B]8;id=41050;file:///Users/kimbwook/PycharmProjects/fast-campus/venv/lib/python3.10/site-packages/httpx/_client.py#1773\u001B\\\u001B[2m1773\u001B[0m\u001B]8;;\u001B\\\n",
       "\u001B[2;36m                    \u001B[0m         \u001B[4;94mhttps://api.openai.com/v1/chat/completions\u001B[0m \u001B[32m\"HTTP/1.1 200 OK\"\u001B[0m           \u001B[2m               \u001B[0m\n"
      ],
      "text/html": [
       "<pre style=\"white-space:pre;overflow-x:auto;line-height:normal;font-family:Menlo,'DejaVu Sans Mono',consolas,'Courier New',monospace\"><span style=\"color: #7fbfbf; text-decoration-color: #7fbfbf\">                    </span><span style=\"color: #000080; text-decoration-color: #000080\">INFO    </span> <span style=\"font-weight: bold\">[</span>_client.py:<span style=\"color: #008080; text-decoration-color: #008080; font-weight: bold\">1773</span><span style=\"font-weight: bold\">]</span> &gt;&gt; HTTP Request: <span style=\"color: #808000; text-decoration-color: #808000; font-weight: bold\">POST</span>                                <a href=\"file:///Users/kimbwook/PycharmProjects/fast-campus/venv/lib/python3.10/site-packages/httpx/_client.py\" target=\"_blank\"><span style=\"color: #7f7f7f; text-decoration-color: #7f7f7f\">_client.py</span></a><span style=\"color: #7f7f7f; text-decoration-color: #7f7f7f\">:</span><a href=\"file:///Users/kimbwook/PycharmProjects/fast-campus/venv/lib/python3.10/site-packages/httpx/_client.py#1773\" target=\"_blank\"><span style=\"color: #7f7f7f; text-decoration-color: #7f7f7f\">1773</span></a>\n",
       "<span style=\"color: #7fbfbf; text-decoration-color: #7fbfbf\">                    </span>         <span style=\"color: #0000ff; text-decoration-color: #0000ff; text-decoration: underline\">https://api.openai.com/v1/chat/completions</span> <span style=\"color: #008000; text-decoration-color: #008000\">\"HTTP/1.1 200 OK\"</span>           <span style=\"color: #7f7f7f; text-decoration-color: #7f7f7f\">               </span>\n",
       "</pre>\n"
      ]
     },
     "metadata": {},
     "output_type": "display_data"
    },
    {
     "data": {
      "text/plain": [
       "\u001B[2;36m                   \u001B[0m\u001B[2;36m \u001B[0m\u001B[34mINFO    \u001B[0m \u001B[1m[\u001B[0m_client.py:\u001B[1;36m1773\u001B[0m\u001B[1m]\u001B[0m >> HTTP Request: \u001B[1;33mPOST\u001B[0m                                \u001B]8;id=824361;file:///Users/kimbwook/PycharmProjects/fast-campus/venv/lib/python3.10/site-packages/httpx/_client.py\u001B\\\u001B[2m_client.py\u001B[0m\u001B]8;;\u001B\\\u001B[2m:\u001B[0m\u001B]8;id=624117;file:///Users/kimbwook/PycharmProjects/fast-campus/venv/lib/python3.10/site-packages/httpx/_client.py#1773\u001B\\\u001B[2m1773\u001B[0m\u001B]8;;\u001B\\\n",
       "\u001B[2;36m                    \u001B[0m         \u001B[4;94mhttps://api.openai.com/v1/chat/completions\u001B[0m \u001B[32m\"HTTP/1.1 200 OK\"\u001B[0m           \u001B[2m               \u001B[0m\n"
      ],
      "text/html": [
       "<pre style=\"white-space:pre;overflow-x:auto;line-height:normal;font-family:Menlo,'DejaVu Sans Mono',consolas,'Courier New',monospace\"><span style=\"color: #7fbfbf; text-decoration-color: #7fbfbf\">                    </span><span style=\"color: #000080; text-decoration-color: #000080\">INFO    </span> <span style=\"font-weight: bold\">[</span>_client.py:<span style=\"color: #008080; text-decoration-color: #008080; font-weight: bold\">1773</span><span style=\"font-weight: bold\">]</span> &gt;&gt; HTTP Request: <span style=\"color: #808000; text-decoration-color: #808000; font-weight: bold\">POST</span>                                <a href=\"file:///Users/kimbwook/PycharmProjects/fast-campus/venv/lib/python3.10/site-packages/httpx/_client.py\" target=\"_blank\"><span style=\"color: #7f7f7f; text-decoration-color: #7f7f7f\">_client.py</span></a><span style=\"color: #7f7f7f; text-decoration-color: #7f7f7f\">:</span><a href=\"file:///Users/kimbwook/PycharmProjects/fast-campus/venv/lib/python3.10/site-packages/httpx/_client.py#1773\" target=\"_blank\"><span style=\"color: #7f7f7f; text-decoration-color: #7f7f7f\">1773</span></a>\n",
       "<span style=\"color: #7fbfbf; text-decoration-color: #7fbfbf\">                    </span>         <span style=\"color: #0000ff; text-decoration-color: #0000ff; text-decoration: underline\">https://api.openai.com/v1/chat/completions</span> <span style=\"color: #008000; text-decoration-color: #008000\">\"HTTP/1.1 200 OK\"</span>           <span style=\"color: #7f7f7f; text-decoration-color: #7f7f7f\">               </span>\n",
       "</pre>\n"
      ]
     },
     "metadata": {},
     "output_type": "display_data"
    },
    {
     "data": {
      "text/plain": [
       "\u001B[2;36m                   \u001B[0m\u001B[2;36m \u001B[0m\u001B[34mINFO    \u001B[0m \u001B[1m[\u001B[0m_client.py:\u001B[1;36m1773\u001B[0m\u001B[1m]\u001B[0m >> HTTP Request: \u001B[1;33mPOST\u001B[0m                                \u001B]8;id=716817;file:///Users/kimbwook/PycharmProjects/fast-campus/venv/lib/python3.10/site-packages/httpx/_client.py\u001B\\\u001B[2m_client.py\u001B[0m\u001B]8;;\u001B\\\u001B[2m:\u001B[0m\u001B]8;id=938150;file:///Users/kimbwook/PycharmProjects/fast-campus/venv/lib/python3.10/site-packages/httpx/_client.py#1773\u001B\\\u001B[2m1773\u001B[0m\u001B]8;;\u001B\\\n",
       "\u001B[2;36m                    \u001B[0m         \u001B[4;94mhttps://api.openai.com/v1/chat/completions\u001B[0m \u001B[32m\"HTTP/1.1 200 OK\"\u001B[0m           \u001B[2m               \u001B[0m\n"
      ],
      "text/html": [
       "<pre style=\"white-space:pre;overflow-x:auto;line-height:normal;font-family:Menlo,'DejaVu Sans Mono',consolas,'Courier New',monospace\"><span style=\"color: #7fbfbf; text-decoration-color: #7fbfbf\">                    </span><span style=\"color: #000080; text-decoration-color: #000080\">INFO    </span> <span style=\"font-weight: bold\">[</span>_client.py:<span style=\"color: #008080; text-decoration-color: #008080; font-weight: bold\">1773</span><span style=\"font-weight: bold\">]</span> &gt;&gt; HTTP Request: <span style=\"color: #808000; text-decoration-color: #808000; font-weight: bold\">POST</span>                                <a href=\"file:///Users/kimbwook/PycharmProjects/fast-campus/venv/lib/python3.10/site-packages/httpx/_client.py\" target=\"_blank\"><span style=\"color: #7f7f7f; text-decoration-color: #7f7f7f\">_client.py</span></a><span style=\"color: #7f7f7f; text-decoration-color: #7f7f7f\">:</span><a href=\"file:///Users/kimbwook/PycharmProjects/fast-campus/venv/lib/python3.10/site-packages/httpx/_client.py#1773\" target=\"_blank\"><span style=\"color: #7f7f7f; text-decoration-color: #7f7f7f\">1773</span></a>\n",
       "<span style=\"color: #7fbfbf; text-decoration-color: #7fbfbf\">                    </span>         <span style=\"color: #0000ff; text-decoration-color: #0000ff; text-decoration: underline\">https://api.openai.com/v1/chat/completions</span> <span style=\"color: #008000; text-decoration-color: #008000\">\"HTTP/1.1 200 OK\"</span>           <span style=\"color: #7f7f7f; text-decoration-color: #7f7f7f\">               </span>\n",
       "</pre>\n"
      ]
     },
     "metadata": {},
     "output_type": "display_data"
    },
    {
     "data": {
      "text/plain": [
       "\u001B[2;36m                   \u001B[0m\u001B[2;36m \u001B[0m\u001B[34mINFO    \u001B[0m \u001B[1m[\u001B[0m_client.py:\u001B[1;36m1773\u001B[0m\u001B[1m]\u001B[0m >> HTTP Request: \u001B[1;33mPOST\u001B[0m                                \u001B]8;id=468092;file:///Users/kimbwook/PycharmProjects/fast-campus/venv/lib/python3.10/site-packages/httpx/_client.py\u001B\\\u001B[2m_client.py\u001B[0m\u001B]8;;\u001B\\\u001B[2m:\u001B[0m\u001B]8;id=460071;file:///Users/kimbwook/PycharmProjects/fast-campus/venv/lib/python3.10/site-packages/httpx/_client.py#1773\u001B\\\u001B[2m1773\u001B[0m\u001B]8;;\u001B\\\n",
       "\u001B[2;36m                    \u001B[0m         \u001B[4;94mhttps://api.openai.com/v1/chat/completions\u001B[0m \u001B[32m\"HTTP/1.1 200 OK\"\u001B[0m           \u001B[2m               \u001B[0m\n"
      ],
      "text/html": [
       "<pre style=\"white-space:pre;overflow-x:auto;line-height:normal;font-family:Menlo,'DejaVu Sans Mono',consolas,'Courier New',monospace\"><span style=\"color: #7fbfbf; text-decoration-color: #7fbfbf\">                    </span><span style=\"color: #000080; text-decoration-color: #000080\">INFO    </span> <span style=\"font-weight: bold\">[</span>_client.py:<span style=\"color: #008080; text-decoration-color: #008080; font-weight: bold\">1773</span><span style=\"font-weight: bold\">]</span> &gt;&gt; HTTP Request: <span style=\"color: #808000; text-decoration-color: #808000; font-weight: bold\">POST</span>                                <a href=\"file:///Users/kimbwook/PycharmProjects/fast-campus/venv/lib/python3.10/site-packages/httpx/_client.py\" target=\"_blank\"><span style=\"color: #7f7f7f; text-decoration-color: #7f7f7f\">_client.py</span></a><span style=\"color: #7f7f7f; text-decoration-color: #7f7f7f\">:</span><a href=\"file:///Users/kimbwook/PycharmProjects/fast-campus/venv/lib/python3.10/site-packages/httpx/_client.py#1773\" target=\"_blank\"><span style=\"color: #7f7f7f; text-decoration-color: #7f7f7f\">1773</span></a>\n",
       "<span style=\"color: #7fbfbf; text-decoration-color: #7fbfbf\">                    </span>         <span style=\"color: #0000ff; text-decoration-color: #0000ff; text-decoration: underline\">https://api.openai.com/v1/chat/completions</span> <span style=\"color: #008000; text-decoration-color: #008000\">\"HTTP/1.1 200 OK\"</span>           <span style=\"color: #7f7f7f; text-decoration-color: #7f7f7f\">               </span>\n",
       "</pre>\n"
      ]
     },
     "metadata": {},
     "output_type": "display_data"
    },
    {
     "data": {
      "text/plain": [
       "\u001B[2;36m                   \u001B[0m\u001B[2;36m \u001B[0m\u001B[34mINFO    \u001B[0m \u001B[1m[\u001B[0m_client.py:\u001B[1;36m1773\u001B[0m\u001B[1m]\u001B[0m >> HTTP Request: \u001B[1;33mPOST\u001B[0m                                \u001B]8;id=525285;file:///Users/kimbwook/PycharmProjects/fast-campus/venv/lib/python3.10/site-packages/httpx/_client.py\u001B\\\u001B[2m_client.py\u001B[0m\u001B]8;;\u001B\\\u001B[2m:\u001B[0m\u001B]8;id=795006;file:///Users/kimbwook/PycharmProjects/fast-campus/venv/lib/python3.10/site-packages/httpx/_client.py#1773\u001B\\\u001B[2m1773\u001B[0m\u001B]8;;\u001B\\\n",
       "\u001B[2;36m                    \u001B[0m         \u001B[4;94mhttps://api.openai.com/v1/chat/completions\u001B[0m \u001B[32m\"HTTP/1.1 200 OK\"\u001B[0m           \u001B[2m               \u001B[0m\n"
      ],
      "text/html": [
       "<pre style=\"white-space:pre;overflow-x:auto;line-height:normal;font-family:Menlo,'DejaVu Sans Mono',consolas,'Courier New',monospace\"><span style=\"color: #7fbfbf; text-decoration-color: #7fbfbf\">                    </span><span style=\"color: #000080; text-decoration-color: #000080\">INFO    </span> <span style=\"font-weight: bold\">[</span>_client.py:<span style=\"color: #008080; text-decoration-color: #008080; font-weight: bold\">1773</span><span style=\"font-weight: bold\">]</span> &gt;&gt; HTTP Request: <span style=\"color: #808000; text-decoration-color: #808000; font-weight: bold\">POST</span>                                <a href=\"file:///Users/kimbwook/PycharmProjects/fast-campus/venv/lib/python3.10/site-packages/httpx/_client.py\" target=\"_blank\"><span style=\"color: #7f7f7f; text-decoration-color: #7f7f7f\">_client.py</span></a><span style=\"color: #7f7f7f; text-decoration-color: #7f7f7f\">:</span><a href=\"file:///Users/kimbwook/PycharmProjects/fast-campus/venv/lib/python3.10/site-packages/httpx/_client.py#1773\" target=\"_blank\"><span style=\"color: #7f7f7f; text-decoration-color: #7f7f7f\">1773</span></a>\n",
       "<span style=\"color: #7fbfbf; text-decoration-color: #7fbfbf\">                    </span>         <span style=\"color: #0000ff; text-decoration-color: #0000ff; text-decoration: underline\">https://api.openai.com/v1/chat/completions</span> <span style=\"color: #008000; text-decoration-color: #008000\">\"HTTP/1.1 200 OK\"</span>           <span style=\"color: #7f7f7f; text-decoration-color: #7f7f7f\">               </span>\n",
       "</pre>\n"
      ]
     },
     "metadata": {},
     "output_type": "display_data"
    },
    {
     "data": {
      "text/plain": [
       "\u001B[2;36m                   \u001B[0m\u001B[2;36m \u001B[0m\u001B[34mINFO    \u001B[0m \u001B[1m[\u001B[0m_client.py:\u001B[1;36m1773\u001B[0m\u001B[1m]\u001B[0m >> HTTP Request: \u001B[1;33mPOST\u001B[0m                                \u001B]8;id=577399;file:///Users/kimbwook/PycharmProjects/fast-campus/venv/lib/python3.10/site-packages/httpx/_client.py\u001B\\\u001B[2m_client.py\u001B[0m\u001B]8;;\u001B\\\u001B[2m:\u001B[0m\u001B]8;id=68710;file:///Users/kimbwook/PycharmProjects/fast-campus/venv/lib/python3.10/site-packages/httpx/_client.py#1773\u001B\\\u001B[2m1773\u001B[0m\u001B]8;;\u001B\\\n",
       "\u001B[2;36m                    \u001B[0m         \u001B[4;94mhttps://api.openai.com/v1/chat/completions\u001B[0m \u001B[32m\"HTTP/1.1 200 OK\"\u001B[0m           \u001B[2m               \u001B[0m\n"
      ],
      "text/html": [
       "<pre style=\"white-space:pre;overflow-x:auto;line-height:normal;font-family:Menlo,'DejaVu Sans Mono',consolas,'Courier New',monospace\"><span style=\"color: #7fbfbf; text-decoration-color: #7fbfbf\">                    </span><span style=\"color: #000080; text-decoration-color: #000080\">INFO    </span> <span style=\"font-weight: bold\">[</span>_client.py:<span style=\"color: #008080; text-decoration-color: #008080; font-weight: bold\">1773</span><span style=\"font-weight: bold\">]</span> &gt;&gt; HTTP Request: <span style=\"color: #808000; text-decoration-color: #808000; font-weight: bold\">POST</span>                                <a href=\"file:///Users/kimbwook/PycharmProjects/fast-campus/venv/lib/python3.10/site-packages/httpx/_client.py\" target=\"_blank\"><span style=\"color: #7f7f7f; text-decoration-color: #7f7f7f\">_client.py</span></a><span style=\"color: #7f7f7f; text-decoration-color: #7f7f7f\">:</span><a href=\"file:///Users/kimbwook/PycharmProjects/fast-campus/venv/lib/python3.10/site-packages/httpx/_client.py#1773\" target=\"_blank\"><span style=\"color: #7f7f7f; text-decoration-color: #7f7f7f\">1773</span></a>\n",
       "<span style=\"color: #7fbfbf; text-decoration-color: #7fbfbf\">                    </span>         <span style=\"color: #0000ff; text-decoration-color: #0000ff; text-decoration: underline\">https://api.openai.com/v1/chat/completions</span> <span style=\"color: #008000; text-decoration-color: #008000\">\"HTTP/1.1 200 OK\"</span>           <span style=\"color: #7f7f7f; text-decoration-color: #7f7f7f\">               </span>\n",
       "</pre>\n"
      ]
     },
     "metadata": {},
     "output_type": "display_data"
    },
    {
     "data": {
      "text/plain": [
       "\u001B[2;36m                   \u001B[0m\u001B[2;36m \u001B[0m\u001B[34mINFO    \u001B[0m \u001B[1m[\u001B[0m_client.py:\u001B[1;36m1773\u001B[0m\u001B[1m]\u001B[0m >> HTTP Request: \u001B[1;33mPOST\u001B[0m                                \u001B]8;id=566952;file:///Users/kimbwook/PycharmProjects/fast-campus/venv/lib/python3.10/site-packages/httpx/_client.py\u001B\\\u001B[2m_client.py\u001B[0m\u001B]8;;\u001B\\\u001B[2m:\u001B[0m\u001B]8;id=230724;file:///Users/kimbwook/PycharmProjects/fast-campus/venv/lib/python3.10/site-packages/httpx/_client.py#1773\u001B\\\u001B[2m1773\u001B[0m\u001B]8;;\u001B\\\n",
       "\u001B[2;36m                    \u001B[0m         \u001B[4;94mhttps://api.openai.com/v1/chat/completions\u001B[0m \u001B[32m\"HTTP/1.1 200 OK\"\u001B[0m           \u001B[2m               \u001B[0m\n"
      ],
      "text/html": [
       "<pre style=\"white-space:pre;overflow-x:auto;line-height:normal;font-family:Menlo,'DejaVu Sans Mono',consolas,'Courier New',monospace\"><span style=\"color: #7fbfbf; text-decoration-color: #7fbfbf\">                    </span><span style=\"color: #000080; text-decoration-color: #000080\">INFO    </span> <span style=\"font-weight: bold\">[</span>_client.py:<span style=\"color: #008080; text-decoration-color: #008080; font-weight: bold\">1773</span><span style=\"font-weight: bold\">]</span> &gt;&gt; HTTP Request: <span style=\"color: #808000; text-decoration-color: #808000; font-weight: bold\">POST</span>                                <a href=\"file:///Users/kimbwook/PycharmProjects/fast-campus/venv/lib/python3.10/site-packages/httpx/_client.py\" target=\"_blank\"><span style=\"color: #7f7f7f; text-decoration-color: #7f7f7f\">_client.py</span></a><span style=\"color: #7f7f7f; text-decoration-color: #7f7f7f\">:</span><a href=\"file:///Users/kimbwook/PycharmProjects/fast-campus/venv/lib/python3.10/site-packages/httpx/_client.py#1773\" target=\"_blank\"><span style=\"color: #7f7f7f; text-decoration-color: #7f7f7f\">1773</span></a>\n",
       "<span style=\"color: #7fbfbf; text-decoration-color: #7fbfbf\">                    </span>         <span style=\"color: #0000ff; text-decoration-color: #0000ff; text-decoration: underline\">https://api.openai.com/v1/chat/completions</span> <span style=\"color: #008000; text-decoration-color: #008000\">\"HTTP/1.1 200 OK\"</span>           <span style=\"color: #7f7f7f; text-decoration-color: #7f7f7f\">               </span>\n",
       "</pre>\n"
      ]
     },
     "metadata": {},
     "output_type": "display_data"
    },
    {
     "data": {
      "text/plain": [
       "\u001B[2;36m                   \u001B[0m\u001B[2;36m \u001B[0m\u001B[34mINFO    \u001B[0m \u001B[1m[\u001B[0m_client.py:\u001B[1;36m1773\u001B[0m\u001B[1m]\u001B[0m >> HTTP Request: \u001B[1;33mPOST\u001B[0m                                \u001B]8;id=945617;file:///Users/kimbwook/PycharmProjects/fast-campus/venv/lib/python3.10/site-packages/httpx/_client.py\u001B\\\u001B[2m_client.py\u001B[0m\u001B]8;;\u001B\\\u001B[2m:\u001B[0m\u001B]8;id=727288;file:///Users/kimbwook/PycharmProjects/fast-campus/venv/lib/python3.10/site-packages/httpx/_client.py#1773\u001B\\\u001B[2m1773\u001B[0m\u001B]8;;\u001B\\\n",
       "\u001B[2;36m                    \u001B[0m         \u001B[4;94mhttps://api.openai.com/v1/chat/completions\u001B[0m \u001B[32m\"HTTP/1.1 200 OK\"\u001B[0m           \u001B[2m               \u001B[0m\n"
      ],
      "text/html": [
       "<pre style=\"white-space:pre;overflow-x:auto;line-height:normal;font-family:Menlo,'DejaVu Sans Mono',consolas,'Courier New',monospace\"><span style=\"color: #7fbfbf; text-decoration-color: #7fbfbf\">                    </span><span style=\"color: #000080; text-decoration-color: #000080\">INFO    </span> <span style=\"font-weight: bold\">[</span>_client.py:<span style=\"color: #008080; text-decoration-color: #008080; font-weight: bold\">1773</span><span style=\"font-weight: bold\">]</span> &gt;&gt; HTTP Request: <span style=\"color: #808000; text-decoration-color: #808000; font-weight: bold\">POST</span>                                <a href=\"file:///Users/kimbwook/PycharmProjects/fast-campus/venv/lib/python3.10/site-packages/httpx/_client.py\" target=\"_blank\"><span style=\"color: #7f7f7f; text-decoration-color: #7f7f7f\">_client.py</span></a><span style=\"color: #7f7f7f; text-decoration-color: #7f7f7f\">:</span><a href=\"file:///Users/kimbwook/PycharmProjects/fast-campus/venv/lib/python3.10/site-packages/httpx/_client.py#1773\" target=\"_blank\"><span style=\"color: #7f7f7f; text-decoration-color: #7f7f7f\">1773</span></a>\n",
       "<span style=\"color: #7fbfbf; text-decoration-color: #7fbfbf\">                    </span>         <span style=\"color: #0000ff; text-decoration-color: #0000ff; text-decoration: underline\">https://api.openai.com/v1/chat/completions</span> <span style=\"color: #008000; text-decoration-color: #008000\">\"HTTP/1.1 200 OK\"</span>           <span style=\"color: #7f7f7f; text-decoration-color: #7f7f7f\">               </span>\n",
       "</pre>\n"
      ]
     },
     "metadata": {},
     "output_type": "display_data"
    },
    {
     "data": {
      "text/plain": [
       "\u001B[2;36m[01/30/25 13:42:05]\u001B[0m\u001B[2;36m \u001B[0m\u001B[34mINFO    \u001B[0m \u001B[1m[\u001B[0m_client.py:\u001B[1;36m1773\u001B[0m\u001B[1m]\u001B[0m >> HTTP Request: \u001B[1;33mPOST\u001B[0m                                \u001B]8;id=71336;file:///Users/kimbwook/PycharmProjects/fast-campus/venv/lib/python3.10/site-packages/httpx/_client.py\u001B\\\u001B[2m_client.py\u001B[0m\u001B]8;;\u001B\\\u001B[2m:\u001B[0m\u001B]8;id=468101;file:///Users/kimbwook/PycharmProjects/fast-campus/venv/lib/python3.10/site-packages/httpx/_client.py#1773\u001B\\\u001B[2m1773\u001B[0m\u001B]8;;\u001B\\\n",
       "\u001B[2;36m                    \u001B[0m         \u001B[4;94mhttps://api.openai.com/v1/chat/completions\u001B[0m \u001B[32m\"HTTP/1.1 200 OK\"\u001B[0m           \u001B[2m               \u001B[0m\n"
      ],
      "text/html": [
       "<pre style=\"white-space:pre;overflow-x:auto;line-height:normal;font-family:Menlo,'DejaVu Sans Mono',consolas,'Courier New',monospace\"><span style=\"color: #7fbfbf; text-decoration-color: #7fbfbf\">[01/30/25 13:42:05] </span><span style=\"color: #000080; text-decoration-color: #000080\">INFO    </span> <span style=\"font-weight: bold\">[</span>_client.py:<span style=\"color: #008080; text-decoration-color: #008080; font-weight: bold\">1773</span><span style=\"font-weight: bold\">]</span> &gt;&gt; HTTP Request: <span style=\"color: #808000; text-decoration-color: #808000; font-weight: bold\">POST</span>                                <a href=\"file:///Users/kimbwook/PycharmProjects/fast-campus/venv/lib/python3.10/site-packages/httpx/_client.py\" target=\"_blank\"><span style=\"color: #7f7f7f; text-decoration-color: #7f7f7f\">_client.py</span></a><span style=\"color: #7f7f7f; text-decoration-color: #7f7f7f\">:</span><a href=\"file:///Users/kimbwook/PycharmProjects/fast-campus/venv/lib/python3.10/site-packages/httpx/_client.py#1773\" target=\"_blank\"><span style=\"color: #7f7f7f; text-decoration-color: #7f7f7f\">1773</span></a>\n",
       "<span style=\"color: #7fbfbf; text-decoration-color: #7fbfbf\">                    </span>         <span style=\"color: #0000ff; text-decoration-color: #0000ff; text-decoration: underline\">https://api.openai.com/v1/chat/completions</span> <span style=\"color: #008000; text-decoration-color: #008000\">\"HTTP/1.1 200 OK\"</span>           <span style=\"color: #7f7f7f; text-decoration-color: #7f7f7f\">               </span>\n",
       "</pre>\n"
      ]
     },
     "metadata": {},
     "output_type": "display_data"
    },
    {
     "data": {
      "text/plain": [
       "\u001B[2;36m                   \u001B[0m\u001B[2;36m \u001B[0m\u001B[34mINFO    \u001B[0m \u001B[1m[\u001B[0m_client.py:\u001B[1;36m1773\u001B[0m\u001B[1m]\u001B[0m >> HTTP Request: \u001B[1;33mPOST\u001B[0m                                \u001B]8;id=596446;file:///Users/kimbwook/PycharmProjects/fast-campus/venv/lib/python3.10/site-packages/httpx/_client.py\u001B\\\u001B[2m_client.py\u001B[0m\u001B]8;;\u001B\\\u001B[2m:\u001B[0m\u001B]8;id=389840;file:///Users/kimbwook/PycharmProjects/fast-campus/venv/lib/python3.10/site-packages/httpx/_client.py#1773\u001B\\\u001B[2m1773\u001B[0m\u001B]8;;\u001B\\\n",
       "\u001B[2;36m                    \u001B[0m         \u001B[4;94mhttps://api.openai.com/v1/chat/completions\u001B[0m \u001B[32m\"HTTP/1.1 200 OK\"\u001B[0m           \u001B[2m               \u001B[0m\n"
      ],
      "text/html": [
       "<pre style=\"white-space:pre;overflow-x:auto;line-height:normal;font-family:Menlo,'DejaVu Sans Mono',consolas,'Courier New',monospace\"><span style=\"color: #7fbfbf; text-decoration-color: #7fbfbf\">                    </span><span style=\"color: #000080; text-decoration-color: #000080\">INFO    </span> <span style=\"font-weight: bold\">[</span>_client.py:<span style=\"color: #008080; text-decoration-color: #008080; font-weight: bold\">1773</span><span style=\"font-weight: bold\">]</span> &gt;&gt; HTTP Request: <span style=\"color: #808000; text-decoration-color: #808000; font-weight: bold\">POST</span>                                <a href=\"file:///Users/kimbwook/PycharmProjects/fast-campus/venv/lib/python3.10/site-packages/httpx/_client.py\" target=\"_blank\"><span style=\"color: #7f7f7f; text-decoration-color: #7f7f7f\">_client.py</span></a><span style=\"color: #7f7f7f; text-decoration-color: #7f7f7f\">:</span><a href=\"file:///Users/kimbwook/PycharmProjects/fast-campus/venv/lib/python3.10/site-packages/httpx/_client.py#1773\" target=\"_blank\"><span style=\"color: #7f7f7f; text-decoration-color: #7f7f7f\">1773</span></a>\n",
       "<span style=\"color: #7fbfbf; text-decoration-color: #7fbfbf\">                    </span>         <span style=\"color: #0000ff; text-decoration-color: #0000ff; text-decoration: underline\">https://api.openai.com/v1/chat/completions</span> <span style=\"color: #008000; text-decoration-color: #008000\">\"HTTP/1.1 200 OK\"</span>           <span style=\"color: #7f7f7f; text-decoration-color: #7f7f7f\">               </span>\n",
       "</pre>\n"
      ]
     },
     "metadata": {},
     "output_type": "display_data"
    },
    {
     "data": {
      "text/plain": [
       "\u001B[2;36m[01/30/25 13:42:08]\u001B[0m\u001B[2;36m \u001B[0m\u001B[34mINFO    \u001B[0m \u001B[1m[\u001B[0m_client.py:\u001B[1;36m1773\u001B[0m\u001B[1m]\u001B[0m >> HTTP Request: \u001B[1;33mPOST\u001B[0m                                \u001B]8;id=126298;file:///Users/kimbwook/PycharmProjects/fast-campus/venv/lib/python3.10/site-packages/httpx/_client.py\u001B\\\u001B[2m_client.py\u001B[0m\u001B]8;;\u001B\\\u001B[2m:\u001B[0m\u001B]8;id=378286;file:///Users/kimbwook/PycharmProjects/fast-campus/venv/lib/python3.10/site-packages/httpx/_client.py#1773\u001B\\\u001B[2m1773\u001B[0m\u001B]8;;\u001B\\\n",
       "\u001B[2;36m                    \u001B[0m         \u001B[4;94mhttps://api.openai.com/v1/chat/completions\u001B[0m \u001B[32m\"HTTP/1.1 200 OK\"\u001B[0m           \u001B[2m               \u001B[0m\n"
      ],
      "text/html": [
       "<pre style=\"white-space:pre;overflow-x:auto;line-height:normal;font-family:Menlo,'DejaVu Sans Mono',consolas,'Courier New',monospace\"><span style=\"color: #7fbfbf; text-decoration-color: #7fbfbf\">[01/30/25 13:42:08] </span><span style=\"color: #000080; text-decoration-color: #000080\">INFO    </span> <span style=\"font-weight: bold\">[</span>_client.py:<span style=\"color: #008080; text-decoration-color: #008080; font-weight: bold\">1773</span><span style=\"font-weight: bold\">]</span> &gt;&gt; HTTP Request: <span style=\"color: #808000; text-decoration-color: #808000; font-weight: bold\">POST</span>                                <a href=\"file:///Users/kimbwook/PycharmProjects/fast-campus/venv/lib/python3.10/site-packages/httpx/_client.py\" target=\"_blank\"><span style=\"color: #7f7f7f; text-decoration-color: #7f7f7f\">_client.py</span></a><span style=\"color: #7f7f7f; text-decoration-color: #7f7f7f\">:</span><a href=\"file:///Users/kimbwook/PycharmProjects/fast-campus/venv/lib/python3.10/site-packages/httpx/_client.py#1773\" target=\"_blank\"><span style=\"color: #7f7f7f; text-decoration-color: #7f7f7f\">1773</span></a>\n",
       "<span style=\"color: #7fbfbf; text-decoration-color: #7fbfbf\">                    </span>         <span style=\"color: #0000ff; text-decoration-color: #0000ff; text-decoration: underline\">https://api.openai.com/v1/chat/completions</span> <span style=\"color: #008000; text-decoration-color: #008000\">\"HTTP/1.1 200 OK\"</span>           <span style=\"color: #7f7f7f; text-decoration-color: #7f7f7f\">               </span>\n",
       "</pre>\n"
      ]
     },
     "metadata": {},
     "output_type": "display_data"
    }
   ],
   "execution_count": 12
  },
  {
   "metadata": {},
   "cell_type": "markdown",
   "source": "#### 결과 확인",
   "id": "bf6e1b6df94cb80d"
  },
  {
   "metadata": {
    "ExecuteTime": {
     "end_time": "2025-01-30T04:42:17.341365Z",
     "start_time": "2025-01-30T04:42:17.325137Z"
    }
   },
   "cell_type": "code",
   "outputs": [
    {
     "data": {
      "text/plain": [
       "                                     qid  \\\n",
       "0   6d1ec768-e872-44fe-9080-6a4b8828da09   \n",
       "1   f99ba0f3-b2da-4cdb-98fc-380fbb2f5e17   \n",
       "2   f3afe648-ccdd-414b-9dd7-8c054c031bc3   \n",
       "3   50aa50bd-ef0d-47a8-bd18-0b8c7eddd253   \n",
       "4   d6fd53eb-42ee-4835-83eb-72afac55bf51   \n",
       "5   0bcf8d62-9497-4f5a-a4fa-8626b9b5018b   \n",
       "6   edb95b03-e5aa-4ce7-9307-08505e3c377f   \n",
       "7   9e337798-8cb6-4e56-8ebe-a7196abd3888   \n",
       "8   6a16546d-d5cf-491c-abd7-0df5ff9a5c22   \n",
       "9   a43cac50-414e-4d66-80ce-3c882dfa1bd9   \n",
       "10  ccea0081-f8a5-4902-8817-9b7f13c00519   \n",
       "11  9c92b2f2-a55e-49b9-a01f-252d13a44157   \n",
       "12  a8ac21f5-e17f-4024-ba69-2e0917250594   \n",
       "13  1db0d37d-e280-4275-8ee4-651cb4310df6   \n",
       "14  bb2df721-3ed7-4d3f-8651-b02d71b79c15   \n",
       "\n",
       "                                retrieval_gt  \\\n",
       "0   [[2ea156c5-99b4-4338-9306-d139abe8b44e]]   \n",
       "1   [[a389cfdf-361a-45b7-bf77-91ab137e8392]]   \n",
       "2   [[2bed192d-9591-405c-a39f-025caee6a7e4]]   \n",
       "3   [[3d329be3-89db-4e3b-bb83-6ac1d6eb23e6]]   \n",
       "4   [[96db994a-b5f5-49c4-8fff-e6668148da3f]]   \n",
       "5   [[4662da6c-ae20-4889-8289-0fd53b00cc76]]   \n",
       "6   [[07090a61-45c2-4280-b2fb-b3e4647f0e88]]   \n",
       "7   [[6ebf10d4-1abe-4d0c-b0fb-cc5c0b77eb6d]]   \n",
       "8   [[3d0914ba-78e8-4572-b4bb-fc6695c94130]]   \n",
       "9   [[494d83d0-761c-4e71-ae71-de73106e9bda]]   \n",
       "10  [[b6ec042a-c356-464f-9262-2814db452d28]]   \n",
       "11  [[b1d90b0a-96b1-48d0-beb2-085eb1fbdce5]]   \n",
       "12  [[3cbe35ee-eb83-4a14-8e34-b92001b28350]]   \n",
       "13  [[4398e7fc-2460-40d4-be91-e9af60e17f61]]   \n",
       "14  [[496d5979-5202-4021-98c1-64100fe59a88]]   \n",
       "\n",
       "                                retrieval_gt_contents  \\\n",
       "0   [[5.09 아웃\\r\\n․ 58 ․\\r\\n다 빨리 2루에 도달했고 타자주자는 1루에...   \n",
       "1   [[본 규칙 5.02(c)의 적용을 모면하거나 회피하려고 시도한다면, \\r\\n심판은...   \n",
       "2   [[다음 연도 신인 드래프트에서 동일 라운드 종료 후 추가 보\\r\\n상 지명을 실시...   \n",
       "3   [[출장정지 제재를 받은 자는 제재 종료일까지 KBO 정규시즌, \\r\\n포스트시즌,...   \n",
       "4   [[치수를 잴 때는 계\\r\\n측기나 줄자를 글러브의 앞쪽 또는 공을 잡는 쪽에 접촉...   \n",
       "5   [[쳤다. 땅볼을 받은 \\r\\n1루수는 1루주자를 포스 아웃시키려고 2루에 송구하였...   \n",
       "6   [[고의낙구 하더라도 5.09⒜⑿의 규정에 관계없이 볼 인 플레이며, \\r\\n인필드...   \n",
       "7   [[시상 \\r\\n투수 부문 - 평균자책점상, 승리상\\r\\n타자 부문 - 타율상, 홈...   \n",
       "8   [[설\\r\\n사 관중이 그 플레이를 방해하더라도 수비방해의 이득을 얻을 수는 없\\r...   \n",
       "9   [[플레이 시도 시 슬라이딩\\r\\n주자가 더블 플레이 성립을 방해하기 위한 목적으로...   \n",
       "10  [[용어의 정의 45~51\\r\\n․ 179 ․\\r\\n45. LEAGUE (리그) \\...   \n",
       "11  [[7\\r\\n당해 시즌에 현역선수로 1일 이상 등록한 부상선수에 한해 시즌 \\r\\n...   \n",
       "12  [[․ 2 ․\\r\\n2.00 경 기 장\\r\\n2.01 경기장의 설정\\r\\n경기장은 ...   \n",
       "13  [[2루에\\r\\n서 포스 아웃된 뒤 어필에 의해 정위타자가 아웃을 선고받으\\r\\n면...   \n",
       "14  [[인정하지 않는다. 심판원이 \\r\\n주자가 6.01(j)를 위반했다고 판단한 경우...   \n",
       "\n",
       "                                                query  \\\n",
       "0                              포스 상태가 해제되는 경우는 무엇입니까?   \n",
       "1   규칙 5.02(c)를 어떻게 모면하거나 회피하려고 시도하는 경우 어떤 벌칙이 부과되나요?   \n",
       "2   KBO 신인 드래프트에서 선수가 외국 프로구단과 계약 협상을 진행한 후에도 KBO ...   \n",
       "3                    출장정지 제재를 받은 자는 어떤 경기에 출장할 수 없나요?   \n",
       "4                     치수를 잴 때 어디에 계측기나 줄자를 접촉시켜야 하나요?   \n",
       "5   1루수가 1루주자를 포스 아웃시키려고 2루에 송구했을 때, 심판이 투수의 주루방해를...   \n",
       "6   인필드 플라이 동안 수비방해가 선언되면 타구가 페어 / 파울로 결정될 때까지는 어떤...   \n",
       "7      야구 시상에서 투수 부문과 타자 부문으로 나누어 시상하는데, 어떤 상이 시상되는가?   \n",
       "8   야구에서 덕아웃 부근에서 플라이 볼을 잡으려는 야수가 덕아웃 안으로 빠지지 않으려고...   \n",
       "9   야구에서 주자가 더블 플레이을 방해하기 위한 목적으로 '정당한 슬라이딩'이란 무엇입니까?   \n",
       "10                    라인 드라이브(line drive)란 무엇을 의미합니까?   \n",
       "11  부상자 명단에 등재된 선수가 동일한 부상을 사유로 연장 신청할 경우 추가 진단서 없...   \n",
       "12                야구 경기장을 설정할 때 1루와 3루 사이의 거리는 얼마인가요?   \n",
       "13    정위타자가 아웃을 선고받은 후 어필이 있을 때 1루주자의 포스 아웃은 어떻게 되는가?   \n",
       "14                              투수가 보크가 되는 경우는 무엇입니까?   \n",
       "\n",
       "                                        generation_gt  \n",
       "0   [포스 상태가 해제되는 경우는 태그 플레이가 발생할 때입니다., 타자가 주자가 됨에...  \n",
       "1   [규칙 5.02(c)를 모면하거나 회피하려고 시도하는 경우, 수비팀이 해당 규칙을 ...  \n",
       "2   [KBO 신인 드래프트에서 선수가 외국 프로구단과 계약 협상을 진행한 후에도 KBO...  \n",
       "3   [출장정지 제재를 받은 자는 KBO 정규시즌, 포스트시즌, 퓨처스리그 경기에 출장할...  \n",
       "4   [계측기나 줄자를 글러브의 앞쪽 또는 공을 잡는 쪽에 접촉시켜야 합니다., 글러브의...  \n",
       "5   [심판이 투수의 주루방해를 인정하면 \"업스트럭션\"을 선고하고 볼을 데드로 하며, 이...  \n",
       "6   [인필드 플라이 동안 수비방해가 선언되면 타구가 페어 / 파울로 결정될 때까지는 인...  \n",
       "7   [야구 시상에서 투수 부문은 평균자책점상과 승리상이 시상되며, 타자 부문은 타율상,...  \n",
       "8                       [공을 잡으면 정규의 포구가 됩니다., 정규의 포구]  \n",
       "9   [야구에서 주자가 더블 플레이을 방해하기 위한 목적으로 '정당한 슬라이딩'은 베이스...  \n",
       "10  [라인 드라이브(line drive)란 타자가 배트로 가격한 타구가 지면에 닿지 않...  \n",
       "11  [네, 부상자 명단에 등재된 선수가 동일한 부상을 사유로 연장 신청할 경우에는 추가...  \n",
       "12  [1루와 3루 사이의 거리는 127피트 3⅜인치(38.795m)입니다., 127피트...  \n",
       "13                       [1루주자의 포스 아웃은 취소됩니다., 취소된다.]  \n",
       "14  [투수가 보크가 되는 경우는 베이스에 주자가 있을 때, 투수판에 중심발을 대고 있는...  "
      ],
      "text/html": [
       "<div>\n",
       "<style scoped>\n",
       "    .dataframe tbody tr th:only-of-type {\n",
       "        vertical-align: middle;\n",
       "    }\n",
       "\n",
       "    .dataframe tbody tr th {\n",
       "        vertical-align: top;\n",
       "    }\n",
       "\n",
       "    .dataframe thead th {\n",
       "        text-align: right;\n",
       "    }\n",
       "</style>\n",
       "<table border=\"1\" class=\"dataframe\">\n",
       "  <thead>\n",
       "    <tr style=\"text-align: right;\">\n",
       "      <th></th>\n",
       "      <th>qid</th>\n",
       "      <th>retrieval_gt</th>\n",
       "      <th>retrieval_gt_contents</th>\n",
       "      <th>query</th>\n",
       "      <th>generation_gt</th>\n",
       "    </tr>\n",
       "  </thead>\n",
       "  <tbody>\n",
       "    <tr>\n",
       "      <th>0</th>\n",
       "      <td>6d1ec768-e872-44fe-9080-6a4b8828da09</td>\n",
       "      <td>[[2ea156c5-99b4-4338-9306-d139abe8b44e]]</td>\n",
       "      <td>[[5.09 아웃\\r\\n․ 58 ․\\r\\n다 빨리 2루에 도달했고 타자주자는 1루에...</td>\n",
       "      <td>포스 상태가 해제되는 경우는 무엇입니까?</td>\n",
       "      <td>[포스 상태가 해제되는 경우는 태그 플레이가 발생할 때입니다., 타자가 주자가 됨에...</td>\n",
       "    </tr>\n",
       "    <tr>\n",
       "      <th>1</th>\n",
       "      <td>f99ba0f3-b2da-4cdb-98fc-380fbb2f5e17</td>\n",
       "      <td>[[a389cfdf-361a-45b7-bf77-91ab137e8392]]</td>\n",
       "      <td>[[본 규칙 5.02(c)의 적용을 모면하거나 회피하려고 시도한다면, \\r\\n심판은...</td>\n",
       "      <td>규칙 5.02(c)를 어떻게 모면하거나 회피하려고 시도하는 경우 어떤 벌칙이 부과되나요?</td>\n",
       "      <td>[규칙 5.02(c)를 모면하거나 회피하려고 시도하는 경우, 수비팀이 해당 규칙을 ...</td>\n",
       "    </tr>\n",
       "    <tr>\n",
       "      <th>2</th>\n",
       "      <td>f3afe648-ccdd-414b-9dd7-8c054c031bc3</td>\n",
       "      <td>[[2bed192d-9591-405c-a39f-025caee6a7e4]]</td>\n",
       "      <td>[[다음 연도 신인 드래프트에서 동일 라운드 종료 후 추가 보\\r\\n상 지명을 실시...</td>\n",
       "      <td>KBO 신인 드래프트에서 선수가 외국 프로구단과 계약 협상을 진행한 후에도 KBO ...</td>\n",
       "      <td>[KBO 신인 드래프트에서 선수가 외국 프로구단과 계약 협상을 진행한 후에도 KBO...</td>\n",
       "    </tr>\n",
       "    <tr>\n",
       "      <th>3</th>\n",
       "      <td>50aa50bd-ef0d-47a8-bd18-0b8c7eddd253</td>\n",
       "      <td>[[3d329be3-89db-4e3b-bb83-6ac1d6eb23e6]]</td>\n",
       "      <td>[[출장정지 제재를 받은 자는 제재 종료일까지 KBO 정규시즌, \\r\\n포스트시즌,...</td>\n",
       "      <td>출장정지 제재를 받은 자는 어떤 경기에 출장할 수 없나요?</td>\n",
       "      <td>[출장정지 제재를 받은 자는 KBO 정규시즌, 포스트시즌, 퓨처스리그 경기에 출장할...</td>\n",
       "    </tr>\n",
       "    <tr>\n",
       "      <th>4</th>\n",
       "      <td>d6fd53eb-42ee-4835-83eb-72afac55bf51</td>\n",
       "      <td>[[96db994a-b5f5-49c4-8fff-e6668148da3f]]</td>\n",
       "      <td>[[치수를 잴 때는 계\\r\\n측기나 줄자를 글러브의 앞쪽 또는 공을 잡는 쪽에 접촉...</td>\n",
       "      <td>치수를 잴 때 어디에 계측기나 줄자를 접촉시켜야 하나요?</td>\n",
       "      <td>[계측기나 줄자를 글러브의 앞쪽 또는 공을 잡는 쪽에 접촉시켜야 합니다., 글러브의...</td>\n",
       "    </tr>\n",
       "    <tr>\n",
       "      <th>5</th>\n",
       "      <td>0bcf8d62-9497-4f5a-a4fa-8626b9b5018b</td>\n",
       "      <td>[[4662da6c-ae20-4889-8289-0fd53b00cc76]]</td>\n",
       "      <td>[[쳤다. 땅볼을 받은 \\r\\n1루수는 1루주자를 포스 아웃시키려고 2루에 송구하였...</td>\n",
       "      <td>1루수가 1루주자를 포스 아웃시키려고 2루에 송구했을 때, 심판이 투수의 주루방해를...</td>\n",
       "      <td>[심판이 투수의 주루방해를 인정하면 \"업스트럭션\"을 선고하고 볼을 데드로 하며, 이...</td>\n",
       "    </tr>\n",
       "    <tr>\n",
       "      <th>6</th>\n",
       "      <td>edb95b03-e5aa-4ce7-9307-08505e3c377f</td>\n",
       "      <td>[[07090a61-45c2-4280-b2fb-b3e4647f0e88]]</td>\n",
       "      <td>[[고의낙구 하더라도 5.09⒜⑿의 규정에 관계없이 볼 인 플레이며, \\r\\n인필드...</td>\n",
       "      <td>인필드 플라이 동안 수비방해가 선언되면 타구가 페어 / 파울로 결정될 때까지는 어떤...</td>\n",
       "      <td>[인필드 플라이 동안 수비방해가 선언되면 타구가 페어 / 파울로 결정될 때까지는 인...</td>\n",
       "    </tr>\n",
       "    <tr>\n",
       "      <th>7</th>\n",
       "      <td>9e337798-8cb6-4e56-8ebe-a7196abd3888</td>\n",
       "      <td>[[6ebf10d4-1abe-4d0c-b0fb-cc5c0b77eb6d]]</td>\n",
       "      <td>[[시상 \\r\\n투수 부문 - 평균자책점상, 승리상\\r\\n타자 부문 - 타율상, 홈...</td>\n",
       "      <td>야구 시상에서 투수 부문과 타자 부문으로 나누어 시상하는데, 어떤 상이 시상되는가?</td>\n",
       "      <td>[야구 시상에서 투수 부문은 평균자책점상과 승리상이 시상되며, 타자 부문은 타율상,...</td>\n",
       "    </tr>\n",
       "    <tr>\n",
       "      <th>8</th>\n",
       "      <td>6a16546d-d5cf-491c-abd7-0df5ff9a5c22</td>\n",
       "      <td>[[3d0914ba-78e8-4572-b4bb-fc6695c94130]]</td>\n",
       "      <td>[[설\\r\\n사 관중이 그 플레이를 방해하더라도 수비방해의 이득을 얻을 수는 없\\r...</td>\n",
       "      <td>야구에서 덕아웃 부근에서 플라이 볼을 잡으려는 야수가 덕아웃 안으로 빠지지 않으려고...</td>\n",
       "      <td>[공을 잡으면 정규의 포구가 됩니다., 정규의 포구]</td>\n",
       "    </tr>\n",
       "    <tr>\n",
       "      <th>9</th>\n",
       "      <td>a43cac50-414e-4d66-80ce-3c882dfa1bd9</td>\n",
       "      <td>[[494d83d0-761c-4e71-ae71-de73106e9bda]]</td>\n",
       "      <td>[[플레이 시도 시 슬라이딩\\r\\n주자가 더블 플레이 성립을 방해하기 위한 목적으로...</td>\n",
       "      <td>야구에서 주자가 더블 플레이을 방해하기 위한 목적으로 '정당한 슬라이딩'이란 무엇입니까?</td>\n",
       "      <td>[야구에서 주자가 더블 플레이을 방해하기 위한 목적으로 '정당한 슬라이딩'은 베이스...</td>\n",
       "    </tr>\n",
       "    <tr>\n",
       "      <th>10</th>\n",
       "      <td>ccea0081-f8a5-4902-8817-9b7f13c00519</td>\n",
       "      <td>[[b6ec042a-c356-464f-9262-2814db452d28]]</td>\n",
       "      <td>[[용어의 정의 45~51\\r\\n․ 179 ․\\r\\n45. LEAGUE (리그) \\...</td>\n",
       "      <td>라인 드라이브(line drive)란 무엇을 의미합니까?</td>\n",
       "      <td>[라인 드라이브(line drive)란 타자가 배트로 가격한 타구가 지면에 닿지 않...</td>\n",
       "    </tr>\n",
       "    <tr>\n",
       "      <th>11</th>\n",
       "      <td>9c92b2f2-a55e-49b9-a01f-252d13a44157</td>\n",
       "      <td>[[b1d90b0a-96b1-48d0-beb2-085eb1fbdce5]]</td>\n",
       "      <td>[[7\\r\\n당해 시즌에 현역선수로 1일 이상 등록한 부상선수에 한해 시즌 \\r\\n...</td>\n",
       "      <td>부상자 명단에 등재된 선수가 동일한 부상을 사유로 연장 신청할 경우 추가 진단서 없...</td>\n",
       "      <td>[네, 부상자 명단에 등재된 선수가 동일한 부상을 사유로 연장 신청할 경우에는 추가...</td>\n",
       "    </tr>\n",
       "    <tr>\n",
       "      <th>12</th>\n",
       "      <td>a8ac21f5-e17f-4024-ba69-2e0917250594</td>\n",
       "      <td>[[3cbe35ee-eb83-4a14-8e34-b92001b28350]]</td>\n",
       "      <td>[[․ 2 ․\\r\\n2.00 경 기 장\\r\\n2.01 경기장의 설정\\r\\n경기장은 ...</td>\n",
       "      <td>야구 경기장을 설정할 때 1루와 3루 사이의 거리는 얼마인가요?</td>\n",
       "      <td>[1루와 3루 사이의 거리는 127피트 3⅜인치(38.795m)입니다., 127피트...</td>\n",
       "    </tr>\n",
       "    <tr>\n",
       "      <th>13</th>\n",
       "      <td>1db0d37d-e280-4275-8ee4-651cb4310df6</td>\n",
       "      <td>[[4398e7fc-2460-40d4-be91-e9af60e17f61]]</td>\n",
       "      <td>[[2루에\\r\\n서 포스 아웃된 뒤 어필에 의해 정위타자가 아웃을 선고받으\\r\\n면...</td>\n",
       "      <td>정위타자가 아웃을 선고받은 후 어필이 있을 때 1루주자의 포스 아웃은 어떻게 되는가?</td>\n",
       "      <td>[1루주자의 포스 아웃은 취소됩니다., 취소된다.]</td>\n",
       "    </tr>\n",
       "    <tr>\n",
       "      <th>14</th>\n",
       "      <td>bb2df721-3ed7-4d3f-8651-b02d71b79c15</td>\n",
       "      <td>[[496d5979-5202-4021-98c1-64100fe59a88]]</td>\n",
       "      <td>[[인정하지 않는다. 심판원이 \\r\\n주자가 6.01(j)를 위반했다고 판단한 경우...</td>\n",
       "      <td>투수가 보크가 되는 경우는 무엇입니까?</td>\n",
       "      <td>[투수가 보크가 되는 경우는 베이스에 주자가 있을 때, 투수판에 중심발을 대고 있는...</td>\n",
       "    </tr>\n",
       "  </tbody>\n",
       "</table>\n",
       "</div>"
      ]
     },
     "execution_count": 13,
     "metadata": {},
     "output_type": "execute_result"
    }
   ],
   "execution_count": 13,
   "source": "initial_qa.data",
   "id": "3882bd709696d82f"
  },
  {
   "metadata": {},
   "cell_type": "markdown",
   "source": [
    "결과를 보니 질문이 잘 나온 것도 있지만 2번째 질문처럼 이상한 질문이 나온 것도 있습니다.\n",
    "\n",
    "2번 질문 같이 문서를 노골적으로 보고 말하는 거 같은 질문 (규칙 5.02(c)를 ~)을 만들지 않기 위해, \n",
    "프롬프트를 Custom으로 제작해봐야겠습니다.\n",
    "\n",
    "좀 더 정확한 평가를 위해서는 2번 질문 같은 질문은 지워주지만, 이번 실습에서는 포함 시키도록 하겠습니다 : )"
   ],
   "id": "aee43d358ba47c89"
  },
  {
   "metadata": {},
   "cell_type": "markdown",
   "source": "일단 만들어둔 qa 데이터셋을 잘 저장해줍니다. (저장은 필수입니다 !!)",
   "id": "c0a2d37658a0ba44"
  },
  {
   "metadata": {
    "ExecuteTime": {
     "end_time": "2025-01-30T04:45:19.391725Z",
     "start_time": "2025-01-30T04:45:19.385565Z"
    }
   },
   "cell_type": "code",
   "outputs": [],
   "execution_count": 16,
   "source": [
    "llm_qa_path = os.path.join(root_dir, 'autorag_project', 'final', 'qa', 'llm_qa.parquet')\n",
    "initial_qa.data.to_parquet(llm_qa_path)"
   ],
   "id": "5356f1ad2bbffebb"
  },
  {
   "metadata": {},
   "cell_type": "markdown",
   "source": [
    "# 2. Human in the Loop 실습\n",
    "\n",
    "Custom 프롬프트를 함께 작성해봅시다!"
   ],
   "id": "756d92467ba21216"
  },
  {
   "metadata": {
    "ExecuteTime": {
     "end_time": "2025-01-30T05:01:53.164436Z",
     "start_time": "2025-01-30T05:01:53.161844Z"
    }
   },
   "cell_type": "code",
   "source": [
    "before_prompt = \"\"\"\n",
    "당신은 스타트업의 지원 프로그램 중 하나인 \"글로벌 팁스 프로그램\"에 대해 알려주는 어시스턴트의 관리자입니다.\n",
    "RAG 시스템을 관리를 위해, 사용자들의 예상 질문을 추출해야 합니다.\n",
    "주어지는 문서는 글로벌 팁스 프로그램에 대한 안내 문서입니다.\n",
    "문서를 보고 예상되는 사용자들의 질문을 적으세요.\n",
    "단, 반드시 하나의 질문만을 생성하세요.\n",
    "생성하는 질문에는 미사여구 없이, 해당 질문만이 포함되어야 합니다.\n",
    "\"\"\""
   ],
   "id": "7b1f841213566f55",
   "outputs": [],
   "execution_count": 18
  },
  {
   "metadata": {
    "ExecuteTime": {
     "end_time": "2025-01-30T05:01:58.347762Z",
     "start_time": "2025-01-30T05:01:58.343252Z"
    }
   },
   "cell_type": "code",
   "source": [
    "from llama_index.core.base.llms.types import ChatMessage, MessageRole\n",
    "from autorag.data.qa.query.llama_gen_query import llama_index_generate_base\n",
    "from llama_index.core.base.llms.base import BaseLLM\n",
    "from typing import Dict\n",
    "\n",
    "prompt = \"\"\"\n",
    "당신은 대한민국의 야구 리그인 KBO의 규정, 규칙, 규약에 대해서 대답하는 시스템의 관리자입니다.\n",
    "KBO에 관한 질문에 대답해주는 시스템을 위해, 사용자들의 예상 질문을 추출해야 합니다.\n",
    "주어지는 문서는 2024 KBO리그 규정, 규칙과 규약에 관한 문서입니다.\n",
    "문서의 내용만을 이용해서 예상되는 사용자들의 질문을 적으세요.\n",
    "문서의 구체적인 규칙 내용까지는 질문에서 언급하지 마시오.\n",
    "단, 반드시 하나의 질문만을 생성하세요.\n",
    "\"\"\"\n",
    "\n",
    "async def custom_query_gen(\n",
    "\t\trow: Dict,\n",
    "\t\tllm: BaseLLM,\n",
    "\t\tlang: str = \"en\",\n",
    ") -> Dict:\n",
    "\tCUSTOM_PROMPT = {\n",
    "\t\t\"ko\": [\n",
    "\t\t\tChatMessage(\n",
    "\t\t\t\trole=MessageRole.SYSTEM,\n",
    "\t\t\t\tcontent=prompt,\n",
    "\t\t\t)\n",
    "\t\t]\n",
    "\t}\n",
    "\n",
    "\treturn await llama_index_generate_base(\n",
    "\t\trow, llm, CUSTOM_PROMPT[lang]\n",
    "\t)"
   ],
   "id": "ec3e54cdb563db15",
   "outputs": [],
   "execution_count": 19
  },
  {
   "metadata": {
    "ExecuteTime": {
     "end_time": "2025-01-30T05:03:16.333766Z",
     "start_time": "2025-01-30T05:03:12.627750Z"
    }
   },
   "cell_type": "code",
   "source": [
    "second_qa = initial_qa.batch_apply(\n",
    "\tcustom_query_gen,\n",
    "\tllm=llm,\n",
    "\tlang=\"ko\",\n",
    ")"
   ],
   "id": "bfc5fd400b9979da",
   "outputs": [
    {
     "data": {
      "text/plain": [
       "\u001B[2;36m[01/30/25 14:03:13]\u001B[0m\u001B[2;36m \u001B[0m\u001B[34mINFO    \u001B[0m \u001B[1m[\u001B[0m_client.py:\u001B[1;36m1773\u001B[0m\u001B[1m]\u001B[0m >> HTTP Request: \u001B[1;33mPOST\u001B[0m                                \u001B]8;id=40253;file:///Users/kimbwook/PycharmProjects/fast-campus/venv/lib/python3.10/site-packages/httpx/_client.py\u001B\\\u001B[2m_client.py\u001B[0m\u001B]8;;\u001B\\\u001B[2m:\u001B[0m\u001B]8;id=983223;file:///Users/kimbwook/PycharmProjects/fast-campus/venv/lib/python3.10/site-packages/httpx/_client.py#1773\u001B\\\u001B[2m1773\u001B[0m\u001B]8;;\u001B\\\n",
       "\u001B[2;36m                    \u001B[0m         \u001B[4;94mhttps://api.openai.com/v1/chat/completions\u001B[0m \u001B[32m\"HTTP/1.1 200 OK\"\u001B[0m           \u001B[2m               \u001B[0m\n"
      ],
      "text/html": [
       "<pre style=\"white-space:pre;overflow-x:auto;line-height:normal;font-family:Menlo,'DejaVu Sans Mono',consolas,'Courier New',monospace\"><span style=\"color: #7fbfbf; text-decoration-color: #7fbfbf\">[01/30/25 14:03:13] </span><span style=\"color: #000080; text-decoration-color: #000080\">INFO    </span> <span style=\"font-weight: bold\">[</span>_client.py:<span style=\"color: #008080; text-decoration-color: #008080; font-weight: bold\">1773</span><span style=\"font-weight: bold\">]</span> &gt;&gt; HTTP Request: <span style=\"color: #808000; text-decoration-color: #808000; font-weight: bold\">POST</span>                                <a href=\"file:///Users/kimbwook/PycharmProjects/fast-campus/venv/lib/python3.10/site-packages/httpx/_client.py\" target=\"_blank\"><span style=\"color: #7f7f7f; text-decoration-color: #7f7f7f\">_client.py</span></a><span style=\"color: #7f7f7f; text-decoration-color: #7f7f7f\">:</span><a href=\"file:///Users/kimbwook/PycharmProjects/fast-campus/venv/lib/python3.10/site-packages/httpx/_client.py#1773\" target=\"_blank\"><span style=\"color: #7f7f7f; text-decoration-color: #7f7f7f\">1773</span></a>\n",
       "<span style=\"color: #7fbfbf; text-decoration-color: #7fbfbf\">                    </span>         <span style=\"color: #0000ff; text-decoration-color: #0000ff; text-decoration: underline\">https://api.openai.com/v1/chat/completions</span> <span style=\"color: #008000; text-decoration-color: #008000\">\"HTTP/1.1 200 OK\"</span>           <span style=\"color: #7f7f7f; text-decoration-color: #7f7f7f\">               </span>\n",
       "</pre>\n"
      ]
     },
     "metadata": {},
     "output_type": "display_data"
    },
    {
     "data": {
      "text/plain": [
       "\u001B[2;36m                   \u001B[0m\u001B[2;36m \u001B[0m\u001B[34mINFO    \u001B[0m \u001B[1m[\u001B[0m_client.py:\u001B[1;36m1773\u001B[0m\u001B[1m]\u001B[0m >> HTTP Request: \u001B[1;33mPOST\u001B[0m                                \u001B]8;id=365568;file:///Users/kimbwook/PycharmProjects/fast-campus/venv/lib/python3.10/site-packages/httpx/_client.py\u001B\\\u001B[2m_client.py\u001B[0m\u001B]8;;\u001B\\\u001B[2m:\u001B[0m\u001B]8;id=275946;file:///Users/kimbwook/PycharmProjects/fast-campus/venv/lib/python3.10/site-packages/httpx/_client.py#1773\u001B\\\u001B[2m1773\u001B[0m\u001B]8;;\u001B\\\n",
       "\u001B[2;36m                    \u001B[0m         \u001B[4;94mhttps://api.openai.com/v1/chat/completions\u001B[0m \u001B[32m\"HTTP/1.1 200 OK\"\u001B[0m           \u001B[2m               \u001B[0m\n"
      ],
      "text/html": [
       "<pre style=\"white-space:pre;overflow-x:auto;line-height:normal;font-family:Menlo,'DejaVu Sans Mono',consolas,'Courier New',monospace\"><span style=\"color: #7fbfbf; text-decoration-color: #7fbfbf\">                    </span><span style=\"color: #000080; text-decoration-color: #000080\">INFO    </span> <span style=\"font-weight: bold\">[</span>_client.py:<span style=\"color: #008080; text-decoration-color: #008080; font-weight: bold\">1773</span><span style=\"font-weight: bold\">]</span> &gt;&gt; HTTP Request: <span style=\"color: #808000; text-decoration-color: #808000; font-weight: bold\">POST</span>                                <a href=\"file:///Users/kimbwook/PycharmProjects/fast-campus/venv/lib/python3.10/site-packages/httpx/_client.py\" target=\"_blank\"><span style=\"color: #7f7f7f; text-decoration-color: #7f7f7f\">_client.py</span></a><span style=\"color: #7f7f7f; text-decoration-color: #7f7f7f\">:</span><a href=\"file:///Users/kimbwook/PycharmProjects/fast-campus/venv/lib/python3.10/site-packages/httpx/_client.py#1773\" target=\"_blank\"><span style=\"color: #7f7f7f; text-decoration-color: #7f7f7f\">1773</span></a>\n",
       "<span style=\"color: #7fbfbf; text-decoration-color: #7fbfbf\">                    </span>         <span style=\"color: #0000ff; text-decoration-color: #0000ff; text-decoration: underline\">https://api.openai.com/v1/chat/completions</span> <span style=\"color: #008000; text-decoration-color: #008000\">\"HTTP/1.1 200 OK\"</span>           <span style=\"color: #7f7f7f; text-decoration-color: #7f7f7f\">               </span>\n",
       "</pre>\n"
      ]
     },
     "metadata": {},
     "output_type": "display_data"
    },
    {
     "data": {
      "text/plain": [
       "\u001B[2;36m                   \u001B[0m\u001B[2;36m \u001B[0m\u001B[34mINFO    \u001B[0m \u001B[1m[\u001B[0m_client.py:\u001B[1;36m1773\u001B[0m\u001B[1m]\u001B[0m >> HTTP Request: \u001B[1;33mPOST\u001B[0m                                \u001B]8;id=478866;file:///Users/kimbwook/PycharmProjects/fast-campus/venv/lib/python3.10/site-packages/httpx/_client.py\u001B\\\u001B[2m_client.py\u001B[0m\u001B]8;;\u001B\\\u001B[2m:\u001B[0m\u001B]8;id=956289;file:///Users/kimbwook/PycharmProjects/fast-campus/venv/lib/python3.10/site-packages/httpx/_client.py#1773\u001B\\\u001B[2m1773\u001B[0m\u001B]8;;\u001B\\\n",
       "\u001B[2;36m                    \u001B[0m         \u001B[4;94mhttps://api.openai.com/v1/chat/completions\u001B[0m \u001B[32m\"HTTP/1.1 200 OK\"\u001B[0m           \u001B[2m               \u001B[0m\n"
      ],
      "text/html": [
       "<pre style=\"white-space:pre;overflow-x:auto;line-height:normal;font-family:Menlo,'DejaVu Sans Mono',consolas,'Courier New',monospace\"><span style=\"color: #7fbfbf; text-decoration-color: #7fbfbf\">                    </span><span style=\"color: #000080; text-decoration-color: #000080\">INFO    </span> <span style=\"font-weight: bold\">[</span>_client.py:<span style=\"color: #008080; text-decoration-color: #008080; font-weight: bold\">1773</span><span style=\"font-weight: bold\">]</span> &gt;&gt; HTTP Request: <span style=\"color: #808000; text-decoration-color: #808000; font-weight: bold\">POST</span>                                <a href=\"file:///Users/kimbwook/PycharmProjects/fast-campus/venv/lib/python3.10/site-packages/httpx/_client.py\" target=\"_blank\"><span style=\"color: #7f7f7f; text-decoration-color: #7f7f7f\">_client.py</span></a><span style=\"color: #7f7f7f; text-decoration-color: #7f7f7f\">:</span><a href=\"file:///Users/kimbwook/PycharmProjects/fast-campus/venv/lib/python3.10/site-packages/httpx/_client.py#1773\" target=\"_blank\"><span style=\"color: #7f7f7f; text-decoration-color: #7f7f7f\">1773</span></a>\n",
       "<span style=\"color: #7fbfbf; text-decoration-color: #7fbfbf\">                    </span>         <span style=\"color: #0000ff; text-decoration-color: #0000ff; text-decoration: underline\">https://api.openai.com/v1/chat/completions</span> <span style=\"color: #008000; text-decoration-color: #008000\">\"HTTP/1.1 200 OK\"</span>           <span style=\"color: #7f7f7f; text-decoration-color: #7f7f7f\">               </span>\n",
       "</pre>\n"
      ]
     },
     "metadata": {},
     "output_type": "display_data"
    },
    {
     "data": {
      "text/plain": [
       "\u001B[2;36m                   \u001B[0m\u001B[2;36m \u001B[0m\u001B[34mINFO    \u001B[0m \u001B[1m[\u001B[0m_client.py:\u001B[1;36m1773\u001B[0m\u001B[1m]\u001B[0m >> HTTP Request: \u001B[1;33mPOST\u001B[0m                                \u001B]8;id=798072;file:///Users/kimbwook/PycharmProjects/fast-campus/venv/lib/python3.10/site-packages/httpx/_client.py\u001B\\\u001B[2m_client.py\u001B[0m\u001B]8;;\u001B\\\u001B[2m:\u001B[0m\u001B]8;id=320613;file:///Users/kimbwook/PycharmProjects/fast-campus/venv/lib/python3.10/site-packages/httpx/_client.py#1773\u001B\\\u001B[2m1773\u001B[0m\u001B]8;;\u001B\\\n",
       "\u001B[2;36m                    \u001B[0m         \u001B[4;94mhttps://api.openai.com/v1/chat/completions\u001B[0m \u001B[32m\"HTTP/1.1 200 OK\"\u001B[0m           \u001B[2m               \u001B[0m\n"
      ],
      "text/html": [
       "<pre style=\"white-space:pre;overflow-x:auto;line-height:normal;font-family:Menlo,'DejaVu Sans Mono',consolas,'Courier New',monospace\"><span style=\"color: #7fbfbf; text-decoration-color: #7fbfbf\">                    </span><span style=\"color: #000080; text-decoration-color: #000080\">INFO    </span> <span style=\"font-weight: bold\">[</span>_client.py:<span style=\"color: #008080; text-decoration-color: #008080; font-weight: bold\">1773</span><span style=\"font-weight: bold\">]</span> &gt;&gt; HTTP Request: <span style=\"color: #808000; text-decoration-color: #808000; font-weight: bold\">POST</span>                                <a href=\"file:///Users/kimbwook/PycharmProjects/fast-campus/venv/lib/python3.10/site-packages/httpx/_client.py\" target=\"_blank\"><span style=\"color: #7f7f7f; text-decoration-color: #7f7f7f\">_client.py</span></a><span style=\"color: #7f7f7f; text-decoration-color: #7f7f7f\">:</span><a href=\"file:///Users/kimbwook/PycharmProjects/fast-campus/venv/lib/python3.10/site-packages/httpx/_client.py#1773\" target=\"_blank\"><span style=\"color: #7f7f7f; text-decoration-color: #7f7f7f\">1773</span></a>\n",
       "<span style=\"color: #7fbfbf; text-decoration-color: #7fbfbf\">                    </span>         <span style=\"color: #0000ff; text-decoration-color: #0000ff; text-decoration: underline\">https://api.openai.com/v1/chat/completions</span> <span style=\"color: #008000; text-decoration-color: #008000\">\"HTTP/1.1 200 OK\"</span>           <span style=\"color: #7f7f7f; text-decoration-color: #7f7f7f\">               </span>\n",
       "</pre>\n"
      ]
     },
     "metadata": {},
     "output_type": "display_data"
    },
    {
     "data": {
      "text/plain": [
       "\u001B[2;36m                   \u001B[0m\u001B[2;36m \u001B[0m\u001B[34mINFO    \u001B[0m \u001B[1m[\u001B[0m_client.py:\u001B[1;36m1773\u001B[0m\u001B[1m]\u001B[0m >> HTTP Request: \u001B[1;33mPOST\u001B[0m                                \u001B]8;id=407430;file:///Users/kimbwook/PycharmProjects/fast-campus/venv/lib/python3.10/site-packages/httpx/_client.py\u001B\\\u001B[2m_client.py\u001B[0m\u001B]8;;\u001B\\\u001B[2m:\u001B[0m\u001B]8;id=953221;file:///Users/kimbwook/PycharmProjects/fast-campus/venv/lib/python3.10/site-packages/httpx/_client.py#1773\u001B\\\u001B[2m1773\u001B[0m\u001B]8;;\u001B\\\n",
       "\u001B[2;36m                    \u001B[0m         \u001B[4;94mhttps://api.openai.com/v1/chat/completions\u001B[0m \u001B[32m\"HTTP/1.1 200 OK\"\u001B[0m           \u001B[2m               \u001B[0m\n"
      ],
      "text/html": [
       "<pre style=\"white-space:pre;overflow-x:auto;line-height:normal;font-family:Menlo,'DejaVu Sans Mono',consolas,'Courier New',monospace\"><span style=\"color: #7fbfbf; text-decoration-color: #7fbfbf\">                    </span><span style=\"color: #000080; text-decoration-color: #000080\">INFO    </span> <span style=\"font-weight: bold\">[</span>_client.py:<span style=\"color: #008080; text-decoration-color: #008080; font-weight: bold\">1773</span><span style=\"font-weight: bold\">]</span> &gt;&gt; HTTP Request: <span style=\"color: #808000; text-decoration-color: #808000; font-weight: bold\">POST</span>                                <a href=\"file:///Users/kimbwook/PycharmProjects/fast-campus/venv/lib/python3.10/site-packages/httpx/_client.py\" target=\"_blank\"><span style=\"color: #7f7f7f; text-decoration-color: #7f7f7f\">_client.py</span></a><span style=\"color: #7f7f7f; text-decoration-color: #7f7f7f\">:</span><a href=\"file:///Users/kimbwook/PycharmProjects/fast-campus/venv/lib/python3.10/site-packages/httpx/_client.py#1773\" target=\"_blank\"><span style=\"color: #7f7f7f; text-decoration-color: #7f7f7f\">1773</span></a>\n",
       "<span style=\"color: #7fbfbf; text-decoration-color: #7fbfbf\">                    </span>         <span style=\"color: #0000ff; text-decoration-color: #0000ff; text-decoration: underline\">https://api.openai.com/v1/chat/completions</span> <span style=\"color: #008000; text-decoration-color: #008000\">\"HTTP/1.1 200 OK\"</span>           <span style=\"color: #7f7f7f; text-decoration-color: #7f7f7f\">               </span>\n",
       "</pre>\n"
      ]
     },
     "metadata": {},
     "output_type": "display_data"
    },
    {
     "data": {
      "text/plain": [
       "\u001B[2;36m                   \u001B[0m\u001B[2;36m \u001B[0m\u001B[34mINFO    \u001B[0m \u001B[1m[\u001B[0m_client.py:\u001B[1;36m1773\u001B[0m\u001B[1m]\u001B[0m >> HTTP Request: \u001B[1;33mPOST\u001B[0m                                \u001B]8;id=793483;file:///Users/kimbwook/PycharmProjects/fast-campus/venv/lib/python3.10/site-packages/httpx/_client.py\u001B\\\u001B[2m_client.py\u001B[0m\u001B]8;;\u001B\\\u001B[2m:\u001B[0m\u001B]8;id=455235;file:///Users/kimbwook/PycharmProjects/fast-campus/venv/lib/python3.10/site-packages/httpx/_client.py#1773\u001B\\\u001B[2m1773\u001B[0m\u001B]8;;\u001B\\\n",
       "\u001B[2;36m                    \u001B[0m         \u001B[4;94mhttps://api.openai.com/v1/chat/completions\u001B[0m \u001B[32m\"HTTP/1.1 200 OK\"\u001B[0m           \u001B[2m               \u001B[0m\n"
      ],
      "text/html": [
       "<pre style=\"white-space:pre;overflow-x:auto;line-height:normal;font-family:Menlo,'DejaVu Sans Mono',consolas,'Courier New',monospace\"><span style=\"color: #7fbfbf; text-decoration-color: #7fbfbf\">                    </span><span style=\"color: #000080; text-decoration-color: #000080\">INFO    </span> <span style=\"font-weight: bold\">[</span>_client.py:<span style=\"color: #008080; text-decoration-color: #008080; font-weight: bold\">1773</span><span style=\"font-weight: bold\">]</span> &gt;&gt; HTTP Request: <span style=\"color: #808000; text-decoration-color: #808000; font-weight: bold\">POST</span>                                <a href=\"file:///Users/kimbwook/PycharmProjects/fast-campus/venv/lib/python3.10/site-packages/httpx/_client.py\" target=\"_blank\"><span style=\"color: #7f7f7f; text-decoration-color: #7f7f7f\">_client.py</span></a><span style=\"color: #7f7f7f; text-decoration-color: #7f7f7f\">:</span><a href=\"file:///Users/kimbwook/PycharmProjects/fast-campus/venv/lib/python3.10/site-packages/httpx/_client.py#1773\" target=\"_blank\"><span style=\"color: #7f7f7f; text-decoration-color: #7f7f7f\">1773</span></a>\n",
       "<span style=\"color: #7fbfbf; text-decoration-color: #7fbfbf\">                    </span>         <span style=\"color: #0000ff; text-decoration-color: #0000ff; text-decoration: underline\">https://api.openai.com/v1/chat/completions</span> <span style=\"color: #008000; text-decoration-color: #008000\">\"HTTP/1.1 200 OK\"</span>           <span style=\"color: #7f7f7f; text-decoration-color: #7f7f7f\">               </span>\n",
       "</pre>\n"
      ]
     },
     "metadata": {},
     "output_type": "display_data"
    },
    {
     "data": {
      "text/plain": [
       "\u001B[2;36m                   \u001B[0m\u001B[2;36m \u001B[0m\u001B[34mINFO    \u001B[0m \u001B[1m[\u001B[0m_client.py:\u001B[1;36m1773\u001B[0m\u001B[1m]\u001B[0m >> HTTP Request: \u001B[1;33mPOST\u001B[0m                                \u001B]8;id=74710;file:///Users/kimbwook/PycharmProjects/fast-campus/venv/lib/python3.10/site-packages/httpx/_client.py\u001B\\\u001B[2m_client.py\u001B[0m\u001B]8;;\u001B\\\u001B[2m:\u001B[0m\u001B]8;id=17494;file:///Users/kimbwook/PycharmProjects/fast-campus/venv/lib/python3.10/site-packages/httpx/_client.py#1773\u001B\\\u001B[2m1773\u001B[0m\u001B]8;;\u001B\\\n",
       "\u001B[2;36m                    \u001B[0m         \u001B[4;94mhttps://api.openai.com/v1/chat/completions\u001B[0m \u001B[32m\"HTTP/1.1 200 OK\"\u001B[0m           \u001B[2m               \u001B[0m\n"
      ],
      "text/html": [
       "<pre style=\"white-space:pre;overflow-x:auto;line-height:normal;font-family:Menlo,'DejaVu Sans Mono',consolas,'Courier New',monospace\"><span style=\"color: #7fbfbf; text-decoration-color: #7fbfbf\">                    </span><span style=\"color: #000080; text-decoration-color: #000080\">INFO    </span> <span style=\"font-weight: bold\">[</span>_client.py:<span style=\"color: #008080; text-decoration-color: #008080; font-weight: bold\">1773</span><span style=\"font-weight: bold\">]</span> &gt;&gt; HTTP Request: <span style=\"color: #808000; text-decoration-color: #808000; font-weight: bold\">POST</span>                                <a href=\"file:///Users/kimbwook/PycharmProjects/fast-campus/venv/lib/python3.10/site-packages/httpx/_client.py\" target=\"_blank\"><span style=\"color: #7f7f7f; text-decoration-color: #7f7f7f\">_client.py</span></a><span style=\"color: #7f7f7f; text-decoration-color: #7f7f7f\">:</span><a href=\"file:///Users/kimbwook/PycharmProjects/fast-campus/venv/lib/python3.10/site-packages/httpx/_client.py#1773\" target=\"_blank\"><span style=\"color: #7f7f7f; text-decoration-color: #7f7f7f\">1773</span></a>\n",
       "<span style=\"color: #7fbfbf; text-decoration-color: #7fbfbf\">                    </span>         <span style=\"color: #0000ff; text-decoration-color: #0000ff; text-decoration: underline\">https://api.openai.com/v1/chat/completions</span> <span style=\"color: #008000; text-decoration-color: #008000\">\"HTTP/1.1 200 OK\"</span>           <span style=\"color: #7f7f7f; text-decoration-color: #7f7f7f\">               </span>\n",
       "</pre>\n"
      ]
     },
     "metadata": {},
     "output_type": "display_data"
    },
    {
     "data": {
      "text/plain": [
       "\u001B[2;36m                   \u001B[0m\u001B[2;36m \u001B[0m\u001B[34mINFO    \u001B[0m \u001B[1m[\u001B[0m_client.py:\u001B[1;36m1773\u001B[0m\u001B[1m]\u001B[0m >> HTTP Request: \u001B[1;33mPOST\u001B[0m                                \u001B]8;id=955081;file:///Users/kimbwook/PycharmProjects/fast-campus/venv/lib/python3.10/site-packages/httpx/_client.py\u001B\\\u001B[2m_client.py\u001B[0m\u001B]8;;\u001B\\\u001B[2m:\u001B[0m\u001B]8;id=878206;file:///Users/kimbwook/PycharmProjects/fast-campus/venv/lib/python3.10/site-packages/httpx/_client.py#1773\u001B\\\u001B[2m1773\u001B[0m\u001B]8;;\u001B\\\n",
       "\u001B[2;36m                    \u001B[0m         \u001B[4;94mhttps://api.openai.com/v1/chat/completions\u001B[0m \u001B[32m\"HTTP/1.1 200 OK\"\u001B[0m           \u001B[2m               \u001B[0m\n"
      ],
      "text/html": [
       "<pre style=\"white-space:pre;overflow-x:auto;line-height:normal;font-family:Menlo,'DejaVu Sans Mono',consolas,'Courier New',monospace\"><span style=\"color: #7fbfbf; text-decoration-color: #7fbfbf\">                    </span><span style=\"color: #000080; text-decoration-color: #000080\">INFO    </span> <span style=\"font-weight: bold\">[</span>_client.py:<span style=\"color: #008080; text-decoration-color: #008080; font-weight: bold\">1773</span><span style=\"font-weight: bold\">]</span> &gt;&gt; HTTP Request: <span style=\"color: #808000; text-decoration-color: #808000; font-weight: bold\">POST</span>                                <a href=\"file:///Users/kimbwook/PycharmProjects/fast-campus/venv/lib/python3.10/site-packages/httpx/_client.py\" target=\"_blank\"><span style=\"color: #7f7f7f; text-decoration-color: #7f7f7f\">_client.py</span></a><span style=\"color: #7f7f7f; text-decoration-color: #7f7f7f\">:</span><a href=\"file:///Users/kimbwook/PycharmProjects/fast-campus/venv/lib/python3.10/site-packages/httpx/_client.py#1773\" target=\"_blank\"><span style=\"color: #7f7f7f; text-decoration-color: #7f7f7f\">1773</span></a>\n",
       "<span style=\"color: #7fbfbf; text-decoration-color: #7fbfbf\">                    </span>         <span style=\"color: #0000ff; text-decoration-color: #0000ff; text-decoration: underline\">https://api.openai.com/v1/chat/completions</span> <span style=\"color: #008000; text-decoration-color: #008000\">\"HTTP/1.1 200 OK\"</span>           <span style=\"color: #7f7f7f; text-decoration-color: #7f7f7f\">               </span>\n",
       "</pre>\n"
      ]
     },
     "metadata": {},
     "output_type": "display_data"
    },
    {
     "data": {
      "text/plain": [
       "\u001B[2;36m                   \u001B[0m\u001B[2;36m \u001B[0m\u001B[34mINFO    \u001B[0m \u001B[1m[\u001B[0m_client.py:\u001B[1;36m1773\u001B[0m\u001B[1m]\u001B[0m >> HTTP Request: \u001B[1;33mPOST\u001B[0m                                \u001B]8;id=693872;file:///Users/kimbwook/PycharmProjects/fast-campus/venv/lib/python3.10/site-packages/httpx/_client.py\u001B\\\u001B[2m_client.py\u001B[0m\u001B]8;;\u001B\\\u001B[2m:\u001B[0m\u001B]8;id=655948;file:///Users/kimbwook/PycharmProjects/fast-campus/venv/lib/python3.10/site-packages/httpx/_client.py#1773\u001B\\\u001B[2m1773\u001B[0m\u001B]8;;\u001B\\\n",
       "\u001B[2;36m                    \u001B[0m         \u001B[4;94mhttps://api.openai.com/v1/chat/completions\u001B[0m \u001B[32m\"HTTP/1.1 200 OK\"\u001B[0m           \u001B[2m               \u001B[0m\n"
      ],
      "text/html": [
       "<pre style=\"white-space:pre;overflow-x:auto;line-height:normal;font-family:Menlo,'DejaVu Sans Mono',consolas,'Courier New',monospace\"><span style=\"color: #7fbfbf; text-decoration-color: #7fbfbf\">                    </span><span style=\"color: #000080; text-decoration-color: #000080\">INFO    </span> <span style=\"font-weight: bold\">[</span>_client.py:<span style=\"color: #008080; text-decoration-color: #008080; font-weight: bold\">1773</span><span style=\"font-weight: bold\">]</span> &gt;&gt; HTTP Request: <span style=\"color: #808000; text-decoration-color: #808000; font-weight: bold\">POST</span>                                <a href=\"file:///Users/kimbwook/PycharmProjects/fast-campus/venv/lib/python3.10/site-packages/httpx/_client.py\" target=\"_blank\"><span style=\"color: #7f7f7f; text-decoration-color: #7f7f7f\">_client.py</span></a><span style=\"color: #7f7f7f; text-decoration-color: #7f7f7f\">:</span><a href=\"file:///Users/kimbwook/PycharmProjects/fast-campus/venv/lib/python3.10/site-packages/httpx/_client.py#1773\" target=\"_blank\"><span style=\"color: #7f7f7f; text-decoration-color: #7f7f7f\">1773</span></a>\n",
       "<span style=\"color: #7fbfbf; text-decoration-color: #7fbfbf\">                    </span>         <span style=\"color: #0000ff; text-decoration-color: #0000ff; text-decoration: underline\">https://api.openai.com/v1/chat/completions</span> <span style=\"color: #008000; text-decoration-color: #008000\">\"HTTP/1.1 200 OK\"</span>           <span style=\"color: #7f7f7f; text-decoration-color: #7f7f7f\">               </span>\n",
       "</pre>\n"
      ]
     },
     "metadata": {},
     "output_type": "display_data"
    },
    {
     "data": {
      "text/plain": [
       "\u001B[2;36m[01/30/25 14:03:14]\u001B[0m\u001B[2;36m \u001B[0m\u001B[34mINFO    \u001B[0m \u001B[1m[\u001B[0m_client.py:\u001B[1;36m1773\u001B[0m\u001B[1m]\u001B[0m >> HTTP Request: \u001B[1;33mPOST\u001B[0m                                \u001B]8;id=58822;file:///Users/kimbwook/PycharmProjects/fast-campus/venv/lib/python3.10/site-packages/httpx/_client.py\u001B\\\u001B[2m_client.py\u001B[0m\u001B]8;;\u001B\\\u001B[2m:\u001B[0m\u001B]8;id=674576;file:///Users/kimbwook/PycharmProjects/fast-campus/venv/lib/python3.10/site-packages/httpx/_client.py#1773\u001B\\\u001B[2m1773\u001B[0m\u001B]8;;\u001B\\\n",
       "\u001B[2;36m                    \u001B[0m         \u001B[4;94mhttps://api.openai.com/v1/chat/completions\u001B[0m \u001B[32m\"HTTP/1.1 200 OK\"\u001B[0m           \u001B[2m               \u001B[0m\n"
      ],
      "text/html": [
       "<pre style=\"white-space:pre;overflow-x:auto;line-height:normal;font-family:Menlo,'DejaVu Sans Mono',consolas,'Courier New',monospace\"><span style=\"color: #7fbfbf; text-decoration-color: #7fbfbf\">[01/30/25 14:03:14] </span><span style=\"color: #000080; text-decoration-color: #000080\">INFO    </span> <span style=\"font-weight: bold\">[</span>_client.py:<span style=\"color: #008080; text-decoration-color: #008080; font-weight: bold\">1773</span><span style=\"font-weight: bold\">]</span> &gt;&gt; HTTP Request: <span style=\"color: #808000; text-decoration-color: #808000; font-weight: bold\">POST</span>                                <a href=\"file:///Users/kimbwook/PycharmProjects/fast-campus/venv/lib/python3.10/site-packages/httpx/_client.py\" target=\"_blank\"><span style=\"color: #7f7f7f; text-decoration-color: #7f7f7f\">_client.py</span></a><span style=\"color: #7f7f7f; text-decoration-color: #7f7f7f\">:</span><a href=\"file:///Users/kimbwook/PycharmProjects/fast-campus/venv/lib/python3.10/site-packages/httpx/_client.py#1773\" target=\"_blank\"><span style=\"color: #7f7f7f; text-decoration-color: #7f7f7f\">1773</span></a>\n",
       "<span style=\"color: #7fbfbf; text-decoration-color: #7fbfbf\">                    </span>         <span style=\"color: #0000ff; text-decoration-color: #0000ff; text-decoration: underline\">https://api.openai.com/v1/chat/completions</span> <span style=\"color: #008000; text-decoration-color: #008000\">\"HTTP/1.1 200 OK\"</span>           <span style=\"color: #7f7f7f; text-decoration-color: #7f7f7f\">               </span>\n",
       "</pre>\n"
      ]
     },
     "metadata": {},
     "output_type": "display_data"
    },
    {
     "data": {
      "text/plain": [
       "\u001B[2;36m                   \u001B[0m\u001B[2;36m \u001B[0m\u001B[34mINFO    \u001B[0m \u001B[1m[\u001B[0m_client.py:\u001B[1;36m1773\u001B[0m\u001B[1m]\u001B[0m >> HTTP Request: \u001B[1;33mPOST\u001B[0m                                \u001B]8;id=522027;file:///Users/kimbwook/PycharmProjects/fast-campus/venv/lib/python3.10/site-packages/httpx/_client.py\u001B\\\u001B[2m_client.py\u001B[0m\u001B]8;;\u001B\\\u001B[2m:\u001B[0m\u001B]8;id=199014;file:///Users/kimbwook/PycharmProjects/fast-campus/venv/lib/python3.10/site-packages/httpx/_client.py#1773\u001B\\\u001B[2m1773\u001B[0m\u001B]8;;\u001B\\\n",
       "\u001B[2;36m                    \u001B[0m         \u001B[4;94mhttps://api.openai.com/v1/chat/completions\u001B[0m \u001B[32m\"HTTP/1.1 200 OK\"\u001B[0m           \u001B[2m               \u001B[0m\n"
      ],
      "text/html": [
       "<pre style=\"white-space:pre;overflow-x:auto;line-height:normal;font-family:Menlo,'DejaVu Sans Mono',consolas,'Courier New',monospace\"><span style=\"color: #7fbfbf; text-decoration-color: #7fbfbf\">                    </span><span style=\"color: #000080; text-decoration-color: #000080\">INFO    </span> <span style=\"font-weight: bold\">[</span>_client.py:<span style=\"color: #008080; text-decoration-color: #008080; font-weight: bold\">1773</span><span style=\"font-weight: bold\">]</span> &gt;&gt; HTTP Request: <span style=\"color: #808000; text-decoration-color: #808000; font-weight: bold\">POST</span>                                <a href=\"file:///Users/kimbwook/PycharmProjects/fast-campus/venv/lib/python3.10/site-packages/httpx/_client.py\" target=\"_blank\"><span style=\"color: #7f7f7f; text-decoration-color: #7f7f7f\">_client.py</span></a><span style=\"color: #7f7f7f; text-decoration-color: #7f7f7f\">:</span><a href=\"file:///Users/kimbwook/PycharmProjects/fast-campus/venv/lib/python3.10/site-packages/httpx/_client.py#1773\" target=\"_blank\"><span style=\"color: #7f7f7f; text-decoration-color: #7f7f7f\">1773</span></a>\n",
       "<span style=\"color: #7fbfbf; text-decoration-color: #7fbfbf\">                    </span>         <span style=\"color: #0000ff; text-decoration-color: #0000ff; text-decoration: underline\">https://api.openai.com/v1/chat/completions</span> <span style=\"color: #008000; text-decoration-color: #008000\">\"HTTP/1.1 200 OK\"</span>           <span style=\"color: #7f7f7f; text-decoration-color: #7f7f7f\">               </span>\n",
       "</pre>\n"
      ]
     },
     "metadata": {},
     "output_type": "display_data"
    },
    {
     "data": {
      "text/plain": [
       "\u001B[2;36m                   \u001B[0m\u001B[2;36m \u001B[0m\u001B[34mINFO    \u001B[0m \u001B[1m[\u001B[0m_client.py:\u001B[1;36m1773\u001B[0m\u001B[1m]\u001B[0m >> HTTP Request: \u001B[1;33mPOST\u001B[0m                                \u001B]8;id=189368;file:///Users/kimbwook/PycharmProjects/fast-campus/venv/lib/python3.10/site-packages/httpx/_client.py\u001B\\\u001B[2m_client.py\u001B[0m\u001B]8;;\u001B\\\u001B[2m:\u001B[0m\u001B]8;id=600847;file:///Users/kimbwook/PycharmProjects/fast-campus/venv/lib/python3.10/site-packages/httpx/_client.py#1773\u001B\\\u001B[2m1773\u001B[0m\u001B]8;;\u001B\\\n",
       "\u001B[2;36m                    \u001B[0m         \u001B[4;94mhttps://api.openai.com/v1/chat/completions\u001B[0m \u001B[32m\"HTTP/1.1 200 OK\"\u001B[0m           \u001B[2m               \u001B[0m\n"
      ],
      "text/html": [
       "<pre style=\"white-space:pre;overflow-x:auto;line-height:normal;font-family:Menlo,'DejaVu Sans Mono',consolas,'Courier New',monospace\"><span style=\"color: #7fbfbf; text-decoration-color: #7fbfbf\">                    </span><span style=\"color: #000080; text-decoration-color: #000080\">INFO    </span> <span style=\"font-weight: bold\">[</span>_client.py:<span style=\"color: #008080; text-decoration-color: #008080; font-weight: bold\">1773</span><span style=\"font-weight: bold\">]</span> &gt;&gt; HTTP Request: <span style=\"color: #808000; text-decoration-color: #808000; font-weight: bold\">POST</span>                                <a href=\"file:///Users/kimbwook/PycharmProjects/fast-campus/venv/lib/python3.10/site-packages/httpx/_client.py\" target=\"_blank\"><span style=\"color: #7f7f7f; text-decoration-color: #7f7f7f\">_client.py</span></a><span style=\"color: #7f7f7f; text-decoration-color: #7f7f7f\">:</span><a href=\"file:///Users/kimbwook/PycharmProjects/fast-campus/venv/lib/python3.10/site-packages/httpx/_client.py#1773\" target=\"_blank\"><span style=\"color: #7f7f7f; text-decoration-color: #7f7f7f\">1773</span></a>\n",
       "<span style=\"color: #7fbfbf; text-decoration-color: #7fbfbf\">                    </span>         <span style=\"color: #0000ff; text-decoration-color: #0000ff; text-decoration: underline\">https://api.openai.com/v1/chat/completions</span> <span style=\"color: #008000; text-decoration-color: #008000\">\"HTTP/1.1 200 OK\"</span>           <span style=\"color: #7f7f7f; text-decoration-color: #7f7f7f\">               </span>\n",
       "</pre>\n"
      ]
     },
     "metadata": {},
     "output_type": "display_data"
    },
    {
     "data": {
      "text/plain": [
       "\u001B[2;36m                   \u001B[0m\u001B[2;36m \u001B[0m\u001B[34mINFO    \u001B[0m \u001B[1m[\u001B[0m_client.py:\u001B[1;36m1773\u001B[0m\u001B[1m]\u001B[0m >> HTTP Request: \u001B[1;33mPOST\u001B[0m                                \u001B]8;id=854479;file:///Users/kimbwook/PycharmProjects/fast-campus/venv/lib/python3.10/site-packages/httpx/_client.py\u001B\\\u001B[2m_client.py\u001B[0m\u001B]8;;\u001B\\\u001B[2m:\u001B[0m\u001B]8;id=792676;file:///Users/kimbwook/PycharmProjects/fast-campus/venv/lib/python3.10/site-packages/httpx/_client.py#1773\u001B\\\u001B[2m1773\u001B[0m\u001B]8;;\u001B\\\n",
       "\u001B[2;36m                    \u001B[0m         \u001B[4;94mhttps://api.openai.com/v1/chat/completions\u001B[0m \u001B[32m\"HTTP/1.1 200 OK\"\u001B[0m           \u001B[2m               \u001B[0m\n"
      ],
      "text/html": [
       "<pre style=\"white-space:pre;overflow-x:auto;line-height:normal;font-family:Menlo,'DejaVu Sans Mono',consolas,'Courier New',monospace\"><span style=\"color: #7fbfbf; text-decoration-color: #7fbfbf\">                    </span><span style=\"color: #000080; text-decoration-color: #000080\">INFO    </span> <span style=\"font-weight: bold\">[</span>_client.py:<span style=\"color: #008080; text-decoration-color: #008080; font-weight: bold\">1773</span><span style=\"font-weight: bold\">]</span> &gt;&gt; HTTP Request: <span style=\"color: #808000; text-decoration-color: #808000; font-weight: bold\">POST</span>                                <a href=\"file:///Users/kimbwook/PycharmProjects/fast-campus/venv/lib/python3.10/site-packages/httpx/_client.py\" target=\"_blank\"><span style=\"color: #7f7f7f; text-decoration-color: #7f7f7f\">_client.py</span></a><span style=\"color: #7f7f7f; text-decoration-color: #7f7f7f\">:</span><a href=\"file:///Users/kimbwook/PycharmProjects/fast-campus/venv/lib/python3.10/site-packages/httpx/_client.py#1773\" target=\"_blank\"><span style=\"color: #7f7f7f; text-decoration-color: #7f7f7f\">1773</span></a>\n",
       "<span style=\"color: #7fbfbf; text-decoration-color: #7fbfbf\">                    </span>         <span style=\"color: #0000ff; text-decoration-color: #0000ff; text-decoration: underline\">https://api.openai.com/v1/chat/completions</span> <span style=\"color: #008000; text-decoration-color: #008000\">\"HTTP/1.1 200 OK\"</span>           <span style=\"color: #7f7f7f; text-decoration-color: #7f7f7f\">               </span>\n",
       "</pre>\n"
      ]
     },
     "metadata": {},
     "output_type": "display_data"
    },
    {
     "data": {
      "text/plain": [
       "\u001B[2;36m                   \u001B[0m\u001B[2;36m \u001B[0m\u001B[34mINFO    \u001B[0m \u001B[1m[\u001B[0m_client.py:\u001B[1;36m1773\u001B[0m\u001B[1m]\u001B[0m >> HTTP Request: \u001B[1;33mPOST\u001B[0m                                \u001B]8;id=169456;file:///Users/kimbwook/PycharmProjects/fast-campus/venv/lib/python3.10/site-packages/httpx/_client.py\u001B\\\u001B[2m_client.py\u001B[0m\u001B]8;;\u001B\\\u001B[2m:\u001B[0m\u001B]8;id=145662;file:///Users/kimbwook/PycharmProjects/fast-campus/venv/lib/python3.10/site-packages/httpx/_client.py#1773\u001B\\\u001B[2m1773\u001B[0m\u001B]8;;\u001B\\\n",
       "\u001B[2;36m                    \u001B[0m         \u001B[4;94mhttps://api.openai.com/v1/chat/completions\u001B[0m \u001B[32m\"HTTP/1.1 200 OK\"\u001B[0m           \u001B[2m               \u001B[0m\n"
      ],
      "text/html": [
       "<pre style=\"white-space:pre;overflow-x:auto;line-height:normal;font-family:Menlo,'DejaVu Sans Mono',consolas,'Courier New',monospace\"><span style=\"color: #7fbfbf; text-decoration-color: #7fbfbf\">                    </span><span style=\"color: #000080; text-decoration-color: #000080\">INFO    </span> <span style=\"font-weight: bold\">[</span>_client.py:<span style=\"color: #008080; text-decoration-color: #008080; font-weight: bold\">1773</span><span style=\"font-weight: bold\">]</span> &gt;&gt; HTTP Request: <span style=\"color: #808000; text-decoration-color: #808000; font-weight: bold\">POST</span>                                <a href=\"file:///Users/kimbwook/PycharmProjects/fast-campus/venv/lib/python3.10/site-packages/httpx/_client.py\" target=\"_blank\"><span style=\"color: #7f7f7f; text-decoration-color: #7f7f7f\">_client.py</span></a><span style=\"color: #7f7f7f; text-decoration-color: #7f7f7f\">:</span><a href=\"file:///Users/kimbwook/PycharmProjects/fast-campus/venv/lib/python3.10/site-packages/httpx/_client.py#1773\" target=\"_blank\"><span style=\"color: #7f7f7f; text-decoration-color: #7f7f7f\">1773</span></a>\n",
       "<span style=\"color: #7fbfbf; text-decoration-color: #7fbfbf\">                    </span>         <span style=\"color: #0000ff; text-decoration-color: #0000ff; text-decoration: underline\">https://api.openai.com/v1/chat/completions</span> <span style=\"color: #008000; text-decoration-color: #008000\">\"HTTP/1.1 200 OK\"</span>           <span style=\"color: #7f7f7f; text-decoration-color: #7f7f7f\">               </span>\n",
       "</pre>\n"
      ]
     },
     "metadata": {},
     "output_type": "display_data"
    },
    {
     "data": {
      "text/plain": [
       "\u001B[2;36m[01/30/25 14:03:16]\u001B[0m\u001B[2;36m \u001B[0m\u001B[34mINFO    \u001B[0m \u001B[1m[\u001B[0m_client.py:\u001B[1;36m1773\u001B[0m\u001B[1m]\u001B[0m >> HTTP Request: \u001B[1;33mPOST\u001B[0m                                \u001B]8;id=66785;file:///Users/kimbwook/PycharmProjects/fast-campus/venv/lib/python3.10/site-packages/httpx/_client.py\u001B\\\u001B[2m_client.py\u001B[0m\u001B]8;;\u001B\\\u001B[2m:\u001B[0m\u001B]8;id=396965;file:///Users/kimbwook/PycharmProjects/fast-campus/venv/lib/python3.10/site-packages/httpx/_client.py#1773\u001B\\\u001B[2m1773\u001B[0m\u001B]8;;\u001B\\\n",
       "\u001B[2;36m                    \u001B[0m         \u001B[4;94mhttps://api.openai.com/v1/chat/completions\u001B[0m \u001B[32m\"HTTP/1.1 200 OK\"\u001B[0m           \u001B[2m               \u001B[0m\n"
      ],
      "text/html": [
       "<pre style=\"white-space:pre;overflow-x:auto;line-height:normal;font-family:Menlo,'DejaVu Sans Mono',consolas,'Courier New',monospace\"><span style=\"color: #7fbfbf; text-decoration-color: #7fbfbf\">[01/30/25 14:03:16] </span><span style=\"color: #000080; text-decoration-color: #000080\">INFO    </span> <span style=\"font-weight: bold\">[</span>_client.py:<span style=\"color: #008080; text-decoration-color: #008080; font-weight: bold\">1773</span><span style=\"font-weight: bold\">]</span> &gt;&gt; HTTP Request: <span style=\"color: #808000; text-decoration-color: #808000; font-weight: bold\">POST</span>                                <a href=\"file:///Users/kimbwook/PycharmProjects/fast-campus/venv/lib/python3.10/site-packages/httpx/_client.py\" target=\"_blank\"><span style=\"color: #7f7f7f; text-decoration-color: #7f7f7f\">_client.py</span></a><span style=\"color: #7f7f7f; text-decoration-color: #7f7f7f\">:</span><a href=\"file:///Users/kimbwook/PycharmProjects/fast-campus/venv/lib/python3.10/site-packages/httpx/_client.py#1773\" target=\"_blank\"><span style=\"color: #7f7f7f; text-decoration-color: #7f7f7f\">1773</span></a>\n",
       "<span style=\"color: #7fbfbf; text-decoration-color: #7fbfbf\">                    </span>         <span style=\"color: #0000ff; text-decoration-color: #0000ff; text-decoration: underline\">https://api.openai.com/v1/chat/completions</span> <span style=\"color: #008000; text-decoration-color: #008000\">\"HTTP/1.1 200 OK\"</span>           <span style=\"color: #7f7f7f; text-decoration-color: #7f7f7f\">               </span>\n",
       "</pre>\n"
      ]
     },
     "metadata": {},
     "output_type": "display_data"
    }
   ],
   "execution_count": 20
  },
  {
   "metadata": {},
   "cell_type": "markdown",
   "source": "#### 결과 확인",
   "id": "e229853761f675c1"
  },
  {
   "metadata": {
    "ExecuteTime": {
     "end_time": "2025-01-30T05:04:43.790349Z",
     "start_time": "2025-01-30T05:04:43.764463Z"
    }
   },
   "cell_type": "code",
   "source": "second_qa.data",
   "id": "e882b833961cf6b3",
   "outputs": [
    {
     "data": {
      "text/plain": [
       "                                     qid  \\\n",
       "0   6d1ec768-e872-44fe-9080-6a4b8828da09   \n",
       "1   f99ba0f3-b2da-4cdb-98fc-380fbb2f5e17   \n",
       "2   f3afe648-ccdd-414b-9dd7-8c054c031bc3   \n",
       "3   50aa50bd-ef0d-47a8-bd18-0b8c7eddd253   \n",
       "4   d6fd53eb-42ee-4835-83eb-72afac55bf51   \n",
       "5   0bcf8d62-9497-4f5a-a4fa-8626b9b5018b   \n",
       "6   edb95b03-e5aa-4ce7-9307-08505e3c377f   \n",
       "7   9e337798-8cb6-4e56-8ebe-a7196abd3888   \n",
       "8   6a16546d-d5cf-491c-abd7-0df5ff9a5c22   \n",
       "9   a43cac50-414e-4d66-80ce-3c882dfa1bd9   \n",
       "10  ccea0081-f8a5-4902-8817-9b7f13c00519   \n",
       "11  9c92b2f2-a55e-49b9-a01f-252d13a44157   \n",
       "12  a8ac21f5-e17f-4024-ba69-2e0917250594   \n",
       "13  1db0d37d-e280-4275-8ee4-651cb4310df6   \n",
       "14  bb2df721-3ed7-4d3f-8651-b02d71b79c15   \n",
       "\n",
       "                                retrieval_gt  \\\n",
       "0   [[2ea156c5-99b4-4338-9306-d139abe8b44e]]   \n",
       "1   [[a389cfdf-361a-45b7-bf77-91ab137e8392]]   \n",
       "2   [[2bed192d-9591-405c-a39f-025caee6a7e4]]   \n",
       "3   [[3d329be3-89db-4e3b-bb83-6ac1d6eb23e6]]   \n",
       "4   [[96db994a-b5f5-49c4-8fff-e6668148da3f]]   \n",
       "5   [[4662da6c-ae20-4889-8289-0fd53b00cc76]]   \n",
       "6   [[07090a61-45c2-4280-b2fb-b3e4647f0e88]]   \n",
       "7   [[6ebf10d4-1abe-4d0c-b0fb-cc5c0b77eb6d]]   \n",
       "8   [[3d0914ba-78e8-4572-b4bb-fc6695c94130]]   \n",
       "9   [[494d83d0-761c-4e71-ae71-de73106e9bda]]   \n",
       "10  [[b6ec042a-c356-464f-9262-2814db452d28]]   \n",
       "11  [[b1d90b0a-96b1-48d0-beb2-085eb1fbdce5]]   \n",
       "12  [[3cbe35ee-eb83-4a14-8e34-b92001b28350]]   \n",
       "13  [[4398e7fc-2460-40d4-be91-e9af60e17f61]]   \n",
       "14  [[496d5979-5202-4021-98c1-64100fe59a88]]   \n",
       "\n",
       "                                retrieval_gt_contents  \\\n",
       "0   [[5.09 아웃\\r\\n․ 58 ․\\r\\n다 빨리 2루에 도달했고 타자주자는 1루에...   \n",
       "1   [[본 규칙 5.02(c)의 적용을 모면하거나 회피하려고 시도한다면, \\r\\n심판은...   \n",
       "2   [[다음 연도 신인 드래프트에서 동일 라운드 종료 후 추가 보\\r\\n상 지명을 실시...   \n",
       "3   [[출장정지 제재를 받은 자는 제재 종료일까지 KBO 정규시즌, \\r\\n포스트시즌,...   \n",
       "4   [[치수를 잴 때는 계\\r\\n측기나 줄자를 글러브의 앞쪽 또는 공을 잡는 쪽에 접촉...   \n",
       "5   [[쳤다. 땅볼을 받은 \\r\\n1루수는 1루주자를 포스 아웃시키려고 2루에 송구하였...   \n",
       "6   [[고의낙구 하더라도 5.09⒜⑿의 규정에 관계없이 볼 인 플레이며, \\r\\n인필드...   \n",
       "7   [[시상 \\r\\n투수 부문 - 평균자책점상, 승리상\\r\\n타자 부문 - 타율상, 홈...   \n",
       "8   [[설\\r\\n사 관중이 그 플레이를 방해하더라도 수비방해의 이득을 얻을 수는 없\\r...   \n",
       "9   [[플레이 시도 시 슬라이딩\\r\\n주자가 더블 플레이 성립을 방해하기 위한 목적으로...   \n",
       "10  [[용어의 정의 45~51\\r\\n․ 179 ․\\r\\n45. LEAGUE (리그) \\...   \n",
       "11  [[7\\r\\n당해 시즌에 현역선수로 1일 이상 등록한 부상선수에 한해 시즌 \\r\\n...   \n",
       "12  [[․ 2 ․\\r\\n2.00 경 기 장\\r\\n2.01 경기장의 설정\\r\\n경기장은 ...   \n",
       "13  [[2루에\\r\\n서 포스 아웃된 뒤 어필에 의해 정위타자가 아웃을 선고받으\\r\\n면...   \n",
       "14  [[인정하지 않는다. 심판원이 \\r\\n주자가 6.01(j)를 위반했다고 판단한 경우...   \n",
       "\n",
       "                                                query  \\\n",
       "0   포스 플레이가 아닌 태그 플레이에서 주자가 제3아웃되기 전에 본루에 들어간 주자의 ...   \n",
       "1        규칙 5.02(c)를 회피하거나 모면하려는 행위에 대해 어떤 벌칙이 부과되나요?   \n",
       "2   어떤 경우에만 신인 드래프트 참가 신청서를 제출한 후에도 KBO 소속 구단과 선수계...   \n",
       "3                             어떤 경우에 출장정지 제재를 받게 되나요?   \n",
       "4                  치수를 잴 때 어떤 위치에 계측기나 줄자를 접촉시켜야 하나요?   \n",
       "5   업스트럭션 상황에서 2루에서의 포스 아웃이 먼저 이루어졌을 때, 어떤 상황이 발생하나요?   \n",
       "6      인필드 플라이 규칙이 우선되는 상황에서 수비방해가 선언되면 어떤 결정이 내려지나요?   \n",
       "7             KBO 리그에서 시상을 받는 선수들은 어떤 부문으로 나누어 선정되나요?   \n",
       "8               야구 경기 중에 관중이 수비를 방해할 경우 어떤 규정이 적용되나요?   \n",
       "9                            야구에서 '정당한 슬라이딩'이란 무엇인가요?   \n",
       "10           어떤 역할을 수행하는 사람이 리그 프레지던트라고 불리는 것은 무엇인가요?   \n",
       "11  부상자 명단에 등재된 선수가 동일한 부상을 사유로 연장 신청할 경우, 어떤 조건을 ...   \n",
       "12                        경기장 설정 시 주로 사용되는 거리는 얼마인가요?   \n",
       "13  2루에서 포스 아웃된 뒤 어필에 의해 정위타자가 아웃을 선고받으면 1루주자의 포스 ...   \n",
       "14               6.02 투수의 반칙행위에 대해서 어떤 경우에 보크가 선언되는가?   \n",
       "\n",
       "                                        generation_gt  \n",
       "0   [포스 상태가 해제되는 경우는 태그 플레이가 발생할 때입니다., 타자가 주자가 됨에...  \n",
       "1   [규칙 5.02(c)를 모면하거나 회피하려고 시도하는 경우, 수비팀이 해당 규칙을 ...  \n",
       "2   [KBO 신인 드래프트에서 선수가 외국 프로구단과 계약 협상을 진행한 후에도 KBO...  \n",
       "3   [출장정지 제재를 받은 자는 KBO 정규시즌, 포스트시즌, 퓨처스리그 경기에 출장할...  \n",
       "4   [계측기나 줄자를 글러브의 앞쪽 또는 공을 잡는 쪽에 접촉시켜야 합니다., 글러브의...  \n",
       "5   [심판이 투수의 주루방해를 인정하면 \"업스트럭션\"을 선고하고 볼을 데드로 하며, 이...  \n",
       "6   [인필드 플라이 동안 수비방해가 선언되면 타구가 페어 / 파울로 결정될 때까지는 인...  \n",
       "7   [야구 시상에서 투수 부문은 평균자책점상과 승리상이 시상되며, 타자 부문은 타율상,...  \n",
       "8                       [공을 잡으면 정규의 포구가 됩니다., 정규의 포구]  \n",
       "9   [야구에서 주자가 더블 플레이을 방해하기 위한 목적으로 '정당한 슬라이딩'은 베이스...  \n",
       "10  [라인 드라이브(line drive)란 타자가 배트로 가격한 타구가 지면에 닿지 않...  \n",
       "11  [네, 부상자 명단에 등재된 선수가 동일한 부상을 사유로 연장 신청할 경우에는 추가...  \n",
       "12  [1루와 3루 사이의 거리는 127피트 3⅜인치(38.795m)입니다., 127피트...  \n",
       "13                       [1루주자의 포스 아웃은 취소됩니다., 취소된다.]  \n",
       "14  [투수가 보크가 되는 경우는 베이스에 주자가 있을 때, 투수판에 중심발을 대고 있는...  "
      ],
      "text/html": [
       "<div>\n",
       "<style scoped>\n",
       "    .dataframe tbody tr th:only-of-type {\n",
       "        vertical-align: middle;\n",
       "    }\n",
       "\n",
       "    .dataframe tbody tr th {\n",
       "        vertical-align: top;\n",
       "    }\n",
       "\n",
       "    .dataframe thead th {\n",
       "        text-align: right;\n",
       "    }\n",
       "</style>\n",
       "<table border=\"1\" class=\"dataframe\">\n",
       "  <thead>\n",
       "    <tr style=\"text-align: right;\">\n",
       "      <th></th>\n",
       "      <th>qid</th>\n",
       "      <th>retrieval_gt</th>\n",
       "      <th>retrieval_gt_contents</th>\n",
       "      <th>query</th>\n",
       "      <th>generation_gt</th>\n",
       "    </tr>\n",
       "  </thead>\n",
       "  <tbody>\n",
       "    <tr>\n",
       "      <th>0</th>\n",
       "      <td>6d1ec768-e872-44fe-9080-6a4b8828da09</td>\n",
       "      <td>[[2ea156c5-99b4-4338-9306-d139abe8b44e]]</td>\n",
       "      <td>[[5.09 아웃\\r\\n․ 58 ․\\r\\n다 빨리 2루에 도달했고 타자주자는 1루에...</td>\n",
       "      <td>포스 플레이가 아닌 태그 플레이에서 주자가 제3아웃되기 전에 본루에 들어간 주자의 ...</td>\n",
       "      <td>[포스 상태가 해제되는 경우는 태그 플레이가 발생할 때입니다., 타자가 주자가 됨에...</td>\n",
       "    </tr>\n",
       "    <tr>\n",
       "      <th>1</th>\n",
       "      <td>f99ba0f3-b2da-4cdb-98fc-380fbb2f5e17</td>\n",
       "      <td>[[a389cfdf-361a-45b7-bf77-91ab137e8392]]</td>\n",
       "      <td>[[본 규칙 5.02(c)의 적용을 모면하거나 회피하려고 시도한다면, \\r\\n심판은...</td>\n",
       "      <td>규칙 5.02(c)를 회피하거나 모면하려는 행위에 대해 어떤 벌칙이 부과되나요?</td>\n",
       "      <td>[규칙 5.02(c)를 모면하거나 회피하려고 시도하는 경우, 수비팀이 해당 규칙을 ...</td>\n",
       "    </tr>\n",
       "    <tr>\n",
       "      <th>2</th>\n",
       "      <td>f3afe648-ccdd-414b-9dd7-8c054c031bc3</td>\n",
       "      <td>[[2bed192d-9591-405c-a39f-025caee6a7e4]]</td>\n",
       "      <td>[[다음 연도 신인 드래프트에서 동일 라운드 종료 후 추가 보\\r\\n상 지명을 실시...</td>\n",
       "      <td>어떤 경우에만 신인 드래프트 참가 신청서를 제출한 후에도 KBO 소속 구단과 선수계...</td>\n",
       "      <td>[KBO 신인 드래프트에서 선수가 외국 프로구단과 계약 협상을 진행한 후에도 KBO...</td>\n",
       "    </tr>\n",
       "    <tr>\n",
       "      <th>3</th>\n",
       "      <td>50aa50bd-ef0d-47a8-bd18-0b8c7eddd253</td>\n",
       "      <td>[[3d329be3-89db-4e3b-bb83-6ac1d6eb23e6]]</td>\n",
       "      <td>[[출장정지 제재를 받은 자는 제재 종료일까지 KBO 정규시즌, \\r\\n포스트시즌,...</td>\n",
       "      <td>어떤 경우에 출장정지 제재를 받게 되나요?</td>\n",
       "      <td>[출장정지 제재를 받은 자는 KBO 정규시즌, 포스트시즌, 퓨처스리그 경기에 출장할...</td>\n",
       "    </tr>\n",
       "    <tr>\n",
       "      <th>4</th>\n",
       "      <td>d6fd53eb-42ee-4835-83eb-72afac55bf51</td>\n",
       "      <td>[[96db994a-b5f5-49c4-8fff-e6668148da3f]]</td>\n",
       "      <td>[[치수를 잴 때는 계\\r\\n측기나 줄자를 글러브의 앞쪽 또는 공을 잡는 쪽에 접촉...</td>\n",
       "      <td>치수를 잴 때 어떤 위치에 계측기나 줄자를 접촉시켜야 하나요?</td>\n",
       "      <td>[계측기나 줄자를 글러브의 앞쪽 또는 공을 잡는 쪽에 접촉시켜야 합니다., 글러브의...</td>\n",
       "    </tr>\n",
       "    <tr>\n",
       "      <th>5</th>\n",
       "      <td>0bcf8d62-9497-4f5a-a4fa-8626b9b5018b</td>\n",
       "      <td>[[4662da6c-ae20-4889-8289-0fd53b00cc76]]</td>\n",
       "      <td>[[쳤다. 땅볼을 받은 \\r\\n1루수는 1루주자를 포스 아웃시키려고 2루에 송구하였...</td>\n",
       "      <td>업스트럭션 상황에서 2루에서의 포스 아웃이 먼저 이루어졌을 때, 어떤 상황이 발생하나요?</td>\n",
       "      <td>[심판이 투수의 주루방해를 인정하면 \"업스트럭션\"을 선고하고 볼을 데드로 하며, 이...</td>\n",
       "    </tr>\n",
       "    <tr>\n",
       "      <th>6</th>\n",
       "      <td>edb95b03-e5aa-4ce7-9307-08505e3c377f</td>\n",
       "      <td>[[07090a61-45c2-4280-b2fb-b3e4647f0e88]]</td>\n",
       "      <td>[[고의낙구 하더라도 5.09⒜⑿의 규정에 관계없이 볼 인 플레이며, \\r\\n인필드...</td>\n",
       "      <td>인필드 플라이 규칙이 우선되는 상황에서 수비방해가 선언되면 어떤 결정이 내려지나요?</td>\n",
       "      <td>[인필드 플라이 동안 수비방해가 선언되면 타구가 페어 / 파울로 결정될 때까지는 인...</td>\n",
       "    </tr>\n",
       "    <tr>\n",
       "      <th>7</th>\n",
       "      <td>9e337798-8cb6-4e56-8ebe-a7196abd3888</td>\n",
       "      <td>[[6ebf10d4-1abe-4d0c-b0fb-cc5c0b77eb6d]]</td>\n",
       "      <td>[[시상 \\r\\n투수 부문 - 평균자책점상, 승리상\\r\\n타자 부문 - 타율상, 홈...</td>\n",
       "      <td>KBO 리그에서 시상을 받는 선수들은 어떤 부문으로 나누어 선정되나요?</td>\n",
       "      <td>[야구 시상에서 투수 부문은 평균자책점상과 승리상이 시상되며, 타자 부문은 타율상,...</td>\n",
       "    </tr>\n",
       "    <tr>\n",
       "      <th>8</th>\n",
       "      <td>6a16546d-d5cf-491c-abd7-0df5ff9a5c22</td>\n",
       "      <td>[[3d0914ba-78e8-4572-b4bb-fc6695c94130]]</td>\n",
       "      <td>[[설\\r\\n사 관중이 그 플레이를 방해하더라도 수비방해의 이득을 얻을 수는 없\\r...</td>\n",
       "      <td>야구 경기 중에 관중이 수비를 방해할 경우 어떤 규정이 적용되나요?</td>\n",
       "      <td>[공을 잡으면 정규의 포구가 됩니다., 정규의 포구]</td>\n",
       "    </tr>\n",
       "    <tr>\n",
       "      <th>9</th>\n",
       "      <td>a43cac50-414e-4d66-80ce-3c882dfa1bd9</td>\n",
       "      <td>[[494d83d0-761c-4e71-ae71-de73106e9bda]]</td>\n",
       "      <td>[[플레이 시도 시 슬라이딩\\r\\n주자가 더블 플레이 성립을 방해하기 위한 목적으로...</td>\n",
       "      <td>야구에서 '정당한 슬라이딩'이란 무엇인가요?</td>\n",
       "      <td>[야구에서 주자가 더블 플레이을 방해하기 위한 목적으로 '정당한 슬라이딩'은 베이스...</td>\n",
       "    </tr>\n",
       "    <tr>\n",
       "      <th>10</th>\n",
       "      <td>ccea0081-f8a5-4902-8817-9b7f13c00519</td>\n",
       "      <td>[[b6ec042a-c356-464f-9262-2814db452d28]]</td>\n",
       "      <td>[[용어의 정의 45~51\\r\\n․ 179 ․\\r\\n45. LEAGUE (리그) \\...</td>\n",
       "      <td>어떤 역할을 수행하는 사람이 리그 프레지던트라고 불리는 것은 무엇인가요?</td>\n",
       "      <td>[라인 드라이브(line drive)란 타자가 배트로 가격한 타구가 지면에 닿지 않...</td>\n",
       "    </tr>\n",
       "    <tr>\n",
       "      <th>11</th>\n",
       "      <td>9c92b2f2-a55e-49b9-a01f-252d13a44157</td>\n",
       "      <td>[[b1d90b0a-96b1-48d0-beb2-085eb1fbdce5]]</td>\n",
       "      <td>[[7\\r\\n당해 시즌에 현역선수로 1일 이상 등록한 부상선수에 한해 시즌 \\r\\n...</td>\n",
       "      <td>부상자 명단에 등재된 선수가 동일한 부상을 사유로 연장 신청할 경우, 어떤 조건을 ...</td>\n",
       "      <td>[네, 부상자 명단에 등재된 선수가 동일한 부상을 사유로 연장 신청할 경우에는 추가...</td>\n",
       "    </tr>\n",
       "    <tr>\n",
       "      <th>12</th>\n",
       "      <td>a8ac21f5-e17f-4024-ba69-2e0917250594</td>\n",
       "      <td>[[3cbe35ee-eb83-4a14-8e34-b92001b28350]]</td>\n",
       "      <td>[[․ 2 ․\\r\\n2.00 경 기 장\\r\\n2.01 경기장의 설정\\r\\n경기장은 ...</td>\n",
       "      <td>경기장 설정 시 주로 사용되는 거리는 얼마인가요?</td>\n",
       "      <td>[1루와 3루 사이의 거리는 127피트 3⅜인치(38.795m)입니다., 127피트...</td>\n",
       "    </tr>\n",
       "    <tr>\n",
       "      <th>13</th>\n",
       "      <td>1db0d37d-e280-4275-8ee4-651cb4310df6</td>\n",
       "      <td>[[4398e7fc-2460-40d4-be91-e9af60e17f61]]</td>\n",
       "      <td>[[2루에\\r\\n서 포스 아웃된 뒤 어필에 의해 정위타자가 아웃을 선고받으\\r\\n면...</td>\n",
       "      <td>2루에서 포스 아웃된 뒤 어필에 의해 정위타자가 아웃을 선고받으면 1루주자의 포스 ...</td>\n",
       "      <td>[1루주자의 포스 아웃은 취소됩니다., 취소된다.]</td>\n",
       "    </tr>\n",
       "    <tr>\n",
       "      <th>14</th>\n",
       "      <td>bb2df721-3ed7-4d3f-8651-b02d71b79c15</td>\n",
       "      <td>[[496d5979-5202-4021-98c1-64100fe59a88]]</td>\n",
       "      <td>[[인정하지 않는다. 심판원이 \\r\\n주자가 6.01(j)를 위반했다고 판단한 경우...</td>\n",
       "      <td>6.02 투수의 반칙행위에 대해서 어떤 경우에 보크가 선언되는가?</td>\n",
       "      <td>[투수가 보크가 되는 경우는 베이스에 주자가 있을 때, 투수판에 중심발을 대고 있는...</td>\n",
       "    </tr>\n",
       "  </tbody>\n",
       "</table>\n",
       "</div>"
      ]
     },
     "execution_count": 22,
     "metadata": {},
     "output_type": "execute_result"
    }
   ],
   "execution_count": 22
  },
  {
   "metadata": {
    "ExecuteTime": {
     "end_time": "2025-01-30T05:05:32.075933Z",
     "start_time": "2025-01-30T05:05:32.070991Z"
    }
   },
   "cell_type": "code",
   "source": [
    "from llama_index.core.base.llms.types import ChatMessage, MessageRole\n",
    "from autorag.data.qa.query.llama_gen_query import llama_index_generate_base\n",
    "from llama_index.core.base.llms.base import BaseLLM\n",
    "from typing import Dict\n",
    "\n",
    "prompt = \"\"\"\n",
    "당신은 대한민국의 야구 리그인 KBO의 규정, 규칙, 규약에 대해서 대답하는 시스템의 관리자입니다.\n",
    "KBO에 관한 질문에 대답해주는 시스템을 위해, 사용자들의 예상 질문을 추출해야 합니다.\n",
    "주어지는 문서는 2024 KBO리그 규정, 규칙과 규약에 관한 문서입니다.\n",
    "문서의 내용만을 이용해서 예상되는 사용자들의 질문을 적으세요.\n",
    "'본 규칙 5.02(c)' 처럼 구체적인 규칙 명을 언급하지 마시오.\n",
    "단, 반드시 하나의 질문만을 생성하세요.\n",
    "\"\"\"\n",
    "\n",
    "async def custom_query_gen(\n",
    "\t\trow: Dict,\n",
    "\t\tllm: BaseLLM,\n",
    "\t\tlang: str = \"en\",\n",
    ") -> Dict:\n",
    "\tCUSTOM_PROMPT = {\n",
    "\t\t\"ko\": [\n",
    "\t\t\tChatMessage(\n",
    "\t\t\t\trole=MessageRole.SYSTEM,\n",
    "\t\t\t\tcontent=prompt,\n",
    "\t\t\t)\n",
    "\t\t]\n",
    "\t}\n",
    "\n",
    "\treturn await llama_index_generate_base(\n",
    "\t\trow, llm, CUSTOM_PROMPT[lang]\n",
    "\t)"
   ],
   "id": "9cfbf977848e9067",
   "outputs": [],
   "execution_count": 24
  },
  {
   "metadata": {
    "ExecuteTime": {
     "end_time": "2025-01-30T05:05:45.349138Z",
     "start_time": "2025-01-30T05:05:40.129484Z"
    }
   },
   "cell_type": "code",
   "source": [
    "third_qa = initial_qa.batch_apply(\n",
    "\tcustom_query_gen,\n",
    "\tllm=llm,\n",
    "\tlang=\"ko\",\n",
    ")"
   ],
   "id": "f0da8ab3686a08e7",
   "outputs": [
    {
     "data": {
      "text/plain": [
       "\u001B[2;36m[01/30/25 14:05:40]\u001B[0m\u001B[2;36m \u001B[0m\u001B[34mINFO    \u001B[0m \u001B[1m[\u001B[0m_client.py:\u001B[1;36m1773\u001B[0m\u001B[1m]\u001B[0m >> HTTP Request: \u001B[1;33mPOST\u001B[0m                                \u001B]8;id=960880;file:///Users/kimbwook/PycharmProjects/fast-campus/venv/lib/python3.10/site-packages/httpx/_client.py\u001B\\\u001B[2m_client.py\u001B[0m\u001B]8;;\u001B\\\u001B[2m:\u001B[0m\u001B]8;id=471866;file:///Users/kimbwook/PycharmProjects/fast-campus/venv/lib/python3.10/site-packages/httpx/_client.py#1773\u001B\\\u001B[2m1773\u001B[0m\u001B]8;;\u001B\\\n",
       "\u001B[2;36m                    \u001B[0m         \u001B[4;94mhttps://api.openai.com/v1/chat/completions\u001B[0m \u001B[32m\"HTTP/1.1 200 OK\"\u001B[0m           \u001B[2m               \u001B[0m\n"
      ],
      "text/html": [
       "<pre style=\"white-space:pre;overflow-x:auto;line-height:normal;font-family:Menlo,'DejaVu Sans Mono',consolas,'Courier New',monospace\"><span style=\"color: #7fbfbf; text-decoration-color: #7fbfbf\">[01/30/25 14:05:40] </span><span style=\"color: #000080; text-decoration-color: #000080\">INFO    </span> <span style=\"font-weight: bold\">[</span>_client.py:<span style=\"color: #008080; text-decoration-color: #008080; font-weight: bold\">1773</span><span style=\"font-weight: bold\">]</span> &gt;&gt; HTTP Request: <span style=\"color: #808000; text-decoration-color: #808000; font-weight: bold\">POST</span>                                <a href=\"file:///Users/kimbwook/PycharmProjects/fast-campus/venv/lib/python3.10/site-packages/httpx/_client.py\" target=\"_blank\"><span style=\"color: #7f7f7f; text-decoration-color: #7f7f7f\">_client.py</span></a><span style=\"color: #7f7f7f; text-decoration-color: #7f7f7f\">:</span><a href=\"file:///Users/kimbwook/PycharmProjects/fast-campus/venv/lib/python3.10/site-packages/httpx/_client.py#1773\" target=\"_blank\"><span style=\"color: #7f7f7f; text-decoration-color: #7f7f7f\">1773</span></a>\n",
       "<span style=\"color: #7fbfbf; text-decoration-color: #7fbfbf\">                    </span>         <span style=\"color: #0000ff; text-decoration-color: #0000ff; text-decoration: underline\">https://api.openai.com/v1/chat/completions</span> <span style=\"color: #008000; text-decoration-color: #008000\">\"HTTP/1.1 200 OK\"</span>           <span style=\"color: #7f7f7f; text-decoration-color: #7f7f7f\">               </span>\n",
       "</pre>\n"
      ]
     },
     "metadata": {},
     "output_type": "display_data"
    },
    {
     "data": {
      "text/plain": [
       "\u001B[2;36m[01/30/25 14:05:41]\u001B[0m\u001B[2;36m \u001B[0m\u001B[34mINFO    \u001B[0m \u001B[1m[\u001B[0m_client.py:\u001B[1;36m1773\u001B[0m\u001B[1m]\u001B[0m >> HTTP Request: \u001B[1;33mPOST\u001B[0m                                \u001B]8;id=866656;file:///Users/kimbwook/PycharmProjects/fast-campus/venv/lib/python3.10/site-packages/httpx/_client.py\u001B\\\u001B[2m_client.py\u001B[0m\u001B]8;;\u001B\\\u001B[2m:\u001B[0m\u001B]8;id=143238;file:///Users/kimbwook/PycharmProjects/fast-campus/venv/lib/python3.10/site-packages/httpx/_client.py#1773\u001B\\\u001B[2m1773\u001B[0m\u001B]8;;\u001B\\\n",
       "\u001B[2;36m                    \u001B[0m         \u001B[4;94mhttps://api.openai.com/v1/chat/completions\u001B[0m \u001B[32m\"HTTP/1.1 200 OK\"\u001B[0m           \u001B[2m               \u001B[0m\n"
      ],
      "text/html": [
       "<pre style=\"white-space:pre;overflow-x:auto;line-height:normal;font-family:Menlo,'DejaVu Sans Mono',consolas,'Courier New',monospace\"><span style=\"color: #7fbfbf; text-decoration-color: #7fbfbf\">[01/30/25 14:05:41] </span><span style=\"color: #000080; text-decoration-color: #000080\">INFO    </span> <span style=\"font-weight: bold\">[</span>_client.py:<span style=\"color: #008080; text-decoration-color: #008080; font-weight: bold\">1773</span><span style=\"font-weight: bold\">]</span> &gt;&gt; HTTP Request: <span style=\"color: #808000; text-decoration-color: #808000; font-weight: bold\">POST</span>                                <a href=\"file:///Users/kimbwook/PycharmProjects/fast-campus/venv/lib/python3.10/site-packages/httpx/_client.py\" target=\"_blank\"><span style=\"color: #7f7f7f; text-decoration-color: #7f7f7f\">_client.py</span></a><span style=\"color: #7f7f7f; text-decoration-color: #7f7f7f\">:</span><a href=\"file:///Users/kimbwook/PycharmProjects/fast-campus/venv/lib/python3.10/site-packages/httpx/_client.py#1773\" target=\"_blank\"><span style=\"color: #7f7f7f; text-decoration-color: #7f7f7f\">1773</span></a>\n",
       "<span style=\"color: #7fbfbf; text-decoration-color: #7fbfbf\">                    </span>         <span style=\"color: #0000ff; text-decoration-color: #0000ff; text-decoration: underline\">https://api.openai.com/v1/chat/completions</span> <span style=\"color: #008000; text-decoration-color: #008000\">\"HTTP/1.1 200 OK\"</span>           <span style=\"color: #7f7f7f; text-decoration-color: #7f7f7f\">               </span>\n",
       "</pre>\n"
      ]
     },
     "metadata": {},
     "output_type": "display_data"
    },
    {
     "data": {
      "text/plain": [
       "\u001B[2;36m                   \u001B[0m\u001B[2;36m \u001B[0m\u001B[34mINFO    \u001B[0m \u001B[1m[\u001B[0m_client.py:\u001B[1;36m1773\u001B[0m\u001B[1m]\u001B[0m >> HTTP Request: \u001B[1;33mPOST\u001B[0m                                \u001B]8;id=478135;file:///Users/kimbwook/PycharmProjects/fast-campus/venv/lib/python3.10/site-packages/httpx/_client.py\u001B\\\u001B[2m_client.py\u001B[0m\u001B]8;;\u001B\\\u001B[2m:\u001B[0m\u001B]8;id=738203;file:///Users/kimbwook/PycharmProjects/fast-campus/venv/lib/python3.10/site-packages/httpx/_client.py#1773\u001B\\\u001B[2m1773\u001B[0m\u001B]8;;\u001B\\\n",
       "\u001B[2;36m                    \u001B[0m         \u001B[4;94mhttps://api.openai.com/v1/chat/completions\u001B[0m \u001B[32m\"HTTP/1.1 200 OK\"\u001B[0m           \u001B[2m               \u001B[0m\n"
      ],
      "text/html": [
       "<pre style=\"white-space:pre;overflow-x:auto;line-height:normal;font-family:Menlo,'DejaVu Sans Mono',consolas,'Courier New',monospace\"><span style=\"color: #7fbfbf; text-decoration-color: #7fbfbf\">                    </span><span style=\"color: #000080; text-decoration-color: #000080\">INFO    </span> <span style=\"font-weight: bold\">[</span>_client.py:<span style=\"color: #008080; text-decoration-color: #008080; font-weight: bold\">1773</span><span style=\"font-weight: bold\">]</span> &gt;&gt; HTTP Request: <span style=\"color: #808000; text-decoration-color: #808000; font-weight: bold\">POST</span>                                <a href=\"file:///Users/kimbwook/PycharmProjects/fast-campus/venv/lib/python3.10/site-packages/httpx/_client.py\" target=\"_blank\"><span style=\"color: #7f7f7f; text-decoration-color: #7f7f7f\">_client.py</span></a><span style=\"color: #7f7f7f; text-decoration-color: #7f7f7f\">:</span><a href=\"file:///Users/kimbwook/PycharmProjects/fast-campus/venv/lib/python3.10/site-packages/httpx/_client.py#1773\" target=\"_blank\"><span style=\"color: #7f7f7f; text-decoration-color: #7f7f7f\">1773</span></a>\n",
       "<span style=\"color: #7fbfbf; text-decoration-color: #7fbfbf\">                    </span>         <span style=\"color: #0000ff; text-decoration-color: #0000ff; text-decoration: underline\">https://api.openai.com/v1/chat/completions</span> <span style=\"color: #008000; text-decoration-color: #008000\">\"HTTP/1.1 200 OK\"</span>           <span style=\"color: #7f7f7f; text-decoration-color: #7f7f7f\">               </span>\n",
       "</pre>\n"
      ]
     },
     "metadata": {},
     "output_type": "display_data"
    },
    {
     "data": {
      "text/plain": [
       "\u001B[2;36m                   \u001B[0m\u001B[2;36m \u001B[0m\u001B[34mINFO    \u001B[0m \u001B[1m[\u001B[0m_client.py:\u001B[1;36m1773\u001B[0m\u001B[1m]\u001B[0m >> HTTP Request: \u001B[1;33mPOST\u001B[0m                                \u001B]8;id=482074;file:///Users/kimbwook/PycharmProjects/fast-campus/venv/lib/python3.10/site-packages/httpx/_client.py\u001B\\\u001B[2m_client.py\u001B[0m\u001B]8;;\u001B\\\u001B[2m:\u001B[0m\u001B]8;id=444024;file:///Users/kimbwook/PycharmProjects/fast-campus/venv/lib/python3.10/site-packages/httpx/_client.py#1773\u001B\\\u001B[2m1773\u001B[0m\u001B]8;;\u001B\\\n",
       "\u001B[2;36m                    \u001B[0m         \u001B[4;94mhttps://api.openai.com/v1/chat/completions\u001B[0m \u001B[32m\"HTTP/1.1 200 OK\"\u001B[0m           \u001B[2m               \u001B[0m\n"
      ],
      "text/html": [
       "<pre style=\"white-space:pre;overflow-x:auto;line-height:normal;font-family:Menlo,'DejaVu Sans Mono',consolas,'Courier New',monospace\"><span style=\"color: #7fbfbf; text-decoration-color: #7fbfbf\">                    </span><span style=\"color: #000080; text-decoration-color: #000080\">INFO    </span> <span style=\"font-weight: bold\">[</span>_client.py:<span style=\"color: #008080; text-decoration-color: #008080; font-weight: bold\">1773</span><span style=\"font-weight: bold\">]</span> &gt;&gt; HTTP Request: <span style=\"color: #808000; text-decoration-color: #808000; font-weight: bold\">POST</span>                                <a href=\"file:///Users/kimbwook/PycharmProjects/fast-campus/venv/lib/python3.10/site-packages/httpx/_client.py\" target=\"_blank\"><span style=\"color: #7f7f7f; text-decoration-color: #7f7f7f\">_client.py</span></a><span style=\"color: #7f7f7f; text-decoration-color: #7f7f7f\">:</span><a href=\"file:///Users/kimbwook/PycharmProjects/fast-campus/venv/lib/python3.10/site-packages/httpx/_client.py#1773\" target=\"_blank\"><span style=\"color: #7f7f7f; text-decoration-color: #7f7f7f\">1773</span></a>\n",
       "<span style=\"color: #7fbfbf; text-decoration-color: #7fbfbf\">                    </span>         <span style=\"color: #0000ff; text-decoration-color: #0000ff; text-decoration: underline\">https://api.openai.com/v1/chat/completions</span> <span style=\"color: #008000; text-decoration-color: #008000\">\"HTTP/1.1 200 OK\"</span>           <span style=\"color: #7f7f7f; text-decoration-color: #7f7f7f\">               </span>\n",
       "</pre>\n"
      ]
     },
     "metadata": {},
     "output_type": "display_data"
    },
    {
     "data": {
      "text/plain": [
       "\u001B[2;36m                   \u001B[0m\u001B[2;36m \u001B[0m\u001B[34mINFO    \u001B[0m \u001B[1m[\u001B[0m_client.py:\u001B[1;36m1773\u001B[0m\u001B[1m]\u001B[0m >> HTTP Request: \u001B[1;33mPOST\u001B[0m                                \u001B]8;id=355879;file:///Users/kimbwook/PycharmProjects/fast-campus/venv/lib/python3.10/site-packages/httpx/_client.py\u001B\\\u001B[2m_client.py\u001B[0m\u001B]8;;\u001B\\\u001B[2m:\u001B[0m\u001B]8;id=77365;file:///Users/kimbwook/PycharmProjects/fast-campus/venv/lib/python3.10/site-packages/httpx/_client.py#1773\u001B\\\u001B[2m1773\u001B[0m\u001B]8;;\u001B\\\n",
       "\u001B[2;36m                    \u001B[0m         \u001B[4;94mhttps://api.openai.com/v1/chat/completions\u001B[0m \u001B[32m\"HTTP/1.1 200 OK\"\u001B[0m           \u001B[2m               \u001B[0m\n"
      ],
      "text/html": [
       "<pre style=\"white-space:pre;overflow-x:auto;line-height:normal;font-family:Menlo,'DejaVu Sans Mono',consolas,'Courier New',monospace\"><span style=\"color: #7fbfbf; text-decoration-color: #7fbfbf\">                    </span><span style=\"color: #000080; text-decoration-color: #000080\">INFO    </span> <span style=\"font-weight: bold\">[</span>_client.py:<span style=\"color: #008080; text-decoration-color: #008080; font-weight: bold\">1773</span><span style=\"font-weight: bold\">]</span> &gt;&gt; HTTP Request: <span style=\"color: #808000; text-decoration-color: #808000; font-weight: bold\">POST</span>                                <a href=\"file:///Users/kimbwook/PycharmProjects/fast-campus/venv/lib/python3.10/site-packages/httpx/_client.py\" target=\"_blank\"><span style=\"color: #7f7f7f; text-decoration-color: #7f7f7f\">_client.py</span></a><span style=\"color: #7f7f7f; text-decoration-color: #7f7f7f\">:</span><a href=\"file:///Users/kimbwook/PycharmProjects/fast-campus/venv/lib/python3.10/site-packages/httpx/_client.py#1773\" target=\"_blank\"><span style=\"color: #7f7f7f; text-decoration-color: #7f7f7f\">1773</span></a>\n",
       "<span style=\"color: #7fbfbf; text-decoration-color: #7fbfbf\">                    </span>         <span style=\"color: #0000ff; text-decoration-color: #0000ff; text-decoration: underline\">https://api.openai.com/v1/chat/completions</span> <span style=\"color: #008000; text-decoration-color: #008000\">\"HTTP/1.1 200 OK\"</span>           <span style=\"color: #7f7f7f; text-decoration-color: #7f7f7f\">               </span>\n",
       "</pre>\n"
      ]
     },
     "metadata": {},
     "output_type": "display_data"
    },
    {
     "data": {
      "text/plain": [
       "\u001B[2;36m                   \u001B[0m\u001B[2;36m \u001B[0m\u001B[34mINFO    \u001B[0m \u001B[1m[\u001B[0m_client.py:\u001B[1;36m1773\u001B[0m\u001B[1m]\u001B[0m >> HTTP Request: \u001B[1;33mPOST\u001B[0m                                \u001B]8;id=446309;file:///Users/kimbwook/PycharmProjects/fast-campus/venv/lib/python3.10/site-packages/httpx/_client.py\u001B\\\u001B[2m_client.py\u001B[0m\u001B]8;;\u001B\\\u001B[2m:\u001B[0m\u001B]8;id=484874;file:///Users/kimbwook/PycharmProjects/fast-campus/venv/lib/python3.10/site-packages/httpx/_client.py#1773\u001B\\\u001B[2m1773\u001B[0m\u001B]8;;\u001B\\\n",
       "\u001B[2;36m                    \u001B[0m         \u001B[4;94mhttps://api.openai.com/v1/chat/completions\u001B[0m \u001B[32m\"HTTP/1.1 200 OK\"\u001B[0m           \u001B[2m               \u001B[0m\n"
      ],
      "text/html": [
       "<pre style=\"white-space:pre;overflow-x:auto;line-height:normal;font-family:Menlo,'DejaVu Sans Mono',consolas,'Courier New',monospace\"><span style=\"color: #7fbfbf; text-decoration-color: #7fbfbf\">                    </span><span style=\"color: #000080; text-decoration-color: #000080\">INFO    </span> <span style=\"font-weight: bold\">[</span>_client.py:<span style=\"color: #008080; text-decoration-color: #008080; font-weight: bold\">1773</span><span style=\"font-weight: bold\">]</span> &gt;&gt; HTTP Request: <span style=\"color: #808000; text-decoration-color: #808000; font-weight: bold\">POST</span>                                <a href=\"file:///Users/kimbwook/PycharmProjects/fast-campus/venv/lib/python3.10/site-packages/httpx/_client.py\" target=\"_blank\"><span style=\"color: #7f7f7f; text-decoration-color: #7f7f7f\">_client.py</span></a><span style=\"color: #7f7f7f; text-decoration-color: #7f7f7f\">:</span><a href=\"file:///Users/kimbwook/PycharmProjects/fast-campus/venv/lib/python3.10/site-packages/httpx/_client.py#1773\" target=\"_blank\"><span style=\"color: #7f7f7f; text-decoration-color: #7f7f7f\">1773</span></a>\n",
       "<span style=\"color: #7fbfbf; text-decoration-color: #7fbfbf\">                    </span>         <span style=\"color: #0000ff; text-decoration-color: #0000ff; text-decoration: underline\">https://api.openai.com/v1/chat/completions</span> <span style=\"color: #008000; text-decoration-color: #008000\">\"HTTP/1.1 200 OK\"</span>           <span style=\"color: #7f7f7f; text-decoration-color: #7f7f7f\">               </span>\n",
       "</pre>\n"
      ]
     },
     "metadata": {},
     "output_type": "display_data"
    },
    {
     "data": {
      "text/plain": [
       "\u001B[2;36m                   \u001B[0m\u001B[2;36m \u001B[0m\u001B[34mINFO    \u001B[0m \u001B[1m[\u001B[0m_client.py:\u001B[1;36m1773\u001B[0m\u001B[1m]\u001B[0m >> HTTP Request: \u001B[1;33mPOST\u001B[0m                                \u001B]8;id=82520;file:///Users/kimbwook/PycharmProjects/fast-campus/venv/lib/python3.10/site-packages/httpx/_client.py\u001B\\\u001B[2m_client.py\u001B[0m\u001B]8;;\u001B\\\u001B[2m:\u001B[0m\u001B]8;id=375238;file:///Users/kimbwook/PycharmProjects/fast-campus/venv/lib/python3.10/site-packages/httpx/_client.py#1773\u001B\\\u001B[2m1773\u001B[0m\u001B]8;;\u001B\\\n",
       "\u001B[2;36m                    \u001B[0m         \u001B[4;94mhttps://api.openai.com/v1/chat/completions\u001B[0m \u001B[32m\"HTTP/1.1 200 OK\"\u001B[0m           \u001B[2m               \u001B[0m\n"
      ],
      "text/html": [
       "<pre style=\"white-space:pre;overflow-x:auto;line-height:normal;font-family:Menlo,'DejaVu Sans Mono',consolas,'Courier New',monospace\"><span style=\"color: #7fbfbf; text-decoration-color: #7fbfbf\">                    </span><span style=\"color: #000080; text-decoration-color: #000080\">INFO    </span> <span style=\"font-weight: bold\">[</span>_client.py:<span style=\"color: #008080; text-decoration-color: #008080; font-weight: bold\">1773</span><span style=\"font-weight: bold\">]</span> &gt;&gt; HTTP Request: <span style=\"color: #808000; text-decoration-color: #808000; font-weight: bold\">POST</span>                                <a href=\"file:///Users/kimbwook/PycharmProjects/fast-campus/venv/lib/python3.10/site-packages/httpx/_client.py\" target=\"_blank\"><span style=\"color: #7f7f7f; text-decoration-color: #7f7f7f\">_client.py</span></a><span style=\"color: #7f7f7f; text-decoration-color: #7f7f7f\">:</span><a href=\"file:///Users/kimbwook/PycharmProjects/fast-campus/venv/lib/python3.10/site-packages/httpx/_client.py#1773\" target=\"_blank\"><span style=\"color: #7f7f7f; text-decoration-color: #7f7f7f\">1773</span></a>\n",
       "<span style=\"color: #7fbfbf; text-decoration-color: #7fbfbf\">                    </span>         <span style=\"color: #0000ff; text-decoration-color: #0000ff; text-decoration: underline\">https://api.openai.com/v1/chat/completions</span> <span style=\"color: #008000; text-decoration-color: #008000\">\"HTTP/1.1 200 OK\"</span>           <span style=\"color: #7f7f7f; text-decoration-color: #7f7f7f\">               </span>\n",
       "</pre>\n"
      ]
     },
     "metadata": {},
     "output_type": "display_data"
    },
    {
     "data": {
      "text/plain": [
       "\u001B[2;36m                   \u001B[0m\u001B[2;36m \u001B[0m\u001B[34mINFO    \u001B[0m \u001B[1m[\u001B[0m_client.py:\u001B[1;36m1773\u001B[0m\u001B[1m]\u001B[0m >> HTTP Request: \u001B[1;33mPOST\u001B[0m                                \u001B]8;id=370591;file:///Users/kimbwook/PycharmProjects/fast-campus/venv/lib/python3.10/site-packages/httpx/_client.py\u001B\\\u001B[2m_client.py\u001B[0m\u001B]8;;\u001B\\\u001B[2m:\u001B[0m\u001B]8;id=835174;file:///Users/kimbwook/PycharmProjects/fast-campus/venv/lib/python3.10/site-packages/httpx/_client.py#1773\u001B\\\u001B[2m1773\u001B[0m\u001B]8;;\u001B\\\n",
       "\u001B[2;36m                    \u001B[0m         \u001B[4;94mhttps://api.openai.com/v1/chat/completions\u001B[0m \u001B[32m\"HTTP/1.1 200 OK\"\u001B[0m           \u001B[2m               \u001B[0m\n"
      ],
      "text/html": [
       "<pre style=\"white-space:pre;overflow-x:auto;line-height:normal;font-family:Menlo,'DejaVu Sans Mono',consolas,'Courier New',monospace\"><span style=\"color: #7fbfbf; text-decoration-color: #7fbfbf\">                    </span><span style=\"color: #000080; text-decoration-color: #000080\">INFO    </span> <span style=\"font-weight: bold\">[</span>_client.py:<span style=\"color: #008080; text-decoration-color: #008080; font-weight: bold\">1773</span><span style=\"font-weight: bold\">]</span> &gt;&gt; HTTP Request: <span style=\"color: #808000; text-decoration-color: #808000; font-weight: bold\">POST</span>                                <a href=\"file:///Users/kimbwook/PycharmProjects/fast-campus/venv/lib/python3.10/site-packages/httpx/_client.py\" target=\"_blank\"><span style=\"color: #7f7f7f; text-decoration-color: #7f7f7f\">_client.py</span></a><span style=\"color: #7f7f7f; text-decoration-color: #7f7f7f\">:</span><a href=\"file:///Users/kimbwook/PycharmProjects/fast-campus/venv/lib/python3.10/site-packages/httpx/_client.py#1773\" target=\"_blank\"><span style=\"color: #7f7f7f; text-decoration-color: #7f7f7f\">1773</span></a>\n",
       "<span style=\"color: #7fbfbf; text-decoration-color: #7fbfbf\">                    </span>         <span style=\"color: #0000ff; text-decoration-color: #0000ff; text-decoration: underline\">https://api.openai.com/v1/chat/completions</span> <span style=\"color: #008000; text-decoration-color: #008000\">\"HTTP/1.1 200 OK\"</span>           <span style=\"color: #7f7f7f; text-decoration-color: #7f7f7f\">               </span>\n",
       "</pre>\n"
      ]
     },
     "metadata": {},
     "output_type": "display_data"
    },
    {
     "data": {
      "text/plain": [
       "\u001B[2;36m                   \u001B[0m\u001B[2;36m \u001B[0m\u001B[34mINFO    \u001B[0m \u001B[1m[\u001B[0m_client.py:\u001B[1;36m1773\u001B[0m\u001B[1m]\u001B[0m >> HTTP Request: \u001B[1;33mPOST\u001B[0m                                \u001B]8;id=915811;file:///Users/kimbwook/PycharmProjects/fast-campus/venv/lib/python3.10/site-packages/httpx/_client.py\u001B\\\u001B[2m_client.py\u001B[0m\u001B]8;;\u001B\\\u001B[2m:\u001B[0m\u001B]8;id=275892;file:///Users/kimbwook/PycharmProjects/fast-campus/venv/lib/python3.10/site-packages/httpx/_client.py#1773\u001B\\\u001B[2m1773\u001B[0m\u001B]8;;\u001B\\\n",
       "\u001B[2;36m                    \u001B[0m         \u001B[4;94mhttps://api.openai.com/v1/chat/completions\u001B[0m \u001B[32m\"HTTP/1.1 200 OK\"\u001B[0m           \u001B[2m               \u001B[0m\n"
      ],
      "text/html": [
       "<pre style=\"white-space:pre;overflow-x:auto;line-height:normal;font-family:Menlo,'DejaVu Sans Mono',consolas,'Courier New',monospace\"><span style=\"color: #7fbfbf; text-decoration-color: #7fbfbf\">                    </span><span style=\"color: #000080; text-decoration-color: #000080\">INFO    </span> <span style=\"font-weight: bold\">[</span>_client.py:<span style=\"color: #008080; text-decoration-color: #008080; font-weight: bold\">1773</span><span style=\"font-weight: bold\">]</span> &gt;&gt; HTTP Request: <span style=\"color: #808000; text-decoration-color: #808000; font-weight: bold\">POST</span>                                <a href=\"file:///Users/kimbwook/PycharmProjects/fast-campus/venv/lib/python3.10/site-packages/httpx/_client.py\" target=\"_blank\"><span style=\"color: #7f7f7f; text-decoration-color: #7f7f7f\">_client.py</span></a><span style=\"color: #7f7f7f; text-decoration-color: #7f7f7f\">:</span><a href=\"file:///Users/kimbwook/PycharmProjects/fast-campus/venv/lib/python3.10/site-packages/httpx/_client.py#1773\" target=\"_blank\"><span style=\"color: #7f7f7f; text-decoration-color: #7f7f7f\">1773</span></a>\n",
       "<span style=\"color: #7fbfbf; text-decoration-color: #7fbfbf\">                    </span>         <span style=\"color: #0000ff; text-decoration-color: #0000ff; text-decoration: underline\">https://api.openai.com/v1/chat/completions</span> <span style=\"color: #008000; text-decoration-color: #008000\">\"HTTP/1.1 200 OK\"</span>           <span style=\"color: #7f7f7f; text-decoration-color: #7f7f7f\">               </span>\n",
       "</pre>\n"
      ]
     },
     "metadata": {},
     "output_type": "display_data"
    },
    {
     "data": {
      "text/plain": [
       "\u001B[2;36m                   \u001B[0m\u001B[2;36m \u001B[0m\u001B[34mINFO    \u001B[0m \u001B[1m[\u001B[0m_client.py:\u001B[1;36m1773\u001B[0m\u001B[1m]\u001B[0m >> HTTP Request: \u001B[1;33mPOST\u001B[0m                                \u001B]8;id=986650;file:///Users/kimbwook/PycharmProjects/fast-campus/venv/lib/python3.10/site-packages/httpx/_client.py\u001B\\\u001B[2m_client.py\u001B[0m\u001B]8;;\u001B\\\u001B[2m:\u001B[0m\u001B]8;id=512176;file:///Users/kimbwook/PycharmProjects/fast-campus/venv/lib/python3.10/site-packages/httpx/_client.py#1773\u001B\\\u001B[2m1773\u001B[0m\u001B]8;;\u001B\\\n",
       "\u001B[2;36m                    \u001B[0m         \u001B[4;94mhttps://api.openai.com/v1/chat/completions\u001B[0m \u001B[32m\"HTTP/1.1 200 OK\"\u001B[0m           \u001B[2m               \u001B[0m\n"
      ],
      "text/html": [
       "<pre style=\"white-space:pre;overflow-x:auto;line-height:normal;font-family:Menlo,'DejaVu Sans Mono',consolas,'Courier New',monospace\"><span style=\"color: #7fbfbf; text-decoration-color: #7fbfbf\">                    </span><span style=\"color: #000080; text-decoration-color: #000080\">INFO    </span> <span style=\"font-weight: bold\">[</span>_client.py:<span style=\"color: #008080; text-decoration-color: #008080; font-weight: bold\">1773</span><span style=\"font-weight: bold\">]</span> &gt;&gt; HTTP Request: <span style=\"color: #808000; text-decoration-color: #808000; font-weight: bold\">POST</span>                                <a href=\"file:///Users/kimbwook/PycharmProjects/fast-campus/venv/lib/python3.10/site-packages/httpx/_client.py\" target=\"_blank\"><span style=\"color: #7f7f7f; text-decoration-color: #7f7f7f\">_client.py</span></a><span style=\"color: #7f7f7f; text-decoration-color: #7f7f7f\">:</span><a href=\"file:///Users/kimbwook/PycharmProjects/fast-campus/venv/lib/python3.10/site-packages/httpx/_client.py#1773\" target=\"_blank\"><span style=\"color: #7f7f7f; text-decoration-color: #7f7f7f\">1773</span></a>\n",
       "<span style=\"color: #7fbfbf; text-decoration-color: #7fbfbf\">                    </span>         <span style=\"color: #0000ff; text-decoration-color: #0000ff; text-decoration: underline\">https://api.openai.com/v1/chat/completions</span> <span style=\"color: #008000; text-decoration-color: #008000\">\"HTTP/1.1 200 OK\"</span>           <span style=\"color: #7f7f7f; text-decoration-color: #7f7f7f\">               </span>\n",
       "</pre>\n"
      ]
     },
     "metadata": {},
     "output_type": "display_data"
    },
    {
     "data": {
      "text/plain": [
       "\u001B[2;36m                   \u001B[0m\u001B[2;36m \u001B[0m\u001B[34mINFO    \u001B[0m \u001B[1m[\u001B[0m_client.py:\u001B[1;36m1773\u001B[0m\u001B[1m]\u001B[0m >> HTTP Request: \u001B[1;33mPOST\u001B[0m                                \u001B]8;id=164977;file:///Users/kimbwook/PycharmProjects/fast-campus/venv/lib/python3.10/site-packages/httpx/_client.py\u001B\\\u001B[2m_client.py\u001B[0m\u001B]8;;\u001B\\\u001B[2m:\u001B[0m\u001B]8;id=543643;file:///Users/kimbwook/PycharmProjects/fast-campus/venv/lib/python3.10/site-packages/httpx/_client.py#1773\u001B\\\u001B[2m1773\u001B[0m\u001B]8;;\u001B\\\n",
       "\u001B[2;36m                    \u001B[0m         \u001B[4;94mhttps://api.openai.com/v1/chat/completions\u001B[0m \u001B[32m\"HTTP/1.1 200 OK\"\u001B[0m           \u001B[2m               \u001B[0m\n"
      ],
      "text/html": [
       "<pre style=\"white-space:pre;overflow-x:auto;line-height:normal;font-family:Menlo,'DejaVu Sans Mono',consolas,'Courier New',monospace\"><span style=\"color: #7fbfbf; text-decoration-color: #7fbfbf\">                    </span><span style=\"color: #000080; text-decoration-color: #000080\">INFO    </span> <span style=\"font-weight: bold\">[</span>_client.py:<span style=\"color: #008080; text-decoration-color: #008080; font-weight: bold\">1773</span><span style=\"font-weight: bold\">]</span> &gt;&gt; HTTP Request: <span style=\"color: #808000; text-decoration-color: #808000; font-weight: bold\">POST</span>                                <a href=\"file:///Users/kimbwook/PycharmProjects/fast-campus/venv/lib/python3.10/site-packages/httpx/_client.py\" target=\"_blank\"><span style=\"color: #7f7f7f; text-decoration-color: #7f7f7f\">_client.py</span></a><span style=\"color: #7f7f7f; text-decoration-color: #7f7f7f\">:</span><a href=\"file:///Users/kimbwook/PycharmProjects/fast-campus/venv/lib/python3.10/site-packages/httpx/_client.py#1773\" target=\"_blank\"><span style=\"color: #7f7f7f; text-decoration-color: #7f7f7f\">1773</span></a>\n",
       "<span style=\"color: #7fbfbf; text-decoration-color: #7fbfbf\">                    </span>         <span style=\"color: #0000ff; text-decoration-color: #0000ff; text-decoration: underline\">https://api.openai.com/v1/chat/completions</span> <span style=\"color: #008000; text-decoration-color: #008000\">\"HTTP/1.1 200 OK\"</span>           <span style=\"color: #7f7f7f; text-decoration-color: #7f7f7f\">               </span>\n",
       "</pre>\n"
      ]
     },
     "metadata": {},
     "output_type": "display_data"
    },
    {
     "data": {
      "text/plain": [
       "\u001B[2;36m                   \u001B[0m\u001B[2;36m \u001B[0m\u001B[34mINFO    \u001B[0m \u001B[1m[\u001B[0m_client.py:\u001B[1;36m1773\u001B[0m\u001B[1m]\u001B[0m >> HTTP Request: \u001B[1;33mPOST\u001B[0m                                \u001B]8;id=699418;file:///Users/kimbwook/PycharmProjects/fast-campus/venv/lib/python3.10/site-packages/httpx/_client.py\u001B\\\u001B[2m_client.py\u001B[0m\u001B]8;;\u001B\\\u001B[2m:\u001B[0m\u001B]8;id=717867;file:///Users/kimbwook/PycharmProjects/fast-campus/venv/lib/python3.10/site-packages/httpx/_client.py#1773\u001B\\\u001B[2m1773\u001B[0m\u001B]8;;\u001B\\\n",
       "\u001B[2;36m                    \u001B[0m         \u001B[4;94mhttps://api.openai.com/v1/chat/completions\u001B[0m \u001B[32m\"HTTP/1.1 200 OK\"\u001B[0m           \u001B[2m               \u001B[0m\n"
      ],
      "text/html": [
       "<pre style=\"white-space:pre;overflow-x:auto;line-height:normal;font-family:Menlo,'DejaVu Sans Mono',consolas,'Courier New',monospace\"><span style=\"color: #7fbfbf; text-decoration-color: #7fbfbf\">                    </span><span style=\"color: #000080; text-decoration-color: #000080\">INFO    </span> <span style=\"font-weight: bold\">[</span>_client.py:<span style=\"color: #008080; text-decoration-color: #008080; font-weight: bold\">1773</span><span style=\"font-weight: bold\">]</span> &gt;&gt; HTTP Request: <span style=\"color: #808000; text-decoration-color: #808000; font-weight: bold\">POST</span>                                <a href=\"file:///Users/kimbwook/PycharmProjects/fast-campus/venv/lib/python3.10/site-packages/httpx/_client.py\" target=\"_blank\"><span style=\"color: #7f7f7f; text-decoration-color: #7f7f7f\">_client.py</span></a><span style=\"color: #7f7f7f; text-decoration-color: #7f7f7f\">:</span><a href=\"file:///Users/kimbwook/PycharmProjects/fast-campus/venv/lib/python3.10/site-packages/httpx/_client.py#1773\" target=\"_blank\"><span style=\"color: #7f7f7f; text-decoration-color: #7f7f7f\">1773</span></a>\n",
       "<span style=\"color: #7fbfbf; text-decoration-color: #7fbfbf\">                    </span>         <span style=\"color: #0000ff; text-decoration-color: #0000ff; text-decoration: underline\">https://api.openai.com/v1/chat/completions</span> <span style=\"color: #008000; text-decoration-color: #008000\">\"HTTP/1.1 200 OK\"</span>           <span style=\"color: #7f7f7f; text-decoration-color: #7f7f7f\">               </span>\n",
       "</pre>\n"
      ]
     },
     "metadata": {},
     "output_type": "display_data"
    },
    {
     "data": {
      "text/plain": [
       "\u001B[2;36m[01/30/25 14:05:42]\u001B[0m\u001B[2;36m \u001B[0m\u001B[34mINFO    \u001B[0m \u001B[1m[\u001B[0m_client.py:\u001B[1;36m1773\u001B[0m\u001B[1m]\u001B[0m >> HTTP Request: \u001B[1;33mPOST\u001B[0m                                \u001B]8;id=508371;file:///Users/kimbwook/PycharmProjects/fast-campus/venv/lib/python3.10/site-packages/httpx/_client.py\u001B\\\u001B[2m_client.py\u001B[0m\u001B]8;;\u001B\\\u001B[2m:\u001B[0m\u001B]8;id=902240;file:///Users/kimbwook/PycharmProjects/fast-campus/venv/lib/python3.10/site-packages/httpx/_client.py#1773\u001B\\\u001B[2m1773\u001B[0m\u001B]8;;\u001B\\\n",
       "\u001B[2;36m                    \u001B[0m         \u001B[4;94mhttps://api.openai.com/v1/chat/completions\u001B[0m \u001B[32m\"HTTP/1.1 200 OK\"\u001B[0m           \u001B[2m               \u001B[0m\n"
      ],
      "text/html": [
       "<pre style=\"white-space:pre;overflow-x:auto;line-height:normal;font-family:Menlo,'DejaVu Sans Mono',consolas,'Courier New',monospace\"><span style=\"color: #7fbfbf; text-decoration-color: #7fbfbf\">[01/30/25 14:05:42] </span><span style=\"color: #000080; text-decoration-color: #000080\">INFO    </span> <span style=\"font-weight: bold\">[</span>_client.py:<span style=\"color: #008080; text-decoration-color: #008080; font-weight: bold\">1773</span><span style=\"font-weight: bold\">]</span> &gt;&gt; HTTP Request: <span style=\"color: #808000; text-decoration-color: #808000; font-weight: bold\">POST</span>                                <a href=\"file:///Users/kimbwook/PycharmProjects/fast-campus/venv/lib/python3.10/site-packages/httpx/_client.py\" target=\"_blank\"><span style=\"color: #7f7f7f; text-decoration-color: #7f7f7f\">_client.py</span></a><span style=\"color: #7f7f7f; text-decoration-color: #7f7f7f\">:</span><a href=\"file:///Users/kimbwook/PycharmProjects/fast-campus/venv/lib/python3.10/site-packages/httpx/_client.py#1773\" target=\"_blank\"><span style=\"color: #7f7f7f; text-decoration-color: #7f7f7f\">1773</span></a>\n",
       "<span style=\"color: #7fbfbf; text-decoration-color: #7fbfbf\">                    </span>         <span style=\"color: #0000ff; text-decoration-color: #0000ff; text-decoration: underline\">https://api.openai.com/v1/chat/completions</span> <span style=\"color: #008000; text-decoration-color: #008000\">\"HTTP/1.1 200 OK\"</span>           <span style=\"color: #7f7f7f; text-decoration-color: #7f7f7f\">               </span>\n",
       "</pre>\n"
      ]
     },
     "metadata": {},
     "output_type": "display_data"
    },
    {
     "data": {
      "text/plain": [
       "\u001B[2;36m[01/30/25 14:05:43]\u001B[0m\u001B[2;36m \u001B[0m\u001B[34mINFO    \u001B[0m \u001B[1m[\u001B[0m_client.py:\u001B[1;36m1773\u001B[0m\u001B[1m]\u001B[0m >> HTTP Request: \u001B[1;33mPOST\u001B[0m                                \u001B]8;id=241125;file:///Users/kimbwook/PycharmProjects/fast-campus/venv/lib/python3.10/site-packages/httpx/_client.py\u001B\\\u001B[2m_client.py\u001B[0m\u001B]8;;\u001B\\\u001B[2m:\u001B[0m\u001B]8;id=986071;file:///Users/kimbwook/PycharmProjects/fast-campus/venv/lib/python3.10/site-packages/httpx/_client.py#1773\u001B\\\u001B[2m1773\u001B[0m\u001B]8;;\u001B\\\n",
       "\u001B[2;36m                    \u001B[0m         \u001B[4;94mhttps://api.openai.com/v1/chat/completions\u001B[0m \u001B[32m\"HTTP/1.1 200 OK\"\u001B[0m           \u001B[2m               \u001B[0m\n"
      ],
      "text/html": [
       "<pre style=\"white-space:pre;overflow-x:auto;line-height:normal;font-family:Menlo,'DejaVu Sans Mono',consolas,'Courier New',monospace\"><span style=\"color: #7fbfbf; text-decoration-color: #7fbfbf\">[01/30/25 14:05:43] </span><span style=\"color: #000080; text-decoration-color: #000080\">INFO    </span> <span style=\"font-weight: bold\">[</span>_client.py:<span style=\"color: #008080; text-decoration-color: #008080; font-weight: bold\">1773</span><span style=\"font-weight: bold\">]</span> &gt;&gt; HTTP Request: <span style=\"color: #808000; text-decoration-color: #808000; font-weight: bold\">POST</span>                                <a href=\"file:///Users/kimbwook/PycharmProjects/fast-campus/venv/lib/python3.10/site-packages/httpx/_client.py\" target=\"_blank\"><span style=\"color: #7f7f7f; text-decoration-color: #7f7f7f\">_client.py</span></a><span style=\"color: #7f7f7f; text-decoration-color: #7f7f7f\">:</span><a href=\"file:///Users/kimbwook/PycharmProjects/fast-campus/venv/lib/python3.10/site-packages/httpx/_client.py#1773\" target=\"_blank\"><span style=\"color: #7f7f7f; text-decoration-color: #7f7f7f\">1773</span></a>\n",
       "<span style=\"color: #7fbfbf; text-decoration-color: #7fbfbf\">                    </span>         <span style=\"color: #0000ff; text-decoration-color: #0000ff; text-decoration: underline\">https://api.openai.com/v1/chat/completions</span> <span style=\"color: #008000; text-decoration-color: #008000\">\"HTTP/1.1 200 OK\"</span>           <span style=\"color: #7f7f7f; text-decoration-color: #7f7f7f\">               </span>\n",
       "</pre>\n"
      ]
     },
     "metadata": {},
     "output_type": "display_data"
    },
    {
     "data": {
      "text/plain": [
       "\u001B[2;36m[01/30/25 14:05:45]\u001B[0m\u001B[2;36m \u001B[0m\u001B[34mINFO    \u001B[0m \u001B[1m[\u001B[0m_client.py:\u001B[1;36m1773\u001B[0m\u001B[1m]\u001B[0m >> HTTP Request: \u001B[1;33mPOST\u001B[0m                                \u001B]8;id=826012;file:///Users/kimbwook/PycharmProjects/fast-campus/venv/lib/python3.10/site-packages/httpx/_client.py\u001B\\\u001B[2m_client.py\u001B[0m\u001B]8;;\u001B\\\u001B[2m:\u001B[0m\u001B]8;id=216913;file:///Users/kimbwook/PycharmProjects/fast-campus/venv/lib/python3.10/site-packages/httpx/_client.py#1773\u001B\\\u001B[2m1773\u001B[0m\u001B]8;;\u001B\\\n",
       "\u001B[2;36m                    \u001B[0m         \u001B[4;94mhttps://api.openai.com/v1/chat/completions\u001B[0m \u001B[32m\"HTTP/1.1 200 OK\"\u001B[0m           \u001B[2m               \u001B[0m\n"
      ],
      "text/html": [
       "<pre style=\"white-space:pre;overflow-x:auto;line-height:normal;font-family:Menlo,'DejaVu Sans Mono',consolas,'Courier New',monospace\"><span style=\"color: #7fbfbf; text-decoration-color: #7fbfbf\">[01/30/25 14:05:45] </span><span style=\"color: #000080; text-decoration-color: #000080\">INFO    </span> <span style=\"font-weight: bold\">[</span>_client.py:<span style=\"color: #008080; text-decoration-color: #008080; font-weight: bold\">1773</span><span style=\"font-weight: bold\">]</span> &gt;&gt; HTTP Request: <span style=\"color: #808000; text-decoration-color: #808000; font-weight: bold\">POST</span>                                <a href=\"file:///Users/kimbwook/PycharmProjects/fast-campus/venv/lib/python3.10/site-packages/httpx/_client.py\" target=\"_blank\"><span style=\"color: #7f7f7f; text-decoration-color: #7f7f7f\">_client.py</span></a><span style=\"color: #7f7f7f; text-decoration-color: #7f7f7f\">:</span><a href=\"file:///Users/kimbwook/PycharmProjects/fast-campus/venv/lib/python3.10/site-packages/httpx/_client.py#1773\" target=\"_blank\"><span style=\"color: #7f7f7f; text-decoration-color: #7f7f7f\">1773</span></a>\n",
       "<span style=\"color: #7fbfbf; text-decoration-color: #7fbfbf\">                    </span>         <span style=\"color: #0000ff; text-decoration-color: #0000ff; text-decoration: underline\">https://api.openai.com/v1/chat/completions</span> <span style=\"color: #008000; text-decoration-color: #008000\">\"HTTP/1.1 200 OK\"</span>           <span style=\"color: #7f7f7f; text-decoration-color: #7f7f7f\">               </span>\n",
       "</pre>\n"
      ]
     },
     "metadata": {},
     "output_type": "display_data"
    }
   ],
   "execution_count": 25
  },
  {
   "metadata": {
    "ExecuteTime": {
     "end_time": "2025-01-30T05:05:53.245603Z",
     "start_time": "2025-01-30T05:05:53.230086Z"
    }
   },
   "cell_type": "code",
   "source": "third_qa.data",
   "id": "7e790e9f1c1dcbd9",
   "outputs": [
    {
     "data": {
      "text/plain": [
       "                                     qid  \\\n",
       "0   6d1ec768-e872-44fe-9080-6a4b8828da09   \n",
       "1   f99ba0f3-b2da-4cdb-98fc-380fbb2f5e17   \n",
       "2   f3afe648-ccdd-414b-9dd7-8c054c031bc3   \n",
       "3   50aa50bd-ef0d-47a8-bd18-0b8c7eddd253   \n",
       "4   d6fd53eb-42ee-4835-83eb-72afac55bf51   \n",
       "5   0bcf8d62-9497-4f5a-a4fa-8626b9b5018b   \n",
       "6   edb95b03-e5aa-4ce7-9307-08505e3c377f   \n",
       "7   9e337798-8cb6-4e56-8ebe-a7196abd3888   \n",
       "8   6a16546d-d5cf-491c-abd7-0df5ff9a5c22   \n",
       "9   a43cac50-414e-4d66-80ce-3c882dfa1bd9   \n",
       "10  ccea0081-f8a5-4902-8817-9b7f13c00519   \n",
       "11  9c92b2f2-a55e-49b9-a01f-252d13a44157   \n",
       "12  a8ac21f5-e17f-4024-ba69-2e0917250594   \n",
       "13  1db0d37d-e280-4275-8ee4-651cb4310df6   \n",
       "14  bb2df721-3ed7-4d3f-8651-b02d71b79c15   \n",
       "\n",
       "                                retrieval_gt  \\\n",
       "0   [[2ea156c5-99b4-4338-9306-d139abe8b44e]]   \n",
       "1   [[a389cfdf-361a-45b7-bf77-91ab137e8392]]   \n",
       "2   [[2bed192d-9591-405c-a39f-025caee6a7e4]]   \n",
       "3   [[3d329be3-89db-4e3b-bb83-6ac1d6eb23e6]]   \n",
       "4   [[96db994a-b5f5-49c4-8fff-e6668148da3f]]   \n",
       "5   [[4662da6c-ae20-4889-8289-0fd53b00cc76]]   \n",
       "6   [[07090a61-45c2-4280-b2fb-b3e4647f0e88]]   \n",
       "7   [[6ebf10d4-1abe-4d0c-b0fb-cc5c0b77eb6d]]   \n",
       "8   [[3d0914ba-78e8-4572-b4bb-fc6695c94130]]   \n",
       "9   [[494d83d0-761c-4e71-ae71-de73106e9bda]]   \n",
       "10  [[b6ec042a-c356-464f-9262-2814db452d28]]   \n",
       "11  [[b1d90b0a-96b1-48d0-beb2-085eb1fbdce5]]   \n",
       "12  [[3cbe35ee-eb83-4a14-8e34-b92001b28350]]   \n",
       "13  [[4398e7fc-2460-40d4-be91-e9af60e17f61]]   \n",
       "14  [[496d5979-5202-4021-98c1-64100fe59a88]]   \n",
       "\n",
       "                                retrieval_gt_contents  \\\n",
       "0   [[5.09 아웃\\r\\n․ 58 ․\\r\\n다 빨리 2루에 도달했고 타자주자는 1루에...   \n",
       "1   [[본 규칙 5.02(c)의 적용을 모면하거나 회피하려고 시도한다면, \\r\\n심판은...   \n",
       "2   [[다음 연도 신인 드래프트에서 동일 라운드 종료 후 추가 보\\r\\n상 지명을 실시...   \n",
       "3   [[출장정지 제재를 받은 자는 제재 종료일까지 KBO 정규시즌, \\r\\n포스트시즌,...   \n",
       "4   [[치수를 잴 때는 계\\r\\n측기나 줄자를 글러브의 앞쪽 또는 공을 잡는 쪽에 접촉...   \n",
       "5   [[쳤다. 땅볼을 받은 \\r\\n1루수는 1루주자를 포스 아웃시키려고 2루에 송구하였...   \n",
       "6   [[고의낙구 하더라도 5.09⒜⑿의 규정에 관계없이 볼 인 플레이며, \\r\\n인필드...   \n",
       "7   [[시상 \\r\\n투수 부문 - 평균자책점상, 승리상\\r\\n타자 부문 - 타율상, 홈...   \n",
       "8   [[설\\r\\n사 관중이 그 플레이를 방해하더라도 수비방해의 이득을 얻을 수는 없\\r...   \n",
       "9   [[플레이 시도 시 슬라이딩\\r\\n주자가 더블 플레이 성립을 방해하기 위한 목적으로...   \n",
       "10  [[용어의 정의 45~51\\r\\n․ 179 ․\\r\\n45. LEAGUE (리그) \\...   \n",
       "11  [[7\\r\\n당해 시즌에 현역선수로 1일 이상 등록한 부상선수에 한해 시즌 \\r\\n...   \n",
       "12  [[․ 2 ․\\r\\n2.00 경 기 장\\r\\n2.01 경기장의 설정\\r\\n경기장은 ...   \n",
       "13  [[2루에\\r\\n서 포스 아웃된 뒤 어필에 의해 정위타자가 아웃을 선고받으\\r\\n면...   \n",
       "14  [[인정하지 않는다. 심판원이 \\r\\n주자가 6.01(j)를 위반했다고 판단한 경우...   \n",
       "\n",
       "                                                query  \\\n",
       "0   포스 플레이가 아닌 태그 플레이에서 주자가 제3아웃 되기 전에 본루에 들어간 주자의...   \n",
       "1              규칙 5.02(c)를 회피하려는 행위에 대해 어떤 벌칙이 부과되나요?   \n",
       "2   어떤 경우에 신인 드래프트 참가 신청서를 제출했지만, 지명된 후 외국 프로구단과 계...   \n",
       "3                   출장정지 제재를 받은 선수는 어떤 경기에 출장할 수 없나요?   \n",
       "4                                   어떻게 치수를 측정해야 하나요?   \n",
       "5   1루수가 1루주자를 포스 아웃시키려다가 투수와 충돌하여 업스트럭션을 선고받았을 때,...   \n",
       "6                 인필드 플라이 동안 수비방해가 선언되면 어떤 상황이 벌어지나요?   \n",
       "7          어떤 기준에 따라 투수와 타자 부문의 시상이 북부와 남부리그로 나누어지나요?   \n",
       "8   선수가 덕아웃 안으로 빠지지 않으려고 안쪽에 있는 선수의 신체에 기대하여 플라이 볼...   \n",
       "9          주자가 더블 플레이 성립을 방해하기 위해 '정당한 슬라이딩'이란 무엇인가요?   \n",
       "10                   어떤 역할을 수행하는 사람이 리그 프레지던트라고 불리나요?   \n",
       "11  부상자 명단에 등재된 선수가 동일한 부상을 사유로 연장을 신청할 때 추가 진단서가 ...   \n",
       "12              경기장 설정 시 1루부터 3루까지의 거리는 어떻게 측정해야 하나요?   \n",
       "13            어필 없이 다음 타자에게 투구한 경우, 부정위타자는 어떻게 처리되나요?   \n",
       "14                       투수가 보크를 저지르는 경우에는 어떻게 처리되나요?   \n",
       "\n",
       "                                        generation_gt  \n",
       "0   [포스 상태가 해제되는 경우는 태그 플레이가 발생할 때입니다., 타자가 주자가 됨에...  \n",
       "1   [규칙 5.02(c)를 모면하거나 회피하려고 시도하는 경우, 수비팀이 해당 규칙을 ...  \n",
       "2   [KBO 신인 드래프트에서 선수가 외국 프로구단과 계약 협상을 진행한 후에도 KBO...  \n",
       "3   [출장정지 제재를 받은 자는 KBO 정규시즌, 포스트시즌, 퓨처스리그 경기에 출장할...  \n",
       "4   [계측기나 줄자를 글러브의 앞쪽 또는 공을 잡는 쪽에 접촉시켜야 합니다., 글러브의...  \n",
       "5   [심판이 투수의 주루방해를 인정하면 \"업스트럭션\"을 선고하고 볼을 데드로 하며, 이...  \n",
       "6   [인필드 플라이 동안 수비방해가 선언되면 타구가 페어 / 파울로 결정될 때까지는 인...  \n",
       "7   [야구 시상에서 투수 부문은 평균자책점상과 승리상이 시상되며, 타자 부문은 타율상,...  \n",
       "8                       [공을 잡으면 정규의 포구가 됩니다., 정규의 포구]  \n",
       "9   [야구에서 주자가 더블 플레이을 방해하기 위한 목적으로 '정당한 슬라이딩'은 베이스...  \n",
       "10  [라인 드라이브(line drive)란 타자가 배트로 가격한 타구가 지면에 닿지 않...  \n",
       "11  [네, 부상자 명단에 등재된 선수가 동일한 부상을 사유로 연장 신청할 경우에는 추가...  \n",
       "12  [1루와 3루 사이의 거리는 127피트 3⅜인치(38.795m)입니다., 127피트...  \n",
       "13                       [1루주자의 포스 아웃은 취소됩니다., 취소된다.]  \n",
       "14  [투수가 보크가 되는 경우는 베이스에 주자가 있을 때, 투수판에 중심발을 대고 있는...  "
      ],
      "text/html": [
       "<div>\n",
       "<style scoped>\n",
       "    .dataframe tbody tr th:only-of-type {\n",
       "        vertical-align: middle;\n",
       "    }\n",
       "\n",
       "    .dataframe tbody tr th {\n",
       "        vertical-align: top;\n",
       "    }\n",
       "\n",
       "    .dataframe thead th {\n",
       "        text-align: right;\n",
       "    }\n",
       "</style>\n",
       "<table border=\"1\" class=\"dataframe\">\n",
       "  <thead>\n",
       "    <tr style=\"text-align: right;\">\n",
       "      <th></th>\n",
       "      <th>qid</th>\n",
       "      <th>retrieval_gt</th>\n",
       "      <th>retrieval_gt_contents</th>\n",
       "      <th>query</th>\n",
       "      <th>generation_gt</th>\n",
       "    </tr>\n",
       "  </thead>\n",
       "  <tbody>\n",
       "    <tr>\n",
       "      <th>0</th>\n",
       "      <td>6d1ec768-e872-44fe-9080-6a4b8828da09</td>\n",
       "      <td>[[2ea156c5-99b4-4338-9306-d139abe8b44e]]</td>\n",
       "      <td>[[5.09 아웃\\r\\n․ 58 ․\\r\\n다 빨리 2루에 도달했고 타자주자는 1루에...</td>\n",
       "      <td>포스 플레이가 아닌 태그 플레이에서 주자가 제3아웃 되기 전에 본루에 들어간 주자의...</td>\n",
       "      <td>[포스 상태가 해제되는 경우는 태그 플레이가 발생할 때입니다., 타자가 주자가 됨에...</td>\n",
       "    </tr>\n",
       "    <tr>\n",
       "      <th>1</th>\n",
       "      <td>f99ba0f3-b2da-4cdb-98fc-380fbb2f5e17</td>\n",
       "      <td>[[a389cfdf-361a-45b7-bf77-91ab137e8392]]</td>\n",
       "      <td>[[본 규칙 5.02(c)의 적용을 모면하거나 회피하려고 시도한다면, \\r\\n심판은...</td>\n",
       "      <td>규칙 5.02(c)를 회피하려는 행위에 대해 어떤 벌칙이 부과되나요?</td>\n",
       "      <td>[규칙 5.02(c)를 모면하거나 회피하려고 시도하는 경우, 수비팀이 해당 규칙을 ...</td>\n",
       "    </tr>\n",
       "    <tr>\n",
       "      <th>2</th>\n",
       "      <td>f3afe648-ccdd-414b-9dd7-8c054c031bc3</td>\n",
       "      <td>[[2bed192d-9591-405c-a39f-025caee6a7e4]]</td>\n",
       "      <td>[[다음 연도 신인 드래프트에서 동일 라운드 종료 후 추가 보\\r\\n상 지명을 실시...</td>\n",
       "      <td>어떤 경우에 신인 드래프트 참가 신청서를 제출했지만, 지명된 후 외국 프로구단과 계...</td>\n",
       "      <td>[KBO 신인 드래프트에서 선수가 외국 프로구단과 계약 협상을 진행한 후에도 KBO...</td>\n",
       "    </tr>\n",
       "    <tr>\n",
       "      <th>3</th>\n",
       "      <td>50aa50bd-ef0d-47a8-bd18-0b8c7eddd253</td>\n",
       "      <td>[[3d329be3-89db-4e3b-bb83-6ac1d6eb23e6]]</td>\n",
       "      <td>[[출장정지 제재를 받은 자는 제재 종료일까지 KBO 정규시즌, \\r\\n포스트시즌,...</td>\n",
       "      <td>출장정지 제재를 받은 선수는 어떤 경기에 출장할 수 없나요?</td>\n",
       "      <td>[출장정지 제재를 받은 자는 KBO 정규시즌, 포스트시즌, 퓨처스리그 경기에 출장할...</td>\n",
       "    </tr>\n",
       "    <tr>\n",
       "      <th>4</th>\n",
       "      <td>d6fd53eb-42ee-4835-83eb-72afac55bf51</td>\n",
       "      <td>[[96db994a-b5f5-49c4-8fff-e6668148da3f]]</td>\n",
       "      <td>[[치수를 잴 때는 계\\r\\n측기나 줄자를 글러브의 앞쪽 또는 공을 잡는 쪽에 접촉...</td>\n",
       "      <td>어떻게 치수를 측정해야 하나요?</td>\n",
       "      <td>[계측기나 줄자를 글러브의 앞쪽 또는 공을 잡는 쪽에 접촉시켜야 합니다., 글러브의...</td>\n",
       "    </tr>\n",
       "    <tr>\n",
       "      <th>5</th>\n",
       "      <td>0bcf8d62-9497-4f5a-a4fa-8626b9b5018b</td>\n",
       "      <td>[[4662da6c-ae20-4889-8289-0fd53b00cc76]]</td>\n",
       "      <td>[[쳤다. 땅볼을 받은 \\r\\n1루수는 1루주자를 포스 아웃시키려고 2루에 송구하였...</td>\n",
       "      <td>1루수가 1루주자를 포스 아웃시키려다가 투수와 충돌하여 업스트럭션을 선고받았을 때,...</td>\n",
       "      <td>[심판이 투수의 주루방해를 인정하면 \"업스트럭션\"을 선고하고 볼을 데드로 하며, 이...</td>\n",
       "    </tr>\n",
       "    <tr>\n",
       "      <th>6</th>\n",
       "      <td>edb95b03-e5aa-4ce7-9307-08505e3c377f</td>\n",
       "      <td>[[07090a61-45c2-4280-b2fb-b3e4647f0e88]]</td>\n",
       "      <td>[[고의낙구 하더라도 5.09⒜⑿의 규정에 관계없이 볼 인 플레이며, \\r\\n인필드...</td>\n",
       "      <td>인필드 플라이 동안 수비방해가 선언되면 어떤 상황이 벌어지나요?</td>\n",
       "      <td>[인필드 플라이 동안 수비방해가 선언되면 타구가 페어 / 파울로 결정될 때까지는 인...</td>\n",
       "    </tr>\n",
       "    <tr>\n",
       "      <th>7</th>\n",
       "      <td>9e337798-8cb6-4e56-8ebe-a7196abd3888</td>\n",
       "      <td>[[6ebf10d4-1abe-4d0c-b0fb-cc5c0b77eb6d]]</td>\n",
       "      <td>[[시상 \\r\\n투수 부문 - 평균자책점상, 승리상\\r\\n타자 부문 - 타율상, 홈...</td>\n",
       "      <td>어떤 기준에 따라 투수와 타자 부문의 시상이 북부와 남부리그로 나누어지나요?</td>\n",
       "      <td>[야구 시상에서 투수 부문은 평균자책점상과 승리상이 시상되며, 타자 부문은 타율상,...</td>\n",
       "    </tr>\n",
       "    <tr>\n",
       "      <th>8</th>\n",
       "      <td>6a16546d-d5cf-491c-abd7-0df5ff9a5c22</td>\n",
       "      <td>[[3d0914ba-78e8-4572-b4bb-fc6695c94130]]</td>\n",
       "      <td>[[설\\r\\n사 관중이 그 플레이를 방해하더라도 수비방해의 이득을 얻을 수는 없\\r...</td>\n",
       "      <td>선수가 덕아웃 안으로 빠지지 않으려고 안쪽에 있는 선수의 신체에 기대하여 플라이 볼...</td>\n",
       "      <td>[공을 잡으면 정규의 포구가 됩니다., 정규의 포구]</td>\n",
       "    </tr>\n",
       "    <tr>\n",
       "      <th>9</th>\n",
       "      <td>a43cac50-414e-4d66-80ce-3c882dfa1bd9</td>\n",
       "      <td>[[494d83d0-761c-4e71-ae71-de73106e9bda]]</td>\n",
       "      <td>[[플레이 시도 시 슬라이딩\\r\\n주자가 더블 플레이 성립을 방해하기 위한 목적으로...</td>\n",
       "      <td>주자가 더블 플레이 성립을 방해하기 위해 '정당한 슬라이딩'이란 무엇인가요?</td>\n",
       "      <td>[야구에서 주자가 더블 플레이을 방해하기 위한 목적으로 '정당한 슬라이딩'은 베이스...</td>\n",
       "    </tr>\n",
       "    <tr>\n",
       "      <th>10</th>\n",
       "      <td>ccea0081-f8a5-4902-8817-9b7f13c00519</td>\n",
       "      <td>[[b6ec042a-c356-464f-9262-2814db452d28]]</td>\n",
       "      <td>[[용어의 정의 45~51\\r\\n․ 179 ․\\r\\n45. LEAGUE (리그) \\...</td>\n",
       "      <td>어떤 역할을 수행하는 사람이 리그 프레지던트라고 불리나요?</td>\n",
       "      <td>[라인 드라이브(line drive)란 타자가 배트로 가격한 타구가 지면에 닿지 않...</td>\n",
       "    </tr>\n",
       "    <tr>\n",
       "      <th>11</th>\n",
       "      <td>9c92b2f2-a55e-49b9-a01f-252d13a44157</td>\n",
       "      <td>[[b1d90b0a-96b1-48d0-beb2-085eb1fbdce5]]</td>\n",
       "      <td>[[7\\r\\n당해 시즌에 현역선수로 1일 이상 등록한 부상선수에 한해 시즌 \\r\\n...</td>\n",
       "      <td>부상자 명단에 등재된 선수가 동일한 부상을 사유로 연장을 신청할 때 추가 진단서가 ...</td>\n",
       "      <td>[네, 부상자 명단에 등재된 선수가 동일한 부상을 사유로 연장 신청할 경우에는 추가...</td>\n",
       "    </tr>\n",
       "    <tr>\n",
       "      <th>12</th>\n",
       "      <td>a8ac21f5-e17f-4024-ba69-2e0917250594</td>\n",
       "      <td>[[3cbe35ee-eb83-4a14-8e34-b92001b28350]]</td>\n",
       "      <td>[[․ 2 ․\\r\\n2.00 경 기 장\\r\\n2.01 경기장의 설정\\r\\n경기장은 ...</td>\n",
       "      <td>경기장 설정 시 1루부터 3루까지의 거리는 어떻게 측정해야 하나요?</td>\n",
       "      <td>[1루와 3루 사이의 거리는 127피트 3⅜인치(38.795m)입니다., 127피트...</td>\n",
       "    </tr>\n",
       "    <tr>\n",
       "      <th>13</th>\n",
       "      <td>1db0d37d-e280-4275-8ee4-651cb4310df6</td>\n",
       "      <td>[[4398e7fc-2460-40d4-be91-e9af60e17f61]]</td>\n",
       "      <td>[[2루에\\r\\n서 포스 아웃된 뒤 어필에 의해 정위타자가 아웃을 선고받으\\r\\n면...</td>\n",
       "      <td>어필 없이 다음 타자에게 투구한 경우, 부정위타자는 어떻게 처리되나요?</td>\n",
       "      <td>[1루주자의 포스 아웃은 취소됩니다., 취소된다.]</td>\n",
       "    </tr>\n",
       "    <tr>\n",
       "      <th>14</th>\n",
       "      <td>bb2df721-3ed7-4d3f-8651-b02d71b79c15</td>\n",
       "      <td>[[496d5979-5202-4021-98c1-64100fe59a88]]</td>\n",
       "      <td>[[인정하지 않는다. 심판원이 \\r\\n주자가 6.01(j)를 위반했다고 판단한 경우...</td>\n",
       "      <td>투수가 보크를 저지르는 경우에는 어떻게 처리되나요?</td>\n",
       "      <td>[투수가 보크가 되는 경우는 베이스에 주자가 있을 때, 투수판에 중심발을 대고 있는...</td>\n",
       "    </tr>\n",
       "  </tbody>\n",
       "</table>\n",
       "</div>"
      ]
     },
     "execution_count": 26,
     "metadata": {},
     "output_type": "execute_result"
    }
   ],
   "execution_count": 26
  },
  {
   "metadata": {},
   "cell_type": "markdown",
   "source": [
    "프롬프트 말을 제대로 듣지 않습니다..\n",
    "\n",
    "보통 이런 경우에는 조금 더 좋은 모델을 사용하거나 사람이 직접 질문을 편집해주어야 합니다.\n",
    "\n",
    "이번 실습에서는 거기까지는 다루지는 않겠습니다.\n",
    "\n",
    "실습의 편의(=가격)를 위해 gpt-3.5-turbo를 사용하였으나 실제 질문 생성에는 더 좋은 LLM 모델을 사용하시길 바랍니다!\n",
    "\n",
    "강의 촬영일 기준(25.02.06)으로 Deepseek가 굉장히 핫한데, 한국어로 잘 튜닝된 모델을 사용한다면 상당히 저렴하게 좋은 질문 생성을 할 수 있을 것으로 기대됩니다!!\n",
    "\n",
    "Deepseek를 이용한 실습도 빠르게 준비해봐야겠습니다!\n",
    "llm만 바꿔주면 되기 때문에, 굉장히 쉽게 사용하실 수 있습니다."
   ],
   "id": "656e060aeffdd4e2"
  },
  {
   "metadata": {},
   "cell_type": "markdown",
   "source": [
    "#### 결과 저장\n",
    "결과물은 굉장히 밉지만... 그래도 열심히 돈 들여 만들었으니 일단 저장해둡니다"
   ],
   "id": "4ab9a0f3b1f6385f"
  },
  {
   "metadata": {
    "ExecuteTime": {
     "end_time": "2025-01-30T05:10:44.221747Z",
     "start_time": "2025-01-30T05:10:44.216972Z"
    }
   },
   "cell_type": "code",
   "source": [
    "human_qa_path = os.path.join(root_dir, 'autorag_project', 'final', 'qa', 'human_qa.parquet')\n",
    "third_qa.data.to_parquet(human_qa_path)"
   ],
   "id": "aa8af0af205e65e5",
   "outputs": [],
   "execution_count": 27
  },
  {
   "metadata": {},
   "cell_type": "markdown",
   "source": [
    "# 3. 이미 FaQ가 있는 경우\n",
    "3개의 FaQ를 이용해서 만들어보겠습니다 !\n",
    "\n",
    "qid, query, generation_gt, retrieval_gt를 만들어서 넣어줘야 합니다\n",
    "\n",
    "FaQ가 있으니, query와 generation_gt는 이미 있습니다.\n",
    "qid와 retrieval_gt는 직접 만들어주셔야 합니다."
   ],
   "id": "4386a6b9c80d152"
  },
  {
   "metadata": {
    "ExecuteTime": {
     "end_time": "2025-01-30T05:25:52.726156Z",
     "start_time": "2025-01-30T05:25:52.722608Z"
    }
   },
   "cell_type": "code",
   "source": [
    "question = [\n",
    "    \"구단이 보유할 수 있는 선수는 최대 몇 명 인가요?\", # 리그 규약 38페이지 24조\n",
    "    \"송구가 심판 맞고 굴절되면 어떻게 되나요? 아웃인가요?\", # 야구 규칙 88페이지 ⒡ 감독과 심판원의 방해\n",
    "    \"포스트시즌 경기 입장료는 구단마다 다르던데, 구단 재량인가요?\",    # 리그 규정 39페이지 제48조 입장요금(KBO 포스트시즌 경기)\n",
    "]"
   ],
   "id": "e5c996ae365d0628",
   "outputs": [],
   "execution_count": 62
  },
  {
   "metadata": {
    "ExecuteTime": {
     "end_time": "2025-01-30T05:25:53.204623Z",
     "start_time": "2025-01-30T05:25:53.202326Z"
    }
   },
   "cell_type": "code",
   "source": [
    "answer = [\n",
    "    \"한 구단이 보유할 수 있는 선수의 정원은 보류선수를 포함하여 최대 65명으로 하며 보류선수는 소속선수에 포함된다.\",\n",
    "    \"송구가 우연히 베이스 코치에게 닿거나, 투구 또는 송구가 심판원에게 닿았더라도 볼 인 플레이다. 그러나 베이스 코치가 고의로 송구를 방해하였을 경우 주자는 아웃된다.\",\n",
    "    \"구단 재량이다. KBO 포스트시즌 경기의 입장요금은 별도로 정한다.\",\n",
    "]"
   ],
   "id": "1f44428fa18a250b",
   "outputs": [],
   "execution_count": 63
  },
  {
   "metadata": {
    "ExecuteTime": {
     "end_time": "2025-01-30T05:25:54.843494Z",
     "start_time": "2025-01-30T05:25:54.839695Z"
    }
   },
   "cell_type": "code",
   "source": [
    "from uuid import uuid4\n",
    "\n",
    "qid = [str(uuid4()) for _ in range(len(question))]"
   ],
   "id": "65eff428e050c18d",
   "outputs": [],
   "execution_count": 64
  },
  {
   "metadata": {
    "ExecuteTime": {
     "end_time": "2025-01-30T05:25:55.180599Z",
     "start_time": "2025-01-30T05:25:55.177439Z"
    }
   },
   "cell_type": "code",
   "source": "generation_gt = [[a] for a in answer]",
   "id": "76e4cba11cedbb7c",
   "outputs": [],
   "execution_count": 65
  },
  {
   "metadata": {
    "ExecuteTime": {
     "end_time": "2025-01-30T05:25:55.845921Z",
     "start_time": "2025-01-30T05:25:55.842354Z"
    }
   },
   "cell_type": "code",
   "source": "generation_gt",
   "id": "2d496cc933d10869",
   "outputs": [
    {
     "data": {
      "text/plain": [
       "[['한 구단이 보유할 수 있는 선수의 정원은 보류선수를 포함하여 최대 65명으로 하며 보류선수는 소속선수에 포함된다.'],\n",
       " ['송구가 우연히 베이스 코치에게 닿거나, 투구 또는 송구가 심판원에게 닿았더라도 볼 인 플레이다. 그러나 베이스 코치가 고의로 송구를 방해하였을 경우 주자는 아웃된다.'],\n",
       " ['구단 재량이다. KBO 포스트시즌 경기의 입장요금은 별도로 정한다.']]"
      ]
     },
     "execution_count": 66,
     "metadata": {},
     "output_type": "execute_result"
    }
   ],
   "execution_count": 66
  },
  {
   "metadata": {},
   "cell_type": "markdown",
   "source": [
    "이제 retrieval_gt 만 남았습니다\n",
    "\n",
    "retrieval_gt를 직접 만드는 방법에는 크게 3가지가 있습니다.\n",
    "\n",
    "1. 직접 찾기\n",
    "2. 검색 시스템을 만들어 조금 쉽게 찾아보기\n",
    "\n",
    "저희는 2번 방법을 사용해 만들어보겠습니다!"
   ],
   "id": "3e845158dfa5f9aa"
  },
  {
   "metadata": {},
   "cell_type": "markdown",
   "source": "### BM25를 이용해 retrieval_gt 매핑 검색 시스템 만들기",
   "id": "f0b777697068788d"
  },
  {
   "metadata": {
    "ExecuteTime": {
     "end_time": "2025-01-30T05:22:58.319749Z",
     "start_time": "2025-01-30T05:22:58.304718Z"
    }
   },
   "cell_type": "code",
   "source": [
    "corpus_dir = os.path.join(root_dir, 'autorag_project', 'final', 'chunk', '0.parquet')\n",
    "corpus = pd.read_parquet(corpus_dir)\n",
    "corpus"
   ],
   "id": "aac909a38166ab3b",
   "outputs": [
    {
     "data": {
      "text/plain": [
       "                                   doc_id  \\\n",
       "0    c7036095-887a-4082-885e-14209c68cb0f   \n",
       "1    fc96bdca-c580-4f27-ab43-dfbcdbda99fb   \n",
       "2    18e02344-dc14-4924-b38c-9573bd437fcb   \n",
       "3    fd7ba604-3428-4b9b-8dea-8565b394cb34   \n",
       "4    ef1e83f5-7a4d-419b-b469-f4c4eb53b101   \n",
       "..                                    ...   \n",
       "856  bb36c5db-a016-404f-ad42-2e2c1eab11e4   \n",
       "857  167952f2-5c16-461c-b139-f7b7d8cf9f40   \n",
       "858  621dcf2e-3fdd-4b8e-8514-b94353524da3   \n",
       "859  006c3812-75b3-4d24-a703-fa261cd59417   \n",
       "860  e6e6332e-a897-4c8a-973c-a0be0753bdfd   \n",
       "\n",
       "                                              contents  \\\n",
       "0    <h1 id='0' style='font-size:18px'>2024년 KBO 규약...   \n",
       "1    고용할 수 있음</td></tr><tr><td>제44조 [선수계약의 승인]</td>...   \n",
       "2    <h1 id='0' style='font-size:20px'>제4장 연 고 권</h...   \n",
       "3    히어로즈</td><td>서울특별시</td></tr><tr><td>NC 다이노스</t...   \n",
       "4    <table id='0' style='font-size:14px'><tr><td>구...   \n",
       "..                                                 ...   \n",
       "856  그림 8. 정식경기 \\r\\n<예1>\\r\\n이닝 1 2 3 4 5 6 7 8 9 \\r...   \n",
       "857         갑 1 0 0 1 0 0 1 |3\\r\\n을 0 0 1 0 0 0 0+∝ |1   \n",
       "858  그림 9. 정식경기\\r\\n<예8>\\r\\n이닝 1 2 3 4 5 6 7 8 9 \\r\\...   \n",
       "859  3-2 승 \\r\\n<예14>\\r\\n이닝 1 2 3 4 5 6 7 8 9 \\r\\n갑 ...   \n",
       "860  그림 10. 투구자세 \\r\\n(본문 5.07(a) 참조) \\r\\n와인드업 포지션(오...   \n",
       "\n",
       "                                                  path start_end_idx  \\\n",
       "0    /Users/kimbwook/PycharmProjects/fast-campus/no...      [0, 575]   \n",
       "1    /Users/kimbwook/PycharmProjects/fast-campus/no...   [546, 1071]   \n",
       "2    /Users/kimbwook/PycharmProjects/fast-campus/no...      [0, 619]   \n",
       "3    /Users/kimbwook/PycharmProjects/fast-campus/no...   [621, 1277]   \n",
       "4    /Users/kimbwook/PycharmProjects/fast-campus/no...      [0, 516]   \n",
       "..                                                 ...           ...   \n",
       "856  /Users/kimbwook/PycharmProjects/fast-campus/no...      [0, 438]   \n",
       "857  /Users/kimbwook/PycharmProjects/fast-campus/no...    [416, 455]   \n",
       "858  /Users/kimbwook/PycharmProjects/fast-campus/no...      [0, 447]   \n",
       "859  /Users/kimbwook/PycharmProjects/fast-campus/no...    [429, 526]   \n",
       "860  /Users/kimbwook/PycharmProjects/fast-campus/no...       [0, 64]   \n",
       "\n",
       "                                              metadata  \n",
       "0    {'last_modified_datetime': '2025-01-27', 'next...  \n",
       "1    {'last_modified_datetime': '2025-01-27', 'next...  \n",
       "2    {'last_modified_datetime': '2025-01-27', 'next...  \n",
       "3    {'last_modified_datetime': '2025-01-27', 'next...  \n",
       "4    {'last_modified_datetime': '2025-01-27', 'next...  \n",
       "..                                                 ...  \n",
       "856  {'last_modified_datetime': '2025-01-27', 'next...  \n",
       "857  {'last_modified_datetime': '2025-01-27', 'next...  \n",
       "858  {'last_modified_datetime': '2025-01-27', 'next...  \n",
       "859  {'last_modified_datetime': '2025-01-27', 'next...  \n",
       "860  {'last_modified_datetime': '2025-01-27', 'next...  \n",
       "\n",
       "[861 rows x 5 columns]"
      ],
      "text/html": [
       "<div>\n",
       "<style scoped>\n",
       "    .dataframe tbody tr th:only-of-type {\n",
       "        vertical-align: middle;\n",
       "    }\n",
       "\n",
       "    .dataframe tbody tr th {\n",
       "        vertical-align: top;\n",
       "    }\n",
       "\n",
       "    .dataframe thead th {\n",
       "        text-align: right;\n",
       "    }\n",
       "</style>\n",
       "<table border=\"1\" class=\"dataframe\">\n",
       "  <thead>\n",
       "    <tr style=\"text-align: right;\">\n",
       "      <th></th>\n",
       "      <th>doc_id</th>\n",
       "      <th>contents</th>\n",
       "      <th>path</th>\n",
       "      <th>start_end_idx</th>\n",
       "      <th>metadata</th>\n",
       "    </tr>\n",
       "  </thead>\n",
       "  <tbody>\n",
       "    <tr>\n",
       "      <th>0</th>\n",
       "      <td>c7036095-887a-4082-885e-14209c68cb0f</td>\n",
       "      <td>&lt;h1 id='0' style='font-size:18px'&gt;2024년 KBO 규약...</td>\n",
       "      <td>/Users/kimbwook/PycharmProjects/fast-campus/no...</td>\n",
       "      <td>[0, 575]</td>\n",
       "      <td>{'last_modified_datetime': '2025-01-27', 'next...</td>\n",
       "    </tr>\n",
       "    <tr>\n",
       "      <th>1</th>\n",
       "      <td>fc96bdca-c580-4f27-ab43-dfbcdbda99fb</td>\n",
       "      <td>고용할 수 있음&lt;/td&gt;&lt;/tr&gt;&lt;tr&gt;&lt;td&gt;제44조 [선수계약의 승인]&lt;/td&gt;...</td>\n",
       "      <td>/Users/kimbwook/PycharmProjects/fast-campus/no...</td>\n",
       "      <td>[546, 1071]</td>\n",
       "      <td>{'last_modified_datetime': '2025-01-27', 'next...</td>\n",
       "    </tr>\n",
       "    <tr>\n",
       "      <th>2</th>\n",
       "      <td>18e02344-dc14-4924-b38c-9573bd437fcb</td>\n",
       "      <td>&lt;h1 id='0' style='font-size:20px'&gt;제4장 연 고 권&lt;/h...</td>\n",
       "      <td>/Users/kimbwook/PycharmProjects/fast-campus/no...</td>\n",
       "      <td>[0, 619]</td>\n",
       "      <td>{'last_modified_datetime': '2025-01-27', 'next...</td>\n",
       "    </tr>\n",
       "    <tr>\n",
       "      <th>3</th>\n",
       "      <td>fd7ba604-3428-4b9b-8dea-8565b394cb34</td>\n",
       "      <td>히어로즈&lt;/td&gt;&lt;td&gt;서울특별시&lt;/td&gt;&lt;/tr&gt;&lt;tr&gt;&lt;td&gt;NC 다이노스&lt;/t...</td>\n",
       "      <td>/Users/kimbwook/PycharmProjects/fast-campus/no...</td>\n",
       "      <td>[621, 1277]</td>\n",
       "      <td>{'last_modified_datetime': '2025-01-27', 'next...</td>\n",
       "    </tr>\n",
       "    <tr>\n",
       "      <th>4</th>\n",
       "      <td>ef1e83f5-7a4d-419b-b469-f4c4eb53b101</td>\n",
       "      <td>&lt;table id='0' style='font-size:14px'&gt;&lt;tr&gt;&lt;td&gt;구...</td>\n",
       "      <td>/Users/kimbwook/PycharmProjects/fast-campus/no...</td>\n",
       "      <td>[0, 516]</td>\n",
       "      <td>{'last_modified_datetime': '2025-01-27', 'next...</td>\n",
       "    </tr>\n",
       "    <tr>\n",
       "      <th>...</th>\n",
       "      <td>...</td>\n",
       "      <td>...</td>\n",
       "      <td>...</td>\n",
       "      <td>...</td>\n",
       "      <td>...</td>\n",
       "    </tr>\n",
       "    <tr>\n",
       "      <th>856</th>\n",
       "      <td>bb36c5db-a016-404f-ad42-2e2c1eab11e4</td>\n",
       "      <td>그림 8. 정식경기 \\r\\n&lt;예1&gt;\\r\\n이닝 1 2 3 4 5 6 7 8 9 \\r...</td>\n",
       "      <td>/Users/kimbwook/PycharmProjects/fast-campus/no...</td>\n",
       "      <td>[0, 438]</td>\n",
       "      <td>{'last_modified_datetime': '2025-01-27', 'next...</td>\n",
       "    </tr>\n",
       "    <tr>\n",
       "      <th>857</th>\n",
       "      <td>167952f2-5c16-461c-b139-f7b7d8cf9f40</td>\n",
       "      <td>갑 1 0 0 1 0 0 1 |3\\r\\n을 0 0 1 0 0 0 0+∝ |1</td>\n",
       "      <td>/Users/kimbwook/PycharmProjects/fast-campus/no...</td>\n",
       "      <td>[416, 455]</td>\n",
       "      <td>{'last_modified_datetime': '2025-01-27', 'next...</td>\n",
       "    </tr>\n",
       "    <tr>\n",
       "      <th>858</th>\n",
       "      <td>621dcf2e-3fdd-4b8e-8514-b94353524da3</td>\n",
       "      <td>그림 9. 정식경기\\r\\n&lt;예8&gt;\\r\\n이닝 1 2 3 4 5 6 7 8 9 \\r\\...</td>\n",
       "      <td>/Users/kimbwook/PycharmProjects/fast-campus/no...</td>\n",
       "      <td>[0, 447]</td>\n",
       "      <td>{'last_modified_datetime': '2025-01-27', 'next...</td>\n",
       "    </tr>\n",
       "    <tr>\n",
       "      <th>859</th>\n",
       "      <td>006c3812-75b3-4d24-a703-fa261cd59417</td>\n",
       "      <td>3-2 승 \\r\\n&lt;예14&gt;\\r\\n이닝 1 2 3 4 5 6 7 8 9 \\r\\n갑 ...</td>\n",
       "      <td>/Users/kimbwook/PycharmProjects/fast-campus/no...</td>\n",
       "      <td>[429, 526]</td>\n",
       "      <td>{'last_modified_datetime': '2025-01-27', 'next...</td>\n",
       "    </tr>\n",
       "    <tr>\n",
       "      <th>860</th>\n",
       "      <td>e6e6332e-a897-4c8a-973c-a0be0753bdfd</td>\n",
       "      <td>그림 10. 투구자세 \\r\\n(본문 5.07(a) 참조) \\r\\n와인드업 포지션(오...</td>\n",
       "      <td>/Users/kimbwook/PycharmProjects/fast-campus/no...</td>\n",
       "      <td>[0, 64]</td>\n",
       "      <td>{'last_modified_datetime': '2025-01-27', 'next...</td>\n",
       "    </tr>\n",
       "  </tbody>\n",
       "</table>\n",
       "<p>861 rows × 5 columns</p>\n",
       "</div>"
      ]
     },
     "execution_count": 53,
     "metadata": {},
     "output_type": "execute_result"
    }
   ],
   "execution_count": 53
  },
  {
   "metadata": {
    "ExecuteTime": {
     "end_time": "2025-01-30T05:22:58.722915Z",
     "start_time": "2025-01-30T05:22:58.719185Z"
    }
   },
   "cell_type": "code",
   "source": [
    "sample_texts = corpus['contents'].tolist()\n",
    "doc_ids = corpus['doc_id'].tolist()"
   ],
   "id": "ed0b417d64507399",
   "outputs": [],
   "execution_count": 54
  },
  {
   "metadata": {
    "ExecuteTime": {
     "end_time": "2025-01-30T05:22:59.072537Z",
     "start_time": "2025-01-30T05:22:59.067522Z"
    }
   },
   "cell_type": "code",
   "source": [
    "from langchain_core.documents import Document\n",
    "\n",
    "docs = [Document(page_content=sample_text, metadata={\"doc_id\": id}) for sample_text, id in zip(sample_texts, doc_ids)]"
   ],
   "id": "5dea5f8f9d8e5a8b",
   "outputs": [],
   "execution_count": 55
  },
  {
   "metadata": {
    "ExecuteTime": {
     "end_time": "2025-01-30T05:23:05.363953Z",
     "start_time": "2025-01-30T05:22:59.546828Z"
    }
   },
   "cell_type": "code",
   "source": [
    "# 테디노트님의 라이브러리 활용\n",
    "# https://wikidocs.net/251980\n",
    "from langchain_teddynote.retrievers import KiwiBM25Retriever\n",
    "\n",
    "kiwi = KiwiBM25Retriever.from_documents(docs)"
   ],
   "id": "ebd4b3b1c114a6f1",
   "outputs": [],
   "execution_count": 56
  },
  {
   "metadata": {
    "ExecuteTime": {
     "end_time": "2025-01-30T05:23:05.371518Z",
     "start_time": "2025-01-30T05:23:05.368849Z"
    }
   },
   "cell_type": "code",
   "source": [
    "def pretty_print(docs):\n",
    "    for doc in docs:\n",
    "        print(f\"id: {doc.metadata['doc_id']}\\n\")\n",
    "        print(f\"content: {doc.page_content}\\n\\n\")"
   ],
   "id": "1d4ff7d884061dcf",
   "outputs": [],
   "execution_count": 57
  },
  {
   "metadata": {
    "ExecuteTime": {
     "end_time": "2025-01-30T05:23:05.394913Z",
     "start_time": "2025-01-30T05:23:05.380860Z"
    }
   },
   "cell_type": "code",
   "source": "pretty_print(kiwi.invoke(answer[0]))",
   "id": "c0c960eb618a6df7",
   "outputs": [
    {
     "name": "stdout",
     "output_type": "stream",
     "text": [
      "id: 04a6a16a-728d-4e33-9a15-9d751e74f8aa\n",
      "\n",
      "content: 38\r\n",
      "및 경기력을 발휘함에 지장이 없는 범위에서만 허용되며, 이를 위\r\n",
      "하여 구단의 사전 승인을 얻어야 한다.\r\n",
      "[2021.10.26 개정]\r\n",
      "제24조 [선수정원] ① 한 구단이 보유할 수 있는 선수의 정원은 \r\n",
      "보류선수를 포함하여 최대 65명으로 하며 보류선수는 소속선수에 \r\n",
      "포함된다.\r\n",
      " ② 군에 입대한 선수는 제1항의 선수정원에 산입하지 아니하며 군\r\n",
      "보류선수의 기간은 군입대일로부터 전역일까지로 한다.\r\n",
      "[1996.12.28 ➜ 2004.12.7 ➜ 2012.1.10 개정]\r\n",
      "※ 제44조 [선수계약의 승인]\r\n",
      "제25조 [현역선수] ① 선수가 KBO 정규시즌에 출장하기 위하여는 \r\n",
      "KBO에 현역선수로 등록하여야 한다. \r\n",
      "② 총재는 선수가 제1항에 따라 현역선수로 등록하는 경우 이를 \r\n",
      "공시하여야 한다. \r\n",
      "제26조 [등록의 시기] ① KBO 정규시즌의 개막 경기부터 출장하\r\n",
      "고자 하는 선수는 KBO 정규시즌 개막 예정일의 1일 전 15:00까지 \r\n",
      "현역선수 등록을\n",
      "\n",
      "\n",
      "id: 7da77755-5e6c-4ab5-94f5-bcf8640c5dcb\n",
      "\n",
      "content: 명단\r\n",
      "을 공시한다.\r\n",
      "[1996.12.26 ➜ 2012.1.10 ➜ 2014.1.14 개정]\r\n",
      "제57조 [보류선수의 정원] 보류선수는 각 구단당 최대 63명을 초\r\n",
      "과할 수 없다. 다만, 군보류선수, 육성보류선수는 보류선수의 정원\r\n",
      "에 포함되지 아니한다.\r\n",
      "제58조 [보류의 효력] ① 보류선수는 제59조의 보류기간 동안 보\r\n",
      "류권을 갖는 구단 이외의 다른 구단을 위하여 경기, 훈련 등 야구 \r\n",
      "활동을 하거나 다른 구단과 선수계약 체결을 위한 교섭을 할 수 \r\n",
      "없다.\r\n",
      "② 제1항에도 불구하고 보류선수는 보류권을 갖는 구단의 승인을 \r\n",
      "얻어 다른 구단의 합동훈련에 참가할 수 있다. 이 경우 훈련 참가\n",
      "\n",
      "\n",
      "id: f674a9ce-216c-452d-a835-77542016bbf3\n",
      "\n",
      "content: 96\r\n",
      "공시해야 한다. \r\n",
      "⑥ KBO는 2차 드래프트 다음 날 지명 결과를 공시한다. \r\n",
      "[2023.7.12 신설]\r\n",
      "제178조 [2차 드래프트 제외선수] 다음 각 호의 어느 하나에 해당\r\n",
      "하는 선수는 2차 드래프트의 지명 대상에서 자동으로 제외된다. \r\n",
      "1. 입단 1~3년차 소속선수, 육성선수, 군보류선수, 육성군보류선수 \r\n",
      "2. 당해 연도 FA(해외복귀 FA 포함), 외국인선수 \r\n",
      "3. 35인 보호선수 명단에 포함되었으나 2차 드래프트 실시 전 FA\r\n",
      "계약(해외복귀 FA계약 포함) 보상선수로 이적한 선수\r\n",
      "[2023.7.12 신설]\r\n",
      "제179조 [2차 드래프트 지명] ① 지명하는 구단의 순서는 해당 연\r\n",
      "도 KBO 리그 성적의 역순으로 한다. \r\n",
      "② 지명은 제1항의 방식으로 3라운드까지 실시하되, 해당 연도 성\r\n",
      "적 하위 3개 구단은 최대 2명의 추가 지명권이 부여된다. \r\n",
      "③ 구단은 어느 한 구단의 선수에 대해 4명을 초과하여 지명할 수 \r\n",
      "없다.\n",
      "\n",
      "\n",
      "id: e0d35c12-ec35-4b0e-831f-e8e2cf54d562\n",
      "\n",
      "content: 변경된다. 이 경우 총\r\n",
      "재는 당해 선수 또는 구단의 신청에 따라 당해 선수를 자유계약선\r\n",
      "수로 공시하여야 한다. \r\n",
      "[2001.10.31 ➜ 2002.12.10 ➜ 2021.10.26 개정]\r\n",
      "제61조 [보류되지 않은 선수] ① 제56조 제1항 소정의 보류선수 \r\n",
      "명단에 포함되지 않은 선수에 대한 선수계약은 당해 연도 11월 30\r\n",
      "일에 이의의 유보 없이 해지되어 자유계약선수가 된 것으로 본다. \r\n",
      "② 구단은 제1항의 보류선수 명단에 포함되지 않은 선수를 보류선\r\n",
      "수 명단 공시일로부터 1년간 소속선수 및 육성선수로 등록할 수 \r\n",
      "없으며, 원 소속구단 외 타구단이 당해 선수와 선수계약을 체결한 \r\n",
      "경우 계약을 체결한 구단은 1월 31일까지 소속선수로 등록하여야 \r\n",
      "한다.\r\n",
      "③ 구단은 군보류선수에 대한 보류권을 포기하는 경우 해당 선수\n",
      "\n",
      "\n"
     ]
    }
   ],
   "execution_count": 58
  },
  {
   "metadata": {},
   "cell_type": "markdown",
   "source": "첫 번째 gt : 04a6a16a-728d-4e33-9a15-9d751e74f8aa",
   "id": "4319ff47c889f264"
  },
  {
   "metadata": {
    "ExecuteTime": {
     "end_time": "2025-01-30T05:24:06.955276Z",
     "start_time": "2025-01-30T05:24:06.941735Z"
    }
   },
   "cell_type": "code",
   "source": "pretty_print(kiwi.invoke(answer[1]))",
   "id": "f08bfc604762fad5",
   "outputs": [
    {
     "name": "stdout",
     "output_type": "stream",
     "text": [
      "id: 243d2bb6-81e2-45ba-aca3-483f698ad791\n",
      "\n",
      "content: 6.01 방해, 업스트럭션\r\n",
      "․ 88 ․\r\n",
      "⒡ 감독과 심판원의 방해\r\n",
      "송구가 우연히 베이스 코치에게 닿거나, 투구 또는 송구가 심판원\r\n",
      "에게 닿았더라도 볼 인 플레이다. 그러나 베이스 코치가 고의로 송\r\n",
      "구를 방해하였을 경우 주자는 아웃된다. \r\n",
      "[원주] 심판원의 방해 ① 도루를 저지하려는 포수의 송구동작을 주심이 \r\n",
      "방해하였을 경우 ② 타구가 야수(투수 제외)를 통과하기 전에 페\r\n",
      "어지역에서 심판원에게 닿았을 경우\r\n",
      "⒢ 스퀴즈 플레이 또는 도루를 통한 방해\r\n",
      "3루주자가 스퀴즈 플레이 또는 도루를 통해 득점하려고 할 때 포수\r\n",
      "나 다른 야수가 공을 갖지 않은 채 본루 위 또는 그 앞으로 나오거\r\n",
      "나 타자나 타자의 배트를 건드렸을 경우 투수에게 보크를 선고하고 \r\n",
      "타자는 인터피어(타격방해)에 의해 1루가 주어진다. 이때는 볼 데\r\n",
      "드가 된다.\n",
      "\n",
      "\n",
      "id: 76df8127-887c-40c8-aa6e-4e53d379c2a9\n",
      "\n",
      "content: 5.09 아웃\r\n",
      "․ 52 ․\r\n",
      "[원주] 배트의 부러진 일부분이 페어지역에서 타구에 맞았거나 주자 또\r\n",
      "는 야수에게 맞았을 때는 플레이는 그대로 계속되고 방해는 선\r\n",
      "언되지 않는다. 타구가 파울지역에서 배트의 부러진 부분에 맞\r\n",
      "았을 때는 파울 볼이다. 배트 전체가 페어지역으로 날아가 플레\r\n",
      "이를 하려는 야수(타구 처리는 물론 송구도 포함)를 방해하였을 \r\n",
      "때는 고의 여부에 관계없이 방해가 선언된다. 타격용 안전모(헬\r\n",
      "멧)에 우연히 타구 또는 송구가 맞았을 때는 볼 인 플레이 상태\r\n",
      "가 계속된다. 타구가 파울지역에서 타격용 안전모 및 땅이 아닌 \r\n",
      "이물질에 닿았을 때는 파울 볼이며, 볼 데드가 된다. 주자가 안\r\n",
      "전모를 떨어뜨리거나 공에 던져 타구 또는 송구를 방해하려는 \r\n",
      "뜻이 명백하다고 심판원이 판단하였을 경우 그 주자는 아웃이 \r\n",
      "되고, 볼 데드가 되어\n",
      "\n",
      "\n",
      "id: 66e029ea-8a44-49d3-b0a6-ad5a89a00002\n",
      "\n",
      "content: 참조) \r\n",
      "방해가 고의적일 때는 볼 데드가 되고 심판원은 방해가 없었더라면 \r\n",
      "경기가 어떠한 상태가 되었을지를 판단하여 방해에 의한 불이익을 \r\n",
      "해소할 수 있는 조치를 취한다. (6.01⒝, 5.09⒝⑶ 참조) \r\n",
      "[원주] 방해가 고의인지 아닌지는 그 행위에 따라 결정해야 한다. \r\n",
      "[예1] 배트 보이, 볼 보이, 경찰관 등이 타구 또는 송구에 닿지 \r\n",
      "않으려고 피하다가 닿았을 때는 고의방해로 보지 않는다. \r\n",
      "그러나 공을 주워 올리거나, 잡거나, 의도적으로 공을 밀\r\n",
      "거나 발로 차서 공을 건드리는 행위는 고의 방해에 해당\r\n",
      "한다.\r\n",
      "KBO에서는 외야에 위치한 볼 보이의 신체 및 볼 보이가 \r\n",
      "소지한 일체의 장비(의자 포함)에 맞았을 경우 고의 여부\r\n",
      "를 불문하고 2개 베이스가 주어진다.\r\n",
      "[예2] 타자가 유격수 앞 땅볼을 쳤다. 타구를 잡은 유격수가 1\r\n",
      "루에 악송구하여 공격팀의 1루 코치는 송구에 맞지 않으\r\n",
      "려고\n",
      "\n",
      "\n",
      "id: a7afad3d-0348-4d5f-aec1-9ed1b2350654\n",
      "\n",
      "content: 방해, 업스트럭션 6.01\r\n",
      "․ 87 ․\r\n",
      "으려고 가능한 모든 노력을 했다고 심판원이 판단하면 고\r\n",
      "의방해로 선고할 필요는 없다. 코치가 방해하지 않으려는 \r\n",
      "시늉만 했을 뿐 사실은 피하지 않은 것으로 심판원이 판\r\n",
      "단하면 고의에 의한 방해를 선고해야 한다.\r\n",
      "⒠ 관중의 방해\r\n",
      "타구 또는 송구에 대하여 관중의 방해가 있었을 때는 방해와 동시\r\n",
      "에 볼 데드가 되며 심판원은 만일 방해가 없었더라면 경기가 어떠\r\n",
      "한 상태가 되었을지를 판단하여 볼 데드 뒤 조치를 취한다. \r\n",
      "[부기] 관중이 플라이 볼을 잡으려는 야수를 명백히 방해하였을 경우는 \r\n",
      "심판원은 타자 아웃을 선고해야 한다. \r\n",
      "[원주] 타구 또는 송구가 스탠드에 들어가 관중에 닿았다가 운동장 안\r\n",
      "으로 되돌아와 볼 데드가 되는 것과, 관중이 울타리를 넘어 경기\r\n",
      "장 안으로 넘어와 인 플레이인 공 또는 선수에 닿거나 다른 방법\r\n",
      "으로 플레이를\n",
      "\n",
      "\n"
     ]
    }
   ],
   "execution_count": 59
  },
  {
   "metadata": {},
   "cell_type": "markdown",
   "source": "두 번째 gt: 243d2bb6-81e2-45ba-aca3-483f698ad791",
   "id": "80f8b5bed5d7b8e4"
  },
  {
   "metadata": {
    "ExecuteTime": {
     "end_time": "2025-01-30T05:24:36.260239Z",
     "start_time": "2025-01-30T05:24:36.250917Z"
    }
   },
   "cell_type": "code",
   "source": "pretty_print(kiwi.invoke(answer[2]))",
   "id": "e6e65c47959c8504",
   "outputs": [
    {
     "name": "stdout",
     "output_type": "stream",
     "text": [
      "id: b8464983-dbdc-451e-a4a9-72b146508cb3\n",
      "\n",
      "content: 39\r\n",
      "제48조 입장요금(KBO 포스트시즌 경기) \r\n",
      "KBO 포스트시즌 경기의 입장요금은 별도로 정한다.\n",
      "\n",
      "\n",
      "id: b4993478-f2aa-4e7b-a66d-483be39773e5\n",
      "\n",
      "content: 31\r\n",
      "제33조 경기\r\n",
      "1. 모든 경기진행은 KBO가 관장한다.\r\n",
      "2. 출장자격은 KBO 한국시리즈에 준한다.\r\n",
      "3. 구장 상태, 일기, 기타 사유로 인한 경기개시 여부는 총재가 \r\n",
      "이를 결정한다.\r\n",
      "4. 입장요금은 KBO 포스트시즌 경기요금에 준한다.\n",
      "\n",
      "\n",
      "id: b36de4ec-90bd-4276-8378-1731f882c81d\n",
      "\n",
      "content: 35\r\n",
      "제41조 경기 \r\n",
      "1. 모든 경기진행은 KBO가 관장한다. \r\n",
      "2. 출장자격은 KBO 한국시리즈에 준한다. \r\n",
      "3. 구장 상태, 일기, 기타 사유로 인한 경기개시 여부는 총재가 \r\n",
      "이를 결정한다. \r\n",
      "4. 입장요금은 KBO 포스트시즌 경기요금에 준한다.\n",
      "\n",
      "\n",
      "id: ca5888b1-0c03-49f8-b592-3aaf2b95cf0d\n",
      "\n",
      "content: 33\r\n",
      "제37조 경기 \r\n",
      "1. 모든 경기진행은 KBO가 관장한다. \r\n",
      "2. 출장자격은 KBO 한국시리즈에 준한다. \r\n",
      "3. 구장 상태, 일기, 기타 사유로 인한 경기개시 여부는 총재가 \r\n",
      "이를 결정한다. \r\n",
      "4. 입장요금은 KBO 포스트시즌 경기요금에 준한다.\n",
      "\n",
      "\n"
     ]
    }
   ],
   "execution_count": 60
  },
  {
   "metadata": {},
   "cell_type": "markdown",
   "source": "세 번째 gt: b8464983-dbdc-451e-a4a9-72b146508cb3",
   "id": "3e9d3fbcf97b7491"
  },
  {
   "metadata": {
    "ExecuteTime": {
     "end_time": "2025-01-30T05:26:01.790522Z",
     "start_time": "2025-01-30T05:26:01.787054Z"
    }
   },
   "cell_type": "code",
   "source": [
    "retrieval_gt = [\n",
    "    [[\"04a6a16a-728d-4e33-9a15-9d751e74f8aa\"]],\n",
    "    [[\"243d2bb6-81e2-45ba-aca3-483f698ad791\"]],\n",
    "    [[\"b8464983-dbdc-451e-a4a9-72b146508cb3\"]],\n",
    "]"
   ],
   "id": "85502e5b43088f40",
   "outputs": [],
   "execution_count": 67
  },
  {
   "metadata": {
    "ExecuteTime": {
     "end_time": "2025-01-30T05:26:04.036498Z",
     "start_time": "2025-01-30T05:26:04.033845Z"
    }
   },
   "cell_type": "code",
   "source": [
    "faq_qa = pd.DataFrame({\n",
    "    \"qid\": qid,\n",
    "    \"query\": question,\n",
    "    \"generation_gt\": generation_gt,\n",
    "    \"retrieval_gt\": retrieval_gt,\n",
    "})"
   ],
   "id": "1a325d72df353698",
   "outputs": [],
   "execution_count": 68
  },
  {
   "metadata": {
    "ExecuteTime": {
     "end_time": "2025-01-30T05:26:18.661346Z",
     "start_time": "2025-01-30T05:26:18.655283Z"
    }
   },
   "cell_type": "code",
   "source": "faq_qa",
   "id": "4e0304416c1b5a2b",
   "outputs": [
    {
     "data": {
      "text/plain": [
       "                                    qid                               query  \\\n",
       "0  48ae161a-3bd7-4de4-8714-28f0c800e702        구단이 보유할 수 있는 선수는 최대 몇 명 인가요?   \n",
       "1  fc685c38-63d5-4b09-bab4-a8e1683a59b1      송구가 심판 맞고 굴절되면 어떻게 되나요? 아웃인가요?   \n",
       "2  4befbd36-59f9-4408-a401-74e3a8518538  포스트시즌 경기 입장료는 구단마다 다르던데, 구단 재량인가요?   \n",
       "\n",
       "                                       generation_gt  \\\n",
       "0  [한 구단이 보유할 수 있는 선수의 정원은 보류선수를 포함하여 최대 65명으로 하며...   \n",
       "1  [송구가 우연히 베이스 코치에게 닿거나, 투구 또는 송구가 심판원에게 닿았더라도 볼...   \n",
       "2            [구단 재량이다. KBO 포스트시즌 경기의 입장요금은 별도로 정한다.]   \n",
       "\n",
       "                               retrieval_gt  \n",
       "0  [[04a6a16a-728d-4e33-9a15-9d751e74f8aa]]  \n",
       "1  [[243d2bb6-81e2-45ba-aca3-483f698ad791]]  \n",
       "2  [[b8464983-dbdc-451e-a4a9-72b146508cb3]]  "
      ],
      "text/html": [
       "<div>\n",
       "<style scoped>\n",
       "    .dataframe tbody tr th:only-of-type {\n",
       "        vertical-align: middle;\n",
       "    }\n",
       "\n",
       "    .dataframe tbody tr th {\n",
       "        vertical-align: top;\n",
       "    }\n",
       "\n",
       "    .dataframe thead th {\n",
       "        text-align: right;\n",
       "    }\n",
       "</style>\n",
       "<table border=\"1\" class=\"dataframe\">\n",
       "  <thead>\n",
       "    <tr style=\"text-align: right;\">\n",
       "      <th></th>\n",
       "      <th>qid</th>\n",
       "      <th>query</th>\n",
       "      <th>generation_gt</th>\n",
       "      <th>retrieval_gt</th>\n",
       "    </tr>\n",
       "  </thead>\n",
       "  <tbody>\n",
       "    <tr>\n",
       "      <th>0</th>\n",
       "      <td>48ae161a-3bd7-4de4-8714-28f0c800e702</td>\n",
       "      <td>구단이 보유할 수 있는 선수는 최대 몇 명 인가요?</td>\n",
       "      <td>[한 구단이 보유할 수 있는 선수의 정원은 보류선수를 포함하여 최대 65명으로 하며...</td>\n",
       "      <td>[[04a6a16a-728d-4e33-9a15-9d751e74f8aa]]</td>\n",
       "    </tr>\n",
       "    <tr>\n",
       "      <th>1</th>\n",
       "      <td>fc685c38-63d5-4b09-bab4-a8e1683a59b1</td>\n",
       "      <td>송구가 심판 맞고 굴절되면 어떻게 되나요? 아웃인가요?</td>\n",
       "      <td>[송구가 우연히 베이스 코치에게 닿거나, 투구 또는 송구가 심판원에게 닿았더라도 볼...</td>\n",
       "      <td>[[243d2bb6-81e2-45ba-aca3-483f698ad791]]</td>\n",
       "    </tr>\n",
       "    <tr>\n",
       "      <th>2</th>\n",
       "      <td>4befbd36-59f9-4408-a401-74e3a8518538</td>\n",
       "      <td>포스트시즌 경기 입장료는 구단마다 다르던데, 구단 재량인가요?</td>\n",
       "      <td>[구단 재량이다. KBO 포스트시즌 경기의 입장요금은 별도로 정한다.]</td>\n",
       "      <td>[[b8464983-dbdc-451e-a4a9-72b146508cb3]]</td>\n",
       "    </tr>\n",
       "  </tbody>\n",
       "</table>\n",
       "</div>"
      ]
     },
     "execution_count": 69,
     "metadata": {},
     "output_type": "execute_result"
    }
   ],
   "execution_count": 69
  },
  {
   "metadata": {
    "ExecuteTime": {
     "end_time": "2025-01-30T05:26:39.209819Z",
     "start_time": "2025-01-30T05:26:39.205436Z"
    }
   },
   "cell_type": "code",
   "source": [
    "faq_qa_path = os.path.join(root_dir, 'autorag_project', 'final', 'qa', 'faq_qa.parquet')\n",
    "faq_qa.to_parquet(faq_qa_path)"
   ],
   "id": "347c17dc3930a79b",
   "outputs": [],
   "execution_count": 70
  },
  {
   "metadata": {},
   "cell_type": "markdown",
   "source": "# QA 데이터 셋으로 합치기",
   "id": "e82763afc3fe93c7"
  },
  {
   "metadata": {
    "ExecuteTime": {
     "end_time": "2025-01-30T05:27:18.321367Z",
     "start_time": "2025-01-30T05:27:18.290123Z"
    }
   },
   "cell_type": "code",
   "source": [
    "dataframes = [initial_qa.data, third_qa.data, faq_qa]\n",
    "qa = pd.concat(dataframes, ignore_index=True)\n",
    "qa"
   ],
   "id": "f5732b88e2ba0331",
   "outputs": [
    {
     "data": {
      "text/plain": [
       "                                     qid  \\\n",
       "0   6d1ec768-e872-44fe-9080-6a4b8828da09   \n",
       "1   f99ba0f3-b2da-4cdb-98fc-380fbb2f5e17   \n",
       "2   f3afe648-ccdd-414b-9dd7-8c054c031bc3   \n",
       "3   50aa50bd-ef0d-47a8-bd18-0b8c7eddd253   \n",
       "4   d6fd53eb-42ee-4835-83eb-72afac55bf51   \n",
       "5   0bcf8d62-9497-4f5a-a4fa-8626b9b5018b   \n",
       "6   edb95b03-e5aa-4ce7-9307-08505e3c377f   \n",
       "7   9e337798-8cb6-4e56-8ebe-a7196abd3888   \n",
       "8   6a16546d-d5cf-491c-abd7-0df5ff9a5c22   \n",
       "9   a43cac50-414e-4d66-80ce-3c882dfa1bd9   \n",
       "10  ccea0081-f8a5-4902-8817-9b7f13c00519   \n",
       "11  9c92b2f2-a55e-49b9-a01f-252d13a44157   \n",
       "12  a8ac21f5-e17f-4024-ba69-2e0917250594   \n",
       "13  1db0d37d-e280-4275-8ee4-651cb4310df6   \n",
       "14  bb2df721-3ed7-4d3f-8651-b02d71b79c15   \n",
       "15  6d1ec768-e872-44fe-9080-6a4b8828da09   \n",
       "16  f99ba0f3-b2da-4cdb-98fc-380fbb2f5e17   \n",
       "17  f3afe648-ccdd-414b-9dd7-8c054c031bc3   \n",
       "18  50aa50bd-ef0d-47a8-bd18-0b8c7eddd253   \n",
       "19  d6fd53eb-42ee-4835-83eb-72afac55bf51   \n",
       "20  0bcf8d62-9497-4f5a-a4fa-8626b9b5018b   \n",
       "21  edb95b03-e5aa-4ce7-9307-08505e3c377f   \n",
       "22  9e337798-8cb6-4e56-8ebe-a7196abd3888   \n",
       "23  6a16546d-d5cf-491c-abd7-0df5ff9a5c22   \n",
       "24  a43cac50-414e-4d66-80ce-3c882dfa1bd9   \n",
       "25  ccea0081-f8a5-4902-8817-9b7f13c00519   \n",
       "26  9c92b2f2-a55e-49b9-a01f-252d13a44157   \n",
       "27  a8ac21f5-e17f-4024-ba69-2e0917250594   \n",
       "28  1db0d37d-e280-4275-8ee4-651cb4310df6   \n",
       "29  bb2df721-3ed7-4d3f-8651-b02d71b79c15   \n",
       "30  48ae161a-3bd7-4de4-8714-28f0c800e702   \n",
       "31  fc685c38-63d5-4b09-bab4-a8e1683a59b1   \n",
       "32  4befbd36-59f9-4408-a401-74e3a8518538   \n",
       "\n",
       "                                retrieval_gt  \\\n",
       "0   [[2ea156c5-99b4-4338-9306-d139abe8b44e]]   \n",
       "1   [[a389cfdf-361a-45b7-bf77-91ab137e8392]]   \n",
       "2   [[2bed192d-9591-405c-a39f-025caee6a7e4]]   \n",
       "3   [[3d329be3-89db-4e3b-bb83-6ac1d6eb23e6]]   \n",
       "4   [[96db994a-b5f5-49c4-8fff-e6668148da3f]]   \n",
       "5   [[4662da6c-ae20-4889-8289-0fd53b00cc76]]   \n",
       "6   [[07090a61-45c2-4280-b2fb-b3e4647f0e88]]   \n",
       "7   [[6ebf10d4-1abe-4d0c-b0fb-cc5c0b77eb6d]]   \n",
       "8   [[3d0914ba-78e8-4572-b4bb-fc6695c94130]]   \n",
       "9   [[494d83d0-761c-4e71-ae71-de73106e9bda]]   \n",
       "10  [[b6ec042a-c356-464f-9262-2814db452d28]]   \n",
       "11  [[b1d90b0a-96b1-48d0-beb2-085eb1fbdce5]]   \n",
       "12  [[3cbe35ee-eb83-4a14-8e34-b92001b28350]]   \n",
       "13  [[4398e7fc-2460-40d4-be91-e9af60e17f61]]   \n",
       "14  [[496d5979-5202-4021-98c1-64100fe59a88]]   \n",
       "15  [[2ea156c5-99b4-4338-9306-d139abe8b44e]]   \n",
       "16  [[a389cfdf-361a-45b7-bf77-91ab137e8392]]   \n",
       "17  [[2bed192d-9591-405c-a39f-025caee6a7e4]]   \n",
       "18  [[3d329be3-89db-4e3b-bb83-6ac1d6eb23e6]]   \n",
       "19  [[96db994a-b5f5-49c4-8fff-e6668148da3f]]   \n",
       "20  [[4662da6c-ae20-4889-8289-0fd53b00cc76]]   \n",
       "21  [[07090a61-45c2-4280-b2fb-b3e4647f0e88]]   \n",
       "22  [[6ebf10d4-1abe-4d0c-b0fb-cc5c0b77eb6d]]   \n",
       "23  [[3d0914ba-78e8-4572-b4bb-fc6695c94130]]   \n",
       "24  [[494d83d0-761c-4e71-ae71-de73106e9bda]]   \n",
       "25  [[b6ec042a-c356-464f-9262-2814db452d28]]   \n",
       "26  [[b1d90b0a-96b1-48d0-beb2-085eb1fbdce5]]   \n",
       "27  [[3cbe35ee-eb83-4a14-8e34-b92001b28350]]   \n",
       "28  [[4398e7fc-2460-40d4-be91-e9af60e17f61]]   \n",
       "29  [[496d5979-5202-4021-98c1-64100fe59a88]]   \n",
       "30  [[04a6a16a-728d-4e33-9a15-9d751e74f8aa]]   \n",
       "31  [[243d2bb6-81e2-45ba-aca3-483f698ad791]]   \n",
       "32  [[b8464983-dbdc-451e-a4a9-72b146508cb3]]   \n",
       "\n",
       "                                retrieval_gt_contents  \\\n",
       "0   [[5.09 아웃\\r\\n․ 58 ․\\r\\n다 빨리 2루에 도달했고 타자주자는 1루에...   \n",
       "1   [[본 규칙 5.02(c)의 적용을 모면하거나 회피하려고 시도한다면, \\r\\n심판은...   \n",
       "2   [[다음 연도 신인 드래프트에서 동일 라운드 종료 후 추가 보\\r\\n상 지명을 실시...   \n",
       "3   [[출장정지 제재를 받은 자는 제재 종료일까지 KBO 정규시즌, \\r\\n포스트시즌,...   \n",
       "4   [[치수를 잴 때는 계\\r\\n측기나 줄자를 글러브의 앞쪽 또는 공을 잡는 쪽에 접촉...   \n",
       "5   [[쳤다. 땅볼을 받은 \\r\\n1루수는 1루주자를 포스 아웃시키려고 2루에 송구하였...   \n",
       "6   [[고의낙구 하더라도 5.09⒜⑿의 규정에 관계없이 볼 인 플레이며, \\r\\n인필드...   \n",
       "7   [[시상 \\r\\n투수 부문 - 평균자책점상, 승리상\\r\\n타자 부문 - 타율상, 홈...   \n",
       "8   [[설\\r\\n사 관중이 그 플레이를 방해하더라도 수비방해의 이득을 얻을 수는 없\\r...   \n",
       "9   [[플레이 시도 시 슬라이딩\\r\\n주자가 더블 플레이 성립을 방해하기 위한 목적으로...   \n",
       "10  [[용어의 정의 45~51\\r\\n․ 179 ․\\r\\n45. LEAGUE (리그) \\...   \n",
       "11  [[7\\r\\n당해 시즌에 현역선수로 1일 이상 등록한 부상선수에 한해 시즌 \\r\\n...   \n",
       "12  [[․ 2 ․\\r\\n2.00 경 기 장\\r\\n2.01 경기장의 설정\\r\\n경기장은 ...   \n",
       "13  [[2루에\\r\\n서 포스 아웃된 뒤 어필에 의해 정위타자가 아웃을 선고받으\\r\\n면...   \n",
       "14  [[인정하지 않는다. 심판원이 \\r\\n주자가 6.01(j)를 위반했다고 판단한 경우...   \n",
       "15  [[5.09 아웃\\r\\n․ 58 ․\\r\\n다 빨리 2루에 도달했고 타자주자는 1루에...   \n",
       "16  [[본 규칙 5.02(c)의 적용을 모면하거나 회피하려고 시도한다면, \\r\\n심판은...   \n",
       "17  [[다음 연도 신인 드래프트에서 동일 라운드 종료 후 추가 보\\r\\n상 지명을 실시...   \n",
       "18  [[출장정지 제재를 받은 자는 제재 종료일까지 KBO 정규시즌, \\r\\n포스트시즌,...   \n",
       "19  [[치수를 잴 때는 계\\r\\n측기나 줄자를 글러브의 앞쪽 또는 공을 잡는 쪽에 접촉...   \n",
       "20  [[쳤다. 땅볼을 받은 \\r\\n1루수는 1루주자를 포스 아웃시키려고 2루에 송구하였...   \n",
       "21  [[고의낙구 하더라도 5.09⒜⑿의 규정에 관계없이 볼 인 플레이며, \\r\\n인필드...   \n",
       "22  [[시상 \\r\\n투수 부문 - 평균자책점상, 승리상\\r\\n타자 부문 - 타율상, 홈...   \n",
       "23  [[설\\r\\n사 관중이 그 플레이를 방해하더라도 수비방해의 이득을 얻을 수는 없\\r...   \n",
       "24  [[플레이 시도 시 슬라이딩\\r\\n주자가 더블 플레이 성립을 방해하기 위한 목적으로...   \n",
       "25  [[용어의 정의 45~51\\r\\n․ 179 ․\\r\\n45. LEAGUE (리그) \\...   \n",
       "26  [[7\\r\\n당해 시즌에 현역선수로 1일 이상 등록한 부상선수에 한해 시즌 \\r\\n...   \n",
       "27  [[․ 2 ․\\r\\n2.00 경 기 장\\r\\n2.01 경기장의 설정\\r\\n경기장은 ...   \n",
       "28  [[2루에\\r\\n서 포스 아웃된 뒤 어필에 의해 정위타자가 아웃을 선고받으\\r\\n면...   \n",
       "29  [[인정하지 않는다. 심판원이 \\r\\n주자가 6.01(j)를 위반했다고 판단한 경우...   \n",
       "30                                                NaN   \n",
       "31                                                NaN   \n",
       "32                                                NaN   \n",
       "\n",
       "                                                query  \\\n",
       "0                              포스 상태가 해제되는 경우는 무엇입니까?   \n",
       "1   규칙 5.02(c)를 어떻게 모면하거나 회피하려고 시도하는 경우 어떤 벌칙이 부과되나요?   \n",
       "2   KBO 신인 드래프트에서 선수가 외국 프로구단과 계약 협상을 진행한 후에도 KBO ...   \n",
       "3                    출장정지 제재를 받은 자는 어떤 경기에 출장할 수 없나요?   \n",
       "4                     치수를 잴 때 어디에 계측기나 줄자를 접촉시켜야 하나요?   \n",
       "5   1루수가 1루주자를 포스 아웃시키려고 2루에 송구했을 때, 심판이 투수의 주루방해를...   \n",
       "6   인필드 플라이 동안 수비방해가 선언되면 타구가 페어 / 파울로 결정될 때까지는 어떤...   \n",
       "7      야구 시상에서 투수 부문과 타자 부문으로 나누어 시상하는데, 어떤 상이 시상되는가?   \n",
       "8   야구에서 덕아웃 부근에서 플라이 볼을 잡으려는 야수가 덕아웃 안으로 빠지지 않으려고...   \n",
       "9   야구에서 주자가 더블 플레이을 방해하기 위한 목적으로 '정당한 슬라이딩'이란 무엇입니까?   \n",
       "10                    라인 드라이브(line drive)란 무엇을 의미합니까?   \n",
       "11  부상자 명단에 등재된 선수가 동일한 부상을 사유로 연장 신청할 경우 추가 진단서 없...   \n",
       "12                야구 경기장을 설정할 때 1루와 3루 사이의 거리는 얼마인가요?   \n",
       "13    정위타자가 아웃을 선고받은 후 어필이 있을 때 1루주자의 포스 아웃은 어떻게 되는가?   \n",
       "14                              투수가 보크가 되는 경우는 무엇입니까?   \n",
       "15  포스 플레이가 아닌 태그 플레이에서 주자가 제3아웃 되기 전에 본루에 들어간 주자의...   \n",
       "16             규칙 5.02(c)를 회피하려는 행위에 대해 어떤 벌칙이 부과되나요?   \n",
       "17  어떤 경우에 신인 드래프트 참가 신청서를 제출했지만, 지명된 후 외국 프로구단과 계...   \n",
       "18                  출장정지 제재를 받은 선수는 어떤 경기에 출장할 수 없나요?   \n",
       "19                                  어떻게 치수를 측정해야 하나요?   \n",
       "20  1루수가 1루주자를 포스 아웃시키려다가 투수와 충돌하여 업스트럭션을 선고받았을 때,...   \n",
       "21                인필드 플라이 동안 수비방해가 선언되면 어떤 상황이 벌어지나요?   \n",
       "22         어떤 기준에 따라 투수와 타자 부문의 시상이 북부와 남부리그로 나누어지나요?   \n",
       "23  선수가 덕아웃 안으로 빠지지 않으려고 안쪽에 있는 선수의 신체에 기대하여 플라이 볼...   \n",
       "24         주자가 더블 플레이 성립을 방해하기 위해 '정당한 슬라이딩'이란 무엇인가요?   \n",
       "25                   어떤 역할을 수행하는 사람이 리그 프레지던트라고 불리나요?   \n",
       "26  부상자 명단에 등재된 선수가 동일한 부상을 사유로 연장을 신청할 때 추가 진단서가 ...   \n",
       "27              경기장 설정 시 1루부터 3루까지의 거리는 어떻게 측정해야 하나요?   \n",
       "28            어필 없이 다음 타자에게 투구한 경우, 부정위타자는 어떻게 처리되나요?   \n",
       "29                       투수가 보크를 저지르는 경우에는 어떻게 처리되나요?   \n",
       "30                       구단이 보유할 수 있는 선수는 최대 몇 명 인가요?   \n",
       "31                     송구가 심판 맞고 굴절되면 어떻게 되나요? 아웃인가요?   \n",
       "32                 포스트시즌 경기 입장료는 구단마다 다르던데, 구단 재량인가요?   \n",
       "\n",
       "                                        generation_gt  \n",
       "0   [포스 상태가 해제되는 경우는 태그 플레이가 발생할 때입니다., 타자가 주자가 됨에...  \n",
       "1   [규칙 5.02(c)를 모면하거나 회피하려고 시도하는 경우, 수비팀이 해당 규칙을 ...  \n",
       "2   [KBO 신인 드래프트에서 선수가 외국 프로구단과 계약 협상을 진행한 후에도 KBO...  \n",
       "3   [출장정지 제재를 받은 자는 KBO 정규시즌, 포스트시즌, 퓨처스리그 경기에 출장할...  \n",
       "4   [계측기나 줄자를 글러브의 앞쪽 또는 공을 잡는 쪽에 접촉시켜야 합니다., 글러브의...  \n",
       "5   [심판이 투수의 주루방해를 인정하면 \"업스트럭션\"을 선고하고 볼을 데드로 하며, 이...  \n",
       "6   [인필드 플라이 동안 수비방해가 선언되면 타구가 페어 / 파울로 결정될 때까지는 인...  \n",
       "7   [야구 시상에서 투수 부문은 평균자책점상과 승리상이 시상되며, 타자 부문은 타율상,...  \n",
       "8                       [공을 잡으면 정규의 포구가 됩니다., 정규의 포구]  \n",
       "9   [야구에서 주자가 더블 플레이을 방해하기 위한 목적으로 '정당한 슬라이딩'은 베이스...  \n",
       "10  [라인 드라이브(line drive)란 타자가 배트로 가격한 타구가 지면에 닿지 않...  \n",
       "11  [네, 부상자 명단에 등재된 선수가 동일한 부상을 사유로 연장 신청할 경우에는 추가...  \n",
       "12  [1루와 3루 사이의 거리는 127피트 3⅜인치(38.795m)입니다., 127피트...  \n",
       "13                       [1루주자의 포스 아웃은 취소됩니다., 취소된다.]  \n",
       "14  [투수가 보크가 되는 경우는 베이스에 주자가 있을 때, 투수판에 중심발을 대고 있는...  \n",
       "15  [포스 상태가 해제되는 경우는 태그 플레이가 발생할 때입니다., 타자가 주자가 됨에...  \n",
       "16  [규칙 5.02(c)를 모면하거나 회피하려고 시도하는 경우, 수비팀이 해당 규칙을 ...  \n",
       "17  [KBO 신인 드래프트에서 선수가 외국 프로구단과 계약 협상을 진행한 후에도 KBO...  \n",
       "18  [출장정지 제재를 받은 자는 KBO 정규시즌, 포스트시즌, 퓨처스리그 경기에 출장할...  \n",
       "19  [계측기나 줄자를 글러브의 앞쪽 또는 공을 잡는 쪽에 접촉시켜야 합니다., 글러브의...  \n",
       "20  [심판이 투수의 주루방해를 인정하면 \"업스트럭션\"을 선고하고 볼을 데드로 하며, 이...  \n",
       "21  [인필드 플라이 동안 수비방해가 선언되면 타구가 페어 / 파울로 결정될 때까지는 인...  \n",
       "22  [야구 시상에서 투수 부문은 평균자책점상과 승리상이 시상되며, 타자 부문은 타율상,...  \n",
       "23                      [공을 잡으면 정규의 포구가 됩니다., 정규의 포구]  \n",
       "24  [야구에서 주자가 더블 플레이을 방해하기 위한 목적으로 '정당한 슬라이딩'은 베이스...  \n",
       "25  [라인 드라이브(line drive)란 타자가 배트로 가격한 타구가 지면에 닿지 않...  \n",
       "26  [네, 부상자 명단에 등재된 선수가 동일한 부상을 사유로 연장 신청할 경우에는 추가...  \n",
       "27  [1루와 3루 사이의 거리는 127피트 3⅜인치(38.795m)입니다., 127피트...  \n",
       "28                       [1루주자의 포스 아웃은 취소됩니다., 취소된다.]  \n",
       "29  [투수가 보크가 되는 경우는 베이스에 주자가 있을 때, 투수판에 중심발을 대고 있는...  \n",
       "30  [한 구단이 보유할 수 있는 선수의 정원은 보류선수를 포함하여 최대 65명으로 하며...  \n",
       "31  [송구가 우연히 베이스 코치에게 닿거나, 투구 또는 송구가 심판원에게 닿았더라도 볼...  \n",
       "32            [구단 재량이다. KBO 포스트시즌 경기의 입장요금은 별도로 정한다.]  "
      ],
      "text/html": [
       "<div>\n",
       "<style scoped>\n",
       "    .dataframe tbody tr th:only-of-type {\n",
       "        vertical-align: middle;\n",
       "    }\n",
       "\n",
       "    .dataframe tbody tr th {\n",
       "        vertical-align: top;\n",
       "    }\n",
       "\n",
       "    .dataframe thead th {\n",
       "        text-align: right;\n",
       "    }\n",
       "</style>\n",
       "<table border=\"1\" class=\"dataframe\">\n",
       "  <thead>\n",
       "    <tr style=\"text-align: right;\">\n",
       "      <th></th>\n",
       "      <th>qid</th>\n",
       "      <th>retrieval_gt</th>\n",
       "      <th>retrieval_gt_contents</th>\n",
       "      <th>query</th>\n",
       "      <th>generation_gt</th>\n",
       "    </tr>\n",
       "  </thead>\n",
       "  <tbody>\n",
       "    <tr>\n",
       "      <th>0</th>\n",
       "      <td>6d1ec768-e872-44fe-9080-6a4b8828da09</td>\n",
       "      <td>[[2ea156c5-99b4-4338-9306-d139abe8b44e]]</td>\n",
       "      <td>[[5.09 아웃\\r\\n․ 58 ․\\r\\n다 빨리 2루에 도달했고 타자주자는 1루에...</td>\n",
       "      <td>포스 상태가 해제되는 경우는 무엇입니까?</td>\n",
       "      <td>[포스 상태가 해제되는 경우는 태그 플레이가 발생할 때입니다., 타자가 주자가 됨에...</td>\n",
       "    </tr>\n",
       "    <tr>\n",
       "      <th>1</th>\n",
       "      <td>f99ba0f3-b2da-4cdb-98fc-380fbb2f5e17</td>\n",
       "      <td>[[a389cfdf-361a-45b7-bf77-91ab137e8392]]</td>\n",
       "      <td>[[본 규칙 5.02(c)의 적용을 모면하거나 회피하려고 시도한다면, \\r\\n심판은...</td>\n",
       "      <td>규칙 5.02(c)를 어떻게 모면하거나 회피하려고 시도하는 경우 어떤 벌칙이 부과되나요?</td>\n",
       "      <td>[규칙 5.02(c)를 모면하거나 회피하려고 시도하는 경우, 수비팀이 해당 규칙을 ...</td>\n",
       "    </tr>\n",
       "    <tr>\n",
       "      <th>2</th>\n",
       "      <td>f3afe648-ccdd-414b-9dd7-8c054c031bc3</td>\n",
       "      <td>[[2bed192d-9591-405c-a39f-025caee6a7e4]]</td>\n",
       "      <td>[[다음 연도 신인 드래프트에서 동일 라운드 종료 후 추가 보\\r\\n상 지명을 실시...</td>\n",
       "      <td>KBO 신인 드래프트에서 선수가 외국 프로구단과 계약 협상을 진행한 후에도 KBO ...</td>\n",
       "      <td>[KBO 신인 드래프트에서 선수가 외국 프로구단과 계약 협상을 진행한 후에도 KBO...</td>\n",
       "    </tr>\n",
       "    <tr>\n",
       "      <th>3</th>\n",
       "      <td>50aa50bd-ef0d-47a8-bd18-0b8c7eddd253</td>\n",
       "      <td>[[3d329be3-89db-4e3b-bb83-6ac1d6eb23e6]]</td>\n",
       "      <td>[[출장정지 제재를 받은 자는 제재 종료일까지 KBO 정규시즌, \\r\\n포스트시즌,...</td>\n",
       "      <td>출장정지 제재를 받은 자는 어떤 경기에 출장할 수 없나요?</td>\n",
       "      <td>[출장정지 제재를 받은 자는 KBO 정규시즌, 포스트시즌, 퓨처스리그 경기에 출장할...</td>\n",
       "    </tr>\n",
       "    <tr>\n",
       "      <th>4</th>\n",
       "      <td>d6fd53eb-42ee-4835-83eb-72afac55bf51</td>\n",
       "      <td>[[96db994a-b5f5-49c4-8fff-e6668148da3f]]</td>\n",
       "      <td>[[치수를 잴 때는 계\\r\\n측기나 줄자를 글러브의 앞쪽 또는 공을 잡는 쪽에 접촉...</td>\n",
       "      <td>치수를 잴 때 어디에 계측기나 줄자를 접촉시켜야 하나요?</td>\n",
       "      <td>[계측기나 줄자를 글러브의 앞쪽 또는 공을 잡는 쪽에 접촉시켜야 합니다., 글러브의...</td>\n",
       "    </tr>\n",
       "    <tr>\n",
       "      <th>5</th>\n",
       "      <td>0bcf8d62-9497-4f5a-a4fa-8626b9b5018b</td>\n",
       "      <td>[[4662da6c-ae20-4889-8289-0fd53b00cc76]]</td>\n",
       "      <td>[[쳤다. 땅볼을 받은 \\r\\n1루수는 1루주자를 포스 아웃시키려고 2루에 송구하였...</td>\n",
       "      <td>1루수가 1루주자를 포스 아웃시키려고 2루에 송구했을 때, 심판이 투수의 주루방해를...</td>\n",
       "      <td>[심판이 투수의 주루방해를 인정하면 \"업스트럭션\"을 선고하고 볼을 데드로 하며, 이...</td>\n",
       "    </tr>\n",
       "    <tr>\n",
       "      <th>6</th>\n",
       "      <td>edb95b03-e5aa-4ce7-9307-08505e3c377f</td>\n",
       "      <td>[[07090a61-45c2-4280-b2fb-b3e4647f0e88]]</td>\n",
       "      <td>[[고의낙구 하더라도 5.09⒜⑿의 규정에 관계없이 볼 인 플레이며, \\r\\n인필드...</td>\n",
       "      <td>인필드 플라이 동안 수비방해가 선언되면 타구가 페어 / 파울로 결정될 때까지는 어떤...</td>\n",
       "      <td>[인필드 플라이 동안 수비방해가 선언되면 타구가 페어 / 파울로 결정될 때까지는 인...</td>\n",
       "    </tr>\n",
       "    <tr>\n",
       "      <th>7</th>\n",
       "      <td>9e337798-8cb6-4e56-8ebe-a7196abd3888</td>\n",
       "      <td>[[6ebf10d4-1abe-4d0c-b0fb-cc5c0b77eb6d]]</td>\n",
       "      <td>[[시상 \\r\\n투수 부문 - 평균자책점상, 승리상\\r\\n타자 부문 - 타율상, 홈...</td>\n",
       "      <td>야구 시상에서 투수 부문과 타자 부문으로 나누어 시상하는데, 어떤 상이 시상되는가?</td>\n",
       "      <td>[야구 시상에서 투수 부문은 평균자책점상과 승리상이 시상되며, 타자 부문은 타율상,...</td>\n",
       "    </tr>\n",
       "    <tr>\n",
       "      <th>8</th>\n",
       "      <td>6a16546d-d5cf-491c-abd7-0df5ff9a5c22</td>\n",
       "      <td>[[3d0914ba-78e8-4572-b4bb-fc6695c94130]]</td>\n",
       "      <td>[[설\\r\\n사 관중이 그 플레이를 방해하더라도 수비방해의 이득을 얻을 수는 없\\r...</td>\n",
       "      <td>야구에서 덕아웃 부근에서 플라이 볼을 잡으려는 야수가 덕아웃 안으로 빠지지 않으려고...</td>\n",
       "      <td>[공을 잡으면 정규의 포구가 됩니다., 정규의 포구]</td>\n",
       "    </tr>\n",
       "    <tr>\n",
       "      <th>9</th>\n",
       "      <td>a43cac50-414e-4d66-80ce-3c882dfa1bd9</td>\n",
       "      <td>[[494d83d0-761c-4e71-ae71-de73106e9bda]]</td>\n",
       "      <td>[[플레이 시도 시 슬라이딩\\r\\n주자가 더블 플레이 성립을 방해하기 위한 목적으로...</td>\n",
       "      <td>야구에서 주자가 더블 플레이을 방해하기 위한 목적으로 '정당한 슬라이딩'이란 무엇입니까?</td>\n",
       "      <td>[야구에서 주자가 더블 플레이을 방해하기 위한 목적으로 '정당한 슬라이딩'은 베이스...</td>\n",
       "    </tr>\n",
       "    <tr>\n",
       "      <th>10</th>\n",
       "      <td>ccea0081-f8a5-4902-8817-9b7f13c00519</td>\n",
       "      <td>[[b6ec042a-c356-464f-9262-2814db452d28]]</td>\n",
       "      <td>[[용어의 정의 45~51\\r\\n․ 179 ․\\r\\n45. LEAGUE (리그) \\...</td>\n",
       "      <td>라인 드라이브(line drive)란 무엇을 의미합니까?</td>\n",
       "      <td>[라인 드라이브(line drive)란 타자가 배트로 가격한 타구가 지면에 닿지 않...</td>\n",
       "    </tr>\n",
       "    <tr>\n",
       "      <th>11</th>\n",
       "      <td>9c92b2f2-a55e-49b9-a01f-252d13a44157</td>\n",
       "      <td>[[b1d90b0a-96b1-48d0-beb2-085eb1fbdce5]]</td>\n",
       "      <td>[[7\\r\\n당해 시즌에 현역선수로 1일 이상 등록한 부상선수에 한해 시즌 \\r\\n...</td>\n",
       "      <td>부상자 명단에 등재된 선수가 동일한 부상을 사유로 연장 신청할 경우 추가 진단서 없...</td>\n",
       "      <td>[네, 부상자 명단에 등재된 선수가 동일한 부상을 사유로 연장 신청할 경우에는 추가...</td>\n",
       "    </tr>\n",
       "    <tr>\n",
       "      <th>12</th>\n",
       "      <td>a8ac21f5-e17f-4024-ba69-2e0917250594</td>\n",
       "      <td>[[3cbe35ee-eb83-4a14-8e34-b92001b28350]]</td>\n",
       "      <td>[[․ 2 ․\\r\\n2.00 경 기 장\\r\\n2.01 경기장의 설정\\r\\n경기장은 ...</td>\n",
       "      <td>야구 경기장을 설정할 때 1루와 3루 사이의 거리는 얼마인가요?</td>\n",
       "      <td>[1루와 3루 사이의 거리는 127피트 3⅜인치(38.795m)입니다., 127피트...</td>\n",
       "    </tr>\n",
       "    <tr>\n",
       "      <th>13</th>\n",
       "      <td>1db0d37d-e280-4275-8ee4-651cb4310df6</td>\n",
       "      <td>[[4398e7fc-2460-40d4-be91-e9af60e17f61]]</td>\n",
       "      <td>[[2루에\\r\\n서 포스 아웃된 뒤 어필에 의해 정위타자가 아웃을 선고받으\\r\\n면...</td>\n",
       "      <td>정위타자가 아웃을 선고받은 후 어필이 있을 때 1루주자의 포스 아웃은 어떻게 되는가?</td>\n",
       "      <td>[1루주자의 포스 아웃은 취소됩니다., 취소된다.]</td>\n",
       "    </tr>\n",
       "    <tr>\n",
       "      <th>14</th>\n",
       "      <td>bb2df721-3ed7-4d3f-8651-b02d71b79c15</td>\n",
       "      <td>[[496d5979-5202-4021-98c1-64100fe59a88]]</td>\n",
       "      <td>[[인정하지 않는다. 심판원이 \\r\\n주자가 6.01(j)를 위반했다고 판단한 경우...</td>\n",
       "      <td>투수가 보크가 되는 경우는 무엇입니까?</td>\n",
       "      <td>[투수가 보크가 되는 경우는 베이스에 주자가 있을 때, 투수판에 중심발을 대고 있는...</td>\n",
       "    </tr>\n",
       "    <tr>\n",
       "      <th>15</th>\n",
       "      <td>6d1ec768-e872-44fe-9080-6a4b8828da09</td>\n",
       "      <td>[[2ea156c5-99b4-4338-9306-d139abe8b44e]]</td>\n",
       "      <td>[[5.09 아웃\\r\\n․ 58 ․\\r\\n다 빨리 2루에 도달했고 타자주자는 1루에...</td>\n",
       "      <td>포스 플레이가 아닌 태그 플레이에서 주자가 제3아웃 되기 전에 본루에 들어간 주자의...</td>\n",
       "      <td>[포스 상태가 해제되는 경우는 태그 플레이가 발생할 때입니다., 타자가 주자가 됨에...</td>\n",
       "    </tr>\n",
       "    <tr>\n",
       "      <th>16</th>\n",
       "      <td>f99ba0f3-b2da-4cdb-98fc-380fbb2f5e17</td>\n",
       "      <td>[[a389cfdf-361a-45b7-bf77-91ab137e8392]]</td>\n",
       "      <td>[[본 규칙 5.02(c)의 적용을 모면하거나 회피하려고 시도한다면, \\r\\n심판은...</td>\n",
       "      <td>규칙 5.02(c)를 회피하려는 행위에 대해 어떤 벌칙이 부과되나요?</td>\n",
       "      <td>[규칙 5.02(c)를 모면하거나 회피하려고 시도하는 경우, 수비팀이 해당 규칙을 ...</td>\n",
       "    </tr>\n",
       "    <tr>\n",
       "      <th>17</th>\n",
       "      <td>f3afe648-ccdd-414b-9dd7-8c054c031bc3</td>\n",
       "      <td>[[2bed192d-9591-405c-a39f-025caee6a7e4]]</td>\n",
       "      <td>[[다음 연도 신인 드래프트에서 동일 라운드 종료 후 추가 보\\r\\n상 지명을 실시...</td>\n",
       "      <td>어떤 경우에 신인 드래프트 참가 신청서를 제출했지만, 지명된 후 외국 프로구단과 계...</td>\n",
       "      <td>[KBO 신인 드래프트에서 선수가 외국 프로구단과 계약 협상을 진행한 후에도 KBO...</td>\n",
       "    </tr>\n",
       "    <tr>\n",
       "      <th>18</th>\n",
       "      <td>50aa50bd-ef0d-47a8-bd18-0b8c7eddd253</td>\n",
       "      <td>[[3d329be3-89db-4e3b-bb83-6ac1d6eb23e6]]</td>\n",
       "      <td>[[출장정지 제재를 받은 자는 제재 종료일까지 KBO 정규시즌, \\r\\n포스트시즌,...</td>\n",
       "      <td>출장정지 제재를 받은 선수는 어떤 경기에 출장할 수 없나요?</td>\n",
       "      <td>[출장정지 제재를 받은 자는 KBO 정규시즌, 포스트시즌, 퓨처스리그 경기에 출장할...</td>\n",
       "    </tr>\n",
       "    <tr>\n",
       "      <th>19</th>\n",
       "      <td>d6fd53eb-42ee-4835-83eb-72afac55bf51</td>\n",
       "      <td>[[96db994a-b5f5-49c4-8fff-e6668148da3f]]</td>\n",
       "      <td>[[치수를 잴 때는 계\\r\\n측기나 줄자를 글러브의 앞쪽 또는 공을 잡는 쪽에 접촉...</td>\n",
       "      <td>어떻게 치수를 측정해야 하나요?</td>\n",
       "      <td>[계측기나 줄자를 글러브의 앞쪽 또는 공을 잡는 쪽에 접촉시켜야 합니다., 글러브의...</td>\n",
       "    </tr>\n",
       "    <tr>\n",
       "      <th>20</th>\n",
       "      <td>0bcf8d62-9497-4f5a-a4fa-8626b9b5018b</td>\n",
       "      <td>[[4662da6c-ae20-4889-8289-0fd53b00cc76]]</td>\n",
       "      <td>[[쳤다. 땅볼을 받은 \\r\\n1루수는 1루주자를 포스 아웃시키려고 2루에 송구하였...</td>\n",
       "      <td>1루수가 1루주자를 포스 아웃시키려다가 투수와 충돌하여 업스트럭션을 선고받았을 때,...</td>\n",
       "      <td>[심판이 투수의 주루방해를 인정하면 \"업스트럭션\"을 선고하고 볼을 데드로 하며, 이...</td>\n",
       "    </tr>\n",
       "    <tr>\n",
       "      <th>21</th>\n",
       "      <td>edb95b03-e5aa-4ce7-9307-08505e3c377f</td>\n",
       "      <td>[[07090a61-45c2-4280-b2fb-b3e4647f0e88]]</td>\n",
       "      <td>[[고의낙구 하더라도 5.09⒜⑿의 규정에 관계없이 볼 인 플레이며, \\r\\n인필드...</td>\n",
       "      <td>인필드 플라이 동안 수비방해가 선언되면 어떤 상황이 벌어지나요?</td>\n",
       "      <td>[인필드 플라이 동안 수비방해가 선언되면 타구가 페어 / 파울로 결정될 때까지는 인...</td>\n",
       "    </tr>\n",
       "    <tr>\n",
       "      <th>22</th>\n",
       "      <td>9e337798-8cb6-4e56-8ebe-a7196abd3888</td>\n",
       "      <td>[[6ebf10d4-1abe-4d0c-b0fb-cc5c0b77eb6d]]</td>\n",
       "      <td>[[시상 \\r\\n투수 부문 - 평균자책점상, 승리상\\r\\n타자 부문 - 타율상, 홈...</td>\n",
       "      <td>어떤 기준에 따라 투수와 타자 부문의 시상이 북부와 남부리그로 나누어지나요?</td>\n",
       "      <td>[야구 시상에서 투수 부문은 평균자책점상과 승리상이 시상되며, 타자 부문은 타율상,...</td>\n",
       "    </tr>\n",
       "    <tr>\n",
       "      <th>23</th>\n",
       "      <td>6a16546d-d5cf-491c-abd7-0df5ff9a5c22</td>\n",
       "      <td>[[3d0914ba-78e8-4572-b4bb-fc6695c94130]]</td>\n",
       "      <td>[[설\\r\\n사 관중이 그 플레이를 방해하더라도 수비방해의 이득을 얻을 수는 없\\r...</td>\n",
       "      <td>선수가 덕아웃 안으로 빠지지 않으려고 안쪽에 있는 선수의 신체에 기대하여 플라이 볼...</td>\n",
       "      <td>[공을 잡으면 정규의 포구가 됩니다., 정규의 포구]</td>\n",
       "    </tr>\n",
       "    <tr>\n",
       "      <th>24</th>\n",
       "      <td>a43cac50-414e-4d66-80ce-3c882dfa1bd9</td>\n",
       "      <td>[[494d83d0-761c-4e71-ae71-de73106e9bda]]</td>\n",
       "      <td>[[플레이 시도 시 슬라이딩\\r\\n주자가 더블 플레이 성립을 방해하기 위한 목적으로...</td>\n",
       "      <td>주자가 더블 플레이 성립을 방해하기 위해 '정당한 슬라이딩'이란 무엇인가요?</td>\n",
       "      <td>[야구에서 주자가 더블 플레이을 방해하기 위한 목적으로 '정당한 슬라이딩'은 베이스...</td>\n",
       "    </tr>\n",
       "    <tr>\n",
       "      <th>25</th>\n",
       "      <td>ccea0081-f8a5-4902-8817-9b7f13c00519</td>\n",
       "      <td>[[b6ec042a-c356-464f-9262-2814db452d28]]</td>\n",
       "      <td>[[용어의 정의 45~51\\r\\n․ 179 ․\\r\\n45. LEAGUE (리그) \\...</td>\n",
       "      <td>어떤 역할을 수행하는 사람이 리그 프레지던트라고 불리나요?</td>\n",
       "      <td>[라인 드라이브(line drive)란 타자가 배트로 가격한 타구가 지면에 닿지 않...</td>\n",
       "    </tr>\n",
       "    <tr>\n",
       "      <th>26</th>\n",
       "      <td>9c92b2f2-a55e-49b9-a01f-252d13a44157</td>\n",
       "      <td>[[b1d90b0a-96b1-48d0-beb2-085eb1fbdce5]]</td>\n",
       "      <td>[[7\\r\\n당해 시즌에 현역선수로 1일 이상 등록한 부상선수에 한해 시즌 \\r\\n...</td>\n",
       "      <td>부상자 명단에 등재된 선수가 동일한 부상을 사유로 연장을 신청할 때 추가 진단서가 ...</td>\n",
       "      <td>[네, 부상자 명단에 등재된 선수가 동일한 부상을 사유로 연장 신청할 경우에는 추가...</td>\n",
       "    </tr>\n",
       "    <tr>\n",
       "      <th>27</th>\n",
       "      <td>a8ac21f5-e17f-4024-ba69-2e0917250594</td>\n",
       "      <td>[[3cbe35ee-eb83-4a14-8e34-b92001b28350]]</td>\n",
       "      <td>[[․ 2 ․\\r\\n2.00 경 기 장\\r\\n2.01 경기장의 설정\\r\\n경기장은 ...</td>\n",
       "      <td>경기장 설정 시 1루부터 3루까지의 거리는 어떻게 측정해야 하나요?</td>\n",
       "      <td>[1루와 3루 사이의 거리는 127피트 3⅜인치(38.795m)입니다., 127피트...</td>\n",
       "    </tr>\n",
       "    <tr>\n",
       "      <th>28</th>\n",
       "      <td>1db0d37d-e280-4275-8ee4-651cb4310df6</td>\n",
       "      <td>[[4398e7fc-2460-40d4-be91-e9af60e17f61]]</td>\n",
       "      <td>[[2루에\\r\\n서 포스 아웃된 뒤 어필에 의해 정위타자가 아웃을 선고받으\\r\\n면...</td>\n",
       "      <td>어필 없이 다음 타자에게 투구한 경우, 부정위타자는 어떻게 처리되나요?</td>\n",
       "      <td>[1루주자의 포스 아웃은 취소됩니다., 취소된다.]</td>\n",
       "    </tr>\n",
       "    <tr>\n",
       "      <th>29</th>\n",
       "      <td>bb2df721-3ed7-4d3f-8651-b02d71b79c15</td>\n",
       "      <td>[[496d5979-5202-4021-98c1-64100fe59a88]]</td>\n",
       "      <td>[[인정하지 않는다. 심판원이 \\r\\n주자가 6.01(j)를 위반했다고 판단한 경우...</td>\n",
       "      <td>투수가 보크를 저지르는 경우에는 어떻게 처리되나요?</td>\n",
       "      <td>[투수가 보크가 되는 경우는 베이스에 주자가 있을 때, 투수판에 중심발을 대고 있는...</td>\n",
       "    </tr>\n",
       "    <tr>\n",
       "      <th>30</th>\n",
       "      <td>48ae161a-3bd7-4de4-8714-28f0c800e702</td>\n",
       "      <td>[[04a6a16a-728d-4e33-9a15-9d751e74f8aa]]</td>\n",
       "      <td>NaN</td>\n",
       "      <td>구단이 보유할 수 있는 선수는 최대 몇 명 인가요?</td>\n",
       "      <td>[한 구단이 보유할 수 있는 선수의 정원은 보류선수를 포함하여 최대 65명으로 하며...</td>\n",
       "    </tr>\n",
       "    <tr>\n",
       "      <th>31</th>\n",
       "      <td>fc685c38-63d5-4b09-bab4-a8e1683a59b1</td>\n",
       "      <td>[[243d2bb6-81e2-45ba-aca3-483f698ad791]]</td>\n",
       "      <td>NaN</td>\n",
       "      <td>송구가 심판 맞고 굴절되면 어떻게 되나요? 아웃인가요?</td>\n",
       "      <td>[송구가 우연히 베이스 코치에게 닿거나, 투구 또는 송구가 심판원에게 닿았더라도 볼...</td>\n",
       "    </tr>\n",
       "    <tr>\n",
       "      <th>32</th>\n",
       "      <td>4befbd36-59f9-4408-a401-74e3a8518538</td>\n",
       "      <td>[[b8464983-dbdc-451e-a4a9-72b146508cb3]]</td>\n",
       "      <td>NaN</td>\n",
       "      <td>포스트시즌 경기 입장료는 구단마다 다르던데, 구단 재량인가요?</td>\n",
       "      <td>[구단 재량이다. KBO 포스트시즌 경기의 입장요금은 별도로 정한다.]</td>\n",
       "    </tr>\n",
       "  </tbody>\n",
       "</table>\n",
       "</div>"
      ]
     },
     "execution_count": 71,
     "metadata": {},
     "output_type": "execute_result"
    }
   ],
   "execution_count": 71
  },
  {
   "metadata": {},
   "cell_type": "markdown",
   "source": "retrieval_gt_contents는 지워줘도 상관 없으니 지워줍니다!",
   "id": "87c6668d58980250"
  },
  {
   "metadata": {
    "ExecuteTime": {
     "end_time": "2025-01-30T05:28:37.655878Z",
     "start_time": "2025-01-30T05:28:37.634622Z"
    }
   },
   "cell_type": "code",
   "source": [
    "qa = qa.drop(columns=[\"retrieval_gt_contents\"])\n",
    "qa"
   ],
   "id": "a018af2b2927d1aa",
   "outputs": [
    {
     "data": {
      "text/plain": [
       "                                     qid  \\\n",
       "0   6d1ec768-e872-44fe-9080-6a4b8828da09   \n",
       "1   f99ba0f3-b2da-4cdb-98fc-380fbb2f5e17   \n",
       "2   f3afe648-ccdd-414b-9dd7-8c054c031bc3   \n",
       "3   50aa50bd-ef0d-47a8-bd18-0b8c7eddd253   \n",
       "4   d6fd53eb-42ee-4835-83eb-72afac55bf51   \n",
       "5   0bcf8d62-9497-4f5a-a4fa-8626b9b5018b   \n",
       "6   edb95b03-e5aa-4ce7-9307-08505e3c377f   \n",
       "7   9e337798-8cb6-4e56-8ebe-a7196abd3888   \n",
       "8   6a16546d-d5cf-491c-abd7-0df5ff9a5c22   \n",
       "9   a43cac50-414e-4d66-80ce-3c882dfa1bd9   \n",
       "10  ccea0081-f8a5-4902-8817-9b7f13c00519   \n",
       "11  9c92b2f2-a55e-49b9-a01f-252d13a44157   \n",
       "12  a8ac21f5-e17f-4024-ba69-2e0917250594   \n",
       "13  1db0d37d-e280-4275-8ee4-651cb4310df6   \n",
       "14  bb2df721-3ed7-4d3f-8651-b02d71b79c15   \n",
       "15  6d1ec768-e872-44fe-9080-6a4b8828da09   \n",
       "16  f99ba0f3-b2da-4cdb-98fc-380fbb2f5e17   \n",
       "17  f3afe648-ccdd-414b-9dd7-8c054c031bc3   \n",
       "18  50aa50bd-ef0d-47a8-bd18-0b8c7eddd253   \n",
       "19  d6fd53eb-42ee-4835-83eb-72afac55bf51   \n",
       "20  0bcf8d62-9497-4f5a-a4fa-8626b9b5018b   \n",
       "21  edb95b03-e5aa-4ce7-9307-08505e3c377f   \n",
       "22  9e337798-8cb6-4e56-8ebe-a7196abd3888   \n",
       "23  6a16546d-d5cf-491c-abd7-0df5ff9a5c22   \n",
       "24  a43cac50-414e-4d66-80ce-3c882dfa1bd9   \n",
       "25  ccea0081-f8a5-4902-8817-9b7f13c00519   \n",
       "26  9c92b2f2-a55e-49b9-a01f-252d13a44157   \n",
       "27  a8ac21f5-e17f-4024-ba69-2e0917250594   \n",
       "28  1db0d37d-e280-4275-8ee4-651cb4310df6   \n",
       "29  bb2df721-3ed7-4d3f-8651-b02d71b79c15   \n",
       "30  48ae161a-3bd7-4de4-8714-28f0c800e702   \n",
       "31  fc685c38-63d5-4b09-bab4-a8e1683a59b1   \n",
       "32  4befbd36-59f9-4408-a401-74e3a8518538   \n",
       "\n",
       "                                retrieval_gt  \\\n",
       "0   [[2ea156c5-99b4-4338-9306-d139abe8b44e]]   \n",
       "1   [[a389cfdf-361a-45b7-bf77-91ab137e8392]]   \n",
       "2   [[2bed192d-9591-405c-a39f-025caee6a7e4]]   \n",
       "3   [[3d329be3-89db-4e3b-bb83-6ac1d6eb23e6]]   \n",
       "4   [[96db994a-b5f5-49c4-8fff-e6668148da3f]]   \n",
       "5   [[4662da6c-ae20-4889-8289-0fd53b00cc76]]   \n",
       "6   [[07090a61-45c2-4280-b2fb-b3e4647f0e88]]   \n",
       "7   [[6ebf10d4-1abe-4d0c-b0fb-cc5c0b77eb6d]]   \n",
       "8   [[3d0914ba-78e8-4572-b4bb-fc6695c94130]]   \n",
       "9   [[494d83d0-761c-4e71-ae71-de73106e9bda]]   \n",
       "10  [[b6ec042a-c356-464f-9262-2814db452d28]]   \n",
       "11  [[b1d90b0a-96b1-48d0-beb2-085eb1fbdce5]]   \n",
       "12  [[3cbe35ee-eb83-4a14-8e34-b92001b28350]]   \n",
       "13  [[4398e7fc-2460-40d4-be91-e9af60e17f61]]   \n",
       "14  [[496d5979-5202-4021-98c1-64100fe59a88]]   \n",
       "15  [[2ea156c5-99b4-4338-9306-d139abe8b44e]]   \n",
       "16  [[a389cfdf-361a-45b7-bf77-91ab137e8392]]   \n",
       "17  [[2bed192d-9591-405c-a39f-025caee6a7e4]]   \n",
       "18  [[3d329be3-89db-4e3b-bb83-6ac1d6eb23e6]]   \n",
       "19  [[96db994a-b5f5-49c4-8fff-e6668148da3f]]   \n",
       "20  [[4662da6c-ae20-4889-8289-0fd53b00cc76]]   \n",
       "21  [[07090a61-45c2-4280-b2fb-b3e4647f0e88]]   \n",
       "22  [[6ebf10d4-1abe-4d0c-b0fb-cc5c0b77eb6d]]   \n",
       "23  [[3d0914ba-78e8-4572-b4bb-fc6695c94130]]   \n",
       "24  [[494d83d0-761c-4e71-ae71-de73106e9bda]]   \n",
       "25  [[b6ec042a-c356-464f-9262-2814db452d28]]   \n",
       "26  [[b1d90b0a-96b1-48d0-beb2-085eb1fbdce5]]   \n",
       "27  [[3cbe35ee-eb83-4a14-8e34-b92001b28350]]   \n",
       "28  [[4398e7fc-2460-40d4-be91-e9af60e17f61]]   \n",
       "29  [[496d5979-5202-4021-98c1-64100fe59a88]]   \n",
       "30  [[04a6a16a-728d-4e33-9a15-9d751e74f8aa]]   \n",
       "31  [[243d2bb6-81e2-45ba-aca3-483f698ad791]]   \n",
       "32  [[b8464983-dbdc-451e-a4a9-72b146508cb3]]   \n",
       "\n",
       "                                                query  \\\n",
       "0                              포스 상태가 해제되는 경우는 무엇입니까?   \n",
       "1   규칙 5.02(c)를 어떻게 모면하거나 회피하려고 시도하는 경우 어떤 벌칙이 부과되나요?   \n",
       "2   KBO 신인 드래프트에서 선수가 외국 프로구단과 계약 협상을 진행한 후에도 KBO ...   \n",
       "3                    출장정지 제재를 받은 자는 어떤 경기에 출장할 수 없나요?   \n",
       "4                     치수를 잴 때 어디에 계측기나 줄자를 접촉시켜야 하나요?   \n",
       "5   1루수가 1루주자를 포스 아웃시키려고 2루에 송구했을 때, 심판이 투수의 주루방해를...   \n",
       "6   인필드 플라이 동안 수비방해가 선언되면 타구가 페어 / 파울로 결정될 때까지는 어떤...   \n",
       "7      야구 시상에서 투수 부문과 타자 부문으로 나누어 시상하는데, 어떤 상이 시상되는가?   \n",
       "8   야구에서 덕아웃 부근에서 플라이 볼을 잡으려는 야수가 덕아웃 안으로 빠지지 않으려고...   \n",
       "9   야구에서 주자가 더블 플레이을 방해하기 위한 목적으로 '정당한 슬라이딩'이란 무엇입니까?   \n",
       "10                    라인 드라이브(line drive)란 무엇을 의미합니까?   \n",
       "11  부상자 명단에 등재된 선수가 동일한 부상을 사유로 연장 신청할 경우 추가 진단서 없...   \n",
       "12                야구 경기장을 설정할 때 1루와 3루 사이의 거리는 얼마인가요?   \n",
       "13    정위타자가 아웃을 선고받은 후 어필이 있을 때 1루주자의 포스 아웃은 어떻게 되는가?   \n",
       "14                              투수가 보크가 되는 경우는 무엇입니까?   \n",
       "15  포스 플레이가 아닌 태그 플레이에서 주자가 제3아웃 되기 전에 본루에 들어간 주자의...   \n",
       "16             규칙 5.02(c)를 회피하려는 행위에 대해 어떤 벌칙이 부과되나요?   \n",
       "17  어떤 경우에 신인 드래프트 참가 신청서를 제출했지만, 지명된 후 외국 프로구단과 계...   \n",
       "18                  출장정지 제재를 받은 선수는 어떤 경기에 출장할 수 없나요?   \n",
       "19                                  어떻게 치수를 측정해야 하나요?   \n",
       "20  1루수가 1루주자를 포스 아웃시키려다가 투수와 충돌하여 업스트럭션을 선고받았을 때,...   \n",
       "21                인필드 플라이 동안 수비방해가 선언되면 어떤 상황이 벌어지나요?   \n",
       "22         어떤 기준에 따라 투수와 타자 부문의 시상이 북부와 남부리그로 나누어지나요?   \n",
       "23  선수가 덕아웃 안으로 빠지지 않으려고 안쪽에 있는 선수의 신체에 기대하여 플라이 볼...   \n",
       "24         주자가 더블 플레이 성립을 방해하기 위해 '정당한 슬라이딩'이란 무엇인가요?   \n",
       "25                   어떤 역할을 수행하는 사람이 리그 프레지던트라고 불리나요?   \n",
       "26  부상자 명단에 등재된 선수가 동일한 부상을 사유로 연장을 신청할 때 추가 진단서가 ...   \n",
       "27              경기장 설정 시 1루부터 3루까지의 거리는 어떻게 측정해야 하나요?   \n",
       "28            어필 없이 다음 타자에게 투구한 경우, 부정위타자는 어떻게 처리되나요?   \n",
       "29                       투수가 보크를 저지르는 경우에는 어떻게 처리되나요?   \n",
       "30                       구단이 보유할 수 있는 선수는 최대 몇 명 인가요?   \n",
       "31                     송구가 심판 맞고 굴절되면 어떻게 되나요? 아웃인가요?   \n",
       "32                 포스트시즌 경기 입장료는 구단마다 다르던데, 구단 재량인가요?   \n",
       "\n",
       "                                        generation_gt  \n",
       "0   [포스 상태가 해제되는 경우는 태그 플레이가 발생할 때입니다., 타자가 주자가 됨에...  \n",
       "1   [규칙 5.02(c)를 모면하거나 회피하려고 시도하는 경우, 수비팀이 해당 규칙을 ...  \n",
       "2   [KBO 신인 드래프트에서 선수가 외국 프로구단과 계약 협상을 진행한 후에도 KBO...  \n",
       "3   [출장정지 제재를 받은 자는 KBO 정규시즌, 포스트시즌, 퓨처스리그 경기에 출장할...  \n",
       "4   [계측기나 줄자를 글러브의 앞쪽 또는 공을 잡는 쪽에 접촉시켜야 합니다., 글러브의...  \n",
       "5   [심판이 투수의 주루방해를 인정하면 \"업스트럭션\"을 선고하고 볼을 데드로 하며, 이...  \n",
       "6   [인필드 플라이 동안 수비방해가 선언되면 타구가 페어 / 파울로 결정될 때까지는 인...  \n",
       "7   [야구 시상에서 투수 부문은 평균자책점상과 승리상이 시상되며, 타자 부문은 타율상,...  \n",
       "8                       [공을 잡으면 정규의 포구가 됩니다., 정규의 포구]  \n",
       "9   [야구에서 주자가 더블 플레이을 방해하기 위한 목적으로 '정당한 슬라이딩'은 베이스...  \n",
       "10  [라인 드라이브(line drive)란 타자가 배트로 가격한 타구가 지면에 닿지 않...  \n",
       "11  [네, 부상자 명단에 등재된 선수가 동일한 부상을 사유로 연장 신청할 경우에는 추가...  \n",
       "12  [1루와 3루 사이의 거리는 127피트 3⅜인치(38.795m)입니다., 127피트...  \n",
       "13                       [1루주자의 포스 아웃은 취소됩니다., 취소된다.]  \n",
       "14  [투수가 보크가 되는 경우는 베이스에 주자가 있을 때, 투수판에 중심발을 대고 있는...  \n",
       "15  [포스 상태가 해제되는 경우는 태그 플레이가 발생할 때입니다., 타자가 주자가 됨에...  \n",
       "16  [규칙 5.02(c)를 모면하거나 회피하려고 시도하는 경우, 수비팀이 해당 규칙을 ...  \n",
       "17  [KBO 신인 드래프트에서 선수가 외국 프로구단과 계약 협상을 진행한 후에도 KBO...  \n",
       "18  [출장정지 제재를 받은 자는 KBO 정규시즌, 포스트시즌, 퓨처스리그 경기에 출장할...  \n",
       "19  [계측기나 줄자를 글러브의 앞쪽 또는 공을 잡는 쪽에 접촉시켜야 합니다., 글러브의...  \n",
       "20  [심판이 투수의 주루방해를 인정하면 \"업스트럭션\"을 선고하고 볼을 데드로 하며, 이...  \n",
       "21  [인필드 플라이 동안 수비방해가 선언되면 타구가 페어 / 파울로 결정될 때까지는 인...  \n",
       "22  [야구 시상에서 투수 부문은 평균자책점상과 승리상이 시상되며, 타자 부문은 타율상,...  \n",
       "23                      [공을 잡으면 정규의 포구가 됩니다., 정규의 포구]  \n",
       "24  [야구에서 주자가 더블 플레이을 방해하기 위한 목적으로 '정당한 슬라이딩'은 베이스...  \n",
       "25  [라인 드라이브(line drive)란 타자가 배트로 가격한 타구가 지면에 닿지 않...  \n",
       "26  [네, 부상자 명단에 등재된 선수가 동일한 부상을 사유로 연장 신청할 경우에는 추가...  \n",
       "27  [1루와 3루 사이의 거리는 127피트 3⅜인치(38.795m)입니다., 127피트...  \n",
       "28                       [1루주자의 포스 아웃은 취소됩니다., 취소된다.]  \n",
       "29  [투수가 보크가 되는 경우는 베이스에 주자가 있을 때, 투수판에 중심발을 대고 있는...  \n",
       "30  [한 구단이 보유할 수 있는 선수의 정원은 보류선수를 포함하여 최대 65명으로 하며...  \n",
       "31  [송구가 우연히 베이스 코치에게 닿거나, 투구 또는 송구가 심판원에게 닿았더라도 볼...  \n",
       "32            [구단 재량이다. KBO 포스트시즌 경기의 입장요금은 별도로 정한다.]  "
      ],
      "text/html": [
       "<div>\n",
       "<style scoped>\n",
       "    .dataframe tbody tr th:only-of-type {\n",
       "        vertical-align: middle;\n",
       "    }\n",
       "\n",
       "    .dataframe tbody tr th {\n",
       "        vertical-align: top;\n",
       "    }\n",
       "\n",
       "    .dataframe thead th {\n",
       "        text-align: right;\n",
       "    }\n",
       "</style>\n",
       "<table border=\"1\" class=\"dataframe\">\n",
       "  <thead>\n",
       "    <tr style=\"text-align: right;\">\n",
       "      <th></th>\n",
       "      <th>qid</th>\n",
       "      <th>retrieval_gt</th>\n",
       "      <th>query</th>\n",
       "      <th>generation_gt</th>\n",
       "    </tr>\n",
       "  </thead>\n",
       "  <tbody>\n",
       "    <tr>\n",
       "      <th>0</th>\n",
       "      <td>6d1ec768-e872-44fe-9080-6a4b8828da09</td>\n",
       "      <td>[[2ea156c5-99b4-4338-9306-d139abe8b44e]]</td>\n",
       "      <td>포스 상태가 해제되는 경우는 무엇입니까?</td>\n",
       "      <td>[포스 상태가 해제되는 경우는 태그 플레이가 발생할 때입니다., 타자가 주자가 됨에...</td>\n",
       "    </tr>\n",
       "    <tr>\n",
       "      <th>1</th>\n",
       "      <td>f99ba0f3-b2da-4cdb-98fc-380fbb2f5e17</td>\n",
       "      <td>[[a389cfdf-361a-45b7-bf77-91ab137e8392]]</td>\n",
       "      <td>규칙 5.02(c)를 어떻게 모면하거나 회피하려고 시도하는 경우 어떤 벌칙이 부과되나요?</td>\n",
       "      <td>[규칙 5.02(c)를 모면하거나 회피하려고 시도하는 경우, 수비팀이 해당 규칙을 ...</td>\n",
       "    </tr>\n",
       "    <tr>\n",
       "      <th>2</th>\n",
       "      <td>f3afe648-ccdd-414b-9dd7-8c054c031bc3</td>\n",
       "      <td>[[2bed192d-9591-405c-a39f-025caee6a7e4]]</td>\n",
       "      <td>KBO 신인 드래프트에서 선수가 외국 프로구단과 계약 협상을 진행한 후에도 KBO ...</td>\n",
       "      <td>[KBO 신인 드래프트에서 선수가 외국 프로구단과 계약 협상을 진행한 후에도 KBO...</td>\n",
       "    </tr>\n",
       "    <tr>\n",
       "      <th>3</th>\n",
       "      <td>50aa50bd-ef0d-47a8-bd18-0b8c7eddd253</td>\n",
       "      <td>[[3d329be3-89db-4e3b-bb83-6ac1d6eb23e6]]</td>\n",
       "      <td>출장정지 제재를 받은 자는 어떤 경기에 출장할 수 없나요?</td>\n",
       "      <td>[출장정지 제재를 받은 자는 KBO 정규시즌, 포스트시즌, 퓨처스리그 경기에 출장할...</td>\n",
       "    </tr>\n",
       "    <tr>\n",
       "      <th>4</th>\n",
       "      <td>d6fd53eb-42ee-4835-83eb-72afac55bf51</td>\n",
       "      <td>[[96db994a-b5f5-49c4-8fff-e6668148da3f]]</td>\n",
       "      <td>치수를 잴 때 어디에 계측기나 줄자를 접촉시켜야 하나요?</td>\n",
       "      <td>[계측기나 줄자를 글러브의 앞쪽 또는 공을 잡는 쪽에 접촉시켜야 합니다., 글러브의...</td>\n",
       "    </tr>\n",
       "    <tr>\n",
       "      <th>5</th>\n",
       "      <td>0bcf8d62-9497-4f5a-a4fa-8626b9b5018b</td>\n",
       "      <td>[[4662da6c-ae20-4889-8289-0fd53b00cc76]]</td>\n",
       "      <td>1루수가 1루주자를 포스 아웃시키려고 2루에 송구했을 때, 심판이 투수의 주루방해를...</td>\n",
       "      <td>[심판이 투수의 주루방해를 인정하면 \"업스트럭션\"을 선고하고 볼을 데드로 하며, 이...</td>\n",
       "    </tr>\n",
       "    <tr>\n",
       "      <th>6</th>\n",
       "      <td>edb95b03-e5aa-4ce7-9307-08505e3c377f</td>\n",
       "      <td>[[07090a61-45c2-4280-b2fb-b3e4647f0e88]]</td>\n",
       "      <td>인필드 플라이 동안 수비방해가 선언되면 타구가 페어 / 파울로 결정될 때까지는 어떤...</td>\n",
       "      <td>[인필드 플라이 동안 수비방해가 선언되면 타구가 페어 / 파울로 결정될 때까지는 인...</td>\n",
       "    </tr>\n",
       "    <tr>\n",
       "      <th>7</th>\n",
       "      <td>9e337798-8cb6-4e56-8ebe-a7196abd3888</td>\n",
       "      <td>[[6ebf10d4-1abe-4d0c-b0fb-cc5c0b77eb6d]]</td>\n",
       "      <td>야구 시상에서 투수 부문과 타자 부문으로 나누어 시상하는데, 어떤 상이 시상되는가?</td>\n",
       "      <td>[야구 시상에서 투수 부문은 평균자책점상과 승리상이 시상되며, 타자 부문은 타율상,...</td>\n",
       "    </tr>\n",
       "    <tr>\n",
       "      <th>8</th>\n",
       "      <td>6a16546d-d5cf-491c-abd7-0df5ff9a5c22</td>\n",
       "      <td>[[3d0914ba-78e8-4572-b4bb-fc6695c94130]]</td>\n",
       "      <td>야구에서 덕아웃 부근에서 플라이 볼을 잡으려는 야수가 덕아웃 안으로 빠지지 않으려고...</td>\n",
       "      <td>[공을 잡으면 정규의 포구가 됩니다., 정규의 포구]</td>\n",
       "    </tr>\n",
       "    <tr>\n",
       "      <th>9</th>\n",
       "      <td>a43cac50-414e-4d66-80ce-3c882dfa1bd9</td>\n",
       "      <td>[[494d83d0-761c-4e71-ae71-de73106e9bda]]</td>\n",
       "      <td>야구에서 주자가 더블 플레이을 방해하기 위한 목적으로 '정당한 슬라이딩'이란 무엇입니까?</td>\n",
       "      <td>[야구에서 주자가 더블 플레이을 방해하기 위한 목적으로 '정당한 슬라이딩'은 베이스...</td>\n",
       "    </tr>\n",
       "    <tr>\n",
       "      <th>10</th>\n",
       "      <td>ccea0081-f8a5-4902-8817-9b7f13c00519</td>\n",
       "      <td>[[b6ec042a-c356-464f-9262-2814db452d28]]</td>\n",
       "      <td>라인 드라이브(line drive)란 무엇을 의미합니까?</td>\n",
       "      <td>[라인 드라이브(line drive)란 타자가 배트로 가격한 타구가 지면에 닿지 않...</td>\n",
       "    </tr>\n",
       "    <tr>\n",
       "      <th>11</th>\n",
       "      <td>9c92b2f2-a55e-49b9-a01f-252d13a44157</td>\n",
       "      <td>[[b1d90b0a-96b1-48d0-beb2-085eb1fbdce5]]</td>\n",
       "      <td>부상자 명단에 등재된 선수가 동일한 부상을 사유로 연장 신청할 경우 추가 진단서 없...</td>\n",
       "      <td>[네, 부상자 명단에 등재된 선수가 동일한 부상을 사유로 연장 신청할 경우에는 추가...</td>\n",
       "    </tr>\n",
       "    <tr>\n",
       "      <th>12</th>\n",
       "      <td>a8ac21f5-e17f-4024-ba69-2e0917250594</td>\n",
       "      <td>[[3cbe35ee-eb83-4a14-8e34-b92001b28350]]</td>\n",
       "      <td>야구 경기장을 설정할 때 1루와 3루 사이의 거리는 얼마인가요?</td>\n",
       "      <td>[1루와 3루 사이의 거리는 127피트 3⅜인치(38.795m)입니다., 127피트...</td>\n",
       "    </tr>\n",
       "    <tr>\n",
       "      <th>13</th>\n",
       "      <td>1db0d37d-e280-4275-8ee4-651cb4310df6</td>\n",
       "      <td>[[4398e7fc-2460-40d4-be91-e9af60e17f61]]</td>\n",
       "      <td>정위타자가 아웃을 선고받은 후 어필이 있을 때 1루주자의 포스 아웃은 어떻게 되는가?</td>\n",
       "      <td>[1루주자의 포스 아웃은 취소됩니다., 취소된다.]</td>\n",
       "    </tr>\n",
       "    <tr>\n",
       "      <th>14</th>\n",
       "      <td>bb2df721-3ed7-4d3f-8651-b02d71b79c15</td>\n",
       "      <td>[[496d5979-5202-4021-98c1-64100fe59a88]]</td>\n",
       "      <td>투수가 보크가 되는 경우는 무엇입니까?</td>\n",
       "      <td>[투수가 보크가 되는 경우는 베이스에 주자가 있을 때, 투수판에 중심발을 대고 있는...</td>\n",
       "    </tr>\n",
       "    <tr>\n",
       "      <th>15</th>\n",
       "      <td>6d1ec768-e872-44fe-9080-6a4b8828da09</td>\n",
       "      <td>[[2ea156c5-99b4-4338-9306-d139abe8b44e]]</td>\n",
       "      <td>포스 플레이가 아닌 태그 플레이에서 주자가 제3아웃 되기 전에 본루에 들어간 주자의...</td>\n",
       "      <td>[포스 상태가 해제되는 경우는 태그 플레이가 발생할 때입니다., 타자가 주자가 됨에...</td>\n",
       "    </tr>\n",
       "    <tr>\n",
       "      <th>16</th>\n",
       "      <td>f99ba0f3-b2da-4cdb-98fc-380fbb2f5e17</td>\n",
       "      <td>[[a389cfdf-361a-45b7-bf77-91ab137e8392]]</td>\n",
       "      <td>규칙 5.02(c)를 회피하려는 행위에 대해 어떤 벌칙이 부과되나요?</td>\n",
       "      <td>[규칙 5.02(c)를 모면하거나 회피하려고 시도하는 경우, 수비팀이 해당 규칙을 ...</td>\n",
       "    </tr>\n",
       "    <tr>\n",
       "      <th>17</th>\n",
       "      <td>f3afe648-ccdd-414b-9dd7-8c054c031bc3</td>\n",
       "      <td>[[2bed192d-9591-405c-a39f-025caee6a7e4]]</td>\n",
       "      <td>어떤 경우에 신인 드래프트 참가 신청서를 제출했지만, 지명된 후 외국 프로구단과 계...</td>\n",
       "      <td>[KBO 신인 드래프트에서 선수가 외국 프로구단과 계약 협상을 진행한 후에도 KBO...</td>\n",
       "    </tr>\n",
       "    <tr>\n",
       "      <th>18</th>\n",
       "      <td>50aa50bd-ef0d-47a8-bd18-0b8c7eddd253</td>\n",
       "      <td>[[3d329be3-89db-4e3b-bb83-6ac1d6eb23e6]]</td>\n",
       "      <td>출장정지 제재를 받은 선수는 어떤 경기에 출장할 수 없나요?</td>\n",
       "      <td>[출장정지 제재를 받은 자는 KBO 정규시즌, 포스트시즌, 퓨처스리그 경기에 출장할...</td>\n",
       "    </tr>\n",
       "    <tr>\n",
       "      <th>19</th>\n",
       "      <td>d6fd53eb-42ee-4835-83eb-72afac55bf51</td>\n",
       "      <td>[[96db994a-b5f5-49c4-8fff-e6668148da3f]]</td>\n",
       "      <td>어떻게 치수를 측정해야 하나요?</td>\n",
       "      <td>[계측기나 줄자를 글러브의 앞쪽 또는 공을 잡는 쪽에 접촉시켜야 합니다., 글러브의...</td>\n",
       "    </tr>\n",
       "    <tr>\n",
       "      <th>20</th>\n",
       "      <td>0bcf8d62-9497-4f5a-a4fa-8626b9b5018b</td>\n",
       "      <td>[[4662da6c-ae20-4889-8289-0fd53b00cc76]]</td>\n",
       "      <td>1루수가 1루주자를 포스 아웃시키려다가 투수와 충돌하여 업스트럭션을 선고받았을 때,...</td>\n",
       "      <td>[심판이 투수의 주루방해를 인정하면 \"업스트럭션\"을 선고하고 볼을 데드로 하며, 이...</td>\n",
       "    </tr>\n",
       "    <tr>\n",
       "      <th>21</th>\n",
       "      <td>edb95b03-e5aa-4ce7-9307-08505e3c377f</td>\n",
       "      <td>[[07090a61-45c2-4280-b2fb-b3e4647f0e88]]</td>\n",
       "      <td>인필드 플라이 동안 수비방해가 선언되면 어떤 상황이 벌어지나요?</td>\n",
       "      <td>[인필드 플라이 동안 수비방해가 선언되면 타구가 페어 / 파울로 결정될 때까지는 인...</td>\n",
       "    </tr>\n",
       "    <tr>\n",
       "      <th>22</th>\n",
       "      <td>9e337798-8cb6-4e56-8ebe-a7196abd3888</td>\n",
       "      <td>[[6ebf10d4-1abe-4d0c-b0fb-cc5c0b77eb6d]]</td>\n",
       "      <td>어떤 기준에 따라 투수와 타자 부문의 시상이 북부와 남부리그로 나누어지나요?</td>\n",
       "      <td>[야구 시상에서 투수 부문은 평균자책점상과 승리상이 시상되며, 타자 부문은 타율상,...</td>\n",
       "    </tr>\n",
       "    <tr>\n",
       "      <th>23</th>\n",
       "      <td>6a16546d-d5cf-491c-abd7-0df5ff9a5c22</td>\n",
       "      <td>[[3d0914ba-78e8-4572-b4bb-fc6695c94130]]</td>\n",
       "      <td>선수가 덕아웃 안으로 빠지지 않으려고 안쪽에 있는 선수의 신체에 기대하여 플라이 볼...</td>\n",
       "      <td>[공을 잡으면 정규의 포구가 됩니다., 정규의 포구]</td>\n",
       "    </tr>\n",
       "    <tr>\n",
       "      <th>24</th>\n",
       "      <td>a43cac50-414e-4d66-80ce-3c882dfa1bd9</td>\n",
       "      <td>[[494d83d0-761c-4e71-ae71-de73106e9bda]]</td>\n",
       "      <td>주자가 더블 플레이 성립을 방해하기 위해 '정당한 슬라이딩'이란 무엇인가요?</td>\n",
       "      <td>[야구에서 주자가 더블 플레이을 방해하기 위한 목적으로 '정당한 슬라이딩'은 베이스...</td>\n",
       "    </tr>\n",
       "    <tr>\n",
       "      <th>25</th>\n",
       "      <td>ccea0081-f8a5-4902-8817-9b7f13c00519</td>\n",
       "      <td>[[b6ec042a-c356-464f-9262-2814db452d28]]</td>\n",
       "      <td>어떤 역할을 수행하는 사람이 리그 프레지던트라고 불리나요?</td>\n",
       "      <td>[라인 드라이브(line drive)란 타자가 배트로 가격한 타구가 지면에 닿지 않...</td>\n",
       "    </tr>\n",
       "    <tr>\n",
       "      <th>26</th>\n",
       "      <td>9c92b2f2-a55e-49b9-a01f-252d13a44157</td>\n",
       "      <td>[[b1d90b0a-96b1-48d0-beb2-085eb1fbdce5]]</td>\n",
       "      <td>부상자 명단에 등재된 선수가 동일한 부상을 사유로 연장을 신청할 때 추가 진단서가 ...</td>\n",
       "      <td>[네, 부상자 명단에 등재된 선수가 동일한 부상을 사유로 연장 신청할 경우에는 추가...</td>\n",
       "    </tr>\n",
       "    <tr>\n",
       "      <th>27</th>\n",
       "      <td>a8ac21f5-e17f-4024-ba69-2e0917250594</td>\n",
       "      <td>[[3cbe35ee-eb83-4a14-8e34-b92001b28350]]</td>\n",
       "      <td>경기장 설정 시 1루부터 3루까지의 거리는 어떻게 측정해야 하나요?</td>\n",
       "      <td>[1루와 3루 사이의 거리는 127피트 3⅜인치(38.795m)입니다., 127피트...</td>\n",
       "    </tr>\n",
       "    <tr>\n",
       "      <th>28</th>\n",
       "      <td>1db0d37d-e280-4275-8ee4-651cb4310df6</td>\n",
       "      <td>[[4398e7fc-2460-40d4-be91-e9af60e17f61]]</td>\n",
       "      <td>어필 없이 다음 타자에게 투구한 경우, 부정위타자는 어떻게 처리되나요?</td>\n",
       "      <td>[1루주자의 포스 아웃은 취소됩니다., 취소된다.]</td>\n",
       "    </tr>\n",
       "    <tr>\n",
       "      <th>29</th>\n",
       "      <td>bb2df721-3ed7-4d3f-8651-b02d71b79c15</td>\n",
       "      <td>[[496d5979-5202-4021-98c1-64100fe59a88]]</td>\n",
       "      <td>투수가 보크를 저지르는 경우에는 어떻게 처리되나요?</td>\n",
       "      <td>[투수가 보크가 되는 경우는 베이스에 주자가 있을 때, 투수판에 중심발을 대고 있는...</td>\n",
       "    </tr>\n",
       "    <tr>\n",
       "      <th>30</th>\n",
       "      <td>48ae161a-3bd7-4de4-8714-28f0c800e702</td>\n",
       "      <td>[[04a6a16a-728d-4e33-9a15-9d751e74f8aa]]</td>\n",
       "      <td>구단이 보유할 수 있는 선수는 최대 몇 명 인가요?</td>\n",
       "      <td>[한 구단이 보유할 수 있는 선수의 정원은 보류선수를 포함하여 최대 65명으로 하며...</td>\n",
       "    </tr>\n",
       "    <tr>\n",
       "      <th>31</th>\n",
       "      <td>fc685c38-63d5-4b09-bab4-a8e1683a59b1</td>\n",
       "      <td>[[243d2bb6-81e2-45ba-aca3-483f698ad791]]</td>\n",
       "      <td>송구가 심판 맞고 굴절되면 어떻게 되나요? 아웃인가요?</td>\n",
       "      <td>[송구가 우연히 베이스 코치에게 닿거나, 투구 또는 송구가 심판원에게 닿았더라도 볼...</td>\n",
       "    </tr>\n",
       "    <tr>\n",
       "      <th>32</th>\n",
       "      <td>4befbd36-59f9-4408-a401-74e3a8518538</td>\n",
       "      <td>[[b8464983-dbdc-451e-a4a9-72b146508cb3]]</td>\n",
       "      <td>포스트시즌 경기 입장료는 구단마다 다르던데, 구단 재량인가요?</td>\n",
       "      <td>[구단 재량이다. KBO 포스트시즌 경기의 입장요금은 별도로 정한다.]</td>\n",
       "    </tr>\n",
       "  </tbody>\n",
       "</table>\n",
       "</div>"
      ]
     },
     "execution_count": 72,
     "metadata": {},
     "output_type": "execute_result"
    }
   ],
   "execution_count": 72
  },
  {
   "metadata": {
    "ExecuteTime": {
     "end_time": "2025-01-30T05:29:26.466609Z",
     "start_time": "2025-01-30T05:29:26.462079Z"
    }
   },
   "cell_type": "code",
   "source": [
    "qa_path = os.path.join(root_dir, 'autorag_project', 'final', 'qa', 'qa.parquet')\n",
    "qa.to_parquet(qa_path)"
   ],
   "id": "e7553988094046b2",
   "outputs": [],
   "execution_count": 73
  },
  {
   "metadata": {},
   "cell_type": "code",
   "outputs": [],
   "execution_count": null,
   "source": "",
   "id": "2c9e2477f26eb0db"
  }
 ],
 "metadata": {
  "kernelspec": {
   "display_name": "Python 3",
   "language": "python",
   "name": "python3"
  },
  "language_info": {
   "codemirror_mode": {
    "name": "ipython",
    "version": 2
   },
   "file_extension": ".py",
   "mimetype": "text/x-python",
   "name": "python",
   "nbconvert_exporter": "python",
   "pygments_lexer": "ipython2",
   "version": "2.7.6"
  }
 },
 "nbformat": 4,
 "nbformat_minor": 5
}
