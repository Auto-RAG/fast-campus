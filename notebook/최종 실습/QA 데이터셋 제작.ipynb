{
 "cells": [
  {
   "metadata": {
    "ExecuteTime": {
     "end_time": "2025-01-28T11:09:25.697880Z",
     "start_time": "2025-01-28T11:09:25.314571Z"
    }
   },
   "cell_type": "code",
   "source": "import pandas as pd",
   "id": "587c86a47c4a444d",
   "outputs": [],
   "execution_count": 3
  },
  {
   "metadata": {
    "ExecuteTime": {
     "end_time": "2025-01-28T11:09:25.703947Z",
     "start_time": "2025-01-28T11:09:25.701184Z"
    }
   },
   "cell_type": "code",
   "source": [
    "import nest_asyncio\n",
    "\n",
    "nest_asyncio.apply()"
   ],
   "id": "788da9d1b297212f",
   "outputs": [],
   "execution_count": 4
  },
  {
   "metadata": {
    "ExecuteTime": {
     "end_time": "2025-01-28T11:10:28.237524Z",
     "start_time": "2025-01-28T11:10:28.234704Z"
    }
   },
   "cell_type": "code",
   "source": [
    "import os\n",
    "import pathlib\n",
    "\n",
    "root_dir = pathlib.PurePath(os.path.dirname(os.getcwd())).parent\n",
    "data_dir = os.path.join(root_dir, 'data')"
   ],
   "id": "cb647d3cb7d7d614",
   "outputs": [],
   "execution_count": 7
  },
  {
   "metadata": {},
   "cell_type": "markdown",
   "source": [
    "# 1. LLM 기반 질의 생성\n",
    "\n",
    "이번 실습에서는 총 30개의 QA 데이터 셋을 만들어보겠습니다.\n",
    "\n",
    "먼저 LLM 기반 질의 생성을 통해 15개의 QA 데이터 셋을 만들어보겠습니다.\n",
    "\n",
    "15 + 10 + 5 = 30"
   ],
   "id": "372366185dc0770b"
  },
  {
   "metadata": {
    "ExecuteTime": {
     "end_time": "2025-01-28T11:03:09.992318Z",
     "start_time": "2025-01-28T11:03:09.990347Z"
    }
   },
   "cell_type": "code",
   "source": "",
   "id": "27a6179c2016df53",
   "outputs": [],
   "execution_count": null
  },
  {
   "metadata": {},
   "cell_type": "markdown",
   "source": [
    "# 2. Human in the Loop 실습\n",
    "\n",
    "10개의 QA 데이터 셋을 만들어보겠습니다."
   ],
   "id": "756d92467ba21216"
  },
  {
   "metadata": {},
   "cell_type": "code",
   "outputs": [],
   "execution_count": null,
   "source": "",
   "id": "6bec29e3baae4203"
  },
  {
   "metadata": {},
   "cell_type": "markdown",
   "source": [
    "# 3. 이미 FaQ가 있는 경우\n",
    "5개의 FaQ를 이용해서 만들어보겠습니다 !\n",
    "\n",
    "qid, query, generation_gt, retrieval_gt를 만들어서 넣어줘야 합니다\n",
    "\n",
    "FaQ가 있으니, query와 generation_gt는 이미 있습니다.\n",
    "qid와 retrieval_gt는 직접 만들어주셔야 합니다."
   ],
   "id": "4386a6b9c80d152"
  },
  {
   "metadata": {
    "ExecuteTime": {
     "end_time": "2025-01-28T11:17:01.897509Z",
     "start_time": "2025-01-28T11:17:01.895284Z"
    }
   },
   "cell_type": "code",
   "source": [
    "question = [\n",
    "    \"\",\n",
    "    \"\",\n",
    "    \"\",\n",
    "    \"\",\n",
    "    \"\",\n",
    "]"
   ],
   "id": "e5c996ae365d0628",
   "outputs": [],
   "execution_count": 18
  },
  {
   "metadata": {
    "ExecuteTime": {
     "end_time": "2025-01-28T11:19:36.283231Z",
     "start_time": "2025-01-28T11:19:36.280074Z"
    }
   },
   "cell_type": "code",
   "source": [
    "answer = [\n",
    "    \"a\",\n",
    "    \"b\",\n",
    "    \"c\",\n",
    "    \"d\",\n",
    "    \"e\",\n",
    "]"
   ],
   "id": "1f44428fa18a250b",
   "outputs": [],
   "execution_count": 23
  },
  {
   "metadata": {
    "ExecuteTime": {
     "end_time": "2025-01-28T11:19:36.960542Z",
     "start_time": "2025-01-28T11:19:36.957471Z"
    }
   },
   "cell_type": "code",
   "source": [
    "from uuid import uuid4\n",
    "\n",
    "qid = [str(uuid4()) for _ in range(len(question))]"
   ],
   "id": "65eff428e050c18d",
   "outputs": [],
   "execution_count": 24
  },
  {
   "metadata": {
    "ExecuteTime": {
     "end_time": "2025-01-28T11:19:37.401245Z",
     "start_time": "2025-01-28T11:19:37.398581Z"
    }
   },
   "cell_type": "code",
   "source": "generation_gt = [[a] for a in answer]",
   "id": "76e4cba11cedbb7c",
   "outputs": [],
   "execution_count": 25
  },
  {
   "metadata": {
    "ExecuteTime": {
     "end_time": "2025-01-28T11:19:39.222871Z",
     "start_time": "2025-01-28T11:19:39.217946Z"
    }
   },
   "cell_type": "code",
   "source": "generation_gt",
   "id": "2d496cc933d10869",
   "outputs": [
    {
     "data": {
      "text/plain": [
       "[['a'], ['b'], ['c'], ['d'], ['e']]"
      ]
     },
     "execution_count": 26,
     "metadata": {},
     "output_type": "execute_result"
    }
   ],
   "execution_count": 26
  },
  {
   "metadata": {},
   "cell_type": "markdown",
   "source": [
    "이제 retrieval_gt 만 남았습니다\n",
    "\n",
    "retrieval_gt를 직접 만드는 방법에는 크게 3가지가 있습니다.\n",
    "\n",
    "1. 직접 찾기\n",
    "2. 검색 시스템을 만들어 조금 쉽게 찾아보기\n",
    "\n",
    "하는 김에 2가지 방법을 모두 사용해보겠습니다."
   ],
   "id": "3e845158dfa5f9aa"
  },
  {
   "metadata": {},
   "cell_type": "code",
   "outputs": [],
   "execution_count": null,
   "source": "",
   "id": "e32cfae0ea1aa249"
  }
 ],
 "metadata": {
  "kernelspec": {
   "display_name": "Python 3",
   "language": "python",
   "name": "python3"
  },
  "language_info": {
   "codemirror_mode": {
    "name": "ipython",
    "version": 2
   },
   "file_extension": ".py",
   "mimetype": "text/x-python",
   "name": "python",
   "nbconvert_exporter": "python",
   "pygments_lexer": "ipython2",
   "version": "2.7.6"
  }
 },
 "nbformat": 4,
 "nbformat_minor": 5
}
