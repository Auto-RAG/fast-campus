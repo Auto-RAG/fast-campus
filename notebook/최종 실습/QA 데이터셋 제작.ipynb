{
 "cells": [
  {
   "metadata": {
    "ExecuteTime": {
     "end_time": "2025-01-28T11:09:25.697880Z",
     "start_time": "2025-01-28T11:09:25.314571Z"
    }
   },
   "cell_type": "code",
   "source": [
    "import pandas as pd\n",
    "from sqlalchemy.testing.suite.test_reflection import metadata"
   ],
   "id": "587c86a47c4a444d",
   "outputs": [],
   "execution_count": 3
  },
  {
   "metadata": {
    "ExecuteTime": {
     "end_time": "2025-01-28T11:09:25.703947Z",
     "start_time": "2025-01-28T11:09:25.701184Z"
    }
   },
   "cell_type": "code",
   "source": [
    "import nest_asyncio\n",
    "\n",
    "nest_asyncio.apply()"
   ],
   "id": "788da9d1b297212f",
   "outputs": [],
   "execution_count": 4
  },
  {
   "metadata": {
    "ExecuteTime": {
     "end_time": "2025-01-28T11:10:28.237524Z",
     "start_time": "2025-01-28T11:10:28.234704Z"
    }
   },
   "cell_type": "code",
   "source": [
    "import os\n",
    "import pathlib\n",
    "\n",
    "root_dir = pathlib.PurePath(os.path.dirname(os.getcwd())).parent\n",
    "data_dir = os.path.join(root_dir, 'data')"
   ],
   "id": "cb647d3cb7d7d614",
   "outputs": [],
   "execution_count": 7
  },
  {
   "metadata": {},
   "cell_type": "markdown",
   "source": [
    "# 1. LLM 기반 질의 생성\n",
    "\n",
    "이번 실습에서는 총 30개의 QA 데이터 셋을 만들어보겠습니다.\n",
    "\n",
    "먼저 LLM 기반 질의 생성을 통해 15개의 QA 데이터 셋을 만들어보겠습니다.\n",
    "\n",
    "15 + 10 + 5 = 30"
   ],
   "id": "372366185dc0770b"
  },
  {
   "metadata": {
    "ExecuteTime": {
     "end_time": "2025-01-28T11:03:09.992318Z",
     "start_time": "2025-01-28T11:03:09.990347Z"
    }
   },
   "cell_type": "code",
   "source": "",
   "id": "27a6179c2016df53",
   "outputs": [],
   "execution_count": null
  },
  {
   "metadata": {},
   "cell_type": "markdown",
   "source": [
    "# 2. Human in the Loop 실습\n",
    "\n",
    "10개의 QA 데이터 셋을 만들어보겠습니다."
   ],
   "id": "756d92467ba21216"
  },
  {
   "metadata": {},
   "cell_type": "code",
   "outputs": [],
   "execution_count": null,
   "source": "",
   "id": "6bec29e3baae4203"
  },
  {
   "metadata": {},
   "cell_type": "markdown",
   "source": [
    "# 3. 이미 FaQ가 있는 경우\n",
    "5개의 FaQ를 이용해서 만들어보겠습니다 !\n",
    "\n",
    "qid, query, generation_gt, retrieval_gt를 만들어서 넣어줘야 합니다\n",
    "\n",
    "FaQ가 있으니, query와 generation_gt는 이미 있습니다.\n",
    "qid와 retrieval_gt는 직접 만들어주셔야 합니다."
   ],
   "id": "4386a6b9c80d152"
  },
  {
   "metadata": {
    "ExecuteTime": {
     "end_time": "2025-01-28T11:17:01.897509Z",
     "start_time": "2025-01-28T11:17:01.895284Z"
    }
   },
   "cell_type": "code",
   "source": [
    "question = [\n",
    "    \"\",\n",
    "    \"\",\n",
    "    \"\",\n",
    "    \"\",\n",
    "    \"\",\n",
    "]"
   ],
   "id": "e5c996ae365d0628",
   "outputs": [],
   "execution_count": 18
  },
  {
   "metadata": {
    "ExecuteTime": {
     "end_time": "2025-01-28T11:19:36.283231Z",
     "start_time": "2025-01-28T11:19:36.280074Z"
    }
   },
   "cell_type": "code",
   "source": [
    "answer = [\n",
    "    \"a\",\n",
    "    \"b\",\n",
    "    \"c\",\n",
    "    \"d\",\n",
    "    \"e\",\n",
    "]"
   ],
   "id": "1f44428fa18a250b",
   "outputs": [],
   "execution_count": 23
  },
  {
   "metadata": {
    "ExecuteTime": {
     "end_time": "2025-01-28T11:19:36.960542Z",
     "start_time": "2025-01-28T11:19:36.957471Z"
    }
   },
   "cell_type": "code",
   "source": [
    "from uuid import uuid4\n",
    "\n",
    "qid = [str(uuid4()) for _ in range(len(question))]"
   ],
   "id": "65eff428e050c18d",
   "outputs": [],
   "execution_count": 24
  },
  {
   "metadata": {
    "ExecuteTime": {
     "end_time": "2025-01-28T11:19:37.401245Z",
     "start_time": "2025-01-28T11:19:37.398581Z"
    }
   },
   "cell_type": "code",
   "source": "generation_gt = [[a] for a in answer]",
   "id": "76e4cba11cedbb7c",
   "outputs": [],
   "execution_count": 25
  },
  {
   "metadata": {
    "ExecuteTime": {
     "end_time": "2025-01-28T11:19:39.222871Z",
     "start_time": "2025-01-28T11:19:39.217946Z"
    }
   },
   "cell_type": "code",
   "source": "generation_gt",
   "id": "2d496cc933d10869",
   "outputs": [
    {
     "data": {
      "text/plain": [
       "[['a'], ['b'], ['c'], ['d'], ['e']]"
      ]
     },
     "execution_count": 26,
     "metadata": {},
     "output_type": "execute_result"
    }
   ],
   "execution_count": 26
  },
  {
   "metadata": {},
   "cell_type": "markdown",
   "source": [
    "이제 retrieval_gt 만 남았습니다\n",
    "\n",
    "retrieval_gt를 직접 만드는 방법에는 크게 3가지가 있습니다.\n",
    "\n",
    "1. 직접 찾기\n",
    "2. 검색 시스템을 만들어 조금 쉽게 찾아보기\n",
    "\n",
    "저희는 2번 방법을 사용해 만들어보겠습니다!"
   ],
   "id": "3e845158dfa5f9aa"
  },
  {
   "metadata": {},
   "cell_type": "markdown",
   "source": "### BM25를 이용해 retrieval_gt 매핑 검색 시스템 만들기",
   "id": "f0b777697068788d"
  },
  {
   "metadata": {
    "ExecuteTime": {
     "end_time": "2025-01-28T11:40:07.684193Z",
     "start_time": "2025-01-28T11:40:07.645649Z"
    }
   },
   "cell_type": "code",
   "source": [
    "corpus_dir = os.path.join(root_dir, 'autorag_project', 'final', 'chunk', '0.parquet')\n",
    "corpus = pd.read_parquet(corpus_dir)\n",
    "corpus"
   ],
   "id": "aac909a38166ab3b",
   "outputs": [
    {
     "data": {
      "text/plain": [
       "                                   doc_id  \\\n",
       "0    c7036095-887a-4082-885e-14209c68cb0f   \n",
       "1    fc96bdca-c580-4f27-ab43-dfbcdbda99fb   \n",
       "2    18e02344-dc14-4924-b38c-9573bd437fcb   \n",
       "3    fd7ba604-3428-4b9b-8dea-8565b394cb34   \n",
       "4    ef1e83f5-7a4d-419b-b469-f4c4eb53b101   \n",
       "..                                    ...   \n",
       "856  bb36c5db-a016-404f-ad42-2e2c1eab11e4   \n",
       "857  167952f2-5c16-461c-b139-f7b7d8cf9f40   \n",
       "858  621dcf2e-3fdd-4b8e-8514-b94353524da3   \n",
       "859  006c3812-75b3-4d24-a703-fa261cd59417   \n",
       "860  e6e6332e-a897-4c8a-973c-a0be0753bdfd   \n",
       "\n",
       "                                              contents  \\\n",
       "0    <h1 id='0' style='font-size:18px'>2024년 KBO 규약...   \n",
       "1    고용할 수 있음</td></tr><tr><td>제44조 [선수계약의 승인]</td>...   \n",
       "2    <h1 id='0' style='font-size:20px'>제4장 연 고 권</h...   \n",
       "3    히어로즈</td><td>서울특별시</td></tr><tr><td>NC 다이노스</t...   \n",
       "4    <table id='0' style='font-size:14px'><tr><td>구...   \n",
       "..                                                 ...   \n",
       "856  그림 8. 정식경기 \\r\\n<예1>\\r\\n이닝 1 2 3 4 5 6 7 8 9 \\r...   \n",
       "857         갑 1 0 0 1 0 0 1 |3\\r\\n을 0 0 1 0 0 0 0+∝ |1   \n",
       "858  그림 9. 정식경기\\r\\n<예8>\\r\\n이닝 1 2 3 4 5 6 7 8 9 \\r\\...   \n",
       "859  3-2 승 \\r\\n<예14>\\r\\n이닝 1 2 3 4 5 6 7 8 9 \\r\\n갑 ...   \n",
       "860  그림 10. 투구자세 \\r\\n(본문 5.07(a) 참조) \\r\\n와인드업 포지션(오...   \n",
       "\n",
       "                                                  path start_end_idx  \\\n",
       "0    /Users/kimbwook/PycharmProjects/fast-campus/no...      [0, 575]   \n",
       "1    /Users/kimbwook/PycharmProjects/fast-campus/no...   [546, 1071]   \n",
       "2    /Users/kimbwook/PycharmProjects/fast-campus/no...      [0, 619]   \n",
       "3    /Users/kimbwook/PycharmProjects/fast-campus/no...   [621, 1277]   \n",
       "4    /Users/kimbwook/PycharmProjects/fast-campus/no...      [0, 516]   \n",
       "..                                                 ...           ...   \n",
       "856  /Users/kimbwook/PycharmProjects/fast-campus/no...      [0, 438]   \n",
       "857  /Users/kimbwook/PycharmProjects/fast-campus/no...    [416, 455]   \n",
       "858  /Users/kimbwook/PycharmProjects/fast-campus/no...      [0, 447]   \n",
       "859  /Users/kimbwook/PycharmProjects/fast-campus/no...    [429, 526]   \n",
       "860  /Users/kimbwook/PycharmProjects/fast-campus/no...       [0, 64]   \n",
       "\n",
       "                                              metadata  \n",
       "0    {'last_modified_datetime': '2025-01-27', 'next...  \n",
       "1    {'last_modified_datetime': '2025-01-27', 'next...  \n",
       "2    {'last_modified_datetime': '2025-01-27', 'next...  \n",
       "3    {'last_modified_datetime': '2025-01-27', 'next...  \n",
       "4    {'last_modified_datetime': '2025-01-27', 'next...  \n",
       "..                                                 ...  \n",
       "856  {'last_modified_datetime': '2025-01-27', 'next...  \n",
       "857  {'last_modified_datetime': '2025-01-27', 'next...  \n",
       "858  {'last_modified_datetime': '2025-01-27', 'next...  \n",
       "859  {'last_modified_datetime': '2025-01-27', 'next...  \n",
       "860  {'last_modified_datetime': '2025-01-27', 'next...  \n",
       "\n",
       "[861 rows x 5 columns]"
      ],
      "text/html": [
       "<div>\n",
       "<style scoped>\n",
       "    .dataframe tbody tr th:only-of-type {\n",
       "        vertical-align: middle;\n",
       "    }\n",
       "\n",
       "    .dataframe tbody tr th {\n",
       "        vertical-align: top;\n",
       "    }\n",
       "\n",
       "    .dataframe thead th {\n",
       "        text-align: right;\n",
       "    }\n",
       "</style>\n",
       "<table border=\"1\" class=\"dataframe\">\n",
       "  <thead>\n",
       "    <tr style=\"text-align: right;\">\n",
       "      <th></th>\n",
       "      <th>doc_id</th>\n",
       "      <th>contents</th>\n",
       "      <th>path</th>\n",
       "      <th>start_end_idx</th>\n",
       "      <th>metadata</th>\n",
       "    </tr>\n",
       "  </thead>\n",
       "  <tbody>\n",
       "    <tr>\n",
       "      <th>0</th>\n",
       "      <td>c7036095-887a-4082-885e-14209c68cb0f</td>\n",
       "      <td>&lt;h1 id='0' style='font-size:18px'&gt;2024년 KBO 규약...</td>\n",
       "      <td>/Users/kimbwook/PycharmProjects/fast-campus/no...</td>\n",
       "      <td>[0, 575]</td>\n",
       "      <td>{'last_modified_datetime': '2025-01-27', 'next...</td>\n",
       "    </tr>\n",
       "    <tr>\n",
       "      <th>1</th>\n",
       "      <td>fc96bdca-c580-4f27-ab43-dfbcdbda99fb</td>\n",
       "      <td>고용할 수 있음&lt;/td&gt;&lt;/tr&gt;&lt;tr&gt;&lt;td&gt;제44조 [선수계약의 승인]&lt;/td&gt;...</td>\n",
       "      <td>/Users/kimbwook/PycharmProjects/fast-campus/no...</td>\n",
       "      <td>[546, 1071]</td>\n",
       "      <td>{'last_modified_datetime': '2025-01-27', 'next...</td>\n",
       "    </tr>\n",
       "    <tr>\n",
       "      <th>2</th>\n",
       "      <td>18e02344-dc14-4924-b38c-9573bd437fcb</td>\n",
       "      <td>&lt;h1 id='0' style='font-size:20px'&gt;제4장 연 고 권&lt;/h...</td>\n",
       "      <td>/Users/kimbwook/PycharmProjects/fast-campus/no...</td>\n",
       "      <td>[0, 619]</td>\n",
       "      <td>{'last_modified_datetime': '2025-01-27', 'next...</td>\n",
       "    </tr>\n",
       "    <tr>\n",
       "      <th>3</th>\n",
       "      <td>fd7ba604-3428-4b9b-8dea-8565b394cb34</td>\n",
       "      <td>히어로즈&lt;/td&gt;&lt;td&gt;서울특별시&lt;/td&gt;&lt;/tr&gt;&lt;tr&gt;&lt;td&gt;NC 다이노스&lt;/t...</td>\n",
       "      <td>/Users/kimbwook/PycharmProjects/fast-campus/no...</td>\n",
       "      <td>[621, 1277]</td>\n",
       "      <td>{'last_modified_datetime': '2025-01-27', 'next...</td>\n",
       "    </tr>\n",
       "    <tr>\n",
       "      <th>4</th>\n",
       "      <td>ef1e83f5-7a4d-419b-b469-f4c4eb53b101</td>\n",
       "      <td>&lt;table id='0' style='font-size:14px'&gt;&lt;tr&gt;&lt;td&gt;구...</td>\n",
       "      <td>/Users/kimbwook/PycharmProjects/fast-campus/no...</td>\n",
       "      <td>[0, 516]</td>\n",
       "      <td>{'last_modified_datetime': '2025-01-27', 'next...</td>\n",
       "    </tr>\n",
       "    <tr>\n",
       "      <th>...</th>\n",
       "      <td>...</td>\n",
       "      <td>...</td>\n",
       "      <td>...</td>\n",
       "      <td>...</td>\n",
       "      <td>...</td>\n",
       "    </tr>\n",
       "    <tr>\n",
       "      <th>856</th>\n",
       "      <td>bb36c5db-a016-404f-ad42-2e2c1eab11e4</td>\n",
       "      <td>그림 8. 정식경기 \\r\\n&lt;예1&gt;\\r\\n이닝 1 2 3 4 5 6 7 8 9 \\r...</td>\n",
       "      <td>/Users/kimbwook/PycharmProjects/fast-campus/no...</td>\n",
       "      <td>[0, 438]</td>\n",
       "      <td>{'last_modified_datetime': '2025-01-27', 'next...</td>\n",
       "    </tr>\n",
       "    <tr>\n",
       "      <th>857</th>\n",
       "      <td>167952f2-5c16-461c-b139-f7b7d8cf9f40</td>\n",
       "      <td>갑 1 0 0 1 0 0 1 |3\\r\\n을 0 0 1 0 0 0 0+∝ |1</td>\n",
       "      <td>/Users/kimbwook/PycharmProjects/fast-campus/no...</td>\n",
       "      <td>[416, 455]</td>\n",
       "      <td>{'last_modified_datetime': '2025-01-27', 'next...</td>\n",
       "    </tr>\n",
       "    <tr>\n",
       "      <th>858</th>\n",
       "      <td>621dcf2e-3fdd-4b8e-8514-b94353524da3</td>\n",
       "      <td>그림 9. 정식경기\\r\\n&lt;예8&gt;\\r\\n이닝 1 2 3 4 5 6 7 8 9 \\r\\...</td>\n",
       "      <td>/Users/kimbwook/PycharmProjects/fast-campus/no...</td>\n",
       "      <td>[0, 447]</td>\n",
       "      <td>{'last_modified_datetime': '2025-01-27', 'next...</td>\n",
       "    </tr>\n",
       "    <tr>\n",
       "      <th>859</th>\n",
       "      <td>006c3812-75b3-4d24-a703-fa261cd59417</td>\n",
       "      <td>3-2 승 \\r\\n&lt;예14&gt;\\r\\n이닝 1 2 3 4 5 6 7 8 9 \\r\\n갑 ...</td>\n",
       "      <td>/Users/kimbwook/PycharmProjects/fast-campus/no...</td>\n",
       "      <td>[429, 526]</td>\n",
       "      <td>{'last_modified_datetime': '2025-01-27', 'next...</td>\n",
       "    </tr>\n",
       "    <tr>\n",
       "      <th>860</th>\n",
       "      <td>e6e6332e-a897-4c8a-973c-a0be0753bdfd</td>\n",
       "      <td>그림 10. 투구자세 \\r\\n(본문 5.07(a) 참조) \\r\\n와인드업 포지션(오...</td>\n",
       "      <td>/Users/kimbwook/PycharmProjects/fast-campus/no...</td>\n",
       "      <td>[0, 64]</td>\n",
       "      <td>{'last_modified_datetime': '2025-01-27', 'next...</td>\n",
       "    </tr>\n",
       "  </tbody>\n",
       "</table>\n",
       "<p>861 rows × 5 columns</p>\n",
       "</div>"
      ]
     },
     "execution_count": 27,
     "metadata": {},
     "output_type": "execute_result"
    }
   ],
   "execution_count": 27
  },
  {
   "metadata": {
    "ExecuteTime": {
     "end_time": "2025-01-28T11:48:38.164912Z",
     "start_time": "2025-01-28T11:48:38.162515Z"
    }
   },
   "cell_type": "code",
   "source": [
    "sample_texts = corpus['contents'].tolist()\n",
    "doc_ids = corpus['doc_id'].tolist()"
   ],
   "id": "ed0b417d64507399",
   "outputs": [],
   "execution_count": 33
  },
  {
   "metadata": {
    "ExecuteTime": {
     "end_time": "2025-01-28T11:50:49.519428Z",
     "start_time": "2025-01-28T11:50:49.513924Z"
    }
   },
   "cell_type": "code",
   "source": [
    "from langchain_core.documents import Document\n",
    "\n",
    "docs = [Document(page_content=sample_text, metadata={\"doc_id\": id}) for sample_text, id in zip(sample_texts, doc_ids)]"
   ],
   "id": "5dea5f8f9d8e5a8b",
   "outputs": [],
   "execution_count": 37
  },
  {
   "metadata": {
    "ExecuteTime": {
     "end_time": "2025-01-28T11:50:43.969936Z",
     "start_time": "2025-01-28T11:50:38.067324Z"
    }
   },
   "cell_type": "code",
   "source": [
    "# 테디노트님의 라이브러리 활용\n",
    "# https://wikidocs.net/251980\n",
    "from langchain_teddynote.retrievers import KiwiBM25Retriever\n",
    "\n",
    "kiwi = KiwiBM25Retriever.from_documents(docs)"
   ],
   "id": "ebd4b3b1c114a6f1",
   "outputs": [],
   "execution_count": 36
  },
  {
   "metadata": {
    "ExecuteTime": {
     "end_time": "2025-01-28T11:55:17.560844Z",
     "start_time": "2025-01-28T11:55:17.558470Z"
    }
   },
   "cell_type": "code",
   "source": [
    "def pretty_print(docs):\n",
    "    for doc in docs:\n",
    "        print(f\"id: {doc.metadata['doc_id']}\\n\")\n",
    "        print(f\"content: {doc.page_content}\\n\\n\")"
   ],
   "id": "1d4ff7d884061dcf",
   "outputs": [],
   "execution_count": 43
  },
  {
   "metadata": {
    "ExecuteTime": {
     "end_time": "2025-01-28T11:55:18.410233Z",
     "start_time": "2025-01-28T11:55:18.406935Z"
    }
   },
   "cell_type": "code",
   "source": "pretty_print(kiwi.invoke(question[0]))",
   "id": "c0c960eb618a6df7",
   "outputs": [
    {
     "name": "stdout",
     "output_type": "stream",
     "text": [
      "id: e6e6332e-a897-4c8a-973c-a0be0753bdfd\n",
      "\n",
      "content: 그림 10. 투구자세 \r\n",
      "(본문 5.07(a) 참조) \r\n",
      "와인드업 포지션(오른손 투수) \r\n",
      "세트 포지션(오른손 투수)\n",
      "\n",
      "\n",
      "id: 9e20ffb4-338b-4986-b24d-1a85e894d9ae\n",
      "\n",
      "content: 공을 타자에게 투구하는데 실패\r\n",
      "한 경우 보크가 선언된다(주자가 없는 경우 볼 선언).\r\n",
      "b. 타자 : 자동 스트라이크\r\n",
      "타자는 타석에서 과도한 이점을 얻을 목적으로 타석 \r\n",
      "입장을 고의로 지체해서는 안 된다. 타자가 피치클\r\n",
      "락의 잔여시간이 8초가 남은 시점까지 타석에 입장\r\n",
      "해 타격준비자세를 취하지 않으면 즉시 볼 데드 상\r\n",
      "황이 되고, 타자는 피치클락 규정 위반으로 심판에 \r\n",
      "의해 곧바로 스트라이크가 선언된다. 이 때 어떠한 \r\n",
      "주자도 진루할 수 없다.\r\n",
      "[주] 타자의 행동으로 투수의 투구 동작이 방해받았다고 심\r\n",
      "판이 판단한 경우 타자는 타임을 요청했거나 타석 밖으\r\n",
      "로 이탈한 것으로 간주된다. 만약 타자가 동일 타석에서\n",
      "\n",
      "\n",
      "id: 8301be23-4aa4-49dc-9724-56ca8f35e76e\n",
      "\n",
      "content: 교대 또는 투수교체 후 첫 번째 투구의 경우 적절한 광\r\n",
      "고 송출이 완료되는 것을 보장하기 위해, 투수는 이닝 교대 \r\n",
      "또는 투수교체 종료 시점까지 잔여시간이 18초보다 많이 남\r\n",
      "았을 때는 투구를 위한 동작을 시작해서는 안 된다.\r\n",
      "[주] 타자가 타석에 위치해 타격준비자세를 취하고 있고, 잔여\r\n",
      "시간이 18초 이하인 경우 광고 송출이 완료되지 않았다\r\n",
      "고 해서 투수가 첫 번째 투구 동작에 들어가는 것을 지연\r\n",
      "시킬 수 없다. 단, 본 규정에 의거하여 피치클락의 시간이 \r\n",
      "재설정된 경우 타자가 타석에 입장해 타격준비자세를 취\r\n",
      "하자마자 첫 번째 투구 동작을 시작할 수 있다.\r\n",
      "c. 계측 종료 : 투구 동작이 시작되었을 때 종료\r\n",
      "투수가 타자에게 투구하는 자연스러운 동작을 \r\n",
      "시작할 때 계측이 종료된다(빈 화면 송출).\n",
      "\n",
      "\n",
      "id: f2048282-5641-4876-b4de-75be6e3bfa25\n",
      "\n",
      "content: 62\r\n",
      "가 이뤄지는 경우 구원투수가 경기에 투입되기 위해 워\r\n",
      "닝 트랙을 넘어서는 순간(단, 불펜이 경기장 안에 위치\r\n",
      "하는 경우에는 불펜을 떠나는 순간) 투수교체 시간에 \r\n",
      "대한 계측을 시작한다. 계시원이 투수교체를 확인하기\r\n",
      "에 앞서 이닝 교대 시간 계측이 먼저 시작된 경우 계시\r\n",
      "원은 구원투수가 워닝 트랙을 밟았을 때 시간이 2분 20\r\n",
      "초보다 적게 남았다면 2분 20초에서 다시 계측을 시작\r\n",
      "해야 한다. 이닝 도중 야수가 투수로 등판하는 경우에\r\n",
      "는 감독 또는 코치의 투수교체 통보와 함께 계측이 시\r\n",
      "작된다.\r\n",
      "[주] 투수는 심판의 신호를 받으면 연습투구를 멈추고 즉\r\n",
      "시 불펜을 떠나야 한다. 신호를 받았음에도 투수가 \r\n",
      "지체 없이 불펜을 떠나지 않는 경우 심판은 계측을 \r\n",
      "시작하라는 신호를 보내야 한다.\r\n",
      "b. 광고 송출 시간 보장\r\n",
      "이닝 교대 또는 투수교체 후 첫 번째\n",
      "\n",
      "\n"
     ]
    }
   ],
   "execution_count": 44
  },
  {
   "metadata": {},
   "cell_type": "code",
   "outputs": [],
   "execution_count": null,
   "source": [
    "retrieval_gt = [\n",
    "    [[\"\"]], # 1번째 질문\n",
    "    [[\"\"]], # 2번째 질문\n",
    "    [[\"\"]], # 3번째 질문\n",
    "    [[\"\"]], # 4번째 질문\n",
    "    [[\"\"]], # 5번째 질문\n",
    "]"
   ],
   "id": "85502e5b43088f40"
  },
  {
   "metadata": {},
   "cell_type": "code",
   "outputs": [],
   "execution_count": null,
   "source": [
    "faq_qa = pd.DataFrame({\n",
    "    \"qid\": qid,\n",
    "    \"query\": question,\n",
    "    \"generation_gt\": generation_gt,\n",
    "    \"retrieval_gt\": retrieval_gt,\n",
    "})"
   ],
   "id": "1a325d72df353698"
  },
  {
   "metadata": {},
   "cell_type": "markdown",
   "source": "# QA 데이터 셋으로 합치기",
   "id": "e82763afc3fe93c7"
  },
  {
   "metadata": {},
   "cell_type": "code",
   "outputs": [],
   "execution_count": null,
   "source": "",
   "id": "f5732b88e2ba0331"
  }
 ],
 "metadata": {
  "kernelspec": {
   "display_name": "Python 3",
   "language": "python",
   "name": "python3"
  },
  "language_info": {
   "codemirror_mode": {
    "name": "ipython",
    "version": 2
   },
   "file_extension": ".py",
   "mimetype": "text/x-python",
   "name": "python",
   "nbconvert_exporter": "python",
   "pygments_lexer": "ipython2",
   "version": "2.7.6"
  }
 },
 "nbformat": 4,
 "nbformat_minor": 5
}
