{
 "cells": [
  {
   "metadata": {
    "ExecuteTime": {
     "end_time": "2025-01-30T06:36:04.480822Z",
     "start_time": "2025-01-30T06:36:04.477614Z"
    }
   },
   "cell_type": "code",
   "source": [
    "import os\n",
    "\n",
    "import pandas as pd\n",
    "\n",
    "current_dir = os.getcwd()\n",
    "root_dir = os.path.join(current_dir, '..', '..')\n",
    "data_dir = os.path.join(root_dir, 'data', 'final')"
   ],
   "id": "b6b1467c8cda7468",
   "outputs": [],
   "execution_count": 48
  },
  {
   "metadata": {
    "ExecuteTime": {
     "end_time": "2025-01-30T06:36:04.499791Z",
     "start_time": "2025-01-30T06:36:04.497630Z"
    }
   },
   "cell_type": "code",
   "source": [
    "import nest_asyncio\n",
    "\n",
    "nest_asyncio.apply()"
   ],
   "id": "11c24107e6bc5c2e",
   "outputs": [],
   "execution_count": 49
  },
  {
   "metadata": {},
   "cell_type": "markdown",
   "source": "# 여러 방법을 이용한 청킹",
   "id": "ad8683babae88e19"
  },
  {
   "metadata": {
    "ExecuteTime": {
     "end_time": "2025-01-30T05:42:25.809453Z",
     "start_time": "2025-01-30T05:42:25.799820Z"
    }
   },
   "cell_type": "code",
   "source": [
    "from autorag.chunker import Chunker\n",
    "\n",
    "# Set path\n",
    "parsed_path = os.path.join(root_dir, 'autorag_project', 'final', 'parse', 'raw.parquet')\n",
    "project_dir = os.path.join(root_dir, 'autorag_project', 'final', 'chunking_optimization')\n",
    "\n",
    "chunker = Chunker.from_parquet(parsed_data_path=parsed_path, project_dir=project_dir)"
   ],
   "id": "4fed61defcb43a4f",
   "outputs": [],
   "execution_count": 5
  },
  {
   "metadata": {
    "ExecuteTime": {
     "end_time": "2025-01-30T05:43:38.034787Z",
     "start_time": "2025-01-30T05:43:36.564433Z"
    }
   },
   "cell_type": "code",
   "source": [
    "yaml_path = os.path.join(root_dir, 'config', 'final', 'chunk', 'chunking_optimization.yaml')\n",
    "\n",
    "chunker.start_chunking(yaml_path)"
   ],
   "id": "a30157f4f0e5a258",
   "outputs": [
    {
     "data": {
      "text/plain": [
       "\u001B[2;36m[01/30/25 14:43:36]\u001B[0m\u001B[2;36m \u001B[0m\u001B[34mINFO    \u001B[0m \u001B[1m[\u001B[0mchunker.py:\u001B[1;36m44\u001B[0m\u001B[1m]\u001B[0m >> Chunking Start\u001B[33m...\u001B[0m                                     \u001B]8;id=182995;file:///Users/kimbwook/PycharmProjects/fast-campus/venv/lib/python3.10/site-packages/autorag/chunker.py\u001B\\\u001B[2mchunker.py\u001B[0m\u001B]8;;\u001B\\\u001B[2m:\u001B[0m\u001B]8;id=630537;file:///Users/kimbwook/PycharmProjects/fast-campus/venv/lib/python3.10/site-packages/autorag/chunker.py#44\u001B\\\u001B[2m44\u001B[0m\u001B]8;;\u001B\\\n"
      ],
      "text/html": [
       "<pre style=\"white-space:pre;overflow-x:auto;line-height:normal;font-family:Menlo,'DejaVu Sans Mono',consolas,'Courier New',monospace\"><span style=\"color: #7fbfbf; text-decoration-color: #7fbfbf\">[01/30/25 14:43:36] </span><span style=\"color: #000080; text-decoration-color: #000080\">INFO    </span> <span style=\"font-weight: bold\">[</span>chunker.py:<span style=\"color: #008080; text-decoration-color: #008080; font-weight: bold\">44</span><span style=\"font-weight: bold\">]</span> &gt;&gt; Chunking Start<span style=\"color: #808000; text-decoration-color: #808000\">...</span>                                     <a href=\"file:///Users/kimbwook/PycharmProjects/fast-campus/venv/lib/python3.10/site-packages/autorag/chunker.py\" target=\"_blank\"><span style=\"color: #7f7f7f; text-decoration-color: #7f7f7f\">chunker.py</span></a><span style=\"color: #7f7f7f; text-decoration-color: #7f7f7f\">:</span><a href=\"file:///Users/kimbwook/PycharmProjects/fast-campus/venv/lib/python3.10/site-packages/autorag/chunker.py#44\" target=\"_blank\"><span style=\"color: #7f7f7f; text-decoration-color: #7f7f7f\">44</span></a>\n",
       "</pre>\n"
      ]
     },
     "metadata": {},
     "output_type": "display_data"
    },
    {
     "data": {
      "text/plain": [
       "\u001B[2;36m                   \u001B[0m\u001B[2;36m \u001B[0m\u001B[34mINFO    \u001B[0m \u001B[1m[\u001B[0mbase.py:\u001B[1;36m22\u001B[0m\u001B[1m]\u001B[0m >> Running chunker - llama_index_chunk module\u001B[33m...\u001B[0m               \u001B]8;id=590852;file:///Users/kimbwook/PycharmProjects/fast-campus/venv/lib/python3.10/site-packages/autorag/data/chunk/base.py\u001B\\\u001B[2mbase.py\u001B[0m\u001B]8;;\u001B\\\u001B[2m:\u001B[0m\u001B]8;id=193147;file:///Users/kimbwook/PycharmProjects/fast-campus/venv/lib/python3.10/site-packages/autorag/data/chunk/base.py#22\u001B\\\u001B[2m22\u001B[0m\u001B]8;;\u001B\\\n"
      ],
      "text/html": [
       "<pre style=\"white-space:pre;overflow-x:auto;line-height:normal;font-family:Menlo,'DejaVu Sans Mono',consolas,'Courier New',monospace\"><span style=\"color: #7fbfbf; text-decoration-color: #7fbfbf\">                    </span><span style=\"color: #000080; text-decoration-color: #000080\">INFO    </span> <span style=\"font-weight: bold\">[</span>base.py:<span style=\"color: #008080; text-decoration-color: #008080; font-weight: bold\">22</span><span style=\"font-weight: bold\">]</span> &gt;&gt; Running chunker - llama_index_chunk module<span style=\"color: #808000; text-decoration-color: #808000\">...</span>               <a href=\"file:///Users/kimbwook/PycharmProjects/fast-campus/venv/lib/python3.10/site-packages/autorag/data/chunk/base.py\" target=\"_blank\"><span style=\"color: #7f7f7f; text-decoration-color: #7f7f7f\">base.py</span></a><span style=\"color: #7f7f7f; text-decoration-color: #7f7f7f\">:</span><a href=\"file:///Users/kimbwook/PycharmProjects/fast-campus/venv/lib/python3.10/site-packages/autorag/data/chunk/base.py#22\" target=\"_blank\"><span style=\"color: #7f7f7f; text-decoration-color: #7f7f7f\">22</span></a>\n",
       "</pre>\n"
      ]
     },
     "metadata": {},
     "output_type": "display_data"
    },
    {
     "data": {
      "text/plain": [
       "\u001B[2;36m[01/30/25 14:43:37]\u001B[0m\u001B[2;36m \u001B[0m\u001B[34mINFO    \u001B[0m \u001B[1m[\u001B[0mbase.py:\u001B[1;36m22\u001B[0m\u001B[1m]\u001B[0m >> Running chunker - llama_index_chunk module\u001B[33m...\u001B[0m               \u001B]8;id=836618;file:///Users/kimbwook/PycharmProjects/fast-campus/venv/lib/python3.10/site-packages/autorag/data/chunk/base.py\u001B\\\u001B[2mbase.py\u001B[0m\u001B]8;;\u001B\\\u001B[2m:\u001B[0m\u001B]8;id=531495;file:///Users/kimbwook/PycharmProjects/fast-campus/venv/lib/python3.10/site-packages/autorag/data/chunk/base.py#22\u001B\\\u001B[2m22\u001B[0m\u001B]8;;\u001B\\\n"
      ],
      "text/html": [
       "<pre style=\"white-space:pre;overflow-x:auto;line-height:normal;font-family:Menlo,'DejaVu Sans Mono',consolas,'Courier New',monospace\"><span style=\"color: #7fbfbf; text-decoration-color: #7fbfbf\">[01/30/25 14:43:37] </span><span style=\"color: #000080; text-decoration-color: #000080\">INFO    </span> <span style=\"font-weight: bold\">[</span>base.py:<span style=\"color: #008080; text-decoration-color: #008080; font-weight: bold\">22</span><span style=\"font-weight: bold\">]</span> &gt;&gt; Running chunker - llama_index_chunk module<span style=\"color: #808000; text-decoration-color: #808000\">...</span>               <a href=\"file:///Users/kimbwook/PycharmProjects/fast-campus/venv/lib/python3.10/site-packages/autorag/data/chunk/base.py\" target=\"_blank\"><span style=\"color: #7f7f7f; text-decoration-color: #7f7f7f\">base.py</span></a><span style=\"color: #7f7f7f; text-decoration-color: #7f7f7f\">:</span><a href=\"file:///Users/kimbwook/PycharmProjects/fast-campus/venv/lib/python3.10/site-packages/autorag/data/chunk/base.py#22\" target=\"_blank\"><span style=\"color: #7f7f7f; text-decoration-color: #7f7f7f\">22</span></a>\n",
       "</pre>\n"
      ]
     },
     "metadata": {},
     "output_type": "display_data"
    },
    {
     "data": {
      "text/plain": [
       "\u001B[2;36m[01/30/25 14:43:38]\u001B[0m\u001B[2;36m \u001B[0m\u001B[34mINFO    \u001B[0m \u001B[1m[\u001B[0mchunker.py:\u001B[1;36m51\u001B[0m\u001B[1m]\u001B[0m >> Chunking Done!                                        \u001B]8;id=240771;file:///Users/kimbwook/PycharmProjects/fast-campus/venv/lib/python3.10/site-packages/autorag/chunker.py\u001B\\\u001B[2mchunker.py\u001B[0m\u001B]8;;\u001B\\\u001B[2m:\u001B[0m\u001B]8;id=599512;file:///Users/kimbwook/PycharmProjects/fast-campus/venv/lib/python3.10/site-packages/autorag/chunker.py#51\u001B\\\u001B[2m51\u001B[0m\u001B]8;;\u001B\\\n"
      ],
      "text/html": [
       "<pre style=\"white-space:pre;overflow-x:auto;line-height:normal;font-family:Menlo,'DejaVu Sans Mono',consolas,'Courier New',monospace\"><span style=\"color: #7fbfbf; text-decoration-color: #7fbfbf\">[01/30/25 14:43:38] </span><span style=\"color: #000080; text-decoration-color: #000080\">INFO    </span> <span style=\"font-weight: bold\">[</span>chunker.py:<span style=\"color: #008080; text-decoration-color: #008080; font-weight: bold\">51</span><span style=\"font-weight: bold\">]</span> &gt;&gt; Chunking Done!                                        <a href=\"file:///Users/kimbwook/PycharmProjects/fast-campus/venv/lib/python3.10/site-packages/autorag/chunker.py\" target=\"_blank\"><span style=\"color: #7f7f7f; text-decoration-color: #7f7f7f\">chunker.py</span></a><span style=\"color: #7f7f7f; text-decoration-color: #7f7f7f\">:</span><a href=\"file:///Users/kimbwook/PycharmProjects/fast-campus/venv/lib/python3.10/site-packages/autorag/chunker.py#51\" target=\"_blank\"><span style=\"color: #7f7f7f; text-decoration-color: #7f7f7f\">51</span></a>\n",
       "</pre>\n"
      ]
     },
     "metadata": {},
     "output_type": "display_data"
    }
   ],
   "execution_count": 7
  },
  {
   "metadata": {},
   "cell_type": "markdown",
   "source": "# 청킹 결과 확인",
   "id": "6cab596449855c74"
  },
  {
   "metadata": {
    "ExecuteTime": {
     "end_time": "2025-01-30T05:44:43.333390Z",
     "start_time": "2025-01-30T05:44:43.316352Z"
    }
   },
   "cell_type": "code",
   "source": [
    "token_path = os.path.join(project_dir, '0.parquet')\n",
    "pd.read_parquet(token_path)"
   ],
   "id": "985a5ebb02d8ef0c",
   "outputs": [
    {
     "data": {
      "text/plain": [
       "                                   doc_id  \\\n",
       "0    5a50ed01-ef07-4826-96f3-905f585349b7   \n",
       "1    e7429724-2a9b-4ba5-ad35-8d757c9ec76a   \n",
       "2    b089e7c2-98c5-4bf9-a4d9-a846b0d259f0   \n",
       "3    ab121438-2ba3-4622-abe1-49a6ec99aedc   \n",
       "4    06bce19e-40a8-4452-a46e-23b712e30ee6   \n",
       "..                                    ...   \n",
       "856  cf313000-6823-469c-b810-479f052069c9   \n",
       "857  d156f016-70d1-4474-acad-05109a7525cd   \n",
       "858  01c052c6-fc44-4022-87e5-b537539a58b6   \n",
       "859  8d4b05da-15fe-4207-bcc9-13dee5c49645   \n",
       "860  1ec4e51b-9846-4cd8-87c6-cd0064a37e4c   \n",
       "\n",
       "                                              contents  \\\n",
       "0    파일 제목: 2024 리그 규약.pdf\\n 내용: <h1 id='0' st...   \n",
       "1    파일 제목: 2024 리그 규약.pdf\\n 내용: 고용할 수 있음</td>...   \n",
       "2    파일 제목: 2024 리그 규약.pdf\\n 내용: <h1 id='0' st...   \n",
       "3    파일 제목: 2024 리그 규약.pdf\\n 내용: 히어로즈</td><td>...   \n",
       "4    파일 제목: 2024 리그 규약.pdf\\n 내용: <table id='0'...   \n",
       "..                                                 ...   \n",
       "856  파일 제목: 2024 야구 규칙 그림.pdf\\n 내용: 그림 8. 정...   \n",
       "857  파일 제목: 2024 야구 규칙 그림.pdf\\n 내용: 갑 1 0 0...   \n",
       "858  파일 제목: 2024 야구 규칙 그림.pdf\\n 내용: 그림 9. 정...   \n",
       "859  파일 제목: 2024 야구 규칙 그림.pdf\\n 내용: 3-2 승 \\...   \n",
       "860  파일 제목: 2024 야구 규칙 그림.pdf\\n 내용: 그림 10. ...   \n",
       "\n",
       "                                                  path start_end_idx  \\\n",
       "0    /Users/kimbwook/PycharmProjects/fast-campus/no...      [0, 575]   \n",
       "1    /Users/kimbwook/PycharmProjects/fast-campus/no...   [546, 1071]   \n",
       "2    /Users/kimbwook/PycharmProjects/fast-campus/no...      [0, 619]   \n",
       "3    /Users/kimbwook/PycharmProjects/fast-campus/no...   [621, 1277]   \n",
       "4    /Users/kimbwook/PycharmProjects/fast-campus/no...      [0, 516]   \n",
       "..                                                 ...           ...   \n",
       "856  /Users/kimbwook/PycharmProjects/fast-campus/no...      [0, 438]   \n",
       "857  /Users/kimbwook/PycharmProjects/fast-campus/no...    [416, 455]   \n",
       "858  /Users/kimbwook/PycharmProjects/fast-campus/no...      [0, 447]   \n",
       "859  /Users/kimbwook/PycharmProjects/fast-campus/no...    [429, 526]   \n",
       "860  /Users/kimbwook/PycharmProjects/fast-campus/no...       [0, 64]   \n",
       "\n",
       "                                              metadata  \n",
       "0    {'last_modified_datetime': '2025-01-27', 'next...  \n",
       "1    {'last_modified_datetime': '2025-01-27', 'next...  \n",
       "2    {'last_modified_datetime': '2025-01-27', 'next...  \n",
       "3    {'last_modified_datetime': '2025-01-27', 'next...  \n",
       "4    {'last_modified_datetime': '2025-01-27', 'next...  \n",
       "..                                                 ...  \n",
       "856  {'last_modified_datetime': '2025-01-27', 'next...  \n",
       "857  {'last_modified_datetime': '2025-01-27', 'next...  \n",
       "858  {'last_modified_datetime': '2025-01-27', 'next...  \n",
       "859  {'last_modified_datetime': '2025-01-27', 'next...  \n",
       "860  {'last_modified_datetime': '2025-01-27', 'next...  \n",
       "\n",
       "[861 rows x 5 columns]"
      ],
      "text/html": [
       "<div>\n",
       "<style scoped>\n",
       "    .dataframe tbody tr th:only-of-type {\n",
       "        vertical-align: middle;\n",
       "    }\n",
       "\n",
       "    .dataframe tbody tr th {\n",
       "        vertical-align: top;\n",
       "    }\n",
       "\n",
       "    .dataframe thead th {\n",
       "        text-align: right;\n",
       "    }\n",
       "</style>\n",
       "<table border=\"1\" class=\"dataframe\">\n",
       "  <thead>\n",
       "    <tr style=\"text-align: right;\">\n",
       "      <th></th>\n",
       "      <th>doc_id</th>\n",
       "      <th>contents</th>\n",
       "      <th>path</th>\n",
       "      <th>start_end_idx</th>\n",
       "      <th>metadata</th>\n",
       "    </tr>\n",
       "  </thead>\n",
       "  <tbody>\n",
       "    <tr>\n",
       "      <th>0</th>\n",
       "      <td>5a50ed01-ef07-4826-96f3-905f585349b7</td>\n",
       "      <td>파일 제목: 2024 리그 규약.pdf\\n 내용: &lt;h1 id='0' st...</td>\n",
       "      <td>/Users/kimbwook/PycharmProjects/fast-campus/no...</td>\n",
       "      <td>[0, 575]</td>\n",
       "      <td>{'last_modified_datetime': '2025-01-27', 'next...</td>\n",
       "    </tr>\n",
       "    <tr>\n",
       "      <th>1</th>\n",
       "      <td>e7429724-2a9b-4ba5-ad35-8d757c9ec76a</td>\n",
       "      <td>파일 제목: 2024 리그 규약.pdf\\n 내용: 고용할 수 있음&lt;/td&gt;...</td>\n",
       "      <td>/Users/kimbwook/PycharmProjects/fast-campus/no...</td>\n",
       "      <td>[546, 1071]</td>\n",
       "      <td>{'last_modified_datetime': '2025-01-27', 'next...</td>\n",
       "    </tr>\n",
       "    <tr>\n",
       "      <th>2</th>\n",
       "      <td>b089e7c2-98c5-4bf9-a4d9-a846b0d259f0</td>\n",
       "      <td>파일 제목: 2024 리그 규약.pdf\\n 내용: &lt;h1 id='0' st...</td>\n",
       "      <td>/Users/kimbwook/PycharmProjects/fast-campus/no...</td>\n",
       "      <td>[0, 619]</td>\n",
       "      <td>{'last_modified_datetime': '2025-01-27', 'next...</td>\n",
       "    </tr>\n",
       "    <tr>\n",
       "      <th>3</th>\n",
       "      <td>ab121438-2ba3-4622-abe1-49a6ec99aedc</td>\n",
       "      <td>파일 제목: 2024 리그 규약.pdf\\n 내용: 히어로즈&lt;/td&gt;&lt;td&gt;...</td>\n",
       "      <td>/Users/kimbwook/PycharmProjects/fast-campus/no...</td>\n",
       "      <td>[621, 1277]</td>\n",
       "      <td>{'last_modified_datetime': '2025-01-27', 'next...</td>\n",
       "    </tr>\n",
       "    <tr>\n",
       "      <th>4</th>\n",
       "      <td>06bce19e-40a8-4452-a46e-23b712e30ee6</td>\n",
       "      <td>파일 제목: 2024 리그 규약.pdf\\n 내용: &lt;table id='0'...</td>\n",
       "      <td>/Users/kimbwook/PycharmProjects/fast-campus/no...</td>\n",
       "      <td>[0, 516]</td>\n",
       "      <td>{'last_modified_datetime': '2025-01-27', 'next...</td>\n",
       "    </tr>\n",
       "    <tr>\n",
       "      <th>...</th>\n",
       "      <td>...</td>\n",
       "      <td>...</td>\n",
       "      <td>...</td>\n",
       "      <td>...</td>\n",
       "      <td>...</td>\n",
       "    </tr>\n",
       "    <tr>\n",
       "      <th>856</th>\n",
       "      <td>cf313000-6823-469c-b810-479f052069c9</td>\n",
       "      <td>파일 제목: 2024 야구 규칙 그림.pdf\\n 내용: 그림 8. 정...</td>\n",
       "      <td>/Users/kimbwook/PycharmProjects/fast-campus/no...</td>\n",
       "      <td>[0, 438]</td>\n",
       "      <td>{'last_modified_datetime': '2025-01-27', 'next...</td>\n",
       "    </tr>\n",
       "    <tr>\n",
       "      <th>857</th>\n",
       "      <td>d156f016-70d1-4474-acad-05109a7525cd</td>\n",
       "      <td>파일 제목: 2024 야구 규칙 그림.pdf\\n 내용: 갑 1 0 0...</td>\n",
       "      <td>/Users/kimbwook/PycharmProjects/fast-campus/no...</td>\n",
       "      <td>[416, 455]</td>\n",
       "      <td>{'last_modified_datetime': '2025-01-27', 'next...</td>\n",
       "    </tr>\n",
       "    <tr>\n",
       "      <th>858</th>\n",
       "      <td>01c052c6-fc44-4022-87e5-b537539a58b6</td>\n",
       "      <td>파일 제목: 2024 야구 규칙 그림.pdf\\n 내용: 그림 9. 정...</td>\n",
       "      <td>/Users/kimbwook/PycharmProjects/fast-campus/no...</td>\n",
       "      <td>[0, 447]</td>\n",
       "      <td>{'last_modified_datetime': '2025-01-27', 'next...</td>\n",
       "    </tr>\n",
       "    <tr>\n",
       "      <th>859</th>\n",
       "      <td>8d4b05da-15fe-4207-bcc9-13dee5c49645</td>\n",
       "      <td>파일 제목: 2024 야구 규칙 그림.pdf\\n 내용: 3-2 승 \\...</td>\n",
       "      <td>/Users/kimbwook/PycharmProjects/fast-campus/no...</td>\n",
       "      <td>[429, 526]</td>\n",
       "      <td>{'last_modified_datetime': '2025-01-27', 'next...</td>\n",
       "    </tr>\n",
       "    <tr>\n",
       "      <th>860</th>\n",
       "      <td>1ec4e51b-9846-4cd8-87c6-cd0064a37e4c</td>\n",
       "      <td>파일 제목: 2024 야구 규칙 그림.pdf\\n 내용: 그림 10. ...</td>\n",
       "      <td>/Users/kimbwook/PycharmProjects/fast-campus/no...</td>\n",
       "      <td>[0, 64]</td>\n",
       "      <td>{'last_modified_datetime': '2025-01-27', 'next...</td>\n",
       "    </tr>\n",
       "  </tbody>\n",
       "</table>\n",
       "<p>861 rows × 5 columns</p>\n",
       "</div>"
      ]
     },
     "execution_count": 9,
     "metadata": {},
     "output_type": "execute_result"
    }
   ],
   "execution_count": 9
  },
  {
   "metadata": {
    "ExecuteTime": {
     "end_time": "2025-01-30T05:44:57.779411Z",
     "start_time": "2025-01-30T05:44:57.742842Z"
    }
   },
   "cell_type": "code",
   "source": [
    "window_path = os.path.join(project_dir, '1.parquet')\n",
    "pd.read_parquet(window_path)"
   ],
   "id": "8b5765930daadfa4",
   "outputs": [
    {
     "data": {
      "text/plain": [
       "                                    doc_id  \\\n",
       "0     1d1a2c6f-a438-48a8-aca2-2870cac94a37   \n",
       "1     6a176c8f-6a09-4216-9612-70fc9a28b173   \n",
       "2     13985fbb-1009-46cd-8d19-8104a66d9bed   \n",
       "3     ef332965-34c2-43bf-a490-a91bed0ea425   \n",
       "4     cb2d4bc9-ca3c-4e03-88ca-7eba9d81fab8   \n",
       "...                                    ...   \n",
       "4033  8c16d183-1587-40e9-b871-62c6ae9bca01   \n",
       "4034  4d6bb1cf-8f1a-41e4-a8c7-1efc10851c9c   \n",
       "4035  0f71e6e7-e271-4284-955f-b6e65acdcbbd   \n",
       "4036  5175e901-5154-42e7-8e1f-272fa36a4f0e   \n",
       "4037  8206da9e-2cbc-4210-a7eb-fef3bad5d31f   \n",
       "\n",
       "                                               contents  \\\n",
       "0     파일 제목: 2024 리그 규약.pdf\\n 내용: <h1 id='0' st...   \n",
       "1     파일 제목: 2024 리그 규약.pdf\\n 내용: 단, 제10조에 따른 부...   \n",
       "2     파일 제목: 2024 리그 규약.pdf\\n 내용: <h1 id='0' st...   \n",
       "3     파일 제목: 2024 리그 규약.pdf\\n 내용: 이 경우 총재는 위반 구...   \n",
       "4     파일 제목: 2024 리그 규약.pdf\\n 내용: <table id='0'...   \n",
       "...                                                 ...   \n",
       "4033  파일 제목: 2024 야구 규칙 그림.pdf\\n 내용: 【KBO】일시...   \n",
       "4034  파일 제목: 2024 야구 규칙 그림.pdf\\n 내용: 을 0 0 0...   \n",
       "4035  파일 제목: 2024 야구 규칙 그림.pdf\\n 내용: 【KBO】일시...   \n",
       "4036     파일 제목: 2024 야구 규칙 그림.pdf\\n 내용: 그림 10.    \n",
       "4037  파일 제목: 2024 야구 규칙 그림.pdf\\n 내용: 투구자세 \\r...   \n",
       "\n",
       "                                                   path start_end_idx  \\\n",
       "0     /Users/kimbwook/PycharmProjects/fast-campus/no...      [0, 391]   \n",
       "1     /Users/kimbwook/PycharmProjects/fast-campus/no...   [392, 1071]   \n",
       "2     /Users/kimbwook/PycharmProjects/fast-campus/no...     [0, 1185]   \n",
       "3     /Users/kimbwook/PycharmProjects/fast-campus/no...  [1186, 1277]   \n",
       "4     /Users/kimbwook/PycharmProjects/fast-campus/no...      [0, 516]   \n",
       "...                                                 ...           ...   \n",
       "4033  /Users/kimbwook/PycharmProjects/fast-campus/no...    [413, 484]   \n",
       "4034  /Users/kimbwook/PycharmProjects/fast-campus/no...    [485, 505]   \n",
       "4035  /Users/kimbwook/PycharmProjects/fast-campus/no...    [506, 528]   \n",
       "4036  /Users/kimbwook/PycharmProjects/fast-campus/no...        [0, 6]   \n",
       "4037  /Users/kimbwook/PycharmProjects/fast-campus/no...       [7, 65]   \n",
       "\n",
       "                                               metadata  \n",
       "0     {'last_modified_datetime': '2025-01-27', 'next...  \n",
       "1     {'last_modified_datetime': '2025-01-27', 'next...  \n",
       "2     {'last_modified_datetime': '2025-01-27', 'next...  \n",
       "3     {'last_modified_datetime': '2025-01-27', 'next...  \n",
       "4     {'last_modified_datetime': '2025-01-27', 'next...  \n",
       "...                                                 ...  \n",
       "4033  {'last_modified_datetime': '2025-01-27', 'next...  \n",
       "4034  {'last_modified_datetime': '2025-01-27', 'next...  \n",
       "4035  {'last_modified_datetime': '2025-01-27', 'next...  \n",
       "4036  {'last_modified_datetime': '2025-01-27', 'next...  \n",
       "4037  {'last_modified_datetime': '2025-01-27', 'next...  \n",
       "\n",
       "[4038 rows x 5 columns]"
      ],
      "text/html": [
       "<div>\n",
       "<style scoped>\n",
       "    .dataframe tbody tr th:only-of-type {\n",
       "        vertical-align: middle;\n",
       "    }\n",
       "\n",
       "    .dataframe tbody tr th {\n",
       "        vertical-align: top;\n",
       "    }\n",
       "\n",
       "    .dataframe thead th {\n",
       "        text-align: right;\n",
       "    }\n",
       "</style>\n",
       "<table border=\"1\" class=\"dataframe\">\n",
       "  <thead>\n",
       "    <tr style=\"text-align: right;\">\n",
       "      <th></th>\n",
       "      <th>doc_id</th>\n",
       "      <th>contents</th>\n",
       "      <th>path</th>\n",
       "      <th>start_end_idx</th>\n",
       "      <th>metadata</th>\n",
       "    </tr>\n",
       "  </thead>\n",
       "  <tbody>\n",
       "    <tr>\n",
       "      <th>0</th>\n",
       "      <td>1d1a2c6f-a438-48a8-aca2-2870cac94a37</td>\n",
       "      <td>파일 제목: 2024 리그 규약.pdf\\n 내용: &lt;h1 id='0' st...</td>\n",
       "      <td>/Users/kimbwook/PycharmProjects/fast-campus/no...</td>\n",
       "      <td>[0, 391]</td>\n",
       "      <td>{'last_modified_datetime': '2025-01-27', 'next...</td>\n",
       "    </tr>\n",
       "    <tr>\n",
       "      <th>1</th>\n",
       "      <td>6a176c8f-6a09-4216-9612-70fc9a28b173</td>\n",
       "      <td>파일 제목: 2024 리그 규약.pdf\\n 내용: 단, 제10조에 따른 부...</td>\n",
       "      <td>/Users/kimbwook/PycharmProjects/fast-campus/no...</td>\n",
       "      <td>[392, 1071]</td>\n",
       "      <td>{'last_modified_datetime': '2025-01-27', 'next...</td>\n",
       "    </tr>\n",
       "    <tr>\n",
       "      <th>2</th>\n",
       "      <td>13985fbb-1009-46cd-8d19-8104a66d9bed</td>\n",
       "      <td>파일 제목: 2024 리그 규약.pdf\\n 내용: &lt;h1 id='0' st...</td>\n",
       "      <td>/Users/kimbwook/PycharmProjects/fast-campus/no...</td>\n",
       "      <td>[0, 1185]</td>\n",
       "      <td>{'last_modified_datetime': '2025-01-27', 'next...</td>\n",
       "    </tr>\n",
       "    <tr>\n",
       "      <th>3</th>\n",
       "      <td>ef332965-34c2-43bf-a490-a91bed0ea425</td>\n",
       "      <td>파일 제목: 2024 리그 규약.pdf\\n 내용: 이 경우 총재는 위반 구...</td>\n",
       "      <td>/Users/kimbwook/PycharmProjects/fast-campus/no...</td>\n",
       "      <td>[1186, 1277]</td>\n",
       "      <td>{'last_modified_datetime': '2025-01-27', 'next...</td>\n",
       "    </tr>\n",
       "    <tr>\n",
       "      <th>4</th>\n",
       "      <td>cb2d4bc9-ca3c-4e03-88ca-7eba9d81fab8</td>\n",
       "      <td>파일 제목: 2024 리그 규약.pdf\\n 내용: &lt;table id='0'...</td>\n",
       "      <td>/Users/kimbwook/PycharmProjects/fast-campus/no...</td>\n",
       "      <td>[0, 516]</td>\n",
       "      <td>{'last_modified_datetime': '2025-01-27', 'next...</td>\n",
       "    </tr>\n",
       "    <tr>\n",
       "      <th>...</th>\n",
       "      <td>...</td>\n",
       "      <td>...</td>\n",
       "      <td>...</td>\n",
       "      <td>...</td>\n",
       "      <td>...</td>\n",
       "    </tr>\n",
       "    <tr>\n",
       "      <th>4033</th>\n",
       "      <td>8c16d183-1587-40e9-b871-62c6ae9bca01</td>\n",
       "      <td>파일 제목: 2024 야구 규칙 그림.pdf\\n 내용: 【KBO】일시...</td>\n",
       "      <td>/Users/kimbwook/PycharmProjects/fast-campus/no...</td>\n",
       "      <td>[413, 484]</td>\n",
       "      <td>{'last_modified_datetime': '2025-01-27', 'next...</td>\n",
       "    </tr>\n",
       "    <tr>\n",
       "      <th>4034</th>\n",
       "      <td>4d6bb1cf-8f1a-41e4-a8c7-1efc10851c9c</td>\n",
       "      <td>파일 제목: 2024 야구 규칙 그림.pdf\\n 내용: 을 0 0 0...</td>\n",
       "      <td>/Users/kimbwook/PycharmProjects/fast-campus/no...</td>\n",
       "      <td>[485, 505]</td>\n",
       "      <td>{'last_modified_datetime': '2025-01-27', 'next...</td>\n",
       "    </tr>\n",
       "    <tr>\n",
       "      <th>4035</th>\n",
       "      <td>0f71e6e7-e271-4284-955f-b6e65acdcbbd</td>\n",
       "      <td>파일 제목: 2024 야구 규칙 그림.pdf\\n 내용: 【KBO】일시...</td>\n",
       "      <td>/Users/kimbwook/PycharmProjects/fast-campus/no...</td>\n",
       "      <td>[506, 528]</td>\n",
       "      <td>{'last_modified_datetime': '2025-01-27', 'next...</td>\n",
       "    </tr>\n",
       "    <tr>\n",
       "      <th>4036</th>\n",
       "      <td>5175e901-5154-42e7-8e1f-272fa36a4f0e</td>\n",
       "      <td>파일 제목: 2024 야구 규칙 그림.pdf\\n 내용: 그림 10.</td>\n",
       "      <td>/Users/kimbwook/PycharmProjects/fast-campus/no...</td>\n",
       "      <td>[0, 6]</td>\n",
       "      <td>{'last_modified_datetime': '2025-01-27', 'next...</td>\n",
       "    </tr>\n",
       "    <tr>\n",
       "      <th>4037</th>\n",
       "      <td>8206da9e-2cbc-4210-a7eb-fef3bad5d31f</td>\n",
       "      <td>파일 제목: 2024 야구 규칙 그림.pdf\\n 내용: 투구자세 \\r...</td>\n",
       "      <td>/Users/kimbwook/PycharmProjects/fast-campus/no...</td>\n",
       "      <td>[7, 65]</td>\n",
       "      <td>{'last_modified_datetime': '2025-01-27', 'next...</td>\n",
       "    </tr>\n",
       "  </tbody>\n",
       "</table>\n",
       "<p>4038 rows × 5 columns</p>\n",
       "</div>"
      ]
     },
     "execution_count": 10,
     "metadata": {},
     "output_type": "execute_result"
    }
   ],
   "execution_count": 10
  },
  {
   "metadata": {},
   "cell_type": "markdown",
   "source": "# QA - Corpus 매핑",
   "id": "763521e81aa5d7bf"
  },
  {
   "metadata": {
    "ExecuteTime": {
     "end_time": "2025-01-30T05:48:42.743699Z",
     "start_time": "2025-01-30T05:48:42.736852Z"
    }
   },
   "cell_type": "code",
   "source": [
    "# Set Raw\n",
    "raw_df = pd.read_parquet(parsed_path)"
   ],
   "id": "42fccad2b8ad4207",
   "outputs": [],
   "execution_count": 11
  },
  {
   "metadata": {
    "ExecuteTime": {
     "end_time": "2025-01-30T05:50:20.816275Z",
     "start_time": "2025-01-30T05:50:20.808059Z"
    }
   },
   "cell_type": "code",
   "source": [
    "# Set Initial Corpus\n",
    "initial_corpus_path = os.path.join(root_dir, 'autorag_project', 'final', 'chunk', '0.parquet')\n",
    "initial_corpus_df = pd.read_parquet(initial_corpus_path)"
   ],
   "id": "7191833bee887bad",
   "outputs": [],
   "execution_count": 14
  },
  {
   "metadata": {
    "ExecuteTime": {
     "end_time": "2025-01-30T05:50:21.250980Z",
     "start_time": "2025-01-30T05:50:21.245903Z"
    }
   },
   "cell_type": "code",
   "source": [
    "# Set Initial QA\n",
    "initial_qa_path = os.path.join(root_dir, 'autorag_project', 'final', 'qa', 'qa.parquet')\n",
    "initial_qa_df = pd.read_parquet(initial_qa_path)"
   ],
   "id": "4c30db5d9997a5a9",
   "outputs": [],
   "execution_count": 15
  },
  {
   "metadata": {},
   "cell_type": "markdown",
   "source": "### Token(512 + Add file name) Mapping",
   "id": "d9a72e7a052eb484"
  },
  {
   "metadata": {
    "ExecuteTime": {
     "end_time": "2025-01-30T05:51:46.765244Z",
     "start_time": "2025-01-30T05:51:46.753072Z"
    }
   },
   "cell_type": "code",
   "source": "token_corpus_df = pd.read_parquet(token_path)",
   "id": "c57005b0b5e62412",
   "outputs": [],
   "execution_count": 17
  },
  {
   "metadata": {
    "ExecuteTime": {
     "end_time": "2025-01-30T05:54:23.273091Z",
     "start_time": "2025-01-30T05:54:23.270470Z"
    }
   },
   "cell_type": "code",
   "source": [
    "from autorag.data.qa.schema import Raw, Corpus, QA\n",
    "\n",
    "raw = Raw(raw_df)\n",
    "corpus = Corpus(initial_corpus_df, raw)\n",
    "qa = QA(initial_qa_df, corpus)"
   ],
   "id": "32271ad6b5dff638",
   "outputs": [],
   "execution_count": 25
  },
  {
   "metadata": {
    "ExecuteTime": {
     "end_time": "2025-01-30T05:54:28.223795Z",
     "start_time": "2025-01-30T05:54:28.113869Z"
    }
   },
   "cell_type": "code",
   "source": "new_token_qa = qa.update_corpus(Corpus(token_corpus_df, raw))",
   "id": "4408357a5ff0270f",
   "outputs": [],
   "execution_count": 26
  },
  {
   "metadata": {
    "ExecuteTime": {
     "end_time": "2025-01-30T05:53:04.265679Z",
     "start_time": "2025-01-30T05:53:04.260193Z"
    }
   },
   "cell_type": "code",
   "outputs": [],
   "execution_count": 21,
   "source": [
    "token_qa_path = os.path.join(project_dir, 'new_token_qa.parquet')\n",
    "new_token_qa.data.to_parquet(token_qa_path)"
   ],
   "id": "c514f7af98bf71d2"
  },
  {
   "metadata": {},
   "cell_type": "markdown",
   "source": "### Window + Add file name Mapping",
   "id": "8568d38f92758889"
  },
  {
   "metadata": {
    "ExecuteTime": {
     "end_time": "2025-01-30T05:53:37.757280Z",
     "start_time": "2025-01-30T05:53:37.727452Z"
    }
   },
   "cell_type": "code",
   "source": "window_corpus_df = pd.read_parquet(window_path)",
   "id": "7a7ac18445055c0c",
   "outputs": [],
   "execution_count": 22
  },
  {
   "metadata": {
    "ExecuteTime": {
     "end_time": "2025-01-30T05:54:01.844971Z",
     "start_time": "2025-01-30T05:54:01.716442Z"
    }
   },
   "cell_type": "code",
   "source": "new_window_qa = qa.update_corpus(Corpus(window_corpus_df, raw))",
   "id": "7320818b1bd20424",
   "outputs": [],
   "execution_count": 23
  },
  {
   "metadata": {
    "ExecuteTime": {
     "end_time": "2025-01-30T05:54:10.287591Z",
     "start_time": "2025-01-30T05:54:10.280677Z"
    }
   },
   "cell_type": "code",
   "source": [
    "window_qa_path = os.path.join(project_dir, 'new_window_qa.parquet')\n",
    "new_window_qa.data.to_parquet(window_qa_path)"
   ],
   "id": "da4193e09d31326a",
   "outputs": [],
   "execution_count": 24
  },
  {
   "metadata": {},
   "cell_type": "markdown",
   "source": "# AutoRAG로 청킹 최적화",
   "id": "35df89981b9f1313"
  },
  {
   "metadata": {},
   "cell_type": "markdown",
   "source": "혼돈을 막기 위해 3개 청킹 방법에 대한 qa-corpus 경로를 정리하고 시작해보자",
   "id": "10fc5fb8e9e2496b"
  },
  {
   "metadata": {
    "ExecuteTime": {
     "end_time": "2025-01-30T05:55:31.262063Z",
     "start_time": "2025-01-30T05:55:31.258679Z"
    }
   },
   "cell_type": "code",
   "source": [
    "og_qa_path = os.path.join(root_dir, 'autorag_project', 'final', 'qa', 'qa.parquet')\n",
    "og_corpus_path = os.path.join(root_dir, 'autorag_project', 'final', 'chunk', '0.parquet')"
   ],
   "id": "c2fb742755d22733",
   "outputs": [],
   "execution_count": 27
  },
  {
   "metadata": {
    "ExecuteTime": {
     "end_time": "2025-01-30T05:56:16.680882Z",
     "start_time": "2025-01-30T05:56:16.676118Z"
    }
   },
   "cell_type": "code",
   "source": "token_qa_path, token_path",
   "id": "a5fc8c46f0577151",
   "outputs": [
    {
     "data": {
      "text/plain": [
       "('/Users/kimbwook/PycharmProjects/fast-campus/notebook/최종 실습/../../autorag_project/final/chunking_optimization/new_token_qa.parquet',\n",
       " '/Users/kimbwook/PycharmProjects/fast-campus/notebook/최종 실습/../../autorag_project/final/chunking_optimization/0.parquet')"
      ]
     },
     "execution_count": 29,
     "metadata": {},
     "output_type": "execute_result"
    }
   ],
   "execution_count": 29
  },
  {
   "metadata": {
    "ExecuteTime": {
     "end_time": "2025-01-30T05:56:27.218853Z",
     "start_time": "2025-01-30T05:56:27.215644Z"
    }
   },
   "cell_type": "code",
   "source": "window_qa_path, window_path",
   "id": "bdb6748d10a3b557",
   "outputs": [
    {
     "data": {
      "text/plain": [
       "('/Users/kimbwook/PycharmProjects/fast-campus/notebook/최종 실습/../../autorag_project/final/chunking_optimization/new_window_qa.parquet',\n",
       " '/Users/kimbwook/PycharmProjects/fast-campus/notebook/최종 실습/../../autorag_project/final/chunking_optimization/1.parquet')"
      ]
     },
     "execution_count": 30,
     "metadata": {},
     "output_type": "execute_result"
    }
   ],
   "execution_count": 30
  },
  {
   "metadata": {},
   "cell_type": "markdown",
   "source": [
    "## Run Optimization with AutoRAG\n",
    "\n",
    "Retrieval metric으로 평가하기 vs Generation metric으로 평가하기\n",
    "\n",
    "Retrieval Metric으로 평가해주도록 하겠습니다.\n",
    "\n",
    "Window를 사용한 경우 Prompt Maker는 Window Replacement를 사용해주셔야 합니다.\n",
    "(rag_gen.yaml을 참고해주세요)"
   ],
   "id": "6f14240bdbc3d95a"
  },
  {
   "metadata": {
    "ExecuteTime": {
     "end_time": "2025-01-30T06:35:07.786423Z",
     "start_time": "2025-01-30T06:35:07.783028Z"
    }
   },
   "cell_type": "code",
   "source": "chunk_opt_yaml_path = os.path.join(root_dir, 'config', 'final', 'chunk', 'rag.yaml')",
   "id": "12d45704bd155b80",
   "outputs": [],
   "execution_count": 45
  },
  {
   "metadata": {},
   "cell_type": "markdown",
   "source": "### 1. OG Token",
   "id": "28c059b877ec9e8d"
  },
  {
   "metadata": {
    "ExecuteTime": {
     "end_time": "2025-01-30T06:35:11.277926Z",
     "start_time": "2025-01-30T06:35:11.275401Z"
    }
   },
   "cell_type": "code",
   "source": "og_project_dir = os.path.join(root_dir, 'autorag_project', 'final', 'chunking_optimization', 'og')",
   "id": "e635e60972d4f8f8",
   "outputs": [],
   "execution_count": 46
  },
  {
   "metadata": {
    "ExecuteTime": {
     "end_time": "2025-01-30T06:36:04.471164Z",
     "start_time": "2025-01-30T06:35:13.137472Z"
    }
   },
   "cell_type": "code",
   "source": [
    "from autorag.evaluator import Evaluator\n",
    "\n",
    "evaluator = Evaluator(\n",
    "    qa_data_path=og_qa_path, \n",
    "    corpus_data_path=og_corpus_path,\n",
    "    project_dir=og_project_dir,\n",
    ")\n",
    "evaluator.start_trial(chunk_opt_yaml_path, skip_validation=True)"
   ],
   "id": "40c38e9e987657b8",
   "outputs": [
    {
     "data": {
      "text/plain": [
       "\u001B[2;36m[01/30/25 15:35:13]\u001B[0m\u001B[2;36m \u001B[0m\u001B[34mINFO    \u001B[0m \u001B[1m[\u001B[0mevaluator.py:\u001B[1;36m228\u001B[0m\u001B[1m]\u001B[0m >> Embedding BM25 corpus\u001B[33m...\u001B[0m                        \u001B]8;id=920293;file:///Users/kimbwook/PycharmProjects/fast-campus/venv/lib/python3.10/site-packages/autorag/evaluator.py\u001B\\\u001B[2mevaluator.py\u001B[0m\u001B]8;;\u001B\\\u001B[2m:\u001B[0m\u001B]8;id=692883;file:///Users/kimbwook/PycharmProjects/fast-campus/venv/lib/python3.10/site-packages/autorag/evaluator.py#228\u001B\\\u001B[2m228\u001B[0m\u001B]8;;\u001B\\\n"
      ],
      "text/html": [
       "<pre style=\"white-space:pre;overflow-x:auto;line-height:normal;font-family:Menlo,'DejaVu Sans Mono',consolas,'Courier New',monospace\"><span style=\"color: #7fbfbf; text-decoration-color: #7fbfbf\">[01/30/25 15:35:13] </span><span style=\"color: #000080; text-decoration-color: #000080\">INFO    </span> <span style=\"font-weight: bold\">[</span>evaluator.py:<span style=\"color: #008080; text-decoration-color: #008080; font-weight: bold\">228</span><span style=\"font-weight: bold\">]</span> &gt;&gt; Embedding BM25 corpus<span style=\"color: #808000; text-decoration-color: #808000\">...</span>                        <a href=\"file:///Users/kimbwook/PycharmProjects/fast-campus/venv/lib/python3.10/site-packages/autorag/evaluator.py\" target=\"_blank\"><span style=\"color: #7f7f7f; text-decoration-color: #7f7f7f\">evaluator.py</span></a><span style=\"color: #7f7f7f; text-decoration-color: #7f7f7f\">:</span><a href=\"file:///Users/kimbwook/PycharmProjects/fast-campus/venv/lib/python3.10/site-packages/autorag/evaluator.py#228\" target=\"_blank\"><span style=\"color: #7f7f7f; text-decoration-color: #7f7f7f\">228</span></a>\n",
       "</pre>\n"
      ]
     },
     "metadata": {},
     "output_type": "display_data"
    },
    {
     "data": {
      "text/plain": [
       "\u001B[2;36m[01/30/25 15:35:15]\u001B[0m\u001B[2;36m \u001B[0m\u001B[34mINFO    \u001B[0m \u001B[1m[\u001B[0mbase.py:\u001B[1;36m28\u001B[0m\u001B[1m]\u001B[0m >> Deleting retrieval node - VectorDB module\u001B[33m...\u001B[0m                \u001B]8;id=661889;file:///Users/kimbwook/PycharmProjects/fast-campus/venv/lib/python3.10/site-packages/autorag/nodes/retrieval/base.py\u001B\\\u001B[2mbase.py\u001B[0m\u001B]8;;\u001B\\\u001B[2m:\u001B[0m\u001B]8;id=747009;file:///Users/kimbwook/PycharmProjects/fast-campus/venv/lib/python3.10/site-packages/autorag/nodes/retrieval/base.py#28\u001B\\\u001B[2m28\u001B[0m\u001B]8;;\u001B\\\n"
      ],
      "text/html": [
       "<pre style=\"white-space:pre;overflow-x:auto;line-height:normal;font-family:Menlo,'DejaVu Sans Mono',consolas,'Courier New',monospace\"><span style=\"color: #7fbfbf; text-decoration-color: #7fbfbf\">[01/30/25 15:35:15] </span><span style=\"color: #000080; text-decoration-color: #000080\">INFO    </span> <span style=\"font-weight: bold\">[</span>base.py:<span style=\"color: #008080; text-decoration-color: #008080; font-weight: bold\">28</span><span style=\"font-weight: bold\">]</span> &gt;&gt; Deleting retrieval node - VectorDB module<span style=\"color: #808000; text-decoration-color: #808000\">...</span>                <a href=\"file:///Users/kimbwook/PycharmProjects/fast-campus/venv/lib/python3.10/site-packages/autorag/nodes/retrieval/base.py\" target=\"_blank\"><span style=\"color: #7f7f7f; text-decoration-color: #7f7f7f\">base.py</span></a><span style=\"color: #7f7f7f; text-decoration-color: #7f7f7f\">:</span><a href=\"file:///Users/kimbwook/PycharmProjects/fast-campus/venv/lib/python3.10/site-packages/autorag/nodes/retrieval/base.py#28\" target=\"_blank\"><span style=\"color: #7f7f7f; text-decoration-color: #7f7f7f\">28</span></a>\n",
       "</pre>\n"
      ]
     },
     "metadata": {},
     "output_type": "display_data"
    },
    {
     "data": {
      "text/plain": [
       "\u001B[2;36m                   \u001B[0m\u001B[2;36m \u001B[0m\u001B[34mINFO    \u001B[0m \u001B[1m[\u001B[0mevaluator.py:\u001B[1;36m248\u001B[0m\u001B[1m]\u001B[0m >> BM25 corpus embedding complete.                 \u001B]8;id=455797;file:///Users/kimbwook/PycharmProjects/fast-campus/venv/lib/python3.10/site-packages/autorag/evaluator.py\u001B\\\u001B[2mevaluator.py\u001B[0m\u001B]8;;\u001B\\\u001B[2m:\u001B[0m\u001B]8;id=726983;file:///Users/kimbwook/PycharmProjects/fast-campus/venv/lib/python3.10/site-packages/autorag/evaluator.py#248\u001B\\\u001B[2m248\u001B[0m\u001B]8;;\u001B\\\n"
      ],
      "text/html": [
       "<pre style=\"white-space:pre;overflow-x:auto;line-height:normal;font-family:Menlo,'DejaVu Sans Mono',consolas,'Courier New',monospace\"><span style=\"color: #7fbfbf; text-decoration-color: #7fbfbf\">                    </span><span style=\"color: #000080; text-decoration-color: #000080\">INFO    </span> <span style=\"font-weight: bold\">[</span>evaluator.py:<span style=\"color: #008080; text-decoration-color: #008080; font-weight: bold\">248</span><span style=\"font-weight: bold\">]</span> &gt;&gt; BM25 corpus embedding complete.                 <a href=\"file:///Users/kimbwook/PycharmProjects/fast-campus/venv/lib/python3.10/site-packages/autorag/evaluator.py\" target=\"_blank\"><span style=\"color: #7f7f7f; text-decoration-color: #7f7f7f\">evaluator.py</span></a><span style=\"color: #7f7f7f; text-decoration-color: #7f7f7f\">:</span><a href=\"file:///Users/kimbwook/PycharmProjects/fast-campus/venv/lib/python3.10/site-packages/autorag/evaluator.py#248\" target=\"_blank\"><span style=\"color: #7f7f7f; text-decoration-color: #7f7f7f\">248</span></a>\n",
       "</pre>\n"
      ]
     },
     "metadata": {},
     "output_type": "display_data"
    },
    {
     "data": {
      "text/plain": [
       "Output()"
      ],
      "application/vnd.jupyter.widget-view+json": {
       "version_major": 2,
       "version_minor": 0,
       "model_id": "9ecb4014c2014712bd4e2bc442c1909a"
      }
     },
     "metadata": {},
     "output_type": "display_data"
    },
    {
     "data": {
      "text/plain": [
       "\u001B[2;36m                   \u001B[0m\u001B[2;36m \u001B[0m\u001B[34mINFO    \u001B[0m \u001B[1m[\u001B[0mevaluator.py:\u001B[1;36m205\u001B[0m\u001B[1m]\u001B[0m >> Running node line retrieve_node_line\u001B[33m...\u001B[0m         \u001B]8;id=301417;file:///Users/kimbwook/PycharmProjects/fast-campus/venv/lib/python3.10/site-packages/autorag/evaluator.py\u001B\\\u001B[2mevaluator.py\u001B[0m\u001B]8;;\u001B\\\u001B[2m:\u001B[0m\u001B]8;id=525257;file:///Users/kimbwook/PycharmProjects/fast-campus/venv/lib/python3.10/site-packages/autorag/evaluator.py#205\u001B\\\u001B[2m205\u001B[0m\u001B]8;;\u001B\\\n"
      ],
      "text/html": [
       "<pre style=\"white-space:pre;overflow-x:auto;line-height:normal;font-family:Menlo,'DejaVu Sans Mono',consolas,'Courier New',monospace\"><span style=\"color: #7fbfbf; text-decoration-color: #7fbfbf\">                    </span><span style=\"color: #000080; text-decoration-color: #000080\">INFO    </span> <span style=\"font-weight: bold\">[</span>evaluator.py:<span style=\"color: #008080; text-decoration-color: #008080; font-weight: bold\">205</span><span style=\"font-weight: bold\">]</span> &gt;&gt; Running node line retrieve_node_line<span style=\"color: #808000; text-decoration-color: #808000\">...</span>         <a href=\"file:///Users/kimbwook/PycharmProjects/fast-campus/venv/lib/python3.10/site-packages/autorag/evaluator.py\" target=\"_blank\"><span style=\"color: #7f7f7f; text-decoration-color: #7f7f7f\">evaluator.py</span></a><span style=\"color: #7f7f7f; text-decoration-color: #7f7f7f\">:</span><a href=\"file:///Users/kimbwook/PycharmProjects/fast-campus/venv/lib/python3.10/site-packages/autorag/evaluator.py#205\" target=\"_blank\"><span style=\"color: #7f7f7f; text-decoration-color: #7f7f7f\">205</span></a>\n",
       "</pre>\n"
      ]
     },
     "metadata": {},
     "output_type": "display_data"
    },
    {
     "data": {
      "text/plain": [
       "\u001B[2;36m                   \u001B[0m\u001B[2;36m \u001B[0m\u001B[34mINFO    \u001B[0m \u001B[1m[\u001B[0mnode.py:\u001B[1;36m55\u001B[0m\u001B[1m]\u001B[0m >> Running node retrieval\u001B[33m...\u001B[0m                                   \u001B]8;id=534834;file:///Users/kimbwook/PycharmProjects/fast-campus/venv/lib/python3.10/site-packages/autorag/schema/node.py\u001B\\\u001B[2mnode.py\u001B[0m\u001B]8;;\u001B\\\u001B[2m:\u001B[0m\u001B]8;id=877896;file:///Users/kimbwook/PycharmProjects/fast-campus/venv/lib/python3.10/site-packages/autorag/schema/node.py#55\u001B\\\u001B[2m55\u001B[0m\u001B]8;;\u001B\\\n"
      ],
      "text/html": [
       "<pre style=\"white-space:pre;overflow-x:auto;line-height:normal;font-family:Menlo,'DejaVu Sans Mono',consolas,'Courier New',monospace\"><span style=\"color: #7fbfbf; text-decoration-color: #7fbfbf\">                    </span><span style=\"color: #000080; text-decoration-color: #000080\">INFO    </span> <span style=\"font-weight: bold\">[</span>node.py:<span style=\"color: #008080; text-decoration-color: #008080; font-weight: bold\">55</span><span style=\"font-weight: bold\">]</span> &gt;&gt; Running node retrieval<span style=\"color: #808000; text-decoration-color: #808000\">...</span>                                   <a href=\"file:///Users/kimbwook/PycharmProjects/fast-campus/venv/lib/python3.10/site-packages/autorag/schema/node.py\" target=\"_blank\"><span style=\"color: #7f7f7f; text-decoration-color: #7f7f7f\">node.py</span></a><span style=\"color: #7f7f7f; text-decoration-color: #7f7f7f\">:</span><a href=\"file:///Users/kimbwook/PycharmProjects/fast-campus/venv/lib/python3.10/site-packages/autorag/schema/node.py#55\" target=\"_blank\"><span style=\"color: #7f7f7f; text-decoration-color: #7f7f7f\">55</span></a>\n",
       "</pre>\n"
      ]
     },
     "metadata": {},
     "output_type": "display_data"
    },
    {
     "data": {
      "text/plain": [
       "\u001B[2;36m                   \u001B[0m\u001B[2;36m \u001B[0m\u001B[34mINFO    \u001B[0m \u001B[1m[\u001B[0mrun.py:\u001B[1;36m165\u001B[0m\u001B[1m]\u001B[0m >> Running retrieval node - semantic retrieval module\u001B[33m...\u001B[0m       \u001B]8;id=119503;file:///Users/kimbwook/PycharmProjects/fast-campus/venv/lib/python3.10/site-packages/autorag/nodes/retrieval/run.py\u001B\\\u001B[2mrun.py\u001B[0m\u001B]8;;\u001B\\\u001B[2m:\u001B[0m\u001B]8;id=511669;file:///Users/kimbwook/PycharmProjects/fast-campus/venv/lib/python3.10/site-packages/autorag/nodes/retrieval/run.py#165\u001B\\\u001B[2m165\u001B[0m\u001B]8;;\u001B\\\n"
      ],
      "text/html": [
       "<pre style=\"white-space:pre;overflow-x:auto;line-height:normal;font-family:Menlo,'DejaVu Sans Mono',consolas,'Courier New',monospace\"><span style=\"color: #7fbfbf; text-decoration-color: #7fbfbf\">                    </span><span style=\"color: #000080; text-decoration-color: #000080\">INFO    </span> <span style=\"font-weight: bold\">[</span>run.py:<span style=\"color: #008080; text-decoration-color: #008080; font-weight: bold\">165</span><span style=\"font-weight: bold\">]</span> &gt;&gt; Running retrieval node - semantic retrieval module<span style=\"color: #808000; text-decoration-color: #808000\">...</span>       <a href=\"file:///Users/kimbwook/PycharmProjects/fast-campus/venv/lib/python3.10/site-packages/autorag/nodes/retrieval/run.py\" target=\"_blank\"><span style=\"color: #7f7f7f; text-decoration-color: #7f7f7f\">run.py</span></a><span style=\"color: #7f7f7f; text-decoration-color: #7f7f7f\">:</span><a href=\"file:///Users/kimbwook/PycharmProjects/fast-campus/venv/lib/python3.10/site-packages/autorag/nodes/retrieval/run.py#165\" target=\"_blank\"><span style=\"color: #7f7f7f; text-decoration-color: #7f7f7f\">165</span></a>\n",
       "</pre>\n"
      ]
     },
     "metadata": {},
     "output_type": "display_data"
    },
    {
     "data": {
      "text/plain": [
       "\u001B[2;36m                   \u001B[0m\u001B[2;36m \u001B[0m\u001B[34mINFO    \u001B[0m \u001B[1m[\u001B[0mrun.py:\u001B[1;36m196\u001B[0m\u001B[1m]\u001B[0m >> Running retrieval node - lexical retrieval module\u001B[33m...\u001B[0m        \u001B]8;id=426;file:///Users/kimbwook/PycharmProjects/fast-campus/venv/lib/python3.10/site-packages/autorag/nodes/retrieval/run.py\u001B\\\u001B[2mrun.py\u001B[0m\u001B]8;;\u001B\\\u001B[2m:\u001B[0m\u001B]8;id=875152;file:///Users/kimbwook/PycharmProjects/fast-campus/venv/lib/python3.10/site-packages/autorag/nodes/retrieval/run.py#196\u001B\\\u001B[2m196\u001B[0m\u001B]8;;\u001B\\\n"
      ],
      "text/html": [
       "<pre style=\"white-space:pre;overflow-x:auto;line-height:normal;font-family:Menlo,'DejaVu Sans Mono',consolas,'Courier New',monospace\"><span style=\"color: #7fbfbf; text-decoration-color: #7fbfbf\">                    </span><span style=\"color: #000080; text-decoration-color: #000080\">INFO    </span> <span style=\"font-weight: bold\">[</span>run.py:<span style=\"color: #008080; text-decoration-color: #008080; font-weight: bold\">196</span><span style=\"font-weight: bold\">]</span> &gt;&gt; Running retrieval node - lexical retrieval module<span style=\"color: #808000; text-decoration-color: #808000\">...</span>        <a href=\"file:///Users/kimbwook/PycharmProjects/fast-campus/venv/lib/python3.10/site-packages/autorag/nodes/retrieval/run.py\" target=\"_blank\"><span style=\"color: #7f7f7f; text-decoration-color: #7f7f7f\">run.py</span></a><span style=\"color: #7f7f7f; text-decoration-color: #7f7f7f\">:</span><a href=\"file:///Users/kimbwook/PycharmProjects/fast-campus/venv/lib/python3.10/site-packages/autorag/nodes/retrieval/run.py#196\" target=\"_blank\"><span style=\"color: #7f7f7f; text-decoration-color: #7f7f7f\">196</span></a>\n",
       "</pre>\n"
      ]
     },
     "metadata": {},
     "output_type": "display_data"
    },
    {
     "data": {
      "text/plain": [
       "\u001B[2;36m                   \u001B[0m\u001B[2;36m \u001B[0m\u001B[34mINFO    \u001B[0m \u001B[1m[\u001B[0mbase.py:\u001B[1;36m18\u001B[0m\u001B[1m]\u001B[0m >> Initialize retrieval node - BM25                            \u001B]8;id=305592;file:///Users/kimbwook/PycharmProjects/fast-campus/venv/lib/python3.10/site-packages/autorag/nodes/retrieval/base.py\u001B\\\u001B[2mbase.py\u001B[0m\u001B]8;;\u001B\\\u001B[2m:\u001B[0m\u001B]8;id=147756;file:///Users/kimbwook/PycharmProjects/fast-campus/venv/lib/python3.10/site-packages/autorag/nodes/retrieval/base.py#18\u001B\\\u001B[2m18\u001B[0m\u001B]8;;\u001B\\\n"
      ],
      "text/html": [
       "<pre style=\"white-space:pre;overflow-x:auto;line-height:normal;font-family:Menlo,'DejaVu Sans Mono',consolas,'Courier New',monospace\"><span style=\"color: #7fbfbf; text-decoration-color: #7fbfbf\">                    </span><span style=\"color: #000080; text-decoration-color: #000080\">INFO    </span> <span style=\"font-weight: bold\">[</span>base.py:<span style=\"color: #008080; text-decoration-color: #008080; font-weight: bold\">18</span><span style=\"font-weight: bold\">]</span> &gt;&gt; Initialize retrieval node - BM25                            <a href=\"file:///Users/kimbwook/PycharmProjects/fast-campus/venv/lib/python3.10/site-packages/autorag/nodes/retrieval/base.py\" target=\"_blank\"><span style=\"color: #7f7f7f; text-decoration-color: #7f7f7f\">base.py</span></a><span style=\"color: #7f7f7f; text-decoration-color: #7f7f7f\">:</span><a href=\"file:///Users/kimbwook/PycharmProjects/fast-campus/venv/lib/python3.10/site-packages/autorag/nodes/retrieval/base.py#18\" target=\"_blank\"><span style=\"color: #7f7f7f; text-decoration-color: #7f7f7f\">18</span></a>\n",
       "</pre>\n"
      ]
     },
     "metadata": {},
     "output_type": "display_data"
    },
    {
     "data": {
      "text/plain": [
       "\u001B[2;36m                   \u001B[0m\u001B[2;36m \u001B[0m\u001B[34mINFO    \u001B[0m \u001B[1m[\u001B[0mbase.py:\u001B[1;36m31\u001B[0m\u001B[1m]\u001B[0m >> Running retrieval node - BM25 module\u001B[33m...\u001B[0m                     \u001B]8;id=976863;file:///Users/kimbwook/PycharmProjects/fast-campus/venv/lib/python3.10/site-packages/autorag/nodes/retrieval/base.py\u001B\\\u001B[2mbase.py\u001B[0m\u001B]8;;\u001B\\\u001B[2m:\u001B[0m\u001B]8;id=107642;file:///Users/kimbwook/PycharmProjects/fast-campus/venv/lib/python3.10/site-packages/autorag/nodes/retrieval/base.py#31\u001B\\\u001B[2m31\u001B[0m\u001B]8;;\u001B\\\n"
      ],
      "text/html": [
       "<pre style=\"white-space:pre;overflow-x:auto;line-height:normal;font-family:Menlo,'DejaVu Sans Mono',consolas,'Courier New',monospace\"><span style=\"color: #7fbfbf; text-decoration-color: #7fbfbf\">                    </span><span style=\"color: #000080; text-decoration-color: #000080\">INFO    </span> <span style=\"font-weight: bold\">[</span>base.py:<span style=\"color: #008080; text-decoration-color: #008080; font-weight: bold\">31</span><span style=\"font-weight: bold\">]</span> &gt;&gt; Running retrieval node - BM25 module<span style=\"color: #808000; text-decoration-color: #808000\">...</span>                     <a href=\"file:///Users/kimbwook/PycharmProjects/fast-campus/venv/lib/python3.10/site-packages/autorag/nodes/retrieval/base.py\" target=\"_blank\"><span style=\"color: #7f7f7f; text-decoration-color: #7f7f7f\">base.py</span></a><span style=\"color: #7f7f7f; text-decoration-color: #7f7f7f\">:</span><a href=\"file:///Users/kimbwook/PycharmProjects/fast-campus/venv/lib/python3.10/site-packages/autorag/nodes/retrieval/base.py#31\" target=\"_blank\"><span style=\"color: #7f7f7f; text-decoration-color: #7f7f7f\">31</span></a>\n",
       "</pre>\n"
      ]
     },
     "metadata": {},
     "output_type": "display_data"
    },
    {
     "data": {
      "text/plain": [
       "\u001B[2;36m[01/30/25 15:36:04]\u001B[0m\u001B[2;36m \u001B[0m\u001B[34mINFO    \u001B[0m \u001B[1m[\u001B[0mbase.py:\u001B[1;36m28\u001B[0m\u001B[1m]\u001B[0m >> Deleting retrieval node - BM25 module\u001B[33m...\u001B[0m                    \u001B]8;id=150848;file:///Users/kimbwook/PycharmProjects/fast-campus/venv/lib/python3.10/site-packages/autorag/nodes/retrieval/base.py\u001B\\\u001B[2mbase.py\u001B[0m\u001B]8;;\u001B\\\u001B[2m:\u001B[0m\u001B]8;id=663923;file:///Users/kimbwook/PycharmProjects/fast-campus/venv/lib/python3.10/site-packages/autorag/nodes/retrieval/base.py#28\u001B\\\u001B[2m28\u001B[0m\u001B]8;;\u001B\\\n"
      ],
      "text/html": [
       "<pre style=\"white-space:pre;overflow-x:auto;line-height:normal;font-family:Menlo,'DejaVu Sans Mono',consolas,'Courier New',monospace\"><span style=\"color: #7fbfbf; text-decoration-color: #7fbfbf\">[01/30/25 15:36:04] </span><span style=\"color: #000080; text-decoration-color: #000080\">INFO    </span> <span style=\"font-weight: bold\">[</span>base.py:<span style=\"color: #008080; text-decoration-color: #008080; font-weight: bold\">28</span><span style=\"font-weight: bold\">]</span> &gt;&gt; Deleting retrieval node - BM25 module<span style=\"color: #808000; text-decoration-color: #808000\">...</span>                    <a href=\"file:///Users/kimbwook/PycharmProjects/fast-campus/venv/lib/python3.10/site-packages/autorag/nodes/retrieval/base.py\" target=\"_blank\"><span style=\"color: #7f7f7f; text-decoration-color: #7f7f7f\">base.py</span></a><span style=\"color: #7f7f7f; text-decoration-color: #7f7f7f\">:</span><a href=\"file:///Users/kimbwook/PycharmProjects/fast-campus/venv/lib/python3.10/site-packages/autorag/nodes/retrieval/base.py#28\" target=\"_blank\"><span style=\"color: #7f7f7f; text-decoration-color: #7f7f7f\">28</span></a>\n",
       "</pre>\n"
      ]
     },
     "metadata": {},
     "output_type": "display_data"
    },
    {
     "data": {
      "text/plain": [
       "\u001B[2;36m                   \u001B[0m\u001B[2;36m \u001B[0m\u001B[34mINFO    \u001B[0m \u001B[1m[\u001B[0mrun.py:\u001B[1;36m227\u001B[0m\u001B[1m]\u001B[0m >> Running retrieval node - hybrid retrieval module\u001B[33m...\u001B[0m         \u001B]8;id=610908;file:///Users/kimbwook/PycharmProjects/fast-campus/venv/lib/python3.10/site-packages/autorag/nodes/retrieval/run.py\u001B\\\u001B[2mrun.py\u001B[0m\u001B]8;;\u001B\\\u001B[2m:\u001B[0m\u001B]8;id=984243;file:///Users/kimbwook/PycharmProjects/fast-campus/venv/lib/python3.10/site-packages/autorag/nodes/retrieval/run.py#227\u001B\\\u001B[2m227\u001B[0m\u001B]8;;\u001B\\\n"
      ],
      "text/html": [
       "<pre style=\"white-space:pre;overflow-x:auto;line-height:normal;font-family:Menlo,'DejaVu Sans Mono',consolas,'Courier New',monospace\"><span style=\"color: #7fbfbf; text-decoration-color: #7fbfbf\">                    </span><span style=\"color: #000080; text-decoration-color: #000080\">INFO    </span> <span style=\"font-weight: bold\">[</span>run.py:<span style=\"color: #008080; text-decoration-color: #008080; font-weight: bold\">227</span><span style=\"font-weight: bold\">]</span> &gt;&gt; Running retrieval node - hybrid retrieval module<span style=\"color: #808000; text-decoration-color: #808000\">...</span>         <a href=\"file:///Users/kimbwook/PycharmProjects/fast-campus/venv/lib/python3.10/site-packages/autorag/nodes/retrieval/run.py\" target=\"_blank\"><span style=\"color: #7f7f7f; text-decoration-color: #7f7f7f\">run.py</span></a><span style=\"color: #7f7f7f; text-decoration-color: #7f7f7f\">:</span><a href=\"file:///Users/kimbwook/PycharmProjects/fast-campus/venv/lib/python3.10/site-packages/autorag/nodes/retrieval/run.py#227\" target=\"_blank\"><span style=\"color: #7f7f7f; text-decoration-color: #7f7f7f\">227</span></a>\n",
       "</pre>\n"
      ]
     },
     "metadata": {},
     "output_type": "display_data"
    },
    {
     "data": {
      "text/plain": [
       "\u001B[2;36m                   \u001B[0m\u001B[2;36m \u001B[0m\u001B[34mINFO    \u001B[0m \u001B[1m[\u001B[0mevaluator.py:\u001B[1;36m218\u001B[0m\u001B[1m]\u001B[0m >> Evaluation complete.                            \u001B]8;id=648746;file:///Users/kimbwook/PycharmProjects/fast-campus/venv/lib/python3.10/site-packages/autorag/evaluator.py\u001B\\\u001B[2mevaluator.py\u001B[0m\u001B]8;;\u001B\\\u001B[2m:\u001B[0m\u001B]8;id=546496;file:///Users/kimbwook/PycharmProjects/fast-campus/venv/lib/python3.10/site-packages/autorag/evaluator.py#218\u001B\\\u001B[2m218\u001B[0m\u001B]8;;\u001B\\\n"
      ],
      "text/html": [
       "<pre style=\"white-space:pre;overflow-x:auto;line-height:normal;font-family:Menlo,'DejaVu Sans Mono',consolas,'Courier New',monospace\"><span style=\"color: #7fbfbf; text-decoration-color: #7fbfbf\">                    </span><span style=\"color: #000080; text-decoration-color: #000080\">INFO    </span> <span style=\"font-weight: bold\">[</span>evaluator.py:<span style=\"color: #008080; text-decoration-color: #008080; font-weight: bold\">218</span><span style=\"font-weight: bold\">]</span> &gt;&gt; Evaluation complete.                            <a href=\"file:///Users/kimbwook/PycharmProjects/fast-campus/venv/lib/python3.10/site-packages/autorag/evaluator.py\" target=\"_blank\"><span style=\"color: #7f7f7f; text-decoration-color: #7f7f7f\">evaluator.py</span></a><span style=\"color: #7f7f7f; text-decoration-color: #7f7f7f\">:</span><a href=\"file:///Users/kimbwook/PycharmProjects/fast-campus/venv/lib/python3.10/site-packages/autorag/evaluator.py#218\" target=\"_blank\"><span style=\"color: #7f7f7f; text-decoration-color: #7f7f7f\">218</span></a>\n",
       "</pre>\n"
      ]
     },
     "metadata": {},
     "output_type": "display_data"
    },
    {
     "data": {
      "text/plain": [],
      "text/html": [
       "<pre style=\"white-space:pre;overflow-x:auto;line-height:normal;font-family:Menlo,'DejaVu Sans Mono',consolas,'Courier New',monospace\"></pre>\n"
      ]
     },
     "metadata": {},
     "output_type": "display_data"
    }
   ],
   "execution_count": 47
  },
  {
   "metadata": {},
   "cell_type": "markdown",
   "source": "### 2. Token + Add file name",
   "id": "c1626e69f2c51df6"
  },
  {
   "metadata": {
    "ExecuteTime": {
     "end_time": "2025-01-30T06:36:40.966277Z",
     "start_time": "2025-01-30T06:36:40.962509Z"
    }
   },
   "cell_type": "code",
   "source": "new_project_dir = os.path.join(root_dir, 'autorag_project', 'final', 'chunking_optimization', 'new_token')",
   "id": "2ea3e1fa4d30d5a",
   "outputs": [],
   "execution_count": 51
  },
  {
   "metadata": {
    "ExecuteTime": {
     "end_time": "2025-01-30T06:37:36.257730Z",
     "start_time": "2025-01-30T06:36:45.410610Z"
    }
   },
   "cell_type": "code",
   "source": [
    "from autorag.evaluator import Evaluator\n",
    "\n",
    "evaluator = Evaluator(\n",
    "    qa_data_path=token_qa_path, \n",
    "    corpus_data_path=token_path,\n",
    "    project_dir=new_project_dir,\n",
    ")\n",
    "evaluator.start_trial(chunk_opt_yaml_path, skip_validation=True)"
   ],
   "id": "7407fdadfd0c17ec",
   "outputs": [
    {
     "data": {
      "text/plain": [
       "\u001B[2;36m[01/30/25 15:36:45]\u001B[0m\u001B[2;36m \u001B[0m\u001B[34mINFO    \u001B[0m \u001B[1m[\u001B[0mevaluator.py:\u001B[1;36m228\u001B[0m\u001B[1m]\u001B[0m >> Embedding BM25 corpus\u001B[33m...\u001B[0m                        \u001B]8;id=826454;file:///Users/kimbwook/PycharmProjects/fast-campus/venv/lib/python3.10/site-packages/autorag/evaluator.py\u001B\\\u001B[2mevaluator.py\u001B[0m\u001B]8;;\u001B\\\u001B[2m:\u001B[0m\u001B]8;id=468399;file:///Users/kimbwook/PycharmProjects/fast-campus/venv/lib/python3.10/site-packages/autorag/evaluator.py#228\u001B\\\u001B[2m228\u001B[0m\u001B]8;;\u001B\\\n"
      ],
      "text/html": [
       "<pre style=\"white-space:pre;overflow-x:auto;line-height:normal;font-family:Menlo,'DejaVu Sans Mono',consolas,'Courier New',monospace\"><span style=\"color: #7fbfbf; text-decoration-color: #7fbfbf\">[01/30/25 15:36:45] </span><span style=\"color: #000080; text-decoration-color: #000080\">INFO    </span> <span style=\"font-weight: bold\">[</span>evaluator.py:<span style=\"color: #008080; text-decoration-color: #008080; font-weight: bold\">228</span><span style=\"font-weight: bold\">]</span> &gt;&gt; Embedding BM25 corpus<span style=\"color: #808000; text-decoration-color: #808000\">...</span>                        <a href=\"file:///Users/kimbwook/PycharmProjects/fast-campus/venv/lib/python3.10/site-packages/autorag/evaluator.py\" target=\"_blank\"><span style=\"color: #7f7f7f; text-decoration-color: #7f7f7f\">evaluator.py</span></a><span style=\"color: #7f7f7f; text-decoration-color: #7f7f7f\">:</span><a href=\"file:///Users/kimbwook/PycharmProjects/fast-campus/venv/lib/python3.10/site-packages/autorag/evaluator.py#228\" target=\"_blank\"><span style=\"color: #7f7f7f; text-decoration-color: #7f7f7f\">228</span></a>\n",
       "</pre>\n"
      ]
     },
     "metadata": {},
     "output_type": "display_data"
    },
    {
     "data": {
      "text/plain": [
       "\u001B[2;36m[01/30/25 15:36:47]\u001B[0m\u001B[2;36m \u001B[0m\u001B[34mINFO    \u001B[0m \u001B[1m[\u001B[0mevaluator.py:\u001B[1;36m248\u001B[0m\u001B[1m]\u001B[0m >> BM25 corpus embedding complete.                 \u001B]8;id=23841;file:///Users/kimbwook/PycharmProjects/fast-campus/venv/lib/python3.10/site-packages/autorag/evaluator.py\u001B\\\u001B[2mevaluator.py\u001B[0m\u001B]8;;\u001B\\\u001B[2m:\u001B[0m\u001B]8;id=367737;file:///Users/kimbwook/PycharmProjects/fast-campus/venv/lib/python3.10/site-packages/autorag/evaluator.py#248\u001B\\\u001B[2m248\u001B[0m\u001B]8;;\u001B\\\n"
      ],
      "text/html": [
       "<pre style=\"white-space:pre;overflow-x:auto;line-height:normal;font-family:Menlo,'DejaVu Sans Mono',consolas,'Courier New',monospace\"><span style=\"color: #7fbfbf; text-decoration-color: #7fbfbf\">[01/30/25 15:36:47] </span><span style=\"color: #000080; text-decoration-color: #000080\">INFO    </span> <span style=\"font-weight: bold\">[</span>evaluator.py:<span style=\"color: #008080; text-decoration-color: #008080; font-weight: bold\">248</span><span style=\"font-weight: bold\">]</span> &gt;&gt; BM25 corpus embedding complete.                 <a href=\"file:///Users/kimbwook/PycharmProjects/fast-campus/venv/lib/python3.10/site-packages/autorag/evaluator.py\" target=\"_blank\"><span style=\"color: #7f7f7f; text-decoration-color: #7f7f7f\">evaluator.py</span></a><span style=\"color: #7f7f7f; text-decoration-color: #7f7f7f\">:</span><a href=\"file:///Users/kimbwook/PycharmProjects/fast-campus/venv/lib/python3.10/site-packages/autorag/evaluator.py#248\" target=\"_blank\"><span style=\"color: #7f7f7f; text-decoration-color: #7f7f7f\">248</span></a>\n",
       "</pre>\n"
      ]
     },
     "metadata": {},
     "output_type": "display_data"
    },
    {
     "data": {
      "text/plain": [
       "Output()"
      ],
      "application/vnd.jupyter.widget-view+json": {
       "version_major": 2,
       "version_minor": 0,
       "model_id": "06278b57a70a4521b1fde938bd9df309"
      }
     },
     "metadata": {},
     "output_type": "display_data"
    },
    {
     "data": {
      "text/plain": [
       "\u001B[2;36m                   \u001B[0m\u001B[2;36m \u001B[0m\u001B[34mINFO    \u001B[0m \u001B[1m[\u001B[0mevaluator.py:\u001B[1;36m205\u001B[0m\u001B[1m]\u001B[0m >> Running node line retrieve_node_line\u001B[33m...\u001B[0m         \u001B]8;id=11726;file:///Users/kimbwook/PycharmProjects/fast-campus/venv/lib/python3.10/site-packages/autorag/evaluator.py\u001B\\\u001B[2mevaluator.py\u001B[0m\u001B]8;;\u001B\\\u001B[2m:\u001B[0m\u001B]8;id=810745;file:///Users/kimbwook/PycharmProjects/fast-campus/venv/lib/python3.10/site-packages/autorag/evaluator.py#205\u001B\\\u001B[2m205\u001B[0m\u001B]8;;\u001B\\\n"
      ],
      "text/html": [
       "<pre style=\"white-space:pre;overflow-x:auto;line-height:normal;font-family:Menlo,'DejaVu Sans Mono',consolas,'Courier New',monospace\"><span style=\"color: #7fbfbf; text-decoration-color: #7fbfbf\">                    </span><span style=\"color: #000080; text-decoration-color: #000080\">INFO    </span> <span style=\"font-weight: bold\">[</span>evaluator.py:<span style=\"color: #008080; text-decoration-color: #008080; font-weight: bold\">205</span><span style=\"font-weight: bold\">]</span> &gt;&gt; Running node line retrieve_node_line<span style=\"color: #808000; text-decoration-color: #808000\">...</span>         <a href=\"file:///Users/kimbwook/PycharmProjects/fast-campus/venv/lib/python3.10/site-packages/autorag/evaluator.py\" target=\"_blank\"><span style=\"color: #7f7f7f; text-decoration-color: #7f7f7f\">evaluator.py</span></a><span style=\"color: #7f7f7f; text-decoration-color: #7f7f7f\">:</span><a href=\"file:///Users/kimbwook/PycharmProjects/fast-campus/venv/lib/python3.10/site-packages/autorag/evaluator.py#205\" target=\"_blank\"><span style=\"color: #7f7f7f; text-decoration-color: #7f7f7f\">205</span></a>\n",
       "</pre>\n"
      ]
     },
     "metadata": {},
     "output_type": "display_data"
    },
    {
     "data": {
      "text/plain": [
       "\u001B[2;36m                   \u001B[0m\u001B[2;36m \u001B[0m\u001B[34mINFO    \u001B[0m \u001B[1m[\u001B[0mnode.py:\u001B[1;36m55\u001B[0m\u001B[1m]\u001B[0m >> Running node retrieval\u001B[33m...\u001B[0m                                   \u001B]8;id=955175;file:///Users/kimbwook/PycharmProjects/fast-campus/venv/lib/python3.10/site-packages/autorag/schema/node.py\u001B\\\u001B[2mnode.py\u001B[0m\u001B]8;;\u001B\\\u001B[2m:\u001B[0m\u001B]8;id=136159;file:///Users/kimbwook/PycharmProjects/fast-campus/venv/lib/python3.10/site-packages/autorag/schema/node.py#55\u001B\\\u001B[2m55\u001B[0m\u001B]8;;\u001B\\\n"
      ],
      "text/html": [
       "<pre style=\"white-space:pre;overflow-x:auto;line-height:normal;font-family:Menlo,'DejaVu Sans Mono',consolas,'Courier New',monospace\"><span style=\"color: #7fbfbf; text-decoration-color: #7fbfbf\">                    </span><span style=\"color: #000080; text-decoration-color: #000080\">INFO    </span> <span style=\"font-weight: bold\">[</span>node.py:<span style=\"color: #008080; text-decoration-color: #008080; font-weight: bold\">55</span><span style=\"font-weight: bold\">]</span> &gt;&gt; Running node retrieval<span style=\"color: #808000; text-decoration-color: #808000\">...</span>                                   <a href=\"file:///Users/kimbwook/PycharmProjects/fast-campus/venv/lib/python3.10/site-packages/autorag/schema/node.py\" target=\"_blank\"><span style=\"color: #7f7f7f; text-decoration-color: #7f7f7f\">node.py</span></a><span style=\"color: #7f7f7f; text-decoration-color: #7f7f7f\">:</span><a href=\"file:///Users/kimbwook/PycharmProjects/fast-campus/venv/lib/python3.10/site-packages/autorag/schema/node.py#55\" target=\"_blank\"><span style=\"color: #7f7f7f; text-decoration-color: #7f7f7f\">55</span></a>\n",
       "</pre>\n"
      ]
     },
     "metadata": {},
     "output_type": "display_data"
    },
    {
     "data": {
      "text/plain": [
       "\u001B[2;36m                   \u001B[0m\u001B[2;36m \u001B[0m\u001B[34mINFO    \u001B[0m \u001B[1m[\u001B[0mrun.py:\u001B[1;36m165\u001B[0m\u001B[1m]\u001B[0m >> Running retrieval node - semantic retrieval module\u001B[33m...\u001B[0m       \u001B]8;id=209974;file:///Users/kimbwook/PycharmProjects/fast-campus/venv/lib/python3.10/site-packages/autorag/nodes/retrieval/run.py\u001B\\\u001B[2mrun.py\u001B[0m\u001B]8;;\u001B\\\u001B[2m:\u001B[0m\u001B]8;id=552384;file:///Users/kimbwook/PycharmProjects/fast-campus/venv/lib/python3.10/site-packages/autorag/nodes/retrieval/run.py#165\u001B\\\u001B[2m165\u001B[0m\u001B]8;;\u001B\\\n"
      ],
      "text/html": [
       "<pre style=\"white-space:pre;overflow-x:auto;line-height:normal;font-family:Menlo,'DejaVu Sans Mono',consolas,'Courier New',monospace\"><span style=\"color: #7fbfbf; text-decoration-color: #7fbfbf\">                    </span><span style=\"color: #000080; text-decoration-color: #000080\">INFO    </span> <span style=\"font-weight: bold\">[</span>run.py:<span style=\"color: #008080; text-decoration-color: #008080; font-weight: bold\">165</span><span style=\"font-weight: bold\">]</span> &gt;&gt; Running retrieval node - semantic retrieval module<span style=\"color: #808000; text-decoration-color: #808000\">...</span>       <a href=\"file:///Users/kimbwook/PycharmProjects/fast-campus/venv/lib/python3.10/site-packages/autorag/nodes/retrieval/run.py\" target=\"_blank\"><span style=\"color: #7f7f7f; text-decoration-color: #7f7f7f\">run.py</span></a><span style=\"color: #7f7f7f; text-decoration-color: #7f7f7f\">:</span><a href=\"file:///Users/kimbwook/PycharmProjects/fast-campus/venv/lib/python3.10/site-packages/autorag/nodes/retrieval/run.py#165\" target=\"_blank\"><span style=\"color: #7f7f7f; text-decoration-color: #7f7f7f\">165</span></a>\n",
       "</pre>\n"
      ]
     },
     "metadata": {},
     "output_type": "display_data"
    },
    {
     "data": {
      "text/plain": [
       "\u001B[2;36m                   \u001B[0m\u001B[2;36m \u001B[0m\u001B[34mINFO    \u001B[0m \u001B[1m[\u001B[0mrun.py:\u001B[1;36m196\u001B[0m\u001B[1m]\u001B[0m >> Running retrieval node - lexical retrieval module\u001B[33m...\u001B[0m        \u001B]8;id=646979;file:///Users/kimbwook/PycharmProjects/fast-campus/venv/lib/python3.10/site-packages/autorag/nodes/retrieval/run.py\u001B\\\u001B[2mrun.py\u001B[0m\u001B]8;;\u001B\\\u001B[2m:\u001B[0m\u001B]8;id=563813;file:///Users/kimbwook/PycharmProjects/fast-campus/venv/lib/python3.10/site-packages/autorag/nodes/retrieval/run.py#196\u001B\\\u001B[2m196\u001B[0m\u001B]8;;\u001B\\\n"
      ],
      "text/html": [
       "<pre style=\"white-space:pre;overflow-x:auto;line-height:normal;font-family:Menlo,'DejaVu Sans Mono',consolas,'Courier New',monospace\"><span style=\"color: #7fbfbf; text-decoration-color: #7fbfbf\">                    </span><span style=\"color: #000080; text-decoration-color: #000080\">INFO    </span> <span style=\"font-weight: bold\">[</span>run.py:<span style=\"color: #008080; text-decoration-color: #008080; font-weight: bold\">196</span><span style=\"font-weight: bold\">]</span> &gt;&gt; Running retrieval node - lexical retrieval module<span style=\"color: #808000; text-decoration-color: #808000\">...</span>        <a href=\"file:///Users/kimbwook/PycharmProjects/fast-campus/venv/lib/python3.10/site-packages/autorag/nodes/retrieval/run.py\" target=\"_blank\"><span style=\"color: #7f7f7f; text-decoration-color: #7f7f7f\">run.py</span></a><span style=\"color: #7f7f7f; text-decoration-color: #7f7f7f\">:</span><a href=\"file:///Users/kimbwook/PycharmProjects/fast-campus/venv/lib/python3.10/site-packages/autorag/nodes/retrieval/run.py#196\" target=\"_blank\"><span style=\"color: #7f7f7f; text-decoration-color: #7f7f7f\">196</span></a>\n",
       "</pre>\n"
      ]
     },
     "metadata": {},
     "output_type": "display_data"
    },
    {
     "data": {
      "text/plain": [
       "\u001B[2;36m                   \u001B[0m\u001B[2;36m \u001B[0m\u001B[34mINFO    \u001B[0m \u001B[1m[\u001B[0mbase.py:\u001B[1;36m18\u001B[0m\u001B[1m]\u001B[0m >> Initialize retrieval node - BM25                            \u001B]8;id=722569;file:///Users/kimbwook/PycharmProjects/fast-campus/venv/lib/python3.10/site-packages/autorag/nodes/retrieval/base.py\u001B\\\u001B[2mbase.py\u001B[0m\u001B]8;;\u001B\\\u001B[2m:\u001B[0m\u001B]8;id=711197;file:///Users/kimbwook/PycharmProjects/fast-campus/venv/lib/python3.10/site-packages/autorag/nodes/retrieval/base.py#18\u001B\\\u001B[2m18\u001B[0m\u001B]8;;\u001B\\\n"
      ],
      "text/html": [
       "<pre style=\"white-space:pre;overflow-x:auto;line-height:normal;font-family:Menlo,'DejaVu Sans Mono',consolas,'Courier New',monospace\"><span style=\"color: #7fbfbf; text-decoration-color: #7fbfbf\">                    </span><span style=\"color: #000080; text-decoration-color: #000080\">INFO    </span> <span style=\"font-weight: bold\">[</span>base.py:<span style=\"color: #008080; text-decoration-color: #008080; font-weight: bold\">18</span><span style=\"font-weight: bold\">]</span> &gt;&gt; Initialize retrieval node - BM25                            <a href=\"file:///Users/kimbwook/PycharmProjects/fast-campus/venv/lib/python3.10/site-packages/autorag/nodes/retrieval/base.py\" target=\"_blank\"><span style=\"color: #7f7f7f; text-decoration-color: #7f7f7f\">base.py</span></a><span style=\"color: #7f7f7f; text-decoration-color: #7f7f7f\">:</span><a href=\"file:///Users/kimbwook/PycharmProjects/fast-campus/venv/lib/python3.10/site-packages/autorag/nodes/retrieval/base.py#18\" target=\"_blank\"><span style=\"color: #7f7f7f; text-decoration-color: #7f7f7f\">18</span></a>\n",
       "</pre>\n"
      ]
     },
     "metadata": {},
     "output_type": "display_data"
    },
    {
     "data": {
      "text/plain": [
       "\u001B[2;36m[01/30/25 15:36:48]\u001B[0m\u001B[2;36m \u001B[0m\u001B[34mINFO    \u001B[0m \u001B[1m[\u001B[0mbase.py:\u001B[1;36m31\u001B[0m\u001B[1m]\u001B[0m >> Running retrieval node - BM25 module\u001B[33m...\u001B[0m                     \u001B]8;id=154377;file:///Users/kimbwook/PycharmProjects/fast-campus/venv/lib/python3.10/site-packages/autorag/nodes/retrieval/base.py\u001B\\\u001B[2mbase.py\u001B[0m\u001B]8;;\u001B\\\u001B[2m:\u001B[0m\u001B]8;id=57520;file:///Users/kimbwook/PycharmProjects/fast-campus/venv/lib/python3.10/site-packages/autorag/nodes/retrieval/base.py#31\u001B\\\u001B[2m31\u001B[0m\u001B]8;;\u001B\\\n"
      ],
      "text/html": [
       "<pre style=\"white-space:pre;overflow-x:auto;line-height:normal;font-family:Menlo,'DejaVu Sans Mono',consolas,'Courier New',monospace\"><span style=\"color: #7fbfbf; text-decoration-color: #7fbfbf\">[01/30/25 15:36:48] </span><span style=\"color: #000080; text-decoration-color: #000080\">INFO    </span> <span style=\"font-weight: bold\">[</span>base.py:<span style=\"color: #008080; text-decoration-color: #008080; font-weight: bold\">31</span><span style=\"font-weight: bold\">]</span> &gt;&gt; Running retrieval node - BM25 module<span style=\"color: #808000; text-decoration-color: #808000\">...</span>                     <a href=\"file:///Users/kimbwook/PycharmProjects/fast-campus/venv/lib/python3.10/site-packages/autorag/nodes/retrieval/base.py\" target=\"_blank\"><span style=\"color: #7f7f7f; text-decoration-color: #7f7f7f\">base.py</span></a><span style=\"color: #7f7f7f; text-decoration-color: #7f7f7f\">:</span><a href=\"file:///Users/kimbwook/PycharmProjects/fast-campus/venv/lib/python3.10/site-packages/autorag/nodes/retrieval/base.py#31\" target=\"_blank\"><span style=\"color: #7f7f7f; text-decoration-color: #7f7f7f\">31</span></a>\n",
       "</pre>\n"
      ]
     },
     "metadata": {},
     "output_type": "display_data"
    },
    {
     "data": {
      "text/plain": [
       "\u001B[2;36m[01/30/25 15:37:36]\u001B[0m\u001B[2;36m \u001B[0m\u001B[34mINFO    \u001B[0m \u001B[1m[\u001B[0mbase.py:\u001B[1;36m28\u001B[0m\u001B[1m]\u001B[0m >> Deleting retrieval node - BM25 module\u001B[33m...\u001B[0m                    \u001B]8;id=33050;file:///Users/kimbwook/PycharmProjects/fast-campus/venv/lib/python3.10/site-packages/autorag/nodes/retrieval/base.py\u001B\\\u001B[2mbase.py\u001B[0m\u001B]8;;\u001B\\\u001B[2m:\u001B[0m\u001B]8;id=625641;file:///Users/kimbwook/PycharmProjects/fast-campus/venv/lib/python3.10/site-packages/autorag/nodes/retrieval/base.py#28\u001B\\\u001B[2m28\u001B[0m\u001B]8;;\u001B\\\n"
      ],
      "text/html": [
       "<pre style=\"white-space:pre;overflow-x:auto;line-height:normal;font-family:Menlo,'DejaVu Sans Mono',consolas,'Courier New',monospace\"><span style=\"color: #7fbfbf; text-decoration-color: #7fbfbf\">[01/30/25 15:37:36] </span><span style=\"color: #000080; text-decoration-color: #000080\">INFO    </span> <span style=\"font-weight: bold\">[</span>base.py:<span style=\"color: #008080; text-decoration-color: #008080; font-weight: bold\">28</span><span style=\"font-weight: bold\">]</span> &gt;&gt; Deleting retrieval node - BM25 module<span style=\"color: #808000; text-decoration-color: #808000\">...</span>                    <a href=\"file:///Users/kimbwook/PycharmProjects/fast-campus/venv/lib/python3.10/site-packages/autorag/nodes/retrieval/base.py\" target=\"_blank\"><span style=\"color: #7f7f7f; text-decoration-color: #7f7f7f\">base.py</span></a><span style=\"color: #7f7f7f; text-decoration-color: #7f7f7f\">:</span><a href=\"file:///Users/kimbwook/PycharmProjects/fast-campus/venv/lib/python3.10/site-packages/autorag/nodes/retrieval/base.py#28\" target=\"_blank\"><span style=\"color: #7f7f7f; text-decoration-color: #7f7f7f\">28</span></a>\n",
       "</pre>\n"
      ]
     },
     "metadata": {},
     "output_type": "display_data"
    },
    {
     "data": {
      "text/plain": [
       "\u001B[2;36m                   \u001B[0m\u001B[2;36m \u001B[0m\u001B[34mINFO    \u001B[0m \u001B[1m[\u001B[0mrun.py:\u001B[1;36m227\u001B[0m\u001B[1m]\u001B[0m >> Running retrieval node - hybrid retrieval module\u001B[33m...\u001B[0m         \u001B]8;id=788722;file:///Users/kimbwook/PycharmProjects/fast-campus/venv/lib/python3.10/site-packages/autorag/nodes/retrieval/run.py\u001B\\\u001B[2mrun.py\u001B[0m\u001B]8;;\u001B\\\u001B[2m:\u001B[0m\u001B]8;id=101340;file:///Users/kimbwook/PycharmProjects/fast-campus/venv/lib/python3.10/site-packages/autorag/nodes/retrieval/run.py#227\u001B\\\u001B[2m227\u001B[0m\u001B]8;;\u001B\\\n"
      ],
      "text/html": [
       "<pre style=\"white-space:pre;overflow-x:auto;line-height:normal;font-family:Menlo,'DejaVu Sans Mono',consolas,'Courier New',monospace\"><span style=\"color: #7fbfbf; text-decoration-color: #7fbfbf\">                    </span><span style=\"color: #000080; text-decoration-color: #000080\">INFO    </span> <span style=\"font-weight: bold\">[</span>run.py:<span style=\"color: #008080; text-decoration-color: #008080; font-weight: bold\">227</span><span style=\"font-weight: bold\">]</span> &gt;&gt; Running retrieval node - hybrid retrieval module<span style=\"color: #808000; text-decoration-color: #808000\">...</span>         <a href=\"file:///Users/kimbwook/PycharmProjects/fast-campus/venv/lib/python3.10/site-packages/autorag/nodes/retrieval/run.py\" target=\"_blank\"><span style=\"color: #7f7f7f; text-decoration-color: #7f7f7f\">run.py</span></a><span style=\"color: #7f7f7f; text-decoration-color: #7f7f7f\">:</span><a href=\"file:///Users/kimbwook/PycharmProjects/fast-campus/venv/lib/python3.10/site-packages/autorag/nodes/retrieval/run.py#227\" target=\"_blank\"><span style=\"color: #7f7f7f; text-decoration-color: #7f7f7f\">227</span></a>\n",
       "</pre>\n"
      ]
     },
     "metadata": {},
     "output_type": "display_data"
    },
    {
     "data": {
      "text/plain": [
       "\u001B[2;36m                   \u001B[0m\u001B[2;36m \u001B[0m\u001B[34mINFO    \u001B[0m \u001B[1m[\u001B[0mevaluator.py:\u001B[1;36m218\u001B[0m\u001B[1m]\u001B[0m >> Evaluation complete.                            \u001B]8;id=717649;file:///Users/kimbwook/PycharmProjects/fast-campus/venv/lib/python3.10/site-packages/autorag/evaluator.py\u001B\\\u001B[2mevaluator.py\u001B[0m\u001B]8;;\u001B\\\u001B[2m:\u001B[0m\u001B]8;id=577893;file:///Users/kimbwook/PycharmProjects/fast-campus/venv/lib/python3.10/site-packages/autorag/evaluator.py#218\u001B\\\u001B[2m218\u001B[0m\u001B]8;;\u001B\\\n"
      ],
      "text/html": [
       "<pre style=\"white-space:pre;overflow-x:auto;line-height:normal;font-family:Menlo,'DejaVu Sans Mono',consolas,'Courier New',monospace\"><span style=\"color: #7fbfbf; text-decoration-color: #7fbfbf\">                    </span><span style=\"color: #000080; text-decoration-color: #000080\">INFO    </span> <span style=\"font-weight: bold\">[</span>evaluator.py:<span style=\"color: #008080; text-decoration-color: #008080; font-weight: bold\">218</span><span style=\"font-weight: bold\">]</span> &gt;&gt; Evaluation complete.                            <a href=\"file:///Users/kimbwook/PycharmProjects/fast-campus/venv/lib/python3.10/site-packages/autorag/evaluator.py\" target=\"_blank\"><span style=\"color: #7f7f7f; text-decoration-color: #7f7f7f\">evaluator.py</span></a><span style=\"color: #7f7f7f; text-decoration-color: #7f7f7f\">:</span><a href=\"file:///Users/kimbwook/PycharmProjects/fast-campus/venv/lib/python3.10/site-packages/autorag/evaluator.py#218\" target=\"_blank\"><span style=\"color: #7f7f7f; text-decoration-color: #7f7f7f\">218</span></a>\n",
       "</pre>\n"
      ]
     },
     "metadata": {},
     "output_type": "display_data"
    },
    {
     "data": {
      "text/plain": [],
      "text/html": [
       "<pre style=\"white-space:pre;overflow-x:auto;line-height:normal;font-family:Menlo,'DejaVu Sans Mono',consolas,'Courier New',monospace\"></pre>\n"
      ]
     },
     "metadata": {},
     "output_type": "display_data"
    }
   ],
   "execution_count": 52
  },
  {
   "metadata": {},
   "cell_type": "markdown",
   "source": "### 3. Window + Add file name",
   "id": "a694e3d6f72d108f"
  },
  {
   "metadata": {
    "ExecuteTime": {
     "end_time": "2025-01-30T06:38:22.543687Z",
     "start_time": "2025-01-30T06:38:22.540125Z"
    }
   },
   "cell_type": "code",
   "source": "window_project_dir = os.path.join(root_dir, 'autorag_project', 'final', 'chunking_optimization', 'window')",
   "id": "c71f2fcd94ea7aba",
   "outputs": [],
   "execution_count": 53
  },
  {
   "metadata": {
    "ExecuteTime": {
     "end_time": "2025-01-30T06:39:18.114235Z",
     "start_time": "2025-01-30T06:38:24.540551Z"
    }
   },
   "cell_type": "code",
   "source": [
    "from autorag.evaluator import Evaluator\n",
    "\n",
    "evaluator = Evaluator(\n",
    "    qa_data_path=window_qa_path, \n",
    "    corpus_data_path=window_path,\n",
    "    project_dir=window_project_dir,\n",
    ")\n",
    "evaluator.start_trial(chunk_opt_yaml_path, skip_validation=True)"
   ],
   "id": "9090fb80889314fb",
   "outputs": [
    {
     "data": {
      "text/plain": [
       "\u001B[2;36m[01/30/25 15:38:26]\u001B[0m\u001B[2;36m \u001B[0m\u001B[34mINFO    \u001B[0m \u001B[1m[\u001B[0mevaluator.py:\u001B[1;36m228\u001B[0m\u001B[1m]\u001B[0m >> Embedding BM25 corpus\u001B[33m...\u001B[0m                        \u001B]8;id=481248;file:///Users/kimbwook/PycharmProjects/fast-campus/venv/lib/python3.10/site-packages/autorag/evaluator.py\u001B\\\u001B[2mevaluator.py\u001B[0m\u001B]8;;\u001B\\\u001B[2m:\u001B[0m\u001B]8;id=214339;file:///Users/kimbwook/PycharmProjects/fast-campus/venv/lib/python3.10/site-packages/autorag/evaluator.py#228\u001B\\\u001B[2m228\u001B[0m\u001B]8;;\u001B\\\n"
      ],
      "text/html": [
       "<pre style=\"white-space:pre;overflow-x:auto;line-height:normal;font-family:Menlo,'DejaVu Sans Mono',consolas,'Courier New',monospace\"><span style=\"color: #7fbfbf; text-decoration-color: #7fbfbf\">[01/30/25 15:38:26] </span><span style=\"color: #000080; text-decoration-color: #000080\">INFO    </span> <span style=\"font-weight: bold\">[</span>evaluator.py:<span style=\"color: #008080; text-decoration-color: #008080; font-weight: bold\">228</span><span style=\"font-weight: bold\">]</span> &gt;&gt; Embedding BM25 corpus<span style=\"color: #808000; text-decoration-color: #808000\">...</span>                        <a href=\"file:///Users/kimbwook/PycharmProjects/fast-campus/venv/lib/python3.10/site-packages/autorag/evaluator.py\" target=\"_blank\"><span style=\"color: #7f7f7f; text-decoration-color: #7f7f7f\">evaluator.py</span></a><span style=\"color: #7f7f7f; text-decoration-color: #7f7f7f\">:</span><a href=\"file:///Users/kimbwook/PycharmProjects/fast-campus/venv/lib/python3.10/site-packages/autorag/evaluator.py#228\" target=\"_blank\"><span style=\"color: #7f7f7f; text-decoration-color: #7f7f7f\">228</span></a>\n",
       "</pre>\n"
      ]
     },
     "metadata": {},
     "output_type": "display_data"
    },
    {
     "data": {
      "text/plain": [
       "\u001B[2;36m[01/30/25 15:38:28]\u001B[0m\u001B[2;36m \u001B[0m\u001B[34mINFO    \u001B[0m \u001B[1m[\u001B[0mevaluator.py:\u001B[1;36m248\u001B[0m\u001B[1m]\u001B[0m >> BM25 corpus embedding complete.                 \u001B]8;id=927708;file:///Users/kimbwook/PycharmProjects/fast-campus/venv/lib/python3.10/site-packages/autorag/evaluator.py\u001B\\\u001B[2mevaluator.py\u001B[0m\u001B]8;;\u001B\\\u001B[2m:\u001B[0m\u001B]8;id=481704;file:///Users/kimbwook/PycharmProjects/fast-campus/venv/lib/python3.10/site-packages/autorag/evaluator.py#248\u001B\\\u001B[2m248\u001B[0m\u001B]8;;\u001B\\\n"
      ],
      "text/html": [
       "<pre style=\"white-space:pre;overflow-x:auto;line-height:normal;font-family:Menlo,'DejaVu Sans Mono',consolas,'Courier New',monospace\"><span style=\"color: #7fbfbf; text-decoration-color: #7fbfbf\">[01/30/25 15:38:28] </span><span style=\"color: #000080; text-decoration-color: #000080\">INFO    </span> <span style=\"font-weight: bold\">[</span>evaluator.py:<span style=\"color: #008080; text-decoration-color: #008080; font-weight: bold\">248</span><span style=\"font-weight: bold\">]</span> &gt;&gt; BM25 corpus embedding complete.                 <a href=\"file:///Users/kimbwook/PycharmProjects/fast-campus/venv/lib/python3.10/site-packages/autorag/evaluator.py\" target=\"_blank\"><span style=\"color: #7f7f7f; text-decoration-color: #7f7f7f\">evaluator.py</span></a><span style=\"color: #7f7f7f; text-decoration-color: #7f7f7f\">:</span><a href=\"file:///Users/kimbwook/PycharmProjects/fast-campus/venv/lib/python3.10/site-packages/autorag/evaluator.py#248\" target=\"_blank\"><span style=\"color: #7f7f7f; text-decoration-color: #7f7f7f\">248</span></a>\n",
       "</pre>\n"
      ]
     },
     "metadata": {},
     "output_type": "display_data"
    },
    {
     "data": {
      "text/plain": [
       "Output()"
      ],
      "application/vnd.jupyter.widget-view+json": {
       "version_major": 2,
       "version_minor": 0,
       "model_id": "f82459284aec4a97a5e1a10e6d5d7414"
      }
     },
     "metadata": {},
     "output_type": "display_data"
    },
    {
     "data": {
      "text/plain": [
       "\u001B[2;36m                   \u001B[0m\u001B[2;36m \u001B[0m\u001B[34mINFO    \u001B[0m \u001B[1m[\u001B[0mevaluator.py:\u001B[1;36m205\u001B[0m\u001B[1m]\u001B[0m >> Running node line retrieve_node_line\u001B[33m...\u001B[0m         \u001B]8;id=26592;file:///Users/kimbwook/PycharmProjects/fast-campus/venv/lib/python3.10/site-packages/autorag/evaluator.py\u001B\\\u001B[2mevaluator.py\u001B[0m\u001B]8;;\u001B\\\u001B[2m:\u001B[0m\u001B]8;id=420987;file:///Users/kimbwook/PycharmProjects/fast-campus/venv/lib/python3.10/site-packages/autorag/evaluator.py#205\u001B\\\u001B[2m205\u001B[0m\u001B]8;;\u001B\\\n"
      ],
      "text/html": [
       "<pre style=\"white-space:pre;overflow-x:auto;line-height:normal;font-family:Menlo,'DejaVu Sans Mono',consolas,'Courier New',monospace\"><span style=\"color: #7fbfbf; text-decoration-color: #7fbfbf\">                    </span><span style=\"color: #000080; text-decoration-color: #000080\">INFO    </span> <span style=\"font-weight: bold\">[</span>evaluator.py:<span style=\"color: #008080; text-decoration-color: #008080; font-weight: bold\">205</span><span style=\"font-weight: bold\">]</span> &gt;&gt; Running node line retrieve_node_line<span style=\"color: #808000; text-decoration-color: #808000\">...</span>         <a href=\"file:///Users/kimbwook/PycharmProjects/fast-campus/venv/lib/python3.10/site-packages/autorag/evaluator.py\" target=\"_blank\"><span style=\"color: #7f7f7f; text-decoration-color: #7f7f7f\">evaluator.py</span></a><span style=\"color: #7f7f7f; text-decoration-color: #7f7f7f\">:</span><a href=\"file:///Users/kimbwook/PycharmProjects/fast-campus/venv/lib/python3.10/site-packages/autorag/evaluator.py#205\" target=\"_blank\"><span style=\"color: #7f7f7f; text-decoration-color: #7f7f7f\">205</span></a>\n",
       "</pre>\n"
      ]
     },
     "metadata": {},
     "output_type": "display_data"
    },
    {
     "data": {
      "text/plain": [
       "\u001B[2;36m                   \u001B[0m\u001B[2;36m \u001B[0m\u001B[34mINFO    \u001B[0m \u001B[1m[\u001B[0mnode.py:\u001B[1;36m55\u001B[0m\u001B[1m]\u001B[0m >> Running node retrieval\u001B[33m...\u001B[0m                                   \u001B]8;id=717283;file:///Users/kimbwook/PycharmProjects/fast-campus/venv/lib/python3.10/site-packages/autorag/schema/node.py\u001B\\\u001B[2mnode.py\u001B[0m\u001B]8;;\u001B\\\u001B[2m:\u001B[0m\u001B]8;id=314086;file:///Users/kimbwook/PycharmProjects/fast-campus/venv/lib/python3.10/site-packages/autorag/schema/node.py#55\u001B\\\u001B[2m55\u001B[0m\u001B]8;;\u001B\\\n"
      ],
      "text/html": [
       "<pre style=\"white-space:pre;overflow-x:auto;line-height:normal;font-family:Menlo,'DejaVu Sans Mono',consolas,'Courier New',monospace\"><span style=\"color: #7fbfbf; text-decoration-color: #7fbfbf\">                    </span><span style=\"color: #000080; text-decoration-color: #000080\">INFO    </span> <span style=\"font-weight: bold\">[</span>node.py:<span style=\"color: #008080; text-decoration-color: #008080; font-weight: bold\">55</span><span style=\"font-weight: bold\">]</span> &gt;&gt; Running node retrieval<span style=\"color: #808000; text-decoration-color: #808000\">...</span>                                   <a href=\"file:///Users/kimbwook/PycharmProjects/fast-campus/venv/lib/python3.10/site-packages/autorag/schema/node.py\" target=\"_blank\"><span style=\"color: #7f7f7f; text-decoration-color: #7f7f7f\">node.py</span></a><span style=\"color: #7f7f7f; text-decoration-color: #7f7f7f\">:</span><a href=\"file:///Users/kimbwook/PycharmProjects/fast-campus/venv/lib/python3.10/site-packages/autorag/schema/node.py#55\" target=\"_blank\"><span style=\"color: #7f7f7f; text-decoration-color: #7f7f7f\">55</span></a>\n",
       "</pre>\n"
      ]
     },
     "metadata": {},
     "output_type": "display_data"
    },
    {
     "data": {
      "text/plain": [
       "\u001B[2;36m                   \u001B[0m\u001B[2;36m \u001B[0m\u001B[34mINFO    \u001B[0m \u001B[1m[\u001B[0mrun.py:\u001B[1;36m165\u001B[0m\u001B[1m]\u001B[0m >> Running retrieval node - semantic retrieval module\u001B[33m...\u001B[0m       \u001B]8;id=857259;file:///Users/kimbwook/PycharmProjects/fast-campus/venv/lib/python3.10/site-packages/autorag/nodes/retrieval/run.py\u001B\\\u001B[2mrun.py\u001B[0m\u001B]8;;\u001B\\\u001B[2m:\u001B[0m\u001B]8;id=616328;file:///Users/kimbwook/PycharmProjects/fast-campus/venv/lib/python3.10/site-packages/autorag/nodes/retrieval/run.py#165\u001B\\\u001B[2m165\u001B[0m\u001B]8;;\u001B\\\n"
      ],
      "text/html": [
       "<pre style=\"white-space:pre;overflow-x:auto;line-height:normal;font-family:Menlo,'DejaVu Sans Mono',consolas,'Courier New',monospace\"><span style=\"color: #7fbfbf; text-decoration-color: #7fbfbf\">                    </span><span style=\"color: #000080; text-decoration-color: #000080\">INFO    </span> <span style=\"font-weight: bold\">[</span>run.py:<span style=\"color: #008080; text-decoration-color: #008080; font-weight: bold\">165</span><span style=\"font-weight: bold\">]</span> &gt;&gt; Running retrieval node - semantic retrieval module<span style=\"color: #808000; text-decoration-color: #808000\">...</span>       <a href=\"file:///Users/kimbwook/PycharmProjects/fast-campus/venv/lib/python3.10/site-packages/autorag/nodes/retrieval/run.py\" target=\"_blank\"><span style=\"color: #7f7f7f; text-decoration-color: #7f7f7f\">run.py</span></a><span style=\"color: #7f7f7f; text-decoration-color: #7f7f7f\">:</span><a href=\"file:///Users/kimbwook/PycharmProjects/fast-campus/venv/lib/python3.10/site-packages/autorag/nodes/retrieval/run.py#165\" target=\"_blank\"><span style=\"color: #7f7f7f; text-decoration-color: #7f7f7f\">165</span></a>\n",
       "</pre>\n"
      ]
     },
     "metadata": {},
     "output_type": "display_data"
    },
    {
     "data": {
      "text/plain": [
       "\u001B[2;36m                   \u001B[0m\u001B[2;36m \u001B[0m\u001B[34mINFO    \u001B[0m \u001B[1m[\u001B[0mrun.py:\u001B[1;36m196\u001B[0m\u001B[1m]\u001B[0m >> Running retrieval node - lexical retrieval module\u001B[33m...\u001B[0m        \u001B]8;id=990120;file:///Users/kimbwook/PycharmProjects/fast-campus/venv/lib/python3.10/site-packages/autorag/nodes/retrieval/run.py\u001B\\\u001B[2mrun.py\u001B[0m\u001B]8;;\u001B\\\u001B[2m:\u001B[0m\u001B]8;id=909268;file:///Users/kimbwook/PycharmProjects/fast-campus/venv/lib/python3.10/site-packages/autorag/nodes/retrieval/run.py#196\u001B\\\u001B[2m196\u001B[0m\u001B]8;;\u001B\\\n"
      ],
      "text/html": [
       "<pre style=\"white-space:pre;overflow-x:auto;line-height:normal;font-family:Menlo,'DejaVu Sans Mono',consolas,'Courier New',monospace\"><span style=\"color: #7fbfbf; text-decoration-color: #7fbfbf\">                    </span><span style=\"color: #000080; text-decoration-color: #000080\">INFO    </span> <span style=\"font-weight: bold\">[</span>run.py:<span style=\"color: #008080; text-decoration-color: #008080; font-weight: bold\">196</span><span style=\"font-weight: bold\">]</span> &gt;&gt; Running retrieval node - lexical retrieval module<span style=\"color: #808000; text-decoration-color: #808000\">...</span>        <a href=\"file:///Users/kimbwook/PycharmProjects/fast-campus/venv/lib/python3.10/site-packages/autorag/nodes/retrieval/run.py\" target=\"_blank\"><span style=\"color: #7f7f7f; text-decoration-color: #7f7f7f\">run.py</span></a><span style=\"color: #7f7f7f; text-decoration-color: #7f7f7f\">:</span><a href=\"file:///Users/kimbwook/PycharmProjects/fast-campus/venv/lib/python3.10/site-packages/autorag/nodes/retrieval/run.py#196\" target=\"_blank\"><span style=\"color: #7f7f7f; text-decoration-color: #7f7f7f\">196</span></a>\n",
       "</pre>\n"
      ]
     },
     "metadata": {},
     "output_type": "display_data"
    },
    {
     "data": {
      "text/plain": [
       "\u001B[2;36m                   \u001B[0m\u001B[2;36m \u001B[0m\u001B[34mINFO    \u001B[0m \u001B[1m[\u001B[0mbase.py:\u001B[1;36m18\u001B[0m\u001B[1m]\u001B[0m >> Initialize retrieval node - BM25                            \u001B]8;id=14275;file:///Users/kimbwook/PycharmProjects/fast-campus/venv/lib/python3.10/site-packages/autorag/nodes/retrieval/base.py\u001B\\\u001B[2mbase.py\u001B[0m\u001B]8;;\u001B\\\u001B[2m:\u001B[0m\u001B]8;id=657114;file:///Users/kimbwook/PycharmProjects/fast-campus/venv/lib/python3.10/site-packages/autorag/nodes/retrieval/base.py#18\u001B\\\u001B[2m18\u001B[0m\u001B]8;;\u001B\\\n"
      ],
      "text/html": [
       "<pre style=\"white-space:pre;overflow-x:auto;line-height:normal;font-family:Menlo,'DejaVu Sans Mono',consolas,'Courier New',monospace\"><span style=\"color: #7fbfbf; text-decoration-color: #7fbfbf\">                    </span><span style=\"color: #000080; text-decoration-color: #000080\">INFO    </span> <span style=\"font-weight: bold\">[</span>base.py:<span style=\"color: #008080; text-decoration-color: #008080; font-weight: bold\">18</span><span style=\"font-weight: bold\">]</span> &gt;&gt; Initialize retrieval node - BM25                            <a href=\"file:///Users/kimbwook/PycharmProjects/fast-campus/venv/lib/python3.10/site-packages/autorag/nodes/retrieval/base.py\" target=\"_blank\"><span style=\"color: #7f7f7f; text-decoration-color: #7f7f7f\">base.py</span></a><span style=\"color: #7f7f7f; text-decoration-color: #7f7f7f\">:</span><a href=\"file:///Users/kimbwook/PycharmProjects/fast-campus/venv/lib/python3.10/site-packages/autorag/nodes/retrieval/base.py#18\" target=\"_blank\"><span style=\"color: #7f7f7f; text-decoration-color: #7f7f7f\">18</span></a>\n",
       "</pre>\n"
      ]
     },
     "metadata": {},
     "output_type": "display_data"
    },
    {
     "data": {
      "text/plain": [
       "\u001B[2;36m[01/30/25 15:39:18]\u001B[0m\u001B[2;36m \u001B[0m\u001B[34mINFO    \u001B[0m \u001B[1m[\u001B[0mbase.py:\u001B[1;36m28\u001B[0m\u001B[1m]\u001B[0m >> Deleting retrieval node - BM25 module\u001B[33m...\u001B[0m                    \u001B]8;id=354113;file:///Users/kimbwook/PycharmProjects/fast-campus/venv/lib/python3.10/site-packages/autorag/nodes/retrieval/base.py\u001B\\\u001B[2mbase.py\u001B[0m\u001B]8;;\u001B\\\u001B[2m:\u001B[0m\u001B]8;id=44434;file:///Users/kimbwook/PycharmProjects/fast-campus/venv/lib/python3.10/site-packages/autorag/nodes/retrieval/base.py#28\u001B\\\u001B[2m28\u001B[0m\u001B]8;;\u001B\\\n"
      ],
      "text/html": [
       "<pre style=\"white-space:pre;overflow-x:auto;line-height:normal;font-family:Menlo,'DejaVu Sans Mono',consolas,'Courier New',monospace\"><span style=\"color: #7fbfbf; text-decoration-color: #7fbfbf\">[01/30/25 15:39:18] </span><span style=\"color: #000080; text-decoration-color: #000080\">INFO    </span> <span style=\"font-weight: bold\">[</span>base.py:<span style=\"color: #008080; text-decoration-color: #008080; font-weight: bold\">28</span><span style=\"font-weight: bold\">]</span> &gt;&gt; Deleting retrieval node - BM25 module<span style=\"color: #808000; text-decoration-color: #808000\">...</span>                    <a href=\"file:///Users/kimbwook/PycharmProjects/fast-campus/venv/lib/python3.10/site-packages/autorag/nodes/retrieval/base.py\" target=\"_blank\"><span style=\"color: #7f7f7f; text-decoration-color: #7f7f7f\">base.py</span></a><span style=\"color: #7f7f7f; text-decoration-color: #7f7f7f\">:</span><a href=\"file:///Users/kimbwook/PycharmProjects/fast-campus/venv/lib/python3.10/site-packages/autorag/nodes/retrieval/base.py#28\" target=\"_blank\"><span style=\"color: #7f7f7f; text-decoration-color: #7f7f7f\">28</span></a>\n",
       "</pre>\n"
      ]
     },
     "metadata": {},
     "output_type": "display_data"
    },
    {
     "data": {
      "text/plain": [
       "\u001B[2;36m                   \u001B[0m\u001B[2;36m \u001B[0m\u001B[34mINFO    \u001B[0m \u001B[1m[\u001B[0mrun.py:\u001B[1;36m227\u001B[0m\u001B[1m]\u001B[0m >> Running retrieval node - hybrid retrieval module\u001B[33m...\u001B[0m         \u001B]8;id=203358;file:///Users/kimbwook/PycharmProjects/fast-campus/venv/lib/python3.10/site-packages/autorag/nodes/retrieval/run.py\u001B\\\u001B[2mrun.py\u001B[0m\u001B]8;;\u001B\\\u001B[2m:\u001B[0m\u001B]8;id=832120;file:///Users/kimbwook/PycharmProjects/fast-campus/venv/lib/python3.10/site-packages/autorag/nodes/retrieval/run.py#227\u001B\\\u001B[2m227\u001B[0m\u001B]8;;\u001B\\\n"
      ],
      "text/html": [
       "<pre style=\"white-space:pre;overflow-x:auto;line-height:normal;font-family:Menlo,'DejaVu Sans Mono',consolas,'Courier New',monospace\"><span style=\"color: #7fbfbf; text-decoration-color: #7fbfbf\">                    </span><span style=\"color: #000080; text-decoration-color: #000080\">INFO    </span> <span style=\"font-weight: bold\">[</span>run.py:<span style=\"color: #008080; text-decoration-color: #008080; font-weight: bold\">227</span><span style=\"font-weight: bold\">]</span> &gt;&gt; Running retrieval node - hybrid retrieval module<span style=\"color: #808000; text-decoration-color: #808000\">...</span>         <a href=\"file:///Users/kimbwook/PycharmProjects/fast-campus/venv/lib/python3.10/site-packages/autorag/nodes/retrieval/run.py\" target=\"_blank\"><span style=\"color: #7f7f7f; text-decoration-color: #7f7f7f\">run.py</span></a><span style=\"color: #7f7f7f; text-decoration-color: #7f7f7f\">:</span><a href=\"file:///Users/kimbwook/PycharmProjects/fast-campus/venv/lib/python3.10/site-packages/autorag/nodes/retrieval/run.py#227\" target=\"_blank\"><span style=\"color: #7f7f7f; text-decoration-color: #7f7f7f\">227</span></a>\n",
       "</pre>\n"
      ]
     },
     "metadata": {},
     "output_type": "display_data"
    },
    {
     "data": {
      "text/plain": [
       "\u001B[2;36m                   \u001B[0m\u001B[2;36m \u001B[0m\u001B[34mINFO    \u001B[0m \u001B[1m[\u001B[0mevaluator.py:\u001B[1;36m218\u001B[0m\u001B[1m]\u001B[0m >> Evaluation complete.                            \u001B]8;id=734516;file:///Users/kimbwook/PycharmProjects/fast-campus/venv/lib/python3.10/site-packages/autorag/evaluator.py\u001B\\\u001B[2mevaluator.py\u001B[0m\u001B]8;;\u001B\\\u001B[2m:\u001B[0m\u001B]8;id=671704;file:///Users/kimbwook/PycharmProjects/fast-campus/venv/lib/python3.10/site-packages/autorag/evaluator.py#218\u001B\\\u001B[2m218\u001B[0m\u001B]8;;\u001B\\\n"
      ],
      "text/html": [
       "<pre style=\"white-space:pre;overflow-x:auto;line-height:normal;font-family:Menlo,'DejaVu Sans Mono',consolas,'Courier New',monospace\"><span style=\"color: #7fbfbf; text-decoration-color: #7fbfbf\">                    </span><span style=\"color: #000080; text-decoration-color: #000080\">INFO    </span> <span style=\"font-weight: bold\">[</span>evaluator.py:<span style=\"color: #008080; text-decoration-color: #008080; font-weight: bold\">218</span><span style=\"font-weight: bold\">]</span> &gt;&gt; Evaluation complete.                            <a href=\"file:///Users/kimbwook/PycharmProjects/fast-campus/venv/lib/python3.10/site-packages/autorag/evaluator.py\" target=\"_blank\"><span style=\"color: #7f7f7f; text-decoration-color: #7f7f7f\">evaluator.py</span></a><span style=\"color: #7f7f7f; text-decoration-color: #7f7f7f\">:</span><a href=\"file:///Users/kimbwook/PycharmProjects/fast-campus/venv/lib/python3.10/site-packages/autorag/evaluator.py#218\" target=\"_blank\"><span style=\"color: #7f7f7f; text-decoration-color: #7f7f7f\">218</span></a>\n",
       "</pre>\n"
      ]
     },
     "metadata": {},
     "output_type": "display_data"
    },
    {
     "data": {
      "text/plain": [],
      "text/html": [
       "<pre style=\"white-space:pre;overflow-x:auto;line-height:normal;font-family:Menlo,'DejaVu Sans Mono',consolas,'Courier New',monospace\"></pre>\n"
      ]
     },
     "metadata": {},
     "output_type": "display_data"
    }
   ],
   "execution_count": 54
  },
  {
   "metadata": {},
   "cell_type": "markdown",
   "source": "# 결과 확인",
   "id": "26cd31ca1a352227"
  },
  {
   "metadata": {
    "ExecuteTime": {
     "end_time": "2025-01-30T06:41:30.576570Z",
     "start_time": "2025-01-30T06:41:30.568629Z"
    }
   },
   "cell_type": "code",
   "source": [
    "og_result_path = os.path.join(og_project_dir, '0', 'retrieve_node_line', 'retrieval', 'summary.csv')\n",
    "og_result = pd.read_csv(og_result_path)\n",
    "og_result[['retrieval_precision', 'retrieval_recall', 'retrieval_f1']]"
   ],
   "id": "f33d4be079986b80",
   "outputs": [
    {
     "data": {
      "text/plain": [
       "   retrieval_precision  retrieval_recall  retrieval_f1\n",
       "0             0.272727          0.818182      0.409091"
      ],
      "text/html": [
       "<div>\n",
       "<style scoped>\n",
       "    .dataframe tbody tr th:only-of-type {\n",
       "        vertical-align: middle;\n",
       "    }\n",
       "\n",
       "    .dataframe tbody tr th {\n",
       "        vertical-align: top;\n",
       "    }\n",
       "\n",
       "    .dataframe thead th {\n",
       "        text-align: right;\n",
       "    }\n",
       "</style>\n",
       "<table border=\"1\" class=\"dataframe\">\n",
       "  <thead>\n",
       "    <tr style=\"text-align: right;\">\n",
       "      <th></th>\n",
       "      <th>retrieval_precision</th>\n",
       "      <th>retrieval_recall</th>\n",
       "      <th>retrieval_f1</th>\n",
       "    </tr>\n",
       "  </thead>\n",
       "  <tbody>\n",
       "    <tr>\n",
       "      <th>0</th>\n",
       "      <td>0.272727</td>\n",
       "      <td>0.818182</td>\n",
       "      <td>0.409091</td>\n",
       "    </tr>\n",
       "  </tbody>\n",
       "</table>\n",
       "</div>"
      ]
     },
     "execution_count": 59,
     "metadata": {},
     "output_type": "execute_result"
    }
   ],
   "execution_count": 59
  },
  {
   "metadata": {
    "ExecuteTime": {
     "end_time": "2025-01-30T06:41:49.290097Z",
     "start_time": "2025-01-30T06:41:49.283150Z"
    }
   },
   "cell_type": "code",
   "source": [
    "new_token_result_path = os.path.join(new_project_dir, '0', 'retrieve_node_line', 'retrieval', 'summary.csv')\n",
    "new_token_result = pd.read_csv(new_token_result_path)\n",
    "new_token_result[['retrieval_precision', 'retrieval_recall', 'retrieval_f1']]"
   ],
   "id": "5165c278b6ff5c15",
   "outputs": [
    {
     "data": {
      "text/plain": [
       "   retrieval_precision  retrieval_recall  retrieval_f1\n",
       "0             0.424242          0.878788      0.557576"
      ],
      "text/html": [
       "<div>\n",
       "<style scoped>\n",
       "    .dataframe tbody tr th:only-of-type {\n",
       "        vertical-align: middle;\n",
       "    }\n",
       "\n",
       "    .dataframe tbody tr th {\n",
       "        vertical-align: top;\n",
       "    }\n",
       "\n",
       "    .dataframe thead th {\n",
       "        text-align: right;\n",
       "    }\n",
       "</style>\n",
       "<table border=\"1\" class=\"dataframe\">\n",
       "  <thead>\n",
       "    <tr style=\"text-align: right;\">\n",
       "      <th></th>\n",
       "      <th>retrieval_precision</th>\n",
       "      <th>retrieval_recall</th>\n",
       "      <th>retrieval_f1</th>\n",
       "    </tr>\n",
       "  </thead>\n",
       "  <tbody>\n",
       "    <tr>\n",
       "      <th>0</th>\n",
       "      <td>0.424242</td>\n",
       "      <td>0.878788</td>\n",
       "      <td>0.557576</td>\n",
       "    </tr>\n",
       "  </tbody>\n",
       "</table>\n",
       "</div>"
      ]
     },
     "execution_count": 60,
     "metadata": {},
     "output_type": "execute_result"
    }
   ],
   "execution_count": 60
  },
  {
   "metadata": {
    "ExecuteTime": {
     "end_time": "2025-01-30T06:41:57.717173Z",
     "start_time": "2025-01-30T06:41:57.709674Z"
    }
   },
   "cell_type": "code",
   "source": [
    "window_result_path = os.path.join(window_project_dir, '0', 'retrieve_node_line', 'retrieval', 'summary.csv')\n",
    "window_result = pd.read_csv(window_result_path)\n",
    "window_result[['retrieval_precision', 'retrieval_recall', 'retrieval_f1']]"
   ],
   "id": "bc91fb543acb9ff2",
   "outputs": [
    {
     "data": {
      "text/plain": [
       "   retrieval_precision  retrieval_recall  retrieval_f1\n",
       "0             0.151515          0.393939      0.215152"
      ],
      "text/html": [
       "<div>\n",
       "<style scoped>\n",
       "    .dataframe tbody tr th:only-of-type {\n",
       "        vertical-align: middle;\n",
       "    }\n",
       "\n",
       "    .dataframe tbody tr th {\n",
       "        vertical-align: top;\n",
       "    }\n",
       "\n",
       "    .dataframe thead th {\n",
       "        text-align: right;\n",
       "    }\n",
       "</style>\n",
       "<table border=\"1\" class=\"dataframe\">\n",
       "  <thead>\n",
       "    <tr style=\"text-align: right;\">\n",
       "      <th></th>\n",
       "      <th>retrieval_precision</th>\n",
       "      <th>retrieval_recall</th>\n",
       "      <th>retrieval_f1</th>\n",
       "    </tr>\n",
       "  </thead>\n",
       "  <tbody>\n",
       "    <tr>\n",
       "      <th>0</th>\n",
       "      <td>0.151515</td>\n",
       "      <td>0.393939</td>\n",
       "      <td>0.215152</td>\n",
       "    </tr>\n",
       "  </tbody>\n",
       "</table>\n",
       "</div>"
      ]
     },
     "execution_count": 61,
     "metadata": {},
     "output_type": "execute_result"
    }
   ],
   "execution_count": 61
  },
  {
   "metadata": {},
   "cell_type": "markdown",
   "source": "New Token이 가장 좋은 성능을 보여주었습니다.",
   "id": "f321a340b19646e2"
  },
  {
   "metadata": {},
   "cell_type": "code",
   "outputs": [],
   "execution_count": null,
   "source": "",
   "id": "69cf50165d930917"
  }
 ],
 "metadata": {
  "kernelspec": {
   "display_name": "Python 3",
   "language": "python",
   "name": "python3"
  },
  "language_info": {
   "codemirror_mode": {
    "name": "ipython",
    "version": 2
   },
   "file_extension": ".py",
   "mimetype": "text/x-python",
   "name": "python",
   "nbconvert_exporter": "python",
   "pygments_lexer": "ipython2",
   "version": "2.7.6"
  }
 },
 "nbformat": 4,
 "nbformat_minor": 5
}
