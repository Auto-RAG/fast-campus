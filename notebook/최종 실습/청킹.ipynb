{
 "cells": [
  {
   "metadata": {},
   "cell_type": "markdown",
   "source": "## Setting",
   "id": "24cc104e39d83ea3"
  },
  {
   "metadata": {
    "ExecuteTime": {
     "end_time": "2025-01-28T10:46:11.555821Z",
     "start_time": "2025-01-28T10:46:11.552150Z"
    }
   },
   "cell_type": "code",
   "source": [
    "import os\n",
    "\n",
    "current_dir = os.getcwd()\n",
    "root_dir = os.path.join(current_dir, '..', '..')\n",
    "data_dir = os.path.join(root_dir, 'data', 'final')"
   ],
   "id": "df124fa15425982",
   "outputs": [],
   "execution_count": 4
  },
  {
   "metadata": {
    "ExecuteTime": {
     "end_time": "2025-01-28T10:46:12.070549Z",
     "start_time": "2025-01-28T10:46:12.067658Z"
    }
   },
   "cell_type": "code",
   "source": [
    "import nest_asyncio\n",
    "\n",
    "nest_asyncio.apply()"
   ],
   "id": "fad731aaf2444520",
   "outputs": [],
   "execution_count": 5
  },
  {
   "metadata": {
    "ExecuteTime": {
     "end_time": "2025-01-28T10:46:12.411348Z",
     "start_time": "2025-01-28T10:46:12.406521Z"
    }
   },
   "cell_type": "code",
   "source": [
    "from dotenv import load_dotenv\n",
    "\n",
    "load_dotenv()\n",
    "\n",
    "# import os\n",
    "\n",
    "# os.environ[\"OPENAI_API_KEY\"] = \"...\""
   ],
   "id": "7fa79ef0606ddf24",
   "outputs": [
    {
     "data": {
      "text/plain": [
       "True"
      ]
     },
     "execution_count": 6,
     "metadata": {},
     "output_type": "execute_result"
    }
   ],
   "execution_count": 6
  },
  {
   "metadata": {},
   "cell_type": "markdown",
   "source": [
    "# 청킹\n",
    "\n",
    "그림 청킹 안 하고 싶은 분들은 Raw.parquet 파일을 분리해서 청킹하시면 됩니다!"
   ],
   "id": "ab48dd732daaebfb"
  },
  {
   "metadata": {
    "ExecuteTime": {
     "end_time": "2025-01-28T10:46:17.021593Z",
     "start_time": "2025-01-28T10:46:16.973953Z"
    }
   },
   "cell_type": "code",
   "source": [
    "from autorag.chunker import Chunker\n",
    "\n",
    "# Set path\n",
    "parsed_path = os.path.join(root_dir, 'autorag_project', 'final', 'parse', 'raw.parquet')\n",
    "project_dir = os.path.join(root_dir, 'autorag_project', 'final', 'chunk')\n",
    "\n",
    "chunker = Chunker.from_parquet(parsed_data_path=parsed_path, project_dir=project_dir)"
   ],
   "id": "c5abf6ddefdfbcd2",
   "outputs": [],
   "execution_count": 7
  },
  {
   "metadata": {
    "ExecuteTime": {
     "end_time": "2025-01-28T10:59:08.563642Z",
     "start_time": "2025-01-28T10:59:07.355579Z"
    }
   },
   "cell_type": "code",
   "source": [
    "yaml_path = os.path.join(root_dir, 'config', 'final', 'chunk', 'basic_chunking.yaml')\n",
    "\n",
    "chunker.start_chunking(yaml_path)"
   ],
   "id": "9072e678e49554d3",
   "outputs": [
    {
     "data": {
      "text/plain": [
       "\u001B[2;36m[01/28/25 19:59:07]\u001B[0m\u001B[2;36m \u001B[0m\u001B[34mINFO    \u001B[0m \u001B[1m[\u001B[0mchunker.py:\u001B[1;36m44\u001B[0m\u001B[1m]\u001B[0m >> Chunking Start\u001B[33m...\u001B[0m                                     \u001B]8;id=521516;file:///Users/kimbwook/PycharmProjects/fast-campus/venv/lib/python3.10/site-packages/autorag/chunker.py\u001B\\\u001B[2mchunker.py\u001B[0m\u001B]8;;\u001B\\\u001B[2m:\u001B[0m\u001B]8;id=137708;file:///Users/kimbwook/PycharmProjects/fast-campus/venv/lib/python3.10/site-packages/autorag/chunker.py#44\u001B\\\u001B[2m44\u001B[0m\u001B]8;;\u001B\\\n"
      ],
      "text/html": [
       "<pre style=\"white-space:pre;overflow-x:auto;line-height:normal;font-family:Menlo,'DejaVu Sans Mono',consolas,'Courier New',monospace\"><span style=\"color: #7fbfbf; text-decoration-color: #7fbfbf\">[01/28/25 19:59:07] </span><span style=\"color: #000080; text-decoration-color: #000080\">INFO    </span> <span style=\"font-weight: bold\">[</span>chunker.py:<span style=\"color: #008080; text-decoration-color: #008080; font-weight: bold\">44</span><span style=\"font-weight: bold\">]</span> &gt;&gt; Chunking Start<span style=\"color: #808000; text-decoration-color: #808000\">...</span>                                     <a href=\"file:///Users/kimbwook/PycharmProjects/fast-campus/venv/lib/python3.10/site-packages/autorag/chunker.py\" target=\"_blank\"><span style=\"color: #7f7f7f; text-decoration-color: #7f7f7f\">chunker.py</span></a><span style=\"color: #7f7f7f; text-decoration-color: #7f7f7f\">:</span><a href=\"file:///Users/kimbwook/PycharmProjects/fast-campus/venv/lib/python3.10/site-packages/autorag/chunker.py#44\" target=\"_blank\"><span style=\"color: #7f7f7f; text-decoration-color: #7f7f7f\">44</span></a>\n",
       "</pre>\n"
      ]
     },
     "metadata": {},
     "output_type": "display_data"
    },
    {
     "data": {
      "text/plain": [
       "\u001B[2;36m                   \u001B[0m\u001B[2;36m \u001B[0m\u001B[34mINFO    \u001B[0m \u001B[1m[\u001B[0mbase.py:\u001B[1;36m22\u001B[0m\u001B[1m]\u001B[0m >> Running chunker - llama_index_chunk module\u001B[33m...\u001B[0m               \u001B]8;id=966707;file:///Users/kimbwook/PycharmProjects/fast-campus/venv/lib/python3.10/site-packages/autorag/data/chunk/base.py\u001B\\\u001B[2mbase.py\u001B[0m\u001B]8;;\u001B\\\u001B[2m:\u001B[0m\u001B]8;id=34463;file:///Users/kimbwook/PycharmProjects/fast-campus/venv/lib/python3.10/site-packages/autorag/data/chunk/base.py#22\u001B\\\u001B[2m22\u001B[0m\u001B]8;;\u001B\\\n"
      ],
      "text/html": [
       "<pre style=\"white-space:pre;overflow-x:auto;line-height:normal;font-family:Menlo,'DejaVu Sans Mono',consolas,'Courier New',monospace\"><span style=\"color: #7fbfbf; text-decoration-color: #7fbfbf\">                    </span><span style=\"color: #000080; text-decoration-color: #000080\">INFO    </span> <span style=\"font-weight: bold\">[</span>base.py:<span style=\"color: #008080; text-decoration-color: #008080; font-weight: bold\">22</span><span style=\"font-weight: bold\">]</span> &gt;&gt; Running chunker - llama_index_chunk module<span style=\"color: #808000; text-decoration-color: #808000\">...</span>               <a href=\"file:///Users/kimbwook/PycharmProjects/fast-campus/venv/lib/python3.10/site-packages/autorag/data/chunk/base.py\" target=\"_blank\"><span style=\"color: #7f7f7f; text-decoration-color: #7f7f7f\">base.py</span></a><span style=\"color: #7f7f7f; text-decoration-color: #7f7f7f\">:</span><a href=\"file:///Users/kimbwook/PycharmProjects/fast-campus/venv/lib/python3.10/site-packages/autorag/data/chunk/base.py#22\" target=\"_blank\"><span style=\"color: #7f7f7f; text-decoration-color: #7f7f7f\">22</span></a>\n",
       "</pre>\n"
      ]
     },
     "metadata": {},
     "output_type": "display_data"
    },
    {
     "data": {
      "text/plain": [
       "\u001B[2;36m[01/28/25 19:59:08]\u001B[0m\u001B[2;36m \u001B[0m\u001B[34mINFO    \u001B[0m \u001B[1m[\u001B[0mchunker.py:\u001B[1;36m51\u001B[0m\u001B[1m]\u001B[0m >> Chunking Done!                                        \u001B]8;id=211460;file:///Users/kimbwook/PycharmProjects/fast-campus/venv/lib/python3.10/site-packages/autorag/chunker.py\u001B\\\u001B[2mchunker.py\u001B[0m\u001B]8;;\u001B\\\u001B[2m:\u001B[0m\u001B]8;id=240314;file:///Users/kimbwook/PycharmProjects/fast-campus/venv/lib/python3.10/site-packages/autorag/chunker.py#51\u001B\\\u001B[2m51\u001B[0m\u001B]8;;\u001B\\\n"
      ],
      "text/html": [
       "<pre style=\"white-space:pre;overflow-x:auto;line-height:normal;font-family:Menlo,'DejaVu Sans Mono',consolas,'Courier New',monospace\"><span style=\"color: #7fbfbf; text-decoration-color: #7fbfbf\">[01/28/25 19:59:08] </span><span style=\"color: #000080; text-decoration-color: #000080\">INFO    </span> <span style=\"font-weight: bold\">[</span>chunker.py:<span style=\"color: #008080; text-decoration-color: #008080; font-weight: bold\">51</span><span style=\"font-weight: bold\">]</span> &gt;&gt; Chunking Done!                                        <a href=\"file:///Users/kimbwook/PycharmProjects/fast-campus/venv/lib/python3.10/site-packages/autorag/chunker.py\" target=\"_blank\"><span style=\"color: #7f7f7f; text-decoration-color: #7f7f7f\">chunker.py</span></a><span style=\"color: #7f7f7f; text-decoration-color: #7f7f7f\">:</span><a href=\"file:///Users/kimbwook/PycharmProjects/fast-campus/venv/lib/python3.10/site-packages/autorag/chunker.py#51\" target=\"_blank\"><span style=\"color: #7f7f7f; text-decoration-color: #7f7f7f\">51</span></a>\n",
       "</pre>\n"
      ]
     },
     "metadata": {},
     "output_type": "display_data"
    }
   ],
   "execution_count": 8
  },
  {
   "metadata": {},
   "cell_type": "markdown",
   "source": "# 청킹 결과 확인",
   "id": "1335fc86ffd1b641"
  },
  {
   "metadata": {
    "ExecuteTime": {
     "end_time": "2025-01-28T11:00:04.953289Z",
     "start_time": "2025-01-28T11:00:04.934567Z"
    }
   },
   "cell_type": "code",
   "source": [
    "import pandas as pd\n",
    "\n",
    "chunk_result = pd.read_parquet(os.path.join(project_dir, '0.parquet'))\n",
    "chunk_result    # 362 rows -> 861 rows"
   ],
   "id": "27e4028057b8fe8b",
   "outputs": [
    {
     "data": {
      "text/plain": [
       "                                   doc_id  \\\n",
       "0    c7036095-887a-4082-885e-14209c68cb0f   \n",
       "1    fc96bdca-c580-4f27-ab43-dfbcdbda99fb   \n",
       "2    18e02344-dc14-4924-b38c-9573bd437fcb   \n",
       "3    fd7ba604-3428-4b9b-8dea-8565b394cb34   \n",
       "4    ef1e83f5-7a4d-419b-b469-f4c4eb53b101   \n",
       "..                                    ...   \n",
       "856  bb36c5db-a016-404f-ad42-2e2c1eab11e4   \n",
       "857  167952f2-5c16-461c-b139-f7b7d8cf9f40   \n",
       "858  621dcf2e-3fdd-4b8e-8514-b94353524da3   \n",
       "859  006c3812-75b3-4d24-a703-fa261cd59417   \n",
       "860  e6e6332e-a897-4c8a-973c-a0be0753bdfd   \n",
       "\n",
       "                                              contents  \\\n",
       "0    <h1 id='0' style='font-size:18px'>2024년 KBO 규약...   \n",
       "1    고용할 수 있음</td></tr><tr><td>제44조 [선수계약의 승인]</td>...   \n",
       "2    <h1 id='0' style='font-size:20px'>제4장 연 고 권</h...   \n",
       "3    히어로즈</td><td>서울특별시</td></tr><tr><td>NC 다이노스</t...   \n",
       "4    <table id='0' style='font-size:14px'><tr><td>구...   \n",
       "..                                                 ...   \n",
       "856  그림 8. 정식경기 \\r\\n<예1>\\r\\n이닝 1 2 3 4 5 6 7 8 9 \\r...   \n",
       "857         갑 1 0 0 1 0 0 1 |3\\r\\n을 0 0 1 0 0 0 0+∝ |1   \n",
       "858  그림 9. 정식경기\\r\\n<예8>\\r\\n이닝 1 2 3 4 5 6 7 8 9 \\r\\...   \n",
       "859  3-2 승 \\r\\n<예14>\\r\\n이닝 1 2 3 4 5 6 7 8 9 \\r\\n갑 ...   \n",
       "860  그림 10. 투구자세 \\r\\n(본문 5.07(a) 참조) \\r\\n와인드업 포지션(오...   \n",
       "\n",
       "                                                  path start_end_idx  \\\n",
       "0    /Users/kimbwook/PycharmProjects/fast-campus/no...      [0, 575]   \n",
       "1    /Users/kimbwook/PycharmProjects/fast-campus/no...   [546, 1071]   \n",
       "2    /Users/kimbwook/PycharmProjects/fast-campus/no...      [0, 619]   \n",
       "3    /Users/kimbwook/PycharmProjects/fast-campus/no...   [621, 1277]   \n",
       "4    /Users/kimbwook/PycharmProjects/fast-campus/no...      [0, 516]   \n",
       "..                                                 ...           ...   \n",
       "856  /Users/kimbwook/PycharmProjects/fast-campus/no...      [0, 438]   \n",
       "857  /Users/kimbwook/PycharmProjects/fast-campus/no...    [416, 455]   \n",
       "858  /Users/kimbwook/PycharmProjects/fast-campus/no...      [0, 447]   \n",
       "859  /Users/kimbwook/PycharmProjects/fast-campus/no...    [429, 526]   \n",
       "860  /Users/kimbwook/PycharmProjects/fast-campus/no...       [0, 64]   \n",
       "\n",
       "                                              metadata  \n",
       "0    {'last_modified_datetime': '2025-01-27', 'next...  \n",
       "1    {'last_modified_datetime': '2025-01-27', 'next...  \n",
       "2    {'last_modified_datetime': '2025-01-27', 'next...  \n",
       "3    {'last_modified_datetime': '2025-01-27', 'next...  \n",
       "4    {'last_modified_datetime': '2025-01-27', 'next...  \n",
       "..                                                 ...  \n",
       "856  {'last_modified_datetime': '2025-01-27', 'next...  \n",
       "857  {'last_modified_datetime': '2025-01-27', 'next...  \n",
       "858  {'last_modified_datetime': '2025-01-27', 'next...  \n",
       "859  {'last_modified_datetime': '2025-01-27', 'next...  \n",
       "860  {'last_modified_datetime': '2025-01-27', 'next...  \n",
       "\n",
       "[861 rows x 5 columns]"
      ],
      "text/html": [
       "<div>\n",
       "<style scoped>\n",
       "    .dataframe tbody tr th:only-of-type {\n",
       "        vertical-align: middle;\n",
       "    }\n",
       "\n",
       "    .dataframe tbody tr th {\n",
       "        vertical-align: top;\n",
       "    }\n",
       "\n",
       "    .dataframe thead th {\n",
       "        text-align: right;\n",
       "    }\n",
       "</style>\n",
       "<table border=\"1\" class=\"dataframe\">\n",
       "  <thead>\n",
       "    <tr style=\"text-align: right;\">\n",
       "      <th></th>\n",
       "      <th>doc_id</th>\n",
       "      <th>contents</th>\n",
       "      <th>path</th>\n",
       "      <th>start_end_idx</th>\n",
       "      <th>metadata</th>\n",
       "    </tr>\n",
       "  </thead>\n",
       "  <tbody>\n",
       "    <tr>\n",
       "      <th>0</th>\n",
       "      <td>c7036095-887a-4082-885e-14209c68cb0f</td>\n",
       "      <td>&lt;h1 id='0' style='font-size:18px'&gt;2024년 KBO 규약...</td>\n",
       "      <td>/Users/kimbwook/PycharmProjects/fast-campus/no...</td>\n",
       "      <td>[0, 575]</td>\n",
       "      <td>{'last_modified_datetime': '2025-01-27', 'next...</td>\n",
       "    </tr>\n",
       "    <tr>\n",
       "      <th>1</th>\n",
       "      <td>fc96bdca-c580-4f27-ab43-dfbcdbda99fb</td>\n",
       "      <td>고용할 수 있음&lt;/td&gt;&lt;/tr&gt;&lt;tr&gt;&lt;td&gt;제44조 [선수계약의 승인]&lt;/td&gt;...</td>\n",
       "      <td>/Users/kimbwook/PycharmProjects/fast-campus/no...</td>\n",
       "      <td>[546, 1071]</td>\n",
       "      <td>{'last_modified_datetime': '2025-01-27', 'next...</td>\n",
       "    </tr>\n",
       "    <tr>\n",
       "      <th>2</th>\n",
       "      <td>18e02344-dc14-4924-b38c-9573bd437fcb</td>\n",
       "      <td>&lt;h1 id='0' style='font-size:20px'&gt;제4장 연 고 권&lt;/h...</td>\n",
       "      <td>/Users/kimbwook/PycharmProjects/fast-campus/no...</td>\n",
       "      <td>[0, 619]</td>\n",
       "      <td>{'last_modified_datetime': '2025-01-27', 'next...</td>\n",
       "    </tr>\n",
       "    <tr>\n",
       "      <th>3</th>\n",
       "      <td>fd7ba604-3428-4b9b-8dea-8565b394cb34</td>\n",
       "      <td>히어로즈&lt;/td&gt;&lt;td&gt;서울특별시&lt;/td&gt;&lt;/tr&gt;&lt;tr&gt;&lt;td&gt;NC 다이노스&lt;/t...</td>\n",
       "      <td>/Users/kimbwook/PycharmProjects/fast-campus/no...</td>\n",
       "      <td>[621, 1277]</td>\n",
       "      <td>{'last_modified_datetime': '2025-01-27', 'next...</td>\n",
       "    </tr>\n",
       "    <tr>\n",
       "      <th>4</th>\n",
       "      <td>ef1e83f5-7a4d-419b-b469-f4c4eb53b101</td>\n",
       "      <td>&lt;table id='0' style='font-size:14px'&gt;&lt;tr&gt;&lt;td&gt;구...</td>\n",
       "      <td>/Users/kimbwook/PycharmProjects/fast-campus/no...</td>\n",
       "      <td>[0, 516]</td>\n",
       "      <td>{'last_modified_datetime': '2025-01-27', 'next...</td>\n",
       "    </tr>\n",
       "    <tr>\n",
       "      <th>...</th>\n",
       "      <td>...</td>\n",
       "      <td>...</td>\n",
       "      <td>...</td>\n",
       "      <td>...</td>\n",
       "      <td>...</td>\n",
       "    </tr>\n",
       "    <tr>\n",
       "      <th>856</th>\n",
       "      <td>bb36c5db-a016-404f-ad42-2e2c1eab11e4</td>\n",
       "      <td>그림 8. 정식경기 \\r\\n&lt;예1&gt;\\r\\n이닝 1 2 3 4 5 6 7 8 9 \\r...</td>\n",
       "      <td>/Users/kimbwook/PycharmProjects/fast-campus/no...</td>\n",
       "      <td>[0, 438]</td>\n",
       "      <td>{'last_modified_datetime': '2025-01-27', 'next...</td>\n",
       "    </tr>\n",
       "    <tr>\n",
       "      <th>857</th>\n",
       "      <td>167952f2-5c16-461c-b139-f7b7d8cf9f40</td>\n",
       "      <td>갑 1 0 0 1 0 0 1 |3\\r\\n을 0 0 1 0 0 0 0+∝ |1</td>\n",
       "      <td>/Users/kimbwook/PycharmProjects/fast-campus/no...</td>\n",
       "      <td>[416, 455]</td>\n",
       "      <td>{'last_modified_datetime': '2025-01-27', 'next...</td>\n",
       "    </tr>\n",
       "    <tr>\n",
       "      <th>858</th>\n",
       "      <td>621dcf2e-3fdd-4b8e-8514-b94353524da3</td>\n",
       "      <td>그림 9. 정식경기\\r\\n&lt;예8&gt;\\r\\n이닝 1 2 3 4 5 6 7 8 9 \\r\\...</td>\n",
       "      <td>/Users/kimbwook/PycharmProjects/fast-campus/no...</td>\n",
       "      <td>[0, 447]</td>\n",
       "      <td>{'last_modified_datetime': '2025-01-27', 'next...</td>\n",
       "    </tr>\n",
       "    <tr>\n",
       "      <th>859</th>\n",
       "      <td>006c3812-75b3-4d24-a703-fa261cd59417</td>\n",
       "      <td>3-2 승 \\r\\n&lt;예14&gt;\\r\\n이닝 1 2 3 4 5 6 7 8 9 \\r\\n갑 ...</td>\n",
       "      <td>/Users/kimbwook/PycharmProjects/fast-campus/no...</td>\n",
       "      <td>[429, 526]</td>\n",
       "      <td>{'last_modified_datetime': '2025-01-27', 'next...</td>\n",
       "    </tr>\n",
       "    <tr>\n",
       "      <th>860</th>\n",
       "      <td>e6e6332e-a897-4c8a-973c-a0be0753bdfd</td>\n",
       "      <td>그림 10. 투구자세 \\r\\n(본문 5.07(a) 참조) \\r\\n와인드업 포지션(오...</td>\n",
       "      <td>/Users/kimbwook/PycharmProjects/fast-campus/no...</td>\n",
       "      <td>[0, 64]</td>\n",
       "      <td>{'last_modified_datetime': '2025-01-27', 'next...</td>\n",
       "    </tr>\n",
       "  </tbody>\n",
       "</table>\n",
       "<p>861 rows × 5 columns</p>\n",
       "</div>"
      ]
     },
     "execution_count": 9,
     "metadata": {},
     "output_type": "execute_result"
    }
   ],
   "execution_count": 9
  },
  {
   "metadata": {},
   "cell_type": "code",
   "outputs": [],
   "execution_count": null,
   "source": "",
   "id": "49fec1e8969b1c8d"
  }
 ],
 "metadata": {
  "kernelspec": {
   "display_name": "Python 3",
   "language": "python",
   "name": "python3"
  },
  "language_info": {
   "codemirror_mode": {
    "name": "ipython",
    "version": 2
   },
   "file_extension": ".py",
   "mimetype": "text/x-python",
   "name": "python",
   "nbconvert_exporter": "python",
   "pygments_lexer": "ipython2",
   "version": "2.7.6"
  }
 },
 "nbformat": 4,
 "nbformat_minor": 5
}
