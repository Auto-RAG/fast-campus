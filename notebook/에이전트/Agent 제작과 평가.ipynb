{
 "cells": [
  {
   "metadata": {},
   "cell_type": "markdown",
   "source": [
    "# Agent 간단 평가\n",
    "\n",
    "Dify에서 제작한 에이전트를 가져다가 평가합니다.\n",
    "\n",
    "Dify에서 에이전트를 제작한 뒤, Batch Run을 통하여 빠르게 결과 값을 뽑아볼 수 있습니다."
   ],
   "id": "c04a1517b7e0a5bb"
  },
  {
   "cell_type": "code",
   "id": "initial_id",
   "metadata": {
    "collapsed": true,
    "ExecuteTime": {
     "end_time": "2025-01-29T06:27:13.439009Z",
     "start_time": "2025-01-29T06:27:13.115123Z"
    }
   },
   "source": [
    "import pandas as pd\n",
    "import os\n",
    "import pathlib\n",
    "\n",
    "root_dir = pathlib.PurePath(os.path.dirname(os.getcwd())).parent\n",
    "data_dir = os.path.join(root_dir, 'data')"
   ],
   "outputs": [],
   "execution_count": 1
  },
  {
   "metadata": {
    "ExecuteTime": {
     "end_time": "2025-01-29T06:27:31.897413Z",
     "start_time": "2025-01-29T06:27:31.890313Z"
    }
   },
   "cell_type": "code",
   "source": [
    "# 에이전트 평가 결과를 불러옵니다.\n",
    "result_df = pd.read_csv(os.path.join(data_dir, 'agent', 'dify_result.csv'))"
   ],
   "id": "1bd422f5bb2713d9",
   "outputs": [],
   "execution_count": 3
  },
  {
   "metadata": {
    "ExecuteTime": {
     "end_time": "2025-01-29T06:27:35.276594Z",
     "start_time": "2025-01-29T06:27:35.264984Z"
    }
   },
   "cell_type": "code",
   "source": "result_df.head()",
   "id": "369e004ec8ddc2a7",
   "outputs": [
    {
     "data": {
      "text/plain": [
       "                                     title  \\\n",
       "0  [코드잇 스프린트 Node.js 백엔드 1기] 위클리 페이퍼 - 1주차   \n",
       "1                           FSD 간단하게 시작해보기   \n",
       "2          [면접을 위한 CS 전공지식 노트] 2.3 네트워크 기기   \n",
       "3             🎓 Reinforcement learning - 1   \n",
       "4                                    TIL-2   \n",
       "\n",
       "                                   short_description         Completion result  \n",
       "0  Q1. URL의 구성 요소 중 쿼리가 무엇인지 실제 웹 서비스의 URL을 예시로 설...  {\"class_name\":\"Backend\"}  \n",
       "1  공식홈피를 기반 했지만 제 입맛에 따라 해석 했음을 알려드립니다.\\n\\n프롤로그\\n...  {\"class_name\":\"Backend\"}  \n",
       "2                    면접을 위한 CS 전공지식 노트 - 2.3 네트워크 기기       {\"class_name\":\"CS\"}  \n",
       "3  🎓 강화학습(Reinforcement Learning, RL)이란?\\n>강화학습(R...       {\"class_name\":\"AI\"}  \n",
       "4  논리적으로 제품을 만들 수 있도록 도와주는 프레임워크 중 하나.사용자에 대한 이해를...   {\"class_name\":\"DevOps\"}  "
      ],
      "text/html": [
       "<div>\n",
       "<style scoped>\n",
       "    .dataframe tbody tr th:only-of-type {\n",
       "        vertical-align: middle;\n",
       "    }\n",
       "\n",
       "    .dataframe tbody tr th {\n",
       "        vertical-align: top;\n",
       "    }\n",
       "\n",
       "    .dataframe thead th {\n",
       "        text-align: right;\n",
       "    }\n",
       "</style>\n",
       "<table border=\"1\" class=\"dataframe\">\n",
       "  <thead>\n",
       "    <tr style=\"text-align: right;\">\n",
       "      <th></th>\n",
       "      <th>title</th>\n",
       "      <th>short_description</th>\n",
       "      <th>Completion result</th>\n",
       "    </tr>\n",
       "  </thead>\n",
       "  <tbody>\n",
       "    <tr>\n",
       "      <th>0</th>\n",
       "      <td>[코드잇 스프린트 Node.js 백엔드 1기] 위클리 페이퍼 - 1주차</td>\n",
       "      <td>Q1. URL의 구성 요소 중 쿼리가 무엇인지 실제 웹 서비스의 URL을 예시로 설...</td>\n",
       "      <td>{\"class_name\":\"Backend\"}</td>\n",
       "    </tr>\n",
       "    <tr>\n",
       "      <th>1</th>\n",
       "      <td>FSD 간단하게 시작해보기</td>\n",
       "      <td>공식홈피를 기반 했지만 제 입맛에 따라 해석 했음을 알려드립니다.\\n\\n프롤로그\\n...</td>\n",
       "      <td>{\"class_name\":\"Backend\"}</td>\n",
       "    </tr>\n",
       "    <tr>\n",
       "      <th>2</th>\n",
       "      <td>[면접을 위한 CS 전공지식 노트] 2.3 네트워크 기기</td>\n",
       "      <td>면접을 위한 CS 전공지식 노트 - 2.3 네트워크 기기</td>\n",
       "      <td>{\"class_name\":\"CS\"}</td>\n",
       "    </tr>\n",
       "    <tr>\n",
       "      <th>3</th>\n",
       "      <td>🎓 Reinforcement learning - 1</td>\n",
       "      <td>🎓 강화학습(Reinforcement Learning, RL)이란?\\n&gt;강화학습(R...</td>\n",
       "      <td>{\"class_name\":\"AI\"}</td>\n",
       "    </tr>\n",
       "    <tr>\n",
       "      <th>4</th>\n",
       "      <td>TIL-2</td>\n",
       "      <td>논리적으로 제품을 만들 수 있도록 도와주는 프레임워크 중 하나.사용자에 대한 이해를...</td>\n",
       "      <td>{\"class_name\":\"DevOps\"}</td>\n",
       "    </tr>\n",
       "  </tbody>\n",
       "</table>\n",
       "</div>"
      ]
     },
     "execution_count": 4,
     "metadata": {},
     "output_type": "execute_result"
    }
   ],
   "execution_count": 4
  },
  {
   "metadata": {
    "ExecuteTime": {
     "end_time": "2025-01-29T06:29:32.892712Z",
     "start_time": "2025-01-29T06:29:32.886780Z"
    }
   },
   "cell_type": "code",
   "source": [
    "import ast\n",
    "result_df['sector'] = result_df['Completion result'].apply(lambda x: ast.literal_eval(x)[\"class_name\"])"
   ],
   "id": "3a46ca940abab3ff",
   "outputs": [],
   "execution_count": 9
  },
  {
   "metadata": {
    "ExecuteTime": {
     "end_time": "2025-01-29T06:29:38.989776Z",
     "start_time": "2025-01-29T06:29:38.981760Z"
    }
   },
   "cell_type": "code",
   "source": "result_df.head()",
   "id": "a0c3ea4f4df7ed76",
   "outputs": [
    {
     "data": {
      "text/plain": [
       "                                     title  \\\n",
       "0  [코드잇 스프린트 Node.js 백엔드 1기] 위클리 페이퍼 - 1주차   \n",
       "1                           FSD 간단하게 시작해보기   \n",
       "2          [면접을 위한 CS 전공지식 노트] 2.3 네트워크 기기   \n",
       "3             🎓 Reinforcement learning - 1   \n",
       "4                                    TIL-2   \n",
       "\n",
       "                                   short_description  \\\n",
       "0  Q1. URL의 구성 요소 중 쿼리가 무엇인지 실제 웹 서비스의 URL을 예시로 설...   \n",
       "1  공식홈피를 기반 했지만 제 입맛에 따라 해석 했음을 알려드립니다.\\n\\n프롤로그\\n...   \n",
       "2                    면접을 위한 CS 전공지식 노트 - 2.3 네트워크 기기   \n",
       "3  🎓 강화학습(Reinforcement Learning, RL)이란?\\n>강화학습(R...   \n",
       "4  논리적으로 제품을 만들 수 있도록 도와주는 프레임워크 중 하나.사용자에 대한 이해를...   \n",
       "\n",
       "          Completion result   sector  \n",
       "0  {\"class_name\":\"Backend\"}  Backend  \n",
       "1  {\"class_name\":\"Backend\"}  Backend  \n",
       "2       {\"class_name\":\"CS\"}       CS  \n",
       "3       {\"class_name\":\"AI\"}       AI  \n",
       "4   {\"class_name\":\"DevOps\"}   DevOps  "
      ],
      "text/html": [
       "<div>\n",
       "<style scoped>\n",
       "    .dataframe tbody tr th:only-of-type {\n",
       "        vertical-align: middle;\n",
       "    }\n",
       "\n",
       "    .dataframe tbody tr th {\n",
       "        vertical-align: top;\n",
       "    }\n",
       "\n",
       "    .dataframe thead th {\n",
       "        text-align: right;\n",
       "    }\n",
       "</style>\n",
       "<table border=\"1\" class=\"dataframe\">\n",
       "  <thead>\n",
       "    <tr style=\"text-align: right;\">\n",
       "      <th></th>\n",
       "      <th>title</th>\n",
       "      <th>short_description</th>\n",
       "      <th>Completion result</th>\n",
       "      <th>sector</th>\n",
       "    </tr>\n",
       "  </thead>\n",
       "  <tbody>\n",
       "    <tr>\n",
       "      <th>0</th>\n",
       "      <td>[코드잇 스프린트 Node.js 백엔드 1기] 위클리 페이퍼 - 1주차</td>\n",
       "      <td>Q1. URL의 구성 요소 중 쿼리가 무엇인지 실제 웹 서비스의 URL을 예시로 설...</td>\n",
       "      <td>{\"class_name\":\"Backend\"}</td>\n",
       "      <td>Backend</td>\n",
       "    </tr>\n",
       "    <tr>\n",
       "      <th>1</th>\n",
       "      <td>FSD 간단하게 시작해보기</td>\n",
       "      <td>공식홈피를 기반 했지만 제 입맛에 따라 해석 했음을 알려드립니다.\\n\\n프롤로그\\n...</td>\n",
       "      <td>{\"class_name\":\"Backend\"}</td>\n",
       "      <td>Backend</td>\n",
       "    </tr>\n",
       "    <tr>\n",
       "      <th>2</th>\n",
       "      <td>[면접을 위한 CS 전공지식 노트] 2.3 네트워크 기기</td>\n",
       "      <td>면접을 위한 CS 전공지식 노트 - 2.3 네트워크 기기</td>\n",
       "      <td>{\"class_name\":\"CS\"}</td>\n",
       "      <td>CS</td>\n",
       "    </tr>\n",
       "    <tr>\n",
       "      <th>3</th>\n",
       "      <td>🎓 Reinforcement learning - 1</td>\n",
       "      <td>🎓 강화학습(Reinforcement Learning, RL)이란?\\n&gt;강화학습(R...</td>\n",
       "      <td>{\"class_name\":\"AI\"}</td>\n",
       "      <td>AI</td>\n",
       "    </tr>\n",
       "    <tr>\n",
       "      <th>4</th>\n",
       "      <td>TIL-2</td>\n",
       "      <td>논리적으로 제품을 만들 수 있도록 도와주는 프레임워크 중 하나.사용자에 대한 이해를...</td>\n",
       "      <td>{\"class_name\":\"DevOps\"}</td>\n",
       "      <td>DevOps</td>\n",
       "    </tr>\n",
       "  </tbody>\n",
       "</table>\n",
       "</div>"
      ]
     },
     "execution_count": 10,
     "metadata": {},
     "output_type": "execute_result"
    }
   ],
   "execution_count": 10
  },
  {
   "metadata": {
    "ExecuteTime": {
     "end_time": "2025-01-29T06:28:18.462876Z",
     "start_time": "2025-01-29T06:28:18.455259Z"
    }
   },
   "cell_type": "code",
   "source": [
    "# ground truth와 concat 후 agent 성능을 평가합니다.\n",
    "gt_df = pd.read_csv(os.path.join(data_dir, 'agent', 'annotate_data.csv'))"
   ],
   "id": "bf882580d75dd73",
   "outputs": [],
   "execution_count": 5
  },
  {
   "metadata": {
    "ExecuteTime": {
     "end_time": "2025-01-29T06:28:20.287147Z",
     "start_time": "2025-01-29T06:28:20.277214Z"
    }
   },
   "cell_type": "code",
   "source": "gt_df.head()",
   "id": "59db0384d39870a0",
   "outputs": [
    {
     "data": {
      "text/plain": [
       "   annotation_id  annotator                   created_at  id  lead_time  \\\n",
       "0            101          1  2025-01-29T05:54:36.686534Z   1     10.400   \n",
       "1            102          1  2025-01-29T05:54:43.279755Z   2      6.479   \n",
       "2            103          1  2025-01-29T05:54:45.477998Z   3      2.074   \n",
       "3            104          1  2025-01-29T05:54:47.032793Z   4      1.430   \n",
       "4            105          1  2025-01-29T05:54:51.911492Z   5      4.753   \n",
       "\n",
       "     sector                                  short_description  \\\n",
       "0   Backend  Q1. URL의 구성 요소 중 쿼리가 무엇인지 실제 웹 서비스의 URL을 예시로 설...   \n",
       "1  Frontend  공식홈피를 기반 했지만 제 입맛에 따라 해석 했음을 알려드립니다.\\n\\n프롤로그\\n...   \n",
       "2        CS                    면접을 위한 CS 전공지식 노트 - 2.3 네트워크 기기   \n",
       "3        AI  🎓 강화학습(Reinforcement Learning, RL)이란?\\n>강화학습(R...   \n",
       "4       etc  논리적으로 제품을 만들 수 있도록 도와주는 프레임워크 중 하나.사용자에 대한 이해를...   \n",
       "\n",
       "                                     title                   updated_at  \n",
       "0  [코드잇 스프린트 Node.js 백엔드 1기] 위클리 페이퍼 - 1주차  2025-01-29T05:54:36.686553Z  \n",
       "1                           FSD 간단하게 시작해보기  2025-01-29T05:54:43.279774Z  \n",
       "2          [면접을 위한 CS 전공지식 노트] 2.3 네트워크 기기  2025-01-29T05:54:45.478017Z  \n",
       "3             🎓 Reinforcement learning - 1  2025-01-29T05:54:47.032811Z  \n",
       "4                                    TIL-2  2025-01-29T05:54:51.911510Z  "
      ],
      "text/html": [
       "<div>\n",
       "<style scoped>\n",
       "    .dataframe tbody tr th:only-of-type {\n",
       "        vertical-align: middle;\n",
       "    }\n",
       "\n",
       "    .dataframe tbody tr th {\n",
       "        vertical-align: top;\n",
       "    }\n",
       "\n",
       "    .dataframe thead th {\n",
       "        text-align: right;\n",
       "    }\n",
       "</style>\n",
       "<table border=\"1\" class=\"dataframe\">\n",
       "  <thead>\n",
       "    <tr style=\"text-align: right;\">\n",
       "      <th></th>\n",
       "      <th>annotation_id</th>\n",
       "      <th>annotator</th>\n",
       "      <th>created_at</th>\n",
       "      <th>id</th>\n",
       "      <th>lead_time</th>\n",
       "      <th>sector</th>\n",
       "      <th>short_description</th>\n",
       "      <th>title</th>\n",
       "      <th>updated_at</th>\n",
       "    </tr>\n",
       "  </thead>\n",
       "  <tbody>\n",
       "    <tr>\n",
       "      <th>0</th>\n",
       "      <td>101</td>\n",
       "      <td>1</td>\n",
       "      <td>2025-01-29T05:54:36.686534Z</td>\n",
       "      <td>1</td>\n",
       "      <td>10.400</td>\n",
       "      <td>Backend</td>\n",
       "      <td>Q1. URL의 구성 요소 중 쿼리가 무엇인지 실제 웹 서비스의 URL을 예시로 설...</td>\n",
       "      <td>[코드잇 스프린트 Node.js 백엔드 1기] 위클리 페이퍼 - 1주차</td>\n",
       "      <td>2025-01-29T05:54:36.686553Z</td>\n",
       "    </tr>\n",
       "    <tr>\n",
       "      <th>1</th>\n",
       "      <td>102</td>\n",
       "      <td>1</td>\n",
       "      <td>2025-01-29T05:54:43.279755Z</td>\n",
       "      <td>2</td>\n",
       "      <td>6.479</td>\n",
       "      <td>Frontend</td>\n",
       "      <td>공식홈피를 기반 했지만 제 입맛에 따라 해석 했음을 알려드립니다.\\n\\n프롤로그\\n...</td>\n",
       "      <td>FSD 간단하게 시작해보기</td>\n",
       "      <td>2025-01-29T05:54:43.279774Z</td>\n",
       "    </tr>\n",
       "    <tr>\n",
       "      <th>2</th>\n",
       "      <td>103</td>\n",
       "      <td>1</td>\n",
       "      <td>2025-01-29T05:54:45.477998Z</td>\n",
       "      <td>3</td>\n",
       "      <td>2.074</td>\n",
       "      <td>CS</td>\n",
       "      <td>면접을 위한 CS 전공지식 노트 - 2.3 네트워크 기기</td>\n",
       "      <td>[면접을 위한 CS 전공지식 노트] 2.3 네트워크 기기</td>\n",
       "      <td>2025-01-29T05:54:45.478017Z</td>\n",
       "    </tr>\n",
       "    <tr>\n",
       "      <th>3</th>\n",
       "      <td>104</td>\n",
       "      <td>1</td>\n",
       "      <td>2025-01-29T05:54:47.032793Z</td>\n",
       "      <td>4</td>\n",
       "      <td>1.430</td>\n",
       "      <td>AI</td>\n",
       "      <td>🎓 강화학습(Reinforcement Learning, RL)이란?\\n&gt;강화학습(R...</td>\n",
       "      <td>🎓 Reinforcement learning - 1</td>\n",
       "      <td>2025-01-29T05:54:47.032811Z</td>\n",
       "    </tr>\n",
       "    <tr>\n",
       "      <th>4</th>\n",
       "      <td>105</td>\n",
       "      <td>1</td>\n",
       "      <td>2025-01-29T05:54:51.911492Z</td>\n",
       "      <td>5</td>\n",
       "      <td>4.753</td>\n",
       "      <td>etc</td>\n",
       "      <td>논리적으로 제품을 만들 수 있도록 도와주는 프레임워크 중 하나.사용자에 대한 이해를...</td>\n",
       "      <td>TIL-2</td>\n",
       "      <td>2025-01-29T05:54:51.911510Z</td>\n",
       "    </tr>\n",
       "  </tbody>\n",
       "</table>\n",
       "</div>"
      ]
     },
     "execution_count": 6,
     "metadata": {},
     "output_type": "execute_result"
    }
   ],
   "execution_count": 6
  },
  {
   "metadata": {
    "ExecuteTime": {
     "end_time": "2025-01-29T06:28:39.369542Z",
     "start_time": "2025-01-29T06:28:39.365691Z"
    }
   },
   "cell_type": "code",
   "source": "gt_df.sector.unique()",
   "id": "6eeb42c26583a639",
   "outputs": [
    {
     "data": {
      "text/plain": [
       "array(['Backend', 'Frontend', 'CS', 'AI', 'etc', 'DevOps'], dtype=object)"
      ]
     },
     "execution_count": 7,
     "metadata": {},
     "output_type": "execute_result"
    }
   ],
   "execution_count": 7
  },
  {
   "metadata": {
    "ExecuteTime": {
     "end_time": "2025-01-29T06:29:47.539685Z",
     "start_time": "2025-01-29T06:29:47.536483Z"
    }
   },
   "cell_type": "code",
   "source": "result_df.sector.unique()",
   "id": "b21c386e35f64972",
   "outputs": [
    {
     "data": {
      "text/plain": [
       "array(['Backend', 'CS', 'AI', 'DevOps', 'etc', 'Frontend'], dtype=object)"
      ]
     },
     "execution_count": 11,
     "metadata": {},
     "output_type": "execute_result"
    }
   ],
   "execution_count": 11
  },
  {
   "metadata": {
    "ExecuteTime": {
     "end_time": "2025-01-29T06:30:20.913404Z",
     "start_time": "2025-01-29T06:30:20.908827Z"
    }
   },
   "cell_type": "code",
   "source": "set(gt_df.sector.unique()) == set(result_df.sector.unique())",
   "id": "e4f89cd838fdd485",
   "outputs": [
    {
     "data": {
      "text/plain": [
       "True"
      ]
     },
     "execution_count": 14,
     "metadata": {},
     "output_type": "execute_result"
    }
   ],
   "execution_count": 14
  },
  {
   "metadata": {
    "ExecuteTime": {
     "end_time": "2025-01-29T06:31:02.554270Z",
     "start_time": "2025-01-29T06:31:02.550821Z"
    }
   },
   "cell_type": "code",
   "source": [
    "concat_df = pd.DataFrame({\n",
    "\t'gt': gt_df.sector,\n",
    "\t'pred': result_df.sector,\n",
    "})"
   ],
   "id": "771b9000ffbf975f",
   "outputs": [],
   "execution_count": 15
  },
  {
   "metadata": {
    "ExecuteTime": {
     "end_time": "2025-01-29T06:31:04.843194Z",
     "start_time": "2025-01-29T06:31:04.839041Z"
    }
   },
   "cell_type": "code",
   "source": "concat_df.head()",
   "id": "41a5b2323ebd5edf",
   "outputs": [
    {
     "data": {
      "text/plain": [
       "         gt     pred\n",
       "0   Backend  Backend\n",
       "1  Frontend  Backend\n",
       "2        CS       CS\n",
       "3        AI       AI\n",
       "4       etc   DevOps"
      ],
      "text/html": [
       "<div>\n",
       "<style scoped>\n",
       "    .dataframe tbody tr th:only-of-type {\n",
       "        vertical-align: middle;\n",
       "    }\n",
       "\n",
       "    .dataframe tbody tr th {\n",
       "        vertical-align: top;\n",
       "    }\n",
       "\n",
       "    .dataframe thead th {\n",
       "        text-align: right;\n",
       "    }\n",
       "</style>\n",
       "<table border=\"1\" class=\"dataframe\">\n",
       "  <thead>\n",
       "    <tr style=\"text-align: right;\">\n",
       "      <th></th>\n",
       "      <th>gt</th>\n",
       "      <th>pred</th>\n",
       "    </tr>\n",
       "  </thead>\n",
       "  <tbody>\n",
       "    <tr>\n",
       "      <th>0</th>\n",
       "      <td>Backend</td>\n",
       "      <td>Backend</td>\n",
       "    </tr>\n",
       "    <tr>\n",
       "      <th>1</th>\n",
       "      <td>Frontend</td>\n",
       "      <td>Backend</td>\n",
       "    </tr>\n",
       "    <tr>\n",
       "      <th>2</th>\n",
       "      <td>CS</td>\n",
       "      <td>CS</td>\n",
       "    </tr>\n",
       "    <tr>\n",
       "      <th>3</th>\n",
       "      <td>AI</td>\n",
       "      <td>AI</td>\n",
       "    </tr>\n",
       "    <tr>\n",
       "      <th>4</th>\n",
       "      <td>etc</td>\n",
       "      <td>DevOps</td>\n",
       "    </tr>\n",
       "  </tbody>\n",
       "</table>\n",
       "</div>"
      ]
     },
     "execution_count": 16,
     "metadata": {},
     "output_type": "execute_result"
    }
   ],
   "execution_count": 16
  },
  {
   "metadata": {},
   "cell_type": "markdown",
   "source": "## Accuracy, Precision, Recall, F1 Score 계산",
   "id": "8ad93d0dd5efd7c"
  },
  {
   "metadata": {
    "ExecuteTime": {
     "end_time": "2025-01-29T06:32:12.791510Z",
     "start_time": "2025-01-29T06:32:12.779335Z"
    }
   },
   "cell_type": "code",
   "source": [
    "from sklearn.metrics import accuracy_score, precision_score, recall_score, f1_score\n",
    "\n",
    "accuracy = accuracy_score(concat_df['gt'], concat_df['pred'])\n",
    "precision = precision_score(concat_df['gt'], concat_df['pred'], average='macro')\n",
    "recall = recall_score(concat_df['gt'], concat_df['pred'], average='macro')\n",
    "f1 = f1_score(concat_df['gt'], concat_df['pred'], average='macro')"
   ],
   "id": "686a47794808e8d8",
   "outputs": [],
   "execution_count": 18
  },
  {
   "metadata": {
    "ExecuteTime": {
     "end_time": "2025-01-29T06:32:20.615950Z",
     "start_time": "2025-01-29T06:32:20.612262Z"
    }
   },
   "cell_type": "code",
   "source": [
    "print('Accuracy:', accuracy)\n",
    "print('Precision:', precision)\n",
    "print('Recall:', recall)\n",
    "print('F1 Score:', f1)"
   ],
   "id": "4bd898a37955701",
   "outputs": [
    {
     "name": "stdout",
     "output_type": "stream",
     "text": [
      "Accuracy: 0.68\n",
      "Precision: 0.6621371460081137\n",
      "Recall: 0.7111476758535581\n",
      "F1 Score: 0.606504659539374\n"
     ]
    }
   ],
   "execution_count": 19
  },
  {
   "metadata": {},
   "cell_type": "markdown",
   "source": "### AI Sector에 대한 분류 성능 평가",
   "id": "9fff4be388054c9a"
  },
  {
   "metadata": {
    "ExecuteTime": {
     "end_time": "2025-01-29T06:33:31.577742Z",
     "start_time": "2025-01-29T06:33:31.574513Z"
    }
   },
   "cell_type": "code",
   "source": [
    "# AI Sector에 대한 분류 성능을 평가합니다.\n",
    "ai_df = concat_df[concat_df['gt'] == 'AI']"
   ],
   "id": "b6414501039b22f6",
   "outputs": [],
   "execution_count": 20
  },
  {
   "metadata": {
    "ExecuteTime": {
     "end_time": "2025-01-29T06:34:35.697790Z",
     "start_time": "2025-01-29T06:34:35.685152Z"
    }
   },
   "cell_type": "code",
   "source": [
    "accuracy = accuracy_score(ai_df['gt'], ai_df['pred'])\n",
    "precision = precision_score(ai_df['gt'], ai_df['pred'], average='macro')\n",
    "recall = recall_score(ai_df['gt'], ai_df['pred'], average='macro')\n",
    "f1 = f1_score(ai_df['gt'], ai_df['pred'], average='macro')\n",
    "\n",
    "print('Accuracy:', accuracy)\n",
    "print('Precision:', precision)\n",
    "print('Recall:', recall)\n",
    "print('F1 Score:', f1)"
   ],
   "id": "7767323ce2f6a60e",
   "outputs": [
    {
     "name": "stdout",
     "output_type": "stream",
     "text": [
      "Accuracy: 1.0\n",
      "Precision: 1.0\n",
      "Recall: 1.0\n",
      "F1 Score: 1.0\n"
     ]
    }
   ],
   "execution_count": 24
  },
  {
   "metadata": {},
   "cell_type": "code",
   "outputs": [],
   "execution_count": null,
   "source": "",
   "id": "370264bf2595551e"
  }
 ],
 "metadata": {
  "kernelspec": {
   "display_name": "Python 3",
   "language": "python",
   "name": "python3"
  },
  "language_info": {
   "codemirror_mode": {
    "name": "ipython",
    "version": 2
   },
   "file_extension": ".py",
   "mimetype": "text/x-python",
   "name": "python",
   "nbconvert_exporter": "python",
   "pygments_lexer": "ipython2",
   "version": "2.7.6"
  }
 },
 "nbformat": 4,
 "nbformat_minor": 5
}
