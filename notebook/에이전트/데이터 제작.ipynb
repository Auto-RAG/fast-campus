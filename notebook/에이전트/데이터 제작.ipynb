{
 "cells": [
  {
   "metadata": {},
   "cell_type": "markdown",
   "source": [
    "# 데이터 제작\n",
    "\n",
    "내가 관심 있는 블로그 주제를 선별한 후 요약하고 전달해주는 에이전트를 만들고 싶다면? \n",
    "에이전트 평가 및 최적화를 위한 실습 데이터를 제작해보자.\n"
   ],
   "id": "8b607d3d3e1c32de"
  },
  {
   "cell_type": "code",
   "id": "initial_id",
   "metadata": {
    "collapsed": true,
    "ExecuteTime": {
     "end_time": "2025-01-29T04:51:24.288879Z",
     "start_time": "2025-01-29T04:51:22.200606Z"
    }
   },
   "source": "%pip install 'gql[requests]'",
   "outputs": [
    {
     "name": "stdout",
     "output_type": "stream",
     "text": [
      "Collecting gql[requests]\r\n",
      "  Downloading gql-3.5.0-py2.py3-none-any.whl.metadata (9.2 kB)\r\n",
      "Collecting graphql-core<3.3,>=3.2 (from gql[requests])\r\n",
      "  Downloading graphql_core-3.2.6-py3-none-any.whl.metadata (11 kB)\r\n",
      "Requirement already satisfied: yarl<2.0,>=1.6 in /Users/jeffrey/PycharmProjects/fast-campus/venv/lib/python3.10/site-packages (from gql[requests]) (1.18.3)\r\n",
      "Requirement already satisfied: backoff<3.0,>=1.11.1 in /Users/jeffrey/PycharmProjects/fast-campus/venv/lib/python3.10/site-packages (from gql[requests]) (2.2.1)\r\n",
      "Requirement already satisfied: anyio<5,>=3.0 in /Users/jeffrey/PycharmProjects/fast-campus/venv/lib/python3.10/site-packages (from gql[requests]) (4.8.0)\r\n",
      "Requirement already satisfied: requests<3,>=2.26 in /Users/jeffrey/PycharmProjects/fast-campus/venv/lib/python3.10/site-packages (from gql[requests]) (2.32.3)\r\n",
      "Requirement already satisfied: requests-toolbelt<2,>=1.0.0 in /Users/jeffrey/PycharmProjects/fast-campus/venv/lib/python3.10/site-packages (from gql[requests]) (1.0.0)\r\n",
      "Requirement already satisfied: exceptiongroup>=1.0.2 in /Users/jeffrey/PycharmProjects/fast-campus/venv/lib/python3.10/site-packages (from anyio<5,>=3.0->gql[requests]) (1.2.2)\r\n",
      "Requirement already satisfied: idna>=2.8 in /Users/jeffrey/PycharmProjects/fast-campus/venv/lib/python3.10/site-packages (from anyio<5,>=3.0->gql[requests]) (3.10)\r\n",
      "Requirement already satisfied: sniffio>=1.1 in /Users/jeffrey/PycharmProjects/fast-campus/venv/lib/python3.10/site-packages (from anyio<5,>=3.0->gql[requests]) (1.3.1)\r\n",
      "Requirement already satisfied: typing_extensions>=4.5 in /Users/jeffrey/PycharmProjects/fast-campus/venv/lib/python3.10/site-packages (from anyio<5,>=3.0->gql[requests]) (4.12.2)\r\n",
      "Requirement already satisfied: charset-normalizer<4,>=2 in /Users/jeffrey/PycharmProjects/fast-campus/venv/lib/python3.10/site-packages (from requests<3,>=2.26->gql[requests]) (3.4.1)\r\n",
      "Requirement already satisfied: urllib3<3,>=1.21.1 in /Users/jeffrey/PycharmProjects/fast-campus/venv/lib/python3.10/site-packages (from requests<3,>=2.26->gql[requests]) (2.3.0)\r\n",
      "Requirement already satisfied: certifi>=2017.4.17 in /Users/jeffrey/PycharmProjects/fast-campus/venv/lib/python3.10/site-packages (from requests<3,>=2.26->gql[requests]) (2024.12.14)\r\n",
      "Requirement already satisfied: multidict>=4.0 in /Users/jeffrey/PycharmProjects/fast-campus/venv/lib/python3.10/site-packages (from yarl<2.0,>=1.6->gql[requests]) (6.1.0)\r\n",
      "Requirement already satisfied: propcache>=0.2.0 in /Users/jeffrey/PycharmProjects/fast-campus/venv/lib/python3.10/site-packages (from yarl<2.0,>=1.6->gql[requests]) (0.2.1)\r\n",
      "Downloading graphql_core-3.2.6-py3-none-any.whl (203 kB)\r\n",
      "Downloading gql-3.5.0-py2.py3-none-any.whl (74 kB)\r\n",
      "Installing collected packages: graphql-core, gql\r\n",
      "Successfully installed gql-3.5.0 graphql-core-3.2.6\r\n",
      "\r\n",
      "\u001B[1m[\u001B[0m\u001B[34;49mnotice\u001B[0m\u001B[1;39;49m]\u001B[0m\u001B[39;49m A new release of pip is available: \u001B[0m\u001B[31;49m24.2\u001B[0m\u001B[39;49m -> \u001B[0m\u001B[32;49m24.3.1\u001B[0m\r\n",
      "\u001B[1m[\u001B[0m\u001B[34;49mnotice\u001B[0m\u001B[1;39;49m]\u001B[0m\u001B[39;49m To update, run: \u001B[0m\u001B[32;49mpip install --upgrade pip\u001B[0m\r\n",
      "Note: you may need to restart the kernel to use updated packages.\n"
     ]
    }
   ],
   "execution_count": 1
  },
  {
   "metadata": {},
   "cell_type": "markdown",
   "source": [
    "## Velog 블로그 제목 크롤링\n",
    "\n",
    "개발 관련 블로그 플랫폼 Velog에서 블로그 제목을 크롤링한다."
   ],
   "id": "fb0cd71796561fef"
  },
  {
   "metadata": {
    "ExecuteTime": {
     "end_time": "2025-01-29T04:52:47.886743Z",
     "start_time": "2025-01-29T04:52:47.770832Z"
    }
   },
   "cell_type": "code",
   "source": [
    "from gql import gql, Client\n",
    "from gql.transport.requests import RequestsHTTPTransport\n",
    "\n",
    "transport = RequestsHTTPTransport(\n",
    "    url='https://v3.velog.io/graphql',\n",
    "    headers={\n",
    "\t\t\"Origin\": \"https://velog.io\",\n",
    "\t},\n",
    "    use_json=True,\n",
    ")"
   ],
   "id": "ea445c3938335291",
   "outputs": [],
   "execution_count": 2
  },
  {
   "metadata": {
    "ExecuteTime": {
     "end_time": "2025-01-29T04:52:56.520707Z",
     "start_time": "2025-01-29T04:52:56.518167Z"
    }
   },
   "cell_type": "code",
   "source": "client = Client(transport=transport, fetch_schema_from_transport=True)",
   "id": "9ff9eb182eef7f40",
   "outputs": [],
   "execution_count": 3
  },
  {
   "metadata": {
    "ExecuteTime": {
     "end_time": "2025-01-29T05:04:57.481789Z",
     "start_time": "2025-01-29T05:04:57.478743Z"
    }
   },
   "cell_type": "code",
   "source": [
    "query = gql('''\n",
    "query trendingPosts($input: TrendingPostsInput!) {\n",
    "  trendingPosts(input: $input) {\n",
    "    title\n",
    "    short_description\n",
    "  }\n",
    "}\n",
    "''')"
   ],
   "id": "ca6a79f72c496aae",
   "outputs": [],
   "execution_count": 12
  },
  {
   "metadata": {
    "ExecuteTime": {
     "end_time": "2025-01-29T05:04:59.408094Z",
     "start_time": "2025-01-29T05:04:57.921918Z"
    }
   },
   "cell_type": "code",
   "source": "result = client.execute(query, variable_values={\"input\": {\"limit\": 100, \"offset\": 100, \"timeframe\": \"week\"}})",
   "id": "af73f7c01ac13250",
   "outputs": [],
   "execution_count": 13
  },
  {
   "metadata": {
    "ExecuteTime": {
     "end_time": "2025-01-29T05:04:59.423679Z",
     "start_time": "2025-01-29T05:04:59.419163Z"
    }
   },
   "cell_type": "code",
   "source": "len(result['trendingPosts'])",
   "id": "e0f3f913aca9720e",
   "outputs": [
    {
     "data": {
      "text/plain": [
       "100"
      ]
     },
     "execution_count": 14,
     "metadata": {},
     "output_type": "execute_result"
    }
   ],
   "execution_count": 14
  },
  {
   "metadata": {
    "ExecuteTime": {
     "end_time": "2025-01-29T05:05:40.474534Z",
     "start_time": "2025-01-29T05:05:40.468768Z"
    }
   },
   "cell_type": "code",
   "source": "result['trendingPosts'][0]",
   "id": "319683495504b7f9",
   "outputs": [
    {
     "data": {
      "text/plain": [
       "{'title': '[코드잇 스프린트 Node.js 백엔드 1기] 위클리 페이퍼 - 1주차',\n",
       " 'short_description': 'Q1. URL의 구성 요소 중 쿼리가 무엇인지 실제 웹 서비스의 URL을 예시로 설명해 주세요.\\n\\n1. URL의 구성요소\\n\\n 먼저 네트워크상에서 자원(Resource)을 주고받으려면 자원을 식별할 수 있\\n어야 합니다. 자원을 식별할 수 있는 정보를 URI(Unifor '}"
      ]
     },
     "execution_count": 15,
     "metadata": {},
     "output_type": "execute_result"
    }
   ],
   "execution_count": 15
  },
  {
   "metadata": {},
   "cell_type": "markdown",
   "source": [
    "Title과 Short Description을 보고 AI에 관련한 블로그 글인지 판별하는 에이전트를 만들어 봅시다.\n",
    "이를 위해 csv 파일로 저장합니다. "
   ],
   "id": "8133239acbb75019"
  },
  {
   "metadata": {
    "ExecuteTime": {
     "end_time": "2025-01-29T05:08:07.748892Z",
     "start_time": "2025-01-29T05:08:05.766310Z"
    }
   },
   "cell_type": "code",
   "source": [
    "titles = []\n",
    "short_descriptions = []\n",
    "\n",
    "for post in result['trendingPosts']:\n",
    "    titles.append(post['title'])\n",
    "    short_descriptions.append(post['short_description'])\n",
    "\t\n",
    "import pandas as pd\n",
    "df = pd.DataFrame({'title': titles, 'short_description': short_descriptions})"
   ],
   "id": "5f19a54379f32107",
   "outputs": [],
   "execution_count": 16
  },
  {
   "metadata": {
    "ExecuteTime": {
     "end_time": "2025-01-29T05:08:10.616800Z",
     "start_time": "2025-01-29T05:08:10.610868Z"
    }
   },
   "cell_type": "code",
   "source": "df.head()",
   "id": "5c85d4829c79368e",
   "outputs": [
    {
     "data": {
      "text/plain": [
       "                                     title  \\\n",
       "0  [코드잇 스프린트 Node.js 백엔드 1기] 위클리 페이퍼 - 1주차   \n",
       "1                           FSD 간단하게 시작해보기   \n",
       "2          [면접을 위한 CS 전공지식 노트] 2.3 네트워크 기기   \n",
       "3             🎓 Reinforcement learning - 1   \n",
       "4                                    TIL-2   \n",
       "\n",
       "                                   short_description  \n",
       "0  Q1. URL의 구성 요소 중 쿼리가 무엇인지 실제 웹 서비스의 URL을 예시로 설...  \n",
       "1  공식홈피를 기반 했지만 제 입맛에 따라 해석 했음을 알려드립니다.\\n\\n프롤로그\\n...  \n",
       "2                    면접을 위한 CS 전공지식 노트 - 2.3 네트워크 기기  \n",
       "3  🎓 강화학습(Reinforcement Learning, RL)이란?\\n>강화학습(R...  \n",
       "4  논리적으로 제품을 만들 수 있도록 도와주는 프레임워크 중 하나.사용자에 대한 이해를...  "
      ],
      "text/html": [
       "<div>\n",
       "<style scoped>\n",
       "    .dataframe tbody tr th:only-of-type {\n",
       "        vertical-align: middle;\n",
       "    }\n",
       "\n",
       "    .dataframe tbody tr th {\n",
       "        vertical-align: top;\n",
       "    }\n",
       "\n",
       "    .dataframe thead th {\n",
       "        text-align: right;\n",
       "    }\n",
       "</style>\n",
       "<table border=\"1\" class=\"dataframe\">\n",
       "  <thead>\n",
       "    <tr style=\"text-align: right;\">\n",
       "      <th></th>\n",
       "      <th>title</th>\n",
       "      <th>short_description</th>\n",
       "    </tr>\n",
       "  </thead>\n",
       "  <tbody>\n",
       "    <tr>\n",
       "      <th>0</th>\n",
       "      <td>[코드잇 스프린트 Node.js 백엔드 1기] 위클리 페이퍼 - 1주차</td>\n",
       "      <td>Q1. URL의 구성 요소 중 쿼리가 무엇인지 실제 웹 서비스의 URL을 예시로 설...</td>\n",
       "    </tr>\n",
       "    <tr>\n",
       "      <th>1</th>\n",
       "      <td>FSD 간단하게 시작해보기</td>\n",
       "      <td>공식홈피를 기반 했지만 제 입맛에 따라 해석 했음을 알려드립니다.\\n\\n프롤로그\\n...</td>\n",
       "    </tr>\n",
       "    <tr>\n",
       "      <th>2</th>\n",
       "      <td>[면접을 위한 CS 전공지식 노트] 2.3 네트워크 기기</td>\n",
       "      <td>면접을 위한 CS 전공지식 노트 - 2.3 네트워크 기기</td>\n",
       "    </tr>\n",
       "    <tr>\n",
       "      <th>3</th>\n",
       "      <td>🎓 Reinforcement learning - 1</td>\n",
       "      <td>🎓 강화학습(Reinforcement Learning, RL)이란?\\n&gt;강화학습(R...</td>\n",
       "    </tr>\n",
       "    <tr>\n",
       "      <th>4</th>\n",
       "      <td>TIL-2</td>\n",
       "      <td>논리적으로 제품을 만들 수 있도록 도와주는 프레임워크 중 하나.사용자에 대한 이해를...</td>\n",
       "    </tr>\n",
       "  </tbody>\n",
       "</table>\n",
       "</div>"
      ]
     },
     "execution_count": 17,
     "metadata": {},
     "output_type": "execute_result"
    }
   ],
   "execution_count": 17
  },
  {
   "metadata": {
    "ExecuteTime": {
     "end_time": "2025-01-29T05:09:39.825139Z",
     "start_time": "2025-01-29T05:09:39.821154Z"
    }
   },
   "cell_type": "code",
   "source": [
    "import os\n",
    "import pathlib\n",
    "\n",
    "root_dir = pathlib.PurePath(os.path.dirname(os.getcwd())).parent\n",
    "data_dir = os.path.join(root_dir, 'data')"
   ],
   "id": "b08efb8561f54ef5",
   "outputs": [],
   "execution_count": 18
  },
  {
   "metadata": {
    "ExecuteTime": {
     "end_time": "2025-01-29T05:10:08.842969Z",
     "start_time": "2025-01-29T05:10:08.837085Z"
    }
   },
   "cell_type": "code",
   "source": "df.to_csv(os.path.join(data_dir, 'agent', 'original_data.csv'), index=False)",
   "id": "2a4093b09622bb9a",
   "outputs": [],
   "execution_count": 19
  },
  {
   "metadata": {},
   "cell_type": "markdown",
   "source": [
    "## 데이터 라벨링\n",
    "\n",
    "어떻게 \"AI 관련 포스트\"인지 아닌지 평가할 수 있을까요?\n",
    "배웠던 내용을 조금만 떠올려보면 쉽게 알 수 있습니다.\n",
    "\n",
    "이제 평가를 위해 라벨링을 진행합니다.\n",
    "\n",
    "[Label Studio](https://labelstud.io/guide/install.html)를 활용합시다."
   ],
   "id": "249111ae447d807e"
  },
  {
   "metadata": {},
   "cell_type": "code",
   "source": "%pip install label-studio",
   "id": "683ff931f24cf9a2",
   "outputs": [],
   "execution_count": null
  },
  {
   "metadata": {},
   "cell_type": "code",
   "source": "!label-studio",
   "id": "75a6aa376947c7d8",
   "outputs": [],
   "execution_count": null
  },
  {
   "metadata": {
    "ExecuteTime": {
     "end_time": "2025-01-29T06:00:25.642904Z",
     "start_time": "2025-01-29T06:00:25.637640Z"
    }
   },
   "cell_type": "code",
   "source": [
    "# Setup for the label studio\n",
    "'''\n",
    "<View>\n",
    "<Header value=\"$title\"></Header>\n",
    "  <Text name=\"text\" value=\"$short_description\"></Text>\n",
    "  <Choices name=\"sector\" toName=\"text\" choice=\"single\" showInLine=\"true\">\n",
    "   <Choice value=\"AI\"/>\n",
    "   <Choice value=\"Frontend\"/>\n",
    "   <Choice value=\"Backend\"/>\n",
    "   <Choice value=\"CS\" />\n",
    "   <Choice value=\"DevOps\" />\n",
    "   <Choice value=\"etc\" />\n",
    "  </Choices>\n",
    "</View>\n",
    "'''"
   ],
   "id": "bbfe24a655afbc9a",
   "outputs": [
    {
     "data": {
      "text/plain": [
       "'\\n<View>\\n<Labels name=\"lbl\" toName=\"title\">\\n    <Label value=\"AI\"/>\\n    <Label value=\"Front-end\"/>\\n  \\t<Label value=\"Back-end\"/>\\n    <Label value=\"etc\"/>\\n  </Labels>\\n  <Text name=\"title\" value=\"$title\"/>\\n  <Text name=\"description\" value=\"$short_description\"/>\\n</View>\\n'"
      ]
     },
     "execution_count": 23,
     "metadata": {},
     "output_type": "execute_result"
    }
   ],
   "execution_count": 23
  }
 ],
 "metadata": {
  "kernelspec": {
   "display_name": "Python 3",
   "language": "python",
   "name": "python3"
  },
  "language_info": {
   "codemirror_mode": {
    "name": "ipython",
    "version": 2
   },
   "file_extension": ".py",
   "mimetype": "text/x-python",
   "name": "python",
   "nbconvert_exporter": "python",
   "pygments_lexer": "ipython2",
   "version": "2.7.6"
  }
 },
 "nbformat": 4,
 "nbformat_minor": 5
}
